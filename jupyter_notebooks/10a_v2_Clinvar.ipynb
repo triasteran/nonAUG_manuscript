{
 "cells": [
  {
   "cell_type": "code",
   "execution_count": 22,
   "metadata": {},
   "outputs": [],
   "source": [
    "%matplotlib inline\n",
    "\n",
    "import numpy as np\n",
    "import collections\n",
    "from collections import OrderedDict, Counter, defaultdict\n",
    "import pandas as pd\n",
    "\n",
    "import Bio\n",
    "from Bio import SeqIO\n",
    "from Bio.Seq import Seq\n",
    "from Bio.SeqUtils import molecular_weight\n",
    "from Bio.Alphabet import generic_dna, generic_rna, generic_protein\n",
    "\n",
    "import seaborn as sns\n",
    "import matplotlib.pyplot as plt\n",
    "\n",
    "import glob\n",
    "\n",
    "import subprocess\n",
    "from subprocess import call\n",
    "\n",
    "import re\n",
    "\n",
    "import pickle\n",
    "\n",
    "import sys                                                                         \n",
    "from gffutils.iterators import DataIterator  \n",
    "from gtfparse import read_gtf"
   ]
  },
  {
   "cell_type": "code",
   "execution_count": 23,
   "metadata": {},
   "outputs": [],
   "source": [
    "# gencode 25 metadata \n",
    "metadata_pc_g25 = pd.read_csv('tmp_res/metadata_pc_g25.txt', sep='\\t')\n",
    "\n",
    "# gencode 35 metadata \n",
    "metadata_pc_g35 = pd.read_csv('tmp_res/metadata_pc_g35.txt', sep='\\t')\n",
    "\n",
    "# open metadata with scores and metrics\n",
    "meta = pd.read_csv('tmp_res/local_and_global_df_g25ovlp_g35ovlp_g38ovlp_refseqovlp_strand_FRAMES_PhyloCSF.txt', sep='\\t')"
   ]
  },
  {
   "cell_type": "code",
   "execution_count": 24,
   "metadata": {},
   "outputs": [],
   "source": [
    "PhyloSET = pd.read_csv('tmp_res/SET1.txt', sep='\\t')\n",
    "\n",
    "RiboSET = pd.read_csv('tmp_res/SET2.txt', sep='\\t')"
   ]
  },
  {
   "cell_type": "code",
   "execution_count": 25,
   "metadata": {},
   "outputs": [],
   "source": [
    "PhyloSET[['tr_id', 'gene', 'global_coo_primary', 'strand']].to_csv('../../Isabel_Sesaldo/PhyloSET_genes.txt', sep='\\t', index=False)"
   ]
  },
  {
   "cell_type": "markdown",
   "metadata": {},
   "source": [
    "# RiboSET: start-codon local coordinates, all NTE-coordinates "
   ]
  },
  {
   "cell_type": "code",
   "execution_count": 26,
   "metadata": {},
   "outputs": [],
   "source": [
    "RiboSET['start_codon_local_coo_start'] = [int(x.split(';')[1].split('-')[0]) for x in RiboSET['Riboseq_Summary'].tolist()]\n",
    "\n",
    "RiboSET['start_codon'] = [x.split(';')[0] for x in RiboSET['Riboseq_Summary'].tolist()]"
   ]
  },
  {
   "cell_type": "code",
   "execution_count": 27,
   "metadata": {},
   "outputs": [
    {
     "name": "stderr",
     "output_type": "stream",
     "text": [
      "/home/alla/.local/lib/python3.7/site-packages/ipykernel_launcher.py:3: SettingWithCopyWarning: \n",
      "A value is trying to be set on a copy of a slice from a DataFrame.\n",
      "Try using .loc[row_indexer,col_indexer] = value instead\n",
      "\n",
      "See the caveats in the documentation: https://pandas.pydata.org/pandas-docs/stable/user_guide/indexing.html#returning-a-view-versus-a-copy\n",
      "  This is separate from the ipykernel package so we can avoid doing imports until\n"
     ]
    }
   ],
   "source": [
    "tmp = RiboSET[['tr_id', 'gene', 'start_codon_local_coo_start', 'start_codon', 'N_term_end1']]\n",
    "\n",
    "tmp['start_codon_local_coo_stop'] = tmp['start_codon_local_coo_start'] + 3"
   ]
  },
  {
   "cell_type": "code",
   "execution_count": 28,
   "metadata": {},
   "outputs": [],
   "source": [
    "tmp.to_csv('tmp_res/RiboSET_local_coo_pred_start.txt', sep='\\t', index=False)"
   ]
  },
  {
   "cell_type": "code",
   "execution_count": null,
   "metadata": {},
   "outputs": [],
   "source": []
  },
  {
   "cell_type": "markdown",
   "metadata": {},
   "source": [
    "# Global coo "
   ]
  },
  {
   "cell_type": "code",
   "execution_count": 29,
   "metadata": {},
   "outputs": [],
   "source": [
    "def prepare_global_coo(path_to_file_with_global_coo, colname):\n",
    "    global_coo_g25 = pd.read_csv(path_to_file_with_global_coo, sep='\\t')\n",
    "    global_coo_g25_f = global_coo_g25[global_coo_g25['hit'] == True]\n",
    "    global_coo_g25_f = global_coo_g25_f.sort_values(by=['seqnames', 'start'])\n",
    "    global_coo_g25_f['global_coo'] = global_coo_g25_f['seqnames']+':'+global_coo_g25_f['start'].astype(str) +'-'+global_coo_g25_f['end'].astype(str)\n",
    "    global_coo_g25_f = global_coo_g25_f[['group_name', 'strand', 'global_coo']].groupby(['group_name', 'strand']).agg('+'.join).reset_index()\n",
    "    global_coo_g25_f.columns = ['tr_id', 'strand', colname]\n",
    "    return global_coo_g25_f"
   ]
  },
  {
   "cell_type": "code",
   "execution_count": 30,
   "metadata": {},
   "outputs": [],
   "source": [
    "start_codon_global = prepare_global_coo(path_to_file_with_global_coo='tmp_res/RiboSET_global_coo_pred_start.txt',\n",
    "                                   colname = 'global_coo_start_codon')\n",
    "\n",
    "ext_global = prepare_global_coo(path_to_file_with_global_coo='tmp_res/RiboSET_global_coo_pred_start_ext.txt',\n",
    "                                   colname = 'global_coo_ext')\n"
   ]
  },
  {
   "cell_type": "code",
   "execution_count": 31,
   "metadata": {},
   "outputs": [
    {
     "data": {
      "text/html": [
       "<div>\n",
       "<style scoped>\n",
       "    .dataframe tbody tr th:only-of-type {\n",
       "        vertical-align: middle;\n",
       "    }\n",
       "\n",
       "    .dataframe tbody tr th {\n",
       "        vertical-align: top;\n",
       "    }\n",
       "\n",
       "    .dataframe thead th {\n",
       "        text-align: right;\n",
       "    }\n",
       "</style>\n",
       "<table border=\"1\" class=\"dataframe\">\n",
       "  <thead>\n",
       "    <tr style=\"text-align: right;\">\n",
       "      <th></th>\n",
       "      <th>tr_id</th>\n",
       "      <th>strand</th>\n",
       "      <th>global_coo_start_codon</th>\n",
       "    </tr>\n",
       "  </thead>\n",
       "  <tbody>\n",
       "    <tr>\n",
       "      <th>0</th>\n",
       "      <td>ENST00000014914.5</td>\n",
       "      <td>+</td>\n",
       "      <td>chr12:12891636-12891638</td>\n",
       "    </tr>\n",
       "    <tr>\n",
       "      <th>1</th>\n",
       "      <td>ENST00000054950.3</td>\n",
       "      <td>+</td>\n",
       "      <td>chr11:32091140-32091142</td>\n",
       "    </tr>\n",
       "    <tr>\n",
       "      <th>2</th>\n",
       "      <td>ENST00000166345.7</td>\n",
       "      <td>+</td>\n",
       "      <td>chr5:892927-892929</td>\n",
       "    </tr>\n",
       "    <tr>\n",
       "      <th>3</th>\n",
       "      <td>ENST00000176643.10</td>\n",
       "      <td>+</td>\n",
       "      <td>chr17:19648849-19648851</td>\n",
       "    </tr>\n",
       "    <tr>\n",
       "      <th>4</th>\n",
       "      <td>ENST00000203001.6</td>\n",
       "      <td>-</td>\n",
       "      <td>chr20:5950487-5950489</td>\n",
       "    </tr>\n",
       "  </tbody>\n",
       "</table>\n",
       "</div>"
      ],
      "text/plain": [
       "                tr_id strand   global_coo_start_codon\n",
       "0   ENST00000014914.5      +  chr12:12891636-12891638\n",
       "1   ENST00000054950.3      +  chr11:32091140-32091142\n",
       "2   ENST00000166345.7      +       chr5:892927-892929\n",
       "3  ENST00000176643.10      +  chr17:19648849-19648851\n",
       "4   ENST00000203001.6      -    chr20:5950487-5950489"
      ]
     },
     "execution_count": 31,
     "metadata": {},
     "output_type": "execute_result"
    }
   ],
   "source": [
    "start_codon_global[0:5]"
   ]
  },
  {
   "cell_type": "code",
   "execution_count": 32,
   "metadata": {},
   "outputs": [
    {
     "data": {
      "text/html": [
       "<div>\n",
       "<style scoped>\n",
       "    .dataframe tbody tr th:only-of-type {\n",
       "        vertical-align: middle;\n",
       "    }\n",
       "\n",
       "    .dataframe tbody tr th {\n",
       "        vertical-align: top;\n",
       "    }\n",
       "\n",
       "    .dataframe thead th {\n",
       "        text-align: right;\n",
       "    }\n",
       "</style>\n",
       "<table border=\"1\" class=\"dataframe\">\n",
       "  <thead>\n",
       "    <tr style=\"text-align: right;\">\n",
       "      <th></th>\n",
       "      <th>tr_id</th>\n",
       "      <th>strand</th>\n",
       "      <th>global_coo_ext</th>\n",
       "    </tr>\n",
       "  </thead>\n",
       "  <tbody>\n",
       "    <tr>\n",
       "      <th>0</th>\n",
       "      <td>ENST00000014914.5</td>\n",
       "      <td>+</td>\n",
       "      <td>chr12:12891636-12891664+chr12:12908243-12908249</td>\n",
       "    </tr>\n",
       "    <tr>\n",
       "      <th>1</th>\n",
       "      <td>ENST00000054950.3</td>\n",
       "      <td>+</td>\n",
       "      <td>chr11:32091140-32091196</td>\n",
       "    </tr>\n",
       "    <tr>\n",
       "      <th>2</th>\n",
       "      <td>ENST00000166345.7</td>\n",
       "      <td>+</td>\n",
       "      <td>chr5:892927-892998</td>\n",
       "    </tr>\n",
       "    <tr>\n",
       "      <th>3</th>\n",
       "      <td>ENST00000176643.10</td>\n",
       "      <td>+</td>\n",
       "      <td>chr17:19648849-19648971</td>\n",
       "    </tr>\n",
       "    <tr>\n",
       "      <th>4</th>\n",
       "      <td>ENST00000203001.6</td>\n",
       "      <td>-</td>\n",
       "      <td>chr20:5950406-5950489</td>\n",
       "    </tr>\n",
       "  </tbody>\n",
       "</table>\n",
       "</div>"
      ],
      "text/plain": [
       "                tr_id strand                                   global_coo_ext\n",
       "0   ENST00000014914.5      +  chr12:12891636-12891664+chr12:12908243-12908249\n",
       "1   ENST00000054950.3      +                          chr11:32091140-32091196\n",
       "2   ENST00000166345.7      +                               chr5:892927-892998\n",
       "3  ENST00000176643.10      +                          chr17:19648849-19648971\n",
       "4   ENST00000203001.6      -                            chr20:5950406-5950489"
      ]
     },
     "execution_count": 32,
     "metadata": {},
     "output_type": "execute_result"
    }
   ],
   "source": [
    "ext_global[0:5]"
   ]
  },
  {
   "cell_type": "code",
   "execution_count": 33,
   "metadata": {},
   "outputs": [],
   "source": [
    "RiboSET_coo = RiboSET.merge(ext_global[['tr_id', 'global_coo_ext']].merge(start_codon_global[['tr_id', 'global_coo_start_codon']], on='tr_id', how='inner'), on='tr_id', how='inner')"
   ]
  },
  {
   "cell_type": "markdown",
   "metadata": {},
   "source": [
    "ENST00000379389.4, chr1:1013520-1013523, + "
   ]
  },
  {
   "cell_type": "code",
   "execution_count": 34,
   "metadata": {},
   "outputs": [
    {
     "data": {
      "text/html": [
       "<div>\n",
       "<style scoped>\n",
       "    .dataframe tbody tr th:only-of-type {\n",
       "        vertical-align: middle;\n",
       "    }\n",
       "\n",
       "    .dataframe tbody tr th {\n",
       "        vertical-align: top;\n",
       "    }\n",
       "\n",
       "    .dataframe thead th {\n",
       "        text-align: right;\n",
       "    }\n",
       "</style>\n",
       "<table border=\"1\" class=\"dataframe\">\n",
       "  <thead>\n",
       "    <tr style=\"text-align: right;\">\n",
       "      <th></th>\n",
       "      <th>tr_id</th>\n",
       "      <th>gene</th>\n",
       "      <th>start_codon_local_coo_start</th>\n",
       "      <th>start_codon</th>\n",
       "      <th>N_term_end1</th>\n",
       "      <th>start_codon_local_coo_stop</th>\n",
       "    </tr>\n",
       "  </thead>\n",
       "  <tbody>\n",
       "    <tr>\n",
       "      <th>234</th>\n",
       "      <td>ENST00000014914.5</td>\n",
       "      <td>GPRC5A</td>\n",
       "      <td>855</td>\n",
       "      <td>AAG</td>\n",
       "      <td>890</td>\n",
       "      <td>858</td>\n",
       "    </tr>\n",
       "  </tbody>\n",
       "</table>\n",
       "</div>"
      ],
      "text/plain": [
       "                 tr_id    gene  start_codon_local_coo_start start_codon  \\\n",
       "234  ENST00000014914.5  GPRC5A                          855         AAG   \n",
       "\n",
       "     N_term_end1  start_codon_local_coo_stop  \n",
       "234          890                         858  "
      ]
     },
     "execution_count": 34,
     "metadata": {},
     "output_type": "execute_result"
    }
   ],
   "source": [
    "tmp[tmp['tr_id'] == 'ENST00000014914.5']"
   ]
  },
  {
   "cell_type": "code",
   "execution_count": 35,
   "metadata": {},
   "outputs": [
    {
     "data": {
      "text/plain": [
       "'AAGTTCACGGCCAACGCCTTGGCACTAGGGTCCAGA_ATG'"
      ]
     },
     "execution_count": 35,
     "metadata": {},
     "output_type": "execute_result"
    }
   ],
   "source": [
    "metadata_pc_g25[metadata_pc_g25['tr_id'] == 'ENST00000014914.5'].iloc[0].transcript_seq[854:890]+'_'+metadata_pc_g25[metadata_pc_g25['tr_id'] == 'ENST00000014914.5'].iloc[0].transcript_seq[890:893]"
   ]
  },
  {
   "cell_type": "code",
   "execution_count": 36,
   "metadata": {},
   "outputs": [
    {
     "data": {
      "text/plain": [
       "Index(['tr_id', 'gene', 'N_term_start1', 'N_term_end1', 'len_codons',\n",
       "       'global_coo_50_and_less', 'strand', 'global_coo_primary',\n",
       "       'PhyloCSF120score', 'number_of_records', 'ovlp', 'Riboseq_Summary',\n",
       "       'Coverage_value_ext', 'Proteomics_count_ext', 'tag', 'transcript_type',\n",
       "       'CDS_ratio', 'start_codon_local_coo_start', 'start_codon',\n",
       "       'global_coo_ext', 'global_coo_start_codon'],\n",
       "      dtype='object')"
      ]
     },
     "execution_count": 36,
     "metadata": {},
     "output_type": "execute_result"
    }
   ],
   "source": [
    "RiboSET_coo.columns"
   ]
  },
  {
   "cell_type": "code",
   "execution_count": 37,
   "metadata": {},
   "outputs": [],
   "source": [
    "#RiboSET_coo[['tr_id', 'gene', 'global_coo_ext', 'global_coo_start_codon', 'strand', 'Riboseq_Summary']].to_csv('../../MYSTERIOUS_UNDEGRAD_PROJECT/NTE_riboseq_predictions.txt', sep='\\t', index=False)"
   ]
  },
  {
   "cell_type": "code",
   "execution_count": 38,
   "metadata": {},
   "outputs": [
    {
     "data": {
      "text/html": [
       "<div>\n",
       "<style scoped>\n",
       "    .dataframe tbody tr th:only-of-type {\n",
       "        vertical-align: middle;\n",
       "    }\n",
       "\n",
       "    .dataframe tbody tr th {\n",
       "        vertical-align: top;\n",
       "    }\n",
       "\n",
       "    .dataframe thead th {\n",
       "        text-align: right;\n",
       "    }\n",
       "</style>\n",
       "<table border=\"1\" class=\"dataframe\">\n",
       "  <thead>\n",
       "    <tr style=\"text-align: right;\">\n",
       "      <th></th>\n",
       "      <th>tr_id</th>\n",
       "      <th>gene</th>\n",
       "      <th>global_coo_ext</th>\n",
       "      <th>global_coo_start_codon</th>\n",
       "      <th>strand</th>\n",
       "      <th>Riboseq_Summary</th>\n",
       "    </tr>\n",
       "  </thead>\n",
       "  <tbody>\n",
       "    <tr>\n",
       "      <th>0</th>\n",
       "      <td>ENST00000379389.4</td>\n",
       "      <td>ISG15</td>\n",
       "      <td>chr1:1013520-1013573</td>\n",
       "      <td>chr1:1013520-1013522</td>\n",
       "      <td>+</td>\n",
       "      <td>ATC; 98-152; Rank: 288; cov: 53.85</td>\n",
       "    </tr>\n",
       "    <tr>\n",
       "      <th>1</th>\n",
       "      <td>ENST00000349431.10</td>\n",
       "      <td>UBE2J2</td>\n",
       "      <td>chr1:1273666-1273713</td>\n",
       "      <td>chr1:1273711-1273713</td>\n",
       "      <td>-</td>\n",
       "      <td>ACG; 173-221; Rank: 328; cov: 90.91</td>\n",
       "    </tr>\n",
       "  </tbody>\n",
       "</table>\n",
       "</div>"
      ],
      "text/plain": [
       "                tr_id    gene        global_coo_ext global_coo_start_codon  \\\n",
       "0   ENST00000379389.4   ISG15  chr1:1013520-1013573   chr1:1013520-1013522   \n",
       "1  ENST00000349431.10  UBE2J2  chr1:1273666-1273713   chr1:1273711-1273713   \n",
       "\n",
       "  strand                      Riboseq_Summary  \n",
       "0      +   ATC; 98-152; Rank: 288; cov: 53.85  \n",
       "1      -  ACG; 173-221; Rank: 328; cov: 90.91  "
      ]
     },
     "execution_count": 38,
     "metadata": {},
     "output_type": "execute_result"
    }
   ],
   "source": [
    "RiboSET_coo[['tr_id', 'gene', 'global_coo_ext', 'global_coo_start_codon', 'strand', 'Riboseq_Summary']][0:2]"
   ]
  },
  {
   "cell_type": "code",
   "execution_count": 39,
   "metadata": {},
   "outputs": [
    {
     "data": {
      "text/html": [
       "<div>\n",
       "<style scoped>\n",
       "    .dataframe tbody tr th:only-of-type {\n",
       "        vertical-align: middle;\n",
       "    }\n",
       "\n",
       "    .dataframe tbody tr th {\n",
       "        vertical-align: top;\n",
       "    }\n",
       "\n",
       "    .dataframe thead th {\n",
       "        text-align: right;\n",
       "    }\n",
       "</style>\n",
       "<table border=\"1\" class=\"dataframe\">\n",
       "  <thead>\n",
       "    <tr style=\"text-align: right;\">\n",
       "      <th></th>\n",
       "      <th>tr_id</th>\n",
       "      <th>gene</th>\n",
       "      <th>global_coo_ext</th>\n",
       "      <th>global_coo_start_codon</th>\n",
       "      <th>strand</th>\n",
       "      <th>Riboseq_Summary</th>\n",
       "    </tr>\n",
       "  </thead>\n",
       "  <tbody>\n",
       "    <tr>\n",
       "      <th>346</th>\n",
       "      <td>ENST00000307522.3</td>\n",
       "      <td>CCDC8</td>\n",
       "      <td>chr19:46412811-46413026</td>\n",
       "      <td>chr19:46413024-46413026</td>\n",
       "      <td>-</td>\n",
       "      <td>ATC; 559-775; Rank: 400; cov: 79.1</td>\n",
       "    </tr>\n",
       "  </tbody>\n",
       "</table>\n",
       "</div>"
      ],
      "text/plain": [
       "                 tr_id   gene           global_coo_ext  \\\n",
       "346  ENST00000307522.3  CCDC8  chr19:46412811-46413026   \n",
       "\n",
       "      global_coo_start_codon strand                     Riboseq_Summary  \n",
       "346  chr19:46413024-46413026      -  ATC; 559-775; Rank: 400; cov: 79.1  "
      ]
     },
     "execution_count": 39,
     "metadata": {},
     "output_type": "execute_result"
    }
   ],
   "source": [
    "RiboSET_coo[RiboSET_coo['gene'] == 'CCDC8'][['tr_id', 'gene', 'global_coo_ext', 'global_coo_start_codon', 'strand', 'Riboseq_Summary']]"
   ]
  },
  {
   "cell_type": "code",
   "execution_count": 40,
   "metadata": {},
   "outputs": [
    {
     "data": {
      "text/plain": [
       "1.8063583815028903e-05"
      ]
     },
     "execution_count": 40,
     "metadata": {},
     "output_type": "execute_result"
    }
   ],
   "source": [
    " 0.05/2768"
   ]
  },
  {
   "cell_type": "code",
   "execution_count": 41,
   "metadata": {},
   "outputs": [
    {
     "ename": "SyntaxError",
     "evalue": "invalid syntax (<ipython-input-41-a9868954c0f9>, line 4)",
     "output_type": "error",
     "traceback": [
      "\u001b[0;36m  File \u001b[0;32m\"<ipython-input-41-a9868954c0f9>\"\u001b[0;36m, line \u001b[0;32m4\u001b[0m\n\u001b[0;31m    2768! / (2768-2)! * 2!\u001b[0m\n\u001b[0m        ^\u001b[0m\n\u001b[0;31mSyntaxError\u001b[0m\u001b[0;31m:\u001b[0m invalid syntax\n"
     ]
    }
   ],
   "source": [
    "2768 \n",
    "2\n",
    "\n",
    "2768! / (2768-2)! * 2!"
   ]
  },
  {
   "cell_type": "code",
   "execution_count": null,
   "metadata": {},
   "outputs": [],
   "source": [
    "1*2*...*2766*2767*2768 / (1*2*....*2768) * 2 =\n"
   ]
  },
  {
   "cell_type": "code",
   "execution_count": null,
   "metadata": {},
   "outputs": [],
   "source": [
    "2767*2768/2"
   ]
  },
  {
   "cell_type": "code",
   "execution_count": null,
   "metadata": {},
   "outputs": [],
   "source": [
    "0.5/3829528"
   ]
  },
  {
   "cell_type": "code",
   "execution_count": null,
   "metadata": {},
   "outputs": [],
   "source": [
    "0.5/2768"
   ]
  },
  {
   "cell_type": "markdown",
   "metadata": {},
   "source": [
    "-------"
   ]
  },
  {
   "cell_type": "markdown",
   "metadata": {},
   "source": [
    "# Parse Clinvar DB"
   ]
  },
  {
   "cell_type": "code",
   "execution_count": null,
   "metadata": {},
   "outputs": [],
   "source": [
    "clinvar = pd.read_csv('data/CLinvar/clinvar.vcf', sep='\\t', comment='#', header=None)\n",
    "\n",
    "clinvar['chr'] = 'chr'+clinvar[0].astype(str)\n",
    "\n",
    "clinvar.columns = ['chr_', 'start_pos', 'clinvar_ID', 'ref', 'alt', 'qual', 'filter', 'info', 'chr']\n",
    "\n",
    "# filter normal chromosomes \n",
    "clinvar_f = clinvar[clinvar['chr'].isin(['chr'+str(i) for i in range(1, 23)]+['chrY', 'chrX', 'chrM'])]\n",
    "\n",
    "print (clinvar.shape, clinvar_f.shape)\n",
    "\n",
    "clinvar_f = clinvar_f[clinvar_f['info'].str.contains('CLNSIG=')]\n",
    "\n",
    "print (clinvar.shape, clinvar_f.shape)"
   ]
  },
  {
   "cell_type": "raw",
   "metadata": {},
   "source": [
    "# Included variants do not have an associated disease (CLNDN, CLNDISDB) or a clinical significance (CLNSIG)\n",
    "# Instead there are three tags are specific to the included variants:\n",
    "# CLNDNINCL -  ClinVar's preferred disease name for an interpretation for a haplotype or genotype that includes this variant\n",
    "# CLNDISDBINCL - database name and identifier for the disease name for an interpretation for a haplotype or genotype that includes this variant\n",
    "# CLNSIGINCL -the clinical significance of a haplotype or genotype that  includes this variant."
   ]
  },
  {
   "cell_type": "code",
   "execution_count": null,
   "metadata": {},
   "outputs": [],
   "source": [
    "clinvar_f['Clin_sign'] = [x.split('CLNSIG=')[1].split(';')[0] for x in clinvar_f['info'].tolist()]\n",
    "\n",
    "clinvar_f['location_type'] = [x.split('|')[1].split(';')[0].split(',')[0] if x.find('|') != -1 else None for x in clinvar_f['info'].tolist()]\n",
    "\n",
    "clinvar_f['review_status'] = [x.split('CLNREVSTAT')[1].split(';')[0] if x.find('|') != -1 else None for x in clinvar_f['info'].tolist()]\n",
    "\n",
    "#review_status_filter = ['=criteria_provided,_single_submitter', '=criteria_provided,_multiple_submitters,_no_conflicts', \n",
    "#                       '=reviewed_by_expert_panel', '=practice_guideline']"
   ]
  },
  {
   "cell_type": "code",
   "execution_count": null,
   "metadata": {},
   "outputs": [],
   "source": []
  },
  {
   "cell_type": "code",
   "execution_count": null,
   "metadata": {},
   "outputs": [],
   "source": []
  },
  {
   "cell_type": "markdown",
   "metadata": {},
   "source": [
    "# Let's overlap full db and then choose what we have"
   ]
  },
  {
   "cell_type": "code",
   "execution_count": null,
   "metadata": {},
   "outputs": [],
   "source": [
    "clinvar['ann'] = 'ref:'+clinvar['ref']+';alt:'+clinvar['alt']+';info:'+clinvar['info']\n",
    "\n",
    "clinvar['len_alt'] = clinvar['alt'].str.len()\n",
    "\n",
    "clinvar['stop_pos'] = clinvar['start_pos'] + clinvar['len_alt'] - 1\n",
    "\n",
    "clinvar[['chr', 'start_pos', 'stop_pos', 'ann']].to_csv('tmp_res/clinvarVCF.bed', sep='\\t', index=False, header=None)"
   ]
  },
  {
   "cell_type": "markdown",
   "metadata": {},
   "source": [
    "### check long variations"
   ]
  },
  {
   "cell_type": "code",
   "execution_count": null,
   "metadata": {},
   "outputs": [],
   "source": [
    "tmp = clinvar[['chr', 'start_pos', 'stop_pos', 'ann']]\n",
    "\n",
    "tmp[tmp['stop_pos'] - tmp['start_pos'] > 1]"
   ]
  },
  {
   "cell_type": "markdown",
   "metadata": {},
   "source": [
    "### Make bed files for extensions and start codons "
   ]
  },
  {
   "cell_type": "code",
   "execution_count": null,
   "metadata": {},
   "outputs": [],
   "source": [
    "f = open('tmp_res/RiboSET_pred_start_codon.bed', 'w')\n",
    "\n",
    "f2 = open('tmp_res/RiboSET_pred_ext.bed', 'w')\n",
    "\n",
    "for el in RiboSET_coo.to_numpy():\n",
    "    tr_id = el[0]\n",
    "    start_codon_coo = el[-1].split('+')\n",
    "    ext_coo = el[-2].split('+')\n",
    "    \n",
    "    for coo in start_codon_coo:\n",
    "        f.write(coo.replace(':', '\\t').replace('-', '\\t')+'\\t'+tr_id+'\\n')\n",
    "    \n",
    "    for coo in ext_coo:\n",
    "        f2.write(coo.replace(':', '\\t').replace('-', '\\t')+'\\t'+tr_id+'\\n')\n",
    "    \n",
    "f.close()\n",
    "f2.close()"
   ]
  },
  {
   "cell_type": "code",
   "execution_count": null,
   "metadata": {},
   "outputs": [],
   "source": [
    "! bedtools intersect -wao -a tmp_res/RiboSET_pred_start_codon.bed -b tmp_res/clinvarVCF.bed > tmp_res/RiboSET_pred_start_codon_clinvar.bed"
   ]
  },
  {
   "cell_type": "markdown",
   "metadata": {},
   "source": [
    "----------"
   ]
  },
  {
   "cell_type": "markdown",
   "metadata": {},
   "source": [
    "### Parse bedtools ovlp file: START CODON VARIATION"
   ]
  },
  {
   "cell_type": "code",
   "execution_count": 42,
   "metadata": {},
   "outputs": [],
   "source": [
    "res_start = pd.read_csv('tmp_res/RiboSET_pred_start_codon_clinvar.bed', sep='\\t', header=None)\n",
    "\n",
    "res_start.columns = ['chr_codon', 'start_codon', 'stop_codon', 'tr_id', 'chr_var', 'start_var', 'stop_var',\n",
    "                    'ann_var', '-1']"
   ]
  },
  {
   "cell_type": "code",
   "execution_count": 43,
   "metadata": {},
   "outputs": [
    {
     "data": {
      "text/html": [
       "<div>\n",
       "<style scoped>\n",
       "    .dataframe tbody tr th:only-of-type {\n",
       "        vertical-align: middle;\n",
       "    }\n",
       "\n",
       "    .dataframe tbody tr th {\n",
       "        vertical-align: top;\n",
       "    }\n",
       "\n",
       "    .dataframe thead th {\n",
       "        text-align: right;\n",
       "    }\n",
       "</style>\n",
       "<table border=\"1\" class=\"dataframe\">\n",
       "  <thead>\n",
       "    <tr style=\"text-align: right;\">\n",
       "      <th></th>\n",
       "      <th>chr_codon</th>\n",
       "      <th>start_codon</th>\n",
       "      <th>stop_codon</th>\n",
       "      <th>tr_id</th>\n",
       "      <th>chr_var</th>\n",
       "      <th>start_var</th>\n",
       "      <th>stop_var</th>\n",
       "      <th>ann_var</th>\n",
       "      <th>-1</th>\n",
       "    </tr>\n",
       "  </thead>\n",
       "  <tbody>\n",
       "    <tr>\n",
       "      <th>11</th>\n",
       "      <td>chr1</td>\n",
       "      <td>32817272</td>\n",
       "      <td>32817274</td>\n",
       "      <td>ENST00000373477.8</td>\n",
       "      <td>chr1</td>\n",
       "      <td>32817272</td>\n",
       "      <td>32817272</td>\n",
       "      <td>ref:C;alt:T;info:ALLELEID=365223;CLNDISDB=MedG...</td>\n",
       "      <td>-1</td>\n",
       "    </tr>\n",
       "    <tr>\n",
       "      <th>37</th>\n",
       "      <td>chr1</td>\n",
       "      <td>169485878</td>\n",
       "      <td>169485880</td>\n",
       "      <td>ENST00000236137.9</td>\n",
       "      <td>chr1</td>\n",
       "      <td>169485880</td>\n",
       "      <td>169485880</td>\n",
       "      <td>ref:G;alt:A;info:AF_TGP=0.00719;ALLELEID=27713...</td>\n",
       "      <td>-1</td>\n",
       "    </tr>\n",
       "    <tr>\n",
       "      <th>114</th>\n",
       "      <td>chr5</td>\n",
       "      <td>80654847</td>\n",
       "      <td>80654849</td>\n",
       "      <td>ENST00000439211.6</td>\n",
       "      <td>chr5</td>\n",
       "      <td>80654848</td>\n",
       "      <td>80654848</td>\n",
       "      <td>ref:A;alt:C;info:ALLELEID=1043665;CLNDISDB=Med...</td>\n",
       "      <td>0</td>\n",
       "    </tr>\n",
       "    <tr>\n",
       "      <th>115</th>\n",
       "      <td>chr5</td>\n",
       "      <td>80654847</td>\n",
       "      <td>80654849</td>\n",
       "      <td>ENST00000439211.6</td>\n",
       "      <td>chr5</td>\n",
       "      <td>80654848</td>\n",
       "      <td>80654848</td>\n",
       "      <td>ref:A;alt:G;info:ALLELEID=634061;CLNDISDB=MedG...</td>\n",
       "      <td>0</td>\n",
       "    </tr>\n",
       "    <tr>\n",
       "      <th>116</th>\n",
       "      <td>chr5</td>\n",
       "      <td>80654847</td>\n",
       "      <td>80654849</td>\n",
       "      <td>ENST00000439211.6</td>\n",
       "      <td>chr5</td>\n",
       "      <td>80654849</td>\n",
       "      <td>80654849</td>\n",
       "      <td>ref:C;alt:A;info:ALLELEID=634062;CLNDISDB=MOND...</td>\n",
       "      <td>-1</td>\n",
       "    </tr>\n",
       "    <tr>\n",
       "      <th>117</th>\n",
       "      <td>chr5</td>\n",
       "      <td>80654847</td>\n",
       "      <td>80654849</td>\n",
       "      <td>ENST00000439211.6</td>\n",
       "      <td>chr5</td>\n",
       "      <td>80654849</td>\n",
       "      <td>80654849</td>\n",
       "      <td>ref:C;alt:G;info:ALLELEID=634063;CLNDISDB=MedG...</td>\n",
       "      <td>-1</td>\n",
       "    </tr>\n",
       "    <tr>\n",
       "      <th>118</th>\n",
       "      <td>chr5</td>\n",
       "      <td>80654847</td>\n",
       "      <td>80654849</td>\n",
       "      <td>ENST00000439211.6</td>\n",
       "      <td>chr5</td>\n",
       "      <td>80654849</td>\n",
       "      <td>80654849</td>\n",
       "      <td>ref:C;alt:T;info:AF_EXAC=0.00001;ALLELEID=6340...</td>\n",
       "      <td>-1</td>\n",
       "    </tr>\n",
       "    <tr>\n",
       "      <th>276</th>\n",
       "      <td>chr16</td>\n",
       "      <td>14630192</td>\n",
       "      <td>14630194</td>\n",
       "      <td>ENST00000437198.6</td>\n",
       "      <td>chr16</td>\n",
       "      <td>14630192</td>\n",
       "      <td>14630192</td>\n",
       "      <td>ref:A;alt:G;info:AF_TGP=0.00060;ALLELEID=62453...</td>\n",
       "      <td>-1</td>\n",
       "    </tr>\n",
       "  </tbody>\n",
       "</table>\n",
       "</div>"
      ],
      "text/plain": [
       "    chr_codon  start_codon  stop_codon              tr_id chr_var  start_var  \\\n",
       "11       chr1     32817272    32817274  ENST00000373477.8    chr1   32817272   \n",
       "37       chr1    169485878   169485880  ENST00000236137.9    chr1  169485880   \n",
       "114      chr5     80654847    80654849  ENST00000439211.6    chr5   80654848   \n",
       "115      chr5     80654847    80654849  ENST00000439211.6    chr5   80654848   \n",
       "116      chr5     80654847    80654849  ENST00000439211.6    chr5   80654849   \n",
       "117      chr5     80654847    80654849  ENST00000439211.6    chr5   80654849   \n",
       "118      chr5     80654847    80654849  ENST00000439211.6    chr5   80654849   \n",
       "276     chr16     14630192    14630194  ENST00000437198.6   chr16   14630192   \n",
       "\n",
       "      stop_var                                            ann_var  -1  \n",
       "11    32817272  ref:C;alt:T;info:ALLELEID=365223;CLNDISDB=MedG...  -1  \n",
       "37   169485880  ref:G;alt:A;info:AF_TGP=0.00719;ALLELEID=27713...  -1  \n",
       "114   80654848  ref:A;alt:C;info:ALLELEID=1043665;CLNDISDB=Med...   0  \n",
       "115   80654848  ref:A;alt:G;info:ALLELEID=634061;CLNDISDB=MedG...   0  \n",
       "116   80654849  ref:C;alt:A;info:ALLELEID=634062;CLNDISDB=MOND...  -1  \n",
       "117   80654849  ref:C;alt:G;info:ALLELEID=634063;CLNDISDB=MedG...  -1  \n",
       "118   80654849  ref:C;alt:T;info:AF_EXAC=0.00001;ALLELEID=6340...  -1  \n",
       "276   14630192  ref:A;alt:G;info:AF_TGP=0.00060;ALLELEID=62453...  -1  "
      ]
     },
     "execution_count": 43,
     "metadata": {},
     "output_type": "execute_result"
    }
   ],
   "source": [
    "res_start[res_start['start_var'] != -1].to_csv('Supplementary_tables_and_plots/tables/RSET_start_ClinVar.txt', sep='\\t', index=False)\n",
    "res_start[res_start['start_var'] != -1]"
   ]
  },
  {
   "cell_type": "code",
   "execution_count": 44,
   "metadata": {},
   "outputs": [
    {
     "name": "stdout",
     "output_type": "stream",
     "text": [
      "ENST00000373477.8 Likely_benign ref:C alt:T\n",
      "ref:C;alt:T;info:ALLELEID=365223;CLNDISDB=MedGen:CN169374;CLNDN=not_specified;CLNHGVS=NC_000001.11:g.32817272C>T;CLNREVSTAT=criteria_provided,_single_submitter;CLNSIG=Likely_benign;CLNVC=single_nucleotide_variant;CLNVCSO=SO:0001483;GENEINFO=YARS1:8565|S100PBP:64766;ORIGIN=1;RS=1057524574\n",
      "\n",
      "ENST00000236137.9 Conflicting_interpretations_of_pathogenicity ref:G alt:A\n",
      "ref:G;alt:A;info:AF_TGP=0.00719;ALLELEID=277134;CLNDISDB=Human_Phenotype_Ontology:HP:0004860,MedGen:C0271972|MONDO:MONDO:0009575,MedGen:C0342287,OMIM:249270,Orphanet:ORPHA49827,SNOMED_CT:237617006;CLNDN=Thiamine-responsive_megaloblastic_anemia|Megaloblastic_anemia,_thiamine-responsive,_with_diabetes_mellitus_and_sensorineural_deafness;CLNHGVS=NC_000001.11:g.169485880G>A;CLNREVSTAT=criteria_provided,_conflicting_interpretations;CLNSIG=Conflicting_interpretations_of_pathogenicity;CLNSIGCONF=Likely_benign(1),Uncertain_significance(1);CLNVC=single_nucleotide_variant;CLNVCSO=SO:0001483;CLNVI=Illumina_Clinical_Services_Laboratory,Illumina:84112;GENEINFO=SLC19A2:10560;MC=SO:0001623|5_prime_UTR_variant;ORIGIN=1;RS=145285893\n",
      "\n",
      "ENST00000439211.6 Uncertain_significance ref:A alt:C\n",
      "ref:A;alt:C;info:ALLELEID=1043665;CLNDISDB=MedGen:CN517202;CLNDN=not_provided;CLNHGVS=NC_000005.10:g.80654848A>C;CLNREVSTAT=criteria_provided,_single_submitter;CLNSIG=Uncertain_significance;CLNVC=single_nucleotide_variant;CLNVCSO=SO:0001483;GENEINFO=DHFR:1719|MSH3:4437;MC=SO:0001583|missense_variant,SO:0001619|non-coding_transcript_variant,SO:0001623|5_prime_UTR_variant;ORIGIN=1\n",
      "\n",
      "ENST00000439211.6 Uncertain_significance ref:A alt:G\n",
      "ref:A;alt:G;info:ALLELEID=634061;CLNDISDB=MedGen:CN517202;CLNDN=not_provided;CLNHGVS=NC_000005.10:g.80654848A>G;CLNREVSTAT=criteria_provided,_single_submitter;CLNSIG=Uncertain_significance;CLNVC=single_nucleotide_variant;CLNVCSO=SO:0001483;GENEINFO=DHFR:1719|MSH3:4437;MC=SO:0001583|missense_variant,SO:0001619|non-coding_transcript_variant,SO:0001623|5_prime_UTR_variant;ORIGIN=1;RS=1580538038\n",
      "\n",
      "ENST00000439211.6 Uncertain_significance ref:C alt:A\n",
      "ref:C;alt:A;info:ALLELEID=634062;CLNDISDB=MONDO:MONDO:0015356,MedGen:C0027672,Orphanet:ORPHA140162,SNOMED_CT:699346009|MedGen:CN517202;CLNDN=Hereditary_cancer-predisposing_syndrome|not_provided;CLNHGVS=NC_000005.10:g.80654849C>A;CLNREVSTAT=criteria_provided,_multiple_submitters,_no_conflicts;CLNSIG=Uncertain_significance;CLNVC=single_nucleotide_variant;CLNVCSO=SO:0001483;GENEINFO=DHFR:1719|MSH3:4437;MC=SO:0001583|missense_variant,SO:0001619|non-coding_transcript_variant,SO:0001623|5_prime_UTR_variant;ORIGIN=1;RS=763928973\n",
      "\n",
      "ENST00000439211.6 Uncertain_significance ref:C alt:G\n",
      "ref:C;alt:G;info:ALLELEID=634063;CLNDISDB=MedGen:CN517202;CLNDN=not_provided;CLNHGVS=NC_000005.10:g.80654849C>G;CLNREVSTAT=criteria_provided,_single_submitter;CLNSIG=Uncertain_significance;CLNVC=single_nucleotide_variant;CLNVCSO=SO:0001483;GENEINFO=DHFR:1719|MSH3:4437;MC=SO:0001583|missense_variant,SO:0001619|non-coding_transcript_variant,SO:0001623|5_prime_UTR_variant;ORIGIN=1;RS=763928973\n",
      "\n",
      "ENST00000439211.6 Uncertain_significance ref:C alt:T\n",
      "ref:C;alt:T;info:AF_EXAC=0.00001;ALLELEID=634064;CLNDISDB=MedGen:CN517202;CLNDN=not_provided;CLNHGVS=NC_000005.10:g.80654849C>T;CLNREVSTAT=criteria_provided,_single_submitter;CLNSIG=Uncertain_significance;CLNVC=single_nucleotide_variant;CLNVCSO=SO:0001483;GENEINFO=DHFR:1719|MSH3:4437;MC=SO:0001583|missense_variant,SO:0001619|non-coding_transcript_variant,SO:0001623|5_prime_UTR_variant;ORIGIN=1;RS=763928973\n",
      "\n",
      "ENST00000437198.6 Uncertain_significance ref:A alt:G\n",
      "ref:A;alt:G;info:AF_TGP=0.00060;ALLELEID=624532;CLNDISDB=MedGen:CN517202;CLNDN=not_provided;CLNHGVS=NC_000016.10:g.14630192A>G;CLNREVSTAT=criteria_provided,_single_submitter;CLNSIG=Uncertain_significance;CLNVC=single_nucleotide_variant;CLNVCSO=SO:0001483;GENEINFO=PARN:5073;MC=SO:0001623|5_prime_UTR_variant;ORIGIN=1;RS=530369406\n",
      "\n"
     ]
    }
   ],
   "source": [
    "for el in res_start.to_numpy():\n",
    "    info = el[-2]\n",
    "    tr_id = el[3]\n",
    "    if info.find('CLNSIG=') != -1:\n",
    "        Cl_sign = info.split('CLNSIG=')[1].split(';')[0]\n",
    "        \n",
    "        #if (Cl_sign.find('Pathogenic') != -1) | (Cl_sign.find('pathogen') != -1):\n",
    "        print (tr_id, Cl_sign, info.split(';')[0], info.split(';')[1])\n",
    "        print (info)\n",
    "        print ()"
   ]
  },
  {
   "cell_type": "markdown",
   "metadata": {},
   "source": [
    "SLC19A2, ENST00000236137.9 there is Conflicting_interpretations_of_pathogenicity, Thiamine-responsive_megaloblastic_anemia|Megaloblastic_anemia,_thiamine-responsive,_with_diabetes_mellitus_and_sensorineural_deafness"
   ]
  },
  {
   "cell_type": "code",
   "execution_count": 45,
   "metadata": {},
   "outputs": [
    {
     "data": {
      "text/html": [
       "<div>\n",
       "<style scoped>\n",
       "    .dataframe tbody tr th:only-of-type {\n",
       "        vertical-align: middle;\n",
       "    }\n",
       "\n",
       "    .dataframe tbody tr th {\n",
       "        vertical-align: top;\n",
       "    }\n",
       "\n",
       "    .dataframe thead th {\n",
       "        text-align: right;\n",
       "    }\n",
       "</style>\n",
       "<table border=\"1\" class=\"dataframe\">\n",
       "  <thead>\n",
       "    <tr style=\"text-align: right;\">\n",
       "      <th></th>\n",
       "      <th>tr_id</th>\n",
       "      <th>gene</th>\n",
       "      <th>N_term_start1</th>\n",
       "      <th>N_term_end1</th>\n",
       "      <th>len_codons</th>\n",
       "      <th>global_coo_50_and_less</th>\n",
       "      <th>strand</th>\n",
       "      <th>global_coo_primary</th>\n",
       "      <th>PhyloCSF120score</th>\n",
       "      <th>number_of_records</th>\n",
       "      <th>ovlp</th>\n",
       "      <th>Riboseq_Summary</th>\n",
       "      <th>Coverage_value_ext</th>\n",
       "      <th>Proteomics_count_ext</th>\n",
       "      <th>tag</th>\n",
       "      <th>transcript_type</th>\n",
       "      <th>CDS_ratio</th>\n",
       "      <th>start_codon_local_coo_start</th>\n",
       "      <th>start_codon</th>\n",
       "    </tr>\n",
       "  </thead>\n",
       "  <tbody>\n",
       "    <tr>\n",
       "      <th>37</th>\n",
       "      <td>ENST00000236137.9</td>\n",
       "      <td>SLC19A2</td>\n",
       "      <td>78</td>\n",
       "      <td>237</td>\n",
       "      <td>53.0</td>\n",
       "      <td>chr1:169485767-169485916</td>\n",
       "      <td>-</td>\n",
       "      <td>chr1:169485767-169485925</td>\n",
       "      <td>-2215.7487</td>\n",
       "      <td>99</td>\n",
       "      <td>0;0;0</td>\n",
       "      <td>CTG; 124-238; Rank: 464; cov: 39.39</td>\n",
       "      <td>39.393939</td>\n",
       "      <td>0.0</td>\n",
       "      <td>basic,appris_principal_1,CCDS</td>\n",
       "      <td>protein_coding</td>\n",
       "      <td>0.739155</td>\n",
       "      <td>124</td>\n",
       "      <td>CTG</td>\n",
       "    </tr>\n",
       "  </tbody>\n",
       "</table>\n",
       "</div>"
      ],
      "text/plain": [
       "                tr_id     gene  N_term_start1  N_term_end1  len_codons  \\\n",
       "37  ENST00000236137.9  SLC19A2             78          237        53.0   \n",
       "\n",
       "      global_coo_50_and_less strand        global_coo_primary  \\\n",
       "37  chr1:169485767-169485916      -  chr1:169485767-169485925   \n",
       "\n",
       "    PhyloCSF120score  number_of_records   ovlp  \\\n",
       "37        -2215.7487                 99  0;0;0   \n",
       "\n",
       "                        Riboseq_Summary  Coverage_value_ext  \\\n",
       "37  CTG; 124-238; Rank: 464; cov: 39.39           39.393939   \n",
       "\n",
       "    Proteomics_count_ext                            tag transcript_type  \\\n",
       "37                   0.0  basic,appris_principal_1,CCDS  protein_coding   \n",
       "\n",
       "    CDS_ratio  start_codon_local_coo_start start_codon  \n",
       "37   0.739155                          124         CTG  "
      ]
     },
     "execution_count": 45,
     "metadata": {},
     "output_type": "execute_result"
    }
   ],
   "source": [
    "RiboSET[RiboSET['tr_id'] == 'ENST00000236137.9']"
   ]
  },
  {
   "cell_type": "code",
   "execution_count": null,
   "metadata": {},
   "outputs": [],
   "source": []
  },
  {
   "cell_type": "code",
   "execution_count": 46,
   "metadata": {},
   "outputs": [],
   "source": [
    "# if strand = '-' => if ovlp at the end e.g. codon ATT [14630192, 14630194]\n",
    "# and var = [14630192] => var at the 3rd letter, T"
   ]
  },
  {
   "cell_type": "code",
   "execution_count": 47,
   "metadata": {},
   "outputs": [
    {
     "data": {
      "text/plain": [
       "('ref:C;alt:A;info:ALLELEID=634062;CLNDISDB=MONDO:MONDO:0015356,MedGen:C0027672,Orphanet:ORPHA140162,SNOMED_CT:699346009|MedGen:CN517202;CLNDN=Hereditary_cancer-predisposing_syndrome|not_provided;CLNHGVS=NC_000005.10:g.80654849C>A;CLNREVSTAT=criteria_provided,_multiple_submitters,_no_conflicts;CLNSIG=Uncertain_significance;CLNVC=single_nucleotide_variant;CLNVCSO=SO:0001483;GENEINFO=DHFR:1719|MSH3:4437;MC=SO:0001583|missense_variant,SO:0001619|non-coding_transcript_variant,SO:0001623|5_prime_UTR_variant;ORIGIN=1;RS=763928973',\n",
       " 'ENST00000439211.6')"
      ]
     },
     "execution_count": 47,
     "metadata": {},
     "output_type": "execute_result"
    }
   ],
   "source": [
    "res_start[res_start['-1'] != 0].iloc[2].ann_var, res_start[res_start['-1'] != 0].iloc[2].tr_id"
   ]
  },
  {
   "cell_type": "code",
   "execution_count": 48,
   "metadata": {},
   "outputs": [
    {
     "name": "stdout",
     "output_type": "stream",
     "text": [
      "chr5:80654490-80654849\n",
      "-\n"
     ]
    }
   ],
   "source": [
    "print (RiboSET_coo[RiboSET_coo['tr_id'] == 'ENST00000439211.6'].iloc[0].global_coo_ext)\n",
    "print (RiboSET_coo[RiboSET_coo['tr_id'] == 'ENST00000439211.6'].iloc[0].strand)"
   ]
  },
  {
   "cell_type": "code",
   "execution_count": 49,
   "metadata": {},
   "outputs": [
    {
     "data": {
      "text/html": [
       "<div>\n",
       "<style scoped>\n",
       "    .dataframe tbody tr th:only-of-type {\n",
       "        vertical-align: middle;\n",
       "    }\n",
       "\n",
       "    .dataframe tbody tr th {\n",
       "        vertical-align: top;\n",
       "    }\n",
       "\n",
       "    .dataframe thead th {\n",
       "        text-align: right;\n",
       "    }\n",
       "</style>\n",
       "<table border=\"1\" class=\"dataframe\">\n",
       "  <thead>\n",
       "    <tr style=\"text-align: right;\">\n",
       "      <th></th>\n",
       "      <th>tr_id</th>\n",
       "      <th>gene</th>\n",
       "      <th>N_term_start1</th>\n",
       "      <th>N_term_end1</th>\n",
       "      <th>len_codons</th>\n",
       "      <th>global_coo_50_and_less</th>\n",
       "      <th>strand</th>\n",
       "      <th>global_coo_primary</th>\n",
       "      <th>PhyloCSF120score</th>\n",
       "      <th>number_of_records</th>\n",
       "      <th>...</th>\n",
       "      <th>Riboseq_Summary</th>\n",
       "      <th>Coverage_value_ext</th>\n",
       "      <th>Proteomics_count_ext</th>\n",
       "      <th>tag</th>\n",
       "      <th>transcript_type</th>\n",
       "      <th>CDS_ratio</th>\n",
       "      <th>start_codon_local_coo_start</th>\n",
       "      <th>start_codon</th>\n",
       "      <th>global_coo_ext</th>\n",
       "      <th>global_coo_start_codon</th>\n",
       "    </tr>\n",
       "  </thead>\n",
       "  <tbody>\n",
       "    <tr>\n",
       "      <th>114</th>\n",
       "      <td>ENST00000439211.6</td>\n",
       "      <td>DHFR</td>\n",
       "      <td>2</td>\n",
       "      <td>494</td>\n",
       "      <td>164.0</td>\n",
       "      <td>chr5:80654490-80654639</td>\n",
       "      <td>-</td>\n",
       "      <td>chr5:80654490-80654981</td>\n",
       "      <td>-2881.5796</td>\n",
       "      <td>107</td>\n",
       "      <td>...</td>\n",
       "      <td>GTG; 135-495; Rank: 291; cov: 73.91</td>\n",
       "      <td>73.913043</td>\n",
       "      <td>0.0</td>\n",
       "      <td>basic,appris_principal_1,CCDS</td>\n",
       "      <td>protein_coding</td>\n",
       "      <td>1.090317</td>\n",
       "      <td>135</td>\n",
       "      <td>GTG</td>\n",
       "      <td>chr5:80654490-80654849</td>\n",
       "      <td>chr5:80654847-80654849</td>\n",
       "    </tr>\n",
       "  </tbody>\n",
       "</table>\n",
       "<p>1 rows × 21 columns</p>\n",
       "</div>"
      ],
      "text/plain": [
       "                 tr_id  gene  N_term_start1  N_term_end1  len_codons  \\\n",
       "114  ENST00000439211.6  DHFR              2          494       164.0   \n",
       "\n",
       "     global_coo_50_and_less strand      global_coo_primary  PhyloCSF120score  \\\n",
       "114  chr5:80654490-80654639      -  chr5:80654490-80654981        -2881.5796   \n",
       "\n",
       "     number_of_records  ...                      Riboseq_Summary  \\\n",
       "114                107  ...  GTG; 135-495; Rank: 291; cov: 73.91   \n",
       "\n",
       "    Coverage_value_ext  Proteomics_count_ext                            tag  \\\n",
       "114          73.913043                   0.0  basic,appris_principal_1,CCDS   \n",
       "\n",
       "    transcript_type CDS_ratio  start_codon_local_coo_start  start_codon  \\\n",
       "114  protein_coding  1.090317                          135          GTG   \n",
       "\n",
       "             global_coo_ext  global_coo_start_codon  \n",
       "114  chr5:80654490-80654849  chr5:80654847-80654849  \n",
       "\n",
       "[1 rows x 21 columns]"
      ]
     },
     "execution_count": 49,
     "metadata": {},
     "output_type": "execute_result"
    }
   ],
   "source": [
    "RiboSET_coo[RiboSET_coo['tr_id'] == 'ENST00000439211.6']"
   ]
  },
  {
   "cell_type": "code",
   "execution_count": null,
   "metadata": {},
   "outputs": [],
   "source": []
  },
  {
   "cell_type": "code",
   "execution_count": null,
   "metadata": {},
   "outputs": [],
   "source": []
  },
  {
   "cell_type": "code",
   "execution_count": null,
   "metadata": {},
   "outputs": [],
   "source": []
  },
  {
   "cell_type": "markdown",
   "metadata": {},
   "source": [
    "# Let's check all variants in extensions then.... "
   ]
  },
  {
   "cell_type": "code",
   "execution_count": 50,
   "metadata": {},
   "outputs": [],
   "source": [
    "! bedtools intersect -wao -a tmp_res/RiboSET_pred_ext.bed -b tmp_res/clinvarVCF.bed > tmp_res/RiboSET_pred_ext_clinvar.bed"
   ]
  },
  {
   "cell_type": "code",
   "execution_count": 51,
   "metadata": {},
   "outputs": [
    {
     "data": {
      "text/html": [
       "<div>\n",
       "<style scoped>\n",
       "    .dataframe tbody tr th:only-of-type {\n",
       "        vertical-align: middle;\n",
       "    }\n",
       "\n",
       "    .dataframe tbody tr th {\n",
       "        vertical-align: top;\n",
       "    }\n",
       "\n",
       "    .dataframe thead th {\n",
       "        text-align: right;\n",
       "    }\n",
       "</style>\n",
       "<table border=\"1\" class=\"dataframe\">\n",
       "  <thead>\n",
       "    <tr style=\"text-align: right;\">\n",
       "      <th></th>\n",
       "      <th>chr_ext</th>\n",
       "      <th>start_ext</th>\n",
       "      <th>stop_ext</th>\n",
       "      <th>tr_id</th>\n",
       "      <th>chr_var</th>\n",
       "      <th>start_var</th>\n",
       "      <th>stop_var</th>\n",
       "      <th>ann_var</th>\n",
       "    </tr>\n",
       "  </thead>\n",
       "  <tbody>\n",
       "    <tr>\n",
       "      <th>15</th>\n",
       "      <td>chr1</td>\n",
       "      <td>32817245</td>\n",
       "      <td>32817274</td>\n",
       "      <td>ENST00000373477.8</td>\n",
       "      <td>chr1</td>\n",
       "      <td>32817272</td>\n",
       "      <td>32817272</td>\n",
       "      <td>ref:C;alt:T;info:ALLELEID=365223;CLNDISDB=MedG...</td>\n",
       "    </tr>\n",
       "    <tr>\n",
       "      <th>24</th>\n",
       "      <td>chr1</td>\n",
       "      <td>55039628</td>\n",
       "      <td>55039837</td>\n",
       "      <td>ENST00000302118.5</td>\n",
       "      <td>chr1</td>\n",
       "      <td>55039638</td>\n",
       "      <td>55039638</td>\n",
       "      <td>ref:C;alt:A;info:ALLELEID=282656;CLNDISDB=MOND...</td>\n",
       "    </tr>\n",
       "    <tr>\n",
       "      <th>25</th>\n",
       "      <td>chr1</td>\n",
       "      <td>55039628</td>\n",
       "      <td>55039837</td>\n",
       "      <td>ENST00000302118.5</td>\n",
       "      <td>chr1</td>\n",
       "      <td>55039653</td>\n",
       "      <td>55039653</td>\n",
       "      <td>ref:A;alt:G;info:ALLELEID=282659;CLNDISDB=MOND...</td>\n",
       "    </tr>\n",
       "    <tr>\n",
       "      <th>26</th>\n",
       "      <td>chr1</td>\n",
       "      <td>55039628</td>\n",
       "      <td>55039837</td>\n",
       "      <td>ENST00000302118.5</td>\n",
       "      <td>chr1</td>\n",
       "      <td>55039658</td>\n",
       "      <td>55039658</td>\n",
       "      <td>ref:T;alt:G;info:ALLELEID=281414;CLNDISDB=MOND...</td>\n",
       "    </tr>\n",
       "    <tr>\n",
       "      <th>27</th>\n",
       "      <td>chr1</td>\n",
       "      <td>55039628</td>\n",
       "      <td>55039837</td>\n",
       "      <td>ENST00000302118.5</td>\n",
       "      <td>chr1</td>\n",
       "      <td>55039670</td>\n",
       "      <td>55039670</td>\n",
       "      <td>ref:C;alt:A;info:ALLELEID=434133;CLNDISDB=MOND...</td>\n",
       "    </tr>\n",
       "    <tr>\n",
       "      <th>...</th>\n",
       "      <td>...</td>\n",
       "      <td>...</td>\n",
       "      <td>...</td>\n",
       "      <td>...</td>\n",
       "      <td>...</td>\n",
       "      <td>...</td>\n",
       "      <td>...</td>\n",
       "      <td>...</td>\n",
       "    </tr>\n",
       "    <tr>\n",
       "      <th>634</th>\n",
       "      <td>chrX</td>\n",
       "      <td>120469170</td>\n",
       "      <td>120469229</td>\n",
       "      <td>ENST00000371335.4</td>\n",
       "      <td>chrX</td>\n",
       "      <td>120469183</td>\n",
       "      <td>120469183</td>\n",
       "      <td>ref:AGGCGGCGAC;alt:A;info:ALLELEID=45103;CLNDI...</td>\n",
       "    </tr>\n",
       "    <tr>\n",
       "      <th>635</th>\n",
       "      <td>chrX</td>\n",
       "      <td>120469170</td>\n",
       "      <td>120469229</td>\n",
       "      <td>ENST00000371335.4</td>\n",
       "      <td>chrX</td>\n",
       "      <td>120469184</td>\n",
       "      <td>120469184</td>\n",
       "      <td>ref:GGCGGCGAC;alt:G;info:ALLELEID=549818;CLNDI...</td>\n",
       "    </tr>\n",
       "    <tr>\n",
       "      <th>636</th>\n",
       "      <td>chrX</td>\n",
       "      <td>120469170</td>\n",
       "      <td>120469229</td>\n",
       "      <td>ENST00000371335.4</td>\n",
       "      <td>chrX</td>\n",
       "      <td>120469196</td>\n",
       "      <td>120469196</td>\n",
       "      <td>ref:G;alt:A;info:AF_EXAC=0.00005;ALLELEID=1417...</td>\n",
       "    </tr>\n",
       "    <tr>\n",
       "      <th>637</th>\n",
       "      <td>chrX</td>\n",
       "      <td>120469170</td>\n",
       "      <td>120469229</td>\n",
       "      <td>ENST00000371335.4</td>\n",
       "      <td>chrX</td>\n",
       "      <td>120469202</td>\n",
       "      <td>120469202</td>\n",
       "      <td>ref:G;alt:A;info:AF_ESP=0.00085;AF_EXAC=0.0002...</td>\n",
       "    </tr>\n",
       "    <tr>\n",
       "      <th>638</th>\n",
       "      <td>chrX</td>\n",
       "      <td>120469170</td>\n",
       "      <td>120469229</td>\n",
       "      <td>ENST00000371335.4</td>\n",
       "      <td>chrX</td>\n",
       "      <td>120469207</td>\n",
       "      <td>120469207</td>\n",
       "      <td>ref:C;alt:G;info:ALLELEID=507819;CLNDISDB=MedG...</td>\n",
       "    </tr>\n",
       "  </tbody>\n",
       "</table>\n",
       "<p>208 rows × 8 columns</p>\n",
       "</div>"
      ],
      "text/plain": [
       "    chr_ext  start_ext   stop_ext              tr_id chr_var  start_var  \\\n",
       "15     chr1   32817245   32817274  ENST00000373477.8    chr1   32817272   \n",
       "24     chr1   55039628   55039837  ENST00000302118.5    chr1   55039638   \n",
       "25     chr1   55039628   55039837  ENST00000302118.5    chr1   55039653   \n",
       "26     chr1   55039628   55039837  ENST00000302118.5    chr1   55039658   \n",
       "27     chr1   55039628   55039837  ENST00000302118.5    chr1   55039670   \n",
       "..      ...        ...        ...                ...     ...        ...   \n",
       "634    chrX  120469170  120469229  ENST00000371335.4    chrX  120469183   \n",
       "635    chrX  120469170  120469229  ENST00000371335.4    chrX  120469184   \n",
       "636    chrX  120469170  120469229  ENST00000371335.4    chrX  120469196   \n",
       "637    chrX  120469170  120469229  ENST00000371335.4    chrX  120469202   \n",
       "638    chrX  120469170  120469229  ENST00000371335.4    chrX  120469207   \n",
       "\n",
       "      stop_var                                            ann_var  \n",
       "15    32817272  ref:C;alt:T;info:ALLELEID=365223;CLNDISDB=MedG...  \n",
       "24    55039638  ref:C;alt:A;info:ALLELEID=282656;CLNDISDB=MOND...  \n",
       "25    55039653  ref:A;alt:G;info:ALLELEID=282659;CLNDISDB=MOND...  \n",
       "26    55039658  ref:T;alt:G;info:ALLELEID=281414;CLNDISDB=MOND...  \n",
       "27    55039670  ref:C;alt:A;info:ALLELEID=434133;CLNDISDB=MOND...  \n",
       "..         ...                                                ...  \n",
       "634  120469183  ref:AGGCGGCGAC;alt:A;info:ALLELEID=45103;CLNDI...  \n",
       "635  120469184  ref:GGCGGCGAC;alt:G;info:ALLELEID=549818;CLNDI...  \n",
       "636  120469196  ref:G;alt:A;info:AF_EXAC=0.00005;ALLELEID=1417...  \n",
       "637  120469202  ref:G;alt:A;info:AF_ESP=0.00085;AF_EXAC=0.0002...  \n",
       "638  120469207  ref:C;alt:G;info:ALLELEID=507819;CLNDISDB=MedG...  \n",
       "\n",
       "[208 rows x 8 columns]"
      ]
     },
     "execution_count": 51,
     "metadata": {},
     "output_type": "execute_result"
    }
   ],
   "source": [
    "res_ext = pd.read_csv('tmp_res/RiboSET_pred_ext_clinvar.bed', sep='\\t', header=None)\n",
    "\n",
    "res_ext.columns = ['chr_ext', 'start_ext', 'stop_ext', 'tr_id', 'chr_var', 'start_var', 'stop_var',\n",
    "                    'ann_var', '-1']\n",
    "\n",
    "res_ext[res_ext['start_var'] != -1][['chr_ext', 'start_ext', 'stop_ext', 'tr_id', 'chr_var', 'start_var', 'stop_var',\n",
    "                    'ann_var']].to_csv('Supplementary_tables_and_plots/tables/RSET_ext_ClinVar.txt', sep='\\t', index=False)\n",
    "\n",
    "res_ext[res_ext['start_var'] != -1][['chr_ext', 'start_ext', 'stop_ext', 'tr_id', 'chr_var', 'start_var', 'stop_var',\n",
    "                    'ann_var']]"
   ]
  },
  {
   "cell_type": "code",
   "execution_count": 52,
   "metadata": {},
   "outputs": [
    {
     "name": "stdout",
     "output_type": "stream",
     "text": [
      "ENST00000302118.5 PCSK9 Conflicting_interpretations_of_pathogenicity ref:C alt:T\n",
      "ENST00000302118.5 PCSK9 Conflicting_interpretations_of_pathogenicity ref:T alt:C\n",
      "ENST00000236137.9 SLC19A2 Conflicting_interpretations_of_pathogenicity ref:G alt:C\n",
      "ENST00000236137.9 SLC19A2 Conflicting_interpretations_of_pathogenicity ref:G alt:A\n",
      "ENST00000325404.2 SOX2 Pathogenic ref:GGCCGGGCCCGCGCACAGCGCCCGCATGTACAACATGATGGAGACGGAGCTGAAGCC alt:G\n",
      "ENST00000439211.6 DHFR Pathogenic ref:GA alt:G\n",
      "ENST00000439211.6 DHFR Pathogenic ref:C alt:T\n",
      "ENST00000248553.6 HSPB1 Conflicting_interpretations_of_pathogenicity ref:G alt:A\n",
      "ENST00000248553.6 HSPB1 Conflicting_interpretations_of_pathogenicity ref:C alt:T\n",
      "ENST00000369085.7 BAG3 Conflicting_interpretations_of_pathogenicity ref:G alt:A\n",
      "ENST00000369085.7 BAG3 Conflicting_interpretations_of_pathogenicity ref:G alt:A\n",
      "ENST00000369085.7 BAG3 Conflicting_interpretations_of_pathogenicity ref:C alt:T\n",
      "ENST00000322344.7 PNKP Conflicting_interpretations_of_pathogenicity ref:A alt:G\n",
      "ENST00000371335.4 LAMP2 Conflicting_interpretations_of_pathogenicity ref:C alt:G\n",
      "ENST00000371335.4 LAMP2 Conflicting_interpretations_of_pathogenicity ref:G alt:A\n"
     ]
    }
   ],
   "source": [
    "for el in res_ext.to_numpy():\n",
    "    info = el[-2]\n",
    "    tr_id = el[3]\n",
    "    if info.find('CLNSIG=') != -1:\n",
    "        Cl_sign = info.split('CLNSIG=')[1].split(';')[0]\n",
    "        \n",
    "        if (Cl_sign.find('Pathogenic') != -1) | (Cl_sign.find('pathogen') != -1):\n",
    "            print (tr_id, RiboSET[RiboSET['tr_id'] == tr_id].iloc[0].gene, Cl_sign, info.split(';')[0], info.split(';')[1])"
   ]
  },
  {
   "cell_type": "code",
   "execution_count": 53,
   "metadata": {},
   "outputs": [
    {
     "ename": "SyntaxError",
     "evalue": "invalid syntax (<ipython-input-53-20c73fa68843>, line 1)",
     "output_type": "error",
     "traceback": [
      "\u001b[0;36m  File \u001b[0;32m\"<ipython-input-53-20c73fa68843>\"\u001b[0;36m, line \u001b[0;32m1\u001b[0m\n\u001b[0;31m    PCSK9 (2 SNPs), SLC19A2 (2 SNPs), HSPB1 (2 SNPs), BAG3 (3 SNPs), PNKP (1 SNP), LAMP2 (2 SNPs)\u001b[0m\n\u001b[0m                ^\u001b[0m\n\u001b[0;31mSyntaxError\u001b[0m\u001b[0;31m:\u001b[0m invalid syntax\n"
     ]
    }
   ],
   "source": [
    "PCSK9 (2 SNPs), SLC19A2 (2 SNPs), HSPB1 (2 SNPs), BAG3 (3 SNPs), PNKP (1 SNP), LAMP2 (2 SNPs)\n",
    "\n",
    "SOX2 (deletion of 56nt), DHFR (1 SNP, 1 deletion of 1nt)"
   ]
  },
  {
   "cell_type": "code",
   "execution_count": null,
   "metadata": {},
   "outputs": [],
   "source": [
    "len('GGCCGGGCCCGCGCACAGCGCCCGCATGTACAACATGATGGAGACGGAGCTGAAGCC')"
   ]
  },
  {
   "cell_type": "raw",
   "metadata": {},
   "source": [
    "PCSK9 - 2 variations with Conflicting_interpretations_of_pathogenicity\n",
    "SLC19A2 - 2 variations with Conflicting_interpretations_of_pathogenicity\n",
    "HSPB1 - 2 variations with Conflicting_interpretations_of_pathogenicity\n",
    "LAMP2 - 2 variations with Conflicting_interpretations_of_pathogenicity\n",
    "BAG3 - 3 variations with Conflicting_interpretations_of_pathogenicity\n",
    "PNKP - 1 variation with Conflicting_interpretations_of_pathogenicity\n",
    "\n",
    "DHFR - 2 pathogenic variations \n",
    "SOX2 - 1 pathogenic variation "
   ]
  },
  {
   "cell_type": "code",
   "execution_count": null,
   "metadata": {},
   "outputs": [],
   "source": [
    "res_ext[(res_ext['tr_id'] == 'ENST00000369085.7') & (res_ext['ann_var'].str.contains('pathogen'))].iloc[2]"
   ]
  },
  {
   "cell_type": "code",
   "execution_count": null,
   "metadata": {},
   "outputs": [],
   "source": []
  },
  {
   "cell_type": "code",
   "execution_count": null,
   "metadata": {},
   "outputs": [],
   "source": []
  },
  {
   "cell_type": "markdown",
   "metadata": {},
   "source": [
    "# Check whether variants impact Kozak context or create ATG or disrupt STOp etc"
   ]
  },
  {
   "cell_type": "markdown",
   "metadata": {},
   "source": [
    "## SOX2: pathogenic variant, large deletion "
   ]
  },
  {
   "cell_type": "code",
   "execution_count": null,
   "metadata": {},
   "outputs": [],
   "source": [
    "print (RiboSET_coo[RiboSET_coo['gene'] == 'SOX2'].iloc[0].Riboseq_Summary)\n",
    "\n",
    "print (RiboSET_coo[RiboSET_coo['gene'] == 'SOX2'].iloc[0].global_coo_start_codon)\n",
    "\n",
    "print (RiboSET_coo[RiboSET_coo['gene'] == 'SOX2'].iloc[0].global_coo_ext)\n",
    "\n",
    "print ('del start: chr3:181712336')\n",
    "\n",
    "# this del probably cut part of potential extension\n",
    "# "
   ]
  },
  {
   "cell_type": "code",
   "execution_count": null,
   "metadata": {},
   "outputs": [],
   "source": [
    "res_ext[(res_ext['tr_id'] == 'ENST00000325404.2')].iloc[1].ann_var"
   ]
  },
  {
   "cell_type": "code",
   "execution_count": null,
   "metadata": {},
   "outputs": [],
   "source": [
    "len('GGCCGGGCCCGCGCACAGCGCCCGCATGTACAACATGATGGAGACGGAGCTGAAGCC')\n",
    "\n",
    "# 57nt -> 1nt, let's check sequences "
   ]
  },
  {
   "cell_type": "code",
   "execution_count": null,
   "metadata": {},
   "outputs": [],
   "source": []
  },
  {
   "cell_type": "code",
   "execution_count": null,
   "metadata": {},
   "outputs": [],
   "source": [
    "tr_seq = metadata_pc_g25[metadata_pc_g25['tr_id'] == 'ENST00000325404.2'].iloc[0].transcript_seq\n",
    "\n",
    "N_term_start1 = RiboSET_coo[RiboSET_coo['gene'] == 'SOX2'].iloc[0].start_codon_local_coo_start-1\n",
    "\n",
    "N_term_end1 = RiboSET_coo[RiboSET_coo['gene'] == 'SOX2'].iloc[0].N_term_end1 \n",
    "\n",
    "ext_seq = tr_seq[N_term_start1:N_term_end1+3]\n",
    "\n",
    "print (len(ext_seq) % 3)\n",
    "\n",
    "ext_seq"
   ]
  },
  {
   "cell_type": "code",
   "execution_count": null,
   "metadata": {},
   "outputs": [],
   "source": [
    "ext_seq.find('G GCC GGG CCC GCG CAC AGC GCC CGC ATG TAC AAC ATG ATG GAG ACG GAG CTG AAG CC')"
   ]
  },
  {
   "cell_type": "markdown",
   "metadata": {},
   "source": [
    "deletion in SOX2 affect 3' part of the predicted extension (8 codons) and 5'part of CDS (11 codons) \n",
    "thus completely removing cdsATG. The absence of this protein leads to a \n",
    "Anophthalmia/microphthalmia esophageal atresia syndrome which is a rare disorder characterized by \n",
    "abnormal development of the eyes and other parts of the body.\n"
   ]
  },
  {
   "cell_type": "code",
   "execution_count": null,
   "metadata": {},
   "outputs": [],
   "source": []
  },
  {
   "cell_type": "code",
   "execution_count": null,
   "metadata": {},
   "outputs": [],
   "source": []
  },
  {
   "cell_type": "code",
   "execution_count": null,
   "metadata": {},
   "outputs": [],
   "source": []
  },
  {
   "cell_type": "markdown",
   "metadata": {},
   "source": [
    "## BAG3: 3 variants "
   ]
  },
  {
   "cell_type": "code",
   "execution_count": null,
   "metadata": {},
   "outputs": [],
   "source": [
    "gene = 'BAG3'\n",
    "tr_id = RiboSET_coo[RiboSET_coo['gene'] == gene].iloc[0].tr_id\n"
   ]
  },
  {
   "cell_type": "code",
   "execution_count": null,
   "metadata": {},
   "outputs": [],
   "source": [
    "print (RiboSET_coo[RiboSET_coo['gene'] == gene].iloc[0].Riboseq_Summary)\n",
    "print ()\n",
    "\n",
    "print ('start codon coo', RiboSET_coo[RiboSET_coo['gene'] == gene].iloc[0].global_coo_start_codon)\n",
    "print ()\n",
    "\n",
    "print ('ext coo', RiboSET_coo[RiboSET_coo['gene'] == gene].iloc[0].global_coo_ext)\n",
    "\n",
    "print ()\n",
    "print (RiboSET_coo[RiboSET_coo['gene'] == gene].iloc[0].Riboseq_Summary)"
   ]
  },
  {
   "cell_type": "code",
   "execution_count": null,
   "metadata": {},
   "outputs": [],
   "source": [
    "res_ext[(res_ext['tr_id'] == tr_id) & (res_ext['ann_var'].str.contains('Conflicting_interpretations_of_pathogenicity'))]"
   ]
  },
  {
   "cell_type": "raw",
   "metadata": {},
   "source": [
    "chr10:119651415    chr10:119651658; G->A  chr10:119651659 G->A  chr10:119651672 C->T    chr10:119651675\n",
    "    start               var1                       var2                var3                 end"
   ]
  },
  {
   "cell_type": "code",
   "execution_count": null,
   "metadata": {},
   "outputs": [],
   "source": [
    "119651658-119651415, 119651675-119651658, G->A"
   ]
  },
  {
   "cell_type": "code",
   "execution_count": null,
   "metadata": {},
   "outputs": [],
   "source": [
    "119651659-119651415, 119651675-119651659, G->A"
   ]
  },
  {
   "cell_type": "code",
   "execution_count": null,
   "metadata": {},
   "outputs": [],
   "source": [
    "119651672-119651415, 119651675-119651672, C->T"
   ]
  },
  {
   "cell_type": "code",
   "execution_count": null,
   "metadata": {},
   "outputs": [],
   "source": [
    "tr_seq = metadata_pc_g25[metadata_pc_g25['tr_id'] == tr_id].iloc[0].transcript_seq\n",
    "\n",
    "N_term_start1 = RiboSET_coo[RiboSET_coo['gene'] == gene].iloc[0].start_codon_local_coo_start-1\n",
    "\n",
    "N_term_end1 = RiboSET_coo[RiboSET_coo['gene'] == gene].iloc[0].N_term_end1 \n",
    "\n",
    "ext_seq = tr_seq[N_term_start1:N_term_end1+3]\n",
    "\n",
    "print (len(ext_seq) % 3)\n",
    "\n",
    "print ()\n",
    "\n",
    "ext_seq"
   ]
  },
  {
   "cell_type": "code",
   "execution_count": null,
   "metadata": {},
   "outputs": [],
   "source": [
    "ext_seq[242:]   #243, G->A"
   ]
  },
  {
   "cell_type": "code",
   "execution_count": null,
   "metadata": {},
   "outputs": [],
   "source": [
    "ext_seq[243:]   #244, G->A ????\n"
   ]
  },
  {
   "cell_type": "code",
   "execution_count": null,
   "metadata": {},
   "outputs": [],
   "source": [
    "ext_seq[256:]  #C-> T"
   ]
  },
  {
   "cell_type": "markdown",
   "metadata": {},
   "source": [
    "CTGGACCAGAAGTTTCTAGCCGGCCAGTTGCTACCTCCCTTTATCTCCTCCTTCCCCTCTGGCAGCGAGGAGGCTATTTCCAGACACTTCCACCCCTCTCTGGCCACGTCACCCCCGCCTTTAATTCATAAAGGTGCCCGGCGCCGGCTTCCCGGACACGTCGGCGGCGGAGAGGGGCCCACGGCGGCGGCCCGGCCAGAGACTCGGCGCCCGGAGCCAGCGCCCCGCACC CGC GCC CCA GCG GGC AGA CCC CAA CCC AGC ATG\n",
    "                    **                    *  \n",
    "                    AA                    T  \n",
    "                    \n",
    "                GCG AGC AGA         CCC AGT ATG\n",
    "                    \n",
    "                GCG GAC AGA"
   ]
  },
  {
   "cell_type": "code",
   "execution_count": null,
   "metadata": {},
   "outputs": [],
   "source": [
    "all 3 SNPs in predicted extension of BAG3 gene do not create new AUGs or STOPs in any frames. "
   ]
  },
  {
   "cell_type": "code",
   "execution_count": null,
   "metadata": {},
   "outputs": [],
   "source": [
    "(chr10:119651658, G->A),  GGC -> AGC (Gly->Ser)\n",
    "(chr10:119651659, G->A), GGC -> GAC  (Gly->Asp) ??\n",
    "(chr10:119651672, C->T), AGC -> AGT  (Ser->Ser)"
   ]
  },
  {
   "cell_type": "code",
   "execution_count": null,
   "metadata": {},
   "outputs": [],
   "source": [
    "; G->A   G->A   C->T"
   ]
  },
  {
   "cell_type": "code",
   "execution_count": null,
   "metadata": {},
   "outputs": [],
   "source": []
  },
  {
   "cell_type": "markdown",
   "metadata": {},
   "source": [
    "## PCSK9 - 2 variations with Conflicting_interpretations_of_pathogenicity"
   ]
  },
  {
   "cell_type": "code",
   "execution_count": null,
   "metadata": {},
   "outputs": [],
   "source": [
    "gene = 'PCSK9'\n",
    "tr_id = RiboSET_coo[RiboSET_coo['gene'] == gene].iloc[0].tr_id\n",
    "\n",
    "print (RiboSET_coo[RiboSET_coo['gene'] == gene].iloc[0].Riboseq_Summary)\n",
    "print ()\n",
    "\n",
    "print ('start codon coo', RiboSET_coo[RiboSET_coo['gene'] == gene].iloc[0].global_coo_start_codon)\n",
    "print ()\n",
    "\n",
    "print ('ext coo', RiboSET_coo[RiboSET_coo['gene'] == gene].iloc[0].global_coo_ext)\n",
    "\n",
    "print ()\n",
    "print (RiboSET_coo[RiboSET_coo['gene'] == gene].iloc[0].Riboseq_Summary) \n",
    "\n",
    "print ()\n",
    "print (tr_id)"
   ]
  },
  {
   "cell_type": "code",
   "execution_count": null,
   "metadata": {},
   "outputs": [],
   "source": [
    "res_ext[(res_ext['tr_id'] == tr_id) & (res_ext['ann_var'].str.contains('Conflicting_interpretations_of_pathogenicity'))]"
   ]
  },
  {
   "cell_type": "raw",
   "metadata": {},
   "source": [
    "chr1:55039628 chr1:55039698  chr1:55039830  chr1:55039837\n",
    "    start         C->T           T->C           stop"
   ]
  },
  {
   "cell_type": "code",
   "execution_count": null,
   "metadata": {},
   "outputs": [],
   "source": [
    "tr_seq = metadata_pc_g25[metadata_pc_g25['tr_id'] == tr_id].iloc[0].transcript_seq\n",
    "\n",
    "N_term_start1 = RiboSET_coo[RiboSET_coo['gene'] == gene].iloc[0].start_codon_local_coo_start-1\n",
    "\n",
    "N_term_end1 = RiboSET_coo[RiboSET_coo['gene'] == gene].iloc[0].N_term_end1 \n",
    "\n",
    "ext_seq = tr_seq[N_term_start1:N_term_end1+3]\n",
    "\n",
    "print (len(ext_seq) % 3)\n",
    "\n",
    "print ()\n",
    "\n",
    "ext_seq"
   ]
  },
  {
   "cell_type": "markdown",
   "metadata": {},
   "source": [
    "GTG AGA CTG GCT CGG GCG GGC CGG GAC GCG TCG TTG CAG CAG CGG CTC CCA GCT CCC AGC CAG GAT TCC GCG CGC CCC TTC ACG\n",
    "                                                                                             T\n",
    "                                                                                        TCC GTG CGC\n",
    "                                                                                         \n",
    "\n",
    "CGC CCT GCT CCT GAA CTT CAG CTC CTG CAC AGT CCT CCC CAC CGC AAG GCT CAA GGC GCC GCC GGC GTG GAC CGC GCA CGG CCT CTA GGT CTC CTC GCC AGG ACA GCA ACC TCT CCC CTG GCC CTC ATG\n",
    "                                             C\n",
    "                                        CCC CCG GCC"
   ]
  },
  {
   "cell_type": "markdown",
   "metadata": {},
   "source": [
    "One variant (chr1:55039698; C->T) in PCSK9 gene changes extension codon GCG to GTG (Ala -> Val) while another one (chr1:55039830) changes CTG to CCG (Leu -> Pro). "
   ]
  },
  {
   "cell_type": "code",
   "execution_count": null,
   "metadata": {},
   "outputs": [],
   "source": [
    "no peak in ribo-seq at these positions \n",
    "\n",
    "change aa? "
   ]
  },
  {
   "cell_type": "code",
   "execution_count": null,
   "metadata": {},
   "outputs": [],
   "source": []
  },
  {
   "cell_type": "code",
   "execution_count": null,
   "metadata": {},
   "outputs": [],
   "source": []
  },
  {
   "cell_type": "code",
   "execution_count": null,
   "metadata": {},
   "outputs": [],
   "source": []
  },
  {
   "cell_type": "markdown",
   "metadata": {},
   "source": [
    "## SLC19A2 - 2 variations with Conflicting_interpretations_of_pathogenicity"
   ]
  },
  {
   "cell_type": "code",
   "execution_count": null,
   "metadata": {},
   "outputs": [],
   "source": [
    "gene = 'SLC19A2'\n",
    "tr_id = RiboSET_coo[RiboSET_coo['gene'] == gene].iloc[0].tr_id\n",
    "\n",
    "print (RiboSET_coo[RiboSET_coo['gene'] == gene].iloc[0].Riboseq_Summary)\n",
    "print ()\n",
    "\n",
    "print ('start codon coo', RiboSET_coo[RiboSET_coo['gene'] == gene].iloc[0].global_coo_start_codon)\n",
    "print ()\n",
    "\n",
    "print ('ext coo', RiboSET_coo[RiboSET_coo['gene'] == gene].iloc[0].global_coo_ext)\n",
    "\n",
    "print ()\n",
    "print (RiboSET_coo[RiboSET_coo['gene'] == gene].iloc[0].Riboseq_Summary) \n",
    "\n",
    "print ()\n",
    "print (tr_id)"
   ]
  },
  {
   "cell_type": "code",
   "execution_count": null,
   "metadata": {},
   "outputs": [],
   "source": [
    "res_ext[(res_ext['tr_id'] == tr_id) & (res_ext['ann_var'].str.contains('Conflicting_interpretations_of_pathogenicity'))]"
   ]
  },
  {
   "cell_type": "code",
   "execution_count": null,
   "metadata": {},
   "outputs": [],
   "source": [
    "SLC19A2 has 1 variant. \n",
    "\n",
    "(chr1:169485778, G->C which is on '-' strand, so on in mRNA it is C->G), CTC->GTC, Leu->Val"
   ]
  },
  {
   "cell_type": "code",
   "execution_count": null,
   "metadata": {},
   "outputs": [],
   "source": [
    "tr_seq = metadata_pc_g25[metadata_pc_g25['tr_id'] == tr_id].iloc[0].transcript_seq\n",
    "\n",
    "N_term_start1 = RiboSET_coo[RiboSET_coo['gene'] == gene].iloc[0].start_codon_local_coo_start-1\n",
    "\n",
    "N_term_end1 = RiboSET_coo[RiboSET_coo['gene'] == gene].iloc[0].N_term_end1 \n",
    "\n",
    "ext_seq = tr_seq[N_term_start1:N_term_end1+3]\n",
    "\n",
    "print (len(ext_seq) % 3)\n",
    "\n",
    "print ()\n",
    "\n",
    "ext_seq"
   ]
  },
  {
   "cell_type": "markdown",
   "metadata": {},
   "source": [
    "CTG GCC TTA CAG GGA GAA GGC GTC ACT CGC GGT TAC AAG TGC CTG ACC CTC ACT CCA GTT GGC GGA GGA GGA GAA GGA AGG GGC \n",
    "T\n",
    "TTG\n",
    "\n",
    "\n",
    "CGG GCC GGG TCC CCT CCC CTC GCG CCC CGG ATG\n",
    "                        G\n",
    "                    CCC GTC GCG"
   ]
  },
  {
   "cell_type": "code",
   "execution_count": null,
   "metadata": {},
   "outputs": [],
   "source": []
  },
  {
   "cell_type": "code",
   "execution_count": null,
   "metadata": {},
   "outputs": [],
   "source": []
  },
  {
   "cell_type": "code",
   "execution_count": null,
   "metadata": {},
   "outputs": [],
   "source": []
  },
  {
   "cell_type": "code",
   "execution_count": null,
   "metadata": {},
   "outputs": [],
   "source": []
  },
  {
   "cell_type": "code",
   "execution_count": null,
   "metadata": {},
   "outputs": [],
   "source": []
  },
  {
   "cell_type": "markdown",
   "metadata": {},
   "source": [
    "## HSPB1 - 2 variations with Conflicting_interpretations_of_pathogenicity"
   ]
  },
  {
   "cell_type": "code",
   "execution_count": null,
   "metadata": {},
   "outputs": [],
   "source": [
    "gene = 'HSPB1'\n",
    "tr_id = RiboSET_coo[RiboSET_coo['gene'] == gene].iloc[0].tr_id\n",
    "\n",
    "print (RiboSET_coo[RiboSET_coo['gene'] == gene].iloc[0].Riboseq_Summary)\n",
    "print ()\n",
    "\n",
    "print ('start codon coo', RiboSET_coo[RiboSET_coo['gene'] == gene].iloc[0].global_coo_start_codon)\n",
    "print ()\n",
    "\n",
    "print ('ext coo', RiboSET_coo[RiboSET_coo['gene'] == gene].iloc[0].global_coo_ext)\n",
    "\n",
    "print ()\n",
    "print (RiboSET_coo[RiboSET_coo['gene'] == gene].iloc[0].Riboseq_Summary) \n",
    "\n",
    "print ()\n",
    "print (tr_id)"
   ]
  },
  {
   "cell_type": "code",
   "execution_count": null,
   "metadata": {},
   "outputs": [],
   "source": [
    "res_ext[(res_ext['tr_id'] == tr_id) & (res_ext['ann_var'].str.contains('Conflicting_interpretations_of_pathogenicity'))]"
   ]
  },
  {
   "cell_type": "code",
   "execution_count": null,
   "metadata": {},
   "outputs": [],
   "source": [
    "tr_seq = metadata_pc_g25[metadata_pc_g25['tr_id'] == tr_id].iloc[0].transcript_seq\n",
    "\n",
    "N_term_start1 = RiboSET_coo[RiboSET_coo['gene'] == gene].iloc[0].start_codon_local_coo_start-1\n",
    "\n",
    "N_term_end1 = RiboSET_coo[RiboSET_coo['gene'] == gene].iloc[0].N_term_end1 \n",
    "\n",
    "ext_seq = tr_seq[N_term_start1:N_term_end1+3]\n",
    "\n",
    "print (len(ext_seq) % 3)\n",
    "\n",
    "print ()\n",
    "\n",
    "ext_seq"
   ]
  },
  {
   "cell_type": "markdown",
   "metadata": {},
   "source": [
    "CTG GAG GAG CAT AAA AGC GCA GCC GAG CCC AGC GCC CCG CAC TTT TCT GAG CAG ACG TCC AGA GCA GAG TCA GCC AGC ATG\n",
    "                                                                                    A             T\n",
    "                                                                                    ACA         GCT"
   ]
  },
  {
   "cell_type": "code",
   "execution_count": null,
   "metadata": {},
   "outputs": [],
   "source": [
    "chr7:76302698, G->A, GCA->ACA (Ala->Thr)\n",
    "chr7:76302709, C->T, GCC->GCT (Ala->Ala), it creates out-of-frame stop codon (UAG), \n",
    "    however, no corresponding AUG (or CUG) is in sequence already. "
   ]
  },
  {
   "cell_type": "code",
   "execution_count": null,
   "metadata": {},
   "outputs": [],
   "source": [
    "s = 'CTGGAGGAGCATAAAAGCGCAGCCGAGCCCAGCGCCCCGCACTTTT CTG AGC AGA CGT CCA GAG CAG AGT CAG CTA GCATG'\n",
    "\n",
    "s.find('CTG')\n",
    "                              "
   ]
  },
  {
   "cell_type": "code",
   "execution_count": null,
   "metadata": {},
   "outputs": [],
   "source": [
    "s[78:]"
   ]
  },
  {
   "cell_type": "code",
   "execution_count": null,
   "metadata": {},
   "outputs": [],
   "source": []
  },
  {
   "cell_type": "code",
   "execution_count": null,
   "metadata": {},
   "outputs": [],
   "source": []
  },
  {
   "cell_type": "markdown",
   "metadata": {},
   "source": [
    "## LAMP2 - 2 variations with Conflicting_interpretations_of_pathogenicity"
   ]
  },
  {
   "cell_type": "code",
   "execution_count": null,
   "metadata": {},
   "outputs": [],
   "source": [
    "gene = 'LAMP2'\n",
    "tr_id = RiboSET_coo[RiboSET_coo['gene'] == gene].iloc[0].tr_id\n",
    "\n",
    "print (RiboSET_coo[RiboSET_coo['gene'] == gene].iloc[0].Riboseq_Summary)\n",
    "print ()\n",
    "\n",
    "print ('start codon coo', RiboSET_coo[RiboSET_coo['gene'] == gene].iloc[0].global_coo_start_codon)\n",
    "print ()\n",
    "\n",
    "print ('ext coo', RiboSET_coo[RiboSET_coo['gene'] == gene].iloc[0].global_coo_ext)\n",
    "\n",
    "print ()\n",
    "print (RiboSET_coo[RiboSET_coo['gene'] == gene].iloc[0].Riboseq_Summary) \n",
    "\n",
    "print ()\n",
    "print (tr_id)"
   ]
  },
  {
   "cell_type": "code",
   "execution_count": null,
   "metadata": {},
   "outputs": [],
   "source": [
    "res_ext[(res_ext['tr_id'] == tr_id) & (res_ext['ann_var'].str.contains('Conflicting_interpretations_of_pathogenicity'))]"
   ]
  },
  {
   "cell_type": "code",
   "execution_count": null,
   "metadata": {},
   "outputs": [],
   "source": [
    "tr_seq = metadata_pc_g25[metadata_pc_g25['tr_id'] == tr_id].iloc[0].transcript_seq\n",
    "\n",
    "N_term_start1 = RiboSET_coo[RiboSET_coo['gene'] == gene].iloc[0].start_codon_local_coo_start-1\n",
    "\n",
    "N_term_end1 = RiboSET_coo[RiboSET_coo['gene'] == gene].iloc[0].N_term_end1 \n",
    "\n",
    "ext_seq = tr_seq[N_term_start1:N_term_end1+3]\n",
    "\n",
    "print (len(ext_seq) % 3)\n",
    "\n",
    "print ()\n",
    "\n",
    "ext_seq"
   ]
  },
  {
   "cell_type": "code",
   "execution_count": null,
   "metadata": {},
   "outputs": [],
   "source": [
    "chrX:120469173, C->G or G->C on mRNA; GGG->GGC (Gly->Gly)\n",
    "    \n",
    "chrX:120469179, G->A or C->T on mRNA; CTC->CTT (Leu->Leu)"
   ]
  },
  {
   "cell_type": "code",
   "execution_count": null,
   "metadata": {},
   "outputs": [],
   "source": [
    "GTG TTG CAG CTG TTG TTG TAC CGC CGC CGT CGC CGC CGT CGC CGC CTG CTC TGC GGG GTC ATG\n",
    "                                                                  T   T   C"
   ]
  },
  {
   "cell_type": "code",
   "execution_count": null,
   "metadata": {},
   "outputs": [],
   "source": [
    "there is another one\n",
    "\n",
    "\n",
    "chrX:120469176, C->T or G->A on mRNA; TGC->TGT (Cys->Cys)"
   ]
  },
  {
   "cell_type": "code",
   "execution_count": null,
   "metadata": {},
   "outputs": [],
   "source": []
  },
  {
   "cell_type": "code",
   "execution_count": null,
   "metadata": {},
   "outputs": [],
   "source": []
  },
  {
   "cell_type": "markdown",
   "metadata": {},
   "source": [
    "## PNKP - 1 variation with Conflicting_interpretations_of_pathogenicity"
   ]
  },
  {
   "cell_type": "code",
   "execution_count": null,
   "metadata": {},
   "outputs": [],
   "source": [
    "gene = 'PNKP'\n",
    "tr_id = RiboSET_coo[RiboSET_coo['gene'] == gene].iloc[0].tr_id\n",
    "\n",
    "print (RiboSET_coo[RiboSET_coo['gene'] == gene].iloc[0].Riboseq_Summary)\n",
    "print ()\n",
    "\n",
    "print ('start codon coo', RiboSET_coo[RiboSET_coo['gene'] == gene].iloc[0].global_coo_start_codon)\n",
    "print ()\n",
    "\n",
    "print ('ext coo', RiboSET_coo[RiboSET_coo['gene'] == gene].iloc[0].global_coo_ext)\n",
    "\n",
    "print ()\n",
    "print (RiboSET_coo[RiboSET_coo['gene'] == gene].iloc[0].Riboseq_Summary) \n",
    "\n",
    "print ()\n",
    "print (tr_id)"
   ]
  },
  {
   "cell_type": "code",
   "execution_count": null,
   "metadata": {},
   "outputs": [],
   "source": [
    "res_ext[(res_ext['tr_id'] == tr_id) & (res_ext['ann_var'].str.contains('Conflicting_interpretations_of_pathogenicity'))]"
   ]
  },
  {
   "cell_type": "code",
   "execution_count": null,
   "metadata": {},
   "outputs": [],
   "source": [
    "tr_seq = metadata_pc_g25[metadata_pc_g25['tr_id'] == tr_id].iloc[0].transcript_seq\n",
    "\n",
    "N_term_start1 = RiboSET_coo[RiboSET_coo['gene'] == gene].iloc[0].start_codon_local_coo_start-1\n",
    "\n",
    "N_term_end1 = RiboSET_coo[RiboSET_coo['gene'] == gene].iloc[0].N_term_end1 \n",
    "\n",
    "ext_seq = tr_seq[N_term_start1:N_term_end1+3]\n",
    "\n",
    "print (len(ext_seq) % 3)\n",
    "\n",
    "print ()\n",
    "\n",
    "ext_seq"
   ]
  },
  {
   "cell_type": "code",
   "execution_count": null,
   "metadata": {},
   "outputs": [],
   "source": [
    "GTG GCC GTG AGC CCA AGC CGC GGT CCC GGG CCG GCA CCC AGG ATG\n",
    "         C\n",
    "        GCG"
   ]
  },
  {
   "cell_type": "code",
   "execution_count": null,
   "metadata": {},
   "outputs": [],
   "source": [
    "chr19:49867490, A->G, GTG->GCG (Val->Ala), which disrupt out-of-frame stop codon (UGA->CGA), no corresponding uORFs to it. "
   ]
  },
  {
   "cell_type": "code",
   "execution_count": null,
   "metadata": {},
   "outputs": [],
   "source": []
  },
  {
   "cell_type": "code",
   "execution_count": null,
   "metadata": {},
   "outputs": [],
   "source": []
  },
  {
   "cell_type": "code",
   "execution_count": null,
   "metadata": {},
   "outputs": [],
   "source": []
  },
  {
   "cell_type": "markdown",
   "metadata": {},
   "source": [
    "# dbSNP "
   ]
  },
  {
   "cell_type": "code",
   "execution_count": null,
   "metadata": {},
   "outputs": [],
   "source": []
  },
  {
   "cell_type": "code",
   "execution_count": null,
   "metadata": {},
   "outputs": [],
   "source": []
  },
  {
   "cell_type": "code",
   "execution_count": null,
   "metadata": {},
   "outputs": [],
   "source": []
  },
  {
   "cell_type": "code",
   "execution_count": null,
   "metadata": {},
   "outputs": [],
   "source": []
  },
  {
   "cell_type": "markdown",
   "metadata": {},
   "source": [
    "# Cancer implicated genes from COSMIC "
   ]
  },
  {
   "cell_type": "code",
   "execution_count": 54,
   "metadata": {},
   "outputs": [
    {
     "name": "stdout",
     "output_type": "stream",
     "text": [
      "data/Census_cancer_implicated_genes.csv\r\n"
     ]
    }
   ],
   "source": [
    "!ls data/Census_cancer_implicated_genes.csv"
   ]
  },
  {
   "cell_type": "code",
   "execution_count": 55,
   "metadata": {},
   "outputs": [
    {
     "data": {
      "text/html": [
       "<div>\n",
       "<style scoped>\n",
       "    .dataframe tbody tr th:only-of-type {\n",
       "        vertical-align: middle;\n",
       "    }\n",
       "\n",
       "    .dataframe tbody tr th {\n",
       "        vertical-align: top;\n",
       "    }\n",
       "\n",
       "    .dataframe thead th {\n",
       "        text-align: right;\n",
       "    }\n",
       "</style>\n",
       "<table border=\"1\" class=\"dataframe\">\n",
       "  <thead>\n",
       "    <tr style=\"text-align: right;\">\n",
       "      <th></th>\n",
       "      <th>Gene Symbol</th>\n",
       "      <th>Name</th>\n",
       "      <th>Entrez GeneId</th>\n",
       "      <th>Genome Location</th>\n",
       "      <th>Tier</th>\n",
       "      <th>Hallmark</th>\n",
       "      <th>Chr Band</th>\n",
       "      <th>Somatic</th>\n",
       "      <th>Germline</th>\n",
       "      <th>Tumour Types(Somatic)</th>\n",
       "      <th>Tumour Types(Germline)</th>\n",
       "      <th>Cancer Syndrome</th>\n",
       "      <th>Tissue Type</th>\n",
       "      <th>Molecular Genetics</th>\n",
       "      <th>Role in Cancer</th>\n",
       "      <th>Mutation Types</th>\n",
       "      <th>Translocation Partner</th>\n",
       "      <th>Other Germline Mut</th>\n",
       "      <th>Other Syndrome</th>\n",
       "      <th>Synonyms</th>\n",
       "    </tr>\n",
       "  </thead>\n",
       "  <tbody>\n",
       "    <tr>\n",
       "      <th>0</th>\n",
       "      <td>A1CF</td>\n",
       "      <td>APOBEC1 complementation factor</td>\n",
       "      <td>29974.0</td>\n",
       "      <td>10:50799421-50885675</td>\n",
       "      <td>2</td>\n",
       "      <td>NaN</td>\n",
       "      <td>11.23</td>\n",
       "      <td>yes</td>\n",
       "      <td>NaN</td>\n",
       "      <td>melanoma</td>\n",
       "      <td>NaN</td>\n",
       "      <td>NaN</td>\n",
       "      <td>E</td>\n",
       "      <td>NaN</td>\n",
       "      <td>oncogene</td>\n",
       "      <td>Mis</td>\n",
       "      <td>NaN</td>\n",
       "      <td>NaN</td>\n",
       "      <td>NaN</td>\n",
       "      <td>29974,A1CF,ACF,ACF64,ACF65,APOBEC1CF,ASP,ENSG0...</td>\n",
       "    </tr>\n",
       "    <tr>\n",
       "      <th>1</th>\n",
       "      <td>ABI1</td>\n",
       "      <td>abl-interactor 1</td>\n",
       "      <td>10006.0</td>\n",
       "      <td>10:26746593-26860935</td>\n",
       "      <td>1</td>\n",
       "      <td>Yes</td>\n",
       "      <td>12.10</td>\n",
       "      <td>yes</td>\n",
       "      <td>NaN</td>\n",
       "      <td>AML</td>\n",
       "      <td>NaN</td>\n",
       "      <td>NaN</td>\n",
       "      <td>L</td>\n",
       "      <td>Dom</td>\n",
       "      <td>TSG, fusion</td>\n",
       "      <td>T</td>\n",
       "      <td>KMT2A</td>\n",
       "      <td>NaN</td>\n",
       "      <td>NaN</td>\n",
       "      <td>10006,ABI-1,ABI1,E3B1,ENSG00000136754.17,Q8IZP...</td>\n",
       "    </tr>\n",
       "  </tbody>\n",
       "</table>\n",
       "</div>"
      ],
      "text/plain": [
       "  Gene Symbol                            Name  Entrez GeneId  \\\n",
       "0        A1CF  APOBEC1 complementation factor        29974.0   \n",
       "1        ABI1                abl-interactor 1        10006.0   \n",
       "\n",
       "        Genome Location  Tier Hallmark  Chr Band Somatic Germline  \\\n",
       "0  10:50799421-50885675     2      NaN     11.23     yes      NaN   \n",
       "1  10:26746593-26860935     1      Yes     12.10     yes      NaN   \n",
       "\n",
       "  Tumour Types(Somatic) Tumour Types(Germline) Cancer Syndrome Tissue Type  \\\n",
       "0              melanoma                    NaN             NaN           E   \n",
       "1                   AML                    NaN             NaN           L   \n",
       "\n",
       "  Molecular Genetics Role in Cancer Mutation Types Translocation Partner  \\\n",
       "0                NaN       oncogene            Mis                   NaN   \n",
       "1                Dom    TSG, fusion              T                 KMT2A   \n",
       "\n",
       "  Other Germline Mut Other Syndrome  \\\n",
       "0                NaN            NaN   \n",
       "1                NaN            NaN   \n",
       "\n",
       "                                            Synonyms  \n",
       "0  29974,A1CF,ACF,ACF64,ACF65,APOBEC1CF,ASP,ENSG0...  \n",
       "1  10006,ABI-1,ABI1,E3B1,ENSG00000136754.17,Q8IZP...  "
      ]
     },
     "execution_count": 55,
     "metadata": {},
     "output_type": "execute_result"
    }
   ],
   "source": [
    "cosmic = pd.read_csv('data/Census_cancer_implicated_genes.csv', sep='\\t')\n",
    "cosmic[0:2]"
   ]
  },
  {
   "cell_type": "code",
   "execution_count": 56,
   "metadata": {},
   "outputs": [
    {
     "data": {
      "text/plain": [
       "723"
      ]
     },
     "execution_count": 56,
     "metadata": {},
     "output_type": "execute_result"
    }
   ],
   "source": [
    "cosmic['Gene Symbol'].nunique()"
   ]
  },
  {
   "cell_type": "code",
   "execution_count": 57,
   "metadata": {},
   "outputs": [],
   "source": [
    "cosmic_explode = cosmic.assign(Synonyms=cosmic['Synonyms'].str.split(',')).explode('Synonyms')"
   ]
  },
  {
   "cell_type": "code",
   "execution_count": 58,
   "metadata": {},
   "outputs": [
    {
     "data": {
      "text/plain": [
       "(713, 723)"
      ]
     },
     "execution_count": 58,
     "metadata": {},
     "output_type": "execute_result"
    }
   ],
   "source": [
    "cosmic_explode[cosmic_explode['Gene Symbol'] == cosmic_explode['Synonyms']].shape[0], cosmic.shape[0]"
   ]
  },
  {
   "cell_type": "code",
   "execution_count": 59,
   "metadata": {},
   "outputs": [
    {
     "data": {
      "text/plain": [
       "{'DUX4L1',\n",
       " 'HMGN2P46',\n",
       " 'IGH',\n",
       " 'IGK',\n",
       " 'IGL',\n",
       " 'MALAT1',\n",
       " 'MDS2',\n",
       " 'TRA',\n",
       " 'TRB',\n",
       " 'TRD'}"
      ]
     },
     "execution_count": 59,
     "metadata": {},
     "output_type": "execute_result"
    }
   ],
   "source": [
    "set(cosmic_explode['Gene Symbol'].tolist()) - set(cosmic_explode[cosmic_explode['Gene Symbol'] == cosmic_explode['Synonyms']]['Gene Symbol'].tolist())"
   ]
  },
  {
   "cell_type": "code",
   "execution_count": 60,
   "metadata": {},
   "outputs": [
    {
     "data": {
      "text/html": [
       "<div>\n",
       "<style scoped>\n",
       "    .dataframe tbody tr th:only-of-type {\n",
       "        vertical-align: middle;\n",
       "    }\n",
       "\n",
       "    .dataframe tbody tr th {\n",
       "        vertical-align: top;\n",
       "    }\n",
       "\n",
       "    .dataframe thead th {\n",
       "        text-align: right;\n",
       "    }\n",
       "</style>\n",
       "<table border=\"1\" class=\"dataframe\">\n",
       "  <thead>\n",
       "    <tr style=\"text-align: right;\">\n",
       "      <th></th>\n",
       "      <th>Gene Symbol</th>\n",
       "      <th>Synonyms</th>\n",
       "    </tr>\n",
       "  </thead>\n",
       "  <tbody>\n",
       "    <tr>\n",
       "      <th>186</th>\n",
       "      <td>DUX4L1</td>\n",
       "      <td>NaN</td>\n",
       "    </tr>\n",
       "    <tr>\n",
       "      <th>299</th>\n",
       "      <td>HMGN2P46</td>\n",
       "      <td>NaN</td>\n",
       "    </tr>\n",
       "    <tr>\n",
       "      <th>317</th>\n",
       "      <td>IGH</td>\n",
       "      <td>NaN</td>\n",
       "    </tr>\n",
       "    <tr>\n",
       "      <th>318</th>\n",
       "      <td>IGK</td>\n",
       "      <td>NaN</td>\n",
       "    </tr>\n",
       "    <tr>\n",
       "      <th>319</th>\n",
       "      <td>IGL</td>\n",
       "      <td>NaN</td>\n",
       "    </tr>\n",
       "    <tr>\n",
       "      <th>381</th>\n",
       "      <td>MALAT1</td>\n",
       "      <td>NaN</td>\n",
       "    </tr>\n",
       "    <tr>\n",
       "      <th>394</th>\n",
       "      <td>MDS2</td>\n",
       "      <td>NaN</td>\n",
       "    </tr>\n",
       "    <tr>\n",
       "      <th>679</th>\n",
       "      <td>TRA</td>\n",
       "      <td>NaN</td>\n",
       "    </tr>\n",
       "    <tr>\n",
       "      <th>681</th>\n",
       "      <td>TRB</td>\n",
       "      <td>NaN</td>\n",
       "    </tr>\n",
       "    <tr>\n",
       "      <th>682</th>\n",
       "      <td>TRD</td>\n",
       "      <td>NaN</td>\n",
       "    </tr>\n",
       "  </tbody>\n",
       "</table>\n",
       "</div>"
      ],
      "text/plain": [
       "    Gene Symbol Synonyms\n",
       "186      DUX4L1      NaN\n",
       "299    HMGN2P46      NaN\n",
       "317         IGH      NaN\n",
       "318         IGK      NaN\n",
       "319         IGL      NaN\n",
       "381      MALAT1      NaN\n",
       "394        MDS2      NaN\n",
       "679         TRA      NaN\n",
       "681         TRB      NaN\n",
       "682         TRD      NaN"
      ]
     },
     "execution_count": 60,
     "metadata": {},
     "output_type": "execute_result"
    }
   ],
   "source": [
    "cosmic_explode[cosmic_explode['Gene Symbol'].isin(['DUX4L1',\n",
    " 'HMGN2P46',\n",
    " 'IGH',\n",
    " 'IGK',\n",
    " 'IGL',\n",
    " 'MALAT1',\n",
    " 'MDS2',\n",
    " 'TRA',\n",
    " 'TRB',\n",
    " 'TRD'])][['Gene Symbol', 'Synonyms']]"
   ]
  },
  {
   "cell_type": "code",
   "execution_count": null,
   "metadata": {},
   "outputs": [],
   "source": []
  },
  {
   "cell_type": "markdown",
   "metadata": {},
   "source": [
    "### RiboSet ovlp "
   ]
  },
  {
   "cell_type": "code",
   "execution_count": 61,
   "metadata": {},
   "outputs": [
    {
     "data": {
      "text/plain": [
       "20"
      ]
     },
     "execution_count": 61,
     "metadata": {},
     "output_type": "execute_result"
    }
   ],
   "source": [
    "len(set(RiboSET.gene.tolist()).intersection(cosmic['Gene Symbol'].tolist()))"
   ]
  },
  {
   "cell_type": "code",
   "execution_count": 62,
   "metadata": {},
   "outputs": [
    {
     "data": {
      "text/plain": [
       "21"
      ]
     },
     "execution_count": 62,
     "metadata": {},
     "output_type": "execute_result"
    }
   ],
   "source": [
    "len(set(RiboSET.gene.tolist()).intersection(cosmic_explode.Synonyms.tolist()))"
   ]
  },
  {
   "cell_type": "code",
   "execution_count": 63,
   "metadata": {},
   "outputs": [
    {
     "data": {
      "text/plain": [
       "{'RAD1'}"
      ]
     },
     "execution_count": 63,
     "metadata": {},
     "output_type": "execute_result"
    }
   ],
   "source": [
    "set(RiboSET.gene.tolist()).intersection(cosmic_explode.Synonyms.tolist())-set(RiboSET.gene.tolist()).intersection(cosmic['Gene Symbol'].tolist())"
   ]
  },
  {
   "cell_type": "markdown",
   "metadata": {},
   "source": [
    "21 genes from RiboSET are known to be causally implicated in various tumours (mostly in various skin tumours and lymphomas) according to The Cancer Gene Census (CGC) [PMID: 30293088]. "
   ]
  },
  {
   "cell_type": "code",
   "execution_count": 64,
   "metadata": {},
   "outputs": [
    {
     "data": {
      "text/html": [
       "<div>\n",
       "<style scoped>\n",
       "    .dataframe tbody tr th:only-of-type {\n",
       "        vertical-align: middle;\n",
       "    }\n",
       "\n",
       "    .dataframe tbody tr th {\n",
       "        vertical-align: top;\n",
       "    }\n",
       "\n",
       "    .dataframe thead th {\n",
       "        text-align: right;\n",
       "    }\n",
       "</style>\n",
       "<table border=\"1\" class=\"dataframe\">\n",
       "  <thead>\n",
       "    <tr style=\"text-align: right;\">\n",
       "      <th></th>\n",
       "      <th>Gene Symbol</th>\n",
       "      <th>Name</th>\n",
       "      <th>Entrez GeneId</th>\n",
       "      <th>Genome Location</th>\n",
       "      <th>Tier</th>\n",
       "      <th>Hallmark</th>\n",
       "      <th>Chr Band</th>\n",
       "      <th>Somatic</th>\n",
       "      <th>Germline</th>\n",
       "      <th>Tumour Types(Somatic)</th>\n",
       "      <th>Tumour Types(Germline)</th>\n",
       "      <th>Cancer Syndrome</th>\n",
       "      <th>Tissue Type</th>\n",
       "      <th>Molecular Genetics</th>\n",
       "      <th>Role in Cancer</th>\n",
       "      <th>Mutation Types</th>\n",
       "      <th>Translocation Partner</th>\n",
       "      <th>Other Germline Mut</th>\n",
       "      <th>Other Syndrome</th>\n",
       "      <th>Synonyms</th>\n",
       "    </tr>\n",
       "  </thead>\n",
       "  <tbody>\n",
       "    <tr>\n",
       "      <th>211</th>\n",
       "      <td>ERCC4</td>\n",
       "      <td>excision repair cross-complementing rodent rep...</td>\n",
       "      <td>2072.0</td>\n",
       "      <td>16:13920157-13952345</td>\n",
       "      <td>1</td>\n",
       "      <td>Yes</td>\n",
       "      <td>13.12</td>\n",
       "      <td>NaN</td>\n",
       "      <td>yes</td>\n",
       "      <td>NaN</td>\n",
       "      <td>skin basal cell, skin squamous cell, melanoma</td>\n",
       "      <td>xeroderma pigmentosum (F)</td>\n",
       "      <td>E</td>\n",
       "      <td>Rec</td>\n",
       "      <td>TSG</td>\n",
       "      <td>Mis, N, F</td>\n",
       "      <td>NaN</td>\n",
       "      <td>NaN</td>\n",
       "      <td>NaN</td>\n",
       "      <td>RAD1</td>\n",
       "    </tr>\n",
       "  </tbody>\n",
       "</table>\n",
       "</div>"
      ],
      "text/plain": [
       "    Gene Symbol                                               Name  \\\n",
       "211       ERCC4  excision repair cross-complementing rodent rep...   \n",
       "\n",
       "     Entrez GeneId       Genome Location  Tier Hallmark  Chr Band Somatic  \\\n",
       "211         2072.0  16:13920157-13952345     1      Yes     13.12     NaN   \n",
       "\n",
       "    Germline Tumour Types(Somatic)  \\\n",
       "211      yes                   NaN   \n",
       "\n",
       "                            Tumour Types(Germline)            Cancer Syndrome  \\\n",
       "211  skin basal cell, skin squamous cell, melanoma  xeroderma pigmentosum (F)   \n",
       "\n",
       "    Tissue Type Molecular Genetics Role in Cancer Mutation Types  \\\n",
       "211           E                Rec            TSG      Mis, N, F   \n",
       "\n",
       "    Translocation Partner Other Germline Mut Other Syndrome Synonyms  \n",
       "211                   NaN                NaN            NaN     RAD1  "
      ]
     },
     "execution_count": 64,
     "metadata": {},
     "output_type": "execute_result"
    }
   ],
   "source": [
    "cosmic_explode[(cosmic_explode['Synonyms'] == 'RAD1')]"
   ]
  },
  {
   "cell_type": "code",
   "execution_count": 65,
   "metadata": {},
   "outputs": [
    {
     "data": {
      "text/html": [
       "<div>\n",
       "<style scoped>\n",
       "    .dataframe tbody tr th:only-of-type {\n",
       "        vertical-align: middle;\n",
       "    }\n",
       "\n",
       "    .dataframe tbody tr th {\n",
       "        vertical-align: top;\n",
       "    }\n",
       "\n",
       "    .dataframe thead th {\n",
       "        text-align: right;\n",
       "    }\n",
       "</style>\n",
       "<table border=\"1\" class=\"dataframe\">\n",
       "  <thead>\n",
       "    <tr style=\"text-align: right;\">\n",
       "      <th></th>\n",
       "      <th>Gene Symbol</th>\n",
       "      <th>Cancer Syndrome</th>\n",
       "      <th>Tumour Types(Germline)</th>\n",
       "      <th>Tumour Types(Somatic)</th>\n",
       "      <th>Role in Cancer</th>\n",
       "      <th>Tissue Type</th>\n",
       "      <th>Mutation Types</th>\n",
       "    </tr>\n",
       "  </thead>\n",
       "  <tbody>\n",
       "    <tr>\n",
       "      <th>67</th>\n",
       "      <td>BLM</td>\n",
       "      <td>Bloom syndrome</td>\n",
       "      <td>leukaemia, lymphoma, skin squamous cell, other...</td>\n",
       "      <td>NaN</td>\n",
       "      <td>TSG</td>\n",
       "      <td>L, E</td>\n",
       "      <td>Mis, N, F</td>\n",
       "    </tr>\n",
       "    <tr>\n",
       "      <th>211</th>\n",
       "      <td>ERCC4</td>\n",
       "      <td>xeroderma pigmentosum (F)</td>\n",
       "      <td>skin basal cell, skin squamous cell, melanoma</td>\n",
       "      <td>NaN</td>\n",
       "      <td>TSG</td>\n",
       "      <td>E</td>\n",
       "      <td>Mis, N, F</td>\n",
       "    </tr>\n",
       "    <tr>\n",
       "      <th>224</th>\n",
       "      <td>EZR</td>\n",
       "      <td>NaN</td>\n",
       "      <td>NaN</td>\n",
       "      <td>NSCLC</td>\n",
       "      <td>fusion</td>\n",
       "      <td>E</td>\n",
       "      <td>T</td>\n",
       "    </tr>\n",
       "    <tr>\n",
       "      <th>301</th>\n",
       "      <td>HNRNPA2B1</td>\n",
       "      <td>NaN</td>\n",
       "      <td>NaN</td>\n",
       "      <td>prostate</td>\n",
       "      <td>oncogene, fusion</td>\n",
       "      <td>E</td>\n",
       "      <td>T</td>\n",
       "    </tr>\n",
       "    <tr>\n",
       "      <th>311</th>\n",
       "      <td>HSP90AA1</td>\n",
       "      <td>NaN</td>\n",
       "      <td>NaN</td>\n",
       "      <td>NHL</td>\n",
       "      <td>fusion</td>\n",
       "      <td>L</td>\n",
       "      <td>T</td>\n",
       "    </tr>\n",
       "    <tr>\n",
       "      <th>335</th>\n",
       "      <td>JUN</td>\n",
       "      <td>NaN</td>\n",
       "      <td>NaN</td>\n",
       "      <td>sarcoma</td>\n",
       "      <td>oncogene</td>\n",
       "      <td>M</td>\n",
       "      <td>A</td>\n",
       "    </tr>\n",
       "    <tr>\n",
       "      <th>338</th>\n",
       "      <td>KAT7</td>\n",
       "      <td>NaN</td>\n",
       "      <td>NaN</td>\n",
       "      <td>CCRCC</td>\n",
       "      <td>oncogene</td>\n",
       "      <td>E</td>\n",
       "      <td>Mis</td>\n",
       "    </tr>\n",
       "    <tr>\n",
       "      <th>344</th>\n",
       "      <td>KDSR</td>\n",
       "      <td>NaN</td>\n",
       "      <td>NaN</td>\n",
       "      <td>B-NHL</td>\n",
       "      <td>fusion</td>\n",
       "      <td>L</td>\n",
       "      <td>T</td>\n",
       "    </tr>\n",
       "    <tr>\n",
       "      <th>360</th>\n",
       "      <td>LASP1</td>\n",
       "      <td>NaN</td>\n",
       "      <td>NaN</td>\n",
       "      <td>AML</td>\n",
       "      <td>fusion</td>\n",
       "      <td>L</td>\n",
       "      <td>T</td>\n",
       "    </tr>\n",
       "    <tr>\n",
       "      <th>372</th>\n",
       "      <td>LPP</td>\n",
       "      <td>NaN</td>\n",
       "      <td>NaN</td>\n",
       "      <td>lipoma, leukaemia</td>\n",
       "      <td>oncogene, fusion</td>\n",
       "      <td>L, M</td>\n",
       "      <td>T</td>\n",
       "    </tr>\n",
       "    <tr>\n",
       "      <th>455</th>\n",
       "      <td>NPM1</td>\n",
       "      <td>NaN</td>\n",
       "      <td>NaN</td>\n",
       "      <td>NHL, APL, AML</td>\n",
       "      <td>oncogene, fusion</td>\n",
       "      <td>L</td>\n",
       "      <td>T, F</td>\n",
       "    </tr>\n",
       "    <tr>\n",
       "      <th>594</th>\n",
       "      <td>SFPQ</td>\n",
       "      <td>NaN</td>\n",
       "      <td>NaN</td>\n",
       "      <td>papillary renal</td>\n",
       "      <td>TSG, fusion</td>\n",
       "      <td>E</td>\n",
       "      <td>T</td>\n",
       "    </tr>\n",
       "    <tr>\n",
       "      <th>599</th>\n",
       "      <td>SHTN1</td>\n",
       "      <td>NaN</td>\n",
       "      <td>NaN</td>\n",
       "      <td>Spitzoid tumour</td>\n",
       "      <td>fusion</td>\n",
       "      <td>E</td>\n",
       "      <td>T</td>\n",
       "    </tr>\n",
       "    <tr>\n",
       "      <th>615</th>\n",
       "      <td>SND1</td>\n",
       "      <td>NaN</td>\n",
       "      <td>NaN</td>\n",
       "      <td>pancreas acinar carcinoma</td>\n",
       "      <td>oncogene, fusion</td>\n",
       "      <td>E</td>\n",
       "      <td>T</td>\n",
       "    </tr>\n",
       "    <tr>\n",
       "      <th>618</th>\n",
       "      <td>SOX2</td>\n",
       "      <td>NaN</td>\n",
       "      <td>NaN</td>\n",
       "      <td>NSCLC, oesophageal squamous carcinoma</td>\n",
       "      <td>oncogene</td>\n",
       "      <td>E</td>\n",
       "      <td>A</td>\n",
       "    </tr>\n",
       "    <tr>\n",
       "      <th>640</th>\n",
       "      <td>SUFU</td>\n",
       "      <td>medulloblastoma predisposition</td>\n",
       "      <td>medulloblastoma</td>\n",
       "      <td>medulloblastoma</td>\n",
       "      <td>TSG</td>\n",
       "      <td>O</td>\n",
       "      <td>D, F, S</td>\n",
       "    </tr>\n",
       "    <tr>\n",
       "      <th>651</th>\n",
       "      <td>TCF7L2</td>\n",
       "      <td>NaN</td>\n",
       "      <td>NaN</td>\n",
       "      <td>colorectal</td>\n",
       "      <td>oncogene, fusion</td>\n",
       "      <td>E</td>\n",
       "      <td>T</td>\n",
       "    </tr>\n",
       "    <tr>\n",
       "      <th>669</th>\n",
       "      <td>TNC</td>\n",
       "      <td>NaN</td>\n",
       "      <td>NaN</td>\n",
       "      <td>SCC, melanoma</td>\n",
       "      <td>oncogene</td>\n",
       "      <td>E</td>\n",
       "      <td>Mis</td>\n",
       "    </tr>\n",
       "    <tr>\n",
       "      <th>673</th>\n",
       "      <td>TOP1</td>\n",
       "      <td>NaN</td>\n",
       "      <td>NaN</td>\n",
       "      <td>AML*</td>\n",
       "      <td>fusion</td>\n",
       "      <td>L</td>\n",
       "      <td>T</td>\n",
       "    </tr>\n",
       "    <tr>\n",
       "      <th>709</th>\n",
       "      <td>YWHAE</td>\n",
       "      <td>NaN</td>\n",
       "      <td>NaN</td>\n",
       "      <td>endometrial stromal sarcoma</td>\n",
       "      <td>TSG, fusion</td>\n",
       "      <td>M</td>\n",
       "      <td>T</td>\n",
       "    </tr>\n",
       "    <tr>\n",
       "      <th>717</th>\n",
       "      <td>ZNF384</td>\n",
       "      <td>NaN</td>\n",
       "      <td>NaN</td>\n",
       "      <td>ALL</td>\n",
       "      <td>fusion</td>\n",
       "      <td>L</td>\n",
       "      <td>T</td>\n",
       "    </tr>\n",
       "  </tbody>\n",
       "</table>\n",
       "</div>"
      ],
      "text/plain": [
       "    Gene Symbol                 Cancer Syndrome  \\\n",
       "67          BLM                  Bloom syndrome   \n",
       "211       ERCC4       xeroderma pigmentosum (F)   \n",
       "224         EZR                             NaN   \n",
       "301   HNRNPA2B1                             NaN   \n",
       "311    HSP90AA1                             NaN   \n",
       "335         JUN                             NaN   \n",
       "338        KAT7                             NaN   \n",
       "344        KDSR                             NaN   \n",
       "360       LASP1                             NaN   \n",
       "372         LPP                             NaN   \n",
       "455        NPM1                             NaN   \n",
       "594        SFPQ                             NaN   \n",
       "599       SHTN1                             NaN   \n",
       "615        SND1                             NaN   \n",
       "618        SOX2                             NaN   \n",
       "640        SUFU  medulloblastoma predisposition   \n",
       "651      TCF7L2                             NaN   \n",
       "669         TNC                             NaN   \n",
       "673        TOP1                             NaN   \n",
       "709       YWHAE                             NaN   \n",
       "717      ZNF384                             NaN   \n",
       "\n",
       "                                Tumour Types(Germline)  \\\n",
       "67   leukaemia, lymphoma, skin squamous cell, other...   \n",
       "211      skin basal cell, skin squamous cell, melanoma   \n",
       "224                                                NaN   \n",
       "301                                                NaN   \n",
       "311                                                NaN   \n",
       "335                                                NaN   \n",
       "338                                                NaN   \n",
       "344                                                NaN   \n",
       "360                                                NaN   \n",
       "372                                                NaN   \n",
       "455                                                NaN   \n",
       "594                                                NaN   \n",
       "599                                                NaN   \n",
       "615                                                NaN   \n",
       "618                                                NaN   \n",
       "640                                    medulloblastoma   \n",
       "651                                                NaN   \n",
       "669                                                NaN   \n",
       "673                                                NaN   \n",
       "709                                                NaN   \n",
       "717                                                NaN   \n",
       "\n",
       "                     Tumour Types(Somatic)    Role in Cancer Tissue Type  \\\n",
       "67                                     NaN               TSG        L, E   \n",
       "211                                    NaN               TSG           E   \n",
       "224                                  NSCLC            fusion           E   \n",
       "301                               prostate  oncogene, fusion           E   \n",
       "311                                    NHL            fusion           L   \n",
       "335                                sarcoma          oncogene           M   \n",
       "338                                  CCRCC          oncogene           E   \n",
       "344                                  B-NHL            fusion           L   \n",
       "360                                    AML            fusion           L   \n",
       "372                      lipoma, leukaemia  oncogene, fusion        L, M   \n",
       "455                          NHL, APL, AML  oncogene, fusion           L   \n",
       "594                        papillary renal       TSG, fusion           E   \n",
       "599                        Spitzoid tumour            fusion           E   \n",
       "615              pancreas acinar carcinoma  oncogene, fusion           E   \n",
       "618  NSCLC, oesophageal squamous carcinoma          oncogene           E   \n",
       "640                        medulloblastoma               TSG           O   \n",
       "651                             colorectal  oncogene, fusion           E   \n",
       "669                          SCC, melanoma          oncogene           E   \n",
       "673                                   AML*            fusion           L   \n",
       "709            endometrial stromal sarcoma       TSG, fusion           M   \n",
       "717                                    ALL            fusion           L   \n",
       "\n",
       "    Mutation Types  \n",
       "67       Mis, N, F  \n",
       "211      Mis, N, F  \n",
       "224              T  \n",
       "301              T  \n",
       "311              T  \n",
       "335              A  \n",
       "338            Mis  \n",
       "344              T  \n",
       "360              T  \n",
       "372              T  \n",
       "455           T, F  \n",
       "594              T  \n",
       "599              T  \n",
       "615              T  \n",
       "618              A  \n",
       "640        D, F, S  \n",
       "651              T  \n",
       "669            Mis  \n",
       "673              T  \n",
       "709              T  \n",
       "717              T  "
      ]
     },
     "execution_count": 65,
     "metadata": {},
     "output_type": "execute_result"
    }
   ],
   "source": [
    "riboset_cosmic = cosmic_explode[(cosmic_explode['Gene Symbol'].isin(list(set(RiboSET.gene.tolist()).intersection(cosmic['Gene Symbol'].tolist())))) | \n",
    "               (cosmic_explode['Synonyms'] == 'RAD1')][['Gene Symbol', 'Cancer Syndrome', 'Tumour Types(Germline)',\n",
    "                                                        'Tumour Types(Somatic)',\n",
    "                                                       'Role in Cancer', 'Tissue Type', 'Mutation Types']].drop_duplicates()\n",
    "\n",
    "riboset_cosmic"
   ]
  },
  {
   "cell_type": "code",
   "execution_count": 66,
   "metadata": {},
   "outputs": [
    {
     "data": {
      "text/plain": [
       "21"
      ]
     },
     "execution_count": 66,
     "metadata": {},
     "output_type": "execute_result"
    }
   ],
   "source": [
    "riboseq_cancer_list = [x.split(', ') for x in ['leukaemia, lymphoma, skin squamous cell, other tumour types',\n",
    " 'skin basal cell, skin squamous cell, melanoma','NSCLC',\n",
    " 'prostate',\n",
    " 'NHL',\n",
    " 'sarcoma',\n",
    " 'CCRCC',\n",
    " 'B-NHL',\n",
    " 'AML',\n",
    " 'lipoma, leukaemia',\n",
    " 'NHL, APL, AML',\n",
    " 'papillary renal',\n",
    " 'Spitzoid tumour',\n",
    " 'pancreas acinar carcinoma',\n",
    " 'NSCLC, oesophageal squamous carcinoma',\n",
    " 'medulloblastoma',\n",
    " 'colorectal',\n",
    " 'SCC, melanoma',\n",
    " 'AML*',\n",
    " 'endometrial stromal sarcoma',\n",
    " 'ALL']]\n",
    "\n",
    "\n",
    "len(riboseq_cancer_list)"
   ]
  },
  {
   "cell_type": "code",
   "execution_count": 67,
   "metadata": {},
   "outputs": [
    {
     "data": {
      "text/plain": [
       "Counter({'leukaemia': 2,\n",
       "         'lymphoma': 1,\n",
       "         'skin squamous cell': 2,\n",
       "         'other tumour types': 1,\n",
       "         'skin basal cell': 1,\n",
       "         'melanoma': 2,\n",
       "         'NSCLC': 2,\n",
       "         'prostate': 1,\n",
       "         'NHL': 2,\n",
       "         'sarcoma': 1,\n",
       "         'CCRCC': 1,\n",
       "         'B-NHL': 1,\n",
       "         'AML': 2,\n",
       "         'lipoma': 1,\n",
       "         'APL': 1,\n",
       "         'papillary renal': 1,\n",
       "         'Spitzoid tumour': 1,\n",
       "         'pancreas acinar carcinoma': 1,\n",
       "         'oesophageal squamous carcinoma': 1,\n",
       "         'medulloblastoma': 1,\n",
       "         'colorectal': 1,\n",
       "         'SCC': 1,\n",
       "         'AML*': 1,\n",
       "         'endometrial stromal sarcoma': 1,\n",
       "         'ALL': 1})"
      ]
     },
     "execution_count": 67,
     "metadata": {},
     "output_type": "execute_result"
    }
   ],
   "source": [
    "flat_list = [item for sublist in riboseq_cancer_list for item in sublist]\n",
    "Counter(flat_list)"
   ]
  },
  {
   "cell_type": "code",
   "execution_count": 68,
   "metadata": {},
   "outputs": [
    {
     "data": {
      "text/plain": [
       "Counter({'TSG': 3,\n",
       "         'fusion': 7,\n",
       "         'oncogene, fusion': 5,\n",
       "         'oncogene': 4,\n",
       "         'TSG, fusion': 2})"
      ]
     },
     "execution_count": 68,
     "metadata": {},
     "output_type": "execute_result"
    }
   ],
   "source": [
    "Counter(riboset_cosmic['Role in Cancer'].tolist())"
   ]
  },
  {
   "cell_type": "code",
   "execution_count": null,
   "metadata": {},
   "outputs": [],
   "source": []
  },
  {
   "cell_type": "code",
   "execution_count": null,
   "metadata": {},
   "outputs": [],
   "source": []
  },
  {
   "cell_type": "code",
   "execution_count": null,
   "metadata": {},
   "outputs": [],
   "source": []
  },
  {
   "cell_type": "markdown",
   "metadata": {},
   "source": [
    "## PhyloSET"
   ]
  },
  {
   "cell_type": "code",
   "execution_count": 69,
   "metadata": {},
   "outputs": [
    {
     "data": {
      "text/plain": [
       "{'FBXW7', 'MAF', 'SFPQ'}"
      ]
     },
     "execution_count": 69,
     "metadata": {},
     "output_type": "execute_result"
    }
   ],
   "source": [
    "set(PhyloSET.gene.tolist()).intersection(cosmic['Gene Symbol'].tolist())"
   ]
  },
  {
   "cell_type": "code",
   "execution_count": 70,
   "metadata": {},
   "outputs": [
    {
     "data": {
      "text/plain": [
       "3"
      ]
     },
     "execution_count": 70,
     "metadata": {},
     "output_type": "execute_result"
    }
   ],
   "source": [
    "len(set(PhyloSET.gene.tolist()).intersection(cosmic_explode.Synonyms.tolist()))"
   ]
  },
  {
   "cell_type": "code",
   "execution_count": 71,
   "metadata": {},
   "outputs": [
    {
     "data": {
      "text/html": [
       "<div>\n",
       "<style scoped>\n",
       "    .dataframe tbody tr th:only-of-type {\n",
       "        vertical-align: middle;\n",
       "    }\n",
       "\n",
       "    .dataframe tbody tr th {\n",
       "        vertical-align: top;\n",
       "    }\n",
       "\n",
       "    .dataframe thead th {\n",
       "        text-align: right;\n",
       "    }\n",
       "</style>\n",
       "<table border=\"1\" class=\"dataframe\">\n",
       "  <thead>\n",
       "    <tr style=\"text-align: right;\">\n",
       "      <th></th>\n",
       "      <th>Gene Symbol</th>\n",
       "      <th>Cancer Syndrome</th>\n",
       "      <th>Tumour Types(Germline)</th>\n",
       "      <th>Tumour Types(Somatic)</th>\n",
       "      <th>Role in Cancer</th>\n",
       "      <th>Tissue Type</th>\n",
       "      <th>Mutation Types</th>\n",
       "    </tr>\n",
       "  </thead>\n",
       "  <tbody>\n",
       "    <tr>\n",
       "      <th>240</th>\n",
       "      <td>FBXW7</td>\n",
       "      <td>NaN</td>\n",
       "      <td>NaN</td>\n",
       "      <td>colorectal, endometrial, T-ALL</td>\n",
       "      <td>TSG</td>\n",
       "      <td>E, L</td>\n",
       "      <td>Mis, N, D, F</td>\n",
       "    </tr>\n",
       "    <tr>\n",
       "      <th>379</th>\n",
       "      <td>MAF</td>\n",
       "      <td>NaN</td>\n",
       "      <td>NaN</td>\n",
       "      <td>MM</td>\n",
       "      <td>oncogene, fusion</td>\n",
       "      <td>L</td>\n",
       "      <td>T</td>\n",
       "    </tr>\n",
       "    <tr>\n",
       "      <th>594</th>\n",
       "      <td>SFPQ</td>\n",
       "      <td>NaN</td>\n",
       "      <td>NaN</td>\n",
       "      <td>papillary renal</td>\n",
       "      <td>TSG, fusion</td>\n",
       "      <td>E</td>\n",
       "      <td>T</td>\n",
       "    </tr>\n",
       "  </tbody>\n",
       "</table>\n",
       "</div>"
      ],
      "text/plain": [
       "    Gene Symbol Cancer Syndrome Tumour Types(Germline)  \\\n",
       "240       FBXW7             NaN                    NaN   \n",
       "379         MAF             NaN                    NaN   \n",
       "594        SFPQ             NaN                    NaN   \n",
       "\n",
       "              Tumour Types(Somatic)    Role in Cancer Tissue Type  \\\n",
       "240  colorectal, endometrial, T-ALL               TSG        E, L   \n",
       "379                              MM  oncogene, fusion           L   \n",
       "594                 papillary renal       TSG, fusion           E   \n",
       "\n",
       "    Mutation Types  \n",
       "240   Mis, N, D, F  \n",
       "379              T  \n",
       "594              T  "
      ]
     },
     "execution_count": 71,
     "metadata": {},
     "output_type": "execute_result"
    }
   ],
   "source": [
    "phyloset_cosmic = cosmic_explode[(cosmic_explode['Gene Symbol'].isin(['FBXW7', 'MAF', 'SFPQ']))][['Gene Symbol', 'Cancer Syndrome', 'Tumour Types(Germline)',\n",
    "                                                        'Tumour Types(Somatic)',\n",
    "                                                       'Role in Cancer', 'Tissue Type', 'Mutation Types']].drop_duplicates()\n",
    "\n",
    "phyloset_cosmic"
   ]
  },
  {
   "cell_type": "code",
   "execution_count": null,
   "metadata": {},
   "outputs": [],
   "source": []
  },
  {
   "cell_type": "code",
   "execution_count": null,
   "metadata": {},
   "outputs": [],
   "source": []
  },
  {
   "cell_type": "code",
   "execution_count": null,
   "metadata": {},
   "outputs": [],
   "source": []
  },
  {
   "cell_type": "markdown",
   "metadata": {},
   "source": [
    "# COSMIC variants in non-coding regions: bedtools intersect "
   ]
  },
  {
   "cell_type": "code",
   "execution_count": 72,
   "metadata": {},
   "outputs": [],
   "source": [
    "cosmic_var = pd.read_csv('data/CosmicNCV.tsv', sep='\\t')"
   ]
  },
  {
   "cell_type": "code",
   "execution_count": 73,
   "metadata": {},
   "outputs": [
    {
     "data": {
      "text/plain": [
       "18306185"
      ]
     },
     "execution_count": 73,
     "metadata": {},
     "output_type": "execute_result"
    }
   ],
   "source": [
    "cosmic_var.shape[0]"
   ]
  },
  {
   "cell_type": "code",
   "execution_count": 74,
   "metadata": {},
   "outputs": [
    {
     "data": {
      "text/plain": [
       "Index(['Sample name', 'ID_SAMPLE', 'ID_tumour', 'Primary site',\n",
       "       'Site subtype 1', 'Site subtype 2', 'Site subtype 3',\n",
       "       'Primary histology', 'Histology subtype 1', 'Histology subtype 2',\n",
       "       'Histology subtype 3', 'GENOMIC_MUTATION_ID', 'LEGACY_MUTATION_ID',\n",
       "       'zygosity', 'GRCh', 'genome position', 'Mutation somatic status',\n",
       "       'WT_SEQ', 'MUT_SEQ', 'SNP', 'FATHMM_MKL_NON_CODING_SCORE',\n",
       "       'FATHMM_MKL_NON_CODING_GROUPS', 'FATHMM_MKL_CODING_SCORE',\n",
       "       'FATHMM_MKL_CODING_GROUPS', 'Whole_Genome_Reseq', 'Whole_Exome',\n",
       "       'ID_STUDY', 'PUBMED_PMID', 'HGVSG'],\n",
       "      dtype='object')"
      ]
     },
     "execution_count": 74,
     "metadata": {},
     "output_type": "execute_result"
    }
   ],
   "source": [
    "cosmic_var.columns"
   ]
  },
  {
   "cell_type": "code",
   "execution_count": 75,
   "metadata": {},
   "outputs": [],
   "source": [
    "cosmic_var_f = cosmic_var[['HGVSG', 'Primary site', 'Primary histology', 'Histology subtype 1', \n",
    "           'genome position', 'GRCh']]\n",
    "\n",
    "\n",
    "# make a bed file \n",
    "\n",
    "bed = open('tmp_res/cosmic_mut.bed', 'w')\n",
    "\n",
    "\n",
    "for row in cosmic_var_f.to_numpy():\n",
    "    if row[-1] == 38:\n",
    "        pos = row[-2]\n",
    "        chrom = 'chr'+pos.split(':')[0]\n",
    "        start = pos.split(':')[1].split('-')[0]\n",
    "        stop = pos.split(':')[1].split('-')[1]\n",
    "        \n",
    "        if int(stop) > int(start): #insertion, take the 1st coo?? + 1\n",
    "            stop = str(int(start)+1)\n",
    "        elif int(stop) == int(start):\n",
    "            stop = str(int(start)+1)\n",
    "        else:\n",
    "            continue\n",
    "            \n",
    "        score=str(1)\n",
    "        strand='+'\n",
    "        name = row[0]\n",
    "            \n",
    "        bed.write(chrom+'\\t'+start+'\\t'+stop+'\\t'+name+'\\t'+score+'\\t'+strand+'\\n')\n",
    "\n",
    "bed.close()"
   ]
  },
  {
   "cell_type": "code",
   "execution_count": 76,
   "metadata": {},
   "outputs": [
    {
     "data": {
      "text/plain": [
       "15620360"
      ]
     },
     "execution_count": 76,
     "metadata": {},
     "output_type": "execute_result"
    }
   ],
   "source": [
    "bed = pd.read_csv('tmp_res/cosmic_mut.bed', sep='\\t', header=None).drop_duplicates()\n",
    "bed.shape[0]"
   ]
  },
  {
   "cell_type": "code",
   "execution_count": 77,
   "metadata": {},
   "outputs": [],
   "source": [
    "bed.to_csv('tmp_res/cosmic_mut_no_dup.bed', sep='\\t', header=None, index=False)"
   ]
  },
  {
   "cell_type": "code",
   "execution_count": 78,
   "metadata": {},
   "outputs": [],
   "source": [
    "! sort -k1,1V -k2,2n -k3,3n tmp_res/cosmic_mut_no_dup.bed > tmp_res/cosmic_mut_no_dup_sorted.bed"
   ]
  },
  {
   "cell_type": "code",
   "execution_count": 79,
   "metadata": {},
   "outputs": [
    {
     "data": {
      "text/html": [
       "<div>\n",
       "<style scoped>\n",
       "    .dataframe tbody tr th:only-of-type {\n",
       "        vertical-align: middle;\n",
       "    }\n",
       "\n",
       "    .dataframe tbody tr th {\n",
       "        vertical-align: top;\n",
       "    }\n",
       "\n",
       "    .dataframe thead th {\n",
       "        text-align: right;\n",
       "    }\n",
       "</style>\n",
       "<table border=\"1\" class=\"dataframe\">\n",
       "  <thead>\n",
       "    <tr style=\"text-align: right;\">\n",
       "      <th></th>\n",
       "      <th>0</th>\n",
       "      <th>1</th>\n",
       "      <th>2</th>\n",
       "      <th>3</th>\n",
       "      <th>4</th>\n",
       "      <th>5</th>\n",
       "    </tr>\n",
       "  </thead>\n",
       "  <tbody>\n",
       "    <tr>\n",
       "      <th>0</th>\n",
       "      <td>chr1</td>\n",
       "      <td>10108</td>\n",
       "      <td>10109</td>\n",
       "      <td>1:g.10108C&gt;T</td>\n",
       "      <td>1</td>\n",
       "      <td>+</td>\n",
       "    </tr>\n",
       "    <tr>\n",
       "      <th>1</th>\n",
       "      <td>chr1</td>\n",
       "      <td>10151</td>\n",
       "      <td>10152</td>\n",
       "      <td>1:g.10151T&gt;A</td>\n",
       "      <td>1</td>\n",
       "      <td>+</td>\n",
       "    </tr>\n",
       "    <tr>\n",
       "      <th>2</th>\n",
       "      <td>chr1</td>\n",
       "      <td>10175</td>\n",
       "      <td>10176</td>\n",
       "      <td>1:g.10175T&gt;A</td>\n",
       "      <td>1</td>\n",
       "      <td>+</td>\n",
       "    </tr>\n",
       "    <tr>\n",
       "      <th>3</th>\n",
       "      <td>chr1</td>\n",
       "      <td>10181</td>\n",
       "      <td>10182</td>\n",
       "      <td>1:g.10181A&gt;T</td>\n",
       "      <td>1</td>\n",
       "      <td>+</td>\n",
       "    </tr>\n",
       "    <tr>\n",
       "      <th>4</th>\n",
       "      <td>chr1</td>\n",
       "      <td>10237</td>\n",
       "      <td>10238</td>\n",
       "      <td>1:g.10237A&gt;C</td>\n",
       "      <td>1</td>\n",
       "      <td>+</td>\n",
       "    </tr>\n",
       "    <tr>\n",
       "      <th>5</th>\n",
       "      <td>chr1</td>\n",
       "      <td>10257</td>\n",
       "      <td>10258</td>\n",
       "      <td>1:g.10257del</td>\n",
       "      <td>1</td>\n",
       "      <td>+</td>\n",
       "    </tr>\n",
       "    <tr>\n",
       "      <th>6</th>\n",
       "      <td>chr1</td>\n",
       "      <td>10273</td>\n",
       "      <td>10274</td>\n",
       "      <td>1:g.10273_10277del</td>\n",
       "      <td>1</td>\n",
       "      <td>+</td>\n",
       "    </tr>\n",
       "    <tr>\n",
       "      <th>7</th>\n",
       "      <td>chr1</td>\n",
       "      <td>10281</td>\n",
       "      <td>10282</td>\n",
       "      <td>1:g.10275_10281dup</td>\n",
       "      <td>1</td>\n",
       "      <td>+</td>\n",
       "    </tr>\n",
       "    <tr>\n",
       "      <th>8</th>\n",
       "      <td>chr1</td>\n",
       "      <td>10333</td>\n",
       "      <td>10334</td>\n",
       "      <td>1:g.10333C&gt;T</td>\n",
       "      <td>1</td>\n",
       "      <td>+</td>\n",
       "    </tr>\n",
       "    <tr>\n",
       "      <th>9</th>\n",
       "      <td>chr1</td>\n",
       "      <td>10341</td>\n",
       "      <td>10342</td>\n",
       "      <td>1:g.10341_10345del</td>\n",
       "      <td>1</td>\n",
       "      <td>+</td>\n",
       "    </tr>\n",
       "    <tr>\n",
       "      <th>10</th>\n",
       "      <td>chr1</td>\n",
       "      <td>10357</td>\n",
       "      <td>10358</td>\n",
       "      <td>1:g.10357T&gt;G</td>\n",
       "      <td>1</td>\n",
       "      <td>+</td>\n",
       "    </tr>\n",
       "    <tr>\n",
       "      <th>11</th>\n",
       "      <td>chr1</td>\n",
       "      <td>10375</td>\n",
       "      <td>10376</td>\n",
       "      <td>1:g.10375_10376insTAACCCTT</td>\n",
       "      <td>1</td>\n",
       "      <td>+</td>\n",
       "    </tr>\n",
       "    <tr>\n",
       "      <th>12</th>\n",
       "      <td>chr1</td>\n",
       "      <td>10403</td>\n",
       "      <td>10404</td>\n",
       "      <td>1:g.10403A&gt;C</td>\n",
       "      <td>1</td>\n",
       "      <td>+</td>\n",
       "    </tr>\n",
       "    <tr>\n",
       "      <th>13</th>\n",
       "      <td>chr1</td>\n",
       "      <td>10407</td>\n",
       "      <td>10408</td>\n",
       "      <td>1:g.10407T&gt;C</td>\n",
       "      <td>1</td>\n",
       "      <td>+</td>\n",
       "    </tr>\n",
       "    <tr>\n",
       "      <th>14</th>\n",
       "      <td>chr1</td>\n",
       "      <td>10408</td>\n",
       "      <td>10409</td>\n",
       "      <td>1:g.10408A&gt;T</td>\n",
       "      <td>1</td>\n",
       "      <td>+</td>\n",
       "    </tr>\n",
       "    <tr>\n",
       "      <th>15</th>\n",
       "      <td>chr1</td>\n",
       "      <td>10423</td>\n",
       "      <td>10424</td>\n",
       "      <td>1:g.10423C&gt;G</td>\n",
       "      <td>1</td>\n",
       "      <td>+</td>\n",
       "    </tr>\n",
       "    <tr>\n",
       "      <th>16</th>\n",
       "      <td>chr1</td>\n",
       "      <td>10437</td>\n",
       "      <td>10438</td>\n",
       "      <td>1:g.10437T&gt;C</td>\n",
       "      <td>1</td>\n",
       "      <td>+</td>\n",
       "    </tr>\n",
       "    <tr>\n",
       "      <th>17</th>\n",
       "      <td>chr1</td>\n",
       "      <td>10444</td>\n",
       "      <td>10445</td>\n",
       "      <td>1:g.10444T&gt;A</td>\n",
       "      <td>1</td>\n",
       "      <td>+</td>\n",
       "    </tr>\n",
       "    <tr>\n",
       "      <th>18</th>\n",
       "      <td>chr1</td>\n",
       "      <td>10464</td>\n",
       "      <td>10465</td>\n",
       "      <td>1:g.10464A&gt;T</td>\n",
       "      <td>1</td>\n",
       "      <td>+</td>\n",
       "    </tr>\n",
       "    <tr>\n",
       "      <th>19</th>\n",
       "      <td>chr1</td>\n",
       "      <td>10492</td>\n",
       "      <td>10493</td>\n",
       "      <td>1:g.10492C&gt;T</td>\n",
       "      <td>1</td>\n",
       "      <td>+</td>\n",
       "    </tr>\n",
       "  </tbody>\n",
       "</table>\n",
       "</div>"
      ],
      "text/plain": [
       "       0      1      2                           3  4  5\n",
       "0   chr1  10108  10109                1:g.10108C>T  1  +\n",
       "1   chr1  10151  10152                1:g.10151T>A  1  +\n",
       "2   chr1  10175  10176                1:g.10175T>A  1  +\n",
       "3   chr1  10181  10182                1:g.10181A>T  1  +\n",
       "4   chr1  10237  10238                1:g.10237A>C  1  +\n",
       "5   chr1  10257  10258                1:g.10257del  1  +\n",
       "6   chr1  10273  10274          1:g.10273_10277del  1  +\n",
       "7   chr1  10281  10282          1:g.10275_10281dup  1  +\n",
       "8   chr1  10333  10334                1:g.10333C>T  1  +\n",
       "9   chr1  10341  10342          1:g.10341_10345del  1  +\n",
       "10  chr1  10357  10358                1:g.10357T>G  1  +\n",
       "11  chr1  10375  10376  1:g.10375_10376insTAACCCTT  1  +\n",
       "12  chr1  10403  10404                1:g.10403A>C  1  +\n",
       "13  chr1  10407  10408                1:g.10407T>C  1  +\n",
       "14  chr1  10408  10409                1:g.10408A>T  1  +\n",
       "15  chr1  10423  10424                1:g.10423C>G  1  +\n",
       "16  chr1  10437  10438                1:g.10437T>C  1  +\n",
       "17  chr1  10444  10445                1:g.10444T>A  1  +\n",
       "18  chr1  10464  10465                1:g.10464A>T  1  +\n",
       "19  chr1  10492  10493                1:g.10492C>T  1  +"
      ]
     },
     "execution_count": 79,
     "metadata": {},
     "output_type": "execute_result"
    }
   ],
   "source": [
    "bed_srt = pd.read_csv('tmp_res/cosmic_mut_no_dup_sorted.bed', sep='\\t', header=None)\n",
    "bed_srt[0:20]"
   ]
  },
  {
   "cell_type": "code",
   "execution_count": 80,
   "metadata": {},
   "outputs": [],
   "source": [
    "! bedtools intersect -wao -a tmp_res/RiboSET_pred_ext.bed -b tmp_res/cosmic_mut_no_dup_sorted.bed > tmp_res/RiboSET_pred_ext_cosmic.bed"
   ]
  },
  {
   "cell_type": "code",
   "execution_count": 81,
   "metadata": {},
   "outputs": [],
   "source": [
    "! bedtools intersect -wao -a tmp_res/RiboSET_pred_start_codon.bed -b tmp_res/cosmic_mut_no_dup_sorted.bed > tmp_res/RiboSET_pred_start_codon_cosmic.bed"
   ]
  },
  {
   "cell_type": "code",
   "execution_count": null,
   "metadata": {},
   "outputs": [],
   "source": []
  },
  {
   "cell_type": "markdown",
   "metadata": {},
   "source": [
    "## Start codon ovlps"
   ]
  },
  {
   "cell_type": "code",
   "execution_count": 92,
   "metadata": {},
   "outputs": [
    {
     "data": {
      "text/html": [
       "<div>\n",
       "<style scoped>\n",
       "    .dataframe tbody tr th:only-of-type {\n",
       "        vertical-align: middle;\n",
       "    }\n",
       "\n",
       "    .dataframe tbody tr th {\n",
       "        vertical-align: top;\n",
       "    }\n",
       "\n",
       "    .dataframe thead th {\n",
       "        text-align: right;\n",
       "    }\n",
       "</style>\n",
       "<table border=\"1\" class=\"dataframe\">\n",
       "  <thead>\n",
       "    <tr style=\"text-align: right;\">\n",
       "      <th></th>\n",
       "      <th>chr_codon</th>\n",
       "      <th>start_codon</th>\n",
       "      <th>stop_codon</th>\n",
       "      <th>tr_id</th>\n",
       "      <th>chr_var</th>\n",
       "      <th>start_var</th>\n",
       "      <th>stop_var</th>\n",
       "      <th>HGVSG</th>\n",
       "      <th>1</th>\n",
       "      <th>strand</th>\n",
       "      <th>ovlp</th>\n",
       "    </tr>\n",
       "  </thead>\n",
       "  <tbody>\n",
       "    <tr>\n",
       "      <th>11</th>\n",
       "      <td>chr1</td>\n",
       "      <td>32817272</td>\n",
       "      <td>32817274</td>\n",
       "      <td>ENST00000373477.8</td>\n",
       "      <td>chr1</td>\n",
       "      <td>32817272</td>\n",
       "      <td>32817273</td>\n",
       "      <td>1:g.32817272C&gt;A</td>\n",
       "      <td>1</td>\n",
       "      <td>+</td>\n",
       "      <td>1</td>\n",
       "    </tr>\n",
       "    <tr>\n",
       "      <th>44</th>\n",
       "      <td>chr1</td>\n",
       "      <td>235128851</td>\n",
       "      <td>235128853</td>\n",
       "      <td>ENST00000366607.4</td>\n",
       "      <td>chr1</td>\n",
       "      <td>235128851</td>\n",
       "      <td>235128852</td>\n",
       "      <td>1:g.235128851C&gt;T</td>\n",
       "      <td>1</td>\n",
       "      <td>+</td>\n",
       "      <td>1</td>\n",
       "    </tr>\n",
       "  </tbody>\n",
       "</table>\n",
       "</div>"
      ],
      "text/plain": [
       "   chr_codon  start_codon  stop_codon              tr_id chr_var  start_var  \\\n",
       "11      chr1     32817272    32817274  ENST00000373477.8    chr1   32817272   \n",
       "44      chr1    235128851   235128853  ENST00000366607.4    chr1  235128851   \n",
       "\n",
       "     stop_var             HGVSG  1 strand  ovlp  \n",
       "11   32817273   1:g.32817272C>A  1      +     1  \n",
       "44  235128852  1:g.235128851C>T  1      +     1  "
      ]
     },
     "execution_count": 92,
     "metadata": {},
     "output_type": "execute_result"
    }
   ],
   "source": [
    "res_start = pd.read_csv('tmp_res/RiboSET_pred_start_codon_cosmic.bed', sep='\\t', header=None)\n",
    "\n",
    "#res_start.columns = ['chr_codon', 'start_codon', 'stop_codon', 'tr_id', 'chr_var', 'start_var', 'stop_var',\n",
    "                    #'ann_var', '-1']\n",
    "\n",
    "#res_start[res_start['start_var'] != -1].to_csv('Supplementary_tables_and_plots/tables/RSET_start_ClinVar.txt', sep='\\t', index=False)\n",
    "#res_start[res_start['start_var'] != -1]\n",
    "\n",
    "sel = res_start[res_start[5] != -1]\n",
    "\n",
    "sel.columns = ['chr_codon', 'start_codon', 'stop_codon', 'tr_id', 'chr_var', 'start_var', 'stop_var',\n",
    "                   'HGVSG', '1', 'strand', 'ovlp']\n",
    "\n",
    "sel[0:2]"
   ]
  },
  {
   "cell_type": "code",
   "execution_count": 93,
   "metadata": {},
   "outputs": [],
   "source": [
    "sel_ann = sel.merge(cosmic_var_f, on=['HGVSG'], how='inner')"
   ]
  },
  {
   "cell_type": "code",
   "execution_count": 98,
   "metadata": {},
   "outputs": [
    {
     "data": {
      "text/html": [
       "<div>\n",
       "<style scoped>\n",
       "    .dataframe tbody tr th:only-of-type {\n",
       "        vertical-align: middle;\n",
       "    }\n",
       "\n",
       "    .dataframe tbody tr th {\n",
       "        vertical-align: top;\n",
       "    }\n",
       "\n",
       "    .dataframe thead th {\n",
       "        text-align: right;\n",
       "    }\n",
       "</style>\n",
       "<table border=\"1\" class=\"dataframe\">\n",
       "  <thead>\n",
       "    <tr style=\"text-align: right;\">\n",
       "      <th></th>\n",
       "      <th>tr_id</th>\n",
       "      <th>gene</th>\n",
       "      <th>gene_tr</th>\n",
       "      <th>transcript_seq</th>\n",
       "      <th>5UTR_start_seq</th>\n",
       "      <th>CDS_start</th>\n",
       "      <th>cds_seq</th>\n",
       "      <th>cds_start_codon</th>\n",
       "      <th>cds_stop_codon</th>\n",
       "      <th>cds_start_pos</th>\n",
       "      <th>cds_stop_pos</th>\n",
       "      <th>utr5_start</th>\n",
       "      <th>utr5_end</th>\n",
       "      <th>record_id</th>\n",
       "    </tr>\n",
       "  </thead>\n",
       "  <tbody>\n",
       "    <tr>\n",
       "      <th>15116</th>\n",
       "      <td>ENST00000273158.8</td>\n",
       "      <td>SLC25A38</td>\n",
       "      <td>SLC25A38-001</td>\n",
       "      <td>GAAGCGAAATCTCCCCTTCTACAGAGTTCCTCCGGCGCTTCCTCCA...</td>\n",
       "      <td>GAAGCGAAATCTCCCCTTCTACAGAGTTCCTCCGGCGCTTCCTCCA...</td>\n",
       "      <td>CCA</td>\n",
       "      <td>ATGATTCAGAACTCACGTCCGTCGCTGCTGCAACCCCAAGATGTCG...</td>\n",
       "      <td>ATG</td>\n",
       "      <td>TGA</td>\n",
       "      <td>377</td>\n",
       "      <td>1292</td>\n",
       "      <td>0</td>\n",
       "      <td>377</td>\n",
       "      <td>ENST00000273158.8|ENSG00000144659.10|OTTHUMG00...</td>\n",
       "    </tr>\n",
       "  </tbody>\n",
       "</table>\n",
       "</div>"
      ],
      "text/plain": [
       "                   tr_id      gene       gene_tr  \\\n",
       "15116  ENST00000273158.8  SLC25A38  SLC25A38-001   \n",
       "\n",
       "                                          transcript_seq  \\\n",
       "15116  GAAGCGAAATCTCCCCTTCTACAGAGTTCCTCCGGCGCTTCCTCCA...   \n",
       "\n",
       "                                          5UTR_start_seq CDS_start  \\\n",
       "15116  GAAGCGAAATCTCCCCTTCTACAGAGTTCCTCCGGCGCTTCCTCCA...       CCA   \n",
       "\n",
       "                                                 cds_seq cds_start_codon  \\\n",
       "15116  ATGATTCAGAACTCACGTCCGTCGCTGCTGCAACCCCAAGATGTCG...             ATG   \n",
       "\n",
       "      cds_stop_codon  cds_start_pos  cds_stop_pos  utr5_start  utr5_end  \\\n",
       "15116            TGA            377          1292           0       377   \n",
       "\n",
       "                                               record_id  \n",
       "15116  ENST00000273158.8|ENSG00000144659.10|OTTHUMG00...  "
      ]
     },
     "execution_count": 98,
     "metadata": {},
     "output_type": "execute_result"
    }
   ],
   "source": [
    "metadata_pc_g25[metadata_pc_g25['tr_id'] == 'ENST00000273158.8']"
   ]
  },
  {
   "cell_type": "code",
   "execution_count": null,
   "metadata": {},
   "outputs": [],
   "source": [
    "(1) add genes and strand \n",
    "(2) add start codons sequence\n",
    "(3) global change -> local change \n",
    "e.g. '-' strand, [start=C, middle=T, stop=G], change at the start C>A => ATG \n",
    "\n",
    "\n",
    "(4) for extensions "
   ]
  },
  {
   "cell_type": "code",
   "execution_count": 94,
   "metadata": {},
   "outputs": [
    {
     "data": {
      "text/html": [
       "<div>\n",
       "<style scoped>\n",
       "    .dataframe tbody tr th:only-of-type {\n",
       "        vertical-align: middle;\n",
       "    }\n",
       "\n",
       "    .dataframe tbody tr th {\n",
       "        vertical-align: top;\n",
       "    }\n",
       "\n",
       "    .dataframe thead th {\n",
       "        text-align: right;\n",
       "    }\n",
       "</style>\n",
       "<table border=\"1\" class=\"dataframe\">\n",
       "  <thead>\n",
       "    <tr style=\"text-align: right;\">\n",
       "      <th></th>\n",
       "      <th>chr_codon</th>\n",
       "      <th>start_codon</th>\n",
       "      <th>stop_codon</th>\n",
       "      <th>tr_id</th>\n",
       "      <th>chr_var</th>\n",
       "      <th>start_var</th>\n",
       "      <th>stop_var</th>\n",
       "      <th>HGVSG</th>\n",
       "      <th>1</th>\n",
       "      <th>strand</th>\n",
       "      <th>ovlp</th>\n",
       "      <th>Primary site</th>\n",
       "      <th>Primary histology</th>\n",
       "      <th>Histology subtype 1</th>\n",
       "      <th>genome position</th>\n",
       "      <th>GRCh</th>\n",
       "    </tr>\n",
       "  </thead>\n",
       "  <tbody>\n",
       "    <tr>\n",
       "      <th>0</th>\n",
       "      <td>chr1</td>\n",
       "      <td>32817272</td>\n",
       "      <td>32817274</td>\n",
       "      <td>ENST00000373477.8</td>\n",
       "      <td>chr1</td>\n",
       "      <td>32817272</td>\n",
       "      <td>32817273</td>\n",
       "      <td>1:g.32817272C&gt;A</td>\n",
       "      <td>1</td>\n",
       "      <td>+</td>\n",
       "      <td>1</td>\n",
       "      <td>urinary_tract</td>\n",
       "      <td>carcinoma</td>\n",
       "      <td>NS</td>\n",
       "      <td>1:32817272-32817272</td>\n",
       "      <td>38</td>\n",
       "    </tr>\n",
       "    <tr>\n",
       "      <th>1</th>\n",
       "      <td>chr1</td>\n",
       "      <td>235128851</td>\n",
       "      <td>235128853</td>\n",
       "      <td>ENST00000366607.4</td>\n",
       "      <td>chr1</td>\n",
       "      <td>235128851</td>\n",
       "      <td>235128852</td>\n",
       "      <td>1:g.235128851C&gt;T</td>\n",
       "      <td>1</td>\n",
       "      <td>+</td>\n",
       "      <td>1</td>\n",
       "      <td>skin</td>\n",
       "      <td>malignant_melanoma</td>\n",
       "      <td>NS</td>\n",
       "      <td>1:235128851-235128851</td>\n",
       "      <td>38</td>\n",
       "    </tr>\n",
       "    <tr>\n",
       "      <th>2</th>\n",
       "      <td>chr3</td>\n",
       "      <td>33798684</td>\n",
       "      <td>33798686</td>\n",
       "      <td>ENST00000307296.7</td>\n",
       "      <td>chr3</td>\n",
       "      <td>33798685</td>\n",
       "      <td>33798686</td>\n",
       "      <td>3:g.33798685T&gt;A</td>\n",
       "      <td>1</td>\n",
       "      <td>+</td>\n",
       "      <td>1</td>\n",
       "      <td>liver</td>\n",
       "      <td>carcinoma</td>\n",
       "      <td>NS</td>\n",
       "      <td>3:33798685-33798685</td>\n",
       "      <td>38</td>\n",
       "    </tr>\n",
       "    <tr>\n",
       "      <th>3</th>\n",
       "      <td>chr3</td>\n",
       "      <td>39383692</td>\n",
       "      <td>39383694</td>\n",
       "      <td>ENST00000273158.8</td>\n",
       "      <td>chr3</td>\n",
       "      <td>39383692</td>\n",
       "      <td>39383693</td>\n",
       "      <td>3:g.39383692C&gt;A</td>\n",
       "      <td>1</td>\n",
       "      <td>+</td>\n",
       "      <td>1</td>\n",
       "      <td>cervix</td>\n",
       "      <td>carcinoma</td>\n",
       "      <td>squamous_cell_carcinoma</td>\n",
       "      <td>3:39383692-39383692</td>\n",
       "      <td>38</td>\n",
       "    </tr>\n",
       "    <tr>\n",
       "      <th>4</th>\n",
       "      <td>chr4</td>\n",
       "      <td>105895605</td>\n",
       "      <td>105895607</td>\n",
       "      <td>ENST00000379987.6</td>\n",
       "      <td>chr4</td>\n",
       "      <td>105895605</td>\n",
       "      <td>105895606</td>\n",
       "      <td>4:g.105895605C&gt;A</td>\n",
       "      <td>1</td>\n",
       "      <td>+</td>\n",
       "      <td>1</td>\n",
       "      <td>endometrium</td>\n",
       "      <td>carcinoma</td>\n",
       "      <td>endometrioid_carcinoma</td>\n",
       "      <td>4:105895605-105895605</td>\n",
       "      <td>38</td>\n",
       "    </tr>\n",
       "    <tr>\n",
       "      <th>5</th>\n",
       "      <td>chr5</td>\n",
       "      <td>69167221</td>\n",
       "      <td>69167223</td>\n",
       "      <td>ENST00000256442.9</td>\n",
       "      <td>chr5</td>\n",
       "      <td>69167221</td>\n",
       "      <td>69167222</td>\n",
       "      <td>5:g.69167221C&gt;T</td>\n",
       "      <td>1</td>\n",
       "      <td>+</td>\n",
       "      <td>1</td>\n",
       "      <td>cervix</td>\n",
       "      <td>carcinoma</td>\n",
       "      <td>squamous_cell_carcinoma</td>\n",
       "      <td>5:69167221-69167221</td>\n",
       "      <td>38</td>\n",
       "    </tr>\n",
       "    <tr>\n",
       "      <th>6</th>\n",
       "      <td>chr5</td>\n",
       "      <td>131359392</td>\n",
       "      <td>131359394</td>\n",
       "      <td>ENST00000505065.1</td>\n",
       "      <td>chr5</td>\n",
       "      <td>131359392</td>\n",
       "      <td>131359393</td>\n",
       "      <td>5:g.131359392T&gt;C</td>\n",
       "      <td>1</td>\n",
       "      <td>+</td>\n",
       "      <td>1</td>\n",
       "      <td>liver</td>\n",
       "      <td>other</td>\n",
       "      <td>neoplasm</td>\n",
       "      <td>5:131359392-131359392</td>\n",
       "      <td>38</td>\n",
       "    </tr>\n",
       "    <tr>\n",
       "      <th>7</th>\n",
       "      <td>chr6</td>\n",
       "      <td>85642947</td>\n",
       "      <td>85642949</td>\n",
       "      <td>ENST00000369622.7</td>\n",
       "      <td>chr6</td>\n",
       "      <td>85642948</td>\n",
       "      <td>85642949</td>\n",
       "      <td>6:g.85642948A&gt;T</td>\n",
       "      <td>1</td>\n",
       "      <td>+</td>\n",
       "      <td>1</td>\n",
       "      <td>lung</td>\n",
       "      <td>carcinoma</td>\n",
       "      <td>NS</td>\n",
       "      <td>6:85642948-85642948</td>\n",
       "      <td>38</td>\n",
       "    </tr>\n",
       "    <tr>\n",
       "      <th>8</th>\n",
       "      <td>chr6</td>\n",
       "      <td>138404385</td>\n",
       "      <td>138404387</td>\n",
       "      <td>ENST00000607197.5</td>\n",
       "      <td>chr6</td>\n",
       "      <td>138404385</td>\n",
       "      <td>138404386</td>\n",
       "      <td>6:g.138404385C&gt;T</td>\n",
       "      <td>1</td>\n",
       "      <td>+</td>\n",
       "      <td>1</td>\n",
       "      <td>pancreas</td>\n",
       "      <td>carcinoma</td>\n",
       "      <td>ductal_carcinoma</td>\n",
       "      <td>6:138404385-138404385</td>\n",
       "      <td>38</td>\n",
       "    </tr>\n",
       "    <tr>\n",
       "      <th>9</th>\n",
       "      <td>chr7</td>\n",
       "      <td>137343468</td>\n",
       "      <td>137343470</td>\n",
       "      <td>ENST00000348225.6</td>\n",
       "      <td>chr7</td>\n",
       "      <td>137343468</td>\n",
       "      <td>137343469</td>\n",
       "      <td>7:g.137343468C&gt;T</td>\n",
       "      <td>1</td>\n",
       "      <td>+</td>\n",
       "      <td>1</td>\n",
       "      <td>lung</td>\n",
       "      <td>carcinoma</td>\n",
       "      <td>squamous_cell_carcinoma</td>\n",
       "      <td>7:137343468-137343468</td>\n",
       "      <td>38</td>\n",
       "    </tr>\n",
       "    <tr>\n",
       "      <th>10</th>\n",
       "      <td>chr10</td>\n",
       "      <td>112950682</td>\n",
       "      <td>112950684</td>\n",
       "      <td>ENST00000369397.8</td>\n",
       "      <td>chr10</td>\n",
       "      <td>112950682</td>\n",
       "      <td>112950683</td>\n",
       "      <td>10:g.112950682T&gt;G</td>\n",
       "      <td>1</td>\n",
       "      <td>+</td>\n",
       "      <td>1</td>\n",
       "      <td>endometrium</td>\n",
       "      <td>carcinoma</td>\n",
       "      <td>endometrioid_carcinoma</td>\n",
       "      <td>10:112950682-112950682</td>\n",
       "      <td>38</td>\n",
       "    </tr>\n",
       "    <tr>\n",
       "      <th>11</th>\n",
       "      <td>chr11</td>\n",
       "      <td>34051749</td>\n",
       "      <td>34051751</td>\n",
       "      <td>ENST00000341394.8</td>\n",
       "      <td>chr11</td>\n",
       "      <td>34051750</td>\n",
       "      <td>34051751</td>\n",
       "      <td>11:g.34051750T&gt;C</td>\n",
       "      <td>1</td>\n",
       "      <td>+</td>\n",
       "      <td>1</td>\n",
       "      <td>pancreas</td>\n",
       "      <td>carcinoma</td>\n",
       "      <td>ductal_carcinoma</td>\n",
       "      <td>11:34051750-34051750</td>\n",
       "      <td>38</td>\n",
       "    </tr>\n",
       "    <tr>\n",
       "      <th>12</th>\n",
       "      <td>chr14</td>\n",
       "      <td>67695740</td>\n",
       "      <td>67695742</td>\n",
       "      <td>ENST00000381346.8</td>\n",
       "      <td>chr14</td>\n",
       "      <td>67695740</td>\n",
       "      <td>67695741</td>\n",
       "      <td>14:g.67695740C&gt;T</td>\n",
       "      <td>1</td>\n",
       "      <td>+</td>\n",
       "      <td>1</td>\n",
       "      <td>skin</td>\n",
       "      <td>malignant_melanoma</td>\n",
       "      <td>NS</td>\n",
       "      <td>14:67695740-67695740</td>\n",
       "      <td>38</td>\n",
       "    </tr>\n",
       "    <tr>\n",
       "      <th>13</th>\n",
       "      <td>chr16</td>\n",
       "      <td>84617978</td>\n",
       "      <td>84617980</td>\n",
       "      <td>ENST00000262428.4</td>\n",
       "      <td>chr16</td>\n",
       "      <td>84617979</td>\n",
       "      <td>84617980</td>\n",
       "      <td>16:g.84617979A&gt;G</td>\n",
       "      <td>1</td>\n",
       "      <td>+</td>\n",
       "      <td>1</td>\n",
       "      <td>skin</td>\n",
       "      <td>carcinoma</td>\n",
       "      <td>NS</td>\n",
       "      <td>16:84617979-84617979</td>\n",
       "      <td>38</td>\n",
       "    </tr>\n",
       "    <tr>\n",
       "      <th>14</th>\n",
       "      <td>chr17</td>\n",
       "      <td>1400177</td>\n",
       "      <td>1400179</td>\n",
       "      <td>ENST00000264335.12</td>\n",
       "      <td>chr17</td>\n",
       "      <td>1400178</td>\n",
       "      <td>1400179</td>\n",
       "      <td>17:g.1400178C&gt;A</td>\n",
       "      <td>1</td>\n",
       "      <td>+</td>\n",
       "      <td>1</td>\n",
       "      <td>endometrium</td>\n",
       "      <td>carcinoma</td>\n",
       "      <td>endometrioid_carcinoma</td>\n",
       "      <td>17:1400178-1400178</td>\n",
       "      <td>38</td>\n",
       "    </tr>\n",
       "    <tr>\n",
       "      <th>15</th>\n",
       "      <td>chr19</td>\n",
       "      <td>5623170</td>\n",
       "      <td>5623172</td>\n",
       "      <td>ENST00000292123.9</td>\n",
       "      <td>chr19</td>\n",
       "      <td>5623170</td>\n",
       "      <td>5623171</td>\n",
       "      <td>19:g.5623170C&gt;A</td>\n",
       "      <td>1</td>\n",
       "      <td>+</td>\n",
       "      <td>1</td>\n",
       "      <td>endometrium</td>\n",
       "      <td>carcinoma</td>\n",
       "      <td>endometrioid_carcinoma</td>\n",
       "      <td>19:5623170-5623170</td>\n",
       "      <td>38</td>\n",
       "    </tr>\n",
       "    <tr>\n",
       "      <th>16</th>\n",
       "      <td>chr19</td>\n",
       "      <td>49867495</td>\n",
       "      <td>49867497</td>\n",
       "      <td>ENST00000322344.7</td>\n",
       "      <td>chr19</td>\n",
       "      <td>49867495</td>\n",
       "      <td>49867496</td>\n",
       "      <td>19:g.49867495C&gt;T</td>\n",
       "      <td>1</td>\n",
       "      <td>+</td>\n",
       "      <td>1</td>\n",
       "      <td>pancreas</td>\n",
       "      <td>carcinoma</td>\n",
       "      <td>ductal_carcinoma</td>\n",
       "      <td>19:49867495-49867495</td>\n",
       "      <td>38</td>\n",
       "    </tr>\n",
       "  </tbody>\n",
       "</table>\n",
       "</div>"
      ],
      "text/plain": [
       "   chr_codon  start_codon  stop_codon               tr_id chr_var  start_var  \\\n",
       "0       chr1     32817272    32817274   ENST00000373477.8    chr1   32817272   \n",
       "1       chr1    235128851   235128853   ENST00000366607.4    chr1  235128851   \n",
       "2       chr3     33798684    33798686   ENST00000307296.7    chr3   33798685   \n",
       "3       chr3     39383692    39383694   ENST00000273158.8    chr3   39383692   \n",
       "4       chr4    105895605   105895607   ENST00000379987.6    chr4  105895605   \n",
       "5       chr5     69167221    69167223   ENST00000256442.9    chr5   69167221   \n",
       "6       chr5    131359392   131359394   ENST00000505065.1    chr5  131359392   \n",
       "7       chr6     85642947    85642949   ENST00000369622.7    chr6   85642948   \n",
       "8       chr6    138404385   138404387   ENST00000607197.5    chr6  138404385   \n",
       "9       chr7    137343468   137343470   ENST00000348225.6    chr7  137343468   \n",
       "10     chr10    112950682   112950684   ENST00000369397.8   chr10  112950682   \n",
       "11     chr11     34051749    34051751   ENST00000341394.8   chr11   34051750   \n",
       "12     chr14     67695740    67695742   ENST00000381346.8   chr14   67695740   \n",
       "13     chr16     84617978    84617980   ENST00000262428.4   chr16   84617979   \n",
       "14     chr17      1400177     1400179  ENST00000264335.12   chr17    1400178   \n",
       "15     chr19      5623170     5623172   ENST00000292123.9   chr19    5623170   \n",
       "16     chr19     49867495    49867497   ENST00000322344.7   chr19   49867495   \n",
       "\n",
       "     stop_var              HGVSG  1 strand  ovlp   Primary site  \\\n",
       "0    32817273    1:g.32817272C>A  1      +     1  urinary_tract   \n",
       "1   235128852   1:g.235128851C>T  1      +     1           skin   \n",
       "2    33798686    3:g.33798685T>A  1      +     1          liver   \n",
       "3    39383693    3:g.39383692C>A  1      +     1         cervix   \n",
       "4   105895606   4:g.105895605C>A  1      +     1    endometrium   \n",
       "5    69167222    5:g.69167221C>T  1      +     1         cervix   \n",
       "6   131359393   5:g.131359392T>C  1      +     1          liver   \n",
       "7    85642949    6:g.85642948A>T  1      +     1           lung   \n",
       "8   138404386   6:g.138404385C>T  1      +     1       pancreas   \n",
       "9   137343469   7:g.137343468C>T  1      +     1           lung   \n",
       "10  112950683  10:g.112950682T>G  1      +     1    endometrium   \n",
       "11   34051751   11:g.34051750T>C  1      +     1       pancreas   \n",
       "12   67695741   14:g.67695740C>T  1      +     1           skin   \n",
       "13   84617980   16:g.84617979A>G  1      +     1           skin   \n",
       "14    1400179    17:g.1400178C>A  1      +     1    endometrium   \n",
       "15    5623171    19:g.5623170C>A  1      +     1    endometrium   \n",
       "16   49867496   19:g.49867495C>T  1      +     1       pancreas   \n",
       "\n",
       "     Primary histology      Histology subtype 1         genome position  GRCh  \n",
       "0            carcinoma                       NS     1:32817272-32817272    38  \n",
       "1   malignant_melanoma                       NS   1:235128851-235128851    38  \n",
       "2            carcinoma                       NS     3:33798685-33798685    38  \n",
       "3            carcinoma  squamous_cell_carcinoma     3:39383692-39383692    38  \n",
       "4            carcinoma   endometrioid_carcinoma   4:105895605-105895605    38  \n",
       "5            carcinoma  squamous_cell_carcinoma     5:69167221-69167221    38  \n",
       "6                other                 neoplasm   5:131359392-131359392    38  \n",
       "7            carcinoma                       NS     6:85642948-85642948    38  \n",
       "8            carcinoma         ductal_carcinoma   6:138404385-138404385    38  \n",
       "9            carcinoma  squamous_cell_carcinoma   7:137343468-137343468    38  \n",
       "10           carcinoma   endometrioid_carcinoma  10:112950682-112950682    38  \n",
       "11           carcinoma         ductal_carcinoma    11:34051750-34051750    38  \n",
       "12  malignant_melanoma                       NS    14:67695740-67695740    38  \n",
       "13           carcinoma                       NS    16:84617979-84617979    38  \n",
       "14           carcinoma   endometrioid_carcinoma      17:1400178-1400178    38  \n",
       "15           carcinoma   endometrioid_carcinoma      19:5623170-5623170    38  \n",
       "16           carcinoma         ductal_carcinoma    19:49867495-49867495    38  "
      ]
     },
     "execution_count": 94,
     "metadata": {},
     "output_type": "execute_result"
    }
   ],
   "source": [
    "* ENST00000373477.8, YARS, '-', CTG, 72C>A\n",
    "\n",
    "   272 273 274\n",
    "'+' C   A   G\n",
    "'-' G   T   C\n",
    "   274 273 272\n",
    "\n",
    "\n",
    "   272 273 274\n",
    "'+' C   A   T\n",
    "'-' G   T   A\n",
    "   274 273 272\n",
    "    \n",
    "CTG -> ATG\n",
    "\n",
    "\n",
    "\n",
    "* ENST00000366607.4, TOMM20, '-', GTG, \n",
    "* ENST00000307296.7, PDCD6IP, '+', CTG, T>A, CAG \n",
    "* ENST00000273158.8, SLC25A38, '', "
   ]
  },
  {
   "cell_type": "code",
   "execution_count": null,
   "metadata": {},
   "outputs": [],
   "source": []
  },
  {
   "cell_type": "code",
   "execution_count": null,
   "metadata": {},
   "outputs": [],
   "source": []
  },
  {
   "cell_type": "code",
   "execution_count": null,
   "metadata": {},
   "outputs": [],
   "source": []
  },
  {
   "cell_type": "code",
   "execution_count": null,
   "metadata": {},
   "outputs": [],
   "source": []
  },
  {
   "cell_type": "markdown",
   "metadata": {},
   "source": [
    "# Extension overlaps "
   ]
  },
  {
   "cell_type": "code",
   "execution_count": 99,
   "metadata": {},
   "outputs": [
    {
     "data": {
      "text/html": [
       "<div>\n",
       "<style scoped>\n",
       "    .dataframe tbody tr th:only-of-type {\n",
       "        vertical-align: middle;\n",
       "    }\n",
       "\n",
       "    .dataframe tbody tr th {\n",
       "        vertical-align: top;\n",
       "    }\n",
       "\n",
       "    .dataframe thead th {\n",
       "        text-align: right;\n",
       "    }\n",
       "</style>\n",
       "<table border=\"1\" class=\"dataframe\">\n",
       "  <thead>\n",
       "    <tr style=\"text-align: right;\">\n",
       "      <th></th>\n",
       "      <th>0</th>\n",
       "      <th>1</th>\n",
       "      <th>2</th>\n",
       "      <th>3</th>\n",
       "      <th>4</th>\n",
       "      <th>5</th>\n",
       "      <th>6</th>\n",
       "      <th>7</th>\n",
       "      <th>8</th>\n",
       "      <th>9</th>\n",
       "      <th>10</th>\n",
       "    </tr>\n",
       "  </thead>\n",
       "  <tbody>\n",
       "    <tr>\n",
       "      <th>0</th>\n",
       "      <td>chr1</td>\n",
       "      <td>1013520</td>\n",
       "      <td>1013573</td>\n",
       "      <td>ENST00000379389.4</td>\n",
       "      <td>chr1</td>\n",
       "      <td>1013528</td>\n",
       "      <td>1013529</td>\n",
       "      <td>1:g.1013528C&gt;T</td>\n",
       "      <td>1</td>\n",
       "      <td>+</td>\n",
       "      <td>1</td>\n",
       "    </tr>\n",
       "    <tr>\n",
       "      <th>1</th>\n",
       "      <td>chr1</td>\n",
       "      <td>1013520</td>\n",
       "      <td>1013573</td>\n",
       "      <td>ENST00000379389.4</td>\n",
       "      <td>chr1</td>\n",
       "      <td>1013531</td>\n",
       "      <td>1013532</td>\n",
       "      <td>1:g.1013531T&gt;C</td>\n",
       "      <td>1</td>\n",
       "      <td>+</td>\n",
       "      <td>1</td>\n",
       "    </tr>\n",
       "    <tr>\n",
       "      <th>2</th>\n",
       "      <td>chr1</td>\n",
       "      <td>1013520</td>\n",
       "      <td>1013573</td>\n",
       "      <td>ENST00000379389.4</td>\n",
       "      <td>chr1</td>\n",
       "      <td>1013559</td>\n",
       "      <td>1013560</td>\n",
       "      <td>1:g.1013559C&gt;T</td>\n",
       "      <td>1</td>\n",
       "      <td>+</td>\n",
       "      <td>1</td>\n",
       "    </tr>\n",
       "    <tr>\n",
       "      <th>4</th>\n",
       "      <td>chr1</td>\n",
       "      <td>1374757</td>\n",
       "      <td>1375053</td>\n",
       "      <td>ENST00000338370.7</td>\n",
       "      <td>chr1</td>\n",
       "      <td>1374760</td>\n",
       "      <td>1374761</td>\n",
       "      <td>1:g.1374760C&gt;A</td>\n",
       "      <td>1</td>\n",
       "      <td>+</td>\n",
       "      <td>1</td>\n",
       "    </tr>\n",
       "    <tr>\n",
       "      <th>5</th>\n",
       "      <td>chr1</td>\n",
       "      <td>1374757</td>\n",
       "      <td>1375053</td>\n",
       "      <td>ENST00000338370.7</td>\n",
       "      <td>chr1</td>\n",
       "      <td>1374801</td>\n",
       "      <td>1374802</td>\n",
       "      <td>1:g.1374801A&gt;G</td>\n",
       "      <td>1</td>\n",
       "      <td>+</td>\n",
       "      <td>1</td>\n",
       "    </tr>\n",
       "    <tr>\n",
       "      <th>...</th>\n",
       "      <td>...</td>\n",
       "      <td>...</td>\n",
       "      <td>...</td>\n",
       "      <td>...</td>\n",
       "      <td>...</td>\n",
       "      <td>...</td>\n",
       "      <td>...</td>\n",
       "      <td>...</td>\n",
       "      <td>...</td>\n",
       "      <td>...</td>\n",
       "      <td>...</td>\n",
       "    </tr>\n",
       "    <tr>\n",
       "      <th>1096</th>\n",
       "      <td>chr22</td>\n",
       "      <td>41620840</td>\n",
       "      <td>41620905</td>\n",
       "      <td>ENST00000263256.6</td>\n",
       "      <td>chr22</td>\n",
       "      <td>41620874</td>\n",
       "      <td>41620875</td>\n",
       "      <td>22:g.41620874C&gt;G</td>\n",
       "      <td>1</td>\n",
       "      <td>+</td>\n",
       "      <td>1</td>\n",
       "    </tr>\n",
       "    <tr>\n",
       "      <th>1099</th>\n",
       "      <td>chr22</td>\n",
       "      <td>42070298</td>\n",
       "      <td>42070330</td>\n",
       "      <td>ENST00000396398.7</td>\n",
       "      <td>chr22</td>\n",
       "      <td>42070303</td>\n",
       "      <td>42070304</td>\n",
       "      <td>22:g.42070303T&gt;A</td>\n",
       "      <td>1</td>\n",
       "      <td>+</td>\n",
       "      <td>1</td>\n",
       "    </tr>\n",
       "    <tr>\n",
       "      <th>1100</th>\n",
       "      <td>chr22</td>\n",
       "      <td>42070298</td>\n",
       "      <td>42070330</td>\n",
       "      <td>ENST00000396398.7</td>\n",
       "      <td>chr22</td>\n",
       "      <td>42070305</td>\n",
       "      <td>42070306</td>\n",
       "      <td>22:g.42070305G&gt;C</td>\n",
       "      <td>1</td>\n",
       "      <td>+</td>\n",
       "      <td>1</td>\n",
       "    </tr>\n",
       "    <tr>\n",
       "      <th>1101</th>\n",
       "      <td>chr22</td>\n",
       "      <td>42070298</td>\n",
       "      <td>42070330</td>\n",
       "      <td>ENST00000396398.7</td>\n",
       "      <td>chr22</td>\n",
       "      <td>42070319</td>\n",
       "      <td>42070320</td>\n",
       "      <td>22:g.42070319G&gt;T</td>\n",
       "      <td>1</td>\n",
       "      <td>+</td>\n",
       "      <td>1</td>\n",
       "    </tr>\n",
       "    <tr>\n",
       "      <th>1102</th>\n",
       "      <td>chr22</td>\n",
       "      <td>49918731</td>\n",
       "      <td>49918769</td>\n",
       "      <td>ENST00000328268.8</td>\n",
       "      <td>chr22</td>\n",
       "      <td>49918740</td>\n",
       "      <td>49918741</td>\n",
       "      <td>22:g.49918740C&gt;T</td>\n",
       "      <td>1</td>\n",
       "      <td>+</td>\n",
       "      <td>1</td>\n",
       "    </tr>\n",
       "  </tbody>\n",
       "</table>\n",
       "<p>891 rows × 11 columns</p>\n",
       "</div>"
      ],
      "text/plain": [
       "         0         1         2                  3      4         5         6   \\\n",
       "0      chr1   1013520   1013573  ENST00000379389.4   chr1   1013528   1013529   \n",
       "1      chr1   1013520   1013573  ENST00000379389.4   chr1   1013531   1013532   \n",
       "2      chr1   1013520   1013573  ENST00000379389.4   chr1   1013559   1013560   \n",
       "4      chr1   1374757   1375053  ENST00000338370.7   chr1   1374760   1374761   \n",
       "5      chr1   1374757   1375053  ENST00000338370.7   chr1   1374801   1374802   \n",
       "...     ...       ...       ...                ...    ...       ...       ...   \n",
       "1096  chr22  41620840  41620905  ENST00000263256.6  chr22  41620874  41620875   \n",
       "1099  chr22  42070298  42070330  ENST00000396398.7  chr22  42070303  42070304   \n",
       "1100  chr22  42070298  42070330  ENST00000396398.7  chr22  42070305  42070306   \n",
       "1101  chr22  42070298  42070330  ENST00000396398.7  chr22  42070319  42070320   \n",
       "1102  chr22  49918731  49918769  ENST00000328268.8  chr22  49918740  49918741   \n",
       "\n",
       "                    7   8  9   10  \n",
       "0       1:g.1013528C>T   1  +   1  \n",
       "1       1:g.1013531T>C   1  +   1  \n",
       "2       1:g.1013559C>T   1  +   1  \n",
       "4       1:g.1374760C>A   1  +   1  \n",
       "5       1:g.1374801A>G   1  +   1  \n",
       "...                ...  .. ..  ..  \n",
       "1096  22:g.41620874C>G   1  +   1  \n",
       "1099  22:g.42070303T>A   1  +   1  \n",
       "1100  22:g.42070305G>C   1  +   1  \n",
       "1101  22:g.42070319G>T   1  +   1  \n",
       "1102  22:g.49918740C>T   1  +   1  \n",
       "\n",
       "[891 rows x 11 columns]"
      ]
     },
     "execution_count": 99,
     "metadata": {},
     "output_type": "execute_result"
    }
   ],
   "source": [
    "res_start = pd.read_csv('tmp_res/RiboSET_pred_ext_cosmic.bed', sep='\\t', header=None)\n",
    "\n",
    "#res_start.columns = ['chr_codon', 'start_codon', 'stop_codon', 'tr_id', 'chr_var', 'start_var', 'stop_var',\n",
    "                    #'ann_var', '-1']\n",
    "\n",
    "#res_start[res_start['start_var'] != -1].to_csv('Supplementary_tables_and_plots/tables/RSET_start_ClinVar.txt', sep='\\t', index=False)\n",
    "#res_start[res_start['start_var'] != -1]\n",
    "\n",
    "res_start[res_start[5] != -1]"
   ]
  },
  {
   "cell_type": "code",
   "execution_count": null,
   "metadata": {},
   "outputs": [],
   "source": [
    "# transform global coo into local coo "
   ]
  },
  {
   "cell_type": "code",
   "execution_count": null,
   "metadata": {},
   "outputs": [],
   "source": []
  },
  {
   "cell_type": "code",
   "execution_count": null,
   "metadata": {},
   "outputs": [],
   "source": []
  },
  {
   "cell_type": "code",
   "execution_count": null,
   "metadata": {},
   "outputs": [],
   "source": []
  },
  {
   "cell_type": "markdown",
   "metadata": {},
   "source": [
    "# Alphafold "
   ]
  },
  {
   "cell_type": "code",
   "execution_count": 91,
   "metadata": {},
   "outputs": [],
   "source": [
    "gene = 'SFPQ'\n",
    "\n",
    "\n",
    "transcript_seq = metadata_pc_g25[metadata_pc_g25['tr_id'] == 'ENST00000357214.5'].iloc[0].transcript_seq\n",
    "cds_start_pos = metadata_pc_g25[metadata_pc_g25['tr_id'] == 'ENST00000357214.5'].iloc[0].cds_start_pos\n",
    "cds_stop_pos = metadata_pc_g25[metadata_pc_g25['tr_id'] == 'ENST00000357214.5'].iloc[0].cds_stop_pos\n",
    "N_start = RiboSET[RiboSET['gene'] == gene].iloc[0].start_codon_local_coo_start-1\n",
    "\n",
    "\n",
    "\n",
    "NTE_proteoform = transcript_seq[N_start:cds_stop_pos]\n",
    "CDS_proteoform = transcript_seq[cds_start_pos:cds_stop_pos]\n",
    "\n",
    "NTE_proteoform_aa = str(Seq(NTE_proteoform).translate())"
   ]
  },
  {
   "cell_type": "code",
   "execution_count": 92,
   "metadata": {},
   "outputs": [
    {
     "data": {
      "text/plain": [
       "'MASTFPERLLRFCLDRPLTTDMSRDRFRSRGGGGGGFHRRGGGGGRGGLHDFRSPPPGMGLNQNRGPMGPGPGQSGPKPPIPPPPPHQQQQQPPPQQPPPQQPPPHQPPPHPQPHQQQQPPPPPQDSSKPVVAQGPGPAPGVGSAPPASSSAPPATPPTSGAPPGSGPGPTPTPPPAVTSAPPGAPPPTPPSSGVPTTPPQAGGPPPPPAAVPGPGPGPKQGPGPGGPKGGKMPGGPKPGGGPGLSTPGGHPKPPHRGGGEPRGGRQHHPPYHQQHHQGPPPGGPGGRSEEKISDSEGFKANLSLLRRPGEKTYTQRCRLFVGNLPADITEDEFKRLFAKYGEPGEVFINKGKGFGFIKLESRALAEIAKAELDDTPMRGRQLRVRFATHAAALSVRNLSPYVSNELLEEAFSQFGPIERAVVIVDDRGRSTGKGIVEFASKPAARKAFERCSEGVFLLTTTPRPVIVEPLEQLDDEDGLPEKLAQKNPMYQKERETPPRFAQHGTFEYEYSQRWKSLDEMEKQQREQVEKNMKDAKDKLESEMEDAYHEHQANLLRQDLMRRQEELRRMEELHNQEMQKRKEMQLRQEEERRRREEEMMIRQREMEEQMRRQREESYSRMGYMDPRERDMRMGGGGAMNMGDPYGSGGQKFPPLGGGGGIGYEANPGVPPATMSGSMMGSDMRTERFGQGGAGPVGGQGPRGMGPGTPAGYGRGREEYEGPNKKPRF*'"
      ]
     },
     "execution_count": 92,
     "metadata": {},
     "output_type": "execute_result"
    }
   ],
   "source": [
    "'M'+NTE_proteoform_aa[1:]"
   ]
  },
  {
   "cell_type": "code",
   "execution_count": null,
   "metadata": {},
   "outputs": [],
   "source": [
    "len('GTGGCCTCCACGTTTCCTGAGCGTCTTCTTCGCTTTTGCCTCGACCGCCCCTTGACCACAGAC') % 3"
   ]
  },
  {
   "cell_type": "code",
   "execution_count": null,
   "metadata": {},
   "outputs": [],
   "source": [
    "len(CDS_proteoform) % 3"
   ]
  },
  {
   "cell_type": "code",
   "execution_count": null,
   "metadata": {},
   "outputs": [],
   "source": []
  }
 ],
 "metadata": {
  "kernelspec": {
   "display_name": "Python 3",
   "language": "python",
   "name": "python3"
  },
  "language_info": {
   "codemirror_mode": {
    "name": "ipython",
    "version": 3
   },
   "file_extension": ".py",
   "mimetype": "text/x-python",
   "name": "python",
   "nbconvert_exporter": "python",
   "pygments_lexer": "ipython3",
   "version": "3.7.3"
  }
 },
 "nbformat": 4,
 "nbformat_minor": 2
}
