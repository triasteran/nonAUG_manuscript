{
 "cells": [
  {
   "cell_type": "code",
   "execution_count": 1,
   "metadata": {},
   "outputs": [
    {
     "name": "stderr",
     "output_type": "stream",
     "text": [
      "/home/alla/anaconda3/lib/python3.7/site-packages/statsmodels/tools/_testing.py:19: FutureWarning: pandas.util.testing is deprecated. Use the functions in the public API at pandas.testing instead.\n",
      "  import pandas.util.testing as tm\n"
     ]
    }
   ],
   "source": [
    "%matplotlib inline\n",
    "\n",
    "import numpy as np\n",
    "import collections\n",
    "from collections import OrderedDict, Counter, defaultdict\n",
    "import pandas as pd\n",
    "\n",
    "import Bio\n",
    "from Bio import SeqIO\n",
    "\n",
    "import seaborn as sns\n",
    "import matplotlib.pyplot as plt\n",
    "\n",
    "import glob\n",
    "\n",
    "import subprocess\n",
    "from subprocess import call\n",
    "\n",
    "import re\n",
    "\n",
    "import pickle\n",
    "\n",
    "from gtfparse import read_gtf"
   ]
  },
  {
   "cell_type": "code",
   "execution_count": 2,
   "metadata": {},
   "outputs": [],
   "source": [
    "# genes from 2011 paper\n",
    "genes_42 = 'RASL10B,FGFR1,YPEL2,ENOX2,UFSP1,WDR26,TIAL1,YPEL4,NGF,TRPV6,KCTD11,STARD10,YPEL1,R3HCC1,ZFP62,NHLRC4,EPHX3,C1QL4,TLE3,HDGF,ANKRD42,FAM217B,NFKBID,PTEN,RNF187,METTL23,TMEM8B,VANGL2,FNDC5,C1QL1,CITED1,EIF4G3,HELZ2,CYTH2,NTF3,MFSD4B,C1QL3,KCNN4,IFT46,RASD2,CITED2,C1QL2'.split(',')\n",
    "genes_17 = 'GTF3A, EIF4G2, SP3, PRPS1L1, TEAD4, TEAD3, CACNG8, OAZ3, TEAD1, DDX17, VEGFA, NR1I2, HCK, WT1, BAG1, NPW, MYC'.split(', ')"
   ]
  },
  {
   "cell_type": "code",
   "execution_count": 3,
   "metadata": {},
   "outputs": [
    {
     "name": "stdout",
     "output_type": "stream",
     "text": [
      "(94359, 14)\n",
      "(101486, 14)\n"
     ]
    }
   ],
   "source": [
    "# open metadata with scores and metrics\n",
    "meta = pd.read_csv('tmp_res/local_and_global_df_g25ovlp_g35ovlp_g38ovlp_refseqovlp_strand_FRAMES_PhyloCSF.txt', sep='\\t')\n",
    "\n",
    "metadata_pc_g25 = pd.read_csv('tmp_res/metadata_pc_g25.txt', sep='\\t')\n",
    "print (metadata_pc_g25.shape)\n",
    "\n",
    "metadata_pc_g35 = pd.read_csv('tmp_res/metadata_pc_g35.txt', sep='\\t')\n",
    "print (metadata_pc_g35.shape)\n",
    "\n",
    "\n",
    "# open SET1 (PhyloSET) and SET2 (RiboSET)\n",
    "SET1 = pd.read_csv('tmp_res/SET1.txt', sep='\\t')\n",
    "SET2 = pd.read_csv('tmp_res/SET2.txt', sep='\\t')"
   ]
  },
  {
   "cell_type": "code",
   "execution_count": 4,
   "metadata": {},
   "outputs": [
    {
     "data": {
      "text/plain": [
       "Index(['tr_id', 'gene', 'N_term_start1', 'N_term_end1', 'len_codons',\n",
       "       'global_coo_50_and_less', 'strand', 'global_coo_primary',\n",
       "       'PhyloCSF120score', 'number_of_records', 'ovlp', 'Riboseq_Summary',\n",
       "       'Coverage_value_ext', 'Proteomics_count_ext', 'tag', 'transcript_type',\n",
       "       'CDS_ratio'],\n",
       "      dtype='object')"
      ]
     },
     "execution_count": 4,
     "metadata": {},
     "output_type": "execute_result"
    }
   ],
   "source": [
    "SET2.columns"
   ]
  },
  {
   "cell_type": "code",
   "execution_count": 5,
   "metadata": {},
   "outputs": [
    {
     "data": {
      "text/html": [
       "<div>\n",
       "<style scoped>\n",
       "    .dataframe tbody tr th:only-of-type {\n",
       "        vertical-align: middle;\n",
       "    }\n",
       "\n",
       "    .dataframe tbody tr th {\n",
       "        vertical-align: top;\n",
       "    }\n",
       "\n",
       "    .dataframe thead th {\n",
       "        text-align: right;\n",
       "    }\n",
       "</style>\n",
       "<table border=\"1\" class=\"dataframe\">\n",
       "  <thead>\n",
       "    <tr style=\"text-align: right;\">\n",
       "      <th></th>\n",
       "      <th>tr_id</th>\n",
       "      <th>gene</th>\n",
       "      <th>N_term_start1</th>\n",
       "      <th>N_term_end1</th>\n",
       "      <th>len_codons</th>\n",
       "      <th>global_coo_50_and_less</th>\n",
       "      <th>strand</th>\n",
       "      <th>global_coo_primary</th>\n",
       "      <th>PhyloCSF120score</th>\n",
       "      <th>number_of_records</th>\n",
       "      <th>ovlp</th>\n",
       "      <th>Riboseq_Summary</th>\n",
       "      <th>Coverage_value_ext</th>\n",
       "      <th>Proteomics_count_ext</th>\n",
       "      <th>tag</th>\n",
       "      <th>transcript_type</th>\n",
       "      <th>CDS_ratio</th>\n",
       "    </tr>\n",
       "  </thead>\n",
       "  <tbody>\n",
       "    <tr>\n",
       "      <th>95</th>\n",
       "      <td>ENST00000467087.5</td>\n",
       "      <td>STIM2</td>\n",
       "      <td>258</td>\n",
       "      <td>528</td>\n",
       "      <td>90.0</td>\n",
       "      <td>chr4:26861069-26861218</td>\n",
       "      <td>+</td>\n",
       "      <td>chr4:26860949-26861218</td>\n",
       "      <td>-953.1598</td>\n",
       "      <td>64</td>\n",
       "      <td>0;0;0</td>\n",
       "      <td>ATG; 268-529; Rank: 462; cov: 73.17</td>\n",
       "      <td>73.170732</td>\n",
       "      <td>0.0</td>\n",
       "      <td>non_ATG_start,basic,appris_principal_3,CCDS</td>\n",
       "      <td>protein_coding</td>\n",
       "      <td>0.139053</td>\n",
       "    </tr>\n",
       "    <tr>\n",
       "      <th>119</th>\n",
       "      <td>ENST00000316788.11</td>\n",
       "      <td>AP3S1</td>\n",
       "      <td>251</td>\n",
       "      <td>557</td>\n",
       "      <td>102.0</td>\n",
       "      <td>chr5:115841888-115842037</td>\n",
       "      <td>+</td>\n",
       "      <td>chr5:115841732-115842037</td>\n",
       "      <td>-1017.9102</td>\n",
       "      <td>94</td>\n",
       "      <td>0;0;0</td>\n",
       "      <td>ATG; 258-558; Rank: 121; cov: 68.42</td>\n",
       "      <td>68.421053</td>\n",
       "      <td>0.0</td>\n",
       "      <td>basic,appris_principal_1,CCDS</td>\n",
       "      <td>protein_coding</td>\n",
       "      <td>0.325754</td>\n",
       "    </tr>\n",
       "    <tr>\n",
       "      <th>218</th>\n",
       "      <td>ENST00000418331.6</td>\n",
       "      <td>PTPRJ</td>\n",
       "      <td>1</td>\n",
       "      <td>352</td>\n",
       "      <td>117.0</td>\n",
       "      <td>chr11:47980763-47980912</td>\n",
       "      <td>+</td>\n",
       "      <td>chr11:47980562-47980912</td>\n",
       "      <td>-342.5714</td>\n",
       "      <td>48</td>\n",
       "      <td>0;0;0</td>\n",
       "      <td>ATG; 11-353; Rank: 369; cov: 60.55</td>\n",
       "      <td>60.550459</td>\n",
       "      <td>2.0</td>\n",
       "      <td>basic,appris_principal_2,CCDS</td>\n",
       "      <td>protein_coding</td>\n",
       "      <td>0.407875</td>\n",
       "    </tr>\n",
       "  </tbody>\n",
       "</table>\n",
       "</div>"
      ],
      "text/plain": [
       "                  tr_id   gene  N_term_start1  N_term_end1  len_codons  \\\n",
       "95    ENST00000467087.5  STIM2            258          528        90.0   \n",
       "119  ENST00000316788.11  AP3S1            251          557       102.0   \n",
       "218   ENST00000418331.6  PTPRJ              1          352       117.0   \n",
       "\n",
       "       global_coo_50_and_less strand        global_coo_primary  \\\n",
       "95     chr4:26861069-26861218      +    chr4:26860949-26861218   \n",
       "119  chr5:115841888-115842037      +  chr5:115841732-115842037   \n",
       "218   chr11:47980763-47980912      +   chr11:47980562-47980912   \n",
       "\n",
       "     PhyloCSF120score  number_of_records   ovlp  \\\n",
       "95          -953.1598                 64  0;0;0   \n",
       "119        -1017.9102                 94  0;0;0   \n",
       "218         -342.5714                 48  0;0;0   \n",
       "\n",
       "                         Riboseq_Summary  Coverage_value_ext  \\\n",
       "95   ATG; 268-529; Rank: 462; cov: 73.17           73.170732   \n",
       "119  ATG; 258-558; Rank: 121; cov: 68.42           68.421053   \n",
       "218   ATG; 11-353; Rank: 369; cov: 60.55           60.550459   \n",
       "\n",
       "     Proteomics_count_ext                                          tag  \\\n",
       "95                    0.0  non_ATG_start,basic,appris_principal_3,CCDS   \n",
       "119                   0.0                basic,appris_principal_1,CCDS   \n",
       "218                   2.0                basic,appris_principal_2,CCDS   \n",
       "\n",
       "    transcript_type  CDS_ratio  \n",
       "95   protein_coding   0.139053  \n",
       "119  protein_coding   0.325754  \n",
       "218  protein_coding   0.407875  "
      ]
     },
     "execution_count": 5,
     "metadata": {},
     "output_type": "execute_result"
    }
   ],
   "source": [
    "SET2[SET2['Riboseq_Summary'].str.contains('ATG')]"
   ]
  },
  {
   "cell_type": "code",
   "execution_count": 6,
   "metadata": {},
   "outputs": [],
   "source": [
    "# open file with extension sequences from 2011 paper \n",
    "# there is .pdf file in supplementary data -> I took sequences manually from them \n",
    "EXT_SEQ_DF = pd.read_csv('data/extensions_from_2011.txt', sep='\\t')"
   ]
  },
  {
   "cell_type": "code",
   "execution_count": null,
   "metadata": {},
   "outputs": [],
   "source": []
  },
  {
   "cell_type": "markdown",
   "metadata": {},
   "source": [
    "# Open files associated with supplements of 2011 paper\n",
    "\n",
    "* comparison_of_paper_trs_with_newer_refseq_release.txt = compares sequences and ids between old refseq release (33) and new one\n",
    "* refseq_paper_ids.txt = list of refseq ids from paper"
   ]
  },
  {
   "cell_type": "code",
   "execution_count": 7,
   "metadata": {},
   "outputs": [
    {
     "name": "stdout",
     "output_type": "stream",
     "text": [
      "(59, 11)\n"
     ]
    },
    {
     "data": {
      "text/html": [
       "<div>\n",
       "<style scoped>\n",
       "    .dataframe tbody tr th:only-of-type {\n",
       "        vertical-align: middle;\n",
       "    }\n",
       "\n",
       "    .dataframe tbody tr th {\n",
       "        vertical-align: top;\n",
       "    }\n",
       "\n",
       "    .dataframe thead th {\n",
       "        text-align: right;\n",
       "    }\n",
       "</style>\n",
       "<table border=\"1\" class=\"dataframe\">\n",
       "  <thead>\n",
       "    <tr style=\"text-align: right;\">\n",
       "      <th></th>\n",
       "      <th>refseq_id</th>\n",
       "      <th>annotater_OR_not_n_new_release</th>\n",
       "      <th>extension_exist_in_new_release</th>\n",
       "      <th>length</th>\n",
       "      <th>refseq_ID</th>\n",
       "      <th>Gene_name_refseq</th>\n",
       "      <th>Start_codon</th>\n",
       "      <th>Ext_length</th>\n",
       "      <th>42_or_17</th>\n",
       "      <th>refseq_ID1</th>\n",
       "      <th>gene</th>\n",
       "    </tr>\n",
       "  </thead>\n",
       "  <tbody>\n",
       "    <tr>\n",
       "      <th>0</th>\n",
       "      <td>NM_001172415.2</td>\n",
       "      <td>primary_longer_3end_cdsATG_downstream</td>\n",
       "      <td>not_ok</td>\n",
       "      <td>NaN</td>\n",
       "      <td>NM_001172415</td>\n",
       "      <td>BAG1</td>\n",
       "      <td>CUG</td>\n",
       "      <td>71</td>\n",
       "      <td>17</td>\n",
       "      <td>NM_001172415</td>\n",
       "      <td>BAG1</td>\n",
       "    </tr>\n",
       "    <tr>\n",
       "      <th>1</th>\n",
       "      <td>NM_022002.2</td>\n",
       "      <td>diff_primary</td>\n",
       "      <td>not_ok</td>\n",
       "      <td>NaN</td>\n",
       "      <td>NM_022002</td>\n",
       "      <td>NR1I2</td>\n",
       "      <td>CUG</td>\n",
       "      <td>55</td>\n",
       "      <td>17</td>\n",
       "      <td>NM_022002</td>\n",
       "      <td>NR1I2</td>\n",
       "    </tr>\n",
       "  </tbody>\n",
       "</table>\n",
       "</div>"
      ],
      "text/plain": [
       "        refseq_id         annotater_OR_not_n_new_release  \\\n",
       "0  NM_001172415.2  primary_longer_3end_cdsATG_downstream   \n",
       "1     NM_022002.2                           diff_primary   \n",
       "\n",
       "  extension_exist_in_new_release  length     refseq_ID Gene_name_refseq  \\\n",
       "0                         not_ok     NaN  NM_001172415             BAG1   \n",
       "1                         not_ok     NaN     NM_022002            NR1I2   \n",
       "\n",
       "  Start_codon  Ext_length  42_or_17    refseq_ID1   gene  \n",
       "0         CUG          71        17  NM_001172415   BAG1  \n",
       "1         CUG          55        17     NM_022002  NR1I2  "
      ]
     },
     "execution_count": 7,
     "metadata": {},
     "output_type": "execute_result"
    }
   ],
   "source": [
    "ids = pd.read_csv('data/refseq_paper_ids.txt', sep='\\t')#[['RefSeq ID', 'Gene Name', 'Start', 'Extension length, codons', 'Unnamed: 5']]\n",
    "\n",
    "ids.columns = ['refseq_ID', 'Gene_name_refseq', 'Start_codon', 'Ext_length', '42_or_17']\n",
    "\n",
    "ids['refseq_ID1'] = ['NM_001042589','NM_001037335', 'NM_001010858', 'NM_001136108', 'NM_003760',\n",
    " 'NM_006375', 'NM_176677', 'NM_153756', 'NM_006688', 'NM_145008', 'NM_182528',\n",
    " 'NM_000314', 'NM_139239', 'NM_001015072', 'NM_020153', 'NM_001005404', 'NM_020335',\n",
    " 'NM_017457', 'NM_001010908', 'NM_001008223', 'NM_001002914', 'NM_025160', 'NM_005078', 'NM_002250',\n",
    " 'NM_004494', 'NM_013313', 'NM_022106', 'NM_006079', 'NM_182603', 'NM_014310', 'NM_002506', 'NM_152283',\n",
    " 'NM_001102654', 'NM_003252', 'NM_024794', 'NM_018646', 'NM_033315',\n",
    " 'NM_001080510', 'NM_023110', 'NM_153369', 'NM_001144886', 'NM_006645', 'NM_002097', 'NM_001418','NM_001017371','NM_175886',\n",
    " 'NM_003213', 'NM_003214', 'NM_031895', 'NM_016178', 'NM_021961', 'NM_001098504', 'NM_001025366', 'NM_022002',\n",
    " 'NM_001172131', 'NM_000378', 'NM_001172415', 'NM_001099456','NM_002467']\n",
    "\n",
    "ids['gene'] = ['TMEM8B', 'HELZ2', 'RNF187', 'R3HCC1', 'EIF4G3', 'ENOX2', 'NHLRC4', 'FNDC5', 'ANKRD42',\n",
    " 'YPEL4', 'C1QL2', 'PTEN', 'NFKBID', 'UFSP1', 'IFT46', 'YPEL2', 'VANGL2', 'CYTH2', 'C1QL3',\n",
    " 'C1QL4', 'KCTD11', 'WDR26', 'TLE3', 'KCNN4', 'HDGF', 'YPEL1', 'FAM217B', 'CITED2',\n",
    " 'C1QL1', 'RASD2', 'NGF', 'ZFP62', 'NTF3', 'TIAL1', 'EPHX3', 'TRPV6', 'RASL10B',\n",
    " 'METTL23', 'FGFR1', 'MFSD4B', 'CITED1', 'STARD10', 'GTF3A', 'EIF4G2', 'SP3', 'PRPS1L1',\n",
    " 'TEAD4', 'TEAD3', 'CACNG8', 'OAZ3', 'TEAD1', 'DDX17', 'VEGFA', 'NR1I2',\n",
    " 'HCK', 'WT1', 'BAG1', 'NPW', 'MYC']\n",
    "\n",
    "cases = pd.read_csv('data/comparison_of_paper_trs_with_newer_refseq_release.txt', sep='\\t')[['refseq_id', 'annotater_OR_not_n_new_release', 'extension_exist_in_new_release', 'length']]\n",
    "\n",
    "cases['refseq_ID'] = [x.split('.')[0] for x in cases['refseq_id'].tolist()]\n",
    "\n",
    "cases = cases.merge(ids, on='refseq_ID', how='inner')\n",
    "\n",
    "print (cases.shape)\n",
    "\n",
    "\n",
    "cases[0:2]"
   ]
  },
  {
   "cell_type": "code",
   "execution_count": null,
   "metadata": {},
   "outputs": [],
   "source": []
  },
  {
   "cell_type": "code",
   "execution_count": null,
   "metadata": {},
   "outputs": [],
   "source": []
  },
  {
   "cell_type": "markdown",
   "metadata": {},
   "source": [
    "# We are going to search extension sequences among only PROTEIN_CODING transcripts with COMPLETE CDS"
   ]
  },
  {
   "cell_type": "code",
   "execution_count": 8,
   "metadata": {},
   "outputs": [
    {
     "name": "stderr",
     "output_type": "stream",
     "text": [
      "INFO:root:Extracted GTF attributes: ['gene_id', 'gene_type', 'gene_status', 'gene_name', 'level', 'havana_gene', 'transcript_id', 'transcript_type', 'transcript_status', 'transcript_name', 'transcript_support_level', 'tag', 'havana_transcript', 'exon_number', 'exon_id', 'ont', 'protein_id', 'ccdsid']\n",
      "INFO:root:Extracted GTF attributes: ['gene_id', 'gene_type', 'gene_name', 'level', 'hgnc_id', 'havana_gene', 'transcript_id', 'transcript_type', 'transcript_name', 'transcript_support_level', 'tag', 'havana_transcript', 'exon_number', 'exon_id', 'ont', 'protein_id', 'ccdsid']\n"
     ]
    }
   ],
   "source": [
    "# returns GTF with essential columns such as \"feature\", \"seqname\", \"start\", \"end\"\n",
    "# alongside the names of any optional keys which appeared in the attribute column\n",
    "df_g25 = read_gtf(\"data/gencode.v25.annotation.gtf\")\n",
    "\n",
    "df_CDS_g25 = df_g25[df_g25[\"feature\"] == \"CDS\"]\n",
    "annotation_CDS_g25 = df_CDS_g25[['transcript_id', 'transcript_type', 'gene_name', 'tag']]\n",
    "annotation_CDS_g25.columns = ['tr_id', 'transcript_type', 'gene', 'tag']\n",
    "\n",
    "df_g35 = read_gtf(\"data/gencode.v35.annotation.gtf\")\n",
    "\n",
    "df_CDS_g35 = df_g35[df_g35[\"feature\"] == \"CDS\"]\n",
    "annotation_CDS_g35 = df_CDS_g35[['transcript_id', 'transcript_type', 'gene_name', 'tag']]\n",
    "annotation_CDS_g35.columns = ['tr_id', 'transcript_type', 'gene', 'tag']\n",
    "\n",
    "metadata_pc_g25 = metadata_pc_g25.merge(annotation_CDS_g25, on=['tr_id', 'gene'], how='inner').drop_duplicates()\n",
    "metadata_pc_g35 = metadata_pc_g35.merge(annotation_CDS_g35, on=['tr_id', 'gene'], how='inner').drop_duplicates()"
   ]
  },
  {
   "cell_type": "code",
   "execution_count": null,
   "metadata": {},
   "outputs": [],
   "source": []
  },
  {
   "cell_type": "code",
   "execution_count": null,
   "metadata": {},
   "outputs": [],
   "source": []
  },
  {
   "cell_type": "markdown",
   "metadata": {},
   "source": [
    "# Cases annotated in g35: they are in CDS from 1st position "
   ]
  },
  {
   "cell_type": "code",
   "execution_count": 9,
   "metadata": {},
   "outputs": [
    {
     "name": "stdout",
     "output_type": "stream",
     "text": [
      "59\n",
      "59\n"
     ]
    },
    {
     "data": {
      "text/html": [
       "<div>\n",
       "<style scoped>\n",
       "    .dataframe tbody tr th:only-of-type {\n",
       "        vertical-align: middle;\n",
       "    }\n",
       "\n",
       "    .dataframe tbody tr th {\n",
       "        vertical-align: top;\n",
       "    }\n",
       "\n",
       "    .dataframe thead th {\n",
       "        text-align: right;\n",
       "    }\n",
       "</style>\n",
       "<table border=\"1\" class=\"dataframe\">\n",
       "  <thead>\n",
       "    <tr style=\"text-align: right;\">\n",
       "      <th></th>\n",
       "      <th>tr_id</th>\n",
       "      <th>gene</th>\n",
       "      <th>cds</th>\n",
       "      <th>nte</th>\n",
       "      <th>biotype</th>\n",
       "      <th>tag</th>\n",
       "      <th>refseq_id</th>\n",
       "      <th>ext_seq</th>\n",
       "    </tr>\n",
       "  </thead>\n",
       "  <tbody>\n",
       "    <tr>\n",
       "      <th>0</th>\n",
       "      <td>ENST00000374935.7</td>\n",
       "      <td>EIF4G3</td>\n",
       "      <td>ATGAATTCACAACCTCAAACCCGTTCTCCGTTTTTCCAGAGGCCTC...</td>\n",
       "      <td>GCCGGACTGCTGGAGGCGGCCACAGCGCCATGTTGGATGCTCTGCT...</td>\n",
       "      <td>protein_coding</td>\n",
       "      <td>basic,appris_alternative_2</td>\n",
       "      <td>NM_003760.4</td>\n",
       "      <td>ATCCACCGGCATCGCCTGAGCCCCGCTACCGAGAAGGGCGCCGCTT...</td>\n",
       "    </tr>\n",
       "    <tr>\n",
       "      <th>1</th>\n",
       "      <td>ENST00000264211.12</td>\n",
       "      <td>EIF4G3</td>\n",
       "      <td>ATGAATTCACAACCTCAAACCCGTTCTCCGTTTTTCCAGAGGCCTC...</td>\n",
       "      <td>GTAACACAAGTGGCAAGACAGCCGGGAACCCCTACCCCATCCCCTT...</td>\n",
       "      <td>protein_coding</td>\n",
       "      <td>basic,appris_principal_3,CCDS</td>\n",
       "      <td>NM_003760.4</td>\n",
       "      <td>ATCCACCGGCATCGCCTGAGCCCCGCTACCGAGAAGGGCGCCGCTT...</td>\n",
       "    </tr>\n",
       "  </tbody>\n",
       "</table>\n",
       "</div>"
      ],
      "text/plain": [
       "                tr_id    gene  \\\n",
       "0   ENST00000374935.7  EIF4G3   \n",
       "1  ENST00000264211.12  EIF4G3   \n",
       "\n",
       "                                                 cds  \\\n",
       "0  ATGAATTCACAACCTCAAACCCGTTCTCCGTTTTTCCAGAGGCCTC...   \n",
       "1  ATGAATTCACAACCTCAAACCCGTTCTCCGTTTTTCCAGAGGCCTC...   \n",
       "\n",
       "                                                 nte         biotype  \\\n",
       "0  GCCGGACTGCTGGAGGCGGCCACAGCGCCATGTTGGATGCTCTGCT...  protein_coding   \n",
       "1  GTAACACAAGTGGCAAGACAGCCGGGAACCCCTACCCCATCCCCTT...  protein_coding   \n",
       "\n",
       "                             tag    refseq_id  \\\n",
       "0     basic,appris_alternative_2  NM_003760.4   \n",
       "1  basic,appris_principal_3,CCDS  NM_003760.4   \n",
       "\n",
       "                                             ext_seq  \n",
       "0  ATCCACCGGCATCGCCTGAGCCCCGCTACCGAGAAGGGCGCCGCTT...  \n",
       "1  ATCCACCGGCATCGCCTGAGCCCCGCTACCGAGAAGGGCGCCGCTT...  "
      ]
     },
     "execution_count": 9,
     "metadata": {},
     "output_type": "execute_result"
    }
   ],
   "source": [
    "li = []\n",
    "\n",
    "for el in metadata_pc_g35[['tr_id', 'gene', 'utr5_start', 'utr5_end', 'transcript_seq', 'transcript_type', 'tag']].to_numpy():\n",
    "    nte_start = el[2]\n",
    "    nte_end_plus_cds_start = el[3]+3\n",
    "    cds_start = el[3]\n",
    "    cds_seq = el[-3][cds_start:]\n",
    "    nte_seq = el[-3][nte_start:nte_end_plus_cds_start]\n",
    "    \n",
    "    biotype = el[-2]\n",
    "    tag = el[-1]\n",
    "    \n",
    "    li.append([el[0], el[1], cds_seq, nte_seq, biotype, tag])\n",
    "    \n",
    "seq_df_g35 = pd.DataFrame(li, columns = ['tr_id', 'gene', 'cds', 'nte', 'biotype', 'tag']).merge(cases[['refseq_id', 'gene']], on='gene', how='inner')\n",
    "\n",
    "print (seq_df_g35.gene.nunique())\n",
    "\n",
    "seq_df_g35_ext = seq_df_g35.merge(EXT_SEQ_DF[['ext_seq', 'gene']], on='gene', how='inner')\n",
    "\n",
    "print (seq_df_g35_ext.gene.nunique())\n",
    "\n",
    "seq_df_g35_ext[0:2]"
   ]
  },
  {
   "cell_type": "code",
   "execution_count": 10,
   "metadata": {},
   "outputs": [],
   "source": [
    "NM_020153_seq = 'ATAGAGGAGACGGATTCAGAAGGGCTACAGACCAAGGTTGTTGAAAACCAAACATATGATGAGCGTCTAGAGATTAACGACTCCGAAGAGGTTGCAAGTATTTATACTCCAACCCCAAGACACCAAGGACTTCCTCGTTCTGCCCATCTTCCTAACAAGGCTATG'\n",
    "NM_001080510_seq = 'CTGGCAGCCCGGAGCCTTCCGCGGTCCCCCACCCGCCCGGGGCCCAACGACGCCCTACTGGGCGAGCACGATTTCCGAGGACAGGGGGTCCGGGCCCAGCGCTTTCGATTCTCGGAGGAGCCGGGTCCGGGGGCCGACGGGGCTGTCCTGGAGGTCCACGTCCCGCAGGTCCTGCATCTCCAGTATGGAATG'"
   ]
  },
  {
   "cell_type": "code",
   "execution_count": 11,
   "metadata": {},
   "outputs": [
    {
     "name": "stdout",
     "output_type": "stream",
     "text": [
      "30 A G\n"
     ]
    }
   ],
   "source": [
    "METTL23_ext_seq = NM_001080510_seq\n",
    "METTL23_ext_seq_AG = 'CTGGCAGCCCGGAGCCTTCCGCGGTCCCCCGCCCGCCCGGGGCCCAACGACGCCCTACTGGGCGAGCACGATTTCCGAGGACAGGGGGTCCGGGCCCAGCGCTTTCGATTCTCGGAGGAGCCGGGTCCGGGGGCCGACGGGGCTGTCCTGGAGGTCCACGTCCCGCAGGTCCTGCATCTCCAGTATGGAATG'\n",
    "for i, x in enumerate(zip(METTL23_ext_seq, METTL23_ext_seq_AG)):\n",
    "    if x[0] != x[1]:\n",
    "        print (i, x[0], x[1])"
   ]
  },
  {
   "cell_type": "code",
   "execution_count": 12,
   "metadata": {},
   "outputs": [
    {
     "name": "stdout",
     "output_type": "stream",
     "text": [
      "50 A G\n"
     ]
    }
   ],
   "source": [
    "IFT46_ext_seq = NM_020153_seq\n",
    "IFT46_ext_seq_ch = 'ATAGAGGAGACGGATTCAGAAGGGCTACAGACCAAGGTTGTTGAAAACCAGACATATGATGAGCGTCTAGAGATTAACGACTCCGAAGAGGTTGCAAGTATTTATACTCCAACCCCAAGACACCAAGGACTTCCTCGTTCTGCCCATCTTCCTAACAAGGCTATG'\n",
    "for i, x in enumerate(zip(IFT46_ext_seq, IFT46_ext_seq_ch)):\n",
    "    if x[0] != x[1]:\n",
    "        print (i, x[0], x[1])"
   ]
  },
  {
   "cell_type": "code",
   "execution_count": 13,
   "metadata": {},
   "outputs": [
    {
     "data": {
      "text/html": [
       "<div>\n",
       "<style scoped>\n",
       "    .dataframe tbody tr th:only-of-type {\n",
       "        vertical-align: middle;\n",
       "    }\n",
       "\n",
       "    .dataframe tbody tr th {\n",
       "        vertical-align: top;\n",
       "    }\n",
       "\n",
       "    .dataframe thead th {\n",
       "        text-align: right;\n",
       "    }\n",
       "</style>\n",
       "<table border=\"1\" class=\"dataframe\">\n",
       "  <thead>\n",
       "    <tr style=\"text-align: right;\">\n",
       "      <th></th>\n",
       "      <th>tr_id</th>\n",
       "      <th>gene</th>\n",
       "      <th>refseq_id</th>\n",
       "      <th>cds_find</th>\n",
       "      <th>nte_find</th>\n",
       "      <th>biotype</th>\n",
       "      <th>tag</th>\n",
       "    </tr>\n",
       "  </thead>\n",
       "  <tbody>\n",
       "    <tr>\n",
       "      <th>0</th>\n",
       "      <td>ENST00000374935.7</td>\n",
       "      <td>EIF4G3</td>\n",
       "      <td>NM_003760.4</td>\n",
       "      <td>-1</td>\n",
       "      <td>61</td>\n",
       "      <td>protein_coding</td>\n",
       "      <td>basic,appris_alternative_2</td>\n",
       "    </tr>\n",
       "    <tr>\n",
       "      <th>1</th>\n",
       "      <td>ENST00000264211.12</td>\n",
       "      <td>EIF4G3</td>\n",
       "      <td>NM_003760.4</td>\n",
       "      <td>-1</td>\n",
       "      <td>-1</td>\n",
       "      <td>protein_coding</td>\n",
       "      <td>basic,appris_principal_3,CCDS</td>\n",
       "    </tr>\n",
       "    <tr>\n",
       "      <th>2</th>\n",
       "      <td>ENST00000602326.5</td>\n",
       "      <td>EIF4G3</td>\n",
       "      <td>NM_003760.4</td>\n",
       "      <td>-1</td>\n",
       "      <td>23</td>\n",
       "      <td>protein_coding</td>\n",
       "      <td>basic,appris_alternative_2,CCDS</td>\n",
       "    </tr>\n",
       "    <tr>\n",
       "      <th>3</th>\n",
       "      <td>ENST00000400422.6</td>\n",
       "      <td>EIF4G3</td>\n",
       "      <td>NM_003760.4</td>\n",
       "      <td>-1</td>\n",
       "      <td>20</td>\n",
       "      <td>protein_coding</td>\n",
       "      <td>basic,appris_alternative_2,CCDS</td>\n",
       "    </tr>\n",
       "    <tr>\n",
       "      <th>4</th>\n",
       "      <td>ENST00000634879.1</td>\n",
       "      <td>EIF4G3</td>\n",
       "      <td>NM_003760.4</td>\n",
       "      <td>9</td>\n",
       "      <td>-1</td>\n",
       "      <td>protein_coding</td>\n",
       "      <td>non_ATG_start,non_submitted_evidence,basic</td>\n",
       "    </tr>\n",
       "  </tbody>\n",
       "</table>\n",
       "</div>"
      ],
      "text/plain": [
       "                tr_id    gene    refseq_id  cds_find  nte_find  \\\n",
       "0   ENST00000374935.7  EIF4G3  NM_003760.4        -1        61   \n",
       "1  ENST00000264211.12  EIF4G3  NM_003760.4        -1        -1   \n",
       "2   ENST00000602326.5  EIF4G3  NM_003760.4        -1        23   \n",
       "3   ENST00000400422.6  EIF4G3  NM_003760.4        -1        20   \n",
       "4   ENST00000634879.1  EIF4G3  NM_003760.4         9        -1   \n",
       "\n",
       "          biotype                                         tag  \n",
       "0  protein_coding                  basic,appris_alternative_2  \n",
       "1  protein_coding               basic,appris_principal_3,CCDS  \n",
       "2  protein_coding             basic,appris_alternative_2,CCDS  \n",
       "3  protein_coding             basic,appris_alternative_2,CCDS  \n",
       "4  protein_coding  non_ATG_start,non_submitted_evidence,basic  "
      ]
     },
     "execution_count": 13,
     "metadata": {},
     "output_type": "execute_result"
    }
   ],
   "source": [
    "li = []\n",
    "\n",
    "for i in range(seq_df_g35_ext.shape[0]):\n",
    "    trid = seq_df_g35_ext.iloc[i].tr_id\n",
    "    gene = seq_df_g35_ext.iloc[i].gene\n",
    "    refseq_id = seq_df_g35_ext.iloc[i].refseq_id\n",
    "    \n",
    "    nte_seq = seq_df_g35_ext.iloc[i].nte\n",
    "    cds_seq = seq_df_g35_ext.iloc[i].cds\n",
    "    ext = seq_df_g35_ext.iloc[i].ext_seq\n",
    "    \n",
    "    biotype = seq_df_g35_ext.iloc[i].biotype\n",
    "    tag = seq_df_g35_ext.iloc[i].tag\n",
    "    \n",
    "    if gene == 'IFT46':\n",
    "        ext = IFT46_ext_seq_ch\n",
    "    if gene == 'METTL23':\n",
    "        ext = METTL23_ext_seq_AG\n",
    "    \n",
    "    li.append([trid, gene, refseq_id, cds_seq.find(ext), nte_seq.find(ext), biotype, tag])\n",
    "    \n",
    "EXT_FOUND_g35 = pd.DataFrame(li, columns = ['tr_id', 'gene', 'refseq_id', 'cds_find', 'nte_find', 'biotype', 'tag'])\n",
    "EXT_FOUND_g35[0:5]"
   ]
  },
  {
   "cell_type": "code",
   "execution_count": 14,
   "metadata": {},
   "outputs": [
    {
     "name": "stderr",
     "output_type": "stream",
     "text": [
      "INFO:numexpr.utils:NumExpr defaulting to 8 threads.\n"
     ]
    },
    {
     "name": "stdout",
     "output_type": "stream",
     "text": [
      "24/59 are annotated in g35 regardless of biotype and tags\n",
      "FNDC5, OAZ3, RNF187, SP3, NR1I2, TEAD3, VEGFA, PRPS1L1, TRPV6, R3HCC1, MYC, BAG1, EIF4G2, WT1, TEAD4, GTF3A, NPW, KCTD11, YPEL2, NFKBID, CACNG8, HCK, YPEL1, DDX17\n",
      "\n",
      "24/59 are annotated in g35: only protein-coding transcripts with complete CDS\n",
      "FNDC5, OAZ3, RNF187, SP3, NR1I2, TEAD3, VEGFA, PRPS1L1, TRPV6, R3HCC1, MYC, BAG1, EIF4G2, WT1, TEAD4, GTF3A, NPW, KCTD11, YPEL2, NFKBID, CACNG8, HCK, YPEL1, DDX17\n",
      "\n",
      "45 56 24\n"
     ]
    }
   ],
   "source": [
    "ANNOTATED_EXT_FOUND_df_g35 = EXT_FOUND_g35[EXT_FOUND_g35['cds_find'] == 0]\n",
    "\n",
    "ANNOTATED_EXT_FOUND_df_g35_2 = ANNOTATED_EXT_FOUND_df_g35.merge(seq_df_g35_ext[['tr_id', 'gene', 'refseq_id']], on=['tr_id', 'gene', 'refseq_id'], how='inner')\n",
    "\n",
    "print ('%s/59 are annotated in g35 regardless of biotype and tags' % (ANNOTATED_EXT_FOUND_df_g35_2.gene.nunique()))\n",
    "print (', '.join(ANNOTATED_EXT_FOUND_df_g35_2.gene.unique()))\n",
    "print ()\n",
    "\n",
    "\n",
    "# remove CDS-incomplete and non-protein-coding \n",
    "ANNOTATED_EXT_FOUND_df_g35_3 = ANNOTATED_EXT_FOUND_df_g35_2[(ANNOTATED_EXT_FOUND_df_g35_2['biotype'] == 'protein_coding') &\n",
    "                                                           (~ANNOTATED_EXT_FOUND_df_g35_2['tag'].str.contains('cds_start_NF')) &\n",
    "                                                           (~ANNOTATED_EXT_FOUND_df_g35_2['tag'].str.contains('cds_end_NF'))]\n",
    "\n",
    "print ('%s/59 are annotated in g35: only protein-coding transcripts with complete CDS' % (ANNOTATED_EXT_FOUND_df_g35_3.gene.nunique()))\n",
    "print (', '.join(ANNOTATED_EXT_FOUND_df_g35_3.gene.unique()))\n",
    "print ()\n",
    "\n",
    "ANNOTATED_EXT_FOUND_df_g35_li = list(ANNOTATED_EXT_FOUND_df_g35_3.gene.unique())\n",
    "\n",
    "print (ANNOTATED_EXT_FOUND_df_g35_3.shape[0], ANNOTATED_EXT_FOUND_df_g35_2.shape[0], len(ANNOTATED_EXT_FOUND_df_g35_li))\n",
    "\n",
    "ANNOTATED_EXT_FOUND_df_g35_3.to_csv('tmp_res/ANNOTATED_EXT_FOUND_df_g35_pc_complete_CDS.txt', sep='\\t', index=False)"
   ]
  },
  {
   "cell_type": "code",
   "execution_count": 2,
   "metadata": {},
   "outputs": [
    {
     "data": {
      "text/plain": [
       "['FNDC5',\n",
       " 'OAZ3',\n",
       " 'RNF187',\n",
       " 'SP3',\n",
       " 'NR1I2',\n",
       " 'TEAD3',\n",
       " 'VEGFA',\n",
       " 'PRPS1L1',\n",
       " 'TRPV6',\n",
       " 'R3HCC1',\n",
       " 'MYC',\n",
       " 'BAG1',\n",
       " 'EIF4G2',\n",
       " 'WT1',\n",
       " 'TEAD4',\n",
       " 'GTF3A',\n",
       " 'NPW',\n",
       " 'KCTD11',\n",
       " 'YPEL2',\n",
       " 'NFKBID',\n",
       " 'CACNG8',\n",
       " 'HCK',\n",
       " 'YPEL1',\n",
       " 'DDX17']"
      ]
     },
     "execution_count": 2,
     "metadata": {},
     "output_type": "execute_result"
    }
   ],
   "source": [
    "s = 'FNDC5, OAZ3, RNF187, SP3, NR1I2, TEAD3, VEGFA, PRPS1L1, TRPV6, R3HCC1, MYC, BAG1, EIF4G2, WT1, TEAD4, GTF3A, NPW, KCTD11, YPEL2, NFKBID, CACNG8, HCK, YPEL1, DDX17'\n",
    "\n",
    "s.split(', ')"
   ]
  },
  {
   "cell_type": "code",
   "execution_count": null,
   "metadata": {},
   "outputs": [],
   "source": []
  },
  {
   "cell_type": "code",
   "execution_count": null,
   "metadata": {},
   "outputs": [],
   "source": []
  },
  {
   "cell_type": "code",
   "execution_count": null,
   "metadata": {},
   "outputs": [],
   "source": []
  },
  {
   "cell_type": "markdown",
   "metadata": {},
   "source": [
    "# Cases with intact extensions  in  5'UTRs of g35"
   ]
  },
  {
   "cell_type": "code",
   "execution_count": 15,
   "metadata": {},
   "outputs": [
    {
     "name": "stdout",
     "output_type": "stream",
     "text": [
      "29/59 have intact extensions in 5UTR regardless of biotype and tags\n",
      "28/59 have intact extensions in 5UTR of protein coding trs with complete CDS\n"
     ]
    }
   ],
   "source": [
    "INTACT_EXT_FOUND_df_g35 = EXT_FOUND_g35[(EXT_FOUND_g35['nte_find'] > 0) & (~EXT_FOUND_g35['gene'].isin(ANNOTATED_EXT_FOUND_df_g35_li))]\n",
    "\n",
    "INTACT_EXT_FOUND_df_g35_2 = INTACT_EXT_FOUND_df_g35.merge(seq_df_g35_ext[['tr_id', 'gene', 'refseq_id']], on=['tr_id', 'gene', 'refseq_id'], how='inner')\n",
    "\n",
    "\n",
    "print ('%s/59 have intact extensions in 5UTR regardless of biotype and tags' % INTACT_EXT_FOUND_df_g35_2.gene.nunique())\n",
    "\n",
    "# remove CDS-incomplete and non-protein-coding \n",
    "INTACT_EXT_FOUND_df_g35_3 = INTACT_EXT_FOUND_df_g35_2[(INTACT_EXT_FOUND_df_g35_2['biotype'] == 'protein_coding') &\n",
    "                                                           (~INTACT_EXT_FOUND_df_g35_2['tag'].str.contains('cds_start_NF')) &\n",
    "                                                           (~INTACT_EXT_FOUND_df_g35_2['tag'].str.contains('cds_end_NF'))]\n",
    "\n",
    "INTACT_EXT_FOUND_li_g35 = list(INTACT_EXT_FOUND_df_g35_3.gene.unique())\n",
    "\n",
    "#print (INTACT_EXT_FOUND_df_g35_3.shape, INTACT_EXT_FOUND_df_g35_2.shape, len(INTACT_EXT_FOUND_li_g35))\n",
    "\n",
    "print ('%s/59 have intact extensions in 5UTR of protein coding trs with complete CDS' % INTACT_EXT_FOUND_df_g35_3.gene.nunique())"
   ]
  },
  {
   "cell_type": "code",
   "execution_count": 16,
   "metadata": {},
   "outputs": [
    {
     "data": {
      "text/plain": [
       "{'TIAL1'}"
      ]
     },
     "execution_count": 16,
     "metadata": {},
     "output_type": "execute_result"
    }
   ],
   "source": [
    "set(INTACT_EXT_FOUND_df_g35_2.gene.unique()) -  set(INTACT_EXT_FOUND_df_g35_3.gene.unique())"
   ]
  },
  {
   "cell_type": "code",
   "execution_count": 17,
   "metadata": {},
   "outputs": [
    {
     "data": {
      "text/html": [
       "<div>\n",
       "<style scoped>\n",
       "    .dataframe tbody tr th:only-of-type {\n",
       "        vertical-align: middle;\n",
       "    }\n",
       "\n",
       "    .dataframe tbody tr th {\n",
       "        vertical-align: top;\n",
       "    }\n",
       "\n",
       "    .dataframe thead th {\n",
       "        text-align: right;\n",
       "    }\n",
       "</style>\n",
       "<table border=\"1\" class=\"dataframe\">\n",
       "  <thead>\n",
       "    <tr style=\"text-align: right;\">\n",
       "      <th></th>\n",
       "      <th>tr_id</th>\n",
       "      <th>gene</th>\n",
       "      <th>refseq_id</th>\n",
       "      <th>cds_find</th>\n",
       "      <th>nte_find</th>\n",
       "      <th>biotype</th>\n",
       "      <th>tag</th>\n",
       "    </tr>\n",
       "  </thead>\n",
       "  <tbody>\n",
       "    <tr>\n",
       "      <th>33</th>\n",
       "      <td>ENST00000497671.5</td>\n",
       "      <td>TIAL1</td>\n",
       "      <td>NM_003252.3</td>\n",
       "      <td>-1</td>\n",
       "      <td>294</td>\n",
       "      <td>nonsense_mediated_decay</td>\n",
       "      <td></td>\n",
       "    </tr>\n",
       "  </tbody>\n",
       "</table>\n",
       "</div>"
      ],
      "text/plain": [
       "                tr_id   gene    refseq_id  cds_find  nte_find  \\\n",
       "33  ENST00000497671.5  TIAL1  NM_003252.3        -1       294   \n",
       "\n",
       "                    biotype tag  \n",
       "33  nonsense_mediated_decay      "
      ]
     },
     "execution_count": 17,
     "metadata": {},
     "output_type": "execute_result"
    }
   ],
   "source": [
    "INTACT_EXT_FOUND_df_g35_2[INTACT_EXT_FOUND_df_g35_2['gene'] == 'TIAL1']"
   ]
  },
  {
   "cell_type": "code",
   "execution_count": null,
   "metadata": {},
   "outputs": [],
   "source": []
  },
  {
   "cell_type": "markdown",
   "metadata": {},
   "source": [
    "# remaining genes in g35"
   ]
  },
  {
   "cell_type": "code",
   "execution_count": 18,
   "metadata": {},
   "outputs": [
    {
     "data": {
      "text/plain": [
       "'WDR26, ZFP62, PTEN, TIAL1, ANKRD42, C1QL1, HELZ2'"
      ]
     },
     "execution_count": 18,
     "metadata": {},
     "output_type": "execute_result"
    }
   ],
   "source": [
    "REMAINING_GENES_li_g35 = set(genes_17+genes_42) - set(INTACT_EXT_FOUND_li_g35+ANNOTATED_EXT_FOUND_df_g35_li)\n",
    "\n",
    "REMAINING_GENES_df_g35 = seq_df_g35_ext[seq_df_g35_ext['gene'].isin(REMAINING_GENES_li_g35)]\n",
    "\n",
    "', '.join(REMAINING_GENES_df_g35.gene.unique())"
   ]
  },
  {
   "cell_type": "code",
   "execution_count": 20,
   "metadata": {},
   "outputs": [
    {
     "data": {
      "text/plain": [
       "{'ANKRD42', 'C1QL1', 'HELZ2', 'PTEN', 'TIAL1', 'WDR26', 'ZFP62'}"
      ]
     },
     "execution_count": 20,
     "metadata": {},
     "output_type": "execute_result"
    }
   ],
   "source": [
    "REMAINING_GENES_li_g35"
   ]
  },
  {
   "cell_type": "code",
   "execution_count": 23,
   "metadata": {},
   "outputs": [
    {
     "data": {
      "text/html": [
       "<div>\n",
       "<style scoped>\n",
       "    .dataframe tbody tr th:only-of-type {\n",
       "        vertical-align: middle;\n",
       "    }\n",
       "\n",
       "    .dataframe tbody tr th {\n",
       "        vertical-align: top;\n",
       "    }\n",
       "\n",
       "    .dataframe thead th {\n",
       "        text-align: right;\n",
       "    }\n",
       "</style>\n",
       "<table border=\"1\" class=\"dataframe\">\n",
       "  <thead>\n",
       "    <tr style=\"text-align: right;\">\n",
       "      <th></th>\n",
       "      <th>refseq_id</th>\n",
       "      <th>gene</th>\n",
       "    </tr>\n",
       "  </thead>\n",
       "  <tbody>\n",
       "    <tr>\n",
       "      <th>27</th>\n",
       "      <td>NM_025160.6</td>\n",
       "      <td>WDR26</td>\n",
       "    </tr>\n",
       "    <tr>\n",
       "      <th>43</th>\n",
       "      <td>NM_152283.4</td>\n",
       "      <td>ZFP62</td>\n",
       "    </tr>\n",
       "    <tr>\n",
       "      <th>149</th>\n",
       "      <td>NM_000314.8</td>\n",
       "      <td>PTEN</td>\n",
       "    </tr>\n",
       "    <tr>\n",
       "      <th>151</th>\n",
       "      <td>NM_003252.3</td>\n",
       "      <td>TIAL1</td>\n",
       "    </tr>\n",
       "    <tr>\n",
       "      <th>210</th>\n",
       "      <td>NM_006688.5</td>\n",
       "      <td>ANKRD42</td>\n",
       "    </tr>\n",
       "    <tr>\n",
       "      <th>268</th>\n",
       "      <td>NM_182603.4</td>\n",
       "      <td>C1QL1</td>\n",
       "    </tr>\n",
       "    <tr>\n",
       "      <th>320</th>\n",
       "      <td>NM_001037335.2</td>\n",
       "      <td>HELZ2</td>\n",
       "    </tr>\n",
       "  </tbody>\n",
       "</table>\n",
       "</div>"
      ],
      "text/plain": [
       "          refseq_id     gene\n",
       "27      NM_025160.6    WDR26\n",
       "43      NM_152283.4    ZFP62\n",
       "149     NM_000314.8     PTEN\n",
       "151     NM_003252.3    TIAL1\n",
       "210     NM_006688.5  ANKRD42\n",
       "268     NM_182603.4    C1QL1\n",
       "320  NM_001037335.2    HELZ2"
      ]
     },
     "execution_count": 23,
     "metadata": {},
     "output_type": "execute_result"
    }
   ],
   "source": [
    "seq_df_g35_ext[seq_df_g35_ext['gene'].isin(REMAINING_GENES_li_g35)][['refseq_id', 'gene']].drop_duplicates()"
   ]
  },
  {
   "cell_type": "markdown",
   "metadata": {},
   "source": [
    "# save"
   ]
  },
  {
   "cell_type": "code",
   "execution_count": 19,
   "metadata": {},
   "outputs": [],
   "source": [
    "ANNOTATED_EXT_FOUND_df_g35_3.to_csv('tmp_res/ANNOTATED_EXT_FOUND_df_g35_PC_COMPLETE_CDS.txt', sep='\\t', index=False)\n",
    "INTACT_EXT_FOUND_df_g35_3.to_csv('tmp_res/INTACT_EXT_FOUND_df_g35_PC_COMPLETE_CDS.txt', sep='\\t', index=False)"
   ]
  },
  {
   "cell_type": "code",
   "execution_count": 18,
   "metadata": {},
   "outputs": [
    {
     "data": {
      "text/html": [
       "<div>\n",
       "<style scoped>\n",
       "    .dataframe tbody tr th:only-of-type {\n",
       "        vertical-align: middle;\n",
       "    }\n",
       "\n",
       "    .dataframe tbody tr th {\n",
       "        vertical-align: top;\n",
       "    }\n",
       "\n",
       "    .dataframe thead th {\n",
       "        text-align: right;\n",
       "    }\n",
       "</style>\n",
       "<table border=\"1\" class=\"dataframe\">\n",
       "  <thead>\n",
       "    <tr style=\"text-align: right;\">\n",
       "      <th></th>\n",
       "      <th>refseq_id</th>\n",
       "      <th>gene</th>\n",
       "    </tr>\n",
       "  </thead>\n",
       "  <tbody>\n",
       "    <tr>\n",
       "      <th>27</th>\n",
       "      <td>NM_025160.6</td>\n",
       "      <td>WDR26</td>\n",
       "    </tr>\n",
       "    <tr>\n",
       "      <th>43</th>\n",
       "      <td>NM_152283.4</td>\n",
       "      <td>ZFP62</td>\n",
       "    </tr>\n",
       "    <tr>\n",
       "      <th>149</th>\n",
       "      <td>NM_000314.8</td>\n",
       "      <td>PTEN</td>\n",
       "    </tr>\n",
       "    <tr>\n",
       "      <th>151</th>\n",
       "      <td>NM_003252.3</td>\n",
       "      <td>TIAL1</td>\n",
       "    </tr>\n",
       "    <tr>\n",
       "      <th>210</th>\n",
       "      <td>NM_006688.5</td>\n",
       "      <td>ANKRD42</td>\n",
       "    </tr>\n",
       "    <tr>\n",
       "      <th>268</th>\n",
       "      <td>NM_182603.4</td>\n",
       "      <td>C1QL1</td>\n",
       "    </tr>\n",
       "    <tr>\n",
       "      <th>320</th>\n",
       "      <td>NM_001037335.2</td>\n",
       "      <td>HELZ2</td>\n",
       "    </tr>\n",
       "  </tbody>\n",
       "</table>\n",
       "</div>"
      ],
      "text/plain": [
       "          refseq_id     gene\n",
       "27      NM_025160.6    WDR26\n",
       "43      NM_152283.4    ZFP62\n",
       "149     NM_000314.8     PTEN\n",
       "151     NM_003252.3    TIAL1\n",
       "210     NM_006688.5  ANKRD42\n",
       "268     NM_182603.4    C1QL1\n",
       "320  NM_001037335.2    HELZ2"
      ]
     },
     "execution_count": 18,
     "metadata": {},
     "output_type": "execute_result"
    }
   ],
   "source": [
    "REMAINING_GENES_df_g35[['refseq_id', 'gene']].drop_duplicates()"
   ]
  },
  {
   "cell_type": "markdown",
   "metadata": {},
   "source": [
    "# Check whether genes with intact extensions from gencode 35 (24) are supported by SET1 (PhyloSET)"
   ]
  },
  {
   "cell_type": "code",
   "execution_count": 19,
   "metadata": {},
   "outputs": [
    {
     "data": {
      "text/plain": [
       "(24, 28, 7)"
      ]
     },
     "execution_count": 19,
     "metadata": {},
     "output_type": "execute_result"
    }
   ],
   "source": [
    "ANNOTATED_EXT_FOUND_df_g35_3.gene.nunique(), INTACT_EXT_FOUND_df_g35_3.gene.nunique(), REMAINING_GENES_df_g35.gene.nunique()"
   ]
  },
  {
   "cell_type": "code",
   "execution_count": 20,
   "metadata": {},
   "outputs": [
    {
     "name": "stdout",
     "output_type": "stream",
     "text": [
      "genes with remaining ext in g 35 supported by SET1 / 24\n"
     ]
    },
    {
     "data": {
      "text/plain": [
       "{'C1QL2', 'C1QL3', 'CYTH2', 'VANGL2'}"
      ]
     },
     "execution_count": 20,
     "metadata": {},
     "output_type": "execute_result"
    }
   ],
   "source": [
    "print ('genes with remaining ext in g 35 supported by SET1 / 24')\n",
    "set(SET1.gene.unique()).intersection(INTACT_EXT_FOUND_df_g35_3[INTACT_EXT_FOUND_df_g35_3['gene'].isin(genes_42+genes_17)].gene.unique())"
   ]
  },
  {
   "cell_type": "code",
   "execution_count": 21,
   "metadata": {},
   "outputs": [
    {
     "name": "stdout",
     "output_type": "stream",
     "text": [
      "genes with remaining ext in g 35 supported by SET1 / 7\n",
      "['HELZ2']\n"
     ]
    }
   ],
   "source": [
    "print ('genes with remaining ext in g 35 supported by SET1 / 7')\n",
    "print (list(REMAINING_GENES_df_g35.merge(SET1, on=['tr_id', 'gene'], how='inner').gene.unique()))"
   ]
  },
  {
   "cell_type": "code",
   "execution_count": 22,
   "metadata": {},
   "outputs": [
    {
     "data": {
      "text/plain": [
       "'GTGGCGCCTCCAGGGTCCACCCTGCTGCCCAACAGCCCCGCGGCCACCAGAGGGCCGTCCCTGGCCCGGCTGTGTGCCCTGGTGGACCTGTGTCTGGGCTGCTCCCGCTGCACCCAGCGGCTCAATGAAAGCACCTACGTCCTCCGTAGGGTGGAGCATGACTGCTCCCGCGAGATCCTGCTGGCCCGCTTTAAGCAGGCCACCAAGAGCAAGGTCTGGCGCGTGGTGGGCTGCCGGCCCACCTTCCCAAGGCCCCTGTGCTACCAAGTCTGCCACTACTACAGCCCTGGGCTCGGCTGCCGGCGCCACCGAAACCGGTGCACCTTTGCCCGCAGTCGCGAGGAGGCCCTGGTCTGGACCTTCGAGCGTCAGCACAACCTCCAGCGCCTATGGCTGAAGGCGGAGGTGCAGGGCAGCGGGGCCCAGGGAGGGGCAGGCCGGGCGGCCGACGCCATCCTTACGGAGTTTGGCGGCCGCTTCGAGCTGCTTTGCTCCCTCTGCTTCAGGCGCTGTCCCCCATGCATCTGTCGCGTGGACCCCCAGGGGCAGTGCCCTGAGCACGGAGCCTGCCCCTCCCTCCTGGCCCACGTGAGCGCCGAGGGCCGCCGCAAGCAACAGTTTGTGGTGGTGAGGCCGCGGCCCCGGGCCGGCCAGCCTCCTGCCTACTGCAGGTTTGTGGGGCGTGGGCAGCCGTGCTGGCGTGGGGAGTCCCGCTGCCAGTTTGCACACAGCGCCGTGGAGATG'"
      ]
     },
     "execution_count": 22,
     "metadata": {},
     "output_type": "execute_result"
    }
   ],
   "source": [
    "REMAINING_GENES_df_g35[REMAINING_GENES_df_g35['gene'] == 'HELZ2'].iloc[0].ext_seq"
   ]
  },
  {
   "cell_type": "code",
   "execution_count": 23,
   "metadata": {},
   "outputs": [
    {
     "data": {
      "text/plain": [
       "'GTTTGTGGGGCGTGGGCAGCCGTGCTGGCGTGGGGAGTCCCGCTGCCAGTTTGCACACAGCGCCGTGGAGATGGCTGTGTGGGAGGCCGAGCAGCTGGGTGGCCTCCAGCGGGGGGACCTGCTCACACCCCCTGCCCCTGATGGCGACGGGCGCACGGCCCCCCTTGGCCAGCCCCCTGGGGCCCAGCTGTACTGCCCGGCCTGCTTGGTCACCTGCCACTCTCAGGAGGCCTTCGAGAACCACTGCGCATCCTCGGAGCACGCACAGATGGTGGCCTTCGACCAGGCCCTGCCCTGGGAGCACCGTTCCCCACCCCCGGGACTCTCCAAGTTCGAGCTCTGCCCAAAGCCTGACCTCTGTGAGTATGGGGACGCCTGCACCAAGGCACACTCAGCACAGGAGCTGCAGGAGTGGGTCCGGCGCACGCAGGCTGTGGAGCTGCGGGGGCAGGCGGCCTGGCAGGACGGGCTGGTGCCCTACCAGGAGCGGCTGCTGGCCGAGTACCAGCGCAGCAGCAGTGAGGTCCTTGTGCTGGCAGAGACCCTTGATGGAGTGCGTGTCACCTGCAACCAGCCCCTGATGTACCAGGCCCAGGAGAGGAAGACCCAGTACAGCTGGACGTTTGCCGTCCACTCTGAGGAGCCCCTGCTACACGTGGCCCTGCTGAAGCAGGAGCCAGGAGCCGACTTCTCTCTGGTGGCTCCCGGCCTCCCGCCAGGCCGGCTCTACGCACGGGGTGAGCGCTTCCGTGTGCCCAGCTCCACTGCCGACTTCCAGGTGGGAGTGCGTGTGCAGGCTGCCTCGTTCGGCACCTTTGAGCAATGGGTGGTCTTCGACTTTGGCCGCCGGCCGGTGCTGCTACAAAAGCTGGGGCTGCAGCTGGGCCAGGGGCGTCGCCCAGGACCCTGCAGGAATCTGGCGCTCGGCCACCCTGAGGAGATGGAGCGCTGGCACACTGGCAACCGCCACGTGGTGCCTGGCGTGGAGCGGACGGCCGAGCAGACGGCCCTGATGGCCAAGTACAAGGGCCCTGCCCTGGCCCTGGAGTTCAACCGCAGCAGCGTGGCCTCGGGCCCCATCTCACCAACCAACTATCGGCAGAGGATGCACCAGTTTCTCTATGAGGAGGAGGCGGCTCAGCAGCAGCTGGTGGCCAAGCTGACCCTGCGGGGCCAGGTGTTCCTGAAGACGGCATTGCAGACGCCAGCGCTGAACATGCTCTTCGCGCCTCCGGGAGCACTGTACGCAGAGGTCCCCGTCCCCTCCTCCCTGATGCCAGACACAGACCAGGGCTTCCTGCTGGGCCGGGCGGTCAGCACAGCCCTGGTGGCCCCTGTACCTGCACCCGACAATACGGTGTTCGAGGTGCGGCTGGAGAGGCGGGCCAGCTCAGAGCAGGCGCTGTGGCTGCTGCTTCCGGCCCGCTGCTGCTTGGCCCTGGGGCTGCAGCCTGAGGCCCGCCTGGTCCTGGAGGTGCAGTTCCAGATTGACCCGATGACCTTCCGCCTCTGGCACCAGGCAGTGGACACACTGCCTGAGGAGCAGCTGGTGGTGCCCGACTTGCCCACCTGCGCCCTGCCCAGACCTTGGTCTGTCCCACCCTTGCGGCGTGGCAACCGCAAGCAGGAGCTGGCCGTGGCGCTCATCGCGGGCTGGGGCCCTGGGGATGGGAGGCGTGTCCCCCCGCTACTCATCTATGGCCCCTTTGGCACCGGCAAGACCTACACGCTGGCCATGGCCTCCCTGGAGGTCATCCGGAGGCCTGAAACCAAGGTGCTCATCTGCACACACACCAACAGTGCCGCCGACATCTACATCCGGGAGTATTTCCACAGCCACGTCAGCGGCGGCCACCCCGAGGCCACTCCTCTCCGTGTGATGTACACGGACCGGCCGCTGAGCCAGACGGACCCAGTCACGCTGCAGTACTGTTGCCTGACCGACGACCGCCAGGCTTTCCGCCCGCCCACACGGGCAGAGCTGGCGCGGCACCGCGTGGTGGTCACCACCACCTCCCAGGCCCGTGAGCTCAGGGTGCCGGTCGGCTTCTTCTCCCACATTCTCATCGATGAGGCGGCCCAGATGCTGGAGTGCGAGGCCCTCACCCCGCTGGCCTATGCCTCGCACGGCACCCGCCTCGTGCTGGCGGGCGACCACATGCAGGTCACACCCCGGCTGTTCAGTGTGGCCAGGGCCCGGGCGGCCGAGCACACGCTGCTGCACCGCCTCTTCCTGTGCTACCAGCAGGAGACTCACGAGGTGGCGCGGCAGAGCCGCCTGGTCTTCCACGAGAACTACCGCTGCACGGACGCCATTGTCAGCTTCATCTCGCGGCACTTCTACGTGGCCAAGGGCAACCCCATCCACGCCAGGGGCAAGGTTCCGCCCCACCCCCGGCACTACCCGCTCATGTTCTGCCACGTGGCGGGCAGCCCAGACCGGGACATGTCCATGGCGTCCTGGCTGAATCTGGCTGAGATTGCGCAGGTCGTCGAGAAGGTGCAGGAGGCCTACAACACCTGGCCCAGCTGCTGGGGCGGCCGCGAGCAGAGGTGCATCTGTGTCGTTTCCCACGGTGCCCAGGTCAGTGCACTGAGGCAGGAGCTGAGGAGGCGGGACCTAGGCCAGGTGTCTGTCGGCAGTTTTGAGATCCTGCCAGGGCGGCAGTTCCGGGTCGTGGTGCTCAGCACTGTGCACACCTGCCAGAGCCTGCTCAGCCCTGGGGCACTGGCCCCTGAGTTCTTCACCGACGCCCGCGTGCTCAACACCGTCCTGACCCGCGCCCAGTCCCAGCTGGTGGTAGTGGGGGACGCCGTGGCCCTCTGCTCCTTCGGGGCCTGCGGCAAGCTCTGGGAGAGCTTCATCCGTGAGTGCGTGGAGCGGCACAGTGTCTGCCCCGAGGGCCTGTCCATGGAGCAGGTCGAGCAGGGTGTGGCGCAGAGACGGCGCTGGCCTCCCCGAGGCACACAGGCTGGGGCAGCGGGGAACTGGGAGGCTGCCCCAGAGCCAGTAGGGGACCTGGCCGAGGAGCAGGCGGCTGTGGTGACGGCCATGGTGAAGGCAGAGCCGGGAGATGAGGCTCTGAGCCCAGCATCCCGTGACATCACGGCAACCACAGCGCAGACGGAGGCTGCGGCAGCACCAGCAGGAGACGCAGTGAAGGAAGACGTGGTGCCCGGGGCCTGTGCGGCAGGAGCGGCTGCTGCAGCGGGCGTGGAGTCCACGGAGGCTGAGGATGCAGAGGCTGACTTCTGGCCGTGGGACGGGGAGCTCAACGCTGACGACGCCATCCTACGGGAGCTTCTGGACGAGAGCCAGAAGGTGATGGTGACCGTCGGGGAGGACGGGCTGCTGGACACTGTCGCCAGGCCCGAGTCCCTGCAGCAGGCCCGGCTGTACGAGAACCTGCCCCCGGCTGCGCTACGGAAGCTGCTGCACGCGGAGCCCGAGCGGTACCGCCACTGCTCTTTCGTGCCAGAGACCTTCGAGCGGGCGTCAGCCATCCCGCTGGACGATGCCTCCTCGGGCCCCATCCAGGTCAGGGGCCGCCTGGACTGTGGGATGGCCTTCGCCGGGGATGAGGTGCTGGTGCAGCTCCTTTCGGGAGACAAGGCGCCCGAGGGGCGGCTTCGGGGCCGCGTGCTGGGCGTGCTGAAGAGGAAGAGGCACGAGCTGGCGTTTGTGTGCCGCATGGACACGTGGGACCCGCGCATCATGGTCCCCATCAATGGCTCCGTGACCAAGATCTTCGTGGCCGAGCTGAAGGACCCATCGCAGGTCCCCATCTACAGCCTCCGGAAGGGCCGGCTGCAGCGTGTGGGGCTTGAGAGGCTCACCGCCGAGGCCCGGCACAGCCGGCTCTTCTGGGTCCAAATTGTCCTGTGGCGGCAAGGCTTCTACTACCCGCTGGGCATCGTCCGGGAGGTGCTGCCTGAGGCCAGCACCTGGGAGCAGGGCCTCCGCATCCTCGGCCTGGAGTACAGCTTGAGGGTGCCCCCGTCGGACCAGGCCACCATCACCAAGGTGCTGCAGAAATACCACACGGAGCTTGGCCGGGTTGCCGGCCGCCGAGAGGACTGCCGCGCCTTCTTGACCTTCACTGTGGACCCCCAGGGCGCCTGCAACCTCGATGATGCCCTCAGTGTCCGAGACCTGGGTCCCAGGTGCGAGGTGGCTGTGCACATCACTGATGTGGCCAGCTTCGTGCCCAGGGACGGGGTGCTGGACGTGGAGGCGCGAAGGCAGGGCGCTGCGTTCTATGCCCCCGGCAGGGAGCCAGTGCCCATGCTGCCGGCCAGCCTCTGCCAGGACGTCCTCAGCCTCCTGCCTGGCCGGGACCGCCTGGCCATCTCCCTGTTCCTCACCATGGAGAAGGCCAGTGGCCAGCTGAAGAGCCTGCGCTTTGCACCCTCCGTGGTCCAGTCTGACCGCCAGCTGTCCTACGAGGAGGCGGAGGAGGTGATCAGGCAGCACCCGGGTGCCGGCCGTGAGCTGCCGGCCCGCCTGGACTCCGTGGACGCCTGCGTCGTGGCCGCGTGCTACTTCTCTCGGCTGCTGCGCCGGCACCGCCTGCGGTCCGACTGCTTCTATGAGCAGCCGGACGAGGACGGCACCCTGGGCTTCCGCGCGGCCCACATCATGGTGAAGGAGTACATGATTCAGTTTAATAGGCTCGTGGCTGAGTTCCTGGTGGGCAGCGAGTGCACGCGGACGGTCACGCCTCTGCGGTGGCAGCCAGCACCCCGCAGCCAGCAGCTCAAGGCCCTGTGTGAGAAGCATGGGGACCGGGTGCCCCTGTCACTGCACCTCGGCCACCACCTGCACGGCGGCGGGGGCAGTCCCCCCGACACGCGGCTGCACCTCCTGGCCTCCCTCTGGAAGCAGGTCCAGTTTGCTGCCCGCACCCAGGACTACGAACAGATGGTGGACTTGGTCACCACGGACGACATGCACCCATTCCTGGCTCCTGCAGGCCGCGACCTCCGCAAGGCCCTGGAGCGCTCGGCGTTCGGCCGCTGCGCCCGGGGCCACCAGCAGCAGGGCGGCCACTACTCGCTGCAGGTGGACTGGTACACGTGGGCCACCTCGCCCATCCGCAGGTACCTGGACGTGGTGTTGCAGCGGCAGATCCTGCTGGCGCTGGGCCATGGGGGCTCTGCCTACTCTGCCAGGGACATCGATGGGCTCTGCCAGGCCTTCAGCCTCCAGCACGCACTTGCCCAGAGCTATCAGCGGCGGGCGCGCAGCCTGCACCTGGCCGTGCAGCTCAAGGCCCAGCCTCTGGACAAGCTGGGCTTCGTGGTGGACGTGGAGGCGGGCTCCCGCTGCTTCCGGCTGCTCTTCCCCAGCAACCGGGAGACGCTGCCTGACCCCTGCCCCGTCCCCTACGGCTCCCTGCAGCTGGCCGAGCACCCCCACGCCCTGGCAGGCCGGCCGGGCCTGCGGCTCCTGTGGCGGCGCCGTGTCTACTCAGCGCAGGGATCCAGCCCGCCCCTGCCACTGCCTGGCACTGTGCCGGACCCACACACCCTGGCCGTGGAGACGGCCCTGTGGAAGCAGCTGCTGGAGCTGGTGGAGCTGCAGCGCTGGCCGGAGGCGGCTGCTCTCATCCAGGAGAAGGGCGAGGCGTCCCAGCGGCGGGAGCTGGTGCAGGTGCAGCGGAGCCACTGTGGCCATTTCCTGGAGGTGGCCCGGGAGCTGGGCAGTGGGGACACCCTGCAGGTGCAGCTCGGCACCAGCCTGCAGCACGGCTTCCTGGTACCGAGCCCTCAGCTCTGGACGGTGGCACCGGGCTTCAGCCTCTGCCTGGAGCACGTGGAGCGGCCCGGAGACTGCTTCTCAGGCCGTGTGTACCGGGCCCCGAGGGACCGGTACCGCGACGTGGATGAGTACGCCTGCGTGTGGGAACCATTCTGCGCCCTGGAGTCGGCCACCGGCGCGGTTGCCGAGAATGACTCCGTCACACTTCAGCACCTGAGTGTCTCCTGGGAGGCGTCACGGACGCCGCAGGGGCAGCTGCAGGGCGCCTTCCGCCTGGAGGCCGCCTTCCTCGAGGAGAACTGTGCCGACATCAACTTCAGCTGCTGCTACCTCTGCATCCGGCTCGAGGGGCTGCCGGCTCCCACGGCCAGCCCACGCCCTGGGCCCAGCAGCCTCGGCCCTGGCCTGAATGTTGACCCCGGCACGTATACCTGGGTGGCCCACGGGCAGACGCAGGACTGGGACCAGGAGCGCCGGGCAGACCGGCAGGAGGCTCCCAGACGGGTGCACCTCTTCGTCCACCACATGGGCATGGAGAAGGTTCCGGAAGAGGTGCTGAGGCCGGGCACCCTGTTCACCGTTGAGCTGCTGCCCAAGCAGCTTCCTGATCTCCGCAAGGAGGAAGCCGTGCGTGGACTAGAGGAGGCGTCCCCGCTGGTCACCAGCATCGCACTGGGCCGGCCTGTCCCGCAGCCCCTCTGCAGAGTGATCCCCAGCAGGTTCCTGGAGCGGCAGACCTACAACATCCCCGGAGGCCGCCACAAGCTGAACCCCAGCCAGAACGTGGCGGTCAGGGAGGCTCTGGAGAAGCCTTTCACGGTCATTCAGGGCCCACCAGGTACAGGGAAGACGATCGTGGGCCTCCACATCGTATTCTGGTTTCATAAATCAAACCAGGAGCAGGTGCAGCCCGGAGGCCCCCCCCGTGGGGAGAAGCGGCTGGGGGGTCCCTGCATCTTGTACTGCGGCCCCTCCAACAAGTCGGTGGATGTCCTGGCAGGACTGCTCCTGAGAAGGATGGAGCTGAAGCCCCTCCGTGTGTACAGTGAGCAGGCTGAGGCCAGCGAGTTCCCAGTGCCGCGTGTGGGCAGCAGGAAGCTGCTCAGGAAGAGCCCCCGGGAGGGGAGGCCGAACCAGAGCCTCAGGAGCATCACCCTGCACCACCGGATCCGGCAGGCCCCCAACCCTTACTCGTCGGAAATCAAGGCCTTTGACACCCGGCTGCAGAGAGGGGAGCTCTTCTCCAGGGAGGACCTGGTCTGGTACAAGAAGGTCTTGTGGGAGGCTCGGAAGTTCGAGCTGGACCGGCATGAGGTCATCCTCTGCACCTGCTCCTGTGCAGCCTCTGCCAGCCTCAAAATCCTGGACGTGAGGCAGATCCTTGTTGACGAGGCAGGCATGGCCACGGAACCTGAAACCCTCATCCCCCTGGTGCAGTTCCCACAGGCCGAGAAGGTGGTTCTTCTCGGAGACCACAAGCAGCTGCGGCCTGTGGTCAAGAATGAGCGGCTGCAAAACCTGGGTCTGGACCGGTCTCTGTTCGAGCGGTACCACGAGGACGCACATATGCTGGACACTCAGTACCGCATGCATGAGGGCATCTGTGCCTTCCCCTCTGTGGCGTTCTACAAGAGCAAGCTGAAGACGTGGCAGGGCCTGAGGAGGCCGCCCAGTGTCCTGGGCCACGCTGGCAAGGAGAGCTGCCCTGTCATCTTTGGCCACGTGCAGGGCCACGAGCGGAGCCTGCTGGTGTCCACGGACGAAGGGAATGAGAACTCCAAGGCCAACCTGGAGGAGGTGGCTGAGGTGGTCCGTATCACCAAGCAGCTGACCCTGGGGAGGACCGTAGAGCCCCAGGACATCGCCGTCCTCACGCCCTACAACGCGCAGGCCTCTGAGATCAGCAAGGCCCTTCGGCGAGAGGGCATCGCCGGGGTGGCCGTGTCCTCCATCACCAAGAGCCAGGGGAGCGAGTGGCGCTATGTGCTGGTGAGCACCGTCCGCACCTGTGCCAAGAGCGACCTGGACCAGCGGCCCACCAAGAGCTGGCTCAAGAAGTTTCTGGGCTTCGTTGTGGACCCCAACCAAGTGAATGTGGCTGTCACGCGGGCCCAGGAGGGGCTCTGCCTGATCGGAGACCACCTCCTTCTGCGCTGCTGCCCCCTCTGGCGTAGCCTCCTGGACTTCTGCGAGGCTCAGCAGACCCTCGTGCCTGCCGGCCAGGTGCGCGTCTGCAGGAGGCCAACTATGCCTTCCTGAAGAGCCCTCTCCACCTGCAAGGTGCCAGGACTGGGAGGGAAAGT'"
      ]
     },
     "execution_count": 23,
     "metadata": {},
     "output_type": "execute_result"
    }
   ],
   "source": [
    "metadata_pc_g35[metadata_pc_g35['gene'] == 'HELZ2'].iloc[1].transcript_seq\n",
    "\n",
    "# ENST00000427522.6, ENST00000467148.1"
   ]
  },
  {
   "cell_type": "code",
   "execution_count": null,
   "metadata": {},
   "outputs": [],
   "source": []
  },
  {
   "cell_type": "markdown",
   "metadata": {},
   "source": [
    "# Check whether genes with intact extensions from gencode 35 (24) are supported by SET2 (RiboSET)"
   ]
  },
  {
   "cell_type": "code",
   "execution_count": 24,
   "metadata": {},
   "outputs": [
    {
     "name": "stdout",
     "output_type": "stream",
     "text": [
      "genes with remaining ext in g 35 supported by SET2 / 24\n"
     ]
    },
    {
     "data": {
      "text/plain": [
       "{'CYTH2', 'HDGF'}"
      ]
     },
     "execution_count": 24,
     "metadata": {},
     "output_type": "execute_result"
    }
   ],
   "source": [
    "print ('genes with remaining ext in g 35 supported by SET2 / 24')\n",
    "set(SET2.gene.unique()).intersection(INTACT_EXT_FOUND_df_g35_3[INTACT_EXT_FOUND_df_g35_3['gene'].isin(genes_42+genes_17)].gene.unique())"
   ]
  },
  {
   "cell_type": "code",
   "execution_count": 25,
   "metadata": {},
   "outputs": [
    {
     "name": "stdout",
     "output_type": "stream",
     "text": [
      "genes with remaining ext in g 35 supported by SET2 / 7\n",
      "[]\n"
     ]
    }
   ],
   "source": [
    "print ('genes with remaining ext in g 35 supported by SET2 / 7')\n",
    "print (list(REMAINING_GENES_df_g35.merge(SET2, on=['tr_id', 'gene'], how='inner').gene.unique()))"
   ]
  },
  {
   "cell_type": "code",
   "execution_count": null,
   "metadata": {},
   "outputs": [],
   "source": []
  },
  {
   "cell_type": "code",
   "execution_count": null,
   "metadata": {},
   "outputs": [],
   "source": []
  },
  {
   "cell_type": "markdown",
   "metadata": {},
   "source": [
    "# PTEN"
   ]
  },
  {
   "cell_type": "code",
   "execution_count": 26,
   "metadata": {},
   "outputs": [
    {
     "data": {
      "text/plain": [
       "'CTGGAGCGGGGGGGAGAAGCGGCGGCGGCGGCGGCCGCGGCGGCTGCAGCTCCAGGGAGGGGGTCTGAGTCGCCTGTCACCATTTCCAGGGCTGGGAACGCCGGAGAGTTGGTCTCTCCCCTTCTACTGCCTCCAACACGGCGGCGGCGGCGGCGGCACATCCAGGGACCCGGGCCGGTTTTAAACCTCCCGTCCGCCGCCGCCGCACCCCCCGTGGCCCGGGCTCCGGAGGCCGCCGGCGGAGGCAGCCGTTCGGAGGATTATTCGTCTTCTCCCCATTCCGCTGCCGCCGCTGCCAGGCCTCTGGCTGCTGAGGAGAAGCAGGCCCAGTCGCTGCAACCATCCAGCAGCCGCCGCAGCAGCCATTACCCGGCTGCGGTCCAGAGCCAAGCGGCGGCAGAGCGAGGGGCATCAGCTACCGCCAAGTCCAGAGCCATTTCCATCCTGCAGAAGAAGCCCCGCCACCAGCAGCTTCTGCCATCTCTCTCCTCCTTTTTCTTCAGCCACAGGCTCCCAGACATG'"
      ]
     },
     "execution_count": 26,
     "metadata": {},
     "output_type": "execute_result"
    }
   ],
   "source": [
    "EXT_SEQ_DF[EXT_SEQ_DF['gene'] == 'PTEN'].iloc[0].ext_seq"
   ]
  },
  {
   "cell_type": "code",
   "execution_count": 27,
   "metadata": {},
   "outputs": [
    {
     "data": {
      "text/plain": [
       "'CTGGAGCGGGGGGGAGAAGCGGCGGCGGCGGCGGCCGCGGCGGCTGCAGCTCCAGGGAGGGGGTCTGAGTCGCCTGTCACCATTTCCAGGGCTGGGAACGCCGGAGAGTTGGTCTCTCCCCTTCTACTGCCTCCAACACGGCGGCGGCGGCGGCGGCACATCCAGGGACCCGGGCCGGTTTTAAACCTCCCGTCCGCCGCCGCCGCACCCCCCGTGGCCCGGGCTCCGGAGGCCGCCGGCGGAGGCAGCCGTTCGGAGGATTATTCGTCTTCTCCCCATTCCGCTGCCGCCGCTGCCAGGCCTCTGGCTGCTGAGGAGAAGCAGGCCCAGTCGCTGCAACCATCCAGCAGCCGCCGCAGCAGCCATTACCCGGCTGCGGTCCAGAGCCAAGCGGCGGCAGAGCGAGGGGCATCAGCTACCGCCAAGTCCAGAGCCATTTCCATCCTGCAGAAGAAGCCCCGCCACCAGCAGCTTCTGCCATCTCTCTCCTCCTTTTTCTTCAGCCACAGGCTCCCAGACATG'"
      ]
     },
     "execution_count": 27,
     "metadata": {},
     "output_type": "execute_result"
    }
   ],
   "source": [
    "EXT_SEQ_DF[EXT_SEQ_DF['gene'] == 'PTEN'].iloc[0].ext_seq"
   ]
  },
  {
   "cell_type": "code",
   "execution_count": 28,
   "metadata": {},
   "outputs": [
    {
     "data": {
      "text/plain": [
       "'GTTCTCTCCTCTCGGAAGCTGCAGCCATGATGGAAGTTTGAGAGTTGAGCCGCTGTGAGGCGAGGCCGGGCTCAGGCGAGGGAGATGAGAGACGGCGGCGGCCGCGGCCCGGAGCCCCTCTCAGCGCCTGTGAGCAGCCGCGGGGGCAGCGCCCTCGGGGAGCCGGCCGGCCTGCGGCGGCGGCAGCGGCGGCGTTTCTCGCCTCCTCTTCGTCTTTTCTAACCGTGCAGCCTCTTCCTCGGCTTCTCCTGAAAGGGAAGGTGGAAGCCGTGGGCTCGGGCGGGAGCCGGCTGAGGCGCGGCGGCGGCGGCGGCACCTCCCGCTCCTGGAGCGGGGGGGAGAAGCGGCGGCGGCGGCGGCCGCGGCGGCTGCAGCTCCAGGGAGGGGGTCTGAGTCGCCTGTCACCATTTCCAGGGCTGGGAACGCCGGAGAGTTGGTCTCTCCCCTTCTACTGCCTCCAACACGGCGGCGGCGGCGGCTGGCACATCCAGGGACCCGGGCCGGTTTTAAACCTCCCGTGCGCCGCCGCCGCACCCCCCGTGGCCCGGGCTCCGGAGGCCGCCGGCGGAGGCAGCCGTTCGGAGGATTATTCGTCTTCTCCCCATTCCGCTGCCGCCGCTGCCAGGCCTCTGGCTGCTGAGGAGAAGCAGGCCCAGTCGCTGCAACCATCCAGCAGCCGCCGCAGCAGCCATTACCCGGCTGCGGTCCAGAGCCAAGCGGCGGCAGAGCGAGGGGCATCAGCTACCGCCAAGTCCAGAGCCATTTCCATCCTGCAGAAGAAGCCCCGCCACCAGCAGCTTCTGCCATCTCTCTCCTCCTTTTTCTTCAGCCACAGGCTCCCAGAC'"
      ]
     },
     "execution_count": 28,
     "metadata": {},
     "output_type": "execute_result"
    }
   ],
   "source": [
    "metadata_pc_g35[metadata_pc_g35['gene'] == 'PTEN'].iloc[0]['5UTR_start_seq']"
   ]
  },
  {
   "cell_type": "code",
   "execution_count": 29,
   "metadata": {},
   "outputs": [
    {
     "name": "stdout",
     "output_type": "stream",
     "text": [
      "154 ('T', 'G')\n",
      "156 ('G', 'C')\n",
      "157 ('C', 'A')\n",
      "158 ('A', 'C')\n",
      "159 ('C', 'A')\n",
      "160 ('A', 'T')\n",
      "161 ('T', 'C')\n",
      "163 ('C', 'A')\n",
      "164 ('A', 'G')\n",
      "167 ('G', 'A')\n",
      "168 ('A', 'C')\n",
      "171 ('C', 'G')\n",
      "174 ('G', 'C')\n",
      "176 ('C', 'G')\n",
      "178 ('G', 'T')\n",
      "182 ('T', 'A')\n",
      "185 ('A', 'C')\n",
      "187 ('C', 'T')\n",
      "188 ('T', 'C')\n",
      "191 ('C', 'G')\n",
      "192 ('G', 'T')\n",
      "193 ('T', 'C')\n",
      "194 ('G', 'C')\n",
      "195 ('C', 'G')\n",
      "196 ('G', 'C')\n",
      "198 ('C', 'G')\n",
      "199 ('G', 'C')\n",
      "201 ('C', 'G')\n",
      "202 ('G', 'C')\n",
      "204 ('C', 'G')\n",
      "205 ('G', 'C')\n",
      "206 ('C', 'A')\n",
      "207 ('A', 'C')\n",
      "213 ('C', 'G')\n",
      "214 ('G', 'T')\n",
      "215 ('T', 'G')\n",
      "217 ('G', 'C')\n",
      "220 ('C', 'G')\n",
      "223 ('G', 'C')\n",
      "224 ('C', 'T')\n",
      "225 ('T', 'C')\n",
      "227 ('C', 'G')\n",
      "229 ('G', 'A')\n",
      "230 ('A', 'G')\n",
      "232 ('G', 'C')\n",
      "234 ('C', 'G')\n",
      "235 ('G', 'C')\n",
      "237 ('C', 'G')\n",
      "239 ('G', 'C')\n",
      "240 ('C', 'G')\n",
      "242 ('G', 'A')\n",
      "243 ('A', 'G')\n",
      "245 ('G', 'C')\n",
      "246 ('C', 'A')\n",
      "247 ('A', 'G')\n",
      "248 ('G', 'C')\n",
      "250 ('C', 'G')\n",
      "251 ('G', 'T')\n",
      "253 ('T', 'C')\n",
      "254 ('C', 'G')\n",
      "256 ('G', 'A')\n",
      "257 ('A', 'G')\n",
      "259 ('G', 'A')\n",
      "260 ('A', 'T')\n",
      "262 ('T', 'A')\n",
      "263 ('A', 'T')\n",
      "265 ('T', 'C')\n",
      "266 ('C', 'G')\n",
      "267 ('G', 'T')\n",
      "268 ('T', 'C')\n",
      "269 ('C', 'T')\n",
      "271 ('T', 'C')\n",
      "272 ('C', 'T')\n",
      "273 ('T', 'C')\n",
      "277 ('C', 'A')\n",
      "278 ('A', 'T')\n",
      "280 ('T', 'C')\n",
      "282 ('C', 'G')\n",
      "283 ('G', 'C')\n",
      "284 ('C', 'T')\n",
      "285 ('T', 'G')\n",
      "286 ('G', 'C')\n",
      "288 ('C', 'G')\n",
      "289 ('G', 'C')\n",
      "291 ('C', 'G')\n",
      "292 ('G', 'C')\n",
      "293 ('C', 'T')\n",
      "294 ('T', 'G')\n",
      "295 ('G', 'C')\n",
      "297 ('C', 'A')\n",
      "298 ('A', 'G')\n",
      "300 ('G', 'C')\n",
      "302 ('C', 'T')\n",
      "303 ('T', 'C')\n",
      "304 ('C', 'T')\n",
      "305 ('T', 'G')\n",
      "307 ('G', 'C')\n",
      "308 ('C', 'T')\n",
      "309 ('T', 'G')\n",
      "310 ('G', 'C')\n",
      "311 ('C', 'T')\n",
      "312 ('T', 'G')\n",
      "313 ('G', 'A')\n",
      "314 ('A', 'G')\n",
      "316 ('G', 'A')\n",
      "317 ('A', 'G')\n",
      "318 ('G', 'A')\n",
      "320 ('A', 'G')\n",
      "321 ('G', 'C')\n",
      "322 ('C', 'A')\n",
      "323 ('A', 'G')\n",
      "325 ('G', 'C')\n",
      "328 ('C', 'A')\n",
      "329 ('A', 'G')\n",
      "330 ('G', 'T')\n",
      "331 ('T', 'C')\n",
      "332 ('C', 'G')\n",
      "333 ('G', 'C')\n",
      "334 ('C', 'T')\n",
      "335 ('T', 'G')\n",
      "336 ('G', 'C')\n",
      "337 ('C', 'A')\n",
      "339 ('A', 'C')\n",
      "341 ('C', 'A')\n",
      "342 ('A', 'T')\n",
      "343 ('T', 'C')\n",
      "345 ('C', 'A')\n",
      "346 ('A', 'G')\n",
      "347 ('G', 'C')\n",
      "348 ('C', 'A')\n",
      "349 ('A', 'G')\n",
      "350 ('G', 'C')\n",
      "352 ('C', 'G')\n",
      "353 ('G', 'C')\n",
      "355 ('C', 'G')\n",
      "356 ('G', 'C')\n",
      "357 ('C', 'A')\n",
      "358 ('A', 'G')\n",
      "359 ('G', 'C')\n",
      "360 ('C', 'A')\n",
      "361 ('A', 'G')\n",
      "362 ('G', 'C')\n",
      "364 ('C', 'A')\n",
      "365 ('A', 'T')\n",
      "367 ('T', 'A')\n",
      "368 ('A', 'C')\n",
      "371 ('C', 'G')\n",
      "373 ('G', 'C')\n",
      "374 ('C', 'T')\n",
      "375 ('T', 'G')\n",
      "376 ('G', 'C')\n",
      "377 ('C', 'G')\n",
      "379 ('G', 'T')\n",
      "380 ('T', 'C')\n",
      "382 ('C', 'A')\n",
      "383 ('A', 'G')\n",
      "384 ('G', 'A')\n",
      "385 ('A', 'G')\n",
      "386 ('G', 'C')\n",
      "388 ('C', 'A')\n",
      "390 ('A', 'G')\n",
      "391 ('G', 'C')\n",
      "392 ('C', 'G')\n",
      "394 ('G', 'C')\n",
      "395 ('C', 'G')\n",
      "397 ('G', 'C')\n",
      "398 ('C', 'A')\n",
      "399 ('A', 'G')\n",
      "400 ('G', 'A')\n",
      "401 ('A', 'G')\n",
      "402 ('G', 'C')\n",
      "403 ('C', 'G')\n",
      "404 ('G', 'A')\n",
      "405 ('A', 'G')\n",
      "409 ('G', 'C')\n",
      "410 ('C', 'A')\n",
      "411 ('A', 'T')\n",
      "412 ('T', 'C')\n",
      "413 ('C', 'A')\n",
      "414 ('A', 'G')\n",
      "415 ('G', 'C')\n",
      "416 ('C', 'T')\n",
      "417 ('T', 'A')\n",
      "418 ('A', 'C')\n",
      "420 ('C', 'G')\n",
      "421 ('G', 'C')\n",
      "423 ('C', 'A')\n",
      "425 ('A', 'G')\n",
      "426 ('G', 'T')\n",
      "427 ('T', 'C')\n",
      "429 ('C', 'A')\n",
      "430 ('A', 'G')\n",
      "431 ('G', 'A')\n",
      "432 ('A', 'G')\n",
      "433 ('G', 'C')\n",
      "435 ('C', 'A')\n",
      "436 ('A', 'T')\n",
      "439 ('T', 'C')\n",
      "441 ('C', 'A')\n",
      "442 ('A', 'T')\n",
      "443 ('T', 'C')\n",
      "445 ('C', 'T')\n",
      "446 ('T', 'G')\n",
      "447 ('G', 'C')\n",
      "448 ('C', 'A')\n",
      "449 ('A', 'G')\n",
      "450 ('G', 'A')\n",
      "452 ('A', 'G')\n",
      "453 ('G', 'A')\n",
      "455 ('A', 'G')\n",
      "456 ('G', 'C')\n",
      "460 ('C', 'G')\n",
      "461 ('G', 'C')\n",
      "463 ('C', 'A')\n",
      "464 ('A', 'C')\n",
      "466 ('C', 'A')\n",
      "467 ('A', 'G')\n",
      "468 ('G', 'C')\n",
      "469 ('C', 'A')\n",
      "470 ('A', 'G')\n",
      "471 ('G', 'C')\n",
      "472 ('C', 'T')\n",
      "474 ('T', 'C')\n",
      "475 ('C', 'T')\n",
      "476 ('T', 'G')\n",
      "477 ('G', 'C')\n",
      "479 ('C', 'A')\n",
      "480 ('A', 'T')\n",
      "481 ('T', 'C')\n",
      "482 ('C', 'T')\n",
      "483 ('T', 'C')\n",
      "484 ('C', 'T')\n",
      "485 ('T', 'C')\n",
      "486 ('C', 'T')\n",
      "487 ('T', 'C')\n",
      "489 ('C', 'T')\n",
      "490 ('T', 'C')\n",
      "492 ('C', 'T')\n",
      "497 ('T', 'C')\n",
      "498 ('C', 'T')\n",
      "500 ('T', 'C')\n",
      "501 ('C', 'A')\n",
      "502 ('A', 'G')\n",
      "503 ('G', 'C')\n",
      "505 ('C', 'A')\n",
      "506 ('A', 'C')\n",
      "507 ('C', 'A')\n",
      "508 ('A', 'G')\n",
      "510 ('G', 'C')\n",
      "511 ('C', 'T')\n",
      "512 ('T', 'C')\n",
      "515 ('C', 'A')\n",
      "516 ('A', 'G')\n",
      "517 ('G', 'A')\n",
      "518 ('A', 'C')\n"
     ]
    }
   ],
   "source": [
    "PTEN_seq_g35 = 'CTGGAGCGGGGGGGAGAAGCGGCGGCGGCGGCGGCCGCGGCGGCTGCAGCTCCAGGGAGGGGGTCTGAGTCGCCTGTCACCATTTCCAGGGCTGGGAACGCCGGAGAGTTGGTCTCTCCCCTTCTACTGCCTCCAACACGGCGGCGGCGGCGGCTGGCACATCCAGGGACCCGGGCCGGTTTTAAACCTCCCGTGCGCCGCCGCCGCACCCCCCGTGGCCCGGGCTCCGGAGGCCGCCGGCGGAGGCAGCCGTTCGGAGGATTATTCGTCTTCTCCCCATTCCGCTGCCGCCGCTGCCAGGCCTCTGGCTGCTGAGGAGAAGCAGGCCCAGTCGCTGCAACCATCCAGCAGCCGCCGCAGCAGCCATTACCCGGCTGCGGTCCAGAGCCAAGCGGCGGCAGAGCGAGGGGCATCAGCTACCGCCAAGTCCAGAGCCATTTCCATCCTGCAGAAGAAGCCCCGCCACCAGCAGCTTCTGCCATCTCTCTCCTCCTTTTTCTTCAGCCACAGGCTCCCAGAC'\n",
    "PTEN_seq_paper = 'CTGGAGCGGGGGGGAGAAGCGGCGGCGGCGGCGGCCGCGGCGGCTGCAGCTCCAGGGAGGGGGTCTGAGTCGCCTGTCACCATTTCCAGGGCTGGGAACGCCGGAGAGTTGGTCTCTCCCCTTCTACTGCCTCCAACACGGCGGCGGCGGCGGCGGCACATCCAGGGACCCGGGCCGGTTTTAAACCTCCCGTCCGCCGCCGCCGCACCCCCCGTGGCCCGGGCTCCGGAGGCCGCCGGCGGAGGCAGCCGTTCGGAGGATTATTCGTCTTCTCCCCATTCCGCTGCCGCCGCTGCCAGGCCTCTGGCTGCTGAGGAGAAGCAGGCCCAGTCGCTGCAACCATCCAGCAGCCGCCGCAGCAGCCATTACCCGGCTGCGGTCCAGAGCCAAGCGGCGGCAGAGCGAGGGGCATCAGCTACCGCCAAGTCCAGAGCCATTTCCATCCTGCAGAAGAAGCCCCGCCACCAGCAGCTTCTGCCATCTCTCTCCTCCTTTTTCTTCAGCCACAGGCTCCCAGAC'\n",
    "\n",
    "for i, xy in enumerate(zip(PTEN_seq_g35, PTEN_seq_paper)):\n",
    "    if xy[0] != xy[1]:\n",
    "        print (i, xy)"
   ]
  },
  {
   "cell_type": "code",
   "execution_count": 30,
   "metadata": {},
   "outputs": [],
   "source": [
    "SET1['type'] = 'PhyloSET'\n",
    "SET2['type'] = 'RiboSET'\n",
    "\n",
    "pd.concat([SET1[['gene', 'tr_id', 'type']], SET2[['gene', 'tr_id', 'type']]]).to_csv('tmp_res/NTEs_genes_both_sets.txt', \n",
    "                                                                                    sep='\\t', index=False)"
   ]
  },
  {
   "cell_type": "code",
   "execution_count": null,
   "metadata": {},
   "outputs": [],
   "source": []
  },
  {
   "cell_type": "code",
   "execution_count": null,
   "metadata": {},
   "outputs": [],
   "source": []
  },
  {
   "cell_type": "markdown",
   "metadata": {},
   "source": [
    "# Plot UpSET: overlaps between different sets "
   ]
  },
  {
   "cell_type": "code",
   "execution_count": 31,
   "metadata": {},
   "outputs": [],
   "source": [
    "phyloset_genes = list(SET1.gene.unique())\n",
    "riboset_genes = list(SET2.gene.unique())"
   ]
  },
  {
   "cell_type": "code",
   "execution_count": 32,
   "metadata": {},
   "outputs": [],
   "source": [
    "ann_ext_24genes = list(ANNOTATED_EXT_FOUND_df_g35_3.gene.unique())\n",
    "intact_ext_28genes = list(INTACT_EXT_FOUND_df_g35_3.gene.unique())\n",
    "diff_5leader_7genes = list(REMAINING_GENES_df_g35.gene.unique())"
   ]
  },
  {
   "cell_type": "code",
   "execution_count": 33,
   "metadata": {},
   "outputs": [
    {
     "data": {
      "text/plain": [
       "cat0   cat1   cat2 \n",
       "False  False  False      56\n",
       "              True      283\n",
       "       True   False    1279\n",
       "              True     5882\n",
       "True   False  False      24\n",
       "              True       90\n",
       "       True   False     429\n",
       "              True     1957\n",
       "Name: value, dtype: int64"
      ]
     },
     "execution_count": 33,
     "metadata": {},
     "output_type": "execute_result"
    }
   ],
   "source": [
    "from upsetplot import generate_data\n",
    "from upsetplot import plot\n",
    "from upsetplot import from_memberships\n",
    "\n",
    "example = generate_data(aggregated=True)\n",
    "example"
   ]
  },
  {
   "cell_type": "code",
   "execution_count": 59,
   "metadata": {},
   "outputs": [
    {
     "data": {
      "image/png": "[encoded data removed]",
      "text/plain": [
       "<Figure size 720x576 with 4 Axes>"
      ]
     },
     "metadata": {
      "needs_background": "light"
     },
     "output_type": "display_data"
    }
   ],
   "source": [
    "fig = plt.figure(figsize=(10, 8))\n",
    "\n",
    "font = {'family' : 'normal',\n",
    "        'size'   : 22}\n",
    "\n",
    "plt.rc('font', **font)\n",
    "\n",
    "plot(example,show_counts='%d', \n",
    "     element_size=None, fig=fig,\n",
    "    facecolor=\"darkblue\")\n",
    "\n",
    "plt.subplots_adjust(left=0.1, bottom=0.1,\n",
    "                    wspace=0.1, hspace=0.1)\n",
    "\n",
    "plt.show()"
   ]
  },
  {
   "cell_type": "code",
   "execution_count": 35,
   "metadata": {},
   "outputs": [
    {
     "data": {
      "text/plain": [
       "(2, 4, 1)"
      ]
     },
     "execution_count": 35,
     "metadata": {},
     "output_type": "execute_result"
    }
   ],
   "source": [
    "len(set(phyloset_genes).intersection(ann_ext_24genes)), len(set(phyloset_genes).intersection(intact_ext_28genes)),len(set(phyloset_genes).intersection(diff_5leader_7genes))"
   ]
  },
  {
   "cell_type": "code",
   "execution_count": 36,
   "metadata": {},
   "outputs": [
    {
     "data": {
      "text/plain": [
       "(0, 2, 0)"
      ]
     },
     "execution_count": 36,
     "metadata": {},
     "output_type": "execute_result"
    }
   ],
   "source": [
    "len(set(riboset_genes).intersection(ann_ext_24genes)), len(set(riboset_genes).intersection(intact_ext_28genes)),len(set(riboset_genes).intersection(diff_5leader_7genes))"
   ]
  },
  {
   "cell_type": "code",
   "execution_count": 37,
   "metadata": {},
   "outputs": [
    {
     "data": {
      "text/plain": [
       "(0, 1, 0)"
      ]
     },
     "execution_count": 37,
     "metadata": {},
     "output_type": "execute_result"
    }
   ],
   "source": [
    "len(set(riboset_genes).intersection(ann_ext_24genes).intersection(phyloset_genes)), len(set(riboset_genes).intersection(intact_ext_28genes).intersection(phyloset_genes)), len(set(riboset_genes).intersection(diff_5leader_7genes).intersection(phyloset_genes))"
   ]
  },
  {
   "cell_type": "code",
   "execution_count": 38,
   "metadata": {},
   "outputs": [],
   "source": [
    "# ann not_ann diff_utr Ribo Phylo\n",
    "\n",
    "example = from_memberships([\n",
    "['Phylo', 'Ribo'],\n",
    "['Phylo', 'ann'],\n",
    "['Phylo', 'not_ann'],\n",
    "['Phylo', 'diff_utr'],\n",
    "['Ribo', 'ann'],\n",
    "['Ribo', 'not_ann'],\n",
    "['Ribo', 'diff_utr'],\n",
    "['Phylo', 'Ribo', 'ann'],\n",
    "['Phylo', 'Ribo', 'not_ann'],\n",
    "['Phylo', 'Ribo', 'diff_utr']],\n",
    "data=[8, 2, 4, 1, 0, 2, 0, 0, 1, 0])"
   ]
  },
  {
   "cell_type": "code",
   "execution_count": 39,
   "metadata": {},
   "outputs": [
    {
     "data": {
      "text/plain": [
       "{'matrix': <matplotlib.axes._subplots.AxesSubplot at 0x7f22a8c0cd30>,\n",
       " 'shading': <matplotlib.axes._subplots.AxesSubplot at 0x7f22a8be4c88>,\n",
       " 'totals': <matplotlib.axes._subplots.AxesSubplot at 0x7f22a91fa470>,\n",
       " 'intersections': <matplotlib.axes._subplots.AxesSubplot at 0x7f22a95a7358>}"
      ]
     },
     "execution_count": 39,
     "metadata": {},
     "output_type": "execute_result"
    },
    {
     "data": {
      "image/png": "[encoded data removed]",
      "text/plain": [
       "<Figure size 434.125x352 with 4 Axes>"
      ]
     },
     "metadata": {
      "needs_background": "light"
     },
     "output_type": "display_data"
    }
   ],
   "source": [
    "plot(example, show_counts='%d')"
   ]
  },
  {
   "cell_type": "code",
   "execution_count": 45,
   "metadata": {},
   "outputs": [
    {
     "data": {
      "text/plain": [
       "{'matrix': <matplotlib.axes._subplots.AxesSubplot at 0x7f22a57d2518>,\n",
       " 'shading': <matplotlib.axes._subplots.AxesSubplot at 0x7f22a57ee400>,\n",
       " 'totals': <matplotlib.axes._subplots.AxesSubplot at 0x7f22a52bf5c0>,\n",
       " 'intersections': <matplotlib.axes._subplots.AxesSubplot at 0x7f22773bdd30>}"
      ]
     },
     "execution_count": 45,
     "metadata": {},
     "output_type": "execute_result"
    },
    {
     "data": {
      "image/png": "[encoded data removed]",
      "text/plain": [
       "<Figure size 434.125x352 with 4 Axes>"
      ]
     },
     "metadata": {
      "needs_background": "light"
     },
     "output_type": "display_data"
    }
   ],
   "source": [
    "plot(example, show_counts='%d')"
   ]
  },
  {
   "cell_type": "code",
   "execution_count": null,
   "metadata": {},
   "outputs": [],
   "source": [
    "Rse"
   ]
  },
  {
   "cell_type": "code",
   "execution_count": 65,
   "metadata": {},
   "outputs": [],
   "source": [
    "# ann not_ann diff_utr Ribo Phylo\n",
    "\n",
    "example = from_memberships([\n",
    "    ['ann'],\n",
    "    ['not_ann'],\n",
    "    ['diff_utr'],\n",
    "    ['Phylo'],\n",
    "    ['Ribo'],\n",
    "['Phylo', 'Ribo'],\n",
    "['Phylo', 'ann'],\n",
    "['Phylo', 'not_ann'],\n",
    "['Phylo', 'diff_utr'],\n",
    "['Ribo', 'ann'],\n",
    "['Ribo', 'not_ann'],\n",
    "['Ribo', 'diff_utr'],\n",
    "['Phylo', 'Ribo', 'ann'],\n",
    "['Phylo', 'Ribo', 'not_ann'],\n",
    "['Phylo', 'Ribo', 'diff_utr']],\n",
    "data=[24, 28, 7, 60, 392, 8, 2, 4, 1, 0, 2, 0, 0, 1, 0])"
   ]
  },
  {
   "cell_type": "code",
   "execution_count": 66,
   "metadata": {},
   "outputs": [
    {
     "data": {
      "image/png": "[encoded data removed]",
      "text/plain": [
       "<Figure size 620.875x352 with 4 Axes>"
      ]
     },
     "metadata": {
      "needs_background": "light"
     },
     "output_type": "display_data"
    }
   ],
   "source": [
    "plt.rcParams.update({'font.size': 15})\n",
    "\n",
    "plot(example, show_counts='%d')\n",
    "\n",
    "plt.savefig('plots/upset_2011study', \n",
    "            format='svg', \n",
    "            width = 10,\n",
    "            height = 10,\n",
    "            dpi=1200, \n",
    "            bbox_inches=\"tight\")\n"
   ]
  },
  {
   "cell_type": "code",
   "execution_count": 67,
   "metadata": {},
   "outputs": [
    {
     "data": {
      "image/png": "[encoded data removed]",
      "text/plain": [
       "<Figure size 864x576 with 4 Axes>"
      ]
     },
     "metadata": {
      "needs_background": "light"
     },
     "output_type": "display_data"
    }
   ],
   "source": [
    "fig = plt.figure(figsize=(12, 8))\n",
    "\n",
    "font = {'family' : 'normal',\n",
    "        'size'   : 22}\n",
    "\n",
    "plt.rc('font', **font)\n",
    "\n",
    "plot(example,show_counts='%d', \n",
    "     element_size=None, fig=fig,\n",
    "    facecolor=\"darkblue\")\n",
    "\n",
    "plt.subplots_adjust(left=0.1, bottom=0.1,\n",
    "                    wspace=0.1, hspace=0.1)\n",
    "\n",
    "plt.show()"
   ]
  },
  {
   "cell_type": "code",
   "execution_count": null,
   "metadata": {},
   "outputs": [],
   "source": []
  },
  {
   "cell_type": "code",
   "execution_count": null,
   "metadata": {},
   "outputs": [],
   "source": []
  }
 ],
 "metadata": {
  "kernelspec": {
   "display_name": "Python 3",
   "language": "python",
   "name": "python3"
  },
  "language_info": {
   "codemirror_mode": {
    "name": "ipython",
    "version": 3
   },
   "file_extension": ".py",
   "mimetype": "text/x-python",
   "name": "python",
   "nbconvert_exporter": "python",
   "pygments_lexer": "ipython3",
   "version": "3.7.6"
  }
 },
 "nbformat": 4,
 "nbformat_minor": 2
}
