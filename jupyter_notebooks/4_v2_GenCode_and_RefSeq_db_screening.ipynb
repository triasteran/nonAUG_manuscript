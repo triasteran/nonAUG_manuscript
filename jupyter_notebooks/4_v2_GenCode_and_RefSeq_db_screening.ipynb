{
 "cells": [
  {
   "cell_type": "code",
   "execution_count": 1,
   "metadata": {},
   "outputs": [
    {
     "name": "stderr",
     "output_type": "stream",
     "text": [
      "/home/alla/anaconda3/lib/python3.7/site-packages/statsmodels/tools/_testing.py:19: FutureWarning: pandas.util.testing is deprecated. Use the functions in the public API at pandas.testing instead.\n",
      "  import pandas.util.testing as tm\n"
     ]
    }
   ],
   "source": [
    "%matplotlib inline\n",
    "\n",
    "import numpy as np\n",
    "import collections\n",
    "from collections import OrderedDict, Counter, defaultdict\n",
    "import pandas as pd\n",
    "\n",
    "import Bio\n",
    "from Bio import SeqIO\n",
    "\n",
    "import seaborn as sns\n",
    "import matplotlib.pyplot as plt\n",
    "\n",
    "import glob\n",
    "\n",
    "import subprocess\n",
    "from subprocess import call\n",
    "\n",
    "import re\n",
    "\n",
    "import pickle\n",
    "\n",
    "import sys                                                                         \n",
    "from gffutils.iterators import DataIterator  \n",
    "from gtfparse import read_gtf"
   ]
  },
  {
   "cell_type": "markdown",
   "metadata": {},
   "source": [
    "# Refseq v109: find all non-AUG proteoforms, with sole start and additional forms "
   ]
  },
  {
   "cell_type": "markdown",
   "metadata": {},
   "source": [
    "* using web-interface, extract genbank file with genes containing non-AUG in their description \n",
    "* parse it, get a gene list "
   ]
  },
  {
   "cell_type": "code",
   "execution_count": 2,
   "metadata": {},
   "outputs": [
    {
     "name": "stdout",
     "output_type": "stream",
     "text": [
      "record 0 / 146\n",
      "record 1 / 146\n",
      "record 2 / 146\n",
      "record 3 / 146\n",
      "record 4 / 146\n",
      "record 5 / 146\n",
      "record 6 / 146\n",
      "record 7 / 146\n",
      "record 8 / 146\n",
      "record 9 / 146\n",
      "record 10 / 146\n",
      "record 11 / 146\n",
      "record 12 / 146\n",
      "record 13 / 146\n",
      "record 14 / 146\n",
      "record 15 / 146\n",
      "record 16 / 146\n",
      "record 17 / 146\n",
      "record 18 / 146\n",
      "record 19 / 146\n",
      "record 20 / 146\n",
      "record 21 / 146\n",
      "record 22 / 146\n",
      "record 23 / 146\n",
      "record 24 / 146\n",
      "record 25 / 146\n",
      "record 26 / 146\n",
      "record 27 / 146\n",
      "record 28 / 146\n",
      "record 29 / 146\n",
      "record 30 / 146\n",
      "record 31 / 146\n",
      "record 32 / 146\n",
      "record 33 / 146\n",
      "record 34 / 146\n",
      "record 35 / 146\n",
      "record 36 / 146\n",
      "record 37 / 146\n",
      "record 38 / 146\n",
      "record 39 / 146\n",
      "record 40 / 146\n",
      "record 41 / 146\n",
      "record 42 / 146\n",
      "record 43 / 146\n",
      "record 44 / 146\n",
      "record 45 / 146\n",
      "record 46 / 146\n",
      "record 47 / 146\n",
      "record 48 / 146\n",
      "record 49 / 146\n",
      "record 50 / 146\n",
      "record 51 / 146\n",
      "record 52 / 146\n",
      "record 53 / 146\n",
      "record 54 / 146\n",
      "record 55 / 146\n",
      "record 56 / 146\n",
      "record 57 / 146\n",
      "record 58 / 146\n",
      "record 59 / 146\n",
      "record 60 / 146\n",
      "record 61 / 146\n",
      "record 62 / 146\n",
      "record 63 / 146\n",
      "record 64 / 146\n",
      "record 65 / 146\n",
      "record 66 / 146\n",
      "record 67 / 146\n",
      "record 68 / 146\n",
      "record 69 / 146\n",
      "record 70 / 146\n",
      "record 71 / 146\n",
      "record 72 / 146\n",
      "record 73 / 146\n",
      "record 74 / 146\n",
      "record 75 / 146\n",
      "record 76 / 146\n",
      "record 77 / 146\n",
      "record 78 / 146\n",
      "record 79 / 146\n",
      "record 80 / 146\n",
      "record 81 / 146\n",
      "record 82 / 146\n",
      "record 83 / 146\n",
      "record 84 / 146\n",
      "record 85 / 146\n",
      "record 86 / 146\n",
      "record 87 / 146\n",
      "record 88 / 146\n",
      "record 89 / 146\n",
      "record 90 / 146\n",
      "record 91 / 146\n",
      "record 92 / 146\n",
      "record 93 / 146\n",
      "record 94 / 146\n",
      "record 95 / 146\n",
      "record 96 / 146\n",
      "record 97 / 146\n",
      "record 98 / 146\n",
      "record 99 / 146\n",
      "record 100 / 146\n",
      "record 101 / 146\n",
      "record 102 / 146\n",
      "record 103 / 146\n",
      "record 104 / 146\n",
      "record 105 / 146\n",
      "record 106 / 146\n",
      "record 107 / 146\n",
      "NM_183004 'note'\n",
      "record 108 / 146\n",
      "record 109 / 146\n",
      "record 110 / 146\n",
      "record 111 / 146\n",
      "record 112 / 146\n",
      "NM_001969 'note'\n",
      "record 113 / 146\n",
      "record 114 / 146\n",
      "record 115 / 146\n",
      "record 116 / 146\n",
      "record 117 / 146\n",
      "record 118 / 146\n",
      "record 119 / 146\n",
      "record 120 / 146\n",
      "record 121 / 146\n",
      "record 122 / 146\n",
      "record 123 / 146\n",
      "record 124 / 146\n",
      "record 125 / 146\n",
      "record 126 / 146\n",
      "record 127 / 146\n",
      "record 128 / 146\n",
      "record 129 / 146\n",
      "record 130 / 146\n",
      "record 131 / 146\n",
      "record 132 / 146\n",
      "record 133 / 146\n",
      "record 134 / 146\n",
      "record 135 / 146\n",
      "record 136 / 146\n",
      "record 137 / 146\n",
      "record 138 / 146\n",
      "record 139 / 146\n",
      "record 140 / 146\n",
      "record 141 / 146\n",
      "record 142 / 146\n",
      "record 143 / 146\n",
      "record 144 / 146\n",
      "record 145 / 146\n",
      "44 genes with non-AUG proteoforms annotated in refseq\n",
      "TRPV6 | TXNRD3 | BAG1 | HCK | STIM2 | PTEN | PIGX | TEAD1 | PANK2 | DDX17 | LUZP6 | MYC | FGF2 | WT1 | TEAD4 | MORN2 | NR1I2 | C16orf82 | IRAG1 | KCTD11 | OAZ3 | PIM1 | WDR26 | NPW | SWI5 | EIF4G2 | SP3 | MDFIC | HMHB1 | NELFB | NPTXR | TEAD3 | POU5F1 | MRTFA | RARB | CEBPA | GTF3A | PEG10 | PRPS1L1 | R3HCC1 | FNDC5 | CACNG8 | RNF187 | VEGFA\n"
     ]
    }
   ],
   "source": [
    "# new_refseq_nonAUG.gb\n",
    "\n",
    "gene_names_with_non_AUG_starts = []\n",
    "\n",
    "gb_file = \"data/RefSeq_nonAUG_genes_May2021.gb\"\n",
    "for i, gb_record in enumerate(SeqIO.parse(open(gb_file,\"r\"), \"genbank\")) :\n",
    "    # now do something with the record\n",
    "    \n",
    "    print ('record %s / 146' % i)\n",
    "    # print (\"Name %s, %i features\" % (gb_record.name, len(gb_record.features)))\n",
    "    for feat in gb_record.features:\n",
    "        try:\n",
    "            if feat.type == 'CDS':\n",
    "                non_AUG = None\n",
    "                cds_seq = str(feat.extract(gb_record.seq))\n",
    "                non_AUG_from_cds_seq = cds_seq[0:3] \n",
    "                stop_codon = cds_seq[-3:]\n",
    "                gene_name = feat.qualifiers['gene'][0]\n",
    "                for el in feat.qualifiers['note']:\n",
    "                    if el.find('non-AUG') != -1:\n",
    "                        non_AUG = el.split('non-AUG')[1].split(' ')[1].replace('(', '').replace(')', '')\n",
    "                #li.append([gb_record.name, gene_name, str(gb_record.seq), non_AUG, cds_seq, non_AUG_from_cds_seq, stop_codon])\n",
    "                        gene_names_with_non_AUG_starts.append(gene_name)\n",
    "                \n",
    "                \n",
    "        except Exception as e:\n",
    "            print (gb_record.name, e)\n",
    "\n",
    "\n",
    "print ('%s genes with non-AUG proteoforms annotated in refseq' % len(set(gene_names_with_non_AUG_starts)))\n",
    "print (' | '.join(list(set(gene_names_with_non_AUG_starts))))"
   ]
  },
  {
   "cell_type": "markdown",
   "metadata": {},
   "source": [
    "* download ALL genbank files for 43 selected genes (including all proteoforms: AUG and nonAUG)\n",
    "\n",
    "* we can use following query:"
   ]
  },
  {
   "cell_type": "code",
   "execution_count": 3,
   "metadata": {},
   "outputs": [
    {
     "name": "stdout",
     "output_type": "stream",
     "text": [
      "(TRPV6[All Fields] OR TXNRD3[All Fields] OR BAG1[All Fields] OR HCK[All Fields] OR STIM2[All Fields] OR PTEN[All Fields] OR PIGX[All Fields] OR TEAD1[All Fields] OR PANK2[All Fields] OR DDX17[All Fields] OR LUZP6[All Fields] OR MYC[All Fields] OR FGF2[All Fields] OR WT1[All Fields] OR TEAD4[All Fields] OR MORN2[All Fields] OR NR1I2[All Fields] OR C16orf82[All Fields] OR IRAG1[All Fields] OR KCTD11[All Fields] OR OAZ3[All Fields] OR PIM1[All Fields] OR WDR26[All Fields] OR NPW[All Fields] OR SWI5[All Fields] OR EIF4G2[All Fields] OR SP3[All Fields] OR MDFIC[All Fields] OR HMHB1[All Fields] OR NELFB[All Fields] OR NPTXR[All Fields] OR TEAD3[All Fields] OR POU5F1[All Fields] OR MRTFA[All Fields] OR RARB[All Fields] OR CEBPA[All Fields] OR GTF3A[All Fields] OR PEG10[All Fields] OR PRPS1L1[All Fields] OR R3HCC1[All Fields] OR FNDC5[All Fields] OR CACNG8[All Fields] OR RNF187[All Fields] OR VEGFA)\n"
     ]
    }
   ],
   "source": [
    "print ('('+'[All Fields] OR '.join(list(set(gene_names_with_non_AUG_starts)))+')')"
   ]
  },
  {
   "cell_type": "raw",
   "metadata": {},
   "source": [
    "((MORN2[All Fields] OR SWI5[All Fields] OR TEAD1[All Fields] OR MRTFA[All Fields] OR KCTD11[All Fields] OR STIM2[All Fields] OR WDR26[All Fields] OR C16orf82[All Fields] OR PIGX[All Fields] OR TEAD3[All Fields] OR EIF4G2[All Fields] OR RNF187[All Fields] OR TEAD4[All Fields] OR PEG10[All Fields] OR FNDC5[All Fields] OR TRPV6[All Fields] OR FGF2[All Fields] OR LUZP6[All Fields] OR DDX17[All Fields] OR BAG1[All Fields] OR HCK[All Fields] OR SP3[All Fields] OR HMHB1[All Fields] OR PTEN[All Fields] OR CACNG8[All Fields] OR MDFIC[All Fields] OR NPW[All Fields] OR IRAG1[All Fields] OR VEGFA[All Fields] OR GTF3A[All Fields] OR RARB[All Fields] OR NR1I2[All Fields] OR CEBPA[All Fields] OR PRPS1L1[All Fields] OR WT1[All Fields] OR PIM1[All Fields] OR OAZ3[All Fields] OR PANK2[All Fields] OR TXNRD3[All Fields] OR POU5F1[All Fields] OR MYC[All Fields] OR R3HCC1[All Fields] OR NPTXR[All Fields] OR NELFB)) AND \"Homo sapiens\"[porgn:__txid9606] "
   ]
  },
  {
   "cell_type": "code",
   "execution_count": 4,
   "metadata": {},
   "outputs": [
    {
     "name": "stdout",
     "output_type": "stream",
     "text": [
      "NM_004688 'note'\n",
      "NM_001126049 'note'\n",
      "NM_003110 'note'\n",
      "NM_021035 'note'\n",
      "NM_003215 'note'\n",
      "NM_024040 'note'\n",
      "NM_014872 'note'\n",
      "NM_152441 'note'\n",
      "NM_020964 'note'\n",
      "NM_006361 'note'\n",
      "NM_001142610 'note'\n",
      "NM_014683 'note'\n",
      "NM_152657 'note'\n",
      "NM_138811 'note'\n",
      "NM_153350 'note'\n",
      "NM_001291281 'note'\n",
      "NM_001371351 'note'\n",
      "NM_001371352 'note'\n",
      "NM_006255 'note'\n",
      "NM_022484 'note'\n",
      "NM_153029 'note'\n",
      "NM_003577 'note'\n",
      "NM_015630 'note'\n",
      "NM_021009 'note'\n",
      "NM_005842 'note'\n",
      "NM_001318538 'note'\n",
      "NM_001318537 'note'\n",
      "NM_001318536 'note'\n",
      "NM_001287497 'note'\n",
      "NM_213598 'note'\n",
      "NM_018012 'note'\n",
      "NM_016097 'note'\n"
     ]
    }
   ],
   "source": [
    "li3 = []\n",
    "\n",
    "gb_file = \"data/RefSeq_genes_with_AUG_and_nonAUG_May2021.gb\"\n",
    "for gb_record in SeqIO.parse(open(gb_file,\"r\"), \"genbank\") :\n",
    "    # now do something with the record\n",
    "    # print (\"Name %s, %i features\" % (gb_record.name, len(gb_record.features)))\n",
    "    for feat in gb_record.features:\n",
    "        try:\n",
    "            if (feat.type == 'CDS') & (gb_record.name.find('NM_') != -1):\n",
    "                non_AUG = None\n",
    "                cds_seq = str(feat.extract(gb_record.seq))\n",
    "                non_AUG_from_cds_seq = cds_seq[0:3] \n",
    "                stop_codon = cds_seq[-3:]\n",
    "                gene_name = feat.qualifiers['gene'][0]\n",
    "                for el in feat.qualifiers['note']:\n",
    "                    if el.find('non-AUG') != -1:\n",
    "                        non_AUG = el.split('non-AUG')[1].split(' ')[1].replace('(', '').replace(')', '')\n",
    "                li3.append([gb_record.name, gene_name, str(gb_record.seq), non_AUG, cds_seq, non_AUG_from_cds_seq, stop_codon])\n",
    "                \n",
    "        except Exception as e:\n",
    "            print (gb_record.name, e)"
   ]
  },
  {
   "cell_type": "markdown",
   "metadata": {},
   "source": [
    "Check which ones have only non-AUG proteoforms and which ones have both"
   ]
  },
  {
   "cell_type": "code",
   "execution_count": 5,
   "metadata": {},
   "outputs": [
    {
     "name": "stderr",
     "output_type": "stream",
     "text": [
      "INFO:numexpr.utils:NumExpr defaulting to 8 threads.\n"
     ]
    },
    {
     "name": "stdout",
     "output_type": "stream",
     "text": [
      "21 genes have only non-AUG proteoroms\n",
      "C16orf82, CACNG8, DDX17, EIF4G2, GTF3A, HMHB1, LUZP6, MORN2, MYC, NELFB, NPTXR, NPW, PIGX, PRPS1L1, R3HCC1, RNF187, STIM2, TEAD1, TEAD3, TRPV6, TXNRD3\n",
      "\n",
      "23 genes have both AUG and non-AUG proteoroms\n",
      "BAG1, CEBPA, FGF2, FNDC5, HCK, IRAG1, KCTD11, MDFIC, MRTFA, NR1I2, OAZ3, PANK2, PEG10, PIM1, POU5F1, PTEN, RARB, SP3, SWI5, TEAD4, VEGFA, WDR26, WT1\n",
      "\n"
     ]
    }
   ],
   "source": [
    "refseq_df = pd.DataFrame(li3)\n",
    "refseq_df.columns = ['tr_id', 'gene', 'transcript_seq', 'non_AUG_start', 'cds_seq', 'non_AUG_from_cds_seq', 'stop_codon']\n",
    "\n",
    "d2 = refseq_df[['tr_id', 'gene', 'non_AUG_from_cds_seq']].groupby('gene')['non_AUG_from_cds_seq'].apply(set).apply(list).apply(', '.join).to_dict()\n",
    "df = pd.DataFrame(zip(d2.keys(), d2.values()), columns = ['gene', 'codons'])\n",
    "df = df[df['codons'] != 'ATG']\n",
    "\n",
    "\n",
    "print ('%s genes have only non-AUG proteoroms' % df[(df['codons'].str.len() == 3) & (df['codons'] != 'ATG')].gene.nunique())\n",
    "print (', '.join(df[(df['codons'].str.len() == 3) & (df['codons'] != 'ATG')].gene.tolist()))\n",
    "print ()\n",
    "\n",
    "print ('%s genes have both AUG and non-AUG proteoroms' % df[df['codons'].str.len() >= 6].gene.nunique())\n",
    "print (', '.join(df[df['codons'].str.len() >= 6].gene.tolist()))\n",
    "print ()"
   ]
  },
  {
   "cell_type": "code",
   "execution_count": 6,
   "metadata": {},
   "outputs": [],
   "source": [
    "refseq_df['non_AUG_start'] = refseq_df['non_AUG_start'].str.replace('U', 'T')\n",
    "refseq_only_non_AUG  = refseq_df[refseq_df['gene'].isin(df[(df['codons'].str.len() == 3) & (df['codons'] != 'ATG')].gene.unique())][['tr_id', 'gene', 'non_AUG_start']]\n",
    "refseq_only_non_AUG.to_csv('tmp_res/refseq109_genes_with_sole_non_AUG.txt', sep='\\t', index=False)"
   ]
  },
  {
   "cell_type": "code",
   "execution_count": 7,
   "metadata": {},
   "outputs": [],
   "source": [
    "refseq_both = refseq_df[refseq_df['gene'].isin(df[df['codons'].str.len() >= 6].gene.unique())][['tr_id', 'gene', 'non_AUG_from_cds_seq']]\n",
    "refseq_both.columns = ['tr_id', 'gene', 'start']\n",
    "refseq_both.to_csv('tmp_res/refseq109_genes_with_both_AUG_and_non_AUG.txt', sep='\\t', index=False)"
   ]
  },
  {
   "cell_type": "code",
   "execution_count": null,
   "metadata": {},
   "outputs": [],
   "source": []
  },
  {
   "cell_type": "code",
   "execution_count": null,
   "metadata": {},
   "outputs": [],
   "source": []
  },
  {
   "cell_type": "markdown",
   "metadata": {},
   "source": [
    "# Gencode 35"
   ]
  },
  {
   "cell_type": "code",
   "execution_count": 8,
   "metadata": {},
   "outputs": [
    {
     "name": "stderr",
     "output_type": "stream",
     "text": [
      "INFO:root:Extracted GTF attributes: ['gene_id', 'gene_type', 'gene_name', 'level', 'hgnc_id', 'havana_gene', 'transcript_id', 'transcript_type', 'transcript_name', 'transcript_support_level', 'tag', 'havana_transcript', 'exon_number', 'exon_id', 'ont', 'protein_id', 'ccdsid']\n"
     ]
    }
   ],
   "source": [
    "metadata_pc_g35 = pd.read_csv('tmp_res/metadata_pc_g35.txt', sep='\\t')\n",
    "\n",
    "metadata_pc_g35 = metadata_pc_g35.drop('CDS_start', axis=1)\n",
    "\n",
    "metadata_pc_g25 = pd.read_csv('tmp_res/metadata_pc_g25.txt', sep='\\t')\n",
    "\n",
    "\n",
    "df = read_gtf(\"data/gencode.v35.annotation.gtf\")\n",
    "df_genes = df[df[\"feature\"] == \"gene\"]\n",
    "df_CDS = df[df[\"feature\"] == \"CDS\"]\n",
    "\n",
    "annotation_CDS = df_CDS[['transcript_id', 'transcript_type', 'gene_name', 'tag']]\n",
    "annotation_CDS.columns = ['tr_id', 'transcript_type', 'gene', 'tag']"
   ]
  },
  {
   "cell_type": "code",
   "execution_count": 9,
   "metadata": {},
   "outputs": [
    {
     "data": {
      "text/plain": [
       "Index(['seqname', 'source', 'feature', 'start', 'end', 'score', 'strand',\n",
       "       'frame', 'gene_id', 'gene_type', 'gene_name', 'level', 'hgnc_id',\n",
       "       'havana_gene', 'transcript_id', 'transcript_type', 'transcript_name',\n",
       "       'transcript_support_level', 'tag', 'havana_transcript', 'exon_number',\n",
       "       'exon_id', 'ont', 'protein_id', 'ccdsid'],\n",
       "      dtype='object')"
      ]
     },
     "execution_count": 9,
     "metadata": {},
     "output_type": "execute_result"
    }
   ],
   "source": [
    "df.columns"
   ]
  },
  {
   "cell_type": "code",
   "execution_count": 10,
   "metadata": {},
   "outputs": [
    {
     "data": {
      "text/html": [
       "<div>\n",
       "<style scoped>\n",
       "    .dataframe tbody tr th:only-of-type {\n",
       "        vertical-align: middle;\n",
       "    }\n",
       "\n",
       "    .dataframe tbody tr th {\n",
       "        vertical-align: top;\n",
       "    }\n",
       "\n",
       "    .dataframe thead th {\n",
       "        text-align: right;\n",
       "    }\n",
       "</style>\n",
       "<table border=\"1\" class=\"dataframe\">\n",
       "  <thead>\n",
       "    <tr style=\"text-align: right;\">\n",
       "      <th></th>\n",
       "      <th>transcript_id</th>\n",
       "      <th>feature</th>\n",
       "      <th>transcript_type</th>\n",
       "      <th>tag</th>\n",
       "    </tr>\n",
       "  </thead>\n",
       "  <tbody>\n",
       "    <tr>\n",
       "      <th>375113</th>\n",
       "      <td>ENST00000594371.1</td>\n",
       "      <td>transcript</td>\n",
       "      <td>protein_coding</td>\n",
       "      <td>exp_conf</td>\n",
       "    </tr>\n",
       "    <tr>\n",
       "      <th>375114</th>\n",
       "      <td>ENST00000594371.1</td>\n",
       "      <td>exon</td>\n",
       "      <td>protein_coding</td>\n",
       "      <td>exp_conf</td>\n",
       "    </tr>\n",
       "    <tr>\n",
       "      <th>375115</th>\n",
       "      <td>ENST00000594371.1</td>\n",
       "      <td>CDS</td>\n",
       "      <td>protein_coding</td>\n",
       "      <td>exp_conf</td>\n",
       "    </tr>\n",
       "    <tr>\n",
       "      <th>375126</th>\n",
       "      <td>ENST00000594371.1</td>\n",
       "      <td>stop_codon</td>\n",
       "      <td>protein_coding</td>\n",
       "      <td>exp_conf</td>\n",
       "    </tr>\n",
       "    <tr>\n",
       "      <th>375127</th>\n",
       "      <td>ENST00000594371.1</td>\n",
       "      <td>UTR</td>\n",
       "      <td>protein_coding</td>\n",
       "      <td>exp_conf</td>\n",
       "    </tr>\n",
       "  </tbody>\n",
       "</table>\n",
       "</div>"
      ],
      "text/plain": [
       "            transcript_id     feature transcript_type       tag\n",
       "375113  ENST00000594371.1  transcript  protein_coding  exp_conf\n",
       "375114  ENST00000594371.1        exon  protein_coding  exp_conf\n",
       "375115  ENST00000594371.1         CDS  protein_coding  exp_conf\n",
       "375126  ENST00000594371.1  stop_codon  protein_coding  exp_conf\n",
       "375127  ENST00000594371.1         UTR  protein_coding  exp_conf"
      ]
     },
     "execution_count": 10,
     "metadata": {},
     "output_type": "execute_result"
    }
   ],
   "source": [
    "df[df['transcript_id'] == 'ENST00000594371.1'][['transcript_id', 'feature', 'transcript_type', 'tag']].drop_duplicates()"
   ]
  },
  {
   "cell_type": "markdown",
   "metadata": {},
   "source": [
    "* non-AUG tag "
   ]
  },
  {
   "cell_type": "code",
   "execution_count": 11,
   "metadata": {},
   "outputs": [
    {
     "name": "stdout",
     "output_type": "stream",
     "text": [
      "0\n",
      "1000000\n",
      "2000000\n"
     ]
    }
   ],
   "source": [
    "# we will create df with transcript type and tags \n",
    "li = []\n",
    "                                                        \n",
    "for i,feature in enumerate(DataIterator('data/gencode.v35.annotation.gtf')): \n",
    "    if i % 1000000 == 0:\n",
    "        print (i)\n",
    "    try:\n",
    "        attr = feature.attributes\n",
    "        gene_type = attr['gene_type'][0]\n",
    "        transcript_id = attr['transcript_id'][0]\n",
    "        gene_name = attr['gene_name'][0]\n",
    "        tag = attr['tag']\n",
    "        transcript_type = attr['transcript_type'][0]\n",
    "            \n",
    "        # cds_start_NF;cds_end_NF \n",
    "        if 'non_ATG_start' in tag:            \n",
    "            li.append([transcript_id, gene_name, transcript_type, ';'.join(tag), 'non_ATG_start'])\n",
    "        else:\n",
    "            li.append([transcript_id, gene_name, transcript_type, ';'.join(tag), None])\n",
    "            \n",
    "    except Exception as e:\n",
    "        continue           \n",
    "    "
   ]
  },
  {
   "cell_type": "code",
   "execution_count": 12,
   "metadata": {},
   "outputs": [],
   "source": [
    "df = pd.DataFrame(li, columns = ['tr_id', 'gene', 'biotype', 'tags', 'non-ATG-tag']).drop_duplicates()\n",
    "\n",
    "# select genes with complete CDS, protein-coding transcript type and non-AUG tag \n",
    "non_AUG_annotated_pc_and_cds_complete = df[(df['non-ATG-tag'] == 'non_ATG_start') & (df['biotype'] == 'protein_coding') & \n",
    "                                                          (~df['tags'].str.contains('cds_start_NF')) &\n",
    "                                                         (~df['tags'].str.contains('cds_end_NF'))]"
   ]
  },
  {
   "cell_type": "code",
   "execution_count": 13,
   "metadata": {},
   "outputs": [
    {
     "data": {
      "text/plain": [
       "(67, 46)"
      ]
     },
     "execution_count": 13,
     "metadata": {},
     "output_type": "execute_result"
    }
   ],
   "source": [
    "non_AUG_annotated_pc_and_cds_complete.tr_id.nunique(), non_AUG_annotated_pc_and_cds_complete.gene.nunique()"
   ]
  },
  {
   "cell_type": "code",
   "execution_count": 14,
   "metadata": {},
   "outputs": [],
   "source": [
    "non_AUG_annotated_pc_and_cds_complete[non_AUG_annotated_pc_and_cds_complete['gene'] == 'MYC'].to_csv('MYC.txt', sep='\\t', index=False)"
   ]
  },
  {
   "cell_type": "code",
   "execution_count": 15,
   "metadata": {},
   "outputs": [
    {
     "name": "stdout",
     "output_type": "stream",
     "text": [
      "46\n",
      "False\n",
      "True\n"
     ]
    }
   ],
   "source": [
    "genes_with_non_AUG_proteoforms = list(non_AUG_annotated_pc_and_cds_complete['gene'].unique())\n",
    "\n",
    "print (len(genes_with_non_AUG_proteoforms))\n",
    "\n",
    "print ('TEAD1' in genes_with_non_AUG_proteoforms)\n",
    "\n",
    "print ('TEAD3' in genes_with_non_AUG_proteoforms)"
   ]
  },
  {
   "cell_type": "code",
   "execution_count": 16,
   "metadata": {},
   "outputs": [],
   "source": [
    "#genes_with_non_AUG_proteoforms"
   ]
  },
  {
   "cell_type": "code",
   "execution_count": 17,
   "metadata": {},
   "outputs": [],
   "source": [
    "metadata_pc_g35[metadata_pc_g35['gene'] == 'TEAD1'][['tr_id',  'cds_start_codon', 'cds_stop_codon']].merge(annotation_CDS[annotation_CDS['gene'] == 'TEAD1'].drop_duplicates(), on='tr_id').to_csv('tmp_res/TEAD1.txt', sep='\\t', index=False)"
   ]
  },
  {
   "cell_type": "code",
   "execution_count": 18,
   "metadata": {},
   "outputs": [],
   "source": [
    "metadata_pc_g35[metadata_pc_g35['gene'] == 'MYC'][['tr_id',  'cds_start_codon', 'cds_stop_codon']].merge(annotation_CDS[annotation_CDS['gene'] == 'MYC'].drop_duplicates(), on='tr_id').to_csv('tmp_res/MYC.txt', sep='\\t', index=False)"
   ]
  },
  {
   "cell_type": "markdown",
   "metadata": {},
   "source": [
    "* different approach: get transcripts with full CDS, protein-coding type and extract start and stop as first 3 and last 3 nucleotides of CDS"
   ]
  },
  {
   "cell_type": "code",
   "execution_count": 19,
   "metadata": {},
   "outputs": [
    {
     "name": "stdout",
     "output_type": "stream",
     "text": [
      "(58397, 5) (168395, 5)\n"
     ]
    }
   ],
   "source": [
    "cds_complete_and_pc_df = df[(df['biotype'] == 'protein_coding') & (~df['tags'].str.contains('cds_start_NF')) & (~df['tags'].str.contains('cds_end_NF'))]\n",
    "\n",
    "print (cds_complete_and_pc_df.shape, df.shape)"
   ]
  },
  {
   "cell_type": "code",
   "execution_count": 20,
   "metadata": {},
   "outputs": [
    {
     "name": "stdout",
     "output_type": "stream",
     "text": [
      "(58397, 6) (101486, 13)\n"
     ]
    }
   ],
   "source": [
    "t = metadata_pc_g35[['tr_id', 'cds_seq']].merge(cds_complete_and_pc_df, on=['tr_id'], how='inner')\n",
    "print (t.shape, metadata_pc_g35.shape, )\n",
    "\n",
    "li_ = []\n",
    "\n",
    "for row in t.to_numpy():\n",
    "    tr_id = row[0]\n",
    "    gene = row[2]\n",
    "    cds_seq = row[1]\n",
    "    tags = row[-2]\n",
    "    nonAUGtag = row[-1]\n",
    "    \n",
    "    start_CDS = cds_seq[0:3]\n",
    "    stop_CDS = cds_seq[-3:]\n",
    "    li_.append([tr_id, gene, tags, nonAUGtag, start_CDS, stop_CDS])\n",
    "    \n",
    "tmp = pd.DataFrame(li_, columns = ['tr_id', 'gene', 'tags', 'nonAUGtag', 'start_CDS', 'stop_CDS'])"
   ]
  },
  {
   "cell_type": "markdown",
   "metadata": {},
   "source": [
    "* clearly something's wrong: starts and stops are weird. CDSs must be still truncated regardless of absent tags "
   ]
  },
  {
   "cell_type": "code",
   "execution_count": 21,
   "metadata": {},
   "outputs": [
    {
     "data": {
      "text/plain": [
       "314"
      ]
     },
     "execution_count": 21,
     "metadata": {},
     "output_type": "execute_result"
    }
   ],
   "source": [
    "t = pd.DataFrame(tmp.groupby(by='start_CDS').count())[['tr_id']].reset_index().sort_values(by='tr_id', ascending=False)\n",
    "\n",
    "t.columns = ['First_3nt_of_CDS', '#_transcripts']\n",
    "\n",
    "t[t['First_3nt_of_CDS'] != 'ATG']['#_transcripts'].sum()"
   ]
  },
  {
   "cell_type": "code",
   "execution_count": 22,
   "metadata": {},
   "outputs": [],
   "source": [
    "# truncated CDS even if there is no such tag in .gtf file \n",
    "\n",
    "tmp[(~tmp['gene'].isin(genes_with_non_AUG_proteoforms)) & (tmp['start_CDS'] != 'ATG')].to_csv('tmp_res/gencode35_troubled_genes_with_most_likely_truncated_CDS.txt', sep='\\t', index=False)"
   ]
  },
  {
   "cell_type": "code",
   "execution_count": 23,
   "metadata": {},
   "outputs": [
    {
     "data": {
      "text/html": [
       "<div>\n",
       "<style scoped>\n",
       "    .dataframe tbody tr th:only-of-type {\n",
       "        vertical-align: middle;\n",
       "    }\n",
       "\n",
       "    .dataframe tbody tr th {\n",
       "        vertical-align: top;\n",
       "    }\n",
       "\n",
       "    .dataframe thead th {\n",
       "        text-align: right;\n",
       "    }\n",
       "</style>\n",
       "<table border=\"1\" class=\"dataframe\">\n",
       "  <thead>\n",
       "    <tr style=\"text-align: right;\">\n",
       "      <th></th>\n",
       "      <th>tr_id</th>\n",
       "      <th>gene</th>\n",
       "      <th>tags</th>\n",
       "      <th>nonAUGtag</th>\n",
       "      <th>start_CDS</th>\n",
       "      <th>stop_CDS</th>\n",
       "    </tr>\n",
       "  </thead>\n",
       "  <tbody>\n",
       "    <tr>\n",
       "      <th>784</th>\n",
       "      <td>ENST00000622840.1</td>\n",
       "      <td>TEX46</td>\n",
       "      <td>basic</td>\n",
       "      <td>None</td>\n",
       "      <td>AGG</td>\n",
       "      <td>TAA</td>\n",
       "    </tr>\n",
       "    <tr>\n",
       "      <th>1857</th>\n",
       "      <td>ENST00000334103.11</td>\n",
       "      <td>AGBL4</td>\n",
       "      <td>basic</td>\n",
       "      <td>None</td>\n",
       "      <td>GAC</td>\n",
       "      <td>TAA</td>\n",
       "    </tr>\n",
       "    <tr>\n",
       "      <th>1882</th>\n",
       "      <td>ENST00000612209.1</td>\n",
       "      <td>C1orf185</td>\n",
       "      <td>basic</td>\n",
       "      <td>None</td>\n",
       "      <td>ATA</td>\n",
       "      <td>TGA</td>\n",
       "    </tr>\n",
       "    <tr>\n",
       "      <th>2014</th>\n",
       "      <td>ENST00000610401.4</td>\n",
       "      <td>SSBP3</td>\n",
       "      <td>basic</td>\n",
       "      <td>None</td>\n",
       "      <td>GCG</td>\n",
       "      <td>GAG</td>\n",
       "    </tr>\n",
       "    <tr>\n",
       "      <th>2119</th>\n",
       "      <td>ENST00000545203.2</td>\n",
       "      <td>ROR1</td>\n",
       "      <td>basic</td>\n",
       "      <td>None</td>\n",
       "      <td>TCT</td>\n",
       "      <td>TAA</td>\n",
       "    </tr>\n",
       "    <tr>\n",
       "      <th>...</th>\n",
       "      <td>...</td>\n",
       "      <td>...</td>\n",
       "      <td>...</td>\n",
       "      <td>...</td>\n",
       "      <td>...</td>\n",
       "      <td>...</td>\n",
       "    </tr>\n",
       "    <tr>\n",
       "      <th>57645</th>\n",
       "      <td>ENST00000639890.1</td>\n",
       "      <td>RBMX2</td>\n",
       "      <td>basic</td>\n",
       "      <td>None</td>\n",
       "      <td>AGC</td>\n",
       "      <td>TAG</td>\n",
       "    </tr>\n",
       "    <tr>\n",
       "      <th>58384</th>\n",
       "      <td>ENST00000361390.2</td>\n",
       "      <td>MT-ND1</td>\n",
       "      <td>basic;appris_principal_1</td>\n",
       "      <td>None</td>\n",
       "      <td>ATA</td>\n",
       "      <td>CTA</td>\n",
       "    </tr>\n",
       "    <tr>\n",
       "      <th>58385</th>\n",
       "      <td>ENST00000361453.3</td>\n",
       "      <td>MT-ND2</td>\n",
       "      <td>basic;appris_principal_1</td>\n",
       "      <td>None</td>\n",
       "      <td>ATT</td>\n",
       "      <td>TAT</td>\n",
       "    </tr>\n",
       "    <tr>\n",
       "      <th>58391</th>\n",
       "      <td>ENST00000361227.2</td>\n",
       "      <td>MT-ND3</td>\n",
       "      <td>basic;appris_principal_1</td>\n",
       "      <td>None</td>\n",
       "      <td>ATA</td>\n",
       "      <td>AAT</td>\n",
       "    </tr>\n",
       "    <tr>\n",
       "      <th>58394</th>\n",
       "      <td>ENST00000361567.2</td>\n",
       "      <td>MT-ND5</td>\n",
       "      <td>basic;appris_principal_1</td>\n",
       "      <td>None</td>\n",
       "      <td>ATA</td>\n",
       "      <td>TAA</td>\n",
       "    </tr>\n",
       "  </tbody>\n",
       "</table>\n",
       "<p>245 rows × 6 columns</p>\n",
       "</div>"
      ],
      "text/plain": [
       "                    tr_id      gene                      tags nonAUGtag  \\\n",
       "784     ENST00000622840.1     TEX46                     basic      None   \n",
       "1857   ENST00000334103.11     AGBL4                     basic      None   \n",
       "1882    ENST00000612209.1  C1orf185                     basic      None   \n",
       "2014    ENST00000610401.4     SSBP3                     basic      None   \n",
       "2119    ENST00000545203.2      ROR1                     basic      None   \n",
       "...                   ...       ...                       ...       ...   \n",
       "57645   ENST00000639890.1     RBMX2                     basic      None   \n",
       "58384   ENST00000361390.2    MT-ND1  basic;appris_principal_1      None   \n",
       "58385   ENST00000361453.3    MT-ND2  basic;appris_principal_1      None   \n",
       "58391   ENST00000361227.2    MT-ND3  basic;appris_principal_1      None   \n",
       "58394   ENST00000361567.2    MT-ND5  basic;appris_principal_1      None   \n",
       "\n",
       "      start_CDS stop_CDS  \n",
       "784         AGG      TAA  \n",
       "1857        GAC      TAA  \n",
       "1882        ATA      TGA  \n",
       "2014        GCG      GAG  \n",
       "2119        TCT      TAA  \n",
       "...         ...      ...  \n",
       "57645       AGC      TAG  \n",
       "58384       ATA      CTA  \n",
       "58385       ATT      TAT  \n",
       "58391       ATA      AAT  \n",
       "58394       ATA      TAA  \n",
       "\n",
       "[245 rows x 6 columns]"
      ]
     },
     "execution_count": 23,
     "metadata": {},
     "output_type": "execute_result"
    }
   ],
   "source": [
    "tmp[(~tmp['gene'].isin(genes_with_non_AUG_proteoforms)) & (tmp['start_CDS'] != 'ATG')]"
   ]
  },
  {
   "cell_type": "code",
   "execution_count": 24,
   "metadata": {},
   "outputs": [
    {
     "data": {
      "text/plain": [
       "('TAG, TAA, TGA, CGC, ATG, GTG, ACC, AAT, GGC, AGA, GAG, CCC, TCG, AGG, AAA, AAG, TCT, CAG, TGG, ATA, GGT, GAA, CGA, TTT, TTC, TTG, CCT, GCC, TTA, CTG, TAT, GGA, CAC, ACA, CAA, TCA, ATC, TAC, CAT, TGT, GAT, TGC, CCA, GTT, GCG, GAC, AGC, CTT, GCA, CTA, TCC, GGG, CTC, GTA, AGT, GCT, ATT, ACT',\n",
       " 'ATG, GTG, AGG, ATA, CTG, GAC, GCG, TCT, CCT, GTT, AAC, TTG, ACG, GAT, ATC, ATT, TAA, AGT, TTT, AAA, GGG, GCT, GCA, TTA, GGT, CCC, GTC, CCA, TCA, GAA, GCC, AGC, GTA, AGA, AAG, GGA, ACA, GGC, CAG, CCG, AAT, TCC, ACT, TAC, CTT, CTC, TGC, CAT, TGG, TTC, CTA, TGT, CAA, GAG, ACC')"
      ]
     },
     "execution_count": 24,
     "metadata": {},
     "output_type": "execute_result"
    }
   ],
   "source": [
    "', '.join(list(tmp.stop_CDS.unique())), ', '.join(list(tmp.start_CDS.unique()))"
   ]
  },
  {
   "cell_type": "code",
   "execution_count": 25,
   "metadata": {},
   "outputs": [
    {
     "data": {
      "text/html": [
       "<div>\n",
       "<style scoped>\n",
       "    .dataframe tbody tr th:only-of-type {\n",
       "        vertical-align: middle;\n",
       "    }\n",
       "\n",
       "    .dataframe tbody tr th {\n",
       "        vertical-align: top;\n",
       "    }\n",
       "\n",
       "    .dataframe thead th {\n",
       "        text-align: right;\n",
       "    }\n",
       "</style>\n",
       "<table border=\"1\" class=\"dataframe\">\n",
       "  <thead>\n",
       "    <tr style=\"text-align: right;\">\n",
       "      <th></th>\n",
       "      <th>tr_id</th>\n",
       "      <th>gene</th>\n",
       "      <th>tags</th>\n",
       "      <th>nonAUGtag</th>\n",
       "      <th>start_CDS</th>\n",
       "      <th>stop_CDS</th>\n",
       "    </tr>\n",
       "  </thead>\n",
       "  <tbody>\n",
       "  </tbody>\n",
       "</table>\n",
       "</div>"
      ],
      "text/plain": [
       "Empty DataFrame\n",
       "Columns: [tr_id, gene, tags, nonAUGtag, start_CDS, stop_CDS]\n",
       "Index: []"
      ]
     },
     "execution_count": 25,
     "metadata": {},
     "output_type": "execute_result"
    }
   ],
   "source": [
    "tmp[tmp['start_CDS'] == 'TGA']\n",
    "\n",
    "# KCNH7-205 ENST00000621889.1 has GGG as a start of translated sequence in gencode and it still has tags = basic...\n",
    "\n",
    "# same with PACRG-210 ENST00000611387.1"
   ]
  },
  {
   "cell_type": "markdown",
   "metadata": {},
   "source": [
    "we have to stick to non-AUG tag... "
   ]
  },
  {
   "cell_type": "code",
   "execution_count": 26,
   "metadata": {},
   "outputs": [
    {
     "name": "stdout",
     "output_type": "stream",
     "text": [
      "(174, 16) 46 Counter({'ATG': 105, 'CTG': 42, 'GTG': 9, 'ACG': 6, 'TTG': 5, 'ATA': 4, 'AAC': 1, 'AAG': 1, 'ATT': 1})\n"
     ]
    }
   ],
   "source": [
    "# pc transcripts, complete cds -> merge with metadata\n",
    "pr_trascript_cds_complete_df = cds_complete_and_pc_df.merge(metadata_pc_g35, on=['gene', 'tr_id'], how='inner')\n",
    "\n",
    "# select genes with non-AUG\n",
    "df_with_all_proteoforms_of_genes_with_non_AUG_complete_CDS = pr_trascript_cds_complete_df[pr_trascript_cds_complete_df['gene'].isin(genes_with_non_AUG_proteoforms)]\n",
    "\n",
    "print (df_with_all_proteoforms_of_genes_with_non_AUG_complete_CDS.shape, df_with_all_proteoforms_of_genes_with_non_AUG_complete_CDS.gene.nunique(), Counter(df_with_all_proteoforms_of_genes_with_non_AUG_complete_CDS.cds_start_codon.tolist()))"
   ]
  },
  {
   "cell_type": "code",
   "execution_count": 27,
   "metadata": {},
   "outputs": [
    {
     "data": {
      "text/html": [
       "<div>\n",
       "<style scoped>\n",
       "    .dataframe tbody tr th:only-of-type {\n",
       "        vertical-align: middle;\n",
       "    }\n",
       "\n",
       "    .dataframe tbody tr th {\n",
       "        vertical-align: top;\n",
       "    }\n",
       "\n",
       "    .dataframe thead th {\n",
       "        text-align: right;\n",
       "    }\n",
       "</style>\n",
       "<table border=\"1\" class=\"dataframe\">\n",
       "  <thead>\n",
       "    <tr style=\"text-align: right;\">\n",
       "      <th></th>\n",
       "      <th>tr_id</th>\n",
       "      <th>gene</th>\n",
       "      <th>biotype</th>\n",
       "      <th>tags</th>\n",
       "      <th>non-ATG-tag</th>\n",
       "      <th>gene_tr</th>\n",
       "      <th>transcript_seq</th>\n",
       "      <th>5UTR_start_seq</th>\n",
       "      <th>cds_seq</th>\n",
       "      <th>cds_start_codon</th>\n",
       "      <th>cds_stop_codon</th>\n",
       "      <th>cds_start_pos</th>\n",
       "      <th>cds_stop_pos</th>\n",
       "      <th>utr5_start</th>\n",
       "      <th>utr5_end</th>\n",
       "      <th>record_id</th>\n",
       "    </tr>\n",
       "  </thead>\n",
       "  <tbody>\n",
       "    <tr>\n",
       "      <th>31319</th>\n",
       "      <td>ENST00000534810.2</td>\n",
       "      <td>YPEL4</td>\n",
       "      <td>protein_coding</td>\n",
       "      <td>alternative_5_UTR;non_ATG_start;basic</td>\n",
       "      <td>non_ATG_start</td>\n",
       "      <td>YPEL4-210</td>\n",
       "      <td>TTCACCCACAGACCGAGGTACAGAACGAGAGACAACCTCTGCCCCC...</td>\n",
       "      <td>TTCACCCACAGACCGAGGTACAGAACGAGAGACAACCTCTGCCCCC...</td>\n",
       "      <td>AACCTGCTCCGCTGCTTCACCTGCGACCGTCTCTGCGGGGGCTGCA...</td>\n",
       "      <td>AAC</td>\n",
       "      <td>TGA</td>\n",
       "      <td>227</td>\n",
       "      <td>704</td>\n",
       "      <td>0</td>\n",
       "      <td>227</td>\n",
       "      <td>ENST00000534810.2|ENSG00000166793.12|OTTHUMG00...</td>\n",
       "    </tr>\n",
       "  </tbody>\n",
       "</table>\n",
       "</div>"
      ],
      "text/plain": [
       "                   tr_id   gene         biotype  \\\n",
       "31319  ENST00000534810.2  YPEL4  protein_coding   \n",
       "\n",
       "                                        tags    non-ATG-tag    gene_tr  \\\n",
       "31319  alternative_5_UTR;non_ATG_start;basic  non_ATG_start  YPEL4-210   \n",
       "\n",
       "                                          transcript_seq  \\\n",
       "31319  TTCACCCACAGACCGAGGTACAGAACGAGAGACAACCTCTGCCCCC...   \n",
       "\n",
       "                                          5UTR_start_seq  \\\n",
       "31319  TTCACCCACAGACCGAGGTACAGAACGAGAGACAACCTCTGCCCCC...   \n",
       "\n",
       "                                                 cds_seq cds_start_codon  \\\n",
       "31319  AACCTGCTCCGCTGCTTCACCTGCGACCGTCTCTGCGGGGGCTGCA...             AAC   \n",
       "\n",
       "      cds_stop_codon  cds_start_pos  cds_stop_pos  utr5_start  utr5_end  \\\n",
       "31319            TGA            227           704           0       227   \n",
       "\n",
       "                                               record_id  \n",
       "31319  ENST00000534810.2|ENSG00000166793.12|OTTHUMG00...  "
      ]
     },
     "execution_count": 27,
     "metadata": {},
     "output_type": "execute_result"
    }
   ],
   "source": [
    "df_with_all_proteoforms_of_genes_with_non_AUG_complete_CDS[df_with_all_proteoforms_of_genes_with_non_AUG_complete_CDS['cds_start_codon'] == 'AAC']"
   ]
  },
  {
   "cell_type": "code",
   "execution_count": 28,
   "metadata": {},
   "outputs": [
    {
     "name": "stderr",
     "output_type": "stream",
     "text": [
      "/home/alla/.local/lib/python3.7/site-packages/ipykernel_launcher.py:4: SettingWithCopyWarning: \n",
      "A value is trying to be set on a copy of a slice from a DataFrame.\n",
      "Try using .loc[row_indexer,col_indexer] = value instead\n",
      "\n",
      "See the caveats in the documentation: https://pandas.pydata.org/pandas-docs/stable/user_guide/indexing.html#returning-a-view-versus-a-copy\n",
      "  after removing the cwd from sys.path.\n"
     ]
    }
   ],
   "source": [
    "df_with_all_proteoforms_of_genes_with_non_AUG_complete_CDS = pr_trascript_cds_complete_df[pr_trascript_cds_complete_df['gene'].isin(genes_with_non_AUG_proteoforms)]\n",
    "\n",
    "# CDS_start codon \n",
    "df_with_all_proteoforms_of_genes_with_non_AUG_complete_CDS['CDS_start'] = df_with_all_proteoforms_of_genes_with_non_AUG_complete_CDS['cds_seq'].str.slice(0, 3)\n",
    "\n",
    "# gene - start codons dataframe\n",
    "d1 = df_with_all_proteoforms_of_genes_with_non_AUG_complete_CDS.groupby('gene')['CDS_start'].apply(set).apply(list).apply(', '.join).to_dict()\n",
    "gene_codon_g35_df = pd.DataFrame(zip(d1.keys(), d1.values()), columns = ['gene', 'codons'])"
   ]
  },
  {
   "cell_type": "code",
   "execution_count": 29,
   "metadata": {},
   "outputs": [
    {
     "name": "stdout",
     "output_type": "stream",
     "text": [
      "there are both AUG and non-AUG proteoforms for 30 genes\n",
      "BAG1, EED, EFCAB14, EIF4G3, FNDC5, HCK, IFT46, KCTD11, MORN2, MRTFA, MYC, NFKBID, NR1I2, OAZ3, PEG10, PIGX, POLG, POU5F1, R3HCC1, SBK1, SLC22A17, SWI5, TEAD4, TRAK1, UFSP1, WDR26, WT1, YPEL1, YPEL2, YPEL4\n",
      "\n",
      "there are only AUG codon proteoform for 1 genes (although its non-AUG annotated)\n",
      "CASK\n",
      "\n",
      "there are only non-AUG codon proteoform for 15 genes\n",
      "C16orf82, CACNG8, DDX17, EIF4G2, GTF3A, NELFB, NPTXR, NPW, PRPS1L1, RNF187, STIM2, TEAD3, TRPV6, TUG1, TXNRD3\n"
     ]
    }
   ],
   "source": [
    "print ('there are both AUG and non-AUG proteoforms for %s genes' % gene_codon_g35_df[(gene_codon_g35_df['codons'].str.contains('ATG')) & (gene_codon_g35_df['codons'].str.len() >= 6)].shape[0])\n",
    "print (', '.join(gene_codon_g35_df[(gene_codon_g35_df['codons'].str.contains('ATG')) & (gene_codon_g35_df['codons'].str.len() >= 6)].gene.unique()))\n",
    "print ()\n",
    "\n",
    "print ('there are only AUG codon proteoform for %s genes (although its non-AUG annotated)' % gene_codon_g35_df[(gene_codon_g35_df['codons'] == 'ATG')].shape[0])\n",
    "print (', '.join(gene_codon_g35_df[(gene_codon_g35_df['codons'] == 'ATG')].gene.unique()))\n",
    "print ()\n",
    "\n",
    "print ('there are only non-AUG codon proteoform for %s genes' % gene_codon_g35_df[(gene_codon_g35_df['codons'].str.len() <=3) & (gene_codon_g35_df['codons'] != 'ATG')].shape[0])\n",
    "print (', '.join(gene_codon_g35_df[(gene_codon_g35_df['codons'].str.len() <=3) & (gene_codon_g35_df['codons'] != 'ATG')].gene.unique()))"
   ]
  },
  {
   "cell_type": "code",
   "execution_count": 30,
   "metadata": {},
   "outputs": [
    {
     "data": {
      "text/html": [
       "<div>\n",
       "<style scoped>\n",
       "    .dataframe tbody tr th:only-of-type {\n",
       "        vertical-align: middle;\n",
       "    }\n",
       "\n",
       "    .dataframe tbody tr th {\n",
       "        vertical-align: top;\n",
       "    }\n",
       "\n",
       "    .dataframe thead th {\n",
       "        text-align: right;\n",
       "    }\n",
       "</style>\n",
       "<table border=\"1\" class=\"dataframe\">\n",
       "  <thead>\n",
       "    <tr style=\"text-align: right;\">\n",
       "      <th></th>\n",
       "      <th>gene</th>\n",
       "      <th>codons</th>\n",
       "    </tr>\n",
       "  </thead>\n",
       "  <tbody>\n",
       "    <tr>\n",
       "      <th>3</th>\n",
       "      <td>CASK</td>\n",
       "      <td>ATG</td>\n",
       "    </tr>\n",
       "  </tbody>\n",
       "</table>\n",
       "</div>"
      ],
      "text/plain": [
       "   gene codons\n",
       "3  CASK    ATG"
      ]
     },
     "execution_count": 30,
     "metadata": {},
     "output_type": "execute_result"
    }
   ],
   "source": [
    "gene_codon_g35_df[(gene_codon_g35_df['codons'] == 'ATG')]"
   ]
  },
  {
   "cell_type": "code",
   "execution_count": 31,
   "metadata": {},
   "outputs": [
    {
     "data": {
      "text/html": [
       "<div>\n",
       "<style scoped>\n",
       "    .dataframe tbody tr th:only-of-type {\n",
       "        vertical-align: middle;\n",
       "    }\n",
       "\n",
       "    .dataframe tbody tr th {\n",
       "        vertical-align: top;\n",
       "    }\n",
       "\n",
       "    .dataframe thead th {\n",
       "        text-align: right;\n",
       "    }\n",
       "</style>\n",
       "<table border=\"1\" class=\"dataframe\">\n",
       "  <thead>\n",
       "    <tr style=\"text-align: right;\">\n",
       "      <th></th>\n",
       "      <th>tr_id</th>\n",
       "      <th>gene</th>\n",
       "      <th>biotype</th>\n",
       "      <th>tags</th>\n",
       "      <th>non-ATG-tag</th>\n",
       "      <th>gene_tr</th>\n",
       "      <th>transcript_seq</th>\n",
       "      <th>5UTR_start_seq</th>\n",
       "      <th>cds_seq</th>\n",
       "      <th>cds_start_codon</th>\n",
       "      <th>cds_stop_codon</th>\n",
       "      <th>cds_start_pos</th>\n",
       "      <th>cds_stop_pos</th>\n",
       "      <th>utr5_start</th>\n",
       "      <th>utr5_end</th>\n",
       "      <th>record_id</th>\n",
       "      <th>CDS_start</th>\n",
       "    </tr>\n",
       "  </thead>\n",
       "  <tbody>\n",
       "    <tr>\n",
       "      <th>56386</th>\n",
       "      <td>ENST00000378179.9</td>\n",
       "      <td>CASK</td>\n",
       "      <td>protein_coding</td>\n",
       "      <td>CAGE_supported_TSS;non_ATG_start;basic</td>\n",
       "      <td>non_ATG_start</td>\n",
       "      <td>CASK-206</td>\n",
       "      <td>TTGTGAGAACATTCCTTCCTAGAAGGAGTTGGGTTTGCCCTTTCCC...</td>\n",
       "      <td>TTGTGAGAACATTCCTTCCTAGAAGGAGTTGGGTTTGCCCTTTCCC...</td>\n",
       "      <td>ATGGCCTTACTTCAGACTCACGACGTAGTGGCACATGAAGTTTACA...</td>\n",
       "      <td>ATG</td>\n",
       "      <td>TAG</td>\n",
       "      <td>646</td>\n",
       "      <td>2047</td>\n",
       "      <td>0</td>\n",
       "      <td>646</td>\n",
       "      <td>ENST00000378179.9|ENSG00000147044.22|OTTHUMG00...</td>\n",
       "      <td>ATG</td>\n",
       "    </tr>\n",
       "  </tbody>\n",
       "</table>\n",
       "</div>"
      ],
      "text/plain": [
       "                   tr_id  gene         biotype  \\\n",
       "56386  ENST00000378179.9  CASK  protein_coding   \n",
       "\n",
       "                                         tags    non-ATG-tag   gene_tr  \\\n",
       "56386  CAGE_supported_TSS;non_ATG_start;basic  non_ATG_start  CASK-206   \n",
       "\n",
       "                                          transcript_seq  \\\n",
       "56386  TTGTGAGAACATTCCTTCCTAGAAGGAGTTGGGTTTGCCCTTTCCC...   \n",
       "\n",
       "                                          5UTR_start_seq  \\\n",
       "56386  TTGTGAGAACATTCCTTCCTAGAAGGAGTTGGGTTTGCCCTTTCCC...   \n",
       "\n",
       "                                                 cds_seq cds_start_codon  \\\n",
       "56386  ATGGCCTTACTTCAGACTCACGACGTAGTGGCACATGAAGTTTACA...             ATG   \n",
       "\n",
       "      cds_stop_codon  cds_start_pos  cds_stop_pos  utr5_start  utr5_end  \\\n",
       "56386            TAG            646          2047           0       646   \n",
       "\n",
       "                                               record_id CDS_start  \n",
       "56386  ENST00000378179.9|ENSG00000147044.22|OTTHUMG00...       ATG  "
      ]
     },
     "execution_count": 31,
     "metadata": {},
     "output_type": "execute_result"
    }
   ],
   "source": [
    "df_with_all_proteoforms_of_genes_with_non_AUG_complete_CDS[df_with_all_proteoforms_of_genes_with_non_AUG_complete_CDS['tr_id'] == 'ENST00000378179.9']"
   ]
  },
  {
   "cell_type": "code",
   "execution_count": 32,
   "metadata": {},
   "outputs": [
    {
     "name": "stdout",
     "output_type": "stream",
     "text": [
      "15 30\n"
     ]
    }
   ],
   "source": [
    "both_proteoforms_g35_genes = gene_codon_g35_df[(gene_codon_g35_df['codons'].str.contains('ATG')) & (gene_codon_g35_df['codons'].str.len() >= 6)].gene.unique()\n",
    "\n",
    "only_non_AUG_proteoforms_genes = gene_codon_g35_df[(gene_codon_g35_df['codons'].str.len() <=3) & (gene_codon_g35_df['codons'] != 'ATG')].gene.unique()\n",
    "\n",
    "print (len(only_non_AUG_proteoforms_genes), len(both_proteoforms_g35_genes))"
   ]
  },
  {
   "cell_type": "code",
   "execution_count": 33,
   "metadata": {},
   "outputs": [
    {
     "name": "stdout",
     "output_type": "stream",
     "text": [
      "15 30\n"
     ]
    }
   ],
   "source": [
    "both_proteoforms_g35_genes = gene_codon_g35_df[(gene_codon_g35_df['codons'].str.contains('ATG')) & (gene_codon_g35_df['codons'].str.len() >= 6)].gene.unique()\n",
    "\n",
    "only_non_AUG_proteoforms_genes = gene_codon_g35_df[(gene_codon_g35_df['codons'].str.len() <=3) & (gene_codon_g35_df['codons'] != 'ATG')].gene.unique()\n",
    "\n",
    "print (len(only_non_AUG_proteoforms_genes), len(both_proteoforms_g35_genes))"
   ]
  },
  {
   "cell_type": "code",
   "execution_count": 34,
   "metadata": {},
   "outputs": [
    {
     "name": "stdout",
     "output_type": "stream",
     "text": [
      "15 15\n"
     ]
    }
   ],
   "source": [
    "df = df_with_all_proteoforms_of_genes_with_non_AUG_complete_CDS.copy()\n",
    "\n",
    "g35_only_df = df[df['gene'].isin(only_non_AUG_proteoforms_genes)][['tr_id', 'gene', 'cds_start_codon']]\n",
    "\n",
    "\n",
    "\n",
    "g35_only_df2 = g35_only_df.merge(annotation_CDS, on=['tr_id', 'gene'], how='inner').drop_duplicates()\n",
    "\n",
    "g35_only_df3 = g35_only_df2[(g35_only_df2['transcript_type'] == 'protein_coding') \n",
    "            & (~g35_only_df2['tag'].str.contains('CDS_start_NF')) &\n",
    "            (~g35_only_df2['tag'].str.contains('CDS_end_NF'))]\n",
    "\n",
    "print (g35_only_df.gene.nunique(), g35_only_df3.gene.nunique())\n",
    "\n",
    "\n",
    "g35_only_df3.to_csv('tmp_res/gencode35_only_non_AUG_PC_complete_CDS.txt', sep='\\t', index=False)"
   ]
  },
  {
   "cell_type": "code",
   "execution_count": 35,
   "metadata": {},
   "outputs": [
    {
     "name": "stdout",
     "output_type": "stream",
     "text": [
      "30 30\n"
     ]
    }
   ],
   "source": [
    "g35_both_df = df[df['gene'].isin(both_proteoforms_g35_genes)][['tr_id', 'gene', 'cds_start_codon']]\n",
    "\n",
    "g35_both_df2 = g35_both_df.merge(annotation_CDS, on=['tr_id', 'gene'], how='inner').drop_duplicates()\n",
    "\n",
    "g35_both_df3 = g35_both_df2[(g35_both_df2['transcript_type'] == 'protein_coding') \n",
    "            & (~g35_both_df2['tag'].str.contains('CDS_start_NF')) &\n",
    "            (~g35_both_df2['tag'].str.contains('CDS_end_NF'))]\n",
    "\n",
    "print (g35_both_df.gene.nunique(), g35_both_df3.gene.nunique())\n",
    "\n",
    "g35_both_df3.to_csv('tmp_res/gencode35_both_AUG_non_AUG_PC_complete_CDS.txt', sep='\\t', index=False)"
   ]
  },
  {
   "cell_type": "markdown",
   "metadata": {},
   "source": [
    "* ENST00000467011.5 - no non_ATG_start tag in tags (g35), but transcript sequence starts with TTG\n",
    "* there is ATG protein-coding transcript ENST00000478049.1 which has 'cds_end_NF' tag meaning truncated 3'end of CDS. Can it still be considered as protein-coding? "
   ]
  },
  {
   "cell_type": "code",
   "execution_count": null,
   "metadata": {},
   "outputs": [],
   "source": []
  },
  {
   "cell_type": "code",
   "execution_count": null,
   "metadata": {},
   "outputs": [],
   "source": []
  },
  {
   "cell_type": "code",
   "execution_count": null,
   "metadata": {},
   "outputs": [],
   "source": []
  },
  {
   "cell_type": "code",
   "execution_count": null,
   "metadata": {},
   "outputs": [],
   "source": []
  },
  {
   "cell_type": "code",
   "execution_count": null,
   "metadata": {},
   "outputs": [],
   "source": []
  },
  {
   "cell_type": "markdown",
   "metadata": {},
   "source": [
    "# Comparison RefSeq and Gencode35"
   ]
  },
  {
   "cell_type": "code",
   "execution_count": 36,
   "metadata": {},
   "outputs": [],
   "source": [
    "refseq_only_non_AUG['type_refseq'] = 'only'\n",
    "refseq_only_non_AUG.columns = ['tr_id_refseq', 'gene', 'start', 'type_refseq']\n",
    "\n",
    "refseq_both['type_refseq'] = 'both'\n",
    "refseq_both.columns = ['tr_id_refseq', 'gene', 'start', 'type_refseq']\n",
    "\n",
    "g35_only_df['type_g35'] = 'only'\n",
    "g35_only_df.columns = ['tr_id_g35', 'gene', 'start', 'type_g35']\n",
    "\n",
    "g35_both_df['type_g35'] = 'both'\n",
    "g35_both_df.columns = ['tr_id_g35', 'gene', 'start', 'type_g35']"
   ]
  },
  {
   "cell_type": "code",
   "execution_count": 37,
   "metadata": {},
   "outputs": [
    {
     "name": "stdout",
     "output_type": "stream",
     "text": [
      "14 only non-AUG both in g35 and refseq\n",
      "NELFB, TRPV6, TXNRD3, GTF3A, PRPS1L1, STIM2, TEAD3, NPTXR, CACNG8, RNF187, NPW, EIF4G2, DDX17, C16orf82\n",
      "15 genes non-AUG in g35\n",
      "21 genes non-AUG in refseq\n"
     ]
    }
   ],
   "source": [
    "# only non-AUG both in g35 and refseq\n",
    "print ('%s only non-AUG both in g35 and refseq' % len(list(set(refseq_only_non_AUG.gene.unique()).intersection(set(g35_only_df.gene.unique())))))\n",
    "print (', '.join(list(set(refseq_only_non_AUG.gene.unique()).intersection(set(g35_only_df.gene.unique())))))\n",
    "\n",
    "print ('%s genes non-AUG in g35' % g35_only_df.gene.nunique())\n",
    "print ('%s genes non-AUG in refseq' % refseq_only_non_AUG.gene.nunique())"
   ]
  },
  {
   "cell_type": "code",
   "execution_count": 38,
   "metadata": {},
   "outputs": [
    {
     "data": {
      "text/plain": [
       "{'TUG1'}"
      ]
     },
     "execution_count": 38,
     "metadata": {},
     "output_type": "execute_result"
    }
   ],
   "source": [
    "set(g35_only_df.gene.unique()) - set(refseq_only_non_AUG.gene.unique()).intersection(set(g35_only_df.gene.unique()))"
   ]
  },
  {
   "cell_type": "code",
   "execution_count": 39,
   "metadata": {},
   "outputs": [
    {
     "data": {
      "text/plain": [
       "'PIGX, R3HCC1, TEAD1, LUZP6, MYC, MORN2, HMHB1'"
      ]
     },
     "execution_count": 39,
     "metadata": {},
     "output_type": "execute_result"
    }
   ],
   "source": [
    "', '.join(list(set(refseq_only_non_AUG.gene.unique()) - set(refseq_only_non_AUG.gene.unique()).intersection(set(g35_only_df.gene.unique()))))"
   ]
  },
  {
   "cell_type": "code",
   "execution_count": 40,
   "metadata": {},
   "outputs": [
    {
     "data": {
      "text/html": [
       "<div>\n",
       "<style scoped>\n",
       "    .dataframe tbody tr th:only-of-type {\n",
       "        vertical-align: middle;\n",
       "    }\n",
       "\n",
       "    .dataframe tbody tr th {\n",
       "        vertical-align: top;\n",
       "    }\n",
       "\n",
       "    .dataframe thead th {\n",
       "        text-align: right;\n",
       "    }\n",
       "</style>\n",
       "<table border=\"1\" class=\"dataframe\">\n",
       "  <thead>\n",
       "    <tr style=\"text-align: right;\">\n",
       "      <th></th>\n",
       "      <th>tr_id_g35</th>\n",
       "      <th>gene</th>\n",
       "      <th>start</th>\n",
       "      <th>type_g35</th>\n",
       "    </tr>\n",
       "  </thead>\n",
       "  <tbody>\n",
       "    <tr>\n",
       "      <th>55141</th>\n",
       "      <td>ENST00000644773.1</td>\n",
       "      <td>TUG1</td>\n",
       "      <td>CTG</td>\n",
       "      <td>only</td>\n",
       "    </tr>\n",
       "  </tbody>\n",
       "</table>\n",
       "</div>"
      ],
      "text/plain": [
       "               tr_id_g35  gene start type_g35\n",
       "55141  ENST00000644773.1  TUG1   CTG     only"
      ]
     },
     "execution_count": 40,
     "metadata": {},
     "output_type": "execute_result"
    }
   ],
   "source": [
    "g35_only_df[g35_only_df['gene'] == 'TUG1']"
   ]
  },
  {
   "cell_type": "code",
   "execution_count": 41,
   "metadata": {},
   "outputs": [
    {
     "data": {
      "text/html": [
       "<div>\n",
       "<style scoped>\n",
       "    .dataframe tbody tr th:only-of-type {\n",
       "        vertical-align: middle;\n",
       "    }\n",
       "\n",
       "    .dataframe tbody tr th {\n",
       "        vertical-align: top;\n",
       "    }\n",
       "\n",
       "    .dataframe thead th {\n",
       "        text-align: right;\n",
       "    }\n",
       "</style>\n",
       "<table border=\"1\" class=\"dataframe\">\n",
       "  <thead>\n",
       "    <tr style=\"text-align: right;\">\n",
       "      <th></th>\n",
       "      <th>tr_id_refseq</th>\n",
       "      <th>gene</th>\n",
       "      <th>start</th>\n",
       "      <th>type_refseq</th>\n",
       "    </tr>\n",
       "  </thead>\n",
       "  <tbody>\n",
       "  </tbody>\n",
       "</table>\n",
       "</div>"
      ],
      "text/plain": [
       "Empty DataFrame\n",
       "Columns: [tr_id_refseq, gene, start, type_refseq]\n",
       "Index: []"
      ]
     },
     "execution_count": 41,
     "metadata": {},
     "output_type": "execute_result"
    }
   ],
   "source": [
    "refseq_only_non_AUG[refseq_only_non_AUG['gene'] == 'TUG1']"
   ]
  },
  {
   "cell_type": "markdown",
   "metadata": {},
   "source": [
    "----"
   ]
  },
  {
   "cell_type": "code",
   "execution_count": 42,
   "metadata": {},
   "outputs": [
    {
     "data": {
      "text/html": [
       "<div>\n",
       "<style scoped>\n",
       "    .dataframe tbody tr th:only-of-type {\n",
       "        vertical-align: middle;\n",
       "    }\n",
       "\n",
       "    .dataframe tbody tr th {\n",
       "        vertical-align: top;\n",
       "    }\n",
       "\n",
       "    .dataframe thead th {\n",
       "        text-align: right;\n",
       "    }\n",
       "</style>\n",
       "<table border=\"1\" class=\"dataframe\">\n",
       "  <thead>\n",
       "    <tr style=\"text-align: right;\">\n",
       "      <th></th>\n",
       "      <th>tr_id_g35</th>\n",
       "      <th>gene</th>\n",
       "      <th>start</th>\n",
       "      <th>type_g35</th>\n",
       "    </tr>\n",
       "  </thead>\n",
       "  <tbody>\n",
       "    <tr>\n",
       "      <th>721</th>\n",
       "      <td>ENST00000374935.7</td>\n",
       "      <td>EIF4G3</td>\n",
       "      <td>ATG</td>\n",
       "      <td>both</td>\n",
       "    </tr>\n",
       "    <tr>\n",
       "      <th>722</th>\n",
       "      <td>ENST00000264211.12</td>\n",
       "      <td>EIF4G3</td>\n",
       "      <td>ATG</td>\n",
       "      <td>both</td>\n",
       "    </tr>\n",
       "    <tr>\n",
       "      <th>723</th>\n",
       "      <td>ENST00000602326.5</td>\n",
       "      <td>EIF4G3</td>\n",
       "      <td>ATG</td>\n",
       "      <td>both</td>\n",
       "    </tr>\n",
       "    <tr>\n",
       "      <th>724</th>\n",
       "      <td>ENST00000400422.6</td>\n",
       "      <td>EIF4G3</td>\n",
       "      <td>ATG</td>\n",
       "      <td>both</td>\n",
       "    </tr>\n",
       "    <tr>\n",
       "      <th>725</th>\n",
       "      <td>ENST00000634879.1</td>\n",
       "      <td>EIF4G3</td>\n",
       "      <td>GTG</td>\n",
       "      <td>both</td>\n",
       "    </tr>\n",
       "    <tr>\n",
       "      <th>...</th>\n",
       "      <td>...</td>\n",
       "      <td>...</td>\n",
       "      <td>...</td>\n",
       "      <td>...</td>\n",
       "    </tr>\n",
       "    <tr>\n",
       "      <th>55525</th>\n",
       "      <td>ENST00000652095.2</td>\n",
       "      <td>MRTFA</td>\n",
       "      <td>ATG</td>\n",
       "      <td>both</td>\n",
       "    </tr>\n",
       "    <tr>\n",
       "      <th>55526</th>\n",
       "      <td>ENST00000355630.9</td>\n",
       "      <td>MRTFA</td>\n",
       "      <td>GTG</td>\n",
       "      <td>both</td>\n",
       "    </tr>\n",
       "    <tr>\n",
       "      <th>55527</th>\n",
       "      <td>ENST00000402042.6</td>\n",
       "      <td>MRTFA</td>\n",
       "      <td>GTG</td>\n",
       "      <td>both</td>\n",
       "    </tr>\n",
       "    <tr>\n",
       "      <th>55528</th>\n",
       "      <td>ENST00000618417.1</td>\n",
       "      <td>MRTFA</td>\n",
       "      <td>ATG</td>\n",
       "      <td>both</td>\n",
       "    </tr>\n",
       "    <tr>\n",
       "      <th>55529</th>\n",
       "      <td>ENST00000402630.5</td>\n",
       "      <td>MRTFA</td>\n",
       "      <td>ATG</td>\n",
       "      <td>both</td>\n",
       "    </tr>\n",
       "  </tbody>\n",
       "</table>\n",
       "<p>134 rows × 4 columns</p>\n",
       "</div>"
      ],
      "text/plain": [
       "                tr_id_g35    gene start type_g35\n",
       "721     ENST00000374935.7  EIF4G3   ATG     both\n",
       "722    ENST00000264211.12  EIF4G3   ATG     both\n",
       "723     ENST00000602326.5  EIF4G3   ATG     both\n",
       "724     ENST00000400422.6  EIF4G3   ATG     both\n",
       "725     ENST00000634879.1  EIF4G3   GTG     both\n",
       "...                   ...     ...   ...      ...\n",
       "55525   ENST00000652095.2   MRTFA   ATG     both\n",
       "55526   ENST00000355630.9   MRTFA   GTG     both\n",
       "55527   ENST00000402042.6   MRTFA   GTG     both\n",
       "55528   ENST00000618417.1   MRTFA   ATG     both\n",
       "55529   ENST00000402630.5   MRTFA   ATG     both\n",
       "\n",
       "[134 rows x 4 columns]"
      ]
     },
     "execution_count": 42,
     "metadata": {},
     "output_type": "execute_result"
    }
   ],
   "source": [
    "g35_both_df"
   ]
  },
  {
   "cell_type": "code",
   "execution_count": 43,
   "metadata": {},
   "outputs": [
    {
     "name": "stdout",
     "output_type": "stream",
     "text": [
      "13 both AUG and non-AUG both in g35 and refseq\n",
      "BAG1, KCTD11, PEG10, HCK, OAZ3, FNDC5, WDR26, POU5F1, SWI5, MRTFA, WT1, TEAD4, NR1I2\n",
      "30 genes non-AUG in g35\n",
      "23 genes non-AUG in refseq\n"
     ]
    }
   ],
   "source": [
    "# only non-AUG both in g35 and refseq\n",
    "print ('%s both AUG and non-AUG both in g35 and refseq' % len(list(set(refseq_both.gene.unique()).intersection(set(g35_both_df.gene.unique())))))\n",
    "print (', '.join(list(set(refseq_both.gene.unique()).intersection(set(g35_both_df.gene.unique())))))\n",
    "\n",
    "print ('%s genes non-AUG in g35' % g35_both_df.gene.nunique())\n",
    "print ('%s genes non-AUG in refseq' % refseq_both.gene.nunique())"
   ]
  },
  {
   "cell_type": "code",
   "execution_count": 44,
   "metadata": {},
   "outputs": [
    {
     "data": {
      "text/plain": [
       "'YPEL4, YPEL1, PIGX, R3HCC1, NFKBID, EIF4G3, POLG, IFT46, EFCAB14, YPEL2, SBK1, SLC22A17, MYC, MORN2, EED, TRAK1, UFSP1'"
      ]
     },
     "execution_count": 44,
     "metadata": {},
     "output_type": "execute_result"
    }
   ],
   "source": [
    "', '.join(list(set(g35_both_df.gene.unique()) - set(refseq_both.gene.unique()).intersection(set(g35_both_df.gene.unique()))))"
   ]
  },
  {
   "cell_type": "code",
   "execution_count": 45,
   "metadata": {},
   "outputs": [
    {
     "data": {
      "text/plain": [
       "'IRAG1, PTEN, PANK2, PIM1, SP3, RARB, FGF2, MDFIC, VEGFA, CEBPA'"
      ]
     },
     "execution_count": 45,
     "metadata": {},
     "output_type": "execute_result"
    }
   ],
   "source": [
    "', '.join(list(set(refseq_both.gene.unique()) - set(refseq_both.gene.unique()).intersection(set(g35_both_df.gene.unique()))))"
   ]
  },
  {
   "cell_type": "code",
   "execution_count": null,
   "metadata": {},
   "outputs": [],
   "source": []
  },
  {
   "cell_type": "code",
   "execution_count": null,
   "metadata": {},
   "outputs": [],
   "source": []
  },
  {
   "cell_type": "markdown",
   "metadata": {},
   "source": [
    "# Sanity check: PhyloSET and RiboSET overlaps "
   ]
  },
  {
   "cell_type": "code",
   "execution_count": 46,
   "metadata": {},
   "outputs": [],
   "source": [
    "ps = pd.read_csv('tmp_res/SET1.txt', sep='\\t')\n",
    "rb =  pd.read_csv('tmp_res/SET2.txt', sep='\\t')"
   ]
  },
  {
   "cell_type": "code",
   "execution_count": 47,
   "metadata": {},
   "outputs": [
    {
     "data": {
      "text/plain": [
       "({'OAZ3'}, {'CACNG8'})"
      ]
     },
     "execution_count": 47,
     "metadata": {},
     "output_type": "execute_result"
    }
   ],
   "source": [
    "set(ps.gene.unique()).intersection(g35_both_df.gene.tolist()), set(ps.gene.unique()).intersection(g35_only_df.gene.tolist())\n",
    "\n",
    "# OAZ3: extensions is different (diff transcripts, not overlapping, diff 5'UTRs, just gene name match)\n",
    "# CACNG8: same transcript, CTG-init, ext is found in 5'UTR before annotated CTG (positive score)"
   ]
  },
  {
   "cell_type": "code",
   "execution_count": 48,
   "metadata": {},
   "outputs": [
    {
     "data": {
      "text/plain": [
       "({'OAZ3'}, {'CACNG8'})"
      ]
     },
     "execution_count": 48,
     "metadata": {},
     "output_type": "execute_result"
    }
   ],
   "source": [
    "set(ps.gene.unique()).intersection(refseq_both.gene.tolist()), set(ps.gene.unique()).intersection(refseq_only_non_AUG.gene.tolist())"
   ]
  },
  {
   "cell_type": "code",
   "execution_count": 49,
   "metadata": {},
   "outputs": [
    {
     "data": {
      "text/plain": [
       "(set(), {'STIM2'})"
      ]
     },
     "execution_count": 49,
     "metadata": {},
     "output_type": "execute_result"
    }
   ],
   "source": [
    "set(rb.gene.unique()).intersection(g35_both_df.gene.tolist()), set(rb.gene.unique()).intersection(g35_only_df.gene.tolist())\n",
    "# STIM2: same transcript, CTG-init, ext is found in 5'UTR before annotated CTG (positive score)"
   ]
  },
  {
   "cell_type": "code",
   "execution_count": 50,
   "metadata": {},
   "outputs": [
    {
     "data": {
      "text/plain": [
       "(set(), {'STIM2'})"
      ]
     },
     "execution_count": 50,
     "metadata": {},
     "output_type": "execute_result"
    }
   ],
   "source": [
    "set(rb.gene.unique()).intersection(refseq_both.gene.tolist()), set(rb.gene.unique()).intersection(refseq_only_non_AUG.gene.tolist())"
   ]
  },
  {
   "cell_type": "markdown",
   "metadata": {},
   "source": [
    "-----"
   ]
  },
  {
   "cell_type": "code",
   "execution_count": null,
   "metadata": {},
   "outputs": [],
   "source": []
  },
  {
   "cell_type": "code",
   "execution_count": null,
   "metadata": {},
   "outputs": [],
   "source": []
  },
  {
   "cell_type": "markdown",
   "metadata": {},
   "source": [
    "# Compare gencode25/gencode35"
   ]
  },
  {
   "cell_type": "code",
   "execution_count": 51,
   "metadata": {},
   "outputs": [
    {
     "name": "stderr",
     "output_type": "stream",
     "text": [
      "INFO:root:Extracted GTF attributes: ['gene_id', 'gene_type', 'gene_status', 'gene_name', 'level', 'havana_gene', 'transcript_id', 'transcript_type', 'transcript_status', 'transcript_name', 'transcript_support_level', 'tag', 'havana_transcript', 'exon_number', 'exon_id', 'ont', 'protein_id', 'ccdsid']\n"
     ]
    }
   ],
   "source": [
    "metadata_pc_g25 = pd.read_csv('tmp_res/metadata_pc_g25.txt', sep='\\t')\n",
    "\n",
    "\n",
    "df_g25 = read_gtf(\"data/gencode.v25.annotation.gtf\")\n",
    "df_genes_g25 = df_g25[df_g25[\"feature\"] == \"gene\"]\n",
    "df_CDS_g25 = df_g25[df_g25[\"feature\"] == \"CDS\"]\n",
    "\n",
    "annotation_CDS_g25 = df_CDS_g25[['transcript_id', 'transcript_type', 'gene_name', 'tag']]\n",
    "annotation_CDS_g25.columns = ['tr_id', 'transcript_type', 'gene', 'tag']"
   ]
  },
  {
   "cell_type": "markdown",
   "metadata": {},
   "source": [
    "### Non-AUG tag"
   ]
  },
  {
   "cell_type": "code",
   "execution_count": 52,
   "metadata": {},
   "outputs": [
    {
     "name": "stdout",
     "output_type": "stream",
     "text": [
      "0\n",
      "1000000\n",
      "2000000\n"
     ]
    }
   ],
   "source": [
    "# we will create df with transcript type and tags \n",
    "li = []\n",
    "                                                        \n",
    "for i,feature in enumerate(DataIterator('data/gencode.v25.annotation.gtf')): \n",
    "    if i % 1000000 == 0:\n",
    "        print (i)\n",
    "    try:\n",
    "        attr = feature.attributes\n",
    "        gene_type = attr['gene_type'][0]\n",
    "        transcript_id = attr['transcript_id'][0]\n",
    "        gene_name = attr['gene_name'][0]\n",
    "        tag = attr['tag']\n",
    "        transcript_type = attr['transcript_type'][0]\n",
    "            \n",
    "        # cds_start_NF;cds_end_NF \n",
    "        if 'non_ATG_start' in tag:            \n",
    "            li.append([transcript_id, gene_name, transcript_type, ';'.join(tag), 'non_ATG_start'])\n",
    "        else:\n",
    "            li.append([transcript_id, gene_name, transcript_type, ';'.join(tag), None])\n",
    "            \n",
    "    except Exception as e:\n",
    "        continue           \n",
    "    "
   ]
  },
  {
   "cell_type": "code",
   "execution_count": 53,
   "metadata": {},
   "outputs": [
    {
     "name": "stdout",
     "output_type": "stream",
     "text": [
      "24\n"
     ]
    }
   ],
   "source": [
    "df = pd.DataFrame(li, columns = ['tr_id', 'gene', 'biotype', 'tags', 'non-ATG-tag']).drop_duplicates()\n",
    "\n",
    "# select genes with complete CDS, protein-coding transcript type and non-AUG tag \n",
    "non_AUG_annotated_pc_and_cds_complete_g25 = df[(df['non-ATG-tag'] == 'non_ATG_start') & (df['biotype'] == 'protein_coding') & \n",
    "                                                          (~df['tags'].str.contains('cds_start_NF')) &\n",
    "                                                         (~df['tags'].str.contains('cds_end_NF'))]\n",
    "\n",
    "genes_with_non_AUG_proteoforms_g25 = list(non_AUG_annotated_pc_and_cds_complete_g25['gene'].unique())\n",
    "\n",
    "print (len(genes_with_non_AUG_proteoforms_g25))"
   ]
  },
  {
   "cell_type": "code",
   "execution_count": 54,
   "metadata": {},
   "outputs": [],
   "source": [
    "cds_complete_and_pc_df_g25 = df[(df['biotype'] == 'protein_coding') & (~df['tags'].str.contains('cds_start_NF')) & (~df['tags'].str.contains('cds_end_NF'))]"
   ]
  },
  {
   "cell_type": "code",
   "execution_count": 55,
   "metadata": {},
   "outputs": [
    {
     "name": "stdout",
     "output_type": "stream",
     "text": [
      "(84, 17) 24 Counter({'ATG': 40, 'CTG': 34, 'TTG': 5, 'GTG': 3, 'ATA': 1, 'ACG': 1})\n"
     ]
    }
   ],
   "source": [
    "# pc transcripts, complete cds -> merge with metadata\n",
    "pr_trascript_cds_complete_df_g25 = cds_complete_and_pc_df_g25.merge(metadata_pc_g25, on=['gene', 'tr_id'], how='inner')\n",
    "\n",
    "# select genes with non-AUG\n",
    "df_with_all_proteoforms_of_genes_with_non_AUG_complete_CDS_g25 = pr_trascript_cds_complete_df_g25[pr_trascript_cds_complete_df_g25['gene'].isin(genes_with_non_AUG_proteoforms_g25)]\n",
    "\n",
    "print (df_with_all_proteoforms_of_genes_with_non_AUG_complete_CDS_g25.shape, df_with_all_proteoforms_of_genes_with_non_AUG_complete_CDS_g25.gene.nunique(), Counter(df_with_all_proteoforms_of_genes_with_non_AUG_complete_CDS_g25.cds_start_codon.tolist()))"
   ]
  },
  {
   "cell_type": "code",
   "execution_count": 56,
   "metadata": {},
   "outputs": [
    {
     "name": "stderr",
     "output_type": "stream",
     "text": [
      "/home/alla/.local/lib/python3.7/site-packages/ipykernel_launcher.py:2: SettingWithCopyWarning: \n",
      "A value is trying to be set on a copy of a slice from a DataFrame.\n",
      "Try using .loc[row_indexer,col_indexer] = value instead\n",
      "\n",
      "See the caveats in the documentation: https://pandas.pydata.org/pandas-docs/stable/user_guide/indexing.html#returning-a-view-versus-a-copy\n",
      "  \n"
     ]
    }
   ],
   "source": [
    "# CDS_start codon \n",
    "df_with_all_proteoforms_of_genes_with_non_AUG_complete_CDS_g25['CDS_start'] = df_with_all_proteoforms_of_genes_with_non_AUG_complete_CDS_g25['cds_seq'].str.slice(0, 3)\n",
    "\n",
    "# gene - start codons dataframe\n",
    "d1 = df_with_all_proteoforms_of_genes_with_non_AUG_complete_CDS_g25.groupby('gene')['CDS_start'].apply(set).apply(list).apply(', '.join).to_dict()\n",
    "gene_codon_g25_df = pd.DataFrame(zip(d1.keys(), d1.values()), columns = ['gene', 'codons'])"
   ]
  },
  {
   "cell_type": "code",
   "execution_count": 57,
   "metadata": {},
   "outputs": [
    {
     "name": "stdout",
     "output_type": "stream",
     "text": [
      "there are both AUG and non-AUG proteoforms for 17 genes\n",
      "BAG1, EIF4G3, FNDC5, HCK, MDFIC, MYC, NELFB, NR1I2, OAZ3, PEG10, PIGX, POU5F1, R3HCC1, SLC22A17, SWI5, TEAD4, WT1\n",
      "\n",
      "there are only AUG codon proteoform for 1 genes (although its non-AUG annotated)\n",
      "\n",
      "\n",
      "there are only non-AUG codon proteoform for 7 genes\n",
      "CACNG8, GTF3A, NPTXR, RNF187, STIM2, TRPV6, TXNRD3\n"
     ]
    }
   ],
   "source": [
    "print ('there are both AUG and non-AUG proteoforms for %s genes' % gene_codon_g25_df[(gene_codon_g25_df['codons'].str.contains('ATG')) & (gene_codon_g25_df['codons'].str.len() >= 6)].shape[0])\n",
    "print (', '.join(gene_codon_g25_df[(gene_codon_g25_df['codons'].str.contains('ATG')) & (gene_codon_g25_df['codons'].str.len() >= 6)].gene.unique()))\n",
    "print ()\n",
    "\n",
    "print ('there are only AUG codon proteoform for %s genes (although its non-AUG annotated)' % gene_codon_g35_df[(gene_codon_g35_df['codons'] == 'ATG')].shape[0])\n",
    "print (', '.join(gene_codon_g25_df[(gene_codon_g25_df['codons'] == 'ATG')].gene.unique()))\n",
    "print ()\n",
    "\n",
    "print ('there are only non-AUG codon proteoform for %s genes' % gene_codon_g25_df[(gene_codon_g25_df['codons'].str.len() <=3) & (gene_codon_g25_df['codons'] != 'ATG')].shape[0])\n",
    "print (', '.join(gene_codon_g25_df[(gene_codon_g25_df['codons'].str.len() <=3) & (gene_codon_g25_df['codons'] != 'ATG')].gene.unique()))"
   ]
  },
  {
   "cell_type": "markdown",
   "metadata": {},
   "source": [
    "### both AUG/nonAUG or only nonAUG dfs"
   ]
  },
  {
   "cell_type": "code",
   "execution_count": 58,
   "metadata": {},
   "outputs": [
    {
     "name": "stdout",
     "output_type": "stream",
     "text": [
      "7 17\n"
     ]
    }
   ],
   "source": [
    "both_proteoforms_g25_genes = gene_codon_g25_df[(gene_codon_g25_df['codons'].str.contains('ATG')) & (gene_codon_g25_df['codons'].str.len() >= 6)].gene.unique()\n",
    "\n",
    "only_non_AUG_proteoforms_genes_g25 = gene_codon_g25_df[(gene_codon_g25_df['codons'].str.len() <=3) & (gene_codon_g25_df['codons'] != 'ATG')].gene.unique()\n",
    "\n",
    "print (len(only_non_AUG_proteoforms_genes_g25), len(both_proteoforms_g25_genes))"
   ]
  },
  {
   "cell_type": "code",
   "execution_count": 59,
   "metadata": {},
   "outputs": [
    {
     "name": "stdout",
     "output_type": "stream",
     "text": [
      "7 7\n"
     ]
    }
   ],
   "source": [
    "df = df_with_all_proteoforms_of_genes_with_non_AUG_complete_CDS_g25.copy()\n",
    "\n",
    "g25_only_df = df[df['gene'].isin(only_non_AUG_proteoforms_genes_g25)][['tr_id', 'gene', 'cds_start_codon']]\n",
    "\n",
    "\n",
    "\n",
    "g25_only_df2 = g25_only_df.merge(annotation_CDS_g25, on=['tr_id', 'gene'], how='inner').drop_duplicates()\n",
    "\n",
    "g25_only_df3 = g25_only_df2[(g25_only_df2['transcript_type'] == 'protein_coding') \n",
    "            & (~g25_only_df2['tag'].str.contains('CDS_start_NF')) &\n",
    "            (~g25_only_df2['tag'].str.contains('CDS_end_NF'))]\n",
    "\n",
    "print (g25_only_df.gene.nunique(), g25_only_df3.gene.nunique())\n",
    "\n",
    "\n",
    "g25_only_df3.to_csv('tmp_res/gencode25_only_non_AUG_PC_complete_CDS.txt', sep='\\t', index=False)"
   ]
  },
  {
   "cell_type": "code",
   "execution_count": 60,
   "metadata": {},
   "outputs": [
    {
     "name": "stdout",
     "output_type": "stream",
     "text": [
      "17 17\n"
     ]
    }
   ],
   "source": [
    "g25_both_df = df[df['gene'].isin(both_proteoforms_g25_genes)][['tr_id', 'gene', 'cds_start_codon']]\n",
    "\n",
    "g25_both_df2 = g25_both_df.merge(annotation_CDS_g25, on=['tr_id', 'gene'], how='inner').drop_duplicates()\n",
    "\n",
    "g25_both_df3 = g25_both_df2[(g25_both_df2['transcript_type'] == 'protein_coding') \n",
    "            & (~g25_both_df2['tag'].str.contains('CDS_start_NF')) &\n",
    "            (~g25_both_df2['tag'].str.contains('CDS_end_NF'))]\n",
    "\n",
    "print (g25_both_df.gene.nunique(), g25_both_df3.gene.nunique())\n",
    "\n",
    "g25_both_df3.to_csv('tmp_res/gencode25_both_AUG_non_AUG_PC_complete_CDS.txt', sep='\\t', index=False)"
   ]
  },
  {
   "cell_type": "markdown",
   "metadata": {},
   "source": [
    "---------------"
   ]
  },
  {
   "cell_type": "code",
   "execution_count": 61,
   "metadata": {},
   "outputs": [],
   "source": [
    "g25_only_df['type_g25'] = 'only'\n",
    "g25_only_df.columns = ['tr_id_g25', 'gene', 'start', 'type_g25']\n",
    "\n",
    "g25_both_df['type_g25'] = 'both'\n",
    "g25_both_df.columns = ['tr_id_g25', 'gene', 'start', 'type_g25']"
   ]
  },
  {
   "cell_type": "code",
   "execution_count": 62,
   "metadata": {},
   "outputs": [
    {
     "name": "stdout",
     "output_type": "stream",
     "text": [
      "7 only non-AUG both in g25 and refseq\n",
      "TRPV6, TXNRD3, GTF3A, NPTXR, STIM2, CACNG8, RNF187\n",
      "7 genes non-AUG in g25\n",
      "15 genes non-AUG in g35\n"
     ]
    }
   ],
   "source": [
    "# only non-AUG both in g35 and g25\n",
    "print ('%s only non-AUG both in g25 and refseq' % len(list(set(g35_only_df.gene.unique()).intersection(set(g25_only_df.gene.unique())))))\n",
    "print (', '.join(list(set(g35_only_df.gene.unique()).intersection(set(g25_only_df.gene.unique())))))\n",
    "\n",
    "print ('%s genes non-AUG in g25' % g25_only_df.gene.nunique())\n",
    "print ('%s genes non-AUG in g35' % g35_only_df.gene.nunique())"
   ]
  },
  {
   "cell_type": "code",
   "execution_count": 63,
   "metadata": {},
   "outputs": [
    {
     "name": "stdout",
     "output_type": "stream",
     "text": [
      "15 both AUG and non-AUG both in g35 and refseq\n",
      "BAG1, PEG10, OAZ3, PIGX, R3HCC1, HCK, EIF4G3, FNDC5, POU5F1, SWI5, SLC22A17, MYC, TEAD4, WT1, NR1I2\n",
      "17 genes non-AUG in g25\n",
      "30 genes non-AUG in g35\n"
     ]
    }
   ],
   "source": [
    "# only non-AUG both in g35 and g25\n",
    "print ('%s both AUG and non-AUG both in g35 and refseq' % len(list(set(g25_both_df.gene.unique()).intersection(set(g35_both_df.gene.unique())))))\n",
    "print (', '.join(list(set(g25_both_df.gene.unique()).intersection(set(g35_both_df.gene.unique())))))\n",
    "\n",
    "print ('%s genes non-AUG in g25' % g25_both_df.gene.nunique())\n",
    "print ('%s genes non-AUG in g35' % g35_both_df.gene.nunique())"
   ]
  },
  {
   "cell_type": "code",
   "execution_count": null,
   "metadata": {},
   "outputs": [],
   "source": []
  },
  {
   "cell_type": "code",
   "execution_count": null,
   "metadata": {},
   "outputs": [],
   "source": []
  },
  {
   "cell_type": "code",
   "execution_count": null,
   "metadata": {},
   "outputs": [],
   "source": []
  },
  {
   "cell_type": "code",
   "execution_count": null,
   "metadata": {},
   "outputs": [],
   "source": []
  }
 ],
 "metadata": {
  "kernelspec": {
   "display_name": "Python 3",
   "language": "python",
   "name": "python3"
  },
  "language_info": {
   "codemirror_mode": {
    "name": "ipython",
    "version": 3
   },
   "file_extension": ".py",
   "mimetype": "text/x-python",
   "name": "python",
   "nbconvert_exporter": "python",
   "pygments_lexer": "ipython3",
   "version": "3.7.3"
  }
 },
 "nbformat": 4,
 "nbformat_minor": 2
}
