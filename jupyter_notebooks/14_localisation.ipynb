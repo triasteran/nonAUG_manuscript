{
 "cells": [
  {
   "cell_type": "code",
   "execution_count": 1,
   "metadata": {},
   "outputs": [
    {
     "name": "stderr",
     "output_type": "stream",
     "text": [
      "/home/alla/anaconda3/lib/python3.7/site-packages/statsmodels/tools/_testing.py:19: FutureWarning: pandas.util.testing is deprecated. Use the functions in the public API at pandas.testing instead.\n",
      "  import pandas.util.testing as tm\n"
     ]
    }
   ],
   "source": [
    "%matplotlib inline\n",
    "\n",
    "import numpy as np\n",
    "import collections\n",
    "from collections import OrderedDict, Counter, defaultdict\n",
    "import pandas as pd\n",
    "\n",
    "import Bio\n",
    "from Bio import SeqIO\n",
    "from Bio.Seq import Seq\n",
    "from Bio.SeqUtils import molecular_weight\n",
    "from Bio.Alphabet import generic_dna, generic_rna, generic_protein\n",
    "\n",
    "import seaborn as sns\n",
    "import matplotlib.pyplot as plt\n",
    "\n",
    "import glob\n",
    "\n",
    "import subprocess\n",
    "from subprocess import call\n",
    "\n",
    "import re\n",
    "\n",
    "import pickle\n",
    "\n",
    "import sys                                                                         \n",
    "from gffutils.iterators import DataIterator  \n",
    "from gtfparse import read_gtf"
   ]
  },
  {
   "cell_type": "code",
   "execution_count": 2,
   "metadata": {},
   "outputs": [],
   "source": [
    "# gencode 25 metadata \n",
    "metadata_pc_g25 = pd.read_csv('tmp_res/metadata_pc_g25.txt', sep='\\t')\n",
    "\n",
    "# gencode 35 metadata \n",
    "metadata_pc_g35 = pd.read_csv('tmp_res/metadata_pc_g35.txt', sep='\\t')\n",
    "\n",
    "# open metadata with scores and metrics\n",
    "meta = pd.read_csv('tmp_res/local_and_global_df_g25ovlp_g35ovlp_g38ovlp_refseqovlp_strand_FRAMES_PhyloCSF.txt', sep='\\t')"
   ]
  },
  {
   "cell_type": "code",
   "execution_count": 3,
   "metadata": {},
   "outputs": [],
   "source": [
    "PhyloSET = pd.read_csv('tmp_res/SET1.txt', sep='\\t')\n",
    "\n",
    "RiboSET = pd.read_csv('tmp_res/SET2.txt', sep='\\t')"
   ]
  },
  {
   "cell_type": "code",
   "execution_count": 4,
   "metadata": {},
   "outputs": [],
   "source": [
    "RiboSET['start_codon_local_coo_start'] = [int(x.split(';')[1].split('-')[0]) for x in RiboSET['Riboseq_Summary'].tolist()]\n",
    "\n",
    "RiboSET['start_codon'] = [x.split(';')[0] for x in RiboSET['Riboseq_Summary'].tolist()]"
   ]
  },
  {
   "cell_type": "code",
   "execution_count": null,
   "metadata": {},
   "outputs": [],
   "source": []
  },
  {
   "cell_type": "code",
   "execution_count": 4,
   "metadata": {},
   "outputs": [
    {
     "data": {
      "text/html": [
       "<div>\n",
       "<style scoped>\n",
       "    .dataframe tbody tr th:only-of-type {\n",
       "        vertical-align: middle;\n",
       "    }\n",
       "\n",
       "    .dataframe tbody tr th {\n",
       "        vertical-align: top;\n",
       "    }\n",
       "\n",
       "    .dataframe thead th {\n",
       "        text-align: right;\n",
       "    }\n",
       "</style>\n",
       "<table border=\"1\" class=\"dataframe\">\n",
       "  <thead>\n",
       "    <tr style=\"text-align: right;\">\n",
       "      <th></th>\n",
       "      <th>tr_id</th>\n",
       "      <th>gene</th>\n",
       "      <th>N_term_start1</th>\n",
       "      <th>N_term_end1</th>\n",
       "      <th>len_codons</th>\n",
       "      <th>global_coo_50_and_less</th>\n",
       "      <th>strand</th>\n",
       "      <th>global_coo_primary</th>\n",
       "      <th>PhyloCSF120score</th>\n",
       "      <th>number_of_records</th>\n",
       "      <th>ovlp</th>\n",
       "      <th>Riboseq_Summary</th>\n",
       "      <th>Coverage_value_ext</th>\n",
       "      <th>Proteomics_count_ext</th>\n",
       "      <th>tag</th>\n",
       "      <th>transcript_type</th>\n",
       "      <th>CDS_ratio</th>\n",
       "    </tr>\n",
       "  </thead>\n",
       "  <tbody>\n",
       "    <tr>\n",
       "      <th>0</th>\n",
       "      <td>ENST00000379389.4</td>\n",
       "      <td>ISG15</td>\n",
       "      <td>1</td>\n",
       "      <td>151</td>\n",
       "      <td>50.0</td>\n",
       "      <td>chr1:1013424-1013573</td>\n",
       "      <td>+</td>\n",
       "      <td>chr1:1013424-1013573</td>\n",
       "      <td>-2443.9971</td>\n",
       "      <td>111</td>\n",
       "      <td>0;0;0</td>\n",
       "      <td>ATC; 98-152; Rank: 288; cov: 53.85</td>\n",
       "      <td>53.846154</td>\n",
       "      <td>0.000000</td>\n",
       "      <td>basic,appris_principal_1,CCDS</td>\n",
       "      <td>protein_coding</td>\n",
       "      <td>0.327240</td>\n",
       "    </tr>\n",
       "    <tr>\n",
       "      <th>1</th>\n",
       "      <td>ENST00000349431.10</td>\n",
       "      <td>UBE2J2</td>\n",
       "      <td>28</td>\n",
       "      <td>220</td>\n",
       "      <td>64.0</td>\n",
       "      <td>chr1:1273666-1273815</td>\n",
       "      <td>-</td>\n",
       "      <td>chr1:1273666-1273857</td>\n",
       "      <td>-1285.8186</td>\n",
       "      <td>78</td>\n",
       "      <td>0;0;0</td>\n",
       "      <td>ACG; 173-221; Rank: 328; cov: 90.91</td>\n",
       "      <td>90.909091</td>\n",
       "      <td>0.000000</td>\n",
       "      <td>basic,appris_principal_1,CCDS</td>\n",
       "      <td>protein_coding</td>\n",
       "      <td>0.762814</td>\n",
       "    </tr>\n",
       "    <tr>\n",
       "      <th>2</th>\n",
       "      <td>ENST00000338370.7</td>\n",
       "      <td>AURKAIP1</td>\n",
       "      <td>2</td>\n",
       "      <td>401</td>\n",
       "      <td>133.0</td>\n",
       "      <td>chr1:1374757-1374906</td>\n",
       "      <td>-</td>\n",
       "      <td>chr1:1374757-1375155</td>\n",
       "      <td>-2234.0530</td>\n",
       "      <td>111</td>\n",
       "      <td>0;0;0</td>\n",
       "      <td>ATT; 105-402; Rank: 230; cov: 47.87</td>\n",
       "      <td>47.872340</td>\n",
       "      <td>0.000000</td>\n",
       "      <td>basic,appris_principal_1,CCDS</td>\n",
       "      <td>protein_coding</td>\n",
       "      <td>0.063303</td>\n",
       "    </tr>\n",
       "    <tr>\n",
       "      <th>3</th>\n",
       "      <td>ENST00000235310.7</td>\n",
       "      <td>MAD2L2</td>\n",
       "      <td>782</td>\n",
       "      <td>929</td>\n",
       "      <td>49.0</td>\n",
       "      <td>chr1:11680602-11680613+chr1:11681039-11681173</td>\n",
       "      <td>-</td>\n",
       "      <td>chr1:11680602-11680613+chr1:11681039-11681173</td>\n",
       "      <td>-2222.6359</td>\n",
       "      <td>111</td>\n",
       "      <td>0;0;0</td>\n",
       "      <td>GTG; 861-930; Rank: 321; cov: 55.56</td>\n",
       "      <td>55.555556</td>\n",
       "      <td>0.000000</td>\n",
       "      <td>basic,appris_principal_1,CCDS</td>\n",
       "      <td>protein_coding</td>\n",
       "      <td>0.094194</td>\n",
       "    </tr>\n",
       "    <tr>\n",
       "      <th>4</th>\n",
       "      <td>ENST00000356634.7</td>\n",
       "      <td>KDM1A</td>\n",
       "      <td>2</td>\n",
       "      <td>149</td>\n",
       "      <td>49.0</td>\n",
       "      <td>chr1:23019450-23019596</td>\n",
       "      <td>+</td>\n",
       "      <td>chr1:23019450-23019596</td>\n",
       "      <td>-1883.2964</td>\n",
       "      <td>103</td>\n",
       "      <td>0;0;0</td>\n",
       "      <td>GTG; 63-150; Rank: 37; cov: 87.5</td>\n",
       "      <td>87.500000</td>\n",
       "      <td>2.833333</td>\n",
       "      <td>basic,appris_principal_3,CCDS</td>\n",
       "      <td>protein_coding</td>\n",
       "      <td>0.981869</td>\n",
       "    </tr>\n",
       "    <tr>\n",
       "      <th>...</th>\n",
       "      <td>...</td>\n",
       "      <td>...</td>\n",
       "      <td>...</td>\n",
       "      <td>...</td>\n",
       "      <td>...</td>\n",
       "      <td>...</td>\n",
       "      <td>...</td>\n",
       "      <td>...</td>\n",
       "      <td>...</td>\n",
       "      <td>...</td>\n",
       "      <td>...</td>\n",
       "      <td>...</td>\n",
       "      <td>...</td>\n",
       "      <td>...</td>\n",
       "      <td>...</td>\n",
       "      <td>...</td>\n",
       "      <td>...</td>\n",
       "    </tr>\n",
       "    <tr>\n",
       "      <th>390</th>\n",
       "      <td>ENST00000330374.6</td>\n",
       "      <td>VMA21</td>\n",
       "      <td>0</td>\n",
       "      <td>105</td>\n",
       "      <td>35.0</td>\n",
       "      <td>chrX:151397204-151397308</td>\n",
       "      <td>+</td>\n",
       "      <td>chrX:151397204-151397308</td>\n",
       "      <td>-1797.1170</td>\n",
       "      <td>100</td>\n",
       "      <td>0;0;0</td>\n",
       "      <td>CTG; 46-106; Rank: 327; cov: 66.67</td>\n",
       "      <td>66.666667</td>\n",
       "      <td>0.000000</td>\n",
       "      <td>basic,appris_principal_1,CCDS</td>\n",
       "      <td>protein_coding</td>\n",
       "      <td>0.052834</td>\n",
       "    </tr>\n",
       "    <tr>\n",
       "      <th>391</th>\n",
       "      <td>ENST00000370274.7</td>\n",
       "      <td>NSDHL</td>\n",
       "      <td>2</td>\n",
       "      <td>194</td>\n",
       "      <td>64.0</td>\n",
       "      <td>chrX:152831011-152831117+chrX:152846282-152846324</td>\n",
       "      <td>+</td>\n",
       "      <td>chrX:152830969-152831117+chrX:152846282-152846324</td>\n",
       "      <td>-3415.5044</td>\n",
       "      <td>119</td>\n",
       "      <td>0;0;0</td>\n",
       "      <td>CTG; 120-195; Rank: 334; cov: 60.0</td>\n",
       "      <td>60.000000</td>\n",
       "      <td>0.000000</td>\n",
       "      <td>basic,appris_principal_1,CCDS</td>\n",
       "      <td>protein_coding</td>\n",
       "      <td>0.356544</td>\n",
       "    </tr>\n",
       "    <tr>\n",
       "      <th>392</th>\n",
       "      <td>ENST00000447750.6</td>\n",
       "      <td>GDI1</td>\n",
       "      <td>197</td>\n",
       "      <td>335</td>\n",
       "      <td>46.0</td>\n",
       "      <td>chrX:154437117-154437254</td>\n",
       "      <td>+</td>\n",
       "      <td>chrX:154437117-154437254</td>\n",
       "      <td>-1237.3225</td>\n",
       "      <td>90</td>\n",
       "      <td>0;0;0</td>\n",
       "      <td>GTG; 252-336; Rank: 422; cov: 69.57</td>\n",
       "      <td>69.565217</td>\n",
       "      <td>0.000000</td>\n",
       "      <td>basic,appris_principal_1,CCDS</td>\n",
       "      <td>protein_coding</td>\n",
       "      <td>0.282225</td>\n",
       "    </tr>\n",
       "    <tr>\n",
       "      <th>393</th>\n",
       "      <td>ENST00000381401.10_PAR_Y</td>\n",
       "      <td>SLC25A6</td>\n",
       "      <td>640</td>\n",
       "      <td>715</td>\n",
       "      <td>25.0</td>\n",
       "      <td>chrY:1392010-1392084</td>\n",
       "      <td>-</td>\n",
       "      <td>chrY:1392010-1392084</td>\n",
       "      <td>-682.8493</td>\n",
       "      <td>50</td>\n",
       "      <td>0;0;0</td>\n",
       "      <td>CTG; 683-716; Rank: 467; cov: 50.0</td>\n",
       "      <td>50.000000</td>\n",
       "      <td>0.000000</td>\n",
       "      <td>basic,appris_principal_1,CCDS,PAR</td>\n",
       "      <td>protein_coding</td>\n",
       "      <td>1.221763</td>\n",
       "    </tr>\n",
       "    <tr>\n",
       "      <th>394</th>\n",
       "      <td>ENST00000381192.8_PAR_Y</td>\n",
       "      <td>CD99</td>\n",
       "      <td>2</td>\n",
       "      <td>182</td>\n",
       "      <td>60.0</td>\n",
       "      <td>chrY:2691211-2691360</td>\n",
       "      <td>+</td>\n",
       "      <td>chrY:2691181-2691360</td>\n",
       "      <td>-627.3952</td>\n",
       "      <td>40</td>\n",
       "      <td>0;0;0</td>\n",
       "      <td>CTG; 144-183; Rank: 167; cov: 62.5</td>\n",
       "      <td>62.500000</td>\n",
       "      <td>0.000000</td>\n",
       "      <td>basic,appris_principal_3,CCDS,PAR</td>\n",
       "      <td>protein_coding</td>\n",
       "      <td>4.078004</td>\n",
       "    </tr>\n",
       "  </tbody>\n",
       "</table>\n",
       "<p>395 rows × 17 columns</p>\n",
       "</div>"
      ],
      "text/plain": [
       "                        tr_id      gene  N_term_start1  N_term_end1  \\\n",
       "0           ENST00000379389.4     ISG15              1          151   \n",
       "1          ENST00000349431.10    UBE2J2             28          220   \n",
       "2           ENST00000338370.7  AURKAIP1              2          401   \n",
       "3           ENST00000235310.7    MAD2L2            782          929   \n",
       "4           ENST00000356634.7     KDM1A              2          149   \n",
       "..                        ...       ...            ...          ...   \n",
       "390         ENST00000330374.6     VMA21              0          105   \n",
       "391         ENST00000370274.7     NSDHL              2          194   \n",
       "392         ENST00000447750.6      GDI1            197          335   \n",
       "393  ENST00000381401.10_PAR_Y   SLC25A6            640          715   \n",
       "394   ENST00000381192.8_PAR_Y      CD99              2          182   \n",
       "\n",
       "     len_codons                             global_coo_50_and_less strand  \\\n",
       "0          50.0                               chr1:1013424-1013573      +   \n",
       "1          64.0                               chr1:1273666-1273815      -   \n",
       "2         133.0                               chr1:1374757-1374906      -   \n",
       "3          49.0      chr1:11680602-11680613+chr1:11681039-11681173      -   \n",
       "4          49.0                             chr1:23019450-23019596      +   \n",
       "..          ...                                                ...    ...   \n",
       "390        35.0                           chrX:151397204-151397308      +   \n",
       "391        64.0  chrX:152831011-152831117+chrX:152846282-152846324      +   \n",
       "392        46.0                           chrX:154437117-154437254      +   \n",
       "393        25.0                               chrY:1392010-1392084      -   \n",
       "394        60.0                               chrY:2691211-2691360      +   \n",
       "\n",
       "                                    global_coo_primary  PhyloCSF120score  \\\n",
       "0                                 chr1:1013424-1013573        -2443.9971   \n",
       "1                                 chr1:1273666-1273857        -1285.8186   \n",
       "2                                 chr1:1374757-1375155        -2234.0530   \n",
       "3        chr1:11680602-11680613+chr1:11681039-11681173        -2222.6359   \n",
       "4                               chr1:23019450-23019596        -1883.2964   \n",
       "..                                                 ...               ...   \n",
       "390                           chrX:151397204-151397308        -1797.1170   \n",
       "391  chrX:152830969-152831117+chrX:152846282-152846324        -3415.5044   \n",
       "392                           chrX:154437117-154437254        -1237.3225   \n",
       "393                               chrY:1392010-1392084         -682.8493   \n",
       "394                               chrY:2691181-2691360         -627.3952   \n",
       "\n",
       "     number_of_records   ovlp                      Riboseq_Summary  \\\n",
       "0                  111  0;0;0   ATC; 98-152; Rank: 288; cov: 53.85   \n",
       "1                   78  0;0;0  ACG; 173-221; Rank: 328; cov: 90.91   \n",
       "2                  111  0;0;0  ATT; 105-402; Rank: 230; cov: 47.87   \n",
       "3                  111  0;0;0  GTG; 861-930; Rank: 321; cov: 55.56   \n",
       "4                  103  0;0;0     GTG; 63-150; Rank: 37; cov: 87.5   \n",
       "..                 ...    ...                                  ...   \n",
       "390                100  0;0;0   CTG; 46-106; Rank: 327; cov: 66.67   \n",
       "391                119  0;0;0   CTG; 120-195; Rank: 334; cov: 60.0   \n",
       "392                 90  0;0;0  GTG; 252-336; Rank: 422; cov: 69.57   \n",
       "393                 50  0;0;0   CTG; 683-716; Rank: 467; cov: 50.0   \n",
       "394                 40  0;0;0   CTG; 144-183; Rank: 167; cov: 62.5   \n",
       "\n",
       "     Coverage_value_ext  Proteomics_count_ext  \\\n",
       "0             53.846154              0.000000   \n",
       "1             90.909091              0.000000   \n",
       "2             47.872340              0.000000   \n",
       "3             55.555556              0.000000   \n",
       "4             87.500000              2.833333   \n",
       "..                  ...                   ...   \n",
       "390           66.666667              0.000000   \n",
       "391           60.000000              0.000000   \n",
       "392           69.565217              0.000000   \n",
       "393           50.000000              0.000000   \n",
       "394           62.500000              0.000000   \n",
       "\n",
       "                                   tag transcript_type  CDS_ratio  \n",
       "0        basic,appris_principal_1,CCDS  protein_coding   0.327240  \n",
       "1        basic,appris_principal_1,CCDS  protein_coding   0.762814  \n",
       "2        basic,appris_principal_1,CCDS  protein_coding   0.063303  \n",
       "3        basic,appris_principal_1,CCDS  protein_coding   0.094194  \n",
       "4        basic,appris_principal_3,CCDS  protein_coding   0.981869  \n",
       "..                                 ...             ...        ...  \n",
       "390      basic,appris_principal_1,CCDS  protein_coding   0.052834  \n",
       "391      basic,appris_principal_1,CCDS  protein_coding   0.356544  \n",
       "392      basic,appris_principal_1,CCDS  protein_coding   0.282225  \n",
       "393  basic,appris_principal_1,CCDS,PAR  protein_coding   1.221763  \n",
       "394  basic,appris_principal_3,CCDS,PAR  protein_coding   4.078004  \n",
       "\n",
       "[395 rows x 17 columns]"
      ]
     },
     "execution_count": 4,
     "metadata": {},
     "output_type": "execute_result"
    }
   ],
   "source": [
    "RiboSET[['PhyloCSF120score', 'len_codons']]"
   ]
  },
  {
   "cell_type": "code",
   "execution_count": null,
   "metadata": {},
   "outputs": [],
   "source": []
  },
  {
   "cell_type": "code",
   "execution_count": null,
   "metadata": {},
   "outputs": [],
   "source": []
  },
  {
   "cell_type": "markdown",
   "metadata": {},
   "source": [
    "# The Human Protein Atlas "
   ]
  },
  {
   "cell_type": "code",
   "execution_count": 5,
   "metadata": {},
   "outputs": [
    {
     "name": "stdout",
     "output_type": "stream",
     "text": [
      "12804\n",
      "12086\n",
      "['Approved' 'Uncertain' 'Supported' 'Enhanced']\n"
     ]
    },
    {
     "data": {
      "text/html": [
       "<div>\n",
       "<style scoped>\n",
       "    .dataframe tbody tr th:only-of-type {\n",
       "        vertical-align: middle;\n",
       "    }\n",
       "\n",
       "    .dataframe tbody tr th {\n",
       "        vertical-align: top;\n",
       "    }\n",
       "\n",
       "    .dataframe thead th {\n",
       "        text-align: right;\n",
       "    }\n",
       "</style>\n",
       "<table border=\"1\" class=\"dataframe\">\n",
       "  <thead>\n",
       "    <tr style=\"text-align: right;\">\n",
       "      <th></th>\n",
       "      <th>gene</th>\n",
       "      <th>Main location</th>\n",
       "      <th>Additional location</th>\n",
       "      <th>Extracellular location</th>\n",
       "    </tr>\n",
       "  </thead>\n",
       "  <tbody>\n",
       "    <tr>\n",
       "      <th>0</th>\n",
       "      <td>TSPAN6</td>\n",
       "      <td>Cell Junctions;Cytosol</td>\n",
       "      <td>Nucleoli fibrillar center</td>\n",
       "      <td>NaN</td>\n",
       "    </tr>\n",
       "    <tr>\n",
       "      <th>2</th>\n",
       "      <td>C1orf112</td>\n",
       "      <td>Mitochondria</td>\n",
       "      <td>NaN</td>\n",
       "      <td>NaN</td>\n",
       "    </tr>\n",
       "  </tbody>\n",
       "</table>\n",
       "</div>"
      ],
      "text/plain": [
       "       gene           Main location        Additional location  \\\n",
       "0    TSPAN6  Cell Junctions;Cytosol  Nucleoli fibrillar center   \n",
       "2  C1orf112            Mitochondria                        NaN   \n",
       "\n",
       "  Extracellular location  \n",
       "0                    NaN  \n",
       "2                    NaN  "
      ]
     },
     "execution_count": 5,
     "metadata": {},
     "output_type": "execute_result"
    }
   ],
   "source": [
    "localisation_df = pd.read_csv('data/subcellular_location.tsv', sep='\\t')\n",
    "\n",
    "print (localisation_df['Gene name'].nunique())\n",
    "print (localisation_df[localisation_df['Reliability'].isin(['Supported', 'Approved', 'Enhanced'])]['Gene name'].nunique())\n",
    "print (localisation_df['Reliability'].unique())\n",
    "\n",
    "# filter out uncertain location \n",
    "sel_loc = localisation_df[localisation_df['Reliability'].isin(['Supported', 'Approved', 'Enhanced'])][['Gene name',\n",
    "                                                                                                      'Main location',\n",
    "                                                                                                      'Additional location', 'Extracellular location']]\n",
    "\n",
    "sel_loc.columns = ['gene', 'Main location', 'Additional location', 'Extracellular location']\n",
    "\n",
    "sel_loc[0:2]"
   ]
  },
  {
   "cell_type": "code",
   "execution_count": null,
   "metadata": {},
   "outputs": [],
   "source": []
  },
  {
   "cell_type": "code",
   "execution_count": null,
   "metadata": {},
   "outputs": [],
   "source": []
  },
  {
   "cell_type": "markdown",
   "metadata": {},
   "source": [
    "# RiboSET & HPA localisation "
   ]
  },
  {
   "cell_type": "code",
   "execution_count": 6,
   "metadata": {},
   "outputs": [
    {
     "name": "stderr",
     "output_type": "stream",
     "text": [
      "INFO:numexpr.utils:NumExpr defaulting to 8 threads.\n"
     ]
    },
    {
     "name": "stdout",
     "output_type": "stream",
     "text": [
      "317\n"
     ]
    },
    {
     "data": {
      "text/html": [
       "<div>\n",
       "<style scoped>\n",
       "    .dataframe tbody tr th:only-of-type {\n",
       "        vertical-align: middle;\n",
       "    }\n",
       "\n",
       "    .dataframe tbody tr th {\n",
       "        vertical-align: top;\n",
       "    }\n",
       "\n",
       "    .dataframe thead th {\n",
       "        text-align: right;\n",
       "    }\n",
       "</style>\n",
       "<table border=\"1\" class=\"dataframe\">\n",
       "  <thead>\n",
       "    <tr style=\"text-align: right;\">\n",
       "      <th></th>\n",
       "      <th>gene</th>\n",
       "      <th>Main location</th>\n",
       "      <th>Additional location</th>\n",
       "      <th>Extracellular location</th>\n",
       "      <th>location</th>\n",
       "    </tr>\n",
       "  </thead>\n",
       "  <tbody>\n",
       "    <tr>\n",
       "      <th>0</th>\n",
       "      <td>AURKAIP1</td>\n",
       "      <td>Mitochondria;Nucleoplasm</td>\n",
       "      <td>NaN</td>\n",
       "      <td>NaN</td>\n",
       "      <td>Mitochondria;Nucleoplasm</td>\n",
       "    </tr>\n",
       "    <tr>\n",
       "      <th>1</th>\n",
       "      <td>MAD2L2</td>\n",
       "      <td>Cytosol</td>\n",
       "      <td>Nucleoli</td>\n",
       "      <td>NaN</td>\n",
       "      <td>Cytosol;Nucleoli</td>\n",
       "    </tr>\n",
       "  </tbody>\n",
       "</table>\n",
       "</div>"
      ],
      "text/plain": [
       "       gene             Main location Additional location  \\\n",
       "0  AURKAIP1  Mitochondria;Nucleoplasm                 NaN   \n",
       "1    MAD2L2                   Cytosol            Nucleoli   \n",
       "\n",
       "  Extracellular location                  location  \n",
       "0                    NaN  Mitochondria;Nucleoplasm  \n",
       "1                    NaN          Cytosol;Nucleoli  "
      ]
     },
     "execution_count": 6,
     "metadata": {},
     "output_type": "execute_result"
    }
   ],
   "source": [
    "# !!!!!!!! exclude AUG extensions !!!!!! \n",
    "# 392 genes with non-AUG and 3 with AUG \n",
    "\n",
    "RiboSET_loc = RiboSET[~RiboSET['gene'].isin(['STIM2', 'AP3S1', 'PTPRJ'])][['gene']].merge(sel_loc, on='gene', how='inner')\n",
    "print (RiboSET_loc.gene.nunique())\n",
    "\n",
    "RiboSET_loc['location'] = RiboSET_loc['Main location']+';'+RiboSET_loc['Additional location'].astype(str)+';'+RiboSET_loc['Extracellular location'].astype(str)\n",
    "RiboSET_loc['location'] = RiboSET_loc['location'].str.replace('nan;', '').str.replace('nan', '').str.rstrip(';')\n",
    "\n",
    "RiboSET_loc.to_csv('tmp_res/RiboSET_location_HPA.txt', sep='\\t', index=False)\n",
    "\n",
    "RiboSET_loc[0:2]"
   ]
  },
  {
   "cell_type": "code",
   "execution_count": 7,
   "metadata": {},
   "outputs": [
    {
     "data": {
      "text/plain": [
       "(149, 126, 23, 39, 167)"
      ]
     },
     "execution_count": 7,
     "metadata": {},
     "output_type": "execute_result"
    }
   ],
   "source": [
    "nucleoplasm_count = 0\n",
    "cytosol_count = 0\n",
    "Mitochondria_count = 0\n",
    "membrane_count = 0\n",
    "\n",
    "two_more_loc = 0\n",
    "\n",
    "all_locations = set()\n",
    "\n",
    "for i,x in enumerate(RiboSET_loc['location'].tolist()):\n",
    "    \n",
    "    for loc in x.split(';'):\n",
    "        all_locations.add(loc)\n",
    "    \n",
    "    if x.find('Nucleoplasm') != -1:\n",
    "        nucleoplasm_count += 1\n",
    "    if x.find('Cytosol') != -1:\n",
    "        cytosol_count += 1\n",
    "    if x.find('Mitochondria') != -1:\n",
    "        Mitochondria_count += 1\n",
    "    if x.find('Plasma membrane') != -1:\n",
    "        membrane_count += 1\n",
    "        \n",
    "    if len(x.split(';')) >= 2:\n",
    "        two_more_loc += 1\n",
    "        \n",
    "        # search for Mitochondria + smth \n",
    "        #if 'Mitochondria' in x.split(';'):\n",
    "            #print (RiboSET_loc.iloc[i].gene, RiboSET_loc.iloc[i]['Main location'])\n",
    "        \n",
    "        \n",
    "        # search for ER, Golgi apparatus, vesicles + smth \n",
    "        #if 'Vesicles' in x.split(';'):\n",
    "            #print (RiboSET_loc.iloc[i].gene, RiboSET_loc.iloc[i]['Main location'])\n",
    "            \n",
    "        #if 'Golgi apparatus' in x.split(';'):\n",
    "            #print (RiboSET_loc.iloc[i].gene, RiboSET_loc.iloc[i]['Main location'])\n",
    "        \n",
    "        #if 'Endoplasmic reticulum' in x.split(';'):\n",
    "            #print (RiboSET_loc.iloc[i].gene, RiboSET_loc.iloc[i]['Main location'])\n",
    "            \n",
    "        #if 'Plasma membrane' in x.split(';'):\n",
    "            #print (RiboSET_loc.iloc[i].gene, RiboSET_loc.iloc[i]['Main location'])\n",
    "    \n",
    "nucleoplasm_count, cytosol_count, Mitochondria_count, membrane_count, two_more_loc"
   ]
  },
  {
   "cell_type": "code",
   "execution_count": 8,
   "metadata": {},
   "outputs": [],
   "source": [
    "# RiboSET_loc.groupby(by='location').count().sort_values(by='gene', ascending=False)[0:12]"
   ]
  },
  {
   "cell_type": "markdown",
   "metadata": {},
   "source": [
    "## Plot "
   ]
  },
  {
   "cell_type": "code",
   "execution_count": 15,
   "metadata": {},
   "outputs": [
    {
     "data": {
      "text/html": [
       "<div>\n",
       "<style scoped>\n",
       "    .dataframe tbody tr th:only-of-type {\n",
       "        vertical-align: middle;\n",
       "    }\n",
       "\n",
       "    .dataframe tbody tr th {\n",
       "        vertical-align: top;\n",
       "    }\n",
       "\n",
       "    .dataframe thead th {\n",
       "        text-align: right;\n",
       "    }\n",
       "</style>\n",
       "<table border=\"1\" class=\"dataframe\">\n",
       "  <thead>\n",
       "    <tr style=\"text-align: right;\">\n",
       "      <th></th>\n",
       "      <th>gene</th>\n",
       "      <th>Main location</th>\n",
       "      <th>Additional location</th>\n",
       "      <th>Extracellular location</th>\n",
       "    </tr>\n",
       "    <tr>\n",
       "      <th>location</th>\n",
       "      <th></th>\n",
       "      <th></th>\n",
       "      <th></th>\n",
       "      <th></th>\n",
       "    </tr>\n",
       "  </thead>\n",
       "  <tbody>\n",
       "    <tr>\n",
       "      <th>Nucleoplasm</th>\n",
       "      <td>45</td>\n",
       "      <td>45</td>\n",
       "      <td>0</td>\n",
       "      <td>0</td>\n",
       "    </tr>\n",
       "    <tr>\n",
       "      <th>Cytosol</th>\n",
       "      <td>39</td>\n",
       "      <td>39</td>\n",
       "      <td>0</td>\n",
       "      <td>0</td>\n",
       "    </tr>\n",
       "    <tr>\n",
       "      <th>Cytosol;Nucleoplasm</th>\n",
       "      <td>17</td>\n",
       "      <td>17</td>\n",
       "      <td>7</td>\n",
       "      <td>0</td>\n",
       "    </tr>\n",
       "    <tr>\n",
       "      <th>Mitochondria</th>\n",
       "      <td>14</td>\n",
       "      <td>14</td>\n",
       "      <td>0</td>\n",
       "      <td>0</td>\n",
       "    </tr>\n",
       "    <tr>\n",
       "      <th>Vesicles</th>\n",
       "      <td>12</td>\n",
       "      <td>12</td>\n",
       "      <td>0</td>\n",
       "      <td>0</td>\n",
       "    </tr>\n",
       "    <tr>\n",
       "      <th>Endoplasmic reticulum</th>\n",
       "      <td>11</td>\n",
       "      <td>11</td>\n",
       "      <td>0</td>\n",
       "      <td>0</td>\n",
       "    </tr>\n",
       "    <tr>\n",
       "      <th>Cytosol;Plasma membrane</th>\n",
       "      <td>9</td>\n",
       "      <td>9</td>\n",
       "      <td>0</td>\n",
       "      <td>0</td>\n",
       "    </tr>\n",
       "    <tr>\n",
       "      <th>Golgi apparatus</th>\n",
       "      <td>8</td>\n",
       "      <td>8</td>\n",
       "      <td>0</td>\n",
       "      <td>0</td>\n",
       "    </tr>\n",
       "    <tr>\n",
       "      <th>Nucleoplasm;Cytosol</th>\n",
       "      <td>7</td>\n",
       "      <td>7</td>\n",
       "      <td>7</td>\n",
       "      <td>0</td>\n",
       "    </tr>\n",
       "    <tr>\n",
       "      <th>Plasma membrane</th>\n",
       "      <td>6</td>\n",
       "      <td>6</td>\n",
       "      <td>0</td>\n",
       "      <td>0</td>\n",
       "    </tr>\n",
       "  </tbody>\n",
       "</table>\n",
       "</div>"
      ],
      "text/plain": [
       "                         gene  Main location  Additional location  \\\n",
       "location                                                            \n",
       "Nucleoplasm                45             45                    0   \n",
       "Cytosol                    39             39                    0   \n",
       "Cytosol;Nucleoplasm        17             17                    7   \n",
       "Mitochondria               14             14                    0   \n",
       "Vesicles                   12             12                    0   \n",
       "Endoplasmic reticulum      11             11                    0   \n",
       "Cytosol;Plasma membrane     9              9                    0   \n",
       "Golgi apparatus             8              8                    0   \n",
       "Nucleoplasm;Cytosol         7              7                    7   \n",
       "Plasma membrane             6              6                    0   \n",
       "\n",
       "                         Extracellular location  \n",
       "location                                         \n",
       "Nucleoplasm                                   0  \n",
       "Cytosol                                       0  \n",
       "Cytosol;Nucleoplasm                           0  \n",
       "Mitochondria                                  0  \n",
       "Vesicles                                      0  \n",
       "Endoplasmic reticulum                         0  \n",
       "Cytosol;Plasma membrane                       0  \n",
       "Golgi apparatus                               0  \n",
       "Nucleoplasm;Cytosol                           0  \n",
       "Plasma membrane                               0  "
      ]
     },
     "execution_count": 15,
     "metadata": {},
     "output_type": "execute_result"
    }
   ],
   "source": [
    "RiboSET_loc.groupby(by=['location']).count().sort_values(by='gene', ascending=False)[0:10]"
   ]
  },
  {
   "cell_type": "code",
   "execution_count": null,
   "metadata": {},
   "outputs": [],
   "source": []
  },
  {
   "cell_type": "code",
   "execution_count": 23,
   "metadata": {},
   "outputs": [],
   "source": [
    "diff_2_loc = ['Mitochondria;Nucleoplasm', \n",
    "        'Cytosol;Nucleoli',\n",
    "       'Nucleoplasm;Cytosol', \n",
    "        'Cytosol;Nucleoplasm',\n",
    "        #'Centriolar satellite', \n",
    "        'Cytosol;Vesicles', \n",
    "        #'Cell Junctions',\n",
    "        #'Nuclear speckles', \n",
    "       'Nucleoplasm;Midbody ring',\n",
    "       'Cytosol;Nucleoplasm;Plasma membrane',\n",
    "       'Vesicles;Predicted to be secreted', \n",
    "       'Golgi apparatus;Nucleoli',\n",
    "       #'Nucleoplasm;Nuclear bodies', \n",
    "       'Nucleoli;Cytosol',\n",
    "       'Cytosol;Plasma membrane',\n",
    "       'Endoplasmic reticulum;Plasma membrane;Predicted to be secreted',\n",
    "       'Nucleoplasm;Centrosome', \n",
    "       'Nucleoplasm;Golgi apparatus',\n",
    "       #'Nuclear bodies;Nucleoplasm;Centrosome',\n",
    "       'Cytosol;Endoplasmic reticulum',\n",
    "       #'Nucleoli fibrillar center;Nucleoplasm',\n",
    "       'Plasma membrane;Vesicles', \n",
    "       'Endoplasmic reticulum;Nucleoplasm',\n",
    "       'Cytosol;Nucleoli fibrillar center',\n",
    "       'Endoplasmic reticulum;Predicted to be secreted',\n",
    "       #'Nuclear bodies;Nucleoplasm', \n",
    "       'Centrosome;Nucleoplasm;Cytosol',\n",
    "       'Nuclear speckles;Cytoplasmic bodies',\n",
    "       'Cytosol;Vesicles;Predicted to be secreted',\n",
    "       'Golgi apparatus;Cytosol;Nucleoplasm',\n",
    "       #'Nucleoli;Nucleoli rim;Nucleoplasm',\n",
    "       'Cytosol;Nucleoli;Plasma membrane', \n",
    "       #'Actin filaments',\n",
    "       'Cytosol;Focal adhesion sites', \n",
    "       'Vesicles;Golgi apparatus',\n",
    "       'Cell Junctions;Cytosol;Nucleoplasm;Predicted to be secreted',\n",
    "       'Cytosol;Golgi apparatus;Nucleoli;Nucleoplasm',\n",
    "       'Nucleoplasm;Vesicles',\n",
    "       'Cytosol;Plasma membrane;Centrosome;Vesicles',\n",
    "       #'Nuclear speckles;Nucleoli fibrillar center',\n",
    "       'Cytosol;Nuclear bodies',\n",
    "       'Nucleoplasm;Plasma membrane',\n",
    "       #'Nucleoli rim;Nucleoplasm', \n",
    "       'Nuclear speckles;Cytosol',\n",
    "       'Nucleoplasm;Cytosol;Vesicles',\n",
    "       'Plasma membrane;Cytosol;Endoplasmic reticulum;Nucleoplasm',\n",
    "       'Golgi apparatus;Vesicles;Predicted to be secreted',\n",
    "       'Golgi apparatus;Vesicles', \n",
    "       #'Nuclear membrane;Nucleoplasm',\n",
    "       #'Centrosome;Nucleoli;Nucleoplasm',\n",
    "       'Vesicles;Nucleoplasm',\n",
    "       'Cell Junctions;Cytosol', \n",
    "       'Cytosol;Predicted to be secreted',\n",
    "       'Nucleoli;Mitochondria;Nucleoplasm',\n",
    "       'Nucleoplasm;Cytosol;Intermediate filaments',\n",
    "       'Golgi apparatus;Nucleoplasm;Cell Junctions',\n",
    "       'Plasma membrane;Nucleoplasm;Predicted to be secreted',\n",
    "       #'Microtubules', \n",
    "       'Nucleoplasm;Cytosol;Nuclear bodies',\n",
    "       'Nucleoplasm;Cytosol;Plasma membrane',\n",
    "       'Nucleoplasm;Cell Junctions;Cytosol', \n",
    "       'Lipid droplets;Nucleoplasm',\n",
    "       #'Peroxisomes',\n",
    "       'Golgi apparatus;Plasma membrane;Actin filaments',\n",
    "       'Golgi apparatus;Cytosol;Vesicles',\n",
    "       'Nucleoplasm;Centrosome;Cytosol',  \n",
    "       'Cytosol;Nuclear membrane',\n",
    "       'Nucleoplasm;Golgi apparatus;Vesicles', \n",
    "       #'Nuclear bodies',\n",
    "       #'Nucleoplasm;Nucleoli fibrillar center',\n",
    "       'Focal adhesion sites;Plasma membrane',\n",
    "       #'Nucleoli;Nucleoplasm;Nuclear membrane',\n",
    "       'Cytokinetic bridge;Microtubules;Midbody;Plasma membrane;Nucleoplasm',\n",
    "       'Nucleoplasm;Cytokinetic bridge;Cytosol', \n",
    "       #'Nucleoli',\n",
    "       'Mitochondria;Nucleoli;Nucleoplasm;Predicted to be secreted',\n",
    "       'Vesicles;Nucleoli;Nucleoplasm',\n",
    "       'Endoplasmic reticulum;Golgi apparatus',\n",
    "       #'Nuclear bodies;Centriolar satellite',\n",
    "       'Nucleoplasm;Centrosome;Microtubules', \n",
    "       #'Nucleoli;Nucleoplasm',\n",
    "       'Cytosol;Nucleoli rim;Nucleoplasm',\n",
    "       'Cytosol;Vesicles;Centriolar satellite;Mitotic spindle',\n",
    "       'Plasma membrane;Mitochondria',\n",
    "       'Nucleoplasm;Plasma membrane;Midbody ring',\n",
    "       'Cytosol;Nuclear bodies;Nucleoplasm',\n",
    "       'Cytosol;Plasma membrane;Focal adhesion sites',\n",
    "       'Cytosol;Nucleoplasm;Cytokinetic bridge;Mitotic spindle',\n",
    "       'Endoplasmic reticulum;Nucleoli', \n",
    "       'Lysosomes;Vesicles',\n",
    "       'Midbody;Nucleoplasm', \n",
    "       'Nuclear membrane;Nucleoplasm;Cytosol',\n",
    "       'Nuclear speckles;Nucleoplasm;Cytosol', \n",
    "       'Nucleoplasm;Midbody',\n",
    "       'Golgi apparatus;Cytosol;Predicted to be secreted',\n",
    "       'Mitochondria;Nucleoli', \n",
    "       'Cytosol;Plasma membrane;Nucleoplasm',\n",
    "       'Cytosol;Golgi apparatus;Plasma membrane',\n",
    "       'Cytosol;Endoplasmic reticulum;Nucleoli',\n",
    "       'Nucleoplasm;Cytosol;Nuclear bodies;Nucleoli',\n",
    "       'Nucleoplasm;Cell Junctions', \n",
    "       'Cytosol;Cytokinetic bridge',\n",
    "       'Cytosol;Nuclear membrane;Nucleoplasm',\n",
    "       'Endoplasmic reticulum;Lipid droplets']"
   ]
  },
  {
   "cell_type": "code",
   "execution_count": 29,
   "metadata": {},
   "outputs": [
    {
     "data": {
      "text/plain": [
       "15"
      ]
     },
     "execution_count": 29,
     "metadata": {},
     "output_type": "execute_result"
    }
   ],
   "source": [
    "#RiboSET_loc[~RiboSET_loc['location'].isin(['Nucleoplasm', 'Cytosol', \n",
    "#               'Mitochondria', 'Vesicles', 'Endoplasmic reticulum', 'Golgi apparatus',\n",
    "#          'Plasma membrane'])].location.unique()\n",
    "\n",
    "\n",
    "RiboSET_loc[RiboSET_loc['location'].isin(diff_2_loc)].gene.nunique(), #182-146\n",
    "\n",
    "182-167"
   ]
  },
  {
   "cell_type": "code",
   "execution_count": 42,
   "metadata": {},
   "outputs": [
    {
     "data": {
      "image/png": "[encoded data removed]",
      "text/plain": [
       "<Figure size 576x288 with 1 Axes>"
      ]
     },
     "metadata": {},
     "output_type": "display_data"
    }
   ],
   "source": [
    "fig, ax = plt.subplots(figsize=(8, 4), subplot_kw=dict(aspect=\"equal\"))\n",
    "\n",
    "\n",
    "group_names = ['>=2 locations', 'Other', 'Nucleoplasm', 'Cytosol', \n",
    "               'Mitochondria', 'Vesicles', 'Endoplasmic reticulum', 'Golgi apparatus',\n",
    "          'Plasma membrane'] \n",
    "\n",
    "counts = pd.Series([167, 15, 45, 39, 14, 13, 11, 8, 6], \n",
    "                   index=['>=2 locations', 'Other', 'Nucleoplasm', 'Cytosol', 'Mitochondria', \n",
    "                          'Vesicles', 'Endoplasmic reticulum', 'Golgi apparatus',\n",
    "          'Plasma membrane'])\n",
    "\n",
    "explode = (0, 0.11, 0.1, 0.1, 0.1, 0.2, 0.3, 0.4, 0.6)\n",
    "colors = ['lightsteelblue', 'lightgreen', 'lightcoral', 'plum', 'lightblue', 'lightsalmon', 'moccasin', 'lavender', \n",
    "          'khaki' ]\n",
    "\n",
    "counts.plot(kind='pie', fontsize=18, colors=colors, \n",
    "            explode=explode, labels=group_names, autopct='%1.0f%%', ax=ax)\n",
    "plt.axis('equal')\n",
    "plt.ylabel('')\n",
    "\n",
    "plt.show()  \n"
   ]
  },
  {
   "cell_type": "code",
   "execution_count": null,
   "metadata": {},
   "outputs": [],
   "source": []
  },
  {
   "cell_type": "code",
   "execution_count": null,
   "metadata": {},
   "outputs": [],
   "source": []
  },
  {
   "cell_type": "code",
   "execution_count": null,
   "metadata": {},
   "outputs": [],
   "source": []
  },
  {
   "cell_type": "code",
   "execution_count": null,
   "metadata": {},
   "outputs": [],
   "source": []
  },
  {
   "cell_type": "code",
   "execution_count": null,
   "metadata": {},
   "outputs": [],
   "source": []
  },
  {
   "cell_type": "code",
   "execution_count": null,
   "metadata": {},
   "outputs": [],
   "source": []
  },
  {
   "cell_type": "markdown",
   "metadata": {},
   "source": [
    "# PhyloSET & HPA localisation "
   ]
  },
  {
   "cell_type": "code",
   "execution_count": 43,
   "metadata": {},
   "outputs": [
    {
     "name": "stdout",
     "output_type": "stream",
     "text": [
      "40\n"
     ]
    },
    {
     "data": {
      "text/html": [
       "<div>\n",
       "<style scoped>\n",
       "    .dataframe tbody tr th:only-of-type {\n",
       "        vertical-align: middle;\n",
       "    }\n",
       "\n",
       "    .dataframe tbody tr th {\n",
       "        vertical-align: top;\n",
       "    }\n",
       "\n",
       "    .dataframe thead th {\n",
       "        text-align: right;\n",
       "    }\n",
       "</style>\n",
       "<table border=\"1\" class=\"dataframe\">\n",
       "  <thead>\n",
       "    <tr style=\"text-align: right;\">\n",
       "      <th></th>\n",
       "      <th>gene</th>\n",
       "      <th>Main location</th>\n",
       "      <th>Additional location</th>\n",
       "      <th>Extracellular location</th>\n",
       "      <th>location</th>\n",
       "    </tr>\n",
       "  </thead>\n",
       "  <tbody>\n",
       "    <tr>\n",
       "      <th>0</th>\n",
       "      <td>HES3</td>\n",
       "      <td>Nucleoplasm</td>\n",
       "      <td>NaN</td>\n",
       "      <td>NaN</td>\n",
       "      <td>Nucleoplasm</td>\n",
       "    </tr>\n",
       "    <tr>\n",
       "      <th>1</th>\n",
       "      <td>IFFO2</td>\n",
       "      <td>Nucleoplasm;Plasma membrane</td>\n",
       "      <td>NaN</td>\n",
       "      <td>NaN</td>\n",
       "      <td>Nucleoplasm;Plasma membrane</td>\n",
       "    </tr>\n",
       "  </tbody>\n",
       "</table>\n",
       "</div>"
      ],
      "text/plain": [
       "    gene                Main location Additional location  \\\n",
       "0   HES3                  Nucleoplasm                 NaN   \n",
       "1  IFFO2  Nucleoplasm;Plasma membrane                 NaN   \n",
       "\n",
       "  Extracellular location                     location  \n",
       "0                    NaN                  Nucleoplasm  \n",
       "1                    NaN  Nucleoplasm;Plasma membrane  "
      ]
     },
     "execution_count": 43,
     "metadata": {},
     "output_type": "execute_result"
    }
   ],
   "source": [
    "PhyloSET_loc = PhyloSET[['gene']].merge(sel_loc, on='gene', how='inner')\n",
    "print (PhyloSET_loc.gene.nunique())\n",
    "\n",
    "PhyloSET_loc['location'] = PhyloSET_loc['Main location']+';'+PhyloSET_loc['Additional location'].astype(str)+';'+PhyloSET_loc['Extracellular location'].astype(str)\n",
    "PhyloSET_loc['location'] = PhyloSET_loc['location'].str.replace('nan;', '').str.replace('nan', '').str.rstrip(';')\n",
    "\n",
    "PhyloSET_loc.to_csv('tmp_res/Phylo_location_HPA.txt', sep='\\t', index=False)\n",
    "\n",
    "PhyloSET_loc[0:2]"
   ]
  },
  {
   "cell_type": "code",
   "execution_count": 44,
   "metadata": {},
   "outputs": [
    {
     "data": {
      "text/plain": [
       "(26, 14, 2, 8, 20)"
      ]
     },
     "execution_count": 44,
     "metadata": {},
     "output_type": "execute_result"
    }
   ],
   "source": [
    "nucleoplasm_count = []\n",
    "cytosol_count = []\n",
    "Mitochondria_count = []\n",
    "membrane_count = []\n",
    "\n",
    "two_more_loc = []\n",
    "\n",
    "all_locations = set()\n",
    "\n",
    "for i,x in enumerate(PhyloSET_loc['location'].tolist()):\n",
    "    \n",
    "    for loc in x.split(';'):\n",
    "        all_locations.add(loc)\n",
    "    \n",
    "    if x.find('Nucleoplasm') != -1:\n",
    "        nucleoplasm_count.append(PhyloSET_loc.iloc[i].gene)\n",
    "    if x.find('Cytosol') != -1:\n",
    "        cytosol_count.append(PhyloSET_loc.iloc[i].gene)\n",
    "    if x.find('Mitochondria') != -1:\n",
    "        Mitochondria_count.append(PhyloSET_loc.iloc[i].gene)\n",
    "    if x.find('Plasma membrane') != -1:\n",
    "        membrane_count.append(PhyloSET_loc.iloc[i].gene)\n",
    "        \n",
    "    if len(x.split(';')) >= 2:\n",
    "        two_more_loc.append(PhyloSET_loc.iloc[i].gene)\n",
    "        \n",
    "        # search for Mitochondria + smth \n",
    "        #if 'Mitochondria' in x.split(';'):\n",
    "            #print (RiboSET_loc.iloc[i].gene, RiboSET_loc.iloc[i]['Main location'])\n",
    "        \n",
    "        \n",
    "        # search for ER, Golgi apparatus, vesicles + smth \n",
    "        #if 'Vesicles' in x.split(';'):\n",
    "            #print (RiboSET_loc.iloc[i].gene, RiboSET_loc.iloc[i]['Main location'])\n",
    "            \n",
    "        #if 'Golgi apparatus' in x.split(';'):\n",
    "            #print (RiboSET_loc.iloc[i].gene, RiboSET_loc.iloc[i]['Main location'])\n",
    "        \n",
    "        #if 'Endoplasmic reticulum' in x.split(';'):\n",
    "            #print (RiboSET_loc.iloc[i].gene, RiboSET_loc.iloc[i]['Main location'])\n",
    "            \n",
    "        #if 'Plasma membrane' in x.split(';'):\n",
    "            #print (RiboSET_loc.iloc[i].gene, RiboSET_loc.iloc[i]['Main location'])\n",
    "    \n",
    "len(set(nucleoplasm_count)), len(set(cytosol_count)), len(set(Mitochondria_count)), len(set(membrane_count)), len(set(two_more_loc))"
   ]
  },
  {
   "cell_type": "code",
   "execution_count": null,
   "metadata": {},
   "outputs": [],
   "source": []
  },
  {
   "cell_type": "code",
   "execution_count": null,
   "metadata": {},
   "outputs": [],
   "source": []
  },
  {
   "cell_type": "markdown",
   "metadata": {},
   "source": [
    "### plot "
   ]
  },
  {
   "cell_type": "code",
   "execution_count": 45,
   "metadata": {},
   "outputs": [
    {
     "data": {
      "text/plain": [
       "22"
      ]
     },
     "execution_count": 45,
     "metadata": {},
     "output_type": "execute_result"
    }
   ],
   "source": [
    "PhyloSET_loc = PhyloSET_loc.drop_duplicates()\n",
    "\n",
    "# PhyloSET_loc.groupby(by='location').count().sort_values(by='gene', ascending=False)[0:12]\n",
    "\n",
    "PhyloSET_loc.groupby(by='location').count().gene.sum()-11-5-2"
   ]
  },
  {
   "cell_type": "code",
   "execution_count": 47,
   "metadata": {},
   "outputs": [
    {
     "data": {
      "image/png": "[encoded data removed]",
      "text/plain": [
       "<Figure size 576x288 with 1 Axes>"
      ]
     },
     "metadata": {},
     "output_type": "display_data"
    }
   ],
   "source": [
    "fig, ax = plt.subplots(figsize=(8, 4), subplot_kw=dict(aspect=\"equal\"))\n",
    "\n",
    "\n",
    "group_names = ['>=2 locations', 'Other', 'Nucleoplasm', 'Cytosol',  '\\n\\nVesicles', 'Plasma\\nmembrane'] \n",
    "\n",
    "counts = pd.Series([20, 2, 11, 5, 1, 1], \n",
    "                   index=['>=2 locations', 'Other', 'Nucleoplasm', 'Cytosol',  'Vesicles', 'Plasma membrane'])\n",
    "\n",
    "explode = (0, 0.11, 0.1, 0.1, 0.2, 0.3)\n",
    "colors = ['lightsteelblue', 'lightgreen', 'lightcoral', 'plum', 'lightblue', 'khaki']\n",
    "\n",
    "counts.plot(kind='pie', fontsize=18, colors=colors, \n",
    "            explode=explode, labels=group_names, autopct='%1.0f%%', ax=ax)\n",
    "plt.axis('equal')\n",
    "plt.ylabel('')\n",
    "\n",
    "plt.show()  "
   ]
  },
  {
   "cell_type": "code",
   "execution_count": null,
   "metadata": {},
   "outputs": [],
   "source": []
  },
  {
   "cell_type": "code",
   "execution_count": null,
   "metadata": {},
   "outputs": [],
   "source": []
  },
  {
   "cell_type": "code",
   "execution_count": null,
   "metadata": {},
   "outputs": [],
   "source": []
  },
  {
   "cell_type": "markdown",
   "metadata": {},
   "source": [
    "# SignalP data "
   ]
  },
  {
   "cell_type": "markdown",
   "metadata": {},
   "source": [
    "### RiboSET: get .fasta file and df with ext lenght and sequence "
   ]
  },
  {
   "cell_type": "code",
   "execution_count": 481,
   "metadata": {},
   "outputs": [],
   "source": [
    "riboset_fasta = open('data/tmhmm_and_phobius_data/riboset.fasta', 'w')\n",
    "\n",
    "li = []\n",
    "\n",
    "for row in RiboSET[['tr_id', 'gene', 'N_term_start1', 'N_term_end1', 'start_codon_local_coo_start']].to_numpy():\n",
    "    tr_id  = row[0]\n",
    "    gene = row[1]\n",
    "    N_term_start = row[2]\n",
    "    N_term_stop = row[3]\n",
    "    N_term_start_pred = row[-1] - 1\n",
    "    tr_seq = metadata_pc_g25[metadata_pc_g25['tr_id'] == tr_id].iloc[0].transcript_seq \n",
    "    cds_stop = metadata_pc_g25[metadata_pc_g25['tr_id'] == tr_id].iloc[0].cds_stop_pos\n",
    "    cds_start = metadata_pc_g25[metadata_pc_g25['tr_id'] == tr_id].iloc[0].cds_start_pos\n",
    "    \n",
    "    nte_seq_nt1 = tr_seq[N_term_start:cds_stop]\n",
    "    nte_seq_nt2 = tr_seq[N_term_start_pred:cds_stop]\n",
    "    \n",
    "    nte_seq_aa1 = str(Seq(nte_seq_nt1).translate())\n",
    "    nte_seq_aa2 = 'M'+str(Seq(nte_seq_nt2).translate())[1:]\n",
    "    \n",
    "    # position of CDS in NTE_aa: \n",
    "    # 5'    N_term_start_pred    cds_start_pos\n",
    "    # \n",
    "    cds_start_aa_in_ext2 = (cds_start - N_term_start_pred) // 3\n",
    "    \n",
    "    li.append([tr_id, gene, nte_seq_aa1, nte_seq_aa2, cds_start_aa_in_ext2, \n",
    "              cds_start_aa_in_ext2])\n",
    "    \n",
    "    riboset_fasta.write('>'+tr_id+'_'+gene+'\\n')\n",
    "    riboset_fasta.write(nte_seq_aa2[:-1]+'\\n')\n",
    "  \n",
    "riboset_fasta.close()\n",
    "        \n",
    "NTE_aa_df_ribo = pd.DataFrame(li, columns = ['tr_id', 'gene', 'nte_seq_aa1', 'nte_seq_aa2',\n",
    "                                       'cds_start_aa_in_ext2', 'ext_len'])\n"
   ]
  },
  {
   "cell_type": "code",
   "execution_count": 482,
   "metadata": {},
   "outputs": [
    {
     "data": {
      "text/html": [
       "<div>\n",
       "<style scoped>\n",
       "    .dataframe tbody tr th:only-of-type {\n",
       "        vertical-align: middle;\n",
       "    }\n",
       "\n",
       "    .dataframe tbody tr th {\n",
       "        vertical-align: top;\n",
       "    }\n",
       "\n",
       "    .dataframe thead th {\n",
       "        text-align: right;\n",
       "    }\n",
       "</style>\n",
       "<table border=\"1\" class=\"dataframe\">\n",
       "  <thead>\n",
       "    <tr style=\"text-align: right;\">\n",
       "      <th></th>\n",
       "      <th>tr_id</th>\n",
       "      <th>gene</th>\n",
       "      <th>nte_seq_aa1</th>\n",
       "      <th>nte_seq_aa2</th>\n",
       "      <th>cds_start_aa_in_ext2</th>\n",
       "      <th>ext_len</th>\n",
       "    </tr>\n",
       "  </thead>\n",
       "  <tbody>\n",
       "    <tr>\n",
       "      <th>0</th>\n",
       "      <td>ENST00000379389.4</td>\n",
       "      <td>ISG15</td>\n",
       "      <td>AGSAARPLTCVPQAYNRAGAACRSRRLRGSELIFASTGACAVAHSP...</td>\n",
       "      <td>MFASTGACAVAHSPQPTAMGWDLTVKMLAGNEFQVSLSSSMSVSEL...</td>\n",
       "      <td>18</td>\n",
       "      <td>18</td>\n",
       "    </tr>\n",
       "    <tr>\n",
       "      <th>1</th>\n",
       "      <td>ENST00000349431.10</td>\n",
       "      <td>UBE2J2</td>\n",
       "      <td>AGSAPRAAILEAEAAAAALRRVRWAQSRGGAAVSGAGPAFPHPAPA...</td>\n",
       "      <td>MASLSAAAAHAQRQGEMSSTSSKRAPTTATQRLKQDYLRIKKDPVP...</td>\n",
       "      <td>16</td>\n",
       "      <td>16</td>\n",
       "    </tr>\n",
       "  </tbody>\n",
       "</table>\n",
       "</div>"
      ],
      "text/plain": [
       "                tr_id    gene  \\\n",
       "0   ENST00000379389.4   ISG15   \n",
       "1  ENST00000349431.10  UBE2J2   \n",
       "\n",
       "                                         nte_seq_aa1  \\\n",
       "0  AGSAARPLTCVPQAYNRAGAACRSRRLRGSELIFASTGACAVAHSP...   \n",
       "1  AGSAPRAAILEAEAAAAALRRVRWAQSRGGAAVSGAGPAFPHPAPA...   \n",
       "\n",
       "                                         nte_seq_aa2  cds_start_aa_in_ext2  \\\n",
       "0  MFASTGACAVAHSPQPTAMGWDLTVKMLAGNEFQVSLSSSMSVSEL...                    18   \n",
       "1  MASLSAAAAHAQRQGEMSSTSSKRAPTTATQRLKQDYLRIKKDPVP...                    16   \n",
       "\n",
       "   ext_len  \n",
       "0       18  \n",
       "1       16  "
      ]
     },
     "execution_count": 482,
     "metadata": {},
     "output_type": "execute_result"
    }
   ],
   "source": [
    "NTE_aa_df_ribo[0:2]"
   ]
  },
  {
   "cell_type": "markdown",
   "metadata": {},
   "source": [
    "### parse SignalP output"
   ]
  },
  {
   "cell_type": "code",
   "execution_count": 484,
   "metadata": {},
   "outputs": [
    {
     "name": "stdout",
     "output_type": "stream",
     "text": [
      "# of genes with pred signalP from RiboSET\n"
     ]
    },
    {
     "data": {
      "text/plain": [
       "28"
      ]
     },
     "execution_count": 484,
     "metadata": {},
     "output_type": "execute_result"
    }
   ],
   "source": [
    "signalP_df_r = pd.read_csv('data/SignalP_RiboSET_output_protein_type.txt', sep='\\t', comment='#', header=None)\n",
    "signalP_df_r.columns = ['id', 'class', 'SP_score', 'Other_score', 'SP_seq']\n",
    "signalP_df_r['tr_id'] = [x.split('_')[0] for x in signalP_df_r['id'].tolist()]\n",
    "signalP_df_r['gene'] = [x.split('_')[-1] for x in signalP_df_r['id'].tolist()]\n",
    "\n",
    "# exclude AUGs \n",
    "signalP_df_r = signalP_df_r[~signalP_df_r['gene'].isin(['STIM2', 'AP3S1', 'PTPRJ'])]\n",
    "\n",
    "print ('# of genes with pred signalP from RiboSET')\n",
    "signalP_df_r[(signalP_df_r['class'] != 'OTHER') & (signalP_df_r['SP_seq'] != 'CS pos: ?. Probable protein fragment')].gene.nunique()"
   ]
  },
  {
   "cell_type": "markdown",
   "metadata": {},
   "source": [
    "### SignalP + HPA "
   ]
  },
  {
   "cell_type": "code",
   "execution_count": 485,
   "metadata": {},
   "outputs": [
    {
     "name": "stdout",
     "output_type": "stream",
     "text": [
      "# of genes with pred signalP and with localisation from RiboSET\n"
     ]
    },
    {
     "data": {
      "text/plain": [
       "22"
      ]
     },
     "execution_count": 485,
     "metadata": {},
     "output_type": "execute_result"
    }
   ],
   "source": [
    "signalP_and_loc_riboset = RiboSET_loc[['gene', 'Main location']].drop_duplicates().merge(signalP_df_r, on='gene', how='inner')\n",
    "\n",
    "print ('# of genes with pred signalP and with localisation from RiboSET')\n",
    "signalP_and_loc_riboset[(signalP_and_loc_riboset['class'] != 'OTHER') & (signalP_and_loc_riboset['SP_seq'] != 'CS pos: ?. Probable protein fragment')].shape[0]"
   ]
  },
  {
   "cell_type": "code",
   "execution_count": 486,
   "metadata": {},
   "outputs": [
    {
     "name": "stdout",
     "output_type": "stream",
     "text": [
      "# of genes with GA, PM, ER, vesicles location and signalP pred from RiboSET: 16\n"
     ]
    }
   ],
   "source": [
    "count = 0\n",
    "\n",
    "for row in signalP_and_loc_riboset[(signalP_and_loc_riboset['class'] != 'OTHER') & (signalP_and_loc_riboset['SP_seq'] != 'CS pos: ?. Probable protein fragment')].to_numpy():\n",
    "    loc = row[1]\n",
    "    tr_id = row[0]\n",
    "    \n",
    "    if (loc.find('Golgi apparatus') != -1) | (loc.find('Plasma membrane') != -1) | (loc.find('Endoplasmic reticulum') != -1) | (loc.find('Vesicles') != -1):\n",
    "        #print (tr_id, loc)\n",
    "        count += 1\n",
    "\n",
    "print ('# of genes with GA, PM, ER, vesicles location and signalP pred from RiboSET:', count)"
   ]
  },
  {
   "cell_type": "code",
   "execution_count": null,
   "metadata": {},
   "outputs": [],
   "source": []
  },
  {
   "cell_type": "markdown",
   "metadata": {},
   "source": [
    "### Check whether position of SP is in extension "
   ]
  },
  {
   "cell_type": "code",
   "execution_count": 487,
   "metadata": {},
   "outputs": [
    {
     "name": "stdout",
     "output_type": "stream",
     "text": [
      "22\n"
     ]
    },
    {
     "name": "stderr",
     "output_type": "stream",
     "text": [
      "/home/alla/.local/lib/python3.7/site-packages/ipykernel_launcher.py:3: SettingWithCopyWarning: \n",
      "A value is trying to be set on a copy of a slice from a DataFrame.\n",
      "Try using .loc[row_indexer,col_indexer] = value instead\n",
      "\n",
      "See the caveats in the documentation: https://pandas.pydata.org/pandas-docs/stable/user_guide/indexing.html#returning-a-view-versus-a-copy\n",
      "  This is separate from the ipykernel package so we can avoid doing imports until\n"
     ]
    }
   ],
   "source": [
    "tmp = signalP_and_loc_riboset[(signalP_and_loc_riboset['class'] != 'OTHER') & \n",
    "                              (signalP_and_loc_riboset['SP_seq'] != 'CS pos: ?. Probable protein fragment')]\n",
    "tmp['SP_end_pos'] = [int(x.split('CS pos: ')[1].split('-')[0]) for x in tmp['SP_seq'].tolist()]\n",
    "\n",
    "tmp = tmp.merge(NTE_aa_df_ribo, on=['tr_id', 'gene'], how='inner')\n",
    "\n",
    "print (tmp.shape[0]) #21\n",
    "\n",
    "tmp['SP_start_pos'] = tmp['SP_end_pos'] - 16\n"
   ]
  },
  {
   "cell_type": "code",
   "execution_count": null,
   "metadata": {},
   "outputs": [],
   "source": []
  },
  {
   "cell_type": "markdown",
   "metadata": {},
   "source": [
    "#### CS before CDS start"
   ]
  },
  {
   "cell_type": "code",
   "execution_count": 474,
   "metadata": {},
   "outputs": [
    {
     "data": {
      "text/plain": [
       "['RAE1']"
      ]
     },
     "execution_count": 474,
     "metadata": {},
     "output_type": "execute_result"
    }
   ],
   "source": [
    "tmp[tmp['cds_start_aa_in_ext2'] >= tmp['SP_end_pos']].gene.tolist()"
   ]
  },
  {
   "cell_type": "code",
   "execution_count": null,
   "metadata": {},
   "outputs": [],
   "source": []
  },
  {
   "cell_type": "markdown",
   "metadata": {},
   "source": [
    "#### genes with CS-16 position before CDS "
   ]
  },
  {
   "cell_type": "code",
   "execution_count": 475,
   "metadata": {},
   "outputs": [
    {
     "data": {
      "text/plain": [
       "['STMN1', 'DPH5', 'ZNF622', 'SUPT4H1', 'RAE1']"
      ]
     },
     "execution_count": 475,
     "metadata": {},
     "output_type": "execute_result"
    }
   ],
   "source": [
    "tmp[tmp['cds_start_aa_in_ext2'] >= tmp['SP_start_pos']]['gene'].tolist()"
   ]
  },
  {
   "cell_type": "code",
   "execution_count": null,
   "metadata": {},
   "outputs": [],
   "source": []
  },
  {
   "cell_type": "markdown",
   "metadata": {},
   "source": [
    "# All RiboSET genes vs SignalP (even if no HPA data)"
   ]
  },
  {
   "cell_type": "code",
   "execution_count": 488,
   "metadata": {},
   "outputs": [
    {
     "name": "stdout",
     "output_type": "stream",
     "text": [
      "29\n"
     ]
    },
    {
     "name": "stderr",
     "output_type": "stream",
     "text": [
      "/home/alla/.local/lib/python3.7/site-packages/ipykernel_launcher.py:3: SettingWithCopyWarning: \n",
      "A value is trying to be set on a copy of a slice from a DataFrame.\n",
      "Try using .loc[row_indexer,col_indexer] = value instead\n",
      "\n",
      "See the caveats in the documentation: https://pandas.pydata.org/pandas-docs/stable/user_guide/indexing.html#returning-a-view-versus-a-copy\n",
      "  This is separate from the ipykernel package so we can avoid doing imports until\n"
     ]
    }
   ],
   "source": [
    "tmp2 = signalP_df_r[(signalP_df_r['class'] != 'OTHER') & (signalP_df_r['SP_seq'] != 'CS pos: ?. Probable protein fragment')]\n",
    "\n",
    "tmp2['SP_end_pos'] = [int(x.split('CS pos: ')[1].split('-')[0]) for x in tmp2['SP_seq'].tolist()]\n",
    "\n",
    "tmp3 = tmp2.merge(NTE_aa_df_ribo, on=['tr_id', 'gene'], how='inner')\n",
    "\n",
    "tmp3['SP_start_pos'] = tmp3['SP_end_pos'] - 16\n",
    "\n",
    "print (tmp3.shape[0])"
   ]
  },
  {
   "cell_type": "code",
   "execution_count": 489,
   "metadata": {},
   "outputs": [
    {
     "data": {
      "text/plain": [
       "['RAE1']"
      ]
     },
     "execution_count": 489,
     "metadata": {},
     "output_type": "execute_result"
    }
   ],
   "source": [
    "tmp3[tmp3['cds_start_aa_in_ext2'] >= tmp3['SP_end_pos']].merge(RiboSET_loc, on=['gene'], how='left').gene.tolist()"
   ]
  },
  {
   "cell_type": "code",
   "execution_count": 490,
   "metadata": {},
   "outputs": [
    {
     "data": {
      "text/plain": [
       "['STMN1', 'DPH5', 'ADAM15', 'ZNF622', 'SUPT4H1', 'RAE1']"
      ]
     },
     "execution_count": 490,
     "metadata": {},
     "output_type": "execute_result"
    }
   ],
   "source": [
    "# ADAM15:  has signal P pred but unknown localistion in Human Protein Atlas \n",
    "\n",
    "tmp3[tmp3['cds_start_aa_in_ext2'] >= tmp3['SP_start_pos']].merge(RiboSET_loc, on=['gene'], how='left').gene.tolist()"
   ]
  },
  {
   "cell_type": "code",
   "execution_count": null,
   "metadata": {},
   "outputs": [],
   "source": []
  },
  {
   "cell_type": "markdown",
   "metadata": {},
   "source": [
    "# PhyloSET genes: signalP on theoretical extension "
   ]
  },
  {
   "cell_type": "code",
   "execution_count": 491,
   "metadata": {},
   "outputs": [],
   "source": [
    "li = []\n",
    "\n",
    "f = open('data/tmhmm_and_phobius_data/phyloset.fasta', 'w')\n",
    "\n",
    "for row in PhyloSET[['tr_id', 'gene', 'N_term_start1', 'N_term_end1']].to_numpy():\n",
    "    tr_id  = row[0]\n",
    "    gene = row[1]\n",
    "    N_term_start = row[2]\n",
    "    N_term_stop = row[3]\n",
    "    tr_seq = metadata_pc_g25[metadata_pc_g25['tr_id'] == tr_id].iloc[0].transcript_seq \n",
    "    cds_stop = metadata_pc_g25[metadata_pc_g25['tr_id'] == tr_id].iloc[0].cds_stop_pos\n",
    "    cds_start = metadata_pc_g25[metadata_pc_g25['tr_id'] == tr_id].iloc[0].cds_start_pos\n",
    "    \n",
    "    nte_seq_nt1 = tr_seq[N_term_start:cds_stop]\n",
    "    \n",
    "    nte_seq_aa1 = str(Seq(nte_seq_nt1).translate())\n",
    "    \n",
    "    # position of CDS in NTE_aa: \n",
    "    # 5'    N_term_start_pred    cds_start_pos\n",
    "    # \n",
    "    cds_start_aa_in_ext2 = (cds_start - N_term_start) // 3\n",
    "    \n",
    "    li.append([tr_id, gene, nte_seq_aa1, cds_start_aa_in_ext2])\n",
    "    \n",
    "    f.write('>'+tr_id+'_'+gene+'\\n')\n",
    "    f.write(nte_seq_aa1[:-1]+'\\n')\n",
    "    \n",
    "NTE_aa_df = pd.DataFrame(li, columns = ['tr_id', 'gene', 'nte_seq_aa1', \n",
    "                                       'cds_start_aa_in_ext2'])\n",
    "\n",
    "f.close()"
   ]
  },
  {
   "cell_type": "markdown",
   "metadata": {},
   "source": [
    "### signalP output "
   ]
  },
  {
   "cell_type": "code",
   "execution_count": 492,
   "metadata": {},
   "outputs": [],
   "source": [
    "signalP_df = pd.read_csv('data/SignalP_PCSF.txt', sep='\\t', comment='#', header=None)\n",
    "signalP_df.columns = ['id', 'class', 'SP_score', 'Other_score', 'SP_seq']\n",
    "signalP_df['tr_id'] = [x.split('_')[0] for x in signalP_df['id'].tolist()]\n",
    "signalP_df['gene'] = [x.split('_')[-1] for x in signalP_df['id'].tolist()]"
   ]
  },
  {
   "cell_type": "code",
   "execution_count": 493,
   "metadata": {},
   "outputs": [
    {
     "name": "stdout",
     "output_type": "stream",
     "text": [
      "# of genes with pred signalP from PhyloSET\n"
     ]
    },
    {
     "data": {
      "text/plain": [
       "0"
      ]
     },
     "execution_count": 493,
     "metadata": {},
     "output_type": "execute_result"
    }
   ],
   "source": [
    "print ('# of genes with pred signalP from PhyloSET')\n",
    "signalP_df[(signalP_df['class'] != 'OTHER') & \n",
    "           (signalP_df['SP_seq'] != 'CS pos: ?. Probable protein fragment')].shape[0]"
   ]
  },
  {
   "cell_type": "code",
   "execution_count": null,
   "metadata": {},
   "outputs": [],
   "source": []
  },
  {
   "cell_type": "code",
   "execution_count": null,
   "metadata": {},
   "outputs": [],
   "source": []
  },
  {
   "cell_type": "markdown",
   "metadata": {},
   "source": [
    "# TargetP: mitochondrial presequence, RIBOSET"
   ]
  },
  {
   "cell_type": "code",
   "execution_count": 42,
   "metadata": {},
   "outputs": [
    {
     "name": "stdout",
     "output_type": "stream",
     "text": [
      "genes from RiboSET with mito signal: \n",
      "16\n"
     ]
    }
   ],
   "source": [
    "targetP_riboset = pd.read_csv('data/TargetP_RiboSET.txt', sep='\\t', comment='#', header=None)\n",
    "targetP_riboset.columns = ['ids', 'class', 'score_other', 'score_sp', 'score_m', 'seq_m']\n",
    "\n",
    "targetP_riboset['tr_id'] = [x.split('_')[0] for x in targetP_riboset['ids'].tolist()]\n",
    "targetP_riboset['gene'] = [x.split('_')[-1] for x in targetP_riboset['ids'].tolist()]\n",
    "\n",
    "targetP_riboset = targetP_riboset[~targetP_riboset['gene'].isin(['STIM2', 'AP3S1', 'PTPRJ'])]\n",
    "\n",
    "print ('genes from RiboSET with mito signal: ')\n",
    "\n",
    "print (targetP_riboset[(targetP_riboset['seq_m'].notna()) & (targetP_riboset['class'] == 'mTP')].gene.nunique())"
   ]
  },
  {
   "cell_type": "code",
   "execution_count": 44,
   "metadata": {},
   "outputs": [
    {
     "name": "stdout",
     "output_type": "stream",
     "text": [
      "how many of them have mitochondiral location? only 2 actually hmm\n"
     ]
    },
    {
     "data": {
      "text/plain": [
       "['TRMT10C', 'MRPS7']"
      ]
     },
     "execution_count": 44,
     "metadata": {},
     "output_type": "execute_result"
    }
   ],
   "source": [
    "print ('how many of them have mitochondiral location? only 2 actually hmm')\n",
    "\n",
    "tmp = RiboSET_loc.merge(targetP_riboset[(targetP_riboset['seq_m'].notna()) & \n",
    "                                  (targetP_riboset['class'] == 'mTP')], on='gene', how='inner')\n",
    "\n",
    "tmp[tmp['Main location'].str.contains('Mitochondria')].gene.tolist()"
   ]
  },
  {
   "cell_type": "code",
   "execution_count": null,
   "metadata": {},
   "outputs": [],
   "source": []
  },
  {
   "cell_type": "markdown",
   "metadata": {},
   "source": [
    "### check if CS < cds "
   ]
  },
  {
   "cell_type": "code",
   "execution_count": 47,
   "metadata": {},
   "outputs": [
    {
     "name": "stdout",
     "output_type": "stream",
     "text": [
      "16\n"
     ]
    }
   ],
   "source": [
    "tmp = targetP_riboset[(targetP_riboset['seq_m'].notna()) & \n",
    "                      (targetP_riboset['class'] == 'mTP')].merge(NTE_aa_df_ribo, on=['gene', 'tr_id'], how='inner')\n",
    "\n",
    "print (tmp.shape[0])\n",
    "\n",
    "tmp['CS_pos'] = [int(x.split('CS pos:')[1].split('-')[0]) for x in tmp['seq_m'].tolist()]\n",
    "tmp['m_start'] = tmp['CS_pos']-20"
   ]
  },
  {
   "cell_type": "code",
   "execution_count": 48,
   "metadata": {},
   "outputs": [
    {
     "data": {
      "text/plain": [
       "['GNAI1', 'RFK', 'CDK2', 'HSPH1', 'GNA13']"
      ]
     },
     "execution_count": 48,
     "metadata": {},
     "output_type": "execute_result"
    }
   ],
   "source": [
    "tmp[tmp['cds_start_aa_in_ext2'] >= tmp['CS_pos']][['ids', 'gene', 'seq_m', 'cds_start_aa_in_ext2', 'CS_pos']].merge(RiboSET_loc, on='gene', how='left').gene.tolist()"
   ]
  },
  {
   "cell_type": "markdown",
   "metadata": {},
   "source": [
    "### check if CS-n < cds "
   ]
  },
  {
   "cell_type": "code",
   "execution_count": 49,
   "metadata": {},
   "outputs": [
    {
     "data": {
      "text/plain": [
       "['GCLM',\n",
       " 'ACTL6A',\n",
       " 'NSUN2',\n",
       " 'COX7C',\n",
       " 'GNAI1',\n",
       " 'RFK',\n",
       " 'TNKS2',\n",
       " 'CDK2',\n",
       " 'HSPH1',\n",
       " 'GNA13',\n",
       " 'ADRM1']"
      ]
     },
     "execution_count": 49,
     "metadata": {},
     "output_type": "execute_result"
    }
   ],
   "source": [
    "tmp[tmp['cds_start_aa_in_ext2'] >= tmp['m_start']][['ids', 'gene', 'seq_m', 'cds_start_aa_in_ext2', 'CS_pos']].merge(RiboSET_loc, on='gene', how='left').gene.tolist()"
   ]
  },
  {
   "cell_type": "code",
   "execution_count": null,
   "metadata": {},
   "outputs": [],
   "source": []
  },
  {
   "cell_type": "code",
   "execution_count": null,
   "metadata": {},
   "outputs": [],
   "source": []
  },
  {
   "cell_type": "markdown",
   "metadata": {},
   "source": [
    "# PhyloSET TargetP"
   ]
  },
  {
   "cell_type": "code",
   "execution_count": 50,
   "metadata": {},
   "outputs": [
    {
     "name": "stdout",
     "output_type": "stream",
     "text": [
      "genes from RiboSET with mito signal: \n",
      "0\n"
     ]
    }
   ],
   "source": [
    "targetP_phyloset = pd.read_csv('data/TargetP_PhyloSET.txt', sep='\\t', comment='#', header=None)\n",
    "targetP_phyloset.columns = ['ids', 'class', 'score_other', 'score_sp', 'score_m', 'seq_m']\n",
    "\n",
    "targetP_phyloset['tr_id'] = [x.split('_')[0] for x in targetP_phyloset['ids'].tolist()]\n",
    "targetP_phyloset['gene'] = [x.split('_')[-1] for x in targetP_phyloset['ids'].tolist()]\n",
    "\n",
    "print ('genes from RiboSET with mito signal: ')\n",
    "\n",
    "print (targetP_phyloset[(targetP_phyloset['seq_m'].notna()) & (targetP_phyloset['class'] == 'mTP')].gene.nunique())"
   ]
  },
  {
   "cell_type": "code",
   "execution_count": null,
   "metadata": {},
   "outputs": [],
   "source": []
  },
  {
   "cell_type": "code",
   "execution_count": null,
   "metadata": {},
   "outputs": [],
   "source": []
  },
  {
   "cell_type": "markdown",
   "metadata": {},
   "source": [
    "# TMHMM: RiboSET"
   ]
  },
  {
   "cell_type": "markdown",
   "metadata": {},
   "source": [
    "cat ../../riboset.fasta | ./decodeanhmm.Linux_x86_64 -f ../lib/TMHMM2.0.options -modelfile ../lib/TMHMM2.0.model > riboset.result"
   ]
  },
  {
   "cell_type": "code",
   "execution_count": 306,
   "metadata": {},
   "outputs": [
    {
     "name": "stdout",
     "output_type": "stream",
     "text": [
      "# gene with at least one TM helix located anywhere:  83\n"
     ]
    }
   ],
   "source": [
    "my_file = open(\"/home/alla/make_PhD_great_again/NTE/VERSION_since_May2021/data/tmhmm_and_phobius_data/tmhmm-2.0c/bin/riboset.result\", \"r\")\n",
    "content = my_file.read()\n",
    "\n",
    "li = content.split('>')\n",
    "\n",
    "parse = []\n",
    "\n",
    "for tr in [x.split('\\n%') for x in li[1:]]:\n",
    "    tr_id = tr[0].split('_')[0]\n",
    "    gene = tr[0].split('_')[-1]\n",
    "    \n",
    "    #print (tr_id)\n",
    "    length = int(tr[1].split('len ')[1])\n",
    "    \n",
    "    #pred = tr[7].split('\\n')[0].split('pred NM(0): ')[1]\n",
    "    \n",
    "    prediction_seq = ''\n",
    "    real_seq = ''\n",
    "\n",
    "    for el in list(filter(None, tr[-1].split('\\n')))[1:]:\n",
    "        if el.startswith('?0'):\n",
    "            prediction_seq += el.split('?0 ')[1]\n",
    "        else:\n",
    "            real_seq += el.strip(' ')\n",
    "            \n",
    "    real_len = len(real_seq)\n",
    "    pred_len = len(prediction_seq)\n",
    "    \n",
    "    any_m = False\n",
    "    pos_of_1st_m = False\n",
    "    \n",
    "    if ('M' in list(prediction_seq)):\n",
    "        any_m = True \n",
    "        pos_of_1st_m = prediction_seq.find('M')\n",
    "    if ('m' in list(prediction_seq)):\n",
    "        any_m = True \n",
    "        pos_of_1st_m = prediction_seq.find('m')\n",
    "            \n",
    "            \n",
    "    parse.append([tr_id, gene, length, real_seq, prediction_seq, \n",
    "                  real_len, pred_len, any_m, pos_of_1st_m])\n",
    "    \n",
    "    \n",
    "parse_df_r = pd.DataFrame(parse, columns = ['tr_id', 'gene', 'length', 'real_seq', 'prediction_seq',\n",
    "                              'real_len', 'pred_len', 'any_m', 'pos_of_1st_m'])\n",
    "\n",
    "\n",
    "parse_df_r[(parse_df_r['any_m'] == True) & \n",
    "         (~parse_df_r['gene'].isin(['PTPRJ', 'STIM2', 'AP3S1']))].to_csv('tmp_res/TMHMM_RiboSET_83genes_with_TM_regions.txt', sep='\\t', index=False)\n",
    "\n",
    "print ('# gene with at least one TM helix located anywhere: ', parse_df_r[(parse_df_r['any_m'] == True) & \n",
    "                                                                        (~parse_df_r['gene'].isin(['PTPRJ', 'STIM2', 'AP3S1']))].gene.nunique())"
   ]
  },
  {
   "cell_type": "code",
   "execution_count": null,
   "metadata": {},
   "outputs": [],
   "source": []
  },
  {
   "cell_type": "markdown",
   "metadata": {},
   "source": [
    "### select genes where TM start is predicted before CDS "
   ]
  },
  {
   "cell_type": "code",
   "execution_count": 314,
   "metadata": {},
   "outputs": [
    {
     "data": {
      "text/plain": [
       "array(['PDIA6', 'TRMT10C', 'SOX2', 'LY6K', 'CD59', 'TIMP3', 'KDELR3',\n",
       "       'CD99'], dtype=object)"
      ]
     },
     "execution_count": 314,
     "metadata": {},
     "output_type": "execute_result"
    }
   ],
   "source": [
    "TMHMM_riboset_preds = NTE_aa_df_ribo[['tr_id', 'gene', 'ext_len']].merge(parse_df_r[parse_df_r['any_m'] == True], on=['gene'], how='inner').drop_duplicates()\n",
    "\n",
    "TMHMM_riboset_preds[TMHMM_riboset_preds['pos_of_1st_m'] < TMHMM_riboset_preds['ext_len']].gene.unique()"
   ]
  },
  {
   "cell_type": "code",
   "execution_count": null,
   "metadata": {},
   "outputs": [],
   "source": []
  },
  {
   "cell_type": "markdown",
   "metadata": {},
   "source": [
    "### any genes with SP??"
   ]
  },
  {
   "cell_type": "code",
   "execution_count": 315,
   "metadata": {},
   "outputs": [],
   "source": [
    "signalP_riboset = ['STMN1', 'DPH5', 'ADAM15', 'ZNF622', 'SUPT4H1', 'RAE1']\n",
    "\n",
    "# not really "
   ]
  },
  {
   "cell_type": "code",
   "execution_count": null,
   "metadata": {},
   "outputs": [],
   "source": []
  },
  {
   "cell_type": "code",
   "execution_count": null,
   "metadata": {},
   "outputs": [],
   "source": []
  },
  {
   "cell_type": "markdown",
   "metadata": {},
   "source": [
    "### plot them"
   ]
  },
  {
   "cell_type": "code",
   "execution_count": 316,
   "metadata": {},
   "outputs": [],
   "source": [
    "import itertools\n",
    "\n",
    "coordinates = {}\n",
    "\n",
    "for row in TMHMM_riboset_preds[TMHMM_riboset_preds['pos_of_1st_m'] < TMHMM_riboset_preds['ext_len']][['gene', 'prediction_seq']].to_numpy():\n",
    "    gene = row[0]\n",
    "    seq = row[1]\n",
    "    \n",
    "    coordinates[gene] = []\n",
    "    \n",
    "    \n",
    "    i = 0\n",
    "    \n",
    "    for elem in [\"\".join(grp) for num, grp in itertools.groupby(seq)]:\n",
    "        block = []\n",
    "        block.append(elem[0])\n",
    "        block.append(i)\n",
    "        i = i+len(elem)\n",
    "        block.append(i)\n",
    "        \n",
    "        coordinates[gene].append(block) "
   ]
  },
  {
   "cell_type": "code",
   "execution_count": 317,
   "metadata": {},
   "outputs": [
    {
     "data": {
      "text/plain": [
       "{'PDIA6': [['i', 0, 8], ['M', 8, 31], ['O', 31, 450]],\n",
       " 'TRMT10C': [['i', 0, 6], ['M', 6, 29], ['O', 29, 421]],\n",
       " 'SOX2': [['i', 0, 16], ['M', 16, 36], ['O', 36, 402]],\n",
       " 'LY6K': [['o', 0, 50],\n",
       "  ['M', 50, 73],\n",
       "  ['i', 73, 201],\n",
       "  ['M', 201, 221],\n",
       "  ['o', 221, 222]],\n",
       " 'CD59': [['o', 0, 14], ['M', 14, 37], ['i', 37, 144]],\n",
       " 'TIMP3': [['i', 0, 6], ['M', 6, 29], ['O', 29, 226]],\n",
       " 'KDELR3': [['o', 0, 33],\n",
       "  ['M', 33, 56],\n",
       "  ['i', 56, 90],\n",
       "  ['M', 90, 113],\n",
       "  ['o', 113, 127],\n",
       "  ['M', 127, 143],\n",
       "  ['i', 143, 149],\n",
       "  ['M', 149, 172],\n",
       "  ['o', 172, 181],\n",
       "  ['M', 181, 201],\n",
       "  ['i', 201, 213],\n",
       "  ['M', 213, 235],\n",
       "  ['o', 235, 249]],\n",
       " 'CD99': [['i', 0, 12],\n",
       "  ['M', 12, 35],\n",
       "  ['o', 35, 138],\n",
       "  ['M', 138, 161],\n",
       "  ['i', 161, 198]]}"
      ]
     },
     "execution_count": 317,
     "metadata": {},
     "output_type": "execute_result"
    }
   ],
   "source": [
    "coordinates"
   ]
  },
  {
   "cell_type": "code",
   "execution_count": 318,
   "metadata": {},
   "outputs": [],
   "source": [
    "from matplotlib.collections import PatchCollection\n",
    "from matplotlib.patches import Rectangle\n",
    "import matplotlib.patches as mpatches"
   ]
  },
  {
   "cell_type": "code",
   "execution_count": 319,
   "metadata": {},
   "outputs": [
    {
     "data": {
      "text/plain": [
       "<matplotlib.legend.Legend at 0x7fc03c2fee10>"
      ]
     },
     "execution_count": 319,
     "metadata": {},
     "output_type": "execute_result"
    },
    {
     "data": {
      "image/png": "[encoded data removed]",
      "text/plain": [
       "<Figure size 468x525.6 with 1 Axes>"
      ]
     },
     "metadata": {
      "needs_background": "light"
     },
     "output_type": "display_data"
    }
   ],
   "source": [
    "fig, ax = plt.subplots(1, figsize=(6.5, 7.3))\n",
    "\n",
    "ax.set_ylim(0, 8)\n",
    "ax.set_yticks(np.arange(0.5, 8, 0.5))\n",
    "\n",
    "l = [[x, ''] * 1 for x in list(coordinates.keys())]\n",
    "flat_l = [item for sublist in l for item in sublist]\n",
    "ax.set_yticklabels(flat_l,  fontsize=18)\n",
    "    \n",
    "#ax.set_yticklabels(list(coordinates.keys()))\n",
    "\n",
    "ax.set_xlim(0, 460)\n",
    "ax.set_xticks(np.arange(0, 460, 50))\n",
    "ax.set_xticklabels(np.arange(0, 460, 50), fontsize=17)\n",
    "\n",
    "for i, blocks in enumerate(coordinates.items()):\n",
    "    gene = blocks[0]\n",
    "    coo = blocks[1]\n",
    "    \n",
    "    for feat in coo:\n",
    "        x1 = feat[1]\n",
    "        x2 = feat[2]-feat[1]\n",
    "        feat_type = feat[0]\n",
    "        y1 = i + 0.4\n",
    "        y2 = 0.4\n",
    "        \n",
    "        if (feat_type == 'M') | (feat_type == 'm'):\n",
    "            ax.add_patch(Rectangle((x1, y1), x2, y2, ec='black', facecolor = 'goldenrod'))\n",
    "        elif (feat_type == 'o') | (feat_type == 'O'):\n",
    "            ax.add_patch(Rectangle((x1, y1), x2, y2, ec='black', facecolor = 'rosybrown'))\n",
    "        elif feat_type == 'i':\n",
    "            ax.add_patch(Rectangle((x1, y1), x2, y2, ec='black', facecolor = 'cornflowerblue'))\n",
    "        else:\n",
    "            continue\n",
    "         \n",
    "        cds_pos = NTE_aa_df_ribo[NTE_aa_df_ribo['gene'] == gene].iloc[0].ext_len\n",
    "        plt.text(x=cds_pos, y=y1+0.30, s='*', color='red', size=18)\n",
    "        \n",
    "\n",
    "# legend \n",
    "\n",
    "plt.rcParams[\"legend.fontsize\"] = 18\n",
    "M = mpatches.Patch(color='goldenrod', label='M')\n",
    "I = mpatches.Patch(color='cornflowerblue', label='I')\n",
    "O = mpatches.Patch(color='rosybrown', label='O')\n",
    "\n",
    "plt.legend(handles=[M, I, O])"
   ]
  },
  {
   "cell_type": "code",
   "execution_count": null,
   "metadata": {},
   "outputs": [],
   "source": []
  },
  {
   "cell_type": "code",
   "execution_count": null,
   "metadata": {},
   "outputs": [],
   "source": []
  },
  {
   "cell_type": "code",
   "execution_count": null,
   "metadata": {},
   "outputs": [],
   "source": []
  },
  {
   "cell_type": "code",
   "execution_count": null,
   "metadata": {},
   "outputs": [],
   "source": []
  },
  {
   "cell_type": "code",
   "execution_count": null,
   "metadata": {},
   "outputs": [],
   "source": []
  },
  {
   "cell_type": "code",
   "execution_count": null,
   "metadata": {},
   "outputs": [],
   "source": []
  },
  {
   "cell_type": "markdown",
   "metadata": {},
   "source": [
    "# TMHMM: PhyloSET"
   ]
  },
  {
   "cell_type": "code",
   "execution_count": 320,
   "metadata": {},
   "outputs": [
    {
     "ename": "FileNotFoundError",
     "evalue": "[Errno 2] No such file or directory: '/home/alla/make_PhD_great_again/NTE/VERSION_since_May2021/data/tmhmm_data/tmhmm-2.0c/bin/phyloset.result'",
     "output_type": "error",
     "traceback": [
      "\u001b[0;31m---------------------------------------------------------------------------\u001b[0m",
      "\u001b[0;31mFileNotFoundError\u001b[0m                         Traceback (most recent call last)",
      "\u001b[0;32m<ipython-input-320-6d9feb2ca6ae>\u001b[0m in \u001b[0;36m<module>\u001b[0;34m\u001b[0m\n\u001b[0;32m----> 1\u001b[0;31m \u001b[0mmy_file\u001b[0m \u001b[0;34m=\u001b[0m \u001b[0mopen\u001b[0m\u001b[0;34m(\u001b[0m\u001b[0;34m\"/home/alla/make_PhD_great_again/NTE/VERSION_since_May2021/data/tmhmm_data/tmhmm-2.0c/bin/phyloset.result\"\u001b[0m\u001b[0;34m,\u001b[0m \u001b[0;34m\"r\"\u001b[0m\u001b[0;34m)\u001b[0m\u001b[0;34m\u001b[0m\u001b[0;34m\u001b[0m\u001b[0m\n\u001b[0m\u001b[1;32m      2\u001b[0m \u001b[0mcontent\u001b[0m \u001b[0;34m=\u001b[0m \u001b[0mmy_file\u001b[0m\u001b[0;34m.\u001b[0m\u001b[0mread\u001b[0m\u001b[0;34m(\u001b[0m\u001b[0;34m)\u001b[0m\u001b[0;34m\u001b[0m\u001b[0;34m\u001b[0m\u001b[0m\n\u001b[1;32m      3\u001b[0m \u001b[0;34m\u001b[0m\u001b[0m\n\u001b[1;32m      4\u001b[0m \u001b[0mli\u001b[0m \u001b[0;34m=\u001b[0m \u001b[0mcontent\u001b[0m\u001b[0;34m.\u001b[0m\u001b[0msplit\u001b[0m\u001b[0;34m(\u001b[0m\u001b[0;34m'>'\u001b[0m\u001b[0;34m)\u001b[0m\u001b[0;34m\u001b[0m\u001b[0;34m\u001b[0m\u001b[0m\n\u001b[1;32m      5\u001b[0m \u001b[0;34m\u001b[0m\u001b[0m\n",
      "\u001b[0;31mFileNotFoundError\u001b[0m: [Errno 2] No such file or directory: '/home/alla/make_PhD_great_again/NTE/VERSION_since_May2021/data/tmhmm_data/tmhmm-2.0c/bin/phyloset.result'"
     ]
    }
   ],
   "source": [
    "my_file = open(\"/home/alla/make_PhD_great_again/NTE/VERSION_since_May2021/data/tmhmm_data/tmhmm-2.0c/bin/phyloset.result\", \"r\")\n",
    "content = my_file.read()\n",
    "\n",
    "li = content.split('>')\n",
    "\n",
    "parse = []\n",
    "\n",
    "for tr in [x.split('\\n%') for x in li[1:]]:\n",
    "    tr_id = tr[0].split('_')[0]\n",
    "    gene = tr[0].split('_')[-1]\n",
    "    \n",
    "    #print (tr_id)\n",
    "    length = int(tr[1].split('len ')[1])\n",
    "    \n",
    "    #pred = tr[7].split('\\n')[0].split('pred NM(0): ')[1]\n",
    "    \n",
    "    prediction_seq = ''\n",
    "    real_seq = ''\n",
    "\n",
    "    for el in list(filter(None, tr[-1].split('\\n')))[1:]:\n",
    "        if el.startswith('?0'):\n",
    "            prediction_seq += el.split('?0 ')[1]\n",
    "        else:\n",
    "            real_seq += el.strip(' ')\n",
    "            \n",
    "    real_len = len(real_seq)\n",
    "    pred_len = len(prediction_seq)\n",
    "    \n",
    "    any_m = False\n",
    "    pos_of_1st_m = False\n",
    "    \n",
    "    if ('M' in list(prediction_seq)):\n",
    "        any_m = True \n",
    "        pos_of_1st_m = prediction_seq.find('M')\n",
    "    if ('m' in list(prediction_seq)):\n",
    "        any_m = True \n",
    "        pos_of_1st_m = prediction_seq.find('m')\n",
    "            \n",
    "            \n",
    "    parse.append([tr_id, gene, length, real_seq, prediction_seq, \n",
    "                  real_len, pred_len, any_m, pos_of_1st_m])\n",
    "    \n",
    "    \n",
    "parse_df = pd.DataFrame(parse, columns = ['tr_id', 'gene', 'length', 'real_seq', 'prediction_seq',\n",
    "                              'real_len', 'pred_len', 'any_m', 'pos_of_1st_m'])\n",
    "\n",
    "\n",
    "\n",
    "print (parse_df[(parse_df['any_m'] == True)].gene.nunique())"
   ]
  },
  {
   "cell_type": "code",
   "execution_count": 144,
   "metadata": {},
   "outputs": [],
   "source": [
    "parse_df[(parse_df['any_m'] == True)].to_csv('tmp_res/TMHMM_PhyloSET_Xgenes_with_TM_regions.txt', sep='\\t', index=False)\n",
    "\n"
   ]
  },
  {
   "cell_type": "code",
   "execution_count": 143,
   "metadata": {},
   "outputs": [
    {
     "name": "stdout",
     "output_type": "stream",
     "text": [
      "# gene with at least one TM helix located anywhere:  12\n"
     ]
    }
   ],
   "source": [
    "print ('# gene with at least one TM helix located anywhere: ', parse_df[(parse_df['any_m'] == True)].gene.nunique())"
   ]
  },
  {
   "cell_type": "code",
   "execution_count": 146,
   "metadata": {},
   "outputs": [
    {
     "data": {
      "text/plain": [
       "array(['C1QL2', 'C1QL3', 'SULT1A1', 'AC007906.1'], dtype=object)"
      ]
     },
     "execution_count": 146,
     "metadata": {},
     "output_type": "execute_result"
    }
   ],
   "source": [
    "TMHMM_phyloset_preds = NTE_aa_df[['tr_id', 'gene', 'cds_start_aa_in_ext2']].merge(parse_df[parse_df['any_m'] == True], on=['gene'], how='inner').drop_duplicates()\n",
    "\n",
    "TMHMM_phyloset_preds[TMHMM_phyloset_preds['pos_of_1st_m'] < TMHMM_phyloset_preds['cds_start_aa_in_ext2']].gene.unique()"
   ]
  },
  {
   "cell_type": "code",
   "execution_count": 173,
   "metadata": {},
   "outputs": [
    {
     "data": {
      "text/html": [
       "<div>\n",
       "<style scoped>\n",
       "    .dataframe tbody tr th:only-of-type {\n",
       "        vertical-align: middle;\n",
       "    }\n",
       "\n",
       "    .dataframe tbody tr th {\n",
       "        vertical-align: top;\n",
       "    }\n",
       "\n",
       "    .dataframe thead th {\n",
       "        text-align: right;\n",
       "    }\n",
       "</style>\n",
       "<table border=\"1\" class=\"dataframe\">\n",
       "  <thead>\n",
       "    <tr style=\"text-align: right;\">\n",
       "      <th></th>\n",
       "      <th>tr_id_x</th>\n",
       "      <th>gene</th>\n",
       "      <th>prediction_seq</th>\n",
       "      <th>pos_of_1st_m</th>\n",
       "      <th>cds_start_aa_in_ext2</th>\n",
       "    </tr>\n",
       "  </thead>\n",
       "  <tbody>\n",
       "    <tr>\n",
       "      <th>2</th>\n",
       "      <td>ENST00000272520.3</td>\n",
       "      <td>C1QL2</td>\n",
       "      <td>iiiiiiiiiiiiiiiiiiiiiiiiiiiiiiiiiiiiiiiiiiiiii...</td>\n",
       "      <td>55</td>\n",
       "      <td>65</td>\n",
       "    </tr>\n",
       "    <tr>\n",
       "      <th>17</th>\n",
       "      <td>ENST00000619991.1</td>\n",
       "      <td>C1QL3</td>\n",
       "      <td>iiiiiiiiiiiiiiiiMMMMMMMMMMMMMMMMMMMMMMMOOOOOOO...</td>\n",
       "      <td>16</td>\n",
       "      <td>26</td>\n",
       "    </tr>\n",
       "    <tr>\n",
       "      <th>18</th>\n",
       "      <td>ENST00000350842.8</td>\n",
       "      <td>SULT1A1</td>\n",
       "      <td>iiiiiiiiMMMMMMMMMMMMMMMMMMMMOOOOOOOOOOOOOOOOOO...</td>\n",
       "      <td>8</td>\n",
       "      <td>39</td>\n",
       "    </tr>\n",
       "    <tr>\n",
       "      <th>19</th>\n",
       "      <td>ENST00000624244.1</td>\n",
       "      <td>AC007906.1</td>\n",
       "      <td>oooooooooooooooooooMMMMMMMMMMMMMMMMMMMMMMMiiMM...</td>\n",
       "      <td>19</td>\n",
       "      <td>30</td>\n",
       "    </tr>\n",
       "  </tbody>\n",
       "</table>\n",
       "</div>"
      ],
      "text/plain": [
       "              tr_id_x        gene  \\\n",
       "2   ENST00000272520.3       C1QL2   \n",
       "17  ENST00000619991.1       C1QL3   \n",
       "18  ENST00000350842.8     SULT1A1   \n",
       "19  ENST00000624244.1  AC007906.1   \n",
       "\n",
       "                                       prediction_seq pos_of_1st_m  \\\n",
       "2   iiiiiiiiiiiiiiiiiiiiiiiiiiiiiiiiiiiiiiiiiiiiii...           55   \n",
       "17  iiiiiiiiiiiiiiiiMMMMMMMMMMMMMMMMMMMMMMMOOOOOOO...           16   \n",
       "18  iiiiiiiiMMMMMMMMMMMMMMMMMMMMOOOOOOOOOOOOOOOOOO...            8   \n",
       "19  oooooooooooooooooooMMMMMMMMMMMMMMMMMMMMMMMiiMM...           19   \n",
       "\n",
       "    cds_start_aa_in_ext2  \n",
       "2                     65  \n",
       "17                    26  \n",
       "18                    39  \n",
       "19                    30  "
      ]
     },
     "execution_count": 173,
     "metadata": {},
     "output_type": "execute_result"
    }
   ],
   "source": [
    "# select only 4 transcripts \n",
    "tmp = TMHMM_phyloset_preds[(TMHMM_phyloset_preds['pos_of_1st_m'] < TMHMM_phyloset_preds['cds_start_aa_in_ext2']) & \n",
    "                    TMHMM_phyloset_preds['tr_id_x'].isin(['ENST00000272520.3', 'ENST00000619991.1', \n",
    "                                                          'ENST00000350842.8', 'ENST00000624244.1'])][['tr_id_x', 'gene', 'prediction_seq', \n",
    "                                                                                                       'pos_of_1st_m', 'cds_start_aa_in_ext2']]\n",
    "\n",
    "tmp"
   ]
  },
  {
   "cell_type": "code",
   "execution_count": 164,
   "metadata": {},
   "outputs": [
    {
     "data": {
      "text/plain": [
       "{'C1QL2': [['i', 0, 55], ['M', 55, 78], ['O', 78, 352]],\n",
       " 'C1QL3': [['i', 0, 16], ['M', 16, 39], ['O', 39, 239]],\n",
       " 'SULT1A1': [['i', 0, 8], ['M', 8, 28], ['O', 28, 256]],\n",
       " 'AC007906.1': [['o', 0, 19],\n",
       "  ['M', 19, 42],\n",
       "  ['i', 42, 44],\n",
       "  ['M', 44, 67],\n",
       "  ['o', 67, 98],\n",
       "  ['M', 98, 118],\n",
       "  ['i', 118, 220]]}"
      ]
     },
     "execution_count": 164,
     "metadata": {},
     "output_type": "execute_result"
    }
   ],
   "source": [
    "import itertools\n",
    "\n",
    "coordinates = {}\n",
    "\n",
    "for row in tmp.to_numpy():\n",
    "    gene = row[1]\n",
    "    seq = row[2]\n",
    "    tr_id = row[0]\n",
    "    \n",
    "    coordinates[gene] = []\n",
    "    \n",
    "    \n",
    "    i = 0\n",
    "    \n",
    "    for elem in [\"\".join(grp) for num, grp in itertools.groupby(seq)]:\n",
    "        block = []\n",
    "        block.append(elem[0])\n",
    "        block.append(i)\n",
    "        i = i+len(elem)\n",
    "        block.append(i)\n",
    "        coordinates[gene].append(block) \n",
    "        \n",
    "coordinates"
   ]
  },
  {
   "cell_type": "code",
   "execution_count": 182,
   "metadata": {},
   "outputs": [
    {
     "name": "stdout",
     "output_type": "stream",
     "text": [
      "C1QL2 65\n",
      "C1QL2 65\n",
      "C1QL2 65\n",
      "C1QL3 26\n",
      "C1QL3 26\n",
      "C1QL3 26\n",
      "SULT1A1 39\n",
      "SULT1A1 39\n",
      "SULT1A1 39\n",
      "AC007906.1 30\n",
      "AC007906.1 30\n",
      "AC007906.1 30\n",
      "AC007906.1 30\n",
      "AC007906.1 30\n",
      "AC007906.1 30\n",
      "AC007906.1 30\n"
     ]
    },
    {
     "data": {
      "text/plain": [
       "<matplotlib.legend.Legend at 0x7fc042051f28>"
      ]
     },
     "execution_count": 182,
     "metadata": {},
     "output_type": "execute_result"
    },
    {
     "data": {
      "image/png": "[encoded data removed]",
      "text/plain": [
       "<Figure size 468x288 with 1 Axes>"
      ]
     },
     "metadata": {
      "needs_background": "light"
     },
     "output_type": "display_data"
    }
   ],
   "source": [
    "fig, ax = plt.subplots(1, figsize=(6.5, 4))\n",
    "\n",
    "ax.set_ylim(0, 4)\n",
    "ax.set_yticks(np.arange(0.5, 4, 0.5))\n",
    "\n",
    "l = [[x, ''] * 1 for x in list(coordinates.keys())]\n",
    "flat_l = [item for sublist in l for item in sublist]\n",
    "ax.set_yticklabels(flat_l,  fontsize=18)\n",
    "    \n",
    "#ax.set_yticklabels(list(coordinates.keys()))\n",
    "\n",
    "ax.set_xlim(0, 460)\n",
    "ax.set_xticks(np.arange(0, 460, 50))\n",
    "ax.set_xticklabels(np.arange(0, 460, 50), fontsize=17)\n",
    "\n",
    "for i, blocks in enumerate(coordinates.items()):\n",
    "    gene = blocks[0]\n",
    "    coo = blocks[1]\n",
    "    tr_id = tmp[tmp['gene'] == gene].iloc[0].tr_id_x\n",
    "    \n",
    "    for feat in coo:\n",
    "        x1 = feat[1]\n",
    "        x2 = feat[2]-feat[1]\n",
    "        feat_type = feat[0]\n",
    "        y1 = i + 0.4\n",
    "        y2 = 0.4\n",
    "        \n",
    "        if (feat_type == 'M') | (feat_type == 'm'):\n",
    "            ax.add_patch(Rectangle((x1, y1), x2, y2, ec='black', facecolor = 'goldenrod'))\n",
    "        elif (feat_type == 'o') | (feat_type == 'O'):\n",
    "            ax.add_patch(Rectangle((x1, y1), x2, y2, ec='black', facecolor = 'rosybrown'))\n",
    "        elif feat_type == 'i':\n",
    "            ax.add_patch(Rectangle((x1, y1), x2, y2, ec='black', facecolor = 'cornflowerblue'))\n",
    "        else:\n",
    "            continue\n",
    "         \n",
    "        cds_pos = NTE_aa_df[NTE_aa_df['tr_id'] == tr_id].iloc[0].cds_start_aa_in_ext2\n",
    "        plt.text(x=cds_pos, y=y1+0.30, s='*', color='red', size=18)\n",
    "        print (gene, cds_pos)\n",
    "\n",
    "# legend \n",
    "\n",
    "plt.rcParams[\"legend.fontsize\"] = 18\n",
    "M = mpatches.Patch(color='goldenrod', label='M')\n",
    "I = mpatches.Patch(color='cornflowerblue', label='I')\n",
    "O = mpatches.Patch(color='rosybrown', label='O')\n",
    "\n",
    "plt.legend(handles=[M, I, O])"
   ]
  },
  {
   "cell_type": "code",
   "execution_count": null,
   "metadata": {},
   "outputs": [],
   "source": []
  },
  {
   "cell_type": "code",
   "execution_count": null,
   "metadata": {},
   "outputs": [],
   "source": []
  },
  {
   "cell_type": "code",
   "execution_count": null,
   "metadata": {},
   "outputs": [],
   "source": []
  },
  {
   "cell_type": "markdown",
   "metadata": {},
   "source": [
    "### Combine them into 1 plot? phyloset and riboset "
   ]
  },
  {
   "cell_type": "code",
   "execution_count": 426,
   "metadata": {},
   "outputs": [
    {
     "data": {
      "text/plain": [
       "{'C1QL2_65': [['i', 0, 55], ['M', 55, 78], ['O', 78, 352]],\n",
       " 'C1QL3_26': [['i', 0, 16], ['M', 16, 39], ['O', 39, 239]],\n",
       " 'SULT1A1_39': [['i', 0, 8], ['M', 8, 28], ['O', 28, 256]],\n",
       " 'AC007906.1_30': [['o', 0, 19],\n",
       "  ['M', 19, 42],\n",
       "  ['i', 42, 44],\n",
       "  ['M', 44, 67],\n",
       "  ['o', 67, 98],\n",
       "  ['M', 98, 118],\n",
       "  ['i', 118, 220]],\n",
       " 'PDIA6_10': [['i', 0, 8], ['M', 8, 31], ['O', 31, 450]],\n",
       " 'TRMT10C_18': [['i', 0, 6], ['M', 6, 29], ['O', 29, 421]],\n",
       " 'SOX2_85': [['i', 0, 16], ['M', 16, 36], ['O', 36, 402]],\n",
       " 'LY6K_57': [['o', 0, 50],\n",
       "  ['M', 50, 73],\n",
       "  ['i', 73, 201],\n",
       "  ['M', 201, 221],\n",
       "  ['o', 221, 222]],\n",
       " 'CD59_16': [['o', 0, 14], ['M', 14, 37], ['i', 37, 144]],\n",
       " 'TIMP3_15': [['i', 0, 6], ['M', 6, 29], ['O', 29, 226]],\n",
       " 'KDELR3_35': [['o', 0, 33],\n",
       "  ['M', 33, 56],\n",
       "  ['i', 56, 90],\n",
       "  ['M', 90, 113],\n",
       "  ['o', 113, 127],\n",
       "  ['M', 127, 143],\n",
       "  ['i', 143, 149],\n",
       "  ['M', 149, 172],\n",
       "  ['o', 172, 181],\n",
       "  ['M', 181, 201],\n",
       "  ['i', 201, 213],\n",
       "  ['M', 213, 235],\n",
       "  ['o', 235, 249]],\n",
       " 'CD99_13': [['i', 0, 12],\n",
       "  ['M', 12, 35],\n",
       "  ['o', 35, 138],\n",
       "  ['M', 138, 161],\n",
       "  ['i', 161, 198]]}"
      ]
     },
     "execution_count": 426,
     "metadata": {},
     "output_type": "execute_result"
    }
   ],
   "source": [
    "# add coo from PhyloSET\n",
    "\n",
    "coordinates = {}\n",
    "\n",
    "for row in tmp.to_numpy():\n",
    "    gene = row[1]\n",
    "    seq = row[2]\n",
    "    tr_id = row[0]\n",
    "    \n",
    "    cds_pos = NTE_aa_df[NTE_aa_df['tr_id'] == tr_id].iloc[0].cds_start_aa_in_ext2\n",
    "    \n",
    "    coordinates[gene+'_'+str(cds_pos)] = []\n",
    "    \n",
    "    \n",
    "    i = 0\n",
    "    \n",
    "    for elem in [\"\".join(grp) for num, grp in itertools.groupby(seq)]:\n",
    "        block = []\n",
    "        block.append(elem[0])\n",
    "        block.append(i)\n",
    "        i = i+len(elem)\n",
    "        block.append(i)\n",
    "        coordinates[gene+'_'+str(cds_pos)].append(block) \n",
    "    \n",
    "        \n",
    "        \n",
    "# add coo from RiboSET \n",
    "\n",
    "for row in TMHMM_riboset_preds[TMHMM_riboset_preds['pos_of_1st_m'] < TMHMM_riboset_preds['ext_len']][['gene', 'prediction_seq']].to_numpy():\n",
    "    gene = row[0]\n",
    "    seq = row[1]\n",
    "    \n",
    "    # add cds_coo \n",
    "    cds_pos = NTE_aa_df_ribo[NTE_aa_df_ribo['gene'] == gene].iloc[0].ext_len\n",
    "    \n",
    "    coordinates[gene+'_'+str(cds_pos)] = []\n",
    "    \n",
    "    \n",
    "    i = 0\n",
    "    \n",
    "    for elem in [\"\".join(grp) for num, grp in itertools.groupby(seq)]:\n",
    "        block = []\n",
    "        block.append(elem[0])\n",
    "        block.append(i)\n",
    "        i = i+len(elem)\n",
    "        block.append(i)\n",
    "        \n",
    "        coordinates[gene+'_'+str(cds_pos)].append(block)  \n",
    "        \n",
    "    \n",
    "        \n",
    "coordinates"
   ]
  },
  {
   "cell_type": "code",
   "execution_count": 427,
   "metadata": {},
   "outputs": [
    {
     "data": {
      "text/plain": [
       "('SOX2_85',\n",
       " [['CYTOPLASMIC', 1, 16], ['TRANSMEM', 17, 40], ['undefined', 41, 402]])"
      ]
     },
     "execution_count": 427,
     "metadata": {},
     "output_type": "execute_result"
    }
   ],
   "source": [
    "blocks"
   ]
  },
  {
   "cell_type": "code",
   "execution_count": 439,
   "metadata": {},
   "outputs": [
    {
     "data": {
      "text/plain": [
       "<matplotlib.legend.Legend at 0x7fc0343ddc88>"
      ]
     },
     "execution_count": 439,
     "metadata": {},
     "output_type": "execute_result"
    },
    {
     "data": {
      "image/png": "[encoded data removed]",
      "text/plain": [
       "<Figure size 482.4x590.4 with 1 Axes>"
      ]
     },
     "metadata": {
      "needs_background": "light"
     },
     "output_type": "display_data"
    }
   ],
   "source": [
    "fig, ax = plt.subplots(1, figsize=(6.7, 8.2))\n",
    "\n",
    "ax.set_ylim(0, 12)\n",
    "ax.set_yticks(np.arange(0.5, 12, 0.5))\n",
    "\n",
    "lab =  ['C1QL2*',\n",
    " 'C1QL3*',\n",
    " 'SULT1A1',\n",
    " 'AC007906.1*',\n",
    " 'PDIA6',\n",
    " 'TRMT10C',\n",
    " 'SOX2*',\n",
    " 'LY6K*',\n",
    " 'CD59*',\n",
    " 'TIMP3',\n",
    " 'KDELR3',\n",
    " 'CD99']\n",
    "\n",
    "l = [[x, ''] * 1 for x in lab]\n",
    "flat_l = [item for sublist in l for item in sublist]\n",
    "ax.set_yticklabels(flat_l,  fontsize=18)\n",
    "    \n",
    "#ax.set_yticklabels(list(coordinates.keys()))\n",
    "\n",
    "ax.set_xlim(0, 460)\n",
    "ax.set_xticks(np.arange(0, 460, 50))\n",
    "ax.set_xticklabels(np.arange(0, 460, 50), fontsize=17)\n",
    "\n",
    "for i, blocks in enumerate(coordinates.items()):\n",
    "    gene = blocks[0].split('_')[0]\n",
    "    cds_pos = int(blocks[0].split('_')[1])\n",
    "    coo = blocks[1]\n",
    "\n",
    "    for feat in coo:\n",
    "        x1 = feat[1]\n",
    "        x2 = feat[2]-feat[1]\n",
    "        feat_type = feat[0]\n",
    "        y1 = i + 0.4\n",
    "        y2 = 0.4\n",
    "        \n",
    "        if (feat_type == 'M') | (feat_type == 'm'):\n",
    "            ax.add_patch(Rectangle((x1, y1), x2, y2, ec='black', facecolor = 'goldenrod'))\n",
    "        elif (feat_type == 'o') | (feat_type == 'O'):\n",
    "            ax.add_patch(Rectangle((x1, y1), x2, y2, ec='black', facecolor = 'rosybrown'))\n",
    "        elif feat_type == 'i':\n",
    "            ax.add_patch(Rectangle((x1, y1), x2, y2, ec='black', facecolor = 'cornflowerblue'))\n",
    "        else:\n",
    "            continue\n",
    "         \n",
    "        plt.text(x=cds_pos, y=y1+0.30, s='*', color='red', size=15)\n",
    "\n",
    "\n",
    "# legend \n",
    "\n",
    "colors = ['purple', 'purple', 'purple', 'purple', 'purple', 'purple', 'purple', 'purple']\n",
    "\n",
    "for ytick, color in zip(ax.get_yticklabels()[0:16], colors):\n",
    "    ytick.set_color(color)\n",
    "    \n",
    "\n",
    "plt.rcParams[\"legend.fontsize\"] = 18\n",
    "M = mpatches.Patch(color='goldenrod', label='M')\n",
    "I = mpatches.Patch(color='cornflowerblue', label='I')\n",
    "O = mpatches.Patch(color='rosybrown', label='O')\n",
    "\n",
    "plt.legend(handles=[M, I, O])"
   ]
  },
  {
   "cell_type": "code",
   "execution_count": null,
   "metadata": {},
   "outputs": [],
   "source": []
  },
  {
   "cell_type": "code",
   "execution_count": 429,
   "metadata": {},
   "outputs": [],
   "source": [
    "# add ['CD59', 'LY6K', 'SOX2']\n",
    "# add ['AC007906.1', 'C1QL3', 'C1QL2']"
   ]
  },
  {
   "cell_type": "code",
   "execution_count": 430,
   "metadata": {},
   "outputs": [
    {
     "data": {
      "text/plain": [
       "['C1QL2',\n",
       " 'C1QL3',\n",
       " 'SULT1A1',\n",
       " 'AC007906.1',\n",
       " 'PDIA6',\n",
       " 'TRMT10C',\n",
       " 'SOX2',\n",
       " 'LY6K',\n",
       " 'CD59',\n",
       " 'TIMP3',\n",
       " 'KDELR3',\n",
       " 'CD99']"
      ]
     },
     "execution_count": 430,
     "metadata": {},
     "output_type": "execute_result"
    }
   ],
   "source": [
    "[x.split('_')[0] for x in list(coordinates.keys())]"
   ]
  },
  {
   "cell_type": "code",
   "execution_count": null,
   "metadata": {},
   "outputs": [],
   "source": []
  },
  {
   "cell_type": "code",
   "execution_count": null,
   "metadata": {},
   "outputs": [],
   "source": []
  },
  {
   "cell_type": "code",
   "execution_count": null,
   "metadata": {},
   "outputs": [],
   "source": []
  },
  {
   "cell_type": "code",
   "execution_count": null,
   "metadata": {},
   "outputs": [],
   "source": []
  },
  {
   "cell_type": "markdown",
   "metadata": {},
   "source": [
    "## What's interesting about these genes? In HPA, what are they?"
   ]
  },
  {
   "cell_type": "code",
   "execution_count": 220,
   "metadata": {},
   "outputs": [],
   "source": [
    "phyloset_tm = ['C1QL2','C1QL3', 'SULT1A1', 'AC007906.1']\n",
    "riboset_tm = ['PDIA6','TRMT10C','SOX2', 'LY6K', 'CD59', 'TIMP3', 'KDELR3', 'CD99']"
   ]
  },
  {
   "cell_type": "code",
   "execution_count": 221,
   "metadata": {},
   "outputs": [
    {
     "data": {
      "text/html": [
       "<div>\n",
       "<style scoped>\n",
       "    .dataframe tbody tr th:only-of-type {\n",
       "        vertical-align: middle;\n",
       "    }\n",
       "\n",
       "    .dataframe tbody tr th {\n",
       "        vertical-align: top;\n",
       "    }\n",
       "\n",
       "    .dataframe thead th {\n",
       "        text-align: right;\n",
       "    }\n",
       "</style>\n",
       "<table border=\"1\" class=\"dataframe\">\n",
       "  <thead>\n",
       "    <tr style=\"text-align: right;\">\n",
       "      <th></th>\n",
       "      <th>gene</th>\n",
       "      <th>Main location</th>\n",
       "      <th>Additional location</th>\n",
       "      <th>Extracellular location</th>\n",
       "    </tr>\n",
       "  </thead>\n",
       "  <tbody>\n",
       "    <tr>\n",
       "      <th>16</th>\n",
       "      <td>CD99</td>\n",
       "      <td>Golgi apparatus</td>\n",
       "      <td>NaN</td>\n",
       "      <td>NaN</td>\n",
       "    </tr>\n",
       "    <tr>\n",
       "      <th>1679</th>\n",
       "      <td>KDELR3</td>\n",
       "      <td>Endoplasmic reticulum</td>\n",
       "      <td>NaN</td>\n",
       "      <td>NaN</td>\n",
       "    </tr>\n",
       "    <tr>\n",
       "      <th>6115</th>\n",
       "      <td>PDIA6</td>\n",
       "      <td>Cytosol;Endoplasmic reticulum</td>\n",
       "      <td>NaN</td>\n",
       "      <td>NaN</td>\n",
       "    </tr>\n",
       "    <tr>\n",
       "      <th>7529</th>\n",
       "      <td>LY6K</td>\n",
       "      <td>Plasma membrane</td>\n",
       "      <td>Nucleoplasm</td>\n",
       "      <td>Predicted to be secreted</td>\n",
       "    </tr>\n",
       "    <tr>\n",
       "      <th>9525</th>\n",
       "      <td>TRMT10C</td>\n",
       "      <td>Mitochondria</td>\n",
       "      <td>Nucleoplasm</td>\n",
       "      <td>NaN</td>\n",
       "    </tr>\n",
       "    <tr>\n",
       "      <th>10205</th>\n",
       "      <td>SOX2</td>\n",
       "      <td>Nucleoplasm</td>\n",
       "      <td>NaN</td>\n",
       "      <td>NaN</td>\n",
       "    </tr>\n",
       "  </tbody>\n",
       "</table>\n",
       "</div>"
      ],
      "text/plain": [
       "          gene                  Main location Additional location  \\\n",
       "16        CD99                Golgi apparatus                 NaN   \n",
       "1679    KDELR3          Endoplasmic reticulum                 NaN   \n",
       "6115     PDIA6  Cytosol;Endoplasmic reticulum                 NaN   \n",
       "7529      LY6K                Plasma membrane         Nucleoplasm   \n",
       "9525   TRMT10C                   Mitochondria         Nucleoplasm   \n",
       "10205     SOX2                    Nucleoplasm                 NaN   \n",
       "\n",
       "         Extracellular location  \n",
       "16                          NaN  \n",
       "1679                        NaN  \n",
       "6115                        NaN  \n",
       "7529   Predicted to be secreted  \n",
       "9525                        NaN  \n",
       "10205                       NaN  "
      ]
     },
     "execution_count": 221,
     "metadata": {},
     "output_type": "execute_result"
    }
   ],
   "source": [
    "sel_loc[sel_loc['gene'].isin(riboset_tm)]"
   ]
  },
  {
   "cell_type": "markdown",
   "metadata": {},
   "source": [
    "According to HPA, only for LY6K the location is 'Plasma membrane' and 'Nucleoplasm', while CD99 is assigned with 'Golgi apparatus', \n",
    "KDELR3 is in 'Endoplasmic reticulum', PDIA6 can be found in 'Cytosol', 'Endoplasmic reticulum', TRMT10C has 'Mitochondria' and 'Nucleoplasm' location and SOX2 resides in 'Nucleoplasm'. "
   ]
  },
  {
   "cell_type": "code",
   "execution_count": null,
   "metadata": {},
   "outputs": [],
   "source": [
    "sel_"
   ]
  },
  {
   "cell_type": "code",
   "execution_count": 222,
   "metadata": {},
   "outputs": [
    {
     "data": {
      "text/html": [
       "<div>\n",
       "<style scoped>\n",
       "    .dataframe tbody tr th:only-of-type {\n",
       "        vertical-align: middle;\n",
       "    }\n",
       "\n",
       "    .dataframe tbody tr th {\n",
       "        vertical-align: top;\n",
       "    }\n",
       "\n",
       "    .dataframe thead th {\n",
       "        text-align: right;\n",
       "    }\n",
       "</style>\n",
       "<table border=\"1\" class=\"dataframe\">\n",
       "  <thead>\n",
       "    <tr style=\"text-align: right;\">\n",
       "      <th></th>\n",
       "      <th>gene</th>\n",
       "      <th>Main location</th>\n",
       "      <th>Additional location</th>\n",
       "      <th>Extracellular location</th>\n",
       "    </tr>\n",
       "  </thead>\n",
       "  <tbody>\n",
       "  </tbody>\n",
       "</table>\n",
       "</div>"
      ],
      "text/plain": [
       "Empty DataFrame\n",
       "Columns: [gene, Main location, Additional location, Extracellular location]\n",
       "Index: []"
      ]
     },
     "execution_count": 222,
     "metadata": {},
     "output_type": "execute_result"
    }
   ],
   "source": [
    "sel_loc[sel_loc['gene'].isin(phyloset_tm)]"
   ]
  },
  {
   "cell_type": "code",
   "execution_count": 223,
   "metadata": {},
   "outputs": [
    {
     "data": {
      "text/plain": [
       "'C1QL2, C1QL3, SULT1A1, AC007906.1'"
      ]
     },
     "execution_count": 223,
     "metadata": {},
     "output_type": "execute_result"
    }
   ],
   "source": [
    "', '.join(phyloset_tm)"
   ]
  },
  {
   "cell_type": "code",
   "execution_count": 226,
   "metadata": {},
   "outputs": [
    {
     "data": {
      "text/html": [
       "<div>\n",
       "<style scoped>\n",
       "    .dataframe tbody tr th:only-of-type {\n",
       "        vertical-align: middle;\n",
       "    }\n",
       "\n",
       "    .dataframe tbody tr th {\n",
       "        vertical-align: top;\n",
       "    }\n",
       "\n",
       "    .dataframe thead th {\n",
       "        text-align: right;\n",
       "    }\n",
       "</style>\n",
       "<table border=\"1\" class=\"dataframe\">\n",
       "  <thead>\n",
       "    <tr style=\"text-align: right;\">\n",
       "      <th></th>\n",
       "      <th>Gene</th>\n",
       "      <th>Gene name</th>\n",
       "      <th>Reliability</th>\n",
       "      <th>Main location</th>\n",
       "      <th>Additional location</th>\n",
       "      <th>Extracellular location</th>\n",
       "      <th>Enhanced</th>\n",
       "      <th>Supported</th>\n",
       "      <th>Approved</th>\n",
       "      <th>Uncertain</th>\n",
       "      <th>Single-cell variation intensity</th>\n",
       "      <th>Single-cell variation spatial</th>\n",
       "      <th>Cell cycle dependency</th>\n",
       "      <th>GO id</th>\n",
       "    </tr>\n",
       "  </thead>\n",
       "  <tbody>\n",
       "  </tbody>\n",
       "</table>\n",
       "</div>"
      ],
      "text/plain": [
       "Empty DataFrame\n",
       "Columns: [Gene, Gene name, Reliability, Main location, Additional location, Extracellular location, Enhanced, Supported, Approved, Uncertain, Single-cell variation intensity, Single-cell variation spatial, Cell cycle dependency, GO id]\n",
       "Index: []"
      ]
     },
     "execution_count": 226,
     "metadata": {},
     "output_type": "execute_result"
    }
   ],
   "source": [
    "localisation_df[localisation_df['Gene'] == 'SULT1A1']"
   ]
  },
  {
   "cell_type": "code",
   "execution_count": null,
   "metadata": {},
   "outputs": [],
   "source": []
  },
  {
   "cell_type": "code",
   "execution_count": 228,
   "metadata": {},
   "outputs": [
    {
     "data": {
      "text/plain": [
       "(0.6666666666666666, 0.8112244897959183)"
      ]
     },
     "execution_count": 228,
     "metadata": {},
     "output_type": "execute_result"
    }
   ],
   "source": [
    "40/60, 318/392"
   ]
  },
  {
   "cell_type": "code",
   "execution_count": null,
   "metadata": {},
   "outputs": [],
   "source": [
    "67% and 80% "
   ]
  },
  {
   "cell_type": "code",
   "execution_count": null,
   "metadata": {},
   "outputs": [],
   "source": []
  },
  {
   "cell_type": "code",
   "execution_count": null,
   "metadata": {},
   "outputs": [],
   "source": []
  },
  {
   "cell_type": "markdown",
   "metadata": {},
   "source": [
    "# Phobius "
   ]
  },
  {
   "cell_type": "markdown",
   "metadata": {},
   "source": [
    "## RiboSet"
   ]
  },
  {
   "cell_type": "code",
   "execution_count": 229,
   "metadata": {},
   "outputs": [
    {
     "data": {
      "text/plain": [
       "'/home/alla/make_PhD_great_again/NTE/VERSION_since_May2021/data/tmhmm_and_phobius_data/phobius101_linux/tmp/tmpE9zr6U/phobius/riboset.ph.out'"
      ]
     },
     "execution_count": 229,
     "metadata": {},
     "output_type": "execute_result"
    }
   ],
   "source": [
    "path = '/home/alla/make_PhD_great_again/NTE/VERSION_since_May2021/data/tmhmm_and_phobius_data/phobius101_linux/tmp/tmpE9zr6U/phobius/riboset.ph.out'\n",
    "\n"
   ]
  },
  {
   "cell_type": "code",
   "execution_count": 265,
   "metadata": {},
   "outputs": [],
   "source": [
    "my_file = open(path, \"r\")\n",
    "content = my_file.read()\n",
    "\n",
    "li = content.split('ID   ')"
   ]
  },
  {
   "cell_type": "code",
   "execution_count": 266,
   "metadata": {},
   "outputs": [
    {
     "data": {
      "text/plain": [
       "['ENST00000379389.4_ISG15',\n",
       " 'FT   DOMAIN        1    183       NON CYTOPLASMIC.',\n",
       " '//',\n",
       " '']"
      ]
     },
     "execution_count": 266,
     "metadata": {},
     "output_type": "execute_result"
    }
   ],
   "source": [
    "li[1].split('\\n')"
   ]
  },
  {
   "cell_type": "code",
   "execution_count": 267,
   "metadata": {},
   "outputs": [
    {
     "data": {
      "text/plain": [
       "['ENST00000349431.10_UBE2J2',\n",
       " 'FT   DOMAIN        1    243       NON CYTOPLASMIC.',\n",
       " 'FT   TRANSMEM    244    265       ',\n",
       " 'FT   DOMAIN      266    275       CYTOPLASMIC.',\n",
       " '//',\n",
       " '']"
      ]
     },
     "execution_count": 267,
     "metadata": {},
     "output_type": "execute_result"
    }
   ],
   "source": [
    "li[2].split('\\n')"
   ]
  },
  {
   "cell_type": "code",
   "execution_count": 282,
   "metadata": {},
   "outputs": [],
   "source": [
    "li1 = []\n",
    "\n",
    "\n",
    "for ids in li[1:]:\n",
    "    el = ids.split('\\n')\n",
    "    tr_id = el[0].split('_')[0]\n",
    "    gene = el[0].split('_')[-1]\n",
    "    \n",
    "    # iterate over features\n",
    "    for feat in el[1:]:\n",
    "        if feat.startswith('FT'):\n",
    "            feat_li = list(filter(None, feat.split(' ')))\n",
    "            feat_type = feat_li[1]\n",
    "            start = int(feat_li[2])\n",
    "            stop = int(feat_li[3])\n",
    "            \n",
    "            if len(feat_li) == 5:\n",
    "                loc = feat_li[4]\n",
    "            else:\n",
    "                loc = None\n",
    "            \n",
    "            li1.append([tr_id, gene, feat_type, start, stop, loc])"
   ]
  },
  {
   "cell_type": "code",
   "execution_count": 290,
   "metadata": {},
   "outputs": [
    {
     "data": {
      "text/html": [
       "<div>\n",
       "<style scoped>\n",
       "    .dataframe tbody tr th:only-of-type {\n",
       "        vertical-align: middle;\n",
       "    }\n",
       "\n",
       "    .dataframe tbody tr th {\n",
       "        vertical-align: top;\n",
       "    }\n",
       "\n",
       "    .dataframe thead th {\n",
       "        text-align: right;\n",
       "    }\n",
       "</style>\n",
       "<table border=\"1\" class=\"dataframe\">\n",
       "  <thead>\n",
       "    <tr style=\"text-align: right;\">\n",
       "      <th></th>\n",
       "      <th>tr_id</th>\n",
       "      <th>gene</th>\n",
       "      <th>feat_type</th>\n",
       "      <th>start</th>\n",
       "      <th>stop</th>\n",
       "      <th>loc</th>\n",
       "    </tr>\n",
       "  </thead>\n",
       "  <tbody>\n",
       "    <tr>\n",
       "      <th>0</th>\n",
       "      <td>ENST00000379389.4</td>\n",
       "      <td>ISG15</td>\n",
       "      <td>DOMAIN</td>\n",
       "      <td>1</td>\n",
       "      <td>183</td>\n",
       "      <td>None</td>\n",
       "    </tr>\n",
       "    <tr>\n",
       "      <th>1</th>\n",
       "      <td>ENST00000349431.10</td>\n",
       "      <td>UBE2J2</td>\n",
       "      <td>DOMAIN</td>\n",
       "      <td>1</td>\n",
       "      <td>243</td>\n",
       "      <td>None</td>\n",
       "    </tr>\n",
       "    <tr>\n",
       "      <th>2</th>\n",
       "      <td>ENST00000349431.10</td>\n",
       "      <td>UBE2J2</td>\n",
       "      <td>TRANSMEM</td>\n",
       "      <td>244</td>\n",
       "      <td>265</td>\n",
       "      <td>None</td>\n",
       "    </tr>\n",
       "    <tr>\n",
       "      <th>3</th>\n",
       "      <td>ENST00000349431.10</td>\n",
       "      <td>UBE2J2</td>\n",
       "      <td>DOMAIN</td>\n",
       "      <td>266</td>\n",
       "      <td>275</td>\n",
       "      <td>CYTOPLASMIC.</td>\n",
       "    </tr>\n",
       "    <tr>\n",
       "      <th>4</th>\n",
       "      <td>ENST00000338370.7</td>\n",
       "      <td>AURKAIP1</td>\n",
       "      <td>DOMAIN</td>\n",
       "      <td>1</td>\n",
       "      <td>298</td>\n",
       "      <td>None</td>\n",
       "    </tr>\n",
       "  </tbody>\n",
       "</table>\n",
       "</div>"
      ],
      "text/plain": [
       "                tr_id      gene feat_type  start  stop           loc\n",
       "0   ENST00000379389.4     ISG15    DOMAIN      1   183          None\n",
       "1  ENST00000349431.10    UBE2J2    DOMAIN      1   243          None\n",
       "2  ENST00000349431.10    UBE2J2  TRANSMEM    244   265          None\n",
       "3  ENST00000349431.10    UBE2J2    DOMAIN    266   275  CYTOPLASMIC.\n",
       "4   ENST00000338370.7  AURKAIP1    DOMAIN      1   298          None"
      ]
     },
     "execution_count": 290,
     "metadata": {},
     "output_type": "execute_result"
    }
   ],
   "source": [
    "phob_riboset_parse_df = pd.DataFrame(li1, columns = ['tr_id', 'gene', 'feat_type', 'start', 'stop', 'loc'])\n",
    "\n",
    "phob_riboset_parse_df[0:5]"
   ]
  },
  {
   "cell_type": "code",
   "execution_count": 304,
   "metadata": {},
   "outputs": [
    {
     "name": "stdout",
     "output_type": "stream",
     "text": [
      "# genes in RIboSET with TM domain by Phobius\n",
      "88\n"
     ]
    }
   ],
   "source": [
    "print ('# genes in RIboSET with TM domain by Phobius')\n",
    "print (phob_riboset_parse_df[(phob_riboset_parse_df['feat_type'] == 'TRANSMEM') & \n",
    "                            (~phob_riboset_parse_df['gene'].isin(['STIM2', 'AP3S1', 'PTPRJ']))].gene.nunique())"
   ]
  },
  {
   "cell_type": "code",
   "execution_count": null,
   "metadata": {},
   "outputs": [],
   "source": []
  },
  {
   "cell_type": "markdown",
   "metadata": {},
   "source": [
    "## Ovlp with TMHMM "
   ]
  },
  {
   "cell_type": "code",
   "execution_count": 322,
   "metadata": {},
   "outputs": [
    {
     "name": "stdout",
     "output_type": "stream",
     "text": [
      "83\n",
      "88\n",
      "75\n"
     ]
    }
   ],
   "source": [
    "tmhmm_ribo = list(parse_df_r[(parse_df_r['any_m'] == True) & \n",
    "         (~parse_df_r['gene'].isin(['PTPRJ', 'STIM2', 'AP3S1']))].gene.unique())\n",
    "\n",
    "phobius_ribo = list(phob_riboset_parse_df[(phob_riboset_parse_df['feat_type'] == 'TRANSMEM') & \n",
    "                            (~phob_riboset_parse_df['gene'].isin(['STIM2', 'AP3S1', 'PTPRJ']))].gene.unique())\n",
    "\n",
    "print (len(tmhmm_ribo))\n",
    "print (len(phobius_ribo))\n",
    "\n",
    "print (len(set(tmhmm_ribo).intersection(phobius_ribo)))"
   ]
  },
  {
   "cell_type": "code",
   "execution_count": null,
   "metadata": {},
   "outputs": [],
   "source": []
  },
  {
   "cell_type": "code",
   "execution_count": null,
   "metadata": {},
   "outputs": [],
   "source": []
  },
  {
   "cell_type": "code",
   "execution_count": null,
   "metadata": {},
   "outputs": [],
   "source": []
  },
  {
   "cell_type": "code",
   "execution_count": null,
   "metadata": {},
   "outputs": [],
   "source": []
  },
  {
   "cell_type": "markdown",
   "metadata": {},
   "source": [
    "### Genes where 1st TM domain is before CDS "
   ]
  },
  {
   "cell_type": "code",
   "execution_count": 395,
   "metadata": {},
   "outputs": [],
   "source": [
    "res = dict(tuple(phob_riboset_parse_df[(phob_riboset_parse_df['feat_type'] == 'TRANSMEM') & \n",
    "                            (~phob_riboset_parse_df['gene'].isin(['STIM2', 'AP3S1', 'PTPRJ']))].groupby('gene')))"
   ]
  },
  {
   "cell_type": "code",
   "execution_count": 396,
   "metadata": {},
   "outputs": [],
   "source": [
    "selected_ribo_genes = []\n",
    "\n",
    "for gene, df in res.items():\n",
    "    df = df.sort_values(by='start', ascending=True)\n",
    "    \n",
    "    # select the 1st TM and its start\n",
    "    first_tm = df.iloc[0].start \n",
    "    \n",
    "    # cds_coo \n",
    "    cds_coo = NTE_aa_df_ribo[NTE_aa_df_ribo['gene'] == gene].iloc[0].ext_len\n",
    "    \n",
    "    # \n",
    "    if first_tm < cds_coo:\n",
    "        selected_ribo_genes.append(gene)"
   ]
  },
  {
   "cell_type": "code",
   "execution_count": 397,
   "metadata": {},
   "outputs": [
    {
     "data": {
      "text/plain": [
       "'CD59, CDC42SE2, GNS, LY6K, SOX2'"
      ]
     },
     "execution_count": 397,
     "metadata": {},
     "output_type": "execute_result"
    }
   ],
   "source": [
    "', '.join(selected_ribo_genes)"
   ]
  },
  {
   "cell_type": "code",
   "execution_count": null,
   "metadata": {},
   "outputs": [],
   "source": [
    "phyloset_tm = ['C1QL2','C1QL3', 'SULT1A1', 'AC007906.1']\n",
    "riboset_tm = ['PDIA6',\n",
    "              'TRMT10C',\n",
    "              'SOX2', # OK phobius \n",
    "              'LY6K', # OK  phobius\n",
    "              'CD59', # OK  phobius\n",
    "              'TIMP3', \n",
    "              'KDELR3', \n",
    "              'CD99']\n",
    "\n",
    "phobius_tm_extra = ['CDC42SE2', 'GNS', 'STIM2']"
   ]
  },
  {
   "cell_type": "code",
   "execution_count": null,
   "metadata": {},
   "outputs": [],
   "source": []
  },
  {
   "cell_type": "markdown",
   "metadata": {},
   "source": [
    "## Plot in supplementaries "
   ]
  },
  {
   "cell_type": "code",
   "execution_count": 338,
   "metadata": {},
   "outputs": [],
   "source": [
    "res2 = dict(tuple(phob_riboset_parse_df.groupby('gene')))\n",
    "\n",
    "coordinates = {}\n",
    "\n",
    "for gene, df in res2.items():\n",
    "    if gene in selected_ribo_genes:\n",
    "        \n",
    "        \n",
    "        \n",
    "        cds_pos = NTE_aa_df_ribo[NTE_aa_df_ribo['gene'] == gene].iloc[0].ext_len\n",
    "        \n",
    "        coordinates[gene+'_'+str(cds_pos)] = []\n",
    "        \n",
    "        #print (gene)\n",
    "        #print (df)\n",
    "        \n",
    "        for row in df.to_numpy():\n",
    "            start = row[3]\n",
    "            stop = row[4]\n",
    "            \n",
    "            ft = row[2]\n",
    "            loc = row[5]\n",
    "            \n",
    "            if loc == 'CYTOPLASMIC.':\n",
    "                ann = 'CYTOPLASMIC'\n",
    "            elif ft == 'TRANSMEM':\n",
    "                ann = 'TRANSMEM'\n",
    "            else:\n",
    "                ann = 'undefined'\n",
    "                   \n",
    "            coordinates[gene+'_'+str(cds_pos)].append([ann, start, stop])"
   ]
  },
  {
   "cell_type": "code",
   "execution_count": 339,
   "metadata": {},
   "outputs": [
    {
     "data": {
      "text/plain": [
       "{'CD59_16': [['CYTOPLASMIC', 1, 11],\n",
       "  ['TRANSMEM', 12, 35],\n",
       "  ['undefined', 36, 144]],\n",
       " 'CDC42SE2_34': [['undefined', 1, 23],\n",
       "  ['TRANSMEM', 24, 47],\n",
       "  ['CYTOPLASMIC', 48, 118]],\n",
       " 'GNS_51': [['CYTOPLASMIC', 1, 20],\n",
       "  ['TRANSMEM', 21, 39],\n",
       "  ['undefined', 40, 75],\n",
       "  ['TRANSMEM', 76, 94],\n",
       "  ['CYTOPLASMIC', 95, 603]],\n",
       " 'LY6K_57': [['undefined', 1, 51],\n",
       "  ['TRANSMEM', 52, 73],\n",
       "  ['CYTOPLASMIC', 74, 200],\n",
       "  ['TRANSMEM', 201, 221],\n",
       "  ['undefined', 222, 222]],\n",
       " 'SOX2_85': [['CYTOPLASMIC', 1, 16],\n",
       "  ['TRANSMEM', 17, 40],\n",
       "  ['undefined', 41, 402]]}"
      ]
     },
     "execution_count": 339,
     "metadata": {},
     "output_type": "execute_result"
    }
   ],
   "source": [
    "coordinates"
   ]
  },
  {
   "cell_type": "code",
   "execution_count": 348,
   "metadata": {},
   "outputs": [
    {
     "data": {
      "text/plain": [
       "<matplotlib.legend.Legend at 0x7fc035bfa978>"
      ]
     },
     "execution_count": 348,
     "metadata": {},
     "output_type": "execute_result"
    },
    {
     "data": {
      "image/png": "[encoded data removed]",
      "text/plain": [
       "<Figure size 504x360 with 1 Axes>"
      ]
     },
     "metadata": {
      "needs_background": "light"
     },
     "output_type": "display_data"
    }
   ],
   "source": [
    "fig, ax = plt.subplots(1, figsize=(7,5))\n",
    "\n",
    "ax.set_ylim(0, 5)\n",
    "ax.set_yticks(np.arange(0.5, 5, 0.5))\n",
    "\n",
    "l = [[x, ''] * 1 for x in [x.split('_')[0] for x in list(coordinates.keys())]]\n",
    "flat_l = [item for sublist in l for item in sublist]\n",
    "ax.set_yticklabels(flat_l,  fontsize=18)\n",
    "    \n",
    "#ax.set_yticklabels(list(coordinates.keys()))\n",
    "\n",
    "ax.set_xlim(0, 610)\n",
    "ax.set_xticks(np.arange(0, 610, 100))\n",
    "ax.set_xticklabels(np.arange(0, 610, 100), fontsize=16)\n",
    "\n",
    "for i, blocks in enumerate(coordinates.items()):\n",
    "    gene = blocks[0].split('_')[0]\n",
    "    cds_pos = int(blocks[0].split('_')[1])\n",
    "    coo = blocks[1]\n",
    "\n",
    "    for feat in coo:\n",
    "        x1 = feat[1]\n",
    "        x2 = feat[2]-feat[1]\n",
    "        feat_type = feat[0]\n",
    "        y1 = i + 0.4\n",
    "        y2 = 0.4\n",
    "        \n",
    "        if (feat_type == 'TRANSMEM'):\n",
    "            ax.add_patch(Rectangle((x1, y1), x2, y2, ec='black', facecolor = 'goldenrod'))\n",
    "        elif feat_type == 'CYTOPLASMIC':\n",
    "            ax.add_patch(Rectangle((x1, y1), x2, y2, ec='black', facecolor = 'cornflowerblue'))\n",
    "        else:\n",
    "            ax.add_patch(Rectangle((x1, y1), x2, y2, ec='black', facecolor = 'grey'))\n",
    "         \n",
    "        plt.text(x=cds_pos, y=y1+0.34, s='*', color='red', size=18)\n",
    "\n",
    "\n",
    "# legend \n",
    "\n",
    "#colors = ['purple', 'purple', 'purple', 'purple', 'purple', 'purple', 'purple', 'purple']\n",
    "\n",
    "#for ytick, color in zip(ax.get_yticklabels()[0:16], colors):\n",
    "#    ytick.set_color(color)\n",
    "    \n",
    "\n",
    "plt.rcParams[\"legend.fontsize\"] = 18\n",
    "M = mpatches.Patch(color='goldenrod', label='TM')\n",
    "I = mpatches.Patch(color='cornflowerblue', label='CYTOPLSM')\n",
    "O = mpatches.Patch(color='grey', label='other')\n",
    "\n",
    "plt.legend(handles=[M, I, O])"
   ]
  },
  {
   "cell_type": "code",
   "execution_count": null,
   "metadata": {},
   "outputs": [],
   "source": []
  },
  {
   "cell_type": "code",
   "execution_count": null,
   "metadata": {},
   "outputs": [],
   "source": []
  },
  {
   "cell_type": "code",
   "execution_count": null,
   "metadata": {},
   "outputs": [],
   "source": []
  },
  {
   "cell_type": "markdown",
   "metadata": {},
   "source": [
    "# Same for PhyloSET"
   ]
  },
  {
   "cell_type": "code",
   "execution_count": 381,
   "metadata": {},
   "outputs": [
    {
     "data": {
      "text/html": [
       "<div>\n",
       "<style scoped>\n",
       "    .dataframe tbody tr th:only-of-type {\n",
       "        vertical-align: middle;\n",
       "    }\n",
       "\n",
       "    .dataframe tbody tr th {\n",
       "        vertical-align: top;\n",
       "    }\n",
       "\n",
       "    .dataframe thead th {\n",
       "        text-align: right;\n",
       "    }\n",
       "</style>\n",
       "<table border=\"1\" class=\"dataframe\">\n",
       "  <thead>\n",
       "    <tr style=\"text-align: right;\">\n",
       "      <th></th>\n",
       "      <th>tr_id</th>\n",
       "      <th>gene</th>\n",
       "      <th>feat_type</th>\n",
       "      <th>start</th>\n",
       "      <th>stop</th>\n",
       "      <th>loc</th>\n",
       "    </tr>\n",
       "  </thead>\n",
       "  <tbody>\n",
       "    <tr>\n",
       "      <th>0</th>\n",
       "      <td>ENST00000377898.3</td>\n",
       "      <td>HES3</td>\n",
       "      <td>DOMAIN</td>\n",
       "      <td>1</td>\n",
       "      <td>207</td>\n",
       "      <td>None</td>\n",
       "    </tr>\n",
       "    <tr>\n",
       "      <th>1</th>\n",
       "      <td>ENST00000400907.6</td>\n",
       "      <td>RERE</td>\n",
       "      <td>DOMAIN</td>\n",
       "      <td>1</td>\n",
       "      <td>608</td>\n",
       "      <td>None</td>\n",
       "    </tr>\n",
       "    <tr>\n",
       "      <th>2</th>\n",
       "      <td>ENST00000455833.6</td>\n",
       "      <td>IFFO2</td>\n",
       "      <td>DOMAIN</td>\n",
       "      <td>1</td>\n",
       "      <td>635</td>\n",
       "      <td>None</td>\n",
       "    </tr>\n",
       "    <tr>\n",
       "      <th>3</th>\n",
       "      <td>ENST00000373824.8</td>\n",
       "      <td>TAF12</td>\n",
       "      <td>DOMAIN</td>\n",
       "      <td>1</td>\n",
       "      <td>193</td>\n",
       "      <td>None</td>\n",
       "    </tr>\n",
       "    <tr>\n",
       "      <th>4</th>\n",
       "      <td>ENST00000357214.5</td>\n",
       "      <td>SFPQ</td>\n",
       "      <td>DOMAIN</td>\n",
       "      <td>1</td>\n",
       "      <td>740</td>\n",
       "      <td>None</td>\n",
       "    </tr>\n",
       "  </tbody>\n",
       "</table>\n",
       "</div>"
      ],
      "text/plain": [
       "               tr_id   gene feat_type  start  stop   loc\n",
       "0  ENST00000377898.3   HES3    DOMAIN      1   207  None\n",
       "1  ENST00000400907.6   RERE    DOMAIN      1   608  None\n",
       "2  ENST00000455833.6  IFFO2    DOMAIN      1   635  None\n",
       "3  ENST00000373824.8  TAF12    DOMAIN      1   193  None\n",
       "4  ENST00000357214.5   SFPQ    DOMAIN      1   740  None"
      ]
     },
     "execution_count": 381,
     "metadata": {},
     "output_type": "execute_result"
    }
   ],
   "source": [
    "path = '/home/alla/make_PhD_great_again/NTE/VERSION_since_May2021/data/tmhmm_and_phobius_data/phobius101_linux/tmp/tmpE9zr6U/phobius/phyloset.ph.out'\n",
    "\n",
    "my_file = open(path, \"r\")\n",
    "content = my_file.read()\n",
    "\n",
    "li = content.split('ID   ')\n",
    "\n",
    "li1 = []\n",
    "\n",
    "\n",
    "for ids in li[1:]:\n",
    "    el = ids.split('\\n')\n",
    "    tr_id = el[0].split('_')[0]\n",
    "    gene = el[0].split('_')[-1]\n",
    "    \n",
    "    # iterate over features\n",
    "    for feat in el[1:]:\n",
    "        if feat.startswith('FT'):\n",
    "            feat_li = list(filter(None, feat.split(' ')))\n",
    "            feat_type = feat_li[1]\n",
    "            start = int(feat_li[2])\n",
    "            stop = int(feat_li[3])\n",
    "            \n",
    "            if len(feat_li) == 5:\n",
    "                loc = feat_li[4]\n",
    "            else:\n",
    "                loc = None\n",
    "            \n",
    "            li1.append([tr_id, gene, feat_type, start, stop, loc])\n",
    "            \n",
    "phob_phyloset_parse_df = pd.DataFrame(li1, columns = ['tr_id', 'gene', 'feat_type', 'start', 'stop', 'loc'])\n",
    "\n",
    "phob_phyloset_parse_df[0:5]"
   ]
  },
  {
   "cell_type": "code",
   "execution_count": 382,
   "metadata": {},
   "outputs": [
    {
     "name": "stdout",
     "output_type": "stream",
     "text": [
      "# genes in PhyloSET with TM domain by Phobius\n",
      "13\n"
     ]
    }
   ],
   "source": [
    "print ('# genes in PhyloSET with TM domain by Phobius')\n",
    "print (phob_phyloset_parse_df[(phob_phyloset_parse_df['feat_type'] == 'TRANSMEM') & \n",
    "                            (~phob_phyloset_parse_df['gene'].isin(['STIM2', 'AP3S1', 'PTPRJ']))].gene.nunique())"
   ]
  },
  {
   "cell_type": "code",
   "execution_count": null,
   "metadata": {},
   "outputs": [],
   "source": []
  },
  {
   "cell_type": "markdown",
   "metadata": {},
   "source": [
    "### ovlps with TMHMM "
   ]
  },
  {
   "cell_type": "code",
   "execution_count": 383,
   "metadata": {},
   "outputs": [
    {
     "name": "stdout",
     "output_type": "stream",
     "text": [
      "12\n",
      "13\n",
      "11\n"
     ]
    }
   ],
   "source": [
    "tmhmm_phylo = list(parse_df[(parse_df['any_m'] == True)].gene.unique())\n",
    "\n",
    "phobius_phylo = list(phob_phyloset_parse_df[(phob_phyloset_parse_df['feat_type'] == 'TRANSMEM')].gene.unique())\n",
    "\n",
    "print (len(tmhmm_phylo))\n",
    "print (len(phobius_phylo))\n",
    "\n",
    "print (len(set(tmhmm_phylo).intersection(phobius_phylo)))"
   ]
  },
  {
   "cell_type": "code",
   "execution_count": null,
   "metadata": {},
   "outputs": [],
   "source": []
  },
  {
   "cell_type": "code",
   "execution_count": null,
   "metadata": {},
   "outputs": [],
   "source": []
  },
  {
   "cell_type": "markdown",
   "metadata": {},
   "source": [
    "### Check where cds_pos > 1st_TM helix start "
   ]
  },
  {
   "cell_type": "code",
   "execution_count": 384,
   "metadata": {},
   "outputs": [],
   "source": [
    "res = dict(tuple(phob_phyloset_parse_df[(phob_phyloset_parse_df['feat_type'] == 'TRANSMEM')].groupby('gene')))\n",
    "\n",
    "selected_phylo_genes = []\n",
    "\n",
    "for gene, df in res.items():\n",
    "    df = df.sort_values(by='start', ascending=True)\n",
    "    \n",
    "    # select the 1st TM and its start\n",
    "    first_tm = df.iloc[0].start \n",
    "    \n",
    "    tr_id = df.iloc[0].tr_id\n",
    "    \n",
    "    # cds_coo \n",
    "    cds_coo = NTE_aa_df[NTE_aa_df['tr_id'] == tr_id].iloc[0].cds_start_aa_in_ext2\n",
    "    \n",
    "    # \n",
    "    if first_tm < cds_coo:\n",
    "        selected_phylo_genes.append(gene)"
   ]
  },
  {
   "cell_type": "code",
   "execution_count": 385,
   "metadata": {},
   "outputs": [
    {
     "data": {
      "text/plain": [
       "'AC007906.1, C1QL2, C1QL3'"
      ]
     },
     "execution_count": 385,
     "metadata": {},
     "output_type": "execute_result"
    }
   ],
   "source": [
    "', '.join(selected_phylo_genes)"
   ]
  },
  {
   "cell_type": "code",
   "execution_count": null,
   "metadata": {},
   "outputs": [],
   "source": []
  },
  {
   "cell_type": "code",
   "execution_count": null,
   "metadata": {},
   "outputs": [],
   "source": []
  },
  {
   "cell_type": "markdown",
   "metadata": {},
   "source": [
    "# Plot in  supplements "
   ]
  },
  {
   "cell_type": "code",
   "execution_count": 386,
   "metadata": {},
   "outputs": [],
   "source": [
    "res2 = dict(tuple(phob_phyloset_parse_df.groupby('gene')))\n",
    "\n",
    "coordinates = {}\n",
    "\n",
    "for gene, df in res2.items():\n",
    "    if gene in selected_phylo_genes:\n",
    "        \n",
    "        tr_id = df.iloc[0].tr_id\n",
    "    \n",
    "        # cds_coo \n",
    "        cds_coo = NTE_aa_df[NTE_aa_df['tr_id'] == tr_id].iloc[0].cds_start_aa_in_ext2\n",
    "        \n",
    "        coordinates[gene+'_'+str(cds_pos)] = []\n",
    "        \n",
    "        #print (gene)\n",
    "        #print (df)\n",
    "        \n",
    "        for row in df.to_numpy():\n",
    "            start = row[3]\n",
    "            stop = row[4]\n",
    "            \n",
    "            ft = row[2]\n",
    "            loc = row[5]\n",
    "            \n",
    "            if loc == 'CYTOPLASMIC.':\n",
    "                ann = 'CYTOPLASMIC'\n",
    "            elif ft == 'TRANSMEM':\n",
    "                ann = 'TRANSMEM'\n",
    "            else:\n",
    "                ann = 'undefined'\n",
    "                   \n",
    "            coordinates[gene+'_'+str(cds_pos)].append([ann, start, stop])"
   ]
  },
  {
   "cell_type": "code",
   "execution_count": 387,
   "metadata": {},
   "outputs": [
    {
     "data": {
      "text/plain": [
       "{'AC007906.1_85': [['undefined', 1, 19],\n",
       "  ['TRANSMEM', 20, 38],\n",
       "  ['CYTOPLASMIC', 39, 44],\n",
       "  ['TRANSMEM', 45, 64],\n",
       "  ['undefined', 65, 111],\n",
       "  ['TRANSMEM', 112, 132],\n",
       "  ['CYTOPLASMIC', 133, 220]],\n",
       " 'C1QL2_85': [['CYTOPLASMIC', 1, 54],\n",
       "  ['TRANSMEM', 55, 78],\n",
       "  ['undefined', 79, 352]],\n",
       " 'C1QL3_85': [['CYTOPLASMIC', 1, 30],\n",
       "  ['TRANSMEM', 31, 53],\n",
       "  ['undefined', 54, 295],\n",
       "  ['CYTOPLASMIC', 1, 16],\n",
       "  ['TRANSMEM', 17, 39],\n",
       "  ['undefined', 40, 239]]}"
      ]
     },
     "execution_count": 387,
     "metadata": {},
     "output_type": "execute_result"
    }
   ],
   "source": [
    "coordinates"
   ]
  },
  {
   "cell_type": "code",
   "execution_count": 388,
   "metadata": {},
   "outputs": [
    {
     "data": {
      "text/plain": [
       "<matplotlib.legend.Legend at 0x7fc0357d4c18>"
      ]
     },
     "execution_count": 388,
     "metadata": {},
     "output_type": "execute_result"
    },
    {
     "data": {
      "image/png": "[encoded data removed]",
      "text/plain": [
       "<Figure size 504x360 with 1 Axes>"
      ]
     },
     "metadata": {
      "needs_background": "light"
     },
     "output_type": "display_data"
    }
   ],
   "source": [
    "fig, ax = plt.subplots(1, figsize=(7,5))\n",
    "\n",
    "ax.set_ylim(0, 3)\n",
    "ax.set_yticks(np.arange(0.5, 3, 0.5))\n",
    "\n",
    "l = [[x, ''] * 1 for x in [x.split('_')[0] for x in list(coordinates.keys())]]\n",
    "flat_l = [item for sublist in l for item in sublist]\n",
    "ax.set_yticklabels(flat_l,  fontsize=18)\n",
    "    \n",
    "#ax.set_yticklabels(list(coordinates.keys()))\n",
    "\n",
    "ax.set_xlim(0, 610)\n",
    "ax.set_xticks(np.arange(0, 610, 100))\n",
    "ax.set_xticklabels(np.arange(0, 610, 100), fontsize=16)\n",
    "\n",
    "for i, blocks in enumerate(coordinates.items()):\n",
    "    gene = blocks[0].split('_')[0]\n",
    "    cds_pos = int(blocks[0].split('_')[1])\n",
    "    coo = blocks[1]\n",
    "\n",
    "    for feat in coo:\n",
    "        x1 = feat[1]\n",
    "        x2 = feat[2]-feat[1]\n",
    "        feat_type = feat[0]\n",
    "        y1 = i + 0.4\n",
    "        y2 = 0.4\n",
    "        \n",
    "        if (feat_type == 'TRANSMEM'):\n",
    "            ax.add_patch(Rectangle((x1, y1), x2, y2, ec='black', facecolor = 'goldenrod'))\n",
    "        elif feat_type == 'CYTOPLASMIC':\n",
    "            ax.add_patch(Rectangle((x1, y1), x2, y2, ec='black', facecolor = 'cornflowerblue'))\n",
    "        else:\n",
    "            ax.add_patch(Rectangle((x1, y1), x2, y2, ec='black', facecolor = 'grey'))\n",
    "         \n",
    "        plt.text(x=cds_pos, y=y1+0.34, s='*', color='red', size=18)\n",
    "\n",
    "\n",
    "# legend \n",
    "\n",
    "#colors = ['purple', 'purple', 'purple', 'purple', 'purple', 'purple', 'purple', 'purple']\n",
    "\n",
    "#for ytick, color in zip(ax.get_yticklabels()[0:16], colors):\n",
    "#    ytick.set_color(color)\n",
    "    \n",
    "\n",
    "plt.rcParams[\"legend.fontsize\"] = 18\n",
    "M = mpatches.Patch(color='goldenrod', label='TM')\n",
    "I = mpatches.Patch(color='cornflowerblue', label='CYTOPLSM')\n",
    "O = mpatches.Patch(color='grey', label='other')\n",
    "\n",
    "plt.legend(handles=[M, I, O])"
   ]
  },
  {
   "cell_type": "code",
   "execution_count": null,
   "metadata": {},
   "outputs": [],
   "source": []
  },
  {
   "cell_type": "code",
   "execution_count": null,
   "metadata": {},
   "outputs": [],
   "source": []
  },
  {
   "cell_type": "markdown",
   "metadata": {},
   "source": [
    "# Make one Phobius plot out of RiboSET and PhyloSET "
   ]
  },
  {
   "cell_type": "code",
   "execution_count": 419,
   "metadata": {},
   "outputs": [],
   "source": [
    "coordinates = {}\n",
    "\n",
    "\n",
    "\n",
    "# PhyloSET genes \n",
    "\n",
    "res2 = dict(tuple(phob_phyloset_parse_df.groupby('gene')))\n",
    "\n",
    "for gene, df in res2.items():\n",
    "    if gene in selected_phylo_genes:\n",
    "        \n",
    "        tr_id = df.iloc[0].tr_id\n",
    "    \n",
    "        # cds_coo \n",
    "        cds_coo = NTE_aa_df[NTE_aa_df['tr_id'] == tr_id].iloc[0].cds_start_aa_in_ext2\n",
    "        \n",
    "        coordinates[gene+'_'+str(cds_pos)] = []\n",
    "        \n",
    "        #print (gene)\n",
    "        #print (df)\n",
    "        \n",
    "        for row in df.to_numpy():\n",
    "            start = row[3]\n",
    "            stop = row[4]\n",
    "            \n",
    "            ft = row[2]\n",
    "            loc = row[5]\n",
    "            \n",
    "            if loc == 'CYTOPLASMIC.':\n",
    "                ann = 'CYTOPLASMIC'\n",
    "            elif ft == 'TRANSMEM':\n",
    "                ann = 'TRANSMEM'\n",
    "            else:\n",
    "                ann = 'undefined'\n",
    "                   \n",
    "            coordinates[gene+'_'+str(cds_pos)].append([ann, start, stop])\n",
    "\n",
    "# RiboSET genes \n",
    "\n",
    "res2 = dict(tuple(phob_riboset_parse_df.groupby('gene')))\n",
    "\n",
    "for gene, df in res2.items():\n",
    "    if gene in selected_ribo_genes:\n",
    "        \n",
    "        cds_pos = NTE_aa_df_ribo[NTE_aa_df_ribo['gene'] == gene].iloc[0].ext_len       \n",
    "        coordinates[gene+'_'+str(cds_pos)] = []\n",
    "\n",
    "        for row in df.to_numpy():\n",
    "            start = row[3]\n",
    "            stop = row[4]\n",
    "            \n",
    "            ft = row[2]\n",
    "            loc = row[5]\n",
    "            \n",
    "            if loc == 'CYTOPLASMIC.':\n",
    "                ann = 'CYTOPLASMIC'\n",
    "            elif ft == 'TRANSMEM':\n",
    "                ann = 'TRANSMEM'\n",
    "            else:\n",
    "                ann = 'undefined'\n",
    "                   \n",
    "            coordinates[gene+'_'+str(cds_pos)].append([ann, start, stop])"
   ]
  },
  {
   "cell_type": "code",
   "execution_count": 420,
   "metadata": {},
   "outputs": [
    {
     "data": {
      "text/plain": [
       "8"
      ]
     },
     "execution_count": 420,
     "metadata": {},
     "output_type": "execute_result"
    }
   ],
   "source": [
    "len(list(coordinates.keys()))"
   ]
  },
  {
   "cell_type": "code",
   "execution_count": 421,
   "metadata": {},
   "outputs": [
    {
     "data": {
      "text/plain": [
       "(['AC007906.1', 'C1QL2', 'C1QL3'], ['CD59', 'CDC42SE2', 'GNS', 'LY6K', 'SOX2'])"
      ]
     },
     "execution_count": 421,
     "metadata": {},
     "output_type": "execute_result"
    }
   ],
   "source": [
    "selected_phylo_genes, selected_ribo_genes"
   ]
  },
  {
   "cell_type": "code",
   "execution_count": 422,
   "metadata": {},
   "outputs": [
    {
     "data": {
      "text/plain": [
       "{'AC007906.1_85': [['undefined', 1, 19],\n",
       "  ['TRANSMEM', 20, 38],\n",
       "  ['CYTOPLASMIC', 39, 44],\n",
       "  ['TRANSMEM', 45, 64],\n",
       "  ['undefined', 65, 111],\n",
       "  ['TRANSMEM', 112, 132],\n",
       "  ['CYTOPLASMIC', 133, 220]],\n",
       " 'C1QL2_85': [['CYTOPLASMIC', 1, 54],\n",
       "  ['TRANSMEM', 55, 78],\n",
       "  ['undefined', 79, 352]],\n",
       " 'C1QL3_85': [['CYTOPLASMIC', 1, 30],\n",
       "  ['TRANSMEM', 31, 53],\n",
       "  ['undefined', 54, 295],\n",
       "  ['CYTOPLASMIC', 1, 16],\n",
       "  ['TRANSMEM', 17, 39],\n",
       "  ['undefined', 40, 239]],\n",
       " 'CD59_16': [['CYTOPLASMIC', 1, 11],\n",
       "  ['TRANSMEM', 12, 35],\n",
       "  ['undefined', 36, 144]],\n",
       " 'CDC42SE2_34': [['undefined', 1, 23],\n",
       "  ['TRANSMEM', 24, 47],\n",
       "  ['CYTOPLASMIC', 48, 118]],\n",
       " 'GNS_51': [['CYTOPLASMIC', 1, 20],\n",
       "  ['TRANSMEM', 21, 39],\n",
       "  ['undefined', 40, 75],\n",
       "  ['TRANSMEM', 76, 94],\n",
       "  ['CYTOPLASMIC', 95, 603]],\n",
       " 'LY6K_57': [['undefined', 1, 51],\n",
       "  ['TRANSMEM', 52, 73],\n",
       "  ['CYTOPLASMIC', 74, 200],\n",
       "  ['TRANSMEM', 201, 221],\n",
       "  ['undefined', 222, 222]],\n",
       " 'SOX2_85': [['CYTOPLASMIC', 1, 16],\n",
       "  ['TRANSMEM', 17, 40],\n",
       "  ['undefined', 41, 402]]}"
      ]
     },
     "execution_count": 422,
     "metadata": {},
     "output_type": "execute_result"
    }
   ],
   "source": [
    "coordinates"
   ]
  },
  {
   "cell_type": "code",
   "execution_count": 425,
   "metadata": {},
   "outputs": [
    {
     "data": {
      "text/plain": [
       "<matplotlib.legend.Legend at 0x7fc034d8bcf8>"
      ]
     },
     "execution_count": 425,
     "metadata": {},
     "output_type": "execute_result"
    },
    {
     "data": {
      "image/png": "[encoded data removed]",
      "text/plain": [
       "<Figure size 504x576 with 1 Axes>"
      ]
     },
     "metadata": {
      "needs_background": "light"
     },
     "output_type": "display_data"
    }
   ],
   "source": [
    "fig, ax = plt.subplots(1, figsize=(7,8))\n",
    "\n",
    "ax.set_ylim(0, 8)\n",
    "ax.set_yticks(np.arange(0.5, 8, 0.5))\n",
    "\n",
    "l = [[x, ''] * 1 for x in [x.split('_')[0] for x in list(coordinates.keys())]]\n",
    "flat_l = [item for sublist in l for item in sublist]\n",
    "ax.set_yticklabels(flat_l,  fontsize=18)\n",
    "    \n",
    "#ax.set_yticklabels(list(coordinates.keys()))\n",
    "\n",
    "ax.set_xlim(0, 610)\n",
    "ax.set_xticks(np.arange(0, 610, 100))\n",
    "ax.set_xticklabels(np.arange(0, 610, 100), fontsize=16)\n",
    "\n",
    "for i, blocks in enumerate(coordinates.items()):\n",
    "    gene = blocks[0].split('_')[0]\n",
    "    cds_pos = int(blocks[0].split('_')[1])\n",
    "    coo = blocks[1]\n",
    "\n",
    "    for feat in coo:\n",
    "        x1 = feat[1]\n",
    "        x2 = feat[2]-feat[1]\n",
    "        feat_type = feat[0]\n",
    "        y1 = i + 0.4\n",
    "        y2 = 0.4\n",
    "        \n",
    "        if (feat_type == 'TRANSMEM'):\n",
    "            ax.add_patch(Rectangle((x1, y1), x2, y2, ec='black', facecolor = 'goldenrod'))\n",
    "        elif feat_type == 'CYTOPLASMIC':\n",
    "            ax.add_patch(Rectangle((x1, y1), x2, y2, ec='black', facecolor = 'cornflowerblue'))\n",
    "        else:\n",
    "            ax.add_patch(Rectangle((x1, y1), x2, y2, ec='black', facecolor = 'grey'))\n",
    "         \n",
    "        plt.text(x=cds_pos, y=y1+0.34, s='*', color='red', size=18)\n",
    "\n",
    "\n",
    "# legend \n",
    "\n",
    "colors = ['purple', 'purple', 'purple', 'purple', 'purple', 'purple']\n",
    "\n",
    "for ytick, color in zip(ax.get_yticklabels()[0:16], colors):\n",
    "    ytick.set_color(color)\n",
    "    \n",
    "\n",
    "plt.rcParams[\"legend.fontsize\"] = 18\n",
    "M = mpatches.Patch(color='goldenrod', label='TM')\n",
    "I = mpatches.Patch(color='cornflowerblue', label='CYTOPLSM')\n",
    "O = mpatches.Patch(color='grey', label='other')\n",
    "\n",
    "plt.legend(handles=[M, I, O])"
   ]
  },
  {
   "cell_type": "code",
   "execution_count": null,
   "metadata": {},
   "outputs": [],
   "source": []
  },
  {
   "cell_type": "code",
   "execution_count": null,
   "metadata": {},
   "outputs": [],
   "source": []
  },
  {
   "cell_type": "markdown",
   "metadata": {},
   "source": [
    "# HPA localisations for Phobius predictions "
   ]
  },
  {
   "cell_type": "code",
   "execution_count": 440,
   "metadata": {},
   "outputs": [
    {
     "data": {
      "text/html": [
       "<div>\n",
       "<style scoped>\n",
       "    .dataframe tbody tr th:only-of-type {\n",
       "        vertical-align: middle;\n",
       "    }\n",
       "\n",
       "    .dataframe tbody tr th {\n",
       "        vertical-align: top;\n",
       "    }\n",
       "\n",
       "    .dataframe thead th {\n",
       "        text-align: right;\n",
       "    }\n",
       "</style>\n",
       "<table border=\"1\" class=\"dataframe\">\n",
       "  <thead>\n",
       "    <tr style=\"text-align: right;\">\n",
       "      <th></th>\n",
       "      <th>gene</th>\n",
       "      <th>Main location</th>\n",
       "      <th>Additional location</th>\n",
       "      <th>Extracellular location</th>\n",
       "    </tr>\n",
       "  </thead>\n",
       "  <tbody>\n",
       "    <tr>\n",
       "      <th>7529</th>\n",
       "      <td>LY6K</td>\n",
       "      <td>Plasma membrane</td>\n",
       "      <td>Nucleoplasm</td>\n",
       "      <td>Predicted to be secreted</td>\n",
       "    </tr>\n",
       "    <tr>\n",
       "      <th>10205</th>\n",
       "      <td>SOX2</td>\n",
       "      <td>Nucleoplasm</td>\n",
       "      <td>NaN</td>\n",
       "      <td>NaN</td>\n",
       "    </tr>\n",
       "  </tbody>\n",
       "</table>\n",
       "</div>"
      ],
      "text/plain": [
       "       gene    Main location Additional location    Extracellular location\n",
       "7529   LY6K  Plasma membrane         Nucleoplasm  Predicted to be secreted\n",
       "10205  SOX2      Nucleoplasm                 NaN                       NaN"
      ]
     },
     "execution_count": 440,
     "metadata": {},
     "output_type": "execute_result"
    }
   ],
   "source": [
    "sel_loc[sel_loc['gene'].isin(selected_phylo_genes+selected_ribo_genes)]"
   ]
  },
  {
   "cell_type": "code",
   "execution_count": null,
   "metadata": {},
   "outputs": [],
   "source": []
  },
  {
   "cell_type": "code",
   "execution_count": null,
   "metadata": {},
   "outputs": [],
   "source": []
  },
  {
   "cell_type": "code",
   "execution_count": null,
   "metadata": {},
   "outputs": [],
   "source": []
  },
  {
   "cell_type": "markdown",
   "metadata": {},
   "source": [
    "# Supplementary tables "
   ]
  },
  {
   "cell_type": "markdown",
   "metadata": {},
   "source": [
    "### SignalP: riboset and phyloset "
   ]
  },
  {
   "cell_type": "code",
   "execution_count": 500,
   "metadata": {},
   "outputs": [],
   "source": [
    "tmp = signalP_df_r[(signalP_df_r['class'] != 'OTHER') & \n",
    "             (signalP_df_r['SP_seq'] != 'CS pos: ?. Probable protein fragment')][['tr_id', 'gene', \n",
    "                                                                                  'class', 'SP_score', 'Other_score', \n",
    "                                                                                 'SP_seq']]\n",
    "\n",
    "\n",
    "tmp['class'] = 'RiboSET'\n",
    "\n",
    "tmp.to_csv('Supplementary_tables_and_plots/tables/S9_signalP.txt', sep='\\t', index=False)"
   ]
  },
  {
   "cell_type": "code",
   "execution_count": null,
   "metadata": {},
   "outputs": [],
   "source": []
  },
  {
   "cell_type": "code",
   "execution_count": null,
   "metadata": {},
   "outputs": [],
   "source": []
  },
  {
   "cell_type": "markdown",
   "metadata": {},
   "source": [
    "### TargetP: riboset and phyloset "
   ]
  },
  {
   "cell_type": "code",
   "execution_count": 507,
   "metadata": {},
   "outputs": [],
   "source": [
    "tmp = targetP_riboset[(targetP_riboset['seq_m'].notna()) & (targetP_riboset['class'] == 'mTP')][['gene', 'tr_id', \n",
    "                                                                                          'class', 'score_other',\n",
    "                                                                                          'score_sp', 'score_m',\n",
    "                                                                                          'seq_m']]\n",
    "\n",
    "tmp.columns = ['gene', 'tr_id', 'pred_class', 'score_other', 'score_sp', 'score_m', 'seq_m']\n",
    "\n",
    "tmp['class'] = 'RiboSET'\n",
    "\n",
    "tmp.to_csv('Supplementary_tables_and_plots/tables/S9_targetP.txt', sep='\\t', index=False)"
   ]
  },
  {
   "cell_type": "code",
   "execution_count": null,
   "metadata": {},
   "outputs": [],
   "source": []
  },
  {
   "cell_type": "markdown",
   "metadata": {},
   "source": [
    "### TMHMM_RiboSET_PhyloSET"
   ]
  },
  {
   "cell_type": "code",
   "execution_count": 450,
   "metadata": {},
   "outputs": [],
   "source": [
    "tmp2 = parse_df[(parse_df['any_m'] == True)][['tr_id', 'gene', 'real_seq', 'prediction_seq']]\n",
    "tmp2['class'] = 'PhyloSET'"
   ]
  },
  {
   "cell_type": "code",
   "execution_count": 451,
   "metadata": {},
   "outputs": [],
   "source": [
    "tmp1 = parse_df_r[(parse_df_r['any_m'] == True) & \n",
    "         (~parse_df_r['gene'].isin(['PTPRJ', 'STIM2', 'AP3S1']))][['tr_id', 'gene', 'real_seq', 'prediction_seq']]\n",
    "\n",
    "tmp1['class'] = 'RiboSET'"
   ]
  },
  {
   "cell_type": "code",
   "execution_count": 452,
   "metadata": {},
   "outputs": [],
   "source": [
    "pd.concat([tmp1, tmp2]).to_csv('Supplementary_tables_and_plots/tables/S9_TMHMM_PhyloSET_RiboSET.txt', sep='\\t', index=False)"
   ]
  },
  {
   "cell_type": "code",
   "execution_count": null,
   "metadata": {},
   "outputs": [],
   "source": []
  },
  {
   "cell_type": "code",
   "execution_count": null,
   "metadata": {},
   "outputs": [],
   "source": []
  },
  {
   "cell_type": "markdown",
   "metadata": {},
   "source": [
    "### Phobius_RiboSET_PhyloSET"
   ]
  },
  {
   "cell_type": "code",
   "execution_count": 462,
   "metadata": {},
   "outputs": [
    {
     "name": "stderr",
     "output_type": "stream",
     "text": [
      "/home/alla/.local/lib/python3.7/site-packages/ipykernel_launcher.py:2: SettingWithCopyWarning: \n",
      "A value is trying to be set on a copy of a slice from a DataFrame.\n",
      "Try using .loc[row_indexer,col_indexer] = value instead\n",
      "\n",
      "See the caveats in the documentation: https://pandas.pydata.org/pandas-docs/stable/user_guide/indexing.html#returning-a-view-versus-a-copy\n",
      "  \n"
     ]
    }
   ],
   "source": [
    "tmp2 = phob_phyloset_parse_df[phob_phyloset_parse_df['gene'].isin(selected_phylo_genes)]\n",
    "tmp2['class'] = 'PhyloSET'"
   ]
  },
  {
   "cell_type": "code",
   "execution_count": 463,
   "metadata": {},
   "outputs": [
    {
     "name": "stderr",
     "output_type": "stream",
     "text": [
      "/home/alla/.local/lib/python3.7/site-packages/ipykernel_launcher.py:2: SettingWithCopyWarning: \n",
      "A value is trying to be set on a copy of a slice from a DataFrame.\n",
      "Try using .loc[row_indexer,col_indexer] = value instead\n",
      "\n",
      "See the caveats in the documentation: https://pandas.pydata.org/pandas-docs/stable/user_guide/indexing.html#returning-a-view-versus-a-copy\n",
      "  \n"
     ]
    }
   ],
   "source": [
    "tmp1 = phob_riboset_parse_df[phob_riboset_parse_df['gene'].isin(selected_ribo_genes)]\n",
    "tmp1['class'] = 'RiboSET'"
   ]
  },
  {
   "cell_type": "code",
   "execution_count": 465,
   "metadata": {},
   "outputs": [],
   "source": [
    "pd.concat([tmp1, tmp2]).to_csv('Supplementary_tables_and_plots/tables/S9_Phobius_PhyloSET_RiboSET.txt', sep='\\t', index=False)"
   ]
  },
  {
   "cell_type": "code",
   "execution_count": null,
   "metadata": {},
   "outputs": [],
   "source": []
  },
  {
   "cell_type": "code",
   "execution_count": null,
   "metadata": {},
   "outputs": [],
   "source": []
  },
  {
   "cell_type": "code",
   "execution_count": null,
   "metadata": {},
   "outputs": [],
   "source": []
  },
  {
   "cell_type": "code",
   "execution_count": null,
   "metadata": {},
   "outputs": [],
   "source": []
  },
  {
   "cell_type": "markdown",
   "metadata": {},
   "source": [
    "-------------------"
   ]
  },
  {
   "cell_type": "code",
   "execution_count": 453,
   "metadata": {},
   "outputs": [
    {
     "data": {
      "text/html": [
       "<div>\n",
       "<style scoped>\n",
       "    .dataframe tbody tr th:only-of-type {\n",
       "        vertical-align: middle;\n",
       "    }\n",
       "\n",
       "    .dataframe tbody tr th {\n",
       "        vertical-align: top;\n",
       "    }\n",
       "\n",
       "    .dataframe thead th {\n",
       "        text-align: right;\n",
       "    }\n",
       "</style>\n",
       "<table border=\"1\" class=\"dataframe\">\n",
       "  <thead>\n",
       "    <tr style=\"text-align: right;\">\n",
       "      <th></th>\n",
       "      <th>tr_id</th>\n",
       "      <th>gene</th>\n",
       "      <th>N_term_start1</th>\n",
       "      <th>N_term_end1</th>\n",
       "      <th>len_codons</th>\n",
       "      <th>global_coo_50_and_less</th>\n",
       "      <th>strand</th>\n",
       "      <th>global_coo_primary</th>\n",
       "      <th>PhyloCSF120score</th>\n",
       "      <th>number_of_records</th>\n",
       "      <th>ovlp</th>\n",
       "      <th>Riboseq_Summary</th>\n",
       "      <th>Coverage_value_ext</th>\n",
       "      <th>Proteomics_count_ext</th>\n",
       "      <th>tag</th>\n",
       "      <th>transcript_type</th>\n",
       "      <th>CDS_ratio</th>\n",
       "      <th>start_codon_local_coo_start</th>\n",
       "      <th>start_codon</th>\n",
       "    </tr>\n",
       "  </thead>\n",
       "  <tbody>\n",
       "  </tbody>\n",
       "</table>\n",
       "</div>"
      ],
      "text/plain": [
       "Empty DataFrame\n",
       "Columns: [tr_id, gene, N_term_start1, N_term_end1, len_codons, global_coo_50_and_less, strand, global_coo_primary, PhyloCSF120score, number_of_records, ovlp, Riboseq_Summary, Coverage_value_ext, Proteomics_count_ext, tag, transcript_type, CDS_ratio, start_codon_local_coo_start, start_codon]\n",
       "Index: []"
      ]
     },
     "execution_count": 453,
     "metadata": {},
     "output_type": "execute_result"
    }
   ],
   "source": [
    "RiboSET[RiboSET['gene'].isin(['PDLIM2', 'PNC1', 'PBK', 'WDR3', 'HRG1'])]"
   ]
  },
  {
   "cell_type": "code",
   "execution_count": 454,
   "metadata": {},
   "outputs": [
    {
     "data": {
      "text/html": [
       "<div>\n",
       "<style scoped>\n",
       "    .dataframe tbody tr th:only-of-type {\n",
       "        vertical-align: middle;\n",
       "    }\n",
       "\n",
       "    .dataframe tbody tr th {\n",
       "        vertical-align: top;\n",
       "    }\n",
       "\n",
       "    .dataframe thead th {\n",
       "        text-align: right;\n",
       "    }\n",
       "</style>\n",
       "<table border=\"1\" class=\"dataframe\">\n",
       "  <thead>\n",
       "    <tr style=\"text-align: right;\">\n",
       "      <th></th>\n",
       "      <th>tr_id</th>\n",
       "      <th>gene</th>\n",
       "      <th>N_term_start1</th>\n",
       "      <th>N_term_end1</th>\n",
       "      <th>len_codons</th>\n",
       "      <th>global_coo_50_and_less</th>\n",
       "      <th>strand</th>\n",
       "      <th>global_coo_primary</th>\n",
       "      <th>PhyloCSF120score</th>\n",
       "      <th>number_of_records</th>\n",
       "      <th>ovlp</th>\n",
       "      <th>Riboseq_Summary</th>\n",
       "      <th>Coverage_value_ext</th>\n",
       "      <th>Proteomics_count_ext</th>\n",
       "      <th>tag</th>\n",
       "      <th>transcript_type</th>\n",
       "    </tr>\n",
       "  </thead>\n",
       "  <tbody>\n",
       "  </tbody>\n",
       "</table>\n",
       "</div>"
      ],
      "text/plain": [
       "Empty DataFrame\n",
       "Columns: [tr_id, gene, N_term_start1, N_term_end1, len_codons, global_coo_50_and_less, strand, global_coo_primary, PhyloCSF120score, number_of_records, ovlp, Riboseq_Summary, Coverage_value_ext, Proteomics_count_ext, tag, transcript_type]\n",
       "Index: []"
      ]
     },
     "execution_count": 454,
     "metadata": {},
     "output_type": "execute_result"
    }
   ],
   "source": [
    "PhyloSET[PhyloSET['gene'].isin(['PDLIM2', 'PNC1', 'PBK', 'WDR3', 'HRG1'])]"
   ]
  }
 ],
 "metadata": {
  "kernelspec": {
   "display_name": "Python 3",
   "language": "python",
   "name": "python3"
  },
  "language_info": {
   "codemirror_mode": {
    "name": "ipython",
    "version": 3
   },
   "file_extension": ".py",
   "mimetype": "text/x-python",
   "name": "python",
   "nbconvert_exporter": "python",
   "pygments_lexer": "ipython3",
   "version": "3.7.3"
  }
 },
 "nbformat": 4,
 "nbformat_minor": 2
}
