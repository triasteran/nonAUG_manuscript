{
 "cells": [
  {
   "cell_type": "code",
   "execution_count": 3,
   "metadata": {},
   "outputs": [],
   "source": [
    "%matplotlib inline\n",
    "\n",
    "import numpy as np\n",
    "import collections\n",
    "from collections import OrderedDict, Counter, defaultdict\n",
    "import pandas as pd\n",
    "\n",
    "import Bio\n",
    "from Bio import SeqIO\n",
    "\n",
    "import seaborn as sns\n",
    "import matplotlib.pyplot as plt\n",
    "from bokeh.plotting import figure, output_file, show \n",
    "import matplotlib.patches as patches    \n",
    "from matplotlib import colors\n",
    "\n",
    "\n",
    "import glob\n",
    "\n",
    "import subprocess\n",
    "from subprocess import call\n",
    "\n",
    "import re\n",
    "\n",
    "import pickle\n",
    "\n",
    "from Bio.SubsMat import MatrixInfo\n",
    "import Bio.Data.CodonTable\n",
    "\n",
    "from scipy import stats\n",
    "\n",
    "\n",
    "from Bio.SubsMat import MatrixInfo\n",
    "import Bio.Data.CodonTable"
   ]
  },
  {
   "cell_type": "code",
   "execution_count": 4,
   "metadata": {},
   "outputs": [
    {
     "data": {
      "text/html": [
       "<div>\n",
       "<style scoped>\n",
       "    .dataframe tbody tr th:only-of-type {\n",
       "        vertical-align: middle;\n",
       "    }\n",
       "\n",
       "    .dataframe tbody tr th {\n",
       "        vertical-align: top;\n",
       "    }\n",
       "\n",
       "    .dataframe thead th {\n",
       "        text-align: right;\n",
       "    }\n",
       "</style>\n",
       "<table border=\"1\" class=\"dataframe\">\n",
       "  <thead>\n",
       "    <tr style=\"text-align: right;\">\n",
       "      <th></th>\n",
       "      <th>tr_id</th>\n",
       "      <th>gene</th>\n",
       "      <th>N_term_start1</th>\n",
       "      <th>N_term_end1</th>\n",
       "      <th>len_codons</th>\n",
       "      <th>global_coo_50_and_less</th>\n",
       "      <th>strand</th>\n",
       "      <th>global_coo_primary</th>\n",
       "      <th>PhyloCSF120score</th>\n",
       "      <th>number_of_records</th>\n",
       "      <th>ovlp</th>\n",
       "      <th>Riboseq_Summary</th>\n",
       "      <th>Coverage_value_ext</th>\n",
       "      <th>Proteomics_count_ext</th>\n",
       "      <th>tag</th>\n",
       "      <th>transcript_type</th>\n",
       "      <th>CDS_ratio</th>\n",
       "      <th>pos_of_codon</th>\n",
       "      <th>codon</th>\n",
       "    </tr>\n",
       "  </thead>\n",
       "  <tbody>\n",
       "    <tr>\n",
       "      <th>0</th>\n",
       "      <td>ENST00000379389.4</td>\n",
       "      <td>ISG15</td>\n",
       "      <td>1</td>\n",
       "      <td>151</td>\n",
       "      <td>50.0</td>\n",
       "      <td>chr1:1013424-1013573</td>\n",
       "      <td>+</td>\n",
       "      <td>chr1:1013424-1013573</td>\n",
       "      <td>-2443.9971</td>\n",
       "      <td>111</td>\n",
       "      <td>0;0;0</td>\n",
       "      <td>ATC; 98-152; Rank: 288; cov: 53.85</td>\n",
       "      <td>53.846154</td>\n",
       "      <td>0.0</td>\n",
       "      <td>basic,appris_principal_1,CCDS</td>\n",
       "      <td>protein_coding</td>\n",
       "      <td>0.327240</td>\n",
       "      <td>97</td>\n",
       "      <td>ATC</td>\n",
       "    </tr>\n",
       "    <tr>\n",
       "      <th>1</th>\n",
       "      <td>ENST00000349431.10</td>\n",
       "      <td>UBE2J2</td>\n",
       "      <td>28</td>\n",
       "      <td>220</td>\n",
       "      <td>64.0</td>\n",
       "      <td>chr1:1273666-1273815</td>\n",
       "      <td>-</td>\n",
       "      <td>chr1:1273666-1273857</td>\n",
       "      <td>-1285.8186</td>\n",
       "      <td>78</td>\n",
       "      <td>0;0;0</td>\n",
       "      <td>ACG; 173-221; Rank: 328; cov: 90.91</td>\n",
       "      <td>90.909091</td>\n",
       "      <td>0.0</td>\n",
       "      <td>basic,appris_principal_1,CCDS</td>\n",
       "      <td>protein_coding</td>\n",
       "      <td>0.762814</td>\n",
       "      <td>172</td>\n",
       "      <td>ACG</td>\n",
       "    </tr>\n",
       "  </tbody>\n",
       "</table>\n",
       "</div>"
      ],
      "text/plain": [
       "                tr_id    gene  N_term_start1  N_term_end1  len_codons  \\\n",
       "0   ENST00000379389.4   ISG15              1          151        50.0   \n",
       "1  ENST00000349431.10  UBE2J2             28          220        64.0   \n",
       "\n",
       "  global_coo_50_and_less strand    global_coo_primary  PhyloCSF120score  \\\n",
       "0   chr1:1013424-1013573      +  chr1:1013424-1013573        -2443.9971   \n",
       "1   chr1:1273666-1273815      -  chr1:1273666-1273857        -1285.8186   \n",
       "\n",
       "   number_of_records   ovlp                      Riboseq_Summary  \\\n",
       "0                111  0;0;0   ATC; 98-152; Rank: 288; cov: 53.85   \n",
       "1                 78  0;0;0  ACG; 173-221; Rank: 328; cov: 90.91   \n",
       "\n",
       "   Coverage_value_ext  Proteomics_count_ext                            tag  \\\n",
       "0           53.846154                   0.0  basic,appris_principal_1,CCDS   \n",
       "1           90.909091                   0.0  basic,appris_principal_1,CCDS   \n",
       "\n",
       "  transcript_type  CDS_ratio  pos_of_codon codon  \n",
       "0  protein_coding   0.327240            97   ATC  \n",
       "1  protein_coding   0.762814           172   ACG  "
      ]
     },
     "execution_count": 4,
     "metadata": {},
     "output_type": "execute_result"
    }
   ],
   "source": [
    "# open metadata with scores and metrics\n",
    "meta = pd.read_csv('tmp_res/METADATA_CURRENT.txt', sep='\\t')\n",
    "\n",
    "# gencode 25\n",
    "metadata_pc_g25 = pd.read_csv('tmp_res/metadata_pc_g25.txt', sep='\\t')\n",
    "\n",
    "\n",
    "P_Set = pd.read_csv('tmp_res/SET1.txt', sep='\\t')\n",
    "\n",
    "R_Set = pd.read_csv('tmp_res/SET2.txt', sep='\\t')\n",
    "\n",
    "R_Set['pos_of_codon'] = [int(x.split('; ')[1].split('-')[0])-1 for x in R_Set.Riboseq_Summary.tolist()]\n",
    "\n",
    "R_Set['codon'] = [x.split('; ')[0] for x in R_Set.Riboseq_Summary.tolist()]\n",
    "\n",
    "R_Set[0:2]"
   ]
  },
  {
   "cell_type": "code",
   "execution_count": 5,
   "metadata": {},
   "outputs": [
    {
     "name": "stderr",
     "output_type": "stream",
     "text": [
      "/home/alla/.local/lib/python3.7/site-packages/ipykernel_launcher.py:14: SettingWithCopyWarning: \n",
      "A value is trying to be set on a copy of a slice from a DataFrame.\n",
      "Try using .loc[row_indexer,col_indexer] = value instead\n",
      "\n",
      "See the caveats in the documentation: https://pandas.pydata.org/pandas-docs/stable/user_guide/indexing.html#returning-a-view-versus-a-copy\n",
      "  \n"
     ]
    },
    {
     "data": {
      "text/html": [
       "<div>\n",
       "<style scoped>\n",
       "    .dataframe tbody tr th:only-of-type {\n",
       "        vertical-align: middle;\n",
       "    }\n",
       "\n",
       "    .dataframe tbody tr th {\n",
       "        vertical-align: top;\n",
       "    }\n",
       "\n",
       "    .dataframe thead th {\n",
       "        text-align: right;\n",
       "    }\n",
       "</style>\n",
       "<table border=\"1\" class=\"dataframe\">\n",
       "  <thead>\n",
       "    <tr style=\"text-align: right;\">\n",
       "      <th></th>\n",
       "      <th>gene_ext</th>\n",
       "      <th>tr_id1</th>\n",
       "      <th>Start_ext</th>\n",
       "      <th>Stop_ext</th>\n",
       "      <th>global_rank_ext</th>\n",
       "      <th>Start_codon_ext</th>\n",
       "      <th>Proteomics_count_ext</th>\n",
       "      <th>Coverage_value_ext</th>\n",
       "      <th>CDS_ratio</th>\n",
       "      <th>Riboseq_Summary</th>\n",
       "    </tr>\n",
       "  </thead>\n",
       "  <tbody>\n",
       "    <tr>\n",
       "      <th>0</th>\n",
       "      <td>ASPH</td>\n",
       "      <td>ENST00000379454</td>\n",
       "      <td>144</td>\n",
       "      <td>189</td>\n",
       "      <td>1</td>\n",
       "      <td>CTG</td>\n",
       "      <td>0.0</td>\n",
       "      <td>100.000000</td>\n",
       "      <td>1.645069</td>\n",
       "      <td>CTG; 144-189; Rank: 1; cov: 100.0</td>\n",
       "    </tr>\n",
       "    <tr>\n",
       "      <th>1</th>\n",
       "      <td>HSP90AA1</td>\n",
       "      <td>ENST00000216281</td>\n",
       "      <td>168</td>\n",
       "      <td>207</td>\n",
       "      <td>2</td>\n",
       "      <td>GTG</td>\n",
       "      <td>0.0</td>\n",
       "      <td>100.000000</td>\n",
       "      <td>3.081078</td>\n",
       "      <td>GTG; 168-207; Rank: 2; cov: 100.0</td>\n",
       "    </tr>\n",
       "    <tr>\n",
       "      <th>2</th>\n",
       "      <td>CD24</td>\n",
       "      <td>ENST00000619133</td>\n",
       "      <td>408</td>\n",
       "      <td>441</td>\n",
       "      <td>3</td>\n",
       "      <td>CTG</td>\n",
       "      <td>0.0</td>\n",
       "      <td>83.333333</td>\n",
       "      <td>11.578498</td>\n",
       "      <td>CTG; 408-441; Rank: 3; cov: 83.33</td>\n",
       "    </tr>\n",
       "    <tr>\n",
       "      <th>3</th>\n",
       "      <td>HN1</td>\n",
       "      <td>ENST00000409753</td>\n",
       "      <td>242</td>\n",
       "      <td>287</td>\n",
       "      <td>4</td>\n",
       "      <td>TTG</td>\n",
       "      <td>0.0</td>\n",
       "      <td>100.000000</td>\n",
       "      <td>0.588389</td>\n",
       "      <td>TTG; 242-287; Rank: 4; cov: 100.0</td>\n",
       "    </tr>\n",
       "    <tr>\n",
       "      <th>4</th>\n",
       "      <td>YBX1</td>\n",
       "      <td>ENST00000321358</td>\n",
       "      <td>44</td>\n",
       "      <td>140</td>\n",
       "      <td>5</td>\n",
       "      <td>CTG</td>\n",
       "      <td>0.0</td>\n",
       "      <td>85.185185</td>\n",
       "      <td>7.709763</td>\n",
       "      <td>CTG; 44-140; Rank: 5; cov: 85.19</td>\n",
       "    </tr>\n",
       "  </tbody>\n",
       "</table>\n",
       "</div>"
      ],
      "text/plain": [
       "   gene_ext           tr_id1  Start_ext  Stop_ext  global_rank_ext  \\\n",
       "0      ASPH  ENST00000379454        144       189                1   \n",
       "1  HSP90AA1  ENST00000216281        168       207                2   \n",
       "2      CD24  ENST00000619133        408       441                3   \n",
       "3       HN1  ENST00000409753        242       287                4   \n",
       "4      YBX1  ENST00000321358         44       140                5   \n",
       "\n",
       "  Start_codon_ext  Proteomics_count_ext  Coverage_value_ext  CDS_ratio  \\\n",
       "0             CTG                   0.0          100.000000   1.645069   \n",
       "1             GTG                   0.0          100.000000   3.081078   \n",
       "2             CTG                   0.0           83.333333  11.578498   \n",
       "3             TTG                   0.0          100.000000   0.588389   \n",
       "4             CTG                   0.0           85.185185   7.709763   \n",
       "\n",
       "                     Riboseq_Summary  \n",
       "0  CTG; 144-189; Rank: 1; cov: 100.0  \n",
       "1  GTG; 168-207; Rank: 2; cov: 100.0  \n",
       "2  CTG; 408-441; Rank: 3; cov: 83.33  \n",
       "3  TTG; 242-287; Rank: 4; cov: 100.0  \n",
       "4   CTG; 44-140; Rank: 5; cov: 85.19  "
      ]
     },
     "execution_count": 5,
     "metadata": {},
     "output_type": "execute_result"
    }
   ],
   "source": [
    "transl_with_all_codons = pd.read_csv('data/extensions_TripsViz_1perGene_AUG_NearCognates.txt', sep=',')\n",
    "\n",
    "transl_with_all_codons.columns = ['gene_ext', 'tr_id1', 'Start_ext', 'Stop_ext', 'len_ext', \n",
    "                                 'global_rank_ext', 'type_all_codons', 'trips_viz_link', 'Start_codon_ext', \n",
    "                                 'Highframe rank', 'Highframe value',\n",
    "       'Lowframe rank', 'Lowframe value', 'Stop rank', 'Stop value',\n",
    "       'Start rank', 'Start value', 'Coverage rank', 'Coverage_value_ext',\n",
    "       'Amino acid sequence', 'Proteomics_count_ext', 'CDS_ratio']\n",
    "\n",
    "transl_with_all_codons2 = transl_with_all_codons[['gene_ext', 'tr_id1', 'Start_ext', 'Stop_ext', \n",
    "                                                 'global_rank_ext', 'Start_codon_ext', \n",
    "                                                 'Proteomics_count_ext', 'Coverage_value_ext', 'CDS_ratio']]\n",
    "\n",
    "transl_with_all_codons2['Riboseq_Summary'] = transl_with_all_codons2['Start_codon_ext']+'; '+transl_with_all_codons2['Start_ext'].astype(str)+'-'+transl_with_all_codons2['Stop_ext'].astype(str)+'; Rank: '+transl_with_all_codons2['global_rank_ext'].astype(str)+'; cov: '+np.round(transl_with_all_codons2['Coverage_value_ext'],2).astype(str)\n",
    "\n",
    "\n",
    "transl_with_all_codons2[0:5]"
   ]
  },
  {
   "cell_type": "code",
   "execution_count": 8,
   "metadata": {},
   "outputs": [
    {
     "data": {
      "text/html": [
       "<div>\n",
       "<style scoped>\n",
       "    .dataframe tbody tr th:only-of-type {\n",
       "        vertical-align: middle;\n",
       "    }\n",
       "\n",
       "    .dataframe tbody tr th {\n",
       "        vertical-align: top;\n",
       "    }\n",
       "\n",
       "    .dataframe thead th {\n",
       "        text-align: right;\n",
       "    }\n",
       "</style>\n",
       "<table border=\"1\" class=\"dataframe\">\n",
       "  <thead>\n",
       "    <tr style=\"text-align: right;\">\n",
       "      <th></th>\n",
       "      <th>gene_ext</th>\n",
       "      <th>tr_id1</th>\n",
       "      <th>Start_ext</th>\n",
       "      <th>Stop_ext</th>\n",
       "      <th>global_rank_ext</th>\n",
       "      <th>Start_codon_ext</th>\n",
       "      <th>Proteomics_count_ext</th>\n",
       "      <th>Coverage_value_ext</th>\n",
       "      <th>CDS_ratio</th>\n",
       "      <th>Riboseq_Summary</th>\n",
       "    </tr>\n",
       "  </thead>\n",
       "  <tbody>\n",
       "    <tr>\n",
       "      <th>710</th>\n",
       "      <td>XRRA1</td>\n",
       "      <td>ENST00000340360</td>\n",
       "      <td>156</td>\n",
       "      <td>333</td>\n",
       "      <td>711</td>\n",
       "      <td>GTG</td>\n",
       "      <td>0.0</td>\n",
       "      <td>46.296296</td>\n",
       "      <td>0.969623</td>\n",
       "      <td>GTG; 156-333; Rank: 711; cov: 46.3</td>\n",
       "    </tr>\n",
       "  </tbody>\n",
       "</table>\n",
       "</div>"
      ],
      "text/plain": [
       "    gene_ext           tr_id1  Start_ext  Stop_ext  global_rank_ext  \\\n",
       "710    XRRA1  ENST00000340360        156       333              711   \n",
       "\n",
       "    Start_codon_ext  Proteomics_count_ext  Coverage_value_ext  CDS_ratio  \\\n",
       "710             GTG                   0.0           46.296296   0.969623   \n",
       "\n",
       "                        Riboseq_Summary  \n",
       "710  GTG; 156-333; Rank: 711; cov: 46.3  "
      ]
     },
     "execution_count": 8,
     "metadata": {},
     "output_type": "execute_result"
    }
   ],
   "source": [
    "transl_with_all_codons2[transl_with_all_codons2['gene_ext'] == 'XRRA1']"
   ]
  },
  {
   "cell_type": "code",
   "execution_count": 9,
   "metadata": {},
   "outputs": [
    {
     "data": {
      "text/html": [
       "<div>\n",
       "<style scoped>\n",
       "    .dataframe tbody tr th:only-of-type {\n",
       "        vertical-align: middle;\n",
       "    }\n",
       "\n",
       "    .dataframe tbody tr th {\n",
       "        vertical-align: top;\n",
       "    }\n",
       "\n",
       "    .dataframe thead th {\n",
       "        text-align: right;\n",
       "    }\n",
       "</style>\n",
       "<table border=\"1\" class=\"dataframe\">\n",
       "  <thead>\n",
       "    <tr style=\"text-align: right;\">\n",
       "      <th></th>\n",
       "      <th>gene_ext</th>\n",
       "      <th>tr_id1</th>\n",
       "      <th>Start_ext</th>\n",
       "      <th>Stop_ext</th>\n",
       "      <th>global_rank_ext</th>\n",
       "      <th>Start_codon_ext</th>\n",
       "      <th>Proteomics_count_ext</th>\n",
       "      <th>Coverage_value_ext</th>\n",
       "      <th>CDS_ratio</th>\n",
       "      <th>Riboseq_Summary</th>\n",
       "    </tr>\n",
       "  </thead>\n",
       "  <tbody>\n",
       "    <tr>\n",
       "      <th>303</th>\n",
       "      <td>NPLOC4</td>\n",
       "      <td>ENST00000331134</td>\n",
       "      <td>85</td>\n",
       "      <td>217</td>\n",
       "      <td>304</td>\n",
       "      <td>AAG</td>\n",
       "      <td>40.0</td>\n",
       "      <td>79.487179</td>\n",
       "      <td>0.228957</td>\n",
       "      <td>AAG; 85-217; Rank: 304; cov: 79.49</td>\n",
       "    </tr>\n",
       "  </tbody>\n",
       "</table>\n",
       "</div>"
      ],
      "text/plain": [
       "    gene_ext           tr_id1  Start_ext  Stop_ext  global_rank_ext  \\\n",
       "303   NPLOC4  ENST00000331134         85       217              304   \n",
       "\n",
       "    Start_codon_ext  Proteomics_count_ext  Coverage_value_ext  CDS_ratio  \\\n",
       "303             AAG                  40.0           79.487179   0.228957   \n",
       "\n",
       "                        Riboseq_Summary  \n",
       "303  AAG; 85-217; Rank: 304; cov: 79.49  "
      ]
     },
     "execution_count": 9,
     "metadata": {},
     "output_type": "execute_result"
    }
   ],
   "source": [
    "transl_with_all_codons2[transl_with_all_codons2['gene_ext'] == 'NPLOC4']"
   ]
  },
  {
   "cell_type": "code",
   "execution_count": null,
   "metadata": {},
   "outputs": [],
   "source": []
  },
  {
   "cell_type": "markdown",
   "metadata": {},
   "source": [
    "CDS_ratio is a ratio of the reads in the region of interest (so extensions in this case) to reads in the CDS, normalised by the corresponding length of each. \n",
    "\n",
    "ext_ratio / cds"
   ]
  },
  {
   "cell_type": "code",
   "execution_count": 10,
   "metadata": {},
   "outputs": [
    {
     "data": {
      "text/html": [
       "<div>\n",
       "<style scoped>\n",
       "    .dataframe tbody tr th:only-of-type {\n",
       "        vertical-align: middle;\n",
       "    }\n",
       "\n",
       "    .dataframe tbody tr th {\n",
       "        vertical-align: top;\n",
       "    }\n",
       "\n",
       "    .dataframe thead th {\n",
       "        text-align: right;\n",
       "    }\n",
       "</style>\n",
       "<table border=\"1\" class=\"dataframe\">\n",
       "  <thead>\n",
       "    <tr style=\"text-align: right;\">\n",
       "      <th></th>\n",
       "      <th>tr_id</th>\n",
       "      <th>gene</th>\n",
       "      <th>N_term_start1</th>\n",
       "      <th>N_term_end1</th>\n",
       "      <th>len_codons</th>\n",
       "      <th>global_coo_50_and_less</th>\n",
       "      <th>strand</th>\n",
       "      <th>global_coo_primary</th>\n",
       "      <th>PhyloCSF120score</th>\n",
       "      <th>number_of_records</th>\n",
       "      <th>ovlp</th>\n",
       "      <th>Riboseq_Summary</th>\n",
       "      <th>Coverage_value_ext</th>\n",
       "      <th>Proteomics_count_ext</th>\n",
       "      <th>tag</th>\n",
       "      <th>transcript_type</th>\n",
       "      <th>rank</th>\n",
       "      <th>summary</th>\n",
       "    </tr>\n",
       "  </thead>\n",
       "  <tbody>\n",
       "    <tr>\n",
       "      <th>0</th>\n",
       "      <td>ENST00000377898.3</td>\n",
       "      <td>HES3</td>\n",
       "      <td>2</td>\n",
       "      <td>65</td>\n",
       "      <td>21.0</td>\n",
       "      <td>chr1:6244194-6244241+chr1:6244351-6244365</td>\n",
       "      <td>+</td>\n",
       "      <td>chr1:6244194-6244241+chr1:6244351-6244365</td>\n",
       "      <td>210.1621</td>\n",
       "      <td>118</td>\n",
       "      <td>0;0;0</td>\n",
       "      <td>ACG; 6-66; Rank: 1907; cov: 40.0</td>\n",
       "      <td>40.0</td>\n",
       "      <td>0.0</td>\n",
       "      <td>basic,appris_principal_1,CCDS</td>\n",
       "      <td>protein_coding</td>\n",
       "      <td>1907</td>\n",
       "      <td>ACG; 6-66; Rank: 1907; cov: 40.0</td>\n",
       "    </tr>\n",
       "    <tr>\n",
       "      <th>1</th>\n",
       "      <td>ENST00000400907.6</td>\n",
       "      <td>RERE</td>\n",
       "      <td>2</td>\n",
       "      <td>74</td>\n",
       "      <td>24.0</td>\n",
       "      <td>chr1:8656298-8656369</td>\n",
       "      <td>-</td>\n",
       "      <td>chr1:8656298-8656369</td>\n",
       "      <td>108.1564</td>\n",
       "      <td>119</td>\n",
       "      <td>0;0;0</td>\n",
       "      <td>NaN</td>\n",
       "      <td>NaN</td>\n",
       "      <td>NaN</td>\n",
       "      <td>not_organism_supported,dotter_confirmed,basic</td>\n",
       "      <td>protein_coding</td>\n",
       "      <td>8000</td>\n",
       "      <td>NaN</td>\n",
       "    </tr>\n",
       "  </tbody>\n",
       "</table>\n",
       "</div>"
      ],
      "text/plain": [
       "               tr_id  gene  N_term_start1  N_term_end1  len_codons  \\\n",
       "0  ENST00000377898.3  HES3              2           65        21.0   \n",
       "1  ENST00000400907.6  RERE              2           74        24.0   \n",
       "\n",
       "                      global_coo_50_and_less strand  \\\n",
       "0  chr1:6244194-6244241+chr1:6244351-6244365      +   \n",
       "1                       chr1:8656298-8656369      -   \n",
       "\n",
       "                          global_coo_primary  PhyloCSF120score  \\\n",
       "0  chr1:6244194-6244241+chr1:6244351-6244365          210.1621   \n",
       "1                       chr1:8656298-8656369          108.1564   \n",
       "\n",
       "   number_of_records   ovlp                   Riboseq_Summary  \\\n",
       "0                118  0;0;0  ACG; 6-66; Rank: 1907; cov: 40.0   \n",
       "1                119  0;0;0                               NaN   \n",
       "\n",
       "   Coverage_value_ext  Proteomics_count_ext  \\\n",
       "0                40.0                   0.0   \n",
       "1                 NaN                   NaN   \n",
       "\n",
       "                                             tag transcript_type  rank  \\\n",
       "0                  basic,appris_principal_1,CCDS  protein_coding  1907   \n",
       "1  not_organism_supported,dotter_confirmed,basic  protein_coding  8000   \n",
       "\n",
       "                            summary  \n",
       "0  ACG; 6-66; Rank: 1907; cov: 40.0  \n",
       "1                               NaN  "
      ]
     },
     "execution_count": 10,
     "metadata": {},
     "output_type": "execute_result"
    }
   ],
   "source": [
    "li = []\n",
    "\n",
    "for el in P_Set[['tr_id', 'Riboseq_Summary']].to_numpy():\n",
    "    tr_id = el[0]\n",
    "    summary = el[1]\n",
    "    if summary is np.nan:\n",
    "        rank = 8000\n",
    "    else:\n",
    "        rank = int(summary.split('Rank: ')[1].split(';')[0])\n",
    "\n",
    "    li.append([tr_id, rank, summary])\n",
    "    \n",
    "df = pd.DataFrame(li, columns = ['tr_id', 'rank', 'summary'])\n",
    "\n",
    "P_Set2 = P_Set.merge(df, on='tr_id', how='inner')\n",
    "\n",
    "P_Set2[0:2]"
   ]
  },
  {
   "cell_type": "code",
   "execution_count": 11,
   "metadata": {},
   "outputs": [],
   "source": [
    "li = []\n",
    "\n",
    "for el in P_Set2[['gene', 'tr_id', 'rank']].to_numpy():\n",
    "    rank = el[2]\n",
    "    gene = el[0]\n",
    "    tr_id = el[1].split('.')[0]\n",
    "    cds_start_pos = metadata_pc_g25[metadata_pc_g25['tr_id'].str.contains(tr_id)].iloc[0].cds_start_pos \n",
    "    cds_stop_pos = metadata_pc_g25[metadata_pc_g25['tr_id'].str.contains(tr_id)].iloc[0].cds_stop_pos\n",
    "    frame = ((cds_start_pos) % 3) + 1\n",
    "    cds_len = cds_stop_pos - cds_start_pos\n",
    "    \n",
    "    if len(glob.glob('data/TRIPSlike_plots_data_PhyloSET/%s_%s_unamb.csv' % (gene, tr_id))) != 0:  \n",
    "        file_counts = pd.read_csv('data/TRIPSlike_plots_data_PhyloSET/%s_%s_unamb.csv' % (gene, tr_id))\n",
    "        CDS_counts = file_counts[cds_start_pos:cds_stop_pos]['Frame '+str(frame)].sum()\n",
    "        CDS_coverage = CDS_counts / cds_len\n",
    "    else:\n",
    "        CDS_coverage = 0\n",
    "        \n",
    "    \n",
    "    \n",
    "    \n",
    "    \n",
    "    #print ('frame 1', file_counts[cds_start_pos:cds_stop_pos]['Frame 1'].sum())\n",
    "    #print ('frame 2', file_counts[cds_start_pos:cds_stop_pos]['Frame 2'].sum())\n",
    "    #print ('frame 3', file_counts[cds_start_pos:cds_stop_pos]['Frame 3'].sum())\n",
    "    #print ('cds_frame', frame)\n",
    "    \n",
    "    li.append([gene, tr_id, cds_len, CDS_coverage, rank])"
   ]
  },
  {
   "cell_type": "code",
   "execution_count": 12,
   "metadata": {},
   "outputs": [
    {
     "data": {
      "text/html": [
       "<div>\n",
       "<style scoped>\n",
       "    .dataframe tbody tr th:only-of-type {\n",
       "        vertical-align: middle;\n",
       "    }\n",
       "\n",
       "    .dataframe tbody tr th {\n",
       "        vertical-align: top;\n",
       "    }\n",
       "\n",
       "    .dataframe thead th {\n",
       "        text-align: right;\n",
       "    }\n",
       "</style>\n",
       "<table border=\"1\" class=\"dataframe\">\n",
       "  <thead>\n",
       "    <tr style=\"text-align: right;\">\n",
       "      <th></th>\n",
       "      <th>gene</th>\n",
       "      <th>tr_id</th>\n",
       "      <th>cds_len</th>\n",
       "      <th>CDS_coverage</th>\n",
       "      <th>rank</th>\n",
       "    </tr>\n",
       "  </thead>\n",
       "  <tbody>\n",
       "    <tr>\n",
       "      <th>0</th>\n",
       "      <td>HES3</td>\n",
       "      <td>ENST00000377898</td>\n",
       "      <td>561</td>\n",
       "      <td>4.606061</td>\n",
       "      <td>1907</td>\n",
       "    </tr>\n",
       "    <tr>\n",
       "      <th>1</th>\n",
       "      <td>RERE</td>\n",
       "      <td>ENST00000400907</td>\n",
       "      <td>1755</td>\n",
       "      <td>3.852422</td>\n",
       "      <td>8000</td>\n",
       "    </tr>\n",
       "  </tbody>\n",
       "</table>\n",
       "</div>"
      ],
      "text/plain": [
       "   gene            tr_id  cds_len  CDS_coverage  rank\n",
       "0  HES3  ENST00000377898      561      4.606061  1907\n",
       "1  RERE  ENST00000400907     1755      3.852422  8000"
      ]
     },
     "execution_count": 12,
     "metadata": {},
     "output_type": "execute_result"
    }
   ],
   "source": [
    "plot_df = pd.DataFrame(li, columns = ['gene', 'tr_id', 'cds_len', 'CDS_coverage', 'rank'])\n",
    "\n",
    "plot_df[0:2]"
   ]
  },
  {
   "cell_type": "code",
   "execution_count": 13,
   "metadata": {},
   "outputs": [
    {
     "name": "stderr",
     "output_type": "stream",
     "text": [
      "/home/alla/.local/lib/python3.7/site-packages/ipykernel_launcher.py:3: RuntimeWarning: divide by zero encountered in log10\n",
      "  This is separate from the ipykernel package so we can avoid doing imports until\n"
     ]
    },
    {
     "data": {
      "image/png": "[encoded data removed]",
      "text/plain": [
       "<Figure size 288x252 with 1 Axes>"
      ]
     },
     "metadata": {
      "needs_background": "light"
     },
     "output_type": "display_data"
    }
   ],
   "source": [
    "plt.figure(figsize=(4,3.5))\n",
    "\n",
    "plt.scatter(y=np.log10(plot_df['CDS_coverage'].tolist()), \n",
    "            x=plot_df['rank'].tolist(), alpha=0.5)\n",
    "\n",
    "plt.xticks(range(0, 9000, 2000), [0, 2000, 4000, 6000, 'no rank'], fontsize=16, rotation=45)\n",
    "plt.yticks(fontsize=16)\n",
    "\n",
    "plt.xlabel('RiboSeq rank of NTEs', fontsize=18)\n",
    "plt.ylabel('average # footprints \\n at CDS, log10', fontsize=18)\n",
    "\n",
    "#plt.yscale('log')\n",
    "\n",
    "plt.show()"
   ]
  },
  {
   "cell_type": "code",
   "execution_count": 14,
   "metadata": {},
   "outputs": [
    {
     "data": {
      "text/plain": [
       "SpearmanrResult(correlation=-0.8734345997905292, pvalue=5.011869480957413e-15)"
      ]
     },
     "execution_count": 14,
     "metadata": {},
     "output_type": "execute_result"
    }
   ],
   "source": [
    "plot_df['log10_cds_cov'] = np.log(plot_df['CDS_coverage'].to_numpy()+0.01)\n",
    "\n",
    "y = plot_df[plot_df['rank'] != 8000]['log10_cds_cov'].tolist()\n",
    "\n",
    "x = plot_df[plot_df['rank'] != 8000]['rank'].tolist()\n",
    "\n",
    "from scipy import stats\n",
    "stats.spearmanr(y,x)"
   ]
  },
  {
   "cell_type": "code",
   "execution_count": 35,
   "metadata": {},
   "outputs": [
    {
     "name": "stderr",
     "output_type": "stream",
     "text": [
      "/home/alla/.local/lib/python3.7/site-packages/ipykernel_launcher.py:13: RuntimeWarning: divide by zero encountered in log10\n",
      "  del sys.path[0]\n"
     ]
    },
    {
     "data": {
      "image/png": "[encoded data removed]",
      "text/plain": [
       "<Figure size 230.4x230.4 with 1 Axes>"
      ]
     },
     "metadata": {
      "needs_background": "light"
     },
     "output_type": "display_data"
    }
   ],
   "source": [
    "plt.figure(figsize=(3.2,3.2))\n",
    "\n",
    "#sl, interc = np.polyfit(x, y, 1)\n",
    "\n",
    "#x1 = 0\n",
    "#x2 = 6000\n",
    "\n",
    "#y1 = x1*sl+interc\n",
    "#y2 = x2*sl+interc\n",
    "\n",
    "#plt.plot([x1,x2], [y1,y2], 'r-')\n",
    "\n",
    "plt.scatter(y=np.log10(plot_df['CDS_coverage'].tolist()), \n",
    "            x=plot_df['rank'].tolist(), alpha=0.5)\n",
    "\n",
    "plt.xticks(range(0, 9000, 2000), [0, 2000, 4000, 6000, 'no rank'], fontsize=16, rotation=20)\n",
    "plt.yticks(fontsize=16)\n",
    "\n",
    "plt.xlabel('RiboSeq rank of NTEs', fontsize=18)\n",
    "plt.ylabel('average # footprints \\n at CDS, log10', fontsize=18)\n",
    "\n",
    "#plt.legend(loc=9, prop={'size': 15})\n",
    "\n",
    "plt.text(x=1700, y=2.2, s='Sp.corr=-0.873 \\np-val=5.01e-15', fontsize=15)\n",
    "\n",
    "plt.ylim(-3, 3.5)\n",
    "\n",
    "plt.show()"
   ]
  },
  {
   "cell_type": "raw",
   "metadata": {},
   "source": [
    "With decrease of CDS_coverage, the rank is going higher which means that the less data we have, the lesser chance to detect extension. \n",
    "\n",
    "We can also see that there are many genes with assigned rank with various CDS_coverage, we showed a couple of examples of such genes in SX. "
   ]
  },
  {
   "cell_type": "code",
   "execution_count": null,
   "metadata": {},
   "outputs": [],
   "source": []
  },
  {
   "cell_type": "markdown",
   "metadata": {},
   "source": [
    "# Ovlp between PhyloSET and RiboSET and generated PhyloSET (60 genes from 20k) and RiboSET "
   ]
  },
  {
   "cell_type": "raw",
   "metadata": {},
   "source": [
    "S6 -> observed/expected ratio + p-value \n",
    "[0, 500] real ovlp = 8, expected = 2, ratio = 8/2 = 4\n",
    "[0, 1000] real ovlp = X, expected = y\n",
    "[0, 1500]\n",
    "Где-то observed/expected должен стать ~ 1, можно посчитать p-value до этой точки, So rank still has its predictive value till that point (which is higher than 500), so selected threshold is conserved. One would assume that PhyloSET is a set of true positives (although there are more true positives outside of the PhyloSET). \n"
   ]
  },
  {
   "cell_type": "code",
   "execution_count": 36,
   "metadata": {},
   "outputs": [
    {
     "name": "stdout",
     "output_type": "stream",
     "text": [
      "20330\n"
     ]
    }
   ],
   "source": [
    "from random import sample\n",
    "\n",
    "tmp = transl_with_all_codons2[['gene_ext', 'global_rank_ext']]\n",
    "\n",
    "all_genes = list(metadata_pc_g25.gene.unique())\n",
    "print (len(all_genes))\n",
    "\n",
    "\n",
    "def get_ovlp(thr=500):\n",
    "    if thr <= 10470:\n",
    "        return len(set(tmp[0:thr]['gene_ext'].tolist()).intersection(list(P_Set['gene'].unique())))\n",
    "    else: \n",
    "        return len(set(tmp[0:10470]['gene_ext'].tolist()).intersection(list(P_Set['gene'].unique())))"
   ]
  },
  {
   "cell_type": "code",
   "execution_count": 37,
   "metadata": {},
   "outputs": [
    {
     "name": "stdout",
     "output_type": "stream",
     "text": [
      "22\n"
     ]
    }
   ],
   "source": [
    "# PhyloSET and 500 RiboSET, PhyloSET and 1000 RiboSET, PhyloSET and 1500 RiboSET etc \n",
    "\n",
    "real_ovlps_based_on_thr = [get_ovlp(thr=thr) for thr in range(0, 11000, 500)]\n",
    "\n",
    "print (len(real_ovlps_based_on_thr))"
   ]
  },
  {
   "cell_type": "code",
   "execution_count": 38,
   "metadata": {},
   "outputs": [
    {
     "name": "stdout",
     "output_type": "stream",
     "text": [
      "22\n"
     ]
    }
   ],
   "source": [
    "# PhyloSET and 500, 1000, 1500 randomly drawn genes from 20k genes with 100 iterations \n",
    "random_ovlps = []\n",
    "\n",
    "for i in range(0, 11000, 500):\n",
    "    kek_li = []\n",
    "    for iter in range(0, 5000):\n",
    "        kek = len(set(P_Set.gene.tolist()).intersection(sample(all_genes, i)))\n",
    "        kek_li.append(kek)\n",
    "        \n",
    "    mean_kek = np.median(kek_li)\n",
    "    random_ovlps.append(mean_kek)\n",
    "    \n",
    "print (len(random_ovlps))"
   ]
  },
  {
   "cell_type": "code",
   "execution_count": 39,
   "metadata": {},
   "outputs": [
    {
     "data": {
      "text/plain": [
       "(22, 22, 22)"
      ]
     },
     "execution_count": 39,
     "metadata": {},
     "output_type": "execute_result"
    }
   ],
   "source": [
    "x = np.arange(0, 22, 1)\n",
    "\n",
    "axis_x = list(range(0, 11000, 500))\n",
    "\n",
    "len(real_ovlps_based_on_thr), len(random_ovlps), len(x)"
   ]
  },
  {
   "cell_type": "code",
   "execution_count": 40,
   "metadata": {},
   "outputs": [
    {
     "data": {
      "image/png": "[encoded data removed]",
      "text/plain": [
       "<Figure size 432x216 with 1 Axes>"
      ]
     },
     "metadata": {
      "needs_background": "light"
     },
     "output_type": "display_data"
    }
   ],
   "source": [
    "plt.figure(figsize=(6, 3))\n",
    "\n",
    "plt.plot(x, real_ovlps_based_on_thr, linewidth=2, markersize=12, label='RiboSET olvp PhyloSET')\n",
    "\n",
    "plt.plot(x, random_ovlps, linewidth=2, markersize=12, label='random ovlp PhyloSET')\n",
    "\n",
    "plt.yticks(list(range(0, 60, 10)), list(range(0, 60, 10)), fontsize=13)\n",
    "plt.xticks(np.arange(0, 22, 1), list(range(0, 11000, 500)), fontsize=13, rotation=90)\n",
    "\n",
    "plt.xlabel('rank', fontsize=17)\n",
    "\n",
    "plt.ylabel('# genes in ovlp', fontsize=17)\n",
    "\n",
    "#plt.legend(loc=1, prop={'size': 13})\n",
    "\n",
    "#plt.axvline(x=10.1, color = 'red', linestyle='--')\n",
    "\n",
    "\n",
    "plt.show()"
   ]
  },
  {
   "cell_type": "code",
   "execution_count": 41,
   "metadata": {},
   "outputs": [
    {
     "data": {
      "text/plain": [
       "43"
      ]
     },
     "execution_count": 41,
     "metadata": {},
     "output_type": "execute_result"
    }
   ],
   "source": [
    "len(set(tmp[0:5000]['gene_ext'].tolist()).intersection(P_Set['gene'].tolist()))"
   ]
  },
  {
   "cell_type": "code",
   "execution_count": null,
   "metadata": {},
   "outputs": [],
   "source": []
  },
  {
   "cell_type": "code",
   "execution_count": null,
   "metadata": {},
   "outputs": [],
   "source": []
  },
  {
   "cell_type": "markdown",
   "metadata": {},
   "source": [
    "# get increases "
   ]
  },
  {
   "cell_type": "code",
   "execution_count": 42,
   "metadata": {},
   "outputs": [
    {
     "data": {
      "text/plain": [
       "(21, 21, 21)"
      ]
     },
     "execution_count": 42,
     "metadata": {},
     "output_type": "execute_result"
    }
   ],
   "source": [
    "x = np.arange(0, 21, 1)\n",
    "\n",
    "axis_x = list(range(0, 11000, 500))\n",
    "\n",
    "a = [real_ovlps_based_on_thr[i+1]-real_ovlps_based_on_thr[i] for i in range(0, len(real_ovlps_based_on_thr)-1, 1)]\n",
    "b = [random_ovlps[i+1]-random_ovlps[i] for i in range(0, len(real_ovlps_based_on_thr)-1, 1)]\n",
    "\n",
    "len(a), len(b), len(x)"
   ]
  },
  {
   "cell_type": "code",
   "execution_count": 47,
   "metadata": {},
   "outputs": [
    {
     "data": {
      "image/png": "[encoded data removed]",
      "text/plain": [
       "<Figure size 504x216 with 1 Axes>"
      ]
     },
     "metadata": {
      "needs_background": "light"
     },
     "output_type": "display_data"
    }
   ],
   "source": [
    "plt.figure(figsize=(7, 3))\n",
    "\n",
    "plt.plot(x, a, linewidth=2, markersize=12, label='RiboSET with PhyloSET')\n",
    "\n",
    "plt.plot(x, b, linewidth=2, markersize=12, label='random with PhyloSET')\n",
    "\n",
    "plt.yticks(list(range(0, 9, 1)), list(range(0, 9, 1)), fontsize=15)\n",
    "plt.xticks(np.arange(0, 21, 1), list(range(500, 11000, 500)), fontsize=15, rotation=90)\n",
    "\n",
    "plt.xlabel('rank increase', fontsize=17)\n",
    "\n",
    "plt.ylabel('# genes increase \\nin ovlp', fontsize=17)\n",
    "\n",
    "plt.legend(loc=1, prop={'size': 15})\n",
    "\n",
    "#plt.axvline(x=10.1, color = 'red', linestyle='--')\n",
    "\n",
    "\n",
    "plt.show()"
   ]
  },
  {
   "cell_type": "code",
   "execution_count": null,
   "metadata": {},
   "outputs": [],
   "source": []
  },
  {
   "cell_type": "code",
   "execution_count": null,
   "metadata": {},
   "outputs": [],
   "source": []
  },
  {
   "cell_type": "markdown",
   "metadata": {},
   "source": [
    "# non-parametric test till rank is max "
   ]
  },
  {
   "cell_type": "code",
   "execution_count": 44,
   "metadata": {},
   "outputs": [
    {
     "data": {
      "text/plain": [
       "MannwhitneyuResult(statistic=16.0, pvalue=0.0019207426921144172)"
      ]
     },
     "execution_count": 44,
     "metadata": {},
     "output_type": "execute_result"
    }
   ],
   "source": [
    "# indepenent \n",
    "\n",
    "import scipy \n",
    "\n",
    "scipy.stats.mannwhitneyu(x = real_ovlps_based_on_thr[0:11], y = random_ovlps[0:11])"
   ]
  },
  {
   "cell_type": "code",
   "execution_count": 45,
   "metadata": {},
   "outputs": [
    {
     "ename": "SyntaxError",
     "evalue": "invalid syntax (<ipython-input-45-a512a1b238dc>, line 1)",
     "output_type": "error",
     "traceback": [
      "\u001b[0;36m  File \u001b[0;32m\"<ipython-input-45-a512a1b238dc>\"\u001b[0;36m, line \u001b[0;32m1\u001b[0m\n\u001b[0;31m    MannWhitney test, pval=0.002, stat=17.5\u001b[0m\n\u001b[0m                   ^\u001b[0m\n\u001b[0;31mSyntaxError\u001b[0m\u001b[0;31m:\u001b[0m invalid syntax\n"
     ]
    }
   ],
   "source": [
    "MannWhitney test, pval=0.002, stat=17.5"
   ]
  },
  {
   "cell_type": "code",
   "execution_count": null,
   "metadata": {},
   "outputs": [],
   "source": [
    "6500/500, len(a)"
   ]
  },
  {
   "cell_type": "code",
   "execution_count": null,
   "metadata": {},
   "outputs": [],
   "source": [
    "a[]"
   ]
  },
  {
   "cell_type": "code",
   "execution_count": null,
   "metadata": {},
   "outputs": [],
   "source": [
    "scipy.stats.mannwhitneyu(x = a[0:13], y = b[0:13])"
   ]
  },
  {
   "cell_type": "code",
   "execution_count": null,
   "metadata": {},
   "outputs": [],
   "source": [
    "pvalue=0.0016, statistic=28.5"
   ]
  }
 ],
 "metadata": {
  "kernelspec": {
   "display_name": "Python 3",
   "language": "python",
   "name": "python3"
  },
  "language_info": {
   "codemirror_mode": {
    "name": "ipython",
    "version": 3
   },
   "file_extension": ".py",
   "mimetype": "text/x-python",
   "name": "python",
   "nbconvert_exporter": "python",
   "pygments_lexer": "ipython3",
   "version": "3.7.6"
  }
 },
 "nbformat": 4,
 "nbformat_minor": 2
}
