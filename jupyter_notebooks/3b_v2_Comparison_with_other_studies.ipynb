{
 "cells": [
  {
   "cell_type": "code",
   "execution_count": 10,
   "metadata": {},
   "outputs": [],
   "source": [
    "%matplotlib inline\n",
    "\n",
    "import numpy as np\n",
    "import collections\n",
    "from collections import OrderedDict, Counter, defaultdict\n",
    "import pandas as pd\n",
    "\n",
    "import Bio\n",
    "from Bio import SeqIO\n",
    "\n",
    "import seaborn as sns\n",
    "import matplotlib.pyplot as plt\n",
    "\n",
    "import glob\n",
    "\n",
    "import subprocess\n",
    "from subprocess import call\n",
    "\n",
    "import re\n",
    "\n",
    "import pickle\n",
    "\n",
    "from gtfparse import read_gtf"
   ]
  },
  {
   "cell_type": "markdown",
   "metadata": {},
   "source": [
    "# PMID: 24623590"
   ]
  },
  {
   "cell_type": "code",
   "execution_count": 11,
   "metadata": {},
   "outputs": [],
   "source": [
    "ext_df = pd.read_csv('data/Lee_PMC4014282_extensions.txt', sep='\\t', header=None)\n",
    "\n",
    "ext_df = ext_df[[12, 13, 14, 8, 9, 16]]\n",
    "\n",
    "ext_df.columns = ['tr_id', 'gene', 'start_codon', 'peptide', 'pos_relative_to_TIS', 'type']"
   ]
  },
  {
   "cell_type": "code",
   "execution_count": 12,
   "metadata": {},
   "outputs": [],
   "source": [
    "ext_df[ext_df['type'] == 'n-term-ext'].to_csv('plots/final_S/SupY_PMC4014282_17extensions_Nterminomics_Riboseq.txt', sep='\\t', index=False)"
   ]
  },
  {
   "cell_type": "code",
   "execution_count": 13,
   "metadata": {},
   "outputs": [
    {
     "data": {
      "text/plain": [
       "['NM_000034',\n",
       " 'NM_001199697',\n",
       " 'NM_001143985',\n",
       " 'NM_004396',\n",
       " 'NM_004461',\n",
       " 'NM_004860',\n",
       " 'NM_004494',\n",
       " 'NM_004494',\n",
       " 'NM_003510',\n",
       " 'NM_006805',\n",
       " 'NM_001199155',\n",
       " 'NM_199187',\n",
       " 'NM_004539',\n",
       " 'NM_000269',\n",
       " 'NM_145886',\n",
       " 'NM_002675',\n",
       " 'NM_001008709',\n",
       " 'NM_006267',\n",
       " 'NM_001098426',\n",
       " 'NM_001040011',\n",
       " 'NM_032796',\n",
       " 'NM_014501',\n",
       " 'NM_001166221']"
      ]
     },
     "execution_count": 13,
     "metadata": {},
     "output_type": "execute_result"
    }
   ],
   "source": [
    "ext_df.tr_id.tolist()"
   ]
  },
  {
   "cell_type": "code",
   "execution_count": null,
   "metadata": {},
   "outputs": [],
   "source": []
  },
  {
   "cell_type": "code",
   "execution_count": null,
   "metadata": {},
   "outputs": [],
   "source": []
  },
  {
   "cell_type": "markdown",
   "metadata": {},
   "source": [
    "# Compare with PhyloSET and RiboSET"
   ]
  },
  {
   "cell_type": "code",
   "execution_count": 14,
   "metadata": {},
   "outputs": [],
   "source": [
    "# open SET1 (PhyloSET) and SET2 (RiboSET)\n",
    "SET1 = pd.read_csv('tmp_res/SET1.txt', sep='\\t')\n",
    "SET2 = pd.read_csv('tmp_res/SET2.txt', sep='\\t')"
   ]
  },
  {
   "cell_type": "code",
   "execution_count": null,
   "metadata": {},
   "outputs": [],
   "source": []
  },
  {
   "cell_type": "code",
   "execution_count": 15,
   "metadata": {},
   "outputs": [
    {
     "data": {
      "text/plain": [
       "'FXR2, HNRNPA0'"
      ]
     },
     "execution_count": 15,
     "metadata": {},
     "output_type": "execute_result"
    }
   ],
   "source": [
    "', '.join(list(set(SET1.gene.tolist()).intersection(ext_df.gene.tolist())))"
   ]
  },
  {
   "cell_type": "code",
   "execution_count": 16,
   "metadata": {},
   "outputs": [
    {
     "data": {
      "text/plain": [
       "'SYAP1, KAT7, HNRNPA0, HDGF, BAG6, FXR2, NARS'"
      ]
     },
     "execution_count": 16,
     "metadata": {},
     "output_type": "execute_result"
    }
   ],
   "source": [
    "', '.join(list(set(SET2.gene.tolist()).intersection(ext_df.gene.tolist())))"
   ]
  },
  {
   "cell_type": "raw",
   "metadata": {},
   "source": [
    "Two genes from PhyloSET (FXR2, HNRNPA0) and seven genes from RiboSET (NARS, HDGF, HNRNPA0, FXR2, SYAP1, KAT7, BAG6) were found in "
   ]
  },
  {
   "cell_type": "code",
   "execution_count": 17,
   "metadata": {},
   "outputs": [
    {
     "data": {
      "text/html": [
       "<div>\n",
       "<style scoped>\n",
       "    .dataframe tbody tr th:only-of-type {\n",
       "        vertical-align: middle;\n",
       "    }\n",
       "\n",
       "    .dataframe tbody tr th {\n",
       "        vertical-align: top;\n",
       "    }\n",
       "\n",
       "    .dataframe thead th {\n",
       "        text-align: right;\n",
       "    }\n",
       "</style>\n",
       "<table border=\"1\" class=\"dataframe\">\n",
       "  <thead>\n",
       "    <tr style=\"text-align: right;\">\n",
       "      <th></th>\n",
       "      <th>tr_id</th>\n",
       "      <th>gene</th>\n",
       "      <th>start_codon</th>\n",
       "      <th>peptide</th>\n",
       "      <th>pos_relative_to_TIS</th>\n",
       "      <th>type</th>\n",
       "    </tr>\n",
       "  </thead>\n",
       "  <tbody>\n",
       "    <tr>\n",
       "      <th>0</th>\n",
       "      <td>NM_000034</td>\n",
       "      <td>ALDOA</td>\n",
       "      <td>CTG</td>\n",
       "      <td>MDFQGR</td>\n",
       "      <td>-57</td>\n",
       "      <td>n-term-ext</td>\n",
       "    </tr>\n",
       "    <tr>\n",
       "      <th>1</th>\n",
       "      <td>NM_001199697</td>\n",
       "      <td>BAG6</td>\n",
       "      <td>ACG</td>\n",
       "      <td>MEVAVGGR</td>\n",
       "      <td>-36</td>\n",
       "      <td>n-term-ext</td>\n",
       "    </tr>\n",
       "    <tr>\n",
       "      <th>2</th>\n",
       "      <td>NM_001143985</td>\n",
       "      <td>BANF1</td>\n",
       "      <td>GTG</td>\n",
       "      <td>MEESSSGLR</td>\n",
       "      <td>-42</td>\n",
       "      <td>n-term-ext</td>\n",
       "    </tr>\n",
       "    <tr>\n",
       "      <th>3</th>\n",
       "      <td>NM_004396</td>\n",
       "      <td>DDX5</td>\n",
       "      <td>ATT</td>\n",
       "      <td>MDAMSGYSSDR</td>\n",
       "      <td>-9</td>\n",
       "      <td>n-term-ext</td>\n",
       "    </tr>\n",
       "    <tr>\n",
       "      <th>4</th>\n",
       "      <td>NM_004461</td>\n",
       "      <td>FARSA</td>\n",
       "      <td>CTG</td>\n",
       "      <td>MEGVMADGQVAELLLR</td>\n",
       "      <td>-12</td>\n",
       "      <td>n-term-ext</td>\n",
       "    </tr>\n",
       "    <tr>\n",
       "      <th>5</th>\n",
       "      <td>NM_004860</td>\n",
       "      <td>FXR2</td>\n",
       "      <td>GTG</td>\n",
       "      <td>AETKAAAADGER</td>\n",
       "      <td>-219</td>\n",
       "      <td>n-term-ext</td>\n",
       "    </tr>\n",
       "    <tr>\n",
       "      <th>6</th>\n",
       "      <td>NM_004494</td>\n",
       "      <td>HDGF</td>\n",
       "      <td>GTG</td>\n",
       "      <td>AAPELGPGATIEAGAAR</td>\n",
       "      <td>-150</td>\n",
       "      <td>n-term-ext</td>\n",
       "    </tr>\n",
       "    <tr>\n",
       "      <th>7</th>\n",
       "      <td>NM_004494</td>\n",
       "      <td>HDGF</td>\n",
       "      <td>ATT</td>\n",
       "      <td>MEFQTQTTAR</td>\n",
       "      <td>-255</td>\n",
       "      <td>n-term-ext</td>\n",
       "    </tr>\n",
       "    <tr>\n",
       "      <th>8</th>\n",
       "      <td>NM_003510</td>\n",
       "      <td>HIST1H2AK</td>\n",
       "      <td>CTG</td>\n",
       "      <td>MELAGNAAR</td>\n",
       "      <td>190</td>\n",
       "      <td>n-term-trunc</td>\n",
       "    </tr>\n",
       "    <tr>\n",
       "      <th>9</th>\n",
       "      <td>NM_006805</td>\n",
       "      <td>HNRNPA0</td>\n",
       "      <td>ACG</td>\n",
       "      <td>AATAKPR</td>\n",
       "      <td>-61</td>\n",
       "      <td>n-term-ext</td>\n",
       "    </tr>\n",
       "    <tr>\n",
       "      <th>10</th>\n",
       "      <td>NM_001199155</td>\n",
       "      <td>KAT7</td>\n",
       "      <td>ACG</td>\n",
       "      <td>MEPAGATVPAAAAAAR</td>\n",
       "      <td>-78</td>\n",
       "      <td>n-term-ext</td>\n",
       "    </tr>\n",
       "    <tr>\n",
       "      <th>11</th>\n",
       "      <td>NM_199187</td>\n",
       "      <td>KRT18</td>\n",
       "      <td>AAG</td>\n",
       "      <td>MIIEDLR</td>\n",
       "      <td>391</td>\n",
       "      <td>n-term-trunc</td>\n",
       "    </tr>\n",
       "    <tr>\n",
       "      <th>12</th>\n",
       "      <td>NM_004539</td>\n",
       "      <td>NARS</td>\n",
       "      <td>ACG</td>\n",
       "      <td>ASVLQSVSLEVTR</td>\n",
       "      <td>-54</td>\n",
       "      <td>n-term-ext</td>\n",
       "    </tr>\n",
       "    <tr>\n",
       "      <th>13</th>\n",
       "      <td>NM_000269</td>\n",
       "      <td>NME1</td>\n",
       "      <td>CTG</td>\n",
       "      <td>MEGTMANCER</td>\n",
       "      <td>-12</td>\n",
       "      <td>n-term-ext</td>\n",
       "    </tr>\n",
       "    <tr>\n",
       "      <th>14</th>\n",
       "      <td>NM_145886</td>\n",
       "      <td>PIDD</td>\n",
       "      <td>ATG</td>\n",
       "      <td>SGLQGPSVGDGCNGGGAR</td>\n",
       "      <td>-31</td>\n",
       "      <td>overlapping uORF</td>\n",
       "    </tr>\n",
       "    <tr>\n",
       "      <th>15</th>\n",
       "      <td>NM_002675</td>\n",
       "      <td>PML</td>\n",
       "      <td>CTG</td>\n",
       "      <td>GSMEPAPAR</td>\n",
       "      <td>-9</td>\n",
       "      <td>n-term-ext</td>\n",
       "    </tr>\n",
       "    <tr>\n",
       "      <th>16</th>\n",
       "      <td>NM_001008709</td>\n",
       "      <td>PPP1CA</td>\n",
       "      <td>CTG</td>\n",
       "      <td>MDSIIGR</td>\n",
       "      <td>25</td>\n",
       "      <td>n-term-trunc</td>\n",
       "    </tr>\n",
       "    <tr>\n",
       "      <th>17</th>\n",
       "      <td>NM_006267</td>\n",
       "      <td>RANBP2</td>\n",
       "      <td>GTG</td>\n",
       "      <td>ATAAGLSAGLTR</td>\n",
       "      <td>-64</td>\n",
       "      <td>n-term-ext</td>\n",
       "    </tr>\n",
       "    <tr>\n",
       "      <th>18</th>\n",
       "      <td>NM_001098426</td>\n",
       "      <td>SMARCD2</td>\n",
       "      <td>CTG</td>\n",
       "      <td>MDPESPGQER</td>\n",
       "      <td>-218</td>\n",
       "      <td>overlapping uORF</td>\n",
       "    </tr>\n",
       "    <tr>\n",
       "      <th>19</th>\n",
       "      <td>NM_001040011</td>\n",
       "      <td>SWI5</td>\n",
       "      <td>CTG</td>\n",
       "      <td>MDPLAPLNPLIR</td>\n",
       "      <td>196</td>\n",
       "      <td>n-term-trunc</td>\n",
       "    </tr>\n",
       "    <tr>\n",
       "      <th>20</th>\n",
       "      <td>NM_032796</td>\n",
       "      <td>SYAP1</td>\n",
       "      <td>GTG</td>\n",
       "      <td>MESKATSAR</td>\n",
       "      <td>-72</td>\n",
       "      <td>n-term-ext</td>\n",
       "    </tr>\n",
       "    <tr>\n",
       "      <th>21</th>\n",
       "      <td>NM_014501</td>\n",
       "      <td>UBE2S</td>\n",
       "      <td>ACG</td>\n",
       "      <td>SEAAGSGAGPPGPLQGR</td>\n",
       "      <td>-144</td>\n",
       "      <td>n-term-ext</td>\n",
       "    </tr>\n",
       "    <tr>\n",
       "      <th>22</th>\n",
       "      <td>NM_001166221</td>\n",
       "      <td>UTP14A</td>\n",
       "      <td>CTG</td>\n",
       "      <td>AAEMTANR</td>\n",
       "      <td>-12</td>\n",
       "      <td>n-term-ext</td>\n",
       "    </tr>\n",
       "  </tbody>\n",
       "</table>\n",
       "</div>"
      ],
      "text/plain": [
       "           tr_id       gene start_codon             peptide  \\\n",
       "0      NM_000034      ALDOA         CTG              MDFQGR   \n",
       "1   NM_001199697       BAG6         ACG            MEVAVGGR   \n",
       "2   NM_001143985      BANF1         GTG           MEESSSGLR   \n",
       "3      NM_004396       DDX5         ATT         MDAMSGYSSDR   \n",
       "4      NM_004461      FARSA         CTG    MEGVMADGQVAELLLR   \n",
       "5      NM_004860       FXR2         GTG        AETKAAAADGER   \n",
       "6      NM_004494       HDGF         GTG   AAPELGPGATIEAGAAR   \n",
       "7      NM_004494       HDGF         ATT          MEFQTQTTAR   \n",
       "8      NM_003510  HIST1H2AK         CTG           MELAGNAAR   \n",
       "9      NM_006805    HNRNPA0         ACG             AATAKPR   \n",
       "10  NM_001199155       KAT7         ACG    MEPAGATVPAAAAAAR   \n",
       "11     NM_199187      KRT18         AAG             MIIEDLR   \n",
       "12     NM_004539       NARS         ACG       ASVLQSVSLEVTR   \n",
       "13     NM_000269       NME1         CTG          MEGTMANCER   \n",
       "14     NM_145886       PIDD         ATG  SGLQGPSVGDGCNGGGAR   \n",
       "15     NM_002675        PML         CTG           GSMEPAPAR   \n",
       "16  NM_001008709     PPP1CA         CTG             MDSIIGR   \n",
       "17     NM_006267     RANBP2         GTG        ATAAGLSAGLTR   \n",
       "18  NM_001098426    SMARCD2         CTG          MDPESPGQER   \n",
       "19  NM_001040011       SWI5         CTG        MDPLAPLNPLIR   \n",
       "20     NM_032796      SYAP1         GTG           MESKATSAR   \n",
       "21     NM_014501      UBE2S         ACG   SEAAGSGAGPPGPLQGR   \n",
       "22  NM_001166221     UTP14A         CTG            AAEMTANR   \n",
       "\n",
       "    pos_relative_to_TIS              type  \n",
       "0                   -57        n-term-ext  \n",
       "1                   -36        n-term-ext  \n",
       "2                   -42        n-term-ext  \n",
       "3                    -9        n-term-ext  \n",
       "4                   -12        n-term-ext  \n",
       "5                  -219        n-term-ext  \n",
       "6                  -150        n-term-ext  \n",
       "7                  -255        n-term-ext  \n",
       "8                   190      n-term-trunc  \n",
       "9                   -61        n-term-ext  \n",
       "10                  -78        n-term-ext  \n",
       "11                  391      n-term-trunc  \n",
       "12                  -54        n-term-ext  \n",
       "13                  -12        n-term-ext  \n",
       "14                  -31  overlapping uORF  \n",
       "15                   -9        n-term-ext  \n",
       "16                   25      n-term-trunc  \n",
       "17                  -64        n-term-ext  \n",
       "18                 -218  overlapping uORF  \n",
       "19                  196      n-term-trunc  \n",
       "20                  -72        n-term-ext  \n",
       "21                 -144        n-term-ext  \n",
       "22                  -12        n-term-ext  "
      ]
     },
     "execution_count": 17,
     "metadata": {},
     "output_type": "execute_result"
    }
   ],
   "source": [
    "ext_df"
   ]
  },
  {
   "cell_type": "code",
   "execution_count": null,
   "metadata": {},
   "outputs": [],
   "source": []
  },
  {
   "cell_type": "code",
   "execution_count": null,
   "metadata": {},
   "outputs": [],
   "source": []
  },
  {
   "cell_type": "code",
   "execution_count": null,
   "metadata": {},
   "outputs": [],
   "source": []
  },
  {
   "cell_type": "code",
   "execution_count": null,
   "metadata": {},
   "outputs": [],
   "source": []
  },
  {
   "cell_type": "code",
   "execution_count": null,
   "metadata": {},
   "outputs": [],
   "source": []
  },
  {
   "cell_type": "markdown",
   "metadata": {},
   "source": [
    "# Comprehensive analysis of human protein N-termini enables assessment of various protein forms\n"
   ]
  },
  {
   "cell_type": "code",
   "execution_count": 22,
   "metadata": {},
   "outputs": [],
   "source": [
    "# open metadata with scores and metrics\n",
    "meta = pd.read_csv('tmp_res/METADATA_CURRENT.txt', sep='\\t')\n",
    "\n",
    "# gencode 25\n",
    "metadata_pc_g25 = pd.read_csv('tmp_res/metadata_pc_g25.txt', sep='\\t')\n"
   ]
  },
  {
   "cell_type": "code",
   "execution_count": 26,
   "metadata": {},
   "outputs": [
    {
     "name": "stdout",
     "output_type": "stream",
     "text": [
      "534 394\n"
     ]
    },
    {
     "data": {
      "text/html": [
       "<div>\n",
       "<style scoped>\n",
       "    .dataframe tbody tr th:only-of-type {\n",
       "        vertical-align: middle;\n",
       "    }\n",
       "\n",
       "    .dataframe tbody tr th {\n",
       "        vertical-align: top;\n",
       "    }\n",
       "\n",
       "    .dataframe thead th {\n",
       "        text-align: right;\n",
       "    }\n",
       "</style>\n",
       "<table border=\"1\" class=\"dataframe\">\n",
       "  <thead>\n",
       "    <tr style=\"text-align: right;\">\n",
       "      <th></th>\n",
       "      <th>chr</th>\n",
       "      <th>start</th>\n",
       "      <th>strand</th>\n",
       "      <th>tr_id1</th>\n",
       "      <th>uniprot_id</th>\n",
       "      <th>pos_to_CDS</th>\n",
       "      <th>aa_seq</th>\n",
       "      <th>nt_seq</th>\n",
       "    </tr>\n",
       "  </thead>\n",
       "  <tbody>\n",
       "    <tr>\n",
       "      <th>0</th>\n",
       "      <td>chr17</td>\n",
       "      <td>1400113</td>\n",
       "      <td>-1</td>\n",
       "      <td>ENST00000571732</td>\n",
       "      <td>P62258-2</td>\n",
       "      <td>-102</td>\n",
       "      <td>AMDDREDLVYQAKLAEQAER</td>\n",
       "      <td>GCTATGGATGATCGAGAGGATCTGGTGTACCAGGCGAAGCTGGCCG...</td>\n",
       "    </tr>\n",
       "    <tr>\n",
       "      <th>1</th>\n",
       "      <td>chr17</td>\n",
       "      <td>1400113</td>\n",
       "      <td>-1</td>\n",
       "      <td>ENST00000573026</td>\n",
       "      <td>I3L0W5</td>\n",
       "      <td>-3</td>\n",
       "      <td>AMDDREDLVYQAKLAEQAER</td>\n",
       "      <td>GCTATGGATGATCGAGAGGATCTGGTGTACCAGGCGAAGCTGGCCG...</td>\n",
       "    </tr>\n",
       "    <tr>\n",
       "      <th>2</th>\n",
       "      <td>chr17</td>\n",
       "      <td>1400113</td>\n",
       "      <td>-1</td>\n",
       "      <td>ENST00000264335</td>\n",
       "      <td>P62258</td>\n",
       "      <td>-3</td>\n",
       "      <td>AMDDREDLVYQAKLAEQAER</td>\n",
       "      <td>GCTATGGATGATCGAGAGGATCTGGTGTACCAGGCGAAGCTGGCCG...</td>\n",
       "    </tr>\n",
       "    <tr>\n",
       "      <th>3</th>\n",
       "      <td>chr17</td>\n",
       "      <td>1400113</td>\n",
       "      <td>-1</td>\n",
       "      <td>ENST00000573196</td>\n",
       "      <td>B4DJF2</td>\n",
       "      <td>-3</td>\n",
       "      <td>AMDDREDLVYQAKLAEQAER</td>\n",
       "      <td>GCTATGGATGATCGAGAGGATCTGGTGTACCAGGCGAAGCTGGCCG...</td>\n",
       "    </tr>\n",
       "  </tbody>\n",
       "</table>\n",
       "</div>"
      ],
      "text/plain": [
       "     chr    start  strand           tr_id1 uniprot_id  pos_to_CDS  \\\n",
       "0  chr17  1400113      -1  ENST00000571732   P62258-2        -102   \n",
       "1  chr17  1400113      -1  ENST00000573026     I3L0W5          -3   \n",
       "2  chr17  1400113      -1  ENST00000264335     P62258          -3   \n",
       "3  chr17  1400113      -1  ENST00000573196     B4DJF2          -3   \n",
       "\n",
       "                 aa_seq                                             nt_seq  \n",
       "0  AMDDREDLVYQAKLAEQAER  GCTATGGATGATCGAGAGGATCTGGTGTACCAGGCGAAGCTGGCCG...  \n",
       "1  AMDDREDLVYQAKLAEQAER  GCTATGGATGATCGAGAGGATCTGGTGTACCAGGCGAAGCTGGCCG...  \n",
       "2  AMDDREDLVYQAKLAEQAER  GCTATGGATGATCGAGAGGATCTGGTGTACCAGGCGAAGCTGGCCG...  \n",
       "3  AMDDREDLVYQAKLAEQAER  GCTATGGATGATCGAGAGGATCTGGTGTACCAGGCGAAGCTGGCCG...  "
      ]
     },
     "execution_count": 26,
     "metadata": {},
     "output_type": "execute_result"
    }
   ],
   "source": [
    "nterm_df = pd.read_csv('data/PMID28747677_nterm.txt', sep='\\t', header=None)\n",
    "\n",
    "nterm_df.columns = ['chr', 'start', 'strand', 'tr_id1', \n",
    "                   'uniprot_id', 'pos_to_CDS', 'aa_seq', 'nt_seq']\n",
    "\n",
    "print (nterm_df.shape[0], nterm_df.tr_id1.nunique())\n",
    "\n",
    "nterm_df[0:4]"
   ]
  },
  {
   "cell_type": "code",
   "execution_count": 28,
   "metadata": {},
   "outputs": [],
   "source": [
    "metadata_pc_g25['tr_id1'] = [x.split('.')[0] for x in metadata_pc_g25['tr_id'].tolist()]\n",
    "\n",
    "nterm_df2 = nterm_df.merge(metadata_pc_g25[['tr_id1', 'gene']], on='tr_id1', how='left')"
   ]
  },
  {
   "cell_type": "code",
   "execution_count": 29,
   "metadata": {},
   "outputs": [
    {
     "data": {
      "text/plain": [
       "(534, 534)"
      ]
     },
     "execution_count": 29,
     "metadata": {},
     "output_type": "execute_result"
    }
   ],
   "source": [
    "nterm_df2.shape[0], nterm_df2.drop_duplicates().shape[0]"
   ]
  },
  {
   "cell_type": "code",
   "execution_count": 47,
   "metadata": {},
   "outputs": [
    {
     "name": "stdout",
     "output_type": "stream",
     "text": [
      "171\n"
     ]
    }
   ],
   "source": [
    "nterm_genes = list(nterm_df2[nterm_df2['pos_to_CDS'] <= -3].gene.unique())\n",
    "\n",
    "print (len(nterm_genes))"
   ]
  },
  {
   "cell_type": "code",
   "execution_count": 55,
   "metadata": {},
   "outputs": [
    {
     "name": "stdout",
     "output_type": "stream",
     "text": [
      "1\n"
     ]
    },
    {
     "data": {
      "text/plain": [
       "(None, {'ENY2'})"
      ]
     },
     "execution_count": 55,
     "metadata": {},
     "output_type": "execute_result"
    }
   ],
   "source": [
    "# phyloset \n",
    "\n",
    "print (len(set(SET1.gene.tolist()).intersection(nterm_genes))), set(SET1.gene.tolist()).intersection(nterm_genes)"
   ]
  },
  {
   "cell_type": "code",
   "execution_count": 46,
   "metadata": {},
   "outputs": [
    {
     "name": "stdout",
     "output_type": "stream",
     "text": [
      "17\n"
     ]
    }
   ],
   "source": [
    "# riboset\n",
    "\n",
    "print (len(set(SET2.gene.tolist()).intersection(nterm_genes)))"
   ]
  },
  {
   "cell_type": "raw",
   "metadata": {},
   "source": [
    "We also compared \n",
    "\n",
    "PMID: 28747677 \n",
    "\n",
    "Only 1 gene from PhyloSET and 17 genes from RiboSET were present among 171 genes with N-terminal extensions detected by N-terminomics. "
   ]
  },
  {
   "cell_type": "code",
   "execution_count": 52,
   "metadata": {},
   "outputs": [
    {
     "data": {
      "text/html": [
       "<div>\n",
       "<style scoped>\n",
       "    .dataframe tbody tr th:only-of-type {\n",
       "        vertical-align: middle;\n",
       "    }\n",
       "\n",
       "    .dataframe tbody tr th {\n",
       "        vertical-align: top;\n",
       "    }\n",
       "\n",
       "    .dataframe thead th {\n",
       "        text-align: right;\n",
       "    }\n",
       "</style>\n",
       "<table border=\"1\" class=\"dataframe\">\n",
       "  <thead>\n",
       "    <tr style=\"text-align: right;\">\n",
       "      <th></th>\n",
       "      <th>chr</th>\n",
       "      <th>start</th>\n",
       "      <th>strand</th>\n",
       "      <th>tr_id1</th>\n",
       "      <th>uniprot_id</th>\n",
       "      <th>pos_to_CDS</th>\n",
       "      <th>aa_seq</th>\n",
       "      <th>nt_seq</th>\n",
       "      <th>gene</th>\n",
       "    </tr>\n",
       "  </thead>\n",
       "  <tbody>\n",
       "    <tr>\n",
       "      <th>0</th>\n",
       "      <td>chr17</td>\n",
       "      <td>1400113</td>\n",
       "      <td>-1</td>\n",
       "      <td>ENST00000571732</td>\n",
       "      <td>P62258-2</td>\n",
       "      <td>-102</td>\n",
       "      <td>AMDDREDLVYQAKLAEQAER</td>\n",
       "      <td>GCTATGGATGATCGAGAGGATCTGGTGTACCAGGCGAAGCTGGCCG...</td>\n",
       "      <td>YWHAE</td>\n",
       "    </tr>\n",
       "    <tr>\n",
       "      <th>1</th>\n",
       "      <td>chr17</td>\n",
       "      <td>1400113</td>\n",
       "      <td>-1</td>\n",
       "      <td>ENST00000573026</td>\n",
       "      <td>I3L0W5</td>\n",
       "      <td>-3</td>\n",
       "      <td>AMDDREDLVYQAKLAEQAER</td>\n",
       "      <td>GCTATGGATGATCGAGAGGATCTGGTGTACCAGGCGAAGCTGGCCG...</td>\n",
       "      <td>YWHAE</td>\n",
       "    </tr>\n",
       "    <tr>\n",
       "      <th>2</th>\n",
       "      <td>chr17</td>\n",
       "      <td>1400113</td>\n",
       "      <td>-1</td>\n",
       "      <td>ENST00000264335</td>\n",
       "      <td>P62258</td>\n",
       "      <td>-3</td>\n",
       "      <td>AMDDREDLVYQAKLAEQAER</td>\n",
       "      <td>GCTATGGATGATCGAGAGGATCTGGTGTACCAGGCGAAGCTGGCCG...</td>\n",
       "      <td>YWHAE</td>\n",
       "    </tr>\n",
       "    <tr>\n",
       "      <th>3</th>\n",
       "      <td>chr17</td>\n",
       "      <td>1400113</td>\n",
       "      <td>-1</td>\n",
       "      <td>ENST00000573196</td>\n",
       "      <td>B4DJF2</td>\n",
       "      <td>-3</td>\n",
       "      <td>AMDDREDLVYQAKLAEQAER</td>\n",
       "      <td>GCTATGGATGATCGAGAGGATCTGGTGTACCAGGCGAAGCTGGCCG...</td>\n",
       "      <td>YWHAE</td>\n",
       "    </tr>\n",
       "    <tr>\n",
       "      <th>4</th>\n",
       "      <td>chr17</td>\n",
       "      <td>1400113</td>\n",
       "      <td>-1</td>\n",
       "      <td>ENST00000575977</td>\n",
       "      <td>I3L3T1</td>\n",
       "      <td>-3</td>\n",
       "      <td>AMDDREDLVYQAKLAEQAER</td>\n",
       "      <td>GCTATGGATGATCGAGAGGATCTGGTGTACCAGGCGAAGCTGGCCG...</td>\n",
       "      <td>YWHAE</td>\n",
       "    </tr>\n",
       "    <tr>\n",
       "      <th>...</th>\n",
       "      <td>...</td>\n",
       "      <td>...</td>\n",
       "      <td>...</td>\n",
       "      <td>...</td>\n",
       "      <td>...</td>\n",
       "      <td>...</td>\n",
       "      <td>...</td>\n",
       "      <td>...</td>\n",
       "      <td>...</td>\n",
       "    </tr>\n",
       "    <tr>\n",
       "      <th>529</th>\n",
       "      <td>chrX</td>\n",
       "      <td>102463273</td>\n",
       "      <td>-1</td>\n",
       "      <td>ENST00000618881</td>\n",
       "      <td>Q5JRM6</td>\n",
       "      <td>-1668</td>\n",
       "      <td>LTHLAPPAAWRVHFQAGQTLLMDRIRLQELAFQLHQL</td>\n",
       "      <td>CTGACTCACCTAGCTCCTCCTGCAGCATGGCGTGTTCACTTCCAAG...</td>\n",
       "      <td>NXF2B</td>\n",
       "    </tr>\n",
       "    <tr>\n",
       "      <th>530</th>\n",
       "      <td>chrX</td>\n",
       "      <td>155065142</td>\n",
       "      <td>-1</td>\n",
       "      <td>ENST00000369479</td>\n",
       "      <td>P56277</td>\n",
       "      <td>-216</td>\n",
       "      <td>AIEPLMDIIGWTWDLMNPTKVSTFYRTDALITKDLVLI</td>\n",
       "      <td>GCCATAGAACCCTTAATGGACATCATCGGCTGGACCTGGGATCTGA...</td>\n",
       "      <td>CMC4</td>\n",
       "    </tr>\n",
       "    <tr>\n",
       "      <th>531</th>\n",
       "      <td>chrX</td>\n",
       "      <td>21374865</td>\n",
       "      <td>1</td>\n",
       "      <td>ENST00000279451</td>\n",
       "      <td>Q8WXI2-2</td>\n",
       "      <td>-33</td>\n",
       "      <td>LCALHGTDPVPMALIMEPVSKWSPSQVVD</td>\n",
       "      <td>CTCTGCGCTCTGCACGGAACCGACCCCGTACCCATGGCTCTGATAA...</td>\n",
       "      <td>CNKSR2</td>\n",
       "    </tr>\n",
       "    <tr>\n",
       "      <th>532</th>\n",
       "      <td>chrX</td>\n",
       "      <td>21374865</td>\n",
       "      <td>1</td>\n",
       "      <td>ENST00000425654</td>\n",
       "      <td>Q8WXI2-5</td>\n",
       "      <td>-33</td>\n",
       "      <td>LCALHGTDPVPMALIMEPVSKWSPSQVVD</td>\n",
       "      <td>CTCTGCGCTCTGCACGGAACCGACCCCGTACCCATGGCTCTGATAA...</td>\n",
       "      <td>CNKSR2</td>\n",
       "    </tr>\n",
       "    <tr>\n",
       "      <th>533</th>\n",
       "      <td>chrX</td>\n",
       "      <td>21374865</td>\n",
       "      <td>1</td>\n",
       "      <td>ENST00000543067</td>\n",
       "      <td>Q8WXI2-4</td>\n",
       "      <td>-33</td>\n",
       "      <td>LCALHGTDPVPMALIMEPVSKWSPSQVVD</td>\n",
       "      <td>CTCTGCGCTCTGCACGGAACCGACCCCGTACCCATGGCTCTGATAA...</td>\n",
       "      <td>CNKSR2</td>\n",
       "    </tr>\n",
       "  </tbody>\n",
       "</table>\n",
       "<p>534 rows × 9 columns</p>\n",
       "</div>"
      ],
      "text/plain": [
       "       chr      start  strand           tr_id1 uniprot_id  pos_to_CDS  \\\n",
       "0    chr17    1400113      -1  ENST00000571732   P62258-2        -102   \n",
       "1    chr17    1400113      -1  ENST00000573026     I3L0W5          -3   \n",
       "2    chr17    1400113      -1  ENST00000264335     P62258          -3   \n",
       "3    chr17    1400113      -1  ENST00000573196     B4DJF2          -3   \n",
       "4    chr17    1400113      -1  ENST00000575977     I3L3T1          -3   \n",
       "..     ...        ...     ...              ...        ...         ...   \n",
       "529   chrX  102463273      -1  ENST00000618881     Q5JRM6       -1668   \n",
       "530   chrX  155065142      -1  ENST00000369479     P56277        -216   \n",
       "531   chrX   21374865       1  ENST00000279451   Q8WXI2-2         -33   \n",
       "532   chrX   21374865       1  ENST00000425654   Q8WXI2-5         -33   \n",
       "533   chrX   21374865       1  ENST00000543067   Q8WXI2-4         -33   \n",
       "\n",
       "                                     aa_seq  \\\n",
       "0                      AMDDREDLVYQAKLAEQAER   \n",
       "1                      AMDDREDLVYQAKLAEQAER   \n",
       "2                      AMDDREDLVYQAKLAEQAER   \n",
       "3                      AMDDREDLVYQAKLAEQAER   \n",
       "4                      AMDDREDLVYQAKLAEQAER   \n",
       "..                                      ...   \n",
       "529   LTHLAPPAAWRVHFQAGQTLLMDRIRLQELAFQLHQL   \n",
       "530  AIEPLMDIIGWTWDLMNPTKVSTFYRTDALITKDLVLI   \n",
       "531           LCALHGTDPVPMALIMEPVSKWSPSQVVD   \n",
       "532           LCALHGTDPVPMALIMEPVSKWSPSQVVD   \n",
       "533           LCALHGTDPVPMALIMEPVSKWSPSQVVD   \n",
       "\n",
       "                                                nt_seq    gene  \n",
       "0    GCTATGGATGATCGAGAGGATCTGGTGTACCAGGCGAAGCTGGCCG...   YWHAE  \n",
       "1    GCTATGGATGATCGAGAGGATCTGGTGTACCAGGCGAAGCTGGCCG...   YWHAE  \n",
       "2    GCTATGGATGATCGAGAGGATCTGGTGTACCAGGCGAAGCTGGCCG...   YWHAE  \n",
       "3    GCTATGGATGATCGAGAGGATCTGGTGTACCAGGCGAAGCTGGCCG...   YWHAE  \n",
       "4    GCTATGGATGATCGAGAGGATCTGGTGTACCAGGCGAAGCTGGCCG...   YWHAE  \n",
       "..                                                 ...     ...  \n",
       "529  CTGACTCACCTAGCTCCTCCTGCAGCATGGCGTGTTCACTTCCAAG...   NXF2B  \n",
       "530  GCCATAGAACCCTTAATGGACATCATCGGCTGGACCTGGGATCTGA...    CMC4  \n",
       "531  CTCTGCGCTCTGCACGGAACCGACCCCGTACCCATGGCTCTGATAA...  CNKSR2  \n",
       "532  CTCTGCGCTCTGCACGGAACCGACCCCGTACCCATGGCTCTGATAA...  CNKSR2  \n",
       "533  CTCTGCGCTCTGCACGGAACCGACCCCGTACCCATGGCTCTGATAA...  CNKSR2  \n",
       "\n",
       "[534 rows x 9 columns]"
      ]
     },
     "execution_count": 52,
     "metadata": {},
     "output_type": "execute_result"
    }
   ],
   "source": [
    "nterm_df2"
   ]
  },
  {
   "cell_type": "code",
   "execution_count": 57,
   "metadata": {},
   "outputs": [],
   "source": [
    "nterm_df2[nterm_df2['gene'].isin(SET1.gene.tolist()+SET2.gene.tolist())][['tr_id1', 'pos_to_CDS', 'gene', 'nt_seq']].to_csv('tmp_res/comparison_with_PMID28747677.txt', sep='\\t', index=False)"
   ]
  },
  {
   "cell_type": "code",
   "execution_count": null,
   "metadata": {},
   "outputs": [],
   "source": []
  }
 ],
 "metadata": {
  "kernelspec": {
   "display_name": "Python 3",
   "language": "python",
   "name": "python3"
  },
  "language_info": {
   "codemirror_mode": {
    "name": "ipython",
    "version": 3
   },
   "file_extension": ".py",
   "mimetype": "text/x-python",
   "name": "python",
   "nbconvert_exporter": "python",
   "pygments_lexer": "ipython3",
   "version": "3.7.6"
  }
 },
 "nbformat": 4,
 "nbformat_minor": 2
}
