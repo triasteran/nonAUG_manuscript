{
 "cells": [
  {
   "cell_type": "code",
   "execution_count": 1,
   "metadata": {},
   "outputs": [
    {
     "name": "stderr",
     "output_type": "stream",
     "text": [
      "/home/alla/anaconda3/lib/python3.7/site-packages/statsmodels/tools/_testing.py:19: FutureWarning: pandas.util.testing is deprecated. Use the functions in the public API at pandas.testing instead.\n",
      "  import pandas.util.testing as tm\n"
     ]
    }
   ],
   "source": [
    "%matplotlib inline\n",
    "\n",
    "import numpy as np\n",
    "import collections\n",
    "from collections import OrderedDict, Counter, defaultdict\n",
    "import pandas as pd\n",
    "\n",
    "import Bio\n",
    "from Bio import SeqIO\n",
    "\n",
    "import seaborn as sns\n",
    "import matplotlib.pyplot as plt\n",
    "from bokeh.plotting import figure, output_file, show \n",
    "import matplotlib.patches as patches    \n",
    "from matplotlib import colors\n",
    "\n",
    "\n",
    "import glob\n",
    "\n",
    "import subprocess\n",
    "from subprocess import call\n",
    "\n",
    "import re\n",
    "\n",
    "import pickle\n",
    "\n",
    "from Bio.SubsMat import MatrixInfo\n",
    "import Bio.Data.CodonTable\n",
    "\n",
    "from scipy import stats\n",
    "\n",
    "\n",
    "from Bio.SubsMat import MatrixInfo\n",
    "import Bio.Data.CodonTable"
   ]
  },
  {
   "cell_type": "code",
   "execution_count": 2,
   "metadata": {},
   "outputs": [
    {
     "data": {
      "text/html": [
       "<div>\n",
       "<style scoped>\n",
       "    .dataframe tbody tr th:only-of-type {\n",
       "        vertical-align: middle;\n",
       "    }\n",
       "\n",
       "    .dataframe tbody tr th {\n",
       "        vertical-align: top;\n",
       "    }\n",
       "\n",
       "    .dataframe thead th {\n",
       "        text-align: right;\n",
       "    }\n",
       "</style>\n",
       "<table border=\"1\" class=\"dataframe\">\n",
       "  <thead>\n",
       "    <tr style=\"text-align: right;\">\n",
       "      <th></th>\n",
       "      <th>tr_id</th>\n",
       "      <th>gene</th>\n",
       "      <th>N_term_start1</th>\n",
       "      <th>N_term_end1</th>\n",
       "      <th>len_codons</th>\n",
       "      <th>global_coo_50_and_less</th>\n",
       "      <th>strand</th>\n",
       "      <th>global_coo_primary</th>\n",
       "      <th>PhyloCSF120score</th>\n",
       "      <th>number_of_records</th>\n",
       "      <th>ovlp</th>\n",
       "      <th>Riboseq_Summary</th>\n",
       "      <th>Coverage_value_ext</th>\n",
       "      <th>Proteomics_count_ext</th>\n",
       "      <th>tag</th>\n",
       "      <th>transcript_type</th>\n",
       "      <th>CDS_ratio</th>\n",
       "      <th>pos_of_codon</th>\n",
       "      <th>codon</th>\n",
       "    </tr>\n",
       "  </thead>\n",
       "  <tbody>\n",
       "    <tr>\n",
       "      <th>0</th>\n",
       "      <td>ENST00000379389.4</td>\n",
       "      <td>ISG15</td>\n",
       "      <td>1</td>\n",
       "      <td>151</td>\n",
       "      <td>50.0</td>\n",
       "      <td>chr1:1013424-1013573</td>\n",
       "      <td>+</td>\n",
       "      <td>chr1:1013424-1013573</td>\n",
       "      <td>-2443.9971</td>\n",
       "      <td>111</td>\n",
       "      <td>0;0;0</td>\n",
       "      <td>ATC; 98-152; Rank: 288; cov: 53.85</td>\n",
       "      <td>53.846154</td>\n",
       "      <td>0.0</td>\n",
       "      <td>basic,appris_principal_1,CCDS</td>\n",
       "      <td>protein_coding</td>\n",
       "      <td>0.327240</td>\n",
       "      <td>97</td>\n",
       "      <td>ATC</td>\n",
       "    </tr>\n",
       "    <tr>\n",
       "      <th>1</th>\n",
       "      <td>ENST00000349431.10</td>\n",
       "      <td>UBE2J2</td>\n",
       "      <td>28</td>\n",
       "      <td>220</td>\n",
       "      <td>64.0</td>\n",
       "      <td>chr1:1273666-1273815</td>\n",
       "      <td>-</td>\n",
       "      <td>chr1:1273666-1273857</td>\n",
       "      <td>-1285.8186</td>\n",
       "      <td>78</td>\n",
       "      <td>0;0;0</td>\n",
       "      <td>ACG; 173-221; Rank: 328; cov: 90.91</td>\n",
       "      <td>90.909091</td>\n",
       "      <td>0.0</td>\n",
       "      <td>basic,appris_principal_1,CCDS</td>\n",
       "      <td>protein_coding</td>\n",
       "      <td>0.762814</td>\n",
       "      <td>172</td>\n",
       "      <td>ACG</td>\n",
       "    </tr>\n",
       "  </tbody>\n",
       "</table>\n",
       "</div>"
      ],
      "text/plain": [
       "                tr_id    gene  N_term_start1  N_term_end1  len_codons  \\\n",
       "0   ENST00000379389.4   ISG15              1          151        50.0   \n",
       "1  ENST00000349431.10  UBE2J2             28          220        64.0   \n",
       "\n",
       "  global_coo_50_and_less strand    global_coo_primary  PhyloCSF120score  \\\n",
       "0   chr1:1013424-1013573      +  chr1:1013424-1013573        -2443.9971   \n",
       "1   chr1:1273666-1273815      -  chr1:1273666-1273857        -1285.8186   \n",
       "\n",
       "   number_of_records   ovlp                      Riboseq_Summary  \\\n",
       "0                111  0;0;0   ATC; 98-152; Rank: 288; cov: 53.85   \n",
       "1                 78  0;0;0  ACG; 173-221; Rank: 328; cov: 90.91   \n",
       "\n",
       "   Coverage_value_ext  Proteomics_count_ext                            tag  \\\n",
       "0           53.846154                   0.0  basic,appris_principal_1,CCDS   \n",
       "1           90.909091                   0.0  basic,appris_principal_1,CCDS   \n",
       "\n",
       "  transcript_type  CDS_ratio  pos_of_codon codon  \n",
       "0  protein_coding   0.327240            97   ATC  \n",
       "1  protein_coding   0.762814           172   ACG  "
      ]
     },
     "execution_count": 2,
     "metadata": {},
     "output_type": "execute_result"
    }
   ],
   "source": [
    "# open metadata with scores and metrics\n",
    "meta = pd.read_csv('tmp_res/METADATA_CURRENT.txt', sep='\\t')\n",
    "\n",
    "# gencode 25\n",
    "metadata_pc_g25 = pd.read_csv('tmp_res/metadata_pc_g25.txt', sep='\\t')\n",
    "\n",
    "\n",
    "P_Set = pd.read_csv('tmp_res/SET1.txt', sep='\\t')\n",
    "\n",
    "R_Set = pd.read_csv('tmp_res/SET2.txt', sep='\\t')\n",
    "\n",
    "R_Set['pos_of_codon'] = [int(x.split('; ')[1].split('-')[0])-1 for x in R_Set.Riboseq_Summary.tolist()]\n",
    "\n",
    "R_Set['codon'] = [x.split('; ')[0] for x in R_Set.Riboseq_Summary.tolist()]\n",
    "\n",
    "R_Set[0:2]"
   ]
  },
  {
   "cell_type": "code",
   "execution_count": 3,
   "metadata": {},
   "outputs": [
    {
     "name": "stderr",
     "output_type": "stream",
     "text": [
      "/home/alla/.local/lib/python3.7/site-packages/ipykernel_launcher.py:14: SettingWithCopyWarning: \n",
      "A value is trying to be set on a copy of a slice from a DataFrame.\n",
      "Try using .loc[row_indexer,col_indexer] = value instead\n",
      "\n",
      "See the caveats in the documentation: https://pandas.pydata.org/pandas-docs/stable/user_guide/indexing.html#returning-a-view-versus-a-copy\n",
      "  \n"
     ]
    },
    {
     "data": {
      "text/html": [
       "<div>\n",
       "<style scoped>\n",
       "    .dataframe tbody tr th:only-of-type {\n",
       "        vertical-align: middle;\n",
       "    }\n",
       "\n",
       "    .dataframe tbody tr th {\n",
       "        vertical-align: top;\n",
       "    }\n",
       "\n",
       "    .dataframe thead th {\n",
       "        text-align: right;\n",
       "    }\n",
       "</style>\n",
       "<table border=\"1\" class=\"dataframe\">\n",
       "  <thead>\n",
       "    <tr style=\"text-align: right;\">\n",
       "      <th></th>\n",
       "      <th>gene_ext</th>\n",
       "      <th>tr_id1</th>\n",
       "      <th>Start_ext</th>\n",
       "      <th>Stop_ext</th>\n",
       "      <th>global_rank_ext</th>\n",
       "      <th>Start_codon_ext</th>\n",
       "      <th>Proteomics_count_ext</th>\n",
       "      <th>Coverage_value_ext</th>\n",
       "      <th>CDS_ratio</th>\n",
       "      <th>Riboseq_Summary</th>\n",
       "    </tr>\n",
       "  </thead>\n",
       "  <tbody>\n",
       "    <tr>\n",
       "      <th>0</th>\n",
       "      <td>ASPH</td>\n",
       "      <td>ENST00000379454</td>\n",
       "      <td>144</td>\n",
       "      <td>189</td>\n",
       "      <td>1</td>\n",
       "      <td>CTG</td>\n",
       "      <td>0.0</td>\n",
       "      <td>100.000000</td>\n",
       "      <td>1.645069</td>\n",
       "      <td>CTG; 144-189; Rank: 1; cov: 100.0</td>\n",
       "    </tr>\n",
       "    <tr>\n",
       "      <th>1</th>\n",
       "      <td>HSP90AA1</td>\n",
       "      <td>ENST00000216281</td>\n",
       "      <td>168</td>\n",
       "      <td>207</td>\n",
       "      <td>2</td>\n",
       "      <td>GTG</td>\n",
       "      <td>0.0</td>\n",
       "      <td>100.000000</td>\n",
       "      <td>3.081078</td>\n",
       "      <td>GTG; 168-207; Rank: 2; cov: 100.0</td>\n",
       "    </tr>\n",
       "    <tr>\n",
       "      <th>2</th>\n",
       "      <td>CD24</td>\n",
       "      <td>ENST00000619133</td>\n",
       "      <td>408</td>\n",
       "      <td>441</td>\n",
       "      <td>3</td>\n",
       "      <td>CTG</td>\n",
       "      <td>0.0</td>\n",
       "      <td>83.333333</td>\n",
       "      <td>11.578498</td>\n",
       "      <td>CTG; 408-441; Rank: 3; cov: 83.33</td>\n",
       "    </tr>\n",
       "    <tr>\n",
       "      <th>3</th>\n",
       "      <td>HN1</td>\n",
       "      <td>ENST00000409753</td>\n",
       "      <td>242</td>\n",
       "      <td>287</td>\n",
       "      <td>4</td>\n",
       "      <td>TTG</td>\n",
       "      <td>0.0</td>\n",
       "      <td>100.000000</td>\n",
       "      <td>0.588389</td>\n",
       "      <td>TTG; 242-287; Rank: 4; cov: 100.0</td>\n",
       "    </tr>\n",
       "    <tr>\n",
       "      <th>4</th>\n",
       "      <td>YBX1</td>\n",
       "      <td>ENST00000321358</td>\n",
       "      <td>44</td>\n",
       "      <td>140</td>\n",
       "      <td>5</td>\n",
       "      <td>CTG</td>\n",
       "      <td>0.0</td>\n",
       "      <td>85.185185</td>\n",
       "      <td>7.709763</td>\n",
       "      <td>CTG; 44-140; Rank: 5; cov: 85.19</td>\n",
       "    </tr>\n",
       "  </tbody>\n",
       "</table>\n",
       "</div>"
      ],
      "text/plain": [
       "   gene_ext           tr_id1  Start_ext  Stop_ext  global_rank_ext  \\\n",
       "0      ASPH  ENST00000379454        144       189                1   \n",
       "1  HSP90AA1  ENST00000216281        168       207                2   \n",
       "2      CD24  ENST00000619133        408       441                3   \n",
       "3       HN1  ENST00000409753        242       287                4   \n",
       "4      YBX1  ENST00000321358         44       140                5   \n",
       "\n",
       "  Start_codon_ext  Proteomics_count_ext  Coverage_value_ext  CDS_ratio  \\\n",
       "0             CTG                   0.0          100.000000   1.645069   \n",
       "1             GTG                   0.0          100.000000   3.081078   \n",
       "2             CTG                   0.0           83.333333  11.578498   \n",
       "3             TTG                   0.0          100.000000   0.588389   \n",
       "4             CTG                   0.0           85.185185   7.709763   \n",
       "\n",
       "                     Riboseq_Summary  \n",
       "0  CTG; 144-189; Rank: 1; cov: 100.0  \n",
       "1  GTG; 168-207; Rank: 2; cov: 100.0  \n",
       "2  CTG; 408-441; Rank: 3; cov: 83.33  \n",
       "3  TTG; 242-287; Rank: 4; cov: 100.0  \n",
       "4   CTG; 44-140; Rank: 5; cov: 85.19  "
      ]
     },
     "execution_count": 3,
     "metadata": {},
     "output_type": "execute_result"
    }
   ],
   "source": [
    "transl_with_all_codons = pd.read_csv('data/extensions_TripsViz_1perGene_AUG_NearCognates.txt', sep=',')\n",
    "\n",
    "transl_with_all_codons.columns = ['gene_ext', 'tr_id1', 'Start_ext', 'Stop_ext', 'len_ext', \n",
    "                                 'global_rank_ext', 'type_all_codons', 'trips_viz_link', 'Start_codon_ext', \n",
    "                                 'Highframe rank', 'Highframe value',\n",
    "       'Lowframe rank', 'Lowframe value', 'Stop rank', 'Stop value',\n",
    "       'Start rank', 'Start value', 'Coverage rank', 'Coverage_value_ext',\n",
    "       'Amino acid sequence', 'Proteomics_count_ext', 'CDS_ratio']\n",
    "\n",
    "transl_with_all_codons2 = transl_with_all_codons[['gene_ext', 'tr_id1', 'Start_ext', 'Stop_ext', \n",
    "                                                 'global_rank_ext', 'Start_codon_ext', \n",
    "                                                 'Proteomics_count_ext', 'Coverage_value_ext', 'CDS_ratio']]\n",
    "\n",
    "transl_with_all_codons2['Riboseq_Summary'] = transl_with_all_codons2['Start_codon_ext']+'; '+transl_with_all_codons2['Start_ext'].astype(str)+'-'+transl_with_all_codons2['Stop_ext'].astype(str)+'; Rank: '+transl_with_all_codons2['global_rank_ext'].astype(str)+'; cov: '+np.round(transl_with_all_codons2['Coverage_value_ext'],2).astype(str)\n",
    "\n",
    "\n",
    "transl_with_all_codons2[0:5]"
   ]
  },
  {
   "cell_type": "code",
   "execution_count": 4,
   "metadata": {},
   "outputs": [
    {
     "data": {
      "text/plain": [
       "20330"
      ]
     },
     "execution_count": 4,
     "metadata": {},
     "output_type": "execute_result"
    }
   ],
   "source": [
    "all_genes = list(metadata_pc_g25.gene.unique())\n",
    "len(all_genes)"
   ]
  },
  {
   "cell_type": "code",
   "execution_count": 5,
   "metadata": {},
   "outputs": [
    {
     "data": {
      "text/html": [
       "<div>\n",
       "<style scoped>\n",
       "    .dataframe tbody tr th:only-of-type {\n",
       "        vertical-align: middle;\n",
       "    }\n",
       "\n",
       "    .dataframe tbody tr th {\n",
       "        vertical-align: top;\n",
       "    }\n",
       "\n",
       "    .dataframe thead th {\n",
       "        text-align: right;\n",
       "    }\n",
       "</style>\n",
       "<table border=\"1\" class=\"dataframe\">\n",
       "  <thead>\n",
       "    <tr style=\"text-align: right;\">\n",
       "      <th></th>\n",
       "      <th>gene_ext</th>\n",
       "      <th>global_rank_ext</th>\n",
       "    </tr>\n",
       "  </thead>\n",
       "  <tbody>\n",
       "    <tr>\n",
       "      <th>0</th>\n",
       "      <td>ASPH</td>\n",
       "      <td>1</td>\n",
       "    </tr>\n",
       "    <tr>\n",
       "      <th>1</th>\n",
       "      <td>HSP90AA1</td>\n",
       "      <td>2</td>\n",
       "    </tr>\n",
       "    <tr>\n",
       "      <th>2</th>\n",
       "      <td>CD24</td>\n",
       "      <td>3</td>\n",
       "    </tr>\n",
       "    <tr>\n",
       "      <th>3</th>\n",
       "      <td>HN1</td>\n",
       "      <td>4</td>\n",
       "    </tr>\n",
       "    <tr>\n",
       "      <th>4</th>\n",
       "      <td>YBX1</td>\n",
       "      <td>5</td>\n",
       "    </tr>\n",
       "    <tr>\n",
       "      <th>...</th>\n",
       "      <td>...</td>\n",
       "      <td>...</td>\n",
       "    </tr>\n",
       "    <tr>\n",
       "      <th>10466</th>\n",
       "      <td>CELF2</td>\n",
       "      <td>10467</td>\n",
       "    </tr>\n",
       "    <tr>\n",
       "      <th>10467</th>\n",
       "      <td>ECHS1</td>\n",
       "      <td>10468</td>\n",
       "    </tr>\n",
       "    <tr>\n",
       "      <th>10468</th>\n",
       "      <td>TRIM16L</td>\n",
       "      <td>10469</td>\n",
       "    </tr>\n",
       "    <tr>\n",
       "      <th>10469</th>\n",
       "      <td>FBXO42</td>\n",
       "      <td>10470</td>\n",
       "    </tr>\n",
       "    <tr>\n",
       "      <th>10470</th>\n",
       "      <td>PPP1R14A</td>\n",
       "      <td>10471</td>\n",
       "    </tr>\n",
       "  </tbody>\n",
       "</table>\n",
       "<p>10471 rows × 2 columns</p>\n",
       "</div>"
      ],
      "text/plain": [
       "       gene_ext  global_rank_ext\n",
       "0          ASPH                1\n",
       "1      HSP90AA1                2\n",
       "2          CD24                3\n",
       "3           HN1                4\n",
       "4          YBX1                5\n",
       "...         ...              ...\n",
       "10466     CELF2            10467\n",
       "10467     ECHS1            10468\n",
       "10468   TRIM16L            10469\n",
       "10469    FBXO42            10470\n",
       "10470  PPP1R14A            10471\n",
       "\n",
       "[10471 rows x 2 columns]"
      ]
     },
     "execution_count": 5,
     "metadata": {},
     "output_type": "execute_result"
    }
   ],
   "source": [
    "transl_with_all_codons2[['gene_ext', 'global_rank_ext']]"
   ]
  },
  {
   "cell_type": "code",
   "execution_count": null,
   "metadata": {},
   "outputs": [],
   "source": []
  },
  {
   "cell_type": "markdown",
   "metadata": {},
   "source": [
    "# (1) Get distribution of all random overlsp for 60 and 392 gene sets "
   ]
  },
  {
   "cell_type": "code",
   "execution_count": 6,
   "metadata": {},
   "outputs": [],
   "source": [
    "from random import sample\n",
    "\n",
    "n_iterations = 20000\n",
    "\n",
    "random_ovlp_all_genes = [len(set(sample(all_genes,60)).intersection(sample(all_genes,392))) for i in range(0, n_iterations)]"
   ]
  },
  {
   "cell_type": "code",
   "execution_count": 7,
   "metadata": {},
   "outputs": [],
   "source": [
    "random_ovlp_all_genes = [len(set(P_Set.gene.tolist()).intersection(sample(all_genes,392))) for i in range(0, n_iterations)]"
   ]
  },
  {
   "cell_type": "code",
   "execution_count": 8,
   "metadata": {},
   "outputs": [
    {
     "data": {
      "text/plain": [
       "[4,\n",
       " 2,\n",
       " 2,\n",
       " 0,\n",
       " 2,\n",
       " 0,\n",
       " 2,\n",
       " 1,\n",
       " 1,\n",
       " 2,\n",
       " 0,\n",
       " 2,\n",
       " 3,\n",
       " 2,\n",
       " 2,\n",
       " 0,\n",
       " 2,\n",
       " 2,\n",
       " 1,\n",
       " 0,\n",
       " 1,\n",
       " 1,\n",
       " 0,\n",
       " 0,\n",
       " 2,\n",
       " 0,\n",
       " 0,\n",
       " 1,\n",
       " 0,\n",
       " 4,\n",
       " 1,\n",
       " 1,\n",
       " 1,\n",
       " 2,\n",
       " 3,\n",
       " 2,\n",
       " 0,\n",
       " 4,\n",
       " 3,\n",
       " 2,\n",
       " 3,\n",
       " 0,\n",
       " 0,\n",
       " 2,\n",
       " 2,\n",
       " 2,\n",
       " 2,\n",
       " 1,\n",
       " 3,\n",
       " 1,\n",
       " 2,\n",
       " 1,\n",
       " 1,\n",
       " 1,\n",
       " 3,\n",
       " 3,\n",
       " 1,\n",
       " 1,\n",
       " 2,\n",
       " 1,\n",
       " 1,\n",
       " 1,\n",
       " 0,\n",
       " 1,\n",
       " 2,\n",
       " 1,\n",
       " 2,\n",
       " 4,\n",
       " 2,\n",
       " 5,\n",
       " 4,\n",
       " 0,\n",
       " 2,\n",
       " 1,\n",
       " 1,\n",
       " 1,\n",
       " 0,\n",
       " 0,\n",
       " 1,\n",
       " 1,\n",
       " 0,\n",
       " 2,\n",
       " 1,\n",
       " 1,\n",
       " 1,\n",
       " 2,\n",
       " 2,\n",
       " 0,\n",
       " 1,\n",
       " 2,\n",
       " 1,\n",
       " 0,\n",
       " 0,\n",
       " 0,\n",
       " 0,\n",
       " 2,\n",
       " 3,\n",
       " 0,\n",
       " 0,\n",
       " 3,\n",
       " 2,\n",
       " 0,\n",
       " 3,\n",
       " 0,\n",
       " 0,\n",
       " 0,\n",
       " 0,\n",
       " 2,\n",
       " 0,\n",
       " 0,\n",
       " 0,\n",
       " 2,\n",
       " 1,\n",
       " 0,\n",
       " 1,\n",
       " 0,\n",
       " 1,\n",
       " 0,\n",
       " 2,\n",
       " 0,\n",
       " 1,\n",
       " 1,\n",
       " 0,\n",
       " 3,\n",
       " 1,\n",
       " 3,\n",
       " 1,\n",
       " 2,\n",
       " 2,\n",
       " 2,\n",
       " 1,\n",
       " 0,\n",
       " 3,\n",
       " 1,\n",
       " 1,\n",
       " 1,\n",
       " 1,\n",
       " 2,\n",
       " 2,\n",
       " 0,\n",
       " 1,\n",
       " 2,\n",
       " 2,\n",
       " 1,\n",
       " 0,\n",
       " 2,\n",
       " 1,\n",
       " 2,\n",
       " 4,\n",
       " 0,\n",
       " 1,\n",
       " 0,\n",
       " 1,\n",
       " 2,\n",
       " 0,\n",
       " 0,\n",
       " 3,\n",
       " 5,\n",
       " 1,\n",
       " 1,\n",
       " 0,\n",
       " 1,\n",
       " 3,\n",
       " 3,\n",
       " 3,\n",
       " 0,\n",
       " 1,\n",
       " 0,\n",
       " 1,\n",
       " 1,\n",
       " 2,\n",
       " 1,\n",
       " 0,\n",
       " 0,\n",
       " 0,\n",
       " 1,\n",
       " 0,\n",
       " 1,\n",
       " 2,\n",
       " 0,\n",
       " 2,\n",
       " 0,\n",
       " 2,\n",
       " 1,\n",
       " 1,\n",
       " 0,\n",
       " 3,\n",
       " 0,\n",
       " 0,\n",
       " 1,\n",
       " 2,\n",
       " 1,\n",
       " 1,\n",
       " 1,\n",
       " 0,\n",
       " 1,\n",
       " 0,\n",
       " 2,\n",
       " 1,\n",
       " 3,\n",
       " 4,\n",
       " 0,\n",
       " 1,\n",
       " 0,\n",
       " 0,\n",
       " 1,\n",
       " 2,\n",
       " 0,\n",
       " 2,\n",
       " 0,\n",
       " 1,\n",
       " 0,\n",
       " 3,\n",
       " 1,\n",
       " 1,\n",
       " 1,\n",
       " 0,\n",
       " 1,\n",
       " 0,\n",
       " 0,\n",
       " 1,\n",
       " 2,\n",
       " 2,\n",
       " 1,\n",
       " 1,\n",
       " 0,\n",
       " 1,\n",
       " 1,\n",
       " 1,\n",
       " 0,\n",
       " 0,\n",
       " 0,\n",
       " 2,\n",
       " 0,\n",
       " 1,\n",
       " 2,\n",
       " 0,\n",
       " 2,\n",
       " 0,\n",
       " 1,\n",
       " 0,\n",
       " 0,\n",
       " 0,\n",
       " 1,\n",
       " 0,\n",
       " 2,\n",
       " 0,\n",
       " 1,\n",
       " 0,\n",
       " 3,\n",
       " 3,\n",
       " 2,\n",
       " 0,\n",
       " 4,\n",
       " 0,\n",
       " 1,\n",
       " 1,\n",
       " 1,\n",
       " 1,\n",
       " 0,\n",
       " 0,\n",
       " 0,\n",
       " 1,\n",
       " 3,\n",
       " 1,\n",
       " 1,\n",
       " 2,\n",
       " 1,\n",
       " 0,\n",
       " 3,\n",
       " 1,\n",
       " 4,\n",
       " 1,\n",
       " 1,\n",
       " 1,\n",
       " 1,\n",
       " 3,\n",
       " 1,\n",
       " 1,\n",
       " 0,\n",
       " 0,\n",
       " 1,\n",
       " 0,\n",
       " 0,\n",
       " 2,\n",
       " 0,\n",
       " 0,\n",
       " 1,\n",
       " 3,\n",
       " 1,\n",
       " 2,\n",
       " 2,\n",
       " 3,\n",
       " 2,\n",
       " 1,\n",
       " 1,\n",
       " 1,\n",
       " 1,\n",
       " 0,\n",
       " 1,\n",
       " 1,\n",
       " 0,\n",
       " 0,\n",
       " 1,\n",
       " 1,\n",
       " 1,\n",
       " 1,\n",
       " 0,\n",
       " 0,\n",
       " 0,\n",
       " 1,\n",
       " 1,\n",
       " 2,\n",
       " 0,\n",
       " 0,\n",
       " 2,\n",
       " 1,\n",
       " 3,\n",
       " 0,\n",
       " 1,\n",
       " 0,\n",
       " 2,\n",
       " 0,\n",
       " 2,\n",
       " 1,\n",
       " 0,\n",
       " 0,\n",
       " 1,\n",
       " 3,\n",
       " 1,\n",
       " 3,\n",
       " 4,\n",
       " 0,\n",
       " 1,\n",
       " 1,\n",
       " 2,\n",
       " 1,\n",
       " 3,\n",
       " 0,\n",
       " 0,\n",
       " 0,\n",
       " 2,\n",
       " 1,\n",
       " 2,\n",
       " 2,\n",
       " 1,\n",
       " 0,\n",
       " 0,\n",
       " 1,\n",
       " 0,\n",
       " 1,\n",
       " 1,\n",
       " 1,\n",
       " 1,\n",
       " 1,\n",
       " 1,\n",
       " 4,\n",
       " 2,\n",
       " 1,\n",
       " 3,\n",
       " 0,\n",
       " 0,\n",
       " 1,\n",
       " 2,\n",
       " 1,\n",
       " 2,\n",
       " 0,\n",
       " 0,\n",
       " 1,\n",
       " 0,\n",
       " 0,\n",
       " 2,\n",
       " 2,\n",
       " 4,\n",
       " 1,\n",
       " 1,\n",
       " 0,\n",
       " 0,\n",
       " 2,\n",
       " 3,\n",
       " 1,\n",
       " 1,\n",
       " 2,\n",
       " 1,\n",
       " 1,\n",
       " 1,\n",
       " 0,\n",
       " 1,\n",
       " 3,\n",
       " 2,\n",
       " 1,\n",
       " 1,\n",
       " 0,\n",
       " 2,\n",
       " 2,\n",
       " 2,\n",
       " 2,\n",
       " 2,\n",
       " 3,\n",
       " 3,\n",
       " 1,\n",
       " 1,\n",
       " 0,\n",
       " 1,\n",
       " 0,\n",
       " 1,\n",
       " 0,\n",
       " 0,\n",
       " 0,\n",
       " 1,\n",
       " 2,\n",
       " 2,\n",
       " 0,\n",
       " 0,\n",
       " 1,\n",
       " 0,\n",
       " 0,\n",
       " 1,\n",
       " 0,\n",
       " 2,\n",
       " 2,\n",
       " 3,\n",
       " 2,\n",
       " 2,\n",
       " 0,\n",
       " 1,\n",
       " 0,\n",
       " 2,\n",
       " 0,\n",
       " 2,\n",
       " 1,\n",
       " 3,\n",
       " 2,\n",
       " 1,\n",
       " 1,\n",
       " 6,\n",
       " 0,\n",
       " 0,\n",
       " 0,\n",
       " 1,\n",
       " 2,\n",
       " 1,\n",
       " 0,\n",
       " 6,\n",
       " 2,\n",
       " 2,\n",
       " 1,\n",
       " 4,\n",
       " 2,\n",
       " 1,\n",
       " 3,\n",
       " 4,\n",
       " 3,\n",
       " 3,\n",
       " 1,\n",
       " 1,\n",
       " 0,\n",
       " 0,\n",
       " 2,\n",
       " 0,\n",
       " 2,\n",
       " 2,\n",
       " 1,\n",
       " 0,\n",
       " 1,\n",
       " 1,\n",
       " 1,\n",
       " 1,\n",
       " 0,\n",
       " 1,\n",
       " 0,\n",
       " 0,\n",
       " 3,\n",
       " 2,\n",
       " 3,\n",
       " 0,\n",
       " 4,\n",
       " 3,\n",
       " 2,\n",
       " 1,\n",
       " 6,\n",
       " 1,\n",
       " 1,\n",
       " 3,\n",
       " 1,\n",
       " 1,\n",
       " 1,\n",
       " 1,\n",
       " 1,\n",
       " 1,\n",
       " 2,\n",
       " 0,\n",
       " 2,\n",
       " 1,\n",
       " 1,\n",
       " 2,\n",
       " 2,\n",
       " 1,\n",
       " 2,\n",
       " 3,\n",
       " 2,\n",
       " 3,\n",
       " 1,\n",
       " 0,\n",
       " 1,\n",
       " 0,\n",
       " 2,\n",
       " 1,\n",
       " 0,\n",
       " 1,\n",
       " 0,\n",
       " 0,\n",
       " 1,\n",
       " 0,\n",
       " 2,\n",
       " 1,\n",
       " 2,\n",
       " 0,\n",
       " 2,\n",
       " 1,\n",
       " 1,\n",
       " 1,\n",
       " 4,\n",
       " 0,\n",
       " 1,\n",
       " 0,\n",
       " 1,\n",
       " 1,\n",
       " 1,\n",
       " 3,\n",
       " 0,\n",
       " 1,\n",
       " 0,\n",
       " 2,\n",
       " 3,\n",
       " 1,\n",
       " 1,\n",
       " 1,\n",
       " 2,\n",
       " 1,\n",
       " 1,\n",
       " 2,\n",
       " 2,\n",
       " 0,\n",
       " 0,\n",
       " 1,\n",
       " 2,\n",
       " 2,\n",
       " 0,\n",
       " 0,\n",
       " 2,\n",
       " 0,\n",
       " 1,\n",
       " 1,\n",
       " 3,\n",
       " 0,\n",
       " 2,\n",
       " 1,\n",
       " 0,\n",
       " 1,\n",
       " 2,\n",
       " 1,\n",
       " 3,\n",
       " 1,\n",
       " 3,\n",
       " 1,\n",
       " 1,\n",
       " 2,\n",
       " 2,\n",
       " 1,\n",
       " 0,\n",
       " 0,\n",
       " 1,\n",
       " 1,\n",
       " 0,\n",
       " 5,\n",
       " 1,\n",
       " 3,\n",
       " 2,\n",
       " 2,\n",
       " 0,\n",
       " 1,\n",
       " 0,\n",
       " 0,\n",
       " 1,\n",
       " 1,\n",
       " 2,\n",
       " 1,\n",
       " 1,\n",
       " 1,\n",
       " 0,\n",
       " 2,\n",
       " 2,\n",
       " 1,\n",
       " 1,\n",
       " 1,\n",
       " 2,\n",
       " 1,\n",
       " 2,\n",
       " 3,\n",
       " 0,\n",
       " 0,\n",
       " 1,\n",
       " 1,\n",
       " 0,\n",
       " 0,\n",
       " 1,\n",
       " 0,\n",
       " 2,\n",
       " 2,\n",
       " 1,\n",
       " 3,\n",
       " 0,\n",
       " 0,\n",
       " 1,\n",
       " 0,\n",
       " 0,\n",
       " 2,\n",
       " 2,\n",
       " 3,\n",
       " 2,\n",
       " 2,\n",
       " 0,\n",
       " 1,\n",
       " 1,\n",
       " 0,\n",
       " 2,\n",
       " 1,\n",
       " 1,\n",
       " 1,\n",
       " 1,\n",
       " 1,\n",
       " 2,\n",
       " 0,\n",
       " 1,\n",
       " 0,\n",
       " 0,\n",
       " 1,\n",
       " 2,\n",
       " 3,\n",
       " 0,\n",
       " 1,\n",
       " 0,\n",
       " 0,\n",
       " 3,\n",
       " 2,\n",
       " 1,\n",
       " 2,\n",
       " 0,\n",
       " 2,\n",
       " 0,\n",
       " 2,\n",
       " 1,\n",
       " 1,\n",
       " 1,\n",
       " 4,\n",
       " 2,\n",
       " 1,\n",
       " 1,\n",
       " 1,\n",
       " 1,\n",
       " 1,\n",
       " 3,\n",
       " 3,\n",
       " 1,\n",
       " 3,\n",
       " 0,\n",
       " 1,\n",
       " 1,\n",
       " 1,\n",
       " 4,\n",
       " 1,\n",
       " 0,\n",
       " 4,\n",
       " 1,\n",
       " 1,\n",
       " 2,\n",
       " 0,\n",
       " 1,\n",
       " 0,\n",
       " 2,\n",
       " 3,\n",
       " 2,\n",
       " 1,\n",
       " 0,\n",
       " 0,\n",
       " 1,\n",
       " 0,\n",
       " 2,\n",
       " 0,\n",
       " 1,\n",
       " 3,\n",
       " 0,\n",
       " 2,\n",
       " 0,\n",
       " 2,\n",
       " 2,\n",
       " 1,\n",
       " 0,\n",
       " 0,\n",
       " 0,\n",
       " 2,\n",
       " 1,\n",
       " 1,\n",
       " 1,\n",
       " 0,\n",
       " 0,\n",
       " 2,\n",
       " 2,\n",
       " 1,\n",
       " 2,\n",
       " 1,\n",
       " 2,\n",
       " 1,\n",
       " 4,\n",
       " 1,\n",
       " 1,\n",
       " 1,\n",
       " 0,\n",
       " 3,\n",
       " 2,\n",
       " 1,\n",
       " 1,\n",
       " 1,\n",
       " 3,\n",
       " 1,\n",
       " 0,\n",
       " 1,\n",
       " 2,\n",
       " 1,\n",
       " 0,\n",
       " 1,\n",
       " 2,\n",
       " 1,\n",
       " 2,\n",
       " 2,\n",
       " 1,\n",
       " 1,\n",
       " 1,\n",
       " 0,\n",
       " 2,\n",
       " 2,\n",
       " 4,\n",
       " 2,\n",
       " 1,\n",
       " 0,\n",
       " 0,\n",
       " 2,\n",
       " 1,\n",
       " 1,\n",
       " 3,\n",
       " 3,\n",
       " 0,\n",
       " 1,\n",
       " 1,\n",
       " 2,\n",
       " 1,\n",
       " 1,\n",
       " 1,\n",
       " 1,\n",
       " 1,\n",
       " 2,\n",
       " 0,\n",
       " 3,\n",
       " 0,\n",
       " 3,\n",
       " 0,\n",
       " 1,\n",
       " 2,\n",
       " 1,\n",
       " 3,\n",
       " 1,\n",
       " 1,\n",
       " 1,\n",
       " 0,\n",
       " 3,\n",
       " 0,\n",
       " 0,\n",
       " 1,\n",
       " 1,\n",
       " 3,\n",
       " 1,\n",
       " 0,\n",
       " 1,\n",
       " 1,\n",
       " 1,\n",
       " 2,\n",
       " 2,\n",
       " 3,\n",
       " 1,\n",
       " 1,\n",
       " 1,\n",
       " 2,\n",
       " 1,\n",
       " 0,\n",
       " 0,\n",
       " 5,\n",
       " 1,\n",
       " 1,\n",
       " 0,\n",
       " 3,\n",
       " 1,\n",
       " 2,\n",
       " 1,\n",
       " 2,\n",
       " 0,\n",
       " 1,\n",
       " 2,\n",
       " 0,\n",
       " 2,\n",
       " 1,\n",
       " 0,\n",
       " 1,\n",
       " 0,\n",
       " 0,\n",
       " 1,\n",
       " 1,\n",
       " 1,\n",
       " 0,\n",
       " 1,\n",
       " 2,\n",
       " 2,\n",
       " 1,\n",
       " 3,\n",
       " 0,\n",
       " 0,\n",
       " 1,\n",
       " 1,\n",
       " 1,\n",
       " 1,\n",
       " 0,\n",
       " 0,\n",
       " 0,\n",
       " 1,\n",
       " 2,\n",
       " 0,\n",
       " 2,\n",
       " 0,\n",
       " 1,\n",
       " 1,\n",
       " 1,\n",
       " 0,\n",
       " 2,\n",
       " 1,\n",
       " 2,\n",
       " 0,\n",
       " 1,\n",
       " 1,\n",
       " 0,\n",
       " 1,\n",
       " 5,\n",
       " 2,\n",
       " 1,\n",
       " 1,\n",
       " 1,\n",
       " 4,\n",
       " 2,\n",
       " 3,\n",
       " 1,\n",
       " 0,\n",
       " 0,\n",
       " 1,\n",
       " 3,\n",
       " 1,\n",
       " 0,\n",
       " 3,\n",
       " 2,\n",
       " 1,\n",
       " 1,\n",
       " 1,\n",
       " 2,\n",
       " 1,\n",
       " 1,\n",
       " 2,\n",
       " 1,\n",
       " 1,\n",
       " 2,\n",
       " 0,\n",
       " 1,\n",
       " 2,\n",
       " 1,\n",
       " 1,\n",
       " 1,\n",
       " 0,\n",
       " 0,\n",
       " 0,\n",
       " 2,\n",
       " 1,\n",
       " 2,\n",
       " 0,\n",
       " 0,\n",
       " 0,\n",
       " 1,\n",
       " 1,\n",
       " 0,\n",
       " 2,\n",
       " 2,\n",
       " 0,\n",
       " 0,\n",
       " 1,\n",
       " 2,\n",
       " 1,\n",
       " 1,\n",
       " 2,\n",
       " 0,\n",
       " 2,\n",
       " 2,\n",
       " 1,\n",
       " 3,\n",
       " 1,\n",
       " 1,\n",
       " 1,\n",
       " 0,\n",
       " 0,\n",
       " 0,\n",
       " 0,\n",
       " 2,\n",
       " 0,\n",
       " 5,\n",
       " 2,\n",
       " 0,\n",
       " 2,\n",
       " 2,\n",
       " 0,\n",
       " 0,\n",
       " 0,\n",
       " 2,\n",
       " 3,\n",
       " 1,\n",
       " 1,\n",
       " 0,\n",
       " 0,\n",
       " 1,\n",
       " 1,\n",
       " 1,\n",
       " 0,\n",
       " 2,\n",
       " 2,\n",
       " 3,\n",
       " 2,\n",
       " 3,\n",
       " 0,\n",
       " 2,\n",
       " 0,\n",
       " 1,\n",
       " 3,\n",
       " 1,\n",
       " 3,\n",
       " 1,\n",
       " 0,\n",
       " 3,\n",
       " 2,\n",
       " 1,\n",
       " 0,\n",
       " 0,\n",
       " 1,\n",
       " 1,\n",
       " 0,\n",
       " 2,\n",
       " 1,\n",
       " 1,\n",
       " 3,\n",
       " 3,\n",
       " 4,\n",
       " 0,\n",
       " 2,\n",
       " 2,\n",
       " 2,\n",
       " 1,\n",
       " 1,\n",
       " 0,\n",
       " 0,\n",
       " 1,\n",
       " 0,\n",
       " 1,\n",
       " 2,\n",
       " 0,\n",
       " 2,\n",
       " 1,\n",
       " 1,\n",
       " 1,\n",
       " 0,\n",
       " 1,\n",
       " 2,\n",
       " 0,\n",
       " 1,\n",
       " 0,\n",
       " 1,\n",
       " 2,\n",
       " 2,\n",
       " 0,\n",
       " 2,\n",
       " 1,\n",
       " 1,\n",
       " 1,\n",
       " 1,\n",
       " 0,\n",
       " 1,\n",
       " 1,\n",
       " 3,\n",
       " ...]"
      ]
     },
     "execution_count": 8,
     "metadata": {},
     "output_type": "execute_result"
    }
   ],
   "source": [
    "random_ovlp_all_genes"
   ]
  },
  {
   "cell_type": "code",
   "execution_count": 9,
   "metadata": {},
   "outputs": [
    {
     "data": {
      "text/plain": [
       "set()"
      ]
     },
     "execution_count": 9,
     "metadata": {},
     "output_type": "execute_result"
    }
   ],
   "source": [
    "set(sample(all_genes,60)).intersection(sample(all_genes,392))"
   ]
  },
  {
   "cell_type": "code",
   "execution_count": 10,
   "metadata": {},
   "outputs": [
    {
     "data": {
      "image/png": "[encoded data removed]",
      "text/plain": [
       "<Figure size 432x288 with 1 Axes>"
      ]
     },
     "metadata": {
      "needs_background": "light"
     },
     "output_type": "display_data"
    }
   ],
   "source": [
    "plt.hist(random_ovlp_all_genes)\n",
    "plt.show()"
   ]
  },
  {
   "cell_type": "code",
   "execution_count": 11,
   "metadata": {},
   "outputs": [
    {
     "data": {
      "text/plain": [
       "(1.14735, 1.0)"
      ]
     },
     "execution_count": 11,
     "metadata": {},
     "output_type": "execute_result"
    }
   ],
   "source": [
    "np.mean(random_ovlp_all_genes), np.median(random_ovlp_all_genes)"
   ]
  },
  {
   "cell_type": "code",
   "execution_count": 12,
   "metadata": {},
   "outputs": [
    {
     "data": {
      "text/plain": [
       "(392, 60)"
      ]
     },
     "execution_count": 12,
     "metadata": {},
     "output_type": "execute_result"
    }
   ],
   "source": [
    "len(sample(all_genes,392)), len(sample(all_genes,60))"
   ]
  },
  {
   "cell_type": "code",
   "execution_count": 13,
   "metadata": {},
   "outputs": [
    {
     "data": {
      "text/plain": [
       "(1.14735, 1.0)"
      ]
     },
     "execution_count": 13,
     "metadata": {},
     "output_type": "execute_result"
    }
   ],
   "source": [
    "np.mean(random_ovlp_all_genes), np.median(random_ovlp_all_genes)"
   ]
  },
  {
   "cell_type": "code",
   "execution_count": 14,
   "metadata": {},
   "outputs": [
    {
     "data": {
      "image/png": "[encoded data removed]",
      "text/plain": [
       "<Figure size 432x288 with 1 Axes>"
      ]
     },
     "metadata": {
      "needs_background": "light"
     },
     "output_type": "display_data"
    }
   ],
   "source": [
    "plt.hist(random_ovlp_all_genes)\n",
    "plt.show()"
   ]
  },
  {
   "cell_type": "code",
   "execution_count": null,
   "metadata": {},
   "outputs": [],
   "source": []
  },
  {
   "cell_type": "markdown",
   "metadata": {},
   "source": [
    "# Ovlp depending on threshold "
   ]
  },
  {
   "cell_type": "code",
   "execution_count": 15,
   "metadata": {},
   "outputs": [
    {
     "data": {
      "text/html": [
       "<div>\n",
       "<style scoped>\n",
       "    .dataframe tbody tr th:only-of-type {\n",
       "        vertical-align: middle;\n",
       "    }\n",
       "\n",
       "    .dataframe tbody tr th {\n",
       "        vertical-align: top;\n",
       "    }\n",
       "\n",
       "    .dataframe thead th {\n",
       "        text-align: right;\n",
       "    }\n",
       "</style>\n",
       "<table border=\"1\" class=\"dataframe\">\n",
       "  <thead>\n",
       "    <tr style=\"text-align: right;\">\n",
       "      <th></th>\n",
       "      <th>gene_ext</th>\n",
       "      <th>global_rank_ext</th>\n",
       "    </tr>\n",
       "  </thead>\n",
       "  <tbody>\n",
       "    <tr>\n",
       "      <th>0</th>\n",
       "      <td>ASPH</td>\n",
       "      <td>1</td>\n",
       "    </tr>\n",
       "    <tr>\n",
       "      <th>1</th>\n",
       "      <td>HSP90AA1</td>\n",
       "      <td>2</td>\n",
       "    </tr>\n",
       "  </tbody>\n",
       "</table>\n",
       "</div>"
      ],
      "text/plain": [
       "   gene_ext  global_rank_ext\n",
       "0      ASPH                1\n",
       "1  HSP90AA1                2"
      ]
     },
     "execution_count": 15,
     "metadata": {},
     "output_type": "execute_result"
    }
   ],
   "source": [
    "tmp = transl_with_all_codons2[['gene_ext', 'global_rank_ext']]\n",
    "\n",
    "tmp[0:2]"
   ]
  },
  {
   "cell_type": "code",
   "execution_count": 16,
   "metadata": {},
   "outputs": [],
   "source": [
    "def get_ovlp(thr=500):\n",
    "    return len(set(tmp[0:thr]['gene_ext'].tolist()).intersection(list(P_Set['gene'].unique())))"
   ]
  },
  {
   "cell_type": "code",
   "execution_count": 17,
   "metadata": {},
   "outputs": [
    {
     "data": {
      "text/plain": [
       "(-1.0, 45.0)"
      ]
     },
     "execution_count": 17,
     "metadata": {},
     "output_type": "execute_result"
    },
    {
     "data": {
      "image/png": "[encoded data removed]",
      "text/plain": [
       "<Figure size 432x288 with 1 Axes>"
      ]
     },
     "metadata": {
      "needs_background": "light"
     },
     "output_type": "display_data"
    }
   ],
   "source": [
    "plt.hist([get_ovlp(thr=thr) for thr in range(1, 5000)], color='green')\n",
    "\n",
    "plt.axvline(x=np.mean(random_ovlp_all_genes), color='red')\n",
    "\n",
    "plt.axvline(x=8, color='blue')\n",
    "\n",
    "plt.xlim(-1, 45)"
   ]
  },
  {
   "cell_type": "raw",
   "metadata": {},
   "source": [
    "mean random overlap is way smaller than 500-rank threshold overlap "
   ]
  },
  {
   "cell_type": "code",
   "execution_count": 18,
   "metadata": {},
   "outputs": [
    {
     "data": {
      "text/plain": [
       "1"
      ]
     },
     "execution_count": 18,
     "metadata": {},
     "output_type": "execute_result"
    }
   ],
   "source": [
    "get_ovlp(thr=7)"
   ]
  },
  {
   "cell_type": "markdown",
   "metadata": {},
   "source": [
    "\"H0: The probability of selecting TS genes is no lower than random selection from the population\" and the alternative, \n",
    "\"H1: The probability of selecting TS genes is lower than random selection from the population\"."
   ]
  },
  {
   "cell_type": "raw",
   "metadata": {},
   "source": [
    "You can use resampling (sometimes called permutation test) in this case. Assuming your gene list is L, you can sample A of size 80 and B of size 45 independently from L, and see if the size of intersection is more or less than 15. By repeating this many times you get an estimate of probability of an overlap of size as odd as 15 by the assumption of independence between A and B! If this probability is very small this may mean that the assumption of independence is not a good assumption."
   ]
  },
  {
   "cell_type": "code",
   "execution_count": 19,
   "metadata": {},
   "outputs": [
    {
     "data": {
      "text/plain": [
       "(-1.0, 45.0)"
      ]
     },
     "execution_count": 19,
     "metadata": {},
     "output_type": "execute_result"
    },
    {
     "data": {
      "image/png": "[encoded data removed]",
      "text/plain": [
       "<Figure size 432x288 with 1 Axes>"
      ]
     },
     "metadata": {
      "needs_background": "light"
     },
     "output_type": "display_data"
    }
   ],
   "source": [
    "plt.hist([get_ovlp(thr=thr) for thr in range(1, 5000)], color='green')\n",
    "\n",
    "plt.axvline(x=np.mean(random_ovlp_all_genes), color='red')\n",
    "\n",
    "plt.axvline(x=8, color='blue')\n",
    "\n",
    "plt.xlim(-1, 45)"
   ]
  },
  {
   "cell_type": "code",
   "execution_count": 20,
   "metadata": {},
   "outputs": [
    {
     "data": {
      "image/png": "[encoded data removed]",
      "text/plain": [
       "<Figure size 432x288 with 1 Axes>"
      ]
     },
     "metadata": {
      "needs_background": "light"
     },
     "output_type": "display_data"
    }
   ],
   "source": [
    "plt.hist(random_ovlp_all_genes, bins=7)\n",
    "plt.show()"
   ]
  },
  {
   "cell_type": "markdown",
   "metadata": {},
   "source": [
    "# Hypergeom test : to show that ovlp between two samples is greater than from 2 indepent samples (drawn randomly from population)"
   ]
  },
  {
   "cell_type": "code",
   "execution_count": 21,
   "metadata": {},
   "outputs": [
    {
     "data": {
      "text/plain": [
       "0.9999976187587246"
      ]
     },
     "execution_count": 21,
     "metadata": {},
     "output_type": "execute_result"
    }
   ],
   "source": [
    "from scipy.stats import hypergeom\n",
    "\n",
    "# M = 20000 population of genes \n",
    "# n = 60 phyloset \n",
    "# N = 392 - riboset\n",
    "\n",
    "# what ovlp we expect \n",
    "\n",
    "[M, n, N] = [20000, 60, 392]\n",
    "\n",
    "x = 8 # ovlp between groupd we see\n",
    "\n",
    "\n",
    "# cumulative, X\n",
    "prb = hypergeom.cdf(x, M, n, N)\n",
    "\n",
    "prb"
   ]
  },
  {
   "cell_type": "code",
   "execution_count": 22,
   "metadata": {},
   "outputs": [
    {
     "data": {
      "text/plain": [
       "1.8918364256958717e-05"
      ]
     },
     "execution_count": 22,
     "metadata": {},
     "output_type": "execute_result"
    }
   ],
   "source": [
    "k=8\n",
    "\n",
    "hypergeom.pmf(k, M, n, N, loc=0)"
   ]
  },
  {
   "cell_type": "raw",
   "metadata": {},
   "source": [
    "1.89-05"
   ]
  },
  {
   "cell_type": "code",
   "execution_count": 23,
   "metadata": {},
   "outputs": [
    {
     "data": {
      "text/plain": [
       "0.023624827939919293"
      ]
     },
     "execution_count": 23,
     "metadata": {},
     "output_type": "execute_result"
    }
   ],
   "source": [
    "k=get_ovlp(thr=110)\n",
    "[M, n, N] = [20000, 60, 392]\n",
    "\n",
    "hypergeom.pmf(k, M, n, N, loc=0)"
   ]
  },
  {
   "cell_type": "code",
   "execution_count": null,
   "metadata": {},
   "outputs": [],
   "source": []
  },
  {
   "cell_type": "code",
   "execution_count": null,
   "metadata": {},
   "outputs": [],
   "source": []
  },
  {
   "cell_type": "code",
   "execution_count": null,
   "metadata": {},
   "outputs": [],
   "source": []
  },
  {
   "cell_type": "markdown",
   "metadata": {},
   "source": [
    "# 60 genes and 500 genes; 60 genes and 550 genes"
   ]
  },
  {
   "cell_type": "code",
   "execution_count": 24,
   "metadata": {},
   "outputs": [],
   "source": [
    "def get_ovlp(thr=500):\n",
    "    if thr <= 10470:\n",
    "        return len(set(tmp[0:thr]['gene_ext'].tolist()).intersection(list(P_Set['gene'].unique())))\n",
    "    else: \n",
    "        return len(set(tmp[0:10470]['gene_ext'].tolist()).intersection(list(P_Set['gene'].unique())))"
   ]
  },
  {
   "cell_type": "code",
   "execution_count": 25,
   "metadata": {},
   "outputs": [
    {
     "name": "stdout",
     "output_type": "stream",
     "text": [
      "[0, 0, 1, 3, 1]\n",
      "[3, 5, 6, 8, 8]\n"
     ]
    }
   ],
   "source": [
    "ranked_based_ovlps = [get_ovlp(thr=thr) for thr in range(100, 19000, 100)]\n",
    "\n",
    "random_ovlps =  [len(set(P_Set.gene.tolist()).intersection(sample(all_genes, i))) for i in range(100, 19000, 100)]\n",
    "\n",
    "axis_x = list(range(100, 19000, 100))\n",
    "\n",
    "print (random_ovlps[0:5])\n",
    "\n",
    "print (ranked_based_ovlps[0:5])"
   ]
  },
  {
   "cell_type": "code",
   "execution_count": 26,
   "metadata": {},
   "outputs": [
    {
     "data": {
      "image/png": "[encoded data removed]",
      "text/plain": [
       "<Figure size 432x288 with 1 Axes>"
      ]
     },
     "metadata": {
      "needs_background": "light"
     },
     "output_type": "display_data"
    }
   ],
   "source": [
    "plt.plot(axis_x, ranked_based_ovlps, linewidth=2, markersize=12, label='RiboSET')\n",
    "\n",
    "plt.plot(axis_x, random_ovlps, linewidth=2, markersize=12, label='independent samples')\n",
    "\n",
    "plt.yticks(list(range(0, 60, 10)), list(range(0, 60, 10)), fontsize=13)\n",
    "plt.xticks(list(range(0, 19000, 2000)), list(range(0, 19000, 2000)), fontsize=13, rotation=90)\n",
    "\n",
    "plt.xlabel('rank', fontsize=17)\n",
    "\n",
    "plt.ylabel('# genes in overlap', fontsize=17)\n",
    "\n",
    "plt.legend(loc=0, prop={'size': 14})\n",
    "\n",
    "plt.show()"
   ]
  },
  {
   "cell_type": "code",
   "execution_count": null,
   "metadata": {},
   "outputs": [],
   "source": []
  },
  {
   "cell_type": "markdown",
   "metadata": {},
   "source": [
    "# Plot increment "
   ]
  },
  {
   "cell_type": "code",
   "execution_count": 27,
   "metadata": {},
   "outputs": [],
   "source": [
    "random_ovlps =  [len(set(P_Set.gene.tolist()).intersection(sample(all_genes, i))) for i in range(0, 10500, 500)]"
   ]
  },
  {
   "cell_type": "code",
   "execution_count": 28,
   "metadata": {},
   "outputs": [
    {
     "data": {
      "text/plain": [
       "[0.0,\n",
       " 1.428,\n",
       " 3.021,\n",
       " 4.348,\n",
       " 5.81,\n",
       " 7.481,\n",
       " 8.837,\n",
       " 10.337,\n",
       " 11.675,\n",
       " 13.296,\n",
       " 14.821,\n",
       " 16.256,\n",
       " 17.916,\n",
       " 19.137,\n",
       " 20.631,\n",
       " 22.318,\n",
       " 23.728,\n",
       " 24.951,\n",
       " 26.683,\n",
       " 28.051,\n",
       " 29.499]"
      ]
     },
     "execution_count": 28,
     "metadata": {},
     "output_type": "execute_result"
    }
   ],
   "source": [
    "random_ovlps = []\n",
    "\n",
    "for i in range(0, 10500, 500):\n",
    "    kek_li = []\n",
    "    for iter in range(0, 1000):\n",
    "        kek = len(set(P_Set.gene.tolist()).intersection(sample(all_genes, i)))\n",
    "        kek_li.append(kek)\n",
    "        \n",
    "    mean_kek = np.mean(kek_li)\n",
    "    random_ovlps.append(mean_kek)\n",
    "    \n",
    "random_ovlps"
   ]
  },
  {
   "cell_type": "code",
   "execution_count": 29,
   "metadata": {},
   "outputs": [
    {
     "name": "stdout",
     "output_type": "stream",
     "text": [
      "[0.0, 1.428, 3.021, 4.348, 5.81]\n",
      "[0, 8, 15, 19, 26]\n"
     ]
    }
   ],
   "source": [
    "ranked_based_ovlps = [get_ovlp(thr=thr) for thr in range(0, 10500, 500)]\n",
    "\n",
    "#random_ovlps =  [len(set(P_Set.gene.tolist()).intersection(sample(all_genes, i))) for i in range(0, 10500, 500)]\n",
    "\n",
    "\n",
    "x = np.arange(0, 20, 1)\n",
    "axis_x = list(range(0, 10500, 500))\n",
    "\n",
    "axis_x1 = [(axis_x[i], axis_x[i+1]) for i in range(0, len(axis_x)-1)]\n",
    "\n",
    "print (random_ovlps[0:5])\n",
    "\n",
    "print (ranked_based_ovlps[0:5])\n",
    "\n",
    "a = [ranked_based_ovlps[i+1]-ranked_based_ovlps[i] for i in range(0, len(ranked_based_ovlps)-1)]\n",
    "\n",
    "b = [random_ovlps[i+1]-random_ovlps[i] for i in range(0, len(random_ovlps)-1)]"
   ]
  },
  {
   "cell_type": "code",
   "execution_count": 30,
   "metadata": {},
   "outputs": [
    {
     "data": {
      "text/plain": [
       "(20, 20, 20, 20)"
      ]
     },
     "execution_count": 30,
     "metadata": {},
     "output_type": "execute_result"
    }
   ],
   "source": [
    "len(axis_x1), len(a), len(b), len(x)"
   ]
  },
  {
   "cell_type": "code",
   "execution_count": 31,
   "metadata": {},
   "outputs": [
    {
     "data": {
      "image/png": "[encoded data removed]",
      "text/plain": [
       "<Figure size 720x360 with 1 Axes>"
      ]
     },
     "metadata": {
      "needs_background": "light"
     },
     "output_type": "display_data"
    }
   ],
   "source": [
    "plt.figure(figsize=(10, 5))\n",
    "\n",
    "\n",
    "plt.plot(x, a, linewidth=2, markersize=12, label='RiboSET')\n",
    "\n",
    "plt.plot(x, b, linewidth=2, markersize=12, label='independent samples')\n",
    "\n",
    "plt.yticks(list(range(-10, 15, 5)), list(range(-10, 15, 5)), fontsize=13)\n",
    "plt.xticks(x, axis_x1, fontsize=13, rotation=90)\n",
    "\n",
    "plt.xlabel('rank_increment', fontsize=17)\n",
    "\n",
    "plt.ylabel('# additional genes\\nin ovlp for rank increment', fontsize=17)\n",
    "\n",
    "plt.legend(loc=0, prop={'size': 14})\n",
    "\n",
    "plt.ylim(-10, 15)\n",
    "\n",
    "\n",
    "plt.show()"
   ]
  },
  {
   "cell_type": "raw",
   "metadata": {},
   "source": [
    "we can see that in we add genes with higher rank to the RiboSET (at a step in 500 genes), somwhere at [3000, 3500] the increase in gene overlaps for PhyloSET & independent sample and PhyloSET and RiboSET becomes "
   ]
  },
  {
   "cell_type": "code",
   "execution_count": null,
   "metadata": {},
   "outputs": [],
   "source": []
  },
  {
   "cell_type": "code",
   "execution_count": null,
   "metadata": {},
   "outputs": [],
   "source": []
  },
  {
   "cell_type": "raw",
   "metadata": {},
   "source": [
    "We are adding genes with higher rank to RiboSET and simulated dataset (e.g. 500 and 500 genes; 550 and 550 genes) to see if these genes bring more overlapping genes with PhyloSET "
   ]
  },
  {
   "cell_type": "code",
   "execution_count": null,
   "metadata": {},
   "outputs": [],
   "source": []
  },
  {
   "cell_type": "raw",
   "metadata": {},
   "source": [
    "We were aiming to show that when we increase rank threshold, at some stage (rank X >> 500) the overlap increment between PhyloSET abd RiboSET becomes indistinguishable from the overlap increment between PhyloSET and random sample. \n",
    "\n",
    "This suggests that our selected threshold rank 500 is conservative measure and in fact there might be a lot more true positive genes if we increase the threshold. \n",
    "\n",
    "\n",
    "\n",
    "\n"
   ]
  },
  {
   "cell_type": "code",
   "execution_count": null,
   "metadata": {},
   "outputs": [],
   "source": []
  },
  {
   "cell_type": "code",
   "execution_count": 241,
   "metadata": {},
   "outputs": [
    {
     "name": "stdout",
     "output_type": "stream",
     "text": [
      "[0, 1, 4, 10, 10]\n",
      "[0, 15, 26, 33, 37]\n"
     ]
    },
    {
     "data": {
      "text/plain": [
       "(10, 10, 10, 10)"
      ]
     },
     "execution_count": 241,
     "metadata": {},
     "output_type": "execute_result"
    }
   ],
   "source": [
    "step = 1000\n",
    "\n",
    "ranked_based_ovlps = [get_ovlp(thr=thr) for thr in range(0, 10500, step)]\n",
    "\n",
    "random_ovlps =  [len(set(P_Set.gene.tolist()).intersection(sample(all_genes, i))) for i in range(0, 10500, step)]\n",
    "\n",
    "\n",
    "x = np.arange(0, 10, 1)\n",
    "axis_x = list(range(0, 10500, step))\n",
    "\n",
    "axis_x1 = [(axis_x[i], axis_x[i+1]) for i in range(0, len(axis_x)-1)]\n",
    "\n",
    "print (random_ovlps[0:5])\n",
    "\n",
    "print (ranked_based_ovlps[0:5])\n",
    "\n",
    "a = [ranked_based_ovlps[i+1]-ranked_based_ovlps[i] for i in range(0, len(ranked_based_ovlps)-1)]\n",
    "\n",
    "b = [random_ovlps[i+1]-random_ovlps[i] for i in range(0, len(random_ovlps)-1)]\n",
    "\n",
    "len(axis_x1), len(a), len(b), len(x)"
   ]
  },
  {
   "cell_type": "code",
   "execution_count": 244,
   "metadata": {},
   "outputs": [
    {
     "data": {
      "image/png": "[encoded data removed]",
      "text/plain": [
       "<Figure size 720x360 with 1 Axes>"
      ]
     },
     "metadata": {
      "needs_background": "light"
     },
     "output_type": "display_data"
    }
   ],
   "source": [
    "plt.figure(figsize=(10, 5))\n",
    "\n",
    "\n",
    "plt.plot(x, a, linewidth=2, markersize=12, label='RiboSET')\n",
    "\n",
    "plt.plot(x, b, linewidth=2, markersize=12, label='independent samples')\n",
    "\n",
    "#plt.yticks(list(range(-10, 15, 5)), list(range(-10, 15, 5)), fontsize=13)\n",
    "plt.xticks(x, axis_x1, fontsize=13, rotation=90)\n",
    "\n",
    "plt.xlabel('rank_increment', fontsize=17)\n",
    "\n",
    "plt.ylabel('# additional genes\\nin ovlp for rank increment', fontsize=17)\n",
    "\n",
    "plt.legend(loc=0, prop={'size': 14})\n",
    "\n",
    "#plt.ylim(-10, 15)\n",
    "\n",
    "\n",
    "plt.show()"
   ]
  },
  {
   "cell_type": "code",
   "execution_count": null,
   "metadata": {},
   "outputs": [],
   "source": []
  },
  {
   "cell_type": "code",
   "execution_count": null,
   "metadata": {},
   "outputs": [],
   "source": []
  },
  {
   "cell_type": "code",
   "execution_count": null,
   "metadata": {},
   "outputs": [],
   "source": []
  },
  {
   "cell_type": "code",
   "execution_count": null,
   "metadata": {},
   "outputs": [],
   "source": []
  },
  {
   "cell_type": "markdown",
   "metadata": {},
   "source": [
    "# 500-> 1000 hypergeom test "
   ]
  },
  {
   "cell_type": "code",
   "execution_count": 200,
   "metadata": {},
   "outputs": [
    {
     "data": {
      "text/plain": [
       "(8, 15)"
      ]
     },
     "execution_count": 200,
     "metadata": {},
     "output_type": "execute_result"
    }
   ],
   "source": [
    "get_ovlp(thr=500), get_ovlp(thr=1000)"
   ]
  },
  {
   "cell_type": "code",
   "execution_count": 202,
   "metadata": {},
   "outputs": [
    {
     "data": {
      "text/plain": [
       "(1, 4)"
      ]
     },
     "execution_count": 202,
     "metadata": {},
     "output_type": "execute_result"
    }
   ],
   "source": [
    "len(set(P_Set.gene.tolist()).intersection(sample(all_genes, 500))), len(set(P_Set.gene.tolist()).intersection(sample(all_genes, 1000)))"
   ]
  },
  {
   "cell_type": "code",
   "execution_count": null,
   "metadata": {},
   "outputs": [],
   "source": [
    "      RiboSET independent \n",
    "'500'    8        1\n",
    "'1000'   15       4"
   ]
  },
  {
   "cell_type": "code",
   "execution_count": 204,
   "metadata": {},
   "outputs": [
    {
     "data": {
      "text/plain": [
       "(15, 19)"
      ]
     },
     "execution_count": 204,
     "metadata": {},
     "output_type": "execute_result"
    }
   ],
   "source": [
    "get_ovlp(thr=1000), get_ovlp(thr=1500)"
   ]
  },
  {
   "cell_type": "code",
   "execution_count": 205,
   "metadata": {},
   "outputs": [
    {
     "data": {
      "text/plain": [
       "(4, 3)"
      ]
     },
     "execution_count": 205,
     "metadata": {},
     "output_type": "execute_result"
    }
   ],
   "source": [
    "len(set(P_Set.gene.tolist()).intersection(sample(all_genes, 1000))), len(set(P_Set.gene.tolist()).intersection(sample(all_genes, 1500)))"
   ]
  },
  {
   "cell_type": "code",
   "execution_count": null,
   "metadata": {},
   "outputs": [],
   "source": [
    "      RiboSET independent \n",
    "'1000'   15        4\n",
    "'1500'   19        3"
   ]
  },
  {
   "cell_type": "code",
   "execution_count": 206,
   "metadata": {},
   "outputs": [
    {
     "data": {
      "text/plain": [
       "(19, 26)"
      ]
     },
     "execution_count": 206,
     "metadata": {},
     "output_type": "execute_result"
    }
   ],
   "source": [
    "get_ovlp(thr=1500), get_ovlp(thr=2000)"
   ]
  },
  {
   "cell_type": "code",
   "execution_count": 207,
   "metadata": {},
   "outputs": [
    {
     "data": {
      "text/plain": [
       "(9, 5)"
      ]
     },
     "execution_count": 207,
     "metadata": {},
     "output_type": "execute_result"
    }
   ],
   "source": [
    "len(set(P_Set.gene.tolist()).intersection(sample(all_genes, 1500))), len(set(P_Set.gene.tolist()).intersection(sample(all_genes, 2000)))"
   ]
  },
  {
   "cell_type": "code",
   "execution_count": null,
   "metadata": {},
   "outputs": [],
   "source": [
    "      RiboSET independent \n",
    "'1500'   19        9\n",
    "'2000'   26        5"
   ]
  },
  {
   "cell_type": "code",
   "execution_count": null,
   "metadata": {},
   "outputs": [],
   "source": []
  },
  {
   "cell_type": "code",
   "execution_count": null,
   "metadata": {},
   "outputs": [],
   "source": []
  },
  {
   "cell_type": "code",
   "execution_count": null,
   "metadata": {},
   "outputs": [],
   "source": []
  },
  {
   "cell_type": "markdown",
   "metadata": {},
   "source": [
    "# 9 genes that have translated CDS but no extensions and still have PCSF > 0 "
   ]
  },
  {
   "cell_type": "code",
   "execution_count": 50,
   "metadata": {},
   "outputs": [
    {
     "data": {
      "text/html": [
       "<div>\n",
       "<style scoped>\n",
       "    .dataframe tbody tr th:only-of-type {\n",
       "        vertical-align: middle;\n",
       "    }\n",
       "\n",
       "    .dataframe tbody tr th {\n",
       "        vertical-align: top;\n",
       "    }\n",
       "\n",
       "    .dataframe thead th {\n",
       "        text-align: right;\n",
       "    }\n",
       "</style>\n",
       "<table border=\"1\" class=\"dataframe\">\n",
       "  <thead>\n",
       "    <tr style=\"text-align: right;\">\n",
       "      <th></th>\n",
       "      <th>gene</th>\n",
       "      <th>tr_id</th>\n",
       "      <th>PhyloCSF120score</th>\n",
       "      <th>global_coo_primary</th>\n",
       "      <th>strand</th>\n",
       "      <th>global_coo_50_and_less</th>\n",
       "    </tr>\n",
       "  </thead>\n",
       "  <tbody>\n",
       "    <tr>\n",
       "      <th>3</th>\n",
       "      <td>TAF12</td>\n",
       "      <td>ENST00000373824.8</td>\n",
       "      <td>327.9236</td>\n",
       "      <td>chr1:28622082-28622165+chr1:28642992-28643003</td>\n",
       "      <td>-</td>\n",
       "      <td>chr1:28622082-28622165+chr1:28642992-28643003</td>\n",
       "    </tr>\n",
       "    <tr>\n",
       "      <th>21</th>\n",
       "      <td>FBXW7</td>\n",
       "      <td>ENST00000603841.1</td>\n",
       "      <td>52.0127</td>\n",
       "      <td>chr4:152411804-152411878</td>\n",
       "      <td>-</td>\n",
       "      <td>chr4:152411804-152411878</td>\n",
       "    </tr>\n",
       "    <tr>\n",
       "      <th>28</th>\n",
       "      <td>ENY2</td>\n",
       "      <td>ENST00000521688.5</td>\n",
       "      <td>15.0202</td>\n",
       "      <td>chr8:109334373-109334468</td>\n",
       "      <td>+</td>\n",
       "      <td>chr8:109334373-109334468</td>\n",
       "    </tr>\n",
       "    <tr>\n",
       "      <th>38</th>\n",
       "      <td>GLTP</td>\n",
       "      <td>ENST00000318348.8</td>\n",
       "      <td>24.8281</td>\n",
       "      <td>chr12:109880375-109880488</td>\n",
       "      <td>-</td>\n",
       "      <td>chr12:109880375-109880488</td>\n",
       "    </tr>\n",
       "    <tr>\n",
       "      <th>43</th>\n",
       "      <td>SULT1A1</td>\n",
       "      <td>ENST00000350842.8</td>\n",
       "      <td>36.6149</td>\n",
       "      <td>chr16:28623198-28623314</td>\n",
       "      <td>-</td>\n",
       "      <td>chr16:28623198-28623314</td>\n",
       "    </tr>\n",
       "    <tr>\n",
       "      <th>58</th>\n",
       "      <td>SMAD7</td>\n",
       "      <td>ENST00000262158.6</td>\n",
       "      <td>41.0208</td>\n",
       "      <td>chr18:48950425-48950709</td>\n",
       "      <td>-</td>\n",
       "      <td>chr18:48950425-48950574</td>\n",
       "    </tr>\n",
       "    <tr>\n",
       "      <th>62</th>\n",
       "      <td>CACNG8</td>\n",
       "      <td>ENST00000270458.2</td>\n",
       "      <td>171.2583</td>\n",
       "      <td>chr19:53963041-53963142</td>\n",
       "      <td>+</td>\n",
       "      <td>chr19:53963041-53963142</td>\n",
       "    </tr>\n",
       "    <tr>\n",
       "      <th>74</th>\n",
       "      <td>KIAA0930</td>\n",
       "      <td>ENST00000336156.9</td>\n",
       "      <td>69.9328</td>\n",
       "      <td>chr22:45240704-45240769</td>\n",
       "      <td>-</td>\n",
       "      <td>chr22:45240704-45240769</td>\n",
       "    </tr>\n",
       "    <tr>\n",
       "      <th>81</th>\n",
       "      <td>UBE2A</td>\n",
       "      <td>ENST00000371558.6</td>\n",
       "      <td>640.8192</td>\n",
       "      <td>chrX:119574469-119574711</td>\n",
       "      <td>+</td>\n",
       "      <td>chrX:119574562-119574711</td>\n",
       "    </tr>\n",
       "    <tr>\n",
       "      <th>82</th>\n",
       "      <td>UBE2A</td>\n",
       "      <td>ENST00000346330.6</td>\n",
       "      <td>640.8192</td>\n",
       "      <td>chrX:119574538-119574711</td>\n",
       "      <td>+</td>\n",
       "      <td>chrX:119574562-119574711</td>\n",
       "    </tr>\n",
       "    <tr>\n",
       "      <th>83</th>\n",
       "      <td>UBE2A</td>\n",
       "      <td>ENST00000625938.2</td>\n",
       "      <td>640.8192</td>\n",
       "      <td>chrX:119574547-119574711</td>\n",
       "      <td>+</td>\n",
       "      <td>chrX:119574562-119574711</td>\n",
       "    </tr>\n",
       "    <tr>\n",
       "      <th>84</th>\n",
       "      <td>UBE2A</td>\n",
       "      <td>ENST00000631185.2</td>\n",
       "      <td>615.2369</td>\n",
       "      <td>chrX:119574565-119574711</td>\n",
       "      <td>+</td>\n",
       "      <td>chrX:119574565-119574711</td>\n",
       "    </tr>\n",
       "  </tbody>\n",
       "</table>\n",
       "</div>"
      ],
      "text/plain": [
       "        gene              tr_id  PhyloCSF120score  \\\n",
       "3      TAF12  ENST00000373824.8          327.9236   \n",
       "21     FBXW7  ENST00000603841.1           52.0127   \n",
       "28      ENY2  ENST00000521688.5           15.0202   \n",
       "38      GLTP  ENST00000318348.8           24.8281   \n",
       "43   SULT1A1  ENST00000350842.8           36.6149   \n",
       "58     SMAD7  ENST00000262158.6           41.0208   \n",
       "62    CACNG8  ENST00000270458.2          171.2583   \n",
       "74  KIAA0930  ENST00000336156.9           69.9328   \n",
       "81     UBE2A  ENST00000371558.6          640.8192   \n",
       "82     UBE2A  ENST00000346330.6          640.8192   \n",
       "83     UBE2A  ENST00000625938.2          640.8192   \n",
       "84     UBE2A  ENST00000631185.2          615.2369   \n",
       "\n",
       "                               global_coo_primary strand  \\\n",
       "3   chr1:28622082-28622165+chr1:28642992-28643003      -   \n",
       "21                       chr4:152411804-152411878      -   \n",
       "28                       chr8:109334373-109334468      +   \n",
       "38                      chr12:109880375-109880488      -   \n",
       "43                        chr16:28623198-28623314      -   \n",
       "58                        chr18:48950425-48950709      -   \n",
       "62                        chr19:53963041-53963142      +   \n",
       "74                        chr22:45240704-45240769      -   \n",
       "81                       chrX:119574469-119574711      +   \n",
       "82                       chrX:119574538-119574711      +   \n",
       "83                       chrX:119574547-119574711      +   \n",
       "84                       chrX:119574565-119574711      +   \n",
       "\n",
       "                           global_coo_50_and_less  \n",
       "3   chr1:28622082-28622165+chr1:28642992-28643003  \n",
       "21                       chr4:152411804-152411878  \n",
       "28                       chr8:109334373-109334468  \n",
       "38                      chr12:109880375-109880488  \n",
       "43                        chr16:28623198-28623314  \n",
       "58                        chr18:48950425-48950574  \n",
       "62                        chr19:53963041-53963142  \n",
       "74                        chr22:45240704-45240769  \n",
       "81                       chrX:119574562-119574711  \n",
       "82                       chrX:119574562-119574711  \n",
       "83                       chrX:119574562-119574711  \n",
       "84                       chrX:119574565-119574711  "
      ]
     },
     "execution_count": 50,
     "metadata": {},
     "output_type": "execute_result"
    }
   ],
   "source": [
    "P_Set[P_Set['gene'].isin(['ENY2', 'UBE2A', 'TAF12', 'KIAA0930', \n",
    "                         'GLTP', 'SULT1A1', 'FBXW7',\n",
    "                         'SMAD7', 'CACNG8'])][['gene', 'tr_id', 'PhyloCSF120score',\n",
    "                                               'global_coo_primary', \n",
    "                                               'strand', 'global_coo_50_and_less']]"
   ]
  },
  {
   "cell_type": "code",
   "execution_count": null,
   "metadata": {},
   "outputs": [],
   "source": []
  },
  {
   "cell_type": "code",
   "execution_count": null,
   "metadata": {},
   "outputs": [],
   "source": []
  },
  {
   "cell_type": "code",
   "execution_count": null,
   "metadata": {},
   "outputs": [],
   "source": []
  },
  {
   "cell_type": "markdown",
   "metadata": {},
   "source": [
    "# CDS_cov VS RANK "
   ]
  },
  {
   "cell_type": "raw",
   "metadata": {},
   "source": [
    "CDS_ratio is a ratio of the reads in the region of interest (so extensions in this case) to reads in the CDS, normalised by the corresponding length of each. \n",
    "\n",
    "ext_ratio / cds"
   ]
  },
  {
   "cell_type": "code",
   "execution_count": 121,
   "metadata": {},
   "outputs": [
    {
     "data": {
      "text/html": [
       "<div>\n",
       "<style scoped>\n",
       "    .dataframe tbody tr th:only-of-type {\n",
       "        vertical-align: middle;\n",
       "    }\n",
       "\n",
       "    .dataframe tbody tr th {\n",
       "        vertical-align: top;\n",
       "    }\n",
       "\n",
       "    .dataframe thead th {\n",
       "        text-align: right;\n",
       "    }\n",
       "</style>\n",
       "<table border=\"1\" class=\"dataframe\">\n",
       "  <thead>\n",
       "    <tr style=\"text-align: right;\">\n",
       "      <th></th>\n",
       "      <th>tr_id</th>\n",
       "      <th>gene</th>\n",
       "      <th>N_term_start1</th>\n",
       "      <th>N_term_end1</th>\n",
       "      <th>len_codons</th>\n",
       "      <th>global_coo_50_and_less</th>\n",
       "      <th>strand</th>\n",
       "      <th>global_coo_primary</th>\n",
       "      <th>PhyloCSF120score</th>\n",
       "      <th>number_of_records</th>\n",
       "      <th>ovlp</th>\n",
       "      <th>Riboseq_Summary</th>\n",
       "      <th>Coverage_value_ext</th>\n",
       "      <th>Proteomics_count_ext</th>\n",
       "      <th>tag</th>\n",
       "      <th>transcript_type</th>\n",
       "      <th>rank</th>\n",
       "      <th>summary</th>\n",
       "    </tr>\n",
       "  </thead>\n",
       "  <tbody>\n",
       "    <tr>\n",
       "      <th>0</th>\n",
       "      <td>ENST00000377898.3</td>\n",
       "      <td>HES3</td>\n",
       "      <td>2</td>\n",
       "      <td>65</td>\n",
       "      <td>21.0</td>\n",
       "      <td>chr1:6244194-6244241+chr1:6244351-6244365</td>\n",
       "      <td>+</td>\n",
       "      <td>chr1:6244194-6244241+chr1:6244351-6244365</td>\n",
       "      <td>210.1621</td>\n",
       "      <td>118</td>\n",
       "      <td>0;0;0</td>\n",
       "      <td>ACG; 6-66; Rank: 1907; cov: 40.0</td>\n",
       "      <td>40.0</td>\n",
       "      <td>0.0</td>\n",
       "      <td>basic,appris_principal_1,CCDS</td>\n",
       "      <td>protein_coding</td>\n",
       "      <td>1907</td>\n",
       "      <td>ACG; 6-66; Rank: 1907; cov: 40.0</td>\n",
       "    </tr>\n",
       "    <tr>\n",
       "      <th>1</th>\n",
       "      <td>ENST00000400907.6</td>\n",
       "      <td>RERE</td>\n",
       "      <td>2</td>\n",
       "      <td>74</td>\n",
       "      <td>24.0</td>\n",
       "      <td>chr1:8656298-8656369</td>\n",
       "      <td>-</td>\n",
       "      <td>chr1:8656298-8656369</td>\n",
       "      <td>108.1564</td>\n",
       "      <td>119</td>\n",
       "      <td>0;0;0</td>\n",
       "      <td>NaN</td>\n",
       "      <td>NaN</td>\n",
       "      <td>NaN</td>\n",
       "      <td>not_organism_supported,dotter_confirmed,basic</td>\n",
       "      <td>protein_coding</td>\n",
       "      <td>8000</td>\n",
       "      <td>NaN</td>\n",
       "    </tr>\n",
       "  </tbody>\n",
       "</table>\n",
       "</div>"
      ],
      "text/plain": [
       "               tr_id  gene  N_term_start1  N_term_end1  len_codons  \\\n",
       "0  ENST00000377898.3  HES3              2           65        21.0   \n",
       "1  ENST00000400907.6  RERE              2           74        24.0   \n",
       "\n",
       "                      global_coo_50_and_less strand  \\\n",
       "0  chr1:6244194-6244241+chr1:6244351-6244365      +   \n",
       "1                       chr1:8656298-8656369      -   \n",
       "\n",
       "                          global_coo_primary  PhyloCSF120score  \\\n",
       "0  chr1:6244194-6244241+chr1:6244351-6244365          210.1621   \n",
       "1                       chr1:8656298-8656369          108.1564   \n",
       "\n",
       "   number_of_records   ovlp                   Riboseq_Summary  \\\n",
       "0                118  0;0;0  ACG; 6-66; Rank: 1907; cov: 40.0   \n",
       "1                119  0;0;0                               NaN   \n",
       "\n",
       "   Coverage_value_ext  Proteomics_count_ext  \\\n",
       "0                40.0                   0.0   \n",
       "1                 NaN                   NaN   \n",
       "\n",
       "                                             tag transcript_type  rank  \\\n",
       "0                  basic,appris_principal_1,CCDS  protein_coding  1907   \n",
       "1  not_organism_supported,dotter_confirmed,basic  protein_coding  8000   \n",
       "\n",
       "                            summary  \n",
       "0  ACG; 6-66; Rank: 1907; cov: 40.0  \n",
       "1                               NaN  "
      ]
     },
     "execution_count": 121,
     "metadata": {},
     "output_type": "execute_result"
    }
   ],
   "source": [
    "li = []\n",
    "\n",
    "for el in P_Set[['tr_id', 'Riboseq_Summary']].to_numpy():\n",
    "    tr_id = el[0]\n",
    "    summary = el[1]\n",
    "    if summary is np.nan:\n",
    "        rank = 8000\n",
    "    else:\n",
    "        rank = int(summary.split('Rank: ')[1].split(';')[0])\n",
    "\n",
    "    li.append([tr_id, rank, summary])\n",
    "    \n",
    "df = pd.DataFrame(li, columns = ['tr_id', 'rank', 'summary'])\n",
    "\n",
    "P_Set2 = P_Set.merge(df, on='tr_id', how='inner')\n",
    "\n",
    "P_Set2[0:2]"
   ]
  },
  {
   "cell_type": "code",
   "execution_count": 122,
   "metadata": {},
   "outputs": [],
   "source": [
    "li = []\n",
    "\n",
    "for el in P_Set2[['gene', 'tr_id', 'rank']].to_numpy():\n",
    "    rank = el[2]\n",
    "    gene = el[0]\n",
    "    tr_id = el[1].split('.')[0]\n",
    "    cds_start_pos = metadata_pc_g25[metadata_pc_g25['tr_id'].str.contains(tr_id)].iloc[0].cds_start_pos \n",
    "    cds_stop_pos = metadata_pc_g25[metadata_pc_g25['tr_id'].str.contains(tr_id)].iloc[0].cds_stop_pos\n",
    "    frame = ((cds_start_pos) % 3) + 1\n",
    "    cds_len = cds_stop_pos - cds_start_pos\n",
    "    \n",
    "    if len(glob.glob('data/TRIPSlike_plots_data_PhyloSET/%s_%s_unamb.csv' % (gene, tr_id))) != 0:  \n",
    "        file_counts = pd.read_csv('data/TRIPSlike_plots_data_PhyloSET/%s_%s_unamb.csv' % (gene, tr_id))\n",
    "        CDS_counts = file_counts[cds_start_pos:cds_stop_pos]['Frame '+str(frame)].sum()\n",
    "        CDS_coverage = CDS_counts / cds_len\n",
    "    else:\n",
    "        CDS_coverage = 0\n",
    "        \n",
    "    \n",
    "    \n",
    "    \n",
    "    \n",
    "    #print ('frame 1', file_counts[cds_start_pos:cds_stop_pos]['Frame 1'].sum())\n",
    "    #print ('frame 2', file_counts[cds_start_pos:cds_stop_pos]['Frame 2'].sum())\n",
    "    #print ('frame 3', file_counts[cds_start_pos:cds_stop_pos]['Frame 3'].sum())\n",
    "    #print ('cds_frame', frame)\n",
    "    \n",
    "    li.append([gene, tr_id, cds_len, CDS_coverage, rank])"
   ]
  },
  {
   "cell_type": "code",
   "execution_count": 123,
   "metadata": {},
   "outputs": [
    {
     "data": {
      "text/html": [
       "<div>\n",
       "<style scoped>\n",
       "    .dataframe tbody tr th:only-of-type {\n",
       "        vertical-align: middle;\n",
       "    }\n",
       "\n",
       "    .dataframe tbody tr th {\n",
       "        vertical-align: top;\n",
       "    }\n",
       "\n",
       "    .dataframe thead th {\n",
       "        text-align: right;\n",
       "    }\n",
       "</style>\n",
       "<table border=\"1\" class=\"dataframe\">\n",
       "  <thead>\n",
       "    <tr style=\"text-align: right;\">\n",
       "      <th></th>\n",
       "      <th>gene</th>\n",
       "      <th>tr_id</th>\n",
       "      <th>cds_len</th>\n",
       "      <th>CDS_coverage</th>\n",
       "      <th>rank</th>\n",
       "    </tr>\n",
       "  </thead>\n",
       "  <tbody>\n",
       "    <tr>\n",
       "      <th>0</th>\n",
       "      <td>HES3</td>\n",
       "      <td>ENST00000377898</td>\n",
       "      <td>561</td>\n",
       "      <td>4.606061</td>\n",
       "      <td>1907</td>\n",
       "    </tr>\n",
       "    <tr>\n",
       "      <th>1</th>\n",
       "      <td>RERE</td>\n",
       "      <td>ENST00000400907</td>\n",
       "      <td>1755</td>\n",
       "      <td>3.852422</td>\n",
       "      <td>8000</td>\n",
       "    </tr>\n",
       "  </tbody>\n",
       "</table>\n",
       "</div>"
      ],
      "text/plain": [
       "   gene            tr_id  cds_len  CDS_coverage  rank\n",
       "0  HES3  ENST00000377898      561      4.606061  1907\n",
       "1  RERE  ENST00000400907     1755      3.852422  8000"
      ]
     },
     "execution_count": 123,
     "metadata": {},
     "output_type": "execute_result"
    }
   ],
   "source": [
    "plot_df = pd.DataFrame(li, columns = ['gene', 'tr_id', 'cds_len', 'CDS_coverage', 'rank'])\n",
    "\n",
    "plot_df[0:2]"
   ]
  },
  {
   "cell_type": "code",
   "execution_count": 133,
   "metadata": {},
   "outputs": [
    {
     "data": {
      "image/png": "[encoded data removed]",
      "text/plain": [
       "<Figure size 288x252 with 1 Axes>"
      ]
     },
     "metadata": {
      "needs_background": "light"
     },
     "output_type": "display_data"
    }
   ],
   "source": [
    "plt.figure(figsize=(4,3.5))\n",
    "\n",
    "plt.scatter(y=plot_df['CDS_coverage'].tolist(), \n",
    "            x=plot_df['rank'].tolist(), alpha=0.5)\n",
    "\n",
    "plt.xticks(range(0, 9000, 2000), [0, 2000, 4000, 6000, 'no rank'], fontsize=16, rotation=45)\n",
    "plt.yticks(fontsize=16)\n",
    "\n",
    "plt.xlabel('Rank', fontsize=18)\n",
    "plt.ylabel('CDS_coverage', fontsize=18)\n",
    "\n",
    "plt.show()"
   ]
  },
  {
   "cell_type": "raw",
   "metadata": {},
   "source": [
    "With decrease of CDS_coverage, the rank is going higher which means that the less data we have, the lesser chance to detect extension. \n",
    "\n",
    "We can also see that there are many genes with assigned rank with various CDS_coverage, we showed a couple of examples of such genes in SX. \n",
    "\n"
   ]
  },
  {
   "cell_type": "code",
   "execution_count": null,
   "metadata": {},
   "outputs": [],
   "source": []
  },
  {
   "cell_type": "code",
   "execution_count": null,
   "metadata": {},
   "outputs": [],
   "source": []
  },
  {
   "cell_type": "code",
   "execution_count": null,
   "metadata": {},
   "outputs": [],
   "source": []
  }
 ],
 "metadata": {
  "kernelspec": {
   "display_name": "Python 3",
   "language": "python",
   "name": "python3"
  },
  "language_info": {
   "codemirror_mode": {
    "name": "ipython",
    "version": 3
   },
   "file_extension": ".py",
   "mimetype": "text/x-python",
   "name": "python",
   "nbconvert_exporter": "python",
   "pygments_lexer": "ipython3",
   "version": "3.7.6"
  }
 },
 "nbformat": 4,
 "nbformat_minor": 2
}
