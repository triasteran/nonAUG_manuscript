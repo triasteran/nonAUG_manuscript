{
 "cells": [
  {
   "cell_type": "code",
   "execution_count": 1,
   "metadata": {},
   "outputs": [
    {
     "name": "stderr",
     "output_type": "stream",
     "text": [
      "\n",
      "Bad key text.latex.unicode in file /home/alla/anaconda3/lib/python3.7/site-packages/matplotlib/mpl-data/stylelib/_classic_test.mplstyle, line 112 ('text.latex.unicode : False # use \"ucs\" and \"inputenc\" LaTeX packages for handling')\n",
      "You probably need to get an updated matplotlibrc file from\n",
      "https://github.com/matplotlib/matplotlib/blob/v3.3.2/matplotlibrc.template\n",
      "or from the matplotlib source distribution\n",
      "\n",
      "Bad key savefig.frameon in file /home/alla/anaconda3/lib/python3.7/site-packages/matplotlib/mpl-data/stylelib/_classic_test.mplstyle, line 423 ('savefig.frameon : True')\n",
      "You probably need to get an updated matplotlibrc file from\n",
      "https://github.com/matplotlib/matplotlib/blob/v3.3.2/matplotlibrc.template\n",
      "or from the matplotlib source distribution\n",
      "\n",
      "Bad key pgf.debug in file /home/alla/anaconda3/lib/python3.7/site-packages/matplotlib/mpl-data/stylelib/_classic_test.mplstyle, line 444 ('pgf.debug           : False')\n",
      "You probably need to get an updated matplotlibrc file from\n",
      "https://github.com/matplotlib/matplotlib/blob/v3.3.2/matplotlibrc.template\n",
      "or from the matplotlib source distribution\n",
      "\n",
      "Bad key verbose.level in file /home/alla/anaconda3/lib/python3.7/site-packages/matplotlib/mpl-data/stylelib/_classic_test.mplstyle, line 475 ('verbose.level  : silent      # one of silent, helpful, debug, debug-annoying')\n",
      "You probably need to get an updated matplotlibrc file from\n",
      "https://github.com/matplotlib/matplotlib/blob/v3.3.2/matplotlibrc.template\n",
      "or from the matplotlib source distribution\n",
      "\n",
      "Bad key verbose.fileo in file /home/alla/anaconda3/lib/python3.7/site-packages/matplotlib/mpl-data/stylelib/_classic_test.mplstyle, line 476 ('verbose.fileo  : sys.stdout  # a log filename, sys.stdout or sys.stderr')\n",
      "You probably need to get an updated matplotlibrc file from\n",
      "https://github.com/matplotlib/matplotlib/blob/v3.3.2/matplotlibrc.template\n",
      "or from the matplotlib source distribution\n",
      "In /home/alla/anaconda3/lib/python3.7/site-packages/matplotlib/mpl-data/stylelib/_classic_test.mplstyle: \n",
      "The text.latex.preview rcparam was deprecated in Matplotlib 3.3 and will be removed two minor releases later.\n",
      "In /home/alla/anaconda3/lib/python3.7/site-packages/matplotlib/mpl-data/stylelib/_classic_test.mplstyle: \n",
      "The mathtext.fallback_to_cm rcparam was deprecated in Matplotlib 3.3 and will be removed two minor releases later.\n",
      "In /home/alla/anaconda3/lib/python3.7/site-packages/matplotlib/mpl-data/stylelib/_classic_test.mplstyle: Support for setting the 'mathtext.fallback_to_cm' rcParam is deprecated since 3.3 and will be removed two minor releases later; use 'mathtext.fallback : 'cm' instead.\n",
      "In /home/alla/anaconda3/lib/python3.7/site-packages/matplotlib/mpl-data/stylelib/_classic_test.mplstyle: \n",
      "The validate_bool_maybe_none function was deprecated in Matplotlib 3.3 and will be removed two minor releases later.\n",
      "In /home/alla/anaconda3/lib/python3.7/site-packages/matplotlib/mpl-data/stylelib/_classic_test.mplstyle: \n",
      "The savefig.jpeg_quality rcparam was deprecated in Matplotlib 3.3 and will be removed two minor releases later.\n",
      "In /home/alla/anaconda3/lib/python3.7/site-packages/matplotlib/mpl-data/stylelib/_classic_test.mplstyle: \n",
      "The keymap.all_axes rcparam was deprecated in Matplotlib 3.3 and will be removed two minor releases later.\n",
      "In /home/alla/anaconda3/lib/python3.7/site-packages/matplotlib/mpl-data/stylelib/_classic_test.mplstyle: \n",
      "The animation.avconv_path rcparam was deprecated in Matplotlib 3.3 and will be removed two minor releases later.\n",
      "In /home/alla/anaconda3/lib/python3.7/site-packages/matplotlib/mpl-data/stylelib/_classic_test.mplstyle: \n",
      "The animation.avconv_args rcparam was deprecated in Matplotlib 3.3 and will be removed two minor releases later.\n"
     ]
    }
   ],
   "source": [
    "%matplotlib inline\n",
    "\n",
    "import numpy as np\n",
    "import collections\n",
    "from collections import OrderedDict, Counter, defaultdict\n",
    "import pandas as pd\n",
    "\n",
    "import Bio\n",
    "from Bio import SeqIO\n",
    "\n",
    "import seaborn as sns\n",
    "import matplotlib.pyplot as plt\n",
    "from bokeh.plotting import figure, output_file, show \n",
    "import matplotlib.patches as patches    \n",
    "from matplotlib import colors\n",
    "\n",
    "\n",
    "import glob\n",
    "\n",
    "import subprocess\n",
    "from subprocess import call\n",
    "\n",
    "import re\n",
    "\n",
    "import pickle\n",
    "\n",
    "from Bio.SubsMat import MatrixInfo\n",
    "import Bio.Data.CodonTable\n",
    "\n",
    "from scipy import stats\n",
    "\n",
    "\n",
    "from Bio.SubsMat import MatrixInfo\n",
    "import Bio.Data.CodonTable"
   ]
  },
  {
   "cell_type": "code",
   "execution_count": 3,
   "metadata": {},
   "outputs": [
    {
     "data": {
      "text/html": [
       "<div>\n",
       "<style scoped>\n",
       "    .dataframe tbody tr th:only-of-type {\n",
       "        vertical-align: middle;\n",
       "    }\n",
       "\n",
       "    .dataframe tbody tr th {\n",
       "        vertical-align: top;\n",
       "    }\n",
       "\n",
       "    .dataframe thead th {\n",
       "        text-align: right;\n",
       "    }\n",
       "</style>\n",
       "<table border=\"1\" class=\"dataframe\">\n",
       "  <thead>\n",
       "    <tr style=\"text-align: right;\">\n",
       "      <th></th>\n",
       "      <th>tr_id</th>\n",
       "      <th>gene</th>\n",
       "      <th>N_term_start1</th>\n",
       "      <th>N_term_end1</th>\n",
       "      <th>len_codons</th>\n",
       "      <th>global_coo_50_and_less</th>\n",
       "      <th>strand</th>\n",
       "      <th>global_coo_primary</th>\n",
       "      <th>PhyloCSF120score</th>\n",
       "      <th>number_of_records</th>\n",
       "      <th>ovlp</th>\n",
       "      <th>Riboseq_Summary</th>\n",
       "      <th>Coverage_value_ext</th>\n",
       "      <th>Proteomics_count_ext</th>\n",
       "      <th>tag</th>\n",
       "      <th>transcript_type</th>\n",
       "      <th>CDS_ratio</th>\n",
       "      <th>pos_of_codon</th>\n",
       "      <th>codon</th>\n",
       "    </tr>\n",
       "  </thead>\n",
       "  <tbody>\n",
       "    <tr>\n",
       "      <th>0</th>\n",
       "      <td>ENST00000379389.4</td>\n",
       "      <td>ISG15</td>\n",
       "      <td>1</td>\n",
       "      <td>151</td>\n",
       "      <td>50.0</td>\n",
       "      <td>chr1:1013424-1013573</td>\n",
       "      <td>+</td>\n",
       "      <td>chr1:1013424-1013573</td>\n",
       "      <td>-2443.9971</td>\n",
       "      <td>111</td>\n",
       "      <td>0;0;0</td>\n",
       "      <td>ATC; 98-152; Rank: 288; cov: 53.85</td>\n",
       "      <td>53.846154</td>\n",
       "      <td>0.0</td>\n",
       "      <td>basic,appris_principal_1,CCDS</td>\n",
       "      <td>protein_coding</td>\n",
       "      <td>0.327240</td>\n",
       "      <td>97</td>\n",
       "      <td>ATC</td>\n",
       "    </tr>\n",
       "    <tr>\n",
       "      <th>1</th>\n",
       "      <td>ENST00000349431.10</td>\n",
       "      <td>UBE2J2</td>\n",
       "      <td>28</td>\n",
       "      <td>220</td>\n",
       "      <td>64.0</td>\n",
       "      <td>chr1:1273666-1273815</td>\n",
       "      <td>-</td>\n",
       "      <td>chr1:1273666-1273857</td>\n",
       "      <td>-1285.8186</td>\n",
       "      <td>78</td>\n",
       "      <td>0;0;0</td>\n",
       "      <td>ACG; 173-221; Rank: 328; cov: 90.91</td>\n",
       "      <td>90.909091</td>\n",
       "      <td>0.0</td>\n",
       "      <td>basic,appris_principal_1,CCDS</td>\n",
       "      <td>protein_coding</td>\n",
       "      <td>0.762814</td>\n",
       "      <td>172</td>\n",
       "      <td>ACG</td>\n",
       "    </tr>\n",
       "  </tbody>\n",
       "</table>\n",
       "</div>"
      ],
      "text/plain": [
       "                tr_id    gene  N_term_start1  N_term_end1  len_codons  \\\n",
       "0   ENST00000379389.4   ISG15              1          151        50.0   \n",
       "1  ENST00000349431.10  UBE2J2             28          220        64.0   \n",
       "\n",
       "  global_coo_50_and_less strand    global_coo_primary  PhyloCSF120score  \\\n",
       "0   chr1:1013424-1013573      +  chr1:1013424-1013573        -2443.9971   \n",
       "1   chr1:1273666-1273815      -  chr1:1273666-1273857        -1285.8186   \n",
       "\n",
       "   number_of_records   ovlp                      Riboseq_Summary  \\\n",
       "0                111  0;0;0   ATC; 98-152; Rank: 288; cov: 53.85   \n",
       "1                 78  0;0;0  ACG; 173-221; Rank: 328; cov: 90.91   \n",
       "\n",
       "   Coverage_value_ext  Proteomics_count_ext                            tag  \\\n",
       "0           53.846154                   0.0  basic,appris_principal_1,CCDS   \n",
       "1           90.909091                   0.0  basic,appris_principal_1,CCDS   \n",
       "\n",
       "  transcript_type  CDS_ratio  pos_of_codon codon  \n",
       "0  protein_coding   0.327240            97   ATC  \n",
       "1  protein_coding   0.762814           172   ACG  "
      ]
     },
     "execution_count": 3,
     "metadata": {},
     "output_type": "execute_result"
    }
   ],
   "source": [
    "# open metadata with scores and metrics\n",
    "meta = pd.read_csv('tmp_res/METADATA_CURRENT.txt', sep='\\t')\n",
    "\n",
    "# gencode 25\n",
    "metadata_pc_g25 = pd.read_csv('tmp_res/metadata_pc_g25.txt', sep='\\t')\n",
    "\n",
    "\n",
    "P_Set = pd.read_csv('tmp_res/SET1.txt', sep='\\t')\n",
    "\n",
    "R_Set = pd.read_csv('tmp_res/SET2.txt', sep='\\t')\n",
    "\n",
    "\n",
    "\n",
    "R_Set['pos_of_codon'] = [int(x.split('; ')[1].split('-')[0])-1 for x in R_Set.Riboseq_Summary.tolist()]\n",
    "\n",
    "R_Set['codon'] = [x.split('; ')[0] for x in R_Set.Riboseq_Summary.tolist()]\n",
    "\n",
    "R_Set = R_Set[(~R_Set['tr_id'].str.contains('PAR')) & (R_Set['codon'] != 'ATG')]\n",
    "\n",
    "R_Set[0:2]"
   ]
  },
  {
   "cell_type": "code",
   "execution_count": 4,
   "metadata": {},
   "outputs": [
    {
     "data": {
      "text/html": [
       "<div>\n",
       "<style scoped>\n",
       "    .dataframe tbody tr th:only-of-type {\n",
       "        vertical-align: middle;\n",
       "    }\n",
       "\n",
       "    .dataframe tbody tr th {\n",
       "        vertical-align: top;\n",
       "    }\n",
       "\n",
       "    .dataframe thead th {\n",
       "        text-align: right;\n",
       "    }\n",
       "</style>\n",
       "<table border=\"1\" class=\"dataframe\">\n",
       "  <thead>\n",
       "    <tr style=\"text-align: right;\">\n",
       "      <th></th>\n",
       "      <th>tr_id</th>\n",
       "      <th>gene</th>\n",
       "      <th>N_term_start1</th>\n",
       "      <th>N_term_end1</th>\n",
       "      <th>len_codons</th>\n",
       "      <th>global_coo_50_and_less</th>\n",
       "      <th>strand</th>\n",
       "      <th>global_coo_primary</th>\n",
       "      <th>PhyloCSF120score</th>\n",
       "      <th>number_of_records</th>\n",
       "      <th>ovlp</th>\n",
       "      <th>Riboseq_Summary</th>\n",
       "      <th>Coverage_value_ext</th>\n",
       "      <th>Proteomics_count_ext</th>\n",
       "      <th>tag</th>\n",
       "      <th>transcript_type</th>\n",
       "      <th>CDS_ratio</th>\n",
       "      <th>pos_of_codon</th>\n",
       "      <th>codon</th>\n",
       "    </tr>\n",
       "  </thead>\n",
       "  <tbody>\n",
       "    <tr>\n",
       "      <th>163</th>\n",
       "      <td>ENST00000554914.1</td>\n",
       "      <td>CTD-2135J3.4</td>\n",
       "      <td>1</td>\n",
       "      <td>91</td>\n",
       "      <td>30.0</td>\n",
       "      <td>chr8:10839757-10839846</td>\n",
       "      <td>-</td>\n",
       "      <td>chr8:10839757-10839846</td>\n",
       "      <td>-1919.5706</td>\n",
       "      <td>110</td>\n",
       "      <td>0;0;0</td>\n",
       "      <td>ATT; 14-92; Rank: 231; cov: 80.95</td>\n",
       "      <td>80.952381</td>\n",
       "      <td>0.0</td>\n",
       "      <td>basic,appris_principal_1,readthrough_transcript</td>\n",
       "      <td>protein_coding</td>\n",
       "      <td>1.7002</td>\n",
       "      <td>13</td>\n",
       "      <td>ATT</td>\n",
       "    </tr>\n",
       "  </tbody>\n",
       "</table>\n",
       "</div>"
      ],
      "text/plain": [
       "                 tr_id          gene  N_term_start1  N_term_end1  len_codons  \\\n",
       "163  ENST00000554914.1  CTD-2135J3.4              1           91        30.0   \n",
       "\n",
       "     global_coo_50_and_less strand      global_coo_primary  PhyloCSF120score  \\\n",
       "163  chr8:10839757-10839846      -  chr8:10839757-10839846        -1919.5706   \n",
       "\n",
       "     number_of_records   ovlp                    Riboseq_Summary  \\\n",
       "163                110  0;0;0  ATT; 14-92; Rank: 231; cov: 80.95   \n",
       "\n",
       "     Coverage_value_ext  Proteomics_count_ext  \\\n",
       "163           80.952381                   0.0   \n",
       "\n",
       "                                                 tag transcript_type  \\\n",
       "163  basic,appris_principal_1,readthrough_transcript  protein_coding   \n",
       "\n",
       "     CDS_ratio  pos_of_codon codon  \n",
       "163     1.7002            13   ATT  "
      ]
     },
     "execution_count": 4,
     "metadata": {},
     "output_type": "execute_result"
    }
   ],
   "source": [
    "R_Set[R_Set['gene'] == 'CTD-2135J3.4']"
   ]
  },
  {
   "cell_type": "code",
   "execution_count": null,
   "metadata": {},
   "outputs": [],
   "source": []
  },
  {
   "cell_type": "markdown",
   "metadata": {},
   "source": [
    "# GSEA "
   ]
  },
  {
   "cell_type": "code",
   "execution_count": 4,
   "metadata": {},
   "outputs": [],
   "source": [
    "%matplotlib inline\n",
    "%config InlineBackend.figure_format='retina' # mac\n",
    "%load_ext autoreload\n",
    "%autoreload 2\n",
    "import pandas as pd\n",
    "import gseapy as gp\n",
    "import matplotlib.pyplot as plt"
   ]
  },
  {
   "cell_type": "code",
   "execution_count": 5,
   "metadata": {},
   "outputs": [
    {
     "name": "stdout",
     "output_type": "stream",
     "text": [
      "0.10.4\n"
     ]
    }
   ],
   "source": [
    "print (gp.__version__)"
   ]
  },
  {
   "cell_type": "code",
   "execution_count": 6,
   "metadata": {},
   "outputs": [
    {
     "data": {
      "text/plain": [
       "['ARCHS4_Cell-lines',\n",
       " 'ARCHS4_IDG_Coexp',\n",
       " 'ARCHS4_Kinases_Coexp',\n",
       " 'ARCHS4_TFs_Coexp',\n",
       " 'ARCHS4_Tissues',\n",
       " 'Achilles_fitness_decrease',\n",
       " 'Achilles_fitness_increase',\n",
       " 'Aging_Perturbations_from_GEO_down',\n",
       " 'Aging_Perturbations_from_GEO_up',\n",
       " 'Allen_Brain_Atlas_10x_scRNA_2021']"
      ]
     },
     "execution_count": 6,
     "metadata": {},
     "output_type": "execute_result"
    }
   ],
   "source": [
    "names = gp.get_library_name(database='Human') # default: Human\n",
    "names[:10]"
   ]
  },
  {
   "cell_type": "code",
   "execution_count": 7,
   "metadata": {},
   "outputs": [
    {
     "data": {
      "text/plain": [
       "190"
      ]
     },
     "execution_count": 7,
     "metadata": {},
     "output_type": "execute_result"
    }
   ],
   "source": [
    "len(names)"
   ]
  },
  {
   "cell_type": "code",
   "execution_count": 8,
   "metadata": {},
   "outputs": [
    {
     "data": {
      "text/plain": [
       "[None,\n",
       " None,\n",
       " None,\n",
       " None,\n",
       " None,\n",
       " None,\n",
       " None,\n",
       " None,\n",
       " None,\n",
       " None,\n",
       " None,\n",
       " None,\n",
       " None,\n",
       " None,\n",
       " None,\n",
       " None,\n",
       " None,\n",
       " None,\n",
       " None,\n",
       " None,\n",
       " None,\n",
       " None,\n",
       " None,\n",
       " None,\n",
       " None,\n",
       " None,\n",
       " None,\n",
       " None,\n",
       " None,\n",
       " None,\n",
       " None,\n",
       " None,\n",
       " None,\n",
       " None,\n",
       " None,\n",
       " None,\n",
       " None,\n",
       " None,\n",
       " None,\n",
       " None,\n",
       " None,\n",
       " None,\n",
       " None,\n",
       " None,\n",
       " None,\n",
       " None,\n",
       " None,\n",
       " None,\n",
       " None,\n",
       " None,\n",
       " None,\n",
       " None,\n",
       " None,\n",
       " None,\n",
       " None,\n",
       " None,\n",
       " None,\n",
       " None,\n",
       " None,\n",
       " None,\n",
       " None,\n",
       " None,\n",
       " None,\n",
       " None,\n",
       " None,\n",
       " None,\n",
       " None,\n",
       " None,\n",
       " None,\n",
       " None,\n",
       " None,\n",
       " None,\n",
       " None,\n",
       " None,\n",
       " None,\n",
       " None,\n",
       " None,\n",
       " None,\n",
       " None,\n",
       " None,\n",
       " None,\n",
       " None,\n",
       " None,\n",
       " None,\n",
       " None,\n",
       " None,\n",
       " None,\n",
       " None,\n",
       " None,\n",
       " None,\n",
       " None,\n",
       " None,\n",
       " None,\n",
       " None,\n",
       " None,\n",
       " None,\n",
       " 'KEGG_2013',\n",
       " 'KEGG_2015',\n",
       " 'KEGG_2016',\n",
       " 'KEGG_2019_Human',\n",
       " 'KEGG_2019_Mouse',\n",
       " 'KEGG_2021_Human',\n",
       " None,\n",
       " None,\n",
       " None,\n",
       " None,\n",
       " None,\n",
       " None,\n",
       " None,\n",
       " None,\n",
       " None,\n",
       " None,\n",
       " None,\n",
       " None,\n",
       " None,\n",
       " None,\n",
       " None,\n",
       " None,\n",
       " None,\n",
       " None,\n",
       " None,\n",
       " None,\n",
       " None,\n",
       " None,\n",
       " None,\n",
       " None,\n",
       " None,\n",
       " None,\n",
       " None,\n",
       " None,\n",
       " None,\n",
       " None,\n",
       " None,\n",
       " None,\n",
       " None,\n",
       " None,\n",
       " None,\n",
       " None,\n",
       " None,\n",
       " None,\n",
       " None,\n",
       " None,\n",
       " None,\n",
       " None,\n",
       " None,\n",
       " None,\n",
       " None,\n",
       " None,\n",
       " None,\n",
       " None,\n",
       " None,\n",
       " None,\n",
       " None,\n",
       " None,\n",
       " None,\n",
       " None,\n",
       " None,\n",
       " None,\n",
       " None,\n",
       " None,\n",
       " None,\n",
       " None,\n",
       " None,\n",
       " None,\n",
       " None,\n",
       " None,\n",
       " None,\n",
       " None,\n",
       " None,\n",
       " None,\n",
       " None,\n",
       " None,\n",
       " None,\n",
       " None,\n",
       " None,\n",
       " None,\n",
       " None,\n",
       " None,\n",
       " None,\n",
       " None,\n",
       " None,\n",
       " None,\n",
       " None,\n",
       " None,\n",
       " None,\n",
       " None,\n",
       " None,\n",
       " None,\n",
       " None,\n",
       " None]"
      ]
     },
     "execution_count": 8,
     "metadata": {},
     "output_type": "execute_result"
    }
   ],
   "source": [
    "[x if x.find('KEGG') != -1 else None for x in names]"
   ]
  },
  {
   "cell_type": "code",
   "execution_count": null,
   "metadata": {},
   "outputs": [],
   "source": []
  },
  {
   "cell_type": "markdown",
   "metadata": {},
   "source": [
    "# EnrichR"
   ]
  },
  {
   "cell_type": "markdown",
   "metadata": {},
   "source": [
    "### RiboSET "
   ]
  },
  {
   "cell_type": "code",
   "execution_count": 9,
   "metadata": {},
   "outputs": [],
   "source": [
    "gene_list_rset = list(R_Set.gene.unique())"
   ]
  },
  {
   "cell_type": "code",
   "execution_count": 10,
   "metadata": {},
   "outputs": [
    {
     "name": "stdout",
     "output_type": "stream",
     "text": [
      "0 ARCHS4_Cell-lines # of sets with adj pv < 0.05 0\n",
      "1 ARCHS4_IDG_Coexp # of sets with adj pv < 0.05 21\n",
      "2 ARCHS4_Kinases_Coexp # of sets with adj pv < 0.05 93\n",
      "3 ARCHS4_TFs_Coexp # of sets with adj pv < 0.05 263\n",
      "4 ARCHS4_Tissues # of sets with adj pv < 0.05 2\n",
      "5 Achilles_fitness_decrease # of sets with adj pv < 0.05 1\n"
     ]
    },
    {
     "name": "stderr",
     "output_type": "stream",
     "text": [
      "2021-11-12 15:47:45,811 Warning: No enrich terms using library Achilles_fitness_increase when cutoff = 0.1\n"
     ]
    },
    {
     "name": "stdout",
     "output_type": "stream",
     "text": [
      "6 Achilles_fitness_increase # of sets with adj pv < 0.05 0\n",
      "7 Aging_Perturbations_from_GEO_down # of sets with adj pv < 0.05 102\n",
      "8 Aging_Perturbations_from_GEO_up # of sets with adj pv < 0.05 130\n",
      "9 Allen_Brain_Atlas_10x_scRNA_2021 # of sets with adj pv < 0.05 50\n",
      "10 Allen_Brain_Atlas_down # of sets with adj pv < 0.05 0\n",
      "11 Allen_Brain_Atlas_up # of sets with adj pv < 0.05 0\n"
     ]
    },
    {
     "name": "stderr",
     "output_type": "stream",
     "text": [
      "2021-11-12 15:48:08,951 Warning: No enrich terms using library Azimuth_Cell_Types_2021 when cutoff = 0.1\n"
     ]
    },
    {
     "name": "stdout",
     "output_type": "stream",
     "text": [
      "12 Azimuth_Cell_Types_2021 # of sets with adj pv < 0.05 0\n",
      "13 BioCarta_2013 # of sets with adj pv < 0.05 3\n",
      "14 BioCarta_2015 # of sets with adj pv < 0.05 1\n",
      "15 BioCarta_2016 # of sets with adj pv < 0.05 1\n",
      "16 BioPlanet_2019 # of sets with adj pv < 0.05 32\n"
     ]
    },
    {
     "name": "stderr",
     "output_type": "stream",
     "text": [
      "2021-11-12 15:48:27,932 Warning: No enrich terms using library BioPlex_2017 when cutoff = 0.1\n"
     ]
    },
    {
     "name": "stdout",
     "output_type": "stream",
     "text": [
      "17 BioPlex_2017 # of sets with adj pv < 0.05 0\n",
      "18 CCLE_Proteomics_2020 # of sets with adj pv < 0.05 120\n",
      "19 CORUM # of sets with adj pv < 0.05 15\n",
      "20 COVID-19_Related_Gene_Sets # of sets with adj pv < 0.05 63\n",
      "21 COVID-19_Related_Gene_Sets_2021 # of sets with adj pv < 0.05 158\n"
     ]
    },
    {
     "name": "stderr",
     "output_type": "stream",
     "text": [
      "2021-11-12 15:48:47,210 Warning: No enrich terms using library Cancer_Cell_Line_Encyclopedia when cutoff = 0.1\n"
     ]
    },
    {
     "name": "stdout",
     "output_type": "stream",
     "text": [
      "22 Cancer_Cell_Line_Encyclopedia # of sets with adj pv < 0.05 0\n",
      "23 CellMarker_Augmented_2021 # of sets with adj pv < 0.05 26\n",
      "24 ChEA_2013 # of sets with adj pv < 0.05 66\n",
      "25 ChEA_2015 # of sets with adj pv < 0.05 71\n",
      "26 ChEA_2016 # of sets with adj pv < 0.05 103\n"
     ]
    },
    {
     "name": "stderr",
     "output_type": "stream",
     "text": [
      "2021-11-12 15:49:07,057 Warning: No enrich terms using library Chromosome_Location when cutoff = 0.1\n"
     ]
    },
    {
     "name": "stdout",
     "output_type": "stream",
     "text": [
      "27 Chromosome_Location # of sets with adj pv < 0.05 0\n"
     ]
    },
    {
     "name": "stderr",
     "output_type": "stream",
     "text": [
      "2021-11-12 15:49:10,504 Warning: No enrich terms using library Chromosome_Location_hg19 when cutoff = 0.1\n"
     ]
    },
    {
     "name": "stdout",
     "output_type": "stream",
     "text": [
      "28 Chromosome_Location_hg19 # of sets with adj pv < 0.05 0\n"
     ]
    },
    {
     "name": "stderr",
     "output_type": "stream",
     "text": [
      "2021-11-12 15:49:13,939 Warning: No enrich terms using library ClinVar_2019 when cutoff = 0.1\n"
     ]
    },
    {
     "name": "stdout",
     "output_type": "stream",
     "text": [
      "29 ClinVar_2019 # of sets with adj pv < 0.05 0\n",
      "30 DSigDB # of sets with adj pv < 0.05 444\n",
      "31 Data_Acquisition_Method_Most_Popular_Genes # of sets with adj pv < 0.05 3\n",
      "32 DepMap_WG_CRISPR_Screens_Broad_CellLines_2019 # of sets with adj pv < 0.05 341\n",
      "33 DepMap_WG_CRISPR_Screens_Sanger_CellLines_2019 # of sets with adj pv < 0.05 245\n",
      "34 Descartes_Cell_Types_and_Tissue_2021 # of sets with adj pv < 0.05 0\n",
      "35 DisGeNET # of sets with adj pv < 0.05 104\n",
      "36 Disease_Perturbations_from_GEO_down # of sets with adj pv < 0.05 328\n",
      "37 Disease_Perturbations_from_GEO_up # of sets with adj pv < 0.05 406\n",
      "38 Disease_Signatures_from_GEO_down_2014 # of sets with adj pv < 0.05 22\n",
      "39 Disease_Signatures_from_GEO_up_2014 # of sets with adj pv < 0.05 55\n",
      "40 DrugMatrix # of sets with adj pv < 0.05 2940\n",
      "41 Drug_Perturbations_from_GEO_2014 # of sets with adj pv < 0.05 264\n",
      "42 Drug_Perturbations_from_GEO_down # of sets with adj pv < 0.05 448\n",
      "43 Drug_Perturbations_from_GEO_up # of sets with adj pv < 0.05 485\n"
     ]
    },
    {
     "name": "stderr",
     "output_type": "stream",
     "text": [
      "2021-11-12 15:50:20,499 Warning: No enrich terms using library ENCODE_Histone_Modifications_2013 when cutoff = 0.1\n"
     ]
    },
    {
     "name": "stdout",
     "output_type": "stream",
     "text": [
      "44 ENCODE_Histone_Modifications_2013 # of sets with adj pv < 0.05 0\n",
      "45 ENCODE_Histone_Modifications_2015 # of sets with adj pv < 0.05 29\n",
      "46 ENCODE_TF_ChIP-seq_2014 # of sets with adj pv < 0.05 366\n",
      "47 ENCODE_TF_ChIP-seq_2015 # of sets with adj pv < 0.05 524\n",
      "48 ENCODE_and_ChEA_Consensus_TFs_from_ChIP-X # of sets with adj pv < 0.05 67\n",
      "49 ESCAPE # of sets with adj pv < 0.05 14\n",
      "50 Elsevier_Pathway_Collection # of sets with adj pv < 0.05 28\n",
      "51 Enrichr_Libraries_Most_Popular_Genes # of sets with adj pv < 0.05 27\n",
      "52 Enrichr_Submissions_TF-Gene_Coocurrence # of sets with adj pv < 0.05 1290\n",
      "53 Enrichr_Users_Contributed_Lists_2020 # of sets with adj pv < 0.05 255\n",
      "54 Epigenomics_Roadmap_HM_ChIP-seq # of sets with adj pv < 0.05 124\n",
      "55 GO_Biological_Process_2013 # of sets with adj pv < 0.05 32\n",
      "56 GO_Biological_Process_2015 # of sets with adj pv < 0.05 136\n",
      "57 GO_Biological_Process_2017 # of sets with adj pv < 0.05 18\n",
      "58 GO_Biological_Process_2017b # of sets with adj pv < 0.05 149\n",
      "59 GO_Biological_Process_2018 # of sets with adj pv < 0.05 44\n",
      "60 GO_Biological_Process_2021 # of sets with adj pv < 0.05 48\n",
      "61 GO_Cellular_Component_2013 # of sets with adj pv < 0.05 12\n",
      "62 GO_Cellular_Component_2015 # of sets with adj pv < 0.05 15\n",
      "63 GO_Cellular_Component_2017 # of sets with adj pv < 0.05 8\n",
      "64 GO_Cellular_Component_2017b # of sets with adj pv < 0.05 10\n",
      "65 GO_Cellular_Component_2018 # of sets with adj pv < 0.05 4\n",
      "66 GO_Cellular_Component_2021 # of sets with adj pv < 0.05 5\n",
      "67 GO_Molecular_Function_2013 # of sets with adj pv < 0.05 11\n"
     ]
    },
    {
     "name": "stderr",
     "output_type": "stream",
     "text": [
      "2021-11-12 15:51:58,461 Warning: No enrich terms using library GO_Molecular_Function_2015 when cutoff = 0.1\n"
     ]
    },
    {
     "name": "stdout",
     "output_type": "stream",
     "text": [
      "68 GO_Molecular_Function_2015 # of sets with adj pv < 0.05 0\n",
      "69 GO_Molecular_Function_2017 # of sets with adj pv < 0.05 7\n",
      "70 GO_Molecular_Function_2017b # of sets with adj pv < 0.05 38\n",
      "71 GO_Molecular_Function_2018 # of sets with adj pv < 0.05 9\n",
      "72 GO_Molecular_Function_2021 # of sets with adj pv < 0.05 11\n"
     ]
    },
    {
     "name": "stderr",
     "output_type": "stream",
     "text": [
      "2021-11-12 15:52:18,112 Warning: No enrich terms using library GTEx_Aging_Signatures_2021 when cutoff = 0.1\n"
     ]
    },
    {
     "name": "stdout",
     "output_type": "stream",
     "text": [
      "73 GTEx_Aging_Signatures_2021 # of sets with adj pv < 0.05 0\n",
      "74 GTEx_Tissue_Sample_Gene_Expression_Profiles_down # of sets with adj pv < 0.05 447\n",
      "75 GTEx_Tissue_Sample_Gene_Expression_Profiles_up # of sets with adj pv < 0.05 361\n"
     ]
    },
    {
     "name": "stderr",
     "output_type": "stream",
     "text": [
      "2021-11-12 15:52:31,830 Warning: No enrich terms using library GWAS_Catalog_2019 when cutoff = 0.1\n"
     ]
    },
    {
     "name": "stdout",
     "output_type": "stream",
     "text": [
      "76 GWAS_Catalog_2019 # of sets with adj pv < 0.05 0\n",
      "77 GeneSigDB # of sets with adj pv < 0.05 175\n",
      "78 Gene_Perturbations_from_GEO_down # of sets with adj pv < 0.05 1012\n",
      "79 Gene_Perturbations_from_GEO_up # of sets with adj pv < 0.05 1104\n",
      "80 Genes_Associated_with_NIH_Grants # of sets with adj pv < 0.05 47\n"
     ]
    },
    {
     "name": "stderr",
     "output_type": "stream",
     "text": [
      "2021-11-12 15:52:53,415 Warning: No enrich terms using library Genome_Browser_PWMs when cutoff = 0.1\n"
     ]
    },
    {
     "name": "stdout",
     "output_type": "stream",
     "text": [
      "81 Genome_Browser_PWMs # of sets with adj pv < 0.05 0\n"
     ]
    },
    {
     "name": "stderr",
     "output_type": "stream",
     "text": [
      "2021-11-12 15:52:57,483 Warning: No enrich terms using library HMDB_Metabolites when cutoff = 0.1\n"
     ]
    },
    {
     "name": "stdout",
     "output_type": "stream",
     "text": [
      "82 HMDB_Metabolites # of sets with adj pv < 0.05 0\n"
     ]
    },
    {
     "name": "stderr",
     "output_type": "stream",
     "text": [
      "2021-11-12 15:53:00,947 Warning: No enrich terms using library HMS_LINCS_KinomeScan when cutoff = 0.1\n"
     ]
    },
    {
     "name": "stdout",
     "output_type": "stream",
     "text": [
      "83 HMS_LINCS_KinomeScan # of sets with adj pv < 0.05 0\n",
      "84 HomoloGene # of sets with adj pv < 0.05 2\n"
     ]
    },
    {
     "name": "stderr",
     "output_type": "stream",
     "text": [
      "2021-11-12 15:53:08,245 Warning: No enrich terms using library HuBMAP_ASCT_plus_B_augmented_w_RNAseq_Coexpression when cutoff = 0.1\n"
     ]
    },
    {
     "name": "stdout",
     "output_type": "stream",
     "text": [
      "85 HuBMAP_ASCT_plus_B_augmented_w_RNAseq_Coexpression # of sets with adj pv < 0.05 0\n",
      "86 HumanCyc_2015 # of sets with adj pv < 0.05 2\n",
      "87 HumanCyc_2016 # of sets with adj pv < 0.05 3\n",
      "88 Human_Gene_Atlas # of sets with adj pv < 0.05 4\n"
     ]
    },
    {
     "name": "stderr",
     "output_type": "stream",
     "text": [
      "2021-11-12 15:53:23,079 Warning: No enrich terms using library Human_Phenotype_Ontology when cutoff = 0.1\n"
     ]
    },
    {
     "name": "stdout",
     "output_type": "stream",
     "text": [
      "89 Human_Phenotype_Ontology # of sets with adj pv < 0.05 0\n",
      "90 InterPro_Domains_2019 # of sets with adj pv < 0.05 2\n",
      "91 Jensen_COMPARTMENTS # of sets with adj pv < 0.05 108\n"
     ]
    },
    {
     "name": "stderr",
     "output_type": "stream",
     "text": [
      "2021-11-12 15:53:34,771 Warning: No enrich terms using library Jensen_DISEASES when cutoff = 0.1\n"
     ]
    },
    {
     "name": "stdout",
     "output_type": "stream",
     "text": [
      "92 Jensen_DISEASES # of sets with adj pv < 0.05 0\n",
      "93 Jensen_TISSUES # of sets with adj pv < 0.05 135\n",
      "94 KEA_2013 # of sets with adj pv < 0.05 14\n",
      "95 KEA_2015 # of sets with adj pv < 0.05 11\n"
     ]
    },
    {
     "name": "stderr",
     "output_type": "stream",
     "text": [
      "2021-11-12 15:53:50,024 Warning: No enrich terms using library KEGG_2013 when cutoff = 0.1\n"
     ]
    },
    {
     "name": "stdout",
     "output_type": "stream",
     "text": [
      "96 KEGG_2013 # of sets with adj pv < 0.05 0\n",
      "97 KEGG_2015 # of sets with adj pv < 0.05 0\n",
      "98 KEGG_2016 # of sets with adj pv < 0.05 1\n",
      "99 KEGG_2019_Human # of sets with adj pv < 0.05 4\n",
      "100 KEGG_2019_Mouse # of sets with adj pv < 0.05 2\n",
      "101 KEGG_2021_Human # of sets with adj pv < 0.05 3\n",
      "102 Kinase_Perturbations_from_GEO_down # of sets with adj pv < 0.05 102\n",
      "103 Kinase_Perturbations_from_GEO_up # of sets with adj pv < 0.05 68\n",
      "104 L1000_Kinase_and_GPCR_Perturbations_down # of sets with adj pv < 0.05 0\n"
     ]
    },
    {
     "name": "stderr",
     "output_type": "stream",
     "text": [
      "2021-11-12 15:54:26,171 Warning: No enrich terms using library L1000_Kinase_and_GPCR_Perturbations_up when cutoff = 0.1\n"
     ]
    },
    {
     "name": "stdout",
     "output_type": "stream",
     "text": [
      "105 L1000_Kinase_and_GPCR_Perturbations_up # of sets with adj pv < 0.05 0\n",
      "106 LINCS_L1000_Chem_Pert_down # of sets with adj pv < 0.05 3435\n",
      "107 LINCS_L1000_Chem_Pert_up # of sets with adj pv < 0.05 1301\n",
      "108 LINCS_L1000_Ligand_Perturbations_down # of sets with adj pv < 0.05 17\n",
      "109 LINCS_L1000_Ligand_Perturbations_up # of sets with adj pv < 0.05 53\n",
      "110 Ligand_Perturbations_from_GEO_down # of sets with adj pv < 0.05 128\n",
      "111 Ligand_Perturbations_from_GEO_up # of sets with adj pv < 0.05 163\n",
      "112 MCF7_Perturbations_from_GEO_down # of sets with adj pv < 0.05 254\n",
      "113 MCF7_Perturbations_from_GEO_up # of sets with adj pv < 0.05 274\n"
     ]
    },
    {
     "name": "stderr",
     "output_type": "stream",
     "text": [
      "2021-11-12 15:55:06,370 Warning: No enrich terms using library MGI_Mammalian_Phenotype_2013 when cutoff = 0.1\n"
     ]
    },
    {
     "name": "stdout",
     "output_type": "stream",
     "text": [
      "114 MGI_Mammalian_Phenotype_2013 # of sets with adj pv < 0.05 0\n",
      "115 MGI_Mammalian_Phenotype_2017 # of sets with adj pv < 0.05 3\n",
      "116 MGI_Mammalian_Phenotype_Level_3 # of sets with adj pv < 0.05 2\n"
     ]
    },
    {
     "name": "stderr",
     "output_type": "stream",
     "text": [
      "2021-11-12 15:55:18,076 Warning: No enrich terms using library MGI_Mammalian_Phenotype_Level_4 when cutoff = 0.1\n"
     ]
    },
    {
     "name": "stdout",
     "output_type": "stream",
     "text": [
      "117 MGI_Mammalian_Phenotype_Level_4 # of sets with adj pv < 0.05 0\n",
      "118 MGI_Mammalian_Phenotype_Level_4_2019 # of sets with adj pv < 0.05 2\n",
      "119 MGI_Mammalian_Phenotype_Level_4_2021 # of sets with adj pv < 0.05 9\n",
      "120 MSigDB_Computational # of sets with adj pv < 0.05 127\n",
      "121 MSigDB_Hallmark_2020 # of sets with adj pv < 0.05 20\n",
      "122 MSigDB_Oncogenic_Signatures # of sets with adj pv < 0.05 3\n",
      "123 Microbe_Perturbations_from_GEO_down # of sets with adj pv < 0.05 134\n",
      "124 Microbe_Perturbations_from_GEO_up # of sets with adj pv < 0.05 154\n"
     ]
    },
    {
     "name": "stderr",
     "output_type": "stream",
     "text": [
      "2021-11-12 15:55:49,513 Warning: No enrich terms using library Mouse_Gene_Atlas when cutoff = 0.1\n"
     ]
    },
    {
     "name": "stdout",
     "output_type": "stream",
     "text": [
      "125 Mouse_Gene_Atlas # of sets with adj pv < 0.05 0\n",
      "126 NCI-60_Cancer_Cell_Lines # of sets with adj pv < 0.05 4\n",
      "127 NCI-Nature_2015 # of sets with adj pv < 0.05 14\n",
      "128 NCI-Nature_2016 # of sets with adj pv < 0.05 14\n",
      "129 NIH_Funded_PIs_2017_AutoRIF_ARCHS4_Predictions # of sets with adj pv < 0.05 2392\n",
      "130 NIH_Funded_PIs_2017_GeneRIF_ARCHS4_Predictions # of sets with adj pv < 0.05 1510\n",
      "131 NIH_Funded_PIs_2017_Human_AutoRIF # of sets with adj pv < 0.05 19\n",
      "132 NIH_Funded_PIs_2017_Human_GeneRIF # of sets with adj pv < 0.05 5\n",
      "133 NURSA_Human_Endogenous_Complexome # of sets with adj pv < 0.05 1328\n"
     ]
    },
    {
     "name": "stderr",
     "output_type": "stream",
     "text": [
      "2021-11-12 15:56:28,326 Warning: No enrich terms using library OMIM_Disease when cutoff = 0.1\n"
     ]
    },
    {
     "name": "stdout",
     "output_type": "stream",
     "text": [
      "134 OMIM_Disease # of sets with adj pv < 0.05 0\n"
     ]
    },
    {
     "name": "stderr",
     "output_type": "stream",
     "text": [
      "2021-11-12 15:56:32,070 Warning: No enrich terms using library OMIM_Expanded when cutoff = 0.1\n"
     ]
    },
    {
     "name": "stdout",
     "output_type": "stream",
     "text": [
      "135 OMIM_Expanded # of sets with adj pv < 0.05 0\n",
      "136 Old_CMAP_down # of sets with adj pv < 0.05 5\n",
      "137 Old_CMAP_up # of sets with adj pv < 0.05 116\n",
      "138 Orphanet_Augmented_2021 # of sets with adj pv < 0.05 356\n",
      "139 PPI_Hub_Proteins # of sets with adj pv < 0.05 81\n",
      "140 PanglaoDB_Augmented_2021 # of sets with adj pv < 0.05 0\n",
      "141 Panther_2015 # of sets with adj pv < 0.05 0\n",
      "142 Panther_2016 # of sets with adj pv < 0.05 0\n",
      "143 Pfam_Domains_2019 # of sets with adj pv < 0.05 1\n",
      "144 Pfam_InterPro_Domains # of sets with adj pv < 0.05 1\n"
     ]
    },
    {
     "name": "stderr",
     "output_type": "stream",
     "text": [
      "2021-11-12 15:57:11,169 Warning: No enrich terms using library PheWeb_2019 when cutoff = 0.1\n"
     ]
    },
    {
     "name": "stdout",
     "output_type": "stream",
     "text": [
      "145 PheWeb_2019 # of sets with adj pv < 0.05 0\n"
     ]
    },
    {
     "name": "stderr",
     "output_type": "stream",
     "text": [
      "2021-11-12 15:57:14,935 Warning: No enrich terms using library PhenGenI_Association_2021 when cutoff = 0.1\n"
     ]
    },
    {
     "name": "stdout",
     "output_type": "stream",
     "text": [
      "146 PhenGenI_Association_2021 # of sets with adj pv < 0.05 0\n",
      "147 Phosphatase_Substrates_from_DEPOD # of sets with adj pv < 0.05 0\n",
      "148 ProteomicsDB_2020 # of sets with adj pv < 0.05 431\n",
      "149 RNA-Seq_Disease_Gene_and_Drug_Signatures_from_GEO # of sets with adj pv < 0.05 1055\n",
      "150 RNAseq_Automatic_GEO_Signatures_Human_Down # of sets with adj pv < 0.05 1242\n",
      "151 RNAseq_Automatic_GEO_Signatures_Human_Up # of sets with adj pv < 0.05 1217\n",
      "152 RNAseq_Automatic_GEO_Signatures_Mouse_Down # of sets with adj pv < 0.05 454\n",
      "153 RNAseq_Automatic_GEO_Signatures_Mouse_Up # of sets with adj pv < 0.05 549\n",
      "154 Rare_Diseases_AutoRIF_ARCHS4_Predictions # of sets with adj pv < 0.05 658\n",
      "155 Rare_Diseases_AutoRIF_Gene_Lists # of sets with adj pv < 0.05 2\n",
      "156 Rare_Diseases_GeneRIF_ARCHS4_Predictions # of sets with adj pv < 0.05 503\n"
     ]
    },
    {
     "name": "stderr",
     "output_type": "stream",
     "text": [
      "2021-11-12 15:58:02,144 Warning: No enrich terms using library Rare_Diseases_GeneRIF_Gene_Lists when cutoff = 0.1\n"
     ]
    },
    {
     "name": "stdout",
     "output_type": "stream",
     "text": [
      "157 Rare_Diseases_GeneRIF_Gene_Lists # of sets with adj pv < 0.05 0\n",
      "158 Reactome_2013 # of sets with adj pv < 0.05 8\n",
      "159 Reactome_2015 # of sets with adj pv < 0.05 58\n",
      "160 Reactome_2016 # of sets with adj pv < 0.05 19\n",
      "161 SILAC_Phosphoproteomics # of sets with adj pv < 0.05 25\n",
      "162 SubCell_BarCode # of sets with adj pv < 0.05 49\n",
      "163 SysMyo_Muscle_Gene_Sets # of sets with adj pv < 0.05 131\n",
      "164 TF-LOF_Expression_from_GEO # of sets with adj pv < 0.05 52\n",
      "165 TF_Perturbations_Followed_by_Expression # of sets with adj pv < 0.05 1162\n",
      "166 TG_GATES_2020 # of sets with adj pv < 0.05 303\n",
      "167 TRANSFAC_and_JASPAR_PWMs # of sets with adj pv < 0.05 1\n",
      "168 TRRUST_Transcription_Factors_2019 # of sets with adj pv < 0.05 2\n",
      "169 Table_Mining_of_CRISPR_Studies # of sets with adj pv < 0.05 11\n"
     ]
    },
    {
     "name": "stderr",
     "output_type": "stream",
     "text": [
      "2021-11-12 15:58:52,723 Warning: No enrich terms using library TargetScan_microRNA when cutoff = 0.1\n"
     ]
    },
    {
     "name": "stdout",
     "output_type": "stream",
     "text": [
      "170 TargetScan_microRNA # of sets with adj pv < 0.05 0\n",
      "171 TargetScan_microRNA_2017 # of sets with adj pv < 0.05 35\n"
     ]
    },
    {
     "name": "stderr",
     "output_type": "stream",
     "text": [
      "2021-11-12 15:59:00,253 Warning: No enrich terms using library Tissue_Protein_Expression_from_Human_Proteome_Map when cutoff = 0.1\n"
     ]
    },
    {
     "name": "stdout",
     "output_type": "stream",
     "text": [
      "172 Tissue_Protein_Expression_from_Human_Proteome_Map # of sets with adj pv < 0.05 0\n"
     ]
    },
    {
     "name": "stderr",
     "output_type": "stream",
     "text": [
      "2021-11-12 15:59:03,899 Warning: No enrich terms using library Tissue_Protein_Expression_from_ProteomicsDB when cutoff = 0.1\n"
     ]
    },
    {
     "name": "stdout",
     "output_type": "stream",
     "text": [
      "173 Tissue_Protein_Expression_from_ProteomicsDB # of sets with adj pv < 0.05 0\n",
      "174 Transcription_Factor_PPIs # of sets with adj pv < 0.05 37\n"
     ]
    },
    {
     "name": "stderr",
     "output_type": "stream",
     "text": [
      "2021-11-12 15:59:11,416 Warning: No enrich terms using library UK_Biobank_GWAS_v1 when cutoff = 0.1\n"
     ]
    },
    {
     "name": "stdout",
     "output_type": "stream",
     "text": [
      "175 UK_Biobank_GWAS_v1 # of sets with adj pv < 0.05 0\n",
      "176 Virus-Host_PPI_P-HIPSTer_2020 # of sets with adj pv < 0.05 2705\n",
      "177 VirusMINT # of sets with adj pv < 0.05 3\n",
      "178 Virus_Perturbations_from_GEO_down # of sets with adj pv < 0.05 47\n",
      "179 Virus_Perturbations_from_GEO_up # of sets with adj pv < 0.05 21\n",
      "180 WikiPathway_2021_Human # of sets with adj pv < 0.05 2\n",
      "181 WikiPathways_2013 # of sets with adj pv < 0.05 8\n",
      "182 WikiPathways_2015 # of sets with adj pv < 0.05 18\n",
      "183 WikiPathways_2016 # of sets with adj pv < 0.05 22\n",
      "184 WikiPathways_2019_Human # of sets with adj pv < 0.05 0\n",
      "185 WikiPathways_2019_Mouse # of sets with adj pv < 0.05 4\n"
     ]
    },
    {
     "name": "stderr",
     "output_type": "stream",
     "text": [
      "2021-11-12 15:59:53,839 Warning: No enrich terms using library dbGaP when cutoff = 0.1\n"
     ]
    },
    {
     "name": "stdout",
     "output_type": "stream",
     "text": [
      "186 dbGaP # of sets with adj pv < 0.05 0\n",
      "187 huMAP # of sets with adj pv < 0.05 8\n",
      "188 lncHUB_lncRNA_Co-Expression # of sets with adj pv < 0.05 3\n",
      "189 miRTarBase_2017 # of sets with adj pv < 0.05 134\n"
     ]
    }
   ],
   "source": [
    "enrichR_set = {}\n",
    "\n",
    "for i, gene_set in enumerate(names):\n",
    "    \n",
    "    enr = gp.enrichr(gene_list=gene_list_rset,\n",
    "                 gene_sets=[gene_set],\n",
    "                 organism='Human', # don't forget to set organism to the one you desired! e.g. Yeast\n",
    "                 description='test_name',\n",
    "                 outdir='data/GeneEnrichment/enrichr_kegg',\n",
    "                 # no_plot=True,\n",
    "                 cutoff=0.1 # test dataset, use lower value from range(0,1)\n",
    "                )\n",
    "    # select only significant \n",
    "    enr_res_sel = enr.results[enr.results['Adjusted P-value'] <= 0.05]\n",
    "    enrichR_set[gene_set] = enr_res_sel\n",
    "    \n",
    "    print (i, gene_set, '# of sets with adj pv < 0.05', enr_res_sel.shape[0])"
   ]
  },
  {
   "cell_type": "code",
   "execution_count": 11,
   "metadata": {},
   "outputs": [
    {
     "ename": "SyntaxError",
     "evalue": "invalid token (<ipython-input-11-d47c7dfe9eba>, line 4)",
     "output_type": "error",
     "traceback": [
      "\u001b[0;36m  File \u001b[0;32m\"<ipython-input-11-d47c7dfe9eba>\"\u001b[0;36m, line \u001b[0;32m4\u001b[0m\n\u001b[0;31m    COVID-19_Related_Gene_Sets_2021\u001b[0m\n\u001b[0m            ^\u001b[0m\n\u001b[0;31mSyntaxError\u001b[0m\u001b[0;31m:\u001b[0m invalid token\n"
     ]
    }
   ],
   "source": [
    "Aging_Perturbations_from_GEO_down, \n",
    "Aging_Perturbations_from_GEO_up\n",
    "Allen_Brain_Atlas_10x_scRNA_2021 \n",
    "COVID-19_Related_Gene_Sets_2021\n",
    "DSigDB \n",
    "Disease_Perturbations_from_GEO_down \n",
    "Disease_Perturbations_from_GEO_up \n",
    "Drug_Perturbations_from_GEO_2014 \n",
    "GeneSigDB\n",
    "\n",
    "MSigDB_Oncogenic_Signatures \n",
    "NCI-60_Cancer_Cell_Lines  \n",
    "Rare_Diseases_AutoRIF_Gene_Lists \n",
    "''''''\n",
    "Genes_Associated_with_NIH_Grants \n",
    "''''''\n",
    "\n",
    "Human_Gene_Atlas\n",
    "Jensen_COMPARTMENTS \n",
    "InterPro_Domains_2019 \n",
    "Pfam_Domains_2019\n",
    "\n",
    "ProteomicsDB_2020 \n",
    "SILAC_Phosphoproteomics\n",
    "\n",
    "SysMyo_Muscle_Gene_Sets\n",
    "\n",
    "TargetScan_microRNA_2017\n",
    "\n",
    "\n",
    "Transcription_Factor_PPIs\n",
    "\n",
    "Virus-Host_PPI_P-HIPSTer_2020\n",
    "\n",
    "lncHUB_lncRNA_Co-Expression"
   ]
  },
  {
   "cell_type": "code",
   "execution_count": null,
   "metadata": {},
   "outputs": [],
   "source": [
    "pd.concat([enrichR_set['Aging_Perturbations_from_GEO_up'], enrichR_set['Aging_Perturbations_from_GEO_down']]).to_csv('Supplementary_tables_and_plots/tables/Gene_enrichment_RiboSET_aging.txt', sep='\\t', index=False)"
   ]
  },
  {
   "cell_type": "code",
   "execution_count": null,
   "metadata": {},
   "outputs": [],
   "source": [
    "enrichR_set['COVID-19_Related_Gene_Sets_2021'].to_csv('Supplementary_tables_and_plots/tables/Gene_enrichment_RiboSET_covid19.txt', sep='\\t', index=False)"
   ]
  },
  {
   "cell_type": "code",
   "execution_count": null,
   "metadata": {},
   "outputs": [],
   "source": [
    "enrichR_set['Rare_Diseases_AutoRIF_Gene_Lists'].to_csv('Supplementary_tables_and_plots/tables/Rare_Diseases_AutoRIF_Gene_Lists_Riboseq.txt', sep='\\t', index=False)"
   ]
  },
  {
   "cell_type": "code",
   "execution_count": null,
   "metadata": {},
   "outputs": [],
   "source": [
    "pd.concat([enrichR_set['Disease_Perturbations_from_GEO_down'], enrichR_set['Disease_Perturbations_from_GEO_down']]).to_csv('Supplementary_tables_and_plots/tables/Gene_enrichment_RiboSET_Disease_Perturbations_riboseq.txt', sep='\\t', index=False)"
   ]
  },
  {
   "cell_type": "markdown",
   "metadata": {},
   "source": [
    "there were 2 gene enriment hits with terms in Rare_Diseases_AutoRIF_Gene_Lists: Periventricular leukomalacia and Leukomalacia. "
   ]
  },
  {
   "cell_type": "code",
   "execution_count": null,
   "metadata": {},
   "outputs": [],
   "source": []
  },
  {
   "cell_type": "markdown",
   "metadata": {},
   "source": [
    "### PhyloSET"
   ]
  },
  {
   "cell_type": "code",
   "execution_count": null,
   "metadata": {},
   "outputs": [],
   "source": [
    "gene_list_pset = list(P_Set.gene.unique())\n",
    "len(gene_list_pset)"
   ]
  },
  {
   "cell_type": "code",
   "execution_count": null,
   "metadata": {},
   "outputs": [],
   "source": [
    "enrichR_set_phyloset = {}\n",
    "\n",
    "for i, gene_set in enumerate(names):\n",
    "    \n",
    "    enr = gp.enrichr(gene_list=gene_list_pset,\n",
    "                 gene_sets=[gene_set],\n",
    "                 organism='Human', # don't forget to set organism to the one you desired! e.g. Yeast\n",
    "                 description='test_name',\n",
    "                 outdir='data/GeneEnrichment/enrichr_kegg',\n",
    "                 # no_plot=True,\n",
    "                 cutoff=0.1 # test dataset, use lower value from range(0,1)\n",
    "                )\n",
    "    # select only significant \n",
    "    enr_res_sel = enr.results[enr.results['Adjusted P-value'] <= 0.05]\n",
    "    enrichR_set_phyloset[gene_set] = enr_res_sel\n",
    "    \n",
    "    print (i, gene_set, '# of sets with adj pv < 0.05', enr_res_sel.shape[0])"
   ]
  },
  {
   "cell_type": "code",
   "execution_count": null,
   "metadata": {},
   "outputs": [],
   "source": [
    "enrichR_set_phyloset['RNA-Seq_Disease_Gene_and_Drug_Signatures_from_GEO'].to_csv('Supplementary_tables_and_plots/tables/Gene_enrichment_PhyloSET_RNA.txt', sep='\\t', index=False)"
   ]
  },
  {
   "cell_type": "code",
   "execution_count": null,
   "metadata": {},
   "outputs": [],
   "source": [
    "enrichR_set_phyloset['RNA-Seq_Disease_Gene_and_Drug_Signatures_from_GEO']"
   ]
  },
  {
   "cell_type": "code",
   "execution_count": null,
   "metadata": {},
   "outputs": [],
   "source": [
    "enrichR_set_phyloset['MGI_Mammalian_Phenotype_Level_4_2021']"
   ]
  },
  {
   "cell_type": "code",
   "execution_count": null,
   "metadata": {},
   "outputs": [],
   "source": []
  },
  {
   "cell_type": "code",
   "execution_count": null,
   "metadata": {},
   "outputs": [],
   "source": [
    "enrichR_set_phyloset['Jensen_DISEASES']"
   ]
  },
  {
   "cell_type": "code",
   "execution_count": null,
   "metadata": {},
   "outputs": [],
   "source": [
    "enrichR_set_phyloset['Jensen_TISSUES'].to_csv('Supplementary_tables_and_plots/tables/Gene_enrichment_PhyloSET_Jensen_TISSUES.txt', sep='\\t', index=False)"
   ]
  },
  {
   "cell_type": "code",
   "execution_count": null,
   "metadata": {},
   "outputs": [],
   "source": []
  },
  {
   "cell_type": "markdown",
   "metadata": {},
   "source": [
    "--------"
   ]
  },
  {
   "cell_type": "markdown",
   "metadata": {},
   "source": [
    "## Plot enrichR "
   ]
  },
  {
   "cell_type": "code",
   "execution_count": null,
   "metadata": {},
   "outputs": [],
   "source": [
    "sns.scatterplot(data=enr_res_sel, x=\"Adjusted P-value\", y=\"Combined Score\")"
   ]
  },
  {
   "cell_type": "code",
   "execution_count": null,
   "metadata": {},
   "outputs": [],
   "source": [
    "tmp = enrichR_set['COVID-19_Related_Gene_Sets_2021'][['Term', 'Adjusted P-value', 'Combined Score', 'Genes', 'Overlap']]\n",
    "tmp['hits'] = [len(x.split(';')) for x in tmp['Genes']]\n",
    "tmp['-log.adj.pv'] = [-1*np.log10(x) for x in tmp['Adjusted P-value'].tolist()]\n",
    "\n",
    "tmp.head(10) "
   ]
  },
  {
   "cell_type": "code",
   "execution_count": null,
   "metadata": {},
   "outputs": [],
   "source": [
    "sns.set(font_scale=3)  # crazy big\n",
    "\n",
    "sns.set_style(\"white\")\n",
    "\n",
    "fig, ax = plt.subplots(figsize=(10, 5))\n",
    "\n",
    "ax = sns.scatterplot(x=tmp.head(10)['-log.adj.pv'], \n",
    "              y=tmp.head(10).Term, \n",
    "             size=tmp.head(10).hits*4,\n",
    "             hue = tmp.head(10)['Combined Score'])\n",
    "\n",
    "plt.legend(bbox_to_anchor=(1.05, 1), loc=2, borderaxespad=0.)\n",
    "\n",
    "#handles, labels = ax.get_legend_handles_labels()\n",
    "\n",
    "#ax._legend.remove()\n",
    "#ax.legend(handles, labels, ncol=2, loc='upper center', \n",
    "#                bbox_to_anchor=(1.4, 1), frameon=False)"
   ]
  },
  {
   "cell_type": "markdown",
   "metadata": {},
   "source": [
    "------"
   ]
  },
  {
   "cell_type": "code",
   "execution_count": null,
   "metadata": {},
   "outputs": [],
   "source": [
    "enrichR_set['Jensen_COMPARTMENTS']['Term'].tolist()"
   ]
  },
  {
   "cell_type": "code",
   "execution_count": null,
   "metadata": {},
   "outputs": [],
   "source": [
    "enrichR_set['InterPro_Domains_2019']"
   ]
  },
  {
   "cell_type": "markdown",
   "metadata": {},
   "source": [
    "Thioredoxin domain (7/40 overlap, adj.p-value = 0.002582), Ubiquitin-conjugating enzyme E2 (6/40 overlap, adj.p-value = 0.000121)"
   ]
  },
  {
   "cell_type": "code",
   "execution_count": null,
   "metadata": {},
   "outputs": [],
   "source": [
    "enrichR_set['Pfam_Domains_2019']"
   ]
  },
  {
   "cell_type": "code",
   "execution_count": null,
   "metadata": {},
   "outputs": [],
   "source": [
    "enrichR_set['DSigDB']"
   ]
  },
  {
   "cell_type": "code",
   "execution_count": null,
   "metadata": {},
   "outputs": [],
   "source": [
    "enrichR_set['Rare_Diseases_AutoRIF_Gene_Lists']"
   ]
  },
  {
   "cell_type": "code",
   "execution_count": null,
   "metadata": {},
   "outputs": [],
   "source": []
  },
  {
   "cell_type": "code",
   "execution_count": null,
   "metadata": {},
   "outputs": [],
   "source": [
    "Aging_Perturbations_from_GEO_down, \n",
    "Aging_Perturbations_from_GEO_up\n",
    "Allen_Brain_Atlas_10x_scRNA_2021 \n",
    "COVID-19_Related_Gene_Sets_2021\n",
    "DSigDB \n",
    "Disease_Perturbations_from_GEO_down \n",
    "Disease_Perturbations_from_GEO_up \n",
    "Drug_Perturbations_from_GEO_2014 \n",
    "GeneSigDB\n",
    "\n",
    "MSigDB_Oncogenic_Signatures \n",
    "NCI-60_Cancer_Cell_Lines  \n",
    "Rare_Diseases_AutoRIF_Gene_Lists \n",
    "''''''\n",
    "Genes_Associated_with_NIH_Grants \n",
    "''''''\n",
    "\n",
    "Human_Gene_Atlas\n",
    "Jensen_COMPARTMENTS \n",
    "InterPro_Domains_2019 \n",
    "Pfam_Domains_2019\n",
    "\n",
    "ProteomicsDB_2020 \n",
    "SILAC_Phosphoproteomics\n",
    "\n",
    "SysMyo_Muscle_Gene_Sets\n",
    "\n",
    "TargetScan_microRNA_2017\n",
    "\n",
    "\n",
    "Transcription_Factor_PPIs\n",
    "\n",
    "Virus-Host_PPI_P-HIPSTer_2020\n",
    "\n",
    "lncHUB_lncRNA_Co-Expression"
   ]
  },
  {
   "cell_type": "code",
   "execution_count": null,
   "metadata": {},
   "outputs": [],
   "source": []
  },
  {
   "cell_type": "code",
   "execution_count": null,
   "metadata": {},
   "outputs": [],
   "source": []
  },
  {
   "cell_type": "code",
   "execution_count": null,
   "metadata": {},
   "outputs": [],
   "source": []
  },
  {
   "cell_type": "code",
   "execution_count": null,
   "metadata": {},
   "outputs": [],
   "source": []
  },
  {
   "cell_type": "code",
   "execution_count": null,
   "metadata": {},
   "outputs": [],
   "source": []
  },
  {
   "cell_type": "code",
   "execution_count": null,
   "metadata": {},
   "outputs": [],
   "source": []
  },
  {
   "cell_type": "code",
   "execution_count": null,
   "metadata": {},
   "outputs": [],
   "source": []
  },
  {
   "cell_type": "code",
   "execution_count": null,
   "metadata": {},
   "outputs": [],
   "source": []
  },
  {
   "cell_type": "code",
   "execution_count": null,
   "metadata": {},
   "outputs": [],
   "source": []
  },
  {
   "cell_type": "markdown",
   "metadata": {},
   "source": [
    "# GO terms "
   ]
  },
  {
   "cell_type": "code",
   "execution_count": 77,
   "metadata": {},
   "outputs": [],
   "source": [
    "# ontology basic file \n",
    "# can be retireved by:\n",
    "# from goatools.base import download_go_basic_obo\n",
    "# obo_fname = download_go_basic_obo()\n",
    "\n",
    "# download associations??\n",
    "\n",
    "# Get ftp://ftp.ncbi.nlm.nih.gov/gene/DATA/gene2go.gz\n",
    "#from goatools.base import download_ncbi_associations\n",
    "#fin_gene2go = download_ncbi_associations()"
   ]
  },
  {
   "cell_type": "markdown",
   "metadata": {},
   "source": [
    "## Load files "
   ]
  },
  {
   "cell_type": "code",
   "execution_count": 5,
   "metadata": {},
   "outputs": [
    {
     "name": "stdout",
     "output_type": "stream",
     "text": [
      "data/GeneEnrichment/go-basic.obo: fmt(1.2) rel(2021-07-02) 47,229 GO Terms\n"
     ]
    }
   ],
   "source": [
    "from goatools.obo_parser import GODag\n",
    "\n",
    "obodag = GODag(\"data/GeneEnrichment/go-basic.obo\")"
   ]
  },
  {
   "cell_type": "code",
   "execution_count": 6,
   "metadata": {},
   "outputs": [
    {
     "name": "stdout",
     "output_type": "stream",
     "text": [
      "HMS:0:00:05.472549 330,320 annotations, 20,687 genes, 18,684 GOs, 1 taxids READ: data/GeneEnrichment/gene2go \n"
     ]
    }
   ],
   "source": [
    "from __future__ import print_function\n",
    "from goatools.base import download_ncbi_associations\n",
    "from goatools.base import download_go_basic_obo\n",
    "from goatools.anno.genetogo_reader import Gene2GoReader\n",
    "\n",
    "# Read NCBI's gene2go. Store annotations in a list of namedtuples\n",
    "objanno = Gene2GoReader('data/GeneEnrichment/gene2go', taxids=[9606])"
   ]
  },
  {
   "cell_type": "code",
   "execution_count": 7,
   "metadata": {},
   "outputs": [
    {
     "name": "stdout",
     "output_type": "stream",
     "text": [
      "CC 19,424 annotated mouse genes\n",
      "BP 18,506 annotated mouse genes\n",
      "MF 18,191 annotated mouse genes\n"
     ]
    }
   ],
   "source": [
    "# Get namespace2association where:\n",
    "#    namespace is:\n",
    "#        BP: biological_process               \n",
    "#        MF: molecular_function\n",
    "#        CC: cellular_component\n",
    "#    assocation is a dict:\n",
    "#        key: NCBI GeneID\n",
    "#        value: A set of GO IDs associated with that gene\n",
    "ns2assoc = objanno.get_ns2assc()\n",
    "\n",
    "for nspc, id2gos in ns2assoc.items():\n",
    "    print(\"{NS} {N:,} annotated mouse genes\".format(NS=nspc, N=len(id2gos)))"
   ]
  },
  {
   "cell_type": "code",
   "execution_count": 8,
   "metadata": {},
   "outputs": [
    {
     "name": "stdout",
     "output_type": "stream",
     "text": [
      "v1.1.6\n"
     ]
    }
   ],
   "source": [
    "import goatools\n",
    "\n",
    "print(goatools.__version__)\n",
    "\n",
    "# pip install goatools\n",
    "\n"
   ]
  },
  {
   "cell_type": "markdown",
   "metadata": {},
   "source": [
    "### Load Background gene set "
   ]
  },
  {
   "cell_type": "markdown",
   "metadata": {},
   "source": [
    "#### Open HGNC gene conversion table"
   ]
  },
  {
   "cell_type": "code",
   "execution_count": 9,
   "metadata": {},
   "outputs": [],
   "source": [
    "ids_df1 = pd.read_csv('data/GeneEnrichment/HGNC_id_to_NCBI_geneID.txt', sep='\\t')"
   ]
  },
  {
   "cell_type": "code",
   "execution_count": 17,
   "metadata": {},
   "outputs": [],
   "source": [
    "# ids_df1 = HGNC gene conversion table\n",
    "# entrez_gene_ids_df\n",
    "# ids_df = gene info"
   ]
  },
  {
   "cell_type": "markdown",
   "metadata": {},
   "source": [
    "#### Open entrez ID metadata table "
   ]
  },
  {
   "cell_type": "code",
   "execution_count": 10,
   "metadata": {},
   "outputs": [
    {
     "name": "stdout",
     "output_type": "stream",
     "text": [
      "15861\n"
     ]
    }
   ],
   "source": [
    "entrez_gene_ids_df = pd.read_csv('data/GeneEnrichment/gencode.v38.metadata.EntrezGene', sep='\\t', header=None)\n",
    "entrez_gene_ids_df.columns = ['tr_id', 'entrez_id']\n",
    "\n",
    "print (entrez_gene_ids_df.merge(metadata_pc_g25[['tr_id', 'gene']], on=['tr_id']).gene.nunique())"
   ]
  },
  {
   "cell_type": "markdown",
   "metadata": {},
   "source": [
    "#### Open gene_info table from ncbi "
   ]
  },
  {
   "cell_type": "code",
   "execution_count": 11,
   "metadata": {},
   "outputs": [
    {
     "name": "stdout",
     "output_type": "stream",
     "text": [
      "63404 63413\n"
     ]
    }
   ],
   "source": [
    "# Such info is stored in https://ftp.ncbi.nlm.nih.gov/gene/DATA/gene_info.gz\n",
    "# take all human genes \n",
    "\n",
    "ids_df = pd.read_csv('data/GeneEnrichment/gene_info', sep='\\t', \n",
    "                     usecols=['#tax_id', 'GeneID','Symbol'], low_memory=True)\n",
    "\n",
    "ids_df_sel = ids_df[(ids_df['Symbol'] != 'NEWENTRY') & (ids_df['#tax_id'] == 9606)]\n",
    "\n",
    "print (ids_df_sel.Symbol.nunique(), ids_df_sel.GeneID.nunique())"
   ]
  },
  {
   "cell_type": "markdown",
   "metadata": {},
   "source": [
    "------"
   ]
  },
  {
   "cell_type": "markdown",
   "metadata": {},
   "source": [
    "#### Transform gene symbols from gencode25 to entrez gene id (with some missing genes)"
   ]
  },
  {
   "cell_type": "code",
   "execution_count": 12,
   "metadata": {},
   "outputs": [
    {
     "name": "stdout",
     "output_type": "stream",
     "text": [
      "1503\n"
     ]
    }
   ],
   "source": [
    "ids_df_sel_g25 = ids_df_sel[ids_df_sel['Symbol'].isin(metadata_pc_g25.gene.tolist())].drop_duplicates()\n",
    "\n",
    "ids_df_sel_g25_LI = ids_df_sel_g25.GeneID.tolist()\n",
    "\n",
    "remaining = list(set(metadata_pc_g25.gene.tolist()) - set(ids_df_sel_g25.Symbol.tolist()))\n",
    "print (len(remaining))"
   ]
  },
  {
   "cell_type": "code",
   "execution_count": 13,
   "metadata": {},
   "outputs": [],
   "source": [
    "ids_df3 = ids_df1[ids_df1['Previous symbols'].notna()]\n",
    "\n",
    "prev_ids = pd.concat([pd.Series(row['NCBI Gene ID(supplied by NCBI)'], row['Previous symbols'].split(','))              \n",
    "                    for _, row in ids_df3.iterrows()]).reset_index()\n",
    "\n",
    "add_548_missing_df = prev_ids[prev_ids['index'].isin(remaining)]\n",
    "add_548_missing_LI = prev_ids[prev_ids['index'].isin(remaining)][0].tolist()"
   ]
  },
  {
   "cell_type": "code",
   "execution_count": 14,
   "metadata": {},
   "outputs": [
    {
     "name": "stdout",
     "output_type": "stream",
     "text": [
      "957\n"
     ]
    }
   ],
   "source": [
    "remaining2 = set(remaining) -  set(prev_ids[prev_ids['index'].isin(remaining)]['index'].tolist())\n",
    "print (len(remaining2))"
   ]
  },
  {
   "cell_type": "code",
   "execution_count": 15,
   "metadata": {},
   "outputs": [],
   "source": [
    "ids_df2 = ids_df1[ids_df1['Alias symbols'].notna()]\n",
    "\n",
    "alias_ids = pd.concat([pd.Series(row['NCBI Gene ID(supplied by NCBI)'], row['Alias symbols'].split(','))              \n",
    "                    for _, row in ids_df2.iterrows()]).reset_index()\n",
    "\n",
    "add_10_missing2_LI = alias_ids[alias_ids['index'].isin(remaining2)][0].tolist()"
   ]
  },
  {
   "cell_type": "code",
   "execution_count": 16,
   "metadata": {},
   "outputs": [],
   "source": [
    "remaining3 = set(remaining2) - set(alias_ids[alias_ids['index'].isin(remaining2)]['index'].tolist())"
   ]
  },
  {
   "cell_type": "code",
   "execution_count": 17,
   "metadata": {},
   "outputs": [
    {
     "name": "stdout",
     "output_type": "stream",
     "text": [
      "863\n",
      "684\n"
     ]
    }
   ],
   "source": [
    "save_remaining3_df = metadata_pc_g25[metadata_pc_g25['gene'].isin(remaining3)].merge(entrez_gene_ids_df, on='tr_id')[['entrez_id', 'gene', 'tr_id']]\n",
    "\n",
    "save_remaining3_LI = save_remaining3_df.entrez_id.tolist()\n",
    "\n",
    "print (len(save_remaining3_LI))\n",
    "\n",
    "remaining4 =  set(remaining3) - set(save_remaining3_df.gene.tolist())\n",
    "\n",
    "print (len(remaining4))"
   ]
  },
  {
   "cell_type": "markdown",
   "metadata": {},
   "source": [
    "---------"
   ]
  },
  {
   "cell_type": "code",
   "execution_count": 18,
   "metadata": {},
   "outputs": [
    {
     "name": "stdout",
     "output_type": "stream",
     "text": [
      "19621\n",
      "20330\n"
     ]
    }
   ],
   "source": [
    "total_found = list(set(ids_df_sel_g25_LI + add_548_missing_LI + add_10_missing2_LI + save_remaining3_LI))\n",
    "print (len(total_found))\n",
    "print (metadata_pc_g25.gene.nunique())"
   ]
  },
  {
   "cell_type": "code",
   "execution_count": 27,
   "metadata": {},
   "outputs": [
    {
     "data": {
      "text/plain": [
       "709"
      ]
     },
     "execution_count": 27,
     "metadata": {},
     "output_type": "execute_result"
    }
   ],
   "source": [
    "20330-19621"
   ]
  },
  {
   "cell_type": "code",
   "execution_count": null,
   "metadata": {},
   "outputs": [],
   "source": []
  },
  {
   "cell_type": "code",
   "execution_count": null,
   "metadata": {},
   "outputs": [],
   "source": []
  },
  {
   "cell_type": "markdown",
   "metadata": {},
   "source": [
    "### transform gene symbols intp entrez gene ids"
   ]
  },
  {
   "cell_type": "code",
   "execution_count": 19,
   "metadata": {},
   "outputs": [
    {
     "data": {
      "text/html": [
       "<div>\n",
       "<style scoped>\n",
       "    .dataframe tbody tr th:only-of-type {\n",
       "        vertical-align: middle;\n",
       "    }\n",
       "\n",
       "    .dataframe tbody tr th {\n",
       "        vertical-align: top;\n",
       "    }\n",
       "\n",
       "    .dataframe thead th {\n",
       "        text-align: right;\n",
       "    }\n",
       "</style>\n",
       "<table border=\"1\" class=\"dataframe\">\n",
       "  <thead>\n",
       "    <tr style=\"text-align: right;\">\n",
       "      <th></th>\n",
       "      <th>#tax_id</th>\n",
       "      <th>GeneID</th>\n",
       "      <th>Symbol</th>\n",
       "    </tr>\n",
       "  </thead>\n",
       "  <tbody>\n",
       "    <tr>\n",
       "      <th>8500240</th>\n",
       "      <td>9606</td>\n",
       "      <td>1</td>\n",
       "      <td>A1BG</td>\n",
       "    </tr>\n",
       "    <tr>\n",
       "      <th>8500241</th>\n",
       "      <td>9606</td>\n",
       "      <td>2</td>\n",
       "      <td>A2M</td>\n",
       "    </tr>\n",
       "  </tbody>\n",
       "</table>\n",
       "</div>"
      ],
      "text/plain": [
       "         #tax_id  GeneID Symbol\n",
       "8500240     9606       1   A1BG\n",
       "8500241     9606       2    A2M"
      ]
     },
     "execution_count": 19,
     "metadata": {},
     "output_type": "execute_result"
    }
   ],
   "source": [
    "ids_df_sel[0:2]"
   ]
  },
  {
   "cell_type": "code",
   "execution_count": 20,
   "metadata": {},
   "outputs": [
    {
     "data": {
      "text/plain": [
       "['FAM64A',\n",
       " 'HN1',\n",
       " 'FAM160B1',\n",
       " 'AC013461.1',\n",
       " 'CTD-2135J3.4',\n",
       " 'H1FX',\n",
       " 'EPRS',\n",
       " 'CTGF',\n",
       " 'AARS',\n",
       " 'UFD1L',\n",
       " 'C9orf16',\n",
       " 'FAM92A1',\n",
       " 'KIF1BP',\n",
       " 'YARS',\n",
       " 'MGEA5',\n",
       " 'C18orf8',\n",
       " 'RRNAD1',\n",
       " 'LARS',\n",
       " 'TMEM189',\n",
       " 'NARS']"
      ]
     },
     "execution_count": 20,
     "metadata": {},
     "output_type": "execute_result"
    }
   ],
   "source": [
    "Rset_entrez_ids = ids_df_sel[ids_df_sel['Symbol'].isin(R_Set['gene'].tolist())].GeneID.tolist()\n",
    "\n",
    "list(set(R_Set.gene.tolist()) -  set(ids_df_sel[ids_df_sel['Symbol'].isin(R_Set['gene'].tolist())].Symbol.tolist()))"
   ]
  },
  {
   "cell_type": "code",
   "execution_count": 21,
   "metadata": {},
   "outputs": [],
   "source": [
    "# ids_df1[ids_df1['Previous symbols'].isin(list(set(R_Set.gene.tolist()) -  set(Rset_entrez_ids.Symbol.tolist())))]\n",
    "\n",
    "d = {'NARS':4677,\n",
    " 'CTD-2135J3.4':7013, #PIN2 TERF\n",
    " 'CTGF':1490,\n",
    " 'C18orf8':29919, \n",
    " 'HN1':51155,\n",
    " 'LARS':51520,\n",
    " 'MGEA5':10724,\n",
    " 'KIF1BP':26128, \n",
    " 'C9orf16': 79095,\n",
    " 'FAM64A':54478,\n",
    " 'RRNAD1': 51093,\n",
    " 'YARS':8565,\n",
    " 'AC013461.1':51776, #ZAK\n",
    " 'H1FX':8971,\n",
    " 'AARS':16,\n",
    " 'FAM92A1':137392, \n",
    " 'FAM160B1':57700,  \n",
    " 'EPRS':2058,   \n",
    " 'TMEM189':387521,\n",
    " 'UFD1L':7353}"
   ]
  },
  {
   "cell_type": "code",
   "execution_count": 22,
   "metadata": {},
   "outputs": [
    {
     "data": {
      "text/html": [
       "<div>\n",
       "<style scoped>\n",
       "    .dataframe tbody tr th:only-of-type {\n",
       "        vertical-align: middle;\n",
       "    }\n",
       "\n",
       "    .dataframe tbody tr th {\n",
       "        vertical-align: top;\n",
       "    }\n",
       "\n",
       "    .dataframe thead th {\n",
       "        text-align: right;\n",
       "    }\n",
       "</style>\n",
       "<table border=\"1\" class=\"dataframe\">\n",
       "  <thead>\n",
       "    <tr style=\"text-align: right;\">\n",
       "      <th></th>\n",
       "      <th>HGNC ID</th>\n",
       "      <th>Approved symbol</th>\n",
       "      <th>Approved name</th>\n",
       "      <th>Status</th>\n",
       "      <th>Previous symbols</th>\n",
       "      <th>Alias symbols</th>\n",
       "      <th>Chromosome</th>\n",
       "      <th>Accession numbers</th>\n",
       "      <th>RefSeq IDs</th>\n",
       "      <th>NCBI Gene ID(supplied by NCBI)</th>\n",
       "    </tr>\n",
       "  </thead>\n",
       "  <tbody>\n",
       "    <tr>\n",
       "      <th>9304</th>\n",
       "      <td>HGNC:15932</td>\n",
       "      <td>EPPIN</td>\n",
       "      <td>epididymal peptidase inhibitor</td>\n",
       "      <td>Approved</td>\n",
       "      <td>SPINLW1</td>\n",
       "      <td>EPPIN1, EPPIN2, EPPIN3, dJ461P17.2, WAP7, WFDC...</td>\n",
       "      <td>20q13.12</td>\n",
       "      <td>AF286370</td>\n",
       "      <td>NaN</td>\n",
       "      <td>57119.0</td>\n",
       "    </tr>\n",
       "    <tr>\n",
       "      <th>42299</th>\n",
       "      <td>HGNC:11728</td>\n",
       "      <td>TERF1</td>\n",
       "      <td>telomeric repeat binding factor 1</td>\n",
       "      <td>Approved</td>\n",
       "      <td>TRBF1</td>\n",
       "      <td>PIN2, TRF1, TRF</td>\n",
       "      <td>8q21.11</td>\n",
       "      <td>U74382</td>\n",
       "      <td>NM_017489</td>\n",
       "      <td>7013.0</td>\n",
       "    </tr>\n",
       "  </tbody>\n",
       "</table>\n",
       "</div>"
      ],
      "text/plain": [
       "          HGNC ID Approved symbol                      Approved name  \\\n",
       "9304   HGNC:15932           EPPIN     epididymal peptidase inhibitor   \n",
       "42299  HGNC:11728           TERF1  telomeric repeat binding factor 1   \n",
       "\n",
       "         Status Previous symbols  \\\n",
       "9304   Approved          SPINLW1   \n",
       "42299  Approved            TRBF1   \n",
       "\n",
       "                                           Alias symbols Chromosome  \\\n",
       "9304   EPPIN1, EPPIN2, EPPIN3, dJ461P17.2, WAP7, WFDC...   20q13.12   \n",
       "42299                                    PIN2, TRF1, TRF    8q21.11   \n",
       "\n",
       "      Accession numbers RefSeq IDs  NCBI Gene ID(supplied by NCBI)  \n",
       "9304           AF286370        NaN                         57119.0  \n",
       "42299            U74382  NM_017489                          7013.0  "
      ]
     },
     "execution_count": 22,
     "metadata": {},
     "output_type": "execute_result"
    }
   ],
   "source": [
    "ids_df2[ids_df2['Alias symbols'].str.contains('PIN2')]"
   ]
  },
  {
   "cell_type": "code",
   "execution_count": 23,
   "metadata": {},
   "outputs": [
    {
     "data": {
      "text/html": [
       "<div>\n",
       "<style scoped>\n",
       "    .dataframe tbody tr th:only-of-type {\n",
       "        vertical-align: middle;\n",
       "    }\n",
       "\n",
       "    .dataframe tbody tr th {\n",
       "        vertical-align: top;\n",
       "    }\n",
       "\n",
       "    .dataframe thead th {\n",
       "        text-align: right;\n",
       "    }\n",
       "</style>\n",
       "<table border=\"1\" class=\"dataframe\">\n",
       "  <thead>\n",
       "    <tr style=\"text-align: right;\">\n",
       "      <th></th>\n",
       "      <th>HGNC ID</th>\n",
       "      <th>Approved symbol</th>\n",
       "      <th>Approved name</th>\n",
       "      <th>Status</th>\n",
       "      <th>Previous symbols</th>\n",
       "      <th>Alias symbols</th>\n",
       "      <th>Chromosome</th>\n",
       "      <th>Accession numbers</th>\n",
       "      <th>RefSeq IDs</th>\n",
       "      <th>NCBI Gene ID(supplied by NCBI)</th>\n",
       "    </tr>\n",
       "  </thead>\n",
       "  <tbody>\n",
       "  </tbody>\n",
       "</table>\n",
       "</div>"
      ],
      "text/plain": [
       "Empty DataFrame\n",
       "Columns: [HGNC ID, Approved symbol, Approved name, Status, Previous symbols, Alias symbols, Chromosome, Accession numbers, RefSeq IDs, NCBI Gene ID(supplied by NCBI)]\n",
       "Index: []"
      ]
     },
     "execution_count": 23,
     "metadata": {},
     "output_type": "execute_result"
    }
   ],
   "source": [
    "ids_df3 = ids_df1[ids_df1['Previous symbols'].notna()]\n",
    "\n",
    "ids_df3[ids_df3['Previous symbols'].str.contains('AC013461.1')]"
   ]
  },
  {
   "cell_type": "code",
   "execution_count": 24,
   "metadata": {},
   "outputs": [],
   "source": [
    "Rset_entrez_ids_full = Rset_entrez_ids + list(d.values())"
   ]
  },
  {
   "cell_type": "code",
   "execution_count": 25,
   "metadata": {},
   "outputs": [
    {
     "data": {
      "text/plain": [
       "(370, 390)"
      ]
     },
     "execution_count": 25,
     "metadata": {},
     "output_type": "execute_result"
    }
   ],
   "source": [
    "len(Rset_entrez_ids), len(Rset_entrez_ids_full)"
   ]
  },
  {
   "cell_type": "code",
   "execution_count": 26,
   "metadata": {},
   "outputs": [
    {
     "name": "stdout",
     "output_type": "stream",
     "text": [
      "390\n"
     ]
    }
   ],
   "source": [
    "rset_convert_dict = dict(zip(ids_df_sel[ids_df_sel['Symbol'].isin(R_Set['gene'].tolist())].GeneID.tolist(), ids_df_sel[ids_df_sel['Symbol'].isin(R_Set['gene'].tolist())].Symbol.tolist()))\n",
    "\n",
    "\n",
    "d1 = {v: k for k, v in d.items()}\n",
    "\n",
    "rset_convert_dict.update(d1)\n",
    "\n",
    "print (len(list(rset_convert_dict.keys())))"
   ]
  },
  {
   "cell_type": "code",
   "execution_count": null,
   "metadata": {},
   "outputs": [],
   "source": []
  },
  {
   "cell_type": "code",
   "execution_count": null,
   "metadata": {},
   "outputs": [],
   "source": []
  },
  {
   "cell_type": "markdown",
   "metadata": {},
   "source": [
    "### Initialize a GOEA object\n"
   ]
  },
  {
   "cell_type": "code",
   "execution_count": 27,
   "metadata": {},
   "outputs": [
    {
     "name": "stdout",
     "output_type": "stream",
     "text": [
      "19621\n"
     ]
    }
   ],
   "source": [
    "GeneID_human = total_found # our gencode25 gene database of converted entrez GeneID\n",
    "print (len(GeneID_human))"
   ]
  },
  {
   "cell_type": "code",
   "execution_count": 28,
   "metadata": {},
   "outputs": [
    {
     "name": "stdout",
     "output_type": "stream",
     "text": [
      "\n",
      "Load BP Gene Ontology Analysis ...\n",
      " 86% 16,954 of 19,621 population items found in association\n",
      "\n",
      "Load CC Gene Ontology Analysis ...\n",
      " 92% 18,070 of 19,621 population items found in association\n",
      "\n",
      "Load MF Gene Ontology Analysis ...\n",
      " 89% 17,433 of 19,621 population items found in association\n"
     ]
    }
   ],
   "source": [
    "from goatools.goea.go_enrichment_ns import GOEnrichmentStudyNS\n",
    "import fisher\n",
    "\n",
    "goeaobj = GOEnrichmentStudyNS(\n",
    "        GeneID_human, # List of human protein-coding genes\n",
    "        ns2assoc, # geneid/GO associations\n",
    "        obodag, # Ontologies\n",
    "        propagate_counts = False,\n",
    "        alpha = 0.1, # default significance cut-off\n",
    "        methods = ['fdr_bh']) # defult multipletest correction method"
   ]
  },
  {
   "cell_type": "code",
   "execution_count": null,
   "metadata": {},
   "outputs": [],
   "source": []
  },
  {
   "cell_type": "code",
   "execution_count": null,
   "metadata": {},
   "outputs": [],
   "source": []
  },
  {
   "cell_type": "markdown",
   "metadata": {},
   "source": [
    "### Run Gene Ontology Enrichment Analysis "
   ]
  },
  {
   "cell_type": "code",
   "execution_count": 29,
   "metadata": {},
   "outputs": [
    {
     "name": "stdout",
     "output_type": "stream",
     "text": [
      "\n",
      "Run BP Gene Ontology Analysis: current study set of 390 IDs ... 94%    364 of    389 study items found in association\n",
      "100%    389 of    390 study items found in population(19621)\n",
      "Calculating 12,337 uncorrected p-values using fisher\n",
      "  12,337 GO terms are associated with 16,954 of 19,621 population items\n",
      "   2,029 GO terms are associated with    364 of    390 study items\n",
      "  METHOD fdr_bh:\n",
      "       0 GO terms found significant (< 0.1=alpha) (  0 enriched +   0 purified): statsmodels fdr_bh\n",
      "       0 study items associated with significant GO IDs (enriched)\n",
      "       0 study items associated with significant GO IDs (purified)\n",
      "\n",
      "Run CC Gene Ontology Analysis: current study set of 390 IDs ... 97%    376 of    389 study items found in association\n",
      "100%    389 of    390 study items found in population(19621)\n",
      "Calculating 1,753 uncorrected p-values using fisher\n",
      "   1,753 GO terms are associated with 18,070 of 19,621 population items\n",
      "     456 GO terms are associated with    376 of    390 study items\n",
      "  METHOD fdr_bh:\n",
      "      15 GO terms found significant (< 0.1=alpha) ( 15 enriched +   0 purified): statsmodels fdr_bh\n",
      "     344 study items associated with significant GO IDs (enriched)\n",
      "       0 study items associated with significant GO IDs (purified)\n",
      "\n",
      "Run MF Gene Ontology Analysis: current study set of 390 IDs ... 96%    374 of    389 study items found in association\n",
      "100%    389 of    390 study items found in population(19621)\n",
      "Calculating 4,429 uncorrected p-values using fisher\n",
      "   4,429 GO terms are associated with 17,433 of 19,621 population items\n",
      "     669 GO terms are associated with    374 of    390 study items\n",
      "  METHOD fdr_bh:\n",
      "       5 GO terms found significant (< 0.1=alpha) (  5 enriched +   0 purified): statsmodels fdr_bh\n",
      "     329 study items associated with significant GO IDs (enriched)\n",
      "       0 study items associated with significant GO IDs (purified)\n"
     ]
    },
    {
     "name": "stderr",
     "output_type": "stream",
     "text": [
      "/home/alla/anaconda3/lib/python3.7/site-packages/statsmodels/tools/_testing.py:19: FutureWarning: pandas.util.testing is deprecated. Use the functions in the public API at pandas.testing instead.\n",
      "  import pandas.util.testing as tm\n"
     ]
    }
   ],
   "source": [
    "# 'p_' means \"pvalue\". 'fdr_bh' is the multipletest method we are currently using.\n",
    "geneids_study = Rset_entrez_ids_full\n",
    "\n",
    "goea_results_all = goeaobj.run_study(geneids_study)\n",
    "\n",
    "goea_results_sig = [r for r in goea_results_all if r.p_fdr_bh < 0.05]"
   ]
  },
  {
   "cell_type": "markdown",
   "metadata": {},
   "source": [
    "### significant results "
   ]
  },
  {
   "cell_type": "code",
   "execution_count": 39,
   "metadata": {},
   "outputs": [
    {
     "name": "stdout",
     "output_type": "stream",
     "text": [
      "13 of 18,519 results were significant\n"
     ]
    }
   ],
   "source": [
    "print('{N} of {M:,} results were significant'.format(\n",
    "    N=len(goea_results_sig),\n",
    "    M=len(goea_results_all)))"
   ]
  },
  {
   "cell_type": "code",
   "execution_count": null,
   "metadata": {},
   "outputs": [],
   "source": []
  },
  {
   "cell_type": "markdown",
   "metadata": {},
   "source": [
    "### enriched vs purified results "
   ]
  },
  {
   "cell_type": "code",
   "execution_count": 40,
   "metadata": {},
   "outputs": [
    {
     "name": "stdout",
     "output_type": "stream",
     "text": [
      "Significant results: 13 enriched, 0 purified\n"
     ]
    }
   ],
   "source": [
    "print('Significant results: {E} enriched, {P} purified'.format(\n",
    "    E=sum(1 for r in goea_results_sig if r.enrichment=='e'),\n",
    "    P=sum(1 for r in goea_results_sig if r.enrichment=='p')))"
   ]
  },
  {
   "cell_type": "code",
   "execution_count": null,
   "metadata": {},
   "outputs": [],
   "source": []
  },
  {
   "cell_type": "markdown",
   "metadata": {},
   "source": [
    "### Significant GOEA results by namespace"
   ]
  },
  {
   "cell_type": "code",
   "execution_count": 41,
   "metadata": {},
   "outputs": [
    {
     "name": "stdout",
     "output_type": "stream",
     "text": [
      "Significant results[13] = 0 BP + 4 MF + 9 CC\n"
     ]
    }
   ],
   "source": [
    "import collections as cx\n",
    "ctr = cx.Counter([r.NS for r in goea_results_sig])\n",
    "print('Significant results[{TOTAL}] = {BP} BP + {MF} MF + {CC} CC'.format(\n",
    "    TOTAL=len(goea_results_sig),\n",
    "    BP=ctr['BP'],  # biological_process\n",
    "    MF=ctr['MF'],  # molecular_function\n",
    "    CC=ctr['CC'])) # cellular_component"
   ]
  },
  {
   "cell_type": "code",
   "execution_count": null,
   "metadata": {},
   "outputs": [],
   "source": []
  },
  {
   "cell_type": "code",
   "execution_count": null,
   "metadata": {},
   "outputs": [],
   "source": []
  },
  {
   "cell_type": "markdown",
   "metadata": {},
   "source": [
    "### Plot significant GO terms (likely to be messy)"
   ]
  },
  {
   "cell_type": "code",
   "execution_count": 42,
   "metadata": {},
   "outputs": [
    {
     "name": "stdout",
     "output_type": "stream",
     "text": [
      "    9 usr  25 GOs  WROTE: nbt3102_CC.png\n",
      "    4 usr  12 GOs  WROTE: nbt3102_MF.png\n"
     ]
    }
   ],
   "source": [
    "from goatools.godag_plot import plot_gos, plot_results, plot_goid2goobj\n",
    "\n",
    "plot_results(\"nbt3102_{NS}.png\", goea_results_sig)"
   ]
  },
  {
   "cell_type": "code",
   "execution_count": null,
   "metadata": {},
   "outputs": [],
   "source": []
  },
  {
   "cell_type": "markdown",
   "metadata": {},
   "source": [
    "# Transform significant results into table"
   ]
  },
  {
   "cell_type": "code",
   "execution_count": 43,
   "metadata": {},
   "outputs": [],
   "source": [
    "li = []\n",
    "\n",
    "for el in goea_results_sig:\n",
    "    go_term  = el.GO\n",
    "    meaning = el.name\n",
    "    hits_sample = '/'.join([str(x) for x in list(el.ratio_in_pop)])\n",
    "    hits_bg = '/'.join([str(x) for x in list(el.ratio_in_study)])\n",
    "    pv = el.p_fdr_bh\n",
    "    genes_ids = list(el.study_items)  \n",
    "    gene_symbols = list(map(rset_convert_dict.get, genes_ids))\n",
    "    \n",
    "    if el.NS == 'BP':\n",
    "        ns = 'biological_process'\n",
    "    elif el.NS == 'MF':\n",
    "        ns = 'molecular_function'\n",
    "    elif el.NS == 'CC':\n",
    "        ns = 'cellular_component'\n",
    "        \n",
    "    level = el.goterm.level\n",
    "    \n",
    "    \n",
    "    li.append([go_term, ns, meaning, level, hits_sample, hits_bg, pv, ', '.join([str(x) for x in genes_ids]), \n",
    "               ', '.join([str(x) for x in gene_symbols])])"
   ]
  },
  {
   "cell_type": "code",
   "execution_count": 44,
   "metadata": {},
   "outputs": [],
   "source": [
    "rset_go_significant = pd.DataFrame(li, columns = ['GO_term', 'category', 'name', 'level',  'hits_sample', 'hits_background', 'pv_adj_fdr', 'NCBIgeneIDs', 'gene_symbols'])\n",
    "\n",
    "rset_go_significant.to_csv('Supplementary_tables_and_plots/tables/rset_GO_significant.txt', sep='\\t', index=False)"
   ]
  },
  {
   "cell_type": "code",
   "execution_count": 45,
   "metadata": {},
   "outputs": [
    {
     "name": "stdout",
     "output_type": "stream",
     "text": [
      "132 139 69\n",
      "58\n",
      "29\n",
      "16\n",
      "9\n"
     ]
    }
   ],
   "source": [
    "nucleoplasm = rset_go_significant[rset_go_significant['name'] == 'nucleoplasm'].iloc[0].gene_symbols.split(', ')\n",
    "cytoplasm = rset_go_significant[rset_go_significant['name'] == 'cytoplasm'].iloc[0].gene_symbols.split(', ')\n",
    "membrane = rset_go_significant[rset_go_significant['name'] == 'membrane'].iloc[0].gene_symbols.split(', ')\n",
    "\n",
    "print (len(nucleoplasm), len(cytoplasm), len(membrane))\n",
    "print (len(set(cytoplasm).intersection(nucleoplasm)))\n",
    "print (len(set(cytoplasm).intersection(membrane)))\n",
    "print (len(set(nucleoplasm).intersection(membrane)))\n",
    "\n",
    "print (len(set(nucleoplasm).intersection(membrane).intersection(cytoplasm)))"
   ]
  },
  {
   "cell_type": "code",
   "execution_count": 49,
   "metadata": {},
   "outputs": [
    {
     "data": {
      "text/plain": [
       "(67, 33, 61)"
      ]
     },
     "execution_count": 49,
     "metadata": {},
     "output_type": "execute_result"
    }
   ],
   "source": [
    "132-7-9-49, 69-7-20-9, 139-9-49-20"
   ]
  },
  {
   "cell_type": "code",
   "execution_count": 46,
   "metadata": {},
   "outputs": [
    {
     "name": "stdout",
     "output_type": "stream",
     "text": [
      "59 323\n",
      "51\n"
     ]
    }
   ],
   "source": [
    "rna_binding = rset_go_significant[rset_go_significant['name'] == 'RNA binding'].iloc[0].gene_symbols.split(', ')\n",
    "protein_binding = rset_go_significant[rset_go_significant['name'] == 'protein binding'].iloc[0].gene_symbols.split(', ')\n",
    "\n",
    "print (len(rna_binding), len(protein_binding))\n",
    "print (len(set(protein_binding).intersection(rna_binding)))"
   ]
  },
  {
   "cell_type": "raw",
   "metadata": {},
   "source": [
    "In addition, significantly enriched 'RNA binding' term (59 genes) and 'protein binding' term (323 genes) have 51 common genes"
   ]
  },
  {
   "cell_type": "markdown",
   "metadata": {},
   "source": [
    "Interestingly, 58 commons genes were found in enriched gene sets associated with term 'nucleoplasm' (132 genes) and 'cytoplasm' (139 genes). "
   ]
  },
  {
   "cell_type": "code",
   "execution_count": null,
   "metadata": {},
   "outputs": [],
   "source": [
    "rset_go_significant"
   ]
  },
  {
   "cell_type": "code",
   "execution_count": null,
   "metadata": {},
   "outputs": [],
   "source": []
  },
  {
   "cell_type": "markdown",
   "metadata": {},
   "source": [
    "# PhyloSET "
   ]
  },
  {
   "cell_type": "markdown",
   "metadata": {},
   "source": [
    "### transform gene symbols into gene IDs "
   ]
  },
  {
   "cell_type": "code",
   "execution_count": 30,
   "metadata": {},
   "outputs": [],
   "source": [
    "# ids_df1 = HGNC gene conversion table\n",
    "# entrez_gene_ids_df\n",
    "# ids_df = gene info\n",
    "\n",
    "ids_df2 = ids_df1[ids_df1['Previous symbols'].notna()]\n",
    "ids_df3 = ids_df1[ids_df1['Alias symbols'].notna()]"
   ]
  },
  {
   "cell_type": "code",
   "execution_count": 31,
   "metadata": {},
   "outputs": [],
   "source": [
    "pset_gene_conversion = ids_df[(ids_df['Symbol'].isin(P_Set.gene.tolist())) & (ids_df['#tax_id'] == 9606)][['GeneID', 'Symbol']].drop_duplicates()"
   ]
  },
  {
   "cell_type": "code",
   "execution_count": 32,
   "metadata": {},
   "outputs": [
    {
     "data": {
      "text/plain": [
       "['GDF5OS', 'H1FX', 'TBC1D29', 'AC007906.1']"
      ]
     },
     "execution_count": 32,
     "metadata": {},
     "output_type": "execute_result"
    }
   ],
   "source": [
    "remaining  = list(set(P_Set.gene.tolist()) - set(pset_gene_conversion.Symbol.tolist()))\n",
    "remaining"
   ]
  },
  {
   "cell_type": "code",
   "execution_count": null,
   "metadata": {},
   "outputs": [],
   "source": [
    "d = {8971: 'H1FX', \n",
    "    # '': 'AC007906.1',  # RP11-295M3 # ENST00000624244.1 (AC007906.1)\n",
    "    554250: 'GDF5OS', \n",
    "    26083: 'TBC1D29'}\n",
    "d"
   ]
  },
  {
   "cell_type": "code",
   "execution_count": null,
   "metadata": {},
   "outputs": [],
   "source": [
    "pset_gene_conversion_dict = dict(zip(pset_gene_conversion.GeneID.tolist(), pset_gene_conversion.Symbol.tolist()))\n",
    "\n",
    "pset_gene_conversion_dict.update(d)\n",
    "\n",
    "pset_gene_conversion_li = list(pset_gene_conversion_dict.keys())\n",
    "\n",
    "print (len(list(pset_gene_conversion_dict.keys())))"
   ]
  },
  {
   "cell_type": "raw",
   "metadata": {},
   "source": [
    "ids_df2[ids_df2['Previous symbols'].str.contains('GC16P053202')] # Previous symbols  Alias symbols "
   ]
  },
  {
   "cell_type": "raw",
   "metadata": {},
   "source": [
    "ids_df3[ids_df3['Alias symbols'].str.contains('RP11-295M3')] # Previous symbols  Alias symbols "
   ]
  },
  {
   "cell_type": "raw",
   "metadata": {},
   "source": [
    "ids_df1[ids_df1['Approved symbol'] == 'RP11-295M3'] # Previous symbols  Alias symbols "
   ]
  },
  {
   "cell_type": "raw",
   "metadata": {},
   "source": [
    "ids_df[ids_df['Symbol'] == 'RP11-295M3']"
   ]
  },
  {
   "cell_type": "raw",
   "metadata": {},
   "source": [
    "P_Set[P_Set['gene'] == 'AC007906.1']"
   ]
  },
  {
   "cell_type": "raw",
   "metadata": {},
   "source": [
    "entrez_gene_ids_df[entrez_gene_ids_df['tr_id'] == 'ENST00000624244.1']"
   ]
  },
  {
   "cell_type": "code",
   "execution_count": null,
   "metadata": {},
   "outputs": [],
   "source": []
  },
  {
   "cell_type": "code",
   "execution_count": null,
   "metadata": {},
   "outputs": [],
   "source": []
  },
  {
   "cell_type": "code",
   "execution_count": null,
   "metadata": {},
   "outputs": [],
   "source": []
  },
  {
   "cell_type": "markdown",
   "metadata": {},
   "source": [
    "### GO enrichment for PhyloSET"
   ]
  },
  {
   "cell_type": "code",
   "execution_count": null,
   "metadata": {},
   "outputs": [],
   "source": [
    "# 'p_' means \"pvalue\". 'fdr_bh' is the multipletest method we are currently using.\n",
    "geneids_study = pset_gene_conversion_li\n",
    "\n",
    "goea_results_all = goeaobj.run_study(geneids_study)\n",
    "\n",
    "goea_results_sig = [r for r in goea_results_all if r.p_fdr_bh < 0.05]"
   ]
  },
  {
   "cell_type": "code",
   "execution_count": null,
   "metadata": {},
   "outputs": [],
   "source": [
    "print('{N} of {M:,} results were significant'.format(\n",
    "    N=len(goea_results_sig),\n",
    "    M=len(goea_results_all)))\n",
    "\n",
    "print('Significant results: {E} enriched, {P} purified'.format(\n",
    "    E=sum(1 for r in goea_results_sig if r.enrichment=='e'),\n",
    "    P=sum(1 for r in goea_results_sig if r.enrichment=='p')))\n",
    "\n",
    "import collections as cx\n",
    "ctr = cx.Counter([r.NS for r in goea_results_sig])\n",
    "print('Significant results[{TOTAL}] = {BP} BP + {MF} MF + {CC} CC'.format(\n",
    "    TOTAL=len(goea_results_sig),\n",
    "    BP=ctr['BP'],  # biological_process\n",
    "    MF=ctr['MF'],  # molecular_function\n",
    "    CC=ctr['CC'])) # cellular_component\n",
    "\n",
    "from goatools.godag_plot import plot_gos, plot_results, plot_goid2goobj\n",
    "\n",
    "plot_results(\"Pset_nbt3102_{NS}.png\", goea_results_sig)"
   ]
  },
  {
   "cell_type": "code",
   "execution_count": null,
   "metadata": {},
   "outputs": [],
   "source": [
    "goea_results_sig"
   ]
  },
  {
   "cell_type": "code",
   "execution_count": null,
   "metadata": {},
   "outputs": [],
   "source": []
  },
  {
   "cell_type": "code",
   "execution_count": null,
   "metadata": {},
   "outputs": [],
   "source": []
  },
  {
   "cell_type": "markdown",
   "metadata": {},
   "source": [
    "# GO enrichment for RiboSET_ext"
   ]
  },
  {
   "cell_type": "code",
   "execution_count": 34,
   "metadata": {},
   "outputs": [
    {
     "data": {
      "text/html": [
       "<div>\n",
       "<style scoped>\n",
       "    .dataframe tbody tr th:only-of-type {\n",
       "        vertical-align: middle;\n",
       "    }\n",
       "\n",
       "    .dataframe tbody tr th {\n",
       "        vertical-align: top;\n",
       "    }\n",
       "\n",
       "    .dataframe thead th {\n",
       "        text-align: right;\n",
       "    }\n",
       "</style>\n",
       "<table border=\"1\" class=\"dataframe\">\n",
       "  <thead>\n",
       "    <tr style=\"text-align: right;\">\n",
       "      <th></th>\n",
       "      <th>tr_id1</th>\n",
       "      <th>Z_score</th>\n",
       "      <th>CDS_coverage</th>\n",
       "      <th>NTE_coverage</th>\n",
       "      <th>CDS_nonzero_fraction</th>\n",
       "      <th>NTE_nonzero_fraction</th>\n",
       "      <th>gene_ext</th>\n",
       "      <th>Start_ext</th>\n",
       "      <th>Stop_ext</th>\n",
       "      <th>global_rank_ext</th>\n",
       "      <th>...</th>\n",
       "      <th>max_sum_overlap_g38_all_exons_strandless</th>\n",
       "      <th>max_sum_overlap_refseq_all_exons</th>\n",
       "      <th>max_sum_overlap_refseq_all_exons_strandless</th>\n",
       "      <th>ovlp</th>\n",
       "      <th>ovlp_strandless</th>\n",
       "      <th>ovlp2</th>\n",
       "      <th>ovlp2_strandless</th>\n",
       "      <th>PhyloCSF120score</th>\n",
       "      <th>number_of_records</th>\n",
       "      <th>records_names</th>\n",
       "    </tr>\n",
       "  </thead>\n",
       "  <tbody>\n",
       "    <tr>\n",
       "      <th>0</th>\n",
       "      <td>ENST00000379454</td>\n",
       "      <td>0.032101</td>\n",
       "      <td>298.318841</td>\n",
       "      <td>317.934783</td>\n",
       "      <td>0.332894</td>\n",
       "      <td>0.260870</td>\n",
       "      <td>ASPH</td>\n",
       "      <td>144</td>\n",
       "      <td>189</td>\n",
       "      <td>1</td>\n",
       "      <td>...</td>\n",
       "      <td>0</td>\n",
       "      <td>0</td>\n",
       "      <td>0</td>\n",
       "      <td>0;0;0</td>\n",
       "      <td>0;0;0</td>\n",
       "      <td>0;0;0;0</td>\n",
       "      <td>0;0;0;0</td>\n",
       "      <td>-1473.5792</td>\n",
       "      <td>93</td>\n",
       "      <td>Human; Chimp; Bonobo; Gorilla; Orangutan; Gibb...</td>\n",
       "    </tr>\n",
       "    <tr>\n",
       "      <th>1</th>\n",
       "      <td>ENST00000216281</td>\n",
       "      <td>0.139750</td>\n",
       "      <td>195.778990</td>\n",
       "      <td>441.650000</td>\n",
       "      <td>0.158709</td>\n",
       "      <td>0.194444</td>\n",
       "      <td>HSP90AA1</td>\n",
       "      <td>168</td>\n",
       "      <td>207</td>\n",
       "      <td>2</td>\n",
       "      <td>...</td>\n",
       "      <td>0</td>\n",
       "      <td>0</td>\n",
       "      <td>0</td>\n",
       "      <td>0;0;0</td>\n",
       "      <td>0;0;0</td>\n",
       "      <td>0;0;0;0</td>\n",
       "      <td>0;0;0;0</td>\n",
       "      <td>-1331.1851</td>\n",
       "      <td>63</td>\n",
       "      <td>Human; Chimp; Gorilla; Orangutan; Gibbon; Crab...</td>\n",
       "    </tr>\n",
       "    <tr>\n",
       "      <th>2</th>\n",
       "      <td>ENST00000409753</td>\n",
       "      <td>-0.352664</td>\n",
       "      <td>750.896774</td>\n",
       "      <td>295.191489</td>\n",
       "      <td>0.331183</td>\n",
       "      <td>0.262411</td>\n",
       "      <td>HN1</td>\n",
       "      <td>242</td>\n",
       "      <td>287</td>\n",
       "      <td>4</td>\n",
       "      <td>...</td>\n",
       "      <td>0</td>\n",
       "      <td>0</td>\n",
       "      <td>0</td>\n",
       "      <td>0;0;0</td>\n",
       "      <td>0;0;0</td>\n",
       "      <td>0;0;0;0</td>\n",
       "      <td>0;0;0;0</td>\n",
       "      <td>-2973.9610</td>\n",
       "      <td>114</td>\n",
       "      <td>Human; Chimp; Bonobo; Gorilla; Gibbon; Rhesus;...</td>\n",
       "    </tr>\n",
       "    <tr>\n",
       "      <th>3</th>\n",
       "      <td>ENST00000321358</td>\n",
       "      <td>0.295986</td>\n",
       "      <td>156.987692</td>\n",
       "      <td>769.086957</td>\n",
       "      <td>0.062564</td>\n",
       "      <td>0.309353</td>\n",
       "      <td>YBX1</td>\n",
       "      <td>44</td>\n",
       "      <td>140</td>\n",
       "      <td>5</td>\n",
       "      <td>...</td>\n",
       "      <td>0</td>\n",
       "      <td>0</td>\n",
       "      <td>0</td>\n",
       "      <td>0;0;0</td>\n",
       "      <td>0;0;0</td>\n",
       "      <td>0;0;0;0</td>\n",
       "      <td>0;0;0;0</td>\n",
       "      <td>-204.2880</td>\n",
       "      <td>107</td>\n",
       "      <td>Human; Chimp; Bonobo; Gorilla; Orangutan; Gibb...</td>\n",
       "    </tr>\n",
       "  </tbody>\n",
       "</table>\n",
       "<p>4 rows × 44 columns</p>\n",
       "</div>"
      ],
      "text/plain": [
       "            tr_id1   Z_score  CDS_coverage  NTE_coverage  \\\n",
       "0  ENST00000379454  0.032101    298.318841    317.934783   \n",
       "1  ENST00000216281  0.139750    195.778990    441.650000   \n",
       "2  ENST00000409753 -0.352664    750.896774    295.191489   \n",
       "3  ENST00000321358  0.295986    156.987692    769.086957   \n",
       "\n",
       "   CDS_nonzero_fraction  NTE_nonzero_fraction  gene_ext  Start_ext  Stop_ext  \\\n",
       "0              0.332894              0.260870      ASPH        144       189   \n",
       "1              0.158709              0.194444  HSP90AA1        168       207   \n",
       "2              0.331183              0.262411       HN1        242       287   \n",
       "3              0.062564              0.309353      YBX1         44       140   \n",
       "\n",
       "   global_rank_ext  ... max_sum_overlap_g38_all_exons_strandless  \\\n",
       "0                1  ...                                        0   \n",
       "1                2  ...                                        0   \n",
       "2                4  ...                                        0   \n",
       "3                5  ...                                        0   \n",
       "\n",
       "   max_sum_overlap_refseq_all_exons  \\\n",
       "0                                 0   \n",
       "1                                 0   \n",
       "2                                 0   \n",
       "3                                 0   \n",
       "\n",
       "   max_sum_overlap_refseq_all_exons_strandless   ovlp ovlp_strandless  \\\n",
       "0                                            0  0;0;0           0;0;0   \n",
       "1                                            0  0;0;0           0;0;0   \n",
       "2                                            0  0;0;0           0;0;0   \n",
       "3                                            0  0;0;0           0;0;0   \n",
       "\n",
       "     ovlp2  ovlp2_strandless  PhyloCSF120score  number_of_records  \\\n",
       "0  0;0;0;0           0;0;0;0        -1473.5792                 93   \n",
       "1  0;0;0;0           0;0;0;0        -1331.1851                 63   \n",
       "2  0;0;0;0           0;0;0;0        -2973.9610                114   \n",
       "3  0;0;0;0           0;0;0;0         -204.2880                107   \n",
       "\n",
       "                                       records_names  \n",
       "0  Human; Chimp; Bonobo; Gorilla; Orangutan; Gibb...  \n",
       "1  Human; Chimp; Gorilla; Orangutan; Gibbon; Crab...  \n",
       "2  Human; Chimp; Bonobo; Gorilla; Gibbon; Rhesus;...  \n",
       "3  Human; Chimp; Bonobo; Gorilla; Orangutan; Gibb...  \n",
       "\n",
       "[4 rows x 44 columns]"
      ]
     },
     "execution_count": 34,
     "metadata": {},
     "output_type": "execute_result"
    }
   ],
   "source": [
    "R_Set_ext = pd.read_csv('revision/Supplementary_tables/Supplementary_table_2_RiboSET_ext.txt', sep='\\t')\n",
    "\n",
    "R_Set_ext[0:4]"
   ]
  },
  {
   "cell_type": "code",
   "execution_count": 35,
   "metadata": {},
   "outputs": [],
   "source": [
    "pset_gene_conversion = ids_df[(ids_df['Symbol'].isin(R_Set_ext.gene.tolist())) & (ids_df['#tax_id'] == 9606)][['GeneID', 'Symbol']].drop_duplicates()"
   ]
  },
  {
   "cell_type": "code",
   "execution_count": 36,
   "metadata": {},
   "outputs": [
    {
     "data": {
      "text/plain": [
       "['ALDH3B2',\n",
       " 'KIAA0930',\n",
       " 'PABPC1L2B',\n",
       " 'GLTP',\n",
       " 'SLC35G5',\n",
       " 'TAF12',\n",
       " 'SULT1A1',\n",
       " 'SLC6A1',\n",
       " 'H1FX',\n",
       " 'GDF5OS',\n",
       " 'RANBP1',\n",
       " 'OAZ3',\n",
       " 'UBE2A',\n",
       " 'MAP3K19',\n",
       " 'GLOD4',\n",
       " 'PABPC1L2A',\n",
       " 'POMZP3',\n",
       " 'ENY2',\n",
       " 'TBC1D29',\n",
       " 'AC007906.1',\n",
       " 'ADCY5',\n",
       " 'PLEKHG3']"
      ]
     },
     "execution_count": 36,
     "metadata": {},
     "output_type": "execute_result"
    }
   ],
   "source": [
    "remaining  = list(set(P_Set.gene.tolist()) - set(pset_gene_conversion.Symbol.tolist()))\n",
    "remaining"
   ]
  },
  {
   "cell_type": "code",
   "execution_count": 37,
   "metadata": {},
   "outputs": [
    {
     "data": {
      "text/plain": [
       "3304"
      ]
     },
     "execution_count": 37,
     "metadata": {},
     "output_type": "execute_result"
    }
   ],
   "source": [
    "len(pset_gene_conversion)"
   ]
  },
  {
   "cell_type": "raw",
   "metadata": {},
   "source": [
    "d = {8971: 'H1FX', \n",
    "    # '': 'AC007906.1',  # RP11-295M3 # ENST00000624244.1 (AC007906.1)\n",
    "    554250: 'GDF5OS', \n",
    "    26083: 'TBC1D29'}\n",
    "d"
   ]
  },
  {
   "cell_type": "code",
   "execution_count": 38,
   "metadata": {},
   "outputs": [
    {
     "name": "stdout",
     "output_type": "stream",
     "text": [
      "3304\n"
     ]
    }
   ],
   "source": [
    "pset_gene_conversion_dict = dict(zip(pset_gene_conversion.GeneID.tolist(), pset_gene_conversion.Symbol.tolist()))\n",
    "\n",
    "#pset_gene_conversion_dict.update(d)\n",
    "\n",
    "pset_gene_conversion_li = list(pset_gene_conversion_dict.keys())\n",
    "\n",
    "print (len(list(pset_gene_conversion_dict.keys())))"
   ]
  },
  {
   "cell_type": "code",
   "execution_count": 39,
   "metadata": {},
   "outputs": [
    {
     "name": "stdout",
     "output_type": "stream",
     "text": [
      "\n",
      "Run BP Gene Ontology Analysis: current study set of 3304 IDs ... 90%  2,966 of  3,304 study items found in association\n",
      "100%  3,304 of  3,304 study items found in population(19621)\n",
      "Calculating 12,337 uncorrected p-values using fisher\n",
      "  12,337 GO terms are associated with 16,954 of 19,621 population items\n",
      "   6,804 GO terms are associated with  2,966 of  3,304 study items\n",
      "  METHOD fdr_bh:\n",
      "      18 GO terms found significant (< 0.1=alpha) ( 11 enriched +   7 purified): statsmodels fdr_bh\n",
      "     676 study items associated with significant GO IDs (enriched)\n",
      "     129 study items associated with significant GO IDs (purified)\n",
      "\n",
      "Run CC Gene Ontology Analysis: current study set of 3304 IDs ... 95%  3,135 of  3,304 study items found in association\n",
      "100%  3,304 of  3,304 study items found in population(19621)\n",
      "Calculating 1,753 uncorrected p-values using fisher\n",
      "   1,753 GO terms are associated with 18,070 of 19,621 population items\n",
      "   1,068 GO terms are associated with  3,135 of  3,304 study items\n",
      "  METHOD fdr_bh:\n",
      "      23 GO terms found significant (< 0.1=alpha) ( 14 enriched +   9 purified): statsmodels fdr_bh\n",
      "   2,420 study items associated with significant GO IDs (enriched)\n",
      "     544 study items associated with significant GO IDs (purified)\n",
      "\n",
      "Run MF Gene Ontology Analysis: current study set of 3304 IDs ... 94%  3,110 of  3,304 study items found in association\n",
      "100%  3,304 of  3,304 study items found in population(19621)\n",
      "Calculating 4,429 uncorrected p-values using fisher\n",
      "   4,429 GO terms are associated with 17,433 of 19,621 population items\n",
      "   2,103 GO terms are associated with  3,110 of  3,304 study items\n",
      "  METHOD fdr_bh:\n",
      "      18 GO terms found significant (< 0.1=alpha) ( 13 enriched +   5 purified): statsmodels fdr_bh\n",
      "   2,630 study items associated with significant GO IDs (enriched)\n",
      "      45 study items associated with significant GO IDs (purified)\n"
     ]
    }
   ],
   "source": [
    "# 'p_' means \"pvalue\". 'fdr_bh' is the multipletest method we are currently using.\n",
    "geneids_study = pset_gene_conversion_li\n",
    "\n",
    "goea_results_all = goeaobj.run_study(geneids_study)\n",
    "\n",
    "goea_results_sig = [r for r in goea_results_all if r.p_fdr_bh < 0.05]"
   ]
  },
  {
   "cell_type": "code",
   "execution_count": 47,
   "metadata": {},
   "outputs": [
    {
     "name": "stdout",
     "output_type": "stream",
     "text": [
      "44 of 18,519 results were significant\n",
      "Significant results: 25 enriched, 19 purified\n",
      "Significant results[44] = 13 BP + 16 MF + 15 CC\n",
      "   13 usr  94 GOs  WROTE: Pset_nbt3102_BP.png\n",
      "   15 usr  36 GOs  WROTE: Pset_nbt3102_CC.png\n",
      "   16 usr  40 GOs  WROTE: Pset_nbt3102_MF.png\n"
     ]
    }
   ],
   "source": [
    "print('{N} of {M:,} results were significant'.format(\n",
    "    N=len(goea_results_sig),\n",
    "    M=len(goea_results_all)))\n",
    "\n",
    "print('Significant results: {E} enriched, {P} purified'.format(\n",
    "    E=sum(1 for r in goea_results_sig if r.enrichment=='e'),\n",
    "    P=sum(1 for r in goea_results_sig if r.enrichment=='p')))\n",
    "\n",
    "import collections as cx\n",
    "ctr = cx.Counter([r.NS for r in goea_results_sig])\n",
    "print('Significant results[{TOTAL}] = {BP} BP + {MF} MF + {CC} CC'.format(\n",
    "    TOTAL=len(goea_results_sig),\n",
    "    BP=ctr['BP'],  # biological_process\n",
    "    MF=ctr['MF'],  # molecular_function\n",
    "    CC=ctr['CC'])) # cellular_component\n",
    "\n",
    "from goatools.godag_plot import plot_gos, plot_results, plot_goid2goobj\n",
    "\n",
    "plot_results(\"Pset_nbt3102_{NS}.png\", goea_results_sig)"
   ]
  },
  {
   "cell_type": "code",
   "execution_count": 51,
   "metadata": {},
   "outputs": [],
   "source": [
    "li = []\n",
    "\n",
    "for el in goea_results_sig:\n",
    "    go_term  = el.GO\n",
    "    meaning = el.name\n",
    "    hits_sample = '/'.join([str(x) for x in list(el.ratio_in_pop)])\n",
    "    hits_bg = '/'.join([str(x) for x in list(el.ratio_in_study)])\n",
    "    pv = el.p_fdr_bh\n",
    "    genes_ids = list(el.study_items)  \n",
    "\n",
    "    gene_symbols = list(map(pset_gene_conversion_dict.get, genes_ids))\n",
    "    \n",
    "    if el.NS == 'BP':\n",
    "        ns = 'biological_process'\n",
    "    elif el.NS == 'MF':\n",
    "        ns = 'molecular_function'\n",
    "    elif el.NS == 'CC':\n",
    "        ns = 'cellular_component'\n",
    "        \n",
    "    level = el.goterm.level\n",
    "    \n",
    "    \n",
    "    li.append([go_term, ns, meaning, level, hits_sample, hits_bg, pv, ', '.join([str(x) for x in genes_ids]), \n",
    "               ', '.join([str(x) for x in gene_symbols])])"
   ]
  },
  {
   "cell_type": "code",
   "execution_count": 52,
   "metadata": {},
   "outputs": [
    {
     "data": {
      "text/plain": [
       "[]"
      ]
     },
     "execution_count": 52,
     "metadata": {},
     "output_type": "execute_result"
    }
   ],
   "source": [
    "genes_ids"
   ]
  },
  {
   "cell_type": "code",
   "execution_count": 55,
   "metadata": {},
   "outputs": [],
   "source": [
    "rset_go_significant = pd.DataFrame(li, columns = ['GO_term', 'category', 'name', 'level',  'hits_bg', \n",
    "                                                  'hits_sample', 'pv_adj_fdr', 'NCBIgeneIDs', 'gene_symbols'])\n",
    "\n",
    "rset_go_significant.to_csv('revision/Supplementary_tables/RiboSET_ext_GO.txt', sep='\\t', index=False)"
   ]
  },
  {
   "cell_type": "code",
   "execution_count": 60,
   "metadata": {},
   "outputs": [
    {
     "data": {
      "text/html": [
       "<div>\n",
       "<style scoped>\n",
       "    .dataframe tbody tr th:only-of-type {\n",
       "        vertical-align: middle;\n",
       "    }\n",
       "\n",
       "    .dataframe tbody tr th {\n",
       "        vertical-align: top;\n",
       "    }\n",
       "\n",
       "    .dataframe thead th {\n",
       "        text-align: right;\n",
       "    }\n",
       "</style>\n",
       "<table border=\"1\" class=\"dataframe\">\n",
       "  <thead>\n",
       "    <tr style=\"text-align: right;\">\n",
       "      <th></th>\n",
       "      <th>GO_term</th>\n",
       "      <th>name</th>\n",
       "      <th>level</th>\n",
       "      <th>hits_bg</th>\n",
       "      <th>hits_sample</th>\n",
       "      <th>pv_adj_fdr</th>\n",
       "      <th>NCBIgeneIDs</th>\n",
       "      <th>gene_symbols</th>\n",
       "    </tr>\n",
       "    <tr>\n",
       "      <th>category</th>\n",
       "      <th></th>\n",
       "      <th></th>\n",
       "      <th></th>\n",
       "      <th></th>\n",
       "      <th></th>\n",
       "      <th></th>\n",
       "      <th></th>\n",
       "      <th></th>\n",
       "    </tr>\n",
       "  </thead>\n",
       "  <tbody>\n",
       "    <tr>\n",
       "      <th>biological_process</th>\n",
       "      <td>13</td>\n",
       "      <td>13</td>\n",
       "      <td>13</td>\n",
       "      <td>13</td>\n",
       "      <td>13</td>\n",
       "      <td>13</td>\n",
       "      <td>13</td>\n",
       "      <td>13</td>\n",
       "    </tr>\n",
       "    <tr>\n",
       "      <th>cellular_component</th>\n",
       "      <td>13</td>\n",
       "      <td>13</td>\n",
       "      <td>13</td>\n",
       "      <td>13</td>\n",
       "      <td>13</td>\n",
       "      <td>13</td>\n",
       "      <td>13</td>\n",
       "      <td>13</td>\n",
       "    </tr>\n",
       "    <tr>\n",
       "      <th>molecular_function</th>\n",
       "      <td>14</td>\n",
       "      <td>14</td>\n",
       "      <td>14</td>\n",
       "      <td>14</td>\n",
       "      <td>14</td>\n",
       "      <td>14</td>\n",
       "      <td>14</td>\n",
       "      <td>14</td>\n",
       "    </tr>\n",
       "  </tbody>\n",
       "</table>\n",
       "</div>"
      ],
      "text/plain": [
       "                    GO_term  name  level  hits_bg  hits_sample  pv_adj_fdr  \\\n",
       "category                                                                     \n",
       "biological_process       13    13     13       13           13          13   \n",
       "cellular_component       13    13     13       13           13          13   \n",
       "molecular_function       14    14     14       14           14          14   \n",
       "\n",
       "                    NCBIgeneIDs  gene_symbols  \n",
       "category                                       \n",
       "biological_process           13            13  \n",
       "cellular_component           13            13  \n",
       "molecular_function           14            14  "
      ]
     },
     "execution_count": 60,
     "metadata": {},
     "output_type": "execute_result"
    }
   ],
   "source": [
    "rset_go_significant[rset_go_significant['hits_sample'] != '0/3304'].groupby(by='category').count()"
   ]
  },
  {
   "cell_type": "code",
   "execution_count": 63,
   "metadata": {},
   "outputs": [],
   "source": [
    "a = rset_go_significant[rset_go_significant['hits_sample'] != '0/3304']"
   ]
  },
  {
   "cell_type": "code",
   "execution_count": 68,
   "metadata": {},
   "outputs": [],
   "source": [
    "nucleoplasm = a[a['name'] == 'nucleoplasm'].iloc[0].gene_symbols.split(', ')"
   ]
  },
  {
   "cell_type": "code",
   "execution_count": 69,
   "metadata": {},
   "outputs": [],
   "source": [
    "cytoplasm = a[a['name'] == 'cytoplasm'].iloc[0].gene_symbols.split(', ')"
   ]
  },
  {
   "cell_type": "code",
   "execution_count": 70,
   "metadata": {},
   "outputs": [],
   "source": [
    "membrane = a[a['name'] == 'membrane'].iloc[0].gene_symbols.split(', ')"
   ]
  },
  {
   "cell_type": "code",
   "execution_count": 72,
   "metadata": {},
   "outputs": [
    {
     "data": {
      "text/plain": [
       "292"
      ]
     },
     "execution_count": 72,
     "metadata": {},
     "output_type": "execute_result"
    }
   ],
   "source": [
    "len(set(nucleoplasm).intersection(cytoplasm))"
   ]
  },
  {
   "cell_type": "code",
   "execution_count": 73,
   "metadata": {},
   "outputs": [
    {
     "data": {
      "text/plain": [
       "138"
      ]
     },
     "execution_count": 73,
     "metadata": {},
     "output_type": "execute_result"
    }
   ],
   "source": [
    "len(set(membrane).intersection(cytoplasm))"
   ]
  },
  {
   "cell_type": "code",
   "execution_count": 74,
   "metadata": {},
   "outputs": [
    {
     "data": {
      "text/plain": [
       "83"
      ]
     },
     "execution_count": 74,
     "metadata": {},
     "output_type": "execute_result"
    }
   ],
   "source": [
    "len(set(nucleoplasm).intersection(membrane))"
   ]
  },
  {
   "cell_type": "code",
   "execution_count": 75,
   "metadata": {},
   "outputs": [
    {
     "data": {
      "text/plain": [
       "(771, 426, 904)"
      ]
     },
     "execution_count": 75,
     "metadata": {},
     "output_type": "execute_result"
    }
   ],
   "source": [
    "len(nucleoplasm), len(membrane), len(cytoplasm)"
   ]
  },
  {
   "cell_type": "code",
   "execution_count": null,
   "metadata": {},
   "outputs": [],
   "source": []
  }
 ],
 "metadata": {
  "kernelspec": {
   "display_name": "Python 3",
   "language": "python",
   "name": "python3"
  },
  "language_info": {
   "codemirror_mode": {
    "name": "ipython",
    "version": 3
   },
   "file_extension": ".py",
   "mimetype": "text/x-python",
   "name": "python",
   "nbconvert_exporter": "python",
   "pygments_lexer": "ipython3",
   "version": "3.7.6"
  }
 },
 "nbformat": 4,
 "nbformat_minor": 2
}
