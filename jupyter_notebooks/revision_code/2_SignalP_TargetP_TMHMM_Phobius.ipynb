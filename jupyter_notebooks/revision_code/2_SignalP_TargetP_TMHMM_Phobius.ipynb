{
 "cells": [
  {
   "cell_type": "code",
   "execution_count": 6,
   "metadata": {},
   "outputs": [],
   "source": [
    "%matplotlib inline\n",
    "\n",
    "\n",
    "import numpy as np\n",
    "from collections import OrderedDict, Counter, defaultdict\n",
    "import pandas as pd\n",
    "\n",
    "import Bio\n",
    "from Bio import SeqIO\n",
    "from Bio.Seq import Seq\n",
    "\n",
    "import seaborn as sns\n",
    "import matplotlib.pyplot as plt\n",
    "\n",
    "import glob\n",
    "\n",
    "import subprocess\n",
    "from subprocess import call\n",
    "\n",
    "import re\n",
    "\n",
    "import warnings\n",
    "warnings.simplefilter(action='ignore', category=FutureWarning)\n",
    "\n",
    "import pandas\n",
    "\n",
    "import pickle\n",
    "\n",
    "from scipy.stats import fisher_exact\n",
    "\n",
    "from matplotlib.collections import PatchCollection\n",
    "from matplotlib.patches import Rectangle\n",
    "import matplotlib.patches as mpatches"
   ]
  },
  {
   "cell_type": "markdown",
   "metadata": {},
   "source": [
    "# Metadata, RiboSET, PhyloSET, RiboSET_ext"
   ]
  },
  {
   "cell_type": "code",
   "execution_count": 7,
   "metadata": {},
   "outputs": [],
   "source": [
    "metadata_pc_g25 = pd.read_csv('../../tmp_res/metadata_pc_g25.txt', sep='\\t')\n",
    "meta = pd.read_csv('../../tmp_res/local_and_global_df_g25ovlp_g35ovlp_g38ovlp_refseqovlp_strand_FRAMES_PhyloCSF.txt', sep='\\t')"
   ]
  },
  {
   "cell_type": "code",
   "execution_count": 8,
   "metadata": {},
   "outputs": [
    {
     "name": "stdout",
     "output_type": "stream",
     "text": [
      "390\n"
     ]
    }
   ],
   "source": [
    "# open SET1 (PhyloSET) and SET2 (RiboSET)\n",
    "PhyloSET = pd.read_csv('../../tmp_res/SET1.txt', sep='\\t')\n",
    "\n",
    "RiboSET = pd.read_csv('../../tmp_res/SET2.txt', sep='\\t')\n",
    "RiboSET['tr_id1'] = [x.split('.')[0] for x in RiboSET['tr_id'].tolist()]\n",
    "RiboSET = RiboSET[(~RiboSET['Riboseq_Summary'].str.contains('ATG')) & \n",
    "                  (~RiboSET['tr_id'].str.contains('PAR'))]\n",
    "print (RiboSET.shape[0])"
   ]
  },
  {
   "cell_type": "code",
   "execution_count": 9,
   "metadata": {},
   "outputs": [
    {
     "name": "stdout",
     "output_type": "stream",
     "text": [
      "1_Transcripts_without_upstream_initiation.ipynb\r\n",
      "2_extended_top_5000_RiboSET.ipynb\r\n",
      "3_localisation_prediction_SignalP_TargetP_TMHMM_Phobius.ipynb\r\n",
      "4_Set_enrichment_and_UpsetR.ipynb\r\n",
      "jupyters\r\n",
      "plots\r\n",
      "profiles\r\n",
      "RiboSET_extended_top5000_filtered.txt\r\n",
      "Supplementary_tables\r\n",
      "Supplementary_tablesRiboSET_ext_loc_HPA.txt\r\n",
      "tmp_res\r\n"
     ]
    }
   ],
   "source": [
    "!ls ../"
   ]
  },
  {
   "cell_type": "code",
   "execution_count": 10,
   "metadata": {},
   "outputs": [],
   "source": [
    "RiboSET['strand'] = RiboSET['strand'].map({'+':'plus', '-':'minus'})\n",
    "\n",
    "RiboSET.to_csv('../Supplementary_tables/Supplementary_table_1_RiboSET.txt', sep='\\t', index=False)\n",
    "\n",
    "PhyloSET['strand'] = PhyloSET['strand'].map({'+':'plus', '-':'minus'})\n",
    "\n",
    "PhyloSET.to_csv('../Supplementary_tables/Supplementary_table_1_PhyloSET.txt', sep='\\t', index=False)"
   ]
  },
  {
   "cell_type": "code",
   "execution_count": 11,
   "metadata": {},
   "outputs": [
    {
     "name": "stdout",
     "output_type": "stream",
     "text": [
      "3451\n"
     ]
    },
    {
     "data": {
      "text/html": [
       "<div>\n",
       "<style scoped>\n",
       "    .dataframe tbody tr th:only-of-type {\n",
       "        vertical-align: middle;\n",
       "    }\n",
       "\n",
       "    .dataframe tbody tr th {\n",
       "        vertical-align: top;\n",
       "    }\n",
       "\n",
       "    .dataframe thead th {\n",
       "        text-align: right;\n",
       "    }\n",
       "</style>\n",
       "<table border=\"1\" class=\"dataframe\">\n",
       "  <thead>\n",
       "    <tr style=\"text-align: right;\">\n",
       "      <th></th>\n",
       "      <th>tr_id1</th>\n",
       "      <th>Z_score</th>\n",
       "      <th>CDS_coverage</th>\n",
       "      <th>NTE_coverage</th>\n",
       "      <th>CDS_nonzero_fraction</th>\n",
       "      <th>NTE_nonzero_fraction</th>\n",
       "      <th>gene_ext</th>\n",
       "      <th>Start_ext</th>\n",
       "      <th>Stop_ext</th>\n",
       "      <th>global_rank_ext</th>\n",
       "      <th>...</th>\n",
       "      <th>max_sum_overlap_g38_all_exons_strandless</th>\n",
       "      <th>max_sum_overlap_refseq_all_exons</th>\n",
       "      <th>max_sum_overlap_refseq_all_exons_strandless</th>\n",
       "      <th>ovlp</th>\n",
       "      <th>ovlp_strandless</th>\n",
       "      <th>ovlp2</th>\n",
       "      <th>ovlp2_strandless</th>\n",
       "      <th>PhyloCSF120score</th>\n",
       "      <th>number_of_records</th>\n",
       "      <th>records_names</th>\n",
       "    </tr>\n",
       "  </thead>\n",
       "  <tbody>\n",
       "    <tr>\n",
       "      <th>0</th>\n",
       "      <td>ENST00000379454</td>\n",
       "      <td>0.032101</td>\n",
       "      <td>298.318841</td>\n",
       "      <td>317.934783</td>\n",
       "      <td>0.332894</td>\n",
       "      <td>0.260870</td>\n",
       "      <td>ASPH</td>\n",
       "      <td>144</td>\n",
       "      <td>189</td>\n",
       "      <td>1</td>\n",
       "      <td>...</td>\n",
       "      <td>0</td>\n",
       "      <td>0</td>\n",
       "      <td>0</td>\n",
       "      <td>0;0;0</td>\n",
       "      <td>0;0;0</td>\n",
       "      <td>0;0;0;0</td>\n",
       "      <td>0;0;0;0</td>\n",
       "      <td>-1473.5792</td>\n",
       "      <td>93</td>\n",
       "      <td>Human; Chimp; Bonobo; Gorilla; Orangutan; Gibb...</td>\n",
       "    </tr>\n",
       "    <tr>\n",
       "      <th>1</th>\n",
       "      <td>ENST00000216281</td>\n",
       "      <td>0.139750</td>\n",
       "      <td>195.778990</td>\n",
       "      <td>441.650000</td>\n",
       "      <td>0.158709</td>\n",
       "      <td>0.194444</td>\n",
       "      <td>HSP90AA1</td>\n",
       "      <td>168</td>\n",
       "      <td>207</td>\n",
       "      <td>2</td>\n",
       "      <td>...</td>\n",
       "      <td>0</td>\n",
       "      <td>0</td>\n",
       "      <td>0</td>\n",
       "      <td>0;0;0</td>\n",
       "      <td>0;0;0</td>\n",
       "      <td>0;0;0;0</td>\n",
       "      <td>0;0;0;0</td>\n",
       "      <td>-1331.1851</td>\n",
       "      <td>63</td>\n",
       "      <td>Human; Chimp; Gorilla; Orangutan; Gibbon; Crab...</td>\n",
       "    </tr>\n",
       "  </tbody>\n",
       "</table>\n",
       "<p>2 rows × 44 columns</p>\n",
       "</div>"
      ],
      "text/plain": [
       "            tr_id1   Z_score  CDS_coverage  NTE_coverage  \\\n",
       "0  ENST00000379454  0.032101    298.318841    317.934783   \n",
       "1  ENST00000216281  0.139750    195.778990    441.650000   \n",
       "\n",
       "   CDS_nonzero_fraction  NTE_nonzero_fraction  gene_ext  Start_ext  Stop_ext  \\\n",
       "0              0.332894              0.260870      ASPH        144       189   \n",
       "1              0.158709              0.194444  HSP90AA1        168       207   \n",
       "\n",
       "   global_rank_ext  ... max_sum_overlap_g38_all_exons_strandless  \\\n",
       "0                1  ...                                        0   \n",
       "1                2  ...                                        0   \n",
       "\n",
       "   max_sum_overlap_refseq_all_exons  \\\n",
       "0                                 0   \n",
       "1                                 0   \n",
       "\n",
       "   max_sum_overlap_refseq_all_exons_strandless   ovlp ovlp_strandless  \\\n",
       "0                                            0  0;0;0           0;0;0   \n",
       "1                                            0  0;0;0           0;0;0   \n",
       "\n",
       "     ovlp2  ovlp2_strandless  PhyloCSF120score  number_of_records  \\\n",
       "0  0;0;0;0           0;0;0;0        -1473.5792                 93   \n",
       "1  0;0;0;0           0;0;0;0        -1331.1851                 63   \n",
       "\n",
       "                                       records_names  \n",
       "0  Human; Chimp; Bonobo; Gorilla; Orangutan; Gibb...  \n",
       "1  Human; Chimp; Gorilla; Orangutan; Gibbon; Crab...  \n",
       "\n",
       "[2 rows x 44 columns]"
      ]
     },
     "execution_count": 11,
     "metadata": {},
     "output_type": "execute_result"
    }
   ],
   "source": [
    "RiboSET_EXT_cds_cov_nonzero = pd.read_csv('FINAL_RiboSET_EXT_cds_cov_nonzero_theor_len_20codons_3532genes.txt', \n",
    "                                  sep='\\t')\n",
    "\n",
    "\n",
    "print (RiboSET_EXT_cds_cov_nonzero.shape[0])\n",
    "\n",
    "RiboSET_EXT_cds_cov_nonzero['strand'] = RiboSET_EXT_cds_cov_nonzero['strand'].map({'+':'plus', '-':'minus'})\n",
    "\n",
    "RiboSET_EXT_cds_cov_nonzero[0:2]"
   ]
  },
  {
   "cell_type": "code",
   "execution_count": 12,
   "metadata": {},
   "outputs": [],
   "source": [
    "RiboSET_EXT_cds_cov_nonzero.to_csv('../Supplementary_tables/Supplementary_table_2_RiboSET_ext.txt', sep='\\t', index=False)"
   ]
  },
  {
   "cell_type": "code",
   "execution_count": null,
   "metadata": {},
   "outputs": [],
   "source": []
  },
  {
   "cell_type": "code",
   "execution_count": null,
   "metadata": {},
   "outputs": [],
   "source": []
  },
  {
   "cell_type": "code",
   "execution_count": null,
   "metadata": {},
   "outputs": [],
   "source": []
  },
  {
   "cell_type": "markdown",
   "metadata": {},
   "source": [
    "# Matching set to RiboSET and RiboSET ext"
   ]
  },
  {
   "cell_type": "code",
   "execution_count": 13,
   "metadata": {},
   "outputs": [
    {
     "data": {
      "text/html": [
       "<div>\n",
       "<style scoped>\n",
       "    .dataframe tbody tr th:only-of-type {\n",
       "        vertical-align: middle;\n",
       "    }\n",
       "\n",
       "    .dataframe tbody tr th {\n",
       "        vertical-align: top;\n",
       "    }\n",
       "\n",
       "    .dataframe thead th {\n",
       "        text-align: right;\n",
       "    }\n",
       "</style>\n",
       "<table border=\"1\" class=\"dataframe\">\n",
       "  <thead>\n",
       "    <tr style=\"text-align: right;\">\n",
       "      <th></th>\n",
       "      <th>tr_id1</th>\n",
       "      <th>Z_score</th>\n",
       "      <th>CDS_coverage</th>\n",
       "      <th>NTE_coverage</th>\n",
       "      <th>CDS_nonzero_fraction</th>\n",
       "      <th>NTE_nonzero_fraction</th>\n",
       "      <th>gene</th>\n",
       "      <th>ovlp</th>\n",
       "    </tr>\n",
       "  </thead>\n",
       "  <tbody>\n",
       "    <tr>\n",
       "      <th>0</th>\n",
       "      <td>ENST00000374644</td>\n",
       "      <td>-0.360191</td>\n",
       "      <td>1.004032</td>\n",
       "      <td>0.0</td>\n",
       "      <td>0.393145</td>\n",
       "      <td>0.0</td>\n",
       "      <td>EPHA8</td>\n",
       "      <td>0;0;0</td>\n",
       "    </tr>\n",
       "    <tr>\n",
       "      <th>1</th>\n",
       "      <td>ENST00000360295</td>\n",
       "      <td>-0.360690</td>\n",
       "      <td>1.018109</td>\n",
       "      <td>0.0</td>\n",
       "      <td>0.303823</td>\n",
       "      <td>0.0</td>\n",
       "      <td>SEZ6</td>\n",
       "      <td>0;0;0</td>\n",
       "    </tr>\n",
       "    <tr>\n",
       "      <th>2</th>\n",
       "      <td>ENST00000409204</td>\n",
       "      <td>-0.598664</td>\n",
       "      <td>1.018908</td>\n",
       "      <td>0.0</td>\n",
       "      <td>0.477941</td>\n",
       "      <td>0.0</td>\n",
       "      <td>PCDH20</td>\n",
       "      <td>0;0;0</td>\n",
       "    </tr>\n",
       "  </tbody>\n",
       "</table>\n",
       "</div>"
      ],
      "text/plain": [
       "            tr_id1   Z_score  CDS_coverage  NTE_coverage  \\\n",
       "0  ENST00000374644 -0.360191      1.004032           0.0   \n",
       "1  ENST00000360295 -0.360690      1.018109           0.0   \n",
       "2  ENST00000409204 -0.598664      1.018908           0.0   \n",
       "\n",
       "   CDS_nonzero_fraction  NTE_nonzero_fraction    gene   ovlp  \n",
       "0              0.393145                   0.0   EPHA8  0;0;0  \n",
       "1              0.303823                   0.0    SEZ6  0;0;0  \n",
       "2              0.477941                   0.0  PCDH20  0;0;0  "
      ]
     },
     "execution_count": 13,
     "metadata": {},
     "output_type": "execute_result"
    }
   ],
   "source": [
    "subset = pd.read_csv('all_subset_FINAL.txt', sep='\\t')\n",
    "subset[0:3]"
   ]
  },
  {
   "cell_type": "code",
   "execution_count": 14,
   "metadata": {},
   "outputs": [
    {
     "data": {
      "text/plain": [
       "384"
      ]
     },
     "execution_count": 14,
     "metadata": {},
     "output_type": "execute_result"
    }
   ],
   "source": [
    "subset.shape[0]"
   ]
  },
  {
   "cell_type": "code",
   "execution_count": 15,
   "metadata": {},
   "outputs": [],
   "source": [
    "subset.to_csv('../Supplementary_tables/Supplementary_table_1_UntranslSET_ext.txt', sep='\\t', index=False)"
   ]
  },
  {
   "cell_type": "code",
   "execution_count": null,
   "metadata": {},
   "outputs": [],
   "source": []
  },
  {
   "cell_type": "markdown",
   "metadata": {},
   "source": [
    "# SignalP"
   ]
  },
  {
   "cell_type": "markdown",
   "metadata": {},
   "source": [
    "# RiboSET"
   ]
  },
  {
   "cell_type": "code",
   "execution_count": 34,
   "metadata": {},
   "outputs": [],
   "source": [
    "RiboSET['start_codon_local_coo_start'] = [int(x.split('; ')[1].split('-')[0])-1 for x in RiboSET['Riboseq_Summary'].tolist()]\n",
    "\n",
    "riboset_fasta = open('localisation/RiboSET_theor_ext.fasta', 'w')\n",
    "\n",
    "li = []\n",
    "\n",
    "for row in RiboSET[['tr_id', 'gene', 'N_term_start1', 'N_term_end1', 'start_codon_local_coo_start']].to_numpy():\n",
    "    tr_id  = row[0]\n",
    "    gene = row[1]\n",
    "    N_term_start = row[2]\n",
    "    N_term_stop = row[3]\n",
    "    N_term_start_pred = row[-1] \n",
    "    tr_seq = metadata_pc_g25[metadata_pc_g25['tr_id'] == tr_id].iloc[0].transcript_seq \n",
    "    cds_stop = metadata_pc_g25[metadata_pc_g25['tr_id'] == tr_id].iloc[0].cds_stop_pos\n",
    "    cds_start = metadata_pc_g25[metadata_pc_g25['tr_id'] == tr_id].iloc[0].cds_start_pos\n",
    "    \n",
    "    nte_seq_nt1 = tr_seq[N_term_start:cds_stop]\n",
    "    nte_seq_nt2 = tr_seq[N_term_start_pred:cds_stop]\n",
    "    \n",
    "    nte_seq_aa1 = str(Seq(nte_seq_nt1).translate())\n",
    "    nte_seq_aa2 = 'M'+str(Seq(nte_seq_nt2).translate())[1:]\n",
    "    \n",
    "    # position of CDS in NTE_aa: \n",
    "    # 5'    N_term_start_pred    cds_start_pos\n",
    "    # \n",
    "    \n",
    "    # CDS START IN THEOR EXT\n",
    "    cds_start_aa_in_ext2 = (cds_start - N_term_start) // 3\n",
    "    \n",
    "    li.append([tr_id, gene, nte_seq_aa1, nte_seq_aa2, cds_start_aa_in_ext2, \n",
    "              cds_start_aa_in_ext2])\n",
    "    \n",
    "    riboset_fasta.write('>'+tr_id+'_'+gene+'\\n')\n",
    "    riboset_fasta.write(nte_seq_aa1+'\\n')\n",
    "  \n",
    "riboset_fasta.close()\n",
    "        \n",
    "NTE_aa_df_ribo = pd.DataFrame(li, columns = ['tr_id', 'gene', 'nte_seq_aa1', 'nte_seq_aa2',\n",
    "                                       'cds_start_aa_in_ext2', 'ext_len'])\n"
   ]
  },
  {
   "cell_type": "code",
   "execution_count": 35,
   "metadata": {},
   "outputs": [
    {
     "name": "stdout",
     "output_type": "stream",
     "text": [
      "ADAM15, CRIPT, TSN, ZNF622, GINS4, POLR1E, TCF7L2, ZIC2, SUPT4H1, RAE1\n"
     ]
    },
    {
     "name": "stderr",
     "output_type": "stream",
     "text": [
      "/home/alla/.local/lib/python3.7/site-packages/ipykernel_launcher.py:10: SettingWithCopyWarning: \n",
      "A value is trying to be set on a copy of a slice from a DataFrame.\n",
      "Try using .loc[row_indexer,col_indexer] = value instead\n",
      "\n",
      "See the caveats in the documentation: https://pandas.pydata.org/pandas-docs/stable/user_guide/indexing.html#returning-a-view-versus-a-copy\n",
      "  # Remove the CWD from sys.path while we load stuff.\n"
     ]
    },
    {
     "data": {
      "text/plain": [
       "10"
      ]
     },
     "execution_count": 35,
     "metadata": {},
     "output_type": "execute_result"
    }
   ],
   "source": [
    "signalP_df_r = pd.read_csv('localisation/SignalP/RiboSET_theor_ext_SignalP.txt', sep='\\t', comment='#', header=None)\n",
    "signalP_df_r.columns = ['id', 'class', 'SP_score', 'Other_score', 'SP_seq']\n",
    "signalP_df_r['tr_id'] = [x.split('_')[0] for x in signalP_df_r['id'].tolist()]\n",
    "signalP_df_r['gene'] = [x.split('_')[-1] for x in signalP_df_r['id'].tolist()]\n",
    "\n",
    "# exclude AUGs \n",
    "signalP_df_r = signalP_df_r[~signalP_df_r['gene'].isin(['STIM2', 'AP3S1', 'PTPRJ'])]\n",
    "\n",
    "tmp = signalP_df_r[(signalP_df_r['class'] != 'OTHER') & (signalP_df_r['SP_seq'] != 'CS pos: ?. Probable protein fragment')]\n",
    "tmp['SP_end_pos'] = [int(x.split('CS pos: ')[1].split('-')[0]) for x in tmp['SP_seq'].tolist()]\n",
    "tmp = tmp.merge(NTE_aa_df_ribo[['tr_id', 'gene', 'cds_start_aa_in_ext2']], on=['tr_id', 'gene'], how='inner')\n",
    "tmp['SP_start_pos'] = tmp['SP_end_pos'] - 16\n",
    "\n",
    "### genes with CS-16 position before CDS \n",
    "print (', '.join(tmp[tmp['cds_start_aa_in_ext2'] >= tmp['SP_start_pos']]['gene'].tolist()))\n",
    "\n",
    "len(tmp[tmp['cds_start_aa_in_ext2'] >= tmp['SP_start_pos']]['gene'].tolist())"
   ]
  },
  {
   "cell_type": "raw",
   "metadata": {},
   "source": [
    "d = {'RiboSET': 10, \n",
    " 'PhyloSET': x, \n",
    " 'RiboSET_ext': x,\n",
    " 'UntranslSET': x,\n",
    " 'UtranslSET_ext': x,\n",
    "\n",
    "}"
   ]
  },
  {
   "cell_type": "code",
   "execution_count": 19,
   "metadata": {},
   "outputs": [],
   "source": [
    "tmp[tmp['cds_start_aa_in_ext2'] >= tmp['SP_start_pos']].to_csv('../Supplementary_tables/RiboSET_SignalP.txt', sep='\\t', index=False)"
   ]
  },
  {
   "cell_type": "code",
   "execution_count": null,
   "metadata": {},
   "outputs": [],
   "source": [
    "tmp[tmp['cds_start_aa_in_ext2'] >= tmp['SP_start_pos']]"
   ]
  },
  {
   "cell_type": "code",
   "execution_count": 36,
   "metadata": {},
   "outputs": [
    {
     "data": {
      "text/html": [
       "<div>\n",
       "<style scoped>\n",
       "    .dataframe tbody tr th:only-of-type {\n",
       "        vertical-align: middle;\n",
       "    }\n",
       "\n",
       "    .dataframe tbody tr th {\n",
       "        vertical-align: top;\n",
       "    }\n",
       "\n",
       "    .dataframe thead th {\n",
       "        text-align: right;\n",
       "    }\n",
       "</style>\n",
       "<table border=\"1\" class=\"dataframe\">\n",
       "  <thead>\n",
       "    <tr style=\"text-align: right;\">\n",
       "      <th></th>\n",
       "      <th>id</th>\n",
       "      <th>class</th>\n",
       "      <th>SP_score</th>\n",
       "      <th>Other_score</th>\n",
       "      <th>SP_seq</th>\n",
       "      <th>tr_id</th>\n",
       "      <th>gene</th>\n",
       "      <th>SP_end_pos</th>\n",
       "      <th>cds_start_aa_in_ext2</th>\n",
       "      <th>SP_start_pos</th>\n",
       "    </tr>\n",
       "  </thead>\n",
       "  <tbody>\n",
       "    <tr>\n",
       "      <th>1</th>\n",
       "      <td>ENST00000238892.3_CRIPT</td>\n",
       "      <td>SP(Sec/SPI)</td>\n",
       "      <td>0.992859</td>\n",
       "      <td>0.007141</td>\n",
       "      <td>CS pos: 30-31. SWG-RM. Pr: 0.7394</td>\n",
       "      <td>ENST00000238892.3</td>\n",
       "      <td>CRIPT</td>\n",
       "      <td>30</td>\n",
       "      <td>31</td>\n",
       "      <td>14</td>\n",
       "    </tr>\n",
       "    <tr>\n",
       "      <th>2</th>\n",
       "      <td>ENST00000389682.7_TSN</td>\n",
       "      <td>SP(Sec/SPI)</td>\n",
       "      <td>0.728701</td>\n",
       "      <td>0.271299</td>\n",
       "      <td>CS pos: 18-19. TLA-DC. Pr: 0.2152</td>\n",
       "      <td>ENST00000389682.7</td>\n",
       "      <td>TSN</td>\n",
       "      <td>18</td>\n",
       "      <td>25</td>\n",
       "      <td>2</td>\n",
       "    </tr>\n",
       "    <tr>\n",
       "      <th>5</th>\n",
       "      <td>ENST00000276533.3_GINS4</td>\n",
       "      <td>SP(Sec/SPI)</td>\n",
       "      <td>0.753739</td>\n",
       "      <td>0.246261</td>\n",
       "      <td>CS pos: 19-20. SWC-PD. Pr: 0.3796</td>\n",
       "      <td>ENST00000276533.3</td>\n",
       "      <td>GINS4</td>\n",
       "      <td>19</td>\n",
       "      <td>51</td>\n",
       "      <td>3</td>\n",
       "    </tr>\n",
       "    <tr>\n",
       "      <th>6</th>\n",
       "      <td>ENST00000377798.8_POLR1E</td>\n",
       "      <td>SP(Sec/SPI)</td>\n",
       "      <td>0.519883</td>\n",
       "      <td>0.480117</td>\n",
       "      <td>CS pos: 32-33. VLG-GQ. Pr: 0.3510</td>\n",
       "      <td>ENST00000377798.8</td>\n",
       "      <td>POLR1E</td>\n",
       "      <td>32</td>\n",
       "      <td>37</td>\n",
       "      <td>16</td>\n",
       "    </tr>\n",
       "    <tr>\n",
       "      <th>7</th>\n",
       "      <td>ENST00000369397.8_TCF7L2</td>\n",
       "      <td>SP(Sec/SPI)</td>\n",
       "      <td>0.729950</td>\n",
       "      <td>0.270050</td>\n",
       "      <td>CS pos: 20-21. ILG-NE. Pr: 0.6721</td>\n",
       "      <td>ENST00000369397.8</td>\n",
       "      <td>TCF7L2</td>\n",
       "      <td>20</td>\n",
       "      <td>101</td>\n",
       "      <td>4</td>\n",
       "    </tr>\n",
       "    <tr>\n",
       "      <th>8</th>\n",
       "      <td>ENST00000376335.7_ZIC2</td>\n",
       "      <td>SP(Sec/SPI)</td>\n",
       "      <td>0.501424</td>\n",
       "      <td>0.498576</td>\n",
       "      <td>CS pos: 32-33. LRA-RP. Pr: 0.1709</td>\n",
       "      <td>ENST00000376335.7</td>\n",
       "      <td>ZIC2</td>\n",
       "      <td>32</td>\n",
       "      <td>97</td>\n",
       "      <td>16</td>\n",
       "    </tr>\n",
       "    <tr>\n",
       "      <th>10</th>\n",
       "      <td>ENST00000395841.6_RAE1</td>\n",
       "      <td>SP(Sec/SPI)</td>\n",
       "      <td>0.974323</td>\n",
       "      <td>0.025677</td>\n",
       "      <td>CS pos: 21-22. ARA-GS. Pr: 0.7476</td>\n",
       "      <td>ENST00000395841.6</td>\n",
       "      <td>RAE1</td>\n",
       "      <td>21</td>\n",
       "      <td>45</td>\n",
       "      <td>5</td>\n",
       "    </tr>\n",
       "  </tbody>\n",
       "</table>\n",
       "</div>"
      ],
      "text/plain": [
       "                          id        class  SP_score  Other_score  \\\n",
       "1    ENST00000238892.3_CRIPT  SP(Sec/SPI)  0.992859     0.007141   \n",
       "2      ENST00000389682.7_TSN  SP(Sec/SPI)  0.728701     0.271299   \n",
       "5    ENST00000276533.3_GINS4  SP(Sec/SPI)  0.753739     0.246261   \n",
       "6   ENST00000377798.8_POLR1E  SP(Sec/SPI)  0.519883     0.480117   \n",
       "7   ENST00000369397.8_TCF7L2  SP(Sec/SPI)  0.729950     0.270050   \n",
       "8     ENST00000376335.7_ZIC2  SP(Sec/SPI)  0.501424     0.498576   \n",
       "10    ENST00000395841.6_RAE1  SP(Sec/SPI)  0.974323     0.025677   \n",
       "\n",
       "                               SP_seq              tr_id    gene  SP_end_pos  \\\n",
       "1   CS pos: 30-31. SWG-RM. Pr: 0.7394  ENST00000238892.3   CRIPT          30   \n",
       "2   CS pos: 18-19. TLA-DC. Pr: 0.2152  ENST00000389682.7     TSN          18   \n",
       "5   CS pos: 19-20. SWC-PD. Pr: 0.3796  ENST00000276533.3   GINS4          19   \n",
       "6   CS pos: 32-33. VLG-GQ. Pr: 0.3510  ENST00000377798.8  POLR1E          32   \n",
       "7   CS pos: 20-21. ILG-NE. Pr: 0.6721  ENST00000369397.8  TCF7L2          20   \n",
       "8   CS pos: 32-33. LRA-RP. Pr: 0.1709  ENST00000376335.7    ZIC2          32   \n",
       "10  CS pos: 21-22. ARA-GS. Pr: 0.7476  ENST00000395841.6    RAE1          21   \n",
       "\n",
       "    cds_start_aa_in_ext2  SP_start_pos  \n",
       "1                     31            14  \n",
       "2                     25             2  \n",
       "5                     51             3  \n",
       "6                     37            16  \n",
       "7                    101             4  \n",
       "8                     97            16  \n",
       "10                    45             5  "
      ]
     },
     "execution_count": 36,
     "metadata": {},
     "output_type": "execute_result"
    }
   ],
   "source": [
    "tmp[tmp['SP_end_pos'] <= tmp['cds_start_aa_in_ext2']]"
   ]
  },
  {
   "cell_type": "code",
   "execution_count": null,
   "metadata": {},
   "outputs": [],
   "source": []
  },
  {
   "cell_type": "markdown",
   "metadata": {},
   "source": [
    "# PhyloSET "
   ]
  },
  {
   "cell_type": "code",
   "execution_count": 21,
   "metadata": {},
   "outputs": [],
   "source": [
    "li = []\n",
    "\n",
    "f = open('localisation/PhyloSET_theor_ext.fasta', 'w')\n",
    "\n",
    "for row in PhyloSET[['tr_id', 'gene', 'N_term_start1', 'N_term_end1']].to_numpy():\n",
    "    tr_id  = row[0]\n",
    "    gene = row[1]\n",
    "    N_term_start = row[2]\n",
    "    N_term_stop = row[3]\n",
    "    tr_seq = metadata_pc_g25[metadata_pc_g25['tr_id'] == tr_id].iloc[0].transcript_seq \n",
    "    cds_stop = metadata_pc_g25[metadata_pc_g25['tr_id'] == tr_id].iloc[0].cds_stop_pos\n",
    "    cds_start = metadata_pc_g25[metadata_pc_g25['tr_id'] == tr_id].iloc[0].cds_start_pos\n",
    "    \n",
    "    nte_seq_nt1 = tr_seq[N_term_start:cds_stop]\n",
    "    \n",
    "    nte_seq_aa1 = str(Seq(nte_seq_nt1).translate())\n",
    "    \n",
    "    # position of CDS in NTE_aa: \n",
    "    # 5'    N_term_start_pred    cds_start_pos\n",
    "    # \n",
    "    cds_start_aa_in_ext2 = (cds_start - N_term_start) // 3\n",
    "    \n",
    "    li.append([tr_id, gene, nte_seq_aa1, cds_start_aa_in_ext2])\n",
    "    \n",
    "    f.write('>'+tr_id+'_'+gene+'\\n')\n",
    "    f.write(nte_seq_aa1[:-1]+'\\n')\n",
    "    \n",
    "NTE_aa_df = pd.DataFrame(li, columns = ['tr_id', 'gene', 'nte_seq_aa1', \n",
    "                                       'cds_start_aa_in_ext2'])\n",
    "\n",
    "f.close()"
   ]
  },
  {
   "cell_type": "code",
   "execution_count": 22,
   "metadata": {},
   "outputs": [
    {
     "name": "stdout",
     "output_type": "stream",
     "text": [
      "# of genes with pred signalP from PhyloSET\n"
     ]
    },
    {
     "data": {
      "text/plain": [
       "0"
      ]
     },
     "execution_count": 22,
     "metadata": {},
     "output_type": "execute_result"
    }
   ],
   "source": [
    "signalP_df = pd.read_csv('localisation/SignalP/PhyloSET_SignalP.txt', sep='\\t', comment='#', header=None)\n",
    "signalP_df.columns = ['id', 'class', 'SP_score', 'Other_score', 'SP_seq']\n",
    "signalP_df['tr_id'] = [x.split('_')[0] for x in signalP_df['id'].tolist()]\n",
    "signalP_df['gene'] = [x.split('_')[-1] for x in signalP_df['id'].tolist()]\n",
    "\n",
    "print ('# of genes with pred signalP from PhyloSET')\n",
    "signalP_df[(signalP_df['class'] != 'OTHER') & \n",
    "           (signalP_df['SP_seq'] != 'CS pos: ?. Probable protein fragment')].shape[0]"
   ]
  },
  {
   "cell_type": "code",
   "execution_count": 23,
   "metadata": {},
   "outputs": [],
   "source": [
    "d = {'RiboSET': 10, # 1\n",
    " 'PhyloSET': 0, \n",
    " 'RiboSET_ext': 0,\n",
    " 'UntranslSET': 0,\n",
    " 'UtranslSET_ext': 0,\n",
    "\n",
    "}"
   ]
  },
  {
   "cell_type": "code",
   "execution_count": null,
   "metadata": {},
   "outputs": [],
   "source": []
  },
  {
   "cell_type": "markdown",
   "metadata": {},
   "source": [
    "# RiboSET-match "
   ]
  },
  {
   "cell_type": "code",
   "execution_count": 27,
   "metadata": {},
   "outputs": [
    {
     "data": {
      "text/plain": [
       "(384, 30)"
      ]
     },
     "execution_count": 27,
     "metadata": {},
     "output_type": "execute_result"
    }
   ],
   "source": [
    "b = subset[['tr_id1']].merge(meta, on=['tr_id1'], how='inner')\n",
    "\n",
    "b.shape"
   ]
  },
  {
   "cell_type": "code",
   "execution_count": 28,
   "metadata": {},
   "outputs": [],
   "source": [
    "match_fasta = open('localisation/Match_theor_ext.fasta', 'w')\n",
    "\n",
    "li = []\n",
    "\n",
    "for row in b[['tr_id', 'gene', 'N_term_start1', 'N_term_end1']].to_numpy():\n",
    "    tr_id  = row[0]\n",
    "    gene = row[1]\n",
    "    N_term_start = row[2]\n",
    "    N_term_stop = row[3]\n",
    "    \n",
    "    tr_seq = metadata_pc_g25[metadata_pc_g25['tr_id'] == tr_id].iloc[0].transcript_seq \n",
    "    cds_stop = metadata_pc_g25[metadata_pc_g25['tr_id'] == tr_id].iloc[0].cds_stop_pos\n",
    "    cds_start = metadata_pc_g25[metadata_pc_g25['tr_id'] == tr_id].iloc[0].cds_start_pos\n",
    "    \n",
    "    nte_seq_nt1 = tr_seq[N_term_start:cds_stop]  \n",
    "    nte_seq_aa1 = str(Seq(nte_seq_nt1).translate())\n",
    "    \n",
    "    cds_start_aa_in_ext2 = (cds_start - N_term_start) // 3\n",
    "    \n",
    "    li.append([tr_id, gene, nte_seq_aa1, cds_start_aa_in_ext2])\n",
    "    \n",
    "    match_fasta.write('>'+tr_id+'_'+gene+'\\n')\n",
    "    match_fasta.write(nte_seq_aa1+'\\n')\n",
    "  \n",
    "match_fasta.close()\n",
    "        \n",
    "match_aa_df = pd.DataFrame(li, columns = ['tr_id', 'gene', 'nte_seq_aa1', \n",
    "                                       'cds_start_aa_in_ext2'])\n"
   ]
  },
  {
   "cell_type": "code",
   "execution_count": 29,
   "metadata": {},
   "outputs": [
    {
     "name": "stdout",
     "output_type": "stream",
     "text": [
      "384\r\n"
     ]
    }
   ],
   "source": [
    "!grep '>' localisation/Match_theor_ext.fasta | wc -l"
   ]
  },
  {
   "cell_type": "code",
   "execution_count": 30,
   "metadata": {},
   "outputs": [
    {
     "name": "stdout",
     "output_type": "stream",
     "text": [
      "384\n"
     ]
    },
    {
     "name": "stderr",
     "output_type": "stream",
     "text": [
      "/home/alla/.local/lib/python3.7/site-packages/ipykernel_launcher.py:11: SettingWithCopyWarning: \n",
      "A value is trying to be set on a copy of a slice from a DataFrame.\n",
      "Try using .loc[row_indexer,col_indexer] = value instead\n",
      "\n",
      "See the caveats in the documentation: https://pandas.pydata.org/pandas-docs/stable/user_guide/indexing.html#returning-a-view-versus-a-copy\n",
      "  # This is added back by InteractiveShellApp.init_path()\n"
     ]
    },
    {
     "data": {
      "text/plain": [
       "['PCMTD1', 'ZNF766', 'SLC12A4', 'GTPBP3', 'NEDD4L']"
      ]
     },
     "execution_count": 30,
     "metadata": {},
     "output_type": "execute_result"
    }
   ],
   "source": [
    "signalP_df_m = pd.read_csv('localisation/SignalP/Match_SignalP_384.txt', sep='\\t', comment='#', header=None)\n",
    "\n",
    "print (signalP_df_m.shape[0])\n",
    "\n",
    "signalP_df_m.columns = ['id', 'class', 'SP_score', 'Other_score', 'SP_seq']\n",
    "signalP_df_m['tr_id'] = [x.split('_')[0] for x in signalP_df_m['id'].tolist()]\n",
    "signalP_df_m['gene'] = [x.split('_')[-1] for x in signalP_df_m['id'].tolist()]\n",
    "\n",
    "tmp = signalP_df_m[(signalP_df_m['class'] != 'OTHER') & \n",
    "                   (signalP_df_m['SP_seq'].notna())]\n",
    "tmp['SP_end_pos'] = [int(x.split('CS pos: ')[1].split('-')[0]) for x in tmp['SP_seq'].tolist()]\n",
    "tmp = tmp.merge(match_aa_df[['tr_id', 'gene', 'cds_start_aa_in_ext2']], on=['tr_id', 'gene'], how='inner')\n",
    "tmp['SP_start_pos'] = tmp['SP_end_pos'] - 16\n",
    "\n",
    "\n",
    "### genes with CS-16 position before CDS \n",
    "tmp[tmp['cds_start_aa_in_ext2'] >= tmp['SP_start_pos']]['gene'].tolist()"
   ]
  },
  {
   "cell_type": "code",
   "execution_count": 24,
   "metadata": {},
   "outputs": [],
   "source": [
    "d = {'RiboSET': 10, # 1\n",
    " 'PhyloSET': 0, \n",
    " 'UntranslSET': 5,    \n",
    " 'RiboSET_ext': 0,\n",
    "\n",
    "}"
   ]
  },
  {
   "cell_type": "code",
   "execution_count": 25,
   "metadata": {},
   "outputs": [
    {
     "data": {
      "text/plain": [
       "(0.15569569862353697, 1.9947368421052631)"
      ]
     },
     "execution_count": 25,
     "metadata": {},
     "output_type": "execute_result"
    }
   ],
   "source": [
    "# RiboSET vs untransl\n",
    "a = 10\n",
    "b = 390-10\n",
    "c = 5\n",
    "d = 384-5\n",
    "\n",
    "\n",
    "table  = [[a, b],  [c, d]] \n",
    "\n",
    "oddsr, p = fisher_exact(table, alternative='greater')\n",
    "\n",
    "p, oddsr"
   ]
  },
  {
   "cell_type": "code",
   "execution_count": 26,
   "metadata": {},
   "outputs": [
    {
     "data": {
      "text/html": [
       "<div>\n",
       "<style scoped>\n",
       "    .dataframe tbody tr th:only-of-type {\n",
       "        vertical-align: middle;\n",
       "    }\n",
       "\n",
       "    .dataframe tbody tr th {\n",
       "        vertical-align: top;\n",
       "    }\n",
       "\n",
       "    .dataframe thead th {\n",
       "        text-align: right;\n",
       "    }\n",
       "</style>\n",
       "<table border=\"1\" class=\"dataframe\">\n",
       "  <thead>\n",
       "    <tr style=\"text-align: right;\">\n",
       "      <th></th>\n",
       "      <th>tr_id</th>\n",
       "      <th>N_term_start</th>\n",
       "      <th>N_term_end</th>\n",
       "      <th>len</th>\n",
       "      <th>N_term_start1</th>\n",
       "      <th>N_term_end1</th>\n",
       "      <th>len_codons</th>\n",
       "      <th>gene</th>\n",
       "      <th>50len_flag</th>\n",
       "      <th>global_coo_50_and_less</th>\n",
       "      <th>...</th>\n",
       "      <th>max_sum_overlap_refseq_all_exons</th>\n",
       "      <th>max_sum_overlap_refseq_all_exons_strandless</th>\n",
       "      <th>ovlp</th>\n",
       "      <th>ovlp_strandless</th>\n",
       "      <th>ovlp2</th>\n",
       "      <th>ovlp2_strandless</th>\n",
       "      <th>PhyloCSF120score</th>\n",
       "      <th>tr_id1</th>\n",
       "      <th>number_of_records</th>\n",
       "      <th>records_names</th>\n",
       "    </tr>\n",
       "  </thead>\n",
       "  <tbody>\n",
       "    <tr>\n",
       "      <th>31007</th>\n",
       "      <td>ENST00000544451.2</td>\n",
       "      <td>0</td>\n",
       "      <td>75</td>\n",
       "      <td>75</td>\n",
       "      <td>0</td>\n",
       "      <td>75</td>\n",
       "      <td>25.0</td>\n",
       "      <td>PCMTD1</td>\n",
       "      <td>0</td>\n",
       "      <td>chr8:51899112-51899186</td>\n",
       "      <td>...</td>\n",
       "      <td>0</td>\n",
       "      <td>0</td>\n",
       "      <td>0;0;0</td>\n",
       "      <td>0;0;0</td>\n",
       "      <td>0;0;0;0</td>\n",
       "      <td>0;0;0;0</td>\n",
       "      <td>-1466.7897</td>\n",
       "      <td>ENST00000544451</td>\n",
       "      <td>88</td>\n",
       "      <td>Human; Chimp; Bonobo; Gorilla; Orangutan; Gibb...</td>\n",
       "    </tr>\n",
       "    <tr>\n",
       "      <th>57227</th>\n",
       "      <td>ENST00000541864.6</td>\n",
       "      <td>0</td>\n",
       "      <td>104</td>\n",
       "      <td>104</td>\n",
       "      <td>2</td>\n",
       "      <td>104</td>\n",
       "      <td>34.0</td>\n",
       "      <td>SLC12A4</td>\n",
       "      <td>2</td>\n",
       "      <td>chr16:67966775-67966876</td>\n",
       "      <td>...</td>\n",
       "      <td>0</td>\n",
       "      <td>0</td>\n",
       "      <td>0;0;0</td>\n",
       "      <td>0;0;0</td>\n",
       "      <td>0;0;0;0</td>\n",
       "      <td>0;0;0;0</td>\n",
       "      <td>-1974.2952</td>\n",
       "      <td>ENST00000541864</td>\n",
       "      <td>115</td>\n",
       "      <td>Human; Chimp; Bonobo; Gorilla; Orangutan; Gibb...</td>\n",
       "    </tr>\n",
       "    <tr>\n",
       "      <th>64364</th>\n",
       "      <td>ENST00000635997.1</td>\n",
       "      <td>138</td>\n",
       "      <td>201</td>\n",
       "      <td>63</td>\n",
       "      <td>138</td>\n",
       "      <td>201</td>\n",
       "      <td>21.0</td>\n",
       "      <td>NEDD4L</td>\n",
       "      <td>138</td>\n",
       "      <td>chr18:58255578-58255640</td>\n",
       "      <td>...</td>\n",
       "      <td>0</td>\n",
       "      <td>0</td>\n",
       "      <td>0;0;0</td>\n",
       "      <td>0;0;0</td>\n",
       "      <td>0;0;0;0</td>\n",
       "      <td>0;0;0;0</td>\n",
       "      <td>-534.4848</td>\n",
       "      <td>ENST00000635997</td>\n",
       "      <td>118</td>\n",
       "      <td>Human; Chimp; Bonobo; Gorilla; Gibbon; Rhesus;...</td>\n",
       "    </tr>\n",
       "    <tr>\n",
       "      <th>66536</th>\n",
       "      <td>ENST00000361619.9</td>\n",
       "      <td>0</td>\n",
       "      <td>84</td>\n",
       "      <td>84</td>\n",
       "      <td>0</td>\n",
       "      <td>84</td>\n",
       "      <td>28.0</td>\n",
       "      <td>GTPBP3</td>\n",
       "      <td>0</td>\n",
       "      <td>chr19:17334920-17335003</td>\n",
       "      <td>...</td>\n",
       "      <td>0</td>\n",
       "      <td>0</td>\n",
       "      <td>0;0;0</td>\n",
       "      <td>0;0;0</td>\n",
       "      <td>0;0;0;0</td>\n",
       "      <td>0;0;0;0</td>\n",
       "      <td>-1414.1394</td>\n",
       "      <td>ENST00000361619</td>\n",
       "      <td>107</td>\n",
       "      <td>Human; Chimp; Bonobo; Gorilla; Orangutan; Gibb...</td>\n",
       "    </tr>\n",
       "    <tr>\n",
       "      <th>69602</th>\n",
       "      <td>ENST00000600821.5</td>\n",
       "      <td>133</td>\n",
       "      <td>235</td>\n",
       "      <td>102</td>\n",
       "      <td>133</td>\n",
       "      <td>235</td>\n",
       "      <td>34.0</td>\n",
       "      <td>ZNF766</td>\n",
       "      <td>133</td>\n",
       "      <td>chr19:52274595-52274669+chr19:52275578-52275604</td>\n",
       "      <td>...</td>\n",
       "      <td>0</td>\n",
       "      <td>0</td>\n",
       "      <td>0;0;0</td>\n",
       "      <td>0;0;0</td>\n",
       "      <td>0;0;0;0</td>\n",
       "      <td>0;0;0;0</td>\n",
       "      <td>-105.2288</td>\n",
       "      <td>ENST00000600821</td>\n",
       "      <td>21</td>\n",
       "      <td>Human; Chimp; Bonobo; Gorilla; Orangutan; Gibb...</td>\n",
       "    </tr>\n",
       "  </tbody>\n",
       "</table>\n",
       "<p>5 rows × 30 columns</p>\n",
       "</div>"
      ],
      "text/plain": [
       "                   tr_id  N_term_start  N_term_end  len  N_term_start1  \\\n",
       "31007  ENST00000544451.2             0          75   75              0   \n",
       "57227  ENST00000541864.6             0         104  104              2   \n",
       "64364  ENST00000635997.1           138         201   63            138   \n",
       "66536  ENST00000361619.9             0          84   84              0   \n",
       "69602  ENST00000600821.5           133         235  102            133   \n",
       "\n",
       "       N_term_end1  len_codons     gene  50len_flag  \\\n",
       "31007           75        25.0   PCMTD1           0   \n",
       "57227          104        34.0  SLC12A4           2   \n",
       "64364          201        21.0   NEDD4L         138   \n",
       "66536           84        28.0   GTPBP3           0   \n",
       "69602          235        34.0   ZNF766         133   \n",
       "\n",
       "                                global_coo_50_and_less  ...  \\\n",
       "31007                           chr8:51899112-51899186  ...   \n",
       "57227                          chr16:67966775-67966876  ...   \n",
       "64364                          chr18:58255578-58255640  ...   \n",
       "66536                          chr19:17334920-17335003  ...   \n",
       "69602  chr19:52274595-52274669+chr19:52275578-52275604  ...   \n",
       "\n",
       "      max_sum_overlap_refseq_all_exons  \\\n",
       "31007                                0   \n",
       "57227                                0   \n",
       "64364                                0   \n",
       "66536                                0   \n",
       "69602                                0   \n",
       "\n",
       "      max_sum_overlap_refseq_all_exons_strandless   ovlp ovlp_strandless  \\\n",
       "31007                                           0  0;0;0           0;0;0   \n",
       "57227                                           0  0;0;0           0;0;0   \n",
       "64364                                           0  0;0;0           0;0;0   \n",
       "66536                                           0  0;0;0           0;0;0   \n",
       "69602                                           0  0;0;0           0;0;0   \n",
       "\n",
       "         ovlp2  ovlp2_strandless  PhyloCSF120score           tr_id1  \\\n",
       "31007  0;0;0;0           0;0;0;0        -1466.7897  ENST00000544451   \n",
       "57227  0;0;0;0           0;0;0;0        -1974.2952  ENST00000541864   \n",
       "64364  0;0;0;0           0;0;0;0         -534.4848  ENST00000635997   \n",
       "66536  0;0;0;0           0;0;0;0        -1414.1394  ENST00000361619   \n",
       "69602  0;0;0;0           0;0;0;0         -105.2288  ENST00000600821   \n",
       "\n",
       "       number_of_records                                      records_names  \n",
       "31007                 88  Human; Chimp; Bonobo; Gorilla; Orangutan; Gibb...  \n",
       "57227                115  Human; Chimp; Bonobo; Gorilla; Orangutan; Gibb...  \n",
       "64364                118  Human; Chimp; Bonobo; Gorilla; Gibbon; Rhesus;...  \n",
       "66536                107  Human; Chimp; Bonobo; Gorilla; Orangutan; Gibb...  \n",
       "69602                 21  Human; Chimp; Bonobo; Gorilla; Orangutan; Gibb...  \n",
       "\n",
       "[5 rows x 30 columns]"
      ]
     },
     "execution_count": 26,
     "metadata": {},
     "output_type": "execute_result"
    }
   ],
   "source": [
    "meta[(meta['tr_id'].isin(tmp[tmp['cds_start_aa_in_ext2'] >= tmp['SP_start_pos']]['tr_id'].tolist()))]"
   ]
  },
  {
   "cell_type": "code",
   "execution_count": null,
   "metadata": {},
   "outputs": [],
   "source": []
  },
  {
   "cell_type": "code",
   "execution_count": null,
   "metadata": {},
   "outputs": [],
   "source": []
  },
  {
   "cell_type": "markdown",
   "metadata": {},
   "source": [
    "# RiboSET_EXT"
   ]
  },
  {
   "cell_type": "code",
   "execution_count": 37,
   "metadata": {},
   "outputs": [],
   "source": [
    "RiboSET_EXT_cds_cov_nonzero['start_codon_local_coo_start'] = [int(x.split('; ')[1].split('-')[0])-1 for x in RiboSET_EXT_cds_cov_nonzero['Riboseq_Summary'].tolist()]\n",
    "\n",
    "riboset_fasta = open('localisation/RiboSET_EXT_theor_ext.fasta', 'w')\n",
    "\n",
    "li = []\n",
    "\n",
    "for row in RiboSET_EXT_cds_cov_nonzero[['tr_id', 'gene', 'N_term_start1', 'N_term_end1', 'start_codon_local_coo_start']].to_numpy():\n",
    "    tr_id  = row[0]\n",
    "    gene = row[1]\n",
    "    N_term_start = row[2]\n",
    "    N_term_stop = row[3]\n",
    "    N_term_start_pred = row[-1] \n",
    "    tr_seq = metadata_pc_g25[metadata_pc_g25['tr_id'] == tr_id].iloc[0].transcript_seq \n",
    "    cds_stop = metadata_pc_g25[metadata_pc_g25['tr_id'] == tr_id].iloc[0].cds_stop_pos\n",
    "    cds_start = metadata_pc_g25[metadata_pc_g25['tr_id'] == tr_id].iloc[0].cds_start_pos\n",
    "    \n",
    "    nte_seq_nt1 = tr_seq[N_term_start:cds_stop]\n",
    "    nte_seq_nt2 = tr_seq[N_term_start_pred:cds_stop]\n",
    "    \n",
    "    nte_seq_aa1 = str(Seq(nte_seq_nt1).translate())\n",
    "    nte_seq_aa2 = 'M'+str(Seq(nte_seq_nt2).translate())[1:]\n",
    "    \n",
    "    # position of CDS in NTE_aa: \n",
    "    # 5'    N_term_start_pred    cds_start_pos\n",
    "    # \n",
    "    cds_start_aa_in_ext2 = (cds_start - N_term_start) // 3\n",
    "    \n",
    "    li.append([tr_id, gene, nte_seq_aa1, nte_seq_aa2, cds_start_aa_in_ext2, \n",
    "              cds_start_aa_in_ext2])\n",
    "    \n",
    "    riboset_fasta.write('>'+tr_id+'_'+gene+'\\n')\n",
    "    riboset_fasta.write(nte_seq_aa1+'\\n')\n",
    "  \n",
    "riboset_fasta.close()\n",
    "        \n",
    "RiboSET_Ext = pd.DataFrame(li, columns = ['tr_id', 'gene', 'nte_seq_aa1', 'nte_seq_aa2',\n",
    "                                       'cds_start_aa_in_ext2', 'ext_len'])\n"
   ]
  },
  {
   "cell_type": "code",
   "execution_count": 38,
   "metadata": {},
   "outputs": [
    {
     "name": "stdout",
     "output_type": "stream",
     "text": [
      "3451\r\n"
     ]
    }
   ],
   "source": [
    "!grep '>' localisation/RiboSET_EXT_theor_ext.fasta | wc -l"
   ]
  },
  {
   "cell_type": "code",
   "execution_count": 40,
   "metadata": {},
   "outputs": [
    {
     "name": "stdout",
     "output_type": "stream",
     "text": [
      "3451\n"
     ]
    },
    {
     "name": "stderr",
     "output_type": "stream",
     "text": [
      "/home/alla/.local/lib/python3.7/site-packages/ipykernel_launcher.py:13: SettingWithCopyWarning: \n",
      "A value is trying to be set on a copy of a slice from a DataFrame.\n",
      "Try using .loc[row_indexer,col_indexer] = value instead\n",
      "\n",
      "See the caveats in the documentation: https://pandas.pydata.org/pandas-docs/stable/user_guide/indexing.html#returning-a-view-versus-a-copy\n",
      "  del sys.path[0]\n"
     ]
    },
    {
     "data": {
      "text/html": [
       "<div>\n",
       "<style scoped>\n",
       "    .dataframe tbody tr th:only-of-type {\n",
       "        vertical-align: middle;\n",
       "    }\n",
       "\n",
       "    .dataframe tbody tr th {\n",
       "        vertical-align: top;\n",
       "    }\n",
       "\n",
       "    .dataframe thead th {\n",
       "        text-align: right;\n",
       "    }\n",
       "</style>\n",
       "<table border=\"1\" class=\"dataframe\">\n",
       "  <thead>\n",
       "    <tr style=\"text-align: right;\">\n",
       "      <th></th>\n",
       "      <th>id</th>\n",
       "      <th>class</th>\n",
       "      <th>SP_score</th>\n",
       "      <th>Other_score</th>\n",
       "      <th>SP_seq</th>\n",
       "      <th>tr_id</th>\n",
       "      <th>gene</th>\n",
       "      <th>SP_end_pos</th>\n",
       "      <th>cds_start_aa_in_ext2</th>\n",
       "      <th>SP_start_pos</th>\n",
       "    </tr>\n",
       "  </thead>\n",
       "  <tbody>\n",
       "    <tr>\n",
       "      <th>0</th>\n",
       "      <td>ENST00000225504.7_SUPT4H1</td>\n",
       "      <td>SP(Sec/SPI)</td>\n",
       "      <td>0.723744</td>\n",
       "      <td>0.276256</td>\n",
       "      <td>CS pos: 24-25. KMA-LE. Pr: 0.3777</td>\n",
       "      <td>ENST00000225504.7</td>\n",
       "      <td>SUPT4H1</td>\n",
       "      <td>24</td>\n",
       "      <td>22</td>\n",
       "      <td>8</td>\n",
       "    </tr>\n",
       "    <tr>\n",
       "      <th>1</th>\n",
       "      <td>ENST00000395841.6_RAE1</td>\n",
       "      <td>SP(Sec/SPI)</td>\n",
       "      <td>0.974323</td>\n",
       "      <td>0.025677</td>\n",
       "      <td>CS pos: 21-22. ARA-GS. Pr: 0.7476</td>\n",
       "      <td>ENST00000395841.6</td>\n",
       "      <td>RAE1</td>\n",
       "      <td>21</td>\n",
       "      <td>45</td>\n",
       "      <td>5</td>\n",
       "    </tr>\n",
       "  </tbody>\n",
       "</table>\n",
       "</div>"
      ],
      "text/plain": [
       "                          id        class  SP_score  Other_score  \\\n",
       "0  ENST00000225504.7_SUPT4H1  SP(Sec/SPI)  0.723744     0.276256   \n",
       "1     ENST00000395841.6_RAE1  SP(Sec/SPI)  0.974323     0.025677   \n",
       "\n",
       "                              SP_seq              tr_id     gene  SP_end_pos  \\\n",
       "0  CS pos: 24-25. KMA-LE. Pr: 0.3777  ENST00000225504.7  SUPT4H1          24   \n",
       "1  CS pos: 21-22. ARA-GS. Pr: 0.7476  ENST00000395841.6     RAE1          21   \n",
       "\n",
       "   cds_start_aa_in_ext2  SP_start_pos  \n",
       "0                    22             8  \n",
       "1                    45             5  "
      ]
     },
     "execution_count": 40,
     "metadata": {},
     "output_type": "execute_result"
    }
   ],
   "source": [
    "signalP_df_m = pd.read_csv('localisation/SignalP/EXT_SignalP.txt', sep='\\t', comment='#', header=None)\n",
    "\n",
    "print (signalP_df_m.shape[0])\n",
    "\n",
    "signalP_df_m.columns = ['id', 'class', 'SP_score', 'Other_score', 'SP_seq']\n",
    "signalP_df_m['tr_id'] = [x.split('_')[0] for x in signalP_df_m['id'].tolist()]\n",
    "signalP_df_m['gene'] = [x.split('_')[-1] for x in signalP_df_m['id'].tolist()]\n",
    "\n",
    "tmp = signalP_df_m[(signalP_df_m['class'] != 'OTHER') & \n",
    "                   (signalP_df_m['SP_seq'].notna())]\n",
    "\n",
    "\n",
    "tmp['SP_end_pos'] = [int(x.split('CS pos: ')[1].split('-')[0]) for x in tmp['SP_seq'].tolist()]\n",
    "tmp = tmp.merge(RiboSET_Ext[['tr_id', 'gene', 'cds_start_aa_in_ext2']], on=['tr_id', 'gene'], how='inner')\n",
    "tmp['SP_start_pos'] = tmp['SP_end_pos'] - 16\n",
    "tmp[0:2]"
   ]
  },
  {
   "cell_type": "code",
   "execution_count": 41,
   "metadata": {},
   "outputs": [],
   "source": [
    "tmp[tmp['cds_start_aa_in_ext2'] >= tmp['SP_start_pos']].to_csv('../Supplementary_tables/RiboSET_ext_SignalP.txt', sep='\\t', index=False)"
   ]
  },
  {
   "cell_type": "code",
   "execution_count": 45,
   "metadata": {},
   "outputs": [
    {
     "data": {
      "text/plain": [
       "53"
      ]
     },
     "execution_count": 45,
     "metadata": {},
     "output_type": "execute_result"
    }
   ],
   "source": [
    "tmp[tmp['cds_start_aa_in_ext2'] >= tmp['SP_start_pos']].id.nunique()"
   ]
  },
  {
   "cell_type": "code",
   "execution_count": 47,
   "metadata": {},
   "outputs": [
    {
     "data": {
      "text/plain": [
       "44"
      ]
     },
     "execution_count": 47,
     "metadata": {},
     "output_type": "execute_result"
    }
   ],
   "source": [
    "tmp[tmp['SP_end_pos'] <= tmp['cds_start_aa_in_ext2']].id.nunique()"
   ]
  },
  {
   "cell_type": "code",
   "execution_count": 30,
   "metadata": {},
   "outputs": [
    {
     "data": {
      "text/plain": [
       "53"
      ]
     },
     "execution_count": 30,
     "metadata": {},
     "output_type": "execute_result"
    }
   ],
   "source": [
    "### genes with CS-16 position before CDS \n",
    "len(tmp[tmp['cds_start_aa_in_ext2'] >= tmp['SP_start_pos']]['gene'].tolist())"
   ]
  },
  {
   "cell_type": "code",
   "execution_count": 31,
   "metadata": {},
   "outputs": [],
   "source": [
    "d = {'RiboSET': 10, # 1\n",
    " 'PhyloSET': 0, \n",
    " 'UntranslSET': 7, \n",
    "     \n",
    " 'RiboSET_ext': 53,\n",
    "}"
   ]
  },
  {
   "cell_type": "code",
   "execution_count": 32,
   "metadata": {},
   "outputs": [
    {
     "data": {
      "text/plain": [
       "(0.46904685626698095, 1.1822836962919365)"
      ]
     },
     "execution_count": 32,
     "metadata": {},
     "output_type": "execute_result"
    }
   ],
   "source": [
    "# RiboSET vs untransl\n",
    "a = 53\n",
    "b = 3451-53\n",
    "c = 5\n",
    "d = 384-5\n",
    "\n",
    "\n",
    "table  = [[a, b],  [c, d]] \n",
    "\n",
    "oddsr, p = fisher_exact(table, alternative='greater')\n",
    "\n",
    "p, oddsr"
   ]
  },
  {
   "cell_type": "code",
   "execution_count": null,
   "metadata": {},
   "outputs": [],
   "source": []
  },
  {
   "cell_type": "code",
   "execution_count": null,
   "metadata": {},
   "outputs": [],
   "source": []
  },
  {
   "cell_type": "markdown",
   "metadata": {},
   "source": [
    "# TargetP"
   ]
  },
  {
   "cell_type": "markdown",
   "metadata": {},
   "source": [
    "# RiboSET"
   ]
  },
  {
   "cell_type": "code",
   "execution_count": 51,
   "metadata": {},
   "outputs": [
    {
     "name": "stdout",
     "output_type": "stream",
     "text": [
      "genes from RiboSET with mito signal: \n",
      "21\n",
      "21\n"
     ]
    },
    {
     "data": {
      "text/plain": [
       "18"
      ]
     },
     "execution_count": 51,
     "metadata": {},
     "output_type": "execute_result"
    }
   ],
   "source": [
    "targetP_riboset = pd.read_csv('localisation/TargetP/RiboSET_theor_ext_TargetP.txt', sep='\\t', comment='#', header=None)\n",
    "targetP_riboset.columns = ['ids', 'class', 'score_other', 'score_sp', 'score_m', 'seq_m']\n",
    "\n",
    "targetP_riboset['tr_id'] = [x.split('_')[0] for x in targetP_riboset['ids'].tolist()]\n",
    "targetP_riboset['gene'] = [x.split('_')[-1] for x in targetP_riboset['ids'].tolist()]\n",
    "\n",
    "targetP_riboset = targetP_riboset[~targetP_riboset['gene'].isin(['STIM2', 'AP3S1', 'PTPRJ'])]\n",
    "\n",
    "print ('genes from RiboSET with mito signal: ')\n",
    "print (targetP_riboset[(targetP_riboset['seq_m'].notna()) & (targetP_riboset['class'] == 'mTP')].gene.nunique())\n",
    "\n",
    "tmp = targetP_riboset[(targetP_riboset['seq_m'].notna()) & \n",
    "                      (targetP_riboset['class'] == 'mTP')].merge(NTE_aa_df_ribo, on=['gene', 'tr_id'], how='inner')\n",
    "\n",
    "print (tmp.shape[0])\n",
    "\n",
    "tmp['CS_pos'] = [int(x.split('CS pos:')[1].split('-')[0]) for x in tmp['seq_m'].tolist()]\n",
    "tmp['m_start'] = tmp['CS_pos']-20\n",
    "\n",
    "len(tmp[tmp['cds_start_aa_in_ext2'] >= tmp['m_start']][['ids', 'gene', 'seq_m', 'cds_start_aa_in_ext2', 'CS_pos']].merge(NTE_aa_df_ribo, on='gene', how='left').gene.tolist())"
   ]
  },
  {
   "cell_type": "code",
   "execution_count": 49,
   "metadata": {},
   "outputs": [],
   "source": [
    "TP = {'RiboSET': 18, # 1\n",
    " 'PhyloSET': 0, \n",
    " 'RiboSET_ext': 0,\n",
    " 'UntranslSET': 0,\n",
    " 'UtranslSET_ext': 0,\n",
    "\n",
    "}"
   ]
  },
  {
   "cell_type": "code",
   "execution_count": 54,
   "metadata": {},
   "outputs": [
    {
     "data": {
      "text/plain": [
       "12"
      ]
     },
     "execution_count": 54,
     "metadata": {},
     "output_type": "execute_result"
    }
   ],
   "source": [
    "tmp[tmp['CS_pos'] <= tmp['cds_start_aa_in_ext2']].ids.nunique()"
   ]
  },
  {
   "cell_type": "code",
   "execution_count": 56,
   "metadata": {},
   "outputs": [],
   "source": [
    "tmp[tmp['cds_start_aa_in_ext2'] >= tmp['m_start']][['ids', 'gene', 'seq_m', 'cds_start_aa_in_ext2', 'CS_pos']].merge(NTE_aa_df_ribo, on='gene', how='left').to_csv('../Supplementary_tables/RiboSET_TargetP.txt', sep='\\t', index=False)"
   ]
  },
  {
   "cell_type": "code",
   "execution_count": null,
   "metadata": {},
   "outputs": [],
   "source": []
  },
  {
   "cell_type": "markdown",
   "metadata": {},
   "source": [
    "# PhyloSET"
   ]
  },
  {
   "cell_type": "code",
   "execution_count": 57,
   "metadata": {},
   "outputs": [
    {
     "name": "stdout",
     "output_type": "stream",
     "text": [
      "genes from RiboSET with mito signal: \n",
      "0\n"
     ]
    }
   ],
   "source": [
    "targetP_phyloset = pd.read_csv('localisation/TargetP/PhyloSET_TargetP.txt', sep='\\t', comment='#', header=None)\n",
    "targetP_phyloset.columns = ['ids', 'class', 'score_other', 'score_sp', 'score_m', 'seq_m']\n",
    "\n",
    "targetP_phyloset['tr_id'] = [x.split('_')[0] for x in targetP_phyloset['ids'].tolist()]\n",
    "targetP_phyloset['gene'] = [x.split('_')[-1] for x in targetP_phyloset['ids'].tolist()]\n",
    "\n",
    "print ('genes from RiboSET with mito signal: ')\n",
    "\n",
    "print (targetP_phyloset[(targetP_phyloset['seq_m'].notna()) & (targetP_phyloset['class'] == 'mTP')].gene.nunique())"
   ]
  },
  {
   "cell_type": "code",
   "execution_count": 58,
   "metadata": {},
   "outputs": [],
   "source": [
    "TP = {'RiboSET': 18, # 1\n",
    " 'PhyloSET': 0, \n",
    " 'RiboSET_ext': 0,\n",
    " 'UntranslSET': 0,\n",
    " 'UtranslSET_ext': 0,\n",
    "\n",
    "}"
   ]
  },
  {
   "cell_type": "code",
   "execution_count": null,
   "metadata": {},
   "outputs": [],
   "source": []
  },
  {
   "cell_type": "markdown",
   "metadata": {},
   "source": [
    "# RiboSET-match "
   ]
  },
  {
   "cell_type": "code",
   "execution_count": null,
   "metadata": {},
   "outputs": [],
   "source": [
    "targetP_riboset = pd.read_csv('localisation/TargetP/Match_384_TargetP.txt', sep='\\t', comment='#', header=None)\n",
    "targetP_riboset.columns = ['ids', 'class', 'score_other', 'score_sp', 'score_m', 'seq_m']\n",
    "\n",
    "targetP_riboset['tr_id'] = [x.split('_')[0] for x in targetP_riboset['ids'].tolist()]\n",
    "targetP_riboset['gene'] = [x.split('_')[-1] for x in targetP_riboset['ids'].tolist()]\n",
    "\n",
    "targetP_riboset = targetP_riboset[~targetP_riboset['gene'].isin(['STIM2', 'AP3S1', 'PTPRJ'])]\n",
    "\n",
    "print ('genes from RiboSET with mito signal: ')\n",
    "print (targetP_riboset[(targetP_riboset['seq_m'].notna()) & (targetP_riboset['class'] == 'mTP')].gene.nunique())\n",
    "\n",
    "tmp = targetP_riboset[(targetP_riboset['seq_m'].notna()) & \n",
    "                      (targetP_riboset['class'] == 'mTP')].merge(match_aa_df, on=['gene', 'tr_id'], how='inner')\n",
    "\n",
    "print (tmp.shape[0])\n",
    "\n",
    "tmp['CS_pos'] = [int(x.split('CS pos:')[1].split('-')[0]) for x in tmp['seq_m'].tolist()]\n",
    "tmp['m_start'] = tmp['CS_pos']-20"
   ]
  },
  {
   "cell_type": "code",
   "execution_count": null,
   "metadata": {},
   "outputs": [],
   "source": [
    "len(tmp[tmp['cds_start_aa_in_ext2'] >= tmp['m_start']][['ids', 'gene', 'seq_m', 'cds_start_aa_in_ext2', 'CS_pos']].merge(match_aa_df, on='gene', how='left').gene.tolist())"
   ]
  },
  {
   "cell_type": "code",
   "execution_count": null,
   "metadata": {},
   "outputs": [],
   "source": [
    "TP = {'RiboSET': 18, # 1\n",
    " 'PhyloSET': 0, \n",
    " 'UntranslSET': 7,\n",
    "  'RiboSET_ext': 0,\n",
    " 'UtranslSET_ext': 0,x\n",
    "\n",
    "}"
   ]
  },
  {
   "cell_type": "code",
   "execution_count": null,
   "metadata": {},
   "outputs": [],
   "source": []
  },
  {
   "cell_type": "markdown",
   "metadata": {},
   "source": [
    "# RiboSET ext"
   ]
  },
  {
   "cell_type": "code",
   "execution_count": 59,
   "metadata": {},
   "outputs": [
    {
     "name": "stdout",
     "output_type": "stream",
     "text": [
      "genes from RiboSET with mito signal: \n",
      "103\n",
      "103\n"
     ]
    }
   ],
   "source": [
    "targetP_riboset = pd.read_csv('localisation/TargetP/RiboSET_ext_TargetP.txt', sep='\\t', comment='#', header=None)\n",
    "targetP_riboset.columns = ['ids', 'class', 'score_other', 'score_sp', 'score_m', 'seq_m']\n",
    "\n",
    "targetP_riboset['tr_id'] = [x.split('_')[0] for x in targetP_riboset['ids'].tolist()]\n",
    "targetP_riboset['gene'] = [x.split('_')[-1] for x in targetP_riboset['ids'].tolist()]\n",
    "\n",
    "targetP_riboset = targetP_riboset[~targetP_riboset['gene'].isin(['STIM2', 'AP3S1', 'PTPRJ'])]\n",
    "\n",
    "print ('genes from RiboSET with mito signal: ')\n",
    "print (targetP_riboset[(targetP_riboset['seq_m'].notna()) & (targetP_riboset['class'] == 'mTP')].gene.nunique())\n",
    "\n",
    "tmp = targetP_riboset[(targetP_riboset['seq_m'].notna()) & \n",
    "                      (targetP_riboset['class'] == 'mTP')].merge(RiboSET_Ext, on=['gene', 'tr_id'], how='inner')\n",
    "\n",
    "print (tmp.shape[0])\n",
    "\n",
    "tmp['CS_pos'] = [int(x.split('CS pos:')[1].split('-')[0]) for x in tmp['seq_m'].tolist()]\n",
    "tmp['m_start'] = tmp['CS_pos']-20"
   ]
  },
  {
   "cell_type": "code",
   "execution_count": 60,
   "metadata": {},
   "outputs": [
    {
     "data": {
      "text/plain": [
       "83"
      ]
     },
     "execution_count": 60,
     "metadata": {},
     "output_type": "execute_result"
    }
   ],
   "source": [
    "len(tmp[tmp['cds_start_aa_in_ext2'] >= tmp['m_start']][['ids', 'gene', 'seq_m', 'cds_start_aa_in_ext2', 'CS_pos']].merge(match_aa_df, on='gene', how='left').gene.tolist())"
   ]
  },
  {
   "cell_type": "code",
   "execution_count": 61,
   "metadata": {},
   "outputs": [],
   "source": [
    "TP = {'RiboSET': 18, # 1\n",
    " 'PhyloSET': 0, \n",
    " 'UntranslSET': 7,\n",
    "  'RiboSET_ext': 83,\n",
    "}"
   ]
  },
  {
   "cell_type": "code",
   "execution_count": 69,
   "metadata": {},
   "outputs": [],
   "source": [
    "tmp[tmp['cds_start_aa_in_ext2'] >= tmp['m_start']].to_csv('../Supplementary_tables/RiboSET_ext_TargetP.txt', sep='\\t', index=False)"
   ]
  },
  {
   "cell_type": "code",
   "execution_count": 70,
   "metadata": {},
   "outputs": [
    {
     "data": {
      "text/plain": [
       "83"
      ]
     },
     "execution_count": 70,
     "metadata": {},
     "output_type": "execute_result"
    }
   ],
   "source": [
    "tmp[tmp['cds_start_aa_in_ext2'] >= tmp['m_start']].ids.nunique()"
   ]
  },
  {
   "cell_type": "code",
   "execution_count": 71,
   "metadata": {},
   "outputs": [
    {
     "data": {
      "text/plain": [
       "57"
      ]
     },
     "execution_count": 71,
     "metadata": {},
     "output_type": "execute_result"
    }
   ],
   "source": [
    "tmp[tmp['CS_pos'] <= tmp['cds_start_aa_in_ext2']].ids.nunique()"
   ]
  },
  {
   "cell_type": "code",
   "execution_count": null,
   "metadata": {},
   "outputs": [],
   "source": [
    "# RiboSET ext vs matched \n",
    "a = 18\n",
    "b = 390-18\n",
    "c = 7\n",
    "d = 384-7\n",
    "\n",
    "\n",
    "table = [[a,b], \n",
    "         [c,d]]\n",
    "\n",
    "\n",
    "oddsr, p = fisher_exact(table, alternative='greater')\n",
    "\n",
    "p, oddsr"
   ]
  },
  {
   "cell_type": "code",
   "execution_count": null,
   "metadata": {},
   "outputs": [],
   "source": [
    "RiboSET_EXT_cds_cov_nonzero.shape[0]"
   ]
  },
  {
   "cell_type": "code",
   "execution_count": null,
   "metadata": {},
   "outputs": [],
   "source": [
    "# RiboSET ext vs matched \n",
    "a = 83\n",
    "b = 3451 - 83\n",
    "c = 7\n",
    "d = 384-7\n",
    "\n",
    "\n",
    "table = [[a,b], \n",
    "         [c,d]]\n",
    "\n",
    "\n",
    "oddsr, p = fisher_exact(table, alternative='greater')\n",
    "\n",
    "p, oddsr"
   ]
  },
  {
   "cell_type": "code",
   "execution_count": null,
   "metadata": {},
   "outputs": [],
   "source": []
  },
  {
   "cell_type": "code",
   "execution_count": null,
   "metadata": {},
   "outputs": [],
   "source": []
  },
  {
   "cell_type": "markdown",
   "metadata": {},
   "source": [
    "# TMHMM"
   ]
  },
  {
   "cell_type": "markdown",
   "metadata": {},
   "source": [
    "# RiboSET"
   ]
  },
  {
   "cell_type": "code",
   "execution_count": 72,
   "metadata": {},
   "outputs": [
    {
     "data": {
      "text/html": [
       "<div>\n",
       "<style scoped>\n",
       "    .dataframe tbody tr th:only-of-type {\n",
       "        vertical-align: middle;\n",
       "    }\n",
       "\n",
       "    .dataframe tbody tr th {\n",
       "        vertical-align: top;\n",
       "    }\n",
       "\n",
       "    .dataframe thead th {\n",
       "        text-align: right;\n",
       "    }\n",
       "</style>\n",
       "<table border=\"1\" class=\"dataframe\">\n",
       "  <thead>\n",
       "    <tr style=\"text-align: right;\">\n",
       "      <th></th>\n",
       "      <th>tr_id</th>\n",
       "      <th>gene</th>\n",
       "      <th>length</th>\n",
       "      <th>real_seq</th>\n",
       "      <th>prediction_seq</th>\n",
       "      <th>real_len</th>\n",
       "      <th>pred_len</th>\n",
       "      <th>any_m</th>\n",
       "      <th>pos_of_1st_m</th>\n",
       "    </tr>\n",
       "  </thead>\n",
       "  <tbody>\n",
       "    <tr>\n",
       "      <th>0</th>\n",
       "      <td>ENST00000379389.4</td>\n",
       "      <td>ISG15</td>\n",
       "      <td>216</td>\n",
       "      <td>AGSAARPLTCVPQAYNRAGAACRSRRLRGSELIFASTGACAVAHSP...</td>\n",
       "      <td>IIIIIIIIIIIIIIIIIIIIIIIIIIIIIIIIIIIIIIIIIIIIII...</td>\n",
       "      <td>216</td>\n",
       "      <td>216</td>\n",
       "      <td>False</td>\n",
       "      <td>NaN</td>\n",
       "    </tr>\n",
       "    <tr>\n",
       "      <th>1</th>\n",
       "      <td>ENST00000349431.10</td>\n",
       "      <td>UBE2J2</td>\n",
       "      <td>324</td>\n",
       "      <td>AGSAPRAAILEAEAAAAALRRVRWAQSRGGAAVSGAGPAFPHPAPA...</td>\n",
       "      <td>IIIIIIIIIIIIIIIIIIIIIIIIIIIIIIIIIIIIIIIIIIIIII...</td>\n",
       "      <td>324</td>\n",
       "      <td>324</td>\n",
       "      <td>True</td>\n",
       "      <td>296.0</td>\n",
       "    </tr>\n",
       "    <tr>\n",
       "      <th>2</th>\n",
       "      <td>ENST00000338370.7</td>\n",
       "      <td>AURKAIP1</td>\n",
       "      <td>333</td>\n",
       "      <td>RSGLGRVSGRPEGAGRCGRRARGPAERVRAPGNAIRAGVNPGRGPA...</td>\n",
       "      <td>IIIIIIIIIIIIIIIIIIIIIIIIIIIIIIIIIIIIIIIIIIIIII...</td>\n",
       "      <td>333</td>\n",
       "      <td>333</td>\n",
       "      <td>False</td>\n",
       "      <td>NaN</td>\n",
       "    </tr>\n",
       "  </tbody>\n",
       "</table>\n",
       "</div>"
      ],
      "text/plain": [
       "                tr_id      gene  length  \\\n",
       "0   ENST00000379389.4     ISG15     216   \n",
       "1  ENST00000349431.10    UBE2J2     324   \n",
       "2   ENST00000338370.7  AURKAIP1     333   \n",
       "\n",
       "                                            real_seq  \\\n",
       "0  AGSAARPLTCVPQAYNRAGAACRSRRLRGSELIFASTGACAVAHSP...   \n",
       "1  AGSAPRAAILEAEAAAAALRRVRWAQSRGGAAVSGAGPAFPHPAPA...   \n",
       "2  RSGLGRVSGRPEGAGRCGRRARGPAERVRAPGNAIRAGVNPGRGPA...   \n",
       "\n",
       "                                      prediction_seq  real_len  pred_len  \\\n",
       "0  IIIIIIIIIIIIIIIIIIIIIIIIIIIIIIIIIIIIIIIIIIIIII...       216       216   \n",
       "1  IIIIIIIIIIIIIIIIIIIIIIIIIIIIIIIIIIIIIIIIIIIIII...       324       324   \n",
       "2  IIIIIIIIIIIIIIIIIIIIIIIIIIIIIIIIIIIIIIIIIIIIII...       333       333   \n",
       "\n",
       "   any_m  pos_of_1st_m  \n",
       "0  False           NaN  \n",
       "1   True         296.0  \n",
       "2  False           NaN  "
      ]
     },
     "execution_count": 72,
     "metadata": {},
     "output_type": "execute_result"
    }
   ],
   "source": [
    "li = []\n",
    "\n",
    "for record in SeqIO.parse(\"localisation/TMHMM/RiboSET_DeepTMHMM.3line\", \"fasta\"):\n",
    "    length = len(str(record.seq).split('*')[0])\n",
    "    tr_id = record.id.split('_')[0]\n",
    "    gene = record.id.split('_')[1]\n",
    "    length = int(len(str(record.seq))/2)\n",
    "    pred_seq = str(record.seq)[int(len(str(record.seq))/2):]\n",
    "    real_seq = str(record.seq)[0:int(len(str(record.seq))/2)]\n",
    "    real_len = len(real_seq)\n",
    "    pred_len = len(pred_seq)\n",
    "    \n",
    "    if ('M' in list(pred_seq)):\n",
    "        any_m = True \n",
    "        pos_of_1st_m = pred_seq.find('M')\n",
    "    else:\n",
    "        any_m = False \n",
    "        pos_of_1st_m = None\n",
    "        \n",
    "        \n",
    "    li.append([tr_id, gene, length, real_seq, pred_seq,\n",
    "                              real_len, pred_len, any_m, pos_of_1st_m])\n",
    "    \n",
    "    \n",
    "    \n",
    "parse_df = pd.DataFrame(li, columns = ['tr_id', 'gene', 'length', 'real_seq', 'prediction_seq',\n",
    "                              'real_len', 'pred_len', 'any_m', 'pos_of_1st_m'])\n",
    "\n",
    "parse_df[0:3]"
   ]
  },
  {
   "cell_type": "code",
   "execution_count": 73,
   "metadata": {},
   "outputs": [
    {
     "data": {
      "text/plain": [
       "array(['CDC42SE2', 'KDSR'], dtype=object)"
      ]
     },
     "execution_count": 73,
     "metadata": {},
     "output_type": "execute_result"
    }
   ],
   "source": [
    "TMHMM_riboset_preds = NTE_aa_df_ribo[['tr_id', 'gene', 'cds_start_aa_in_ext2']].merge(parse_df[parse_df['any_m'] == True], on=['gene'], how='inner').drop_duplicates()\n",
    "\n",
    "TMHMM_riboset_preds[TMHMM_riboset_preds['pos_of_1st_m'] < TMHMM_riboset_preds['cds_start_aa_in_ext2']].gene.unique()"
   ]
  },
  {
   "cell_type": "code",
   "execution_count": 35,
   "metadata": {},
   "outputs": [
    {
     "data": {
      "text/plain": [
       "2"
      ]
     },
     "execution_count": 35,
     "metadata": {},
     "output_type": "execute_result"
    }
   ],
   "source": [
    "TMHMM_riboset_preds[TMHMM_riboset_preds['pos_of_1st_m'] < TMHMM_riboset_preds['cds_start_aa_in_ext2']].gene.nunique()"
   ]
  },
  {
   "cell_type": "code",
   "execution_count": 74,
   "metadata": {},
   "outputs": [],
   "source": [
    "TMHMM_riboset_preds[TMHMM_riboset_preds['pos_of_1st_m'] < TMHMM_riboset_preds['cds_start_aa_in_ext2']].to_csv('../Supplementary_tables/RiboSET_ext_DeepTMHMM.txt', sep='\\t', index=False)"
   ]
  },
  {
   "cell_type": "code",
   "execution_count": 36,
   "metadata": {},
   "outputs": [],
   "source": [
    "TP = {'RiboSET': 2, # 1\n",
    " 'PhyloSET': 0, \n",
    " 'RiboSET_ext': 0,\n",
    " 'UntranslSET': 0,\n",
    " 'UtranslSET_ext': 0,\n",
    "\n",
    "}"
   ]
  },
  {
   "cell_type": "code",
   "execution_count": null,
   "metadata": {},
   "outputs": [],
   "source": []
  },
  {
   "cell_type": "markdown",
   "metadata": {},
   "source": [
    "# PhyloSET "
   ]
  },
  {
   "cell_type": "code",
   "execution_count": 75,
   "metadata": {},
   "outputs": [
    {
     "data": {
      "text/html": [
       "<div>\n",
       "<style scoped>\n",
       "    .dataframe tbody tr th:only-of-type {\n",
       "        vertical-align: middle;\n",
       "    }\n",
       "\n",
       "    .dataframe tbody tr th {\n",
       "        vertical-align: top;\n",
       "    }\n",
       "\n",
       "    .dataframe thead th {\n",
       "        text-align: right;\n",
       "    }\n",
       "</style>\n",
       "<table border=\"1\" class=\"dataframe\">\n",
       "  <thead>\n",
       "    <tr style=\"text-align: right;\">\n",
       "      <th></th>\n",
       "      <th>tr_id</th>\n",
       "      <th>gene</th>\n",
       "      <th>length</th>\n",
       "      <th>real_seq</th>\n",
       "      <th>prediction_seq</th>\n",
       "      <th>real_len</th>\n",
       "      <th>pred_len</th>\n",
       "      <th>any_m</th>\n",
       "      <th>pos_of_1st_m</th>\n",
       "    </tr>\n",
       "  </thead>\n",
       "  <tbody>\n",
       "    <tr>\n",
       "      <th>0</th>\n",
       "      <td>ENST00000377898.3</td>\n",
       "      <td>HES3</td>\n",
       "      <td>207</td>\n",
       "      <td>GTEPAARGSLPGNFRKISKPLMEKKRRARINVSLEQLKSLLEKHYS...</td>\n",
       "      <td>IIIIIIIIIIIIIIIIIIIIIIIIIIIIIIIIIIIIIIIIIIIIII...</td>\n",
       "      <td>207</td>\n",
       "      <td>207</td>\n",
       "      <td>False</td>\n",
       "      <td>NaN</td>\n",
       "    </tr>\n",
       "    <tr>\n",
       "      <th>1</th>\n",
       "      <td>ENST00000400907.6</td>\n",
       "      <td>RERE</td>\n",
       "      <td>608</td>\n",
       "      <td>KPRLTVYLSRRPSRERTEEGTWRIMTADKDKDKDKEKDRDRDRDRE...</td>\n",
       "      <td>IIIIIIIIIIIIIIIIIIIIIIIIIIIIIIIIIIIIIIIIIIIIII...</td>\n",
       "      <td>608</td>\n",
       "      <td>608</td>\n",
       "      <td>False</td>\n",
       "      <td>NaN</td>\n",
       "    </tr>\n",
       "    <tr>\n",
       "      <th>2</th>\n",
       "      <td>ENST00000455833.6</td>\n",
       "      <td>IFFO2</td>\n",
       "      <td>635</td>\n",
       "      <td>QKGQCRPRVLCVRLPRPLHSVSDSPGGETRDPSGPAQIPRPPPRPE...</td>\n",
       "      <td>IIIIIIIIIIIIIIIIIIIIIIIIIIIIIIIIIIIIIIIIIIIIII...</td>\n",
       "      <td>635</td>\n",
       "      <td>635</td>\n",
       "      <td>False</td>\n",
       "      <td>NaN</td>\n",
       "    </tr>\n",
       "  </tbody>\n",
       "</table>\n",
       "</div>"
      ],
      "text/plain": [
       "               tr_id   gene  length  \\\n",
       "0  ENST00000377898.3   HES3     207   \n",
       "1  ENST00000400907.6   RERE     608   \n",
       "2  ENST00000455833.6  IFFO2     635   \n",
       "\n",
       "                                            real_seq  \\\n",
       "0  GTEPAARGSLPGNFRKISKPLMEKKRRARINVSLEQLKSLLEKHYS...   \n",
       "1  KPRLTVYLSRRPSRERTEEGTWRIMTADKDKDKDKEKDRDRDRDRE...   \n",
       "2  QKGQCRPRVLCVRLPRPLHSVSDSPGGETRDPSGPAQIPRPPPRPE...   \n",
       "\n",
       "                                      prediction_seq  real_len  pred_len  \\\n",
       "0  IIIIIIIIIIIIIIIIIIIIIIIIIIIIIIIIIIIIIIIIIIIIII...       207       207   \n",
       "1  IIIIIIIIIIIIIIIIIIIIIIIIIIIIIIIIIIIIIIIIIIIIII...       608       608   \n",
       "2  IIIIIIIIIIIIIIIIIIIIIIIIIIIIIIIIIIIIIIIIIIIIII...       635       635   \n",
       "\n",
       "   any_m  pos_of_1st_m  \n",
       "0  False           NaN  \n",
       "1  False           NaN  \n",
       "2  False           NaN  "
      ]
     },
     "execution_count": 75,
     "metadata": {},
     "output_type": "execute_result"
    }
   ],
   "source": [
    "li = []\n",
    "\n",
    "for record in SeqIO.parse(\"localisation/TMHMM/PhyloSET_DeepTHMMM.3line\", \"fasta\"):\n",
    "    tr_id = record.id.split('_')[0]\n",
    "    gene = record.id.split('_')[1]\n",
    "    length = int(len(str(record.seq))/2)\n",
    "    pred_seq = str(record.seq)[int(len(str(record.seq))/2):]\n",
    "    real_seq = str(record.seq)[0:int(len(str(record.seq))/2)]\n",
    "    real_len = len(real_seq)\n",
    "    pred_len = len(pred_seq)\n",
    "    \n",
    "    if ('M' in list(pred_seq)):\n",
    "        any_m = True \n",
    "        pos_of_1st_m = pred_seq.find('M')\n",
    "    else:\n",
    "        any_m = False \n",
    "        pos_of_1st_m = None\n",
    "        \n",
    "        \n",
    "    li.append([tr_id, gene, length, real_seq, pred_seq,\n",
    "                              real_len, pred_len, any_m, pos_of_1st_m])\n",
    "    \n",
    "    \n",
    "    \n",
    "parse_df = pd.DataFrame(li, columns = ['tr_id', 'gene', 'length', 'real_seq', 'prediction_seq',\n",
    "                              'real_len', 'pred_len', 'any_m', 'pos_of_1st_m'])\n",
    "\n",
    "parse_df[0:3]"
   ]
  },
  {
   "cell_type": "code",
   "execution_count": 76,
   "metadata": {},
   "outputs": [
    {
     "data": {
      "text/plain": [
       "array(['C1QL2', 'C1QL3'], dtype=object)"
      ]
     },
     "execution_count": 76,
     "metadata": {},
     "output_type": "execute_result"
    }
   ],
   "source": [
    "TMHMM_phyloset_preds = NTE_aa_df[['tr_id', 'gene', 'cds_start_aa_in_ext2']].merge(parse_df[parse_df['any_m'] == True], on=['gene'], how='inner').drop_duplicates()\n",
    "\n",
    "TMHMM_phyloset_preds[TMHMM_phyloset_preds['pos_of_1st_m'] < TMHMM_phyloset_preds['cds_start_aa_in_ext2']].gene.unique()"
   ]
  },
  {
   "cell_type": "code",
   "execution_count": 77,
   "metadata": {},
   "outputs": [],
   "source": [
    "TMHMM_phyloset_preds[TMHMM_phyloset_preds['pos_of_1st_m'] < TMHMM_phyloset_preds['cds_start_aa_in_ext2']].to_csv('../Supplementary_tables/PhyloSET_ext_DeepTMHMM.txt', sep='\\t', index=False)"
   ]
  },
  {
   "cell_type": "code",
   "execution_count": 39,
   "metadata": {},
   "outputs": [],
   "source": [
    "TP = {'RiboSET': 2, # 1\n",
    " 'PhyloSET': 0, \n",
    " 'RiboSET_ext': 0,\n",
    " 'UntranslSET': 0,\n",
    " 'UtranslSET_ext': 0,\n",
    "\n",
    "}"
   ]
  },
  {
   "cell_type": "code",
   "execution_count": 40,
   "metadata": {},
   "outputs": [
    {
     "data": {
      "text/html": [
       "<div>\n",
       "<style scoped>\n",
       "    .dataframe tbody tr th:only-of-type {\n",
       "        vertical-align: middle;\n",
       "    }\n",
       "\n",
       "    .dataframe tbody tr th {\n",
       "        vertical-align: top;\n",
       "    }\n",
       "\n",
       "    .dataframe thead th {\n",
       "        text-align: right;\n",
       "    }\n",
       "</style>\n",
       "<table border=\"1\" class=\"dataframe\">\n",
       "  <thead>\n",
       "    <tr style=\"text-align: right;\">\n",
       "      <th></th>\n",
       "      <th>tr_id_x</th>\n",
       "      <th>gene</th>\n",
       "      <th>cds_start_aa_in_ext2</th>\n",
       "      <th>tr_id_y</th>\n",
       "      <th>length</th>\n",
       "      <th>real_seq</th>\n",
       "      <th>prediction_seq</th>\n",
       "      <th>real_len</th>\n",
       "      <th>pred_len</th>\n",
       "      <th>any_m</th>\n",
       "      <th>pos_of_1st_m</th>\n",
       "    </tr>\n",
       "  </thead>\n",
       "  <tbody>\n",
       "    <tr>\n",
       "      <th>0</th>\n",
       "      <td>ENST00000368061.2</td>\n",
       "      <td>VANGL2</td>\n",
       "      <td>114</td>\n",
       "      <td>ENST00000368061.2</td>\n",
       "      <td>635</td>\n",
       "      <td>PDSRTPPSTSPIARAACPGAPSSERPGALRIQRRRAERGARGAHPA...</td>\n",
       "      <td>IIIIIIIIIIIIIIIIIIIIIIIIIIIIIIIIIIIIIIIIIIIIII...</td>\n",
       "      <td>635</td>\n",
       "      <td>635</td>\n",
       "      <td>True</td>\n",
       "      <td>220.0</td>\n",
       "    </tr>\n",
       "    <tr>\n",
       "      <th>1</th>\n",
       "      <td>ENST00000636345.1</td>\n",
       "      <td>NRXN1</td>\n",
       "      <td>38</td>\n",
       "      <td>ENST00000636345.1</td>\n",
       "      <td>181</td>\n",
       "      <td>SQGALLSPVLISEDGLNFLGFPLRIKKKALSTQGSQTDMDMRWHCE...</td>\n",
       "      <td>OOOOOOOOOOOOOOOOOOOOOOOOOOOOOOOOOOOOOOOOOOOOOO...</td>\n",
       "      <td>181</td>\n",
       "      <td>181</td>\n",
       "      <td>True</td>\n",
       "      <td>105.0</td>\n",
       "    </tr>\n",
       "  </tbody>\n",
       "</table>\n",
       "</div>"
      ],
      "text/plain": [
       "             tr_id_x    gene  cds_start_aa_in_ext2            tr_id_y  length  \\\n",
       "0  ENST00000368061.2  VANGL2                   114  ENST00000368061.2     635   \n",
       "1  ENST00000636345.1   NRXN1                    38  ENST00000636345.1     181   \n",
       "\n",
       "                                            real_seq  \\\n",
       "0  PDSRTPPSTSPIARAACPGAPSSERPGALRIQRRRAERGARGAHPA...   \n",
       "1  SQGALLSPVLISEDGLNFLGFPLRIKKKALSTQGSQTDMDMRWHCE...   \n",
       "\n",
       "                                      prediction_seq  real_len  pred_len  \\\n",
       "0  IIIIIIIIIIIIIIIIIIIIIIIIIIIIIIIIIIIIIIIIIIIIII...       635       635   \n",
       "1  OOOOOOOOOOOOOOOOOOOOOOOOOOOOOOOOOOOOOOOOOOOOOO...       181       181   \n",
       "\n",
       "   any_m  pos_of_1st_m  \n",
       "0   True         220.0  \n",
       "1   True         105.0  "
      ]
     },
     "execution_count": 40,
     "metadata": {},
     "output_type": "execute_result"
    }
   ],
   "source": [
    "TMHMM_phyloset_preds[0:2]"
   ]
  },
  {
   "cell_type": "code",
   "execution_count": 41,
   "metadata": {},
   "outputs": [
    {
     "data": {
      "text/html": [
       "<div>\n",
       "<style scoped>\n",
       "    .dataframe tbody tr th:only-of-type {\n",
       "        vertical-align: middle;\n",
       "    }\n",
       "\n",
       "    .dataframe tbody tr th {\n",
       "        vertical-align: top;\n",
       "    }\n",
       "\n",
       "    .dataframe thead th {\n",
       "        text-align: right;\n",
       "    }\n",
       "</style>\n",
       "<table border=\"1\" class=\"dataframe\">\n",
       "  <thead>\n",
       "    <tr style=\"text-align: right;\">\n",
       "      <th></th>\n",
       "      <th>tr_id_x</th>\n",
       "      <th>gene</th>\n",
       "      <th>cds_start_aa_in_ext2</th>\n",
       "      <th>tr_id_y</th>\n",
       "      <th>length</th>\n",
       "      <th>real_seq</th>\n",
       "      <th>prediction_seq</th>\n",
       "      <th>real_len</th>\n",
       "      <th>pred_len</th>\n",
       "      <th>any_m</th>\n",
       "      <th>pos_of_1st_m</th>\n",
       "    </tr>\n",
       "  </thead>\n",
       "  <tbody>\n",
       "    <tr>\n",
       "      <th>0</th>\n",
       "      <td>ENST00000349431.10</td>\n",
       "      <td>UBE2J2</td>\n",
       "      <td>64</td>\n",
       "      <td>ENST00000349431.10</td>\n",
       "      <td>324</td>\n",
       "      <td>AGSAPRAAILEAEAAAAALRRVRWAQSRGGAAVSGAGPAFPHPAPA...</td>\n",
       "      <td>IIIIIIIIIIIIIIIIIIIIIIIIIIIIIIIIIIIIIIIIIIIIII...</td>\n",
       "      <td>324</td>\n",
       "      <td>324</td>\n",
       "      <td>True</td>\n",
       "      <td>296.0</td>\n",
       "    </tr>\n",
       "    <tr>\n",
       "      <th>1</th>\n",
       "      <td>ENST00000521580.2</td>\n",
       "      <td>SMIM12</td>\n",
       "      <td>48</td>\n",
       "      <td>ENST00000521580.2</td>\n",
       "      <td>141</td>\n",
       "      <td>CAPREPAASGQGHRARSRGPLGAATSVLPASGRRAGAALGSVGWAA...</td>\n",
       "      <td>OOOOOOOOOOOOOOOOOOOOOOOOOOOOOOOOOOOOOOOOOOOOOO...</td>\n",
       "      <td>141</td>\n",
       "      <td>141</td>\n",
       "      <td>True</td>\n",
       "      <td>60.0</td>\n",
       "    </tr>\n",
       "  </tbody>\n",
       "</table>\n",
       "</div>"
      ],
      "text/plain": [
       "              tr_id_x    gene  cds_start_aa_in_ext2             tr_id_y  \\\n",
       "0  ENST00000349431.10  UBE2J2                    64  ENST00000349431.10   \n",
       "1   ENST00000521580.2  SMIM12                    48   ENST00000521580.2   \n",
       "\n",
       "   length                                           real_seq  \\\n",
       "0     324  AGSAPRAAILEAEAAAAALRRVRWAQSRGGAAVSGAGPAFPHPAPA...   \n",
       "1     141  CAPREPAASGQGHRARSRGPLGAATSVLPASGRRAGAALGSVGWAA...   \n",
       "\n",
       "                                      prediction_seq  real_len  pred_len  \\\n",
       "0  IIIIIIIIIIIIIIIIIIIIIIIIIIIIIIIIIIIIIIIIIIIIII...       324       324   \n",
       "1  OOOOOOOOOOOOOOOOOOOOOOOOOOOOOOOOOOOOOOOOOOOOOO...       141       141   \n",
       "\n",
       "   any_m  pos_of_1st_m  \n",
       "0   True         296.0  \n",
       "1   True          60.0  "
      ]
     },
     "execution_count": 41,
     "metadata": {},
     "output_type": "execute_result"
    }
   ],
   "source": [
    "[0:2]"
   ]
  },
  {
   "cell_type": "code",
   "execution_count": null,
   "metadata": {},
   "outputs": [],
   "source": []
  },
  {
   "cell_type": "markdown",
   "metadata": {},
   "source": [
    "# PLOT THEM "
   ]
  },
  {
   "cell_type": "code",
   "execution_count": 61,
   "metadata": {},
   "outputs": [
    {
     "data": {
      "text/html": [
       "<div>\n",
       "<style scoped>\n",
       "    .dataframe tbody tr th:only-of-type {\n",
       "        vertical-align: middle;\n",
       "    }\n",
       "\n",
       "    .dataframe tbody tr th {\n",
       "        vertical-align: top;\n",
       "    }\n",
       "\n",
       "    .dataframe thead th {\n",
       "        text-align: right;\n",
       "    }\n",
       "</style>\n",
       "<table border=\"1\" class=\"dataframe\">\n",
       "  <thead>\n",
       "    <tr style=\"text-align: right;\">\n",
       "      <th></th>\n",
       "      <th>tr_id_x</th>\n",
       "      <th>gene</th>\n",
       "      <th>prediction_seq</th>\n",
       "      <th>pos_of_1st_m</th>\n",
       "      <th>cds_start_aa_in_ext2</th>\n",
       "    </tr>\n",
       "  </thead>\n",
       "  <tbody>\n",
       "    <tr>\n",
       "      <th>2</th>\n",
       "      <td>ENST00000272520.3</td>\n",
       "      <td>C1QL2</td>\n",
       "      <td>IIIIIIIIIIIIIIIIIIIIIIIIIIIIIIIIIIIIIIIIIIIIII...</td>\n",
       "      <td>56.0</td>\n",
       "      <td>65</td>\n",
       "    </tr>\n",
       "    <tr>\n",
       "      <th>17</th>\n",
       "      <td>ENST00000619991.1</td>\n",
       "      <td>C1QL3</td>\n",
       "      <td>IIIIIIIIIIIIIIIIMMMMMMMMMMMMMMMMMMMMMMMOOOOOOO...</td>\n",
       "      <td>16.0</td>\n",
       "      <td>26</td>\n",
       "    </tr>\n",
       "    <tr>\n",
       "      <th>22</th>\n",
       "      <td>ENST00000505065.1</td>\n",
       "      <td>CDC42SE2</td>\n",
       "      <td>SSSSSSSSSSSSSSOOOOOOOOOMMMMMMMMMMMMMMMMMMMIIII...</td>\n",
       "      <td>23.0</td>\n",
       "      <td>37</td>\n",
       "    </tr>\n",
       "    <tr>\n",
       "      <th>59</th>\n",
       "      <td>ENST00000406396.7</td>\n",
       "      <td>KDSR</td>\n",
       "      <td>OOOOOOOOOOOOOOOOOOOOOOOOOOMMMMMMMMMMMMMMMMMMMM...</td>\n",
       "      <td>26.0</td>\n",
       "      <td>28</td>\n",
       "    </tr>\n",
       "  </tbody>\n",
       "</table>\n",
       "</div>"
      ],
      "text/plain": [
       "              tr_id_x      gene  \\\n",
       "2   ENST00000272520.3     C1QL2   \n",
       "17  ENST00000619991.1     C1QL3   \n",
       "22  ENST00000505065.1  CDC42SE2   \n",
       "59  ENST00000406396.7      KDSR   \n",
       "\n",
       "                                       prediction_seq  pos_of_1st_m  \\\n",
       "2   IIIIIIIIIIIIIIIIIIIIIIIIIIIIIIIIIIIIIIIIIIIIII...          56.0   \n",
       "17  IIIIIIIIIIIIIIIIMMMMMMMMMMMMMMMMMMMMMMMOOOOOOO...          16.0   \n",
       "22  SSSSSSSSSSSSSSOOOOOOOOOMMMMMMMMMMMMMMMMMMMIIII...          23.0   \n",
       "59  OOOOOOOOOOOOOOOOOOOOOOOOOOMMMMMMMMMMMMMMMMMMMM...          26.0   \n",
       "\n",
       "    cds_start_aa_in_ext2  \n",
       "2                     65  \n",
       "17                    26  \n",
       "22                    37  \n",
       "59                    28  "
      ]
     },
     "execution_count": 61,
     "metadata": {},
     "output_type": "execute_result"
    }
   ],
   "source": [
    "tmp = pd.concat([TMHMM_phyloset_preds[TMHMM_phyloset_preds['pos_of_1st_m'] < TMHMM_phyloset_preds['cds_start_aa_in_ext2']],\n",
    "                \n",
    "\n",
    "tmp = tmp[tmp['tr_id_x'].isin(['ENST00000272520.3', \n",
    "                        'ENST00000619991.1', \n",
    "                        'ENST00000505065.1', \n",
    "                        'ENST00000406396.7'])][['tr_id_x', 'gene', 'prediction_seq', 'pos_of_1st_m', \n",
    "                                                'cds_start_aa_in_ext2']]\n",
    "\n",
    "tmp"
   ]
  },
  {
   "cell_type": "code",
   "execution_count": 71,
   "metadata": {},
   "outputs": [
    {
     "data": {
      "text/html": [
       "<div>\n",
       "<style scoped>\n",
       "    .dataframe tbody tr th:only-of-type {\n",
       "        vertical-align: middle;\n",
       "    }\n",
       "\n",
       "    .dataframe tbody tr th {\n",
       "        vertical-align: top;\n",
       "    }\n",
       "\n",
       "    .dataframe thead th {\n",
       "        text-align: right;\n",
       "    }\n",
       "</style>\n",
       "<table border=\"1\" class=\"dataframe\">\n",
       "  <thead>\n",
       "    <tr style=\"text-align: right;\">\n",
       "      <th></th>\n",
       "      <th>tr_id_x</th>\n",
       "      <th>gene</th>\n",
       "      <th>cds_start_aa_in_ext2</th>\n",
       "      <th>tr_id_y</th>\n",
       "      <th>length</th>\n",
       "      <th>real_seq</th>\n",
       "      <th>prediction_seq</th>\n",
       "      <th>real_len</th>\n",
       "      <th>pred_len</th>\n",
       "      <th>any_m</th>\n",
       "      <th>pos_of_1st_m</th>\n",
       "    </tr>\n",
       "  </thead>\n",
       "  <tbody>\n",
       "    <tr>\n",
       "      <th>2</th>\n",
       "      <td>ENST00000272520.3</td>\n",
       "      <td>C1QL2</td>\n",
       "      <td>65</td>\n",
       "      <td>ENST00000272520.3</td>\n",
       "      <td>352</td>\n",
       "      <td>PGLGVATSGARPGPAEPVPERGERGRPRRPTITSPGGKEELVAVAS...</td>\n",
       "      <td>IIIIIIIIIIIIIIIIIIIIIIIIIIIIIIIIIIIIIIIIIIIIII...</td>\n",
       "      <td>352</td>\n",
       "      <td>352</td>\n",
       "      <td>True</td>\n",
       "      <td>56.0</td>\n",
       "    </tr>\n",
       "    <tr>\n",
       "      <th>17</th>\n",
       "      <td>ENST00000619991.1</td>\n",
       "      <td>C1QL3</td>\n",
       "      <td>26</td>\n",
       "      <td>ENST00000619991.1</td>\n",
       "      <td>239</td>\n",
       "      <td>QEDRPALSRLVGSRRRLIAAGALGVVMVLLLVILIPVLVSSAGTSA...</td>\n",
       "      <td>IIIIIIIIIIIIIIIIMMMMMMMMMMMMMMMMMMMMMMMOOOOOOO...</td>\n",
       "      <td>239</td>\n",
       "      <td>239</td>\n",
       "      <td>True</td>\n",
       "      <td>16.0</td>\n",
       "    </tr>\n",
       "  </tbody>\n",
       "</table>\n",
       "</div>"
      ],
      "text/plain": [
       "              tr_id_x   gene  cds_start_aa_in_ext2            tr_id_y  length  \\\n",
       "2   ENST00000272520.3  C1QL2                    65  ENST00000272520.3     352   \n",
       "17  ENST00000619991.1  C1QL3                    26  ENST00000619991.1     239   \n",
       "\n",
       "                                             real_seq  \\\n",
       "2   PGLGVATSGARPGPAEPVPERGERGRPRRPTITSPGGKEELVAVAS...   \n",
       "17  QEDRPALSRLVGSRRRLIAAGALGVVMVLLLVILIPVLVSSAGTSA...   \n",
       "\n",
       "                                       prediction_seq  real_len  pred_len  \\\n",
       "2   IIIIIIIIIIIIIIIIIIIIIIIIIIIIIIIIIIIIIIIIIIIIII...       352       352   \n",
       "17  IIIIIIIIIIIIIIIIMMMMMMMMMMMMMMMMMMMMMMMOOOOOOO...       239       239   \n",
       "\n",
       "    any_m  pos_of_1st_m  \n",
       "2    True          56.0  \n",
       "17   True          16.0  "
      ]
     },
     "execution_count": 71,
     "metadata": {},
     "output_type": "execute_result"
    }
   ],
   "source": [
    "tmp = TMHMM_phyloset_preds[(TMHMM_phyloset_preds['pos_of_1st_m'] < TMHMM_phyloset_preds['cds_start_aa_in_ext2']) & \n",
    "                          (TMHMM_phyloset_preds['tr_id_x'].isin(['ENST00000272520.3', \n",
    "                        'ENST00000619991.1', \n",
    "                        'ENST00000505065.1', \n",
    "                        'ENST00000406396.7']))]\n",
    "\n",
    "tmp2 = TMHMM_riboset_preds[TMHMM_riboset_preds['pos_of_1st_m'] < TMHMM_riboset_preds['cds_start_aa_in_ext2']]\n",
    "\n",
    "tmp"
   ]
  },
  {
   "cell_type": "code",
   "execution_count": 72,
   "metadata": {},
   "outputs": [
    {
     "data": {
      "text/html": [
       "<div>\n",
       "<style scoped>\n",
       "    .dataframe tbody tr th:only-of-type {\n",
       "        vertical-align: middle;\n",
       "    }\n",
       "\n",
       "    .dataframe tbody tr th {\n",
       "        vertical-align: top;\n",
       "    }\n",
       "\n",
       "    .dataframe thead th {\n",
       "        text-align: right;\n",
       "    }\n",
       "</style>\n",
       "<table border=\"1\" class=\"dataframe\">\n",
       "  <thead>\n",
       "    <tr style=\"text-align: right;\">\n",
       "      <th></th>\n",
       "      <th>tr_id_x</th>\n",
       "      <th>gene</th>\n",
       "      <th>cds_start_aa_in_ext2</th>\n",
       "      <th>tr_id_y</th>\n",
       "      <th>length</th>\n",
       "      <th>real_seq</th>\n",
       "      <th>prediction_seq</th>\n",
       "      <th>real_len</th>\n",
       "      <th>pred_len</th>\n",
       "      <th>any_m</th>\n",
       "      <th>pos_of_1st_m</th>\n",
       "    </tr>\n",
       "  </thead>\n",
       "  <tbody>\n",
       "    <tr>\n",
       "      <th>22</th>\n",
       "      <td>ENST00000505065.1</td>\n",
       "      <td>CDC42SE2</td>\n",
       "      <td>37</td>\n",
       "      <td>ENST00000505065.1</td>\n",
       "      <td>122</td>\n",
       "      <td>NFILASLDIIVLRSVFLELPELRFGTFIGAHLLWTVSMSEFWLCFN...</td>\n",
       "      <td>SSSSSSSSSSSSSSOOOOOOOOOMMMMMMMMMMMMMMMMMMMIIII...</td>\n",
       "      <td>122</td>\n",
       "      <td>122</td>\n",
       "      <td>True</td>\n",
       "      <td>23.0</td>\n",
       "    </tr>\n",
       "    <tr>\n",
       "      <th>59</th>\n",
       "      <td>ENST00000406396.7</td>\n",
       "      <td>KDSR</td>\n",
       "      <td>28</td>\n",
       "      <td>ENST00000406396.7</td>\n",
       "      <td>361</td>\n",
       "      <td>FSPRRSPALRALPGGPRPAAPGPWPRGAMLLLAAAFLVAFVLLLYM...</td>\n",
       "      <td>OOOOOOOOOOOOOOOOOOOOOOOOOOMMMMMMMMMMMMMMMMMMMM...</td>\n",
       "      <td>361</td>\n",
       "      <td>361</td>\n",
       "      <td>True</td>\n",
       "      <td>26.0</td>\n",
       "    </tr>\n",
       "  </tbody>\n",
       "</table>\n",
       "</div>"
      ],
      "text/plain": [
       "              tr_id_x      gene  cds_start_aa_in_ext2            tr_id_y  \\\n",
       "22  ENST00000505065.1  CDC42SE2                    37  ENST00000505065.1   \n",
       "59  ENST00000406396.7      KDSR                    28  ENST00000406396.7   \n",
       "\n",
       "    length                                           real_seq  \\\n",
       "22     122  NFILASLDIIVLRSVFLELPELRFGTFIGAHLLWTVSMSEFWLCFN...   \n",
       "59     361  FSPRRSPALRALPGGPRPAAPGPWPRGAMLLLAAAFLVAFVLLLYM...   \n",
       "\n",
       "                                       prediction_seq  real_len  pred_len  \\\n",
       "22  SSSSSSSSSSSSSSOOOOOOOOOMMMMMMMMMMMMMMMMMMMIIII...       122       122   \n",
       "59  OOOOOOOOOOOOOOOOOOOOOOOOOOMMMMMMMMMMMMMMMMMMMM...       361       361   \n",
       "\n",
       "    any_m  pos_of_1st_m  \n",
       "22   True          23.0  \n",
       "59   True          26.0  "
      ]
     },
     "execution_count": 72,
     "metadata": {},
     "output_type": "execute_result"
    }
   ],
   "source": [
    "tmp2"
   ]
  },
  {
   "cell_type": "code",
   "execution_count": 77,
   "metadata": {},
   "outputs": [
    {
     "name": "stdout",
     "output_type": "stream",
     "text": [
      "C1QL2 IIIIIIIIIIIIIIIIIIIIIIIIIIIIIIIIIIIIIIIIIIIIIIIIIIIIIIIIMMMMMMMMMMMMMMMMMMMMMOOOOOOOOOOOOOOOOOOOOOOOOOOOOOOOOOOOOOOOOOOOOOOOOOOOOOOOOOOOOOOOOOOOOOOOOOOOOOOOOOOOOOOOOOOOOOOOOOOOOOOOOOOOOOOOOOOOOOOOOOOOOOOOOOOOOOOOOOOOOOOOOOOOOOOOOOOOOOOOOOOOOOOOOOOOOOOOOOOOOOOOOOOOOOOOOOOOOOOOOOOOOOOOOOOOOOOOOOOOOOOOOOOOOOOOOOOOOOOOOOOOOOOOOOOOOOOOOOOOOOOOOOOOOOOOOOOO\n",
      "C1QL3 IIIIIIIIIIIIIIIIMMMMMMMMMMMMMMMMMMMMMMMOOOOOOOOOOOOOOOOOOOOOOOOOOOOOOOOOOOOOOOOOOOOOOOOOOOOOOOOOOOOOOOOOOOOOOOOOOOOOOOOOOOOOOOOOOOOOOOOOOOOOOOOOOOOOOOOOOOOOOOOOOOOOOOOOOOOOOOOOOOOOOOOOOOOOOOOOOOOOOOOOOOOOOOOOOOOOOOOOOOOOOOOOOOOOOOOOOOOOOOO\n"
     ]
    },
    {
     "data": {
      "text/plain": [
       "{'C1QL2_65': [['I', 0, 56], ['M', 56, 77], ['O', 77, 352]],\n",
       " 'C1QL3_26': [['I', 0, 16], ['M', 16, 39], ['O', 39, 239]],\n",
       " 'CDC42SE2_37': [['S', 0, 14], ['O', 14, 23], ['M', 23, 42], ['I', 42, 122]],\n",
       " 'KDSR_28': [['O', 0, 26], ['M', 26, 47], ['I', 47, 361]]}"
      ]
     },
     "execution_count": 77,
     "metadata": {},
     "output_type": "execute_result"
    }
   ],
   "source": [
    "# add coo from PhyloSET\n",
    "\n",
    "coordinates = {}\n",
    "\n",
    "for row in tmp[['tr_id_x', 'gene', 'prediction_seq']].to_numpy():\n",
    "    gene = row[1]\n",
    "    seq = row[2]\n",
    "    tr_id = row[0]\n",
    "    \n",
    "    cds_pos = NTE_aa_df[NTE_aa_df['tr_id'] == tr_id].iloc[0].cds_start_aa_in_ext2\n",
    "    \n",
    "    coordinates[gene+'_'+str(cds_pos)] = []\n",
    "    \n",
    "    print (gene, seq)\n",
    "    \n",
    "    i = 0\n",
    "    \n",
    "    for elem in [\"\".join(grp) for num, grp in itertools.groupby(seq)]:\n",
    "        block = []\n",
    "        block.append(elem[0])\n",
    "        block.append(i)\n",
    "        i = i+len(elem)\n",
    "        block.append(i)\n",
    "        coordinates[gene+'_'+str(cds_pos)].append(block) \n",
    "    \n",
    "        \n",
    "        \n",
    "# add coo from RiboSET \n",
    "\n",
    "for row in tmp2[['gene', 'prediction_seq']].to_numpy():\n",
    "    gene = row[0]\n",
    "    seq = row[1]\n",
    "    \n",
    "    # add cds_coo \n",
    "    cds_pos = NTE_aa_df_ribo[NTE_aa_df_ribo['gene'] == gene].iloc[0].ext_len\n",
    "    \n",
    "    coordinates[gene+'_'+str(cds_pos)] = []\n",
    "    \n",
    "    \n",
    "    i = 0\n",
    "    \n",
    "    for elem in [\"\".join(grp) for num, grp in itertools.groupby(seq)]:\n",
    "        block = []\n",
    "        block.append(elem[0])\n",
    "        block.append(i)\n",
    "        i = i+len(elem)\n",
    "        block.append(i)\n",
    "        \n",
    "        coordinates[gene+'_'+str(cds_pos)].append(block)  \n",
    "        \n",
    "    \n",
    "        \n",
    "coordinates"
   ]
  },
  {
   "cell_type": "code",
   "execution_count": 99,
   "metadata": {},
   "outputs": [],
   "source": [
    "coordinates = {'C1QL2_65': [['I', 0, 56], ['M', 56, 77], ['O', 77, 352]],\n",
    " 'C1QL3_26': [['I', 0, 16], ['M', 16, 39], ['O', 39, 239]],\n",
    " 'CDC42SE2_37': [['O', 0, 23], ['M', 23, 42], ['I', 42, 122]],\n",
    " 'KDSR_28': [['O', 0, 26], ['M', 26, 47], ['I', 47, 361]]}\n"
   ]
  },
  {
   "cell_type": "code",
   "execution_count": 100,
   "metadata": {},
   "outputs": [
    {
     "data": {
      "text/plain": [
       "['C1QL2', '', 'C1QL3', '', 'CDC42SE2', '', 'KDSR', '']"
      ]
     },
     "execution_count": 100,
     "metadata": {},
     "output_type": "execute_result"
    }
   ],
   "source": [
    "\n",
    "l = [[x, ''] * 1 for x in lab]\n",
    "flat_l = [item for sublist in l for item in sublist]\n",
    "\n",
    "flat_l"
   ]
  },
  {
   "cell_type": "code",
   "execution_count": 103,
   "metadata": {},
   "outputs": [
    {
     "data": {
      "text/plain": [
       "<matplotlib.legend.Legend at 0x7fd5a4bdb390>"
      ]
     },
     "execution_count": 103,
     "metadata": {},
     "output_type": "execute_result"
    },
    {
     "data": {
      "image/png": "[encoded data removed]",
      "text/plain": [
       "<Figure size 482.4x360 with 1 Axes>"
      ]
     },
     "metadata": {
      "needs_background": "light"
     },
     "output_type": "display_data"
    }
   ],
   "source": [
    "fig, ax = plt.subplots(1, figsize=(6.7, 5))\n",
    "\n",
    "ax.set_ylim(0,4.5)\n",
    "ax.set_yticks(np.arange(0.5, 4.5, 0.5))\n",
    "\n",
    "lab = ['C1QL2', 'C1QL3', 'CDC42SE2', 'KDSR']\n",
    "\n",
    "#lab =  ['C1QL2*',\n",
    "# 'C1QL3*',\n",
    "# 'SULT1A1',\n",
    "# 'AC007906.1*',\n",
    "# 'PDIA6',\n",
    "# 'TRMT10C',\n",
    "# 'SOX2*',\n",
    "# 'LY6K*',\n",
    "# 'CD59*',\n",
    "# 'TIMP3',\n",
    "# 'KDELR3',\n",
    "# 'CD99']\n",
    "\n",
    "l = [[x, ''] * 1 for x in lab]\n",
    "flat_l = [item for sublist in l for item in sublist]\n",
    "ax.set_yticklabels(flat_l,  fontsize=18)\n",
    "    \n",
    "#ax.set_yticklabels(list(coordinates.keys()))\n",
    "\n",
    "ax.set_xlim(0, 460)\n",
    "ax.set_xticks(np.arange(0, 460, 50))\n",
    "ax.set_xticklabels(np.arange(0, 460, 50), fontsize=17)\n",
    "\n",
    "for i, blocks in enumerate(coordinates.items()):\n",
    "    gene = blocks[0].split('_')[0]\n",
    "    cds_pos = int(blocks[0].split('_')[1])\n",
    "    coo = blocks[1]\n",
    "\n",
    "    for feat in coo:\n",
    "        x1 = feat[1]\n",
    "        x2 = feat[2]-feat[1]\n",
    "        feat_type = feat[0]\n",
    "        y1 = i + 0.4\n",
    "        y2 = 0.4\n",
    "        \n",
    "        if (feat_type == 'M') | (feat_type == 'm'):\n",
    "            ax.add_patch(Rectangle((x1, y1), x2, y2, ec='black', facecolor = 'goldenrod'))\n",
    "        elif (feat_type == 'o') | (feat_type == 'O') | (feat_type == 'S'):\n",
    "            ax.add_patch(Rectangle((x1, y1), x2, y2, ec='black', facecolor = 'rosybrown'))\n",
    "        elif (feat_type == 'i') | (feat_type == 'I'):\n",
    "            ax.add_patch(Rectangle((x1, y1), x2, y2, ec='black', facecolor = 'cornflowerblue'))\n",
    "        else:\n",
    "            continue\n",
    "         \n",
    "        plt.text(x=cds_pos, y=y1+0.40, s='*', color='red', size=15)\n",
    "\n",
    "\n",
    "# legend \n",
    "\n",
    "colors = ['black', 'black', 'black', 'purple', 'purple', 'purple', 'purple', 'purple', 'purple']\n",
    "\n",
    "for ytick, color in zip(ax.get_yticklabels()[0:16], colors):\n",
    "    ytick.set_color(color)\n",
    "    \n",
    "\n",
    "plt.rcParams[\"legend.fontsize\"] = 19\n",
    "M = mpatches.Patch(color='goldenrod', label='M')\n",
    "I = mpatches.Patch(color='cornflowerblue', label='I')\n",
    "O = mpatches.Patch(color='rosybrown', label='O')\n",
    "\n",
    "plt.legend(handles=[M, I, O])"
   ]
  },
  {
   "cell_type": "code",
   "execution_count": null,
   "metadata": {},
   "outputs": [],
   "source": []
  },
  {
   "cell_type": "code",
   "execution_count": null,
   "metadata": {},
   "outputs": [],
   "source": []
  },
  {
   "cell_type": "code",
   "execution_count": null,
   "metadata": {},
   "outputs": [],
   "source": []
  },
  {
   "cell_type": "code",
   "execution_count": null,
   "metadata": {},
   "outputs": [],
   "source": []
  },
  {
   "cell_type": "code",
   "execution_count": null,
   "metadata": {},
   "outputs": [],
   "source": []
  },
  {
   "cell_type": "code",
   "execution_count": null,
   "metadata": {},
   "outputs": [],
   "source": []
  },
  {
   "cell_type": "code",
   "execution_count": null,
   "metadata": {},
   "outputs": [],
   "source": []
  },
  {
   "cell_type": "code",
   "execution_count": null,
   "metadata": {},
   "outputs": [],
   "source": []
  },
  {
   "cell_type": "code",
   "execution_count": null,
   "metadata": {},
   "outputs": [],
   "source": []
  },
  {
   "cell_type": "markdown",
   "metadata": {},
   "source": [
    "# RiboSET match "
   ]
  },
  {
   "cell_type": "code",
   "execution_count": 73,
   "metadata": {},
   "outputs": [
    {
     "data": {
      "text/html": [
       "<div>\n",
       "<style scoped>\n",
       "    .dataframe tbody tr th:only-of-type {\n",
       "        vertical-align: middle;\n",
       "    }\n",
       "\n",
       "    .dataframe tbody tr th {\n",
       "        vertical-align: top;\n",
       "    }\n",
       "\n",
       "    .dataframe thead th {\n",
       "        text-align: right;\n",
       "    }\n",
       "</style>\n",
       "<table border=\"1\" class=\"dataframe\">\n",
       "  <thead>\n",
       "    <tr style=\"text-align: right;\">\n",
       "      <th></th>\n",
       "      <th>tr_id</th>\n",
       "      <th>gene</th>\n",
       "      <th>length</th>\n",
       "      <th>real_seq</th>\n",
       "      <th>prediction_seq</th>\n",
       "      <th>real_len</th>\n",
       "      <th>pred_len</th>\n",
       "      <th>any_m</th>\n",
       "      <th>pos_of_1st_m</th>\n",
       "    </tr>\n",
       "  </thead>\n",
       "  <tbody>\n",
       "    <tr>\n",
       "      <th>0</th>\n",
       "      <td>ENST00000374644.8</td>\n",
       "      <td>EPHA8</td>\n",
       "      <td>519</td>\n",
       "      <td>SRRAGRSGQARGCVAPPPARPGPAMAPARGRLPPALWVVTAAAAAA...</td>\n",
       "      <td>SSSSSSSSSSSSSSSSSSSSSSSSSSSSSSSSSSSSSSSSSSSSSS...</td>\n",
       "      <td>519</td>\n",
       "      <td>520</td>\n",
       "      <td>False</td>\n",
       "      <td>NaN</td>\n",
       "    </tr>\n",
       "    <tr>\n",
       "      <th>1</th>\n",
       "      <td>ENST00000360295.13</td>\n",
       "      <td>SEZ6</td>\n",
       "      <td>1033</td>\n",
       "      <td>RLRPRSLYPAGPGSAPAPKPHQAPRPPAAVPAQGAAATSTMRPVAL...</td>\n",
       "      <td>SSSSSSSSSSSSSSSSSSSSSSSSSSSSSSSSSSSSSSSSSSSSSS...</td>\n",
       "      <td>1033</td>\n",
       "      <td>1034</td>\n",
       "      <td>True</td>\n",
       "      <td>967.0</td>\n",
       "    </tr>\n",
       "    <tr>\n",
       "      <th>2</th>\n",
       "      <td>ENST00000409204.4</td>\n",
       "      <td>PCDH20</td>\n",
       "      <td>980</td>\n",
       "      <td>SSPSDLHEPRGSVFCRPPFKSALTAASQGMRGRGNARSSQALGVSW...</td>\n",
       "      <td>IIIIIIIIIIIIIIIIIIIIIIIIIIIIIIIIIIIIIIIIIIIIII...</td>\n",
       "      <td>980</td>\n",
       "      <td>981</td>\n",
       "      <td>True</td>\n",
       "      <td>74.0</td>\n",
       "    </tr>\n",
       "  </tbody>\n",
       "</table>\n",
       "</div>"
      ],
      "text/plain": [
       "                tr_id    gene  length  \\\n",
       "0   ENST00000374644.8   EPHA8     519   \n",
       "1  ENST00000360295.13    SEZ6    1033   \n",
       "2   ENST00000409204.4  PCDH20     980   \n",
       "\n",
       "                                            real_seq  \\\n",
       "0  SRRAGRSGQARGCVAPPPARPGPAMAPARGRLPPALWVVTAAAAAA...   \n",
       "1  RLRPRSLYPAGPGSAPAPKPHQAPRPPAAVPAQGAAATSTMRPVAL...   \n",
       "2  SSPSDLHEPRGSVFCRPPFKSALTAASQGMRGRGNARSSQALGVSW...   \n",
       "\n",
       "                                      prediction_seq  real_len  pred_len  \\\n",
       "0  SSSSSSSSSSSSSSSSSSSSSSSSSSSSSSSSSSSSSSSSSSSSSS...       519       520   \n",
       "1  SSSSSSSSSSSSSSSSSSSSSSSSSSSSSSSSSSSSSSSSSSSSSS...      1033      1034   \n",
       "2  IIIIIIIIIIIIIIIIIIIIIIIIIIIIIIIIIIIIIIIIIIIIII...       980       981   \n",
       "\n",
       "   any_m  pos_of_1st_m  \n",
       "0  False           NaN  \n",
       "1   True         967.0  \n",
       "2   True          74.0  "
      ]
     },
     "execution_count": 73,
     "metadata": {},
     "output_type": "execute_result"
    }
   ],
   "source": [
    "li = []\n",
    "\n",
    "\n",
    "\n",
    "for record in SeqIO.parse(\"localisation/TMHMM/Match_384_DeepTMHMM.3line\", \"fasta\"):\n",
    "    tr_id = record.id.split('_')[0]\n",
    "    gene = record.id.split('_')[1]\n",
    "    length = len(str(record.seq).split('*')[0])\n",
    "    real_seq = str(record.seq).split('*')[0]\n",
    "    pred_seq = str(record.seq).split('*')[1]\n",
    "    real_len = len(real_seq)\n",
    "    pred_len = len(pred_seq)\n",
    "    \n",
    "    if ('M' in list(pred_seq)):\n",
    "        any_m = True \n",
    "        pos_of_1st_m = pred_seq.find('M')\n",
    "    else:\n",
    "        any_m = False \n",
    "        pos_of_1st_m = None\n",
    "        \n",
    "        \n",
    "    li.append([tr_id, gene, length, real_seq, pred_seq,\n",
    "                              real_len, pred_len, any_m, pos_of_1st_m])\n",
    "    \n",
    "    \n",
    "    \n",
    "parse_df = pd.DataFrame(li, columns = ['tr_id', 'gene', 'length', 'real_seq', 'prediction_seq',\n",
    "                              'real_len', 'pred_len', 'any_m', 'pos_of_1st_m'])\n",
    "\n",
    "parse_df[0:3]"
   ]
  },
  {
   "cell_type": "code",
   "execution_count": 74,
   "metadata": {},
   "outputs": [
    {
     "data": {
      "text/plain": [
       "array([], dtype=object)"
      ]
     },
     "execution_count": 74,
     "metadata": {},
     "output_type": "execute_result"
    }
   ],
   "source": [
    "TMHMM_phyloset_preds = match_aa_df[['tr_id', 'gene', 'cds_start_aa_in_ext2']].merge(parse_df[parse_df['any_m'] == True], on=['gene'], how='inner').drop_duplicates()\n",
    "\n",
    "TMHMM_phyloset_preds[TMHMM_phyloset_preds['pos_of_1st_m'] < TMHMM_phyloset_preds['cds_start_aa_in_ext2']].gene.unique()"
   ]
  },
  {
   "cell_type": "code",
   "execution_count": null,
   "metadata": {},
   "outputs": [],
   "source": []
  },
  {
   "cell_type": "code",
   "execution_count": null,
   "metadata": {},
   "outputs": [],
   "source": [
    "TP = {'RiboSET': 2, # 1\n",
    " 'PhyloSET': 2, \n",
    " 'UntranslSET': 0,\n",
    " 'RiboSET_ext': ?, \n",
    "}"
   ]
  },
  {
   "cell_type": "code",
   "execution_count": null,
   "metadata": {},
   "outputs": [],
   "source": []
  },
  {
   "cell_type": "code",
   "execution_count": null,
   "metadata": {},
   "outputs": [],
   "source": []
  },
  {
   "cell_type": "markdown",
   "metadata": {},
   "source": [
    "# RiboSET_EXT"
   ]
  },
  {
   "cell_type": "code",
   "execution_count": 78,
   "metadata": {},
   "outputs": [
    {
     "data": {
      "text/html": [
       "<div>\n",
       "<style scoped>\n",
       "    .dataframe tbody tr th:only-of-type {\n",
       "        vertical-align: middle;\n",
       "    }\n",
       "\n",
       "    .dataframe tbody tr th {\n",
       "        vertical-align: top;\n",
       "    }\n",
       "\n",
       "    .dataframe thead th {\n",
       "        text-align: right;\n",
       "    }\n",
       "</style>\n",
       "<table border=\"1\" class=\"dataframe\">\n",
       "  <thead>\n",
       "    <tr style=\"text-align: right;\">\n",
       "      <th></th>\n",
       "      <th>tr_id</th>\n",
       "      <th>gene</th>\n",
       "      <th>length</th>\n",
       "      <th>real_seq</th>\n",
       "      <th>prediction_seq</th>\n",
       "      <th>real_len</th>\n",
       "      <th>pred_len</th>\n",
       "      <th>any_m</th>\n",
       "      <th>pos_of_1st_m</th>\n",
       "    </tr>\n",
       "  </thead>\n",
       "  <tbody>\n",
       "    <tr>\n",
       "      <th>0</th>\n",
       "      <td>ENST00000379454.8</td>\n",
       "      <td>ASPH</td>\n",
       "      <td>805</td>\n",
       "      <td>GTGSAAGAAARTRSSGPPPPAVPASRVYPRALKEVRQPSPAPADRA...</td>\n",
       "      <td>IIIIIIIIIIIIIIIIIIIIIIIIIIIIIIIIIIIIIIIIIIIIII...</td>\n",
       "      <td>805</td>\n",
       "      <td>805</td>\n",
       "      <td>True</td>\n",
       "      <td>99.0</td>\n",
       "    </tr>\n",
       "    <tr>\n",
       "      <th>1</th>\n",
       "      <td>ENST00000216281.12</td>\n",
       "      <td>HSP90AA1</td>\n",
       "      <td>793</td>\n",
       "      <td>ARGRGGGWGGFFRKVREASGKSAARWAGPSLYKAGAGVARQLLQRP...</td>\n",
       "      <td>IIIIIIIIIIIIIIIIIIIIIIIIIIIIIIIIIIIIIIIIIIIIII...</td>\n",
       "      <td>793</td>\n",
       "      <td>793</td>\n",
       "      <td>False</td>\n",
       "      <td>NaN</td>\n",
       "    </tr>\n",
       "    <tr>\n",
       "      <th>2</th>\n",
       "      <td>ENST00000409753.7</td>\n",
       "      <td>HN1</td>\n",
       "      <td>202</td>\n",
       "      <td>RRRSAGQAAAAAPAAVVGCWVWSFPAPLGSDPLSVLLRRQPTSLLG...</td>\n",
       "      <td>IIIIIIIIIIIIIIIIIIIIIIIIIIIIIIIIIIIIIIIIIIIIII...</td>\n",
       "      <td>202</td>\n",
       "      <td>202</td>\n",
       "      <td>False</td>\n",
       "      <td>NaN</td>\n",
       "    </tr>\n",
       "  </tbody>\n",
       "</table>\n",
       "</div>"
      ],
      "text/plain": [
       "                tr_id      gene  length  \\\n",
       "0   ENST00000379454.8      ASPH     805   \n",
       "1  ENST00000216281.12  HSP90AA1     793   \n",
       "2   ENST00000409753.7       HN1     202   \n",
       "\n",
       "                                            real_seq  \\\n",
       "0  GTGSAAGAAARTRSSGPPPPAVPASRVYPRALKEVRQPSPAPADRA...   \n",
       "1  ARGRGGGWGGFFRKVREASGKSAARWAGPSLYKAGAGVARQLLQRP...   \n",
       "2  RRRSAGQAAAAAPAAVVGCWVWSFPAPLGSDPLSVLLRRQPTSLLG...   \n",
       "\n",
       "                                      prediction_seq  real_len  pred_len  \\\n",
       "0  IIIIIIIIIIIIIIIIIIIIIIIIIIIIIIIIIIIIIIIIIIIIII...       805       805   \n",
       "1  IIIIIIIIIIIIIIIIIIIIIIIIIIIIIIIIIIIIIIIIIIIIII...       793       793   \n",
       "2  IIIIIIIIIIIIIIIIIIIIIIIIIIIIIIIIIIIIIIIIIIIIII...       202       202   \n",
       "\n",
       "   any_m  pos_of_1st_m  \n",
       "0   True          99.0  \n",
       "1  False           NaN  \n",
       "2  False           NaN  "
      ]
     },
     "execution_count": 78,
     "metadata": {},
     "output_type": "execute_result"
    }
   ],
   "source": [
    "li = []\n",
    "\n",
    "for record in SeqIO.parse(\"localisation/TMHMM/EXT_DeepTMHMM.3line\", \"fasta\"):\n",
    "    tr_id = record.id.split('_')[0]\n",
    "    gene = record.id.split('_')[1]\n",
    "    length = int(len(str(record.seq))/2)\n",
    "    pred_seq = str(record.seq)[int(len(str(record.seq))/2):]\n",
    "    real_seq = str(record.seq)[0:int(len(str(record.seq))/2)]\n",
    "    real_len = len(real_seq)\n",
    "    pred_len = len(pred_seq)\n",
    "    \n",
    "    if ('M' in list(pred_seq)):\n",
    "        any_m = True \n",
    "        pos_of_1st_m = pred_seq.find('M')\n",
    "    else:\n",
    "        any_m = False \n",
    "        pos_of_1st_m = None\n",
    "        \n",
    "        \n",
    "    li.append([tr_id, gene, length, real_seq, pred_seq,\n",
    "                              real_len, pred_len, any_m, pos_of_1st_m])\n",
    "    \n",
    "    \n",
    "    \n",
    "parse_df = pd.DataFrame(li, columns = ['tr_id', 'gene', 'length', 'real_seq', 'prediction_seq',\n",
    "                              'real_len', 'pred_len', 'any_m', 'pos_of_1st_m'])\n",
    "\n",
    "parse_df[0:3]"
   ]
  },
  {
   "cell_type": "code",
   "execution_count": 79,
   "metadata": {},
   "outputs": [
    {
     "data": {
      "text/plain": [
       "array(['CDC42SE2', 'KDSR', 'TMEM161B', 'PRRG4', 'ORMDL1', 'MFSD4B',\n",
       "       'C1QL4', 'CERS6', 'C1QL3', 'GFRA2', 'C1QL2', 'PCDH10'],\n",
       "      dtype=object)"
      ]
     },
     "execution_count": 79,
     "metadata": {},
     "output_type": "execute_result"
    }
   ],
   "source": [
    "TMHMM_phyloset_preds = RiboSET_Ext[['tr_id', 'gene', 'cds_start_aa_in_ext2']].merge(parse_df[parse_df['any_m'] == True], on=['gene'], how='inner').drop_duplicates()\n",
    "\n",
    "TMHMM_phyloset_preds[TMHMM_phyloset_preds['pos_of_1st_m'] < TMHMM_phyloset_preds['cds_start_aa_in_ext2']].gene.unique()"
   ]
  },
  {
   "cell_type": "code",
   "execution_count": 80,
   "metadata": {},
   "outputs": [
    {
     "data": {
      "text/plain": [
       "12"
      ]
     },
     "execution_count": 80,
     "metadata": {},
     "output_type": "execute_result"
    }
   ],
   "source": [
    "TMHMM_phyloset_preds[TMHMM_phyloset_preds['pos_of_1st_m'] < TMHMM_phyloset_preds['cds_start_aa_in_ext2']].gene.nunique()"
   ]
  },
  {
   "cell_type": "code",
   "execution_count": 81,
   "metadata": {},
   "outputs": [],
   "source": [
    "TMHMM_phyloset_preds[TMHMM_phyloset_preds['pos_of_1st_m'] < TMHMM_phyloset_preds['cds_start_aa_in_ext2']].to_csv('../Supplementary_tables/RiboSET_ext_DeepTMHMM.txt', sep='\\t', index=False)"
   ]
  },
  {
   "cell_type": "code",
   "execution_count": null,
   "metadata": {},
   "outputs": [],
   "source": [
    "TP = {'RiboSET': 2, # 1\n",
    " 'PhyloSET': 2, \n",
    " 'UntranslSET': 0,\n",
    " 'RiboSET_ext': 12, \n",
    "}"
   ]
  },
  {
   "cell_type": "code",
   "execution_count": null,
   "metadata": {},
   "outputs": [],
   "source": [
    "# RiboSET ext vs matched \n",
    "a = 2\n",
    "b = 390-2\n",
    "c = \n",
    "d = 384-\n",
    "\n",
    "\n",
    "table = [[a,b], \n",
    "         [c,d]]\n",
    "\n",
    "\n",
    "oddsr, p = fisher_exact(table, alternative='greater')\n",
    "\n",
    "p, oddsr"
   ]
  },
  {
   "cell_type": "code",
   "execution_count": null,
   "metadata": {},
   "outputs": [],
   "source": [
    "# RiboSET ext vs matched \n",
    "a = 14\n",
    "b = 3530-14\n",
    "c = \n",
    "d = 384-\n",
    "\n",
    "\n",
    "table = [[a,b], \n",
    "         [c,d]]\n",
    "\n",
    "\n",
    "oddsr, p = fisher_exact(table, alternative='greater')\n",
    "\n",
    "p, oddsr"
   ]
  },
  {
   "cell_type": "code",
   "execution_count": null,
   "metadata": {},
   "outputs": [],
   "source": []
  },
  {
   "cell_type": "code",
   "execution_count": null,
   "metadata": {},
   "outputs": [],
   "source": []
  },
  {
   "cell_type": "markdown",
   "metadata": {},
   "source": [
    "# Phobius"
   ]
  },
  {
   "cell_type": "markdown",
   "metadata": {},
   "source": [
    "# RiboSET"
   ]
  },
  {
   "cell_type": "code",
   "execution_count": 60,
   "metadata": {},
   "outputs": [
    {
     "data": {
      "text/html": [
       "<div>\n",
       "<style scoped>\n",
       "    .dataframe tbody tr th:only-of-type {\n",
       "        vertical-align: middle;\n",
       "    }\n",
       "\n",
       "    .dataframe tbody tr th {\n",
       "        vertical-align: top;\n",
       "    }\n",
       "\n",
       "    .dataframe thead th {\n",
       "        text-align: right;\n",
       "    }\n",
       "</style>\n",
       "<table border=\"1\" class=\"dataframe\">\n",
       "  <thead>\n",
       "    <tr style=\"text-align: right;\">\n",
       "      <th></th>\n",
       "      <th>tr_id</th>\n",
       "      <th>gene</th>\n",
       "      <th>feat_type</th>\n",
       "      <th>start</th>\n",
       "      <th>stop</th>\n",
       "      <th>loc</th>\n",
       "    </tr>\n",
       "  </thead>\n",
       "  <tbody>\n",
       "    <tr>\n",
       "      <th>0</th>\n",
       "      <td>ENST00000379389.4</td>\n",
       "      <td>ISG15</td>\n",
       "      <td>TOPO_DOM</td>\n",
       "      <td>1</td>\n",
       "      <td>215</td>\n",
       "      <td>None</td>\n",
       "    </tr>\n",
       "  </tbody>\n",
       "</table>\n",
       "</div>"
      ],
      "text/plain": [
       "               tr_id   gene feat_type  start  stop   loc\n",
       "0  ENST00000379389.4  ISG15  TOPO_DOM      1   215  None"
      ]
     },
     "execution_count": 60,
     "metadata": {},
     "output_type": "execute_result"
    }
   ],
   "source": [
    "path = 'localisation/Phobius/RiboSET_Phobius.txt'\n",
    "\n",
    "li1 = []\n",
    "\n",
    "my_file = open(path, \"r\")\n",
    "content = my_file.read()\n",
    "\n",
    "li = content.split('ID   ')\n",
    "\n",
    "for ids in li[1:]:\n",
    "    el = ids.split('\\n')\n",
    "    tr_id = el[0].split('_')[0]\n",
    "    gene = el[0].split('_')[-1]\n",
    "    \n",
    "    # iterate over features\n",
    "    for feat in el[1:]:\n",
    "        if feat.startswith('FT'):\n",
    "            feat_li = list(filter(None, feat.split(' ')))\n",
    "            feat_type = feat_li[1]\n",
    "            start = int(feat_li[2])\n",
    "            stop = int(feat_li[3])\n",
    "            \n",
    "            if len(feat_li) == 5:\n",
    "                loc = feat_li[4]\n",
    "            else:\n",
    "                loc = None\n",
    "            \n",
    "            li1.append([tr_id, gene, feat_type, start, stop, loc])\n",
    "            \n",
    "phob_riboset_parse_df = pd.DataFrame(li1, columns = ['tr_id', 'gene', 'feat_type', 'start', 'stop', 'loc'])\n",
    "\n",
    "phob_riboset_parse_df[0:1]"
   ]
  },
  {
   "cell_type": "code",
   "execution_count": 61,
   "metadata": {},
   "outputs": [
    {
     "name": "stdout",
     "output_type": "stream",
     "text": [
      "CD46, CD59, CDC42SE2, CTH, KDSR, LAMP2, LY6K, NIP7, OGT, PDIA6, SERTAD3, SOX2, TCF7L2, TNKS2, TRMT10C, ZNF316\n"
     ]
    }
   ],
   "source": [
    "res = dict(tuple(phob_riboset_parse_df[(phob_riboset_parse_df['feat_type'] == 'TRANSMEM') & \n",
    "                            (~phob_riboset_parse_df['gene'].isin(['STIM2', 'AP3S1', 'PTPRJ']))].groupby('gene')))\n",
    "\n",
    "selected_ribo_genes = []\n",
    "\n",
    "for gene, df in res.items():\n",
    "    df = df.sort_values(by='start', ascending=True)\n",
    "    \n",
    "    # select the 1st TM and its start\n",
    "    first_tm = df.iloc[0].start \n",
    "    \n",
    "    # cds_coo \n",
    "    cds_coo = NTE_aa_df_ribo[NTE_aa_df_ribo['gene'] == gene].iloc[0].cds_start_aa_in_ext2\n",
    "    \n",
    "    # \n",
    "    if first_tm < cds_coo:\n",
    "        selected_ribo_genes.append(gene)\n",
    "        \n",
    "print (', '.join(selected_ribo_genes))"
   ]
  },
  {
   "cell_type": "code",
   "execution_count": 62,
   "metadata": {},
   "outputs": [
    {
     "data": {
      "text/plain": [
       "16"
      ]
     },
     "execution_count": 62,
     "metadata": {},
     "output_type": "execute_result"
    }
   ],
   "source": [
    "len(selected_ribo_genes)"
   ]
  },
  {
   "cell_type": "code",
   "execution_count": 63,
   "metadata": {},
   "outputs": [],
   "source": [
    "Pho = {'RiboSET': 16, # 1\n",
    " 'PhyloSET': 0, \n",
    " 'RiboSET_ext': 0,\n",
    " 'UntranslSET': 0,\n",
    " 'UtranslSET_ext': 0,\n",
    "\n",
    "}"
   ]
  },
  {
   "cell_type": "code",
   "execution_count": null,
   "metadata": {},
   "outputs": [],
   "source": []
  },
  {
   "cell_type": "markdown",
   "metadata": {},
   "source": [
    "# PhyloSET"
   ]
  },
  {
   "cell_type": "code",
   "execution_count": 64,
   "metadata": {},
   "outputs": [
    {
     "data": {
      "text/html": [
       "<div>\n",
       "<style scoped>\n",
       "    .dataframe tbody tr th:only-of-type {\n",
       "        vertical-align: middle;\n",
       "    }\n",
       "\n",
       "    .dataframe tbody tr th {\n",
       "        vertical-align: top;\n",
       "    }\n",
       "\n",
       "    .dataframe thead th {\n",
       "        text-align: right;\n",
       "    }\n",
       "</style>\n",
       "<table border=\"1\" class=\"dataframe\">\n",
       "  <thead>\n",
       "    <tr style=\"text-align: right;\">\n",
       "      <th></th>\n",
       "      <th>tr_id</th>\n",
       "      <th>gene</th>\n",
       "      <th>feat_type</th>\n",
       "      <th>start</th>\n",
       "      <th>stop</th>\n",
       "      <th>loc</th>\n",
       "    </tr>\n",
       "  </thead>\n",
       "  <tbody>\n",
       "    <tr>\n",
       "      <th>0</th>\n",
       "      <td>ENST00000377898.3</td>\n",
       "      <td>HES3</td>\n",
       "      <td>DOMAIN</td>\n",
       "      <td>1</td>\n",
       "      <td>207</td>\n",
       "      <td>None</td>\n",
       "    </tr>\n",
       "    <tr>\n",
       "      <th>1</th>\n",
       "      <td>ENST00000400907.6</td>\n",
       "      <td>RERE</td>\n",
       "      <td>DOMAIN</td>\n",
       "      <td>1</td>\n",
       "      <td>608</td>\n",
       "      <td>None</td>\n",
       "    </tr>\n",
       "    <tr>\n",
       "      <th>2</th>\n",
       "      <td>ENST00000455833.6</td>\n",
       "      <td>IFFO2</td>\n",
       "      <td>DOMAIN</td>\n",
       "      <td>1</td>\n",
       "      <td>635</td>\n",
       "      <td>None</td>\n",
       "    </tr>\n",
       "    <tr>\n",
       "      <th>3</th>\n",
       "      <td>ENST00000373824.8</td>\n",
       "      <td>TAF12</td>\n",
       "      <td>DOMAIN</td>\n",
       "      <td>1</td>\n",
       "      <td>193</td>\n",
       "      <td>None</td>\n",
       "    </tr>\n",
       "    <tr>\n",
       "      <th>4</th>\n",
       "      <td>ENST00000357214.5</td>\n",
       "      <td>SFPQ</td>\n",
       "      <td>DOMAIN</td>\n",
       "      <td>1</td>\n",
       "      <td>740</td>\n",
       "      <td>None</td>\n",
       "    </tr>\n",
       "  </tbody>\n",
       "</table>\n",
       "</div>"
      ],
      "text/plain": [
       "               tr_id   gene feat_type  start  stop   loc\n",
       "0  ENST00000377898.3   HES3    DOMAIN      1   207  None\n",
       "1  ENST00000400907.6   RERE    DOMAIN      1   608  None\n",
       "2  ENST00000455833.6  IFFO2    DOMAIN      1   635  None\n",
       "3  ENST00000373824.8  TAF12    DOMAIN      1   193  None\n",
       "4  ENST00000357214.5   SFPQ    DOMAIN      1   740  None"
      ]
     },
     "execution_count": 64,
     "metadata": {},
     "output_type": "execute_result"
    }
   ],
   "source": [
    "path = 'localisation/Phobius/PhyloSET_Phobius.txt'\n",
    "\n",
    "my_file = open(path, \"r\")\n",
    "content = my_file.read()\n",
    "\n",
    "li = content.split('ID   ')\n",
    "\n",
    "li1 = []\n",
    "\n",
    "\n",
    "for ids in li[1:]:\n",
    "    el = ids.split('\\n')\n",
    "    tr_id = el[0].split('_')[0]\n",
    "    gene = el[0].split('_')[-1]\n",
    "    \n",
    "    # iterate over features\n",
    "    for feat in el[1:]:\n",
    "        if feat.startswith('FT'):\n",
    "            feat_li = list(filter(None, feat.split(' ')))\n",
    "            feat_type = feat_li[1]\n",
    "            start = int(feat_li[2])\n",
    "            stop = int(feat_li[3])\n",
    "            \n",
    "            if len(feat_li) == 5:\n",
    "                loc = feat_li[4]\n",
    "            else:\n",
    "                loc = None\n",
    "            \n",
    "            li1.append([tr_id, gene, feat_type, start, stop, loc])\n",
    "            \n",
    "phob_phyloset_parse_df = pd.DataFrame(li1, columns = ['tr_id', 'gene', 'feat_type', 'start', 'stop', 'loc'])\n",
    "\n",
    "phob_phyloset_parse_df[0:5]"
   ]
  },
  {
   "cell_type": "code",
   "execution_count": 65,
   "metadata": {},
   "outputs": [
    {
     "name": "stdout",
     "output_type": "stream",
     "text": [
      "AC007906.1, C1QL2, C1QL3\n"
     ]
    }
   ],
   "source": [
    "res = dict(tuple(phob_phyloset_parse_df[(phob_phyloset_parse_df['feat_type'] == 'TRANSMEM')].groupby('gene')))\n",
    "\n",
    "selected_phylo_genes = []\n",
    "\n",
    "for gene, df in res.items():\n",
    "    df = df.sort_values(by='start', ascending=True)\n",
    "    \n",
    "    # select the 1st TM and its start\n",
    "    first_tm = df.iloc[0].start \n",
    "    \n",
    "    # cds_coo \n",
    "    cds_coo = NTE_aa_df[NTE_aa_df['gene'] == gene].iloc[0].cds_start_aa_in_ext2\n",
    "    \n",
    "    # \n",
    "    if first_tm < cds_coo:\n",
    "        selected_phylo_genes.append(gene)\n",
    "        \n",
    "print (', '.join(selected_phylo_genes))"
   ]
  },
  {
   "cell_type": "code",
   "execution_count": null,
   "metadata": {},
   "outputs": [],
   "source": [
    "Pho = {'RiboSET': 16, # 1\n",
    " 'PhyloSET': 3, \n",
    " 'RiboSET_ext': 0,\n",
    " 'UntranslSET': 0,\n",
    "}"
   ]
  },
  {
   "cell_type": "code",
   "execution_count": null,
   "metadata": {},
   "outputs": [],
   "source": []
  },
  {
   "cell_type": "markdown",
   "metadata": {},
   "source": [
    "# RiboSET-match "
   ]
  },
  {
   "cell_type": "code",
   "execution_count": 70,
   "metadata": {},
   "outputs": [
    {
     "data": {
      "text/html": [
       "<div>\n",
       "<style scoped>\n",
       "    .dataframe tbody tr th:only-of-type {\n",
       "        vertical-align: middle;\n",
       "    }\n",
       "\n",
       "    .dataframe tbody tr th {\n",
       "        vertical-align: top;\n",
       "    }\n",
       "\n",
       "    .dataframe thead th {\n",
       "        text-align: right;\n",
       "    }\n",
       "</style>\n",
       "<table border=\"1\" class=\"dataframe\">\n",
       "  <thead>\n",
       "    <tr style=\"text-align: right;\">\n",
       "      <th></th>\n",
       "      <th>tr_id</th>\n",
       "      <th>gene</th>\n",
       "      <th>feat_type</th>\n",
       "      <th>start</th>\n",
       "      <th>stop</th>\n",
       "      <th>loc</th>\n",
       "    </tr>\n",
       "  </thead>\n",
       "  <tbody>\n",
       "    <tr>\n",
       "      <th>0</th>\n",
       "      <td>ENST00000374644.8</td>\n",
       "      <td>EPHA8</td>\n",
       "      <td>TOPO_DOM</td>\n",
       "      <td>1</td>\n",
       "      <td>204</td>\n",
       "      <td>CYTOPLASMIC.</td>\n",
       "    </tr>\n",
       "  </tbody>\n",
       "</table>\n",
       "</div>"
      ],
      "text/plain": [
       "               tr_id   gene feat_type  start  stop           loc\n",
       "0  ENST00000374644.8  EPHA8  TOPO_DOM      1   204  CYTOPLASMIC."
      ]
     },
     "execution_count": 70,
     "metadata": {},
     "output_type": "execute_result"
    }
   ],
   "source": [
    "path = 'localisation/Phobius/Match_384_Phobius.txt'\n",
    "\n",
    "li1 = []\n",
    "\n",
    "my_file = open(path, \"r\")\n",
    "content = my_file.read()\n",
    "\n",
    "li = content.split('ID   ')\n",
    "\n",
    "for ids in li[1:]:\n",
    "    el = ids.split('\\n')\n",
    "    tr_id = el[0].split('_')[0]\n",
    "    gene = el[0].split('_')[-1]\n",
    "    \n",
    "    # iterate over features\n",
    "    for feat in el[1:]:\n",
    "        if feat.startswith('FT'):\n",
    "            feat_li = list(filter(None, feat.split(' ')))\n",
    "            feat_type = feat_li[1]\n",
    "            start = int(feat_li[2])\n",
    "            stop = int(feat_li[3])\n",
    "            \n",
    "            if len(feat_li) == 5:\n",
    "                loc = feat_li[4]\n",
    "            else:\n",
    "                loc = None\n",
    "            \n",
    "            li1.append([tr_id, gene, feat_type, start, stop, loc])\n",
    "            \n",
    "phob_match390_parse_df = pd.DataFrame(li1, columns = ['tr_id', 'gene', 'feat_type', 'start', 'stop', 'loc'])\n",
    "\n",
    "phob_match390_parse_df[0:1]"
   ]
  },
  {
   "cell_type": "code",
   "execution_count": 71,
   "metadata": {},
   "outputs": [
    {
     "name": "stdout",
     "output_type": "stream",
     "text": [
      "C1QTNF1, FXYD1, IL1RAP, LNX1, PDZK1IP1, PPP2R2B, RNF135, SLC12A4, SMIM24, UBE2Q2\n"
     ]
    }
   ],
   "source": [
    "res = dict(tuple(phob_match390_parse_df[(phob_match390_parse_df['feat_type'] == 'TRANSMEM')].groupby('gene')))\n",
    "\n",
    "selected_match390_genes = []\n",
    "\n",
    "for gene, df in res.items():\n",
    "    df = df.sort_values(by='start', ascending=True)\n",
    "    \n",
    "    # select the 1st TM and its start\n",
    "    first_tm = df.iloc[0].start \n",
    "    \n",
    "    # cds_coo \n",
    "    try:\n",
    "        cds_coo = match_aa_df[match_aa_df['gene'] == gene].iloc[0].cds_start_aa_in_ext2\n",
    "    except:\n",
    "        print ('???', gene)\n",
    "    \n",
    "    # \n",
    "    if first_tm < cds_coo:\n",
    "        selected_match390_genes.append(gene)\n",
    "        \n",
    "print (', '.join(selected_match390_genes))"
   ]
  },
  {
   "cell_type": "code",
   "execution_count": 72,
   "metadata": {},
   "outputs": [
    {
     "data": {
      "text/plain": [
       "10"
      ]
     },
     "execution_count": 72,
     "metadata": {},
     "output_type": "execute_result"
    }
   ],
   "source": [
    "len(set(selected_match390_genes))"
   ]
  },
  {
   "cell_type": "code",
   "execution_count": null,
   "metadata": {},
   "outputs": [],
   "source": [
    "Pho = {'RiboSET': 16, # 1\n",
    " 'PhyloSET': 3, \n",
    " 'RiboSET_ext': ?,\n",
    " 'UntranslSET': 10\n",
    "}"
   ]
  },
  {
   "cell_type": "code",
   "execution_count": null,
   "metadata": {},
   "outputs": [],
   "source": []
  },
  {
   "cell_type": "markdown",
   "metadata": {},
   "source": [
    "# RiboSET_EXT"
   ]
  },
  {
   "cell_type": "code",
   "execution_count": 80,
   "metadata": {},
   "outputs": [
    {
     "data": {
      "text/html": [
       "<div>\n",
       "<style scoped>\n",
       "    .dataframe tbody tr th:only-of-type {\n",
       "        vertical-align: middle;\n",
       "    }\n",
       "\n",
       "    .dataframe tbody tr th {\n",
       "        vertical-align: top;\n",
       "    }\n",
       "\n",
       "    .dataframe thead th {\n",
       "        text-align: right;\n",
       "    }\n",
       "</style>\n",
       "<table border=\"1\" class=\"dataframe\">\n",
       "  <thead>\n",
       "    <tr style=\"text-align: right;\">\n",
       "      <th></th>\n",
       "      <th>tr_id</th>\n",
       "      <th>gene</th>\n",
       "      <th>feat_type</th>\n",
       "      <th>start</th>\n",
       "      <th>stop</th>\n",
       "      <th>loc</th>\n",
       "    </tr>\n",
       "  </thead>\n",
       "  <tbody>\n",
       "    <tr>\n",
       "      <th>0</th>\n",
       "      <td>ENST00000379454.8</td>\n",
       "      <td>ASPH</td>\n",
       "      <td>TOPO_DOM</td>\n",
       "      <td>1</td>\n",
       "      <td>99</td>\n",
       "      <td>CYTOPLASMIC.</td>\n",
       "    </tr>\n",
       "  </tbody>\n",
       "</table>\n",
       "</div>"
      ],
      "text/plain": [
       "               tr_id  gene feat_type  start  stop           loc\n",
       "0  ENST00000379454.8  ASPH  TOPO_DOM      1    99  CYTOPLASMIC."
      ]
     },
     "execution_count": 80,
     "metadata": {},
     "output_type": "execute_result"
    }
   ],
   "source": [
    "path = 'localisation/Phobius/EXT_Phobius.txt'\n",
    "\n",
    "li1 = []\n",
    "\n",
    "my_file = open(path, \"r\")\n",
    "content = my_file.read()\n",
    "\n",
    "li = content.split('ID   ')\n",
    "\n",
    "for ids in li[1:]:\n",
    "    el = ids.split('\\n')\n",
    "    tr_id = el[0].split('_')[0]\n",
    "    gene = el[0].split('_')[-1]\n",
    "    \n",
    "    # iterate over features\n",
    "    for feat in el[1:]:\n",
    "        if feat.startswith('FT'):\n",
    "            feat_li = list(filter(None, feat.split(' ')))\n",
    "            feat_type = feat_li[1]\n",
    "            start = int(feat_li[2])\n",
    "            stop = int(feat_li[3])\n",
    "            \n",
    "            if len(feat_li) == 5:\n",
    "                loc = feat_li[4]\n",
    "            else:\n",
    "                loc = None\n",
    "            \n",
    "            li1.append([tr_id, gene, feat_type, start, stop, loc])\n",
    "            \n",
    "phob_riboset_ext_parse_df = pd.DataFrame(li1, columns = ['tr_id', 'gene', 'feat_type', 'start', 'stop', 'loc'])\n",
    "\n",
    "phob_riboset_ext_parse_df[0:1]"
   ]
  },
  {
   "cell_type": "code",
   "execution_count": 81,
   "metadata": {},
   "outputs": [
    {
     "name": "stdout",
     "output_type": "stream",
     "text": [
      "ABCA3, ABCA7, ABHD18, AC009336.19, ANGPT1, ANGPT2, APELA, APH1B, ARSK, C11orf87, C1QL2, C1QL3, C1QL4, CD46, CD59, CDC42SE2, CR2, CTH, DHRS3, EBAG9, EFNA3, EFNA5, EMILIN2, EOGT, F2RL3, FAM133B, FAM24B, FRRS1, GABRA5, GBA, GFRA2, GGH, GPANK1, GSTP1, GTF2B, HIST1H4E, HLA-DRA, HMSD, HOXD4, ID3, IFNGR1, IL13RA2, ITGB8, KDSR, KIAA0895, KIFC2, LAMP2, LRAT, LRFN4, LY6K, MAGEA1, MAGEA4, MAGEB1, MATN2, MEGF11, MFSD4B, MRPS35, MSANTD4, NDST3, NECAB3, NFXL1, NIP7, NKAIN3, NPR2, NRXN1, NRXN3, NUP155, OGT, P2RX4, PCDH10, PCNX1, PDE1B, PDIA6, PI16, PLXNA3, POLM, POSTN, RDH14, RMI1, RUNX2, S100A4, SENP2, SERPINB7, SERTAD3, SGSH, SIAE, SLC27A6, SLITRK4, SMG1, SOX2, SPN, STK11, SYCP2, TCF7L2, THBD, TIGD7, TMEM14A, TMEM161B, TMEM256-PLSCR3, TMEM63B, TMEM70, TNKS2, TRMT10C, TSPAN6, TXNDC16, UMAD1, UQCRFS1, UVSSA, VIT, ZMAT2, ZNF316, ZNF593\n"
     ]
    }
   ],
   "source": [
    "res = dict(tuple(phob_riboset_ext_parse_df[(phob_riboset_ext_parse_df['feat_type'] == 'TRANSMEM')].groupby('gene')))\n",
    "\n",
    "selected_riboset_ext_genes = []\n",
    "\n",
    "for gene, df in res.items():\n",
    "    df = df.sort_values(by='start', ascending=True)\n",
    "    \n",
    "    # select the 1st TM and its start\n",
    "    first_tm = df.iloc[0].start \n",
    "    \n",
    "    # cds_coo \n",
    "    try:\n",
    "        cds_coo = RiboSET_Ext[RiboSET_Ext['gene'] == gene].iloc[0].cds_start_aa_in_ext2\n",
    "    except:\n",
    "        print ('???', gene)\n",
    "    \n",
    "    # \n",
    "    if first_tm < cds_coo:\n",
    "        selected_riboset_ext_genes.append(gene)\n",
    "        \n",
    "print (', '.join(selected_riboset_ext_genes))"
   ]
  },
  {
   "cell_type": "code",
   "execution_count": 82,
   "metadata": {},
   "outputs": [
    {
     "data": {
      "text/plain": [
       "112"
      ]
     },
     "execution_count": 82,
     "metadata": {},
     "output_type": "execute_result"
    }
   ],
   "source": [
    "len(selected_riboset_ext_genes)"
   ]
  },
  {
   "cell_type": "code",
   "execution_count": null,
   "metadata": {},
   "outputs": [],
   "source": [
    "Pho = {'RiboSET': 16, # 1\n",
    " 'PhyloSET': 3, \n",
    " 'RiboSET_ext': 112,\n",
    " 'UntranslSET': 10,\n",
    "}"
   ]
  },
  {
   "cell_type": "code",
   "execution_count": 84,
   "metadata": {},
   "outputs": [
    {
     "data": {
      "text/plain": [
       "(0.16932058351260637, 1.6)"
      ]
     },
     "execution_count": 84,
     "metadata": {},
     "output_type": "execute_result"
    }
   ],
   "source": [
    "# RiboSET vs matched \n",
    "a = 16\n",
    "b = 390-16\n",
    "c = 10\n",
    "d = 384-10\n",
    "\n",
    "\n",
    "table = [[a,b], \n",
    "         [c,d]]\n",
    "\n",
    "\n",
    "oddsr, p = fisher_exact(table, alternative='greater')\n",
    "\n",
    "p, oddsr"
   ]
  },
  {
   "cell_type": "code",
   "execution_count": 85,
   "metadata": {},
   "outputs": [
    {
     "data": {
      "text/plain": [
       "(0.9900665277348145, 0.289922480620155)"
      ]
     },
     "execution_count": 85,
     "metadata": {},
     "output_type": "execute_result"
    }
   ],
   "source": [
    "# RiboSET vs matched \n",
    "a = 3\n",
    "b = 390-3\n",
    "c = 10\n",
    "d = 384-10\n",
    "\n",
    "\n",
    "table = [[a,b], \n",
    "         [c,d]]\n",
    "\n",
    "\n",
    "oddsr, p = fisher_exact(table, alternative='greater')\n",
    "\n",
    "p, oddsr"
   ]
  },
  {
   "cell_type": "code",
   "execution_count": 86,
   "metadata": {},
   "outputs": [
    {
     "data": {
      "text/plain": [
       "(0.3095110573109616, 1.2545073375262055)"
      ]
     },
     "execution_count": 86,
     "metadata": {},
     "output_type": "execute_result"
    }
   ],
   "source": [
    "# RiboSET vs matched \n",
    "a = 112\n",
    "b = 3451 - 112\n",
    "c = 10\n",
    "d = 384-10\n",
    "\n",
    "\n",
    "\n",
    "table = [[a,b], \n",
    "         [c,d]]\n",
    "\n",
    "\n",
    "oddsr, p = fisher_exact(table, alternative='greater')\n",
    "\n",
    "p, oddsr"
   ]
  },
  {
   "cell_type": "code",
   "execution_count": 66,
   "metadata": {},
   "outputs": [
    {
     "data": {
      "text/plain": [
       "3451"
      ]
     },
     "execution_count": 66,
     "metadata": {},
     "output_type": "execute_result"
    }
   ],
   "source": [
    "RiboSET_EXT_cds_cov_nonzero.shape[0]"
   ]
  },
  {
   "cell_type": "code",
   "execution_count": null,
   "metadata": {},
   "outputs": [],
   "source": []
  }
 ],
 "metadata": {
  "kernelspec": {
   "display_name": "Python 3",
   "language": "python",
   "name": "python3"
  },
  "language_info": {
   "codemirror_mode": {
    "name": "ipython",
    "version": 3
   },
   "file_extension": ".py",
   "mimetype": "text/x-python",
   "name": "python",
   "nbconvert_exporter": "python",
   "pygments_lexer": "ipython3",
   "version": "3.7.6"
  }
 },
 "nbformat": 4,
 "nbformat_minor": 2
}
