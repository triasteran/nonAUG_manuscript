{
 "cells": [
  {
   "cell_type": "code",
   "execution_count": 23,
   "metadata": {},
   "outputs": [],
   "source": [
    "library(\"ggplot2\")\n",
    "library(\"tidyverse\")"
   ]
  },
  {
   "cell_type": "markdown",
   "metadata": {},
   "source": [
    "# Ivanov et al: 28 unnannoteted in gencode35 genes vs PhyloSET, RiboSET"
   ]
  },
  {
   "cell_type": "code",
   "execution_count": 3,
   "metadata": {},
   "outputs": [],
   "source": [
    "q = 4  # 4 out of 60 genes are red (in study)\n",
    "m = 28 # those are red balls or genes in study \n",
    "n = 20000-28 # urn has 20000 in total = genes \n",
    "k = 60 # we draw 60 genes from urn"
   ]
  },
  {
   "cell_type": "code",
   "execution_count": 7,
   "metadata": {},
   "outputs": [],
   "source": [
    "#1-phyper(q, m, n, k, lower.tail = TRUE, log.p = FALSE)"
   ]
  },
  {
   "cell_type": "code",
   "execution_count": 8,
   "metadata": {},
   "outputs": [
    {
     "data": {
      "text/html": [
       "1.41963234948895e-06"
      ],
      "text/latex": [
       "1.41963234948895e-06"
      ],
      "text/markdown": [
       "1.41963234948895e-06"
      ],
      "text/plain": [
       "[1] 1.419632e-06"
      ]
     },
     "metadata": {},
     "output_type": "display_data"
    }
   ],
   "source": [
    "n_A = 28;n_B = 60; n_C = 20000; n_A_B = 4\n",
    "\n",
    "phyper(n_A_B - 1, n_A, n_C-n_A, n_B, lower.tail = FALSE) "
   ]
  },
  {
   "cell_type": "raw",
   "metadata": {},
   "source": [
    "Overlap of Ivanov et all set (un_38, unannotated in GENCODE v35 28 genes) with PhyloSET is significant (HG, p-value = 1.419e-06) \n",
    "\n"
   ]
  },
  {
   "cell_type": "code",
   "execution_count": 42,
   "metadata": {},
   "outputs": [
    {
     "data": {
      "text/html": [
       "0.102916887537677"
      ],
      "text/latex": [
       "0.102916887537677"
      ],
      "text/markdown": [
       "0.102916887537677"
      ],
      "text/plain": [
       "[1] 0.1029169"
      ]
     },
     "metadata": {},
     "output_type": "display_data"
    }
   ],
   "source": [
    "n_A = 28;n_B = 390; n_C = 20000; n_A_B = 2\n",
    "\n",
    "phyper(n_A_B - 1, n_A, n_C-n_A, n_B, lower.tail = FALSE) "
   ]
  },
  {
   "cell_type": "code",
   "execution_count": null,
   "metadata": {},
   "outputs": [],
   "source": []
  },
  {
   "cell_type": "markdown",
   "metadata": {},
   "source": [
    "# Van Damme et al study"
   ]
  },
  {
   "cell_type": "code",
   "execution_count": 43,
   "metadata": {},
   "outputs": [
    {
     "data": {
      "text/html": [
       "0.00116926792332324"
      ],
      "text/latex": [
       "0.00116926792332324"
      ],
      "text/markdown": [
       "0.00116926792332324"
      ],
      "text/plain": [
       "[1] 0.001169268"
      ]
     },
     "metadata": {},
     "output_type": "display_data"
    }
   ],
   "source": [
    "# PhyloSET\n",
    "\n",
    "n_A = 17; n_B = 60; n_C = 20000; n_A_B = 2\n",
    "\n",
    "phyper(n_A_B - 1, n_A, n_C-n_A, n_B, lower.tail = FALSE) "
   ]
  },
  {
   "cell_type": "code",
   "execution_count": 44,
   "metadata": {},
   "outputs": [
    {
     "data": {
      "text/html": [
       "1.67001111481985e-08"
      ],
      "text/latex": [
       "1.67001111481985e-08"
      ],
      "text/markdown": [
       "1.67001111481985e-08"
      ],
      "text/plain": [
       "[1] 1.670011e-08"
      ]
     },
     "metadata": {},
     "output_type": "display_data"
    }
   ],
   "source": [
    "# RiboSET\n",
    "\n",
    "n_A = 17; n_B = 390; n_C = 20000; n_A_B = 7\n",
    "\n",
    "phyper(n_A_B - 1, n_A, n_C-n_A, n_B, lower.tail = FALSE) "
   ]
  },
  {
   "cell_type": "code",
   "execution_count": null,
   "metadata": {},
   "outputs": [],
   "source": []
  },
  {
   "cell_type": "raw",
   "metadata": {},
   "source": [
    "Both overlaps between Van Damme et al study and PhyloSET, Van Damme et al study and RiboSET are significant (hypergeometric, p-value=0.0011 and 1.67e-08 correspondingly). "
   ]
  },
  {
   "cell_type": "code",
   "execution_count": null,
   "metadata": {},
   "outputs": [],
   "source": []
  },
  {
   "cell_type": "markdown",
   "metadata": {},
   "source": [
    "# Yeom L "
   ]
  },
  {
   "cell_type": "code",
   "execution_count": 45,
   "metadata": {},
   "outputs": [
    {
     "data": {
      "text/html": [
       "0.403078926919315"
      ],
      "text/latex": [
       "0.403078926919315"
      ],
      "text/markdown": [
       "0.403078926919315"
      ],
      "text/plain": [
       "[1] 0.4030789"
      ]
     },
     "metadata": {},
     "output_type": "display_data"
    }
   ],
   "source": [
    "# PhyloSET\n",
    "\n",
    "n_A = 171; n_B = 60; n_C = 20000; n_A_B = 1\n",
    "\n",
    "phyper(n_A_B - 1, n_A, n_C-n_A, n_B, lower.tail = FALSE) "
   ]
  },
  {
   "cell_type": "code",
   "execution_count": 46,
   "metadata": {},
   "outputs": [
    {
     "data": {
      "text/html": [
       "4.40988006301165e-08"
      ],
      "text/latex": [
       "4.40988006301165e-08"
      ],
      "text/markdown": [
       "4.40988006301165e-08"
      ],
      "text/plain": [
       "[1] 4.40988e-08"
      ]
     },
     "metadata": {},
     "output_type": "display_data"
    }
   ],
   "source": [
    "# RiboSET\n",
    "\n",
    "n_A = 171; n_B = 390; n_C = 20000; n_A_B = 17\n",
    "\n",
    "phyper(n_A_B - 1, n_A, n_C-n_A, n_B, lower.tail = FALSE) "
   ]
  },
  {
   "cell_type": "code",
   "execution_count": null,
   "metadata": {},
   "outputs": [],
   "source": [
    "4.409e-08"
   ]
  },
  {
   "cell_type": "code",
   "execution_count": null,
   "metadata": {},
   "outputs": [],
   "source": []
  },
  {
   "cell_type": "code",
   "execution_count": null,
   "metadata": {},
   "outputs": [],
   "source": []
  },
  {
   "cell_type": "markdown",
   "metadata": {},
   "source": [
    "# RiboSET/PhyloSET "
   ]
  },
  {
   "cell_type": "code",
   "execution_count": 49,
   "metadata": {},
   "outputs": [
    {
     "data": {
      "text/html": [
       "2.05333115431375e-05"
      ],
      "text/latex": [
       "2.05333115431375e-05"
      ],
      "text/markdown": [
       "2.05333115431375e-05"
      ],
      "text/plain": [
       "[1] 2.053331e-05"
      ]
     },
     "metadata": {},
     "output_type": "display_data"
    }
   ],
   "source": [
    "n_A = 60; n_B = 390; n_C = 20000; n_A_B = 8\n",
    "\n",
    "phyper(n_A_B - 1, n_A, n_C-n_A, n_B, lower.tail = FALSE) "
   ]
  },
  {
   "cell_type": "code",
   "execution_count": null,
   "metadata": {},
   "outputs": [],
   "source": [
    "RiboSET and PhyloSET overlap is also significant (hypergeometric, pv-adj=)"
   ]
  },
  {
   "cell_type": "code",
   "execution_count": null,
   "metadata": {},
   "outputs": [],
   "source": []
  },
  {
   "cell_type": "code",
   "execution_count": null,
   "metadata": {},
   "outputs": [],
   "source": []
  },
  {
   "cell_type": "markdown",
   "metadata": {},
   "source": [
    "# Multiple testing correction "
   ]
  },
  {
   "cell_type": "code",
   "execution_count": 50,
   "metadata": {},
   "outputs": [
    {
     "data": {
      "text/html": [
       "<style>\n",
       ".list-inline {list-style: none; margin:0; padding: 0}\n",
       ".list-inline>li {display: inline-block}\n",
       ".list-inline>li:not(:last-child)::after {content: \"\\00b7\"; padding: 0 .5ex}\n",
       "</style>\n",
       "<ol class=list-inline><li>3.311e-06</li><li>0.119</li><li>0.00154</li><li>1.169e-07</li><li>1.54315e-07</li><li>0.403</li><li>3.59332952004906e-05</li></ol>\n"
      ],
      "text/latex": [
       "\\begin{enumerate*}\n",
       "\\item 3.311e-06\n",
       "\\item 0.119\n",
       "\\item 0.00154\n",
       "\\item 1.169e-07\n",
       "\\item 1.54315e-07\n",
       "\\item 0.403\n",
       "\\item 3.59332952004906e-05\n",
       "\\end{enumerate*}\n"
      ],
      "text/markdown": [
       "1. 3.311e-06\n",
       "2. 0.119\n",
       "3. 0.00154\n",
       "4. 1.169e-07\n",
       "5. 1.54315e-07\n",
       "6. 0.403\n",
       "7. 3.59332952004906e-05\n",
       "\n",
       "\n"
      ],
      "text/plain": [
       "[1] 3.31100e-06 1.19000e-01 1.54000e-03 1.16900e-07 1.54315e-07 4.03000e-01\n",
       "[7] 3.59333e-05"
      ]
     },
     "metadata": {},
     "output_type": "display_data"
    }
   ],
   "source": [
    "p.adjust(c(1.419e-06, 0.102, 0.0011, 1.67e-08, 4.409e-08, 0.4030, 2.05333115431375e-05), method = 'BH')"
   ]
  },
  {
   "cell_type": "code",
   "execution_count": null,
   "metadata": {},
   "outputs": [],
   "source": [
    "3.59e-05"
   ]
  },
  {
   "cell_type": "markdown",
   "metadata": {},
   "source": [
    "# If we simulate sets of size 28 and 60 from 20k sets, do we get similar p-value? "
   ]
  },
  {
   "cell_type": "code",
   "execution_count": 10,
   "metadata": {},
   "outputs": [],
   "source": [
    "f <- read.csv('../../tmp_res/metadata_pc_g25.txt', sep='\\t')"
   ]
  },
  {
   "cell_type": "code",
   "execution_count": 13,
   "metadata": {},
   "outputs": [],
   "source": [
    "all_genes <- unique(f$gene)"
   ]
  },
  {
   "cell_type": "code",
   "execution_count": 14,
   "metadata": {},
   "outputs": [],
   "source": [
    "phyloset <- c('HES3',\n",
    " 'RERE',\n",
    " 'IFFO2',\n",
    " 'TAF12',\n",
    " 'SFPQ',\n",
    " 'OAZ3',\n",
    " 'VANGL2',\n",
    " 'NRXN1',\n",
    " 'C1QL2',\n",
    " 'MAP3K19',\n",
    " 'SLC6A1',\n",
    " 'ZBTB47',\n",
    " 'ADCY5',\n",
    " 'H1FX',\n",
    " 'TRPC1',\n",
    " 'SLC4A4',\n",
    " 'MAB21L2',\n",
    " 'FBXW7',\n",
    " 'HNRNPA0',\n",
    " 'MARCKS',\n",
    " 'MAP3K5',\n",
    " 'POMZP3',\n",
    " 'SLC35G5',\n",
    " 'ENY2',\n",
    " 'C1QL3',\n",
    " 'NAV2',\n",
    " 'ALDH3B2',\n",
    " 'GLTP',\n",
    " 'MAB21L1',\n",
    " 'PELI2',\n",
    " 'PLEKHG3',\n",
    " 'FEM1B',\n",
    " 'SULT1A1',\n",
    " 'AC007906.1',\n",
    " 'MAF',\n",
    " 'GLOD4',\n",
    " 'FXR2',\n",
    " 'TNFAIP1',\n",
    " 'TBC1D29',\n",
    " 'HOXB5',\n",
    " 'RPTOR',\n",
    " 'MIB1',\n",
    " 'SMAD7',\n",
    " 'CCDC8',\n",
    " 'CYTH2',\n",
    " 'CACNG8',\n",
    " 'ACTL10',\n",
    " 'GDF5OS',\n",
    " 'RIMS4',\n",
    " 'HELZ2',\n",
    " 'RANBP1',\n",
    " 'LRP5L',\n",
    " 'SOX10',\n",
    " 'KIAA0930',\n",
    " 'WWC3',\n",
    " 'USP27X',\n",
    " 'DLG3',\n",
    " 'PABPC1L2B',\n",
    " 'PABPC1L2A',\n",
    " 'UBE2A')"
   ]
  },
  {
   "cell_type": "code",
   "execution_count": 15,
   "metadata": {},
   "outputs": [],
   "source": [
    "un28 <- c('HDGF',\n",
    " 'NTF3',\n",
    " 'IFT46',\n",
    " 'ENOX2',\n",
    " 'RASL10B',\n",
    " 'NGF',\n",
    " 'KCNN4',\n",
    " 'C1QL2',\n",
    " 'FGFR1',\n",
    " 'MFSD4B',\n",
    " 'TMEM8B',\n",
    " 'C1QL4',\n",
    " 'EPHX3',\n",
    " 'STARD10',\n",
    " 'CITED1',\n",
    " 'CITED2',\n",
    " 'C1QL3',\n",
    " 'EIF4G3',\n",
    " 'CYTH2',\n",
    " 'RASD2',\n",
    " 'NHLRC4',\n",
    " 'VANGL2',\n",
    " 'YPEL4',\n",
    " 'TEAD1',\n",
    " 'FAM217B',\n",
    " 'METTL23',\n",
    " 'UFSP1',\n",
    " 'TLE3')"
   ]
  },
  {
   "cell_type": "code",
   "execution_count": 16,
   "metadata": {},
   "outputs": [],
   "source": [
    "sets <- list(phyloset, un28)"
   ]
  },
  {
   "cell_type": "code",
   "execution_count": 31,
   "metadata": {},
   "outputs": [],
   "source": [
    "# Hypergeometric null distribution.\n",
    "hyper <- rhyper(\n",
    "  nn=length(all_genes), m=length(sets[[1]]),\n",
    "  n=length(all_genes) - length(sets[[1]]),\n",
    "  k=length(sets[[2]])\n",
    ")\n",
    "\n",
    "# Simulated null distribution.\n",
    "simulated <- map_dbl(seq_len(20330), function(x) {\n",
    "   sim <- map(lengths(sets), ~sample(all_genes, .x))\n",
    "   sim <- length(reduce(sim, intersect))\n",
    "   return(sim)\n",
    "})"
   ]
  },
  {
   "cell_type": "code",
   "execution_count": 32,
   "metadata": {},
   "outputs": [
    {
     "data": {
      "text/html": [
       "20330"
      ],
      "text/latex": [
       "20330"
      ],
      "text/markdown": [
       "20330"
      ],
      "text/plain": [
       "[1] 20330"
      ]
     },
     "metadata": {},
     "output_type": "display_data"
    }
   ],
   "source": [
    "length(simulated)"
   ]
  },
  {
   "cell_type": "code",
   "execution_count": 33,
   "metadata": {},
   "outputs": [
    {
     "data": {
      "text/html": [
       "20330"
      ],
      "text/latex": [
       "20330"
      ],
      "text/markdown": [
       "20330"
      ],
      "text/plain": [
       "[1] 20330"
      ]
     },
     "metadata": {},
     "output_type": "display_data"
    }
   ],
   "source": [
    "length(hyper)"
   ]
  },
  {
   "cell_type": "code",
   "execution_count": 36,
   "metadata": {},
   "outputs": [],
   "source": [
    "observed <- 4"
   ]
  },
  {
   "cell_type": "code",
   "execution_count": 41,
   "metadata": {},
   "outputs": [
    {
     "data": {
      "image/png": "[encoded data removed]",
      "text/plain": [
       "plot without title"
      ]
     },
     "metadata": {
      "image/png": {
       "height": 420,
       "width": 420
      },
      "text/plain": {
       "height": 420,
       "width": 420
      }
     },
     "output_type": "display_data"
    }
   ],
   "source": [
    "data.frame(Simulated=simulated, Hypergeometric=hyper) %>%\n",
    "  pivot_longer(everything(), names_to=\"Method\", values_to=\"Overlap\") %>%\n",
    "  ggplot(aes(x=Overlap, fill=Method)) +\n",
    "    geom_histogram(binwidth=1) +\n",
    "    geom_vline(xintercept=observed, lty=2, color=\"grey\", size=1) +\n",
    "    theme_bw() +\n",
    "    theme(text=element_text(size=23), legend.position=\"none\") +\n",
    "    facet_grid(Method~.) +\n",
    "    scale_fill_manual(values=c(\"dodgerblue\", \"seagreen\")) +\n",
    "    ylab(\"Count\")"
   ]
  },
  {
   "cell_type": "code",
   "execution_count": null,
   "metadata": {},
   "outputs": [],
   "source": []
  },
  {
   "cell_type": "code",
   "execution_count": null,
   "metadata": {},
   "outputs": [],
   "source": []
  },
  {
   "cell_type": "code",
   "execution_count": null,
   "metadata": {},
   "outputs": [],
   "source": []
  },
  {
   "cell_type": "code",
   "execution_count": null,
   "metadata": {},
   "outputs": [],
   "source": []
  },
  {
   "cell_type": "code",
   "execution_count": null,
   "metadata": {},
   "outputs": [],
   "source": []
  },
  {
   "cell_type": "code",
   "execution_count": null,
   "metadata": {},
   "outputs": [],
   "source": []
  },
  {
   "cell_type": "code",
   "execution_count": null,
   "metadata": {},
   "outputs": [],
   "source": [
    "Ivanov et al "
   ]
  },
  {
   "cell_type": "code",
   "execution_count": null,
   "metadata": {},
   "outputs": [],
   "source": []
  }
 ],
 "metadata": {
  "kernelspec": {
   "display_name": "R [conda env:r_env]",
   "language": "R",
   "name": "conda-env-r_env-r"
  },
  "language_info": {
   "codemirror_mode": "r",
   "file_extension": ".r",
   "mimetype": "text/x-r-source",
   "name": "R",
   "pygments_lexer": "r",
   "version": "3.6.1"
  }
 },
 "nbformat": 4,
 "nbformat_minor": 2
}
