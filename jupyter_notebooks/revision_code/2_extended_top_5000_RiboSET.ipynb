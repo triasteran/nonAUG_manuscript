{
 "cells": [
  {
   "cell_type": "code",
   "execution_count": 204,
   "metadata": {},
   "outputs": [],
   "source": [
    "%matplotlib inline\n",
    "\n",
    "import numpy as np\n",
    "from collections import OrderedDict, Counter, defaultdict\n",
    "import pandas as pd\n",
    "\n",
    "import Bio\n",
    "from Bio import SeqIO\n",
    "\n",
    "import seaborn as sns\n",
    "import matplotlib.pyplot as plt\n",
    "\n",
    "import glob\n",
    "\n",
    "import subprocess\n",
    "from subprocess import call\n",
    "\n",
    "import re\n",
    "\n",
    "import warnings\n",
    "warnings.simplefilter(action='ignore', category=FutureWarning)\n",
    "\n",
    "import pandas\n",
    "\n",
    "import pickle\n",
    "\n",
    "from scipy import stats\n",
    "\n",
    "import numpy as np\n",
    "from scipy.spatial.distance import cdist"
   ]
  },
  {
   "cell_type": "code",
   "execution_count": 71,
   "metadata": {},
   "outputs": [
    {
     "name": "stdout",
     "output_type": "stream",
     "text": [
      "390\n"
     ]
    }
   ],
   "source": [
    "# open SET1 (PhyloSET) and SET2 (RiboSET)\n",
    "PhyloSET = pd.read_csv('../tmp_res/SET1.txt', sep='\\t')\n",
    "\n",
    "\n",
    "\n",
    "RiboSET = pd.read_csv('../tmp_res/SET2.txt', sep='\\t')\n",
    "\n",
    "RiboSET['tr_id1'] = [x.split('.')[0] for x in RiboSET['tr_id'].tolist()]\n",
    "\n",
    "RiboSET = RiboSET[(~RiboSET['Riboseq_Summary'].str.contains('ATG')) & \n",
    "                  (~RiboSET['tr_id'].str.contains('PAR'))]\n",
    "\n",
    "print (RiboSET.shape[0])"
   ]
  },
  {
   "cell_type": "code",
   "execution_count": 72,
   "metadata": {},
   "outputs": [
    {
     "data": {
      "text/html": [
       "<div>\n",
       "<style scoped>\n",
       "    .dataframe tbody tr th:only-of-type {\n",
       "        vertical-align: middle;\n",
       "    }\n",
       "\n",
       "    .dataframe tbody tr th {\n",
       "        vertical-align: top;\n",
       "    }\n",
       "\n",
       "    .dataframe thead th {\n",
       "        text-align: right;\n",
       "    }\n",
       "</style>\n",
       "<table border=\"1\" class=\"dataframe\">\n",
       "  <thead>\n",
       "    <tr style=\"text-align: right;\">\n",
       "      <th></th>\n",
       "      <th>tr_id</th>\n",
       "      <th>gene</th>\n",
       "      <th>gene_tr</th>\n",
       "      <th>transcript_seq</th>\n",
       "      <th>5UTR_start_seq</th>\n",
       "      <th>CDS_start</th>\n",
       "      <th>cds_seq</th>\n",
       "      <th>cds_start_codon</th>\n",
       "      <th>cds_stop_codon</th>\n",
       "      <th>cds_start_pos</th>\n",
       "      <th>cds_stop_pos</th>\n",
       "      <th>utr5_start</th>\n",
       "      <th>utr5_end</th>\n",
       "      <th>record_id</th>\n",
       "    </tr>\n",
       "  </thead>\n",
       "  <tbody>\n",
       "    <tr>\n",
       "      <th>0</th>\n",
       "      <td>ENST00000335137.3</td>\n",
       "      <td>OR4F5</td>\n",
       "      <td>OR4F5-001</td>\n",
       "      <td>ATGGTGACTGAATTCATTTTTCTGGGTCTCTCTGATTCTCAGGAAC...</td>\n",
       "      <td>NaN</td>\n",
       "      <td>ATG</td>\n",
       "      <td>ATGGTGACTGAATTCATTTTTCTGGGTCTCTCTGATTCTCAGGAAC...</td>\n",
       "      <td>ATG</td>\n",
       "      <td>TAG</td>\n",
       "      <td>0</td>\n",
       "      <td>918</td>\n",
       "      <td>0</td>\n",
       "      <td>0</td>\n",
       "      <td>ENST00000335137.3|ENSG00000186092.4|OTTHUMG000...</td>\n",
       "    </tr>\n",
       "  </tbody>\n",
       "</table>\n",
       "</div>"
      ],
      "text/plain": [
       "               tr_id   gene    gene_tr  \\\n",
       "0  ENST00000335137.3  OR4F5  OR4F5-001   \n",
       "\n",
       "                                      transcript_seq 5UTR_start_seq CDS_start  \\\n",
       "0  ATGGTGACTGAATTCATTTTTCTGGGTCTCTCTGATTCTCAGGAAC...            NaN       ATG   \n",
       "\n",
       "                                             cds_seq cds_start_codon  \\\n",
       "0  ATGGTGACTGAATTCATTTTTCTGGGTCTCTCTGATTCTCAGGAAC...             ATG   \n",
       "\n",
       "  cds_stop_codon  cds_start_pos  cds_stop_pos  utr5_start  utr5_end  \\\n",
       "0            TAG              0           918           0         0   \n",
       "\n",
       "                                           record_id  \n",
       "0  ENST00000335137.3|ENSG00000186092.4|OTTHUMG000...  "
      ]
     },
     "execution_count": 72,
     "metadata": {},
     "output_type": "execute_result"
    }
   ],
   "source": [
    "metadata_pc_g25 = pd.read_csv('../tmp_res/metadata_pc_g25.txt', sep='\\t')\n",
    "metadata_pc_g25[0:1]"
   ]
  },
  {
   "cell_type": "code",
   "execution_count": 73,
   "metadata": {},
   "outputs": [
    {
     "data": {
      "text/html": [
       "<div>\n",
       "<style scoped>\n",
       "    .dataframe tbody tr th:only-of-type {\n",
       "        vertical-align: middle;\n",
       "    }\n",
       "\n",
       "    .dataframe tbody tr th {\n",
       "        vertical-align: top;\n",
       "    }\n",
       "\n",
       "    .dataframe thead th {\n",
       "        text-align: right;\n",
       "    }\n",
       "</style>\n",
       "<table border=\"1\" class=\"dataframe\">\n",
       "  <thead>\n",
       "    <tr style=\"text-align: right;\">\n",
       "      <th></th>\n",
       "      <th>tr_id</th>\n",
       "      <th>N_term_start</th>\n",
       "      <th>N_term_end</th>\n",
       "      <th>len</th>\n",
       "      <th>N_term_start1</th>\n",
       "      <th>N_term_end1</th>\n",
       "      <th>len_codons</th>\n",
       "      <th>gene</th>\n",
       "      <th>50len_flag</th>\n",
       "      <th>global_coo_50_and_less</th>\n",
       "      <th>...</th>\n",
       "      <th>max_sum_overlap_refseq_all_exons</th>\n",
       "      <th>max_sum_overlap_refseq_all_exons_strandless</th>\n",
       "      <th>ovlp</th>\n",
       "      <th>ovlp_strandless</th>\n",
       "      <th>ovlp2</th>\n",
       "      <th>ovlp2_strandless</th>\n",
       "      <th>PhyloCSF120score</th>\n",
       "      <th>tr_id1</th>\n",
       "      <th>number_of_records</th>\n",
       "      <th>records_names</th>\n",
       "    </tr>\n",
       "  </thead>\n",
       "  <tbody>\n",
       "    <tr>\n",
       "      <th>0</th>\n",
       "      <td>ENST00000624431.1</td>\n",
       "      <td>274</td>\n",
       "      <td>316</td>\n",
       "      <td>42</td>\n",
       "      <td>274</td>\n",
       "      <td>316</td>\n",
       "      <td>14.0</td>\n",
       "      <td>FO538757.2</td>\n",
       "      <td>274</td>\n",
       "      <td>chr1:182667-182708</td>\n",
       "      <td>...</td>\n",
       "      <td>0</td>\n",
       "      <td>0</td>\n",
       "      <td>0;0;0</td>\n",
       "      <td>0;0;0</td>\n",
       "      <td>0;0;0;0</td>\n",
       "      <td>0;0;0;0</td>\n",
       "      <td>-163.9926</td>\n",
       "      <td>ENST00000624431</td>\n",
       "      <td>85</td>\n",
       "      <td>Human; Gorilla; Orangutan; Golden_snub_nosed_m...</td>\n",
       "    </tr>\n",
       "  </tbody>\n",
       "</table>\n",
       "<p>1 rows × 30 columns</p>\n",
       "</div>"
      ],
      "text/plain": [
       "               tr_id  N_term_start  N_term_end  len  N_term_start1  \\\n",
       "0  ENST00000624431.1           274         316   42            274   \n",
       "\n",
       "   N_term_end1  len_codons        gene  50len_flag global_coo_50_and_less  \\\n",
       "0          316        14.0  FO538757.2         274     chr1:182667-182708   \n",
       "\n",
       "   ... max_sum_overlap_refseq_all_exons  \\\n",
       "0  ...                                0   \n",
       "\n",
       "  max_sum_overlap_refseq_all_exons_strandless   ovlp ovlp_strandless    ovlp2  \\\n",
       "0                                           0  0;0;0           0;0;0  0;0;0;0   \n",
       "\n",
       "   ovlp2_strandless  PhyloCSF120score           tr_id1  number_of_records  \\\n",
       "0           0;0;0;0         -163.9926  ENST00000624431                 85   \n",
       "\n",
       "                                       records_names  \n",
       "0  Human; Gorilla; Orangutan; Golden_snub_nosed_m...  \n",
       "\n",
       "[1 rows x 30 columns]"
      ]
     },
     "execution_count": 73,
     "metadata": {},
     "output_type": "execute_result"
    }
   ],
   "source": [
    "# open metadata with scores and metrics\n",
    "meta = pd.read_csv('../tmp_res/local_and_global_df_g25ovlp_g35ovlp_g38ovlp_refseqovlp_strand_FRAMES_PhyloCSF.txt', sep='\\t')\n",
    "meta[0:1]"
   ]
  },
  {
   "cell_type": "code",
   "execution_count": 74,
   "metadata": {},
   "outputs": [
    {
     "name": "stdout",
     "output_type": "stream",
     "text": [
      "77513\n"
     ]
    }
   ],
   "source": [
    "print (meta.shape[0])"
   ]
  },
  {
   "cell_type": "code",
   "execution_count": 205,
   "metadata": {},
   "outputs": [
    {
     "ename": "FileNotFoundError",
     "evalue": "[Errno 2] No such file or directory: '../tmp_res/25079_19codons_UPD_trs_coverages.txt'",
     "output_type": "error",
     "traceback": [
      "\u001b[0;31m---------------------------------------------------------------------------\u001b[0m",
      "\u001b[0;31mFileNotFoundError\u001b[0m                         Traceback (most recent call last)",
      "\u001b[0;32m<ipython-input-205-a285a8967a42>\u001b[0m in \u001b[0;36m<module>\u001b[0;34m\u001b[0m\n\u001b[1;32m      2\u001b[0m \u001b[0;31m# excluded genes with NTE cov > 0 in trips-viz pred ranked genes\u001b[0m\u001b[0;34m\u001b[0m\u001b[0;34m\u001b[0m\u001b[0;34m\u001b[0m\u001b[0m\n\u001b[1;32m      3\u001b[0m \u001b[0;31m# keep only transcripts with CDS complete sequence\u001b[0m\u001b[0;34m\u001b[0m\u001b[0;34m\u001b[0m\u001b[0;34m\u001b[0m\u001b[0m\n\u001b[0;32m----> 4\u001b[0;31m \u001b[0mdf3\u001b[0m \u001b[0;34m=\u001b[0m \u001b[0mpd\u001b[0m\u001b[0;34m.\u001b[0m\u001b[0mread_csv\u001b[0m\u001b[0;34m(\u001b[0m\u001b[0;34m'../tmp_res/25079_19codons_UPD_trs_coverages.txt'\u001b[0m\u001b[0;34m,\u001b[0m \u001b[0msep\u001b[0m\u001b[0;34m=\u001b[0m\u001b[0;34m'\\t'\u001b[0m\u001b[0;34m)\u001b[0m\u001b[0;34m\u001b[0m\u001b[0;34m\u001b[0m\u001b[0m\n\u001b[0m\u001b[1;32m      5\u001b[0m \u001b[0;34m\u001b[0m\u001b[0m\n\u001b[1;32m      6\u001b[0m df3.columns = ['tr_id1', 'Z_score', 'CDS_coverage', 'NTE_coverage',\n",
      "\u001b[0;32m~/anaconda3/lib/python3.7/site-packages/pandas/io/parsers.py\u001b[0m in \u001b[0;36mread_csv\u001b[0;34m(filepath_or_buffer, sep, delimiter, header, names, index_col, usecols, squeeze, prefix, mangle_dupe_cols, dtype, engine, converters, true_values, false_values, skipinitialspace, skiprows, skipfooter, nrows, na_values, keep_default_na, na_filter, verbose, skip_blank_lines, parse_dates, infer_datetime_format, keep_date_col, date_parser, dayfirst, cache_dates, iterator, chunksize, compression, thousands, decimal, lineterminator, quotechar, quoting, doublequote, escapechar, comment, encoding, dialect, error_bad_lines, warn_bad_lines, delim_whitespace, low_memory, memory_map, float_precision)\u001b[0m\n\u001b[1;32m    686\u001b[0m     )\n\u001b[1;32m    687\u001b[0m \u001b[0;34m\u001b[0m\u001b[0m\n\u001b[0;32m--> 688\u001b[0;31m     \u001b[0;32mreturn\u001b[0m \u001b[0m_read\u001b[0m\u001b[0;34m(\u001b[0m\u001b[0mfilepath_or_buffer\u001b[0m\u001b[0;34m,\u001b[0m \u001b[0mkwds\u001b[0m\u001b[0;34m)\u001b[0m\u001b[0;34m\u001b[0m\u001b[0;34m\u001b[0m\u001b[0m\n\u001b[0m\u001b[1;32m    689\u001b[0m \u001b[0;34m\u001b[0m\u001b[0m\n\u001b[1;32m    690\u001b[0m \u001b[0;34m\u001b[0m\u001b[0m\n",
      "\u001b[0;32m~/anaconda3/lib/python3.7/site-packages/pandas/io/parsers.py\u001b[0m in \u001b[0;36m_read\u001b[0;34m(filepath_or_buffer, kwds)\u001b[0m\n\u001b[1;32m    452\u001b[0m \u001b[0;34m\u001b[0m\u001b[0m\n\u001b[1;32m    453\u001b[0m     \u001b[0;31m# Create the parser.\u001b[0m\u001b[0;34m\u001b[0m\u001b[0;34m\u001b[0m\u001b[0;34m\u001b[0m\u001b[0m\n\u001b[0;32m--> 454\u001b[0;31m     \u001b[0mparser\u001b[0m \u001b[0;34m=\u001b[0m \u001b[0mTextFileReader\u001b[0m\u001b[0;34m(\u001b[0m\u001b[0mfp_or_buf\u001b[0m\u001b[0;34m,\u001b[0m \u001b[0;34m**\u001b[0m\u001b[0mkwds\u001b[0m\u001b[0;34m)\u001b[0m\u001b[0;34m\u001b[0m\u001b[0;34m\u001b[0m\u001b[0m\n\u001b[0m\u001b[1;32m    455\u001b[0m \u001b[0;34m\u001b[0m\u001b[0m\n\u001b[1;32m    456\u001b[0m     \u001b[0;32mif\u001b[0m \u001b[0mchunksize\u001b[0m \u001b[0;32mor\u001b[0m \u001b[0miterator\u001b[0m\u001b[0;34m:\u001b[0m\u001b[0;34m\u001b[0m\u001b[0;34m\u001b[0m\u001b[0m\n",
      "\u001b[0;32m~/anaconda3/lib/python3.7/site-packages/pandas/io/parsers.py\u001b[0m in \u001b[0;36m__init__\u001b[0;34m(self, f, engine, **kwds)\u001b[0m\n\u001b[1;32m    946\u001b[0m             \u001b[0mself\u001b[0m\u001b[0;34m.\u001b[0m\u001b[0moptions\u001b[0m\u001b[0;34m[\u001b[0m\u001b[0;34m\"has_index_names\"\u001b[0m\u001b[0;34m]\u001b[0m \u001b[0;34m=\u001b[0m \u001b[0mkwds\u001b[0m\u001b[0;34m[\u001b[0m\u001b[0;34m\"has_index_names\"\u001b[0m\u001b[0;34m]\u001b[0m\u001b[0;34m\u001b[0m\u001b[0;34m\u001b[0m\u001b[0m\n\u001b[1;32m    947\u001b[0m \u001b[0;34m\u001b[0m\u001b[0m\n\u001b[0;32m--> 948\u001b[0;31m         \u001b[0mself\u001b[0m\u001b[0;34m.\u001b[0m\u001b[0m_make_engine\u001b[0m\u001b[0;34m(\u001b[0m\u001b[0mself\u001b[0m\u001b[0;34m.\u001b[0m\u001b[0mengine\u001b[0m\u001b[0;34m)\u001b[0m\u001b[0;34m\u001b[0m\u001b[0;34m\u001b[0m\u001b[0m\n\u001b[0m\u001b[1;32m    949\u001b[0m \u001b[0;34m\u001b[0m\u001b[0m\n\u001b[1;32m    950\u001b[0m     \u001b[0;32mdef\u001b[0m \u001b[0mclose\u001b[0m\u001b[0;34m(\u001b[0m\u001b[0mself\u001b[0m\u001b[0;34m)\u001b[0m\u001b[0;34m:\u001b[0m\u001b[0;34m\u001b[0m\u001b[0;34m\u001b[0m\u001b[0m\n",
      "\u001b[0;32m~/anaconda3/lib/python3.7/site-packages/pandas/io/parsers.py\u001b[0m in \u001b[0;36m_make_engine\u001b[0;34m(self, engine)\u001b[0m\n\u001b[1;32m   1178\u001b[0m     \u001b[0;32mdef\u001b[0m \u001b[0m_make_engine\u001b[0m\u001b[0;34m(\u001b[0m\u001b[0mself\u001b[0m\u001b[0;34m,\u001b[0m \u001b[0mengine\u001b[0m\u001b[0;34m=\u001b[0m\u001b[0;34m\"c\"\u001b[0m\u001b[0;34m)\u001b[0m\u001b[0;34m:\u001b[0m\u001b[0;34m\u001b[0m\u001b[0;34m\u001b[0m\u001b[0m\n\u001b[1;32m   1179\u001b[0m         \u001b[0;32mif\u001b[0m \u001b[0mengine\u001b[0m \u001b[0;34m==\u001b[0m \u001b[0;34m\"c\"\u001b[0m\u001b[0;34m:\u001b[0m\u001b[0;34m\u001b[0m\u001b[0;34m\u001b[0m\u001b[0m\n\u001b[0;32m-> 1180\u001b[0;31m             \u001b[0mself\u001b[0m\u001b[0;34m.\u001b[0m\u001b[0m_engine\u001b[0m \u001b[0;34m=\u001b[0m \u001b[0mCParserWrapper\u001b[0m\u001b[0;34m(\u001b[0m\u001b[0mself\u001b[0m\u001b[0;34m.\u001b[0m\u001b[0mf\u001b[0m\u001b[0;34m,\u001b[0m \u001b[0;34m**\u001b[0m\u001b[0mself\u001b[0m\u001b[0;34m.\u001b[0m\u001b[0moptions\u001b[0m\u001b[0;34m)\u001b[0m\u001b[0;34m\u001b[0m\u001b[0;34m\u001b[0m\u001b[0m\n\u001b[0m\u001b[1;32m   1181\u001b[0m         \u001b[0;32melse\u001b[0m\u001b[0;34m:\u001b[0m\u001b[0;34m\u001b[0m\u001b[0;34m\u001b[0m\u001b[0m\n\u001b[1;32m   1182\u001b[0m             \u001b[0;32mif\u001b[0m \u001b[0mengine\u001b[0m \u001b[0;34m==\u001b[0m \u001b[0;34m\"python\"\u001b[0m\u001b[0;34m:\u001b[0m\u001b[0;34m\u001b[0m\u001b[0;34m\u001b[0m\u001b[0m\n",
      "\u001b[0;32m~/anaconda3/lib/python3.7/site-packages/pandas/io/parsers.py\u001b[0m in \u001b[0;36m__init__\u001b[0;34m(self, src, **kwds)\u001b[0m\n\u001b[1;32m   2008\u001b[0m         \u001b[0mkwds\u001b[0m\u001b[0;34m[\u001b[0m\u001b[0;34m\"usecols\"\u001b[0m\u001b[0;34m]\u001b[0m \u001b[0;34m=\u001b[0m \u001b[0mself\u001b[0m\u001b[0;34m.\u001b[0m\u001b[0musecols\u001b[0m\u001b[0;34m\u001b[0m\u001b[0;34m\u001b[0m\u001b[0m\n\u001b[1;32m   2009\u001b[0m \u001b[0;34m\u001b[0m\u001b[0m\n\u001b[0;32m-> 2010\u001b[0;31m         \u001b[0mself\u001b[0m\u001b[0;34m.\u001b[0m\u001b[0m_reader\u001b[0m \u001b[0;34m=\u001b[0m \u001b[0mparsers\u001b[0m\u001b[0;34m.\u001b[0m\u001b[0mTextReader\u001b[0m\u001b[0;34m(\u001b[0m\u001b[0msrc\u001b[0m\u001b[0;34m,\u001b[0m \u001b[0;34m**\u001b[0m\u001b[0mkwds\u001b[0m\u001b[0;34m)\u001b[0m\u001b[0;34m\u001b[0m\u001b[0;34m\u001b[0m\u001b[0m\n\u001b[0m\u001b[1;32m   2011\u001b[0m         \u001b[0mself\u001b[0m\u001b[0;34m.\u001b[0m\u001b[0munnamed_cols\u001b[0m \u001b[0;34m=\u001b[0m \u001b[0mself\u001b[0m\u001b[0;34m.\u001b[0m\u001b[0m_reader\u001b[0m\u001b[0;34m.\u001b[0m\u001b[0munnamed_cols\u001b[0m\u001b[0;34m\u001b[0m\u001b[0;34m\u001b[0m\u001b[0m\n\u001b[1;32m   2012\u001b[0m \u001b[0;34m\u001b[0m\u001b[0m\n",
      "\u001b[0;32mpandas/_libs/parsers.pyx\u001b[0m in \u001b[0;36mpandas._libs.parsers.TextReader.__cinit__\u001b[0;34m()\u001b[0m\n",
      "\u001b[0;32mpandas/_libs/parsers.pyx\u001b[0m in \u001b[0;36mpandas._libs.parsers.TextReader._setup_parser_source\u001b[0;34m()\u001b[0m\n",
      "\u001b[0;31mFileNotFoundError\u001b[0m: [Errno 2] No such file or directory: '../tmp_res/25079_19codons_UPD_trs_coverages.txt'"
     ]
    }
   ],
   "source": [
    "# theor ext length >=19 codons\n",
    "# excluded genes with NTE cov > 0 in trips-viz pred ranked genes \n",
    "# keep only transcripts with CDS complete sequence \n",
    "df3 = pd.read_csv('../tmp_res/25079_19codons_UPD_trs_coverages.txt', sep='\\t')\n",
    "\n",
    "df3.columns = ['tr_id1', 'Z_score', 'CDS_coverage', 'NTE_coverage',\n",
    "       'CDS_nonzero_fraction', 'NTE_nonzero_fraction']\n",
    "\n",
    "\n",
    "df3.shape[0]"
   ]
  },
  {
   "cell_type": "markdown",
   "metadata": {},
   "source": [
    "### top-5000 by rank, theor ext len >=20codons, CDS cov > 0"
   ]
  },
  {
   "cell_type": "code",
   "execution_count": 201,
   "metadata": {},
   "outputs": [
    {
     "data": {
      "text/plain": [
       "3663"
      ]
     },
     "execution_count": 201,
     "metadata": {},
     "output_type": "execute_result"
    }
   ],
   "source": [
    "# ~4k RiboSET ext with non-zero CDS cov in my data \n",
    "RiboSET_EXT_cds_cov_nonzero = pd.read_csv('tmp_res/RiboSET_EXT_cds_cov_nonzero_theor_len_20codons_3663genes.txt', sep='\\t')\n",
    "RiboSET_EXT_cds_cov_nonzero.shape[0]"
   ]
  },
  {
   "cell_type": "code",
   "execution_count": 203,
   "metadata": {},
   "outputs": [
    {
     "data": {
      "text/html": [
       "<div>\n",
       "<style scoped>\n",
       "    .dataframe tbody tr th:only-of-type {\n",
       "        vertical-align: middle;\n",
       "    }\n",
       "\n",
       "    .dataframe tbody tr th {\n",
       "        vertical-align: top;\n",
       "    }\n",
       "\n",
       "    .dataframe thead th {\n",
       "        text-align: right;\n",
       "    }\n",
       "</style>\n",
       "<table border=\"1\" class=\"dataframe\">\n",
       "  <thead>\n",
       "    <tr style=\"text-align: right;\">\n",
       "      <th></th>\n",
       "      <th>tr_id1</th>\n",
       "      <th>Z_score</th>\n",
       "      <th>CDS_coverage</th>\n",
       "      <th>NTE_coverage</th>\n",
       "      <th>CDS_nonzero_fraction</th>\n",
       "      <th>NTE_nonzero_fraction</th>\n",
       "    </tr>\n",
       "  </thead>\n",
       "  <tbody>\n",
       "    <tr>\n",
       "      <th>0</th>\n",
       "      <td>ENST00000379454</td>\n",
       "      <td>0.032101</td>\n",
       "      <td>298.318841</td>\n",
       "      <td>317.934783</td>\n",
       "      <td>0.332894</td>\n",
       "      <td>0.260870</td>\n",
       "    </tr>\n",
       "    <tr>\n",
       "      <th>1</th>\n",
       "      <td>ENST00000216281</td>\n",
       "      <td>0.139750</td>\n",
       "      <td>195.778990</td>\n",
       "      <td>441.650000</td>\n",
       "      <td>0.158709</td>\n",
       "      <td>0.194444</td>\n",
       "    </tr>\n",
       "    <tr>\n",
       "      <th>2</th>\n",
       "      <td>ENST00000409753</td>\n",
       "      <td>-0.352664</td>\n",
       "      <td>750.896774</td>\n",
       "      <td>295.191489</td>\n",
       "      <td>0.331183</td>\n",
       "      <td>0.262411</td>\n",
       "    </tr>\n",
       "    <tr>\n",
       "      <th>3</th>\n",
       "      <td>ENST00000321358</td>\n",
       "      <td>0.295986</td>\n",
       "      <td>156.987692</td>\n",
       "      <td>769.086957</td>\n",
       "      <td>0.062564</td>\n",
       "      <td>0.309353</td>\n",
       "    </tr>\n",
       "    <tr>\n",
       "      <th>4</th>\n",
       "      <td>ENST00000314940</td>\n",
       "      <td>-0.077727</td>\n",
       "      <td>535.316993</td>\n",
       "      <td>477.173913</td>\n",
       "      <td>0.332244</td>\n",
       "      <td>0.333333</td>\n",
       "    </tr>\n",
       "    <tr>\n",
       "      <th>...</th>\n",
       "      <td>...</td>\n",
       "      <td>...</td>\n",
       "      <td>...</td>\n",
       "      <td>...</td>\n",
       "      <td>...</td>\n",
       "      <td>...</td>\n",
       "    </tr>\n",
       "    <tr>\n",
       "      <th>3619</th>\n",
       "      <td>ENST00000255082</td>\n",
       "      <td>-0.153732</td>\n",
       "      <td>0.328125</td>\n",
       "      <td>0.190476</td>\n",
       "      <td>0.064583</td>\n",
       "      <td>0.031746</td>\n",
       "    </tr>\n",
       "    <tr>\n",
       "      <th>3621</th>\n",
       "      <td>ENST00000342740</td>\n",
       "      <td>-0.109766</td>\n",
       "      <td>0.169701</td>\n",
       "      <td>0.090909</td>\n",
       "      <td>0.033989</td>\n",
       "      <td>0.015152</td>\n",
       "    </tr>\n",
       "    <tr>\n",
       "      <th>3638</th>\n",
       "      <td>ENST00000558480</td>\n",
       "      <td>-0.253110</td>\n",
       "      <td>2.022258</td>\n",
       "      <td>0.027027</td>\n",
       "      <td>0.080816</td>\n",
       "      <td>0.009009</td>\n",
       "    </tr>\n",
       "    <tr>\n",
       "      <th>3644</th>\n",
       "      <td>ENST00000419421</td>\n",
       "      <td>-0.181374</td>\n",
       "      <td>0.132388</td>\n",
       "      <td>0.028571</td>\n",
       "      <td>0.026793</td>\n",
       "      <td>0.009524</td>\n",
       "    </tr>\n",
       "    <tr>\n",
       "      <th>3654</th>\n",
       "      <td>ENST00000341099</td>\n",
       "      <td>0.168237</td>\n",
       "      <td>0.154426</td>\n",
       "      <td>0.238095</td>\n",
       "      <td>0.039548</td>\n",
       "      <td>0.063492</td>\n",
       "    </tr>\n",
       "  </tbody>\n",
       "</table>\n",
       "<p>3530 rows × 6 columns</p>\n",
       "</div>"
      ],
      "text/plain": [
       "               tr_id1   Z_score  CDS_coverage  NTE_coverage  \\\n",
       "0     ENST00000379454  0.032101    298.318841    317.934783   \n",
       "1     ENST00000216281  0.139750    195.778990    441.650000   \n",
       "2     ENST00000409753 -0.352664    750.896774    295.191489   \n",
       "3     ENST00000321358  0.295986    156.987692    769.086957   \n",
       "4     ENST00000314940 -0.077727    535.316993    477.173913   \n",
       "...               ...       ...           ...           ...   \n",
       "3619  ENST00000255082 -0.153732      0.328125      0.190476   \n",
       "3621  ENST00000342740 -0.109766      0.169701      0.090909   \n",
       "3638  ENST00000558480 -0.253110      2.022258      0.027027   \n",
       "3644  ENST00000419421 -0.181374      0.132388      0.028571   \n",
       "3654  ENST00000341099  0.168237      0.154426      0.238095   \n",
       "\n",
       "      CDS_nonzero_fraction  NTE_nonzero_fraction  \n",
       "0                 0.332894              0.260870  \n",
       "1                 0.158709              0.194444  \n",
       "2                 0.331183              0.262411  \n",
       "3                 0.062564              0.309353  \n",
       "4                 0.332244              0.333333  \n",
       "...                    ...                   ...  \n",
       "3619              0.064583              0.031746  \n",
       "3621              0.033989              0.015152  \n",
       "3638              0.080816              0.009009  \n",
       "3644              0.026793              0.009524  \n",
       "3654              0.039548              0.063492  \n",
       "\n",
       "[3530 rows x 6 columns]"
      ]
     },
     "execution_count": 203,
     "metadata": {},
     "output_type": "execute_result"
    }
   ],
   "source": [
    "RiboSET_EXT_cds_cov_nonzero[RiboSET_EXT_cds_cov_nonzero['NTE_coverage'] != 0]"
   ]
  },
  {
   "cell_type": "code",
   "execution_count": null,
   "metadata": {},
   "outputs": [],
   "source": []
  },
  {
   "cell_type": "code",
   "execution_count": null,
   "metadata": {},
   "outputs": [],
   "source": []
  },
  {
   "cell_type": "markdown",
   "metadata": {},
   "source": [
    "# Get CDS coverage for RiboSET and matching set of 392 genes with no upstream translation"
   ]
  },
  {
   "cell_type": "raw",
   "metadata": {},
   "source": [
    "# get total list of transcripts \n",
    "\n",
    "amb_path = '../data/counts_ext/download/N_term_amb/*'\n",
    "unamb_path = '../data/counts_ext/download/N_term_unamb/*'\n",
    "\n",
    "list_of_tr = list(set([tr_path.split('/')[-1].split('_counts')[0] for tr_path in glob.glob(unamb_path)+glob.glob(amb_path)]))\n",
    "\n",
    "list_of_amb_tr = [tr_path.split('/')[-1].split('_counts')[0] for tr_path in glob.glob(amb_path)]\n",
    "\n",
    "list_of_unamb_tr = [tr_path.split('/')[-1].split('_counts')[0] for tr_path in glob.glob(unamb_path)]\n",
    "\n",
    "print (list_of_tr[0:3])\n",
    "\n",
    "print (len(list_of_tr), len(list_of_amb_tr), len(list_of_unamb_tr))"
   ]
  },
  {
   "cell_type": "raw",
   "metadata": {},
   "source": [
    "out_counts = {'amb':{}, 'unamb':{}, 'all':{}}\n",
    "\n",
    "for i, tr_id in enumerate(RiboSET['tr_id1'].tolist()):   \n",
    "    \n",
    "    if i % 10 == 0:\n",
    "        print ('transcript %s is processed out of 76910' % i)\n",
    "    # end of transcript = its length\n",
    "    tr_length = len(metadata_pc_g25[metadata_pc_g25['tr_id'].str.contains(tr_id)].iloc[0].transcript_seq)\n",
    "    tr_seq = metadata_pc_g25[metadata_pc_g25['tr_id'].str.contains(tr_id)].iloc[0].transcript_seq\n",
    "    gene = metadata_pc_g25[metadata_pc_g25['tr_id'].str.contains(tr_id)].iloc[0].gene\n",
    "            \n",
    "    if tr_id in list_of_unamb_tr:    \n",
    "            \n",
    "        tr_path_unamb = '../data/counts_ext/download/N_term_unamb/%s_counts.txt' % tr_id\n",
    "        df_unamb = pd.read_csv(tr_path_unamb, sep='\\t')\n",
    "        d_unamb = dict(zip(df_unamb['pos'].tolist(), df_unamb['Total'].tolist()))\n",
    "            \n",
    "        for i in range(0, tr_length):\n",
    "            if i not in d_unamb:\n",
    "                d_unamb[i] = 0\n",
    "                \n",
    "        out_counts['unamb'][tr_id] = d_unamb \n",
    "        \n",
    "    else: # if tr_id is not in amb list\n",
    "        continue\n",
    "        #print ('%s is not in unamb list' % tr_id)\n",
    "           \n",
    "            \n",
    "# save it to tmp_res            \n",
    "with open('tmp_res/RiboSET_390.pickle', 'wb') as handle:\n",
    "    pickle.dump(out_counts, handle, protocol=pickle.HIGHEST_PROTOCOL)"
   ]
  },
  {
   "cell_type": "raw",
   "metadata": {},
   "source": [
    "out_df_frames_un = {}\n",
    "\n",
    "for i, tr_id in enumerate(list(out_counts['unamb'].keys())):\n",
    "    \n",
    "    if i % 1000 == 0:\n",
    "        print (i)\n",
    "        \n",
    "    d = out_counts['unamb'][tr_id]\n",
    "    # d = dict with positioons and counts \n",
    "    frames = {'Frame_1': {}, 'Frame_2': {}, 'Frame_3': {} }\n",
    "    for pos, counts in d.items():\n",
    "        if pos % 3 == 2:\n",
    "            frames['Frame_1'][pos] = counts\n",
    "        elif pos % 3 == 0:\n",
    "            frames['Frame_2'][pos] = counts\n",
    "        else:\n",
    "            frames['Frame_3'][pos] = counts\n",
    "    # make df \n",
    "    li1 = []\n",
    "    li2 = []\n",
    "    li3 = []\n",
    "    \n",
    "    # end of transcript = its length\n",
    "    tr_length = len(metadata_pc_g25[metadata_pc_g25['tr_id'].str.contains(tr_id)].iloc[0].transcript_seq)\n",
    "    tr_seq = metadata_pc_g25[metadata_pc_g25['tr_id'].str.contains(tr_id)].iloc[0].transcript_seq\n",
    "    gene = metadata_pc_g25[metadata_pc_g25['tr_id'].str.contains(tr_id)].iloc[0].gene\n",
    "    \n",
    "    for i in range(1, tr_length+1):\n",
    "        if i in frames['Frame_1']:\n",
    "            li1.append([i, int(frames['Frame_1'][i])])\n",
    "        else:\n",
    "            li1.append([i, int(0)])\n",
    "    \n",
    "    df1 = pd.DataFrame(li1, columns = ['Position', 'Frame 1']).sort_values(by='Position')\n",
    "    \n",
    "    for i in range(1, tr_length+1):\n",
    "        if i in frames['Frame_2']:\n",
    "            li2.append([i, int(frames['Frame_2'][i])])\n",
    "        else:\n",
    "            li2.append([i, int(0)])\n",
    "    \n",
    "    df2 = pd.DataFrame(li2, columns = ['Position', 'Frame 2']).sort_values(by='Position')\n",
    "    \n",
    "    for i in range(1, tr_length+1):\n",
    "        if i in frames['Frame_3']:\n",
    "            li3.append([i, int(frames['Frame_3'][i])])\n",
    "        else:\n",
    "            li3.append([i, int(0)])\n",
    "    \n",
    "    df3 = pd.DataFrame(li3, columns = ['Position', 'Frame 3']).sort_values(by='Position')\n",
    "    \n",
    "    df_f = df1.merge(df2, on='Position', how='inner').merge(df3, on='Position', how='inner')\n",
    "    \n",
    "    df_f['Sequence'] = list(tr_seq)\n",
    "    \n",
    "    df_f['Position'] = df_f['Position'] -1 #-3\n",
    "    \n",
    "    df_f['rna_seq'] = None\n",
    "    \n",
    "    df_f[['Position', 'Sequence', 'Frame 1', 'Frame 2', 'Frame 3', 'rna_seq']].to_csv('profiles/%s_%s_unamb.csv' % (gene, tr_id), index=False)\n",
    "\n",
    "            \n",
    "    out_df_frames_un[tr_id] = df_f\n",
    "    \n",
    "# save it out_df_frames_un \n",
    "\n",
    "with open('tmp_res/RiboSET_390_frames.pickle', 'wb') as handle:\n",
    "    pickle.dump(out_df_frames_un, handle, protocol=pickle.HIGHEST_PROTOCOL)"
   ]
  },
  {
   "cell_type": "raw",
   "metadata": {},
   "source": [
    "li = []\n",
    "\n",
    "for i,el in enumerate(list(out_df_frames_un.keys())):\n",
    "    \n",
    "    if i % 1000 == 0:\n",
    "        print (i)\n",
    "    N_term_start = meta[meta['tr_id'].str.contains(el)].iloc[0].N_term_start\n",
    "    N_term_end = meta[meta['tr_id'].str.contains(el)].iloc[0].N_term_end\n",
    "    \n",
    "    cds_start = metadata_pc_g25[metadata_pc_g25['tr_id'].str.contains(el)].iloc[0].cds_start_pos\n",
    "    cds_stop = metadata_pc_g25[metadata_pc_g25['tr_id'].str.contains(el)].iloc[0].cds_stop_pos \n",
    "\n",
    "    \n",
    "    # get CDS frame and CDS array \n",
    "    if cds_start % 3 == 0:\n",
    "        frame = 'Frame 1'        \n",
    "    elif cds_start % 3 == 1:\n",
    "        frame = 'Frame 2'        \n",
    "    else:\n",
    "        frame = 'Frame 3'\n",
    "        \n",
    "    # extract counts for that frame \n",
    "    counts = out_df_frames_un[el][['Position', frame]]\n",
    "    \n",
    "    # CDS_array and CDS_coverage per codon and nonzero pos fraction \n",
    "    CDS_array = counts[cds_start:cds_stop][frame].tolist() \n",
    "    CDS_coverage = np.sum(CDS_array) / ((cds_stop - cds_start)//3)\n",
    "    CDS_nonzero_fraction = np.count_nonzero(CDS_array) / (len(CDS_array))\n",
    "    \n",
    "    #if frame == 'Frame 1':\n",
    "    #    CDS_array1 = [CDS_array[i] for i in range(0, len(CDS_array), 3)]\n",
    "    #elif frame == 'Frame 2':\n",
    "    CDS_array1 = [CDS_array[i] for i in range(1, len(CDS_array), 3)]\n",
    "    #else:\n",
    "    #    CDS_array1 = [CDS_array[i] for i in range(2, len(CDS_array), 3)]\n",
    "        \n",
    "    \n",
    "    theor_ext_array = counts[N_term_start:N_term_end][frame].tolist()\n",
    "    NTE_coverage = np.sum(theor_ext_array) / ((N_term_end - N_term_start) // 3)\n",
    "    NTE_nonzero_fraction = np.count_nonzero(theor_ext_array) / (len(theor_ext_array)) \n",
    "    \n",
    "    \n",
    "    CDS_std = np.std(CDS_array1)\n",
    "    \n",
    "    Z_score = (NTE_coverage - CDS_coverage) / CDS_std\n",
    "    \n",
    "    \n",
    "    \n",
    "    li.append([el, Z_score, \n",
    "               CDS_coverage, NTE_coverage, \n",
    "               CDS_nonzero_fraction, NTE_nonzero_fraction,\n",
    "              ])\n",
    "    \n",
    "    \n",
    "df = pd.DataFrame(li, columns = ['tr_id', 'Z_score', \n",
    "               'CDS_coverage', 'NTE_coverage', \n",
    "               'CDS_nonzero_fraction', 'NTE_nonzero_fraction'])\n",
    "\n",
    "\n",
    "df.to_csv('tmp_res/RiboSET_392_df_coverages.txt', sep='\\t', index=False)"
   ]
  },
  {
   "cell_type": "raw",
   "metadata": {},
   "source": [
    "np.min(df['CDS_coverage'].tolist()), np.max(df['CDS_coverage'].tolist())"
   ]
  },
  {
   "cell_type": "code",
   "execution_count": 359,
   "metadata": {},
   "outputs": [],
   "source": [
    "#RiboSET_CDS_cov_df = df.copy()"
   ]
  },
  {
   "cell_type": "code",
   "execution_count": 193,
   "metadata": {},
   "outputs": [
    {
     "data": {
      "text/html": [
       "<div>\n",
       "<style scoped>\n",
       "    .dataframe tbody tr th:only-of-type {\n",
       "        vertical-align: middle;\n",
       "    }\n",
       "\n",
       "    .dataframe tbody tr th {\n",
       "        vertical-align: top;\n",
       "    }\n",
       "\n",
       "    .dataframe thead th {\n",
       "        text-align: right;\n",
       "    }\n",
       "</style>\n",
       "<table border=\"1\" class=\"dataframe\">\n",
       "  <thead>\n",
       "    <tr style=\"text-align: right;\">\n",
       "      <th></th>\n",
       "      <th>tr_id</th>\n",
       "      <th>Z_score</th>\n",
       "      <th>CDS_coverage</th>\n",
       "      <th>NTE_coverage</th>\n",
       "      <th>CDS_nonzero_fraction</th>\n",
       "      <th>NTE_nonzero_fraction</th>\n",
       "    </tr>\n",
       "  </thead>\n",
       "  <tbody>\n",
       "    <tr>\n",
       "      <th>0</th>\n",
       "      <td>ENST00000379389</td>\n",
       "      <td>-0.731864</td>\n",
       "      <td>284.150602</td>\n",
       "      <td>31.120000</td>\n",
       "      <td>0.333333</td>\n",
       "      <td>0.178808</td>\n",
       "    </tr>\n",
       "    <tr>\n",
       "      <th>1</th>\n",
       "      <td>ENST00000349431</td>\n",
       "      <td>-0.508594</td>\n",
       "      <td>102.473077</td>\n",
       "      <td>46.859375</td>\n",
       "      <td>0.332051</td>\n",
       "      <td>0.250000</td>\n",
       "    </tr>\n",
       "  </tbody>\n",
       "</table>\n",
       "</div>"
      ],
      "text/plain": [
       "             tr_id   Z_score  CDS_coverage  NTE_coverage  \\\n",
       "0  ENST00000379389 -0.731864    284.150602     31.120000   \n",
       "1  ENST00000349431 -0.508594    102.473077     46.859375   \n",
       "\n",
       "   CDS_nonzero_fraction  NTE_nonzero_fraction  \n",
       "0              0.333333              0.178808  \n",
       "1              0.332051              0.250000  "
      ]
     },
     "execution_count": 193,
     "metadata": {},
     "output_type": "execute_result"
    }
   ],
   "source": [
    "RiboSET_CDS_cov_df = pd.read_csv('tmp_res/RiboSET_392_df_coverages.txt', sep='\\t')\n",
    "RiboSET_CDS_cov_df[0:2]"
   ]
  },
  {
   "cell_type": "code",
   "execution_count": null,
   "metadata": {},
   "outputs": [],
   "source": [
    "# Instead of matching CDS distribution => take all genes with CDS cov over min "
   ]
  },
  {
   "cell_type": "code",
   "execution_count": 196,
   "metadata": {},
   "outputs": [
    {
     "data": {
      "text/plain": [
       "0.06976744186046513"
      ]
     },
     "execution_count": 196,
     "metadata": {},
     "output_type": "execute_result"
    }
   ],
   "source": [
    "min(RiboSET_CDS_cov_df['CDS_coverage'].tolist())"
   ]
  },
  {
   "cell_type": "markdown",
   "metadata": {},
   "source": [
    "# 393 withouth PAR transcripts; 390 withouth ATG-ones "
   ]
  },
  {
   "cell_type": "code",
   "execution_count": 148,
   "metadata": {},
   "outputs": [],
   "source": [
    "RiboSET_CDS_cov_df.columns = ['tr_id1', 'Z_score', 'CDS_coverage', 'NTE_coverage',\n",
    "       'CDS_nonzero_fraction', 'NTE_nonzero_fraction']\n",
    "RiboSET_CDS_cov_df = RiboSET_CDS_cov_df[RiboSET_CDS_cov_df['tr_id1'].isin(RiboSET['tr_id1'].tolist())]"
   ]
  },
  {
   "cell_type": "code",
   "execution_count": null,
   "metadata": {},
   "outputs": [],
   "source": []
  },
  {
   "cell_type": "code",
   "execution_count": null,
   "metadata": {},
   "outputs": [],
   "source": []
  },
  {
   "cell_type": "code",
   "execution_count": null,
   "metadata": {},
   "outputs": [],
   "source": []
  },
  {
   "cell_type": "markdown",
   "metadata": {},
   "source": [
    "# Get CDS coverage for RiboSET_ext and matching set of 3,8k genes with no upstream translation and cds-cov > 0"
   ]
  },
  {
   "cell_type": "code",
   "execution_count": 197,
   "metadata": {},
   "outputs": [
    {
     "data": {
      "text/plain": [
       "3722"
      ]
     },
     "execution_count": 197,
     "metadata": {},
     "output_type": "execute_result"
    }
   ],
   "source": [
    "RiboSET_EXT.shape[0]"
   ]
  },
  {
   "cell_type": "code",
   "execution_count": 152,
   "metadata": {},
   "outputs": [
    {
     "name": "stdout",
     "output_type": "stream",
     "text": [
      "transcript 0 is processed out of 76910\n",
      "transcript 500 is processed out of 76910\n",
      "transcript 1000 is processed out of 76910\n",
      "transcript 1500 is processed out of 76910\n",
      "transcript 2000 is processed out of 76910\n",
      "transcript 2500 is processed out of 76910\n",
      "transcript 3000 is processed out of 76910\n",
      "transcript 3500 is processed out of 76910\n"
     ]
    }
   ],
   "source": [
    "out_counts2 = {'amb':{}, 'unamb':{}, 'all':{}}\n",
    "\n",
    "for i, tr_id in enumerate(RiboSET_EXT['tr_id1'].tolist()):   \n",
    "    \n",
    "    if i % 500 == 0:\n",
    "        print ('transcript %s is processed out of 76910' % i)\n",
    "    # end of transcript = its length\n",
    "    tr_length = len(metadata_pc_g25[metadata_pc_g25['tr_id'].str.contains(tr_id)].iloc[0].transcript_seq)\n",
    "    tr_seq = metadata_pc_g25[metadata_pc_g25['tr_id'].str.contains(tr_id)].iloc[0].transcript_seq\n",
    "    gene = metadata_pc_g25[metadata_pc_g25['tr_id'].str.contains(tr_id)].iloc[0].gene\n",
    "            \n",
    "    if tr_id in list_of_unamb_tr:    \n",
    "            \n",
    "        tr_path_unamb = '../data/counts_ext/download/N_term_unamb/%s_counts.txt' % tr_id\n",
    "        df_unamb = pd.read_csv(tr_path_unamb, sep='\\t')\n",
    "        d_unamb = dict(zip(df_unamb['pos'].tolist(), df_unamb['Total'].tolist()))\n",
    "            \n",
    "        for i in range(0, tr_length):\n",
    "            if i not in d_unamb:\n",
    "                d_unamb[i] = 0\n",
    "                \n",
    "        out_counts2['unamb'][tr_id] = d_unamb \n",
    "        \n",
    "    else: # if tr_id is not in amb list\n",
    "        continue\n",
    "        #print ('%s is not in unamb list' % tr_id)\n",
    "           \n",
    "            \n",
    "# save it to tmp_res            \n",
    "with open('tmp_res/RiboSET_4k.pickle', 'wb') as handle:\n",
    "    pickle.dump(out_counts2, handle, protocol=pickle.HIGHEST_PROTOCOL)"
   ]
  },
  {
   "cell_type": "code",
   "execution_count": 153,
   "metadata": {},
   "outputs": [
    {
     "name": "stdout",
     "output_type": "stream",
     "text": [
      "0\n",
      "1000\n",
      "2000\n",
      "3000\n"
     ]
    }
   ],
   "source": [
    "out_df_frames_un2 = {}\n",
    "\n",
    "for i, tr_id in enumerate(list(out_counts2['unamb'].keys())):\n",
    "    \n",
    "    if i % 1000 == 0:\n",
    "        print (i)\n",
    "        \n",
    "    d = out_counts2['unamb'][tr_id]\n",
    "    # d = dict with positioons and counts \n",
    "    frames = {'Frame_1': {}, 'Frame_2': {}, 'Frame_3': {} }\n",
    "    for pos, counts in d.items():\n",
    "        if pos % 3 == 2:\n",
    "            frames['Frame_1'][pos] = counts\n",
    "        elif pos % 3 == 0:\n",
    "            frames['Frame_2'][pos] = counts\n",
    "        else:\n",
    "            frames['Frame_3'][pos] = counts\n",
    "    # make df \n",
    "    li1 = []\n",
    "    li2 = []\n",
    "    li3 = []\n",
    "    \n",
    "    # end of transcript = its length\n",
    "    tr_length = len(metadata_pc_g25[metadata_pc_g25['tr_id'].str.contains(tr_id)].iloc[0].transcript_seq)\n",
    "    tr_seq = metadata_pc_g25[metadata_pc_g25['tr_id'].str.contains(tr_id)].iloc[0].transcript_seq\n",
    "    gene = metadata_pc_g25[metadata_pc_g25['tr_id'].str.contains(tr_id)].iloc[0].gene\n",
    "    \n",
    "    for i in range(1, tr_length+1):\n",
    "        if i in frames['Frame_1']:\n",
    "            li1.append([i, int(frames['Frame_1'][i])])\n",
    "        else:\n",
    "            li1.append([i, int(0)])\n",
    "    \n",
    "    df1 = pd.DataFrame(li1, columns = ['Position', 'Frame 1']).sort_values(by='Position')\n",
    "    \n",
    "    for i in range(1, tr_length+1):\n",
    "        if i in frames['Frame_2']:\n",
    "            li2.append([i, int(frames['Frame_2'][i])])\n",
    "        else:\n",
    "            li2.append([i, int(0)])\n",
    "    \n",
    "    df2 = pd.DataFrame(li2, columns = ['Position', 'Frame 2']).sort_values(by='Position')\n",
    "    \n",
    "    for i in range(1, tr_length+1):\n",
    "        if i in frames['Frame_3']:\n",
    "            li3.append([i, int(frames['Frame_3'][i])])\n",
    "        else:\n",
    "            li3.append([i, int(0)])\n",
    "    \n",
    "    df3 = pd.DataFrame(li3, columns = ['Position', 'Frame 3']).sort_values(by='Position')\n",
    "    \n",
    "    df_f = df1.merge(df2, on='Position', how='inner').merge(df3, on='Position', how='inner')\n",
    "    \n",
    "    df_f['Sequence'] = list(tr_seq)\n",
    "    \n",
    "    df_f['Position'] = df_f['Position'] -1 #-3\n",
    "    \n",
    "    df_f['rna_seq'] = None\n",
    "    \n",
    "    df_f[['Position', 'Sequence', 'Frame 1', 'Frame 2', 'Frame 3', 'rna_seq']].to_csv('profiles/%s_%s_unamb.csv' % (gene, tr_id), index=False)\n",
    "\n",
    "            \n",
    "    out_df_frames_un2[tr_id] = df_f\n",
    "    \n",
    "# save it out_df_frames_un \n",
    "\n",
    "with open('tmp_res/RiboSET_4k_frames.pickle', 'wb') as handle:\n",
    "    pickle.dump(out_df_frames_un2, handle, protocol=pickle.HIGHEST_PROTOCOL)"
   ]
  },
  {
   "cell_type": "code",
   "execution_count": 154,
   "metadata": {},
   "outputs": [
    {
     "name": "stdout",
     "output_type": "stream",
     "text": [
      "0\n",
      "1000\n",
      "2000\n"
     ]
    },
    {
     "name": "stderr",
     "output_type": "stream",
     "text": [
      "/home/alla/.local/lib/python3.7/site-packages/ipykernel_launcher.py:45: RuntimeWarning: divide by zero encountered in double_scalars\n",
      "/home/alla/.local/lib/python3.7/site-packages/ipykernel_launcher.py:45: RuntimeWarning: invalid value encountered in double_scalars\n"
     ]
    },
    {
     "name": "stdout",
     "output_type": "stream",
     "text": [
      "3000\n"
     ]
    }
   ],
   "source": [
    "li3 = []\n",
    "\n",
    "for i,el in enumerate(list(out_df_frames_un2.keys())):\n",
    "    \n",
    "    if i % 1000 == 0:\n",
    "        print (i)\n",
    "    N_term_start = meta[meta['tr_id'].str.contains(el)].iloc[0].N_term_start\n",
    "    N_term_end = meta[meta['tr_id'].str.contains(el)].iloc[0].N_term_end\n",
    "    \n",
    "    cds_start = metadata_pc_g25[metadata_pc_g25['tr_id'].str.contains(el)].iloc[0].cds_start_pos\n",
    "    cds_stop = metadata_pc_g25[metadata_pc_g25['tr_id'].str.contains(el)].iloc[0].cds_stop_pos \n",
    "\n",
    "    \n",
    "    # get CDS frame and CDS array \n",
    "    if cds_start % 3 == 0:\n",
    "        frame = 'Frame 1'        \n",
    "    elif cds_start % 3 == 1:\n",
    "        frame = 'Frame 2'        \n",
    "    else:\n",
    "        frame = 'Frame 3'\n",
    "        \n",
    "    # extract counts for that frame \n",
    "    counts = out_df_frames_un2[el][['Position', frame]]\n",
    "    \n",
    "    # CDS_array and CDS_coverage per codon and nonzero pos fraction \n",
    "    CDS_array = counts[cds_start:cds_stop][frame].tolist() \n",
    "    CDS_coverage = np.sum(CDS_array) / ((cds_stop - cds_start)//3)\n",
    "    CDS_nonzero_fraction = np.count_nonzero(CDS_array) / (len(CDS_array))\n",
    "    \n",
    "    #if frame == 'Frame 1':\n",
    "    #    CDS_array1 = [CDS_array[i] for i in range(0, len(CDS_array), 3)]\n",
    "    #elif frame == 'Frame 2':\n",
    "    CDS_array1 = [CDS_array[i] for i in range(1, len(CDS_array), 3)]\n",
    "    #else:\n",
    "    #    CDS_array1 = [CDS_array[i] for i in range(2, len(CDS_array), 3)]\n",
    "        \n",
    "    \n",
    "    theor_ext_array = counts[N_term_start:N_term_end][frame].tolist()\n",
    "    NTE_coverage = np.sum(theor_ext_array) / ((N_term_end - N_term_start) // 3)\n",
    "    NTE_nonzero_fraction = np.count_nonzero(theor_ext_array) / (len(theor_ext_array)) \n",
    "    \n",
    "    \n",
    "    CDS_std = np.std(CDS_array1)\n",
    "    \n",
    "    Z_score = (NTE_coverage - CDS_coverage) / CDS_std\n",
    "    \n",
    "    \n",
    "    \n",
    "    li3.append([el, Z_score, \n",
    "               CDS_coverage, NTE_coverage, \n",
    "               CDS_nonzero_fraction, NTE_nonzero_fraction,\n",
    "              ])\n",
    "    \n",
    "    \n",
    "df3 = pd.DataFrame(li3, columns = ['tr_id', 'Z_score', \n",
    "               'CDS_coverage', 'NTE_coverage', \n",
    "               'CDS_nonzero_fraction', 'NTE_nonzero_fraction'])\n",
    "\n",
    "\n",
    "df3.to_csv('tmp_res/RiboSET_ext_4k_df_coverages.txt', sep='\\t', index=False)"
   ]
  },
  {
   "cell_type": "code",
   "execution_count": 160,
   "metadata": {},
   "outputs": [],
   "source": [
    "cov_4k = pd.read_csv('tmp_res/RiboSET_ext_4k_df_coverages.txt', sep='\\t')\n",
    "cov_4k.columns = ['tr_id1', 'Z_score', 'CDS_coverage', 'NTE_coverage',\n",
    "       'CDS_nonzero_fraction', 'NTE_nonzero_fraction']"
   ]
  },
  {
   "cell_type": "code",
   "execution_count": 161,
   "metadata": {},
   "outputs": [
    {
     "data": {
      "text/plain": [
       "(0.0, 3519.1538461538457)"
      ]
     },
     "execution_count": 161,
     "metadata": {},
     "output_type": "execute_result"
    }
   ],
   "source": [
    "np.min(cov_4k['CDS_coverage'].tolist()), np.max(cov_4k['CDS_coverage'].tolist())"
   ]
  },
  {
   "cell_type": "code",
   "execution_count": 162,
   "metadata": {},
   "outputs": [
    {
     "name": "stdout",
     "output_type": "stream",
     "text": [
      "3696\n"
     ]
    }
   ],
   "source": [
    "print (cov_4k.shape[0])"
   ]
  },
  {
   "cell_type": "code",
   "execution_count": 163,
   "metadata": {},
   "outputs": [
    {
     "data": {
      "text/html": [
       "<div>\n",
       "<style scoped>\n",
       "    .dataframe tbody tr th:only-of-type {\n",
       "        vertical-align: middle;\n",
       "    }\n",
       "\n",
       "    .dataframe tbody tr th {\n",
       "        vertical-align: top;\n",
       "    }\n",
       "\n",
       "    .dataframe thead th {\n",
       "        text-align: right;\n",
       "    }\n",
       "</style>\n",
       "<table border=\"1\" class=\"dataframe\">\n",
       "  <thead>\n",
       "    <tr style=\"text-align: right;\">\n",
       "      <th></th>\n",
       "      <th>tr_id1</th>\n",
       "      <th>Z_score</th>\n",
       "      <th>CDS_coverage</th>\n",
       "      <th>NTE_coverage</th>\n",
       "      <th>CDS_nonzero_fraction</th>\n",
       "      <th>NTE_nonzero_fraction</th>\n",
       "    </tr>\n",
       "  </thead>\n",
       "  <tbody>\n",
       "    <tr>\n",
       "      <th>0</th>\n",
       "      <td>ENST00000379454</td>\n",
       "      <td>0.032101</td>\n",
       "      <td>298.318841</td>\n",
       "      <td>317.934783</td>\n",
       "      <td>0.332894</td>\n",
       "      <td>0.260870</td>\n",
       "    </tr>\n",
       "    <tr>\n",
       "      <th>1</th>\n",
       "      <td>ENST00000216281</td>\n",
       "      <td>0.139750</td>\n",
       "      <td>195.778990</td>\n",
       "      <td>441.650000</td>\n",
       "      <td>0.158709</td>\n",
       "      <td>0.194444</td>\n",
       "    </tr>\n",
       "    <tr>\n",
       "      <th>2</th>\n",
       "      <td>ENST00000409753</td>\n",
       "      <td>-0.352664</td>\n",
       "      <td>750.896774</td>\n",
       "      <td>295.191489</td>\n",
       "      <td>0.331183</td>\n",
       "      <td>0.262411</td>\n",
       "    </tr>\n",
       "    <tr>\n",
       "      <th>3</th>\n",
       "      <td>ENST00000321358</td>\n",
       "      <td>0.295986</td>\n",
       "      <td>156.987692</td>\n",
       "      <td>769.086957</td>\n",
       "      <td>0.062564</td>\n",
       "      <td>0.309353</td>\n",
       "    </tr>\n",
       "    <tr>\n",
       "      <th>4</th>\n",
       "      <td>ENST00000314940</td>\n",
       "      <td>-0.077727</td>\n",
       "      <td>535.316993</td>\n",
       "      <td>477.173913</td>\n",
       "      <td>0.332244</td>\n",
       "      <td>0.333333</td>\n",
       "    </tr>\n",
       "    <tr>\n",
       "      <th>...</th>\n",
       "      <td>...</td>\n",
       "      <td>...</td>\n",
       "      <td>...</td>\n",
       "      <td>...</td>\n",
       "      <td>...</td>\n",
       "      <td>...</td>\n",
       "    </tr>\n",
       "    <tr>\n",
       "      <th>3690</th>\n",
       "      <td>ENST00000367282</td>\n",
       "      <td>-0.244211</td>\n",
       "      <td>0.095436</td>\n",
       "      <td>0.000000</td>\n",
       "      <td>0.022822</td>\n",
       "      <td>0.000000</td>\n",
       "    </tr>\n",
       "    <tr>\n",
       "      <th>3691</th>\n",
       "      <td>ENST00000399518</td>\n",
       "      <td>-0.461365</td>\n",
       "      <td>0.278481</td>\n",
       "      <td>0.000000</td>\n",
       "      <td>0.070579</td>\n",
       "      <td>0.000000</td>\n",
       "    </tr>\n",
       "    <tr>\n",
       "      <th>3692</th>\n",
       "      <td>ENST00000320955</td>\n",
       "      <td>-0.046426</td>\n",
       "      <td>0.026122</td>\n",
       "      <td>0.000000</td>\n",
       "      <td>0.003356</td>\n",
       "      <td>0.000000</td>\n",
       "    </tr>\n",
       "    <tr>\n",
       "      <th>3694</th>\n",
       "      <td>ENST00000332995</td>\n",
       "      <td>-0.419139</td>\n",
       "      <td>1.390706</td>\n",
       "      <td>0.000000</td>\n",
       "      <td>0.153184</td>\n",
       "      <td>0.000000</td>\n",
       "    </tr>\n",
       "    <tr>\n",
       "      <th>3695</th>\n",
       "      <td>ENST00000276571</td>\n",
       "      <td>-0.117141</td>\n",
       "      <td>0.020305</td>\n",
       "      <td>0.000000</td>\n",
       "      <td>0.005076</td>\n",
       "      <td>0.000000</td>\n",
       "    </tr>\n",
       "  </tbody>\n",
       "</table>\n",
       "<p>3663 rows × 6 columns</p>\n",
       "</div>"
      ],
      "text/plain": [
       "               tr_id1   Z_score  CDS_coverage  NTE_coverage  \\\n",
       "0     ENST00000379454  0.032101    298.318841    317.934783   \n",
       "1     ENST00000216281  0.139750    195.778990    441.650000   \n",
       "2     ENST00000409753 -0.352664    750.896774    295.191489   \n",
       "3     ENST00000321358  0.295986    156.987692    769.086957   \n",
       "4     ENST00000314940 -0.077727    535.316993    477.173913   \n",
       "...               ...       ...           ...           ...   \n",
       "3690  ENST00000367282 -0.244211      0.095436      0.000000   \n",
       "3691  ENST00000399518 -0.461365      0.278481      0.000000   \n",
       "3692  ENST00000320955 -0.046426      0.026122      0.000000   \n",
       "3694  ENST00000332995 -0.419139      1.390706      0.000000   \n",
       "3695  ENST00000276571 -0.117141      0.020305      0.000000   \n",
       "\n",
       "      CDS_nonzero_fraction  NTE_nonzero_fraction  \n",
       "0                 0.332894              0.260870  \n",
       "1                 0.158709              0.194444  \n",
       "2                 0.331183              0.262411  \n",
       "3                 0.062564              0.309353  \n",
       "4                 0.332244              0.333333  \n",
       "...                    ...                   ...  \n",
       "3690              0.022822              0.000000  \n",
       "3691              0.070579              0.000000  \n",
       "3692              0.003356              0.000000  \n",
       "3694              0.153184              0.000000  \n",
       "3695              0.005076              0.000000  \n",
       "\n",
       "[3663 rows x 6 columns]"
      ]
     },
     "execution_count": 163,
     "metadata": {},
     "output_type": "execute_result"
    }
   ],
   "source": [
    "cov_4k[cov_4k['CDS_coverage'] > 0]"
   ]
  },
  {
   "cell_type": "code",
   "execution_count": 164,
   "metadata": {},
   "outputs": [
    {
     "data": {
      "text/html": [
       "<div>\n",
       "<style scoped>\n",
       "    .dataframe tbody tr th:only-of-type {\n",
       "        vertical-align: middle;\n",
       "    }\n",
       "\n",
       "    .dataframe tbody tr th {\n",
       "        vertical-align: top;\n",
       "    }\n",
       "\n",
       "    .dataframe thead th {\n",
       "        text-align: right;\n",
       "    }\n",
       "</style>\n",
       "<table border=\"1\" class=\"dataframe\">\n",
       "  <thead>\n",
       "    <tr style=\"text-align: right;\">\n",
       "      <th></th>\n",
       "      <th>tr_id1</th>\n",
       "      <th>Z_score</th>\n",
       "      <th>CDS_coverage</th>\n",
       "      <th>NTE_coverage</th>\n",
       "      <th>CDS_nonzero_fraction</th>\n",
       "      <th>NTE_nonzero_fraction</th>\n",
       "    </tr>\n",
       "  </thead>\n",
       "  <tbody>\n",
       "    <tr>\n",
       "      <th>0</th>\n",
       "      <td>ENST00000379454</td>\n",
       "      <td>0.032101</td>\n",
       "      <td>298.318841</td>\n",
       "      <td>317.934783</td>\n",
       "      <td>0.332894</td>\n",
       "      <td>0.260870</td>\n",
       "    </tr>\n",
       "    <tr>\n",
       "      <th>1</th>\n",
       "      <td>ENST00000216281</td>\n",
       "      <td>0.139750</td>\n",
       "      <td>195.778990</td>\n",
       "      <td>441.650000</td>\n",
       "      <td>0.158709</td>\n",
       "      <td>0.194444</td>\n",
       "    </tr>\n",
       "    <tr>\n",
       "      <th>2</th>\n",
       "      <td>ENST00000409753</td>\n",
       "      <td>-0.352664</td>\n",
       "      <td>750.896774</td>\n",
       "      <td>295.191489</td>\n",
       "      <td>0.331183</td>\n",
       "      <td>0.262411</td>\n",
       "    </tr>\n",
       "  </tbody>\n",
       "</table>\n",
       "</div>"
      ],
      "text/plain": [
       "            tr_id1   Z_score  CDS_coverage  NTE_coverage  \\\n",
       "0  ENST00000379454  0.032101    298.318841    317.934783   \n",
       "1  ENST00000216281  0.139750    195.778990    441.650000   \n",
       "2  ENST00000409753 -0.352664    750.896774    295.191489   \n",
       "\n",
       "   CDS_nonzero_fraction  NTE_nonzero_fraction  \n",
       "0              0.332894              0.260870  \n",
       "1              0.158709              0.194444  \n",
       "2              0.331183              0.262411  "
      ]
     },
     "execution_count": 164,
     "metadata": {},
     "output_type": "execute_result"
    }
   ],
   "source": [
    "RiboSET_EXT_cds_cov_nonzero = cov_4k[(cov_4k['CDS_coverage'] > 0)]\n",
    "RiboSET_EXT_cds_cov_nonzero[0:3]"
   ]
  },
  {
   "cell_type": "code",
   "execution_count": 165,
   "metadata": {},
   "outputs": [
    {
     "data": {
      "text/plain": [
       "(0.0005630630630630631, 3519.1538461538457)"
      ]
     },
     "execution_count": 165,
     "metadata": {},
     "output_type": "execute_result"
    }
   ],
   "source": [
    "np.min(RiboSET_EXT_cds_cov_nonzero['CDS_coverage'].tolist()), np.max(RiboSET_EXT_cds_cov_nonzero['CDS_coverage'].tolist())"
   ]
  },
  {
   "cell_type": "code",
   "execution_count": 166,
   "metadata": {},
   "outputs": [
    {
     "data": {
      "text/plain": [
       "3663"
      ]
     },
     "execution_count": 166,
     "metadata": {},
     "output_type": "execute_result"
    }
   ],
   "source": [
    "RiboSET_EXT_cds_cov_nonzero.shape[0]"
   ]
  },
  {
   "cell_type": "code",
   "execution_count": 167,
   "metadata": {},
   "outputs": [],
   "source": [
    "#RiboSET_EXT_cds_cov_nonzero.to_csv('tmp_res/RiboSET_EXT_cds_cov_nonzero_theor_len_20codons_3663genes.txt', sep='\\t',\n",
    "#                                  index=False)"
   ]
  },
  {
   "cell_type": "code",
   "execution_count": null,
   "metadata": {},
   "outputs": [],
   "source": []
  },
  {
   "cell_type": "code",
   "execution_count": null,
   "metadata": {},
   "outputs": [],
   "source": []
  },
  {
   "cell_type": "code",
   "execution_count": null,
   "metadata": {},
   "outputs": [],
   "source": []
  },
  {
   "cell_type": "markdown",
   "metadata": {},
   "source": [
    "### Element-wise matching: select pairs with min distance (greedy) and then check for hist/KS test\n",
    "\n",
    "Add length!!!"
   ]
  },
  {
   "cell_type": "code",
   "execution_count": 168,
   "metadata": {},
   "outputs": [
    {
     "data": {
      "text/plain": [
       "(20.0, 251.0)"
      ]
     },
     "execution_count": 168,
     "metadata": {},
     "output_type": "execute_result"
    }
   ],
   "source": [
    "np.min(RiboSET['len_codons']), np.max(RiboSET['len_codons'])"
   ]
  },
  {
   "cell_type": "code",
   "execution_count": 169,
   "metadata": {},
   "outputs": [
    {
     "name": "stdout",
     "output_type": "stream",
     "text": [
      "12368\n"
     ]
    }
   ],
   "source": [
    "no_ups = df3_sel_len.copy()\n",
    "print (no_ups.shape[0])"
   ]
  },
  {
   "cell_type": "code",
   "execution_count": 170,
   "metadata": {},
   "outputs": [],
   "source": [
    "subset = no_ups[(no_ups['NTE_nonzero_fraction'] < 0.1) & \n",
    "   (no_ups['NTE_coverage'] < 1) & (no_ups['CDS_coverage'] > 0)].sort_values(by='CDS_coverage', ascending=False)\n",
    "\n",
    "li = []\n",
    "\n",
    "for el1 in RiboSET_CDS_cov_df[['tr_id1', 'CDS_coverage']].to_numpy():\n",
    "    tr_id_r = el1[0]\n",
    "    CDS_cov_r = el1[1]\n",
    "    \n",
    "    for el in  subset[['tr_id1', 'CDS_coverage']].to_numpy():\n",
    "        tr_id = el[0]\n",
    "        CDS_cov_comp = el[1]\n",
    "        \n",
    "        li.append([tr_id_r, CDS_cov_r, tr_id, CDS_cov_comp, np.abs(CDS_cov_comp - CDS_cov_r)])\n",
    "            \n",
    "distances = pd.DataFrame(li, columns = ['tr_id_r', 'CDS_cov_r', 'tr_id1', 'CDS_cov_comp', 'dist'])"
   ]
  },
  {
   "cell_type": "code",
   "execution_count": 171,
   "metadata": {},
   "outputs": [
    {
     "data": {
      "text/html": [
       "<div>\n",
       "<style scoped>\n",
       "    .dataframe tbody tr th:only-of-type {\n",
       "        vertical-align: middle;\n",
       "    }\n",
       "\n",
       "    .dataframe tbody tr th {\n",
       "        vertical-align: top;\n",
       "    }\n",
       "\n",
       "    .dataframe thead th {\n",
       "        text-align: right;\n",
       "    }\n",
       "</style>\n",
       "<table border=\"1\" class=\"dataframe\">\n",
       "  <thead>\n",
       "    <tr style=\"text-align: right;\">\n",
       "      <th>tr_id1</th>\n",
       "      <th>ENST00000004103</th>\n",
       "      <th>ENST00000005180</th>\n",
       "      <th>ENST00000006251</th>\n",
       "      <th>ENST00000012134</th>\n",
       "      <th>ENST00000026218</th>\n",
       "      <th>ENST00000054650</th>\n",
       "      <th>ENST00000156499</th>\n",
       "      <th>ENST00000160298</th>\n",
       "      <th>ENST00000161006</th>\n",
       "      <th>ENST00000167586</th>\n",
       "      <th>...</th>\n",
       "      <th>ENST00000637769</th>\n",
       "      <th>ENST00000637900</th>\n",
       "      <th>ENST00000638023</th>\n",
       "      <th>ENST00000638035</th>\n",
       "      <th>ENST00000638049</th>\n",
       "      <th>ENST00000638091</th>\n",
       "      <th>ENST00000638115</th>\n",
       "      <th>ENST00000638120</th>\n",
       "      <th>ENST00000638150</th>\n",
       "      <th>ENST00000638154</th>\n",
       "    </tr>\n",
       "    <tr>\n",
       "      <th>tr_id_r</th>\n",
       "      <th></th>\n",
       "      <th></th>\n",
       "      <th></th>\n",
       "      <th></th>\n",
       "      <th></th>\n",
       "      <th></th>\n",
       "      <th></th>\n",
       "      <th></th>\n",
       "      <th></th>\n",
       "      <th></th>\n",
       "      <th></th>\n",
       "      <th></th>\n",
       "      <th></th>\n",
       "      <th></th>\n",
       "      <th></th>\n",
       "      <th></th>\n",
       "      <th></th>\n",
       "      <th></th>\n",
       "      <th></th>\n",
       "      <th></th>\n",
       "      <th></th>\n",
       "    </tr>\n",
       "  </thead>\n",
       "  <tbody>\n",
       "    <tr>\n",
       "      <th>ENST00000014914</th>\n",
       "      <td>377.372053</td>\n",
       "      <td>364.714113</td>\n",
       "      <td>369.595692</td>\n",
       "      <td>375.596362</td>\n",
       "      <td>365.462450</td>\n",
       "      <td>369.702491</td>\n",
       "      <td>378.082652</td>\n",
       "      <td>374.746324</td>\n",
       "      <td>377.770651</td>\n",
       "      <td>364.010163</td>\n",
       "      <td>...</td>\n",
       "      <td>377.845453</td>\n",
       "      <td>377.954760</td>\n",
       "      <td>360.502774</td>\n",
       "      <td>359.373477</td>\n",
       "      <td>377.160588</td>\n",
       "      <td>377.607736</td>\n",
       "      <td>372.791782</td>\n",
       "      <td>378.090381</td>\n",
       "      <td>377.375839</td>\n",
       "      <td>362.894300</td>\n",
       "    </tr>\n",
       "    <tr>\n",
       "      <th>ENST00000054950</th>\n",
       "      <td>51.619512</td>\n",
       "      <td>38.961573</td>\n",
       "      <td>43.843152</td>\n",
       "      <td>49.843822</td>\n",
       "      <td>39.709909</td>\n",
       "      <td>43.949950</td>\n",
       "      <td>52.330111</td>\n",
       "      <td>48.993783</td>\n",
       "      <td>52.018110</td>\n",
       "      <td>38.257622</td>\n",
       "      <td>...</td>\n",
       "      <td>52.092912</td>\n",
       "      <td>52.202219</td>\n",
       "      <td>34.750233</td>\n",
       "      <td>33.620936</td>\n",
       "      <td>51.408047</td>\n",
       "      <td>51.855195</td>\n",
       "      <td>47.039241</td>\n",
       "      <td>52.337840</td>\n",
       "      <td>51.623298</td>\n",
       "      <td>37.141759</td>\n",
       "    </tr>\n",
       "    <tr>\n",
       "      <th>ENST00000166345</th>\n",
       "      <td>222.053636</td>\n",
       "      <td>209.395697</td>\n",
       "      <td>214.277276</td>\n",
       "      <td>220.277946</td>\n",
       "      <td>210.144034</td>\n",
       "      <td>214.384074</td>\n",
       "      <td>222.764236</td>\n",
       "      <td>219.427908</td>\n",
       "      <td>222.452235</td>\n",
       "      <td>208.691747</td>\n",
       "      <td>...</td>\n",
       "      <td>222.527037</td>\n",
       "      <td>222.636343</td>\n",
       "      <td>205.184357</td>\n",
       "      <td>204.055060</td>\n",
       "      <td>221.842172</td>\n",
       "      <td>222.289319</td>\n",
       "      <td>217.473366</td>\n",
       "      <td>222.771965</td>\n",
       "      <td>222.057422</td>\n",
       "      <td>207.575884</td>\n",
       "    </tr>\n",
       "    <tr>\n",
       "      <th>ENST00000176643</th>\n",
       "      <td>96.373317</td>\n",
       "      <td>83.715378</td>\n",
       "      <td>88.596957</td>\n",
       "      <td>94.597627</td>\n",
       "      <td>84.463715</td>\n",
       "      <td>88.703755</td>\n",
       "      <td>97.083917</td>\n",
       "      <td>93.747588</td>\n",
       "      <td>96.771916</td>\n",
       "      <td>83.011428</td>\n",
       "      <td>...</td>\n",
       "      <td>96.846718</td>\n",
       "      <td>96.956024</td>\n",
       "      <td>79.504038</td>\n",
       "      <td>78.374741</td>\n",
       "      <td>96.161853</td>\n",
       "      <td>96.609000</td>\n",
       "      <td>91.793046</td>\n",
       "      <td>97.091646</td>\n",
       "      <td>96.377103</td>\n",
       "      <td>81.895565</td>\n",
       "    </tr>\n",
       "  </tbody>\n",
       "</table>\n",
       "<p>4 rows × 4137 columns</p>\n",
       "</div>"
      ],
      "text/plain": [
       "tr_id1           ENST00000004103  ENST00000005180  ENST00000006251  \\\n",
       "tr_id_r                                                              \n",
       "ENST00000014914       377.372053       364.714113       369.595692   \n",
       "ENST00000054950        51.619512        38.961573        43.843152   \n",
       "ENST00000166345       222.053636       209.395697       214.277276   \n",
       "ENST00000176643        96.373317        83.715378        88.596957   \n",
       "\n",
       "tr_id1           ENST00000012134  ENST00000026218  ENST00000054650  \\\n",
       "tr_id_r                                                              \n",
       "ENST00000014914       375.596362       365.462450       369.702491   \n",
       "ENST00000054950        49.843822        39.709909        43.949950   \n",
       "ENST00000166345       220.277946       210.144034       214.384074   \n",
       "ENST00000176643        94.597627        84.463715        88.703755   \n",
       "\n",
       "tr_id1           ENST00000156499  ENST00000160298  ENST00000161006  \\\n",
       "tr_id_r                                                              \n",
       "ENST00000014914       378.082652       374.746324       377.770651   \n",
       "ENST00000054950        52.330111        48.993783        52.018110   \n",
       "ENST00000166345       222.764236       219.427908       222.452235   \n",
       "ENST00000176643        97.083917        93.747588        96.771916   \n",
       "\n",
       "tr_id1           ENST00000167586  ...  ENST00000637769  ENST00000637900  \\\n",
       "tr_id_r                           ...                                     \n",
       "ENST00000014914       364.010163  ...       377.845453       377.954760   \n",
       "ENST00000054950        38.257622  ...        52.092912        52.202219   \n",
       "ENST00000166345       208.691747  ...       222.527037       222.636343   \n",
       "ENST00000176643        83.011428  ...        96.846718        96.956024   \n",
       "\n",
       "tr_id1           ENST00000638023  ENST00000638035  ENST00000638049  \\\n",
       "tr_id_r                                                              \n",
       "ENST00000014914       360.502774       359.373477       377.160588   \n",
       "ENST00000054950        34.750233        33.620936        51.408047   \n",
       "ENST00000166345       205.184357       204.055060       221.842172   \n",
       "ENST00000176643        79.504038        78.374741        96.161853   \n",
       "\n",
       "tr_id1           ENST00000638091  ENST00000638115  ENST00000638120  \\\n",
       "tr_id_r                                                              \n",
       "ENST00000014914       377.607736       372.791782       378.090381   \n",
       "ENST00000054950        51.855195        47.039241        52.337840   \n",
       "ENST00000166345       222.289319       217.473366       222.771965   \n",
       "ENST00000176643        96.609000        91.793046        97.091646   \n",
       "\n",
       "tr_id1           ENST00000638150  ENST00000638154  \n",
       "tr_id_r                                            \n",
       "ENST00000014914       377.375839       362.894300  \n",
       "ENST00000054950        51.623298        37.141759  \n",
       "ENST00000166345       222.057422       207.575884  \n",
       "ENST00000176643        96.377103        81.895565  \n",
       "\n",
       "[4 rows x 4137 columns]"
      ]
     },
     "execution_count": 171,
     "metadata": {},
     "output_type": "execute_result"
    }
   ],
   "source": [
    "matrix = distances.pivot(index='tr_id_r', columns='tr_id1', values='dist')\n",
    "dmat = matrix.to_numpy()\n",
    "matrix[0:4]"
   ]
  },
  {
   "cell_type": "code",
   "execution_count": 172,
   "metadata": {},
   "outputs": [],
   "source": [
    "A = list(matrix.index)\n",
    "B = list(matrix.columns)"
   ]
  },
  {
   "cell_type": "code",
   "execution_count": 173,
   "metadata": {},
   "outputs": [
    {
     "data": {
      "text/plain": [
       "(390, 4137)"
      ]
     },
     "execution_count": 173,
     "metadata": {},
     "output_type": "execute_result"
    }
   ],
   "source": [
    "matrix.shape"
   ]
  },
  {
   "cell_type": "code",
   "execution_count": 174,
   "metadata": {},
   "outputs": [
    {
     "data": {
      "text/plain": [
       "390"
      ]
     },
     "execution_count": 174,
     "metadata": {},
     "output_type": "execute_result"
    }
   ],
   "source": [
    "len(A)"
   ]
  },
  {
   "cell_type": "code",
   "execution_count": 175,
   "metadata": {},
   "outputs": [
    {
     "data": {
      "text/plain": [
       "390"
      ]
     },
     "execution_count": 175,
     "metadata": {},
     "output_type": "execute_result"
    }
   ],
   "source": [
    "RiboSET.tr_id.nunique()"
   ]
  },
  {
   "cell_type": "code",
   "execution_count": 176,
   "metadata": {},
   "outputs": [],
   "source": [
    "import numpy as np\n",
    "from scipy.spatial.distance import cdist\n",
    "\n",
    "def find(A, B, dmat):\n",
    "\n",
    "    # Initialize a place to store what columns we select so we can filter out the ones we choose\n",
    "    selected = []\n",
    "    \n",
    "    # Initialize a place to store the output\n",
    "    pairs = np.zeros((len(A), 2))\n",
    "    \n",
    "    for i in range(len(A)):\n",
    "        # Sort the observations in descending order\n",
    "        choices = dmat[i].argsort()\n",
    "        \n",
    "        # Eliminate those observations already selected\n",
    "        remaining_choices = choices[~np.isin(choices, selected)]\n",
    "        \n",
    "        # Append the observation to select\n",
    "        choose = remaining_choices[0]\n",
    "        selected.append(choose)\n",
    "        \n",
    "        # Select the closest observation\n",
    "        pairs[i] = [i, choose]\n",
    "    return pairs"
   ]
  },
  {
   "cell_type": "code",
   "execution_count": 177,
   "metadata": {},
   "outputs": [],
   "source": [
    "pairs = find(A, B, dmat)"
   ]
  },
  {
   "cell_type": "code",
   "execution_count": 178,
   "metadata": {},
   "outputs": [
    {
     "data": {
      "text/html": [
       "<div>\n",
       "<style scoped>\n",
       "    .dataframe tbody tr th:only-of-type {\n",
       "        vertical-align: middle;\n",
       "    }\n",
       "\n",
       "    .dataframe tbody tr th {\n",
       "        vertical-align: top;\n",
       "    }\n",
       "\n",
       "    .dataframe thead th {\n",
       "        text-align: right;\n",
       "    }\n",
       "</style>\n",
       "<table border=\"1\" class=\"dataframe\">\n",
       "  <thead>\n",
       "    <tr style=\"text-align: right;\">\n",
       "      <th></th>\n",
       "      <th>tr_id1</th>\n",
       "      <th>ind_B</th>\n",
       "    </tr>\n",
       "  </thead>\n",
       "  <tbody>\n",
       "    <tr>\n",
       "      <th>0</th>\n",
       "      <td>ENST00000004103</td>\n",
       "      <td>0</td>\n",
       "    </tr>\n",
       "    <tr>\n",
       "      <th>1</th>\n",
       "      <td>ENST00000005180</td>\n",
       "      <td>1</td>\n",
       "    </tr>\n",
       "  </tbody>\n",
       "</table>\n",
       "</div>"
      ],
      "text/plain": [
       "            tr_id1  ind_B\n",
       "0  ENST00000004103      0\n",
       "1  ENST00000005180      1"
      ]
     },
     "execution_count": 178,
     "metadata": {},
     "output_type": "execute_result"
    }
   ],
   "source": [
    "B_df = pd.DataFrame({'tr_id1': B, 'ind_B': list(range(0, len(B)))})\n",
    "B_df[0:2]"
   ]
  },
  {
   "cell_type": "code",
   "execution_count": 179,
   "metadata": {},
   "outputs": [
    {
     "name": "stdout",
     "output_type": "stream",
     "text": [
      "390 390\n"
     ]
    }
   ],
   "source": [
    "pairs_ind_df = pd.DataFrame(pairs,columns = ['ind_A', 'ind_B'])\n",
    "\n",
    "pairs_ind_df['tr_id_r'] = A\n",
    "\n",
    "pairs_ind_df['ind_B'] = pairs_ind_df['ind_B'].astype(int)\n",
    "\n",
    "pairs_392_final = pairs_ind_df.merge(B_df, on='ind_B', how='inner').merge(distances, on=['tr_id1', 'tr_id_r'], how='inner')\n",
    "\n",
    "print (pairs_392_final.tr_id_r.nunique(), pairs_392_final.tr_id1.nunique())"
   ]
  },
  {
   "cell_type": "code",
   "execution_count": 180,
   "metadata": {},
   "outputs": [
    {
     "data": {
      "text/html": [
       "<div>\n",
       "<style scoped>\n",
       "    .dataframe tbody tr th:only-of-type {\n",
       "        vertical-align: middle;\n",
       "    }\n",
       "\n",
       "    .dataframe tbody tr th {\n",
       "        vertical-align: top;\n",
       "    }\n",
       "\n",
       "    .dataframe thead th {\n",
       "        text-align: right;\n",
       "    }\n",
       "</style>\n",
       "<table border=\"1\" class=\"dataframe\">\n",
       "  <thead>\n",
       "    <tr style=\"text-align: right;\">\n",
       "      <th></th>\n",
       "      <th>ind_A</th>\n",
       "      <th>ind_B</th>\n",
       "      <th>tr_id_r</th>\n",
       "      <th>tr_id1</th>\n",
       "      <th>CDS_cov_r</th>\n",
       "      <th>CDS_cov_comp</th>\n",
       "      <th>dist</th>\n",
       "    </tr>\n",
       "  </thead>\n",
       "  <tbody>\n",
       "    <tr>\n",
       "      <th>0</th>\n",
       "      <td>0.0</td>\n",
       "      <td>1053</td>\n",
       "      <td>ENST00000014914</td>\n",
       "      <td>ENST00000377269</td>\n",
       "      <td>378.198324</td>\n",
       "      <td>378.067061</td>\n",
       "      <td>0.131263</td>\n",
       "    </tr>\n",
       "    <tr>\n",
       "      <th>1</th>\n",
       "      <td>1.0</td>\n",
       "      <td>1926</td>\n",
       "      <td>ENST00000054950</td>\n",
       "      <td>ENST00000432684</td>\n",
       "      <td>52.445783</td>\n",
       "      <td>52.340206</td>\n",
       "      <td>0.105577</td>\n",
       "    </tr>\n",
       "  </tbody>\n",
       "</table>\n",
       "</div>"
      ],
      "text/plain": [
       "   ind_A  ind_B          tr_id_r           tr_id1   CDS_cov_r  CDS_cov_comp  \\\n",
       "0    0.0   1053  ENST00000014914  ENST00000377269  378.198324    378.067061   \n",
       "1    1.0   1926  ENST00000054950  ENST00000432684   52.445783     52.340206   \n",
       "\n",
       "       dist  \n",
       "0  0.131263  \n",
       "1  0.105577  "
      ]
     },
     "execution_count": 180,
     "metadata": {},
     "output_type": "execute_result"
    }
   ],
   "source": [
    "pairs_392_final[0:2]"
   ]
  },
  {
   "cell_type": "code",
   "execution_count": 184,
   "metadata": {},
   "outputs": [
    {
     "data": {
      "text/html": [
       "<div>\n",
       "<style scoped>\n",
       "    .dataframe tbody tr th:only-of-type {\n",
       "        vertical-align: middle;\n",
       "    }\n",
       "\n",
       "    .dataframe tbody tr th {\n",
       "        vertical-align: top;\n",
       "    }\n",
       "\n",
       "    .dataframe thead th {\n",
       "        text-align: right;\n",
       "    }\n",
       "</style>\n",
       "<table border=\"1\" class=\"dataframe\">\n",
       "  <thead>\n",
       "    <tr style=\"text-align: right;\">\n",
       "      <th></th>\n",
       "      <th>ind_A</th>\n",
       "      <th>ind_B</th>\n",
       "      <th>tr_id_r</th>\n",
       "      <th>tr_id1</th>\n",
       "      <th>CDS_cov_r</th>\n",
       "      <th>CDS_cov_comp</th>\n",
       "      <th>dist</th>\n",
       "      <th>gene</th>\n",
       "    </tr>\n",
       "  </thead>\n",
       "  <tbody>\n",
       "    <tr>\n",
       "      <th>0</th>\n",
       "      <td>0.0</td>\n",
       "      <td>1053</td>\n",
       "      <td>ENST00000014914</td>\n",
       "      <td>ENST00000377269</td>\n",
       "      <td>378.198324</td>\n",
       "      <td>378.067061</td>\n",
       "      <td>0.131263</td>\n",
       "      <td>UBA1</td>\n",
       "    </tr>\n",
       "    <tr>\n",
       "      <th>1</th>\n",
       "      <td>1.0</td>\n",
       "      <td>1926</td>\n",
       "      <td>ENST00000054950</td>\n",
       "      <td>ENST00000432684</td>\n",
       "      <td>52.445783</td>\n",
       "      <td>52.340206</td>\n",
       "      <td>0.105577</td>\n",
       "      <td>TMEM237</td>\n",
       "    </tr>\n",
       "    <tr>\n",
       "      <th>2</th>\n",
       "      <td>2.0</td>\n",
       "      <td>1573</td>\n",
       "      <td>ENST00000166345</td>\n",
       "      <td>ENST00000407537</td>\n",
       "      <td>222.879908</td>\n",
       "      <td>226.080882</td>\n",
       "      <td>3.200975</td>\n",
       "      <td>COMT</td>\n",
       "    </tr>\n",
       "    <tr>\n",
       "      <th>3</th>\n",
       "      <td>3.0</td>\n",
       "      <td>1035</td>\n",
       "      <td>ENST00000176643</td>\n",
       "      <td>ENST00000376421</td>\n",
       "      <td>97.199588</td>\n",
       "      <td>97.718631</td>\n",
       "      <td>0.519043</td>\n",
       "      <td>NRM</td>\n",
       "    </tr>\n",
       "    <tr>\n",
       "      <th>4</th>\n",
       "      <td>4.0</td>\n",
       "      <td>4092</td>\n",
       "      <td>ENST00000203001</td>\n",
       "      <td>ENST00000636280</td>\n",
       "      <td>52.439759</td>\n",
       "      <td>52.323988</td>\n",
       "      <td>0.115771</td>\n",
       "      <td>DNM1</td>\n",
       "    </tr>\n",
       "    <tr>\n",
       "      <th>...</th>\n",
       "      <td>...</td>\n",
       "      <td>...</td>\n",
       "      <td>...</td>\n",
       "      <td>...</td>\n",
       "      <td>...</td>\n",
       "      <td>...</td>\n",
       "      <td>...</td>\n",
       "      <td>...</td>\n",
       "    </tr>\n",
       "    <tr>\n",
       "      <th>385</th>\n",
       "      <td>385.0</td>\n",
       "      <td>1541</td>\n",
       "      <td>ENST00000613102</td>\n",
       "      <td>ENST00000405159</td>\n",
       "      <td>64.535817</td>\n",
       "      <td>45.875000</td>\n",
       "      <td>18.660817</td>\n",
       "      <td>FAM104A</td>\n",
       "    </tr>\n",
       "    <tr>\n",
       "      <th>386</th>\n",
       "      <td>386.0</td>\n",
       "      <td>3718</td>\n",
       "      <td>ENST00000615301</td>\n",
       "      <td>ENST00000600911</td>\n",
       "      <td>43.925602</td>\n",
       "      <td>43.770171</td>\n",
       "      <td>0.155431</td>\n",
       "      <td>IRF3</td>\n",
       "    </tr>\n",
       "    <tr>\n",
       "      <th>387</th>\n",
       "      <td>387.0</td>\n",
       "      <td>1344</td>\n",
       "      <td>ENST00000617246</td>\n",
       "      <td>ENST00000395956</td>\n",
       "      <td>45.725938</td>\n",
       "      <td>45.849593</td>\n",
       "      <td>0.123655</td>\n",
       "      <td>YWHAZ</td>\n",
       "    </tr>\n",
       "    <tr>\n",
       "      <th>388</th>\n",
       "      <td>388.0</td>\n",
       "      <td>1238</td>\n",
       "      <td>ENST00000617979</td>\n",
       "      <td>ENST00000392826</td>\n",
       "      <td>92.120344</td>\n",
       "      <td>45.437956</td>\n",
       "      <td>46.682388</td>\n",
       "      <td>SLC4A2</td>\n",
       "    </tr>\n",
       "    <tr>\n",
       "      <th>389</th>\n",
       "      <td>389.0</td>\n",
       "      <td>1468</td>\n",
       "      <td>ENST00000619580</td>\n",
       "      <td>ENST00000400788</td>\n",
       "      <td>987.194175</td>\n",
       "      <td>45.154930</td>\n",
       "      <td>942.039245</td>\n",
       "      <td>TMEM242</td>\n",
       "    </tr>\n",
       "  </tbody>\n",
       "</table>\n",
       "<p>390 rows × 8 columns</p>\n",
       "</div>"
      ],
      "text/plain": [
       "     ind_A  ind_B          tr_id_r           tr_id1   CDS_cov_r  CDS_cov_comp  \\\n",
       "0      0.0   1053  ENST00000014914  ENST00000377269  378.198324    378.067061   \n",
       "1      1.0   1926  ENST00000054950  ENST00000432684   52.445783     52.340206   \n",
       "2      2.0   1573  ENST00000166345  ENST00000407537  222.879908    226.080882   \n",
       "3      3.0   1035  ENST00000176643  ENST00000376421   97.199588     97.718631   \n",
       "4      4.0   4092  ENST00000203001  ENST00000636280   52.439759     52.323988   \n",
       "..     ...    ...              ...              ...         ...           ...   \n",
       "385  385.0   1541  ENST00000613102  ENST00000405159   64.535817     45.875000   \n",
       "386  386.0   3718  ENST00000615301  ENST00000600911   43.925602     43.770171   \n",
       "387  387.0   1344  ENST00000617246  ENST00000395956   45.725938     45.849593   \n",
       "388  388.0   1238  ENST00000617979  ENST00000392826   92.120344     45.437956   \n",
       "389  389.0   1468  ENST00000619580  ENST00000400788  987.194175     45.154930   \n",
       "\n",
       "           dist     gene  \n",
       "0      0.131263     UBA1  \n",
       "1      0.105577  TMEM237  \n",
       "2      3.200975     COMT  \n",
       "3      0.519043      NRM  \n",
       "4      0.115771     DNM1  \n",
       "..          ...      ...  \n",
       "385   18.660817  FAM104A  \n",
       "386    0.155431     IRF3  \n",
       "387    0.123655    YWHAZ  \n",
       "388   46.682388   SLC4A2  \n",
       "389  942.039245  TMEM242  \n",
       "\n",
       "[390 rows x 8 columns]"
      ]
     },
     "execution_count": 184,
     "metadata": {},
     "output_type": "execute_result"
    }
   ],
   "source": [
    "pairs_392_final.merge(meta[['tr_id1', 'gene']], on='tr_id1', how='inner')"
   ]
  },
  {
   "cell_type": "code",
   "execution_count": 189,
   "metadata": {},
   "outputs": [
    {
     "data": {
      "image/png": "[encoded data removed]",
      "text/plain": [
       "<Figure size 468x288 with 1 Axes>"
      ]
     },
     "metadata": {
      "needs_background": "light"
     },
     "output_type": "display_data"
    }
   ],
   "source": [
    "fig, ax = plt.subplots(1, 1, figsize=(6.5,4))\n",
    "\n",
    "ax = sns.distplot(pairs_392_final['CDS_cov_r'].tolist(), \n",
    "                  hist=False, \n",
    "                  label = 'RiboSET',\n",
    "                 kde_kws = {'shade': True, 'linewidth': 1},\n",
    "                 color = 'blue')\n",
    "\n",
    "\n",
    "ax = sns.distplot(pairs_392_final['CDS_cov_comp'].tolist(), \n",
    "                  hist=False, \n",
    "                  label = 'No_upstream_translation',\n",
    "                 kde_kws = {'shade': True, 'linewidth': 1},\n",
    "                 color = 'red')\n",
    "\n",
    "ax.set_xlabel('CDS_cov_match')\n",
    "\n",
    "stat, pvalue = stats.ks_2samp(pairs_392_final['CDS_cov_r'].tolist(), \n",
    "              pairs_392_final['CDS_cov_comp'].tolist())\n",
    "\n",
    "\n",
    "ax.text(500, 0.0015, \"KS test pv=%s, stat=%s\" % (np.round(pvalue, 2), np.round(stat, 2)), \n",
    "        bbox=dict(facecolor='white', alpha=0.5), \n",
    "        fontsize=17)\n",
    "\n",
    "# We change the fontsize of minor ticks label \n",
    "ax.tick_params(axis='both', which='major', labelsize=15)\n",
    "ax.tick_params(axis='both', which='minor', labelsize=15)\n",
    "\n",
    "ax.set_ylabel('Density', fontsize= 18)\n",
    "ax.set_xlabel('CDS coverage', fontsize= 18)\n",
    "\n",
    "plt.legend(loc=0, prop={'size': 13})\n",
    "\n",
    "plt.show()"
   ]
  },
  {
   "cell_type": "code",
   "execution_count": 823,
   "metadata": {},
   "outputs": [
    {
     "data": {
      "text/html": [
       "<div>\n",
       "<style scoped>\n",
       "    .dataframe tbody tr th:only-of-type {\n",
       "        vertical-align: middle;\n",
       "    }\n",
       "\n",
       "    .dataframe tbody tr th {\n",
       "        vertical-align: top;\n",
       "    }\n",
       "\n",
       "    .dataframe thead th {\n",
       "        text-align: right;\n",
       "    }\n",
       "</style>\n",
       "<table border=\"1\" class=\"dataframe\">\n",
       "  <thead>\n",
       "    <tr style=\"text-align: right;\">\n",
       "      <th></th>\n",
       "      <th>tr_id1</th>\n",
       "      <th>Z_score</th>\n",
       "      <th>CDS_coverage</th>\n",
       "      <th>NTE_coverage</th>\n",
       "      <th>CDS_nonzero_fraction</th>\n",
       "      <th>NTE_nonzero_fraction</th>\n",
       "    </tr>\n",
       "  </thead>\n",
       "  <tbody>\n",
       "    <tr>\n",
       "      <th>0</th>\n",
       "      <td>ENST00000379454</td>\n",
       "      <td>0.032101</td>\n",
       "      <td>298.318841</td>\n",
       "      <td>317.934783</td>\n",
       "      <td>0.332894</td>\n",
       "      <td>0.260870</td>\n",
       "    </tr>\n",
       "    <tr>\n",
       "      <th>1</th>\n",
       "      <td>ENST00000216281</td>\n",
       "      <td>0.139750</td>\n",
       "      <td>195.778990</td>\n",
       "      <td>441.650000</td>\n",
       "      <td>0.158709</td>\n",
       "      <td>0.194444</td>\n",
       "    </tr>\n",
       "    <tr>\n",
       "      <th>2</th>\n",
       "      <td>ENST00000409753</td>\n",
       "      <td>-0.352664</td>\n",
       "      <td>750.896774</td>\n",
       "      <td>295.191489</td>\n",
       "      <td>0.331183</td>\n",
       "      <td>0.262411</td>\n",
       "    </tr>\n",
       "    <tr>\n",
       "      <th>3</th>\n",
       "      <td>ENST00000321358</td>\n",
       "      <td>0.295986</td>\n",
       "      <td>156.987692</td>\n",
       "      <td>769.086957</td>\n",
       "      <td>0.062564</td>\n",
       "      <td>0.309353</td>\n",
       "    </tr>\n",
       "    <tr>\n",
       "      <th>4</th>\n",
       "      <td>ENST00000314940</td>\n",
       "      <td>-0.077727</td>\n",
       "      <td>535.316993</td>\n",
       "      <td>477.173913</td>\n",
       "      <td>0.332244</td>\n",
       "      <td>0.333333</td>\n",
       "    </tr>\n",
       "    <tr>\n",
       "      <th>...</th>\n",
       "      <td>...</td>\n",
       "      <td>...</td>\n",
       "      <td>...</td>\n",
       "      <td>...</td>\n",
       "      <td>...</td>\n",
       "      <td>...</td>\n",
       "    </tr>\n",
       "    <tr>\n",
       "      <th>4299</th>\n",
       "      <td>ENST00000433363</td>\n",
       "      <td>-0.195168</td>\n",
       "      <td>0.086116</td>\n",
       "      <td>0.000000</td>\n",
       "      <td>0.020504</td>\n",
       "      <td>0.000000</td>\n",
       "    </tr>\n",
       "    <tr>\n",
       "      <th>4300</th>\n",
       "      <td>ENST00000320955</td>\n",
       "      <td>-0.046426</td>\n",
       "      <td>0.026122</td>\n",
       "      <td>0.000000</td>\n",
       "      <td>0.003356</td>\n",
       "      <td>0.000000</td>\n",
       "    </tr>\n",
       "    <tr>\n",
       "      <th>4301</th>\n",
       "      <td>ENST00000287907</td>\n",
       "      <td>-0.074953</td>\n",
       "      <td>0.005587</td>\n",
       "      <td>0.000000</td>\n",
       "      <td>0.001862</td>\n",
       "      <td>0.000000</td>\n",
       "    </tr>\n",
       "    <tr>\n",
       "      <th>4303</th>\n",
       "      <td>ENST00000332995</td>\n",
       "      <td>-0.419139</td>\n",
       "      <td>1.390706</td>\n",
       "      <td>0.000000</td>\n",
       "      <td>0.153184</td>\n",
       "      <td>0.000000</td>\n",
       "    </tr>\n",
       "    <tr>\n",
       "      <th>4304</th>\n",
       "      <td>ENST00000276571</td>\n",
       "      <td>-0.117141</td>\n",
       "      <td>0.020305</td>\n",
       "      <td>0.000000</td>\n",
       "      <td>0.005076</td>\n",
       "      <td>0.000000</td>\n",
       "    </tr>\n",
       "  </tbody>\n",
       "</table>\n",
       "<p>4265 rows × 6 columns</p>\n",
       "</div>"
      ],
      "text/plain": [
       "               tr_id1   Z_score  CDS_coverage  NTE_coverage  \\\n",
       "0     ENST00000379454  0.032101    298.318841    317.934783   \n",
       "1     ENST00000216281  0.139750    195.778990    441.650000   \n",
       "2     ENST00000409753 -0.352664    750.896774    295.191489   \n",
       "3     ENST00000321358  0.295986    156.987692    769.086957   \n",
       "4     ENST00000314940 -0.077727    535.316993    477.173913   \n",
       "...               ...       ...           ...           ...   \n",
       "4299  ENST00000433363 -0.195168      0.086116      0.000000   \n",
       "4300  ENST00000320955 -0.046426      0.026122      0.000000   \n",
       "4301  ENST00000287907 -0.074953      0.005587      0.000000   \n",
       "4303  ENST00000332995 -0.419139      1.390706      0.000000   \n",
       "4304  ENST00000276571 -0.117141      0.020305      0.000000   \n",
       "\n",
       "      CDS_nonzero_fraction  NTE_nonzero_fraction  \n",
       "0                 0.332894              0.260870  \n",
       "1                 0.158709              0.194444  \n",
       "2                 0.331183              0.262411  \n",
       "3                 0.062564              0.309353  \n",
       "4                 0.332244              0.333333  \n",
       "...                    ...                   ...  \n",
       "4299              0.020504              0.000000  \n",
       "4300              0.003356              0.000000  \n",
       "4301              0.001862              0.000000  \n",
       "4303              0.153184              0.000000  \n",
       "4304              0.005076              0.000000  \n",
       "\n",
       "[4265 rows x 6 columns]"
      ]
     },
     "execution_count": 823,
     "metadata": {},
     "output_type": "execute_result"
    }
   ],
   "source": [
    "RiboSET_ext"
   ]
  },
  {
   "cell_type": "markdown",
   "metadata": {},
   "source": [
    "# RiboSET ext (CDS cov > 0)"
   ]
  },
  {
   "cell_type": "code",
   "execution_count": 159,
   "metadata": {},
   "outputs": [
    {
     "ename": "NameError",
     "evalue": "name 'RiboSET_EXT_cds_cov_nonzero' is not defined",
     "output_type": "error",
     "traceback": [
      "\u001b[0;31m---------------------------------------------------------------------------\u001b[0m",
      "\u001b[0;31mNameError\u001b[0m                                 Traceback (most recent call last)",
      "\u001b[0;32m<ipython-input-159-80697be44f9f>\u001b[0m in \u001b[0;36m<module>\u001b[0;34m\u001b[0m\n\u001b[0;32m----> 1\u001b[0;31m \u001b[0mRiboSET_EXT_cds_cov_nonzero\u001b[0m\u001b[0;34m.\u001b[0m\u001b[0mshape\u001b[0m\u001b[0;34m[\u001b[0m\u001b[0;36m0\u001b[0m\u001b[0;34m]\u001b[0m\u001b[0;34m\u001b[0m\u001b[0;34m\u001b[0m\u001b[0m\n\u001b[0m",
      "\u001b[0;31mNameError\u001b[0m: name 'RiboSET_EXT_cds_cov_nonzero' is not defined"
     ]
    }
   ],
   "source": [
    "RiboSET_EXT_cds_cov_nonzero.shape[0]"
   ]
  },
  {
   "cell_type": "code",
   "execution_count": 144,
   "metadata": {},
   "outputs": [
    {
     "name": "stdout",
     "output_type": "stream",
     "text": [
      "tr 0 is being processed\n"
     ]
    },
    {
     "ename": "KeyError",
     "evalue": "\"['tr_id'] not in index\"",
     "output_type": "error",
     "traceback": [
      "\u001b[0;31m---------------------------------------------------------------------------\u001b[0m",
      "\u001b[0;31mKeyError\u001b[0m                                  Traceback (most recent call last)",
      "\u001b[0;32m<ipython-input-144-5359406ec4fe>\u001b[0m in \u001b[0;36m<module>\u001b[0;34m\u001b[0m\n\u001b[1;32m     11\u001b[0m     \u001b[0mCDS_cov_r\u001b[0m \u001b[0;34m=\u001b[0m \u001b[0mel1\u001b[0m\u001b[0;34m[\u001b[0m\u001b[0;36m1\u001b[0m\u001b[0;34m]\u001b[0m\u001b[0;34m\u001b[0m\u001b[0;34m\u001b[0m\u001b[0m\n\u001b[1;32m     12\u001b[0m \u001b[0;34m\u001b[0m\u001b[0m\n\u001b[0;32m---> 13\u001b[0;31m     \u001b[0;32mfor\u001b[0m \u001b[0mel\u001b[0m \u001b[0;32min\u001b[0m  \u001b[0msubset\u001b[0m\u001b[0;34m[\u001b[0m\u001b[0;34m[\u001b[0m\u001b[0;34m'tr_id'\u001b[0m\u001b[0;34m,\u001b[0m \u001b[0;34m'CDS_coverage'\u001b[0m\u001b[0;34m]\u001b[0m\u001b[0;34m]\u001b[0m\u001b[0;34m.\u001b[0m\u001b[0mto_numpy\u001b[0m\u001b[0;34m(\u001b[0m\u001b[0;34m)\u001b[0m\u001b[0;34m:\u001b[0m\u001b[0;34m\u001b[0m\u001b[0;34m\u001b[0m\u001b[0m\n\u001b[0m\u001b[1;32m     14\u001b[0m         \u001b[0mtr_id\u001b[0m \u001b[0;34m=\u001b[0m \u001b[0mel\u001b[0m\u001b[0;34m[\u001b[0m\u001b[0;36m0\u001b[0m\u001b[0;34m]\u001b[0m\u001b[0;34m\u001b[0m\u001b[0;34m\u001b[0m\u001b[0m\n\u001b[1;32m     15\u001b[0m         \u001b[0mCDS_cov_comp\u001b[0m \u001b[0;34m=\u001b[0m \u001b[0mel\u001b[0m\u001b[0;34m[\u001b[0m\u001b[0;36m1\u001b[0m\u001b[0;34m]\u001b[0m\u001b[0;34m\u001b[0m\u001b[0;34m\u001b[0m\u001b[0m\n",
      "\u001b[0;32m~/anaconda3/lib/python3.7/site-packages/pandas/core/frame.py\u001b[0m in \u001b[0;36m__getitem__\u001b[0;34m(self, key)\u001b[0m\n\u001b[1;32m   2910\u001b[0m             \u001b[0;32mif\u001b[0m \u001b[0mis_iterator\u001b[0m\u001b[0;34m(\u001b[0m\u001b[0mkey\u001b[0m\u001b[0;34m)\u001b[0m\u001b[0;34m:\u001b[0m\u001b[0;34m\u001b[0m\u001b[0;34m\u001b[0m\u001b[0m\n\u001b[1;32m   2911\u001b[0m                 \u001b[0mkey\u001b[0m \u001b[0;34m=\u001b[0m \u001b[0mlist\u001b[0m\u001b[0;34m(\u001b[0m\u001b[0mkey\u001b[0m\u001b[0;34m)\u001b[0m\u001b[0;34m\u001b[0m\u001b[0;34m\u001b[0m\u001b[0m\n\u001b[0;32m-> 2912\u001b[0;31m             \u001b[0mindexer\u001b[0m \u001b[0;34m=\u001b[0m \u001b[0mself\u001b[0m\u001b[0;34m.\u001b[0m\u001b[0mloc\u001b[0m\u001b[0;34m.\u001b[0m\u001b[0m_get_listlike_indexer\u001b[0m\u001b[0;34m(\u001b[0m\u001b[0mkey\u001b[0m\u001b[0;34m,\u001b[0m \u001b[0maxis\u001b[0m\u001b[0;34m=\u001b[0m\u001b[0;36m1\u001b[0m\u001b[0;34m,\u001b[0m \u001b[0mraise_missing\u001b[0m\u001b[0;34m=\u001b[0m\u001b[0;32mTrue\u001b[0m\u001b[0;34m)\u001b[0m\u001b[0;34m[\u001b[0m\u001b[0;36m1\u001b[0m\u001b[0;34m]\u001b[0m\u001b[0;34m\u001b[0m\u001b[0;34m\u001b[0m\u001b[0m\n\u001b[0m\u001b[1;32m   2913\u001b[0m \u001b[0;34m\u001b[0m\u001b[0m\n\u001b[1;32m   2914\u001b[0m         \u001b[0;31m# take() does not accept boolean indexers\u001b[0m\u001b[0;34m\u001b[0m\u001b[0;34m\u001b[0m\u001b[0;34m\u001b[0m\u001b[0m\n",
      "\u001b[0;32m~/anaconda3/lib/python3.7/site-packages/pandas/core/indexing.py\u001b[0m in \u001b[0;36m_get_listlike_indexer\u001b[0;34m(self, key, axis, raise_missing)\u001b[0m\n\u001b[1;32m   1252\u001b[0m             \u001b[0mkeyarr\u001b[0m\u001b[0;34m,\u001b[0m \u001b[0mindexer\u001b[0m\u001b[0;34m,\u001b[0m \u001b[0mnew_indexer\u001b[0m \u001b[0;34m=\u001b[0m \u001b[0max\u001b[0m\u001b[0;34m.\u001b[0m\u001b[0m_reindex_non_unique\u001b[0m\u001b[0;34m(\u001b[0m\u001b[0mkeyarr\u001b[0m\u001b[0;34m)\u001b[0m\u001b[0;34m\u001b[0m\u001b[0;34m\u001b[0m\u001b[0m\n\u001b[1;32m   1253\u001b[0m \u001b[0;34m\u001b[0m\u001b[0m\n\u001b[0;32m-> 1254\u001b[0;31m         \u001b[0mself\u001b[0m\u001b[0;34m.\u001b[0m\u001b[0m_validate_read_indexer\u001b[0m\u001b[0;34m(\u001b[0m\u001b[0mkeyarr\u001b[0m\u001b[0;34m,\u001b[0m \u001b[0mindexer\u001b[0m\u001b[0;34m,\u001b[0m \u001b[0maxis\u001b[0m\u001b[0;34m,\u001b[0m \u001b[0mraise_missing\u001b[0m\u001b[0;34m=\u001b[0m\u001b[0mraise_missing\u001b[0m\u001b[0;34m)\u001b[0m\u001b[0;34m\u001b[0m\u001b[0;34m\u001b[0m\u001b[0m\n\u001b[0m\u001b[1;32m   1255\u001b[0m         \u001b[0;32mreturn\u001b[0m \u001b[0mkeyarr\u001b[0m\u001b[0;34m,\u001b[0m \u001b[0mindexer\u001b[0m\u001b[0;34m\u001b[0m\u001b[0;34m\u001b[0m\u001b[0m\n\u001b[1;32m   1256\u001b[0m \u001b[0;34m\u001b[0m\u001b[0m\n",
      "\u001b[0;32m~/anaconda3/lib/python3.7/site-packages/pandas/core/indexing.py\u001b[0m in \u001b[0;36m_validate_read_indexer\u001b[0;34m(self, key, indexer, axis, raise_missing)\u001b[0m\n\u001b[1;32m   1302\u001b[0m             \u001b[0;32mif\u001b[0m \u001b[0mraise_missing\u001b[0m\u001b[0;34m:\u001b[0m\u001b[0;34m\u001b[0m\u001b[0;34m\u001b[0m\u001b[0m\n\u001b[1;32m   1303\u001b[0m                 \u001b[0mnot_found\u001b[0m \u001b[0;34m=\u001b[0m \u001b[0mlist\u001b[0m\u001b[0;34m(\u001b[0m\u001b[0mset\u001b[0m\u001b[0;34m(\u001b[0m\u001b[0mkey\u001b[0m\u001b[0;34m)\u001b[0m \u001b[0;34m-\u001b[0m \u001b[0mset\u001b[0m\u001b[0;34m(\u001b[0m\u001b[0max\u001b[0m\u001b[0;34m)\u001b[0m\u001b[0;34m)\u001b[0m\u001b[0;34m\u001b[0m\u001b[0;34m\u001b[0m\u001b[0m\n\u001b[0;32m-> 1304\u001b[0;31m                 \u001b[0;32mraise\u001b[0m \u001b[0mKeyError\u001b[0m\u001b[0;34m(\u001b[0m\u001b[0;34mf\"{not_found} not in index\"\u001b[0m\u001b[0;34m)\u001b[0m\u001b[0;34m\u001b[0m\u001b[0;34m\u001b[0m\u001b[0m\n\u001b[0m\u001b[1;32m   1305\u001b[0m \u001b[0;34m\u001b[0m\u001b[0m\n\u001b[1;32m   1306\u001b[0m             \u001b[0;31m# we skip the warning on Categorical\u001b[0m\u001b[0;34m\u001b[0m\u001b[0;34m\u001b[0m\u001b[0;34m\u001b[0m\u001b[0m\n",
      "\u001b[0;31mKeyError\u001b[0m: \"['tr_id'] not in index\""
     ]
    }
   ],
   "source": [
    "subset = no_ups[(no_ups['NTE_nonzero_fraction'] < 0.1) & \n",
    "   (no_ups['NTE_coverage'] < 1) & (no_ups['CDS_coverage'] > 0)].sort_values(by='CDS_coverage', ascending=False)\n",
    "\n",
    "li2 = []\n",
    "\n",
    "for i, el1 in enumerate(RiboSET_EXT_cds_cov_nonzero[['tr_id1', 'CDS_coverage']].to_numpy()):\n",
    "    \n",
    "    if i % 500 == 0:\n",
    "        print ('tr %s is being processed' % i)\n",
    "    tr_id_r = el1[0]\n",
    "    CDS_cov_r = el1[1]\n",
    "    \n",
    "    for el in  subset[['tr_id', 'CDS_coverage']].to_numpy():\n",
    "        tr_id = el[0]\n",
    "        CDS_cov_comp = el[1]\n",
    "        \n",
    "        if np.abs(CDS_cov_comp - CDS_cov_r) < 20:\n",
    "            li2.append([tr_id_r, CDS_cov_r, tr_id, CDS_cov_comp, np.abs(CDS_cov_comp - CDS_cov_r)])\n",
    "            \n",
    "distances = pd.DataFrame(li2, columns = ['tr_id_r', 'CDS_cov_r', 'tr_id1', 'CDS_cov_comp', 'dist'])\n",
    "\n",
    "\n",
    "matrix = distances.pivot(index='tr_id_r', columns='tr_id1', values='dist')\n",
    "dmat = matrix.to_numpy()\n",
    "matrix[0:4]\n",
    "\n",
    "A = list(matrix.index)\n",
    "B = list(matrix.columns)\n",
    "\n",
    "B_df = pd.DataFrame({'tr_id1': B, 'ind_B': list(range(0, len(B)))})\n",
    "B_df[0:2]"
   ]
  },
  {
   "cell_type": "code",
   "execution_count": null,
   "metadata": {},
   "outputs": [],
   "source": [
    "matrix.shape"
   ]
  },
  {
   "cell_type": "code",
   "execution_count": null,
   "metadata": {},
   "outputs": [],
   "source": [
    "pairs = find(A, B, dmat)"
   ]
  },
  {
   "cell_type": "code",
   "execution_count": null,
   "metadata": {},
   "outputs": [],
   "source": [
    "pairs_ind_df = pd.DataFrame(pairs,columns = ['ind_A', 'ind_B'])\n",
    "\n",
    "pairs_ind_df['tr_id_r'] = A\n",
    "\n",
    "pairs_ind_df['ind_B'] = pairs_ind_df['ind_B'].astype(int)\n",
    "\n",
    "pairs_4k_final = pairs_ind_df.merge(B_df, on='ind_B', how='inner').merge(distances, on=['tr_id1', 'tr_id_r'], how='inner')\n",
    "\n",
    "print (pairs_4k_final.tr_id_r.nunique(), pairs_4k_final.tr_id1.nunique())"
   ]
  },
  {
   "cell_type": "code",
   "execution_count": null,
   "metadata": {},
   "outputs": [],
   "source": [
    "fig, ax = plt.subplots(1, 1, figsize=(6,4))\n",
    "\n",
    "ax = sns.distplot(pairs_4k_final['CDS_cov_r'].tolist(), \n",
    "                  hist=False, \n",
    "                  label = 'RiboSET_ext',\n",
    "                 kde_kws = {'shade': True, 'linewidth': 1},\n",
    "                 color = 'blue')\n",
    "\n",
    "\n",
    "ax = sns.distplot(pairs_4k_final['CDS_cov_comp'].tolist(), \n",
    "                  hist=False, \n",
    "                  label = 'No_upstream_translation',\n",
    "                 kde_kws = {'shade': True, 'linewidth': 1},\n",
    "                 color = 'red')\n",
    "\n",
    "ax.set_xlabel('CDS_cov_match')\n",
    "\n",
    "ax.text(200, 0.004, \"KS test pv=0.3, stat=0.22\", \n",
    "        bbox=dict(facecolor='white', alpha=0.5), \n",
    "        fontsize=17)\n",
    "\n",
    "# We change the fontsize of minor ticks label \n",
    "ax.tick_params(axis='both', which='major', labelsize=15)\n",
    "ax.tick_params(axis='both', which='minor', labelsize=15)\n",
    "\n",
    "ax.set_ylabel('Density', fontsize= 18)\n",
    "ax.set_xlabel('CDS coverage', fontsize= 18)\n",
    "\n",
    "plt.legend(loc=0, prop={'size': 16})\n",
    "\n",
    "plt.show()"
   ]
  },
  {
   "cell_type": "code",
   "execution_count": null,
   "metadata": {},
   "outputs": [],
   "source": [
    "from scipy import stats\n",
    "\n",
    "stats.ks_2samp(pairs_4k_final['CDS_cov_r'].tolist(), \n",
    "              pairs_4k_final['CDS_cov_comp'].tolist())\n",
    "\n",
    "# pv is ~1 => distributions are not statistically different "
   ]
  },
  {
   "cell_type": "code",
   "execution_count": null,
   "metadata": {},
   "outputs": [],
   "source": []
  },
  {
   "cell_type": "code",
   "execution_count": null,
   "metadata": {},
   "outputs": [],
   "source": []
  },
  {
   "cell_type": "code",
   "execution_count": null,
   "metadata": {},
   "outputs": [],
   "source": []
  },
  {
   "cell_type": "code",
   "execution_count": null,
   "metadata": {},
   "outputs": [],
   "source": []
  },
  {
   "cell_type": "markdown",
   "metadata": {},
   "source": [
    "# Save dist with matched CDSs"
   ]
  },
  {
   "cell_type": "code",
   "execution_count": null,
   "metadata": {},
   "outputs": [],
   "source": [
    "pairs_4k_final.to_csv('tmp_res/No_Upstream_Translation_CDS_match_4k.txt', sep='\\t', index=False)"
   ]
  },
  {
   "cell_type": "code",
   "execution_count": null,
   "metadata": {},
   "outputs": [],
   "source": [
    "# 390\n",
    "pairs_392_final.to_csv('tmp_res/No_Upstream_Translation_CDS_match_392.txt', sep='\\t', index=False)"
   ]
  },
  {
   "cell_type": "code",
   "execution_count": null,
   "metadata": {},
   "outputs": [],
   "source": [
    "pairs_4k_final['tr_id'].nunique()"
   ]
  },
  {
   "cell_type": "code",
   "execution_count": null,
   "metadata": {},
   "outputs": [],
   "source": [
    "pairs_4k_final['tr_id'].nunique()"
   ]
  },
  {
   "cell_type": "code",
   "execution_count": null,
   "metadata": {},
   "outputs": [],
   "source": []
  },
  {
   "cell_type": "code",
   "execution_count": null,
   "metadata": {},
   "outputs": [],
   "source": []
  },
  {
   "cell_type": "code",
   "execution_count": null,
   "metadata": {},
   "outputs": [],
   "source": []
  },
  {
   "cell_type": "code",
   "execution_count": null,
   "metadata": {},
   "outputs": [],
   "source": []
  },
  {
   "cell_type": "markdown",
   "metadata": {},
   "source": [
    "# suggestions about RiboSET/PhyloSET we have "
   ]
  },
  {
   "cell_type": "raw",
   "metadata": {},
   "source": [
    "(1) Is there a difference in the PhyloCSF score distributions between transcripts with upstream translation (\"RiboSET\") and those without upstream translation (perhaps matched for CDS expression, which affects detectability of translation, in light of Fig 3C)?"
   ]
  },
  {
   "cell_type": "code",
   "execution_count": null,
   "metadata": {},
   "outputs": [],
   "source": [
    "a = RiboSET['PhyloCSF120score'].tolist()\n",
    "a1 = meta[meta['tr_id1'].isin(RiboSET_ext['tr_id'].unique())]['PhyloCSF120score'].tolist()\n",
    "\n",
    "# matching set of 392 genes by CDS cov \n",
    "b = meta[meta['tr_id1'].isin(pairs_392_final['tr_id'].unique())]['PhyloCSF120score'].tolist()\n",
    "\n",
    "# matching set of ~4k (3.6k) genes by CDS cov \n",
    "c =  meta[meta['tr_id1'].isin(pairs_4k_final['tr_id'].unique())]['PhyloCSF120score'].tolist()\n",
    "\n",
    "len(a), len(a1), len(b), len(c), a1[0:2], a[0:2], b[0:2], c[0:2]"
   ]
  },
  {
   "cell_type": "code",
   "execution_count": null,
   "metadata": {},
   "outputs": [],
   "source": [
    "fig, ax = plt.subplots(1, 1, figsize=(7,4))\n",
    "\n",
    "ax = sns.distplot(a, \n",
    "                  hist=False, \n",
    "                  label = 'RiboSET',\n",
    "                 kde_kws = {'shade': True, 'linewidth': 2},\n",
    "                 color = 'purple')\n",
    "\n",
    "\n",
    "ax = sns.distplot(b, \n",
    "                  hist=False, \n",
    "                  label = 'No_transl',\n",
    "                 kde_kws = {'shade': True, 'linewidth': 2},\n",
    "                 color = 'gold')\n",
    "\n",
    "ax.set_xlabel('PhyloCSF_score_50codons')\n",
    "\n",
    "# We change the fontsize of minor ticks label \n",
    "ax.tick_params(axis='both', which='major', labelsize=15, rotation = 0)\n",
    "ax.tick_params(axis='both', which='minor', labelsize=15)\n",
    "\n",
    "ax.set_xlabel('Density', fontsize= 18)\n",
    "ax.set_ylabel('PhyloCSF score', fontsize= 18)\n",
    "\n",
    "plt.legend(loc=5, prop={'size': 16})\n",
    "\n",
    "plt.show()"
   ]
  },
  {
   "cell_type": "code",
   "execution_count": null,
   "metadata": {},
   "outputs": [],
   "source": [
    "fig, ax = plt.subplots(1, 1, figsize=(7,4))\n",
    "\n",
    "ax = sns.distplot(a1, \n",
    "                  hist=False, \n",
    "                  label = 'RiboSET_ext',\n",
    "                 kde_kws = {'shade': True, 'linewidth': 2},\n",
    "                 color = 'violet')\n",
    "\n",
    "\n",
    "ax = sns.distplot(c, \n",
    "                  hist=False, \n",
    "                  label = 'No_transl_ext',\n",
    "                 kde_kws = {'shade': True, 'linewidth': 2},\n",
    "                 color = 'gold')\n",
    "\n",
    "ax.set_xlabel('PhyloCSF_score_50codons')\n",
    "\n",
    "# We change the fontsize of minor ticks label \n",
    "ax.tick_params(axis='both', which='major', labelsize=15, rotation = 0)\n",
    "ax.tick_params(axis='both', which='minor', labelsize=15)\n",
    "\n",
    "ax.set_xlabel('Density', fontsize= 18)\n",
    "ax.set_ylabel('PhyloCSF score', fontsize= 18)\n",
    "\n",
    "plt.legend(loc=2, prop={'size': 16})\n",
    "\n",
    "plt.show()"
   ]
  },
  {
   "cell_type": "code",
   "execution_count": null,
   "metadata": {},
   "outputs": [],
   "source": []
  },
  {
   "cell_type": "code",
   "execution_count": null,
   "metadata": {},
   "outputs": [],
   "source": []
  },
  {
   "cell_type": "raw",
   "metadata": {},
   "source": [
    "(3) Are the levels of overlap between Ivanov et al., 2011 (ref. 21) and PhyloSET, RiboSET statistically significant? Is there a reason that the current PhyloSET and the Ivanov analysis share so little overlap, given that both rely on evolutionary comparison within mammals?"
   ]
  },
  {
   "cell_type": "code",
   "execution_count": 466,
   "metadata": {},
   "outputs": [
    {
     "name": "stdout",
     "output_type": "stream",
     "text": [
      "390 60 4265\n",
      "24 28\n"
     ]
    }
   ],
   "source": [
    "RiboSET_genes = RiboSET['gene'].tolist()\n",
    "PhyloSET_genes = list(PhyloSET['gene'].unique())\n",
    "\n",
    "############\n",
    "tmp = RiboSET_ext[['tr_id']]\n",
    "tmp.columns = ['tr_id1']\n",
    "RiboSET_ext_genes =  list(tmp.merge(meta[['tr_id1', 'gene']], on='tr_id1', how='inner')['gene'].unique())\n",
    "###########\n",
    "\n",
    "print (len(RiboSET_genes), len(PhyloSET_genes), len(RiboSET_ext_genes))\n",
    "\n",
    "# Ivanov et al sets \n",
    "# genes from 2011 paper\n",
    "genes_42 = 'RASL10B,FGFR1,YPEL2,ENOX2,UFSP1,WDR26,TIAL1,YPEL4,NGF,TRPV6,KCTD11,STARD10,YPEL1,R3HCC1,ZFP62,NHLRC4,EPHX3,C1QL4,TLE3,HDGF,ANKRD42,FAM217B,NFKBID,PTEN,RNF187,METTL23,TMEM8B,VANGL2,FNDC5,C1QL1,CITED1,EIF4G3,HELZ2,CYTH2,NTF3,MFSD4B,C1QL3,KCNN4,IFT46,RASD2,CITED2,C1QL2'.split(',')\n",
    "genes_17 = 'GTF3A, EIF4G2, SP3, PRPS1L1, TEAD4, TEAD3, CACNG8, OAZ3, TEAD1, DDX17, VEGFA, NR1I2, HCK, WT1, BAG1, NPW, MYC'.split(', ')\n",
    "\n",
    "already_ann_24 = ['FNDC5', 'OAZ3', 'RNF187', 'SP3', 'NR1I2', 'TEAD3', 'VEGFA',\n",
    " 'PRPS1L1', 'TRPV6', 'R3HCC1', 'MYC', 'BAG1', 'EIF4G2', 'WT1', 'TEAD4', 'GTF3A', \n",
    "                  'NPW', 'KCTD11', 'YPEL2', 'NFKBID', 'CACNG8', 'HCK', 'YPEL1', 'DDX17']\n",
    "\n",
    "remaining_7 = ['ANKRD42', 'C1QL1', 'HELZ2', 'PTEN', 'TIAL1', 'WDR26', 'ZFP62']\n",
    "\n",
    "not_yet_ann_28 = list(set(genes_42+genes_17) - set(already_ann_24+remaining_7))\n",
    "\n",
    "print (len(already_ann_24), len(not_yet_ann_28))"
   ]
  },
  {
   "cell_type": "code",
   "execution_count": null,
   "metadata": {},
   "outputs": [],
   "source": []
  },
  {
   "cell_type": "code",
   "execution_count": null,
   "metadata": {},
   "outputs": [],
   "source": []
  },
  {
   "cell_type": "raw",
   "metadata": {},
   "source": [
    "4. In analyzing re-identification of non-AUG extensions (Fig. 3F and Table S3D), how does the PhyloCSF score distribution of the 24 annotated non-AUG extensions compare with the PhyloCSF score distributions of other comparable transcripts?"
   ]
  },
  {
   "cell_type": "code",
   "execution_count": 491,
   "metadata": {
    "scrolled": false
   },
   "outputs": [
    {
     "name": "stdout",
     "output_type": "stream",
     "text": [
      "24\n"
     ]
    }
   ],
   "source": [
    "PCSF_24genes = pd.read_csv('../tmp_res/PCSF_for_24_ann.txt', sep='\\t')\n",
    "\n",
    "PCSF_24genes_score = PCSF_24genes[['gene', 'PhyloCSF120score']].drop_duplicates()['PhyloCSF120score'].tolist()\n",
    "\n",
    "PCSF_28genes_score = meta[meta['gene'].isin(not_yet_ann_28)][['gene', 'PhyloCSF120score']].drop_duplicates()['PhyloCSF120score'].tolist()\n",
    "\n",
    "print (PCSF_24genes.gene.nunique())"
   ]
  },
  {
   "cell_type": "code",
   "execution_count": 492,
   "metadata": {},
   "outputs": [
    {
     "data": {
      "text/plain": [
       "11"
      ]
     },
     "execution_count": 492,
     "metadata": {},
     "output_type": "execute_result"
    }
   ],
   "source": [
    "PCSF_24genes[PCSF_24genes['PhyloCSF120score'] > 0]['gene'].nunique()"
   ]
  },
  {
   "cell_type": "code",
   "execution_count": 514,
   "metadata": {},
   "outputs": [],
   "source": [
    "g = pd.DataFrame({'PCSF_score': PCSF_28genes_score})\n",
    "g['subset'] = 'un_28'\n",
    "e = pd.DataFrame({'PCSF_score': PCSF_24genes_score})\n",
    "e['subset'] = 'ann_24'\n",
    "f = pd.concat([e,g])"
   ]
  },
  {
   "cell_type": "code",
   "execution_count": 521,
   "metadata": {},
   "outputs": [
    {
     "name": "stderr",
     "output_type": "stream",
     "text": [
      "No handles with labels found to put in legend.\n"
     ]
    },
    {
     "data": {
      "image/png": "[encoded data removed]",
      "text/plain": [
       "<Figure size 216x288 with 1 Axes>"
      ]
     },
     "metadata": {
      "needs_background": "light"
     },
     "output_type": "display_data"
    }
   ],
   "source": [
    "# boxplots \n",
    "\n",
    "import seaborn as sns\n",
    "\n",
    "fig,ax = plt.subplots(figsize=(3,4))\n",
    "\n",
    "ax = sns.boxplot(x=\"subset\", y=\"PCSF_score\", data=f, palette=\"PRGn\")\n",
    "\n",
    "# statistical annotation\n",
    "x1, x2 = 0, 1   # columns 'Sat' and 'Sun' (first column: 0, see plt.xticks())\n",
    "y, h, col = f['PCSF_score'].max() + 30, 50, 'k'\n",
    "plt.plot([x1, x1, x2, x2], [y, y+h, y+h, y], lw=1.5, c=col)\n",
    "plt.text((x1+x2)*.5, y+h, \"MW p-val=0.0086\", ha='center', va='bottom', \n",
    "         color=col, fontsize= 13)\n",
    "\n",
    "ax.set_ylim(-2500, 4000)\n",
    "\n",
    "# We change the fontsize of minor ticks label \n",
    "ax.tick_params(axis='both', which='major', labelsize=15, rotation = 0)\n",
    "ax.tick_params(axis='both', which='minor', labelsize=15)\n",
    "\n",
    "ax.set_xlabel('Subset from Ivanov et al', fontsize= 18)\n",
    "ax.set_ylabel('PhyloCSF score', fontsize= 18)\n",
    "\n",
    "plt.legend(loc=0, prop={'size': 16})\n",
    "\n",
    "plt.show()"
   ]
  },
  {
   "cell_type": "code",
   "execution_count": 522,
   "metadata": {},
   "outputs": [
    {
     "data": {
      "text/plain": [
       "(1053.0, 0.008678951548390169)"
      ]
     },
     "execution_count": 522,
     "metadata": {},
     "output_type": "execute_result"
    }
   ],
   "source": [
    "from scipy.stats import mannwhitneyu\n",
    "\n",
    "stat, p = mannwhitneyu(PCSF_24genes_score, PCSF_28genes_score)\n",
    "\n",
    "stat, p"
   ]
  },
  {
   "cell_type": "code",
   "execution_count": null,
   "metadata": {},
   "outputs": [],
   "source": []
  },
  {
   "cell_type": "code",
   "execution_count": null,
   "metadata": {},
   "outputs": [],
   "source": []
  },
  {
   "cell_type": "raw",
   "metadata": {},
   "source": [
    "5. Are the overlaps between Van Damme et al. and Yeom et al. data sets with PhyloSET and RiboSET significant?"
   ]
  },
  {
   "cell_type": "code",
   "execution_count": null,
   "metadata": {},
   "outputs": [],
   "source": [
    "RiboSET_genes = RiboSET['gene'].tolist()\n",
    "PhyloSET_genes = list(PhyloSET['gene'].unique())\n",
    "\n",
    "############\n",
    "tmp = RiboSET_ext[['tr_id']]\n",
    "tmp.columns = ['tr_id1']\n",
    "RiboSET_ext_genes =  list(tmp.merge(meta[['tr_id1', 'gene']], on='tr_id1', how='inner')['gene'].unique())\n",
    "###########\n",
    "\n",
    "print (len(RiboSET_genes), len(PhyloSET_genes), len(RiboSET_ext_genes))\n",
    "\n",
    "# Van Damme et al sets "
   ]
  },
  {
   "cell_type": "code",
   "execution_count": null,
   "metadata": {},
   "outputs": [],
   "source": []
  },
  {
   "cell_type": "raw",
   "metadata": {},
   "source": [
    "6 == 1 It is reported that, \"PhyloCSF score distribution for RiboSET genes is clearly skewed towards large negative values arguing for massive non-conserved non-AUG translation in 5’ leaders (Fig.4E).\" This analysis compares RiboSET with PhyloSET, chosen based on PhyloCSF score. A more meaningful comparison would be the analysis of PhyloCSF between transcripts with and without upstream translation, as described in (1)."
   ]
  },
  {
   "cell_type": "code",
   "execution_count": null,
   "metadata": {},
   "outputs": [],
   "source": []
  },
  {
   "cell_type": "code",
   "execution_count": null,
   "metadata": {},
   "outputs": [],
   "source": []
  },
  {
   "cell_type": "raw",
   "metadata": {},
   "source": [
    "7. The localization of proteins as reported in Fig. 4F and 4G seem largely irrelevant to the question of whether alternative isoforms drive multiple localizations. Do PhyloSET or RiboSET proteins have multiple localizations more often than proteins with no evidence for alternative translation?"
   ]
  },
  {
   "cell_type": "code",
   "execution_count": 568,
   "metadata": {},
   "outputs": [
    {
     "data": {
      "text/plain": [
       "(4265, 390, 60)"
      ]
     },
     "execution_count": 568,
     "metadata": {},
     "output_type": "execute_result"
    }
   ],
   "source": [
    "len(RiboSET_ext_genes), len(RiboSET_genes), len(PhyloSET_genes)"
   ]
  },
  {
   "cell_type": "code",
   "execution_count": 596,
   "metadata": {},
   "outputs": [
    {
     "name": "stdout",
     "output_type": "stream",
     "text": [
      "12804\n",
      "12086\n",
      "['Approved' 'Uncertain' 'Supported' 'Enhanced']\n"
     ]
    },
    {
     "data": {
      "text/html": [
       "<div>\n",
       "<style scoped>\n",
       "    .dataframe tbody tr th:only-of-type {\n",
       "        vertical-align: middle;\n",
       "    }\n",
       "\n",
       "    .dataframe tbody tr th {\n",
       "        vertical-align: top;\n",
       "    }\n",
       "\n",
       "    .dataframe thead th {\n",
       "        text-align: right;\n",
       "    }\n",
       "</style>\n",
       "<table border=\"1\" class=\"dataframe\">\n",
       "  <thead>\n",
       "    <tr style=\"text-align: right;\">\n",
       "      <th></th>\n",
       "      <th>gene</th>\n",
       "      <th>Main location</th>\n",
       "      <th>Additional location</th>\n",
       "      <th>Extracellular location</th>\n",
       "      <th>locations</th>\n",
       "    </tr>\n",
       "  </thead>\n",
       "  <tbody>\n",
       "    <tr>\n",
       "      <th>0</th>\n",
       "      <td>TSPAN6</td>\n",
       "      <td>Cell Junctions;Cytosol</td>\n",
       "      <td>Nucleoli fibrillar center</td>\n",
       "      <td>NaN</td>\n",
       "      <td>Cell Junctions;Cytosol;Nucleoli fibrillar center</td>\n",
       "    </tr>\n",
       "    <tr>\n",
       "      <th>2</th>\n",
       "      <td>C1orf112</td>\n",
       "      <td>Mitochondria</td>\n",
       "      <td>NaN</td>\n",
       "      <td>NaN</td>\n",
       "      <td>Mitochondria</td>\n",
       "    </tr>\n",
       "  </tbody>\n",
       "</table>\n",
       "</div>"
      ],
      "text/plain": [
       "       gene           Main location        Additional location  \\\n",
       "0    TSPAN6  Cell Junctions;Cytosol  Nucleoli fibrillar center   \n",
       "2  C1orf112            Mitochondria                        NaN   \n",
       "\n",
       "  Extracellular location                                         locations  \n",
       "0                    NaN  Cell Junctions;Cytosol;Nucleoli fibrillar center  \n",
       "2                    NaN                                      Mitochondria  "
      ]
     },
     "execution_count": 596,
     "metadata": {},
     "output_type": "execute_result"
    }
   ],
   "source": [
    "localisation_df = pd.read_csv('../data/subcellular_location.tsv', sep='\\t')\n",
    "\n",
    "print (localisation_df['Gene name'].nunique())\n",
    "print (localisation_df[localisation_df['Reliability'].isin(['Supported', 'Approved', 'Enhanced'])]['Gene name'].nunique())\n",
    "print (localisation_df['Reliability'].unique())\n",
    "\n",
    "# filter out uncertain location \n",
    "sel_loc = localisation_df[localisation_df['Reliability'].isin(['Supported', 'Approved', 'Enhanced'])][['Gene name',\n",
    "                                                                                                      'Main location',\n",
    "                                                                                                      'Additional location', 'Extracellular location']]\n",
    "\n",
    "sel_loc.columns = ['gene', 'Main location', 'Additional location', 'Extracellular location']\n",
    "\n",
    "sel_loc['locations'] = sel_loc['Main location'].astype(str)+';'+sel_loc['Additional location'].astype(str)+';'+sel_loc['Extracellular location'].astype(str)\n",
    "sel_loc['locations'] = sel_loc['locations'].str.replace('nan;', '').str.replace('nan', '').str.rstrip(';')\n",
    "\n",
    "sel_loc[0:2]"
   ]
  },
  {
   "cell_type": "code",
   "execution_count": null,
   "metadata": {},
   "outputs": [],
   "source": []
  },
  {
   "cell_type": "markdown",
   "metadata": {},
   "source": [
    "### PhyloSET to HPA loc "
   ]
  },
  {
   "cell_type": "code",
   "execution_count": 631,
   "metadata": {},
   "outputs": [],
   "source": [
    "truly_2diff_loc = [\n",
    " 'Cytosol;Actin filaments',\n",
    " 'Cytosol;Golgi apparatus;Plasma membrane',\n",
    " 'Cytosol;Nucleoplasm',\n",
    " 'Cytosol;Plasma membrane;Centrosome;Cytokinetic bridge;Nucleoplasm',\n",
    " 'Cytosol;Plasma membrane;Nucleoplasm',\n",
    " 'Intermediate filaments;Nucleoli;Nucleoplasm',\n",
    " 'Lysosomes;Vesicles',\n",
    " 'Mitochondria;Nuclear membrane',\n",
    " 'Mitochondria;Nucleoplasm',\n",
    " 'Nuclear membrane;Nucleoplasm',\n",
    " #'Nucleoli;Nucleoli rim;Nucleoplasm',\n",
    " #'Nucleoli;Nucleoplasm',\n",
    " 'Nucleoplasm;Cytosol',\n",
    " 'Nucleoplasm;Cytosol;Nucleoli fibrillar center',\n",
    " 'Nucleoplasm;Plasma membrane',\n",
    " 'Nucleoplasm;Plasma membrane;Cytosol;Vesicles',\n",
    " 'Nucleoplasm;Vesicles',\n",
    " 'Plasma membrane;Cytosol;Endoplasmic reticulum;Nucleoplasm',\n",
    " 'Plasma membrane;Vesicles',\n",
    " 'Vesicles;Nucleoplasm'\n",
    "  ]"
   ]
  },
  {
   "cell_type": "code",
   "execution_count": 670,
   "metadata": {},
   "outputs": [
    {
     "name": "stdout",
     "output_type": "stream",
     "text": [
      "59\n"
     ]
    },
    {
     "data": {
      "text/plain": [
       "(27.500000000000004, 12.5, 0.0, 2.5, 50.0)"
      ]
     },
     "execution_count": 670,
     "metadata": {},
     "output_type": "execute_result"
    }
   ],
   "source": [
    "PhyloSET_loc = PhyloSET.merge(sel_loc, on='gene', how='inner')\n",
    "print (PhyloSET_loc.shape[0])\n",
    "\n",
    "nucleoplasm_count = 0\n",
    "cytosol_count = 0\n",
    "Mitochondria_count = 0\n",
    "membrane_count = 0\n",
    "\n",
    "\n",
    "two_more_loc = 0\n",
    "\n",
    "all_locations = set()\n",
    "two_more_loc_ = set()\n",
    "\n",
    "for i,x in enumerate(PhyloSET_loc[['gene', 'locations']].drop_duplicates()['locations'].tolist()):\n",
    "   \n",
    "    #print (x)\n",
    "    for loc in x.split(';'):\n",
    "        all_locations.add(loc)\n",
    "    \n",
    "    if x == 'Nucleoplasm':\n",
    "        nucleoplasm_count += 1\n",
    "    if x == 'Cytosol':\n",
    "        cytosol_count += 1\n",
    "    if x == 'Mitochondria':\n",
    "        Mitochondria_count += 1\n",
    "    if x == 'Plasma membrane':\n",
    "        membrane_count += 1\n",
    "    if x == 'Vesicles':\n",
    "        Vesicles += 1\n",
    "        \n",
    "    if len(x.split(';')) >= 2:\n",
    "        #if x in truly_2diff_loc:\n",
    "        two_more_loc += 1\n",
    "        two_more_loc_.add(x)\n",
    "        \n",
    "\n",
    "\n",
    "n = PhyloSET_loc[['gene', 'locations']].drop_duplicates().shape[0]\n",
    "nucleoplasm_count/n*100, cytosol_count/n*100, Mitochondria_count/n*100, membrane_count/n*100, two_more_loc/n*100"
   ]
  },
  {
   "cell_type": "code",
   "execution_count": 671,
   "metadata": {},
   "outputs": [
    {
     "data": {
      "text/html": [
       "<div>\n",
       "<style scoped>\n",
       "    .dataframe tbody tr th:only-of-type {\n",
       "        vertical-align: middle;\n",
       "    }\n",
       "\n",
       "    .dataframe tbody tr th {\n",
       "        vertical-align: top;\n",
       "    }\n",
       "\n",
       "    .dataframe thead th {\n",
       "        text-align: right;\n",
       "    }\n",
       "</style>\n",
       "<table border=\"1\" class=\"dataframe\">\n",
       "  <thead>\n",
       "    <tr style=\"text-align: right;\">\n",
       "      <th></th>\n",
       "      <th>PhyloSET</th>\n",
       "    </tr>\n",
       "  </thead>\n",
       "  <tbody>\n",
       "    <tr>\n",
       "      <th>&gt;=2 locations</th>\n",
       "      <td>50</td>\n",
       "    </tr>\n",
       "    <tr>\n",
       "      <th>1 location</th>\n",
       "      <td>50</td>\n",
       "    </tr>\n",
       "  </tbody>\n",
       "</table>\n",
       "</div>"
      ],
      "text/plain": [
       "               PhyloSET\n",
       ">=2 locations        50\n",
       "1 location           50"
      ]
     },
     "execution_count": 671,
     "metadata": {},
     "output_type": "execute_result"
    }
   ],
   "source": [
    "perc_PhyloSET = pd.DataFrame([50, 50], \n",
    "                   index=['>=2 locations', '1 location'])\n",
    "                       \n",
    "perc_PhyloSET.columns = ['PhyloSET']\n",
    "\n",
    "perc_PhyloSET"
   ]
  },
  {
   "cell_type": "code",
   "execution_count": null,
   "metadata": {},
   "outputs": [],
   "source": []
  },
  {
   "cell_type": "markdown",
   "metadata": {},
   "source": [
    "### RiboSET loc HPA"
   ]
  },
  {
   "cell_type": "code",
   "execution_count": 672,
   "metadata": {},
   "outputs": [
    {
     "name": "stdout",
     "output_type": "stream",
     "text": [
      "317\n"
     ]
    },
    {
     "data": {
      "text/plain": [
       "(14.195583596214512,\n",
       " 12.302839116719243,\n",
       " 4.100946372239748,\n",
       " 1.8927444794952681,\n",
       " 52.6813880126183)"
      ]
     },
     "execution_count": 672,
     "metadata": {},
     "output_type": "execute_result"
    }
   ],
   "source": [
    "RiboSET_loc = RiboSET.merge(sel_loc, on='gene', how='inner')\n",
    "print (RiboSET_loc.shape[0])\n",
    "\n",
    "nucleoplasm_count = 0\n",
    "cytosol_count = 0\n",
    "Mitochondria_count = 0\n",
    "membrane_count = 0\n",
    "\n",
    "two_more_loc = 0\n",
    "two_more_loc_ = set()\n",
    "\n",
    "all_locations = set()\n",
    "\n",
    "for i,x in enumerate(RiboSET_loc['locations'].tolist()):\n",
    "    \n",
    "    for loc in x.split(';'):\n",
    "        all_locations.add(loc)\n",
    "    \n",
    "    if x == 'Nucleoplasm':\n",
    "        nucleoplasm_count += 1\n",
    "    if x == 'Cytosol':\n",
    "        cytosol_count += 1\n",
    "    if x == 'Mitochondria':\n",
    "        Mitochondria_count += 1\n",
    "    if x == 'Plasma membrane':\n",
    "        membrane_count += 1\n",
    "        \n",
    "    if len(x.split(';')) >= 2:\n",
    "        two_more_loc += 1\n",
    "        two_more_loc_.add(x)\n",
    "        #if x in truly_2diff_loc:\n",
    "            #two_more_loc += 1\n",
    "\n",
    "n = RiboSET_loc.shape[0]\n",
    "nucleoplasm_count/n*100, cytosol_count/n*100, Mitochondria_count/n*100, membrane_count/n*100, two_more_loc/n*100"
   ]
  },
  {
   "cell_type": "code",
   "execution_count": 673,
   "metadata": {},
   "outputs": [
    {
     "data": {
      "text/html": [
       "<div>\n",
       "<style scoped>\n",
       "    .dataframe tbody tr th:only-of-type {\n",
       "        vertical-align: middle;\n",
       "    }\n",
       "\n",
       "    .dataframe tbody tr th {\n",
       "        vertical-align: top;\n",
       "    }\n",
       "\n",
       "    .dataframe thead th {\n",
       "        text-align: right;\n",
       "    }\n",
       "</style>\n",
       "<table border=\"1\" class=\"dataframe\">\n",
       "  <thead>\n",
       "    <tr style=\"text-align: right;\">\n",
       "      <th></th>\n",
       "      <th>RiboSET</th>\n",
       "    </tr>\n",
       "  </thead>\n",
       "  <tbody>\n",
       "    <tr>\n",
       "      <th>&gt;=2 locations</th>\n",
       "      <td>52.68</td>\n",
       "    </tr>\n",
       "    <tr>\n",
       "      <th>1 location</th>\n",
       "      <td>47.32</td>\n",
       "    </tr>\n",
       "  </tbody>\n",
       "</table>\n",
       "</div>"
      ],
      "text/plain": [
       "               RiboSET\n",
       ">=2 locations    52.68\n",
       "1 location       47.32"
      ]
     },
     "execution_count": 673,
     "metadata": {},
     "output_type": "execute_result"
    }
   ],
   "source": [
    "perc_RiboSET = pd.DataFrame([52.68, 100-52.68], \n",
    "                   index=['>=2 locations', '1 location'])\n",
    "                       \n",
    "perc_RiboSET.columns = ['RiboSET']\n",
    "\n",
    "perc_RiboSET"
   ]
  },
  {
   "cell_type": "code",
   "execution_count": null,
   "metadata": {},
   "outputs": [],
   "source": []
  },
  {
   "cell_type": "code",
   "execution_count": null,
   "metadata": {},
   "outputs": [],
   "source": []
  },
  {
   "cell_type": "code",
   "execution_count": null,
   "metadata": {},
   "outputs": [],
   "source": []
  },
  {
   "cell_type": "markdown",
   "metadata": {},
   "source": [
    "### Match 392 loc"
   ]
  },
  {
   "cell_type": "code",
   "execution_count": 674,
   "metadata": {},
   "outputs": [
    {
     "data": {
      "text/plain": [
       "(8.360128617363344,\n",
       " 8.681672025723474,\n",
       " 8.360128617363344,\n",
       " 1.929260450160772,\n",
       " 57.234726688102896)"
      ]
     },
     "execution_count": 674,
     "metadata": {},
     "output_type": "execute_result"
    }
   ],
   "source": [
    "tmp = meta[['tr_id1', 'gene']]\n",
    "tmp.columns = ['tr_id', 'gene']\n",
    "Match_392_loc = pairs_392_final[['tr_id']].merge(tmp, on='tr_id', how='inner').merge(sel_loc, on='gene', how='inner')\n",
    "\n",
    "nucleoplasm_count = 0\n",
    "cytosol_count = 0\n",
    "Mitochondria_count = 0\n",
    "membrane_count = 0\n",
    "\n",
    "two_more_loc = 0\n",
    "\n",
    "all_locations = set()\n",
    "\n",
    "for i,x in enumerate(Match_392_loc['locations'].tolist()):\n",
    "    \n",
    "    for loc in x.split(';'):\n",
    "        all_locations.add(loc)\n",
    "    \n",
    "    if x == 'Nucleoplasm':\n",
    "        nucleoplasm_count += 1\n",
    "    if x == 'Cytosol':\n",
    "        cytosol_count += 1\n",
    "    if x == 'Mitochondria':\n",
    "        Mitochondria_count += 1\n",
    "    if x == 'Plasma membrane':\n",
    "        membrane_count += 1\n",
    "        \n",
    "    if len(x.split(';')) >= 2:\n",
    "        two_more_loc += 1\n",
    "        #if x in truly_2diff_loc:\n",
    "            #two_more_loc += 1\n",
    "        \n",
    "n = Match_392_loc['locations'].shape[0]\n",
    "nucleoplasm_count/n*100, cytosol_count/n*100, Mitochondria_count/n*100, membrane_count/n*100, two_more_loc/n*100"
   ]
  },
  {
   "cell_type": "code",
   "execution_count": 675,
   "metadata": {},
   "outputs": [
    {
     "data": {
      "text/html": [
       "<div>\n",
       "<style scoped>\n",
       "    .dataframe tbody tr th:only-of-type {\n",
       "        vertical-align: middle;\n",
       "    }\n",
       "\n",
       "    .dataframe tbody tr th {\n",
       "        vertical-align: top;\n",
       "    }\n",
       "\n",
       "    .dataframe thead th {\n",
       "        text-align: right;\n",
       "    }\n",
       "</style>\n",
       "<table border=\"1\" class=\"dataframe\">\n",
       "  <thead>\n",
       "    <tr style=\"text-align: right;\">\n",
       "      <th></th>\n",
       "      <th>untransl</th>\n",
       "    </tr>\n",
       "  </thead>\n",
       "  <tbody>\n",
       "    <tr>\n",
       "      <th>&gt;=2 locations</th>\n",
       "      <td>57.23</td>\n",
       "    </tr>\n",
       "    <tr>\n",
       "      <th>1 location</th>\n",
       "      <td>42.77</td>\n",
       "    </tr>\n",
       "  </tbody>\n",
       "</table>\n",
       "</div>"
      ],
      "text/plain": [
       "               untransl\n",
       ">=2 locations     57.23\n",
       "1 location        42.77"
      ]
     },
     "execution_count": 675,
     "metadata": {},
     "output_type": "execute_result"
    }
   ],
   "source": [
    "perc_match = pd.DataFrame([57.23, 100-57.23], \n",
    "                   index=['>=2 locations', '1 location'])\n",
    "                       \n",
    "perc_match.columns = ['untransl']\n",
    "\n",
    "perc_match"
   ]
  },
  {
   "cell_type": "code",
   "execution_count": null,
   "metadata": {},
   "outputs": [],
   "source": []
  },
  {
   "cell_type": "code",
   "execution_count": 677,
   "metadata": {},
   "outputs": [
    {
     "data": {
      "text/html": [
       "<div>\n",
       "<style scoped>\n",
       "    .dataframe tbody tr th:only-of-type {\n",
       "        vertical-align: middle;\n",
       "    }\n",
       "\n",
       "    .dataframe tbody tr th {\n",
       "        vertical-align: top;\n",
       "    }\n",
       "\n",
       "    .dataframe thead th {\n",
       "        text-align: right;\n",
       "    }\n",
       "</style>\n",
       "<table border=\"1\" class=\"dataframe\">\n",
       "  <thead>\n",
       "    <tr style=\"text-align: right;\">\n",
       "      <th></th>\n",
       "      <th>type</th>\n",
       "      <th>subset</th>\n",
       "      <th>fraction</th>\n",
       "    </tr>\n",
       "  </thead>\n",
       "  <tbody>\n",
       "    <tr>\n",
       "      <th>0</th>\n",
       "      <td>&gt;=2 locations</td>\n",
       "      <td>untransl</td>\n",
       "      <td>57.23</td>\n",
       "    </tr>\n",
       "    <tr>\n",
       "      <th>1</th>\n",
       "      <td>1 location</td>\n",
       "      <td>untransl</td>\n",
       "      <td>42.77</td>\n",
       "    </tr>\n",
       "    <tr>\n",
       "      <th>2</th>\n",
       "      <td>&gt;=2 locations</td>\n",
       "      <td>RiboSET</td>\n",
       "      <td>52.68</td>\n",
       "    </tr>\n",
       "    <tr>\n",
       "      <th>3</th>\n",
       "      <td>1 location</td>\n",
       "      <td>RiboSET</td>\n",
       "      <td>47.32</td>\n",
       "    </tr>\n",
       "    <tr>\n",
       "      <th>4</th>\n",
       "      <td>&gt;=2 locations</td>\n",
       "      <td>PhyloSET</td>\n",
       "      <td>50.00</td>\n",
       "    </tr>\n",
       "    <tr>\n",
       "      <th>5</th>\n",
       "      <td>1 location</td>\n",
       "      <td>PhyloSET</td>\n",
       "      <td>50.00</td>\n",
       "    </tr>\n",
       "  </tbody>\n",
       "</table>\n",
       "</div>"
      ],
      "text/plain": [
       "            type    subset  fraction\n",
       "0  >=2 locations  untransl     57.23\n",
       "1     1 location  untransl     42.77\n",
       "2  >=2 locations   RiboSET     52.68\n",
       "3     1 location   RiboSET     47.32\n",
       "4  >=2 locations  PhyloSET     50.00\n",
       "5     1 location  PhyloSET     50.00"
      ]
     },
     "execution_count": 677,
     "metadata": {},
     "output_type": "execute_result"
    }
   ],
   "source": [
    "tmp = pd.concat([perc_match, perc_RiboSET, perc_PhyloSET], axis=1).reset_index()\n",
    "\n",
    "tmp2 = pd.melt(tmp, id_vars='index', value_vars=['untransl', 'RiboSET', 'PhyloSET'])\n",
    "\n",
    "tmp2.columns = ['type', 'subset', 'fraction']\n",
    "\n",
    "tmp2"
   ]
  },
  {
   "cell_type": "code",
   "execution_count": 695,
   "metadata": {},
   "outputs": [
    {
     "data": {
      "text/plain": [
       "<seaborn.axisgrid.FacetGrid at 0x7f7a20a5bdd0>"
      ]
     },
     "execution_count": 695,
     "metadata": {},
     "output_type": "execute_result"
    },
    {
     "data": {
      "image/png": "[encoded data removed]",
      "text/plain": [
       "<Figure size 486.19x360 with 1 Axes>"
      ]
     },
     "metadata": {},
     "output_type": "display_data"
    }
   ],
   "source": [
    "#fig,ax = plt.subplots(figsize=(5,5))\n",
    "\n",
    "sns.set(font_scale = 1.4)\n",
    "sns.set_style(\"white\")\n",
    "\n",
    "g = sns.catplot(x = \"type\",       # x variable name\n",
    "            y = \"fraction\",       # y variable name\n",
    "            hue = \"subset\",  # group variable name\n",
    "            data = tmp2,     # dataframe to plot\n",
    "            kind = \"bar\")\n",
    "\n",
    "# We change the fontsize of minor ticks label \n",
    "#ax.tick_params(axis='both', which='major', labelsize=15, rotation = 0)\n",
    "#ax.tick_params(axis='both', which='minor', labelsize=15)\n",
    "\n",
    "\n",
    "g.set_axis_labels(x_var=\"type\", y_var=\"percetage\", fontsize=16)"
   ]
  },
  {
   "cell_type": "code",
   "execution_count": null,
   "metadata": {},
   "outputs": [],
   "source": []
  },
  {
   "cell_type": "markdown",
   "metadata": {},
   "source": [
    "### RiboSET ext "
   ]
  },
  {
   "cell_type": "code",
   "execution_count": 698,
   "metadata": {},
   "outputs": [],
   "source": [
    "tmp = RiboSET_ext[['tr_id']]\n",
    "tmp.columns = ['tr_id1']\n",
    "RiboSET_ext_genes = tmp.merge(meta[['tr_id1', 'gene']], on='tr_id1', how='inner')"
   ]
  },
  {
   "cell_type": "code",
   "execution_count": 699,
   "metadata": {},
   "outputs": [
    {
     "name": "stdout",
     "output_type": "stream",
     "text": [
      "2969\n"
     ]
    },
    {
     "data": {
      "text/plain": [
       "(14.179858538228359,\n",
       " 7.443583698214887,\n",
       " 4.041764904008083,\n",
       " 2.3913775682047826,\n",
       " 58.268777366116545)"
      ]
     },
     "execution_count": 699,
     "metadata": {},
     "output_type": "execute_result"
    }
   ],
   "source": [
    "RiboSET_ext_loc = RiboSET_ext_genes.merge(sel_loc, on='gene', how='inner')\n",
    "print (RiboSET_ext_loc.shape[0])\n",
    "\n",
    "nucleoplasm_count = 0\n",
    "cytosol_count = 0\n",
    "Mitochondria_count = 0\n",
    "membrane_count = 0\n",
    "\n",
    "two_more_loc = 0\n",
    "two_more_loc_ = set()\n",
    "\n",
    "all_locations = set()\n",
    "\n",
    "for i,x in enumerate(RiboSET_ext_loc['locations'].tolist()):\n",
    "    \n",
    "    for loc in x.split(';'):\n",
    "        all_locations.add(loc)\n",
    "    \n",
    "    if x == 'Nucleoplasm':\n",
    "        nucleoplasm_count += 1\n",
    "    if x == 'Cytosol':\n",
    "        cytosol_count += 1\n",
    "    if x == 'Mitochondria':\n",
    "        Mitochondria_count += 1\n",
    "    if x == 'Plasma membrane':\n",
    "        membrane_count += 1\n",
    "        \n",
    "    if len(x.split(';')) >= 2:\n",
    "        two_more_loc += 1\n",
    "        two_more_loc_.add(x)\n",
    "        #if x in truly_2diff_loc:\n",
    "            #two_more_loc += 1\n",
    "\n",
    "n = RiboSET_ext_loc.shape[0]\n",
    "nucleoplasm_count/n*100, cytosol_count/n*100, Mitochondria_count/n*100, membrane_count/n*100, two_more_loc/n*100"
   ]
  },
  {
   "cell_type": "code",
   "execution_count": 705,
   "metadata": {},
   "outputs": [
    {
     "data": {
      "text/html": [
       "<div>\n",
       "<style scoped>\n",
       "    .dataframe tbody tr th:only-of-type {\n",
       "        vertical-align: middle;\n",
       "    }\n",
       "\n",
       "    .dataframe tbody tr th {\n",
       "        vertical-align: top;\n",
       "    }\n",
       "\n",
       "    .dataframe thead th {\n",
       "        text-align: right;\n",
       "    }\n",
       "</style>\n",
       "<table border=\"1\" class=\"dataframe\">\n",
       "  <thead>\n",
       "    <tr style=\"text-align: right;\">\n",
       "      <th></th>\n",
       "      <th>RiboSET_ext</th>\n",
       "    </tr>\n",
       "  </thead>\n",
       "  <tbody>\n",
       "    <tr>\n",
       "      <th>&gt;=2 locations</th>\n",
       "      <td>58.268</td>\n",
       "    </tr>\n",
       "    <tr>\n",
       "      <th>1 location</th>\n",
       "      <td>41.732</td>\n",
       "    </tr>\n",
       "  </tbody>\n",
       "</table>\n",
       "</div>"
      ],
      "text/plain": [
       "               RiboSET_ext\n",
       ">=2 locations       58.268\n",
       "1 location          41.732"
      ]
     },
     "execution_count": 705,
     "metadata": {},
     "output_type": "execute_result"
    }
   ],
   "source": [
    "RiboSET_ext_loc_df = pd.DataFrame([58.268, 100-58.268], \n",
    "                   index=['>=2 locations', '1 location'])\n",
    "                       \n",
    "RiboSET_ext_loc_df.columns = ['RiboSET_ext']\n",
    "\n",
    "RiboSET_ext_loc_df"
   ]
  },
  {
   "cell_type": "markdown",
   "metadata": {},
   "source": [
    "### Matching ext "
   ]
  },
  {
   "cell_type": "code",
   "execution_count": 706,
   "metadata": {},
   "outputs": [
    {
     "data": {
      "text/plain": [
       "(11.550268610897927,\n",
       " 7.252494244052188,\n",
       " 4.336147352264006,\n",
       " 2.83960092095165,\n",
       " 61.128165771297006)"
      ]
     },
     "execution_count": 706,
     "metadata": {},
     "output_type": "execute_result"
    }
   ],
   "source": [
    "tmp = meta[['tr_id1', 'gene']]\n",
    "tmp.columns = ['tr_id', 'gene']\n",
    "Match_4k_loc = pairs_4k_final[['tr_id']].merge(tmp, on='tr_id', how='inner').merge(sel_loc, on='gene', how='inner')\n",
    "\n",
    "nucleoplasm_count = 0\n",
    "cytosol_count = 0\n",
    "Mitochondria_count = 0\n",
    "membrane_count = 0\n",
    "\n",
    "two_more_loc = 0\n",
    "\n",
    "all_locations = set()\n",
    "\n",
    "for i,x in enumerate(Match_4k_loc['locations'].tolist()):\n",
    "    \n",
    "    for loc in x.split(';'):\n",
    "        all_locations.add(loc)\n",
    "    \n",
    "    if x == 'Nucleoplasm':\n",
    "        nucleoplasm_count += 1\n",
    "    if x == 'Cytosol':\n",
    "        cytosol_count += 1\n",
    "    if x == 'Mitochondria':\n",
    "        Mitochondria_count += 1\n",
    "    if x == 'Plasma membrane':\n",
    "        membrane_count += 1\n",
    "        \n",
    "    if len(x.split(';')) >= 2:\n",
    "        two_more_loc += 1\n",
    "        #if x in truly_2diff_loc:\n",
    "            #two_more_loc += 1\n",
    "        \n",
    "n = Match_4k_loc['locations'].shape[0]\n",
    "nucleoplasm_count/n*100, cytosol_count/n*100, Mitochondria_count/n*100, membrane_count/n*100, two_more_loc/n*100"
   ]
  },
  {
   "cell_type": "code",
   "execution_count": 707,
   "metadata": {},
   "outputs": [
    {
     "data": {
      "text/html": [
       "<div>\n",
       "<style scoped>\n",
       "    .dataframe tbody tr th:only-of-type {\n",
       "        vertical-align: middle;\n",
       "    }\n",
       "\n",
       "    .dataframe tbody tr th {\n",
       "        vertical-align: top;\n",
       "    }\n",
       "\n",
       "    .dataframe thead th {\n",
       "        text-align: right;\n",
       "    }\n",
       "</style>\n",
       "<table border=\"1\" class=\"dataframe\">\n",
       "  <thead>\n",
       "    <tr style=\"text-align: right;\">\n",
       "      <th></th>\n",
       "      <th>untransl</th>\n",
       "    </tr>\n",
       "  </thead>\n",
       "  <tbody>\n",
       "    <tr>\n",
       "      <th>&gt;=2 locations</th>\n",
       "      <td>61.12</td>\n",
       "    </tr>\n",
       "    <tr>\n",
       "      <th>1 location</th>\n",
       "      <td>38.88</td>\n",
       "    </tr>\n",
       "  </tbody>\n",
       "</table>\n",
       "</div>"
      ],
      "text/plain": [
       "               untransl\n",
       ">=2 locations     61.12\n",
       "1 location        38.88"
      ]
     },
     "execution_count": 707,
     "metadata": {},
     "output_type": "execute_result"
    }
   ],
   "source": [
    "perc_match = pd.DataFrame([61.12, 100-61.12], \n",
    "                   index=['>=2 locations', '1 location'])\n",
    "                       \n",
    "perc_match.columns = ['untransl']\n",
    "\n",
    "perc_match"
   ]
  },
  {
   "cell_type": "code",
   "execution_count": 709,
   "metadata": {},
   "outputs": [
    {
     "data": {
      "text/html": [
       "<div>\n",
       "<style scoped>\n",
       "    .dataframe tbody tr th:only-of-type {\n",
       "        vertical-align: middle;\n",
       "    }\n",
       "\n",
       "    .dataframe tbody tr th {\n",
       "        vertical-align: top;\n",
       "    }\n",
       "\n",
       "    .dataframe thead th {\n",
       "        text-align: right;\n",
       "    }\n",
       "</style>\n",
       "<table border=\"1\" class=\"dataframe\">\n",
       "  <thead>\n",
       "    <tr style=\"text-align: right;\">\n",
       "      <th></th>\n",
       "      <th>type</th>\n",
       "      <th>subset</th>\n",
       "      <th>fraction</th>\n",
       "    </tr>\n",
       "  </thead>\n",
       "  <tbody>\n",
       "    <tr>\n",
       "      <th>0</th>\n",
       "      <td>&gt;=2 locations</td>\n",
       "      <td>untransl</td>\n",
       "      <td>61.120</td>\n",
       "    </tr>\n",
       "    <tr>\n",
       "      <th>1</th>\n",
       "      <td>1 location</td>\n",
       "      <td>untransl</td>\n",
       "      <td>38.880</td>\n",
       "    </tr>\n",
       "    <tr>\n",
       "      <th>2</th>\n",
       "      <td>&gt;=2 locations</td>\n",
       "      <td>RiboSET_ext</td>\n",
       "      <td>58.268</td>\n",
       "    </tr>\n",
       "    <tr>\n",
       "      <th>3</th>\n",
       "      <td>1 location</td>\n",
       "      <td>RiboSET_ext</td>\n",
       "      <td>41.732</td>\n",
       "    </tr>\n",
       "  </tbody>\n",
       "</table>\n",
       "</div>"
      ],
      "text/plain": [
       "            type       subset  fraction\n",
       "0  >=2 locations     untransl    61.120\n",
       "1     1 location     untransl    38.880\n",
       "2  >=2 locations  RiboSET_ext    58.268\n",
       "3     1 location  RiboSET_ext    41.732"
      ]
     },
     "execution_count": 709,
     "metadata": {},
     "output_type": "execute_result"
    }
   ],
   "source": [
    "tmp = pd.concat([perc_match, RiboSET_ext_loc_df], axis=1).reset_index()\n",
    "\n",
    "tmp2 = pd.melt(tmp, id_vars='index', value_vars=['untransl', 'RiboSET_ext'])\n",
    "\n",
    "tmp2.columns = ['type', 'subset', 'fraction']\n",
    "\n",
    "tmp2"
   ]
  },
  {
   "cell_type": "code",
   "execution_count": 723,
   "metadata": {},
   "outputs": [
    {
     "name": "stderr",
     "output_type": "stream",
     "text": [
      "/home/alla/anaconda3/lib/python3.7/site-packages/seaborn/categorical.py:3750: UserWarning: The `size` parameter has been renamed to `height`; please update your code.\n",
      "  warnings.warn(msg, UserWarning)\n"
     ]
    },
    {
     "data": {
      "text/plain": [
       "<seaborn.axisgrid.FacetGrid at 0x7f7a203a7e90>"
      ]
     },
     "execution_count": 723,
     "metadata": {},
     "output_type": "execute_result"
    },
    {
     "data": {
      "image/png": "[encoded data removed]",
      "text/plain": [
       "<Figure size 417.395x288 with 1 Axes>"
      ]
     },
     "metadata": {},
     "output_type": "display_data"
    }
   ],
   "source": [
    "#fig,ax = plt.subplots(figsize=(5,5))\n",
    "\n",
    "sns.set(font_scale = 1.2)\n",
    "sns.set_style(\"white\")\n",
    "\n",
    "g = sns.catplot(x = \"type\",       # x variable name\n",
    "            y = \"fraction\",       # y variable name\n",
    "            hue = \"subset\",  # group variable name\n",
    "            data = tmp2,     # dataframe to plot\n",
    "            kind = \"bar\",\n",
    "               size=4, aspect=1)\n",
    "\n",
    "# We change the fontsize of minor ticks label \n",
    "#ax.tick_params(axis='both', which='major', labelsize=15, rotation = 0)\n",
    "#ax.tick_params(axis='both', which='minor', labelsize=15)\n",
    "\n",
    "\n",
    "g.set_axis_labels(x_var=\"type\", y_var=\"percetage\", fontsize=14)"
   ]
  },
  {
   "cell_type": "code",
   "execution_count": null,
   "metadata": {},
   "outputs": [],
   "source": []
  },
  {
   "cell_type": "code",
   "execution_count": null,
   "metadata": {},
   "outputs": [],
   "source": []
  },
  {
   "cell_type": "code",
   "execution_count": null,
   "metadata": {},
   "outputs": [],
   "source": []
  },
  {
   "cell_type": "raw",
   "metadata": {},
   "source": [
    "Likewise, the key question for upstream extensions seems to be whether SignalP, TargetP, or TMHMM detection is more common in translated/conserved upstream extensions than in equivalent, non-coding 5' UTR sequence. Notably a significant fraction of random sequences encode secretion signals (doi://10.1126/science.3541205)."
   ]
  },
  {
   "cell_type": "markdown",
   "metadata": {},
   "source": [
    "SignalP, TargetP, or TMHMM detection on RiboSET and untr_matched_sets "
   ]
  },
  {
   "cell_type": "markdown",
   "metadata": {},
   "source": [
    "## RiboSET SignalP parse "
   ]
  },
  {
   "cell_type": "code",
   "execution_count": 740,
   "metadata": {},
   "outputs": [],
   "source": [
    "from Bio.Seq import Seq\n",
    "\n",
    "RiboSET['start_codon_local_coo_start'] = [int(x.split('; ')[1].split('-')[0])-1 for x in RiboSET['Riboseq_Summary'].tolist()]"
   ]
  },
  {
   "cell_type": "code",
   "execution_count": 741,
   "metadata": {},
   "outputs": [
    {
     "name": "stderr",
     "output_type": "stream",
     "text": [
      "/home/alla/anaconda3/lib/python3.7/site-packages/Bio/Seq.py:2859: BiopythonWarning: Partial codon, len(sequence) not a multiple of three. Explicitly trim the sequence or add trailing N before translation. This may become an error in future.\n",
      "  BiopythonWarning,\n"
     ]
    }
   ],
   "source": [
    "riboset_fasta = open('../data/tmhmm_and_phobius_data/riboset.fasta', 'w')\n",
    "\n",
    "li = []\n",
    "\n",
    "for row in RiboSET[['tr_id', 'gene', 'N_term_start1', 'N_term_end1', 'start_codon_local_coo_start']].to_numpy():\n",
    "    tr_id  = row[0]\n",
    "    gene = row[1]\n",
    "    N_term_start = row[2]\n",
    "    N_term_stop = row[3]\n",
    "    N_term_start_pred = row[-1] - 1\n",
    "    tr_seq = metadata_pc_g25[metadata_pc_g25['tr_id'] == tr_id].iloc[0].transcript_seq \n",
    "    cds_stop = metadata_pc_g25[metadata_pc_g25['tr_id'] == tr_id].iloc[0].cds_stop_pos\n",
    "    cds_start = metadata_pc_g25[metadata_pc_g25['tr_id'] == tr_id].iloc[0].cds_start_pos\n",
    "    \n",
    "    nte_seq_nt1 = tr_seq[N_term_start:cds_stop]\n",
    "    nte_seq_nt2 = tr_seq[N_term_start_pred:cds_stop]\n",
    "    \n",
    "    nte_seq_aa1 = str(Seq(nte_seq_nt1).translate())\n",
    "    nte_seq_aa2 = 'M'+str(Seq(nte_seq_nt2).translate())[1:]\n",
    "    \n",
    "    # position of CDS in NTE_aa: \n",
    "    # 5'    N_term_start_pred    cds_start_pos\n",
    "    # \n",
    "    cds_start_aa_in_ext2 = (cds_start - N_term_start_pred) // 3\n",
    "    \n",
    "    li.append([tr_id, gene, nte_seq_aa1, nte_seq_aa2, cds_start_aa_in_ext2, \n",
    "              cds_start_aa_in_ext2])\n",
    "    \n",
    "    riboset_fasta.write('>'+tr_id+'_'+gene+'\\n')\n",
    "    riboset_fasta.write(nte_seq_aa2[:-1]+'\\n')\n",
    "  \n",
    "riboset_fasta.close()\n",
    "        \n",
    "NTE_aa_df_ribo = pd.DataFrame(li, columns = ['tr_id', 'gene', 'nte_seq_aa1', 'nte_seq_aa2',\n",
    "                                       'cds_start_aa_in_ext2', 'ext_len'])\n"
   ]
  },
  {
   "cell_type": "code",
   "execution_count": 742,
   "metadata": {},
   "outputs": [
    {
     "name": "stdout",
     "output_type": "stream",
     "text": [
      "# of genes with pred signalP from RiboSET\n"
     ]
    },
    {
     "data": {
      "text/plain": [
       "28"
      ]
     },
     "execution_count": 742,
     "metadata": {},
     "output_type": "execute_result"
    }
   ],
   "source": [
    "signalP_df_r = pd.read_csv('../data/SignalP_RiboSET_output_protein_type.txt', sep='\\t', comment='#', header=None)\n",
    "signalP_df_r.columns = ['id', 'class', 'SP_score', 'Other_score', 'SP_seq']\n",
    "signalP_df_r['tr_id'] = [x.split('_')[0] for x in signalP_df_r['id'].tolist()]\n",
    "signalP_df_r['gene'] = [x.split('_')[-1] for x in signalP_df_r['id'].tolist()]\n",
    "\n",
    "# exclude AUGs \n",
    "signalP_df_r = signalP_df_r[~signalP_df_r['gene'].isin(['STIM2', 'AP3S1', 'PTPRJ'])]\n",
    "\n",
    "print ('# of genes with pred signalP from RiboSET')\n",
    "signalP_df_r[(signalP_df_r['class'] != 'OTHER') & \n",
    "             (signalP_df_r['SP_seq'] != 'CS pos: ?. Probable protein fragment')].gene.nunique()"
   ]
  },
  {
   "cell_type": "code",
   "execution_count": 744,
   "metadata": {},
   "outputs": [
    {
     "name": "stderr",
     "output_type": "stream",
     "text": [
      "/home/alla/.local/lib/python3.7/site-packages/ipykernel_launcher.py:3: SettingWithCopyWarning: \n",
      "A value is trying to be set on a copy of a slice from a DataFrame.\n",
      "Try using .loc[row_indexer,col_indexer] = value instead\n",
      "\n",
      "See the caveats in the documentation: https://pandas.pydata.org/pandas-docs/stable/user_guide/indexing.html#returning-a-view-versus-a-copy\n",
      "  This is separate from the ipykernel package so we can avoid doing imports until\n"
     ]
    },
    {
     "data": {
      "text/html": [
       "<div>\n",
       "<style scoped>\n",
       "    .dataframe tbody tr th:only-of-type {\n",
       "        vertical-align: middle;\n",
       "    }\n",
       "\n",
       "    .dataframe tbody tr th {\n",
       "        vertical-align: top;\n",
       "    }\n",
       "\n",
       "    .dataframe thead th {\n",
       "        text-align: right;\n",
       "    }\n",
       "</style>\n",
       "<table border=\"1\" class=\"dataframe\">\n",
       "  <thead>\n",
       "    <tr style=\"text-align: right;\">\n",
       "      <th></th>\n",
       "      <th>id</th>\n",
       "      <th>class</th>\n",
       "      <th>SP_score</th>\n",
       "      <th>Other_score</th>\n",
       "      <th>SP_seq</th>\n",
       "      <th>tr_id</th>\n",
       "      <th>gene</th>\n",
       "      <th>SP_end_pos</th>\n",
       "      <th>cds_start_aa_in_ext2</th>\n",
       "      <th>SP_start_pos</th>\n",
       "    </tr>\n",
       "  </thead>\n",
       "  <tbody>\n",
       "    <tr>\n",
       "      <th>0</th>\n",
       "      <td>ENST00000399728.5_STMN1</td>\n",
       "      <td>SP(Sec/SPI)</td>\n",
       "      <td>0.769171</td>\n",
       "      <td>0.230829</td>\n",
       "      <td>CS pos: 19-20. ASS-DI. Pr: 0.6043</td>\n",
       "      <td>ENST00000399728.5</td>\n",
       "      <td>STMN1</td>\n",
       "      <td>19</td>\n",
       "      <td>15</td>\n",
       "      <td>3</td>\n",
       "    </tr>\n",
       "    <tr>\n",
       "      <th>1</th>\n",
       "      <td>ENST00000370109.7_DPH5</td>\n",
       "      <td>SP(Sec/SPI)</td>\n",
       "      <td>0.687048</td>\n",
       "      <td>0.312952</td>\n",
       "      <td>CS pos: 25-26. GDA-KD. Pr: 0.5493</td>\n",
       "      <td>ENST00000370109.7</td>\n",
       "      <td>DPH5</td>\n",
       "      <td>25</td>\n",
       "      <td>13</td>\n",
       "      <td>9</td>\n",
       "    </tr>\n",
       "  </tbody>\n",
       "</table>\n",
       "</div>"
      ],
      "text/plain": [
       "                        id        class  SP_score  Other_score  \\\n",
       "0  ENST00000399728.5_STMN1  SP(Sec/SPI)  0.769171     0.230829   \n",
       "1   ENST00000370109.7_DPH5  SP(Sec/SPI)  0.687048     0.312952   \n",
       "\n",
       "                              SP_seq              tr_id   gene  SP_end_pos  \\\n",
       "0  CS pos: 19-20. ASS-DI. Pr: 0.6043  ENST00000399728.5  STMN1          19   \n",
       "1  CS pos: 25-26. GDA-KD. Pr: 0.5493  ENST00000370109.7   DPH5          25   \n",
       "\n",
       "   cds_start_aa_in_ext2  SP_start_pos  \n",
       "0                    15             3  \n",
       "1                    13             9  "
      ]
     },
     "execution_count": 744,
     "metadata": {},
     "output_type": "execute_result"
    }
   ],
   "source": [
    "tmp = signalP_df_r[(signalP_df_r['class'] != 'OTHER') & \n",
    "                              (signalP_df_r['SP_seq'] != 'CS pos: ?. Probable protein fragment')]\n",
    "tmp['SP_end_pos'] = [int(x.split('CS pos: ')[1].split('-')[0]) for x in tmp['SP_seq'].tolist()]\n",
    "\n",
    "tmp = tmp.merge(NTE_aa_df_ribo[['tr_id', 'gene', 'cds_start_aa_in_ext2']], on=['tr_id', 'gene'], how='inner')\n",
    "\n",
    "tmp['SP_start_pos'] = tmp['SP_end_pos'] - 16\n",
    "\n",
    "tmp[0:2]"
   ]
  },
  {
   "cell_type": "markdown",
   "metadata": {},
   "source": [
    "### CS before CDS start"
   ]
  },
  {
   "cell_type": "code",
   "execution_count": 745,
   "metadata": {},
   "outputs": [
    {
     "data": {
      "text/html": [
       "<div>\n",
       "<style scoped>\n",
       "    .dataframe tbody tr th:only-of-type {\n",
       "        vertical-align: middle;\n",
       "    }\n",
       "\n",
       "    .dataframe tbody tr th {\n",
       "        vertical-align: top;\n",
       "    }\n",
       "\n",
       "    .dataframe thead th {\n",
       "        text-align: right;\n",
       "    }\n",
       "</style>\n",
       "<table border=\"1\" class=\"dataframe\">\n",
       "  <thead>\n",
       "    <tr style=\"text-align: right;\">\n",
       "      <th></th>\n",
       "      <th>id</th>\n",
       "      <th>class</th>\n",
       "      <th>SP_score</th>\n",
       "      <th>Other_score</th>\n",
       "      <th>SP_seq</th>\n",
       "      <th>tr_id</th>\n",
       "      <th>gene</th>\n",
       "      <th>SP_end_pos</th>\n",
       "      <th>cds_start_aa_in_ext2</th>\n",
       "      <th>SP_start_pos</th>\n",
       "    </tr>\n",
       "  </thead>\n",
       "  <tbody>\n",
       "    <tr>\n",
       "      <th>23</th>\n",
       "      <td>ENST00000395841.6_RAE1</td>\n",
       "      <td>SP(Sec/SPI)</td>\n",
       "      <td>0.564221</td>\n",
       "      <td>0.435779</td>\n",
       "      <td>CS pos: 16-17. ARA-GS. Pr: 0.3038</td>\n",
       "      <td>ENST00000395841.6</td>\n",
       "      <td>RAE1</td>\n",
       "      <td>16</td>\n",
       "      <td>40</td>\n",
       "      <td>0</td>\n",
       "    </tr>\n",
       "  </tbody>\n",
       "</table>\n",
       "</div>"
      ],
      "text/plain": [
       "                        id        class  SP_score  Other_score  \\\n",
       "23  ENST00000395841.6_RAE1  SP(Sec/SPI)  0.564221     0.435779   \n",
       "\n",
       "                               SP_seq              tr_id  gene  SP_end_pos  \\\n",
       "23  CS pos: 16-17. ARA-GS. Pr: 0.3038  ENST00000395841.6  RAE1          16   \n",
       "\n",
       "    cds_start_aa_in_ext2  SP_start_pos  \n",
       "23                    40             0  "
      ]
     },
     "execution_count": 745,
     "metadata": {},
     "output_type": "execute_result"
    }
   ],
   "source": [
    "tmp[tmp['cds_start_aa_in_ext2'] >= tmp['SP_end_pos']]"
   ]
  },
  {
   "cell_type": "markdown",
   "metadata": {},
   "source": [
    "### genes with CS-16 position before CDS "
   ]
  },
  {
   "cell_type": "code",
   "execution_count": 746,
   "metadata": {},
   "outputs": [
    {
     "data": {
      "text/plain": [
       "['STMN1', 'DPH5', 'ADAM15', 'ZNF622', 'SUPT4H1', 'RAE1']"
      ]
     },
     "execution_count": 746,
     "metadata": {},
     "output_type": "execute_result"
    }
   ],
   "source": [
    "tmp[tmp['cds_start_aa_in_ext2'] >= tmp['SP_start_pos']]['gene'].tolist()"
   ]
  },
  {
   "cell_type": "code",
   "execution_count": null,
   "metadata": {},
   "outputs": [],
   "source": []
  },
  {
   "cell_type": "code",
   "execution_count": null,
   "metadata": {},
   "outputs": [],
   "source": []
  },
  {
   "cell_type": "code",
   "execution_count": null,
   "metadata": {},
   "outputs": [],
   "source": []
  },
  {
   "cell_type": "code",
   "execution_count": null,
   "metadata": {},
   "outputs": [],
   "source": []
  },
  {
   "cell_type": "code",
   "execution_count": null,
   "metadata": {},
   "outputs": [],
   "source": []
  },
  {
   "cell_type": "code",
   "execution_count": null,
   "metadata": {},
   "outputs": [],
   "source": []
  },
  {
   "cell_type": "code",
   "execution_count": null,
   "metadata": {},
   "outputs": [],
   "source": []
  },
  {
   "cell_type": "code",
   "execution_count": null,
   "metadata": {},
   "outputs": [],
   "source": []
  },
  {
   "cell_type": "code",
   "execution_count": null,
   "metadata": {},
   "outputs": [],
   "source": []
  },
  {
   "cell_type": "code",
   "execution_count": null,
   "metadata": {},
   "outputs": [],
   "source": []
  },
  {
   "cell_type": "code",
   "execution_count": null,
   "metadata": {},
   "outputs": [],
   "source": []
  },
  {
   "cell_type": "code",
   "execution_count": null,
   "metadata": {},
   "outputs": [],
   "source": []
  },
  {
   "cell_type": "code",
   "execution_count": null,
   "metadata": {},
   "outputs": [],
   "source": []
  },
  {
   "cell_type": "code",
   "execution_count": null,
   "metadata": {},
   "outputs": [],
   "source": []
  },
  {
   "cell_type": "code",
   "execution_count": null,
   "metadata": {},
   "outputs": [],
   "source": []
  },
  {
   "cell_type": "code",
   "execution_count": null,
   "metadata": {},
   "outputs": [],
   "source": []
  },
  {
   "cell_type": "markdown",
   "metadata": {},
   "source": [
    "# Re-do all the stuff + suggestions for RiboSET extended"
   ]
  },
  {
   "cell_type": "markdown",
   "metadata": {},
   "source": [
    "### Fig4A Dist of pred starts barplot "
   ]
  },
  {
   "cell_type": "code",
   "execution_count": null,
   "metadata": {},
   "outputs": [],
   "source": []
  },
  {
   "cell_type": "code",
   "execution_count": null,
   "metadata": {},
   "outputs": [],
   "source": []
  },
  {
   "cell_type": "code",
   "execution_count": null,
   "metadata": {},
   "outputs": [],
   "source": []
  },
  {
   "cell_type": "code",
   "execution_count": null,
   "metadata": {},
   "outputs": [],
   "source": []
  },
  {
   "cell_type": "markdown",
   "metadata": {},
   "source": [
    "### Fig4B TIS-score dist: PhyloSET, RiboSET_ext_pred, RiboSET_ext_all"
   ]
  },
  {
   "cell_type": "code",
   "execution_count": null,
   "metadata": {},
   "outputs": [],
   "source": []
  },
  {
   "cell_type": "code",
   "execution_count": null,
   "metadata": {},
   "outputs": [],
   "source": []
  },
  {
   "cell_type": "markdown",
   "metadata": {},
   "source": [
    "### Fig4C: LOGO of TIS (R) "
   ]
  },
  {
   "cell_type": "code",
   "execution_count": null,
   "metadata": {},
   "outputs": [],
   "source": []
  },
  {
   "cell_type": "code",
   "execution_count": null,
   "metadata": {},
   "outputs": [],
   "source": []
  },
  {
   "cell_type": "code",
   "execution_count": null,
   "metadata": {},
   "outputs": [],
   "source": []
  },
  {
   "cell_type": "markdown",
   "metadata": {},
   "source": [
    "### Fig4D RNAfold for non-AUG, weak AUG, strong AUG set of X genes "
   ]
  },
  {
   "cell_type": "code",
   "execution_count": null,
   "metadata": {},
   "outputs": [],
   "source": []
  },
  {
   "cell_type": "code",
   "execution_count": null,
   "metadata": {},
   "outputs": [],
   "source": []
  },
  {
   "cell_type": "code",
   "execution_count": null,
   "metadata": {},
   "outputs": [],
   "source": []
  },
  {
   "cell_type": "markdown",
   "metadata": {},
   "source": [
    "### Fig4E: dist of PCSF score for PhyloSET, RiboSET_ext, X_no_translation_upstream 50-codons "
   ]
  },
  {
   "cell_type": "markdown",
   "metadata": {},
   "source": [
    "Combine sets: \n",
    "\n",
    "* X_no_translation_upstream -> 50codons or less -> genomic coo \n",
    "* RiboSET_ext -> 50codons or less -> genomic coo\n",
    "* already ann 24 genes: take upstream 50codons from prev ann AUG\n",
    "\n",
    "2*5000 + 24 genes -> PhyloCSF score -> distribution "
   ]
  },
  {
   "cell_type": "markdown",
   "metadata": {},
   "source": [
    "##### Comment1: diff between RiboSET and no_translation_upstream_SET in PhyloCSF score "
   ]
  },
  {
   "cell_type": "code",
   "execution_count": null,
   "metadata": {},
   "outputs": [],
   "source": []
  },
  {
   "cell_type": "code",
   "execution_count": null,
   "metadata": {},
   "outputs": [],
   "source": []
  },
  {
   "cell_type": "code",
   "execution_count": null,
   "metadata": {},
   "outputs": [],
   "source": []
  },
  {
   "cell_type": "markdown",
   "metadata": {},
   "source": [
    "### Fig 4I,H: examples of genes. can keep them "
   ]
  },
  {
   "cell_type": "markdown",
   "metadata": {},
   "source": [
    "### Fig4J: need to add more genes with TM? "
   ]
  },
  {
   "cell_type": "code",
   "execution_count": null,
   "metadata": {},
   "outputs": [],
   "source": []
  },
  {
   "cell_type": "code",
   "execution_count": null,
   "metadata": {},
   "outputs": [],
   "source": []
  },
  {
   "cell_type": "markdown",
   "metadata": {},
   "source": [
    "### Fig.4F,G ovlp with HPA, do we need that? "
   ]
  },
  {
   "cell_type": "code",
   "execution_count": null,
   "metadata": {},
   "outputs": [],
   "source": []
  },
  {
   "cell_type": "code",
   "execution_count": null,
   "metadata": {},
   "outputs": [],
   "source": []
  },
  {
   "cell_type": "markdown",
   "metadata": {},
   "source": [
    "### Fig3E UpsetR plot"
   ]
  },
  {
   "cell_type": "code",
   "execution_count": null,
   "metadata": {},
   "outputs": [],
   "source": []
  },
  {
   "cell_type": "code",
   "execution_count": null,
   "metadata": {},
   "outputs": [],
   "source": []
  },
  {
   "cell_type": "markdown",
   "metadata": {},
   "source": [
    "### Supplementary table 5: gene ontology "
   ]
  },
  {
   "cell_type": "code",
   "execution_count": null,
   "metadata": {},
   "outputs": [],
   "source": []
  },
  {
   "cell_type": "code",
   "execution_count": null,
   "metadata": {},
   "outputs": [],
   "source": []
  },
  {
   "cell_type": "code",
   "execution_count": null,
   "metadata": {},
   "outputs": [],
   "source": []
  },
  {
   "cell_type": "code",
   "execution_count": null,
   "metadata": {},
   "outputs": [],
   "source": []
  }
 ],
 "metadata": {
  "kernelspec": {
   "display_name": "Python 3",
   "language": "python",
   "name": "python3"
  },
  "language_info": {
   "codemirror_mode": {
    "name": "ipython",
    "version": 3
   },
   "file_extension": ".py",
   "mimetype": "text/x-python",
   "name": "python",
   "nbconvert_exporter": "python",
   "pygments_lexer": "ipython3",
   "version": "3.7.6"
  }
 },
 "nbformat": 4,
 "nbformat_minor": 2
}
