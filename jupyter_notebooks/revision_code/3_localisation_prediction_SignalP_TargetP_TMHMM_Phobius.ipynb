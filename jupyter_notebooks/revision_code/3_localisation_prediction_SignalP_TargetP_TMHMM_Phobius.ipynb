{
 "cells": [
  {
   "cell_type": "code",
   "execution_count": 20,
   "metadata": {},
   "outputs": [],
   "source": [
    "%matplotlib inline\n",
    "\n",
    "\n",
    "import numpy as np\n",
    "from collections import OrderedDict, Counter, defaultdict\n",
    "import pandas as pd\n",
    "\n",
    "import Bio\n",
    "from Bio import SeqIO\n",
    "from Bio.Seq import Seq\n",
    "\n",
    "import seaborn as sns\n",
    "import matplotlib.pyplot as plt\n",
    "\n",
    "import glob\n",
    "\n",
    "import subprocess\n",
    "from subprocess import call\n",
    "\n",
    "import re\n",
    "\n",
    "import warnings\n",
    "warnings.simplefilter(action='ignore', category=FutureWarning)\n",
    "\n",
    "import pandas\n",
    "\n",
    "import pickle"
   ]
  },
  {
   "cell_type": "markdown",
   "metadata": {},
   "source": [
    "# Metadata"
   ]
  },
  {
   "cell_type": "code",
   "execution_count": 13,
   "metadata": {},
   "outputs": [
    {
     "data": {
      "text/plain": [
       "390"
      ]
     },
     "execution_count": 13,
     "metadata": {},
     "output_type": "execute_result"
    }
   ],
   "source": [
    "metadata_pc_g25 = pd.read_csv('../tmp_res/metadata_pc_g25.txt', sep='\\t')\n",
    "# open metadata with scores and metrics\n",
    "meta = pd.read_csv('../tmp_res/local_and_global_df_g25ovlp_g35ovlp_g38ovlp_refseqovlp_strand_FRAMES_PhyloCSF.txt', sep='\\t')\n",
    "\n",
    "# open SET1 (PhyloSET) and SET2 (RiboSET)\n",
    "PhyloSET = pd.read_csv('../tmp_res/SET1.txt', sep='\\t')\n",
    "RiboSET = pd.read_csv('../tmp_res/SET2.txt', sep='\\t')\n",
    "RiboSET = RiboSET[(~RiboSET['tr_id'].str.contains('PAR')) & (~RiboSET['Riboseq_Summary'].str.contains('ATG'))]\n",
    "RiboSET.shape[0]"
   ]
  },
  {
   "cell_type": "raw",
   "metadata": {},
   "source": [
    "transl_with_all_codons = pd.read_csv('../data/extensions_TripsViz_1perGene_AUG_NearCognates.txt', sep=',')\n",
    "transl_with_all_codons.columns = ['gene_ext', 'tr_id1', 'Start_ext', 'Stop_ext', 'len_ext', \n",
    "                                 'global_rank_ext', 'type_all_codons', 'trips_viz_link', 'Start_codon_ext', \n",
    "                                 'Highframe rank', 'Highframe value',\n",
    "       'Lowframe rank', 'Lowframe value', 'Stop rank', 'Stop value',\n",
    "       'Start rank', 'Start value', 'Coverage rank', 'Coverage_value_ext',\n",
    "       'Amino acid sequence', 'Proteomics_count_ext', 'CDS_ratio']\n",
    "transl_with_all_codons2 = transl_with_all_codons[['gene_ext', 'tr_id1', 'Start_ext', 'Stop_ext', \n",
    "                                                 'global_rank_ext', 'Start_codon_ext', \n",
    "                                                 'Proteomics_count_ext', 'Coverage_value_ext', 'CDS_ratio']]\n",
    "transl_with_all_codons2['Riboseq_Summary'] = transl_with_all_codons2['Start_codon_ext']+'; '+transl_with_all_codons2['Start_ext'].astype(str)+'-'+transl_with_all_codons2['Stop_ext'].astype(str)+'; Rank: '+transl_with_all_codons2['global_rank_ext'].astype(str)+'; cov: '+np.round(transl_with_all_codons2['Coverage_value_ext'],2).astype(str)\n",
    "\n",
    "top5000 = transl_with_all_codons2[0:5000]\n",
    "\n",
    "top5000_meta = top5000.merge(meta, on='tr_id1', how='inner')\n",
    "\n",
    "top5000_meta['len_codons'] = (top5000_meta['Stop_ext'] - top5000_meta['Start_ext']) // 3\n",
    "\n",
    "# theoretical extensions should be no less than 20 codons (works for initiatial filter and for PhyloSET)\n",
    "# but in practice it could be shorter\n",
    "# let's say 10aa\n",
    "\n",
    "# select 0 ovlps and where theoretical extension is at least 20 codons  \n",
    "RiboSET_EXT = top5000_meta[(top5000_meta['ovlp'] == '0;0;0') & \n",
    "                                  (top5000_meta['Start_codon_ext'] != 'ATG') & \n",
    "                                  (top5000_meta['tr_id1'].isin(meta[meta['len_codons'] >= 20]['tr_id1'].tolist()))]\n",
    "\n",
    "print (RiboSET_EXT.shape[0])"
   ]
  },
  {
   "cell_type": "code",
   "execution_count": 77,
   "metadata": {},
   "outputs": [
    {
     "data": {
      "text/plain": [
       "3663"
      ]
     },
     "execution_count": 77,
     "metadata": {},
     "output_type": "execute_result"
    }
   ],
   "source": [
    "# ~4k RiboSET ext with non-zero CDS cov in my data \n",
    "RiboSET_EXT_cds_cov_nonzero = pd.read_csv('tmp_res/RiboSET_EXT_cds_cov_nonzero_theor_len_20codons_3663genes.txt', sep='\\t')\n",
    "RiboSET_EXT_cds_cov_nonzero.shape[0]"
   ]
  },
  {
   "cell_type": "code",
   "execution_count": 76,
   "metadata": {},
   "outputs": [],
   "source": [
    "pairs_4k_final = pd.read_csv('tmp_res/No_Upstream_Translation_CDS_match_4k.txt', sep='\\t')\n",
    "pairs_392_final = pd.read_csv('tmp_res/No_Upstream_Translation_CDS_match_392.txt', sep='\\t')"
   ]
  },
  {
   "cell_type": "code",
   "execution_count": null,
   "metadata": {},
   "outputs": [],
   "source": []
  },
  {
   "cell_type": "markdown",
   "metadata": {},
   "source": [
    "# SignalP"
   ]
  },
  {
   "cell_type": "markdown",
   "metadata": {},
   "source": [
    "## RiboSET"
   ]
  },
  {
   "cell_type": "code",
   "execution_count": 24,
   "metadata": {},
   "outputs": [],
   "source": [
    "RiboSET['start_codon_local_coo_start'] = [int(x.split('; ')[1].split('-')[0])-1 for x in RiboSET['Riboseq_Summary'].tolist()]\n",
    "\n",
    "riboset_fasta = open('../data/tmhmm_and_phobius_data/riboset.fasta', 'w')\n",
    "\n",
    "li = []\n",
    "\n",
    "for row in RiboSET[['tr_id', 'gene', 'N_term_start1', 'N_term_end1', 'start_codon_local_coo_start']].to_numpy():\n",
    "    tr_id  = row[0]\n",
    "    gene = row[1]\n",
    "    N_term_start = row[2]\n",
    "    N_term_stop = row[3]\n",
    "    N_term_start_pred = row[-1] \n",
    "    tr_seq = metadata_pc_g25[metadata_pc_g25['tr_id'] == tr_id].iloc[0].transcript_seq \n",
    "    cds_stop = metadata_pc_g25[metadata_pc_g25['tr_id'] == tr_id].iloc[0].cds_stop_pos\n",
    "    cds_start = metadata_pc_g25[metadata_pc_g25['tr_id'] == tr_id].iloc[0].cds_start_pos\n",
    "    \n",
    "    nte_seq_nt1 = tr_seq[N_term_start:cds_stop]\n",
    "    nte_seq_nt2 = tr_seq[N_term_start_pred:cds_stop]\n",
    "    \n",
    "    nte_seq_aa1 = str(Seq(nte_seq_nt1).translate())\n",
    "    nte_seq_aa2 = 'M'+str(Seq(nte_seq_nt2).translate())[1:]\n",
    "    \n",
    "    # position of CDS in NTE_aa: \n",
    "    # 5'    N_term_start_pred    cds_start_pos\n",
    "    # \n",
    "    cds_start_aa_in_ext2 = (cds_start - N_term_start_pred) // 3\n",
    "    \n",
    "    li.append([tr_id, gene, nte_seq_aa1, nte_seq_aa2, cds_start_aa_in_ext2, \n",
    "              cds_start_aa_in_ext2])\n",
    "    \n",
    "    riboset_fasta.write('>'+tr_id+'_'+gene+'\\n')\n",
    "    riboset_fasta.write(nte_seq_aa2[:-1]+'\\n')\n",
    "  \n",
    "riboset_fasta.close()\n",
    "        \n",
    "NTE_aa_df_ribo = pd.DataFrame(li, columns = ['tr_id', 'gene', 'nte_seq_aa1', 'nte_seq_aa2',\n",
    "                                       'cds_start_aa_in_ext2', 'ext_len'])\n"
   ]
  },
  {
   "cell_type": "code",
   "execution_count": 25,
   "metadata": {},
   "outputs": [
    {
     "name": "stdout",
     "output_type": "stream",
     "text": [
      ">ENST00000304661.5_C1GALT1C1\r\n",
      "MVRSVTEWCANVRGNPCAAALSCPQAVLDAGKMLSESSSFLKGVMLGSIFCALITMLGHIRIGHGNRMHHHEHHHLQAPNKEDILKISEDERMELSKSFRVYCIILVKPKDVSLWAAVKETWTKHCDKAEFFSSENVKVFESINMDTNDMWLMMRKAYKYAFDKYRDQYNWFFLARPTTFAIIENLKYFLLKKDPSQPFYLGHTIKSGDLEYVGMEGGIVLSVESMKRLNSLLNIPEKCPEQGGMIWKISEDKQLAVCLKYAGVFAENAEDADGKDVFNTKSVGLSIKEAMTYHPNQVVEGCCSDMAVTFNGLTPNQMHVMMYGVYRLRAFGHIFNDALVFLPPNGSDND\r\n",
      ">ENST00000371122.8_SMARCA1\r\n",
      "MQPLPPPRSPRPLPCPPTRSRSHGMEQDTAAVAATVAAADATATIVVIEDEQPGPSTSQEEGAAAAATEATAATEKGEKKKEKNVSSFQLKLAAKAPKSEKEMDPEYEEKMKADRAKRFEFLLKQTELFAHFIQPSAQKSPTSPLNMKLGRPRIKKDEKQSLISAGDYRHRRTEQEEDEELLSESRKTSNVCIRFEVSPSYVKGGPLRDYQIRGLNWLISLYENGVNGILADEMGLGKTLQTIALLGYLKHYRNIPGPHMVLVPKSTLHNWMNEFKRWVPSLRVICFVGDKDARAAFIRDEMMPGEWDVCVTSYEMVIKEKSVFKKFHWRYLVIDEAHRIKNEKSKLSEIVREFKSTNRLLLTGTPLQNNLHELWALLNFLLPDVFNSADDFDSWFDTKNCLGDQKLVERLHAVLKPFLLRRIKTDVEKSLPPKKEIKIYLGLSKMQREWYTKILMKDIDVLNSSGKMDKMRLLNILMQLRKCCNHPYLFDGAEPGPPYTTDEHIVSNSGKMVVLDKLLAKLKEQGSRVLIFSQMTRLLDILEDYCMWRGYEYCRLDGQTPHEEREDKFLEVEFLGQREAIEAFNAPNSSKFIFMLSTRAGGLGINLASADVVILYDSDWNPQVDLQAMDRAHRIGQKKPVRVFRLITDNTVEERIVERAEIKLRLDSIVIQQGRLIDQQSNKLAKEEMLQMIRHGATHVFASKESELTDEDITTILERGEKKTAEMNERLQKMGESSLRNFRMDIEQSLYKFEGEDYREKQKLGMVEWIEPPKRERKANYAVDAYFREALRVSEPKIPKAPRPPKQPNVQDFQFFPPRLFELLEKEILYYRKTIGYKVPRNPDIPNPALAQREEQKKIDGAEPLTPEETEEKEKLLTQGFTNWTKRDFNQFIKANEKYGRDDIDNIAREVEGKSPEEVMEYSAVFWERCNELQDIEKIMAQIERGEARIQRRISIKKALDAKIARYKAPFHQLRIQYGTSKGKNYTEEEDRFLICMLHKMGFDRENVYEELRQCVRNAPQFRFDWFIKSRTAMEFQRRCNTLISLIEKENMEIEERERAEKKKRATKTPMVKFSAFS\r\n",
      ">ENST00000330374.6_VMA21\r\n",
      "MSAAAEPSSAAERLCRHGYTMERPDKAALNALQPPEFRNESSLASTLKTLLFFTALMITVPIGLYFTTKSYIFEGALGMSNRDSYFYAAIVAVVAVHVVLALFVYVAWNEGSRQWREGKQD\r\n",
      ">ENST00000370274.7_NSDHL\r\n",
      "MRPDRGAPTDGKEKLITNGTIFCFEMEPAVSEPMRDQVARTHLTEDTPKVNADIEKVNQNQAKRCTVIGGSGFLGQHMVEQLLARGYAVNVFDIQQGFDNPQVRFFLGDLCSRQDLYPALKGVNTVFHCASPPPSSNNKELFYRVNYIGTKNVIETCKEAGVQKLILTSSASVIFEGVDIKNGTEDLPYAMKPIDYYTETKILQERAVLGANDPEKNFLTTAIRPHGIFGPRDPQLVPILIEAARNGKMKFVIGNGKNLVDFTFVENVVHGHILAAEQLSRDSTLGGKAFHITNDEPIPFWTFLSRILTGLNYEAPKYHIPYWVAYYLALLLSLLVMVISPVIQLQPTFTPMRVALAGTFHYYSCERAKKAMGYQPLVTMDDAMERTVQSFRHLRRVK\r\n",
      ">ENST00000447750.6_GDI1\r\n",
      "MAAAAVAAATAAVKEEEEPSGRWHRGLTMDEEYDVIVLGTGLTECILSGIMSVNGKKVLHMDRNPYYGGESSSITPLEELYKRFQLLEGPPESMGRGRDWNVDLIPKFLMANGQLVKMLLYTEVTRYLDFKVVEGSFVYKGGKIYKVPSTETEALASNLMGMFEKRRFRKFLVFVANFDENDPKTFEGVDPQTTSMRDVYRKFDLGQDVIDFTGHALALYRTDDYLDQPCLETVNRIKLYSESLARYGKSPYLYPLYGLGELPQGFARLSAIYGGTYMLNKPVDDIIMENGKVVGVKSEGEVARCKQLICDPSYIPDRVRKAGQVIRIICILSHPIKNTNDANSCQIIIPQNQVNRKSDIYVCMISYAHNVAAQGKYIAIASTTVETTDPEKEVEPALELLEPIDQKFVAISDLYEPIDDGCESQVFCSCSYDATTHFETTCNDIKDIYKRMAGTAFDFENMKRKQNDVFGEAEQ\r\n"
     ]
    }
   ],
   "source": [
    "!tail ../data/tmhmm_and_phobius_data/riboset.fasta"
   ]
  },
  {
   "cell_type": "code",
   "execution_count": 27,
   "metadata": {},
   "outputs": [],
   "source": [
    "signalP_df_r = pd.read_csv('../data/SignalP_RiboSET_output_protein_type.txt', sep='\\t', comment='#', header=None)\n",
    "signalP_df_r.columns = ['id', 'class', 'SP_score', 'Other_score', 'SP_seq']\n",
    "signalP_df_r['tr_id'] = [x.split('_')[0] for x in signalP_df_r['id'].tolist()]\n",
    "signalP_df_r['gene'] = [x.split('_')[-1] for x in signalP_df_r['id'].tolist()]\n",
    "\n",
    "# exclude AUGs \n",
    "signalP_df_r = signalP_df_r[~signalP_df_r['gene'].isin(['STIM2', 'AP3S1', 'PTPRJ'])]"
   ]
  },
  {
   "cell_type": "code",
   "execution_count": 28,
   "metadata": {},
   "outputs": [
    {
     "name": "stderr",
     "output_type": "stream",
     "text": [
      "/home/alla/.local/lib/python3.7/site-packages/ipykernel_launcher.py:2: SettingWithCopyWarning: \n",
      "A value is trying to be set on a copy of a slice from a DataFrame.\n",
      "Try using .loc[row_indexer,col_indexer] = value instead\n",
      "\n",
      "See the caveats in the documentation: https://pandas.pydata.org/pandas-docs/stable/user_guide/indexing.html#returning-a-view-versus-a-copy\n",
      "  \n"
     ]
    },
    {
     "data": {
      "text/html": [
       "<div>\n",
       "<style scoped>\n",
       "    .dataframe tbody tr th:only-of-type {\n",
       "        vertical-align: middle;\n",
       "    }\n",
       "\n",
       "    .dataframe tbody tr th {\n",
       "        vertical-align: top;\n",
       "    }\n",
       "\n",
       "    .dataframe thead th {\n",
       "        text-align: right;\n",
       "    }\n",
       "</style>\n",
       "<table border=\"1\" class=\"dataframe\">\n",
       "  <thead>\n",
       "    <tr style=\"text-align: right;\">\n",
       "      <th></th>\n",
       "      <th>id</th>\n",
       "      <th>class</th>\n",
       "      <th>SP_score</th>\n",
       "      <th>Other_score</th>\n",
       "      <th>SP_seq</th>\n",
       "      <th>tr_id</th>\n",
       "      <th>gene</th>\n",
       "      <th>SP_end_pos</th>\n",
       "      <th>cds_start_aa_in_ext2</th>\n",
       "      <th>SP_start_pos</th>\n",
       "    </tr>\n",
       "  </thead>\n",
       "  <tbody>\n",
       "    <tr>\n",
       "      <th>0</th>\n",
       "      <td>ENST00000399728.5_STMN1</td>\n",
       "      <td>SP(Sec/SPI)</td>\n",
       "      <td>0.769171</td>\n",
       "      <td>0.230829</td>\n",
       "      <td>CS pos: 19-20. ASS-DI. Pr: 0.6043</td>\n",
       "      <td>ENST00000399728.5</td>\n",
       "      <td>STMN1</td>\n",
       "      <td>19</td>\n",
       "      <td>15</td>\n",
       "      <td>3</td>\n",
       "    </tr>\n",
       "    <tr>\n",
       "      <th>1</th>\n",
       "      <td>ENST00000370109.7_DPH5</td>\n",
       "      <td>SP(Sec/SPI)</td>\n",
       "      <td>0.687048</td>\n",
       "      <td>0.312952</td>\n",
       "      <td>CS pos: 25-26. GDA-KD. Pr: 0.5493</td>\n",
       "      <td>ENST00000370109.7</td>\n",
       "      <td>DPH5</td>\n",
       "      <td>25</td>\n",
       "      <td>13</td>\n",
       "      <td>9</td>\n",
       "    </tr>\n",
       "  </tbody>\n",
       "</table>\n",
       "</div>"
      ],
      "text/plain": [
       "                        id        class  SP_score  Other_score  \\\n",
       "0  ENST00000399728.5_STMN1  SP(Sec/SPI)  0.769171     0.230829   \n",
       "1   ENST00000370109.7_DPH5  SP(Sec/SPI)  0.687048     0.312952   \n",
       "\n",
       "                              SP_seq              tr_id   gene  SP_end_pos  \\\n",
       "0  CS pos: 19-20. ASS-DI. Pr: 0.6043  ENST00000399728.5  STMN1          19   \n",
       "1  CS pos: 25-26. GDA-KD. Pr: 0.5493  ENST00000370109.7   DPH5          25   \n",
       "\n",
       "   cds_start_aa_in_ext2  SP_start_pos  \n",
       "0                    15             3  \n",
       "1                    13             9  "
      ]
     },
     "execution_count": 28,
     "metadata": {},
     "output_type": "execute_result"
    }
   ],
   "source": [
    "tmp = signalP_df_r[(signalP_df_r['class'] != 'OTHER') & (signalP_df_r['SP_seq'] != 'CS pos: ?. Probable protein fragment')]\n",
    "tmp['SP_end_pos'] = [int(x.split('CS pos: ')[1].split('-')[0]) for x in tmp['SP_seq'].tolist()]\n",
    "tmp = tmp.merge(NTE_aa_df_ribo[['tr_id', 'gene', 'cds_start_aa_in_ext2']], on=['tr_id', 'gene'], how='inner')\n",
    "tmp['SP_start_pos'] = tmp['SP_end_pos'] - 16\n",
    "tmp[0:2]"
   ]
  },
  {
   "cell_type": "markdown",
   "metadata": {},
   "source": [
    "### CS before CDS start"
   ]
  },
  {
   "cell_type": "code",
   "execution_count": 29,
   "metadata": {},
   "outputs": [
    {
     "data": {
      "text/html": [
       "<div>\n",
       "<style scoped>\n",
       "    .dataframe tbody tr th:only-of-type {\n",
       "        vertical-align: middle;\n",
       "    }\n",
       "\n",
       "    .dataframe tbody tr th {\n",
       "        vertical-align: top;\n",
       "    }\n",
       "\n",
       "    .dataframe thead th {\n",
       "        text-align: right;\n",
       "    }\n",
       "</style>\n",
       "<table border=\"1\" class=\"dataframe\">\n",
       "  <thead>\n",
       "    <tr style=\"text-align: right;\">\n",
       "      <th></th>\n",
       "      <th>id</th>\n",
       "      <th>class</th>\n",
       "      <th>SP_score</th>\n",
       "      <th>Other_score</th>\n",
       "      <th>SP_seq</th>\n",
       "      <th>tr_id</th>\n",
       "      <th>gene</th>\n",
       "      <th>SP_end_pos</th>\n",
       "      <th>cds_start_aa_in_ext2</th>\n",
       "      <th>SP_start_pos</th>\n",
       "    </tr>\n",
       "  </thead>\n",
       "  <tbody>\n",
       "    <tr>\n",
       "      <th>23</th>\n",
       "      <td>ENST00000395841.6_RAE1</td>\n",
       "      <td>SP(Sec/SPI)</td>\n",
       "      <td>0.564221</td>\n",
       "      <td>0.435779</td>\n",
       "      <td>CS pos: 16-17. ARA-GS. Pr: 0.3038</td>\n",
       "      <td>ENST00000395841.6</td>\n",
       "      <td>RAE1</td>\n",
       "      <td>16</td>\n",
       "      <td>40</td>\n",
       "      <td>0</td>\n",
       "    </tr>\n",
       "  </tbody>\n",
       "</table>\n",
       "</div>"
      ],
      "text/plain": [
       "                        id        class  SP_score  Other_score  \\\n",
       "23  ENST00000395841.6_RAE1  SP(Sec/SPI)  0.564221     0.435779   \n",
       "\n",
       "                               SP_seq              tr_id  gene  SP_end_pos  \\\n",
       "23  CS pos: 16-17. ARA-GS. Pr: 0.3038  ENST00000395841.6  RAE1          16   \n",
       "\n",
       "    cds_start_aa_in_ext2  SP_start_pos  \n",
       "23                    40             0  "
      ]
     },
     "execution_count": 29,
     "metadata": {},
     "output_type": "execute_result"
    }
   ],
   "source": [
    "tmp[tmp['cds_start_aa_in_ext2'] >= tmp['SP_end_pos']]"
   ]
  },
  {
   "cell_type": "markdown",
   "metadata": {},
   "source": [
    "### genes with CS-16 position before CDS "
   ]
  },
  {
   "cell_type": "code",
   "execution_count": 30,
   "metadata": {},
   "outputs": [
    {
     "data": {
      "text/plain": [
       "['STMN1', 'DPH5', 'ADAM15', 'ZNF622', 'SUPT4H1', 'RAE1']"
      ]
     },
     "execution_count": 30,
     "metadata": {},
     "output_type": "execute_result"
    }
   ],
   "source": [
    "tmp[tmp['cds_start_aa_in_ext2'] >= tmp['SP_start_pos']]['gene'].tolist()"
   ]
  },
  {
   "cell_type": "code",
   "execution_count": null,
   "metadata": {},
   "outputs": [],
   "source": []
  },
  {
   "cell_type": "code",
   "execution_count": null,
   "metadata": {},
   "outputs": [],
   "source": []
  },
  {
   "cell_type": "markdown",
   "metadata": {},
   "source": [
    "# Run same for matched set "
   ]
  },
  {
   "cell_type": "code",
   "execution_count": 35,
   "metadata": {},
   "outputs": [
    {
     "data": {
      "text/plain": [
       "(390, 30)"
      ]
     },
     "execution_count": 35,
     "metadata": {},
     "output_type": "execute_result"
    }
   ],
   "source": [
    "a = pairs_392_final[['tr_id']]\n",
    "a.columns = ['tr_id1']\n",
    "\n",
    "b= a.merge(meta, on=['tr_id1'], how='inner')\n",
    "\n",
    "b.shape"
   ]
  },
  {
   "cell_type": "code",
   "execution_count": 36,
   "metadata": {},
   "outputs": [
    {
     "data": {
      "text/html": [
       "<div>\n",
       "<style scoped>\n",
       "    .dataframe tbody tr th:only-of-type {\n",
       "        vertical-align: middle;\n",
       "    }\n",
       "\n",
       "    .dataframe tbody tr th {\n",
       "        vertical-align: top;\n",
       "    }\n",
       "\n",
       "    .dataframe thead th {\n",
       "        text-align: right;\n",
       "    }\n",
       "</style>\n",
       "<table border=\"1\" class=\"dataframe\">\n",
       "  <thead>\n",
       "    <tr style=\"text-align: right;\">\n",
       "      <th></th>\n",
       "      <th>tr_id1</th>\n",
       "      <th>tr_id</th>\n",
       "      <th>N_term_start</th>\n",
       "      <th>N_term_end</th>\n",
       "      <th>len</th>\n",
       "      <th>N_term_start1</th>\n",
       "      <th>N_term_end1</th>\n",
       "      <th>len_codons</th>\n",
       "      <th>gene</th>\n",
       "      <th>50len_flag</th>\n",
       "      <th>...</th>\n",
       "      <th>max_sum_overlap_g38_all_exons_strandless</th>\n",
       "      <th>max_sum_overlap_refseq_all_exons</th>\n",
       "      <th>max_sum_overlap_refseq_all_exons_strandless</th>\n",
       "      <th>ovlp</th>\n",
       "      <th>ovlp_strandless</th>\n",
       "      <th>ovlp2</th>\n",
       "      <th>ovlp2_strandless</th>\n",
       "      <th>PhyloCSF120score</th>\n",
       "      <th>number_of_records</th>\n",
       "      <th>records_names</th>\n",
       "    </tr>\n",
       "  </thead>\n",
       "  <tbody>\n",
       "    <tr>\n",
       "      <th>0</th>\n",
       "      <td>ENST00000377269</td>\n",
       "      <td>ENST00000377269.3</td>\n",
       "      <td>719</td>\n",
       "      <td>779</td>\n",
       "      <td>60</td>\n",
       "      <td>719</td>\n",
       "      <td>779</td>\n",
       "      <td>20.0</td>\n",
       "      <td>UBA1</td>\n",
       "      <td>719</td>\n",
       "      <td>...</td>\n",
       "      <td>0</td>\n",
       "      <td>0</td>\n",
       "      <td>0</td>\n",
       "      <td>0;0;0</td>\n",
       "      <td>0;0;0</td>\n",
       "      <td>0;0;0;0</td>\n",
       "      <td>0;0;0;0</td>\n",
       "      <td>-267.1708</td>\n",
       "      <td>31</td>\n",
       "      <td>Human; Chimp; Bonobo; Gorilla; Orangutan; Gibb...</td>\n",
       "    </tr>\n",
       "    <tr>\n",
       "      <th>1</th>\n",
       "      <td>ENST00000360708</td>\n",
       "      <td>ENST00000360708.9</td>\n",
       "      <td>0</td>\n",
       "      <td>8</td>\n",
       "      <td>8</td>\n",
       "      <td>2</td>\n",
       "      <td>8</td>\n",
       "      <td>2.0</td>\n",
       "      <td>ZC3HC1</td>\n",
       "      <td>2</td>\n",
       "      <td>...</td>\n",
       "      <td>0</td>\n",
       "      <td>0</td>\n",
       "      <td>0</td>\n",
       "      <td>0;0;0</td>\n",
       "      <td>0;0;0</td>\n",
       "      <td>0;0;0;0</td>\n",
       "      <td>0;0;0;0</td>\n",
       "      <td>-57.5643</td>\n",
       "      <td>117</td>\n",
       "      <td>Human; Chimp; Bonobo; Gorilla; Orangutan; Gibb...</td>\n",
       "    </tr>\n",
       "  </tbody>\n",
       "</table>\n",
       "<p>2 rows × 30 columns</p>\n",
       "</div>"
      ],
      "text/plain": [
       "            tr_id1              tr_id  N_term_start  N_term_end  len  \\\n",
       "0  ENST00000377269  ENST00000377269.3           719         779   60   \n",
       "1  ENST00000360708  ENST00000360708.9             0           8    8   \n",
       "\n",
       "   N_term_start1  N_term_end1  len_codons    gene  50len_flag  ...  \\\n",
       "0            719          779        20.0    UBA1         719  ...   \n",
       "1              2            8         2.0  ZC3HC1           2  ...   \n",
       "\n",
       "  max_sum_overlap_g38_all_exons_strandless max_sum_overlap_refseq_all_exons  \\\n",
       "0                                        0                                0   \n",
       "1                                        0                                0   \n",
       "\n",
       "  max_sum_overlap_refseq_all_exons_strandless   ovlp ovlp_strandless    ovlp2  \\\n",
       "0                                           0  0;0;0           0;0;0  0;0;0;0   \n",
       "1                                           0  0;0;0           0;0;0  0;0;0;0   \n",
       "\n",
       "   ovlp2_strandless  PhyloCSF120score  number_of_records  \\\n",
       "0           0;0;0;0         -267.1708                 31   \n",
       "1           0;0;0;0          -57.5643                117   \n",
       "\n",
       "                                       records_names  \n",
       "0  Human; Chimp; Bonobo; Gorilla; Orangutan; Gibb...  \n",
       "1  Human; Chimp; Bonobo; Gorilla; Orangutan; Gibb...  \n",
       "\n",
       "[2 rows x 30 columns]"
      ]
     },
     "execution_count": 36,
     "metadata": {},
     "output_type": "execute_result"
    }
   ],
   "source": [
    "b[0:2]"
   ]
  },
  {
   "cell_type": "code",
   "execution_count": 39,
   "metadata": {},
   "outputs": [],
   "source": [
    "match_fasta = open('tmp_res/match_390.fasta', 'w')\n",
    "\n",
    "li = []\n",
    "\n",
    "for row in b[['tr_id', 'gene', 'N_term_start1', 'N_term_end1']].to_numpy():\n",
    "    tr_id  = row[0]\n",
    "    gene = row[1]\n",
    "    N_term_start = row[2]\n",
    "    N_term_stop = row[3]\n",
    "    \n",
    "    tr_seq = metadata_pc_g25[metadata_pc_g25['tr_id'] == tr_id].iloc[0].transcript_seq \n",
    "    cds_stop = metadata_pc_g25[metadata_pc_g25['tr_id'] == tr_id].iloc[0].cds_stop_pos\n",
    "    cds_start = metadata_pc_g25[metadata_pc_g25['tr_id'] == tr_id].iloc[0].cds_start_pos\n",
    "    \n",
    "    nte_seq_nt1 = tr_seq[N_term_start:cds_stop]  \n",
    "    nte_seq_aa1 = str(Seq(nte_seq_nt1).translate())\n",
    "    \n",
    "    cds_start_aa_in_ext2 = (cds_start - N_term_start) // 3\n",
    "    \n",
    "    li.append([tr_id, gene, nte_seq_aa1, cds_start_aa_in_ext2])\n",
    "    \n",
    "    match_fasta.write('>'+tr_id+'_'+gene+'\\n')\n",
    "    match_fasta.write(nte_seq_aa1+'\\n')\n",
    "  \n",
    "match_fasta.close()\n",
    "        \n",
    "match_aa_df = pd.DataFrame(li, columns = ['tr_id', 'gene', 'nte_seq_aa1', \n",
    "                                       'cds_start_aa_in_ext2'])\n"
   ]
  },
  {
   "cell_type": "code",
   "execution_count": 40,
   "metadata": {},
   "outputs": [
    {
     "name": "stdout",
     "output_type": "stream",
     "text": [
      ">ENST00000343304.10_LRRC41\r\n",
      "RSAGDTLGLAHLPKMAAPEAWRARSCWFCEVAAATTMEATSREAAPAKSSASGPNAPPALFELCGRAVSAHMGVLESGVWALPGPILQSILPLLNIYYLERIEETALKKGLSTQAIWRRLWDELMKTRPSSLESVTCWRAKFMEAFFSHVLRGTIDVSSDRRLCDQRFSPLLHSSRHVRQLTICNMLQGATELVAEPNRRVLETLASSLHTLKFRHLLFSDVAAQQSLRQLLHQLIHHGAVSQVSLYSWPVPESALFILILTMSAGFWQPGPGGPPCRLCGEASRGRAPSRDEGSLLLGSRRPRRDAAERCAAALMASRRKSEAKQMPRAAPATRVTRRSTQESLTAGGTDLKRELHPPATSHEAPGTKRSPSAPAATSSASSSTSSYKRAPASSAPQPKPLKRFKRAAGKKGARTRQGPGAESEDLYDFVFIVAGEKEDGEEMEIGEVACGALDGSDPSCLGLPALEASQRFRSISTLELFTVPLSTEAALTLCHLLSSWVSLESLTLSYNGLGSNIFRLLDSLRALSGQAGCRLRALHLSDLFSPLPILELTRAIVRALPLLRVLSIRVDHPSQRDNPGVPGNAGPPSHIIGDEEIPENCLEQLEMGFPRGAQPAPLLCSVLKASGSLQQLSLDSATFASPQDFGLVLQTLKEYNLALKRLSFHDMNLADCQSEVLFLLQNLTLQEITFSFCRLFEKRPAQFLPEMVAAMKGNSTLKGLRLPGNRLGNAGLLALADVFSEDSSSSLCQLDISSNCIKPDGLLEFAKRLERWGRGAFGHLRLFQNWLDQDAVTAREAIRRLRATCHVVSDSWDSSQAFADYVSTM*\r\n",
      ">ENST00000394066.6_KLC2\r\n",
      "ARRPPARTLVLTDATAMAMMVFPREEKLSQDEIVLGTKAVIQGLETLRGEHRALLAPLVAPEAGEAEPGSQERCILLRRSLEAIELGLGEAQEEKGDVPKDTLDDLFPNEDEQSPAPSPGGGDVSGQHGGYEIPARLRTLHNLVIQYASQGRYEVAVPLCKQALEDLEKTSGHDHPDVATMLNILALVYRDQNKYKEAAHLLNDALAIREKTLGKDHPAVAATLNNLAVLYGKRGKYKEAEPLCKRALEIREKVLGKFHPDVAKQLSNLALLCQNQGKAEEVEYYYRRALEIYATRLGPDDPNVAKTKNNLASCYLKQGKYQDAETLYKEILTRAHEKEFGSVNGDNKPIWMHAEEREESKDKRRDSAPYGEYGSWYKACKVDSPTVNTTLRSLGALYRRQGKLEAAHTLEDCASRNRKQGLDPASQTKVVELLKDGSGRRGDRRSSRDMAGGAGPRSESDLEDVGPTAEWNGDGSGSLRRSGSFGKLRDALRRSSEMLVKKLQGGTPQEPPNPRMKRASSLNFLNKSVEEPTQPGGTGLSDSRTLSSSSMDLSRRSSLVG*\r\n",
      ">ENST00000356861.9_TNPO2\r\n",
      "LGDVARIGLPCAMDWQPDEQGLQQVLQLLKDSQSPNTATQRIVQDKLKQLNQFPDFNNYLIFVLTRLKSEDEPTRSLSGLILKNNVKAHYQSFPPPVADFIKQECLNNIGDASSLIRATIGILITTIASKGELQMWPELLPQLCNLLNSEDYNTCEGAFGALQKICEDSSELLDSDALNRPLNIMIPKFLQFFKHCSPKIRSHAIACVNQFIMDRAQALMDNIDTFIEHLFALAVDDDPEVRKNVCRALVMLLEVRIDRLIPHMHSIIQYMLQRTQDHDENVALEACEFWLTLAEQPICKEVLASHLVQLIPILVNGMKYSEIDIILLKGDVEEDEAVPDSEQDIKPRFHKSRTVTLPHEAERPDGSEDAEDDDDDDALSDWNLRKCSAAALDVLANVFREELLPHLLPLLKGLLFHPEWVVKESGILVLGAIAEGCMQGMVPYLPELIPHLIQCLSDKKALVRSIACWTLSRYAHWVVSQPPDMHLKPLMTELLKRILDGNKRVQEAACSAFATLEEEACTELVPYLSYILDTLVFAFGKYQHKNLLILYDAIGTLADSVGHHLNQPEYIQKLMPPLIQKWNELKDEDKDLFPLLECLSSVATALQSGFLPYCEPVYQRCVTLVQKTLAQAMMYTQHPEQYEAPDKDFMIVALDLLSGLAEGLGGHVEQLVARSNIMTLLFQCMQDSMPEVRQSSFALLGDLTKACFIHVKPCIAEFMPILGTNLNPEFISVCNNATWAIGEICMQMGAEMQPYVQMVLNNLVEIINRPNTPKTLLENTAITIGRLGYVCPQEVAPMLQQFIRPWCTSLRNIRDNEEKDSAFRGICMMIGVNPGGVVQDFIFFCDAVASWVSPKDDLRDMFYKILHGFKDQVGEDNWQQFSEQFPPLLKERLAAFYGV*\r\n",
      ">ENST00000575061.2_MCRIP1\r\n",
      "RRVGARVLLCCLGWSAVPRSWLPAALTSWAQAVLPPQPLSSWDYKCMLPHQRLRGSGGGALGSDAPAMTSSPVSRVVYNGKRTSSPRSPPSSSEIFTPAHEENVRFIYEAWQGVERDLRGQVPGGERGLVEEYVEKVPNPSLKTFKPIDLSDLKRRSTQDAKKS*\r\n",
      ">ENST00000553819.5_SIVA1\r\n",
      "GSCVAPGPAAMPKRSCPFADVAPLQLKVRVSQRELSRGVCAERYSQEVFEKTKRLLFLGAQAYLDHVWDEGCAVVHLPESPKPGPTGAPRAARGQMLIGPDGRLIRSLGQASEADPSGVASIACSSCVRAVDGKAVCGQCERALCGQCVRTCWGCGSVACTLCGLVEPALCWKEHDVGM*\r\n"
     ]
    }
   ],
   "source": [
    "!tail tmp_res/match_390.fasta"
   ]
  },
  {
   "cell_type": "code",
   "execution_count": 59,
   "metadata": {},
   "outputs": [
    {
     "name": "stdout",
     "output_type": "stream",
     "text": [
      "390\n"
     ]
    }
   ],
   "source": [
    "signalP_df_m = pd.read_csv('tmp_res/SignalP_matched_390.txt', sep='\\t', comment='#', header=None)\n",
    "\n",
    "print (signalP_df_m.shape[0])\n",
    "\n",
    "signalP_df_m.columns = ['id', 'class', 'SP_score', 'Other_score', 'SP_seq']\n",
    "signalP_df_m['tr_id'] = [x.split('_')[0] for x in signalP_df_m['id'].tolist()]\n",
    "signalP_df_m['gene'] = [x.split('_')[-1] for x in signalP_df_m['id'].tolist()]"
   ]
  },
  {
   "cell_type": "code",
   "execution_count": 60,
   "metadata": {},
   "outputs": [
    {
     "name": "stderr",
     "output_type": "stream",
     "text": [
      "/home/alla/.local/lib/python3.7/site-packages/ipykernel_launcher.py:1: UserWarning: Boolean Series key will be reindexed to match DataFrame index.\n",
      "  \"\"\"Entry point for launching an IPython kernel.\n",
      "/home/alla/.local/lib/python3.7/site-packages/ipykernel_launcher.py:2: SettingWithCopyWarning: \n",
      "A value is trying to be set on a copy of a slice from a DataFrame.\n",
      "Try using .loc[row_indexer,col_indexer] = value instead\n",
      "\n",
      "See the caveats in the documentation: https://pandas.pydata.org/pandas-docs/stable/user_guide/indexing.html#returning-a-view-versus-a-copy\n",
      "  \n"
     ]
    },
    {
     "data": {
      "text/html": [
       "<div>\n",
       "<style scoped>\n",
       "    .dataframe tbody tr th:only-of-type {\n",
       "        vertical-align: middle;\n",
       "    }\n",
       "\n",
       "    .dataframe tbody tr th {\n",
       "        vertical-align: top;\n",
       "    }\n",
       "\n",
       "    .dataframe thead th {\n",
       "        text-align: right;\n",
       "    }\n",
       "</style>\n",
       "<table border=\"1\" class=\"dataframe\">\n",
       "  <thead>\n",
       "    <tr style=\"text-align: right;\">\n",
       "      <th></th>\n",
       "      <th>id</th>\n",
       "      <th>class</th>\n",
       "      <th>SP_score</th>\n",
       "      <th>Other_score</th>\n",
       "      <th>SP_seq</th>\n",
       "      <th>tr_id</th>\n",
       "      <th>gene</th>\n",
       "      <th>SP_end_pos</th>\n",
       "      <th>cds_start_aa_in_ext2</th>\n",
       "      <th>SP_start_pos</th>\n",
       "    </tr>\n",
       "  </thead>\n",
       "  <tbody>\n",
       "    <tr>\n",
       "      <th>0</th>\n",
       "      <td>ENST00000529905.5_PPT1</td>\n",
       "      <td>SP</td>\n",
       "      <td>0.000524</td>\n",
       "      <td>0.999461</td>\n",
       "      <td>CS pos: 22-23. Pr: 0.9806</td>\n",
       "      <td>ENST00000529905.5</td>\n",
       "      <td>PPT1</td>\n",
       "      <td>22</td>\n",
       "      <td>2</td>\n",
       "      <td>6</td>\n",
       "    </tr>\n",
       "    <tr>\n",
       "      <th>1</th>\n",
       "      <td>ENST00000546933.5_PPP1CC</td>\n",
       "      <td>SP</td>\n",
       "      <td>0.000258</td>\n",
       "      <td>0.999700</td>\n",
       "      <td>CS pos: 23-24. Pr: 0.9777</td>\n",
       "      <td>ENST00000546933.5</td>\n",
       "      <td>PPP1CC</td>\n",
       "      <td>23</td>\n",
       "      <td>1</td>\n",
       "      <td>7</td>\n",
       "    </tr>\n",
       "  </tbody>\n",
       "</table>\n",
       "</div>"
      ],
      "text/plain": [
       "                         id class  SP_score  Other_score  \\\n",
       "0    ENST00000529905.5_PPT1    SP  0.000524     0.999461   \n",
       "1  ENST00000546933.5_PPP1CC    SP  0.000258     0.999700   \n",
       "\n",
       "                      SP_seq              tr_id    gene  SP_end_pos  \\\n",
       "0  CS pos: 22-23. Pr: 0.9806  ENST00000529905.5    PPT1          22   \n",
       "1  CS pos: 23-24. Pr: 0.9777  ENST00000546933.5  PPP1CC          23   \n",
       "\n",
       "   cds_start_aa_in_ext2  SP_start_pos  \n",
       "0                     2             6  \n",
       "1                     1             7  "
      ]
     },
     "execution_count": 60,
     "metadata": {},
     "output_type": "execute_result"
    }
   ],
   "source": [
    "tmp = signalP_df_m[(signalP_df_r['class'] != 'OTHER') & (signalP_df_m['SP_seq'].notna())]\n",
    "tmp['SP_end_pos'] = [int(x.split('CS pos: ')[1].split('-')[0]) for x in tmp['SP_seq'].tolist()]\n",
    "tmp = tmp.merge(match_aa_df[['tr_id', 'gene', 'cds_start_aa_in_ext2']], on=['tr_id', 'gene'], how='inner')\n",
    "tmp['SP_start_pos'] = tmp['SP_end_pos'] - 16\n",
    "tmp[0:2]"
   ]
  },
  {
   "cell_type": "code",
   "execution_count": 64,
   "metadata": {},
   "outputs": [
    {
     "data": {
      "text/html": [
       "<div>\n",
       "<style scoped>\n",
       "    .dataframe tbody tr th:only-of-type {\n",
       "        vertical-align: middle;\n",
       "    }\n",
       "\n",
       "    .dataframe tbody tr th {\n",
       "        vertical-align: top;\n",
       "    }\n",
       "\n",
       "    .dataframe thead th {\n",
       "        text-align: right;\n",
       "    }\n",
       "</style>\n",
       "<table border=\"1\" class=\"dataframe\">\n",
       "  <thead>\n",
       "    <tr style=\"text-align: right;\">\n",
       "      <th></th>\n",
       "      <th>tr_id</th>\n",
       "      <th>gene</th>\n",
       "      <th>nte_seq_aa1</th>\n",
       "      <th>cds_start_aa_in_ext2</th>\n",
       "    </tr>\n",
       "  </thead>\n",
       "  <tbody>\n",
       "    <tr>\n",
       "      <th>108</th>\n",
       "      <td>ENST00000370683.5</td>\n",
       "      <td>FHL1</td>\n",
       "      <td>AMASHRHSGPSSYKVGTMAEKFDCHYCRDPLQGKKYVQKDGHHCCL...</td>\n",
       "      <td>1</td>\n",
       "    </tr>\n",
       "    <tr>\n",
       "      <th>121</th>\n",
       "      <td>ENST00000515119.5</td>\n",
       "      <td>LRPAP1</td>\n",
       "      <td>KMAPRRVRSFLRGLPALLLLLLFLGPWPAASHGGKYSREKNQPKPS...</td>\n",
       "      <td>1</td>\n",
       "    </tr>\n",
       "    <tr>\n",
       "      <th>167</th>\n",
       "      <td>ENST00000453466.1</td>\n",
       "      <td>PMPCB</td>\n",
       "      <td>EMAAAAARVVLSSAARRRLWGFSESLLIRGAAGRSLYFGENRLRST...</td>\n",
       "      <td>1</td>\n",
       "    </tr>\n",
       "    <tr>\n",
       "      <th>277</th>\n",
       "      <td>ENST00000532402.5</td>\n",
       "      <td>GANAB</td>\n",
       "      <td>KMAAVAAVAARRRRSWASLVLAFLGVCLGITLAVDRSNFKTCEESS...</td>\n",
       "      <td>1</td>\n",
       "    </tr>\n",
       "    <tr>\n",
       "      <th>41</th>\n",
       "      <td>ENST00000536961.6</td>\n",
       "      <td>CINP</td>\n",
       "      <td>QMNGTIYANECQQIRHPNSKTLGTVTPRKPVLSVSARKIKDNAADW...</td>\n",
       "      <td>1</td>\n",
       "    </tr>\n",
       "    <tr>\n",
       "      <th>...</th>\n",
       "      <td>...</td>\n",
       "      <td>...</td>\n",
       "      <td>...</td>\n",
       "      <td>...</td>\n",
       "    </tr>\n",
       "    <tr>\n",
       "      <th>171</th>\n",
       "      <td>ENST00000471855.1</td>\n",
       "      <td>RPL36A</td>\n",
       "      <td>SDGFKEVNVPKTRRTFCKKCGKHQPHKVTQYKKGKDSLYAQGKRRY...</td>\n",
       "      <td>86</td>\n",
       "    </tr>\n",
       "    <tr>\n",
       "      <th>14</th>\n",
       "      <td>ENST00000358794.9</td>\n",
       "      <td>STIP1</td>\n",
       "      <td>DPHPDARAKGWGPVPLAIPGTAWNSRHSGARGKATQRPRSRRRHSY...</td>\n",
       "      <td>95</td>\n",
       "    </tr>\n",
       "    <tr>\n",
       "      <th>174</th>\n",
       "      <td>ENST00000391910.7</td>\n",
       "      <td>STRN4</td>\n",
       "      <td>QPTWPAIREDGATAGRPFSQSKSNCPGEWCLGVEGVRLFLWGEVGG...</td>\n",
       "      <td>146</td>\n",
       "    </tr>\n",
       "    <tr>\n",
       "      <th>298</th>\n",
       "      <td>ENST00000396359.1</td>\n",
       "      <td>FABP5</td>\n",
       "      <td>ERARLLPARGPQDSGGGPPRGPPTSASFPSPKRQPFRIASCPLARA...</td>\n",
       "      <td>156</td>\n",
       "    </tr>\n",
       "    <tr>\n",
       "      <th>72</th>\n",
       "      <td>ENST00000474231.5</td>\n",
       "      <td>DMD</td>\n",
       "      <td>KHPWGPKEVFAHLIKELQDGIGQRQTVVRTLNATGEEIIQQSSKTD...</td>\n",
       "      <td>329</td>\n",
       "    </tr>\n",
       "  </tbody>\n",
       "</table>\n",
       "<p>390 rows × 4 columns</p>\n",
       "</div>"
      ],
      "text/plain": [
       "                 tr_id    gene  \\\n",
       "108  ENST00000370683.5    FHL1   \n",
       "121  ENST00000515119.5  LRPAP1   \n",
       "167  ENST00000453466.1   PMPCB   \n",
       "277  ENST00000532402.5   GANAB   \n",
       "41   ENST00000536961.6    CINP   \n",
       "..                 ...     ...   \n",
       "171  ENST00000471855.1  RPL36A   \n",
       "14   ENST00000358794.9   STIP1   \n",
       "174  ENST00000391910.7   STRN4   \n",
       "298  ENST00000396359.1   FABP5   \n",
       "72   ENST00000474231.5     DMD   \n",
       "\n",
       "                                           nte_seq_aa1  cds_start_aa_in_ext2  \n",
       "108  AMASHRHSGPSSYKVGTMAEKFDCHYCRDPLQGKKYVQKDGHHCCL...                     1  \n",
       "121  KMAPRRVRSFLRGLPALLLLLLFLGPWPAASHGGKYSREKNQPKPS...                     1  \n",
       "167  EMAAAAARVVLSSAARRRLWGFSESLLIRGAAGRSLYFGENRLRST...                     1  \n",
       "277  KMAAVAAVAARRRRSWASLVLAFLGVCLGITLAVDRSNFKTCEESS...                     1  \n",
       "41   QMNGTIYANECQQIRHPNSKTLGTVTPRKPVLSVSARKIKDNAADW...                     1  \n",
       "..                                                 ...                   ...  \n",
       "171  SDGFKEVNVPKTRRTFCKKCGKHQPHKVTQYKKGKDSLYAQGKRRY...                    86  \n",
       "14   DPHPDARAKGWGPVPLAIPGTAWNSRHSGARGKATQRPRSRRRHSY...                    95  \n",
       "174  QPTWPAIREDGATAGRPFSQSKSNCPGEWCLGVEGVRLFLWGEVGG...                   146  \n",
       "298  ERARLLPARGPQDSGGGPPRGPPTSASFPSPKRQPFRIASCPLARA...                   156  \n",
       "72   KHPWGPKEVFAHLIKELQDGIGQRQTVVRTLNATGEEIIQQSSKTD...                   329  \n",
       "\n",
       "[390 rows x 4 columns]"
      ]
     },
     "execution_count": 64,
     "metadata": {},
     "output_type": "execute_result"
    }
   ],
   "source": [
    "match_aa_df.sort_values(by='cds_start_aa_in_ext2')"
   ]
  },
  {
   "cell_type": "code",
   "execution_count": 66,
   "metadata": {},
   "outputs": [
    {
     "data": {
      "text/html": [
       "<div>\n",
       "<style scoped>\n",
       "    .dataframe tbody tr th:only-of-type {\n",
       "        vertical-align: middle;\n",
       "    }\n",
       "\n",
       "    .dataframe tbody tr th {\n",
       "        vertical-align: top;\n",
       "    }\n",
       "\n",
       "    .dataframe thead th {\n",
       "        text-align: right;\n",
       "    }\n",
       "</style>\n",
       "<table border=\"1\" class=\"dataframe\">\n",
       "  <thead>\n",
       "    <tr style=\"text-align: right;\">\n",
       "      <th></th>\n",
       "      <th>tr_id</th>\n",
       "      <th>gene</th>\n",
       "      <th>nte_seq_aa1</th>\n",
       "      <th>cds_start_aa_in_ext2</th>\n",
       "    </tr>\n",
       "  </thead>\n",
       "  <tbody>\n",
       "    <tr>\n",
       "      <th>0</th>\n",
       "      <td>ENST00000377269.3</td>\n",
       "      <td>UBA1</td>\n",
       "      <td>VAGITGICHHAQLLFVFLVEMGFHHVGQAGLEPLTSGDPSALASQS...</td>\n",
       "      <td>20</td>\n",
       "    </tr>\n",
       "    <tr>\n",
       "      <th>2</th>\n",
       "      <td>ENST00000407537.5</td>\n",
       "      <td>COMT</td>\n",
       "      <td>RVCDLNPWASASGLLCSALCLLGPLTRLLSGSQATCLEGHTRRISN...</td>\n",
       "      <td>60</td>\n",
       "    </tr>\n",
       "    <tr>\n",
       "      <th>4</th>\n",
       "      <td>ENST00000425345.1</td>\n",
       "      <td>EPDR1</td>\n",
       "      <td>FSQRDLSRGGSLGDSMVRDWEGRCAHRGRPAGGGLSNTQRGGGRLF...</td>\n",
       "      <td>15</td>\n",
       "    </tr>\n",
       "    <tr>\n",
       "      <th>5</th>\n",
       "      <td>ENST00000591305.5</td>\n",
       "      <td>PTPN2</td>\n",
       "      <td>PALSPDRAGPEPLRRRRLCSRQLAPAAMPTTIEREFEELDTQRRWQ...</td>\n",
       "      <td>27</td>\n",
       "    </tr>\n",
       "    <tr>\n",
       "      <th>6</th>\n",
       "      <td>ENST00000549190.5</td>\n",
       "      <td>PPHLN1</td>\n",
       "      <td>PAGGAGVAAVAAAASGAGAASPRCSPVAPLVPPAAGDCLALQSPSE...</td>\n",
       "      <td>57</td>\n",
       "    </tr>\n",
       "    <tr>\n",
       "      <th>...</th>\n",
       "      <td>...</td>\n",
       "      <td>...</td>\n",
       "      <td>...</td>\n",
       "      <td>...</td>\n",
       "    </tr>\n",
       "    <tr>\n",
       "      <th>384</th>\n",
       "      <td>ENST00000587806.5</td>\n",
       "      <td>ELOF1</td>\n",
       "      <td>WASSVLNGVLLCCPGWSAMVRSRLTAVSASWVQAHPPADMGRRKSK...</td>\n",
       "      <td>18</td>\n",
       "    </tr>\n",
       "    <tr>\n",
       "      <th>385</th>\n",
       "      <td>ENST00000343304.10</td>\n",
       "      <td>LRRC41</td>\n",
       "      <td>RSAGDTLGLAHLPKMAAPEAWRARSCWFCEVAAATTMEATSREAAP...</td>\n",
       "      <td>14</td>\n",
       "    </tr>\n",
       "    <tr>\n",
       "      <th>386</th>\n",
       "      <td>ENST00000394066.6</td>\n",
       "      <td>KLC2</td>\n",
       "      <td>ARRPPARTLVLTDATAMAMMVFPREEKLSQDEIVLGTKAVIQGLET...</td>\n",
       "      <td>16</td>\n",
       "    </tr>\n",
       "    <tr>\n",
       "      <th>387</th>\n",
       "      <td>ENST00000356861.9</td>\n",
       "      <td>TNPO2</td>\n",
       "      <td>LGDVARIGLPCAMDWQPDEQGLQQVLQLLKDSQSPNTATQRIVQDK...</td>\n",
       "      <td>12</td>\n",
       "    </tr>\n",
       "    <tr>\n",
       "      <th>388</th>\n",
       "      <td>ENST00000575061.2</td>\n",
       "      <td>MCRIP1</td>\n",
       "      <td>RRVGARVLLCCLGWSAVPRSWLPAALTSWAQAVLPPQPLSSWDYKC...</td>\n",
       "      <td>46</td>\n",
       "    </tr>\n",
       "  </tbody>\n",
       "</table>\n",
       "<p>179 rows × 4 columns</p>\n",
       "</div>"
      ],
      "text/plain": [
       "                  tr_id    gene  \\\n",
       "0     ENST00000377269.3    UBA1   \n",
       "2     ENST00000407537.5    COMT   \n",
       "4     ENST00000425345.1   EPDR1   \n",
       "5     ENST00000591305.5   PTPN2   \n",
       "6     ENST00000549190.5  PPHLN1   \n",
       "..                  ...     ...   \n",
       "384   ENST00000587806.5   ELOF1   \n",
       "385  ENST00000343304.10  LRRC41   \n",
       "386   ENST00000394066.6    KLC2   \n",
       "387   ENST00000356861.9   TNPO2   \n",
       "388   ENST00000575061.2  MCRIP1   \n",
       "\n",
       "                                           nte_seq_aa1  cds_start_aa_in_ext2  \n",
       "0    VAGITGICHHAQLLFVFLVEMGFHHVGQAGLEPLTSGDPSALASQS...                    20  \n",
       "2    RVCDLNPWASASGLLCSALCLLGPLTRLLSGSQATCLEGHTRRISN...                    60  \n",
       "4    FSQRDLSRGGSLGDSMVRDWEGRCAHRGRPAGGGLSNTQRGGGRLF...                    15  \n",
       "5    PALSPDRAGPEPLRRRRLCSRQLAPAAMPTTIEREFEELDTQRRWQ...                    27  \n",
       "6    PAGGAGVAAVAAAASGAGAASPRCSPVAPLVPPAAGDCLALQSPSE...                    57  \n",
       "..                                                 ...                   ...  \n",
       "384  WASSVLNGVLLCCPGWSAMVRSRLTAVSASWVQAHPPADMGRRKSK...                    18  \n",
       "385  RSAGDTLGLAHLPKMAAPEAWRARSCWFCEVAAATTMEATSREAAP...                    14  \n",
       "386  ARRPPARTLVLTDATAMAMMVFPREEKLSQDEIVLGTKAVIQGLET...                    16  \n",
       "387  LGDVARIGLPCAMDWQPDEQGLQQVLQLLKDSQSPNTATQRIVQDK...                    12  \n",
       "388  RRVGARVLLCCLGWSAVPRSWLPAALTSWAQAVLPPQPLSSWDYKC...                    46  \n",
       "\n",
       "[179 rows x 4 columns]"
      ]
     },
     "execution_count": 66,
     "metadata": {},
     "output_type": "execute_result"
    }
   ],
   "source": [
    "match_aa_df[match_aa_df['cds_start_aa_in_ext2'] > 10]"
   ]
  },
  {
   "cell_type": "code",
   "execution_count": null,
   "metadata": {},
   "outputs": [],
   "source": []
  },
  {
   "cell_type": "markdown",
   "metadata": {},
   "source": [
    "### CS before CDS start"
   ]
  },
  {
   "cell_type": "code",
   "execution_count": 61,
   "metadata": {},
   "outputs": [
    {
     "data": {
      "text/html": [
       "<div>\n",
       "<style scoped>\n",
       "    .dataframe tbody tr th:only-of-type {\n",
       "        vertical-align: middle;\n",
       "    }\n",
       "\n",
       "    .dataframe tbody tr th {\n",
       "        vertical-align: top;\n",
       "    }\n",
       "\n",
       "    .dataframe thead th {\n",
       "        text-align: right;\n",
       "    }\n",
       "</style>\n",
       "<table border=\"1\" class=\"dataframe\">\n",
       "  <thead>\n",
       "    <tr style=\"text-align: right;\">\n",
       "      <th></th>\n",
       "      <th>id</th>\n",
       "      <th>class</th>\n",
       "      <th>SP_score</th>\n",
       "      <th>Other_score</th>\n",
       "      <th>SP_seq</th>\n",
       "      <th>tr_id</th>\n",
       "      <th>gene</th>\n",
       "      <th>SP_end_pos</th>\n",
       "      <th>cds_start_aa_in_ext2</th>\n",
       "      <th>SP_start_pos</th>\n",
       "    </tr>\n",
       "  </thead>\n",
       "  <tbody>\n",
       "  </tbody>\n",
       "</table>\n",
       "</div>"
      ],
      "text/plain": [
       "Empty DataFrame\n",
       "Columns: [id, class, SP_score, Other_score, SP_seq, tr_id, gene, SP_end_pos, cds_start_aa_in_ext2, SP_start_pos]\n",
       "Index: []"
      ]
     },
     "execution_count": 61,
     "metadata": {},
     "output_type": "execute_result"
    }
   ],
   "source": [
    "tmp[tmp['cds_start_aa_in_ext2'] >= tmp['SP_end_pos']]"
   ]
  },
  {
   "cell_type": "markdown",
   "metadata": {},
   "source": [
    "### genes with CS-16 position before CDS "
   ]
  },
  {
   "cell_type": "code",
   "execution_count": 62,
   "metadata": {},
   "outputs": [
    {
     "data": {
      "text/plain": [
       "[]"
      ]
     },
     "execution_count": 62,
     "metadata": {},
     "output_type": "execute_result"
    }
   ],
   "source": [
    "tmp[tmp['cds_start_aa_in_ext2'] >= tmp['SP_start_pos']]['gene'].tolist()"
   ]
  },
  {
   "cell_type": "code",
   "execution_count": null,
   "metadata": {},
   "outputs": [],
   "source": []
  },
  {
   "cell_type": "code",
   "execution_count": null,
   "metadata": {},
   "outputs": [],
   "source": []
  },
  {
   "cell_type": "code",
   "execution_count": null,
   "metadata": {},
   "outputs": [],
   "source": []
  },
  {
   "cell_type": "markdown",
   "metadata": {},
   "source": [
    "## top-5000 RiboSET "
   ]
  },
  {
   "cell_type": "code",
   "execution_count": 69,
   "metadata": {},
   "outputs": [
    {
     "data": {
      "text/plain": [
       "4341"
      ]
     },
     "execution_count": 69,
     "metadata": {},
     "output_type": "execute_result"
    }
   ],
   "source": [
    "RiboSET_EXT_cds_cov_nonzero.shape[0]"
   ]
  },
  {
   "cell_type": "code",
   "execution_count": 74,
   "metadata": {},
   "outputs": [
    {
     "ename": "NameError",
     "evalue": "name 'RiboSET_EXT_cds_cov_nonzero' is not defined",
     "output_type": "error",
     "traceback": [
      "\u001b[0;31m---------------------------------------------------------------------------\u001b[0m",
      "\u001b[0;31mNameError\u001b[0m                                 Traceback (most recent call last)",
      "\u001b[0;32m<ipython-input-74-7be919da0d65>\u001b[0m in \u001b[0;36m<module>\u001b[0;34m\u001b[0m\n\u001b[0;32m----> 1\u001b[0;31m \u001b[0mRiboSET_EXT_cds_cov_nonzero\u001b[0m\u001b[0;34m[\u001b[0m\u001b[0;34m'start_codon_local_coo_start'\u001b[0m\u001b[0;34m]\u001b[0m \u001b[0;34m=\u001b[0m \u001b[0;34m[\u001b[0m\u001b[0mint\u001b[0m\u001b[0;34m(\u001b[0m\u001b[0mx\u001b[0m\u001b[0;34m.\u001b[0m\u001b[0msplit\u001b[0m\u001b[0;34m(\u001b[0m\u001b[0;34m'; '\u001b[0m\u001b[0;34m)\u001b[0m\u001b[0;34m[\u001b[0m\u001b[0;36m1\u001b[0m\u001b[0;34m]\u001b[0m\u001b[0;34m.\u001b[0m\u001b[0msplit\u001b[0m\u001b[0;34m(\u001b[0m\u001b[0;34m'-'\u001b[0m\u001b[0;34m)\u001b[0m\u001b[0;34m[\u001b[0m\u001b[0;36m0\u001b[0m\u001b[0;34m]\u001b[0m\u001b[0;34m)\u001b[0m\u001b[0;34m-\u001b[0m\u001b[0;36m1\u001b[0m \u001b[0;32mfor\u001b[0m \u001b[0mx\u001b[0m \u001b[0;32min\u001b[0m \u001b[0mRiboSET_EXT_cds_cov_nonzero\u001b[0m\u001b[0;34m[\u001b[0m\u001b[0;34m'Riboseq_Summary'\u001b[0m\u001b[0;34m]\u001b[0m\u001b[0;34m.\u001b[0m\u001b[0mtolist\u001b[0m\u001b[0;34m(\u001b[0m\u001b[0;34m)\u001b[0m\u001b[0;34m]\u001b[0m\u001b[0;34m\u001b[0m\u001b[0;34m\u001b[0m\u001b[0m\n\u001b[0m\u001b[1;32m      2\u001b[0m \u001b[0;34m\u001b[0m\u001b[0m\n\u001b[1;32m      3\u001b[0m \u001b[0mriboset_fasta\u001b[0m \u001b[0;34m=\u001b[0m \u001b[0mopen\u001b[0m\u001b[0;34m(\u001b[0m\u001b[0;34m'tmp_res/riboset_ext.fasta'\u001b[0m\u001b[0;34m,\u001b[0m \u001b[0;34m'w'\u001b[0m\u001b[0;34m)\u001b[0m\u001b[0;34m\u001b[0m\u001b[0;34m\u001b[0m\u001b[0m\n\u001b[1;32m      4\u001b[0m \u001b[0;34m\u001b[0m\u001b[0m\n\u001b[1;32m      5\u001b[0m \u001b[0mli\u001b[0m \u001b[0;34m=\u001b[0m \u001b[0;34m[\u001b[0m\u001b[0;34m]\u001b[0m\u001b[0;34m\u001b[0m\u001b[0;34m\u001b[0m\u001b[0m\n",
      "\u001b[0;31mNameError\u001b[0m: name 'RiboSET_EXT_cds_cov_nonzero' is not defined"
     ]
    }
   ],
   "source": [
    "RiboSET_EXT_cds_cov_nonzero['start_codon_local_coo_start'] = [int(x.split('; ')[1].split('-')[0])-1 for x in RiboSET_EXT_cds_cov_nonzero['Riboseq_Summary'].tolist()]\n",
    "\n",
    "riboset_fasta = open('tmp_res/riboset_ext.fasta', 'w')\n",
    "\n",
    "li = []\n",
    "\n",
    "for row in RiboSET_EXT_cds_cov_nonzero[['tr_id', 'gene', 'N_term_start1', 'N_term_end1', 'start_codon_local_coo_start']].to_numpy():\n",
    "    tr_id  = row[0]\n",
    "    gene = row[1]\n",
    "    N_term_start = row[2]\n",
    "    N_term_stop = row[3]\n",
    "    N_term_start_pred = row[-1] \n",
    "    tr_seq = metadata_pc_g25[metadata_pc_g25['tr_id'] == tr_id].iloc[0].transcript_seq \n",
    "    cds_stop = metadata_pc_g25[metadata_pc_g25['tr_id'] == tr_id].iloc[0].cds_stop_pos\n",
    "    cds_start = metadata_pc_g25[metadata_pc_g25['tr_id'] == tr_id].iloc[0].cds_start_pos\n",
    "    \n",
    "    nte_seq_nt1 = tr_seq[N_term_start:cds_stop]\n",
    "    nte_seq_nt2 = tr_seq[N_term_start_pred:cds_stop]\n",
    "    \n",
    "    nte_seq_aa1 = str(Seq(nte_seq_nt1).translate())\n",
    "    nte_seq_aa2 = 'M'+str(Seq(nte_seq_nt2).translate())[1:]\n",
    "    \n",
    "    # position of CDS in NTE_aa: \n",
    "    # 5'    N_term_start_pred    cds_start_pos\n",
    "    # \n",
    "    cds_start_aa_in_ext2 = (cds_start - N_term_start_pred) // 3\n",
    "    \n",
    "    li.append([tr_id, gene, nte_seq_aa1, nte_seq_aa2, cds_start_aa_in_ext2, \n",
    "              cds_start_aa_in_ext2])\n",
    "    \n",
    "    riboset_fasta.write('>'+tr_id+'_'+gene+'\\n')\n",
    "    riboset_fasta.write(nte_seq_aa2[:-1]+'\\n')\n",
    "  \n",
    "riboset_fasta.close()\n",
    "        \n",
    "NTE_aa_EXT_df_ribo = pd.DataFrame(li, columns = ['tr_id', 'gene', 'nte_seq_aa1', 'nte_seq_aa2',\n",
    "                                       'cds_start_aa_in_ext2', 'ext_len'])\n"
   ]
  },
  {
   "cell_type": "code",
   "execution_count": 71,
   "metadata": {},
   "outputs": [
    {
     "name": "stdout",
     "output_type": "stream",
     "text": [
      ">ENST00000304661.5_C1GALT1C1\r\n",
      "MVRSVTEWCANVRGNPCAAALSCPQAVLDAGKMLSESSSFLKGVMLGSIFCALITMLGHIRIGHGNRMHHHEHHHLQAPNKEDILKISEDERMELSKSFRVYCIILVKPKDVSLWAAVKETWTKHCDKAEFFSSENVKVFESINMDTNDMWLMMRKAYKYAFDKYRDQYNWFFLARPTTFAIIENLKYFLLKKDPSQPFYLGHTIKSGDLEYVGMEGGIVLSVESMKRLNSLLNIPEKCPEQGGMIWKISEDKQLAVCLKYAGVFAENAEDADGKDVFNTKSVGLSIKEAMTYHPNQVVEGCCSDMAVTFNGLTPNQMHVMMYGVYRLRAFGHIFNDALVFLPPNGSDND\r\n",
      ">ENST00000371122.8_SMARCA1\r\n",
      "MQPLPPPRSPRPLPCPPTRSRSHGMEQDTAAVAATVAAADATATIVVIEDEQPGPSTSQEEGAAAAATEATAATEKGEKKKEKNVSSFQLKLAAKAPKSEKEMDPEYEEKMKADRAKRFEFLLKQTELFAHFIQPSAQKSPTSPLNMKLGRPRIKKDEKQSLISAGDYRHRRTEQEEDEELLSESRKTSNVCIRFEVSPSYVKGGPLRDYQIRGLNWLISLYENGVNGILADEMGLGKTLQTIALLGYLKHYRNIPGPHMVLVPKSTLHNWMNEFKRWVPSLRVICFVGDKDARAAFIRDEMMPGEWDVCVTSYEMVIKEKSVFKKFHWRYLVIDEAHRIKNEKSKLSEIVREFKSTNRLLLTGTPLQNNLHELWALLNFLLPDVFNSADDFDSWFDTKNCLGDQKLVERLHAVLKPFLLRRIKTDVEKSLPPKKEIKIYLGLSKMQREWYTKILMKDIDVLNSSGKMDKMRLLNILMQLRKCCNHPYLFDGAEPGPPYTTDEHIVSNSGKMVVLDKLLAKLKEQGSRVLIFSQMTRLLDILEDYCMWRGYEYCRLDGQTPHEEREDKFLEVEFLGQREAIEAFNAPNSSKFIFMLSTRAGGLGINLASADVVILYDSDWNPQVDLQAMDRAHRIGQKKPVRVFRLITDNTVEERIVERAEIKLRLDSIVIQQGRLIDQQSNKLAKEEMLQMIRHGATHVFASKESELTDEDITTILERGEKKTAEMNERLQKMGESSLRNFRMDIEQSLYKFEGEDYREKQKLGMVEWIEPPKRERKANYAVDAYFREALRVSEPKIPKAPRPPKQPNVQDFQFFPPRLFELLEKEILYYRKTIGYKVPRNPDIPNPALAQREEQKKIDGAEPLTPEETEEKEKLLTQGFTNWTKRDFNQFIKANEKYGRDDIDNIAREVEGKSPEEVMEYSAVFWERCNELQDIEKIMAQIERGEARIQRRISIKKALDAKIARYKAPFHQLRIQYGTSKGKNYTEEEDRFLICMLHKMGFDRENVYEELRQCVRNAPQFRFDWFIKSRTAMEFQRRCNTLISLIEKENMEIEERERAEKKKRATKTPMVKFSAFS\r\n",
      ">ENST00000330374.6_VMA21\r\n",
      "MSAAAEPSSAAERLCRHGYTMERPDKAALNALQPPEFRNESSLASTLKTLLFFTALMITVPIGLYFTTKSYIFEGALGMSNRDSYFYAAIVAVVAVHVVLALFVYVAWNEGSRQWREGKQD\r\n",
      ">ENST00000370274.7_NSDHL\r\n",
      "MRPDRGAPTDGKEKLITNGTIFCFEMEPAVSEPMRDQVARTHLTEDTPKVNADIEKVNQNQAKRCTVIGGSGFLGQHMVEQLLARGYAVNVFDIQQGFDNPQVRFFLGDLCSRQDLYPALKGVNTVFHCASPPPSSNNKELFYRVNYIGTKNVIETCKEAGVQKLILTSSASVIFEGVDIKNGTEDLPYAMKPIDYYTETKILQERAVLGANDPEKNFLTTAIRPHGIFGPRDPQLVPILIEAARNGKMKFVIGNGKNLVDFTFVENVVHGHILAAEQLSRDSTLGGKAFHITNDEPIPFWTFLSRILTGLNYEAPKYHIPYWVAYYLALLLSLLVMVISPVIQLQPTFTPMRVALAGTFHYYSCERAKKAMGYQPLVTMDDAMERTVQSFRHLRRVK\r\n",
      ">ENST00000447750.6_GDI1\r\n",
      "MAAAAVAAATAAVKEEEEPSGRWHRGLTMDEEYDVIVLGTGLTECILSGIMSVNGKKVLHMDRNPYYGGESSSITPLEELYKRFQLLEGPPESMGRGRDWNVDLIPKFLMANGQLVKMLLYTEVTRYLDFKVVEGSFVYKGGKIYKVPSTETEALASNLMGMFEKRRFRKFLVFVANFDENDPKTFEGVDPQTTSMRDVYRKFDLGQDVIDFTGHALALYRTDDYLDQPCLETVNRIKLYSESLARYGKSPYLYPLYGLGELPQGFARLSAIYGGTYMLNKPVDDIIMENGKVVGVKSEGEVARCKQLICDPSYIPDRVRKAGQVIRIICILSHPIKNTNDANSCQIIIPQNQVNRKSDIYVCMISYAHNVAAQGKYIAIASTTVETTDPEKEVEPALELLEPIDQKFVAISDLYEPIDDGCESQVFCSCSYDATTHFETTCNDIKDIYKRMAGTAFDFENMKRKQNDVFGEAEQ\r\n"
     ]
    }
   ],
   "source": [
    "!tail tmp_res/riboset_ext.fasta"
   ]
  },
  {
   "cell_type": "code",
   "execution_count": 72,
   "metadata": {},
   "outputs": [
    {
     "name": "stdout",
     "output_type": "stream",
     "text": [
      "390\r\n"
     ]
    }
   ],
   "source": [
    "!grep '>' tmp_res/riboset_ext.fasta | wc -l"
   ]
  },
  {
   "cell_type": "code",
   "execution_count": null,
   "metadata": {},
   "outputs": [],
   "source": []
  },
  {
   "cell_type": "code",
   "execution_count": null,
   "metadata": {},
   "outputs": [],
   "source": []
  },
  {
   "cell_type": "code",
   "execution_count": null,
   "metadata": {},
   "outputs": [],
   "source": []
  },
  {
   "cell_type": "code",
   "execution_count": null,
   "metadata": {},
   "outputs": [],
   "source": []
  },
  {
   "cell_type": "markdown",
   "metadata": {},
   "source": [
    "## ext match "
   ]
  },
  {
   "cell_type": "code",
   "execution_count": null,
   "metadata": {},
   "outputs": [],
   "source": [
    "a = pairs_4k_final[['tr_id']]\n",
    "a.columns = ['tr_id1']\n",
    "\n",
    "b= a.merge(meta, on=['tr_id1'], how='inner')\n",
    "\n",
    "b.shape"
   ]
  },
  {
   "cell_type": "code",
   "execution_count": null,
   "metadata": {},
   "outputs": [],
   "source": [
    "match_fasta = open('tmp_res/match_4k.fasta', 'w')\n",
    "\n",
    "li = []\n",
    "\n",
    "for row in b[['tr_id', 'gene', 'N_term_start1', 'N_term_end1']].to_numpy():\n",
    "    tr_id  = row[0]\n",
    "    gene = row[1]\n",
    "    N_term_start = row[2]\n",
    "    N_term_stop = row[3]\n",
    "    \n",
    "    tr_seq = metadata_pc_g25[metadata_pc_g25['tr_id'] == tr_id].iloc[0].transcript_seq \n",
    "    cds_stop = metadata_pc_g25[metadata_pc_g25['tr_id'] == tr_id].iloc[0].cds_stop_pos\n",
    "    cds_start = metadata_pc_g25[metadata_pc_g25['tr_id'] == tr_id].iloc[0].cds_start_pos\n",
    "    \n",
    "    nte_seq_nt1 = tr_seq[N_term_start:cds_stop]  \n",
    "    nte_seq_aa1 = str(Seq(nte_seq_nt1).translate())\n",
    "    \n",
    "    cds_start_aa_in_ext2 = (cds_start - N_term_start) // 3\n",
    "    \n",
    "    li.append([tr_id, gene, nte_seq_aa1, cds_start_aa_in_ext2])\n",
    "    \n",
    "    match_fasta.write('>'+tr_id+'_'+gene+'\\n')\n",
    "    match_fasta.write(nte_seq_aa1+'\\n')\n",
    "  \n",
    "match_fasta.close()\n",
    "        \n",
    "match_aa_df = pd.DataFrame(li, columns = ['tr_id', 'gene', 'nte_seq_aa1', \n",
    "                                       'cds_start_aa_in_ext2'])\n"
   ]
  },
  {
   "cell_type": "code",
   "execution_count": null,
   "metadata": {},
   "outputs": [],
   "source": []
  },
  {
   "cell_type": "code",
   "execution_count": null,
   "metadata": {},
   "outputs": [],
   "source": []
  },
  {
   "cell_type": "code",
   "execution_count": null,
   "metadata": {},
   "outputs": [],
   "source": []
  },
  {
   "cell_type": "code",
   "execution_count": null,
   "metadata": {},
   "outputs": [],
   "source": []
  },
  {
   "cell_type": "code",
   "execution_count": null,
   "metadata": {},
   "outputs": [],
   "source": []
  },
  {
   "cell_type": "markdown",
   "metadata": {},
   "source": [
    "## PhyloSET"
   ]
  },
  {
   "cell_type": "code",
   "execution_count": 41,
   "metadata": {},
   "outputs": [],
   "source": [
    "li = []\n",
    "\n",
    "f = open('../data/tmhmm_and_phobius_data/phyloset.fasta', 'w')\n",
    "\n",
    "for row in PhyloSET[['tr_id', 'gene', 'N_term_start1', 'N_term_end1']].to_numpy():\n",
    "    tr_id  = row[0]\n",
    "    gene = row[1]\n",
    "    N_term_start = row[2]\n",
    "    N_term_stop = row[3]\n",
    "    tr_seq = metadata_pc_g25[metadata_pc_g25['tr_id'] == tr_id].iloc[0].transcript_seq \n",
    "    cds_stop = metadata_pc_g25[metadata_pc_g25['tr_id'] == tr_id].iloc[0].cds_stop_pos\n",
    "    cds_start = metadata_pc_g25[metadata_pc_g25['tr_id'] == tr_id].iloc[0].cds_start_pos\n",
    "    \n",
    "    nte_seq_nt1 = tr_seq[N_term_start:cds_stop]\n",
    "    \n",
    "    nte_seq_aa1 = str(Seq(nte_seq_nt1).translate())\n",
    "    \n",
    "    # position of CDS in NTE_aa: \n",
    "    # 5'    N_term_start_pred    cds_start_pos\n",
    "    # \n",
    "    cds_start_aa_in_ext2 = (cds_start - N_term_start) // 3\n",
    "    \n",
    "    li.append([tr_id, gene, nte_seq_aa1, cds_start_aa_in_ext2])\n",
    "    \n",
    "    f.write('>'+tr_id+'_'+gene+'\\n')\n",
    "    f.write(nte_seq_aa1[:-1]+'\\n')\n",
    "    \n",
    "NTE_aa_df = pd.DataFrame(li, columns = ['tr_id', 'gene', 'nte_seq_aa1', \n",
    "                                       'cds_start_aa_in_ext2'])\n",
    "\n",
    "f.close()"
   ]
  },
  {
   "cell_type": "code",
   "execution_count": 42,
   "metadata": {},
   "outputs": [
    {
     "name": "stdout",
     "output_type": "stream",
     "text": [
      ">ENST00000373519.1_PABPC1L2A\r\n",
      "ADADADAKVAAEVAAEVAAAAAAADADADETLGDCEGNPDFQMASLYVGDLHPEVTEAMLYEKFSPAGPILSIRICRDKITRRSLGYAYVNYQQPVDAKRALETLNFDVIKGRPVRIMWSQRDPSLRKSGVGNVFIKNLGKTIDNKALYNIFSAFGNILSCKVACDEKGPKGYGFVHFQKQESAERAIDVMNGMFLNYRKIFVGRFKSHKEREAERGAWARQSTSADVKDFEEDTDEEATLR\r\n",
      ">ENST00000371558.6_UBE2A\r\n",
      "TACPALDVPPPSLCSQVGSAPVYTGVVLSRRQTDPRLRRGSAVPLGASASPSPASPASSASSPAAGTRDPSVCPTPDPARDMSTPARRRLMRDFKRLQEDPPAGVSGAPSENNIMVWNAVIFGPEGTPFEDGTFKLTIEFTEEYPNKPPTVRFVSKMFHPNVYADGSICLDILQNRWSPTYDVSSILTSIQSLLDEPNPNSPANSQAAQLYQENKREYEKRVSAIVEQSWRDC\r\n",
      ">ENST00000346330.6_UBE2A\r\n",
      "TGVVLSRRQTDPRLRRGSAVPLGASASPSPASPASSASSPAAGTRDPSVCPTPDPARDMSTPARRRLMRDFKRLQEDPPAGVSGAPSENNIMVWNAVIFGPEGTPFEDGTFKLTIEFTEEYPNKPPTVRFVSKMFHPNDGSICLDILQNRWSPTYDVSSILTSIQSLLDEPNPNSPANSQAAQLYQENKREYEKRVSAIVEQSWRDC\r\n",
      ">ENST00000625938.2_UBE2A\r\n",
      "VLSRRQTDPRLRRGSAVPLGASASPSPASPASSASSPAAGTRDPSVCPTPDPARDMSTPARRRLMRDFKRLQEDPPAGVSGAPSENNIMVWNAVIFGPEGTPFEDVYADGSICLDILQNRWSPTYDVSSILTSIQSLLDEPNPNSPANSQAAQLYQENKREYEKRVSAIVEQSWRDC\r\n",
      ">ENST00000631185.2_UBE2A\r\n",
      "TDPRLRRGSAVPLGASASPSPASPASSASSPAAGTRDPSVCPTPDPARDMSTPARRRLMRDFKRLQEDPPAGVSGAPSENNIMVWNAVIFGPEGTPFEDGTFKLTIEFTEEYPNKPPTVRFVSKMFHPNVYADGSICLDILQNRWSPTYDVSSILTSIQILWVKSLYGIVNF\r\n"
     ]
    }
   ],
   "source": [
    "!tail ../data/tmhmm_and_phobius_data/phyloset.fasta"
   ]
  },
  {
   "cell_type": "code",
   "execution_count": 44,
   "metadata": {},
   "outputs": [],
   "source": [
    "signalP_df = pd.read_csv('../data/SignalP_PCSF.txt', sep='\\t', comment='#', header=None)\n",
    "signalP_df.columns = ['id', 'class', 'SP_score', 'Other_score', 'SP_seq']\n",
    "signalP_df['tr_id'] = [x.split('_')[0] for x in signalP_df['id'].tolist()]\n",
    "signalP_df['gene'] = [x.split('_')[-1] for x in signalP_df['id'].tolist()]"
   ]
  },
  {
   "cell_type": "code",
   "execution_count": 45,
   "metadata": {},
   "outputs": [
    {
     "name": "stdout",
     "output_type": "stream",
     "text": [
      "# of genes with pred signalP from PhyloSET\n"
     ]
    },
    {
     "data": {
      "text/plain": [
       "0"
      ]
     },
     "execution_count": 45,
     "metadata": {},
     "output_type": "execute_result"
    }
   ],
   "source": [
    "print ('# of genes with pred signalP from PhyloSET')\n",
    "signalP_df[(signalP_df['class'] != 'OTHER') & \n",
    "           (signalP_df['SP_seq'] != 'CS pos: ?. Probable protein fragment')].shape[0]"
   ]
  },
  {
   "cell_type": "code",
   "execution_count": null,
   "metadata": {},
   "outputs": [],
   "source": []
  },
  {
   "cell_type": "markdown",
   "metadata": {},
   "source": [
    "# TargetP "
   ]
  },
  {
   "cell_type": "markdown",
   "metadata": {},
   "source": [
    "## RiboSET "
   ]
  },
  {
   "cell_type": "code",
   "execution_count": 46,
   "metadata": {},
   "outputs": [
    {
     "name": "stdout",
     "output_type": "stream",
     "text": [
      "genes from RiboSET with mito signal: \n",
      "16\n"
     ]
    }
   ],
   "source": [
    "targetP_riboset = pd.read_csv('../data/TargetP_RiboSET.txt', sep='\\t', comment='#', header=None)\n",
    "targetP_riboset.columns = ['ids', 'class', 'score_other', 'score_sp', 'score_m', 'seq_m']\n",
    "\n",
    "targetP_riboset['tr_id'] = [x.split('_')[0] for x in targetP_riboset['ids'].tolist()]\n",
    "targetP_riboset['gene'] = [x.split('_')[-1] for x in targetP_riboset['ids'].tolist()]\n",
    "\n",
    "targetP_riboset = targetP_riboset[~targetP_riboset['gene'].isin(['STIM2', 'AP3S1', 'PTPRJ'])]\n",
    "\n",
    "print ('genes from RiboSET with mito signal: ')\n",
    "\n",
    "print (targetP_riboset[(targetP_riboset['seq_m'].notna()) & (targetP_riboset['class'] == 'mTP')].gene.nunique())"
   ]
  },
  {
   "cell_type": "code",
   "execution_count": 48,
   "metadata": {},
   "outputs": [
    {
     "name": "stdout",
     "output_type": "stream",
     "text": [
      "16\n"
     ]
    }
   ],
   "source": [
    "tmp = targetP_riboset[(targetP_riboset['seq_m'].notna()) & \n",
    "                      (targetP_riboset['class'] == 'mTP')].merge(NTE_aa_df_ribo, on=['gene', 'tr_id'], how='inner')\n",
    "\n",
    "print (tmp.shape[0])\n",
    "\n",
    "tmp['CS_pos'] = [int(x.split('CS pos:')[1].split('-')[0]) for x in tmp['seq_m'].tolist()]\n",
    "tmp['m_start'] = tmp['CS_pos']-20"
   ]
  },
  {
   "cell_type": "markdown",
   "metadata": {},
   "source": [
    "### check if CS-n < cds "
   ]
  },
  {
   "cell_type": "code",
   "execution_count": 51,
   "metadata": {},
   "outputs": [
    {
     "data": {
      "text/plain": [
       "5"
      ]
     },
     "execution_count": 51,
     "metadata": {},
     "output_type": "execute_result"
    }
   ],
   "source": [
    "tmp[tmp['cds_start_aa_in_ext2'] >= tmp['CS_pos']].gene.nunique()"
   ]
  },
  {
   "cell_type": "markdown",
   "metadata": {},
   "source": [
    "### check if CS-n < m_start "
   ]
  },
  {
   "cell_type": "code",
   "execution_count": 52,
   "metadata": {},
   "outputs": [
    {
     "data": {
      "text/plain": [
       "11"
      ]
     },
     "execution_count": 52,
     "metadata": {},
     "output_type": "execute_result"
    }
   ],
   "source": [
    "# NTE start ---- m_start -----  CS_pos ------ CDS start  \n",
    "tmp[tmp['cds_start_aa_in_ext2'] >= tmp['m_start']].gene.nunique()"
   ]
  },
  {
   "cell_type": "markdown",
   "metadata": {},
   "source": [
    "## PhyloSET"
   ]
  },
  {
   "cell_type": "code",
   "execution_count": 54,
   "metadata": {},
   "outputs": [
    {
     "name": "stdout",
     "output_type": "stream",
     "text": [
      "genes from RiboSET with mito signal: \n",
      "0\n"
     ]
    }
   ],
   "source": [
    "targetP_phyloset = pd.read_csv('../data/TargetP_PhyloSET.txt', sep='\\t', comment='#', header=None)\n",
    "targetP_phyloset.columns = ['ids', 'class', 'score_other', 'score_sp', 'score_m', 'seq_m']\n",
    "\n",
    "targetP_phyloset['tr_id'] = [x.split('_')[0] for x in targetP_phyloset['ids'].tolist()]\n",
    "targetP_phyloset['gene'] = [x.split('_')[-1] for x in targetP_phyloset['ids'].tolist()]\n",
    "\n",
    "print ('genes from RiboSET with mito signal: ')\n",
    "\n",
    "print (targetP_phyloset[(targetP_phyloset['seq_m'].notna()) & (targetP_phyloset['class'] == 'mTP')].gene.nunique())"
   ]
  },
  {
   "cell_type": "code",
   "execution_count": null,
   "metadata": {},
   "outputs": [],
   "source": []
  },
  {
   "cell_type": "markdown",
   "metadata": {},
   "source": [
    "## Match RiboSET "
   ]
  },
  {
   "cell_type": "code",
   "execution_count": null,
   "metadata": {},
   "outputs": [],
   "source": [
    "targetP_m = pd.read_csv('tmp_res/X.txt', sep='\\t', comment='#', header=None)\n",
    "targetP_m.columns = ['ids', 'class', 'score_other', 'score_sp', 'score_m', 'seq_m']\n",
    "\n",
    "targetP_m['tr_id'] = [x.split('_')[0] for x in targetP_m['ids'].tolist()]\n",
    "targetP_m['gene'] = [x.split('_')[-1] for x in targetP_m['ids'].tolist()]\n",
    "\n",
    "print ('genes from matched set 390 with mito signal: ')\n",
    "print (targetP_m[(targetP_m['seq_m'].notna()) & (targetP_m['class'] == 'mTP')].gene.nunique())"
   ]
  },
  {
   "cell_type": "code",
   "execution_count": null,
   "metadata": {},
   "outputs": [],
   "source": [
    "tmp = targetP_m[(targetP_m['seq_m'].notna()) & \n",
    "                      (targetP_m['class'] == 'mTP')].merge(match_aa_df, on=['gene', 'tr_id'], how='inner')\n",
    "\n",
    "print (tmp.shape[0])\n",
    "\n",
    "tmp['CS_pos'] = [int(x.split('CS pos:')[1].split('-')[0]) for x in tmp['seq_m'].tolist()]\n",
    "tmp['m_start'] = tmp['CS_pos']-20"
   ]
  },
  {
   "cell_type": "markdown",
   "metadata": {},
   "source": [
    "### check if CS-n < cds "
   ]
  },
  {
   "cell_type": "code",
   "execution_count": null,
   "metadata": {},
   "outputs": [],
   "source": [
    "tmp[tmp['cds_start_aa_in_ext2'] >= tmp['CS_pos']].gene.nunique()"
   ]
  },
  {
   "cell_type": "markdown",
   "metadata": {},
   "source": [
    "### check if CS-n < m_start "
   ]
  },
  {
   "cell_type": "code",
   "execution_count": null,
   "metadata": {},
   "outputs": [],
   "source": [
    "# NTE start ---- m_start -----  CS_pos ------ CDS start  \n",
    "tmp[tmp['cds_start_aa_in_ext2'] >= tmp['m_start']].gene.nunique()"
   ]
  },
  {
   "cell_type": "code",
   "execution_count": null,
   "metadata": {},
   "outputs": [],
   "source": []
  },
  {
   "cell_type": "markdown",
   "metadata": {},
   "source": [
    "## RiboSET ext "
   ]
  },
  {
   "cell_type": "code",
   "execution_count": null,
   "metadata": {},
   "outputs": [],
   "source": []
  },
  {
   "cell_type": "code",
   "execution_count": null,
   "metadata": {},
   "outputs": [],
   "source": []
  },
  {
   "cell_type": "code",
   "execution_count": null,
   "metadata": {},
   "outputs": [],
   "source": []
  },
  {
   "cell_type": "markdown",
   "metadata": {},
   "source": [
    "# Phobius"
   ]
  },
  {
   "cell_type": "code",
   "execution_count": null,
   "metadata": {},
   "outputs": [],
   "source": []
  },
  {
   "cell_type": "code",
   "execution_count": null,
   "metadata": {},
   "outputs": [],
   "source": []
  },
  {
   "cell_type": "code",
   "execution_count": null,
   "metadata": {},
   "outputs": [],
   "source": []
  },
  {
   "cell_type": "markdown",
   "metadata": {},
   "source": [
    "# TMHMM"
   ]
  },
  {
   "cell_type": "code",
   "execution_count": null,
   "metadata": {},
   "outputs": [],
   "source": []
  },
  {
   "cell_type": "code",
   "execution_count": null,
   "metadata": {},
   "outputs": [],
   "source": []
  },
  {
   "cell_type": "code",
   "execution_count": null,
   "metadata": {},
   "outputs": [],
   "source": []
  }
 ],
 "metadata": {
  "kernelspec": {
   "display_name": "Python 3",
   "language": "python",
   "name": "python3"
  },
  "language_info": {
   "codemirror_mode": {
    "name": "ipython",
    "version": 3
   },
   "file_extension": ".py",
   "mimetype": "text/x-python",
   "name": "python",
   "nbconvert_exporter": "python",
   "pygments_lexer": "ipython3",
   "version": "3.7.6"
  }
 },
 "nbformat": 4,
 "nbformat_minor": 2
}
