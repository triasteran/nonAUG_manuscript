{
 "cells": [
  {
   "cell_type": "code",
   "execution_count": 2,
   "metadata": {},
   "outputs": [],
   "source": [
    "%matplotlib inline\n",
    "\n",
    "import numpy as np\n",
    "from collections import OrderedDict, Counter, defaultdict\n",
    "import pandas as pd\n",
    "\n",
    "import Bio\n",
    "from Bio import SeqIO\n",
    "\n",
    "import seaborn as sns\n",
    "import matplotlib.pyplot as plt\n",
    "\n",
    "import glob\n",
    "\n",
    "import subprocess\n",
    "from subprocess import call\n",
    "\n",
    "import re\n",
    "\n",
    "import warnings\n",
    "warnings.simplefilter(action='ignore', category=FutureWarning)\n",
    "\n",
    "import pandas\n",
    "\n",
    "import pickle\n",
    "\n",
    "from scipy import stats\n",
    "\n",
    "import random\n",
    "\n",
    "from scipy.stats import fisher_exact"
   ]
  },
  {
   "cell_type": "code",
   "execution_count": 3,
   "metadata": {},
   "outputs": [],
   "source": [
    "def prepare_data_for_trips2(meta, file_counts, metadata_pc_g25, \n",
    "                           tr_id, gene, l, p, fraq, cds, \n",
    "                           predicted_ext_start=False, figsize=(20, 10),\n",
    "                           xlims='full', zeros=True, linew=9):\n",
    "    \n",
    "    f = pd.read_csv(file_counts)\n",
    "    f.columns = ['Position', 'Sequence', 'Frame1', 'Frame2', 'Frame3', 'RNASeq']\n",
    "    \n",
    "    atgs_pos = {'frame_0':[], 'frame_1':[], 'frame_2':[]}\n",
    "    stop_pos = {'frame_0':[], 'frame_1':[], 'frame_2':[]}\n",
    "\n",
    "    for pos in f.Position.tolist():\n",
    "        codon = ''.join(f.Sequence.tolist()[(pos-1):(pos-1+3)])\n",
    "        if codon == 'ATG':\n",
    "            if pos % 3 == 0:\n",
    "                atgs_pos['frame_0'].append(pos)\n",
    "            elif pos % 3 == 1:\n",
    "                atgs_pos['frame_1'].append(pos)\n",
    "            else:\n",
    "                atgs_pos['frame_2'].append(pos)\n",
    "            \n",
    "        elif (codon == 'TGA') | (codon == 'TAA') | (codon == 'TAG'):\n",
    "            if pos % 3 == 0:\n",
    "                stop_pos['frame_0'].append(pos)\n",
    "            elif pos % 3 == 1:\n",
    "                stop_pos['frame_1'].append(pos)\n",
    "            else:\n",
    "                stop_pos['frame_2'].append(pos)\n",
    "        else:\n",
    "            continue     \n",
    "            \n",
    "    # add CDS borders\n",
    "    cds_stop_pos = metadata_pc_g25[metadata_pc_g25['tr_id'].str.contains(tr_id)].iloc[0].cds_stop_pos\n",
    "    cds_start_pos = metadata_pc_g25[metadata_pc_g25['tr_id'].str.contains(tr_id)].iloc[0].cds_start_pos + 1\n",
    "    cds_start_codon = metadata_pc_g25[metadata_pc_g25['tr_id'].str.contains(tr_id)].iloc[0].cds_start_codon\n",
    "    \n",
    "    if xlims == 'ext':\n",
    "        xlim1 = meta[meta['tr_id'].str.contains(tr_id)].iloc[0].N_term_start1\n",
    "        xlim2 = meta[meta['tr_id'].str.contains(tr_id)].iloc[0].N_term_end1 + 50*3\n",
    "    elif len(xlims) == 2:\n",
    "        xlim1 = xlims[0]\n",
    "        xlim2 = xlims[1]\n",
    "    else: # full transcript\n",
    "        xlim1 = 0\n",
    "        xlim2 = len(metadata_pc_g25[metadata_pc_g25['tr_id'].str.contains(tr_id)].iloc[0].transcript_seq)\n",
    "    \n",
    "    d = {}\n",
    "    \n",
    "    d['cds_stop_pos'] = cds_stop_pos\n",
    "    d['cds_start_pos'] = cds_start_pos\n",
    "    d['cds_start_codon'] = cds_start_codon\n",
    "    d['f'] = f\n",
    "    d['stop_pos'] = stop_pos\n",
    "    d['atgs_pos'] = atgs_pos\n",
    "    d['xlims'] = (xlim1, xlim2)\n",
    "    d['predicted_ext_start'] = predicted_ext_start\n",
    "    d['l'] = l\n",
    "    d['p'] = p\n",
    "    d['figsize'] = figsize\n",
    "    d['fraq'] = fraq\n",
    "    d['cds'] = cds\n",
    "    d['name'] = tr_id+'_'+gene\n",
    "    d['zeros'] = zeros\n",
    "    d['linew'] = linew\n",
    "    \n",
    "    return d\n",
    "\n",
    "\n",
    "def trips_full2(d, name='test.png', font1=38, font2=45):\n",
    "    \n",
    "    l = d['l']\n",
    "    p = d['p']\n",
    "    f = d['f'] # dict with frames \n",
    "    atgs_pos = d['atgs_pos']\n",
    "    stop_pos = d['stop_pos']\n",
    "    cds_start_pos = d['cds_start_pos']\n",
    "    cds_stop_pos = d['cds_stop_pos']\n",
    "    figsize = d['figsize']\n",
    "    xlims = d['xlims']\n",
    "    fraq = d['fraq']\n",
    "    cds = d['cds']\n",
    "    name = d['name']\n",
    "    zeros = d['zeros']\n",
    "    linewidth = d['linew']\n",
    "    \n",
    "    fig, axes = plt.subplots(5, 1, figsize = figsize, \n",
    "                             gridspec_kw={'height_ratios':[10,1,1,1,1]}, sharex=True, sharey=False, )\n",
    "\n",
    "    main_plot = axes[0]\n",
    "    #cds = axes[1]\n",
    "    orfs = axes[1]\n",
    "    red = axes[2]\n",
    "    green = axes[3]\n",
    "    blue = axes[4]\n",
    "\n",
    "    # x \n",
    "    main_plot.set_xlim(f.Position.min(), f.Position.max()+1)\n",
    "\n",
    "    # y\n",
    "    \n",
    "    if xlims is not False:\n",
    "        f1 = f[xlims[0]:xlims[1]]\n",
    "        max_height = np.max([np.max(f1.Frame1.tolist()), np.max(f1.Frame2.tolist()), np.max(f1.Frame3.tolist())])\n",
    "        print (max_height)\n",
    "    else:\n",
    "        max_height = np.max([np.max(f.Frame1.tolist()), np.max(f.Frame2.tolist()), np.max(f.Frame3.tolist())])\n",
    "        print (max_height)\n",
    "        \n",
    "    #### ????? why they dissappear????? ######    \n",
    "    main_plot.set_ylim(0, max_height+max_height/l)\n",
    "    main_plot.set_yticks(np.arange(0, max_height+max_height/l, p))\n",
    "    main_plot.set_yticklabels(np.arange(0, max_height+max_height/l, p, dtype=np.int64), fontsize=font1)\n",
    "    \n",
    "    # print (f[125:150])\n",
    "\n",
    "    # #frame 1 = red, frame2 = green, frame3 = blue\n",
    "    if zeros == True:\n",
    "        main_plot.plot(f.Frame1.tolist(), color = 'coral', linewidth=linewidth, linestyle='-')\n",
    "        main_plot.plot(f.Frame2.tolist(), color = 'mediumseagreen', linewidth=linewidth, linestyle='-')\n",
    "        main_plot.plot(f.Frame3.tolist(), color = 'cornflowerblue', linewidth=linewidth, linestyle='-')\n",
    "    \n",
    "    else:\n",
    "        # delete zeros \n",
    "        t = f[['Position', 'Frame1']]\n",
    "        fr1 = t[t['Frame1'] != 0]\n",
    "        \n",
    "        t = f[['Position', 'Frame2']]\n",
    "        fr2 = t[t['Frame2'] != 0]\n",
    "        \n",
    "        t = f[['Position', 'Frame3']]\n",
    "        fr3 = t[t['Frame3'] != 0]\n",
    "        \n",
    "        main_plot.plot(fr1.Position.tolist(), fr1.Frame1.tolist(), color = 'coral', linewidth=linewidth, linestyle='-')\n",
    "        main_plot.plot(fr2.Position.tolist(), fr2.Frame2.tolist(), color = 'mediumseagreen', linewidth=linewidth, linestyle='-')\n",
    "        main_plot.plot(fr3.Position.tolist(), fr3.Frame3.tolist(), color = 'cornflowerblue', linewidth=linewidth, linestyle='-')\n",
    "    \n",
    "        \n",
    "        \n",
    "        \n",
    "    red.set_facecolor('coral')\n",
    "    green.set_facecolor('mediumseagreen')\n",
    "    blue.set_facecolor('cornflowerblue')\n",
    "    #cds.set_facecolor('lightgrey')\n",
    "\n",
    "    #blue.set_xticks(np.arange(0, f.Position.max(), 50))\n",
    "    #blue.set_xticklabels(np.arange(0, f.Position.max(), 50), fontsize=45)\n",
    "\n",
    "    red.set_yticklabels(())\n",
    "    green.set_yticklabels(())\n",
    "    blue.set_yticklabels(())\n",
    "    #cds.set_yticklabels(())\n",
    "    orfs.set_yticklabels(())\n",
    "    \n",
    "    \n",
    "\n",
    "    blue.set_ylabel('f2', fontsize=font1)#, rotation = 0)\n",
    "    red.set_ylabel('f0', fontsize=font1)#, rotation = 0)\n",
    "    green.set_ylabel('f1', fontsize=font1)#, rotation = 0)\n",
    "    #cds.set_ylabel('cds', fontsize=35)#, rotation = 0)\n",
    "    orfs.set_ylabel('orf', fontsize=font1)#, rotation = 0)\n",
    "\n",
    "    for frame, pos_li in atgs_pos.items():\n",
    "        if frame == 'frame_0':\n",
    "            for pos in pos_li:\n",
    "                blue.vlines(pos, ymin = 0, ymax = 1, colors='white', linewidth=linewidth-1)\n",
    "        elif frame == 'frame_1':\n",
    "            for pos in pos_li:\n",
    "                red.vlines(pos, ymin = 0, ymax = 1, colors='white', linewidth=linewidth-1)\n",
    "        else:\n",
    "            for pos in pos_li:\n",
    "                green.vlines(pos, ymin = 0, ymax = 1, colors='white', linewidth=linewidth-1)\n",
    "            \n",
    "    for frame, pos_li in stop_pos.items():\n",
    "        if frame == 'frame_0':\n",
    "            for pos in pos_li:\n",
    "                blue.vlines(pos, ymin = 0, ymax = 1, colors='black', linewidth=linewidth-1)\n",
    "        elif frame == 'frame_1':\n",
    "            for pos in pos_li:\n",
    "                red.vlines(pos, ymin = 0, ymax = 1, colors='black', linewidth=linewidth-1)\n",
    "        else:\n",
    "            for pos in pos_li:\n",
    "                green.vlines(pos, ymin = 0, ymax = 1, colors='black', linewidth=linewidth-1)\n",
    "            \n",
    "                    \n",
    "    # add start of annotated CDS\n",
    "    main_plot.vlines(cds_stop_pos, ymin=0, ymax=max_height+max_height/l, colors='black', linewidth=linewidth-2)\n",
    "    main_plot.vlines(cds_start_pos, ymin=0, ymax=max_height+max_height/l, colors='black', linewidth=linewidth-2)\n",
    "    #main_plot.text(x = cds_stop_pos-100, y = max_height+max_height/10, s = 'cds stop', fontsize=39)\n",
    "    #main_plot.text(x = cds_start_pos-10, y = max_height+0.1, s = 'cds start', fontsize=39)\n",
    "\n",
    "\n",
    "    # add rectangle = CDS\n",
    "    #if cds is True:\n",
    "        #rect = patches.Rectangle((cds_start_pos, 0),cds_stop_pos-cds_start_pos,\n",
    "                         #1,linewidth=1,edgecolor='r',facecolor='lightgrey')\n",
    "        #cds.add_patch(rect)\n",
    "\n",
    "        # add non-AUG - cds_start_pos\n",
    "        #cds.text(x = cds_start_pos, y = 0.3, s = 'AUG', fontsize=38)\n",
    "\n",
    "    \n",
    "    # add rectangle = extended CDS\n",
    "    xlims = d['xlims']\n",
    "    predicted_ext_start = d['predicted_ext_start']\n",
    "    if xlims is not False:\n",
    "        if predicted_ext_start is not False:\n",
    "            Nst = int(predicted_ext_start.split('_')[0])\n",
    "            codon_name = predicted_ext_start.split('_')[1]\n",
    "            N2 = cds_stop_pos\n",
    "            rect = patches.Rectangle((Nst, 0), N2-Nst,1,linewidth=1,edgecolor='r',facecolor='silver')\n",
    "            orfs.add_patch(rect)\n",
    "        \n",
    "            orfs.text(x = Nst, y = 0.3, s = codon_name, fontsize=font1)\n",
    "\n",
    "    \n",
    "    blue.set_xticks(range(f.Position.min(), f.Position.max()+1, fraq))       \n",
    "    blue.set_xticklabels(range(f.Position.min(), f.Position.max()+1, fraq), fontsize=font1)\n",
    "    \n",
    "    print (f.Position.min())\n",
    "    \n",
    "    \n",
    "    if xlims is not False:    \n",
    "        plt.xlim(xlims[0], xlims[1])\n",
    "        \n",
    "        \n",
    "    main_plot.set_title(name, fontsize=font2)\n",
    "    plt.subplots_adjust(left=0.1, bottom=0.1,\n",
    "                    wspace=0.1, hspace=0.1)\n",
    "\n",
    "    \n",
    "    \n",
    "def prepare_data_for_trips2(meta, file_counts, metadata_pc_g25, \n",
    "                           tr_id, gene, l, p, fraq, cds, \n",
    "                           predicted_ext_start=False, figsize=(20, 10),\n",
    "                           xlims='full', zeros=True, name='test.png', linew=9):\n",
    "    \n",
    "    f = pd.read_csv(file_counts)\n",
    "    f.columns = ['Position', 'Sequence', 'Frame1', 'Frame2', 'Frame3', 'RNASeq']\n",
    "    \n",
    "    atgs_pos = {'frame_0':[], 'frame_1':[], 'frame_2':[]}\n",
    "    stop_pos = {'frame_0':[], 'frame_1':[], 'frame_2':[]}\n",
    "\n",
    "    for pos in f.Position.tolist():\n",
    "        codon = ''.join(f.Sequence.tolist()[(pos-1):(pos-1+3)])\n",
    "        if codon == 'ATG':\n",
    "            if pos % 3 == 0:\n",
    "                atgs_pos['frame_0'].append(pos)\n",
    "            elif pos % 3 == 1:\n",
    "                atgs_pos['frame_1'].append(pos)\n",
    "            else:\n",
    "                atgs_pos['frame_2'].append(pos)\n",
    "            \n",
    "        elif (codon == 'TGA') | (codon == 'TAA') | (codon == 'TAG'):\n",
    "            if pos % 3 == 0:\n",
    "                stop_pos['frame_0'].append(pos)\n",
    "            elif pos % 3 == 1:\n",
    "                stop_pos['frame_1'].append(pos)\n",
    "            else:\n",
    "                stop_pos['frame_2'].append(pos)\n",
    "        else:\n",
    "            continue     \n",
    "            \n",
    "    # add CDS borders\n",
    "    cds_stop_pos = metadata_pc_g25[metadata_pc_g25['tr_id'].str.contains(tr_id)].iloc[0].cds_stop_pos\n",
    "    cds_start_pos = metadata_pc_g25[metadata_pc_g25['tr_id'].str.contains(tr_id)].iloc[0].cds_start_pos + 1\n",
    "    cds_start_codon = metadata_pc_g25[metadata_pc_g25['tr_id'].str.contains(tr_id)].iloc[0].cds_start_codon\n",
    "    \n",
    "    if xlims == 'ext':\n",
    "        xlim1 = meta[meta['tr_id'].str.contains(tr_id)].iloc[0].N_term_start1\n",
    "        xlim2 = meta[meta['tr_id'].str.contains(tr_id)].iloc[0].N_term_end1 + 50*3\n",
    "    elif len(xlims) == 2:\n",
    "        xlim1 = xlims[0]\n",
    "        xlim2 = xlims[1]\n",
    "    else: # full transcript\n",
    "        xlim1 = 0\n",
    "        xlim2 = len(metadata_pc_g25[metadata_pc_g25['tr_id'].str.contains(tr_id)].iloc[0].transcript_seq)\n",
    "    \n",
    "    d = {}\n",
    "    \n",
    "    d['cds_stop_pos'] = cds_stop_pos\n",
    "    d['cds_start_pos'] = cds_start_pos\n",
    "    d['cds_start_codon'] = cds_start_codon\n",
    "    d['f'] = f\n",
    "    d['stop_pos'] = stop_pos\n",
    "    d['atgs_pos'] = atgs_pos\n",
    "    d['xlims'] = (xlim1, xlim2)\n",
    "    d['predicted_ext_start'] = predicted_ext_start\n",
    "    d['l'] = l\n",
    "    d['p'] = p\n",
    "    d['figsize'] = figsize\n",
    "    d['fraq'] = fraq\n",
    "    d['cds'] = cds\n",
    "    d['name'] = tr_id+'_'+gene\n",
    "    d['zeros'] = zeros\n",
    "    d['linew'] = linew\n",
    "    \n",
    "    return d\n",
    "\n",
    "\n",
    "def trips_full2(d, name='test', font1=38, font2=45):\n",
    "    \n",
    "    l = d['l']\n",
    "    p = d['p']\n",
    "    f = d['f'] # dict with frames \n",
    "    atgs_pos = d['atgs_pos']\n",
    "    stop_pos = d['stop_pos']\n",
    "    cds_start_pos = d['cds_start_pos']\n",
    "    cds_stop_pos = d['cds_stop_pos']\n",
    "    figsize = d['figsize']\n",
    "    xlims = d['xlims']\n",
    "    fraq = d['fraq']\n",
    "    cds = d['cds']\n",
    "    name = d['name']\n",
    "    zeros = d['zeros']\n",
    "    linewidth = d['linew'] \n",
    "    \n",
    "    fig, axes = plt.subplots(5, 1, figsize = figsize, \n",
    "                             gridspec_kw={'height_ratios':[10,1.5,1,1,1]}, sharex=True, sharey=False, )\n",
    "\n",
    "    main_plot = axes[0]\n",
    "    #cds = axes[1]\n",
    "    orfs = axes[1]\n",
    "    red = axes[2]\n",
    "    green = axes[3]\n",
    "    blue = axes[4]\n",
    "\n",
    "    # x \n",
    "    main_plot.set_xlim(f.Position.min(), f.Position.max()+1)\n",
    "\n",
    "    # y\n",
    "    \n",
    "    if xlims is not False:\n",
    "        f1 = f[xlims[0]:xlims[1]]\n",
    "        max_height = np.max([np.max(f1.Frame1.tolist()), np.max(f1.Frame2.tolist()), np.max(f1.Frame3.tolist())])\n",
    "        print (max_height)\n",
    "    else:\n",
    "        max_height = np.max([np.max(f.Frame1.tolist()), np.max(f.Frame2.tolist()), np.max(f.Frame3.tolist())])\n",
    "        print (max_height)\n",
    "        \n",
    "    #### ????? why they dissappear????? ######    \n",
    "    main_plot.set_ylim(0, max_height+max_height/l)\n",
    "    main_plot.set_yticks(np.arange(0, max_height+max_height/l, p))\n",
    "    main_plot.set_yticklabels(np.arange(0, max_height+max_height/l, p, dtype=np.int64), fontsize=font1)\n",
    "    \n",
    "    # print (f[125:150])\n",
    "\n",
    "    # #frame 1 = red, frame2 = green, frame3 = blue\n",
    "    if zeros == True:\n",
    "        main_plot.plot(f.Frame1.tolist(), color = 'coral', linewidth=linewidth, linestyle='-')\n",
    "        main_plot.plot(f.Frame2.tolist(), color = 'mediumseagreen', linewidth=linewidth, linestyle='-')\n",
    "        main_plot.plot(f.Frame3.tolist(), color = 'cornflowerblue', linewidth=linewidth, linestyle='-')\n",
    "    \n",
    "    else:\n",
    "        # delete zeros \n",
    "        t = f[['Position', 'Frame1']]\n",
    "        fr1 = t[t['Frame1'] != 0]\n",
    "        \n",
    "        t = f[['Position', 'Frame2']]\n",
    "        fr2 = t[t['Frame2'] != 0]\n",
    "        \n",
    "        t = f[['Position', 'Frame3']]\n",
    "        fr3 = t[t['Frame3'] != 0]\n",
    "        \n",
    "        main_plot.plot(fr1.Position.tolist(), fr1.Frame1.tolist(), color = 'coral', linewidth=linewidth, linestyle='-')\n",
    "        main_plot.plot(fr2.Position.tolist(), fr2.Frame2.tolist(), color = 'mediumseagreen', linewidth=linewidth, linestyle='-')\n",
    "        main_plot.plot(fr3.Position.tolist(), fr3.Frame3.tolist(), color = 'cornflowerblue', linewidth=linewidth, linestyle='-')\n",
    "    \n",
    "        \n",
    "        \n",
    "        \n",
    "    red.set_facecolor('coral')\n",
    "    green.set_facecolor('mediumseagreen')\n",
    "    blue.set_facecolor('cornflowerblue')\n",
    "    #cds.set_facecolor('lightgrey')\n",
    "\n",
    "    #blue.set_xticks(np.arange(0, f.Position.max(), 50))\n",
    "    #blue.set_xticklabels(np.arange(0, f.Position.max(), 50), fontsize=45)\n",
    "\n",
    "    red.set_yticklabels(())\n",
    "    green.set_yticklabels(())\n",
    "    blue.set_yticklabels(())\n",
    "    #cds.set_yticklabels(())\n",
    "    orfs.set_yticklabels(())\n",
    "    \n",
    "    \n",
    "\n",
    "    blue.set_ylabel('f2', fontsize=font1)#, rotation = 0)\n",
    "    red.set_ylabel('f0', fontsize=font1)#, rotation = 0)\n",
    "    green.set_ylabel('f1', fontsize=font1)#, rotation = 0)\n",
    "    #cds.set_ylabel('cds', fontsize=35)#, rotation = 0)\n",
    "    orfs.set_ylabel('orf', fontsize=font1)#, rotation = 0)\n",
    "\n",
    "    for frame, pos_li in atgs_pos.items():\n",
    "        if frame == 'frame_0':\n",
    "            for pos in pos_li:\n",
    "                blue.vlines(pos, ymin = 0, ymax = 1, colors='white', linewidth=linewidth-1)\n",
    "        elif frame == 'frame_1':\n",
    "            for pos in pos_li:\n",
    "                red.vlines(pos, ymin = 0, ymax = 1, colors='white', linewidth=linewidth-1)\n",
    "        else:\n",
    "            for pos in pos_li:\n",
    "                green.vlines(pos, ymin = 0, ymax = 1, colors='white', linewidth=linewidth-1)\n",
    "            \n",
    "    for frame, pos_li in stop_pos.items():\n",
    "        if frame == 'frame_0':\n",
    "            for pos in pos_li:\n",
    "                blue.vlines(pos, ymin = 0, ymax = 1, colors='black', linewidth=linewidth-1)\n",
    "        elif frame == 'frame_1':\n",
    "            for pos in pos_li:\n",
    "                red.vlines(pos, ymin = 0, ymax = 1, colors='black', linewidth=linewidth-1)\n",
    "        else:\n",
    "            for pos in pos_li:\n",
    "                green.vlines(pos, ymin = 0, ymax = 1, colors='black', linewidth=linewidth-1)\n",
    "            \n",
    "                    \n",
    "    # add start of annotated CDS\n",
    "    main_plot.vlines(cds_stop_pos, ymin=0, ymax=max_height+max_height/l, colors='black', linewidth=linewidth-2)\n",
    "    main_plot.vlines(cds_start_pos, ymin=0, ymax=max_height+max_height/l, colors='black', linewidth=linewidth-2)\n",
    "    #main_plot.text(x = cds_stop_pos-100, y = max_height+max_height/10, s = 'cds stop', fontsize=39)\n",
    "    #main_plot.text(x = cds_start_pos-10, y = max_height+0.1, s = 'cds start', fontsize=39)\n",
    "\n",
    "\n",
    "    # add rectangle = CDS\n",
    "    #if cds is True:\n",
    "        #rect = patches.Rectangle((cds_start_pos, 0),cds_stop_pos-cds_start_pos,\n",
    "                         #1,linewidth=1,edgecolor='r',facecolor='lightgrey')\n",
    "        #cds.add_patch(rect)\n",
    "\n",
    "        # add non-AUG - cds_start_pos\n",
    "        #cds.text(x = cds_start_pos, y = 0.3, s = 'AUG', fontsize=38)\n",
    "\n",
    "    \n",
    "    # add rectangle = extended CDS\n",
    "    xlims = d['xlims']\n",
    "    predicted_ext_start = d['predicted_ext_start']\n",
    "    if xlims is not False:\n",
    "        if predicted_ext_start is not False:\n",
    "            Nst = int(predicted_ext_start.split('_')[0])\n",
    "            codon_name = predicted_ext_start.split('_')[1]\n",
    "            N2 = cds_stop_pos\n",
    "            rect = patches.Rectangle((Nst, 0), N2-Nst,1,linewidth=1,edgecolor='r',facecolor='silver')\n",
    "            orfs.add_patch(rect)\n",
    "        \n",
    "            orfs.text(x = Nst, y = 0.3, s = codon_name, fontsize=font1)\n",
    "\n",
    "    \n",
    "    blue.set_xticks(range(f.Position.min(), f.Position.max()+1, fraq))       \n",
    "    blue.set_xticklabels(range(f.Position.min(), f.Position.max()+1, fraq), fontsize=font1)\n",
    "    \n",
    "    print (f.Position.min())\n",
    "    \n",
    "    \n",
    "    if xlims is not False:    \n",
    "        plt.xlim(xlims[0], xlims[1])\n",
    "        \n",
    "        \n",
    "    main_plot.set_title(name, fontsize=font2)\n",
    "    plt.subplots_adjust(left=0.1, bottom=0.1,\n",
    "                    wspace=0.1, hspace=0.1)\n",
    "    \n",
    "    plt.savefig(name+'.png', dpi = 300, bbox_inches = 'tight')\n",
    "    "
   ]
  },
  {
   "cell_type": "markdown",
   "metadata": {},
   "source": [
    "# Metadata, RiboSET, PhyloSET"
   ]
  },
  {
   "cell_type": "code",
   "execution_count": 4,
   "metadata": {},
   "outputs": [],
   "source": [
    "metadata_pc_g25 = pd.read_csv('../../tmp_res/metadata_pc_g25.txt', sep='\\t')\n",
    "meta = pd.read_csv('../../tmp_res/local_and_global_df_g25ovlp_g35ovlp_g38ovlp_refseqovlp_strand_FRAMES_PhyloCSF.txt', sep='\\t')"
   ]
  },
  {
   "cell_type": "code",
   "execution_count": 5,
   "metadata": {},
   "outputs": [
    {
     "name": "stdout",
     "output_type": "stream",
     "text": [
      "390\n"
     ]
    }
   ],
   "source": [
    "# open SET1 (PhyloSET) and SET2 (RiboSET)\n",
    "PhyloSET = pd.read_csv('../../tmp_res/SET1.txt', sep='\\t')\n",
    "\n",
    "\n",
    "\n",
    "RiboSET = pd.read_csv('../../tmp_res/SET2.txt', sep='\\t')\n",
    "\n",
    "RiboSET['tr_id1'] = [x.split('.')[0] for x in RiboSET['tr_id'].tolist()]\n",
    "\n",
    "RiboSET = RiboSET[(~RiboSET['Riboseq_Summary'].str.contains('ATG')) & \n",
    "                  (~RiboSET['tr_id'].str.contains('PAR'))]\n",
    "\n",
    "print (RiboSET.shape[0])"
   ]
  },
  {
   "cell_type": "code",
   "execution_count": 6,
   "metadata": {},
   "outputs": [
    {
     "data": {
      "text/html": [
       "<div>\n",
       "<style scoped>\n",
       "    .dataframe tbody tr th:only-of-type {\n",
       "        vertical-align: middle;\n",
       "    }\n",
       "\n",
       "    .dataframe tbody tr th {\n",
       "        vertical-align: top;\n",
       "    }\n",
       "\n",
       "    .dataframe thead th {\n",
       "        text-align: right;\n",
       "    }\n",
       "</style>\n",
       "<table border=\"1\" class=\"dataframe\">\n",
       "  <thead>\n",
       "    <tr style=\"text-align: right;\">\n",
       "      <th></th>\n",
       "      <th>tr_id1</th>\n",
       "      <th>Z_score</th>\n",
       "      <th>CDS_coverage</th>\n",
       "      <th>NTE_coverage</th>\n",
       "      <th>CDS_nonzero_fraction</th>\n",
       "      <th>NTE_nonzero_fraction</th>\n",
       "    </tr>\n",
       "  </thead>\n",
       "  <tbody>\n",
       "    <tr>\n",
       "      <th>0</th>\n",
       "      <td>ENST00000379389</td>\n",
       "      <td>-0.731864</td>\n",
       "      <td>284.150602</td>\n",
       "      <td>31.120000</td>\n",
       "      <td>0.333333</td>\n",
       "      <td>0.178808</td>\n",
       "    </tr>\n",
       "    <tr>\n",
       "      <th>1</th>\n",
       "      <td>ENST00000349431</td>\n",
       "      <td>-0.508594</td>\n",
       "      <td>102.473077</td>\n",
       "      <td>46.859375</td>\n",
       "      <td>0.332051</td>\n",
       "      <td>0.250000</td>\n",
       "    </tr>\n",
       "  </tbody>\n",
       "</table>\n",
       "</div>"
      ],
      "text/plain": [
       "            tr_id1   Z_score  CDS_coverage  NTE_coverage  \\\n",
       "0  ENST00000379389 -0.731864    284.150602     31.120000   \n",
       "1  ENST00000349431 -0.508594    102.473077     46.859375   \n",
       "\n",
       "   CDS_nonzero_fraction  NTE_nonzero_fraction  \n",
       "0              0.333333              0.178808  \n",
       "1              0.332051              0.250000  "
      ]
     },
     "execution_count": 6,
     "metadata": {},
     "output_type": "execute_result"
    }
   ],
   "source": [
    "RiboSET_CDS_cov_df = pd.read_csv('../tmp_res/RiboSET_392_df_coverages.txt', sep='\\t')\n",
    "RiboSET_CDS_cov_df.columns = ['tr_id1', 'Z_score', 'CDS_coverage', 'NTE_coverage',\n",
    "       'CDS_nonzero_fraction', 'NTE_nonzero_fraction']\n",
    "RiboSET_CDS_cov_df = RiboSET_CDS_cov_df[RiboSET_CDS_cov_df['tr_id1'].isin(RiboSET['tr_id1'].tolist())]\n",
    "\n",
    "RiboSET_CDS_cov_df[0:2]"
   ]
  },
  {
   "cell_type": "code",
   "execution_count": null,
   "metadata": {},
   "outputs": [],
   "source": []
  },
  {
   "cell_type": "markdown",
   "metadata": {},
   "source": [
    "## RiboSET_ext "
   ]
  },
  {
   "cell_type": "code",
   "execution_count": 7,
   "metadata": {},
   "outputs": [
    {
     "name": "stderr",
     "output_type": "stream",
     "text": [
      "/home/alla/.local/lib/python3.7/site-packages/ipykernel_launcher.py:11: SettingWithCopyWarning: \n",
      "A value is trying to be set on a copy of a slice from a DataFrame.\n",
      "Try using .loc[row_indexer,col_indexer] = value instead\n",
      "\n",
      "See the caveats in the documentation: https://pandas.pydata.org/pandas-docs/stable/user_guide/indexing.html#returning-a-view-versus-a-copy\n",
      "  # This is added back by InteractiveShellApp.init_path()\n"
     ]
    },
    {
     "name": "stdout",
     "output_type": "stream",
     "text": [
      "3722\n",
      "3530\n",
      "final shape of RiboSET_EXT 3451 min CDS cov: 0.060654429369513166\n",
      "390\n"
     ]
    }
   ],
   "source": [
    "transl_with_all_codons = pd.read_csv('../../data/extensions_TripsViz_1perGene_AUG_NearCognates.txt', sep=',')\n",
    "transl_with_all_codons.columns = ['gene_ext', 'tr_id1', 'Start_ext', 'Stop_ext', 'len_ext', \n",
    "                                 'global_rank_ext', 'type_all_codons', 'trips_viz_link', 'Start_codon_ext', \n",
    "                                 'Highframe rank', 'Highframe value',\n",
    "       'Lowframe rank', 'Lowframe value', 'Stop rank', 'Stop value',\n",
    "       'Start rank', 'Start value', 'Coverage rank', 'Coverage_value_ext',\n",
    "       'Amino acid sequence', 'Proteomics_count_ext', 'CDS_ratio']\n",
    "transl_with_all_codons2 = transl_with_all_codons[['gene_ext', 'tr_id1', 'Start_ext', 'Stop_ext', \n",
    "                                                 'global_rank_ext', 'Start_codon_ext', \n",
    "                                                 'Proteomics_count_ext', 'Coverage_value_ext', 'CDS_ratio']]\n",
    "transl_with_all_codons2['Riboseq_Summary'] = transl_with_all_codons2['Start_codon_ext']+'; '+transl_with_all_codons2['Start_ext'].astype(str)+'-'+transl_with_all_codons2['Stop_ext'].astype(str)+'; Rank: '+transl_with_all_codons2['global_rank_ext'].astype(str)+'; cov: '+np.round(transl_with_all_codons2['Coverage_value_ext'],2).astype(str)\n",
    "\n",
    "top5000 = transl_with_all_codons2[0:5000]\n",
    "\n",
    "top5000_meta = top5000.merge(meta, on='tr_id1', how='inner')\n",
    "\n",
    "top5000_meta['len_codons'] = (top5000_meta['Stop_ext'] - top5000_meta['Start_ext']) // 3\n",
    "\n",
    "# theoretical extensions should be no less than 20 codons (works for initiatial filter and for PhyloSET)\n",
    "# but in practice it could be shorter\n",
    "# let's say 10aa\n",
    "\n",
    "# select 0 ovlps and where theoretical extension is at least 20 codons  \n",
    "RiboSET_EXT = top5000_meta[(top5000_meta['ovlp'] == '0;0;0') & \n",
    "                                  (top5000_meta['Start_codon_ext'] != 'ATG') & \n",
    "                                  (top5000_meta['tr_id1'].isin(meta[meta['len_codons'] >= 20]['tr_id1'].tolist()))]\n",
    "\n",
    "print (RiboSET_EXT.shape[0])\n",
    "\n",
    "# ~4k RiboSET ext with non-zero CDS cov in my data \n",
    "RiboSET_EXT_cds_cov_nonzero = pd.read_csv('../tmp_res/RiboSET_EXT_cds_cov_nonzero_theor_len_20codons_3663genes.txt', sep='\\t')\n",
    "RiboSET_EXT_cds_cov_nonzero = RiboSET_EXT_cds_cov_nonzero.merge(RiboSET_EXT, on='tr_id1', how='inner')\n",
    "RiboSET_EXT_cds_cov_nonzero = RiboSET_EXT_cds_cov_nonzero[RiboSET_EXT_cds_cov_nonzero['NTE_coverage'] > 0]\n",
    "RiboSET_EXT_cds_cov_nonzero = RiboSET_EXT_cds_cov_nonzero[~RiboSET_EXT_cds_cov_nonzero['tr_id'].str.contains('PAR')]\n",
    "RiboSET_EXT_cds_cov_nonzero.to_csv('../tmp_res/FINAL_RiboSET_EXT_cds_cov_nonzero_theor_len_20codons_3532genes.txt', \n",
    "                                  sep='\\t', index=False)\n",
    "\n",
    "print (RiboSET_EXT_cds_cov_nonzero.shape[0])\n",
    "\n",
    "RiboSET_EXT_cds_cov_nonzero = RiboSET_EXT_cds_cov_nonzero[RiboSET_EXT_cds_cov_nonzero['CDS_coverage'] > 0.06]\n",
    "\n",
    "RiboSET_EXT_cds_cov_nonzero.to_csv('FINAL_RiboSET_EXT_cds_cov_nonzero_theor_len_20codons_3532genes.txt', \n",
    "                                  sep='\\t', index=False)\n",
    "\n",
    "print ('final shape of RiboSET_EXT', RiboSET_EXT_cds_cov_nonzero.shape[0], 'min CDS cov:', RiboSET_EXT_cds_cov_nonzero['CDS_coverage'].min())\n",
    "\n",
    "print (len(set(RiboSET_EXT_cds_cov_nonzero['gene'].tolist()).intersection(RiboSET['gene'].tolist())))"
   ]
  },
  {
   "cell_type": "code",
   "execution_count": null,
   "metadata": {},
   "outputs": [],
   "source": []
  },
  {
   "cell_type": "markdown",
   "metadata": {},
   "source": [
    "## Check that theor ext do no have any in-frame AUGs to exclude that in some cases initiation can happen from them? "
   ]
  },
  {
   "cell_type": "code",
   "execution_count": null,
   "metadata": {},
   "outputs": [],
   "source": []
  },
  {
   "cell_type": "code",
   "execution_count": null,
   "metadata": {},
   "outputs": [],
   "source": []
  },
  {
   "cell_type": "code",
   "execution_count": null,
   "metadata": {},
   "outputs": [],
   "source": []
  },
  {
   "cell_type": "markdown",
   "metadata": {},
   "source": [
    "# Genes that are not in trips-viz pred set "
   ]
  },
  {
   "cell_type": "code",
   "execution_count": 8,
   "metadata": {},
   "outputs": [
    {
     "name": "stdout",
     "output_type": "stream",
     "text": [
      "607\n",
      "384 384\n"
     ]
    },
    {
     "data": {
      "text/html": [
       "<div>\n",
       "<style scoped>\n",
       "    .dataframe tbody tr th:only-of-type {\n",
       "        vertical-align: middle;\n",
       "    }\n",
       "\n",
       "    .dataframe tbody tr th {\n",
       "        vertical-align: top;\n",
       "    }\n",
       "\n",
       "    .dataframe thead th {\n",
       "        text-align: right;\n",
       "    }\n",
       "</style>\n",
       "<table border=\"1\" class=\"dataframe\">\n",
       "  <thead>\n",
       "    <tr style=\"text-align: right;\">\n",
       "      <th></th>\n",
       "      <th>tr_id1</th>\n",
       "      <th>Z_score</th>\n",
       "      <th>CDS_coverage</th>\n",
       "      <th>NTE_coverage</th>\n",
       "      <th>CDS_nonzero_fraction</th>\n",
       "      <th>NTE_nonzero_fraction</th>\n",
       "      <th>gene</th>\n",
       "      <th>ovlp</th>\n",
       "    </tr>\n",
       "  </thead>\n",
       "  <tbody>\n",
       "    <tr>\n",
       "      <th>738</th>\n",
       "      <td>ENST00000427495</td>\n",
       "      <td>-0.343449</td>\n",
       "      <td>1.080000</td>\n",
       "      <td>0.0</td>\n",
       "      <td>0.370526</td>\n",
       "      <td>0.0</td>\n",
       "      <td>PLD5</td>\n",
       "      <td>0;0;0</td>\n",
       "    </tr>\n",
       "    <tr>\n",
       "      <th>733</th>\n",
       "      <td>ENST00000391709</td>\n",
       "      <td>-0.448547</td>\n",
       "      <td>1.104457</td>\n",
       "      <td>0.0</td>\n",
       "      <td>0.371866</td>\n",
       "      <td>0.0</td>\n",
       "      <td>ZNF470</td>\n",
       "      <td>0;0;0</td>\n",
       "    </tr>\n",
       "    <tr>\n",
       "      <th>725</th>\n",
       "      <td>ENST00000410004</td>\n",
       "      <td>-0.492276</td>\n",
       "      <td>1.119816</td>\n",
       "      <td>0.0</td>\n",
       "      <td>0.410138</td>\n",
       "      <td>0.0</td>\n",
       "      <td>TMEM139</td>\n",
       "      <td>0;0;0</td>\n",
       "    </tr>\n",
       "    <tr>\n",
       "      <th>724</th>\n",
       "      <td>ENST00000559785</td>\n",
       "      <td>-0.355203</td>\n",
       "      <td>1.122010</td>\n",
       "      <td>0.0</td>\n",
       "      <td>0.351675</td>\n",
       "      <td>0.0</td>\n",
       "      <td>PSTPIP1</td>\n",
       "      <td>0;0;0</td>\n",
       "    </tr>\n",
       "    <tr>\n",
       "      <th>723</th>\n",
       "      <td>ENST00000355014</td>\n",
       "      <td>-0.448979</td>\n",
       "      <td>1.135171</td>\n",
       "      <td>0.0</td>\n",
       "      <td>0.384514</td>\n",
       "      <td>0.0</td>\n",
       "      <td>SEMA4A</td>\n",
       "      <td>0;0;0</td>\n",
       "    </tr>\n",
       "    <tr>\n",
       "      <th>721</th>\n",
       "      <td>ENST00000436027</td>\n",
       "      <td>-0.259597</td>\n",
       "      <td>1.136000</td>\n",
       "      <td>0.0</td>\n",
       "      <td>0.408000</td>\n",
       "      <td>0.0</td>\n",
       "      <td>YJEFN3</td>\n",
       "      <td>0;0;0</td>\n",
       "    </tr>\n",
       "  </tbody>\n",
       "</table>\n",
       "</div>"
      ],
      "text/plain": [
       "              tr_id1   Z_score  CDS_coverage  NTE_coverage  \\\n",
       "738  ENST00000427495 -0.343449      1.080000           0.0   \n",
       "733  ENST00000391709 -0.448547      1.104457           0.0   \n",
       "725  ENST00000410004 -0.492276      1.119816           0.0   \n",
       "724  ENST00000559785 -0.355203      1.122010           0.0   \n",
       "723  ENST00000355014 -0.448979      1.135171           0.0   \n",
       "721  ENST00000436027 -0.259597      1.136000           0.0   \n",
       "\n",
       "     CDS_nonzero_fraction  NTE_nonzero_fraction     gene   ovlp  \n",
       "738              0.370526                   0.0     PLD5  0;0;0  \n",
       "733              0.371866                   0.0   ZNF470  0;0;0  \n",
       "725              0.410138                   0.0  TMEM139  0;0;0  \n",
       "724              0.351675                   0.0  PSTPIP1  0;0;0  \n",
       "723              0.384514                   0.0   SEMA4A  0;0;0  \n",
       "721              0.408000                   0.0   YJEFN3  0;0;0  "
      ]
     },
     "execution_count": 8,
     "metadata": {},
     "output_type": "execute_result"
    }
   ],
   "source": [
    "match = pd.read_csv('../tmp_res/25079_19codons_UPD_trs_coverages.txt', sep='\\t')\n",
    "\n",
    "\n",
    "match['NTE_nonzero_fraction'] = match['NTE_nonzero_fraction']*3\n",
    "match['CDS_nonzero_fraction'] = match['CDS_nonzero_fraction']*3\n",
    "\n",
    "\n",
    "subset = match[(match['NTE_nonzero_fraction'] < 0.0005) & \n",
    "               (match['NTE_coverage'] < 0.005) & \n",
    "               (match['CDS_coverage'] > 1) & \n",
    "               (match['CDS_nonzero_fraction'] > 0.3)].sort_values(by='CDS_coverage', ascending=False)\n",
    "\n",
    "\n",
    "subset.columns = ['tr_id1', 'Z_score', 'CDS_coverage', 'NTE_coverage',\n",
    "       'CDS_nonzero_fraction', 'NTE_nonzero_fraction']\n",
    "\n",
    "# one gene one transcript\n",
    "subset = subset.merge(meta[~meta['tr_id'].str.contains('PAR')][['tr_id1', 'gene', 'ovlp']], on='tr_id1', how='inner')#.drop_duplicates('gene')\n",
    "\n",
    "\n",
    "subset = subset[subset['ovlp'] == '0;0;0']\n",
    "print (subset.shape[0])\n",
    "\n",
    "# no genes in RiboSET and \n",
    "subset = subset[~subset['gene'].isin(RiboSET['gene'].tolist())]\n",
    "subset = subset[~subset['gene'].isin(RiboSET_EXT_cds_cov_nonzero['gene_ext'].tolist())]\n",
    "subset = subset[~subset['gene'].isin(['C14orf178', 'C16orf71', 'C16orf89', 'C19orf38', \n",
    "                                      'C21orf2', 'C22orf15', 'C2orf50', 'C7orf26', 'C2orf40', 'C8orf46'])]\n",
    "\n",
    "#print (subset.tr_id1.nunique(), subset.gene.nunique())\n",
    "\n",
    "# one gene per transcript with max CDS score\n",
    "subset = subset[subset.groupby(['gene'])['CDS_coverage'].transform(max) == subset['CDS_coverage']].sort_values(by='CDS_coverage').drop_duplicates('gene')\n",
    "\n",
    "print (subset['gene'].nunique(), subset['tr_id1'].nunique())\n",
    "\n",
    "subset[6:12]"
   ]
  },
  {
   "cell_type": "code",
   "execution_count": 9,
   "metadata": {},
   "outputs": [],
   "source": [
    "CDS_cov = 1.160804\n",
    "CDS_non_zero_fraction = 0.36\n",
    "NTE_coverage = 0"
   ]
  },
  {
   "cell_type": "code",
   "execution_count": null,
   "metadata": {},
   "outputs": [],
   "source": []
  },
  {
   "cell_type": "code",
   "execution_count": 10,
   "metadata": {},
   "outputs": [],
   "source": [
    "subset[['tr_id1', 'gene', 'CDS_coverage', 'NTE_coverage', 'CDS_nonzero_fraction', 'NTE_nonzero_fraction', 'ovlp']].to_csv('UntranslSET_384genes.txt', sep='\\t', index=False)"
   ]
  },
  {
   "cell_type": "code",
   "execution_count": null,
   "metadata": {},
   "outputs": [],
   "source": []
  },
  {
   "cell_type": "markdown",
   "metadata": {},
   "source": [
    "# Plot some candidates"
   ]
  },
  {
   "cell_type": "code",
   "execution_count": 11,
   "metadata": {},
   "outputs": [
    {
     "name": "stdout",
     "output_type": "stream",
     "text": [
      "PCMTD1 ENST00000544451\n",
      "---\n",
      "133\n",
      "0\n"
     ]
    },
    {
     "data": {
      "image/png": "[encoded data removed]",
      "text/plain": [
       "<Figure size 792x432 with 5 Axes>"
      ]
     },
     "metadata": {
      "needs_background": "light"
     },
     "output_type": "display_data"
    }
   ],
   "source": [
    "tr_id = 'ENST00000544451'\n",
    "gene =  metadata_pc_g25[metadata_pc_g25['tr_id'].str.contains(tr_id)].iloc[0].gene\n",
    "print (gene, tr_id)\n",
    "\n",
    "pre_st = False \n",
    "print ('---')\n",
    "\n",
    "xlims = 'full'\n",
    "d1 = prepare_data_for_trips2(meta = meta, \n",
    "                           file_counts = '../profiles/%s_%s_unamb.csv' % (gene, tr_id), \n",
    "                           metadata_pc_g25 = metadata_pc_g25, \n",
    "                           tr_id = tr_id, \n",
    "                             gene = gene, \n",
    "                            predicted_ext_start=pre_st, \n",
    "                            l=10, \n",
    "                            p =20, \n",
    "                             fraq = 500, \n",
    "                             cds = False,\n",
    "                           linew=4, \n",
    "                           figsize=(11, 6),\n",
    "                           xlims=[0, 1000],\n",
    "                            zeros=True)\n",
    "\n",
    "trips_full2(d1, name='a.png', font1=22, font2=25)"
   ]
  },
  {
   "cell_type": "code",
   "execution_count": null,
   "metadata": {},
   "outputs": [],
   "source": []
  },
  {
   "cell_type": "code",
   "execution_count": null,
   "metadata": {},
   "outputs": [],
   "source": []
  },
  {
   "cell_type": "code",
   "execution_count": null,
   "metadata": {},
   "outputs": [],
   "source": []
  },
  {
   "cell_type": "code",
   "execution_count": 123,
   "metadata": {},
   "outputs": [
    {
     "name": "stdout",
     "output_type": "stream",
     "text": [
      "MGAT4C ENST00000548651\n",
      "---\n",
      "33\n",
      "0\n"
     ]
    },
    {
     "data": {
      "image/png": "[encoded data removed]",
      "text/plain": [
       "<Figure size 792x432 with 5 Axes>"
      ]
     },
     "metadata": {
      "needs_background": "light"
     },
     "output_type": "display_data"
    }
   ],
   "source": [
    "tr_id = 'ENST00000548651'\n",
    "gene =  metadata_pc_g25[metadata_pc_g25['tr_id'].str.contains(tr_id)].iloc[0].gene\n",
    "print (gene, tr_id)\n",
    "\n",
    "pre_st = False \n",
    "print ('---')\n",
    "\n",
    "xlims = 'full'\n",
    "d1 = prepare_data_for_trips2(meta = meta, \n",
    "                           file_counts = '../profiles/%s_%s_unamb.csv' % (gene, tr_id), \n",
    "                           metadata_pc_g25 = metadata_pc_g25, \n",
    "                           tr_id = tr_id, \n",
    "                             gene = gene, \n",
    "                            predicted_ext_start=pre_st, \n",
    "                            l=10, \n",
    "                            p =5, \n",
    "                             fraq = 500, \n",
    "                             cds = False,\n",
    "                           linew=4, \n",
    "                           figsize=(11, 6),\n",
    "                           xlims=[0, 1000],\n",
    "                            zeros=True)\n",
    "\n",
    "trips_full2(d1, name='a.png', font1=22, font2=25)"
   ]
  },
  {
   "cell_type": "code",
   "execution_count": 124,
   "metadata": {},
   "outputs": [
    {
     "name": "stdout",
     "output_type": "stream",
     "text": [
      "FANK1 ENST00000368689\n",
      "---\n",
      "11\n",
      "0\n"
     ]
    },
    {
     "data": {
      "image/png": "[encoded data removed]",
      "text/plain": [
       "<Figure size 792x432 with 5 Axes>"
      ]
     },
     "metadata": {
      "needs_background": "light"
     },
     "output_type": "display_data"
    }
   ],
   "source": [
    "tr_id = 'ENST00000368689'\n",
    "gene =  metadata_pc_g25[metadata_pc_g25['tr_id'].str.contains(tr_id)].iloc[0].gene\n",
    "print (gene, tr_id)\n",
    "\n",
    "pre_st = False \n",
    "print ('---')\n",
    "\n",
    "xlims = 'full'\n",
    "d1 = prepare_data_for_trips2(meta = meta, \n",
    "                           file_counts = '../profiles/%s_%s_unamb.csv' % (gene, tr_id), \n",
    "                           metadata_pc_g25 = metadata_pc_g25, \n",
    "                           tr_id = tr_id, \n",
    "                             gene = gene, \n",
    "                            predicted_ext_start=pre_st, \n",
    "                            l=10, \n",
    "                            p =5, \n",
    "                             fraq = 500, \n",
    "                             cds = False,\n",
    "                           linew=4, \n",
    "                           figsize=(11, 6),\n",
    "                           xlims=[0, 1000],\n",
    "                            zeros=True)\n",
    "\n",
    "trips_full2(d1, name='a.png', font1=22, font2=25)"
   ]
  },
  {
   "cell_type": "code",
   "execution_count": 125,
   "metadata": {},
   "outputs": [
    {
     "name": "stdout",
     "output_type": "stream",
     "text": [
      "SIRPG ENST00000381580\n",
      "---\n",
      "17\n",
      "0\n"
     ]
    },
    {
     "data": {
      "image/png": "[encoded data removed]",
      "text/plain": [
       "<Figure size 792x432 with 5 Axes>"
      ]
     },
     "metadata": {
      "needs_background": "light"
     },
     "output_type": "display_data"
    }
   ],
   "source": [
    "tr_id = 'ENST00000381580'\n",
    "gene =  metadata_pc_g25[metadata_pc_g25['tr_id'].str.contains(tr_id)].iloc[0].gene\n",
    "print (gene, tr_id)\n",
    "\n",
    "pre_st = False \n",
    "print ('---')\n",
    "\n",
    "xlims = 'full'\n",
    "d1 = prepare_data_for_trips2(meta = meta, \n",
    "                           file_counts = '../profiles/%s_%s_unamb.csv' % (gene, tr_id), \n",
    "                           metadata_pc_g25 = metadata_pc_g25, \n",
    "                           tr_id = tr_id, \n",
    "                             gene = gene, \n",
    "                            predicted_ext_start=pre_st, \n",
    "                            l=10, \n",
    "                            p =5, \n",
    "                             fraq = 500, \n",
    "                             cds = False,\n",
    "                           linew=4, \n",
    "                           figsize=(11, 6),\n",
    "                           xlims=[0, 1000],\n",
    "                            zeros=True)\n",
    "\n",
    "trips_full2(d1, name='a.png', font1=22, font2=25)"
   ]
  },
  {
   "cell_type": "code",
   "execution_count": 126,
   "metadata": {},
   "outputs": [
    {
     "name": "stdout",
     "output_type": "stream",
     "text": [
      "TMEFF2 ENST00000392314\n",
      "---\n",
      "27\n",
      "0\n"
     ]
    },
    {
     "data": {
      "image/png": "[encoded data removed]",
      "text/plain": [
       "<Figure size 792x432 with 5 Axes>"
      ]
     },
     "metadata": {
      "needs_background": "light"
     },
     "output_type": "display_data"
    }
   ],
   "source": [
    "tr_id = 'ENST00000392314'\n",
    "gene =  metadata_pc_g25[metadata_pc_g25['tr_id'].str.contains(tr_id)].iloc[0].gene\n",
    "print (gene, tr_id)\n",
    "\n",
    "pre_st = False \n",
    "print ('---')\n",
    "\n",
    "xlims = 'full'\n",
    "d1 = prepare_data_for_trips2(meta = meta, \n",
    "                           file_counts = '../profiles/%s_%s_unamb.csv' % (gene, tr_id), \n",
    "                           metadata_pc_g25 = metadata_pc_g25, \n",
    "                           tr_id = tr_id, \n",
    "                             gene = gene, \n",
    "                            predicted_ext_start=pre_st, \n",
    "                            l=10, \n",
    "                            p =5, \n",
    "                             fraq = 500, \n",
    "                             cds = False,\n",
    "                           linew=4, \n",
    "                           figsize=(11, 6),\n",
    "                           xlims=[0, 1000],\n",
    "                            zeros=True)\n",
    "\n",
    "trips_full2(d1, name='a.png', font1=22, font2=25)"
   ]
  },
  {
   "cell_type": "code",
   "execution_count": 127,
   "metadata": {},
   "outputs": [
    {
     "name": "stdout",
     "output_type": "stream",
     "text": [
      "STAT4 ENST00000358470\n",
      "---\n",
      "14\n",
      "0\n"
     ]
    },
    {
     "data": {
      "image/png": "[encoded data removed]",
      "text/plain": [
       "<Figure size 792x432 with 5 Axes>"
      ]
     },
     "metadata": {
      "needs_background": "light"
     },
     "output_type": "display_data"
    }
   ],
   "source": [
    "tr_id = 'ENST00000358470'\n",
    "gene =  metadata_pc_g25[metadata_pc_g25['tr_id'].str.contains(tr_id)].iloc[0].gene\n",
    "print (gene, tr_id)\n",
    "\n",
    "pre_st = False \n",
    "print ('---')\n",
    "\n",
    "xlims = 'full'\n",
    "d1 = prepare_data_for_trips2(meta = meta, \n",
    "                           file_counts = '../profiles/%s_%s_unamb.csv' % (gene, tr_id), \n",
    "                           metadata_pc_g25 = metadata_pc_g25, \n",
    "                           tr_id = tr_id, \n",
    "                             gene = gene, \n",
    "                            predicted_ext_start=pre_st, \n",
    "                            l=10, \n",
    "                            p =2, \n",
    "                             fraq = 500, \n",
    "                             cds = False,\n",
    "                           linew=4, \n",
    "                           figsize=(11, 6),\n",
    "                           xlims='full',\n",
    "                            zeros=True)\n",
    "\n",
    "trips_full2(d1, name='a.png', font1=22, font2=25)"
   ]
  },
  {
   "cell_type": "code",
   "execution_count": 128,
   "metadata": {},
   "outputs": [
    {
     "name": "stdout",
     "output_type": "stream",
     "text": [
      "PCDH20 ENST00000409204\n",
      "---\n",
      "17\n",
      "0\n"
     ]
    },
    {
     "data": {
      "image/png": "[encoded data removed]",
      "text/plain": [
       "<Figure size 792x432 with 5 Axes>"
      ]
     },
     "metadata": {
      "needs_background": "light"
     },
     "output_type": "display_data"
    }
   ],
   "source": [
    "tr_id = 'ENST00000409204'\n",
    "gene =  metadata_pc_g25[metadata_pc_g25['tr_id'].str.contains(tr_id)].iloc[0].gene\n",
    "print (gene, tr_id)\n",
    "\n",
    "pre_st = False \n",
    "print ('---')\n",
    "\n",
    "xlims = 'full'\n",
    "d1 = prepare_data_for_trips2(meta = meta, \n",
    "                           file_counts = '../profiles/%s_%s_unamb.csv' % (gene, tr_id), \n",
    "                           metadata_pc_g25 = metadata_pc_g25, \n",
    "                           tr_id = tr_id, \n",
    "                             gene = gene, \n",
    "                            predicted_ext_start=pre_st, \n",
    "                            l=10, \n",
    "                            p =10, \n",
    "                             fraq = 500, \n",
    "                             cds = False,\n",
    "                           linew=4, \n",
    "                           figsize=(11, 6),\n",
    "                           xlims='full',\n",
    "                            zeros=True)\n",
    "\n",
    "trips_full2(d1, name='a.png', font1=22, font2=25)"
   ]
  },
  {
   "cell_type": "code",
   "execution_count": 129,
   "metadata": {},
   "outputs": [
    {
     "name": "stdout",
     "output_type": "stream",
     "text": [
      "SEZ6 ENST00000360295\n",
      "---\n",
      "31\n",
      "0\n"
     ]
    },
    {
     "data": {
      "image/png": "[encoded data removed]",
      "text/plain": [
       "<Figure size 792x432 with 5 Axes>"
      ]
     },
     "metadata": {
      "needs_background": "light"
     },
     "output_type": "display_data"
    }
   ],
   "source": [
    "tr_id = 'ENST00000360295'\n",
    "gene =  metadata_pc_g25[metadata_pc_g25['tr_id'].str.contains(tr_id)].iloc[0].gene\n",
    "print (gene, tr_id)\n",
    "\n",
    "pre_st = False \n",
    "print ('---')\n",
    "\n",
    "xlims = 'full'\n",
    "d1 = prepare_data_for_trips2(meta = meta, \n",
    "                           file_counts = '../profiles/%s_%s_unamb.csv' % (gene, tr_id), \n",
    "                           metadata_pc_g25 = metadata_pc_g25, \n",
    "                           tr_id = tr_id, \n",
    "                             gene = gene, \n",
    "                            predicted_ext_start=pre_st, \n",
    "                            l=10, \n",
    "                            p =10, \n",
    "                             fraq = 500, \n",
    "                             cds = False,\n",
    "                           linew=4, \n",
    "                           figsize=(11, 6),\n",
    "                           xlims='full',\n",
    "                            zeros=True)\n",
    "\n",
    "trips_full2(d1, name='a.png', font1=22, font2=25)"
   ]
  },
  {
   "cell_type": "code",
   "execution_count": 130,
   "metadata": {},
   "outputs": [
    {
     "name": "stdout",
     "output_type": "stream",
     "text": [
      "EPHA8 ENST00000374644\n",
      "---\n",
      "32\n",
      "0\n"
     ]
    },
    {
     "data": {
      "image/png": "[encoded data removed]",
      "text/plain": [
       "<Figure size 792x432 with 5 Axes>"
      ]
     },
     "metadata": {
      "needs_background": "light"
     },
     "output_type": "display_data"
    }
   ],
   "source": [
    "tr_id = 'ENST00000374644'\n",
    "gene =  metadata_pc_g25[metadata_pc_g25['tr_id'].str.contains(tr_id)].iloc[0].gene\n",
    "print (gene, tr_id)\n",
    "\n",
    "pre_st = False \n",
    "print ('---')\n",
    "\n",
    "xlims = 'full'\n",
    "d1 = prepare_data_for_trips2(meta = meta, \n",
    "                           file_counts = '../profiles/%s_%s_unamb.csv' % (gene, tr_id), \n",
    "                           metadata_pc_g25 = metadata_pc_g25, \n",
    "                           tr_id = tr_id, \n",
    "                             gene = gene, \n",
    "                            predicted_ext_start=pre_st, \n",
    "                            l=10, \n",
    "                            p =10, \n",
    "                             fraq = 500, \n",
    "                             cds = False,\n",
    "                           linew=4, \n",
    "                           figsize=(11, 6),\n",
    "                           xlims='full',\n",
    "                            zeros=True)\n",
    "\n",
    "trips_full2(d1, name='a.png', font1=22, font2=25)"
   ]
  },
  {
   "cell_type": "code",
   "execution_count": 131,
   "metadata": {},
   "outputs": [
    {
     "name": "stdout",
     "output_type": "stream",
     "text": [
      "FAM92A1 ENST00000359421\n",
      "---\n",
      "710\n",
      "0\n"
     ]
    },
    {
     "data": {
      "image/png": "[encoded data removed]",
      "text/plain": [
       "<Figure size 792x432 with 5 Axes>"
      ]
     },
     "metadata": {
      "needs_background": "light"
     },
     "output_type": "display_data"
    }
   ],
   "source": [
    "tr_id = 'ENST00000359421'\n",
    "gene =  metadata_pc_g25[metadata_pc_g25['tr_id'].str.contains(tr_id)].iloc[0].gene\n",
    "print (gene, tr_id)\n",
    "\n",
    "pre_st = False \n",
    "print ('---')\n",
    "\n",
    "xlims = 'full'\n",
    "d1 = prepare_data_for_trips2(meta = meta, \n",
    "                           file_counts = '../profiles/%s_%s_unamb.csv' % (gene, tr_id), \n",
    "                           metadata_pc_g25 = metadata_pc_g25, \n",
    "                           tr_id = tr_id, \n",
    "                             gene = gene, \n",
    "                            predicted_ext_start=pre_st, \n",
    "                            l=10, \n",
    "                            p =100, \n",
    "                             fraq = 500, \n",
    "                             cds = False,\n",
    "                           linew=4, \n",
    "                           figsize=(11, 6),\n",
    "                           xlims=[0, 1000],\n",
    "                            zeros=True)\n",
    "\n",
    "trips_full2(d1, name='a.png', font1=22, font2=25)"
   ]
  },
  {
   "cell_type": "code",
   "execution_count": 132,
   "metadata": {},
   "outputs": [
    {
     "name": "stdout",
     "output_type": "stream",
     "text": [
      "FAM91A1 ENST00000521166\n",
      "---\n",
      "645\n",
      "0\n"
     ]
    },
    {
     "data": {
      "image/png": "[encoded data removed]",
      "text/plain": [
       "<Figure size 792x432 with 5 Axes>"
      ]
     },
     "metadata": {
      "needs_background": "light"
     },
     "output_type": "display_data"
    }
   ],
   "source": [
    "tr_id = 'ENST00000521166'\n",
    "gene =  metadata_pc_g25[metadata_pc_g25['tr_id'].str.contains(tr_id)].iloc[0].gene\n",
    "print (gene, tr_id)\n",
    "\n",
    "pre_st = False \n",
    "print ('---')\n",
    "\n",
    "xlims = 'full'\n",
    "d1 = prepare_data_for_trips2(meta = meta, \n",
    "                           file_counts = '../profiles/%s_%s_unamb.csv' % (gene, tr_id), \n",
    "                           metadata_pc_g25 = metadata_pc_g25, \n",
    "                           tr_id = tr_id, \n",
    "                             gene = gene, \n",
    "                            predicted_ext_start=pre_st, \n",
    "                            l=10, \n",
    "                            p =100, \n",
    "                             fraq = 500, \n",
    "                             cds = False,\n",
    "                           linew=4, \n",
    "                           figsize=(11, 6),\n",
    "                           xlims=[0, 1000],\n",
    "                            zeros=True)\n",
    "\n",
    "trips_full2(d1, name='a.png', font1=22, font2=25)"
   ]
  },
  {
   "cell_type": "code",
   "execution_count": 133,
   "metadata": {},
   "outputs": [
    {
     "name": "stdout",
     "output_type": "stream",
     "text": [
      "CLIC5 ENST00000339561\n",
      "---\n",
      "20\n",
      "0\n"
     ]
    },
    {
     "data": {
      "image/png": "[encoded data removed]",
      "text/plain": [
       "<Figure size 792x432 with 5 Axes>"
      ]
     },
     "metadata": {
      "needs_background": "light"
     },
     "output_type": "display_data"
    }
   ],
   "source": [
    "tr_id = 'ENST00000339561'\n",
    "gene =  metadata_pc_g25[metadata_pc_g25['tr_id'].str.contains(tr_id)].iloc[0].gene\n",
    "print (gene, tr_id)\n",
    "\n",
    "pre_st = False \n",
    "print ('---')\n",
    "\n",
    "xlims = 'full'\n",
    "d1 = prepare_data_for_trips2(meta = meta, \n",
    "                           file_counts = '../profiles/%s_%s_unamb.csv' % (gene, tr_id), \n",
    "                           metadata_pc_g25 = metadata_pc_g25, \n",
    "                           tr_id = tr_id, \n",
    "                             gene = gene, \n",
    "                            predicted_ext_start=pre_st, \n",
    "                            l=10, \n",
    "                            p =10, \n",
    "                             fraq = 500, \n",
    "                             cds = False,\n",
    "                           linew=4, \n",
    "                           figsize=(11, 6),\n",
    "                           xlims=xlims,\n",
    "                            zeros=True)\n",
    "\n",
    "trips_full2(d1, name='a.png', font1=22, font2=25)"
   ]
  },
  {
   "cell_type": "code",
   "execution_count": 134,
   "metadata": {},
   "outputs": [
    {
     "name": "stdout",
     "output_type": "stream",
     "text": [
      "SCAMP4 ENST00000414057\n",
      "---\n",
      "608\n",
      "0\n"
     ]
    },
    {
     "data": {
      "image/png": "[encoded data removed]",
      "text/plain": [
       "<Figure size 792x432 with 5 Axes>"
      ]
     },
     "metadata": {
      "needs_background": "light"
     },
     "output_type": "display_data"
    }
   ],
   "source": [
    "tr_id = 'ENST00000414057'\n",
    "gene =  metadata_pc_g25[metadata_pc_g25['tr_id'].str.contains(tr_id)].iloc[0].gene\n",
    "print (gene, tr_id)\n",
    "\n",
    "pre_st = False \n",
    "print ('---')\n",
    "\n",
    "xlims = 'full'\n",
    "d1 = prepare_data_for_trips2(meta = meta, \n",
    "                           file_counts = '../profiles/%s_%s_unamb.csv' % (gene, tr_id), \n",
    "                           metadata_pc_g25 = metadata_pc_g25, \n",
    "                           tr_id = tr_id, \n",
    "                             gene = gene, \n",
    "                            predicted_ext_start=pre_st, \n",
    "                            l=10, \n",
    "                            p =100, \n",
    "                             fraq = 500, \n",
    "                             cds = False,\n",
    "                           linew=4, \n",
    "                           figsize=(11, 6),\n",
    "                           xlims=xlims,\n",
    "                            zeros=True)\n",
    "\n",
    "trips_full2(d1, name='a.png', font1=22, font2=25)"
   ]
  },
  {
   "cell_type": "code",
   "execution_count": null,
   "metadata": {},
   "outputs": [],
   "source": []
  },
  {
   "cell_type": "code",
   "execution_count": null,
   "metadata": {},
   "outputs": [],
   "source": []
  },
  {
   "cell_type": "code",
   "execution_count": 135,
   "metadata": {},
   "outputs": [
    {
     "name": "stdout",
     "output_type": "stream",
     "text": [
      "SPAG6 ENST00000313311\n",
      "---\n",
      "9\n",
      "0\n"
     ]
    },
    {
     "data": {
      "image/png": "[encoded data removed]",
      "text/plain": [
       "<Figure size 792x432 with 5 Axes>"
      ]
     },
     "metadata": {
      "needs_background": "light"
     },
     "output_type": "display_data"
    }
   ],
   "source": [
    "tr_id = 'ENST00000313311'\n",
    "gene =  metadata_pc_g25[metadata_pc_g25['tr_id'].str.contains(tr_id)].iloc[0].gene\n",
    "print (gene, tr_id)\n",
    "\n",
    "pre_st = False \n",
    "print ('---')\n",
    "\n",
    "xlims = 'full'\n",
    "d1 = prepare_data_for_trips2(meta = meta, \n",
    "                           file_counts = '../profiles/%s_%s_unamb.csv' % (gene, tr_id), \n",
    "                           metadata_pc_g25 = metadata_pc_g25, \n",
    "                           tr_id = tr_id, \n",
    "                             gene = gene, \n",
    "                            predicted_ext_start=pre_st, \n",
    "                            l=10, \n",
    "                            p =2, \n",
    "                             fraq = 500, \n",
    "                             cds = False,\n",
    "                           linew=4, \n",
    "                           figsize=(11, 6),\n",
    "                           xlims=xlims,\n",
    "                            zeros=True)\n",
    "\n",
    "trips_full2(d1, name='a.png', font1=22, font2=25)"
   ]
  },
  {
   "cell_type": "code",
   "execution_count": 136,
   "metadata": {},
   "outputs": [
    {
     "name": "stdout",
     "output_type": "stream",
     "text": [
      "ADCY4 ENST00000557056\n",
      "---\n",
      "9\n",
      "0\n"
     ]
    },
    {
     "data": {
      "image/png": "[encoded data removed]",
      "text/plain": [
       "<Figure size 792x432 with 5 Axes>"
      ]
     },
     "metadata": {
      "needs_background": "light"
     },
     "output_type": "display_data"
    }
   ],
   "source": [
    "tr_id = 'ENST00000557056'\n",
    "gene =  metadata_pc_g25[metadata_pc_g25['tr_id'].str.contains(tr_id)].iloc[0].gene\n",
    "print (gene, tr_id)\n",
    "\n",
    "pre_st = False \n",
    "print ('---')\n",
    "\n",
    "xlims = 'full'\n",
    "d1 = prepare_data_for_trips2(meta = meta, \n",
    "                           file_counts = '../profiles/%s_%s_unamb.csv' % (gene, tr_id), \n",
    "                           metadata_pc_g25 = metadata_pc_g25, \n",
    "                           tr_id = tr_id, \n",
    "                             gene = gene, \n",
    "                            predicted_ext_start=pre_st, \n",
    "                            l=10, \n",
    "                            p =10, \n",
    "                             fraq = 500, \n",
    "                             cds = False,\n",
    "                           linew=4, \n",
    "                           figsize=(11, 6),\n",
    "                           xlims=xlims,\n",
    "                            zeros=True)\n",
    "\n",
    "trips_full2(d1, name='a.png', font1=22, font2=25)"
   ]
  },
  {
   "cell_type": "code",
   "execution_count": 137,
   "metadata": {},
   "outputs": [
    {
     "name": "stdout",
     "output_type": "stream",
     "text": [
      "FZD10 ENST00000539839\n",
      "---\n",
      "50\n",
      "0\n"
     ]
    },
    {
     "data": {
      "image/png": "[encoded data removed]",
      "text/plain": [
       "<Figure size 792x432 with 5 Axes>"
      ]
     },
     "metadata": {
      "needs_background": "light"
     },
     "output_type": "display_data"
    }
   ],
   "source": [
    "tr_id = 'ENST00000539839'\n",
    "gene =  metadata_pc_g25[metadata_pc_g25['tr_id'].str.contains(tr_id)].iloc[0].gene\n",
    "print (gene, tr_id)\n",
    "\n",
    "pre_st = False \n",
    "print ('---')\n",
    "\n",
    "xlims = 'full'\n",
    "d1 = prepare_data_for_trips2(meta = meta, \n",
    "                           file_counts = '../profiles/%s_%s_unamb.csv' % (gene, tr_id), \n",
    "                           metadata_pc_g25 = metadata_pc_g25, \n",
    "                           tr_id = tr_id, \n",
    "                             gene = gene, \n",
    "                            predicted_ext_start=pre_st, \n",
    "                            l=10, \n",
    "                            p =10, \n",
    "                             fraq = 500, \n",
    "                             cds = False,\n",
    "                           linew=4, \n",
    "                           figsize=(11, 6),\n",
    "                           xlims=xlims,\n",
    "                            zeros=True)\n",
    "\n",
    "trips_full2(d1, name='a.png', font1=22, font2=25)"
   ]
  },
  {
   "cell_type": "code",
   "execution_count": 138,
   "metadata": {},
   "outputs": [
    {
     "name": "stdout",
     "output_type": "stream",
     "text": [
      "SLC22A2 ENST00000366953\n",
      "---\n",
      "7\n",
      "0\n"
     ]
    },
    {
     "data": {
      "image/png": "[encoded data removed]",
      "text/plain": [
       "<Figure size 792x432 with 5 Axes>"
      ]
     },
     "metadata": {
      "needs_background": "light"
     },
     "output_type": "display_data"
    }
   ],
   "source": [
    "tr_id = 'ENST00000366953'\n",
    "gene =  metadata_pc_g25[metadata_pc_g25['tr_id'].str.contains(tr_id)].iloc[0].gene\n",
    "print (gene, tr_id) \n",
    "\n",
    "pre_st = False \n",
    "print ('---')\n",
    "\n",
    "xlims = 'full'\n",
    "d1 = prepare_data_for_trips2(meta = meta, \n",
    "                           file_counts = '../profiles/%s_%s_unamb.csv' % (gene, tr_id), \n",
    "                           metadata_pc_g25 = metadata_pc_g25, \n",
    "                           tr_id = tr_id, \n",
    "                             gene = gene, \n",
    "                            predicted_ext_start=pre_st, \n",
    "                            l=10, \n",
    "                            p =1, \n",
    "                             fraq = 500, \n",
    "                             cds = False,\n",
    "                           linew=4, \n",
    "                           figsize=(11, 6),\n",
    "                           xlims=xlims,\n",
    "                            zeros=True)\n",
    "\n",
    "trips_full2(d1, name='a.png', font1=22, font2=25)"
   ]
  },
  {
   "cell_type": "code",
   "execution_count": 139,
   "metadata": {},
   "outputs": [
    {
     "name": "stdout",
     "output_type": "stream",
     "text": [
      "C1orf87 ENST00000450089\n",
      "---\n",
      "3\n",
      "0\n"
     ]
    },
    {
     "data": {
      "image/png": "[encoded data removed]",
      "text/plain": [
       "<Figure size 792x432 with 5 Axes>"
      ]
     },
     "metadata": {
      "needs_background": "light"
     },
     "output_type": "display_data"
    }
   ],
   "source": [
    "tr_id = 'ENST00000450089'\n",
    "gene =  metadata_pc_g25[metadata_pc_g25['tr_id'].str.contains(tr_id)].iloc[0].gene\n",
    "print (gene, tr_id)\n",
    "\n",
    "pre_st = False \n",
    "print ('---')\n",
    "\n",
    "xlims = 'full'\n",
    "d1 = prepare_data_for_trips2(meta = meta, \n",
    "                           file_counts = '../profiles/%s_%s_unamb.csv' % (gene, tr_id), \n",
    "                           metadata_pc_g25 = metadata_pc_g25, \n",
    "                           tr_id = tr_id, \n",
    "                             gene = gene, \n",
    "                            predicted_ext_start=pre_st, \n",
    "                            l=10, \n",
    "                            p =1, \n",
    "                             fraq = 100, \n",
    "                             cds = False,\n",
    "                           linew=4, \n",
    "                           figsize=(11, 6),\n",
    "                           xlims=xlims,\n",
    "                            zeros=True)\n",
    "\n",
    "trips_full2(d1, name='a.png', font1=22, font2=25)"
   ]
  },
  {
   "cell_type": "code",
   "execution_count": null,
   "metadata": {},
   "outputs": [],
   "source": []
  },
  {
   "cell_type": "code",
   "execution_count": null,
   "metadata": {},
   "outputs": [],
   "source": []
  },
  {
   "cell_type": "code",
   "execution_count": null,
   "metadata": {},
   "outputs": [],
   "source": []
  },
  {
   "cell_type": "code",
   "execution_count": null,
   "metadata": {},
   "outputs": [],
   "source": []
  },
  {
   "cell_type": "markdown",
   "metadata": {},
   "source": [
    "# Match by expression RiboSET"
   ]
  },
  {
   "cell_type": "code",
   "execution_count": 12,
   "metadata": {},
   "outputs": [],
   "source": [
    "def find(A, B, dmat):\n",
    "\n",
    "    # Initialize a place to store what columns we select so we can filter out the ones we choose\n",
    "    selected = []\n",
    "    \n",
    "    # Initialize a place to store the output\n",
    "    pairs = np.zeros((len(A), 2))\n",
    "    \n",
    "    for i in range(len(A)):\n",
    "        if i % 100 == 0:\n",
    "            print (i)\n",
    "        # Sort the observations in descending order\n",
    "        \n",
    "        try:\n",
    "            choices = dmat[i].argsort()\n",
    "        \n",
    "            # Eliminate those observations already selected\n",
    "            remaining_choices = choices[~np.isin(choices, selected)]\n",
    "        \n",
    "            # Append the observation to select\n",
    "            choose = remaining_choices[0]\n",
    "            selected.append(choose)\n",
    "        \n",
    "            # Select the closest observation\n",
    "            pairs[i] = [i, choose]\n",
    "        except Exception as e:\n",
    "            print (e)\n",
    "            break\n",
    "    return pairs"
   ]
  },
  {
   "cell_type": "code",
   "execution_count": 13,
   "metadata": {},
   "outputs": [
    {
     "name": "stdout",
     "output_type": "stream",
     "text": [
      "(390, 384)\n",
      "0\n",
      "100\n",
      "200\n",
      "300\n",
      "index 0 is out of bounds for axis 0 with size 0\n"
     ]
    }
   ],
   "source": [
    "li = []\n",
    "\n",
    "for el1 in RiboSET_CDS_cov_df[['tr_id1', 'CDS_coverage']].to_numpy():\n",
    "    tr_id_r = el1[0]\n",
    "    CDS_cov_r = el1[1]\n",
    "    \n",
    "    for el in  subset[['tr_id1', 'CDS_coverage']].to_numpy():\n",
    "        tr_id = el[0]\n",
    "        CDS_cov_comp = el[1]\n",
    "        \n",
    "        #if np.abs(CDS_cov_comp - CDS_cov_r) < 850:\n",
    "        \n",
    "        li.append([tr_id_r, CDS_cov_r, tr_id, CDS_cov_comp, np.abs(CDS_cov_comp - CDS_cov_r)])\n",
    "            \n",
    "distances = pd.DataFrame(li, columns = ['tr_id_r', 'CDS_cov_r', 'tr_id1', 'CDS_cov_comp', 'dist'])\n",
    "\n",
    "matrix = distances.pivot(index='tr_id_r', columns='tr_id1', values='dist')\n",
    "dmat = matrix.to_numpy()\n",
    "A = list(matrix.index)\n",
    "B = list(matrix.columns)\n",
    "\n",
    "print (matrix.shape)\n",
    "\n",
    "pairs = find(A, B, dmat)\n",
    "\n",
    "B_df = pd.DataFrame({'tr_id1': B, 'ind_B': list(range(0, len(B)))})"
   ]
  },
  {
   "cell_type": "code",
   "execution_count": 14,
   "metadata": {},
   "outputs": [
    {
     "name": "stdout",
     "output_type": "stream",
     "text": [
      "390 384\n"
     ]
    }
   ],
   "source": [
    "pairs_ind_df = pd.DataFrame(pairs,columns = ['ind_A', 'ind_B'])\n",
    "\n",
    "pairs_ind_df['tr_id_r'] = A\n",
    "\n",
    "pairs_ind_df['ind_B'] = pairs_ind_df['ind_B'].astype(int)\n",
    "\n",
    "pairs_392_final = pairs_ind_df.merge(B_df, on='ind_B', how='inner').merge(distances, on=['tr_id1', 'tr_id_r'], how='inner')\n",
    "\n",
    "print (pairs_392_final.tr_id_r.nunique(), pairs_392_final.tr_id1.nunique())"
   ]
  },
  {
   "cell_type": "code",
   "execution_count": 15,
   "metadata": {},
   "outputs": [
    {
     "data": {
      "image/png": "[encoded data removed]",
      "text/plain": [
       "<Figure size 360x288 with 1 Axes>"
      ]
     },
     "metadata": {
      "needs_background": "light"
     },
     "output_type": "display_data"
    }
   ],
   "source": [
    "fig, ax = plt.subplots(1, 1, figsize=(5,4))\n",
    "\n",
    "ax = sns.distplot(pairs_392_final['CDS_cov_r'].tolist(), \n",
    "                  hist=False, \n",
    "                  label = 'RiboSET',\n",
    "                 kde_kws = {'shade': True, 'linewidth': 1},\n",
    "                 color = 'blue')\n",
    "\n",
    "\n",
    "ax = sns.distplot(pairs_392_final['CDS_cov_comp'].tolist(), \n",
    "                  hist=False, \n",
    "                  label = 'UntranslSET',\n",
    "                 kde_kws = {'shade': True, 'linewidth': 1},\n",
    "                 color = 'red')\n",
    "\n",
    "ax.set_xlabel('CDS_cov_match')\n",
    "\n",
    "stat, pvalue = stats.ks_2samp(pairs_392_final['CDS_cov_r'].tolist(), \n",
    "              pairs_392_final['CDS_cov_comp'].tolist())\n",
    "\n",
    "\n",
    "#ax.text(500, 0.0015, \"KS test pv=%s, stat=%s\" % (np.round(pvalue, 2), np.round(stat, 2)), \n",
    "#        bbox=dict(facecolor='white', alpha=0.5), \n",
    "#        fontsize=17)\n",
    "\n",
    "# We change the fontsize of minor ticks label \n",
    "ax.tick_params(axis='both', which='major', labelsize=15)\n",
    "ax.tick_params(axis='both', which='minor', labelsize=15)\n",
    "\n",
    "ax.set_ylabel('Density', fontsize= 18)\n",
    "ax.set_xlabel('CDS coverage', fontsize= 18)\n",
    "\n",
    "plt.legend(loc=0, prop={'size': 14})\n",
    "\n",
    "plt.show()"
   ]
  },
  {
   "cell_type": "code",
   "execution_count": 16,
   "metadata": {},
   "outputs": [
    {
     "data": {
      "text/plain": [
       "set()"
      ]
     },
     "execution_count": 16,
     "metadata": {},
     "output_type": "execute_result"
    }
   ],
   "source": [
    "tmp = pairs_392_final[['tr_id_r']]\n",
    "tmp.columns = ['tr_id1']\n",
    "r = tmp.merge(meta[['tr_id1', 'gene']])['gene'].tolist()\n",
    "\n",
    "tmp = pairs_392_final[['tr_id1']]\n",
    "tmp.columns = ['tr_id1']\n",
    "untr = tmp.merge(meta[['tr_id1', 'gene']])['gene'].tolist()\n",
    "\n",
    "\n",
    "set(r).intersection(untr)"
   ]
  },
  {
   "cell_type": "code",
   "execution_count": 17,
   "metadata": {},
   "outputs": [],
   "source": [
    "pairs_392_final.to_csv('pairs_390_FINAL.txt', sep='\\t', index=False)"
   ]
  },
  {
   "cell_type": "code",
   "execution_count": 18,
   "metadata": {},
   "outputs": [
    {
     "data": {
      "text/plain": [
       "384"
      ]
     },
     "execution_count": 18,
     "metadata": {},
     "output_type": "execute_result"
    }
   ],
   "source": [
    "pairs_392_final.tr_id1.nunique()"
   ]
  },
  {
   "cell_type": "code",
   "execution_count": 19,
   "metadata": {},
   "outputs": [],
   "source": [
    "subset.to_csv('all_subset_FINAL.txt', sep='\\t', index=False)"
   ]
  },
  {
   "cell_type": "code",
   "execution_count": 20,
   "metadata": {},
   "outputs": [
    {
     "data": {
      "text/plain": [
       "384"
      ]
     },
     "execution_count": 20,
     "metadata": {},
     "output_type": "execute_result"
    }
   ],
   "source": [
    "subset.shape[0]"
   ]
  },
  {
   "cell_type": "code",
   "execution_count": null,
   "metadata": {},
   "outputs": [],
   "source": []
  },
  {
   "cell_type": "markdown",
   "metadata": {},
   "source": [
    "# Compare PCSF scores"
   ]
  },
  {
   "cell_type": "code",
   "execution_count": 21,
   "metadata": {},
   "outputs": [
    {
     "data": {
      "text/plain": [
       "(390, 3453, 384)"
      ]
     },
     "execution_count": 21,
     "metadata": {},
     "output_type": "execute_result"
    }
   ],
   "source": [
    "a = RiboSET['PhyloCSF120score'].tolist()\n",
    "a1 = meta[meta['tr_id1'].isin(RiboSET_EXT_cds_cov_nonzero['tr_id1'].unique())]['PhyloCSF120score'].tolist()\n",
    "\n",
    "# matching set of 392 genes by CDS cov \n",
    "b = meta[meta['tr_id1'].isin(subset['tr_id1'].unique())]['PhyloCSF120score'].tolist()\n",
    "\n",
    "len(a), len(a1), len(b)"
   ]
  },
  {
   "cell_type": "code",
   "execution_count": 22,
   "metadata": {},
   "outputs": [
    {
     "name": "stdout",
     "output_type": "stream",
     "text": [
      "2.2398219834407485e-06\n"
     ]
    },
    {
     "data": {
      "image/png": "[encoded data removed]",
      "text/plain": [
       "<Figure size 388.8x187.2 with 1 Axes>"
      ]
     },
     "metadata": {
      "needs_background": "light"
     },
     "output_type": "display_data"
    }
   ],
   "source": [
    "fig, ax = plt.subplots(1, 1, figsize=(5.4, 2.6))\n",
    "\n",
    "ax = sns.distplot(a, \n",
    "                  hist=False, \n",
    "                  label = 'RiboSET',\n",
    "                 kde_kws = {'shade': True, 'linewidth': 2},\n",
    "                 color = 'purple')\n",
    "\n",
    "\n",
    "ax = sns.distplot(b, \n",
    "                  hist=False, \n",
    "                  label = 'UntranslSET',\n",
    "                 kde_kws = {'shade': True, 'linewidth': 2},\n",
    "                 color = 'gold')\n",
    "\n",
    "ax.set_xlabel('PhyloCSF_score_50codons')\n",
    "\n",
    "# We change the fontsize of minor ticks label \n",
    "ax.tick_params(axis='both', which='major', labelsize=18, rotation = 0)\n",
    "ax.tick_params(axis='both', which='minor', labelsize=18)\n",
    "\n",
    "ax.set_xlabel('Density', fontsize= 20)\n",
    "ax.set_ylabel('PhyloCSF score', fontsize= 20)\n",
    "\n",
    "stat, pvalue = stats.ks_2samp(a, \n",
    "              b)\n",
    "\n",
    "print (pvalue)\n",
    "\n",
    "#ax.text(100, 0.0005, \"KS test pv=%s, stat=%s\" % (np.round(pvalue, 2), np.round(stat, 2)), \n",
    "#        bbox=dict(facecolor='white', alpha=0.5), \n",
    "#        fontsize=17)\n",
    "\n",
    "#ax.text(200, 0.0003, \"KS pv=0.0032\",fontsize=17)\n",
    "\n",
    "\n",
    "plt.legend(loc=0, prop={'size': 15})\n",
    "\n",
    "plt.show()"
   ]
  },
  {
   "cell_type": "code",
   "execution_count": 23,
   "metadata": {},
   "outputs": [
    {
     "name": "stdout",
     "output_type": "stream",
     "text": [
      "2.2398219834407485e-06\n"
     ]
    },
    {
     "data": {
      "image/png": "[encoded data removed]",
      "text/plain": [
       "<Figure size 489.6x331.2 with 1 Axes>"
      ]
     },
     "metadata": {
      "needs_background": "light"
     },
     "output_type": "display_data"
    }
   ],
   "source": [
    "fig, ax = plt.subplots(1, 1, figsize=(6.8, 4.6))\n",
    "\n",
    "ax = sns.distplot(a1, \n",
    "                  hist=False, \n",
    "                  label = 'RiboSET_ext',\n",
    "                 kde_kws = {'shade': True, 'linewidth': 2},\n",
    "                 color = 'purple')\n",
    "\n",
    "\n",
    "ax = sns.distplot(b, \n",
    "                  hist=False, \n",
    "                  label = 'UntranslSET',\n",
    "                 kde_kws = {'shade': True, 'linewidth': 2},\n",
    "                 color = 'gold')\n",
    "\n",
    "ax.set_xlabel('PhyloCSF_score_50codons')\n",
    "\n",
    "# We change the fontsize of minor ticks label \n",
    "ax.tick_params(axis='both', which='major', labelsize=18, rotation = 0)\n",
    "ax.tick_params(axis='both', which='minor', labelsize=18)\n",
    "\n",
    "ax.set_xlabel('Density', fontsize= 20)\n",
    "ax.set_ylabel('PhyloCSF score', fontsize= 20)\n",
    "\n",
    "stat, pvalue = stats.ks_2samp(a, \n",
    "              b)\n",
    "\n",
    "print (pvalue)\n",
    "\n",
    "#ax.text(100, 0.0005, \"KS test pv=%s, stat=%s\" % (np.round(pvalue, 2), np.round(stat, 2)), \n",
    "#        bbox=dict(facecolor='white', alpha=0.5), \n",
    "#        fontsize=17)\n",
    "\n",
    "#ax.text(200, 0.0003, \"KS pv=0.0032\",fontsize=17)\n",
    "\n",
    "\n",
    "plt.legend(loc=0, prop={'size': 15})\n",
    "\n",
    "plt.show()"
   ]
  },
  {
   "cell_type": "code",
   "execution_count": null,
   "metadata": {},
   "outputs": [],
   "source": []
  },
  {
   "cell_type": "code",
   "execution_count": null,
   "metadata": {},
   "outputs": [],
   "source": []
  },
  {
   "cell_type": "raw",
   "metadata": {},
   "source": [
    "4. In analyzing re-identification of non-AUG extensions (Fig. 3F and Table S3D), how does the PhyloCSF score distribution of the 24 annotated non-AUG extensions compare with the PhyloCSF score distributions of other comparable transcripts?"
   ]
  },
  {
   "cell_type": "code",
   "execution_count": 24,
   "metadata": {},
   "outputs": [
    {
     "name": "stdout",
     "output_type": "stream",
     "text": [
      "390 60 3451\n",
      "24 28\n"
     ]
    }
   ],
   "source": [
    "RiboSET_genes = RiboSET['gene'].tolist()\n",
    "PhyloSET_genes = list(PhyloSET['gene'].unique())\n",
    "RiboSET_ext_genes = RiboSET_EXT_cds_cov_nonzero['gene'].unique() \n",
    "\n",
    "print (len(RiboSET_genes), len(PhyloSET_genes), len(RiboSET_ext_genes))\n",
    "\n",
    "# Ivanov et al sets \n",
    "# genes from 2011 paper\n",
    "genes_42 = 'RASL10B,FGFR1,YPEL2,ENOX2,UFSP1,WDR26,TIAL1,YPEL4,NGF,TRPV6,KCTD11,STARD10,YPEL1,R3HCC1,ZFP62,NHLRC4,EPHX3,C1QL4,TLE3,HDGF,ANKRD42,FAM217B,NFKBID,PTEN,RNF187,METTL23,TMEM8B,VANGL2,FNDC5,C1QL1,CITED1,EIF4G3,HELZ2,CYTH2,NTF3,MFSD4B,C1QL3,KCNN4,IFT46,RASD2,CITED2,C1QL2'.split(',')\n",
    "genes_17 = 'GTF3A, EIF4G2, SP3, PRPS1L1, TEAD4, TEAD3, CACNG8, OAZ3, TEAD1, DDX17, VEGFA, NR1I2, HCK, WT1, BAG1, NPW, MYC'.split(', ')\n",
    "\n",
    "already_ann_24 = ['FNDC5', 'OAZ3', 'RNF187', 'SP3', 'NR1I2', 'TEAD3', 'VEGFA',\n",
    " 'PRPS1L1', 'TRPV6', 'R3HCC1', 'MYC', 'BAG1', 'EIF4G2', 'WT1', 'TEAD4', 'GTF3A', \n",
    "                  'NPW', 'KCTD11', 'YPEL2', 'NFKBID', 'CACNG8', 'HCK', 'YPEL1', 'DDX17']\n",
    "\n",
    "remaining_7 = ['ANKRD42', 'C1QL1', 'HELZ2', 'PTEN', 'TIAL1', 'WDR26', 'ZFP62']\n",
    "\n",
    "not_yet_ann_28 = list(set(genes_42+genes_17) - set(already_ann_24+remaining_7))\n",
    "\n",
    "print (len(already_ann_24), len(not_yet_ann_28))"
   ]
  },
  {
   "cell_type": "code",
   "execution_count": 25,
   "metadata": {},
   "outputs": [
    {
     "name": "stdout",
     "output_type": "stream",
     "text": [
      "24\n"
     ]
    }
   ],
   "source": [
    "PCSF_24genes = pd.read_csv('../../tmp_res/PCSF_for_24_ann.txt', sep='\\t')\n",
    "\n",
    "PCSF_24genes_score = PCSF_24genes[['gene', 'PhyloCSF120score']].drop_duplicates()['PhyloCSF120score'].tolist()\n",
    "\n",
    "PCSF_28genes_score = meta[meta['gene'].isin(not_yet_ann_28)][['gene', 'PhyloCSF120score']].drop_duplicates()['PhyloCSF120score'].tolist()\n",
    "\n",
    "print (PCSF_24genes.gene.nunique())"
   ]
  },
  {
   "cell_type": "code",
   "execution_count": 26,
   "metadata": {},
   "outputs": [
    {
     "data": {
      "text/plain": [
       "11"
      ]
     },
     "execution_count": 26,
     "metadata": {},
     "output_type": "execute_result"
    }
   ],
   "source": [
    "PCSF_24genes[PCSF_24genes['PhyloCSF120score'] > 0]['gene'].nunique()"
   ]
  },
  {
   "cell_type": "code",
   "execution_count": 27,
   "metadata": {},
   "outputs": [],
   "source": [
    "g = pd.DataFrame({'PCSF_score': PCSF_28genes_score})\n",
    "g['subset'] = 'un_28'\n",
    "e = pd.DataFrame({'PCSF_score': PCSF_24genes_score})\n",
    "e['subset'] = 'ann_24'\n",
    "f = pd.concat([e,g])"
   ]
  },
  {
   "cell_type": "code",
   "execution_count": 28,
   "metadata": {},
   "outputs": [
    {
     "data": {
      "image/png": "[encoded data removed]",
      "text/plain": [
       "<Figure size 180x180 with 1 Axes>"
      ]
     },
     "metadata": {
      "needs_background": "light"
     },
     "output_type": "display_data"
    }
   ],
   "source": [
    "fig,ax = plt.subplots(figsize=(2.5,2.5))\n",
    "\n",
    "ax = sns.boxplot(x=\"subset\", y=\"PCSF_score\", data=f, palette=\"PRGn\")\n",
    "\n",
    "# statistical annotation\n",
    "x1, x2 = 0, 1   # columns 'Sat' and 'Sun' (first column: 0, see plt.xticks())\n",
    "y, h, col = f['PCSF_score'].max() + 30, 50, 'k'\n",
    "plt.plot([x1, x1, x2, x2], [y, y+h, y+h, y], lw=1.5, c=col)\n",
    "plt.text((x1+x2)*.5, y+h, \"MW p-val=0.0086\", ha='center', va='bottom', \n",
    "         color=col, fontsize= 14)\n",
    "\n",
    "ax.set_ylim(-2500, 4100)\n",
    "\n",
    "# We change the fontsize of minor ticks label \n",
    "ax.tick_params(axis='both', which='major', labelsize=15, rotation = 0)\n",
    "ax.tick_params(axis='both', which='minor', labelsize=15)\n",
    "\n",
    "ax.set_xlabel('Subsets [Ivanov et al]', fontsize= 18)\n",
    "ax.set_ylabel('PhyloCSF score', fontsize= 18)\n",
    "\n",
    "#plt.legend(loc=0, prop={'size': 14})\n",
    "\n",
    "plt.show()"
   ]
  },
  {
   "cell_type": "code",
   "execution_count": null,
   "metadata": {},
   "outputs": [],
   "source": []
  },
  {
   "cell_type": "raw",
   "metadata": {},
   "source": [
    "(3) Are the levels of overlap between Ivanov et al., 2011 (ref. 21) and PhyloSET, RiboSET statistically significant? Is there a reason that the current PhyloSET and the Ivanov analysis share so little overlap, given that both rely on evolutionary comparison within mammals?"
   ]
  },
  {
   "cell_type": "code",
   "execution_count": 29,
   "metadata": {},
   "outputs": [],
   "source": [
    "would_be_in_PhyloSET_genes = PCSF_24genes[PCSF_24genes['PhyloCSF120score'] > 0]['gene'].unique()"
   ]
  },
  {
   "cell_type": "code",
   "execution_count": 30,
   "metadata": {},
   "outputs": [
    {
     "data": {
      "text/plain": [
       "['HES3',\n",
       " 'RERE',\n",
       " 'IFFO2',\n",
       " 'TAF12',\n",
       " 'SFPQ',\n",
       " 'OAZ3',\n",
       " 'VANGL2',\n",
       " 'NRXN1',\n",
       " 'C1QL2',\n",
       " 'MAP3K19',\n",
       " 'SLC6A1',\n",
       " 'ZBTB47',\n",
       " 'ADCY5',\n",
       " 'H1FX',\n",
       " 'TRPC1',\n",
       " 'SLC4A4',\n",
       " 'MAB21L2',\n",
       " 'FBXW7',\n",
       " 'HNRNPA0',\n",
       " 'MARCKS',\n",
       " 'MAP3K5',\n",
       " 'POMZP3',\n",
       " 'SLC35G5',\n",
       " 'ENY2',\n",
       " 'C1QL3',\n",
       " 'NAV2',\n",
       " 'ALDH3B2',\n",
       " 'GLTP',\n",
       " 'MAB21L1',\n",
       " 'PELI2',\n",
       " 'PLEKHG3',\n",
       " 'FEM1B',\n",
       " 'SULT1A1',\n",
       " 'AC007906.1',\n",
       " 'MAF',\n",
       " 'GLOD4',\n",
       " 'FXR2',\n",
       " 'TNFAIP1',\n",
       " 'TBC1D29',\n",
       " 'HOXB5',\n",
       " 'RPTOR',\n",
       " 'MIB1',\n",
       " 'SMAD7',\n",
       " 'CCDC8',\n",
       " 'CYTH2',\n",
       " 'CACNG8',\n",
       " 'ACTL10',\n",
       " 'GDF5OS',\n",
       " 'RIMS4',\n",
       " 'HELZ2',\n",
       " 'RANBP1',\n",
       " 'LRP5L',\n",
       " 'SOX10',\n",
       " 'KIAA0930',\n",
       " 'WWC3',\n",
       " 'USP27X',\n",
       " 'DLG3',\n",
       " 'PABPC1L2B',\n",
       " 'PABPC1L2A',\n",
       " 'UBE2A']"
      ]
     },
     "execution_count": 30,
     "metadata": {},
     "output_type": "execute_result"
    }
   ],
   "source": [
    "PhyloSET_genes"
   ]
  },
  {
   "cell_type": "code",
   "execution_count": 31,
   "metadata": {},
   "outputs": [
    {
     "data": {
      "text/plain": [
       "['EIF4G3',\n",
       " 'TEAD1',\n",
       " 'C1QL2',\n",
       " 'STARD10',\n",
       " 'UFSP1',\n",
       " 'RASL10B',\n",
       " 'IFT46',\n",
       " 'HDGF',\n",
       " 'FGFR1',\n",
       " 'CYTH2',\n",
       " 'TMEM8B',\n",
       " 'YPEL4',\n",
       " 'C1QL4',\n",
       " 'NTF3',\n",
       " 'METTL23',\n",
       " 'CITED1',\n",
       " 'CITED2',\n",
       " 'EPHX3',\n",
       " 'NGF',\n",
       " 'ENOX2',\n",
       " 'VANGL2',\n",
       " 'MFSD4B',\n",
       " 'NHLRC4',\n",
       " 'KCNN4',\n",
       " 'RASD2',\n",
       " 'C1QL3',\n",
       " 'FAM217B',\n",
       " 'TLE3']"
      ]
     },
     "execution_count": 31,
     "metadata": {},
     "output_type": "execute_result"
    }
   ],
   "source": [
    "not_yet_ann_28"
   ]
  },
  {
   "cell_type": "code",
   "execution_count": 32,
   "metadata": {},
   "outputs": [
    {
     "data": {
      "text/plain": [
       "(60, 390, 28)"
      ]
     },
     "execution_count": 32,
     "metadata": {},
     "output_type": "execute_result"
    }
   ],
   "source": [
    "len(PhyloSET_genes), len(RiboSET_genes), len(not_yet_ann_28)"
   ]
  },
  {
   "cell_type": "code",
   "execution_count": 33,
   "metadata": {},
   "outputs": [
    {
     "data": {
      "text/plain": [
       "{'C1QL2', 'C1QL3', 'CYTH2', 'VANGL2'}"
      ]
     },
     "execution_count": 33,
     "metadata": {},
     "output_type": "execute_result"
    }
   ],
   "source": [
    "set(PhyloSET_genes).intersection(set(not_yet_ann_28))"
   ]
  },
  {
   "cell_type": "code",
   "execution_count": 34,
   "metadata": {},
   "outputs": [
    {
     "data": {
      "text/plain": [
       "{'CYTH2', 'HDGF'}"
      ]
     },
     "execution_count": 34,
     "metadata": {},
     "output_type": "execute_result"
    }
   ],
   "source": [
    "set(RiboSET_genes).intersection(set(not_yet_ann_28))"
   ]
  },
  {
   "cell_type": "code",
   "execution_count": 36,
   "metadata": {},
   "outputs": [
    {
     "data": {
      "text/plain": [
       "array(['OR4F5', 'FO538757.2', 'FO538757.1', ..., 'MT-ND5', 'MT-ND6',\n",
       "       'MT-CYB'], dtype=object)"
      ]
     },
     "execution_count": 36,
     "metadata": {},
     "output_type": "execute_result"
    }
   ],
   "source": [
    "metadata_pc_g25['gene'].unique()"
   ]
  },
  {
   "cell_type": "code",
   "execution_count": null,
   "metadata": {},
   "outputs": [],
   "source": []
  },
  {
   "cell_type": "code",
   "execution_count": null,
   "metadata": {},
   "outputs": [],
   "source": []
  },
  {
   "cell_type": "code",
   "execution_count": null,
   "metadata": {},
   "outputs": [],
   "source": []
  },
  {
   "cell_type": "raw",
   "metadata": {},
   "source": [
    "(5) Are the overlaps between Van Damme et al. and Yeom et al. data sets with PhyloSET and RiboSET significant?"
   ]
  },
  {
   "cell_type": "code",
   "execution_count": null,
   "metadata": {},
   "outputs": [],
   "source": []
  },
  {
   "cell_type": "code",
   "execution_count": null,
   "metadata": {},
   "outputs": [],
   "source": []
  },
  {
   "cell_type": "raw",
   "metadata": {},
   "source": [
    "(7) The localization of proteins as reported in Fig. 4F and 4G seem largely irrelevant to the question of whether alternative isoforms drive multiple localizations. Do PhyloSET or RiboSET proteins have multiple localizations more often than proteins with no evidence for alternative translation?"
   ]
  },
  {
   "cell_type": "code",
   "execution_count": 37,
   "metadata": {},
   "outputs": [
    {
     "data": {
      "text/plain": [
       "(3451, 390, 60)"
      ]
     },
     "execution_count": 37,
     "metadata": {},
     "output_type": "execute_result"
    }
   ],
   "source": [
    "len(RiboSET_ext_genes), len(RiboSET_genes), len(PhyloSET_genes)"
   ]
  },
  {
   "cell_type": "code",
   "execution_count": 38,
   "metadata": {},
   "outputs": [
    {
     "name": "stdout",
     "output_type": "stream",
     "text": [
      "12804\n",
      "12086\n",
      "['Approved' 'Uncertain' 'Supported' 'Enhanced']\n"
     ]
    },
    {
     "data": {
      "text/html": [
       "<div>\n",
       "<style scoped>\n",
       "    .dataframe tbody tr th:only-of-type {\n",
       "        vertical-align: middle;\n",
       "    }\n",
       "\n",
       "    .dataframe tbody tr th {\n",
       "        vertical-align: top;\n",
       "    }\n",
       "\n",
       "    .dataframe thead th {\n",
       "        text-align: right;\n",
       "    }\n",
       "</style>\n",
       "<table border=\"1\" class=\"dataframe\">\n",
       "  <thead>\n",
       "    <tr style=\"text-align: right;\">\n",
       "      <th></th>\n",
       "      <th>gene</th>\n",
       "      <th>Main location</th>\n",
       "      <th>Additional location</th>\n",
       "      <th>Extracellular location</th>\n",
       "      <th>locations</th>\n",
       "    </tr>\n",
       "  </thead>\n",
       "  <tbody>\n",
       "    <tr>\n",
       "      <th>0</th>\n",
       "      <td>TSPAN6</td>\n",
       "      <td>Cell Junctions;Cytosol</td>\n",
       "      <td>Nucleoli fibrillar center</td>\n",
       "      <td>NaN</td>\n",
       "      <td>Cell Junctions;Cytosol;Nucleoli fibrillar center</td>\n",
       "    </tr>\n",
       "    <tr>\n",
       "      <th>2</th>\n",
       "      <td>C1orf112</td>\n",
       "      <td>Mitochondria</td>\n",
       "      <td>NaN</td>\n",
       "      <td>NaN</td>\n",
       "      <td>Mitochondria</td>\n",
       "    </tr>\n",
       "  </tbody>\n",
       "</table>\n",
       "</div>"
      ],
      "text/plain": [
       "       gene           Main location        Additional location  \\\n",
       "0    TSPAN6  Cell Junctions;Cytosol  Nucleoli fibrillar center   \n",
       "2  C1orf112            Mitochondria                        NaN   \n",
       "\n",
       "  Extracellular location                                         locations  \n",
       "0                    NaN  Cell Junctions;Cytosol;Nucleoli fibrillar center  \n",
       "2                    NaN                                      Mitochondria  "
      ]
     },
     "execution_count": 38,
     "metadata": {},
     "output_type": "execute_result"
    }
   ],
   "source": [
    "localisation_df = pd.read_csv('../../data/subcellular_location.tsv', sep='\\t')\n",
    "\n",
    "print (localisation_df['Gene name'].nunique())\n",
    "print (localisation_df[localisation_df['Reliability'].isin(['Supported', 'Approved', 'Enhanced'])]['Gene name'].nunique())\n",
    "print (localisation_df['Reliability'].unique())\n",
    "\n",
    "# filter out uncertain location \n",
    "sel_loc = localisation_df[localisation_df['Reliability'].isin(['Supported', 'Approved', 'Enhanced'])][['Gene name',\n",
    "                                                                                                      'Main location',\n",
    "                                                                                                      'Additional location', 'Extracellular location']]\n",
    "\n",
    "sel_loc.columns = ['gene', 'Main location', 'Additional location', 'Extracellular location']\n",
    "\n",
    "sel_loc['locations'] = sel_loc['Main location'].astype(str)+';'+sel_loc['Additional location'].astype(str)+';'+sel_loc['Extracellular location'].astype(str)\n",
    "sel_loc['locations'] = sel_loc['locations'].str.replace('nan;', '').str.replace('nan', '').str.rstrip(';')\n",
    "\n",
    "sel_loc[0:2]"
   ]
  },
  {
   "cell_type": "code",
   "execution_count": null,
   "metadata": {},
   "outputs": [],
   "source": []
  },
  {
   "cell_type": "markdown",
   "metadata": {},
   "source": [
    "# PhyloSET to HPA"
   ]
  },
  {
   "cell_type": "code",
   "execution_count": 39,
   "metadata": {},
   "outputs": [
    {
     "name": "stdout",
     "output_type": "stream",
     "text": [
      "59\n"
     ]
    },
    {
     "data": {
      "text/plain": [
       "(27.500000000000004, 12.5, 0.0, 2.5, 50.0)"
      ]
     },
     "execution_count": 39,
     "metadata": {},
     "output_type": "execute_result"
    }
   ],
   "source": [
    "PhyloSET_loc = PhyloSET.merge(sel_loc, on='gene', how='inner')\n",
    "print (PhyloSET_loc.shape[0])\n",
    "\n",
    "nucleoplasm_count = 0\n",
    "cytosol_count = 0\n",
    "Mitochondria_count = 0\n",
    "membrane_count = 0\n",
    "\n",
    "\n",
    "two_more_loc = 0\n",
    "\n",
    "all_locations = set()\n",
    "two_more_loc_ = set()\n",
    "\n",
    "for i,x in enumerate(PhyloSET_loc[['gene', 'locations']].drop_duplicates()['locations'].tolist()):\n",
    "   \n",
    "    #print (x)\n",
    "    for loc in x.split(';'):\n",
    "        all_locations.add(loc)\n",
    "    \n",
    "    if x == 'Nucleoplasm':\n",
    "        nucleoplasm_count += 1\n",
    "    if x == 'Cytosol':\n",
    "        cytosol_count += 1\n",
    "    if x == 'Mitochondria':\n",
    "        Mitochondria_count += 1\n",
    "    if x == 'Plasma membrane':\n",
    "        membrane_count += 1\n",
    "\n",
    "    if len(x.split(';')) >= 2:\n",
    "        #if x in truly_2diff_loc:\n",
    "        two_more_loc += 1\n",
    "        two_more_loc_.add(x)\n",
    "        \n",
    "\n",
    "\n",
    "n = PhyloSET_loc[['gene', 'locations']].drop_duplicates().shape[0]\n",
    "nucleoplasm_count/n*100, cytosol_count/n*100, Mitochondria_count/n*100, membrane_count/n*100, two_more_loc/n*100"
   ]
  },
  {
   "cell_type": "code",
   "execution_count": 40,
   "metadata": {},
   "outputs": [
    {
     "data": {
      "text/plain": [
       "(20, 20)"
      ]
     },
     "execution_count": 40,
     "metadata": {},
     "output_type": "execute_result"
    }
   ],
   "source": [
    "two_more_loc, n-two_more_loc"
   ]
  },
  {
   "cell_type": "code",
   "execution_count": 41,
   "metadata": {},
   "outputs": [
    {
     "data": {
      "text/html": [
       "<div>\n",
       "<style scoped>\n",
       "    .dataframe tbody tr th:only-of-type {\n",
       "        vertical-align: middle;\n",
       "    }\n",
       "\n",
       "    .dataframe tbody tr th {\n",
       "        vertical-align: top;\n",
       "    }\n",
       "\n",
       "    .dataframe thead th {\n",
       "        text-align: right;\n",
       "    }\n",
       "</style>\n",
       "<table border=\"1\" class=\"dataframe\">\n",
       "  <thead>\n",
       "    <tr style=\"text-align: right;\">\n",
       "      <th></th>\n",
       "      <th>PhyloSET</th>\n",
       "    </tr>\n",
       "  </thead>\n",
       "  <tbody>\n",
       "    <tr>\n",
       "      <th>&gt;=2</th>\n",
       "      <td>50</td>\n",
       "    </tr>\n",
       "    <tr>\n",
       "      <th>1</th>\n",
       "      <td>50</td>\n",
       "    </tr>\n",
       "  </tbody>\n",
       "</table>\n",
       "</div>"
      ],
      "text/plain": [
       "     PhyloSET\n",
       ">=2        50\n",
       "1          50"
      ]
     },
     "execution_count": 41,
     "metadata": {},
     "output_type": "execute_result"
    }
   ],
   "source": [
    "perc_PhyloSET = pd.DataFrame([50, 50], \n",
    "                   index=['>=2', '1'])\n",
    "                       \n",
    "perc_PhyloSET.columns = ['PhyloSET']\n",
    "\n",
    "perc_PhyloSET"
   ]
  },
  {
   "cell_type": "code",
   "execution_count": null,
   "metadata": {},
   "outputs": [],
   "source": []
  },
  {
   "cell_type": "markdown",
   "metadata": {},
   "source": [
    "# RiboSET and HPA"
   ]
  },
  {
   "cell_type": "code",
   "execution_count": 42,
   "metadata": {},
   "outputs": [
    {
     "name": "stdout",
     "output_type": "stream",
     "text": [
      "317\n"
     ]
    },
    {
     "data": {
      "text/plain": [
       "(14.195583596214512,\n",
       " 12.302839116719243,\n",
       " 4.100946372239748,\n",
       " 1.8927444794952681,\n",
       " 52.6813880126183)"
      ]
     },
     "execution_count": 42,
     "metadata": {},
     "output_type": "execute_result"
    }
   ],
   "source": [
    "RiboSET_loc = RiboSET.merge(sel_loc, on='gene', how='inner')\n",
    "print (RiboSET_loc.shape[0])\n",
    "\n",
    "nucleoplasm_count = 0\n",
    "cytosol_count = 0\n",
    "Mitochondria_count = 0\n",
    "membrane_count = 0\n",
    "\n",
    "two_more_loc = 0\n",
    "two_more_loc_ = set()\n",
    "\n",
    "all_locations = set()\n",
    "\n",
    "for i,x in enumerate(RiboSET_loc['locations'].tolist()):\n",
    "    \n",
    "    for loc in x.split(';'):\n",
    "        all_locations.add(loc)\n",
    "    \n",
    "    if x == 'Nucleoplasm':\n",
    "        nucleoplasm_count += 1\n",
    "    if x == 'Cytosol':\n",
    "        cytosol_count += 1\n",
    "    if x == 'Mitochondria':\n",
    "        Mitochondria_count += 1\n",
    "    if x == 'Plasma membrane':\n",
    "        membrane_count += 1\n",
    "        \n",
    "    if len(x.split(';')) >= 2:\n",
    "        two_more_loc += 1\n",
    "        two_more_loc_.add(x)\n",
    "        #if x in truly_2diff_loc:\n",
    "            #two_more_loc += 1\n",
    "\n",
    "n = RiboSET_loc.shape[0]\n",
    "nucleoplasm_count/n*100, cytosol_count/n*100, Mitochondria_count/n*100, membrane_count/n*100, two_more_loc/n*100"
   ]
  },
  {
   "cell_type": "code",
   "execution_count": 43,
   "metadata": {},
   "outputs": [
    {
     "data": {
      "text/plain": [
       "(167, 150)"
      ]
     },
     "execution_count": 43,
     "metadata": {},
     "output_type": "execute_result"
    }
   ],
   "source": [
    "two_more_loc, n-two_more_loc"
   ]
  },
  {
   "cell_type": "code",
   "execution_count": 44,
   "metadata": {},
   "outputs": [
    {
     "data": {
      "text/html": [
       "<div>\n",
       "<style scoped>\n",
       "    .dataframe tbody tr th:only-of-type {\n",
       "        vertical-align: middle;\n",
       "    }\n",
       "\n",
       "    .dataframe tbody tr th {\n",
       "        vertical-align: top;\n",
       "    }\n",
       "\n",
       "    .dataframe thead th {\n",
       "        text-align: right;\n",
       "    }\n",
       "</style>\n",
       "<table border=\"1\" class=\"dataframe\">\n",
       "  <thead>\n",
       "    <tr style=\"text-align: right;\">\n",
       "      <th></th>\n",
       "      <th>RiboSET</th>\n",
       "    </tr>\n",
       "  </thead>\n",
       "  <tbody>\n",
       "    <tr>\n",
       "      <th>&gt;=2</th>\n",
       "      <td>52.68</td>\n",
       "    </tr>\n",
       "    <tr>\n",
       "      <th>1</th>\n",
       "      <td>47.32</td>\n",
       "    </tr>\n",
       "  </tbody>\n",
       "</table>\n",
       "</div>"
      ],
      "text/plain": [
       "     RiboSET\n",
       ">=2    52.68\n",
       "1      47.32"
      ]
     },
     "execution_count": 44,
     "metadata": {},
     "output_type": "execute_result"
    }
   ],
   "source": [
    "perc_RiboSET = pd.DataFrame([52.68, 100-52.68], \n",
    "                   index=['>=2', '1'])\n",
    "                       \n",
    "perc_RiboSET.columns = ['RiboSET']\n",
    "\n",
    "perc_RiboSET"
   ]
  },
  {
   "cell_type": "code",
   "execution_count": null,
   "metadata": {},
   "outputs": [],
   "source": []
  },
  {
   "cell_type": "code",
   "execution_count": null,
   "metadata": {},
   "outputs": [],
   "source": []
  },
  {
   "cell_type": "markdown",
   "metadata": {},
   "source": [
    "# Match 384 loc"
   ]
  },
  {
   "cell_type": "code",
   "execution_count": 45,
   "metadata": {},
   "outputs": [
    {
     "data": {
      "text/plain": [
       "(9.615384615384617,\n",
       " 8.461538461538462,\n",
       " 1.5384615384615385,\n",
       " 2.6923076923076925,\n",
       " 63.07692307692307)"
      ]
     },
     "execution_count": 45,
     "metadata": {},
     "output_type": "execute_result"
    }
   ],
   "source": [
    "Match_392_loc = subset[['tr_id1']].merge(meta[['tr_id1', 'gene']], on='tr_id1', how='inner').merge(sel_loc, on='gene', how='inner')\n",
    "\n",
    "nucleoplasm_count = 0\n",
    "cytosol_count = 0\n",
    "Mitochondria_count = 0\n",
    "membrane_count = 0\n",
    "\n",
    "two_more_loc = 0\n",
    "\n",
    "all_locations = set()\n",
    "\n",
    "for i,x in enumerate(Match_392_loc['locations'].tolist()):\n",
    "    \n",
    "    for loc in x.split(';'):\n",
    "        all_locations.add(loc)\n",
    "    \n",
    "    if x == 'Nucleoplasm':\n",
    "        nucleoplasm_count += 1\n",
    "    if x == 'Cytosol':\n",
    "        cytosol_count += 1\n",
    "    if x == 'Mitochondria':\n",
    "        Mitochondria_count += 1\n",
    "    if x == 'Plasma membrane':\n",
    "        membrane_count += 1\n",
    "        \n",
    "    if len(x.split(';')) >= 2:\n",
    "        two_more_loc += 1\n",
    "        #if x in truly_2diff_loc:\n",
    "            #two_more_loc += 1\n",
    "        \n",
    "n = Match_392_loc['locations'].shape[0]\n",
    "nucleoplasm_count/n*100, cytosol_count/n*100, Mitochondria_count/n*100, membrane_count/n*100, two_more_loc/n*100"
   ]
  },
  {
   "cell_type": "code",
   "execution_count": 46,
   "metadata": {},
   "outputs": [
    {
     "data": {
      "text/plain": [
       "(164, 96)"
      ]
     },
     "execution_count": 46,
     "metadata": {},
     "output_type": "execute_result"
    }
   ],
   "source": [
    "two_more_loc, n-two_more_loc"
   ]
  },
  {
   "cell_type": "code",
   "execution_count": 47,
   "metadata": {},
   "outputs": [
    {
     "data": {
      "text/html": [
       "<div>\n",
       "<style scoped>\n",
       "    .dataframe tbody tr th:only-of-type {\n",
       "        vertical-align: middle;\n",
       "    }\n",
       "\n",
       "    .dataframe tbody tr th {\n",
       "        vertical-align: top;\n",
       "    }\n",
       "\n",
       "    .dataframe thead th {\n",
       "        text-align: right;\n",
       "    }\n",
       "</style>\n",
       "<table border=\"1\" class=\"dataframe\">\n",
       "  <thead>\n",
       "    <tr style=\"text-align: right;\">\n",
       "      <th></th>\n",
       "      <th>UntranslSET</th>\n",
       "    </tr>\n",
       "  </thead>\n",
       "  <tbody>\n",
       "    <tr>\n",
       "      <th>&gt;=2</th>\n",
       "      <td>63.07</td>\n",
       "    </tr>\n",
       "    <tr>\n",
       "      <th>1</th>\n",
       "      <td>36.93</td>\n",
       "    </tr>\n",
       "  </tbody>\n",
       "</table>\n",
       "</div>"
      ],
      "text/plain": [
       "     UntranslSET\n",
       ">=2        63.07\n",
       "1          36.93"
      ]
     },
     "execution_count": 47,
     "metadata": {},
     "output_type": "execute_result"
    }
   ],
   "source": [
    "perc_match = pd.DataFrame([63.07, 100-63.07], \n",
    "                   index=['>=2', '1'])\n",
    "                       \n",
    "perc_match.columns = ['UntranslSET']\n",
    "\n",
    "perc_match"
   ]
  },
  {
   "cell_type": "code",
   "execution_count": 48,
   "metadata": {},
   "outputs": [
    {
     "data": {
      "text/html": [
       "<div>\n",
       "<style scoped>\n",
       "    .dataframe tbody tr th:only-of-type {\n",
       "        vertical-align: middle;\n",
       "    }\n",
       "\n",
       "    .dataframe tbody tr th {\n",
       "        vertical-align: top;\n",
       "    }\n",
       "\n",
       "    .dataframe thead th {\n",
       "        text-align: right;\n",
       "    }\n",
       "</style>\n",
       "<table border=\"1\" class=\"dataframe\">\n",
       "  <thead>\n",
       "    <tr style=\"text-align: right;\">\n",
       "      <th></th>\n",
       "      <th>#locations in HPA</th>\n",
       "      <th>subset</th>\n",
       "      <th>fraction</th>\n",
       "    </tr>\n",
       "  </thead>\n",
       "  <tbody>\n",
       "    <tr>\n",
       "      <th>0</th>\n",
       "      <td>&gt;=2</td>\n",
       "      <td>UntranslSET</td>\n",
       "      <td>63.07</td>\n",
       "    </tr>\n",
       "    <tr>\n",
       "      <th>1</th>\n",
       "      <td>1</td>\n",
       "      <td>UntranslSET</td>\n",
       "      <td>36.93</td>\n",
       "    </tr>\n",
       "    <tr>\n",
       "      <th>2</th>\n",
       "      <td>&gt;=2</td>\n",
       "      <td>RiboSET</td>\n",
       "      <td>52.68</td>\n",
       "    </tr>\n",
       "    <tr>\n",
       "      <th>3</th>\n",
       "      <td>1</td>\n",
       "      <td>RiboSET</td>\n",
       "      <td>47.32</td>\n",
       "    </tr>\n",
       "    <tr>\n",
       "      <th>4</th>\n",
       "      <td>&gt;=2</td>\n",
       "      <td>PhyloSET</td>\n",
       "      <td>50.00</td>\n",
       "    </tr>\n",
       "    <tr>\n",
       "      <th>5</th>\n",
       "      <td>1</td>\n",
       "      <td>PhyloSET</td>\n",
       "      <td>50.00</td>\n",
       "    </tr>\n",
       "  </tbody>\n",
       "</table>\n",
       "</div>"
      ],
      "text/plain": [
       "  #locations in HPA       subset  fraction\n",
       "0               >=2  UntranslSET     63.07\n",
       "1                 1  UntranslSET     36.93\n",
       "2               >=2      RiboSET     52.68\n",
       "3                 1      RiboSET     47.32\n",
       "4               >=2     PhyloSET     50.00\n",
       "5                 1     PhyloSET     50.00"
      ]
     },
     "execution_count": 48,
     "metadata": {},
     "output_type": "execute_result"
    }
   ],
   "source": [
    "tmp = pd.concat([perc_match, perc_RiboSET, perc_PhyloSET], axis=1).reset_index()\n",
    "\n",
    "tmp2 = pd.melt(tmp, id_vars='index', value_vars=['UntranslSET', 'RiboSET', 'PhyloSET'])\n",
    "\n",
    "tmp2.columns = ['#locations in HPA', 'subset', 'fraction']\n",
    "\n",
    "tmp2"
   ]
  },
  {
   "cell_type": "code",
   "execution_count": 49,
   "metadata": {},
   "outputs": [
    {
     "data": {
      "text/plain": [
       "<seaborn.axisgrid.FacetGrid at 0x7f2ccff0a590>"
      ]
     },
     "execution_count": 49,
     "metadata": {},
     "output_type": "execute_result"
    },
    {
     "data": {
      "image/png": "[encoded data removed]",
      "text/plain": [
       "<Figure size 390.425x288 with 1 Axes>"
      ]
     },
     "metadata": {},
     "output_type": "display_data"
    }
   ],
   "source": [
    "#fig,ax = plt.subplots(figsize=(5,5))\n",
    "\n",
    "sns.set(font_scale = 1.5)\n",
    "sns.set_style(\"white\")\n",
    "\n",
    "g = sns.catplot(x = \"#locations in HPA\",       # x variable name\n",
    "            y = \"fraction\",       # y variable name\n",
    "            hue = \"subset\",  # group variable name\n",
    "            data = tmp2,     # dataframe to plot\n",
    "            kind = \"bar\",\n",
    "               aspect=0.8,\n",
    "               height=4)\n",
    "\n",
    "# We change the fontsize of minor ticks label \n",
    "#ax.tick_params(axis='both', which='major', labelsize=15, rotation = 0)\n",
    "#ax.tick_params(axis='both', which='minor', labelsize=15)\n",
    "\n",
    "\n",
    "g.set_axis_labels(x_var=\"#locations in HPA\", y_var=\"percetage\", fontsize=18)"
   ]
  },
  {
   "cell_type": "code",
   "execution_count": 50,
   "metadata": {},
   "outputs": [
    {
     "data": {
      "text/plain": [
       "(0.9953620867607589, 0.6517073170731708)"
      ]
     },
     "execution_count": 50,
     "metadata": {},
     "output_type": "execute_result"
    }
   ],
   "source": [
    "# RiboSET vs matched no translation \n",
    "\n",
    "a = 167 # 2 locations \n",
    "b = 150\n",
    "c = 164\n",
    "d = 96 # 2 locations \n",
    "\n",
    "# 184, 126\n",
    "\n",
    "\n",
    "table  = [[a, b],  [c, d]] \n",
    "\n",
    "oddsr, p = fisher_exact(table, alternative='greater')\n",
    "\n",
    "p, oddsr"
   ]
  },
  {
   "cell_type": "code",
   "execution_count": 51,
   "metadata": {},
   "outputs": [
    {
     "data": {
      "text/plain": [
       "(0.9592142087739679, 0.5853658536585366)"
      ]
     },
     "execution_count": 51,
     "metadata": {},
     "output_type": "execute_result"
    }
   ],
   "source": [
    "# PhyloSET vs matched no translation \n",
    "\n",
    "a = 20 # 2 locations \n",
    "b = 20\n",
    "c = 164\n",
    "d = 96 # 2 locations \n",
    "\n",
    "# 184, 126\n",
    "\n",
    "\n",
    "table  = [[a, b],  [c, d]] \n",
    "\n",
    "oddsr, p = fisher_exact(table, alternative='greater')\n",
    "\n",
    "p, oddsr"
   ]
  },
  {
   "cell_type": "code",
   "execution_count": null,
   "metadata": {},
   "outputs": [],
   "source": []
  },
  {
   "cell_type": "markdown",
   "metadata": {},
   "source": [
    "# RiboSET_ext"
   ]
  },
  {
   "cell_type": "code",
   "execution_count": 61,
   "metadata": {},
   "outputs": [],
   "source": [
    "RiboSET_ext_loc.to_csv('../Supplementary_tables/RiboSET_ext_loc_HPA.txt', sep='\\t', index=False)"
   ]
  },
  {
   "cell_type": "code",
   "execution_count": 52,
   "metadata": {},
   "outputs": [
    {
     "name": "stdout",
     "output_type": "stream",
     "text": [
      "2461\n"
     ]
    },
    {
     "data": {
      "text/plain": [
       "(13.856156034132466,\n",
       " 7.882974400650141,\n",
       " 3.657049979683056,\n",
       " 2.356765542462414,\n",
       " 58.39089800893945)"
      ]
     },
     "execution_count": 52,
     "metadata": {},
     "output_type": "execute_result"
    }
   ],
   "source": [
    "RiboSET_ext_loc = RiboSET_EXT_cds_cov_nonzero[['gene']].merge(sel_loc, on='gene', how='inner')\n",
    "print (RiboSET_ext_loc.shape[0])\n",
    "\n",
    "nucleoplasm_count = 0\n",
    "cytosol_count = 0\n",
    "Mitochondria_count = 0\n",
    "membrane_count = 0\n",
    "\n",
    "two_more_loc = 0\n",
    "two_more_loc_ = set()\n",
    "\n",
    "all_locations = set()\n",
    "\n",
    "for i,x in enumerate(RiboSET_ext_loc['locations'].tolist()):\n",
    "    \n",
    "    for loc in x.split(';'):\n",
    "        all_locations.add(loc)\n",
    "    \n",
    "    if x == 'Nucleoplasm':\n",
    "        nucleoplasm_count += 1\n",
    "    if x == 'Cytosol':\n",
    "        cytosol_count += 1\n",
    "    if x == 'Mitochondria':\n",
    "        Mitochondria_count += 1\n",
    "    if x == 'Plasma membrane':\n",
    "        membrane_count += 1\n",
    "        \n",
    "    if len(x.split(';')) >= 2:\n",
    "        two_more_loc += 1\n",
    "        two_more_loc_.add(x)\n",
    "        #if x in truly_2diff_loc:\n",
    "            #two_more_loc += 1\n",
    "\n",
    "n = RiboSET_ext_loc.shape[0]\n",
    "nucleoplasm_count/n*100, cytosol_count/n*100, Mitochondria_count/n*100, membrane_count/n*100, two_more_loc/n*100"
   ]
  },
  {
   "cell_type": "code",
   "execution_count": 53,
   "metadata": {},
   "outputs": [
    {
     "data": {
      "text/html": [
       "<div>\n",
       "<style scoped>\n",
       "    .dataframe tbody tr th:only-of-type {\n",
       "        vertical-align: middle;\n",
       "    }\n",
       "\n",
       "    .dataframe tbody tr th {\n",
       "        vertical-align: top;\n",
       "    }\n",
       "\n",
       "    .dataframe thead th {\n",
       "        text-align: right;\n",
       "    }\n",
       "</style>\n",
       "<table border=\"1\" class=\"dataframe\">\n",
       "  <thead>\n",
       "    <tr style=\"text-align: right;\">\n",
       "      <th></th>\n",
       "      <th>RiboSET_ext</th>\n",
       "    </tr>\n",
       "  </thead>\n",
       "  <tbody>\n",
       "    <tr>\n",
       "      <th>&gt;=2</th>\n",
       "      <td>58.39</td>\n",
       "    </tr>\n",
       "    <tr>\n",
       "      <th>1</th>\n",
       "      <td>41.61</td>\n",
       "    </tr>\n",
       "  </tbody>\n",
       "</table>\n",
       "</div>"
      ],
      "text/plain": [
       "     RiboSET_ext\n",
       ">=2        58.39\n",
       "1          41.61"
      ]
     },
     "execution_count": 53,
     "metadata": {},
     "output_type": "execute_result"
    }
   ],
   "source": [
    "RiboSET_ext_loc_df = pd.DataFrame([58.39, 100-58.39], \n",
    "                   index=['>=2', '1'])\n",
    "                       \n",
    "RiboSET_ext_loc_df.columns = ['RiboSET_ext']\n",
    "\n",
    "RiboSET_ext_loc_df"
   ]
  },
  {
   "cell_type": "code",
   "execution_count": 54,
   "metadata": {},
   "outputs": [
    {
     "data": {
      "text/plain": [
       "(1437, 1024)"
      ]
     },
     "execution_count": 54,
     "metadata": {},
     "output_type": "execute_result"
    }
   ],
   "source": [
    "two_more_loc, n- two_more_loc"
   ]
  },
  {
   "cell_type": "code",
   "execution_count": 55,
   "metadata": {},
   "outputs": [
    {
     "data": {
      "text/html": [
       "<div>\n",
       "<style scoped>\n",
       "    .dataframe tbody tr th:only-of-type {\n",
       "        vertical-align: middle;\n",
       "    }\n",
       "\n",
       "    .dataframe tbody tr th {\n",
       "        vertical-align: top;\n",
       "    }\n",
       "\n",
       "    .dataframe thead th {\n",
       "        text-align: right;\n",
       "    }\n",
       "</style>\n",
       "<table border=\"1\" class=\"dataframe\">\n",
       "  <thead>\n",
       "    <tr style=\"text-align: right;\">\n",
       "      <th></th>\n",
       "      <th>UntranslSET</th>\n",
       "    </tr>\n",
       "  </thead>\n",
       "  <tbody>\n",
       "    <tr>\n",
       "      <th>&gt;=2</th>\n",
       "      <td>63.07</td>\n",
       "    </tr>\n",
       "    <tr>\n",
       "      <th>1</th>\n",
       "      <td>36.93</td>\n",
       "    </tr>\n",
       "  </tbody>\n",
       "</table>\n",
       "</div>"
      ],
      "text/plain": [
       "     UntranslSET\n",
       ">=2        63.07\n",
       "1          36.93"
      ]
     },
     "execution_count": 55,
     "metadata": {},
     "output_type": "execute_result"
    }
   ],
   "source": [
    "perc_match = pd.DataFrame([63.07, 100-63.07], \n",
    "                   index=['>=2', '1'])\n",
    "                       \n",
    "perc_match.columns = ['UntranslSET']\n",
    "\n",
    "perc_match"
   ]
  },
  {
   "cell_type": "code",
   "execution_count": 58,
   "metadata": {},
   "outputs": [
    {
     "data": {
      "text/html": [
       "<div>\n",
       "<style scoped>\n",
       "    .dataframe tbody tr th:only-of-type {\n",
       "        vertical-align: middle;\n",
       "    }\n",
       "\n",
       "    .dataframe tbody tr th {\n",
       "        vertical-align: top;\n",
       "    }\n",
       "\n",
       "    .dataframe thead th {\n",
       "        text-align: right;\n",
       "    }\n",
       "</style>\n",
       "<table border=\"1\" class=\"dataframe\">\n",
       "  <thead>\n",
       "    <tr style=\"text-align: right;\">\n",
       "      <th></th>\n",
       "      <th>RiboSET_ext</th>\n",
       "    </tr>\n",
       "  </thead>\n",
       "  <tbody>\n",
       "    <tr>\n",
       "      <th>&gt;=2</th>\n",
       "      <td>58.39</td>\n",
       "    </tr>\n",
       "    <tr>\n",
       "      <th>1</th>\n",
       "      <td>41.61</td>\n",
       "    </tr>\n",
       "  </tbody>\n",
       "</table>\n",
       "</div>"
      ],
      "text/plain": [
       "     RiboSET_ext\n",
       ">=2        58.39\n",
       "1          41.61"
      ]
     },
     "execution_count": 58,
     "metadata": {},
     "output_type": "execute_result"
    }
   ],
   "source": [
    "RiboSET_ext_loc_df"
   ]
  },
  {
   "cell_type": "code",
   "execution_count": 56,
   "metadata": {},
   "outputs": [
    {
     "data": {
      "text/html": [
       "<div>\n",
       "<style scoped>\n",
       "    .dataframe tbody tr th:only-of-type {\n",
       "        vertical-align: middle;\n",
       "    }\n",
       "\n",
       "    .dataframe tbody tr th {\n",
       "        vertical-align: top;\n",
       "    }\n",
       "\n",
       "    .dataframe thead th {\n",
       "        text-align: right;\n",
       "    }\n",
       "</style>\n",
       "<table border=\"1\" class=\"dataframe\">\n",
       "  <thead>\n",
       "    <tr style=\"text-align: right;\">\n",
       "      <th></th>\n",
       "      <th># locations in HPA</th>\n",
       "      <th>subset</th>\n",
       "      <th>fraction</th>\n",
       "    </tr>\n",
       "  </thead>\n",
       "  <tbody>\n",
       "    <tr>\n",
       "      <th>0</th>\n",
       "      <td>&gt;=2</td>\n",
       "      <td>UntranslSET</td>\n",
       "      <td>63.07</td>\n",
       "    </tr>\n",
       "    <tr>\n",
       "      <th>1</th>\n",
       "      <td>1</td>\n",
       "      <td>UntranslSET</td>\n",
       "      <td>36.93</td>\n",
       "    </tr>\n",
       "    <tr>\n",
       "      <th>2</th>\n",
       "      <td>&gt;=2</td>\n",
       "      <td>RiboSET_ext</td>\n",
       "      <td>58.39</td>\n",
       "    </tr>\n",
       "    <tr>\n",
       "      <th>3</th>\n",
       "      <td>1</td>\n",
       "      <td>RiboSET_ext</td>\n",
       "      <td>41.61</td>\n",
       "    </tr>\n",
       "  </tbody>\n",
       "</table>\n",
       "</div>"
      ],
      "text/plain": [
       "  # locations in HPA       subset  fraction\n",
       "0                >=2  UntranslSET     63.07\n",
       "1                  1  UntranslSET     36.93\n",
       "2                >=2  RiboSET_ext     58.39\n",
       "3                  1  RiboSET_ext     41.61"
      ]
     },
     "execution_count": 56,
     "metadata": {},
     "output_type": "execute_result"
    }
   ],
   "source": [
    "tmp = pd.concat([perc_match, RiboSET_ext_loc_df], axis=1).reset_index()\n",
    "\n",
    "tmp2 = pd.melt(tmp, id_vars='index', value_vars=['UntranslSET', 'RiboSET_ext'])\n",
    "\n",
    "tmp2.columns = ['# locations in HPA', 'subset', 'fraction']\n",
    "\n",
    "tmp2"
   ]
  },
  {
   "cell_type": "code",
   "execution_count": 57,
   "metadata": {},
   "outputs": [
    {
     "name": "stderr",
     "output_type": "stream",
     "text": [
      "/home/alla/anaconda3/lib/python3.7/site-packages/seaborn/categorical.py:3750: UserWarning: The `size` parameter has been renamed to `height`; please update your code.\n",
      "  warnings.warn(msg, UserWarning)\n"
     ]
    },
    {
     "data": {
      "text/plain": [
       "<seaborn.axisgrid.FacetGrid at 0x7f2ccc4ab650>"
      ]
     },
     "execution_count": 57,
     "metadata": {},
     "output_type": "execute_result"
    },
    {
     "data": {
      "image/png": "[encoded data removed]",
      "text/plain": [
       "<Figure size 349.715x244.8 with 1 Axes>"
      ]
     },
     "metadata": {},
     "output_type": "display_data"
    }
   ],
   "source": [
    "#fig,ax = plt.subplots(figsize=(5,5))\n",
    "\n",
    "sns.set(font_scale = 1.2)\n",
    "sns.set_style(\"white\")\n",
    "\n",
    "g = sns.catplot(x = \"# locations in HPA\",       # x variable name\n",
    "            y = \"fraction\",       # y variable name\n",
    "            hue = \"subset\",  # group variable name\n",
    "            data = tmp2,     # dataframe to plot\n",
    "            kind = \"bar\",\n",
    "               size=3.4, aspect=0.9)\n",
    "\n",
    "# We change the fontsize of minor ticks label \n",
    "#ax.tick_params(axis='both', which='major', labelsize=15, rotation = 0)\n",
    "#ax.tick_params(axis='both', which='minor', labelsize=15)\n",
    "\n",
    "\n",
    "g.set_axis_labels(x_var=\"# locations in HPA\", y_var=\"percetage\", fontsize=14)"
   ]
  },
  {
   "cell_type": "code",
   "execution_count": 197,
   "metadata": {},
   "outputs": [
    {
     "data": {
      "text/plain": [
       "(0.9371485562288507, 0.8214557926829268)"
      ]
     },
     "execution_count": 197,
     "metadata": {},
     "output_type": "execute_result"
    }
   ],
   "source": [
    "# PhyloSET vs matched no translation \n",
    "\n",
    "a = 1437  # 2 locations \n",
    "b = 1024\n",
    "c = 164\n",
    "d = 96 # 2 locations \n",
    "\n",
    "# 184, 126\n",
    "\n",
    "\n",
    "table  = [[a, b],  [c, d]] \n",
    "\n",
    "oddsr, p = fisher_exact(table, alternative='greater')\n",
    "\n",
    "p, oddsr"
   ]
  },
  {
   "cell_type": "code",
   "execution_count": 198,
   "metadata": {},
   "outputs": [
    {
     "data": {
      "text/plain": [
       "2461"
      ]
     },
     "execution_count": 198,
     "metadata": {},
     "output_type": "execute_result"
    }
   ],
   "source": [
    "1024+1437"
   ]
  },
  {
   "cell_type": "code",
   "execution_count": null,
   "metadata": {},
   "outputs": [],
   "source": []
  },
  {
   "cell_type": "code",
   "execution_count": null,
   "metadata": {},
   "outputs": [],
   "source": []
  },
  {
   "cell_type": "code",
   "execution_count": null,
   "metadata": {},
   "outputs": [],
   "source": []
  },
  {
   "cell_type": "code",
   "execution_count": null,
   "metadata": {},
   "outputs": [],
   "source": []
  },
  {
   "cell_type": "code",
   "execution_count": null,
   "metadata": {},
   "outputs": [],
   "source": []
  }
 ],
 "metadata": {
  "kernelspec": {
   "display_name": "Python 3",
   "language": "python",
   "name": "python3"
  },
  "language_info": {
   "codemirror_mode": {
    "name": "ipython",
    "version": 3
   },
   "file_extension": ".py",
   "mimetype": "text/x-python",
   "name": "python",
   "nbconvert_exporter": "python",
   "pygments_lexer": "ipython3",
   "version": "3.7.6"
  }
 },
 "nbformat": 4,
 "nbformat_minor": 2
}
