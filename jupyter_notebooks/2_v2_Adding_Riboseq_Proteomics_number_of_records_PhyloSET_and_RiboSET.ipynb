{
 "cells": [
  {
   "cell_type": "code",
   "execution_count": 1,
   "metadata": {},
   "outputs": [
    {
     "name": "stderr",
     "output_type": "stream",
     "text": [
      "\n",
      "Bad key text.latex.unicode in file /home/alla/anaconda3/lib/python3.7/site-packages/matplotlib/mpl-data/stylelib/_classic_test.mplstyle, line 112 ('text.latex.unicode : False # use \"ucs\" and \"inputenc\" LaTeX packages for handling')\n",
      "You probably need to get an updated matplotlibrc file from\n",
      "https://github.com/matplotlib/matplotlib/blob/v3.3.2/matplotlibrc.template\n",
      "or from the matplotlib source distribution\n",
      "\n",
      "Bad key savefig.frameon in file /home/alla/anaconda3/lib/python3.7/site-packages/matplotlib/mpl-data/stylelib/_classic_test.mplstyle, line 423 ('savefig.frameon : True')\n",
      "You probably need to get an updated matplotlibrc file from\n",
      "https://github.com/matplotlib/matplotlib/blob/v3.3.2/matplotlibrc.template\n",
      "or from the matplotlib source distribution\n",
      "\n",
      "Bad key pgf.debug in file /home/alla/anaconda3/lib/python3.7/site-packages/matplotlib/mpl-data/stylelib/_classic_test.mplstyle, line 444 ('pgf.debug           : False')\n",
      "You probably need to get an updated matplotlibrc file from\n",
      "https://github.com/matplotlib/matplotlib/blob/v3.3.2/matplotlibrc.template\n",
      "or from the matplotlib source distribution\n",
      "\n",
      "Bad key verbose.level in file /home/alla/anaconda3/lib/python3.7/site-packages/matplotlib/mpl-data/stylelib/_classic_test.mplstyle, line 475 ('verbose.level  : silent      # one of silent, helpful, debug, debug-annoying')\n",
      "You probably need to get an updated matplotlibrc file from\n",
      "https://github.com/matplotlib/matplotlib/blob/v3.3.2/matplotlibrc.template\n",
      "or from the matplotlib source distribution\n",
      "\n",
      "Bad key verbose.fileo in file /home/alla/anaconda3/lib/python3.7/site-packages/matplotlib/mpl-data/stylelib/_classic_test.mplstyle, line 476 ('verbose.fileo  : sys.stdout  # a log filename, sys.stdout or sys.stderr')\n",
      "You probably need to get an updated matplotlibrc file from\n",
      "https://github.com/matplotlib/matplotlib/blob/v3.3.2/matplotlibrc.template\n",
      "or from the matplotlib source distribution\n",
      "In /home/alla/anaconda3/lib/python3.7/site-packages/matplotlib/mpl-data/stylelib/_classic_test.mplstyle: \n",
      "The text.latex.preview rcparam was deprecated in Matplotlib 3.3 and will be removed two minor releases later.\n",
      "In /home/alla/anaconda3/lib/python3.7/site-packages/matplotlib/mpl-data/stylelib/_classic_test.mplstyle: \n",
      "The mathtext.fallback_to_cm rcparam was deprecated in Matplotlib 3.3 and will be removed two minor releases later.\n",
      "In /home/alla/anaconda3/lib/python3.7/site-packages/matplotlib/mpl-data/stylelib/_classic_test.mplstyle: Support for setting the 'mathtext.fallback_to_cm' rcParam is deprecated since 3.3 and will be removed two minor releases later; use 'mathtext.fallback : 'cm' instead.\n",
      "In /home/alla/anaconda3/lib/python3.7/site-packages/matplotlib/mpl-data/stylelib/_classic_test.mplstyle: \n",
      "The validate_bool_maybe_none function was deprecated in Matplotlib 3.3 and will be removed two minor releases later.\n",
      "In /home/alla/anaconda3/lib/python3.7/site-packages/matplotlib/mpl-data/stylelib/_classic_test.mplstyle: \n",
      "The savefig.jpeg_quality rcparam was deprecated in Matplotlib 3.3 and will be removed two minor releases later.\n",
      "In /home/alla/anaconda3/lib/python3.7/site-packages/matplotlib/mpl-data/stylelib/_classic_test.mplstyle: \n",
      "The keymap.all_axes rcparam was deprecated in Matplotlib 3.3 and will be removed two minor releases later.\n",
      "In /home/alla/anaconda3/lib/python3.7/site-packages/matplotlib/mpl-data/stylelib/_classic_test.mplstyle: \n",
      "The animation.avconv_path rcparam was deprecated in Matplotlib 3.3 and will be removed two minor releases later.\n",
      "In /home/alla/anaconda3/lib/python3.7/site-packages/matplotlib/mpl-data/stylelib/_classic_test.mplstyle: \n",
      "The animation.avconv_args rcparam was deprecated in Matplotlib 3.3 and will be removed two minor releases later.\n",
      "/home/alla/anaconda3/lib/python3.7/site-packages/statsmodels/tools/_testing.py:19: FutureWarning: pandas.util.testing is deprecated. Use the functions in the public API at pandas.testing instead.\n",
      "  import pandas.util.testing as tm\n"
     ]
    }
   ],
   "source": [
    "%matplotlib inline\n",
    "\n",
    "import numpy as np\n",
    "import collections\n",
    "from collections import OrderedDict, Counter, defaultdict\n",
    "import pandas as pd\n",
    "\n",
    "import Bio\n",
    "from Bio import SeqIO\n",
    "from Bio.Seq import Seq\n",
    "from Bio.SeqUtils import molecular_weight\n",
    "from Bio.Alphabet import generic_dna, generic_rna, generic_protein\n",
    "\n",
    "import seaborn as sns\n",
    "import matplotlib.pyplot as plt\n",
    "\n",
    "import glob\n",
    "\n",
    "import subprocess\n",
    "from subprocess import call\n",
    "\n",
    "import re\n",
    "\n",
    "import pickle\n",
    "\n",
    "import sys                                                                         \n",
    "from gffutils.iterators import DataIterator  \n",
    "from gtfparse import read_gtf"
   ]
  },
  {
   "cell_type": "markdown",
   "metadata": {},
   "source": [
    "# Open metadata files "
   ]
  },
  {
   "cell_type": "code",
   "execution_count": 2,
   "metadata": {},
   "outputs": [],
   "source": [
    "# gencode 25 metadata \n",
    "metadata_pc_g25 = pd.read_csv('tmp_res/metadata_pc_g25.txt', sep='\\t')\n",
    "\n",
    "# gencode 35 metadata \n",
    "metadata_pc_g35 = pd.read_csv('tmp_res/metadata_pc_g35.txt', sep='\\t')\n",
    "\n",
    "# open metadata with scores and metrics\n",
    "meta = pd.read_csv('tmp_res/local_and_global_df_g25ovlp_g35ovlp_g38ovlp_refseqovlp_strand_FRAMES_PhyloCSF.txt', sep='\\t')"
   ]
  },
  {
   "cell_type": "code",
   "execution_count": 3,
   "metadata": {},
   "outputs": [],
   "source": [
    "# genes from 2011 paper\n",
    "genes_42 = 'RASL10B,FGFR1,YPEL2,ENOX2,UFSP1,WDR26,TIAL1,YPEL4,NGF,TRPV6,KCTD11,STARD10,YPEL1,R3HCC1,ZFP62,NHLRC4,EPHX3,C1QL4,TLE3,HDGF,ANKRD42,FAM217B,NFKBID,PTEN,RNF187,METTL23,TMEM8B,VANGL2,FNDC5,C1QL1,CITED1,EIF4G3,HELZ2,CYTH2,NTF3,MFSD4B,C1QL3,KCNN4,IFT46,RASD2,CITED2,C1QL2'.split(',')\n",
    "genes_17 = 'GTF3A, EIF4G2, SP3, PRPS1L1, TEAD4, TEAD3, CACNG8, OAZ3, TEAD1, DDX17, VEGFA, NR1I2, HCK, WT1, BAG1, NPW, MYC'.split(', ')"
   ]
  },
  {
   "cell_type": "code",
   "execution_count": null,
   "metadata": {},
   "outputs": [],
   "source": []
  },
  {
   "cell_type": "markdown",
   "metadata": {},
   "source": [
    "# Add CDS completness and biotype='protein_coding' before selection SETs (gencode25)"
   ]
  },
  {
   "cell_type": "code",
   "execution_count": 4,
   "metadata": {},
   "outputs": [
    {
     "name": "stderr",
     "output_type": "stream",
     "text": [
      "INFO:root:Extracted GTF attributes: ['gene_id', 'gene_type', 'gene_status', 'gene_name', 'level', 'havana_gene', 'transcript_id', 'transcript_type', 'transcript_status', 'transcript_name', 'transcript_support_level', 'tag', 'havana_transcript', 'exon_number', 'exon_id', 'ont', 'protein_id', 'ccdsid']\n"
     ]
    }
   ],
   "source": [
    "# returns GTF with essential columns such as \"feature\", \"seqname\", \"start\", \"end\"\n",
    "# alongside the names of any optional keys which appeared in the attribute column\n",
    "df = read_gtf(\"data/gencode.v25.annotation.gtf\")\n",
    "\n",
    "# filter DataFrame to gene entries on chrY\n",
    "df_genes = df[df[\"feature\"] == \"gene\"]\n",
    "\n",
    "\n",
    "df_CDS = df[df[\"feature\"] == \"CDS\"]"
   ]
  },
  {
   "cell_type": "code",
   "execution_count": 5,
   "metadata": {},
   "outputs": [
    {
     "name": "stdout",
     "output_type": "stream",
     "text": [
      "(704187, 4) (58037, 4)\n"
     ]
    }
   ],
   "source": [
    "annotation_genes = df_genes[['transcript_id', 'transcript_type', 'gene_name', 'tag']]\n",
    "annotation_CDS = df_CDS[['transcript_id', 'transcript_type', 'gene_name', 'tag']]\n",
    "\n",
    "annotation_CDS.columns = ['tr_id', 'transcript_type', 'gene', 'tag']\n",
    "\n",
    "print (annotation_CDS.shape, annotation_genes.shape)"
   ]
  },
  {
   "cell_type": "code",
   "execution_count": 6,
   "metadata": {},
   "outputs": [
    {
     "data": {
      "text/plain": [
       "((77513, 32), (77513, 30))"
      ]
     },
     "execution_count": 6,
     "metadata": {},
     "output_type": "execute_result"
    }
   ],
   "source": [
    "meta1 = meta.merge(annotation_CDS, on=['tr_id', 'gene'], how='inner').drop_duplicates()\n",
    "\n",
    "meta1.shape, meta.shape"
   ]
  },
  {
   "cell_type": "code",
   "execution_count": 7,
   "metadata": {},
   "outputs": [
    {
     "data": {
      "text/html": [
       "<div>\n",
       "<style scoped>\n",
       "    .dataframe tbody tr th:only-of-type {\n",
       "        vertical-align: middle;\n",
       "    }\n",
       "\n",
       "    .dataframe tbody tr th {\n",
       "        vertical-align: top;\n",
       "    }\n",
       "\n",
       "    .dataframe thead th {\n",
       "        text-align: right;\n",
       "    }\n",
       "</style>\n",
       "<table border=\"1\" class=\"dataframe\">\n",
       "  <thead>\n",
       "    <tr style=\"text-align: right;\">\n",
       "      <th></th>\n",
       "      <th>tr_id</th>\n",
       "      <th>N_term_start</th>\n",
       "      <th>N_term_end</th>\n",
       "      <th>len</th>\n",
       "      <th>N_term_start1</th>\n",
       "      <th>N_term_end1</th>\n",
       "      <th>len_codons</th>\n",
       "      <th>gene</th>\n",
       "      <th>50len_flag</th>\n",
       "      <th>global_coo_50_and_less</th>\n",
       "      <th>...</th>\n",
       "      <th>ovlp</th>\n",
       "      <th>ovlp_strandless</th>\n",
       "      <th>ovlp2</th>\n",
       "      <th>ovlp2_strandless</th>\n",
       "      <th>PhyloCSF120score</th>\n",
       "      <th>tr_id1</th>\n",
       "      <th>number_of_records</th>\n",
       "      <th>records_names</th>\n",
       "      <th>transcript_type</th>\n",
       "      <th>tag</th>\n",
       "    </tr>\n",
       "  </thead>\n",
       "  <tbody>\n",
       "    <tr>\n",
       "      <th>0</th>\n",
       "      <td>ENST00000624431.1</td>\n",
       "      <td>274</td>\n",
       "      <td>316</td>\n",
       "      <td>42</td>\n",
       "      <td>274</td>\n",
       "      <td>316</td>\n",
       "      <td>14.0</td>\n",
       "      <td>FO538757.2</td>\n",
       "      <td>274</td>\n",
       "      <td>chr1:182667-182708</td>\n",
       "      <td>...</td>\n",
       "      <td>0;0;0</td>\n",
       "      <td>0;0;0</td>\n",
       "      <td>0;0;0;0</td>\n",
       "      <td>0;0;0;0</td>\n",
       "      <td>-163.9926</td>\n",
       "      <td>ENST00000624431</td>\n",
       "      <td>85</td>\n",
       "      <td>Human; Gorilla; Orangutan; Golden_snub_nosed_m...</td>\n",
       "      <td>protein_coding</td>\n",
       "      <td>basic,appris_principal_1</td>\n",
       "    </tr>\n",
       "    <tr>\n",
       "      <th>3</th>\n",
       "      <td>ENST00000624735.1</td>\n",
       "      <td>0</td>\n",
       "      <td>236</td>\n",
       "      <td>236</td>\n",
       "      <td>2</td>\n",
       "      <td>236</td>\n",
       "      <td>78.0</td>\n",
       "      <td>FO538757.1</td>\n",
       "      <td>86</td>\n",
       "      <td>chr1:200087-200236</td>\n",
       "      <td>...</td>\n",
       "      <td>0;0;0</td>\n",
       "      <td>0;0;0</td>\n",
       "      <td>0;0;0;0</td>\n",
       "      <td>0;0;0;0</td>\n",
       "      <td>-1273.9572</td>\n",
       "      <td>ENST00000624735</td>\n",
       "      <td>52</td>\n",
       "      <td>Human; Chimp; Gorilla; Orangutan; Gibbon; Pig_...</td>\n",
       "      <td>protein_coding</td>\n",
       "      <td>basic,appris_alternative_2</td>\n",
       "    </tr>\n",
       "  </tbody>\n",
       "</table>\n",
       "<p>2 rows × 32 columns</p>\n",
       "</div>"
      ],
      "text/plain": [
       "               tr_id  N_term_start  N_term_end  len  N_term_start1  \\\n",
       "0  ENST00000624431.1           274         316   42            274   \n",
       "3  ENST00000624735.1             0         236  236              2   \n",
       "\n",
       "   N_term_end1  len_codons        gene  50len_flag global_coo_50_and_less  \\\n",
       "0          316        14.0  FO538757.2         274     chr1:182667-182708   \n",
       "3          236        78.0  FO538757.1          86     chr1:200087-200236   \n",
       "\n",
       "   ...   ovlp ovlp_strandless    ovlp2 ovlp2_strandless  PhyloCSF120score  \\\n",
       "0  ...  0;0;0           0;0;0  0;0;0;0          0;0;0;0         -163.9926   \n",
       "3  ...  0;0;0           0;0;0  0;0;0;0          0;0;0;0        -1273.9572   \n",
       "\n",
       "            tr_id1  number_of_records  \\\n",
       "0  ENST00000624431                 85   \n",
       "3  ENST00000624735                 52   \n",
       "\n",
       "                                       records_names  transcript_type  \\\n",
       "0  Human; Gorilla; Orangutan; Golden_snub_nosed_m...   protein_coding   \n",
       "3  Human; Chimp; Gorilla; Orangutan; Gibbon; Pig_...   protein_coding   \n",
       "\n",
       "                          tag  \n",
       "0    basic,appris_principal_1  \n",
       "3  basic,appris_alternative_2  \n",
       "\n",
       "[2 rows x 32 columns]"
      ]
     },
     "execution_count": 7,
     "metadata": {},
     "output_type": "execute_result"
    }
   ],
   "source": [
    "meta1[0:2]"
   ]
  },
  {
   "cell_type": "code",
   "execution_count": null,
   "metadata": {},
   "outputs": [],
   "source": []
  },
  {
   "cell_type": "markdown",
   "metadata": {},
   "source": [
    "# Add predictions from Trips-Viz (ranks, proteomics support)"
   ]
  },
  {
   "cell_type": "code",
   "execution_count": 8,
   "metadata": {},
   "outputs": [
    {
     "name": "stderr",
     "output_type": "stream",
     "text": [
      "INFO:numexpr.utils:NumExpr defaulting to 8 threads.\n",
      "/home/alla/.local/lib/python3.7/site-packages/ipykernel_launcher.py:14: SettingWithCopyWarning: \n",
      "A value is trying to be set on a copy of a slice from a DataFrame.\n",
      "Try using .loc[row_indexer,col_indexer] = value instead\n",
      "\n",
      "See the caveats in the documentation: https://pandas.pydata.org/pandas-docs/stable/user_guide/indexing.html#returning-a-view-versus-a-copy\n",
      "  \n"
     ]
    },
    {
     "data": {
      "text/html": [
       "<div>\n",
       "<style scoped>\n",
       "    .dataframe tbody tr th:only-of-type {\n",
       "        vertical-align: middle;\n",
       "    }\n",
       "\n",
       "    .dataframe tbody tr th {\n",
       "        vertical-align: top;\n",
       "    }\n",
       "\n",
       "    .dataframe thead th {\n",
       "        text-align: right;\n",
       "    }\n",
       "</style>\n",
       "<table border=\"1\" class=\"dataframe\">\n",
       "  <thead>\n",
       "    <tr style=\"text-align: right;\">\n",
       "      <th></th>\n",
       "      <th>gene_ext</th>\n",
       "      <th>tr_id1</th>\n",
       "      <th>Start_ext</th>\n",
       "      <th>Stop_ext</th>\n",
       "      <th>global_rank_ext</th>\n",
       "      <th>Start_codon_ext</th>\n",
       "      <th>Proteomics_count_ext</th>\n",
       "      <th>Coverage_value_ext</th>\n",
       "      <th>CDS_ratio</th>\n",
       "      <th>Riboseq_Summary</th>\n",
       "    </tr>\n",
       "  </thead>\n",
       "  <tbody>\n",
       "    <tr>\n",
       "      <th>0</th>\n",
       "      <td>ASPH</td>\n",
       "      <td>ENST00000379454</td>\n",
       "      <td>144</td>\n",
       "      <td>189</td>\n",
       "      <td>1</td>\n",
       "      <td>CTG</td>\n",
       "      <td>0.0</td>\n",
       "      <td>100.000000</td>\n",
       "      <td>1.645069</td>\n",
       "      <td>CTG; 144-189; Rank: 1; cov: 100.0</td>\n",
       "    </tr>\n",
       "    <tr>\n",
       "      <th>1</th>\n",
       "      <td>HSP90AA1</td>\n",
       "      <td>ENST00000216281</td>\n",
       "      <td>168</td>\n",
       "      <td>207</td>\n",
       "      <td>2</td>\n",
       "      <td>GTG</td>\n",
       "      <td>0.0</td>\n",
       "      <td>100.000000</td>\n",
       "      <td>3.081078</td>\n",
       "      <td>GTG; 168-207; Rank: 2; cov: 100.0</td>\n",
       "    </tr>\n",
       "    <tr>\n",
       "      <th>2</th>\n",
       "      <td>CD24</td>\n",
       "      <td>ENST00000619133</td>\n",
       "      <td>408</td>\n",
       "      <td>441</td>\n",
       "      <td>3</td>\n",
       "      <td>CTG</td>\n",
       "      <td>0.0</td>\n",
       "      <td>83.333333</td>\n",
       "      <td>11.578498</td>\n",
       "      <td>CTG; 408-441; Rank: 3; cov: 83.33</td>\n",
       "    </tr>\n",
       "    <tr>\n",
       "      <th>3</th>\n",
       "      <td>HN1</td>\n",
       "      <td>ENST00000409753</td>\n",
       "      <td>242</td>\n",
       "      <td>287</td>\n",
       "      <td>4</td>\n",
       "      <td>TTG</td>\n",
       "      <td>0.0</td>\n",
       "      <td>100.000000</td>\n",
       "      <td>0.588389</td>\n",
       "      <td>TTG; 242-287; Rank: 4; cov: 100.0</td>\n",
       "    </tr>\n",
       "    <tr>\n",
       "      <th>4</th>\n",
       "      <td>YBX1</td>\n",
       "      <td>ENST00000321358</td>\n",
       "      <td>44</td>\n",
       "      <td>140</td>\n",
       "      <td>5</td>\n",
       "      <td>CTG</td>\n",
       "      <td>0.0</td>\n",
       "      <td>85.185185</td>\n",
       "      <td>7.709763</td>\n",
       "      <td>CTG; 44-140; Rank: 5; cov: 85.19</td>\n",
       "    </tr>\n",
       "  </tbody>\n",
       "</table>\n",
       "</div>"
      ],
      "text/plain": [
       "   gene_ext           tr_id1  Start_ext  Stop_ext  global_rank_ext  \\\n",
       "0      ASPH  ENST00000379454        144       189                1   \n",
       "1  HSP90AA1  ENST00000216281        168       207                2   \n",
       "2      CD24  ENST00000619133        408       441                3   \n",
       "3       HN1  ENST00000409753        242       287                4   \n",
       "4      YBX1  ENST00000321358         44       140                5   \n",
       "\n",
       "  Start_codon_ext  Proteomics_count_ext  Coverage_value_ext  CDS_ratio  \\\n",
       "0             CTG                   0.0          100.000000   1.645069   \n",
       "1             GTG                   0.0          100.000000   3.081078   \n",
       "2             CTG                   0.0           83.333333  11.578498   \n",
       "3             TTG                   0.0          100.000000   0.588389   \n",
       "4             CTG                   0.0           85.185185   7.709763   \n",
       "\n",
       "                     Riboseq_Summary  \n",
       "0  CTG; 144-189; Rank: 1; cov: 100.0  \n",
       "1  GTG; 168-207; Rank: 2; cov: 100.0  \n",
       "2  CTG; 408-441; Rank: 3; cov: 83.33  \n",
       "3  TTG; 242-287; Rank: 4; cov: 100.0  \n",
       "4   CTG; 44-140; Rank: 5; cov: 85.19  "
      ]
     },
     "execution_count": 8,
     "metadata": {},
     "output_type": "execute_result"
    }
   ],
   "source": [
    "transl_with_all_codons = pd.read_csv('data/extensions_TripsViz_1perGene_AUG_NearCognates.txt', sep=',')\n",
    "\n",
    "transl_with_all_codons.columns = ['gene_ext', 'tr_id1', 'Start_ext', 'Stop_ext', 'len_ext', \n",
    "                                 'global_rank_ext', 'type_all_codons', 'trips_viz_link', 'Start_codon_ext', \n",
    "                                 'Highframe rank', 'Highframe value',\n",
    "       'Lowframe rank', 'Lowframe value', 'Stop rank', 'Stop value',\n",
    "       'Start rank', 'Start value', 'Coverage rank', 'Coverage_value_ext',\n",
    "       'Amino acid sequence', 'Proteomics_count_ext', 'CDS_ratio']\n",
    "\n",
    "transl_with_all_codons2 = transl_with_all_codons[['gene_ext', 'tr_id1', 'Start_ext', 'Stop_ext', \n",
    "                                                 'global_rank_ext', 'Start_codon_ext', \n",
    "                                                 'Proteomics_count_ext', 'Coverage_value_ext', 'CDS_ratio']]\n",
    "\n",
    "transl_with_all_codons2['Riboseq_Summary'] = transl_with_all_codons2['Start_codon_ext']+'; '+transl_with_all_codons2['Start_ext'].astype(str)+'-'+transl_with_all_codons2['Stop_ext'].astype(str)+'; Rank: '+transl_with_all_codons2['global_rank_ext'].astype(str)+'; cov: '+np.round(transl_with_all_codons2['Coverage_value_ext'],2).astype(str)\n",
    "\n",
    "\n",
    "transl_with_all_codons2[0:5]"
   ]
  },
  {
   "cell_type": "code",
   "execution_count": null,
   "metadata": {},
   "outputs": [],
   "source": []
  },
  {
   "cell_type": "code",
   "execution_count": 9,
   "metadata": {},
   "outputs": [
    {
     "name": "stdout",
     "output_type": "stream",
     "text": [
      "(77513, 42) (77513, 30)\n"
     ]
    }
   ],
   "source": [
    "meta_cov_riboseq_pred_proteomics_pred = meta1.merge(transl_with_all_codons2, on='tr_id1', how='left')\n",
    "\n",
    "meta_cov_riboseq_pred_proteomics_pred['Nstart_Nend'] = meta_cov_riboseq_pred_proteomics_pred['N_term_start1'].astype(str)+'-'+meta_cov_riboseq_pred_proteomics_pred['N_term_end1'].astype(str)\n",
    "\n",
    "DF = meta_cov_riboseq_pred_proteomics_pred.copy()\n",
    "\n",
    "print (meta_cov_riboseq_pred_proteomics_pred.shape, meta.shape)"
   ]
  },
  {
   "cell_type": "code",
   "execution_count": 10,
   "metadata": {},
   "outputs": [],
   "source": [
    "DF.to_csv('tmp_res/METADATA_CURRENT.txt', sep='\\t', index=False)"
   ]
  },
  {
   "cell_type": "code",
   "execution_count": 11,
   "metadata": {},
   "outputs": [
    {
     "data": {
      "text/html": [
       "<div>\n",
       "<style scoped>\n",
       "    .dataframe tbody tr th:only-of-type {\n",
       "        vertical-align: middle;\n",
       "    }\n",
       "\n",
       "    .dataframe tbody tr th {\n",
       "        vertical-align: top;\n",
       "    }\n",
       "\n",
       "    .dataframe thead th {\n",
       "        text-align: right;\n",
       "    }\n",
       "</style>\n",
       "<table border=\"1\" class=\"dataframe\">\n",
       "  <thead>\n",
       "    <tr style=\"text-align: right;\">\n",
       "      <th></th>\n",
       "      <th>tr_id</th>\n",
       "      <th>ovlp</th>\n",
       "      <th>ovlp_strandless</th>\n",
       "    </tr>\n",
       "  </thead>\n",
       "  <tbody>\n",
       "    <tr>\n",
       "      <th>20512</th>\n",
       "      <td>ENST00000439211.6</td>\n",
       "      <td>0;0;0</td>\n",
       "      <td>237;237;237</td>\n",
       "    </tr>\n",
       "    <tr>\n",
       "      <th>20513</th>\n",
       "      <td>ENST00000505337.5</td>\n",
       "      <td>0;0;0</td>\n",
       "      <td>0;0;0</td>\n",
       "    </tr>\n",
       "    <tr>\n",
       "      <th>20514</th>\n",
       "      <td>ENST00000511032.5</td>\n",
       "      <td>0;0;0</td>\n",
       "      <td>0;0;0</td>\n",
       "    </tr>\n",
       "    <tr>\n",
       "      <th>20515</th>\n",
       "      <td>ENST00000504396.1</td>\n",
       "      <td>88;88;88</td>\n",
       "      <td>88;88;88</td>\n",
       "    </tr>\n",
       "  </tbody>\n",
       "</table>\n",
       "</div>"
      ],
      "text/plain": [
       "                   tr_id      ovlp ovlp_strandless\n",
       "20512  ENST00000439211.6     0;0;0     237;237;237\n",
       "20513  ENST00000505337.5     0;0;0           0;0;0\n",
       "20514  ENST00000511032.5     0;0;0           0;0;0\n",
       "20515  ENST00000504396.1  88;88;88        88;88;88"
      ]
     },
     "execution_count": 11,
     "metadata": {},
     "output_type": "execute_result"
    }
   ],
   "source": [
    "DF[DF['gene'] == 'DHFR'][['tr_id', 'ovlp', 'ovlp_strandless']]"
   ]
  },
  {
   "cell_type": "code",
   "execution_count": 15,
   "metadata": {},
   "outputs": [
    {
     "data": {
      "text/html": [
       "<div>\n",
       "<style scoped>\n",
       "    .dataframe tbody tr th:only-of-type {\n",
       "        vertical-align: middle;\n",
       "    }\n",
       "\n",
       "    .dataframe tbody tr th {\n",
       "        vertical-align: top;\n",
       "    }\n",
       "\n",
       "    .dataframe thead th {\n",
       "        text-align: right;\n",
       "    }\n",
       "</style>\n",
       "<table border=\"1\" class=\"dataframe\">\n",
       "  <thead>\n",
       "    <tr style=\"text-align: right;\">\n",
       "      <th></th>\n",
       "      <th>PhyloCSF120score</th>\n",
       "      <th>Riboseq_Summary</th>\n",
       "    </tr>\n",
       "  </thead>\n",
       "  <tbody>\n",
       "    <tr>\n",
       "      <th>67901</th>\n",
       "      <td>-199.8355</td>\n",
       "      <td>NaN</td>\n",
       "    </tr>\n",
       "    <tr>\n",
       "      <th>67902</th>\n",
       "      <td>-245.1710</td>\n",
       "      <td>NaN</td>\n",
       "    </tr>\n",
       "    <tr>\n",
       "      <th>67903</th>\n",
       "      <td>-245.1710</td>\n",
       "      <td>NaN</td>\n",
       "    </tr>\n",
       "    <tr>\n",
       "      <th>67904</th>\n",
       "      <td>-245.1710</td>\n",
       "      <td>NaN</td>\n",
       "    </tr>\n",
       "    <tr>\n",
       "      <th>67905</th>\n",
       "      <td>-750.3741</td>\n",
       "      <td>NaN</td>\n",
       "    </tr>\n",
       "    <tr>\n",
       "      <th>67906</th>\n",
       "      <td>-245.1710</td>\n",
       "      <td>NaN</td>\n",
       "    </tr>\n",
       "  </tbody>\n",
       "</table>\n",
       "</div>"
      ],
      "text/plain": [
       "       PhyloCSF120score Riboseq_Summary\n",
       "67901         -199.8355             NaN\n",
       "67902         -245.1710             NaN\n",
       "67903         -245.1710             NaN\n",
       "67904         -245.1710             NaN\n",
       "67905         -750.3741             NaN\n",
       "67906         -245.1710             NaN"
      ]
     },
     "execution_count": 15,
     "metadata": {},
     "output_type": "execute_result"
    }
   ],
   "source": [
    "DF[DF['gene'] == 'DYRK1B'][['PhyloCSF120score', 'Riboseq_Summary']]"
   ]
  },
  {
   "cell_type": "code",
   "execution_count": 13,
   "metadata": {},
   "outputs": [
    {
     "data": {
      "text/html": [
       "<div>\n",
       "<style scoped>\n",
       "    .dataframe tbody tr th:only-of-type {\n",
       "        vertical-align: middle;\n",
       "    }\n",
       "\n",
       "    .dataframe tbody tr th {\n",
       "        vertical-align: top;\n",
       "    }\n",
       "\n",
       "    .dataframe thead th {\n",
       "        text-align: right;\n",
       "    }\n",
       "</style>\n",
       "<table border=\"1\" class=\"dataframe\">\n",
       "  <thead>\n",
       "    <tr style=\"text-align: right;\">\n",
       "      <th></th>\n",
       "      <th>gene_ext</th>\n",
       "      <th>tr_id1</th>\n",
       "      <th>Start_ext</th>\n",
       "      <th>Stop_ext</th>\n",
       "      <th>len_ext</th>\n",
       "      <th>global_rank_ext</th>\n",
       "      <th>type_all_codons</th>\n",
       "      <th>trips_viz_link</th>\n",
       "      <th>Start_codon_ext</th>\n",
       "      <th>Highframe rank</th>\n",
       "      <th>...</th>\n",
       "      <th>Lowframe value</th>\n",
       "      <th>Stop rank</th>\n",
       "      <th>Stop value</th>\n",
       "      <th>Start rank</th>\n",
       "      <th>Start value</th>\n",
       "      <th>Coverage rank</th>\n",
       "      <th>Coverage_value_ext</th>\n",
       "      <th>Amino acid sequence</th>\n",
       "      <th>Proteomics_count_ext</th>\n",
       "      <th>CDS_ratio</th>\n",
       "    </tr>\n",
       "  </thead>\n",
       "  <tbody>\n",
       "    <tr>\n",
       "      <th>9585</th>\n",
       "      <td>DYRK1B</td>\n",
       "      <td>ENST00000593685</td>\n",
       "      <td>-1</td>\n",
       "      <td>0</td>\n",
       "      <td>0</td>\n",
       "      <td>9586</td>\n",
       "      <td>extension</td>\n",
       "      <td>&lt;a href=\"https://trips.ucc.ie/homo_sapiens/Gen...</td>\n",
       "      <td>NaN</td>\n",
       "      <td>488</td>\n",
       "      <td>...</td>\n",
       "      <td>-1</td>\n",
       "      <td>211</td>\n",
       "      <td>-1</td>\n",
       "      <td>857</td>\n",
       "      <td>-1</td>\n",
       "      <td>587</td>\n",
       "      <td>0.0</td>\n",
       "      <td>NaN</td>\n",
       "      <td>0.0</td>\n",
       "      <td>0.0</td>\n",
       "    </tr>\n",
       "  </tbody>\n",
       "</table>\n",
       "<p>1 rows × 22 columns</p>\n",
       "</div>"
      ],
      "text/plain": [
       "     gene_ext           tr_id1  Start_ext  Stop_ext  len_ext  global_rank_ext  \\\n",
       "9585   DYRK1B  ENST00000593685         -1         0        0             9586   \n",
       "\n",
       "     type_all_codons                                     trips_viz_link  \\\n",
       "9585       extension  <a href=\"https://trips.ucc.ie/homo_sapiens/Gen...   \n",
       "\n",
       "     Start_codon_ext  Highframe rank  ...  Lowframe value  Stop rank  \\\n",
       "9585             NaN             488  ...              -1        211   \n",
       "\n",
       "      Stop value  Start rank  Start value  Coverage rank  Coverage_value_ext  \\\n",
       "9585          -1         857           -1            587                 0.0   \n",
       "\n",
       "      Amino acid sequence  Proteomics_count_ext CDS_ratio  \n",
       "9585                  NaN                   0.0       0.0  \n",
       "\n",
       "[1 rows x 22 columns]"
      ]
     },
     "execution_count": 13,
     "metadata": {},
     "output_type": "execute_result"
    }
   ],
   "source": [
    "transl_with_all_codons[transl_with_all_codons['gene_ext'] == 'DYRK1B']"
   ]
  },
  {
   "cell_type": "code",
   "execution_count": null,
   "metadata": {},
   "outputs": [],
   "source": []
  },
  {
   "cell_type": "markdown",
   "metadata": {},
   "source": [
    "# PhyloSET "
   ]
  },
  {
   "cell_type": "markdown",
   "metadata": {},
   "source": [
    "* protein-coding biotype\n",
    "* tags: complete CDS \n",
    "* no overlaps with coding exons \n",
    "* primary extension has at least 20 codons\n",
    "* number of records >= 3\n",
    "* PhyloCSF score > 0"
   ]
  },
  {
   "cell_type": "code",
   "execution_count": 12,
   "metadata": {},
   "outputs": [],
   "source": [
    "DF = DF[DF['tag'].notna()]"
   ]
  },
  {
   "cell_type": "markdown",
   "metadata": {},
   "source": [
    "* old version of SET1: we don't care about overlaps with coding exons on other strands = 60 genes vs 55 genes when we care"
   ]
  },
  {
   "cell_type": "code",
   "execution_count": 13,
   "metadata": {},
   "outputs": [],
   "source": [
    "SET1_ = DF[(DF['PhyloCSF120score'] > 0) & (DF['ovlp'] == '0;0;0') & (DF['len_codons'] >= 20) &\n",
    "   (DF['transcript_type'] == 'protein_coding') & (~DF['tag'].str.contains('cds_start_NF')) & \n",
    "           (~DF['tag'].str.contains('cds_end_NF')) &\n",
    "    (DF['number_of_records'] >= 3) &  (DF['gene'] != 'SKI')]"
   ]
  },
  {
   "cell_type": "code",
   "execution_count": 14,
   "metadata": {},
   "outputs": [
    {
     "data": {
      "text/plain": [
       "55"
      ]
     },
     "execution_count": 14,
     "metadata": {},
     "output_type": "execute_result"
    }
   ],
   "source": [
    "SET1 = DF[(DF['PhyloCSF120score'] > 0) & \n",
    "   (DF['ovlp_strandless'] == '0;0;0') &\n",
    "   (DF['len_codons'] >= 20) &\n",
    "   (DF['transcript_type'] == 'protein_coding') &\n",
    "                     (~DF['tag'].str.contains('cds_start_NF')) &\n",
    "                     (~DF['tag'].str.contains('cds_end_NF')) &\n",
    "    (DF['number_of_records'] >= 3) & \n",
    "    (DF['gene'] != 'SKI')]\n",
    "\n",
    "\n",
    "SET1.gene.nunique()"
   ]
  },
  {
   "cell_type": "code",
   "execution_count": 15,
   "metadata": {},
   "outputs": [
    {
     "data": {
      "text/html": [
       "<div>\n",
       "<style scoped>\n",
       "    .dataframe tbody tr th:only-of-type {\n",
       "        vertical-align: middle;\n",
       "    }\n",
       "\n",
       "    .dataframe tbody tr th {\n",
       "        vertical-align: top;\n",
       "    }\n",
       "\n",
       "    .dataframe thead th {\n",
       "        text-align: right;\n",
       "    }\n",
       "</style>\n",
       "<table border=\"1\" class=\"dataframe\">\n",
       "  <thead>\n",
       "    <tr style=\"text-align: right;\">\n",
       "      <th></th>\n",
       "      <th>tr_id</th>\n",
       "      <th>gene</th>\n",
       "      <th>ovlp_strandless</th>\n",
       "      <th>global_coo_primary</th>\n",
       "      <th>strand</th>\n",
       "      <th>Riboseq_Summary</th>\n",
       "      <th>PhyloCSF120score</th>\n",
       "    </tr>\n",
       "  </thead>\n",
       "  <tbody>\n",
       "    <tr>\n",
       "      <th>3983</th>\n",
       "      <td>ENST00000635322.1</td>\n",
       "      <td>OAZ3</td>\n",
       "      <td>71;71;71</td>\n",
       "      <td>chr1:151763064-151763135</td>\n",
       "      <td>+</td>\n",
       "      <td>NaN</td>\n",
       "      <td>92.7679</td>\n",
       "    </tr>\n",
       "    <tr>\n",
       "      <th>3984</th>\n",
       "      <td>ENST00000627780.2</td>\n",
       "      <td>OAZ3</td>\n",
       "      <td>71;71;71</td>\n",
       "      <td>chr1:151763064-151763135</td>\n",
       "      <td>+</td>\n",
       "      <td>NaN</td>\n",
       "      <td>92.7679</td>\n",
       "    </tr>\n",
       "    <tr>\n",
       "      <th>3985</th>\n",
       "      <td>ENST00000321531.10</td>\n",
       "      <td>OAZ3</td>\n",
       "      <td>71;71;71</td>\n",
       "      <td>chr1:151763064-151763135</td>\n",
       "      <td>+</td>\n",
       "      <td>NaN</td>\n",
       "      <td>92.7679</td>\n",
       "    </tr>\n",
       "    <tr>\n",
       "      <th>56476</th>\n",
       "      <td>ENST00000624244.1</td>\n",
       "      <td>AC007906.1</td>\n",
       "      <td>89;89;89</td>\n",
       "      <td>chr16:53222653-53222742</td>\n",
       "      <td>-</td>\n",
       "      <td>ATT; 73-124; Rank: 5040; cov: 0.0</td>\n",
       "      <td>69.7054</td>\n",
       "    </tr>\n",
       "    <tr>\n",
       "      <th>58234</th>\n",
       "      <td>ENST00000536578.5</td>\n",
       "      <td>GLOD4</td>\n",
       "      <td>61;61;61</td>\n",
       "      <td>chr17:783266-783328</td>\n",
       "      <td>-</td>\n",
       "      <td>NaN</td>\n",
       "      <td>261.0625</td>\n",
       "    </tr>\n",
       "    <tr>\n",
       "      <th>71248</th>\n",
       "      <td>ENST00000374375.1</td>\n",
       "      <td>GDF5OS</td>\n",
       "      <td>77;77;77</td>\n",
       "      <td>chr20:35434081-35434158</td>\n",
       "      <td>+</td>\n",
       "      <td>AGG; 377-443; Rank: 5739; cov: 0.0</td>\n",
       "      <td>1079.0415</td>\n",
       "    </tr>\n",
       "    <tr>\n",
       "      <th>73164</th>\n",
       "      <td>ENST00000430524.5</td>\n",
       "      <td>RANBP1</td>\n",
       "      <td>83;83;83</td>\n",
       "      <td>chr22:20116101-20116184</td>\n",
       "      <td>+</td>\n",
       "      <td>NaN</td>\n",
       "      <td>310.2905</td>\n",
       "    </tr>\n",
       "  </tbody>\n",
       "</table>\n",
       "</div>"
      ],
      "text/plain": [
       "                    tr_id        gene ovlp_strandless  \\\n",
       "3983    ENST00000635322.1        OAZ3        71;71;71   \n",
       "3984    ENST00000627780.2        OAZ3        71;71;71   \n",
       "3985   ENST00000321531.10        OAZ3        71;71;71   \n",
       "56476   ENST00000624244.1  AC007906.1        89;89;89   \n",
       "58234   ENST00000536578.5       GLOD4        61;61;61   \n",
       "71248   ENST00000374375.1      GDF5OS        77;77;77   \n",
       "73164   ENST00000430524.5      RANBP1        83;83;83   \n",
       "\n",
       "             global_coo_primary strand                     Riboseq_Summary  \\\n",
       "3983   chr1:151763064-151763135      +                                 NaN   \n",
       "3984   chr1:151763064-151763135      +                                 NaN   \n",
       "3985   chr1:151763064-151763135      +                                 NaN   \n",
       "56476   chr16:53222653-53222742      -   ATT; 73-124; Rank: 5040; cov: 0.0   \n",
       "58234       chr17:783266-783328      -                                 NaN   \n",
       "71248   chr20:35434081-35434158      +  AGG; 377-443; Rank: 5739; cov: 0.0   \n",
       "73164   chr22:20116101-20116184      +                                 NaN   \n",
       "\n",
       "       PhyloCSF120score  \n",
       "3983            92.7679  \n",
       "3984            92.7679  \n",
       "3985            92.7679  \n",
       "56476           69.7054  \n",
       "58234          261.0625  \n",
       "71248         1079.0415  \n",
       "73164          310.2905  "
      ]
     },
     "execution_count": 15,
     "metadata": {},
     "output_type": "execute_result"
    }
   ],
   "source": [
    "DF[DF['tr_id'].isin(set(SET1_.tr_id.tolist()) - set(SET1.tr_id.tolist()))][['tr_id', 'gene', 'ovlp_strandless', 'global_coo_primary', 'strand', 'Riboseq_Summary', 'PhyloCSF120score']]"
   ]
  },
  {
   "cell_type": "raw",
   "metadata": {},
   "source": [
    "OAZ3 (ovlp=71nt, PCSF=93), AC007906.1 (ovlp=89nt, Rank=5040;cov=0, PCSF=70), GLOD4 (ovlp=61nt, PCSF=261),GDF5OS (ovlp=77nt, PCSF=1079, Rank=5739;cov=0), RANBP1 (ovlp=83nt, PCSF=310)"
   ]
  },
  {
   "cell_type": "code",
   "execution_count": 16,
   "metadata": {},
   "outputs": [],
   "source": [
    "SET1_[['tr_id', 'gene', 'N_term_start1','N_term_end1', 'len_codons', 'global_coo_50_and_less', 'strand', 'global_coo_primary', 'PhyloCSF120score', 'number_of_records', 'ovlp', 'Riboseq_Summary', \n",
    "                    'Coverage_value_ext', 'Proteomics_count_ext', 'tag', 'transcript_type']].to_csv('tmp_res/SET1.txt', sep='\\t', index=False)\n",
    "\n"
   ]
  },
  {
   "cell_type": "code",
   "execution_count": null,
   "metadata": {},
   "outputs": [],
   "source": []
  },
  {
   "cell_type": "code",
   "execution_count": null,
   "metadata": {},
   "outputs": [],
   "source": []
  },
  {
   "cell_type": "markdown",
   "metadata": {},
   "source": [
    "# RiboSET"
   ]
  },
  {
   "cell_type": "markdown",
   "metadata": {},
   "source": [
    "* protein-coding biotype\n",
    "* tags: complete CDS \n",
    "* no overlaps with coding exons \n",
    "* primary extension has at least 20 codons\n",
    "* rank is less than 500 "
   ]
  },
  {
   "cell_type": "code",
   "execution_count": 17,
   "metadata": {},
   "outputs": [
    {
     "name": "stdout",
     "output_type": "stream",
     "text": [
      "393 395\n"
     ]
    }
   ],
   "source": [
    "SET2_ = DF[(DF['transcript_type'] == 'protein_coding') &\n",
    "                     (~DF['tag'].str.contains('cds_start_NF')) &\n",
    "                     (~DF['tag'].str.contains('cds_end_NF')) & (DF['ovlp'] == '0;0;0') & \n",
    "                    (DF['global_rank_ext'] <= 500) & \n",
    "                    (DF['len_codons'] >= 20)]\n",
    "\n",
    "print (SET2_.gene.nunique(), SET2_.tr_id.nunique())"
   ]
  },
  {
   "cell_type": "code",
   "execution_count": 18,
   "metadata": {},
   "outputs": [
    {
     "name": "stdout",
     "output_type": "stream",
     "text": [
      "389 391\n"
     ]
    }
   ],
   "source": [
    "SET2 = DF[(DF['transcript_type'] == 'protein_coding') &\n",
    "                     (~DF['tag'].str.contains('cds_start_NF')) &\n",
    "                     (~DF['tag'].str.contains('cds_end_NF')) & (DF['ovlp_strandless'] == '0;0;0') & \n",
    "                    (DF['global_rank_ext'] <= 500) & \n",
    "                    (DF['len_codons'] >= 20)]\n",
    "\n",
    "print (SET2.gene.nunique(), SET2.tr_id.nunique())"
   ]
  },
  {
   "cell_type": "markdown",
   "metadata": {},
   "source": [
    "* сheck if there is an AUG-extension "
   ]
  },
  {
   "cell_type": "code",
   "execution_count": 19,
   "metadata": {},
   "outputs": [
    {
     "data": {
      "text/plain": [
       "390"
      ]
     },
     "execution_count": 19,
     "metadata": {},
     "output_type": "execute_result"
    }
   ],
   "source": [
    "SET2_[~SET2_['Riboseq_Summary'].str.contains('ATG')][['gene', 'tr_id', 'Riboseq_Summary', 'ovlp', 'ovlp_strandless']].gene.nunique()"
   ]
  },
  {
   "cell_type": "code",
   "execution_count": 20,
   "metadata": {},
   "outputs": [
    {
     "data": {
      "text/html": [
       "<div>\n",
       "<style scoped>\n",
       "    .dataframe tbody tr th:only-of-type {\n",
       "        vertical-align: middle;\n",
       "    }\n",
       "\n",
       "    .dataframe tbody tr th {\n",
       "        vertical-align: top;\n",
       "    }\n",
       "\n",
       "    .dataframe thead th {\n",
       "        text-align: right;\n",
       "    }\n",
       "</style>\n",
       "<table border=\"1\" class=\"dataframe\">\n",
       "  <thead>\n",
       "    <tr style=\"text-align: right;\">\n",
       "      <th></th>\n",
       "      <th>tr_id</th>\n",
       "      <th>gene</th>\n",
       "      <th>global_coo_50_and_less</th>\n",
       "    </tr>\n",
       "  </thead>\n",
       "  <tbody>\n",
       "    <tr>\n",
       "      <th>74759</th>\n",
       "      <td>ENST00000381401.10</td>\n",
       "      <td>SLC25A6</td>\n",
       "      <td>chrX:1392010-1392084</td>\n",
       "    </tr>\n",
       "    <tr>\n",
       "      <th>74779</th>\n",
       "      <td>ENST00000381192.8</td>\n",
       "      <td>CD99</td>\n",
       "      <td>chrX:2691211-2691360</td>\n",
       "    </tr>\n",
       "    <tr>\n",
       "      <th>77354</th>\n",
       "      <td>ENST00000381401.10_PAR_Y</td>\n",
       "      <td>SLC25A6</td>\n",
       "      <td>chrY:1392010-1392084</td>\n",
       "    </tr>\n",
       "    <tr>\n",
       "      <th>77374</th>\n",
       "      <td>ENST00000381192.8_PAR_Y</td>\n",
       "      <td>CD99</td>\n",
       "      <td>chrY:2691211-2691360</td>\n",
       "    </tr>\n",
       "  </tbody>\n",
       "</table>\n",
       "</div>"
      ],
      "text/plain": [
       "                          tr_id     gene global_coo_50_and_less\n",
       "74759        ENST00000381401.10  SLC25A6   chrX:1392010-1392084\n",
       "74779         ENST00000381192.8     CD99   chrX:2691211-2691360\n",
       "77354  ENST00000381401.10_PAR_Y  SLC25A6   chrY:1392010-1392084\n",
       "77374   ENST00000381192.8_PAR_Y     CD99   chrY:2691211-2691360"
      ]
     },
     "execution_count": 20,
     "metadata": {},
     "output_type": "execute_result"
    }
   ],
   "source": [
    "# genes with 2 transcripts: onc chrX and chrY chromosomes \n",
    "SET2[SET2['gene'].isin(['SLC25A6', 'CD99'])][['tr_id', 'gene', 'global_coo_50_and_less']]"
   ]
  },
  {
   "cell_type": "code",
   "execution_count": 21,
   "metadata": {},
   "outputs": [
    {
     "data": {
      "text/html": [
       "<div>\n",
       "<style scoped>\n",
       "    .dataframe tbody tr th:only-of-type {\n",
       "        vertical-align: middle;\n",
       "    }\n",
       "\n",
       "    .dataframe tbody tr th {\n",
       "        vertical-align: top;\n",
       "    }\n",
       "\n",
       "    .dataframe thead th {\n",
       "        text-align: right;\n",
       "    }\n",
       "</style>\n",
       "<table border=\"1\" class=\"dataframe\">\n",
       "  <thead>\n",
       "    <tr style=\"text-align: right;\">\n",
       "      <th></th>\n",
       "      <th>tr_id</th>\n",
       "      <th>gene</th>\n",
       "      <th>ovlp_strandless</th>\n",
       "      <th>global_coo_primary</th>\n",
       "      <th>strand</th>\n",
       "      <th>Riboseq_Summary</th>\n",
       "      <th>PhyloCSF120score</th>\n",
       "    </tr>\n",
       "  </thead>\n",
       "  <tbody>\n",
       "    <tr>\n",
       "      <th>19446</th>\n",
       "      <td>ENST00000166345.7</td>\n",
       "      <td>TRIP13</td>\n",
       "      <td>12;12;12</td>\n",
       "      <td>chr5:892645-892998</td>\n",
       "      <td>+</td>\n",
       "      <td>GTG; 285-357; Rank: 107; cov: 73.68</td>\n",
       "      <td>-1324.6564</td>\n",
       "    </tr>\n",
       "    <tr>\n",
       "      <th>20512</th>\n",
       "      <td>ENST00000439211.6</td>\n",
       "      <td>DHFR</td>\n",
       "      <td>237;237;237</td>\n",
       "      <td>chr5:80654490-80654981</td>\n",
       "      <td>-</td>\n",
       "      <td>GTG; 135-495; Rank: 291; cov: 73.91</td>\n",
       "      <td>-2881.5796</td>\n",
       "    </tr>\n",
       "    <tr>\n",
       "      <th>31949</th>\n",
       "      <td>ENST00000297578.8</td>\n",
       "      <td>SLC25A32</td>\n",
       "      <td>109;109;0</td>\n",
       "      <td>chr8:103414938-103415099</td>\n",
       "      <td>-</td>\n",
       "      <td>TTG; 30-168; Rank: 64; cov: 92.68</td>\n",
       "      <td>-985.8394</td>\n",
       "    </tr>\n",
       "    <tr>\n",
       "      <th>57355</th>\n",
       "      <td>ENST00000254940.9</td>\n",
       "      <td>NIP7</td>\n",
       "      <td>121;202;121</td>\n",
       "      <td>chr16:69339431-69339829</td>\n",
       "      <td>+</td>\n",
       "      <td>ATT; 287-401; Rank: 382; cov: 60.61</td>\n",
       "      <td>-2914.6619</td>\n",
       "    </tr>\n",
       "  </tbody>\n",
       "</table>\n",
       "</div>"
      ],
      "text/plain": [
       "                   tr_id      gene ovlp_strandless        global_coo_primary  \\\n",
       "19446  ENST00000166345.7    TRIP13        12;12;12        chr5:892645-892998   \n",
       "20512  ENST00000439211.6      DHFR     237;237;237    chr5:80654490-80654981   \n",
       "31949  ENST00000297578.8  SLC25A32       109;109;0  chr8:103414938-103415099   \n",
       "57355  ENST00000254940.9      NIP7     121;202;121   chr16:69339431-69339829   \n",
       "\n",
       "      strand                      Riboseq_Summary  PhyloCSF120score  \n",
       "19446      +  GTG; 285-357; Rank: 107; cov: 73.68        -1324.6564  \n",
       "20512      -  GTG; 135-495; Rank: 291; cov: 73.91        -2881.5796  \n",
       "31949      -    TTG; 30-168; Rank: 64; cov: 92.68         -985.8394  \n",
       "57355      +  ATT; 287-401; Rank: 382; cov: 60.61        -2914.6619  "
      ]
     },
     "execution_count": 21,
     "metadata": {},
     "output_type": "execute_result"
    }
   ],
   "source": [
    "DF[DF['tr_id'].isin(set(SET2_.tr_id.tolist()) - set(SET2.tr_id.tolist()))][['tr_id', 'gene', 'ovlp_strandless', 'global_coo_primary', 'strand', 'Riboseq_Summary', 'PhyloCSF120score']]"
   ]
  },
  {
   "cell_type": "markdown",
   "metadata": {},
   "source": [
    "TRIP13 (ovlp=12nt, Rank=107, score:-1324);\n",
    "DHFR (ovlp=237nt, Rank=291, score=-2881)\n",
    "SLC25A32 (ovlp=109nt except RefSeq=0, Rank=64, score=-985);\n",
    "NIP7 (ovlp=121nt/202nt, Rank=382, score=-2914)"
   ]
  },
  {
   "cell_type": "code",
   "execution_count": 22,
   "metadata": {},
   "outputs": [],
   "source": [
    "# save it \n",
    "SET2_[['tr_id', 'gene', 'N_term_start1','N_term_end1', 'len_codons', 'global_coo_50_and_less', 'strand', 'global_coo_primary', 'PhyloCSF120score', 'number_of_records', 'ovlp', 'Riboseq_Summary', \n",
    "                    'Coverage_value_ext', 'Proteomics_count_ext', 'tag', 'transcript_type', 'CDS_ratio']].to_csv('tmp_res/SET2.txt', sep='\\t', index=False)\n"
   ]
  },
  {
   "cell_type": "code",
   "execution_count": 23,
   "metadata": {},
   "outputs": [
    {
     "data": {
      "text/html": [
       "<div>\n",
       "<style scoped>\n",
       "    .dataframe tbody tr th:only-of-type {\n",
       "        vertical-align: middle;\n",
       "    }\n",
       "\n",
       "    .dataframe tbody tr th {\n",
       "        vertical-align: top;\n",
       "    }\n",
       "\n",
       "    .dataframe thead th {\n",
       "        text-align: right;\n",
       "    }\n",
       "</style>\n",
       "<table border=\"1\" class=\"dataframe\">\n",
       "  <thead>\n",
       "    <tr style=\"text-align: right;\">\n",
       "      <th></th>\n",
       "      <th>tr_id</th>\n",
       "      <th>gene</th>\n",
       "      <th>Riboseq_Summary</th>\n",
       "      <th>ovlp</th>\n",
       "      <th>ovlp_strandless</th>\n",
       "    </tr>\n",
       "  </thead>\n",
       "  <tbody>\n",
       "    <tr>\n",
       "      <th>20512</th>\n",
       "      <td>ENST00000439211.6</td>\n",
       "      <td>DHFR</td>\n",
       "      <td>GTG; 135-495; Rank: 291; cov: 73.91</td>\n",
       "      <td>0;0;0</td>\n",
       "      <td>237;237;237</td>\n",
       "    </tr>\n",
       "    <tr>\n",
       "      <th>20513</th>\n",
       "      <td>ENST00000505337.5</td>\n",
       "      <td>DHFR</td>\n",
       "      <td>NaN</td>\n",
       "      <td>0;0;0</td>\n",
       "      <td>0;0;0</td>\n",
       "    </tr>\n",
       "    <tr>\n",
       "      <th>20514</th>\n",
       "      <td>ENST00000511032.5</td>\n",
       "      <td>DHFR</td>\n",
       "      <td>NaN</td>\n",
       "      <td>0;0;0</td>\n",
       "      <td>0;0;0</td>\n",
       "    </tr>\n",
       "    <tr>\n",
       "      <th>20515</th>\n",
       "      <td>ENST00000504396.1</td>\n",
       "      <td>DHFR</td>\n",
       "      <td>NaN</td>\n",
       "      <td>88;88;88</td>\n",
       "      <td>88;88;88</td>\n",
       "    </tr>\n",
       "  </tbody>\n",
       "</table>\n",
       "</div>"
      ],
      "text/plain": [
       "                   tr_id  gene                      Riboseq_Summary      ovlp  \\\n",
       "20512  ENST00000439211.6  DHFR  GTG; 135-495; Rank: 291; cov: 73.91     0;0;0   \n",
       "20513  ENST00000505337.5  DHFR                                  NaN     0;0;0   \n",
       "20514  ENST00000511032.5  DHFR                                  NaN     0;0;0   \n",
       "20515  ENST00000504396.1  DHFR                                  NaN  88;88;88   \n",
       "\n",
       "      ovlp_strandless  \n",
       "20512     237;237;237  \n",
       "20513           0;0;0  \n",
       "20514           0;0;0  \n",
       "20515        88;88;88  "
      ]
     },
     "execution_count": 23,
     "metadata": {},
     "output_type": "execute_result"
    }
   ],
   "source": [
    "DF[DF['gene'] == 'DHFR'][['tr_id', 'gene', 'Riboseq_Summary', 'ovlp', 'ovlp_strandless']]"
   ]
  },
  {
   "cell_type": "code",
   "execution_count": 24,
   "metadata": {},
   "outputs": [
    {
     "data": {
      "text/html": [
       "<div>\n",
       "<style scoped>\n",
       "    .dataframe tbody tr th:only-of-type {\n",
       "        vertical-align: middle;\n",
       "    }\n",
       "\n",
       "    .dataframe tbody tr th {\n",
       "        vertical-align: top;\n",
       "    }\n",
       "\n",
       "    .dataframe thead th {\n",
       "        text-align: right;\n",
       "    }\n",
       "</style>\n",
       "<table border=\"1\" class=\"dataframe\">\n",
       "  <thead>\n",
       "    <tr style=\"text-align: right;\">\n",
       "      <th></th>\n",
       "      <th>tr_id</th>\n",
       "      <th>N_term_start</th>\n",
       "      <th>N_term_end</th>\n",
       "      <th>len</th>\n",
       "      <th>N_term_start1</th>\n",
       "      <th>N_term_end1</th>\n",
       "      <th>len_codons</th>\n",
       "      <th>gene</th>\n",
       "      <th>50len_flag</th>\n",
       "      <th>global_coo_50_and_less</th>\n",
       "      <th>...</th>\n",
       "      <th>gene_ext</th>\n",
       "      <th>Start_ext</th>\n",
       "      <th>Stop_ext</th>\n",
       "      <th>global_rank_ext</th>\n",
       "      <th>Start_codon_ext</th>\n",
       "      <th>Proteomics_count_ext</th>\n",
       "      <th>Coverage_value_ext</th>\n",
       "      <th>CDS_ratio</th>\n",
       "      <th>Riboseq_Summary</th>\n",
       "      <th>Nstart_Nend</th>\n",
       "    </tr>\n",
       "  </thead>\n",
       "  <tbody>\n",
       "    <tr>\n",
       "      <th>20512</th>\n",
       "      <td>ENST00000439211.6</td>\n",
       "      <td>0</td>\n",
       "      <td>494</td>\n",
       "      <td>494</td>\n",
       "      <td>2</td>\n",
       "      <td>494</td>\n",
       "      <td>164.0</td>\n",
       "      <td>DHFR</td>\n",
       "      <td>344</td>\n",
       "      <td>chr5:80654490-80654639</td>\n",
       "      <td>...</td>\n",
       "      <td>DHFR</td>\n",
       "      <td>135.0</td>\n",
       "      <td>495.0</td>\n",
       "      <td>291.0</td>\n",
       "      <td>GTG</td>\n",
       "      <td>0.0</td>\n",
       "      <td>73.913043</td>\n",
       "      <td>1.090317</td>\n",
       "      <td>GTG; 135-495; Rank: 291; cov: 73.91</td>\n",
       "      <td>2-494</td>\n",
       "    </tr>\n",
       "  </tbody>\n",
       "</table>\n",
       "<p>1 rows × 42 columns</p>\n",
       "</div>"
      ],
      "text/plain": [
       "                   tr_id  N_term_start  N_term_end  len  N_term_start1  \\\n",
       "20512  ENST00000439211.6             0         494  494              2   \n",
       "\n",
       "       N_term_end1  len_codons  gene  50len_flag  global_coo_50_and_less  ...  \\\n",
       "20512          494       164.0  DHFR         344  chr5:80654490-80654639  ...   \n",
       "\n",
       "      gene_ext Start_ext Stop_ext global_rank_ext  Start_codon_ext  \\\n",
       "20512     DHFR     135.0    495.0           291.0              GTG   \n",
       "\n",
       "       Proteomics_count_ext  Coverage_value_ext  CDS_ratio  \\\n",
       "20512                   0.0           73.913043   1.090317   \n",
       "\n",
       "                           Riboseq_Summary  Nstart_Nend  \n",
       "20512  GTG; 135-495; Rank: 291; cov: 73.91        2-494  \n",
       "\n",
       "[1 rows x 42 columns]"
      ]
     },
     "execution_count": 24,
     "metadata": {},
     "output_type": "execute_result"
    }
   ],
   "source": [
    "SET2_[SET2_['gene'] == 'DHFR']"
   ]
  },
  {
   "cell_type": "code",
   "execution_count": 25,
   "metadata": {},
   "outputs": [
    {
     "data": {
      "text/html": [
       "<div>\n",
       "<style scoped>\n",
       "    .dataframe tbody tr th:only-of-type {\n",
       "        vertical-align: middle;\n",
       "    }\n",
       "\n",
       "    .dataframe tbody tr th {\n",
       "        vertical-align: top;\n",
       "    }\n",
       "\n",
       "    .dataframe thead th {\n",
       "        text-align: right;\n",
       "    }\n",
       "</style>\n",
       "<table border=\"1\" class=\"dataframe\">\n",
       "  <thead>\n",
       "    <tr style=\"text-align: right;\">\n",
       "      <th></th>\n",
       "      <th>tr_id</th>\n",
       "      <th>N_term_start</th>\n",
       "      <th>N_term_end</th>\n",
       "      <th>len</th>\n",
       "      <th>N_term_start1</th>\n",
       "      <th>N_term_end1</th>\n",
       "      <th>len_codons</th>\n",
       "      <th>gene</th>\n",
       "      <th>50len_flag</th>\n",
       "      <th>global_coo_50_and_less</th>\n",
       "      <th>...</th>\n",
       "      <th>gene_ext</th>\n",
       "      <th>Start_ext</th>\n",
       "      <th>Stop_ext</th>\n",
       "      <th>global_rank_ext</th>\n",
       "      <th>Start_codon_ext</th>\n",
       "      <th>Proteomics_count_ext</th>\n",
       "      <th>Coverage_value_ext</th>\n",
       "      <th>CDS_ratio</th>\n",
       "      <th>Riboseq_Summary</th>\n",
       "      <th>Nstart_Nend</th>\n",
       "    </tr>\n",
       "  </thead>\n",
       "  <tbody>\n",
       "  </tbody>\n",
       "</table>\n",
       "<p>0 rows × 42 columns</p>\n",
       "</div>"
      ],
      "text/plain": [
       "Empty DataFrame\n",
       "Columns: [tr_id, N_term_start, N_term_end, len, N_term_start1, N_term_end1, len_codons, gene, 50len_flag, global_coo_50_and_less, strand, global_coo_primary, transcript_seq, 5UTR_start_seq, max_sum_overlap_g25_all_exons, max_overlap_g25_all_exons_strandless, max_sum_overlap_g35_all_exons, max_sum_overlap_g35_all_exons_strandless, max_sum_overlap_g38_all_exons, max_sum_overlap_g38_all_exons_strandless, max_sum_overlap_refseq_all_exons, max_sum_overlap_refseq_all_exons_strandless, ovlp, ovlp_strandless, ovlp2, ovlp2_strandless, PhyloCSF120score, tr_id1, number_of_records, records_names, transcript_type, tag, gene_ext, Start_ext, Stop_ext, global_rank_ext, Start_codon_ext, Proteomics_count_ext, Coverage_value_ext, CDS_ratio, Riboseq_Summary, Nstart_Nend]\n",
       "Index: []\n",
       "\n",
       "[0 rows x 42 columns]"
      ]
     },
     "execution_count": 25,
     "metadata": {},
     "output_type": "execute_result"
    }
   ],
   "source": [
    "SET2[SET2['gene'] == 'DHFR']"
   ]
  },
  {
   "cell_type": "code",
   "execution_count": null,
   "metadata": {},
   "outputs": [],
   "source": []
  },
  {
   "cell_type": "markdown",
   "metadata": {},
   "source": [
    "# Genes that are supported by proteomics "
   ]
  },
  {
   "cell_type": "code",
   "execution_count": 26,
   "metadata": {},
   "outputs": [
    {
     "data": {
      "text/plain": [
       "18"
      ]
     },
     "execution_count": 26,
     "metadata": {},
     "output_type": "execute_result"
    }
   ],
   "source": [
    "SET1_[SET1_['Proteomics_count_ext'] > 0].gene.nunique()"
   ]
  },
  {
   "cell_type": "code",
   "execution_count": 27,
   "metadata": {},
   "outputs": [
    {
     "data": {
      "text/plain": [
       "91"
      ]
     },
     "execution_count": 27,
     "metadata": {},
     "output_type": "execute_result"
    }
   ],
   "source": [
    "SET2_[SET2_['Proteomics_count_ext'] > 0].gene.nunique()"
   ]
  },
  {
   "cell_type": "raw",
   "metadata": {},
   "source": [
    "18/PhyloSET, 91/RiboSET"
   ]
  },
  {
   "cell_type": "code",
   "execution_count": 28,
   "metadata": {},
   "outputs": [
    {
     "data": {
      "text/plain": [
       "'RPTOR, HNRNPA0, CYTH2, FXR2, CCDC8, H1FX, SFPQ, MARCKS'"
      ]
     },
     "execution_count": 28,
     "metadata": {},
     "output_type": "execute_result"
    }
   ],
   "source": [
    "', '.join(list(set(SET1_.gene.tolist()).intersection(SET2_.gene.tolist())))"
   ]
  },
  {
   "cell_type": "code",
   "execution_count": 29,
   "metadata": {},
   "outputs": [
    {
     "data": {
      "text/plain": [
       "(60, 393)"
      ]
     },
     "execution_count": 29,
     "metadata": {},
     "output_type": "execute_result"
    }
   ],
   "source": [
    "SET1_.gene.nunique(), SET2_.gene.nunique()"
   ]
  },
  {
   "cell_type": "code",
   "execution_count": null,
   "metadata": {},
   "outputs": [],
   "source": []
  },
  {
   "cell_type": "markdown",
   "metadata": {},
   "source": [
    "# ATG-extensions in RiboSET"
   ]
  },
  {
   "cell_type": "code",
   "execution_count": 30,
   "metadata": {},
   "outputs": [
    {
     "data": {
      "text/html": [
       "<div>\n",
       "<style scoped>\n",
       "    .dataframe tbody tr th:only-of-type {\n",
       "        vertical-align: middle;\n",
       "    }\n",
       "\n",
       "    .dataframe tbody tr th {\n",
       "        vertical-align: top;\n",
       "    }\n",
       "\n",
       "    .dataframe thead th {\n",
       "        text-align: right;\n",
       "    }\n",
       "</style>\n",
       "<table border=\"1\" class=\"dataframe\">\n",
       "  <thead>\n",
       "    <tr style=\"text-align: right;\">\n",
       "      <th></th>\n",
       "      <th>tr_id</th>\n",
       "      <th>N_term_start</th>\n",
       "      <th>N_term_end</th>\n",
       "      <th>len</th>\n",
       "      <th>N_term_start1</th>\n",
       "      <th>N_term_end1</th>\n",
       "      <th>len_codons</th>\n",
       "      <th>gene</th>\n",
       "      <th>50len_flag</th>\n",
       "      <th>global_coo_50_and_less</th>\n",
       "      <th>...</th>\n",
       "      <th>gene_ext</th>\n",
       "      <th>Start_ext</th>\n",
       "      <th>Stop_ext</th>\n",
       "      <th>global_rank_ext</th>\n",
       "      <th>Start_codon_ext</th>\n",
       "      <th>Proteomics_count_ext</th>\n",
       "      <th>Coverage_value_ext</th>\n",
       "      <th>CDS_ratio</th>\n",
       "      <th>Riboseq_Summary</th>\n",
       "      <th>Nstart_Nend</th>\n",
       "    </tr>\n",
       "  </thead>\n",
       "  <tbody>\n",
       "    <tr>\n",
       "      <th>17038</th>\n",
       "      <td>ENST00000467087.5</td>\n",
       "      <td>258</td>\n",
       "      <td>528</td>\n",
       "      <td>270</td>\n",
       "      <td>258</td>\n",
       "      <td>528</td>\n",
       "      <td>90.0</td>\n",
       "      <td>STIM2</td>\n",
       "      <td>378</td>\n",
       "      <td>chr4:26861069-26861218</td>\n",
       "      <td>...</td>\n",
       "      <td>STIM2</td>\n",
       "      <td>268.0</td>\n",
       "      <td>529.0</td>\n",
       "      <td>462.0</td>\n",
       "      <td>ATG</td>\n",
       "      <td>0.0</td>\n",
       "      <td>73.170732</td>\n",
       "      <td>0.139053</td>\n",
       "      <td>ATG; 268-529; Rank: 462; cov: 73.17</td>\n",
       "      <td>258-528</td>\n",
       "    </tr>\n",
       "    <tr>\n",
       "      <th>20891</th>\n",
       "      <td>ENST00000316788.11</td>\n",
       "      <td>251</td>\n",
       "      <td>557</td>\n",
       "      <td>306</td>\n",
       "      <td>251</td>\n",
       "      <td>557</td>\n",
       "      <td>102.0</td>\n",
       "      <td>AP3S1</td>\n",
       "      <td>407</td>\n",
       "      <td>chr5:115841888-115842037</td>\n",
       "      <td>...</td>\n",
       "      <td>AP3S1</td>\n",
       "      <td>258.0</td>\n",
       "      <td>558.0</td>\n",
       "      <td>121.0</td>\n",
       "      <td>ATG</td>\n",
       "      <td>0.0</td>\n",
       "      <td>68.421053</td>\n",
       "      <td>0.325754</td>\n",
       "      <td>ATG; 258-558; Rank: 121; cov: 68.42</td>\n",
       "      <td>251-557</td>\n",
       "    </tr>\n",
       "    <tr>\n",
       "      <th>39399</th>\n",
       "      <td>ENST00000418331.6</td>\n",
       "      <td>0</td>\n",
       "      <td>352</td>\n",
       "      <td>352</td>\n",
       "      <td>1</td>\n",
       "      <td>352</td>\n",
       "      <td>117.0</td>\n",
       "      <td>PTPRJ</td>\n",
       "      <td>202</td>\n",
       "      <td>chr11:47980763-47980912</td>\n",
       "      <td>...</td>\n",
       "      <td>PTPRJ</td>\n",
       "      <td>11.0</td>\n",
       "      <td>353.0</td>\n",
       "      <td>369.0</td>\n",
       "      <td>ATG</td>\n",
       "      <td>2.0</td>\n",
       "      <td>60.550459</td>\n",
       "      <td>0.407875</td>\n",
       "      <td>ATG; 11-353; Rank: 369; cov: 60.55</td>\n",
       "      <td>1-352</td>\n",
       "    </tr>\n",
       "  </tbody>\n",
       "</table>\n",
       "<p>3 rows × 42 columns</p>\n",
       "</div>"
      ],
      "text/plain": [
       "                    tr_id  N_term_start  N_term_end  len  N_term_start1  \\\n",
       "17038   ENST00000467087.5           258         528  270            258   \n",
       "20891  ENST00000316788.11           251         557  306            251   \n",
       "39399   ENST00000418331.6             0         352  352              1   \n",
       "\n",
       "       N_term_end1  len_codons   gene  50len_flag    global_coo_50_and_less  \\\n",
       "17038          528        90.0  STIM2         378    chr4:26861069-26861218   \n",
       "20891          557       102.0  AP3S1         407  chr5:115841888-115842037   \n",
       "39399          352       117.0  PTPRJ         202   chr11:47980763-47980912   \n",
       "\n",
       "       ... gene_ext Start_ext Stop_ext global_rank_ext  Start_codon_ext  \\\n",
       "17038  ...    STIM2     268.0    529.0           462.0              ATG   \n",
       "20891  ...    AP3S1     258.0    558.0           121.0              ATG   \n",
       "39399  ...    PTPRJ      11.0    353.0           369.0              ATG   \n",
       "\n",
       "       Proteomics_count_ext  Coverage_value_ext  CDS_ratio  \\\n",
       "17038                   0.0           73.170732   0.139053   \n",
       "20891                   0.0           68.421053   0.325754   \n",
       "39399                   2.0           60.550459   0.407875   \n",
       "\n",
       "                           Riboseq_Summary  Nstart_Nend  \n",
       "17038  ATG; 268-529; Rank: 462; cov: 73.17      258-528  \n",
       "20891  ATG; 258-558; Rank: 121; cov: 68.42      251-557  \n",
       "39399   ATG; 11-353; Rank: 369; cov: 60.55        1-352  \n",
       "\n",
       "[3 rows x 42 columns]"
      ]
     },
     "execution_count": 30,
     "metadata": {},
     "output_type": "execute_result"
    }
   ],
   "source": [
    "SET2_[SET2_['Start_codon_ext'] == 'ATG']"
   ]
  },
  {
   "cell_type": "code",
   "execution_count": 31,
   "metadata": {},
   "outputs": [
    {
     "data": {
      "text/plain": [
       "392"
      ]
     },
     "execution_count": 31,
     "metadata": {},
     "output_type": "execute_result"
    }
   ],
   "source": [
    "SET2_[SET2_['Start_codon_ext'] != 'ATG'].tr_id.nunique()"
   ]
  },
  {
   "cell_type": "code",
   "execution_count": 32,
   "metadata": {},
   "outputs": [
    {
     "data": {
      "text/plain": [
       "(85, 60)"
      ]
     },
     "execution_count": 32,
     "metadata": {},
     "output_type": "execute_result"
    }
   ],
   "source": [
    "SET1_.tr_id.nunique(), SET1_.gene.nunique()"
   ]
  },
  {
   "cell_type": "code",
   "execution_count": null,
   "metadata": {},
   "outputs": [],
   "source": []
  },
  {
   "cell_type": "markdown",
   "metadata": {},
   "source": [
    "# Add info about in-frame ATG in theoretical NTE "
   ]
  },
  {
   "cell_type": "code",
   "execution_count": 33,
   "metadata": {},
   "outputs": [
    {
     "name": "stdout",
     "output_type": "stream",
     "text": [
      "TK1 ENST00000301634.11 ATG_108\n",
      "AP3S1 ENST00000316788.11 ATG_6; ATG_72\n",
      "MXD4 ENST00000337190.6 ATG_144\n",
      "C1GALT1 ENST00000436587.6 ATG_132\n",
      "PDCD6 ENST00000264933.8 ATG_3\n",
      "STIM2 ENST00000467087.5 ATG_9\n",
      "SLC17A5 ENST00000355773.5 ATG_81\n",
      "TMX3 ENST00000299608.6 ATG_18\n",
      "CCDC127 ENST00000296824.3 ATG_15\n",
      "DHX33 ENST00000225296.7 ATG_24\n",
      "PTPRJ ENST00000418331.6 ATG_9; ATG_186\n",
      "DUSP5 ENST00000369583.3 ATG_3\n",
      "LY6K ENST00000292430.10 ATG_243\n",
      "DHFR ENST00000439211.6 ATG_18; ATG_252\n",
      "EID2 ENST00000390658.3 ATG_6\n"
     ]
    }
   ],
   "source": [
    "for tr_id in list(set(SET1_.tr_id.tolist()+SET2_.tr_id.tolist())):\n",
    "    #print (tr_id)\n",
    "    # extract primary NTE sequence\n",
    "    N_term_start = meta[meta['tr_id'] == tr_id].iloc[0].N_term_start1 \n",
    "    N_term_end = meta[meta['tr_id'] == tr_id].iloc[0].N_term_end1\n",
    "    NTE_seq = metadata_pc_g25[metadata_pc_g25['tr_id'] == tr_id].iloc[0].transcript_seq[N_term_start:N_term_end]\n",
    "    \n",
    "    codons = [NTE_seq[i:i+3] for i in range(0, len(NTE_seq), 3)]\n",
    "    atgs = []\n",
    "    for i, codon in enumerate(codons):\n",
    "        if codon == 'ATG':\n",
    "            atgs.append('ATG_'+str(i*3))\n",
    "    \n",
    "    if len(atgs) != 0:\n",
    "        print ( metadata_pc_g25[metadata_pc_g25['tr_id'] == tr_id].iloc[0].gene, tr_id, '; '.join(atgs))"
   ]
  },
  {
   "cell_type": "code",
   "execution_count": null,
   "metadata": {},
   "outputs": [],
   "source": []
  },
  {
   "cell_type": "code",
   "execution_count": null,
   "metadata": {},
   "outputs": [],
   "source": []
  },
  {
   "cell_type": "code",
   "execution_count": null,
   "metadata": {},
   "outputs": [],
   "source": []
  },
  {
   "cell_type": "code",
   "execution_count": null,
   "metadata": {},
   "outputs": [],
   "source": []
  },
  {
   "cell_type": "code",
   "execution_count": null,
   "metadata": {},
   "outputs": [],
   "source": []
  }
 ],
 "metadata": {
  "kernelspec": {
   "display_name": "Python 3",
   "language": "python",
   "name": "python3"
  },
  "language_info": {
   "codemirror_mode": {
    "name": "ipython",
    "version": 3
   },
   "file_extension": ".py",
   "mimetype": "text/x-python",
   "name": "python",
   "nbconvert_exporter": "python",
   "pygments_lexer": "ipython3",
   "version": "3.7.6"
  }
 },
 "nbformat": 4,
 "nbformat_minor": 2
}
