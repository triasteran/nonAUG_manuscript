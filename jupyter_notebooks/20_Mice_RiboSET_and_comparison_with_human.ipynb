{
 "cells": [
  {
   "cell_type": "code",
   "execution_count": 1,
   "metadata": {},
   "outputs": [
    {
     "name": "stderr",
     "output_type": "stream",
     "text": [
      "/home/alla/anaconda3/lib/python3.7/site-packages/statsmodels/tools/_testing.py:19: FutureWarning: pandas.util.testing is deprecated. Use the functions in the public API at pandas.testing instead.\n",
      "  import pandas.util.testing as tm\n"
     ]
    }
   ],
   "source": [
    "%matplotlib inline\n",
    "\n",
    "import numpy as np\n",
    "import collections\n",
    "from collections import OrderedDict, Counter, defaultdict\n",
    "import pandas as pd\n",
    "\n",
    "import Bio\n",
    "from Bio import SeqIO\n",
    "\n",
    "import seaborn as sns\n",
    "import matplotlib.pyplot as plt\n",
    "from bokeh.plotting import figure, output_file, show \n",
    "import matplotlib.patches as patches    \n",
    "from matplotlib import colors\n",
    "\n",
    "\n",
    "import glob\n",
    "\n",
    "import subprocess\n",
    "from subprocess import call\n",
    "\n",
    "import re\n",
    "\n",
    "import pickle\n",
    "\n",
    "from Bio.SubsMat import MatrixInfo\n",
    "import Bio.Data.CodonTable\n",
    "\n",
    "from scipy import stats\n",
    "\n",
    "\n",
    "from Bio.SubsMat import MatrixInfo\n",
    "import Bio.Data.CodonTable"
   ]
  },
  {
   "cell_type": "code",
   "execution_count": 2,
   "metadata": {},
   "outputs": [],
   "source": [
    "def prepare_data_for_trips2(meta, file_counts, metadata_pc_g25, \n",
    "                           tr_id, gene, l, p, fraq, cds, \n",
    "                           predicted_ext_start=False, figsize=(20, 10),\n",
    "                           xlims='full', zeros=True, name='test.png', linew=9):\n",
    "    \n",
    "    f = pd.read_csv(file_counts)\n",
    "    f.columns = ['Position', 'Sequence', 'Frame1', 'Frame2', 'Frame3', 'RNASeq']\n",
    "    \n",
    "    atgs_pos = {'frame_0':[], 'frame_1':[], 'frame_2':[]}\n",
    "    stop_pos = {'frame_0':[], 'frame_1':[], 'frame_2':[]}\n",
    "\n",
    "    for pos in f.Position.tolist():\n",
    "        codon = ''.join(f.Sequence.tolist()[(pos-1):(pos-1+3)])\n",
    "        if codon == 'ATG':\n",
    "            if pos % 3 == 0:\n",
    "                atgs_pos['frame_0'].append(pos)\n",
    "            elif pos % 3 == 1:\n",
    "                atgs_pos['frame_1'].append(pos)\n",
    "            else:\n",
    "                atgs_pos['frame_2'].append(pos)\n",
    "            \n",
    "        elif (codon == 'TGA') | (codon == 'TAA') | (codon == 'TAG'):\n",
    "            if pos % 3 == 0:\n",
    "                stop_pos['frame_0'].append(pos)\n",
    "            elif pos % 3 == 1:\n",
    "                stop_pos['frame_1'].append(pos)\n",
    "            else:\n",
    "                stop_pos['frame_2'].append(pos)\n",
    "        else:\n",
    "            continue     \n",
    "            \n",
    "    # add CDS borders\n",
    "    cds_stop_pos = metadata_pc_g25[metadata_pc_g25['tr_id'].str.contains(tr_id)].iloc[0].cds_stop_pos\n",
    "    cds_start_pos = metadata_pc_g25[metadata_pc_g25['tr_id'].str.contains(tr_id)].iloc[0].cds_start_pos + 1\n",
    "    cds_start_codon = metadata_pc_g25[metadata_pc_g25['tr_id'].str.contains(tr_id)].iloc[0].cds_start_codon\n",
    "    \n",
    "    if xlims == 'ext':\n",
    "        xlim1 = meta[meta['tr_id'].str.contains(tr_id)].iloc[0].N_term_start1\n",
    "        xlim2 = meta[meta['tr_id'].str.contains(tr_id)].iloc[0].N_term_end1 + 50*3\n",
    "    elif len(xlims) == 2:\n",
    "        xlim1 = xlims[0]\n",
    "        xlim2 = xlims[1]\n",
    "    else: # full transcript\n",
    "        xlim1 = 0\n",
    "        xlim2 = len(metadata_pc_g25[metadata_pc_g25['tr_id'].str.contains(tr_id)].iloc[0].transcript_seq)\n",
    "    \n",
    "    d = {}\n",
    "    \n",
    "    d['cds_stop_pos'] = cds_stop_pos\n",
    "    d['cds_start_pos'] = cds_start_pos\n",
    "    d['cds_start_codon'] = cds_start_codon\n",
    "    d['f'] = f\n",
    "    d['stop_pos'] = stop_pos\n",
    "    d['atgs_pos'] = atgs_pos\n",
    "    d['xlims'] = (xlim1, xlim2)\n",
    "    d['predicted_ext_start'] = predicted_ext_start\n",
    "    d['l'] = l\n",
    "    d['p'] = p\n",
    "    d['figsize'] = figsize\n",
    "    d['fraq'] = fraq\n",
    "    d['cds'] = cds\n",
    "    d['name'] = tr_id+'_'+gene\n",
    "    d['zeros'] = zeros\n",
    "    d['linew'] = linew\n",
    "    \n",
    "    return d\n",
    "\n",
    "\n",
    "def trips_full2(d, name='test', font1=38, font2=45):\n",
    "    \n",
    "    l = d['l']\n",
    "    p = d['p']\n",
    "    f = d['f'] # dict with frames \n",
    "    atgs_pos = d['atgs_pos']\n",
    "    stop_pos = d['stop_pos']\n",
    "    cds_start_pos = d['cds_start_pos']\n",
    "    cds_stop_pos = d['cds_stop_pos']\n",
    "    figsize = d['figsize']\n",
    "    xlims = d['xlims']\n",
    "    fraq = d['fraq']\n",
    "    cds = d['cds']\n",
    "    name = d['name']\n",
    "    zeros = d['zeros']\n",
    "    linewidth = d['linew'] \n",
    "    \n",
    "    fig, axes = plt.subplots(5, 1, figsize = figsize, \n",
    "                             gridspec_kw={'height_ratios':[10,1.5,1,1,1]}, sharex=True, sharey=False, )\n",
    "\n",
    "    main_plot = axes[0]\n",
    "    #cds = axes[1]\n",
    "    orfs = axes[1]\n",
    "    red = axes[2]\n",
    "    green = axes[3]\n",
    "    blue = axes[4]\n",
    "\n",
    "    # x \n",
    "    main_plot.set_xlim(f.Position.min(), f.Position.max()+1)\n",
    "\n",
    "    # y\n",
    "    \n",
    "    if xlims is not False:\n",
    "        f1 = f[xlims[0]:xlims[1]]\n",
    "        max_height = np.max([np.max(f1.Frame1.tolist()), np.max(f1.Frame2.tolist()), np.max(f1.Frame3.tolist())])\n",
    "        print (max_height)\n",
    "    else:\n",
    "        max_height = np.max([np.max(f.Frame1.tolist()), np.max(f.Frame2.tolist()), np.max(f.Frame3.tolist())])\n",
    "        print (max_height)\n",
    "        \n",
    "    #### ????? why they dissappear????? ######    \n",
    "    main_plot.set_ylim(0, max_height+max_height/l)\n",
    "    main_plot.set_yticks(np.arange(0, max_height+max_height/l, p))\n",
    "    main_plot.set_yticklabels(np.arange(0, max_height+max_height/l, p, dtype=np.int64), fontsize=font1)\n",
    "    \n",
    "    # print (f[125:150])\n",
    "\n",
    "    # #frame 1 = red, frame2 = green, frame3 = blue\n",
    "    if zeros == True:\n",
    "        main_plot.plot(f.Frame1.tolist(), color = 'coral', linewidth=linewidth, linestyle='-')\n",
    "        main_plot.plot(f.Frame2.tolist(), color = 'mediumseagreen', linewidth=linewidth, linestyle='-')\n",
    "        main_plot.plot(f.Frame3.tolist(), color = 'cornflowerblue', linewidth=linewidth, linestyle='-')\n",
    "    \n",
    "    else:\n",
    "        # delete zeros \n",
    "        t = f[['Position', 'Frame1']]\n",
    "        fr1 = t[t['Frame1'] != 0]\n",
    "        \n",
    "        t = f[['Position', 'Frame2']]\n",
    "        fr2 = t[t['Frame2'] != 0]\n",
    "        \n",
    "        t = f[['Position', 'Frame3']]\n",
    "        fr3 = t[t['Frame3'] != 0]\n",
    "        \n",
    "        main_plot.plot(fr1.Position.tolist(), fr1.Frame1.tolist(), color = 'coral', linewidth=linewidth, linestyle='-')\n",
    "        main_plot.plot(fr2.Position.tolist(), fr2.Frame2.tolist(), color = 'mediumseagreen', linewidth=linewidth, linestyle='-')\n",
    "        main_plot.plot(fr3.Position.tolist(), fr3.Frame3.tolist(), color = 'cornflowerblue', linewidth=linewidth, linestyle='-')\n",
    "    \n",
    "        \n",
    "        \n",
    "        \n",
    "    red.set_facecolor('coral')\n",
    "    green.set_facecolor('mediumseagreen')\n",
    "    blue.set_facecolor('cornflowerblue')\n",
    "    #cds.set_facecolor('lightgrey')\n",
    "\n",
    "    #blue.set_xticks(np.arange(0, f.Position.max(), 50))\n",
    "    #blue.set_xticklabels(np.arange(0, f.Position.max(), 50), fontsize=45)\n",
    "\n",
    "    red.set_yticklabels(())\n",
    "    green.set_yticklabels(())\n",
    "    blue.set_yticklabels(())\n",
    "    #cds.set_yticklabels(())\n",
    "    orfs.set_yticklabels(())\n",
    "    \n",
    "    \n",
    "\n",
    "    blue.set_ylabel('f2', fontsize=font1)#, rotation = 0)\n",
    "    red.set_ylabel('f0', fontsize=font1)#, rotation = 0)\n",
    "    green.set_ylabel('f1', fontsize=font1)#, rotation = 0)\n",
    "    #cds.set_ylabel('cds', fontsize=35)#, rotation = 0)\n",
    "    orfs.set_ylabel('orf', fontsize=font1)#, rotation = 0)\n",
    "\n",
    "    for frame, pos_li in atgs_pos.items():\n",
    "        if frame == 'frame_0':\n",
    "            for pos in pos_li:\n",
    "                blue.vlines(pos, ymin = 0, ymax = 1, colors='white', linewidth=linewidth-1)\n",
    "        elif frame == 'frame_1':\n",
    "            for pos in pos_li:\n",
    "                red.vlines(pos, ymin = 0, ymax = 1, colors='white', linewidth=linewidth-1)\n",
    "        else:\n",
    "            for pos in pos_li:\n",
    "                green.vlines(pos, ymin = 0, ymax = 1, colors='white', linewidth=linewidth-1)\n",
    "            \n",
    "    for frame, pos_li in stop_pos.items():\n",
    "        if frame == 'frame_0':\n",
    "            for pos in pos_li:\n",
    "                blue.vlines(pos, ymin = 0, ymax = 1, colors='black', linewidth=linewidth-1)\n",
    "        elif frame == 'frame_1':\n",
    "            for pos in pos_li:\n",
    "                red.vlines(pos, ymin = 0, ymax = 1, colors='black', linewidth=linewidth-1)\n",
    "        else:\n",
    "            for pos in pos_li:\n",
    "                green.vlines(pos, ymin = 0, ymax = 1, colors='black', linewidth=linewidth-1)\n",
    "            \n",
    "                    \n",
    "    # add start of annotated CDS\n",
    "    main_plot.vlines(cds_stop_pos, ymin=0, ymax=max_height+max_height/l, colors='black', linewidth=linewidth-2)\n",
    "    main_plot.vlines(cds_start_pos, ymin=0, ymax=max_height+max_height/l, colors='black', linewidth=linewidth-2)\n",
    "    #main_plot.text(x = cds_stop_pos-100, y = max_height+max_height/10, s = 'cds stop', fontsize=39)\n",
    "    #main_plot.text(x = cds_start_pos-10, y = max_height+0.1, s = 'cds start', fontsize=39)\n",
    "\n",
    "\n",
    "    # add rectangle = CDS\n",
    "    #if cds is True:\n",
    "        #rect = patches.Rectangle((cds_start_pos, 0),cds_stop_pos-cds_start_pos,\n",
    "                         #1,linewidth=1,edgecolor='r',facecolor='lightgrey')\n",
    "        #cds.add_patch(rect)\n",
    "\n",
    "        # add non-AUG - cds_start_pos\n",
    "        #cds.text(x = cds_start_pos, y = 0.3, s = 'AUG', fontsize=38)\n",
    "\n",
    "    \n",
    "    # add rectangle = extended CDS\n",
    "    xlims = d['xlims']\n",
    "    predicted_ext_start = d['predicted_ext_start']\n",
    "    if xlims is not False:\n",
    "        if predicted_ext_start is not False:\n",
    "            Nst = int(predicted_ext_start.split('_')[0])\n",
    "            codon_name = predicted_ext_start.split('_')[1]\n",
    "            N2 = cds_stop_pos\n",
    "            rect = patches.Rectangle((Nst, 0), N2-Nst,1,linewidth=1,edgecolor='r',facecolor='silver')\n",
    "            orfs.add_patch(rect)\n",
    "        \n",
    "            orfs.text(x = Nst, y = 0.3, s = codon_name, fontsize=font1)\n",
    "\n",
    "    \n",
    "    blue.set_xticks(range(f.Position.min(), f.Position.max()+1, fraq))       \n",
    "    blue.set_xticklabels(range(f.Position.min(), f.Position.max()+1, fraq), fontsize=font1)\n",
    "    \n",
    "    print (f.Position.min())\n",
    "    \n",
    "    \n",
    "    if xlims is not False:    \n",
    "        plt.xlim(xlims[0], xlims[1])\n",
    "        \n",
    "        \n",
    "    main_plot.set_title(name, fontsize=font2)\n",
    "    plt.subplots_adjust(left=0.1, bottom=0.1,\n",
    "                    wspace=0.1, hspace=0.1)\n",
    "    \n",
    "    plt.savefig('plots/'+name+'.png', dpi = 300, bbox_inches = 'tight')\n",
    "    "
   ]
  },
  {
   "cell_type": "code",
   "execution_count": 3,
   "metadata": {},
   "outputs": [
    {
     "data": {
      "text/html": [
       "<div>\n",
       "<style scoped>\n",
       "    .dataframe tbody tr th:only-of-type {\n",
       "        vertical-align: middle;\n",
       "    }\n",
       "\n",
       "    .dataframe tbody tr th {\n",
       "        vertical-align: top;\n",
       "    }\n",
       "\n",
       "    .dataframe thead th {\n",
       "        text-align: right;\n",
       "    }\n",
       "</style>\n",
       "<table border=\"1\" class=\"dataframe\">\n",
       "  <thead>\n",
       "    <tr style=\"text-align: right;\">\n",
       "      <th></th>\n",
       "      <th>tr_id</th>\n",
       "      <th>gene</th>\n",
       "      <th>N_term_start1</th>\n",
       "      <th>N_term_end1</th>\n",
       "      <th>len_codons</th>\n",
       "      <th>global_coo_50_and_less</th>\n",
       "      <th>strand</th>\n",
       "      <th>global_coo_primary</th>\n",
       "      <th>PhyloCSF120score</th>\n",
       "      <th>number_of_records</th>\n",
       "      <th>ovlp</th>\n",
       "      <th>Riboseq_Summary</th>\n",
       "      <th>Coverage_value_ext</th>\n",
       "      <th>Proteomics_count_ext</th>\n",
       "      <th>tag</th>\n",
       "      <th>transcript_type</th>\n",
       "      <th>CDS_ratio</th>\n",
       "      <th>pos_of_codon</th>\n",
       "      <th>codon</th>\n",
       "    </tr>\n",
       "  </thead>\n",
       "  <tbody>\n",
       "    <tr>\n",
       "      <th>0</th>\n",
       "      <td>ENST00000379389.4</td>\n",
       "      <td>ISG15</td>\n",
       "      <td>1</td>\n",
       "      <td>151</td>\n",
       "      <td>50.0</td>\n",
       "      <td>chr1:1013424-1013573</td>\n",
       "      <td>+</td>\n",
       "      <td>chr1:1013424-1013573</td>\n",
       "      <td>-2443.9971</td>\n",
       "      <td>111</td>\n",
       "      <td>0;0;0</td>\n",
       "      <td>ATC; 98-152; Rank: 288; cov: 53.85</td>\n",
       "      <td>53.846154</td>\n",
       "      <td>0.0</td>\n",
       "      <td>basic,appris_principal_1,CCDS</td>\n",
       "      <td>protein_coding</td>\n",
       "      <td>0.327240</td>\n",
       "      <td>97</td>\n",
       "      <td>ATC</td>\n",
       "    </tr>\n",
       "    <tr>\n",
       "      <th>1</th>\n",
       "      <td>ENST00000349431.10</td>\n",
       "      <td>UBE2J2</td>\n",
       "      <td>28</td>\n",
       "      <td>220</td>\n",
       "      <td>64.0</td>\n",
       "      <td>chr1:1273666-1273815</td>\n",
       "      <td>-</td>\n",
       "      <td>chr1:1273666-1273857</td>\n",
       "      <td>-1285.8186</td>\n",
       "      <td>78</td>\n",
       "      <td>0;0;0</td>\n",
       "      <td>ACG; 173-221; Rank: 328; cov: 90.91</td>\n",
       "      <td>90.909091</td>\n",
       "      <td>0.0</td>\n",
       "      <td>basic,appris_principal_1,CCDS</td>\n",
       "      <td>protein_coding</td>\n",
       "      <td>0.762814</td>\n",
       "      <td>172</td>\n",
       "      <td>ACG</td>\n",
       "    </tr>\n",
       "  </tbody>\n",
       "</table>\n",
       "</div>"
      ],
      "text/plain": [
       "                tr_id    gene  N_term_start1  N_term_end1  len_codons  \\\n",
       "0   ENST00000379389.4   ISG15              1          151        50.0   \n",
       "1  ENST00000349431.10  UBE2J2             28          220        64.0   \n",
       "\n",
       "  global_coo_50_and_less strand    global_coo_primary  PhyloCSF120score  \\\n",
       "0   chr1:1013424-1013573      +  chr1:1013424-1013573        -2443.9971   \n",
       "1   chr1:1273666-1273815      -  chr1:1273666-1273857        -1285.8186   \n",
       "\n",
       "   number_of_records   ovlp                      Riboseq_Summary  \\\n",
       "0                111  0;0;0   ATC; 98-152; Rank: 288; cov: 53.85   \n",
       "1                 78  0;0;0  ACG; 173-221; Rank: 328; cov: 90.91   \n",
       "\n",
       "   Coverage_value_ext  Proteomics_count_ext                            tag  \\\n",
       "0           53.846154                   0.0  basic,appris_principal_1,CCDS   \n",
       "1           90.909091                   0.0  basic,appris_principal_1,CCDS   \n",
       "\n",
       "  transcript_type  CDS_ratio  pos_of_codon codon  \n",
       "0  protein_coding   0.327240            97   ATC  \n",
       "1  protein_coding   0.762814           172   ACG  "
      ]
     },
     "execution_count": 3,
     "metadata": {},
     "output_type": "execute_result"
    }
   ],
   "source": [
    "# open metadata with scores and metrics\n",
    "meta = pd.read_csv('tmp_res/METADATA_CURRENT.txt', sep='\\t')\n",
    "\n",
    "# gencode 25\n",
    "metadata_pc_g25 = pd.read_csv('tmp_res/metadata_pc_g25.txt', sep='\\t')\n",
    "\n",
    "\n",
    "P_Set = pd.read_csv('tmp_res/SET1.txt', sep='\\t')\n",
    "\n",
    "R_Set = pd.read_csv('tmp_res/SET2.txt', sep='\\t')\n",
    "\n",
    "R_Set['pos_of_codon'] = [int(x.split('; ')[1].split('-')[0])-1 for x in R_Set.Riboseq_Summary.tolist()]\n",
    "\n",
    "R_Set['codon'] = [x.split('; ')[0] for x in R_Set.Riboseq_Summary.tolist()]\n",
    "\n",
    "R_Set[0:2]"
   ]
  },
  {
   "cell_type": "code",
   "execution_count": 4,
   "metadata": {},
   "outputs": [
    {
     "data": {
      "text/html": [
       "<div>\n",
       "<style scoped>\n",
       "    .dataframe tbody tr th:only-of-type {\n",
       "        vertical-align: middle;\n",
       "    }\n",
       "\n",
       "    .dataframe tbody tr th {\n",
       "        vertical-align: top;\n",
       "    }\n",
       "\n",
       "    .dataframe thead th {\n",
       "        text-align: right;\n",
       "    }\n",
       "</style>\n",
       "<table border=\"1\" class=\"dataframe\">\n",
       "  <thead>\n",
       "    <tr style=\"text-align: right;\">\n",
       "      <th></th>\n",
       "      <th>tr_id</th>\n",
       "      <th>gene</th>\n",
       "      <th>gene_tr</th>\n",
       "      <th>transcript_seq</th>\n",
       "      <th>5UTR_start_seq</th>\n",
       "      <th>CDS_start</th>\n",
       "      <th>cds_seq</th>\n",
       "      <th>cds_start_codon</th>\n",
       "      <th>cds_stop_codon</th>\n",
       "      <th>cds_start_pos</th>\n",
       "      <th>cds_stop_pos</th>\n",
       "      <th>utr5_start</th>\n",
       "      <th>utr5_end</th>\n",
       "      <th>record_id</th>\n",
       "    </tr>\n",
       "  </thead>\n",
       "  <tbody>\n",
       "    <tr>\n",
       "      <th>0</th>\n",
       "      <td>ENSMUST00000070533.4</td>\n",
       "      <td>Xkr4</td>\n",
       "      <td>Xkr4-201</td>\n",
       "      <td>GCGGCGGCGGGCGAGCGGGCGCTGGAGTAGGAGCTGGGGAGCGGCG...</td>\n",
       "      <td>GCGGCGGCGGGCGAGCGGGCGCTGGAGTAGGAGCTGGGGAGCGGCG...</td>\n",
       "      <td>ATC</td>\n",
       "      <td>ATGGCCGCTAAGTCAGACGGGAGGCTGAAGATGAAGAAGAGCAGCG...</td>\n",
       "      <td>ATG</td>\n",
       "      <td>TAA</td>\n",
       "      <td>150</td>\n",
       "      <td>2094</td>\n",
       "      <td>0</td>\n",
       "      <td>150</td>\n",
       "      <td>ENSMUST00000070533.4|ENSMUSG00000051951.5|OTTM...</td>\n",
       "    </tr>\n",
       "    <tr>\n",
       "      <th>1</th>\n",
       "      <td>ENSMUST00000208660.1</td>\n",
       "      <td>Rp1</td>\n",
       "      <td>Rp1-203</td>\n",
       "      <td>AAGCTCAGCCTTTGCTCAGATTCTCCTCTTGATGAAACAAAGGGAT...</td>\n",
       "      <td>AAGCTCAGCCTTTGCTCAGATTCTCCTCTTGATGAAACAAAGGGAT...</td>\n",
       "      <td>CAC</td>\n",
       "      <td>ATGCTTGAGAAATTGCAGGTCTCACCCAAAATGAGTGACACACCTT...</td>\n",
       "      <td>ATG</td>\n",
       "      <td>TAG</td>\n",
       "      <td>54</td>\n",
       "      <td>4170</td>\n",
       "      <td>0</td>\n",
       "      <td>54</td>\n",
       "      <td>ENSMUST00000208660.1|ENSMUSG00000025900.12|OTT...</td>\n",
       "    </tr>\n",
       "  </tbody>\n",
       "</table>\n",
       "</div>"
      ],
      "text/plain": [
       "                  tr_id  gene   gene_tr  \\\n",
       "0  ENSMUST00000070533.4  Xkr4  Xkr4-201   \n",
       "1  ENSMUST00000208660.1   Rp1   Rp1-203   \n",
       "\n",
       "                                      transcript_seq  \\\n",
       "0  GCGGCGGCGGGCGAGCGGGCGCTGGAGTAGGAGCTGGGGAGCGGCG...   \n",
       "1  AAGCTCAGCCTTTGCTCAGATTCTCCTCTTGATGAAACAAAGGGAT...   \n",
       "\n",
       "                                      5UTR_start_seq CDS_start  \\\n",
       "0  GCGGCGGCGGGCGAGCGGGCGCTGGAGTAGGAGCTGGGGAGCGGCG...       ATC   \n",
       "1  AAGCTCAGCCTTTGCTCAGATTCTCCTCTTGATGAAACAAAGGGAT...       CAC   \n",
       "\n",
       "                                             cds_seq cds_start_codon  \\\n",
       "0  ATGGCCGCTAAGTCAGACGGGAGGCTGAAGATGAAGAAGAGCAGCG...             ATG   \n",
       "1  ATGCTTGAGAAATTGCAGGTCTCACCCAAAATGAGTGACACACCTT...             ATG   \n",
       "\n",
       "  cds_stop_codon  cds_start_pos  cds_stop_pos  utr5_start  utr5_end  \\\n",
       "0            TAA            150          2094           0       150   \n",
       "1            TAG             54          4170           0        54   \n",
       "\n",
       "                                           record_id  \n",
       "0  ENSMUST00000070533.4|ENSMUSG00000051951.5|OTTM...  \n",
       "1  ENSMUST00000208660.1|ENSMUSG00000025900.12|OTT...  "
      ]
     },
     "execution_count": 4,
     "metadata": {},
     "output_type": "execute_result"
    }
   ],
   "source": [
    "meta_mice14 = pd.read_csv('tmp_res/meta_mice_M14.txt', sep='\\t')\n",
    "\n",
    "meta_mice14[0:2]"
   ]
  },
  {
   "cell_type": "code",
   "execution_count": null,
   "metadata": {},
   "outputs": [],
   "source": []
  },
  {
   "cell_type": "markdown",
   "metadata": {},
   "source": [
    "# Human and Mouse homologous genes (RiboSET and PhyloSET)"
   ]
  },
  {
   "cell_type": "markdown",
   "metadata": {},
   "source": [
    "### by name "
   ]
  },
  {
   "cell_type": "code",
   "execution_count": 5,
   "metadata": {},
   "outputs": [
    {
     "data": {
      "text/plain": [
       "(395, 60)"
      ]
     },
     "execution_count": 5,
     "metadata": {},
     "output_type": "execute_result"
    }
   ],
   "source": [
    "r_set = [x[0:1] + x[1:].lower() for x in R_Set['gene'].tolist()]\n",
    "\n",
    "p_set = [x[0:1] + x[1:].lower() for x in list(P_Set['gene'].unique())]\n",
    "\n",
    "len(r_set), len(p_set)"
   ]
  },
  {
   "cell_type": "code",
   "execution_count": 6,
   "metadata": {},
   "outputs": [],
   "source": [
    "# downloaded \n",
    "f = pd.read_csv('data/human_mouse_orthologs.txt', sep='\\t')"
   ]
  },
  {
   "cell_type": "code",
   "execution_count": 7,
   "metadata": {},
   "outputs": [],
   "source": [
    "# get missing genes \n",
    "\n",
    "RSet_d = {'SUPT16H':'Supt16',\n",
    " 'CTD-2135J3.4':None,\n",
    " 'KRTAP2-3':'Krtap2-4',\n",
    " 'C9ORF16':None,  # Bbln no in data \n",
    " 'UBE2D2':'Ube2d2b',   # Ube2d2b\n",
    " 'ZNF629':'Zfp629',\n",
    " 'ZNF316':'Zfp316',\n",
    " 'C18ORF8':None,\n",
    " 'HM13':'H13',\n",
    " 'CCT6A':None, # Cct6a not in file\n",
    " 'C16ORF72':None,\n",
    " 'UFD1L':'Ufd1',\n",
    " 'ZNF428':'Zfp428',\n",
    " 'CD59':'Cd59a', #Cd59b\n",
    " 'CD99':'Cd99l2',\n",
    " 'SLC25A6':'Slc25a5',\n",
    " 'FTL':'Ftl1',\n",
    " 'INSL4':None,\n",
    " 'SUPT4H1':'Supt4a',\n",
    " 'ZNF384':'Zfp384',\n",
    " 'MFAP1':'Mfap1a', #Mfap1b\n",
    " 'ZNF622':'Zfp622',\n",
    " 'KRBOX4':'Zfp78',\n",
    " 'AC013461.1':'Map3k20',\n",
    " 'FAM92A1':'Fam92a' # Fam92b\n",
    "         }\n",
    "\n",
    "\n",
    "PSet_d = {\n",
    "    'TBC1D29':None,\n",
    " 'KIAA0930':'5031439G07Rik', #???\n",
    " 'POMZP3':'Zp3',\n",
    " 'PABPC1L2A':'Pabpc1l',\n",
    " 'AC007906.1':None,\n",
    " 'GDF5OS':'Gm15557',\n",
    " 'LRP5L':None,\n",
    " 'SLC35G5':'Slc35g3',\n",
    " 'PABPC1L2B':'Pabpc1l', #???\n",
    " 'WWC3': None, # wwc1, 2\n",
    " 'ZBTB47':'Zfp651'\n",
    "}"
   ]
  },
  {
   "cell_type": "code",
   "execution_count": 8,
   "metadata": {},
   "outputs": [
    {
     "name": "stdout",
     "output_type": "stream",
     "text": [
      "367\n",
      "392\n"
     ]
    }
   ],
   "source": [
    "tmp1 = meta_mice14[meta_mice14['gene'].isin(r_set)][['gene']].drop_duplicates()\n",
    "tmp1.columns = ['gene_mouse']\n",
    "tmp1['gene_human'] = [x.upper() for x in tmp1['gene_mouse']]\n",
    "\n",
    "print (tmp1.gene_human.nunique())\n",
    "\n",
    "li = []\n",
    "\n",
    "tmp2 = pd.DataFrame({'gene_mouse':list(RSet_d.values()),\n",
    "                    'gene_human':list(RSet_d.keys())})\n",
    "\n",
    "#print (tmp2.gene_human.nunique())\n",
    "\n",
    "R_Set_match = pd.concat([tmp1, tmp2])\n",
    "\n",
    "print (R_Set_match.gene_human.nunique())\n",
    "\n",
    "# 25 huamn ribo-seq genes do not have mouse othologs? "
   ]
  },
  {
   "cell_type": "code",
   "execution_count": 9,
   "metadata": {},
   "outputs": [
    {
     "name": "stdout",
     "output_type": "stream",
     "text": [
      "49\n",
      "60\n"
     ]
    }
   ],
   "source": [
    "tmp1 = meta_mice14[meta_mice14['gene'].isin(p_set)][['gene']].drop_duplicates()\n",
    "tmp1.columns = ['gene_mouse']\n",
    "tmp1['gene_human'] = [x.upper() for x in tmp1['gene_mouse']]\n",
    "\n",
    "print (tmp1.gene_human.nunique())\n",
    "\n",
    "li = []\n",
    "\n",
    "tmp2 = pd.DataFrame({'gene_mouse':list(PSet_d.values()),\n",
    "                    'gene_human':list(PSet_d.keys())})\n",
    "\n",
    "#print (tmp2.gene_human.nunique())\n",
    "\n",
    "P_Set_match = pd.concat([tmp1, tmp2])\n",
    "\n",
    "print (P_Set_match.gene_human.nunique())\n",
    "\n",
    "# 11 huamn phyloset genes do not have mouse othologs? "
   ]
  },
  {
   "cell_type": "code",
   "execution_count": 10,
   "metadata": {},
   "outputs": [
    {
     "name": "stdout",
     "output_type": "stream",
     "text": [
      "60 56\n"
     ]
    },
    {
     "data": {
      "text/html": [
       "<div>\n",
       "<style scoped>\n",
       "    .dataframe tbody tr th:only-of-type {\n",
       "        vertical-align: middle;\n",
       "    }\n",
       "\n",
       "    .dataframe tbody tr th {\n",
       "        vertical-align: top;\n",
       "    }\n",
       "\n",
       "    .dataframe thead th {\n",
       "        text-align: right;\n",
       "    }\n",
       "</style>\n",
       "<table border=\"1\" class=\"dataframe\">\n",
       "  <thead>\n",
       "    <tr style=\"text-align: right;\">\n",
       "      <th></th>\n",
       "      <th>gene_mouse</th>\n",
       "      <th>gene_human</th>\n",
       "    </tr>\n",
       "  </thead>\n",
       "  <tbody>\n",
       "    <tr>\n",
       "      <th>2062</th>\n",
       "      <td>C1ql2</td>\n",
       "      <td>C1QL2</td>\n",
       "    </tr>\n",
       "    <tr>\n",
       "      <th>2117</th>\n",
       "      <td>Map3k19</td>\n",
       "      <td>MAP3K19</td>\n",
       "    </tr>\n",
       "    <tr>\n",
       "      <th>3242</th>\n",
       "      <td>Vangl2</td>\n",
       "      <td>VANGL2</td>\n",
       "    </tr>\n",
       "  </tbody>\n",
       "</table>\n",
       "</div>"
      ],
      "text/plain": [
       "     gene_mouse gene_human\n",
       "2062      C1ql2      C1QL2\n",
       "2117    Map3k19    MAP3K19\n",
       "3242     Vangl2     VANGL2"
      ]
     },
     "execution_count": 10,
     "metadata": {},
     "output_type": "execute_result"
    }
   ],
   "source": [
    "print (P_Set_match.shape[0], P_Set_match[P_Set_match['gene_mouse'].notna()].shape[0])\n",
    "P_Set_match[0:3]"
   ]
  },
  {
   "cell_type": "code",
   "execution_count": 11,
   "metadata": {},
   "outputs": [
    {
     "name": "stdout",
     "output_type": "stream",
     "text": [
      "392 386\n"
     ]
    },
    {
     "data": {
      "text/html": [
       "<div>\n",
       "<style scoped>\n",
       "    .dataframe tbody tr th:only-of-type {\n",
       "        vertical-align: middle;\n",
       "    }\n",
       "\n",
       "    .dataframe tbody tr th {\n",
       "        vertical-align: top;\n",
       "    }\n",
       "\n",
       "    .dataframe thead th {\n",
       "        text-align: right;\n",
       "    }\n",
       "</style>\n",
       "<table border=\"1\" class=\"dataframe\">\n",
       "  <thead>\n",
       "    <tr style=\"text-align: right;\">\n",
       "      <th></th>\n",
       "      <th>gene_mouse</th>\n",
       "      <th>gene_human</th>\n",
       "    </tr>\n",
       "  </thead>\n",
       "  <tbody>\n",
       "    <tr>\n",
       "      <th>359</th>\n",
       "      <td>Fam168b</td>\n",
       "      <td>FAM168B</td>\n",
       "    </tr>\n",
       "    <tr>\n",
       "      <th>365</th>\n",
       "      <td>Plekhb2</td>\n",
       "      <td>PLEKHB2</td>\n",
       "    </tr>\n",
       "    <tr>\n",
       "      <th>496</th>\n",
       "      <td>Txndc9</td>\n",
       "      <td>TXNDC9</td>\n",
       "    </tr>\n",
       "  </tbody>\n",
       "</table>\n",
       "</div>"
      ],
      "text/plain": [
       "    gene_mouse gene_human\n",
       "359    Fam168b    FAM168B\n",
       "365    Plekhb2    PLEKHB2\n",
       "496     Txndc9     TXNDC9"
      ]
     },
     "execution_count": 11,
     "metadata": {},
     "output_type": "execute_result"
    }
   ],
   "source": [
    "print (R_Set_match.shape[0], R_Set_match[R_Set_match['gene_mouse'].notna()].shape[0])\n",
    "R_Set_match[0:3]"
   ]
  },
  {
   "cell_type": "code",
   "execution_count": null,
   "metadata": {},
   "outputs": [],
   "source": []
  },
  {
   "cell_type": "code",
   "execution_count": null,
   "metadata": {},
   "outputs": [],
   "source": []
  },
  {
   "cell_type": "markdown",
   "metadata": {},
   "source": [
    "# Test Plot "
   ]
  },
  {
   "cell_type": "code",
   "execution_count": 12,
   "metadata": {},
   "outputs": [
    {
     "name": "stdout",
     "output_type": "stream",
     "text": [
      "12339\n",
      "0\n"
     ]
    },
    {
     "data": {
      "image/png": "[encoded data removed]",
      "text/plain": [
       "<Figure size 648x360 with 5 Axes>"
      ]
     },
     "metadata": {
      "needs_background": "light"
     },
     "output_type": "display_data"
    }
   ],
   "source": [
    "gene = 'SFPQ'\n",
    "\n",
    "tr_id = R_Set[R_Set['gene'] == gene].iloc[0].tr_id.split('.')[0]\n",
    "    \n",
    "pred_start = meta[meta['tr_id'].str.contains(tr_id)].iloc[0].Riboseq_Summary.split(';')[0]\n",
    "pos_pred_start = meta[meta['tr_id'].str.contains(tr_id)].iloc[0].Riboseq_Summary.split('; ')[1].split('-')[0] \n",
    "\n",
    "\n",
    "pre_st = str(int(pos_pred_start)+0) + '_' + pred_start\n",
    "\n",
    "xlims = [0, metadata_pc_g25[metadata_pc_g25['tr_id'].str.contains(tr_id)].iloc[0].cds_start_pos+50*3]\n",
    "\n",
    "d1 = prepare_data_for_trips2(meta = meta, \n",
    "                           file_counts = 'data/TRIPSlike_plots_data_RiboSET/%s_%s_unamb.csv' % (gene, tr_id), \n",
    "                           metadata_pc_g25 = metadata_pc_g25, \n",
    "                           tr_id = tr_id, \n",
    "                             gene = gene, \n",
    "                            predicted_ext_start=pre_st, \n",
    "                            l=10, \n",
    "                            p =2000, \n",
    "                             fraq = 50, \n",
    "                             cds = False,\n",
    "                           figsize=(9, 5),\n",
    "                             linew = 4, \n",
    "                           xlims=xlims,\n",
    "                            zeros=False)\n",
    "\n",
    "trips_full2(d1, name='DHFR', font1=20, font2=24)"
   ]
  },
  {
   "cell_type": "code",
   "execution_count": null,
   "metadata": {},
   "outputs": [],
   "source": []
  },
  {
   "cell_type": "code",
   "execution_count": null,
   "metadata": {},
   "outputs": [],
   "source": []
  },
  {
   "cell_type": "markdown",
   "metadata": {},
   "source": [
    "# Trips-viz mice predictions "
   ]
  },
  {
   "cell_type": "code",
   "execution_count": 13,
   "metadata": {},
   "outputs": [
    {
     "name": "stdout",
     "output_type": "stream",
     "text": [
      "Index(['Gene', 'Tran', 'Start', 'Stop', 'Length', 'Global_Rank', 'Type',\n",
      "       'Trips-viz link', 'Start Codon', 'Highframe rank', 'Highframe value',\n",
      "       'Lowframe rank', 'Lowframe value', 'Stop rank', 'Stop value',\n",
      "       'Start rank', 'Start value', 'Coverage rank', 'Coverage value',\n",
      "       'Inframe Count Rank', 'Inframe Count Value', 'Amino acid sequence',\n",
      "       'Proteomics count', 'Read density'],\n",
      "      dtype='object')\n"
     ]
    },
    {
     "data": {
      "text/html": [
       "<div>\n",
       "<style scoped>\n",
       "    .dataframe tbody tr th:only-of-type {\n",
       "        vertical-align: middle;\n",
       "    }\n",
       "\n",
       "    .dataframe tbody tr th {\n",
       "        vertical-align: top;\n",
       "    }\n",
       "\n",
       "    .dataframe thead th {\n",
       "        text-align: right;\n",
       "    }\n",
       "</style>\n",
       "<table border=\"1\" class=\"dataframe\">\n",
       "  <thead>\n",
       "    <tr style=\"text-align: right;\">\n",
       "      <th></th>\n",
       "      <th>Gene</th>\n",
       "      <th>Tran</th>\n",
       "      <th>Start</th>\n",
       "      <th>Stop</th>\n",
       "      <th>Length</th>\n",
       "      <th>Global_Rank</th>\n",
       "      <th>Type</th>\n",
       "      <th>Trips-viz link</th>\n",
       "      <th>Start Codon</th>\n",
       "      <th>Highframe rank</th>\n",
       "      <th>...</th>\n",
       "      <th>Stop value</th>\n",
       "      <th>Start rank</th>\n",
       "      <th>Start value</th>\n",
       "      <th>Coverage rank</th>\n",
       "      <th>Coverage value</th>\n",
       "      <th>Inframe Count Rank</th>\n",
       "      <th>Inframe Count Value</th>\n",
       "      <th>Amino acid sequence</th>\n",
       "      <th>Proteomics count</th>\n",
       "      <th>Read density</th>\n",
       "    </tr>\n",
       "  </thead>\n",
       "  <tbody>\n",
       "    <tr>\n",
       "      <th>0</th>\n",
       "      <td>CYB5R3</td>\n",
       "      <td>ENSMUST00000162178</td>\n",
       "      <td>86</td>\n",
       "      <td>122</td>\n",
       "      <td>37</td>\n",
       "      <td>1</td>\n",
       "      <td>extension</td>\n",
       "      <td>&lt;a href=\"https://trips.ucc.ie/mus_musculus/Gen...</td>\n",
       "      <td>GTG</td>\n",
       "      <td>16</td>\n",
       "      <td>...</td>\n",
       "      <td>0.811447</td>\n",
       "      <td>9</td>\n",
       "      <td>5.564520</td>\n",
       "      <td>1</td>\n",
       "      <td>100.0</td>\n",
       "      <td>13</td>\n",
       "      <td>78.583333</td>\n",
       "      <td>VLSPVWFIYSL</td>\n",
       "      <td>0</td>\n",
       "      <td>0.891892</td>\n",
       "    </tr>\n",
       "    <tr>\n",
       "      <th>1</th>\n",
       "      <td>P4HB</td>\n",
       "      <td>ENSMUST00000026122</td>\n",
       "      <td>393</td>\n",
       "      <td>447</td>\n",
       "      <td>55</td>\n",
       "      <td>2</td>\n",
       "      <td>extension</td>\n",
       "      <td>&lt;a href=\"https://trips.ucc.ie/mus_musculus/Gen...</td>\n",
       "      <td>TTG</td>\n",
       "      <td>14</td>\n",
       "      <td>...</td>\n",
       "      <td>-2.846227</td>\n",
       "      <td>11</td>\n",
       "      <td>5.456745</td>\n",
       "      <td>9</td>\n",
       "      <td>87.5</td>\n",
       "      <td>22</td>\n",
       "      <td>58.222222</td>\n",
       "      <td>LAVPAAPTQLPRPLQTS</td>\n",
       "      <td>0</td>\n",
       "      <td>0.872727</td>\n",
       "    </tr>\n",
       "  </tbody>\n",
       "</table>\n",
       "<p>2 rows × 24 columns</p>\n",
       "</div>"
      ],
      "text/plain": [
       "     Gene                Tran  Start  Stop  Length  Global_Rank       Type  \\\n",
       "0  CYB5R3  ENSMUST00000162178     86   122      37            1  extension   \n",
       "1    P4HB  ENSMUST00000026122    393   447      55            2  extension   \n",
       "\n",
       "                                      Trips-viz link Start Codon  \\\n",
       "0  <a href=\"https://trips.ucc.ie/mus_musculus/Gen...         GTG   \n",
       "1  <a href=\"https://trips.ucc.ie/mus_musculus/Gen...         TTG   \n",
       "\n",
       "   Highframe rank  ...  Stop value  Start rank  Start value  Coverage rank  \\\n",
       "0              16  ...    0.811447           9     5.564520              1   \n",
       "1              14  ...   -2.846227          11     5.456745              9   \n",
       "\n",
       "   Coverage value  Inframe Count Rank  Inframe Count Value  \\\n",
       "0           100.0                  13            78.583333   \n",
       "1            87.5                  22            58.222222   \n",
       "\n",
       "   Amino acid sequence  Proteomics count  Read density  \n",
       "0          VLSPVWFIYSL                 0      0.891892  \n",
       "1    LAVPAAPTQLPRPLQTS                 0      0.872727  \n",
       "\n",
       "[2 rows x 24 columns]"
      ]
     },
     "execution_count": 13,
     "metadata": {},
     "output_type": "execute_result"
    }
   ],
   "source": [
    "transl_with_all_codons = pd.read_csv('data/mouse_nte_all_starts.csv', sep=',')\n",
    "\n",
    "# Rapino18, Sendoel17, CasteloSzekely17, Neri17, Hornstein16, and Das19. \n",
    "\n",
    "print (transl_with_all_codons.columns)\n",
    "transl_with_all_codons[0:2]"
   ]
  },
  {
   "cell_type": "code",
   "execution_count": 14,
   "metadata": {},
   "outputs": [
    {
     "name": "stderr",
     "output_type": "stream",
     "text": [
      "/home/alla/.local/lib/python3.7/site-packages/ipykernel_launcher.py:13: SettingWithCopyWarning: \n",
      "A value is trying to be set on a copy of a slice from a DataFrame.\n",
      "Try using .loc[row_indexer,col_indexer] = value instead\n",
      "\n",
      "See the caveats in the documentation: https://pandas.pydata.org/pandas-docs/stable/user_guide/indexing.html#returning-a-view-versus-a-copy\n",
      "  del sys.path[0]\n"
     ]
    },
    {
     "data": {
      "text/html": [
       "<div>\n",
       "<style scoped>\n",
       "    .dataframe tbody tr th:only-of-type {\n",
       "        vertical-align: middle;\n",
       "    }\n",
       "\n",
       "    .dataframe tbody tr th {\n",
       "        vertical-align: top;\n",
       "    }\n",
       "\n",
       "    .dataframe thead th {\n",
       "        text-align: right;\n",
       "    }\n",
       "</style>\n",
       "<table border=\"1\" class=\"dataframe\">\n",
       "  <thead>\n",
       "    <tr style=\"text-align: right;\">\n",
       "      <th></th>\n",
       "      <th>gene_ext</th>\n",
       "      <th>tr_id1</th>\n",
       "      <th>Start_ext</th>\n",
       "      <th>Stop_ext</th>\n",
       "      <th>global_rank_ext</th>\n",
       "      <th>Start_codon_ext</th>\n",
       "      <th>Proteomics_count_ext</th>\n",
       "      <th>Coverage_value_ext</th>\n",
       "      <th>Read_density</th>\n",
       "      <th>Riboseq_Summary</th>\n",
       "    </tr>\n",
       "  </thead>\n",
       "  <tbody>\n",
       "    <tr>\n",
       "      <th>0</th>\n",
       "      <td>CYB5R3</td>\n",
       "      <td>ENSMUST00000162178</td>\n",
       "      <td>86</td>\n",
       "      <td>122</td>\n",
       "      <td>1</td>\n",
       "      <td>GTG</td>\n",
       "      <td>0</td>\n",
       "      <td>100.000000</td>\n",
       "      <td>0.891892</td>\n",
       "      <td>GTG; 86-122; Rank: 1; cov: 100.0</td>\n",
       "    </tr>\n",
       "    <tr>\n",
       "      <th>1</th>\n",
       "      <td>P4HB</td>\n",
       "      <td>ENSMUST00000026122</td>\n",
       "      <td>393</td>\n",
       "      <td>447</td>\n",
       "      <td>2</td>\n",
       "      <td>TTG</td>\n",
       "      <td>0</td>\n",
       "      <td>87.500000</td>\n",
       "      <td>0.872727</td>\n",
       "      <td>TTG; 393-447; Rank: 2; cov: 87.5</td>\n",
       "    </tr>\n",
       "    <tr>\n",
       "      <th>2</th>\n",
       "      <td>COX7C</td>\n",
       "      <td>ENSMUST00000131011</td>\n",
       "      <td>173</td>\n",
       "      <td>230</td>\n",
       "      <td>3</td>\n",
       "      <td>ACG</td>\n",
       "      <td>0</td>\n",
       "      <td>66.666667</td>\n",
       "      <td>0.931034</td>\n",
       "      <td>ACG; 173-230; Rank: 3; cov: 66.67</td>\n",
       "    </tr>\n",
       "    <tr>\n",
       "      <th>3</th>\n",
       "      <td>PKM</td>\n",
       "      <td>ENSMUST00000034834</td>\n",
       "      <td>236</td>\n",
       "      <td>296</td>\n",
       "      <td>4</td>\n",
       "      <td>CTG</td>\n",
       "      <td>0</td>\n",
       "      <td>63.157895</td>\n",
       "      <td>0.934426</td>\n",
       "      <td>CTG; 236-296; Rank: 4; cov: 63.16</td>\n",
       "    </tr>\n",
       "    <tr>\n",
       "      <th>4</th>\n",
       "      <td>LAPTM4B</td>\n",
       "      <td>ENSMUST00000022867</td>\n",
       "      <td>251</td>\n",
       "      <td>299</td>\n",
       "      <td>5</td>\n",
       "      <td>AAG</td>\n",
       "      <td>0</td>\n",
       "      <td>80.000000</td>\n",
       "      <td>0.918367</td>\n",
       "      <td>AAG; 251-299; Rank: 5; cov: 80.0</td>\n",
       "    </tr>\n",
       "  </tbody>\n",
       "</table>\n",
       "</div>"
      ],
      "text/plain": [
       "  gene_ext              tr_id1  Start_ext  Stop_ext  global_rank_ext  \\\n",
       "0   CYB5R3  ENSMUST00000162178         86       122                1   \n",
       "1     P4HB  ENSMUST00000026122        393       447                2   \n",
       "2    COX7C  ENSMUST00000131011        173       230                3   \n",
       "3      PKM  ENSMUST00000034834        236       296                4   \n",
       "4  LAPTM4B  ENSMUST00000022867        251       299                5   \n",
       "\n",
       "  Start_codon_ext  Proteomics_count_ext  Coverage_value_ext  Read_density  \\\n",
       "0             GTG                     0          100.000000      0.891892   \n",
       "1             TTG                     0           87.500000      0.872727   \n",
       "2             ACG                     0           66.666667      0.931034   \n",
       "3             CTG                     0           63.157895      0.934426   \n",
       "4             AAG                     0           80.000000      0.918367   \n",
       "\n",
       "                     Riboseq_Summary  \n",
       "0   GTG; 86-122; Rank: 1; cov: 100.0  \n",
       "1   TTG; 393-447; Rank: 2; cov: 87.5  \n",
       "2  ACG; 173-230; Rank: 3; cov: 66.67  \n",
       "3  CTG; 236-296; Rank: 4; cov: 63.16  \n",
       "4   AAG; 251-299; Rank: 5; cov: 80.0  "
      ]
     },
     "execution_count": 14,
     "metadata": {},
     "output_type": "execute_result"
    }
   ],
   "source": [
    "transl_with_all_codons.columns = ['gene_ext', 'tr_id1', 'Start_ext', 'Stop_ext', 'len_ext', \n",
    "                                 'global_rank_ext', 'type_all_codons', 'trips_viz_link', 'Start_codon_ext', \n",
    "                                 'Highframe rank', 'Highframe value',\n",
    "       'Lowframe rank', 'Lowframe value', 'Stop rank', 'Stop value',\n",
    "       'Start rank', 'Start value', 'Coverage rank', 'Coverage_value_ext',\n",
    "                                  'Inframe Count Rank', 'Inframe Count Value',\n",
    "       'Amino acid sequence', 'Proteomics_count_ext', 'Read_density']\n",
    "\n",
    "transl_with_all_codons2 = transl_with_all_codons[['gene_ext', 'tr_id1', 'Start_ext', 'Stop_ext', \n",
    "                                                 'global_rank_ext', 'Start_codon_ext', \n",
    "                                                 'Proteomics_count_ext', 'Coverage_value_ext', 'Read_density']]\n",
    "\n",
    "transl_with_all_codons2['Riboseq_Summary'] = transl_with_all_codons2['Start_codon_ext']+'; '+transl_with_all_codons2['Start_ext'].astype(str)+'-'+transl_with_all_codons2['Stop_ext'].astype(str)+'; Rank: '+transl_with_all_codons2['global_rank_ext'].astype(str)+'; cov: '+np.round(transl_with_all_codons2['Coverage_value_ext'],2).astype(str)\n",
    "\n",
    "\n",
    "transl_with_all_codons2[0:5]"
   ]
  },
  {
   "cell_type": "code",
   "execution_count": null,
   "metadata": {},
   "outputs": [],
   "source": []
  },
  {
   "cell_type": "code",
   "execution_count": 15,
   "metadata": {},
   "outputs": [
    {
     "data": {
      "text/plain": [
       "65"
      ]
     },
     "execution_count": 15,
     "metadata": {},
     "output_type": "execute_result"
    }
   ],
   "source": [
    "len(set(R_Set.gene.tolist()).intersection(transl_with_all_codons2[transl_with_all_codons2['global_rank_ext'] <= 500].gene_ext.tolist()))"
   ]
  },
  {
   "cell_type": "code",
   "execution_count": 16,
   "metadata": {},
   "outputs": [
    {
     "data": {
      "text/plain": [
       "17"
      ]
     },
     "execution_count": 16,
     "metadata": {},
     "output_type": "execute_result"
    }
   ],
   "source": [
    "len(set(P_Set.gene.tolist()).intersection(transl_with_all_codons2[transl_with_all_codons2['global_rank_ext'] <= 500].gene_ext.tolist()))"
   ]
  },
  {
   "cell_type": "code",
   "execution_count": null,
   "metadata": {},
   "outputs": [],
   "source": []
  },
  {
   "cell_type": "code",
   "execution_count": null,
   "metadata": {},
   "outputs": [],
   "source": []
  },
  {
   "cell_type": "markdown",
   "metadata": {},
   "source": [
    "# Remove ovlp with CDS "
   ]
  },
  {
   "cell_type": "code",
   "execution_count": 17,
   "metadata": {},
   "outputs": [],
   "source": [
    "def prepare_global_coo(path_to_file_with_global_coo, colname):\n",
    "    global_coo_g25 = pd.read_csv(path_to_file_with_global_coo, sep='\\t')\n",
    "    global_coo_g25_f = global_coo_g25[global_coo_g25['hit'] == True]\n",
    "    global_coo_g25_f = global_coo_g25_f.sort_values(by=['seqnames', 'start'])\n",
    "    global_coo_g25_f['global_coo'] = global_coo_g25_f['seqnames']+':'+global_coo_g25_f['start'].astype(str) +'-'+global_coo_g25_f['end'].astype(str)\n",
    "    global_coo_g25_f = global_coo_g25_f[['group_name', 'strand', 'global_coo']].groupby(['group_name', 'strand']).agg('+'.join).reset_index()\n",
    "    global_coo_g25_f.columns = ['tr_id', 'strand', colname]\n",
    "    return global_coo_g25_f"
   ]
  },
  {
   "cell_type": "code",
   "execution_count": 18,
   "metadata": {},
   "outputs": [],
   "source": [
    "meta_mice14['tr_id1'] = [x.split('.')[0] for x in meta_mice14['tr_id'].tolist()]"
   ]
  },
  {
   "cell_type": "markdown",
   "metadata": {},
   "source": [
    "### local coo of predicted extension "
   ]
  },
  {
   "cell_type": "code",
   "execution_count": 19,
   "metadata": {},
   "outputs": [
    {
     "name": "stderr",
     "output_type": "stream",
     "text": [
      "/home/alla/.local/lib/python3.7/site-packages/ipykernel_launcher.py:1: SettingWithCopyWarning: \n",
      "A value is trying to be set on a copy of a slice from a DataFrame.\n",
      "Try using .loc[row_indexer,col_indexer] = value instead\n",
      "\n",
      "See the caveats in the documentation: https://pandas.pydata.org/pandas-docs/stable/user_guide/indexing.html#returning-a-view-versus-a-copy\n",
      "  \"\"\"Entry point for launching an IPython kernel.\n",
      "/home/alla/.local/lib/python3.7/site-packages/ipykernel_launcher.py:4: SettingWithCopyWarning: \n",
      "A value is trying to be set on a copy of a slice from a DataFrame.\n",
      "Try using .loc[row_indexer,col_indexer] = value instead\n",
      "\n",
      "See the caveats in the documentation: https://pandas.pydata.org/pandas-docs/stable/user_guide/indexing.html#returning-a-view-versus-a-copy\n",
      "  after removing the cwd from sys.path.\n"
     ]
    }
   ],
   "source": [
    "transl_with_all_codons2['start'] = [int(x.split('; ')[1].split('-')[0]) for x in transl_with_all_codons2['Riboseq_Summary'].tolist()]\n",
    "\n",
    "\n",
    "transl_with_all_codons2['stop'] = [int(x.split('; ')[1].split('-')[1]) for x in transl_with_all_codons2['Riboseq_Summary'].tolist()]\n",
    "\n",
    "\n",
    "local_df = transl_with_all_codons2[['tr_id1', 'start', 'stop']].merge(meta_mice14[['tr_id', 'tr_id1']])[['tr_id', 'start', 'stop']]\n",
    "\n",
    "local_df.to_csv('tmp_res/mice14_nte_riboset.txt', sep='\\t', index=False)"
   ]
  },
  {
   "cell_type": "code",
   "execution_count": 20,
   "metadata": {},
   "outputs": [
    {
     "data": {
      "text/html": [
       "<div>\n",
       "<style scoped>\n",
       "    .dataframe tbody tr th:only-of-type {\n",
       "        vertical-align: middle;\n",
       "    }\n",
       "\n",
       "    .dataframe tbody tr th {\n",
       "        vertical-align: top;\n",
       "    }\n",
       "\n",
       "    .dataframe thead th {\n",
       "        text-align: right;\n",
       "    }\n",
       "</style>\n",
       "<table border=\"1\" class=\"dataframe\">\n",
       "  <thead>\n",
       "    <tr style=\"text-align: right;\">\n",
       "      <th></th>\n",
       "      <th>tr_id</th>\n",
       "      <th>strand</th>\n",
       "      <th>global_coo_ext</th>\n",
       "    </tr>\n",
       "  </thead>\n",
       "  <tbody>\n",
       "    <tr>\n",
       "      <th>0</th>\n",
       "      <td>ENSMUST00000000001.4</td>\n",
       "      <td>-</td>\n",
       "      <td>chr3:108146005-108146040</td>\n",
       "    </tr>\n",
       "    <tr>\n",
       "      <th>1</th>\n",
       "      <td>ENSMUST00000000003.13</td>\n",
       "      <td>-</td>\n",
       "      <td>chrX:77853483-77853566</td>\n",
       "    </tr>\n",
       "    <tr>\n",
       "      <th>2</th>\n",
       "      <td>ENSMUST00000000080.7</td>\n",
       "      <td>+</td>\n",
       "      <td>chr13:5861583-5861639</td>\n",
       "    </tr>\n",
       "    <tr>\n",
       "      <th>3</th>\n",
       "      <td>ENSMUST00000000095.6</td>\n",
       "      <td>+</td>\n",
       "      <td>chr11:85832967-85833107</td>\n",
       "    </tr>\n",
       "    <tr>\n",
       "      <th>4</th>\n",
       "      <td>ENSMUST00000000122.6</td>\n",
       "      <td>-</td>\n",
       "      <td>chr11:95587558-95587734</td>\n",
       "    </tr>\n",
       "    <tr>\n",
       "      <th>...</th>\n",
       "      <td>...</td>\n",
       "      <td>...</td>\n",
       "      <td>...</td>\n",
       "    </tr>\n",
       "    <tr>\n",
       "      <th>10450</th>\n",
       "      <td>ENSMUST00000223291.1</td>\n",
       "      <td>+</td>\n",
       "      <td>chr12:83526066-83526113</td>\n",
       "    </tr>\n",
       "    <tr>\n",
       "      <th>10451</th>\n",
       "      <td>ENSMUST00000223308.1</td>\n",
       "      <td>+</td>\n",
       "      <td>chr12:86734581-86734655</td>\n",
       "    </tr>\n",
       "    <tr>\n",
       "      <th>10452</th>\n",
       "      <td>ENSMUST00000223396.1</td>\n",
       "      <td>+</td>\n",
       "      <td>chr13:3538144-3538299</td>\n",
       "    </tr>\n",
       "    <tr>\n",
       "      <th>10453</th>\n",
       "      <td>ENSMUST00000223428.1</td>\n",
       "      <td>+</td>\n",
       "      <td>chr13:28257535-28257636</td>\n",
       "    </tr>\n",
       "    <tr>\n",
       "      <th>10454</th>\n",
       "      <td>ENSMUST00000223502.1</td>\n",
       "      <td>+</td>\n",
       "      <td>chr12:113014535-113014564</td>\n",
       "    </tr>\n",
       "  </tbody>\n",
       "</table>\n",
       "<p>10455 rows × 3 columns</p>\n",
       "</div>"
      ],
      "text/plain": [
       "                       tr_id strand             global_coo_ext\n",
       "0       ENSMUST00000000001.4      -   chr3:108146005-108146040\n",
       "1      ENSMUST00000000003.13      -     chrX:77853483-77853566\n",
       "2       ENSMUST00000000080.7      +      chr13:5861583-5861639\n",
       "3       ENSMUST00000000095.6      +    chr11:85832967-85833107\n",
       "4       ENSMUST00000000122.6      -    chr11:95587558-95587734\n",
       "...                      ...    ...                        ...\n",
       "10450   ENSMUST00000223291.1      +    chr12:83526066-83526113\n",
       "10451   ENSMUST00000223308.1      +    chr12:86734581-86734655\n",
       "10452   ENSMUST00000223396.1      +      chr13:3538144-3538299\n",
       "10453   ENSMUST00000223428.1      +    chr13:28257535-28257636\n",
       "10454   ENSMUST00000223502.1      +  chr12:113014535-113014564\n",
       "\n",
       "[10455 rows x 3 columns]"
      ]
     },
     "execution_count": 20,
     "metadata": {},
     "output_type": "execute_result"
    }
   ],
   "source": [
    "primary_global = prepare_global_coo(path_to_file_with_global_coo='tmp_res/mice14_nte_riboset_global_coo.txt',\n",
    "                                   colname = 'global_coo_ext')\n",
    "\n",
    "primary_global"
   ]
  },
  {
   "cell_type": "code",
   "execution_count": 21,
   "metadata": {},
   "outputs": [],
   "source": [
    "def get_bed(filepath, df):\n",
    "    '''\n",
    "    df: tr_id, strand, coo\n",
    "    '''\n",
    "    f = open(filepath, 'w')\n",
    "\n",
    "    for el in df.to_numpy():\n",
    "        coo = el[2].split('+')\n",
    "        strand = el[1]\n",
    "        tr_id = el[0]\n",
    "    \n",
    "        for coo_ in coo:\n",
    "            chrom = coo_.split(':')[0]\n",
    "            start = coo_.split(':')[1].split('-')[0]\n",
    "            stop = coo_.split(':')[1].split('-')[1]\n",
    "        \n",
    "        \n",
    "            if int(start) - int(stop) == 1:\n",
    "                f.write(chrom+'\\t'+start+'\\t'+str(int(stop)+1)+'\\t'+tr_id+'\\t1\\t'+strand+'\\n') \n",
    "                # where the length of the region is 0 nt\n",
    "            else:\n",
    "                f.write(chrom+'\\t'+start+'\\t'+stop+'\\t'+tr_id+'\\t1\\t'+strand+'\\n')\n",
    "            \n",
    "    f.close()  "
   ]
  },
  {
   "cell_type": "code",
   "execution_count": 22,
   "metadata": {},
   "outputs": [],
   "source": [
    "get_bed(filepath='tmp_res/mouse_riboset_global.bed',          \n",
    "        df=primary_global[['tr_id', 'strand', 'global_coo_ext']])"
   ]
  },
  {
   "cell_type": "code",
   "execution_count": null,
   "metadata": {},
   "outputs": [],
   "source": []
  },
  {
   "cell_type": "code",
   "execution_count": null,
   "metadata": {},
   "outputs": [],
   "source": []
  },
  {
   "cell_type": "markdown",
   "metadata": {},
   "source": [
    "### local coo of m14 CDS "
   ]
  },
  {
   "cell_type": "code",
   "execution_count": 23,
   "metadata": {},
   "outputs": [],
   "source": [
    "meta_mice14[['tr_id', 'cds_start_pos', 'cds_stop_pos']].to_csv('tmp_res/mice14_CDS_local_coo.txt', \n",
    "                                                               sep='\\t', \n",
    "                                                               index=False)"
   ]
  },
  {
   "cell_type": "code",
   "execution_count": 24,
   "metadata": {},
   "outputs": [],
   "source": [
    "cod_ex = pd.read_csv('tmp_res/mice14_CDS_global_coo.txt', sep='\\t')\n",
    "cod_ex = cod_ex[cod_ex['hit'] == True]\n",
    "cod_ex[['seqnames', 'start', 'end', 'group_name', 'exon_rank', 'strand']].to_csv('tmp_res/coding_exons_mice14_global.bed', sep='\\t', index=False, header=None)"
   ]
  },
  {
   "cell_type": "code",
   "execution_count": null,
   "metadata": {},
   "outputs": [],
   "source": []
  },
  {
   "cell_type": "code",
   "execution_count": null,
   "metadata": {},
   "outputs": [],
   "source": []
  },
  {
   "cell_type": "markdown",
   "metadata": {},
   "source": [
    "### bedtools intersect "
   ]
  },
  {
   "cell_type": "code",
   "execution_count": 25,
   "metadata": {},
   "outputs": [],
   "source": [
    "!bedtools sort -i tmp_res/coding_exons_mice14_global.bed > tmp_res/coding_exons_mice14_global.sorted.bed\n",
    "\n",
    "!bedtools sort -i tmp_res/mouse_riboset_global.bed > tmp_res/mouse_riboset_global.sorted.bed\n",
    "\n",
    "!bedtools intersect -a tmp_res/mouse_riboset_global.sorted.bed -b tmp_res/coding_exons_mice14_global.sorted.bed -wao -s > tmp_res/mouse_nte_ovlp_CDS.bed"
   ]
  },
  {
   "cell_type": "code",
   "execution_count": null,
   "metadata": {},
   "outputs": [],
   "source": []
  },
  {
   "cell_type": "code",
   "execution_count": null,
   "metadata": {},
   "outputs": [],
   "source": []
  },
  {
   "cell_type": "code",
   "execution_count": null,
   "metadata": {},
   "outputs": [],
   "source": []
  },
  {
   "cell_type": "markdown",
   "metadata": {},
   "source": [
    "### get max ovlp "
   ]
  },
  {
   "cell_type": "code",
   "execution_count": 29,
   "metadata": {},
   "outputs": [
    {
     "name": "stdout",
     "output_type": "stream",
     "text": [
      "10455 (10455, 3)\n"
     ]
    },
    {
     "data": {
      "text/html": [
       "<div>\n",
       "<style scoped>\n",
       "    .dataframe tbody tr th:only-of-type {\n",
       "        vertical-align: middle;\n",
       "    }\n",
       "\n",
       "    .dataframe tbody tr th {\n",
       "        vertical-align: top;\n",
       "    }\n",
       "\n",
       "    .dataframe thead th {\n",
       "        text-align: right;\n",
       "    }\n",
       "</style>\n",
       "<table border=\"1\" class=\"dataframe\">\n",
       "  <thead>\n",
       "    <tr style=\"text-align: right;\">\n",
       "      <th></th>\n",
       "      <th>tr_id</th>\n",
       "      <th>tr_id_cod</th>\n",
       "      <th>max_sum_overlap_g25_all_exons</th>\n",
       "    </tr>\n",
       "  </thead>\n",
       "  <tbody>\n",
       "    <tr>\n",
       "      <th>0</th>\n",
       "      <td>ENSMUST00000000001.4</td>\n",
       "      <td>.</td>\n",
       "      <td>0</td>\n",
       "    </tr>\n",
       "    <tr>\n",
       "      <th>1</th>\n",
       "      <td>ENSMUST00000000003.13</td>\n",
       "      <td>.</td>\n",
       "      <td>0</td>\n",
       "    </tr>\n",
       "    <tr>\n",
       "      <th>2</th>\n",
       "      <td>ENSMUST00000000080.7</td>\n",
       "      <td>.</td>\n",
       "      <td>0</td>\n",
       "    </tr>\n",
       "  </tbody>\n",
       "</table>\n",
       "</div>"
      ],
      "text/plain": [
       "                   tr_id tr_id_cod  max_sum_overlap_g25_all_exons\n",
       "0   ENSMUST00000000001.4         .                              0\n",
       "1  ENSMUST00000000003.13         .                              0\n",
       "2   ENSMUST00000000080.7         .                              0"
      ]
     },
     "execution_count": 29,
     "metadata": {},
     "output_type": "execute_result"
    }
   ],
   "source": [
    "overlap_all_exons = pd.read_csv('tmp_res/mouse_nte_ovlp_CDS.bed', sep='\\t', header=None) \n",
    "overlap_all_exons.columns = [0, 1, 2, 'tr_id_ext', 4, 5, 6, 7, 8, 'tr_id_cod', 10, 11, 'max_overlap_g25_all_exons']\n",
    "\n",
    "# find sum overlap per pair of transcript with extension and transcript with coding exons \n",
    "#overlap_all_exons_g25_ = overlap_all_exons_g25[overlap_all_exons_g25[10] != -1]\n",
    "overlap_all_exons_sum = overlap_all_exons.groupby(by=['tr_id_ext', 'tr_id_cod'])['max_overlap_g25_all_exons'].sum().reset_index()\n",
    "\n",
    "# find max overall (regardkess of frame)\n",
    "overlap_all_exons_sum_max = overlap_all_exons_sum.loc[overlap_all_exons_sum.groupby('tr_id_ext')['max_overlap_g25_all_exons'].idxmax()]\n",
    "\n",
    "print (overlap_all_exons_sum_max.tr_id_ext.nunique(), overlap_all_exons_sum_max.shape)\n",
    "\n",
    "overlap_all_exons_sum_max.columns = ['tr_id', 'tr_id_cod', 'max_sum_overlap_g25_all_exons']\n",
    "\n",
    "overlap_all_exons_sum_max[0:3]"
   ]
  },
  {
   "cell_type": "code",
   "execution_count": 30,
   "metadata": {},
   "outputs": [],
   "source": [
    "final_df = transl_with_all_codons2.merge(meta_mice14[['tr_id', 'tr_id1']], on='tr_id1', how='inner').merge(primary_global, on=['tr_id'], how='inner').merge(overlap_all_exons_sum_max, on=['tr_id'], how='inner')"
   ]
  },
  {
   "cell_type": "code",
   "execution_count": 31,
   "metadata": {},
   "outputs": [
    {
     "data": {
      "text/plain": [
       "(10455, 10455)"
      ]
     },
     "execution_count": 31,
     "metadata": {},
     "output_type": "execute_result"
    }
   ],
   "source": [
    "final_df.shape[0], transl_with_all_codons2.shape[0]"
   ]
  },
  {
   "cell_type": "code",
   "execution_count": 32,
   "metadata": {},
   "outputs": [],
   "source": [
    "final_df.to_csv('tmp_res/mouse_df_Trips_viz_max_ovlp.txt', sep='\\t', index=False)"
   ]
  },
  {
   "cell_type": "code",
   "execution_count": 110,
   "metadata": {},
   "outputs": [
    {
     "data": {
      "text/html": [
       "<div>\n",
       "<style scoped>\n",
       "    .dataframe tbody tr th:only-of-type {\n",
       "        vertical-align: middle;\n",
       "    }\n",
       "\n",
       "    .dataframe tbody tr th {\n",
       "        vertical-align: top;\n",
       "    }\n",
       "\n",
       "    .dataframe thead th {\n",
       "        text-align: right;\n",
       "    }\n",
       "</style>\n",
       "<table border=\"1\" class=\"dataframe\">\n",
       "  <thead>\n",
       "    <tr style=\"text-align: right;\">\n",
       "      <th></th>\n",
       "      <th>gene_ext</th>\n",
       "      <th>tr_id1</th>\n",
       "      <th>Start_ext</th>\n",
       "      <th>Stop_ext</th>\n",
       "      <th>global_rank_ext</th>\n",
       "      <th>Start_codon_ext</th>\n",
       "      <th>Proteomics_count_ext</th>\n",
       "      <th>Coverage_value_ext</th>\n",
       "      <th>Read_density</th>\n",
       "      <th>Riboseq_Summary</th>\n",
       "      <th>start</th>\n",
       "      <th>stop</th>\n",
       "      <th>tr_id</th>\n",
       "      <th>strand</th>\n",
       "      <th>global_coo_ext</th>\n",
       "      <th>tr_id_cod</th>\n",
       "      <th>max_sum_overlap_g25_all_exons</th>\n",
       "    </tr>\n",
       "  </thead>\n",
       "  <tbody>\n",
       "    <tr>\n",
       "      <th>0</th>\n",
       "      <td>CYB5R3</td>\n",
       "      <td>ENSMUST00000162178</td>\n",
       "      <td>86</td>\n",
       "      <td>122</td>\n",
       "      <td>1</td>\n",
       "      <td>GTG</td>\n",
       "      <td>0</td>\n",
       "      <td>100.0</td>\n",
       "      <td>0.891892</td>\n",
       "      <td>GTG; 86-122; Rank: 1; cov: 100.0</td>\n",
       "      <td>86</td>\n",
       "      <td>122</td>\n",
       "      <td>ENSMUST00000162178.7</td>\n",
       "      <td>-</td>\n",
       "      <td>chr15:83166158-83166193</td>\n",
       "      <td>ENSMUST00000018186.15</td>\n",
       "      <td>35</td>\n",
       "    </tr>\n",
       "    <tr>\n",
       "      <th>1</th>\n",
       "      <td>P4HB</td>\n",
       "      <td>ENSMUST00000026122</td>\n",
       "      <td>393</td>\n",
       "      <td>447</td>\n",
       "      <td>2</td>\n",
       "      <td>TTG</td>\n",
       "      <td>0</td>\n",
       "      <td>87.5</td>\n",
       "      <td>0.872727</td>\n",
       "      <td>TTG; 393-447; Rank: 2; cov: 87.5</td>\n",
       "      <td>393</td>\n",
       "      <td>447</td>\n",
       "      <td>ENSMUST00000026122.10</td>\n",
       "      <td>-</td>\n",
       "      <td>chr11:120572807-120572860</td>\n",
       "      <td>.</td>\n",
       "      <td>0</td>\n",
       "    </tr>\n",
       "  </tbody>\n",
       "</table>\n",
       "</div>"
      ],
      "text/plain": [
       "  gene_ext              tr_id1  Start_ext  Stop_ext  global_rank_ext  \\\n",
       "0   CYB5R3  ENSMUST00000162178         86       122                1   \n",
       "1     P4HB  ENSMUST00000026122        393       447                2   \n",
       "\n",
       "  Start_codon_ext  Proteomics_count_ext  Coverage_value_ext  Read_density  \\\n",
       "0             GTG                     0               100.0      0.891892   \n",
       "1             TTG                     0                87.5      0.872727   \n",
       "\n",
       "                    Riboseq_Summary  start  stop                  tr_id  \\\n",
       "0  GTG; 86-122; Rank: 1; cov: 100.0     86   122   ENSMUST00000162178.7   \n",
       "1  TTG; 393-447; Rank: 2; cov: 87.5    393   447  ENSMUST00000026122.10   \n",
       "\n",
       "  strand             global_coo_ext              tr_id_cod  \\\n",
       "0      -    chr15:83166158-83166193  ENSMUST00000018186.15   \n",
       "1      -  chr11:120572807-120572860                      .   \n",
       "\n",
       "   max_sum_overlap_g25_all_exons  \n",
       "0                             35  \n",
       "1                              0  "
      ]
     },
     "execution_count": 110,
     "metadata": {},
     "output_type": "execute_result"
    }
   ],
   "source": [
    "final_df[0:2]"
   ]
  },
  {
   "cell_type": "code",
   "execution_count": 111,
   "metadata": {},
   "outputs": [],
   "source": [
    "final_df_500_and_no_ovlp = final_df[(final_df['global_rank_ext'] <= 500) & (final_df['max_sum_overlap_g25_all_exons'] == 0)]"
   ]
  },
  {
   "cell_type": "code",
   "execution_count": 112,
   "metadata": {},
   "outputs": [
    {
     "data": {
      "text/plain": [
       "481"
      ]
     },
     "execution_count": 112,
     "metadata": {},
     "output_type": "execute_result"
    }
   ],
   "source": [
    "final_df_500_and_no_ovlp['gene_ext'].nunique()"
   ]
  },
  {
   "cell_type": "markdown",
   "metadata": {},
   "source": [
    "# Ovlp with human RiboSET and PhyloSET"
   ]
  },
  {
   "cell_type": "code",
   "execution_count": 113,
   "metadata": {},
   "outputs": [
    {
     "data": {
      "text/plain": [
       "64"
      ]
     },
     "execution_count": 113,
     "metadata": {},
     "output_type": "execute_result"
    }
   ],
   "source": [
    "len(set(R_Set.gene.tolist()).intersection(final_df_500_and_no_ovlp['gene_ext'].tolist()))"
   ]
  },
  {
   "cell_type": "code",
   "execution_count": 114,
   "metadata": {},
   "outputs": [],
   "source": [
    "final_df_500_and_no_ovlp[['gene_ext', 'tr_id', 'global_coo_ext', 'strand', 'Riboseq_Summary']].to_csv('tmp_res/mRiboSET.txt', sep='\\t', index=False)"
   ]
  },
  {
   "cell_type": "code",
   "execution_count": 122,
   "metadata": {},
   "outputs": [
    {
     "data": {
      "text/html": [
       "<div>\n",
       "<style scoped>\n",
       "    .dataframe tbody tr th:only-of-type {\n",
       "        vertical-align: middle;\n",
       "    }\n",
       "\n",
       "    .dataframe tbody tr th {\n",
       "        vertical-align: top;\n",
       "    }\n",
       "\n",
       "    .dataframe thead th {\n",
       "        text-align: right;\n",
       "    }\n",
       "</style>\n",
       "<table border=\"1\" class=\"dataframe\">\n",
       "  <thead>\n",
       "    <tr style=\"text-align: right;\">\n",
       "      <th></th>\n",
       "      <th>gene_mouse</th>\n",
       "      <th>gene_human</th>\n",
       "      <th>gene_mouse_t</th>\n",
       "      <th>gene_mouse_ext</th>\n",
       "    </tr>\n",
       "  </thead>\n",
       "  <tbody>\n",
       "    <tr>\n",
       "      <th>359</th>\n",
       "      <td>Fam168b</td>\n",
       "      <td>FAM168B</td>\n",
       "      <td>FAM168B</td>\n",
       "      <td>FAM168B</td>\n",
       "    </tr>\n",
       "    <tr>\n",
       "      <th>365</th>\n",
       "      <td>Plekhb2</td>\n",
       "      <td>PLEKHB2</td>\n",
       "      <td>PLEKHB2</td>\n",
       "      <td>PLEKHB2</td>\n",
       "    </tr>\n",
       "    <tr>\n",
       "      <th>496</th>\n",
       "      <td>Txndc9</td>\n",
       "      <td>TXNDC9</td>\n",
       "      <td>TXNDC9</td>\n",
       "      <td>TXNDC9</td>\n",
       "    </tr>\n",
       "    <tr>\n",
       "      <th>540</th>\n",
       "      <td>Rnf149</td>\n",
       "      <td>RNF149</td>\n",
       "      <td>RNF149</td>\n",
       "      <td>RNF149</td>\n",
       "    </tr>\n",
       "  </tbody>\n",
       "</table>\n",
       "</div>"
      ],
      "text/plain": [
       "    gene_mouse gene_human gene_mouse_t gene_mouse_ext\n",
       "359    Fam168b    FAM168B      FAM168B        FAM168B\n",
       "365    Plekhb2    PLEKHB2      PLEKHB2        PLEKHB2\n",
       "496     Txndc9     TXNDC9       TXNDC9         TXNDC9\n",
       "540     Rnf149     RNF149       RNF149         RNF149"
      ]
     },
     "execution_count": 122,
     "metadata": {},
     "output_type": "execute_result"
    }
   ],
   "source": [
    "R_Set_match =  R_Set_match.fillna('-')\n",
    "\n",
    "R_Set_match['gene_mouse_ext'] = [x.upper() for x in R_Set_match['gene_mouse'].tolist()]\n",
    "\n",
    "R_Set_match[0:4]"
   ]
  },
  {
   "cell_type": "code",
   "execution_count": 125,
   "metadata": {},
   "outputs": [
    {
     "data": {
      "text/plain": [
       "68"
      ]
     },
     "execution_count": 125,
     "metadata": {},
     "output_type": "execute_result"
    }
   ],
   "source": [
    "a = final_df_500_and_no_ovlp[['gene_ext', 'tr_id', 'global_coo_ext', 'strand', 'Riboseq_Summary']]\n",
    "\n",
    "a.columns = ['gene_mouse_ext', 'tr_id', 'global_coo_ext', 'strand', 'Riboseq_Summary']\n",
    "\n",
    "a1 = a.merge(R_Set_match[['gene_mouse_ext', 'gene_human']], on='gene_mouse_ext', how='left')\n",
    "\n",
    "a1.dropna().gene_human.nunique()"
   ]
  },
  {
   "cell_type": "code",
   "execution_count": 127,
   "metadata": {},
   "outputs": [],
   "source": [
    "a1.to_csv('tmp_res/mRiboSET.txt', sep='\\t', index=False)"
   ]
  },
  {
   "cell_type": "code",
   "execution_count": null,
   "metadata": {},
   "outputs": [],
   "source": []
  }
 ],
 "metadata": {
  "kernelspec": {
   "display_name": "Python 3",
   "language": "python",
   "name": "python3"
  },
  "language_info": {
   "codemirror_mode": {
    "name": "ipython",
    "version": 3
   },
   "file_extension": ".py",
   "mimetype": "text/x-python",
   "name": "python",
   "nbconvert_exporter": "python",
   "pygments_lexer": "ipython3",
   "version": "3.7.6"
  }
 },
 "nbformat": 4,
 "nbformat_minor": 2
}
