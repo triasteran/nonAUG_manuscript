{
 "cells": [
  {
   "cell_type": "markdown",
   "metadata": {},
   "source": [
    "# Theoretical NTE"
   ]
  },
  {
   "cell_type": "code",
   "execution_count": 2,
   "metadata": {},
   "outputs": [],
   "source": [
    "library(dplyr)\n",
    "library(GenomicFeatures)"
   ]
  },
  {
   "cell_type": "code",
   "execution_count": 1,
   "metadata": {},
   "outputs": [
    {
     "ename": "ERROR",
     "evalue": "Error in makeTxDbFromGFF(\"data/gencode.v25.annotation.gtf\"): could not find function \"makeTxDbFromGFF\"\n",
     "output_type": "error",
     "traceback": [
      "Error in makeTxDbFromGFF(\"data/gencode.v25.annotation.gtf\"): could not find function \"makeTxDbFromGFF\"\nTraceback:\n"
     ]
    }
   ],
   "source": [
    "# this scripts transform local (transcriptomic) coordinates of extensions into global (genomic) coordinates using .gtf file. \n",
    "txdb <- makeTxDbFromGFF('data/gencode.v25.annotation.gtf')\n",
    "cr <- read.csv('tmp_res/local_coo_primary_NTE.txt',  sep='\\t', stringsAsFactors = FALSE)\n",
    "\n",
    "tr_names <- cr$tr_id\n",
    "start <- cr$N_term_start1 + 1 #it was zero  # cds_start_pos\tutr5_start\n",
    "end <- cr$N_term_end1\n",
    "\n",
    "exons <- exonsBy(txdb, by=\"tx\", use.names=TRUE)[tr_names]\n",
    "x <- GRanges(tr_names, IRanges(start=start, end=end)) #,  \n",
    "out <- data.frame(pmapFromTranscripts(x, exons))\n",
    "write.table(out, 'tmp_res/primary_NTE_global_coo.txt', sep='\\t')"
   ]
  },
  {
   "cell_type": "markdown",
   "metadata": {},
   "source": [
    "# 50-codons of NTE "
   ]
  },
  {
   "cell_type": "code",
   "execution_count": 5,
   "metadata": {},
   "outputs": [
    {
     "name": "stdout",
     "output_type": "stream",
     "text": [
      "[1] 77820\n",
      "[1] 77820\n",
      "[1] 77820\n"
     ]
    }
   ],
   "source": [
    "cr <- read.csv('tmp_res/local_coo_50codons_and_less.txt',  sep='\\t', stringsAsFactors = FALSE)\n",
    "\n",
    "tr_names <- cr$tr_id\n",
    "start <- cr$X50len_flag + 1 #it was zero  # cds_start_pos\tutr5_start\n",
    "end <- cr$N_term_end1 \n",
    "\n",
    "print (length(tr_names))\n",
    "print (length(start))\n",
    "print (length(end))\n",
    "\n",
    "exons <- exonsBy(txdb, by=\"tx\", use.names=TRUE)[tr_names]\n",
    "x <- GRanges(tr_names, IRanges(start=start, end=end)) #,  \n",
    "out <- data.frame(pmapFromTranscripts(x, exons))\n",
    "write.table(out, 'tmp_res/global_coo_50codons_and_less.txt', sep='\\t')"
   ]
  },
  {
   "cell_type": "code",
   "execution_count": null,
   "metadata": {},
   "outputs": [],
   "source": []
  },
  {
   "cell_type": "markdown",
   "metadata": {},
   "source": [
    "# Gencode25: coding exons "
   ]
  },
  {
   "cell_type": "code",
   "execution_count": 6,
   "metadata": {},
   "outputs": [
    {
     "name": "stdout",
     "output_type": "stream",
     "text": [
      "[1] 94359\n",
      "[1] 94359\n",
      "[1] 94359\n"
     ]
    }
   ],
   "source": [
    "cr <- read.csv('tmp_res/metadata_pc_g25.txt',  sep='\\t', stringsAsFactors = FALSE)\n",
    "\n",
    "tr_names <- cr$tr_id\n",
    "start <- cr$cds_start_pos + 1 #it was zero  # cds_start_pos\tutr5_start\n",
    "end <- cr$cds_stop_pos \n",
    "\n",
    "print (length(tr_names))\n",
    "print (length(start))\n",
    "print (length(end))\n",
    "\n",
    "exons <- exonsBy(txdb, by=\"tx\", use.names=TRUE)[tr_names]\n",
    "x <- GRanges(tr_names, IRanges(start=start, end=end)) #,  \n",
    "out <- data.frame(pmapFromTranscripts(x, exons))\n",
    "write.table(out, 'tmp_res/coding_exons_g25_global.txt', sep='\\t')"
   ]
  },
  {
   "cell_type": "code",
   "execution_count": null,
   "metadata": {},
   "outputs": [],
   "source": []
  },
  {
   "cell_type": "markdown",
   "metadata": {},
   "source": [
    "# Gencode35: coding exons "
   ]
  },
  {
   "cell_type": "code",
   "execution_count": 8,
   "metadata": {},
   "outputs": [
    {
     "name": "stderr",
     "output_type": "stream",
     "text": [
      "Import genomic features from the file as a GRanges object ... \n",
      "OK\n",
      "\n",
      "Prepare the 'metadata' data frame ... \n",
      "OK\n",
      "\n",
      "Make the TxDb object ... \n",
      "Warning message in .get_cds_IDX(mcols0$type, mcols0$phase):\n",
      "“The \"phase\" metadata column contains non-NA values for features of type\n",
      "  stop_codon. This information was ignored.”\n",
      "OK\n",
      "\n"
     ]
    },
    {
     "name": "stdout",
     "output_type": "stream",
     "text": [
      "[1] 101486\n",
      "[1] 101486\n",
      "[1] 101486\n"
     ]
    }
   ],
   "source": [
    "txdb_g35 <- makeTxDbFromGFF('data/gencode.v35.annotation.gtf')\n",
    "\n",
    "cr <- read.csv('tmp_res/metadata_pc_g35.txt',  sep='\\t', stringsAsFactors = FALSE)\n",
    "\n",
    "tr_names <- cr$tr_id\n",
    "start <- cr$cds_start_pos + 1 #it was zero  # cds_start_pos\tutr5_start\n",
    "end <- cr$cds_stop_pos \n",
    "\n",
    "print (length(tr_names))\n",
    "print (length(start))\n",
    "print (length(end))\n",
    "\n",
    "exons <- exonsBy(txdb_g35, by=\"tx\", use.names=TRUE)[tr_names]\n",
    "x <- GRanges(tr_names, IRanges(start=start, end=end)) #,  \n",
    "out <- data.frame(pmapFromTranscripts(x, exons))\n",
    "write.table(out, 'tmp_res/coding_exons_g35_global.txt', sep='\\t')"
   ]
  },
  {
   "cell_type": "code",
   "execution_count": null,
   "metadata": {},
   "outputs": [],
   "source": []
  },
  {
   "cell_type": "code",
   "execution_count": null,
   "metadata": {},
   "outputs": [],
   "source": []
  },
  {
   "cell_type": "markdown",
   "metadata": {},
   "source": [
    "# PCSF per codon: global coordinates of codons in NTE+50 codons of CDS"
   ]
  },
  {
   "cell_type": "markdown",
   "metadata": {},
   "source": [
    "### PhyloSET"
   ]
  },
  {
   "cell_type": "code",
   "execution_count": 2,
   "metadata": {},
   "outputs": [
    {
     "name": "stderr",
     "output_type": "stream",
     "text": [
      "Import genomic features from the file as a GRanges object ... \n",
      "OK\n",
      "\n",
      "Prepare the 'metadata' data frame ... \n",
      "OK\n",
      "\n",
      "Make the TxDb object ... \n",
      "Warning message in .get_cds_IDX(mcols0$type, mcols0$phase):\n",
      "“The \"phase\" metadata column contains non-NA values for features of type\n",
      "  stop_codon. This information was ignored.”\n",
      "OK\n",
      "\n"
     ]
    }
   ],
   "source": [
    "txdb <- makeTxDbFromGFF('data/gencode.v25.annotation.gtf')\n",
    "cr <- read.csv('tmp_res/local_coo_of_codons_for_PCSF_plot_PhyloSET_plus50codonsCDS.txt',  sep='\\t', stringsAsFactors = FALSE)"
   ]
  },
  {
   "cell_type": "code",
   "execution_count": 3,
   "metadata": {},
   "outputs": [],
   "source": [
    "tr_names <- cr$tr_id\n",
    "start <- cr$codon_start+ 1 #it was zero  # cds_start_pos\tutr5_start\n",
    "end <- cr$codon_end\n",
    "\n",
    "exons <- exonsBy(txdb, by=\"tx\", use.names=TRUE)[tr_names]\n",
    "x <- GRanges(tr_names, IRanges(start=start, end=end)) #,  \n",
    "out <- data.frame(pmapFromTranscripts(x, exons))\n",
    "write.table(out, 'tmp_res/global_coo_of_codons_for_PCSF_plot_PhyloSET_plus50codonsCDS.txt', sep='\\t')"
   ]
  },
  {
   "cell_type": "code",
   "execution_count": null,
   "metadata": {},
   "outputs": [],
   "source": []
  },
  {
   "cell_type": "markdown",
   "metadata": {},
   "source": [
    "### RiboSET"
   ]
  },
  {
   "cell_type": "code",
   "execution_count": 5,
   "metadata": {},
   "outputs": [],
   "source": [
    "cr <- read.csv('tmp_res/local_coo_of_codons_for_PCSF_plot_RiboSET_plus50codonsCDS.txt',  sep='\\t', stringsAsFactors = FALSE)\n",
    "\n",
    "\n",
    "tr_names <- cr$tr_id\n",
    "start <- cr$codon_start+ 1 #it was zero  # cds_start_pos\tutr5_start\n",
    "end <- cr$codon_end\n",
    "\n",
    "exons <- exonsBy(txdb, by=\"tx\", use.names=TRUE)[tr_names]\n",
    "x <- GRanges(tr_names, IRanges(start=start, end=end)) #,  \n",
    "out <- data.frame(pmapFromTranscripts(x, exons))\n",
    "write.table(out, 'tmp_res/global_coo_of_codons_for_PCSF_plot_RiboSET_plus50codonsCDS.txt', sep='\\t')"
   ]
  },
  {
   "cell_type": "code",
   "execution_count": null,
   "metadata": {},
   "outputs": [],
   "source": []
  },
  {
   "cell_type": "code",
   "execution_count": null,
   "metadata": {},
   "outputs": [],
   "source": []
  },
  {
   "cell_type": "markdown",
   "metadata": {},
   "source": [
    "# CYTH2: NTE+50codons of CDS "
   ]
  },
  {
   "cell_type": "code",
   "execution_count": 8,
   "metadata": {},
   "outputs": [
    {
     "data": {
      "text/html": [
       "<table>\n",
       "<caption>A data.frame: 2 × 11</caption>\n",
       "<thead>\n",
       "\t<tr><th scope=col>group</th><th scope=col>group_name</th><th scope=col>seqnames</th><th scope=col>start</th><th scope=col>end</th><th scope=col>width</th><th scope=col>strand</th><th scope=col>exon_id</th><th scope=col>exon_name</th><th scope=col>exon_rank</th><th scope=col>hit</th></tr>\n",
       "\t<tr><th scope=col>&lt;int&gt;</th><th scope=col>&lt;chr&gt;</th><th scope=col>&lt;fct&gt;</th><th scope=col>&lt;int&gt;</th><th scope=col>&lt;int&gt;</th><th scope=col>&lt;int&gt;</th><th scope=col>&lt;fct&gt;</th><th scope=col>&lt;int&gt;</th><th scope=col>&lt;chr&gt;</th><th scope=col>&lt;int&gt;</th><th scope=col>&lt;lgl&gt;</th></tr>\n",
       "</thead>\n",
       "<tbody>\n",
       "\t<tr><td>1</td><td>ENST00000452733.6</td><td>chr19</td><td>48469334</td><td>48469526</td><td>193</td><td>+</td><td>592437</td><td>ENSE00001833864.1</td><td>1</td><td>TRUE</td></tr>\n",
       "\t<tr><td>1</td><td>ENST00000452733.6</td><td>chr19</td><td>48470353</td><td>48470483</td><td>131</td><td>+</td><td>592447</td><td>ENSE00003716163.1</td><td>2</td><td>TRUE</td></tr>\n",
       "</tbody>\n",
       "</table>\n"
      ],
      "text/latex": [
       "A data.frame: 2 × 11\n",
       "\\begin{tabular}{lllllllllll}\n",
       " group & group\\_name & seqnames & start & end & width & strand & exon\\_id & exon\\_name & exon\\_rank & hit\\\\\n",
       " <int> & <chr> & <fct> & <int> & <int> & <int> & <fct> & <int> & <chr> & <int> & <lgl>\\\\\n",
       "\\hline\n",
       "\t 1 & ENST00000452733.6 & chr19 & 48469334 & 48469526 & 193 & + & 592437 & ENSE00001833864.1 & 1 & TRUE\\\\\n",
       "\t 1 & ENST00000452733.6 & chr19 & 48470353 & 48470483 & 131 & + & 592447 & ENSE00003716163.1 & 2 & TRUE\\\\\n",
       "\\end{tabular}\n"
      ],
      "text/markdown": [
       "\n",
       "A data.frame: 2 × 11\n",
       "\n",
       "| group &lt;int&gt; | group_name &lt;chr&gt; | seqnames &lt;fct&gt; | start &lt;int&gt; | end &lt;int&gt; | width &lt;int&gt; | strand &lt;fct&gt; | exon_id &lt;int&gt; | exon_name &lt;chr&gt; | exon_rank &lt;int&gt; | hit &lt;lgl&gt; |\n",
       "|---|---|---|---|---|---|---|---|---|---|---|\n",
       "| 1 | ENST00000452733.6 | chr19 | 48469334 | 48469526 | 193 | + | 592437 | ENSE00001833864.1 | 1 | TRUE |\n",
       "| 1 | ENST00000452733.6 | chr19 | 48470353 | 48470483 | 131 | + | 592447 | ENSE00003716163.1 | 2 | TRUE |\n",
       "\n"
      ],
      "text/plain": [
       "  group group_name        seqnames start    end      width strand exon_id\n",
       "1 1     ENST00000452733.6 chr19    48469334 48469526 193   +      592437 \n",
       "2 1     ENST00000452733.6 chr19    48470353 48470483 131   +      592447 \n",
       "  exon_name         exon_rank hit \n",
       "1 ENSE00001833864.1 1         TRUE\n",
       "2 ENSE00003716163.1 2         TRUE"
      ]
     },
     "metadata": {},
     "output_type": "display_data"
    }
   ],
   "source": [
    "tr_names <- c('ENST00000452733.6')\n",
    "start <- c(302+1)\n",
    "end <- c(626)\n",
    "\n",
    "exons <- exonsBy(txdb, by=\"tx\", use.names=TRUE)[tr_names]\n",
    "x <- GRanges(tr_names, IRanges(start=start, end=end)) #,  \n",
    "out <- data.frame(pmapFromTranscripts(x, exons))\n",
    "\n",
    "out %>% filter(hit == TRUE)"
   ]
  },
  {
   "cell_type": "code",
   "execution_count": null,
   "metadata": {},
   "outputs": [],
   "source": [
    "chr19:48469334-48469526+chr19:48470353-48470483"
   ]
  },
  {
   "cell_type": "code",
   "execution_count": null,
   "metadata": {},
   "outputs": [],
   "source": []
  },
  {
   "cell_type": "code",
   "execution_count": null,
   "metadata": {},
   "outputs": [],
   "source": []
  },
  {
   "cell_type": "code",
   "execution_count": null,
   "metadata": {},
   "outputs": [],
   "source": []
  },
  {
   "cell_type": "markdown",
   "metadata": {},
   "source": [
    "# MARVELD1: NTE+50codons of CDS "
   ]
  },
  {
   "cell_type": "code",
   "execution_count": 3,
   "metadata": {},
   "outputs": [
    {
     "name": "stderr",
     "output_type": "stream",
     "text": [
      "Import genomic features from the file as a GRanges object ... \n",
      "OK\n",
      "\n",
      "Prepare the 'metadata' data frame ... \n",
      "OK\n",
      "\n",
      "Make the TxDb object ... \n",
      "Warning message in .get_cds_IDX(mcols0$type, mcols0$phase):\n",
      "“The \"phase\" metadata column contains non-NA values for features of type\n",
      "  stop_codon. This information was ignored.”\n",
      "OK\n",
      "\n"
     ]
    }
   ],
   "source": [
    "txdb <- makeTxDbFromGFF('data/gencode.v25.annotation.gtf')"
   ]
  },
  {
   "cell_type": "code",
   "execution_count": 3,
   "metadata": {},
   "outputs": [
    {
     "data": {
      "text/html": [
       "<table>\n",
       "<caption>A data.frame: 1 × 11</caption>\n",
       "<thead>\n",
       "\t<tr><th scope=col>group</th><th scope=col>group_name</th><th scope=col>seqnames</th><th scope=col>start</th><th scope=col>end</th><th scope=col>width</th><th scope=col>strand</th><th scope=col>exon_id</th><th scope=col>exon_name</th><th scope=col>exon_rank</th><th scope=col>hit</th></tr>\n",
       "\t<tr><th scope=col>&lt;int&gt;</th><th scope=col>&lt;chr&gt;</th><th scope=col>&lt;fct&gt;</th><th scope=col>&lt;int&gt;</th><th scope=col>&lt;int&gt;</th><th scope=col>&lt;int&gt;</th><th scope=col>&lt;fct&gt;</th><th scope=col>&lt;int&gt;</th><th scope=col>&lt;chr&gt;</th><th scope=col>&lt;int&gt;</th><th scope=col>&lt;lgl&gt;</th></tr>\n",
       "</thead>\n",
       "<tbody>\n",
       "\t<tr><td>1</td><td>ENST00000285605.7</td><td>chr10</td><td>97713751</td><td>97714026</td><td>276</td><td>+</td><td>331305</td><td>ENSE00001019945.6</td><td>1</td><td>TRUE</td></tr>\n",
       "</tbody>\n",
       "</table>\n"
      ],
      "text/latex": [
       "A data.frame: 1 × 11\n",
       "\\begin{tabular}{lllllllllll}\n",
       " group & group\\_name & seqnames & start & end & width & strand & exon\\_id & exon\\_name & exon\\_rank & hit\\\\\n",
       " <int> & <chr> & <fct> & <int> & <int> & <int> & <fct> & <int> & <chr> & <int> & <lgl>\\\\\n",
       "\\hline\n",
       "\t 1 & ENST00000285605.7 & chr10 & 97713751 & 97714026 & 276 & + & 331305 & ENSE00001019945.6 & 1 & TRUE\\\\\n",
       "\\end{tabular}\n"
      ],
      "text/markdown": [
       "\n",
       "A data.frame: 1 × 11\n",
       "\n",
       "| group &lt;int&gt; | group_name &lt;chr&gt; | seqnames &lt;fct&gt; | start &lt;int&gt; | end &lt;int&gt; | width &lt;int&gt; | strand &lt;fct&gt; | exon_id &lt;int&gt; | exon_name &lt;chr&gt; | exon_rank &lt;int&gt; | hit &lt;lgl&gt; |\n",
       "|---|---|---|---|---|---|---|---|---|---|---|\n",
       "| 1 | ENST00000285605.7 | chr10 | 97713751 | 97714026 | 276 | + | 331305 | ENSE00001019945.6 | 1 | TRUE |\n",
       "\n"
      ],
      "text/plain": [
       "  group group_name        seqnames start    end      width strand exon_id\n",
       "1 1     ENST00000285605.7 chr10    97713751 97714026 276   +      331305 \n",
       "  exon_name         exon_rank hit \n",
       "1 ENSE00001019945.6 1         TRUE"
      ]
     },
     "metadata": {},
     "output_type": "display_data"
    }
   ],
   "source": [
    "tr_names <- c('ENST00000285605.7')\n",
    "start <- c(27+1)\n",
    "end <- c(303)\n",
    "\n",
    "exons <- exonsBy(txdb, by=\"tx\", use.names=TRUE)[tr_names]\n",
    "x <- GRanges(tr_names, IRanges(start=start, end=end)) #,  \n",
    "out <- data.frame(pmapFromTranscripts(x, exons))\n",
    "\n",
    "out %>% filter(hit == TRUE)"
   ]
  },
  {
   "cell_type": "code",
   "execution_count": null,
   "metadata": {},
   "outputs": [],
   "source": [
    "chr10:97713751-97714026, +"
   ]
  },
  {
   "cell_type": "code",
   "execution_count": null,
   "metadata": {},
   "outputs": [],
   "source": []
  },
  {
   "cell_type": "code",
   "execution_count": null,
   "metadata": {},
   "outputs": [],
   "source": []
  },
  {
   "cell_type": "markdown",
   "metadata": {},
   "source": [
    "# ARPC1A"
   ]
  },
  {
   "cell_type": "code",
   "execution_count": 4,
   "metadata": {},
   "outputs": [
    {
     "data": {
      "text/html": [
       "<table>\n",
       "<caption>A data.frame: 3 × 11</caption>\n",
       "<thead>\n",
       "\t<tr><th scope=col>group</th><th scope=col>group_name</th><th scope=col>seqnames</th><th scope=col>start</th><th scope=col>end</th><th scope=col>width</th><th scope=col>strand</th><th scope=col>exon_id</th><th scope=col>exon_name</th><th scope=col>exon_rank</th><th scope=col>hit</th></tr>\n",
       "\t<tr><th scope=col>&lt;int&gt;</th><th scope=col>&lt;chr&gt;</th><th scope=col>&lt;fct&gt;</th><th scope=col>&lt;int&gt;</th><th scope=col>&lt;int&gt;</th><th scope=col>&lt;int&gt;</th><th scope=col>&lt;fct&gt;</th><th scope=col>&lt;int&gt;</th><th scope=col>&lt;chr&gt;</th><th scope=col>&lt;int&gt;</th><th scope=col>&lt;lgl&gt;</th></tr>\n",
       "</thead>\n",
       "<tbody>\n",
       "\t<tr><td>1</td><td>ENST00000262942.9</td><td>chr7</td><td>99325911</td><td>99326004</td><td>94</td><td>+</td><td>250551</td><td>ENSE00001055468.3</td><td>1</td><td>TRUE</td></tr>\n",
       "\t<tr><td>1</td><td>ENST00000262942.9</td><td>chr7</td><td>99333325</td><td>99333417</td><td>93</td><td>+</td><td>250553</td><td>ENSE00003508295.1</td><td>2</td><td>TRUE</td></tr>\n",
       "\t<tr><td>1</td><td>ENST00000262942.9</td><td>chr7</td><td>99338181</td><td>99338266</td><td>86</td><td>+</td><td>250555</td><td>ENSE00003551555.1</td><td>3</td><td>TRUE</td></tr>\n",
       "</tbody>\n",
       "</table>\n"
      ],
      "text/latex": [
       "A data.frame: 3 × 11\n",
       "\\begin{tabular}{lllllllllll}\n",
       " group & group\\_name & seqnames & start & end & width & strand & exon\\_id & exon\\_name & exon\\_rank & hit\\\\\n",
       " <int> & <chr> & <fct> & <int> & <int> & <int> & <fct> & <int> & <chr> & <int> & <lgl>\\\\\n",
       "\\hline\n",
       "\t 1 & ENST00000262942.9 & chr7 & 99325911 & 99326004 & 94 & + & 250551 & ENSE00001055468.3 & 1 & TRUE\\\\\n",
       "\t 1 & ENST00000262942.9 & chr7 & 99333325 & 99333417 & 93 & + & 250553 & ENSE00003508295.1 & 2 & TRUE\\\\\n",
       "\t 1 & ENST00000262942.9 & chr7 & 99338181 & 99338266 & 86 & + & 250555 & ENSE00003551555.1 & 3 & TRUE\\\\\n",
       "\\end{tabular}\n"
      ],
      "text/markdown": [
       "\n",
       "A data.frame: 3 × 11\n",
       "\n",
       "| group &lt;int&gt; | group_name &lt;chr&gt; | seqnames &lt;fct&gt; | start &lt;int&gt; | end &lt;int&gt; | width &lt;int&gt; | strand &lt;fct&gt; | exon_id &lt;int&gt; | exon_name &lt;chr&gt; | exon_rank &lt;int&gt; | hit &lt;lgl&gt; |\n",
       "|---|---|---|---|---|---|---|---|---|---|---|\n",
       "| 1 | ENST00000262942.9 | chr7 | 99325911 | 99326004 | 94 | + | 250551 | ENSE00001055468.3 | 1 | TRUE |\n",
       "| 1 | ENST00000262942.9 | chr7 | 99333325 | 99333417 | 93 | + | 250553 | ENSE00003508295.1 | 2 | TRUE |\n",
       "| 1 | ENST00000262942.9 | chr7 | 99338181 | 99338266 | 86 | + | 250555 | ENSE00003551555.1 | 3 | TRUE |\n",
       "\n"
      ],
      "text/plain": [
       "  group group_name        seqnames start    end      width strand exon_id\n",
       "1 1     ENST00000262942.9 chr7     99325911 99326004 94    +      250551 \n",
       "2 1     ENST00000262942.9 chr7     99333325 99333417 93    +      250553 \n",
       "3 1     ENST00000262942.9 chr7     99338181 99338266 86    +      250555 \n",
       "  exon_name         exon_rank hit \n",
       "1 ENSE00001055468.3 1         TRUE\n",
       "2 ENSE00003508295.1 2         TRUE\n",
       "3 ENSE00003551555.1 3         TRUE"
      ]
     },
     "metadata": {},
     "output_type": "display_data"
    }
   ],
   "source": [
    "tr_names <- c('ENST00000262942.9')\n",
    "start <- c(1+1)\n",
    "end <- c(274)\n",
    "\n",
    "exons <- exonsBy(txdb, by=\"tx\", use.names=TRUE)[tr_names]\n",
    "x <- GRanges(tr_names, IRanges(start=start, end=end)) #,  \n",
    "out <- data.frame(pmapFromTranscripts(x, exons))\n",
    "\n",
    "out %>% filter(hit == TRUE)"
   ]
  },
  {
   "cell_type": "code",
   "execution_count": null,
   "metadata": {},
   "outputs": [],
   "source": [
    "chr7:99325911-99326004+chr7:99333325-99333417+chr7:99338181-99338266"
   ]
  },
  {
   "cell_type": "code",
   "execution_count": null,
   "metadata": {},
   "outputs": [],
   "source": []
  },
  {
   "cell_type": "code",
   "execution_count": null,
   "metadata": {},
   "outputs": [],
   "source": []
  },
  {
   "cell_type": "code",
   "execution_count": 4,
   "metadata": {},
   "outputs": [],
   "source": [
    "# SPFQ: NTE+50codons of CDS "
   ]
  },
  {
   "cell_type": "code",
   "execution_count": 6,
   "metadata": {},
   "outputs": [
    {
     "data": {
      "text/html": [
       "<table>\n",
       "<caption>A data.frame: 1 × 11</caption>\n",
       "<thead>\n",
       "\t<tr><th scope=col>group</th><th scope=col>group_name</th><th scope=col>seqnames</th><th scope=col>start</th><th scope=col>end</th><th scope=col>width</th><th scope=col>strand</th><th scope=col>exon_id</th><th scope=col>exon_name</th><th scope=col>exon_rank</th><th scope=col>hit</th></tr>\n",
       "\t<tr><th scope=col>&lt;int&gt;</th><th scope=col>&lt;chr&gt;</th><th scope=col>&lt;fct&gt;</th><th scope=col>&lt;int&gt;</th><th scope=col>&lt;int&gt;</th><th scope=col>&lt;int&gt;</th><th scope=col>&lt;fct&gt;</th><th scope=col>&lt;int&gt;</th><th scope=col>&lt;chr&gt;</th><th scope=col>&lt;int&gt;</th><th scope=col>&lt;lgl&gt;</th></tr>\n",
       "</thead>\n",
       "<tbody>\n",
       "\t<tr><td>1</td><td>ENST00000357214.5</td><td>chr1</td><td>35192900</td><td>35193148</td><td>249</td><td>-</td><td>39231</td><td>ENSE00001460236.4</td><td>1</td><td>TRUE</td></tr>\n",
       "</tbody>\n",
       "</table>\n"
      ],
      "text/latex": [
       "A data.frame: 1 × 11\n",
       "\\begin{tabular}{lllllllllll}\n",
       " group & group\\_name & seqnames & start & end & width & strand & exon\\_id & exon\\_name & exon\\_rank & hit\\\\\n",
       " <int> & <chr> & <fct> & <int> & <int> & <int> & <fct> & <int> & <chr> & <int> & <lgl>\\\\\n",
       "\\hline\n",
       "\t 1 & ENST00000357214.5 & chr1 & 35192900 & 35193148 & 249 & - & 39231 & ENSE00001460236.4 & 1 & TRUE\\\\\n",
       "\\end{tabular}\n"
      ],
      "text/markdown": [
       "\n",
       "A data.frame: 1 × 11\n",
       "\n",
       "| group &lt;int&gt; | group_name &lt;chr&gt; | seqnames &lt;fct&gt; | start &lt;int&gt; | end &lt;int&gt; | width &lt;int&gt; | strand &lt;fct&gt; | exon_id &lt;int&gt; | exon_name &lt;chr&gt; | exon_rank &lt;int&gt; | hit &lt;lgl&gt; |\n",
       "|---|---|---|---|---|---|---|---|---|---|---|\n",
       "| 1 | ENST00000357214.5 | chr1 | 35192900 | 35193148 | 249 | - | 39231 | ENSE00001460236.4 | 1 | TRUE |\n",
       "\n"
      ],
      "text/plain": [
       "  group group_name        seqnames start    end      width strand exon_id\n",
       "1 1     ENST00000357214.5 chr1     35192900 35193148 249   -      39231  \n",
       "  exon_name         exon_rank hit \n",
       "1 ENSE00001460236.4 1         TRUE"
      ]
     },
     "metadata": {},
     "output_type": "display_data"
    }
   ],
   "source": [
    "tr_names <- c('ENST00000357214.5')\n",
    "start <- c(0+1)\n",
    "end <- c(99+50*3)\n",
    "\n",
    "exons <- exonsBy(txdb, by=\"tx\", use.names=TRUE)[tr_names]\n",
    "x <- GRanges(tr_names, IRanges(start=start, end=end)) #,  \n",
    "out <- data.frame(pmapFromTranscripts(x, exons))\n",
    "\n",
    "out %>% filter(hit == TRUE)"
   ]
  },
  {
   "cell_type": "code",
   "execution_count": null,
   "metadata": {},
   "outputs": [],
   "source": [
    "chr1:35192900-35193148, -"
   ]
  },
  {
   "cell_type": "code",
   "execution_count": null,
   "metadata": {},
   "outputs": [],
   "source": []
  },
  {
   "cell_type": "code",
   "execution_count": null,
   "metadata": {},
   "outputs": [],
   "source": []
  },
  {
   "cell_type": "markdown",
   "metadata": {},
   "source": [
    "# Reproducibility of PhyloCSF-based approach on 24/59 genes from Ivanov et al 2011 paper "
   ]
  },
  {
   "cell_type": "code",
   "execution_count": 2,
   "metadata": {},
   "outputs": [
    {
     "name": "stderr",
     "output_type": "stream",
     "text": [
      "Import genomic features from the file as a GRanges object ... \n",
      "OK\n",
      "\n",
      "Prepare the 'metadata' data frame ... \n",
      "OK\n",
      "\n",
      "Make the TxDb object ... \n",
      "Warning message in .get_cds_IDX(mcols0$type, mcols0$phase):\n",
      "“The \"phase\" metadata column contains non-NA values for features of type\n",
      "  stop_codon. This information was ignored.”\n",
      "OK\n",
      "\n"
     ]
    }
   ],
   "source": [
    "txdb_g35 <- makeTxDbFromGFF('data/gencode.v35.annotation.gtf')\n"
   ]
  },
  {
   "cell_type": "code",
   "execution_count": 4,
   "metadata": {},
   "outputs": [
    {
     "name": "stdout",
     "output_type": "stream",
     "text": [
      "[1] 60\n",
      "[1] 60\n",
      "[1] 60\n"
     ]
    }
   ],
   "source": [
    "cr <- read.csv('tmp_res/reprod_24genes_2011_local_coo_df.txt',  sep='\\t', stringsAsFactors = FALSE)\n",
    "\n",
    "tr_names <- cr$tr_id\n",
    "start <- cr$X50len_flag + 1 #it was zero  # cds_start_pos\tutr5_start\n",
    "end <- cr$new_N_term_end \n",
    "\n",
    "print (length(tr_names))\n",
    "print (length(start))\n",
    "print (length(end))"
   ]
  },
  {
   "cell_type": "code",
   "execution_count": 5,
   "metadata": {},
   "outputs": [],
   "source": [
    "exons <- exonsBy(txdb_g35, by=\"tx\", use.names=TRUE)[tr_names]\n",
    "x <- GRanges(tr_names, IRanges(start=start, end=end)) #,  \n",
    "out <- data.frame(pmapFromTranscripts(x, exons))\n",
    "write.table(out, 'tmp_res/reprod_24genes_2011_global_coo_df.txt', sep='\\t')"
   ]
  },
  {
   "cell_type": "code",
   "execution_count": null,
   "metadata": {},
   "outputs": [],
   "source": []
  },
  {
   "cell_type": "markdown",
   "metadata": {},
   "source": [
    "# Predicted starts&ext in RiboSET"
   ]
  },
  {
   "cell_type": "code",
   "execution_count": 2,
   "metadata": {},
   "outputs": [
    {
     "name": "stderr",
     "output_type": "stream",
     "text": [
      "Import genomic features from the file as a GRanges object ... \n",
      "OK\n",
      "\n",
      "Prepare the 'metadata' data frame ... \n",
      "OK\n",
      "\n",
      "Make the TxDb object ... \n",
      "Warning message in .get_cds_IDX(mcols0$type, mcols0$phase):\n",
      "“The \"phase\" metadata column contains non-NA values for features of type\n",
      "  stop_codon. This information was ignored.”\n",
      "OK\n",
      "\n"
     ]
    }
   ],
   "source": [
    "txdb_g25 <- makeTxDbFromGFF('data/gencode.v25.annotation.gtf')"
   ]
  },
  {
   "cell_type": "code",
   "execution_count": 11,
   "metadata": {},
   "outputs": [],
   "source": [
    "cr <- read.csv('tmp_res/RiboSET_local_coo_pred_start.txt',  sep='\\t', stringsAsFactors = FALSE)"
   ]
  },
  {
   "cell_type": "code",
   "execution_count": 16,
   "metadata": {},
   "outputs": [
    {
     "name": "stdout",
     "output_type": "stream",
     "text": [
      "[1] 395\n",
      "[1] 395\n",
      "[1] 395\n"
     ]
    }
   ],
   "source": [
    "tr_names <- cr$tr_id\n",
    "start <- cr$start_codon_local_coo_start #it was zero  # cds_start_pos\tutr5_start\n",
    "end <- cr$ start_codon_local_coo_stop-1\n",
    "\n",
    "print (length(tr_names))\n",
    "print (length(start))\n",
    "print (length(end))"
   ]
  },
  {
   "cell_type": "code",
   "execution_count": 17,
   "metadata": {},
   "outputs": [],
   "source": [
    "exons <- exonsBy(txdb_g25, by=\"tx\", use.names=TRUE)[tr_names]\n",
    "x <- GRanges(tr_names, IRanges(start=start, end=end)) #,  \n",
    "out <- data.frame(pmapFromTranscripts(x, exons))\n",
    "write.table(out, 'tmp_res/RiboSET_global_coo_pred_start.txt', sep='\\t')"
   ]
  },
  {
   "cell_type": "code",
   "execution_count": 8,
   "metadata": {},
   "outputs": [
    {
     "name": "stdout",
     "output_type": "stream",
     "text": [
      "[1] 395\n",
      "[1] 395\n",
      "[1] 395\n"
     ]
    }
   ],
   "source": [
    "tr_names <- cr$tr_id\n",
    "start <- cr$start_codon_local_coo_start #it was zero  # cds_start_pos\tutr5_start\n",
    "end <- cr$N_term_end1\n",
    "\n",
    "print (length(tr_names))\n",
    "print (length(start))\n",
    "print (length(end))"
   ]
  },
  {
   "cell_type": "code",
   "execution_count": 10,
   "metadata": {},
   "outputs": [],
   "source": [
    "exons <- exonsBy(txdb_g25, by=\"tx\", use.names=TRUE)[tr_names]\n",
    "x <- GRanges(tr_names, IRanges(start=start, end=end)) #,  \n",
    "out <- data.frame(pmapFromTranscripts(x, exons))\n",
    "write.table(out, 'tmp_res/RiboSET_global_coo_pred_start_ext.txt', sep='\\t')"
   ]
  },
  {
   "cell_type": "code",
   "execution_count": null,
   "metadata": {},
   "outputs": [],
   "source": []
  },
  {
   "cell_type": "code",
   "execution_count": null,
   "metadata": {},
   "outputs": [],
   "source": []
  },
  {
   "cell_type": "markdown",
   "metadata": {},
   "source": [
    "# Codons coo (riboset) for COSMIC variants "
   ]
  },
  {
   "cell_type": "code",
   "execution_count": 3,
   "metadata": {},
   "outputs": [
    {
     "name": "stderr",
     "output_type": "stream",
     "text": [
      "Import genomic features from the file as a GRanges object ... \n",
      "OK\n",
      "\n",
      "Prepare the 'metadata' data frame ... \n",
      "OK\n",
      "\n",
      "Make the TxDb object ... \n",
      "Warning message in .get_cds_IDX(mcols0$type, mcols0$phase):\n",
      "“The \"phase\" metadata column contains non-NA values for features of type\n",
      "  stop_codon. This information was ignored.”\n",
      "OK\n",
      "\n"
     ]
    }
   ],
   "source": [
    "# this scripts transform local (transcriptomic) coordinates of extensions into global (genomic) coordinates using .gtf file. \n",
    "txdb <- makeTxDbFromGFF('data/gencode.v25.annotation.gtf')\n",
    "cr <- read.csv('tmp_res/ext_codons_local_coo_cosmic.txt',  sep='\\t', stringsAsFactors = FALSE)\n",
    "\n",
    "tr_names <- cr$tr_id\n",
    "start <- cr$codon_start + 1 #it was zero  # cds_start_pos\tutr5_start\n",
    "end <- cr$codon_stop"
   ]
  },
  {
   "cell_type": "code",
   "execution_count": 5,
   "metadata": {},
   "outputs": [],
   "source": [
    "exons <- exonsBy(txdb, by=\"tx\", use.names=TRUE)[tr_names]\n",
    "\n",
    "x <- GRanges(tr_names, IRanges(start=start, end=end)) #, \n",
    "\n",
    "out <- data.frame(pmapFromTranscripts(x, exons))\n",
    "\n",
    "write.table(out, 'tmp_res/ext_codons_global_coo_cosmic.txt', sep='\\t')"
   ]
  },
  {
   "cell_type": "code",
   "execution_count": 6,
   "metadata": {},
   "outputs": [
    {
     "data": {
      "text/html": [
       "<table>\n",
       "<caption>A data.frame: 71148 × 11</caption>\n",
       "<thead>\n",
       "\t<tr><th scope=col>group</th><th scope=col>group_name</th><th scope=col>seqnames</th><th scope=col>start</th><th scope=col>end</th><th scope=col>width</th><th scope=col>strand</th><th scope=col>exon_id</th><th scope=col>exon_name</th><th scope=col>exon_rank</th><th scope=col>hit</th></tr>\n",
       "\t<tr><th scope=col>&lt;int&gt;</th><th scope=col>&lt;chr&gt;</th><th scope=col>&lt;fct&gt;</th><th scope=col>&lt;int&gt;</th><th scope=col>&lt;int&gt;</th><th scope=col>&lt;int&gt;</th><th scope=col>&lt;fct&gt;</th><th scope=col>&lt;int&gt;</th><th scope=col>&lt;chr&gt;</th><th scope=col>&lt;int&gt;</th><th scope=col>&lt;lgl&gt;</th></tr>\n",
       "</thead>\n",
       "<tbody>\n",
       "\t<tr><td> 1</td><td>ENST00000379389.4</td><td>chr1</td><td>1013520</td><td>1013522</td><td>3</td><td>+</td><td>240</td><td>ENSE00001480807.4</td><td>1</td><td> TRUE</td></tr>\n",
       "\t<tr><td> 1</td><td>ENST00000379389.4</td><td>chr1</td><td>1013984</td><td>1013983</td><td>0</td><td>+</td><td>242</td><td>ENSE00001480799.4</td><td>2</td><td>FALSE</td></tr>\n",
       "\t<tr><td> 2</td><td>ENST00000379389.4</td><td>chr1</td><td>1013523</td><td>1013525</td><td>3</td><td>+</td><td>240</td><td>ENSE00001480807.4</td><td>1</td><td> TRUE</td></tr>\n",
       "\t<tr><td> 2</td><td>ENST00000379389.4</td><td>chr1</td><td>1013984</td><td>1013983</td><td>0</td><td>+</td><td>242</td><td>ENSE00001480799.4</td><td>2</td><td>FALSE</td></tr>\n",
       "\t<tr><td> 3</td><td>ENST00000379389.4</td><td>chr1</td><td>1013526</td><td>1013528</td><td>3</td><td>+</td><td>240</td><td>ENSE00001480807.4</td><td>1</td><td> TRUE</td></tr>\n",
       "\t<tr><td> 3</td><td>ENST00000379389.4</td><td>chr1</td><td>1013984</td><td>1013983</td><td>0</td><td>+</td><td>242</td><td>ENSE00001480799.4</td><td>2</td><td>FALSE</td></tr>\n",
       "\t<tr><td> 4</td><td>ENST00000379389.4</td><td>chr1</td><td>1013529</td><td>1013531</td><td>3</td><td>+</td><td>240</td><td>ENSE00001480807.4</td><td>1</td><td> TRUE</td></tr>\n",
       "\t<tr><td> 4</td><td>ENST00000379389.4</td><td>chr1</td><td>1013984</td><td>1013983</td><td>0</td><td>+</td><td>242</td><td>ENSE00001480799.4</td><td>2</td><td>FALSE</td></tr>\n",
       "\t<tr><td> 5</td><td>ENST00000379389.4</td><td>chr1</td><td>1013532</td><td>1013534</td><td>3</td><td>+</td><td>240</td><td>ENSE00001480807.4</td><td>1</td><td> TRUE</td></tr>\n",
       "\t<tr><td> 5</td><td>ENST00000379389.4</td><td>chr1</td><td>1013984</td><td>1013983</td><td>0</td><td>+</td><td>242</td><td>ENSE00001480799.4</td><td>2</td><td>FALSE</td></tr>\n",
       "\t<tr><td> 6</td><td>ENST00000379389.4</td><td>chr1</td><td>1013535</td><td>1013537</td><td>3</td><td>+</td><td>240</td><td>ENSE00001480807.4</td><td>1</td><td> TRUE</td></tr>\n",
       "\t<tr><td> 6</td><td>ENST00000379389.4</td><td>chr1</td><td>1013984</td><td>1013983</td><td>0</td><td>+</td><td>242</td><td>ENSE00001480799.4</td><td>2</td><td>FALSE</td></tr>\n",
       "\t<tr><td> 7</td><td>ENST00000379389.4</td><td>chr1</td><td>1013538</td><td>1013540</td><td>3</td><td>+</td><td>240</td><td>ENSE00001480807.4</td><td>1</td><td> TRUE</td></tr>\n",
       "\t<tr><td> 7</td><td>ENST00000379389.4</td><td>chr1</td><td>1013984</td><td>1013983</td><td>0</td><td>+</td><td>242</td><td>ENSE00001480799.4</td><td>2</td><td>FALSE</td></tr>\n",
       "\t<tr><td> 8</td><td>ENST00000379389.4</td><td>chr1</td><td>1013541</td><td>1013543</td><td>3</td><td>+</td><td>240</td><td>ENSE00001480807.4</td><td>1</td><td> TRUE</td></tr>\n",
       "\t<tr><td> 8</td><td>ENST00000379389.4</td><td>chr1</td><td>1013984</td><td>1013983</td><td>0</td><td>+</td><td>242</td><td>ENSE00001480799.4</td><td>2</td><td>FALSE</td></tr>\n",
       "\t<tr><td> 9</td><td>ENST00000379389.4</td><td>chr1</td><td>1013544</td><td>1013546</td><td>3</td><td>+</td><td>240</td><td>ENSE00001480807.4</td><td>1</td><td> TRUE</td></tr>\n",
       "\t<tr><td> 9</td><td>ENST00000379389.4</td><td>chr1</td><td>1013984</td><td>1013983</td><td>0</td><td>+</td><td>242</td><td>ENSE00001480799.4</td><td>2</td><td>FALSE</td></tr>\n",
       "\t<tr><td>10</td><td>ENST00000379389.4</td><td>chr1</td><td>1013547</td><td>1013549</td><td>3</td><td>+</td><td>240</td><td>ENSE00001480807.4</td><td>1</td><td> TRUE</td></tr>\n",
       "\t<tr><td>10</td><td>ENST00000379389.4</td><td>chr1</td><td>1013984</td><td>1013983</td><td>0</td><td>+</td><td>242</td><td>ENSE00001480799.4</td><td>2</td><td>FALSE</td></tr>\n",
       "\t<tr><td>11</td><td>ENST00000379389.4</td><td>chr1</td><td>1013550</td><td>1013552</td><td>3</td><td>+</td><td>240</td><td>ENSE00001480807.4</td><td>1</td><td> TRUE</td></tr>\n",
       "\t<tr><td>11</td><td>ENST00000379389.4</td><td>chr1</td><td>1013984</td><td>1013983</td><td>0</td><td>+</td><td>242</td><td>ENSE00001480799.4</td><td>2</td><td>FALSE</td></tr>\n",
       "\t<tr><td>12</td><td>ENST00000379389.4</td><td>chr1</td><td>1013553</td><td>1013555</td><td>3</td><td>+</td><td>240</td><td>ENSE00001480807.4</td><td>1</td><td> TRUE</td></tr>\n",
       "\t<tr><td>12</td><td>ENST00000379389.4</td><td>chr1</td><td>1013984</td><td>1013983</td><td>0</td><td>+</td><td>242</td><td>ENSE00001480799.4</td><td>2</td><td>FALSE</td></tr>\n",
       "\t<tr><td>13</td><td>ENST00000379389.4</td><td>chr1</td><td>1013556</td><td>1013558</td><td>3</td><td>+</td><td>240</td><td>ENSE00001480807.4</td><td>1</td><td> TRUE</td></tr>\n",
       "\t<tr><td>13</td><td>ENST00000379389.4</td><td>chr1</td><td>1013984</td><td>1013983</td><td>0</td><td>+</td><td>242</td><td>ENSE00001480799.4</td><td>2</td><td>FALSE</td></tr>\n",
       "\t<tr><td>14</td><td>ENST00000379389.4</td><td>chr1</td><td>1013559</td><td>1013561</td><td>3</td><td>+</td><td>240</td><td>ENSE00001480807.4</td><td>1</td><td> TRUE</td></tr>\n",
       "\t<tr><td>14</td><td>ENST00000379389.4</td><td>chr1</td><td>1013984</td><td>1013983</td><td>0</td><td>+</td><td>242</td><td>ENSE00001480799.4</td><td>2</td><td>FALSE</td></tr>\n",
       "\t<tr><td>15</td><td>ENST00000379389.4</td><td>chr1</td><td>1013562</td><td>1013564</td><td>3</td><td>+</td><td>240</td><td>ENSE00001480807.4</td><td>1</td><td> TRUE</td></tr>\n",
       "\t<tr><td>15</td><td>ENST00000379389.4</td><td>chr1</td><td>1013984</td><td>1013983</td><td>0</td><td>+</td><td>242</td><td>ENSE00001480799.4</td><td>2</td><td>FALSE</td></tr>\n",
       "\t<tr><td>⋮</td><td>⋮</td><td>⋮</td><td>⋮</td><td>⋮</td><td>⋮</td><td>⋮</td><td>⋮</td><td>⋮</td><td>⋮</td><td>⋮</td></tr>\n",
       "\t<tr><td>7925</td><td>ENST00000328268.8</td><td>chr22</td><td>49918761</td><td>49918763</td><td>3</td><td>+</td><td>647660</td><td>ENSE00001897449.1</td><td> 1</td><td> TRUE</td></tr>\n",
       "\t<tr><td>7925</td><td>ENST00000328268.8</td><td>chr22</td><td>49919230</td><td>49919229</td><td>0</td><td>+</td><td>647665</td><td>ENSE00003466698.1</td><td> 2</td><td>FALSE</td></tr>\n",
       "\t<tr><td>7925</td><td>ENST00000328268.8</td><td>chr22</td><td>49919730</td><td>49919729</td><td>0</td><td>+</td><td>647667</td><td>ENSE00003474188.1</td><td> 3</td><td>FALSE</td></tr>\n",
       "\t<tr><td>7925</td><td>ENST00000328268.8</td><td>chr22</td><td>49920156</td><td>49920155</td><td>0</td><td>+</td><td>647669</td><td>ENSE00003641038.1</td><td> 4</td><td>FALSE</td></tr>\n",
       "\t<tr><td>7925</td><td>ENST00000328268.8</td><td>chr22</td><td>49921585</td><td>49921584</td><td>0</td><td>+</td><td>647675</td><td>ENSE00003543209.1</td><td> 5</td><td>FALSE</td></tr>\n",
       "\t<tr><td>7925</td><td>ENST00000328268.8</td><td>chr22</td><td>49922612</td><td>49922611</td><td>0</td><td>+</td><td>647679</td><td>ENSE00003787973.1</td><td> 6</td><td>FALSE</td></tr>\n",
       "\t<tr><td>7925</td><td>ENST00000328268.8</td><td>chr22</td><td>49923234</td><td>49923233</td><td>0</td><td>+</td><td>647682</td><td>ENSE00003607096.1</td><td> 7</td><td>FALSE</td></tr>\n",
       "\t<tr><td>7925</td><td>ENST00000328268.8</td><td>chr22</td><td>49924360</td><td>49924359</td><td>0</td><td>+</td><td>647685</td><td>ENSE00003478333.1</td><td> 8</td><td>FALSE</td></tr>\n",
       "\t<tr><td>7925</td><td>ENST00000328268.8</td><td>chr22</td><td>49925417</td><td>49925416</td><td>0</td><td>+</td><td>647688</td><td>ENSE00001323718.1</td><td> 9</td><td>FALSE</td></tr>\n",
       "\t<tr><td>7925</td><td>ENST00000328268.8</td><td>chr22</td><td>49927255</td><td>49927254</td><td>0</td><td>+</td><td>647690</td><td>ENSE00003557714.1</td><td>10</td><td>FALSE</td></tr>\n",
       "\t<tr><td>7926</td><td>ENST00000328268.8</td><td>chr22</td><td>49918764</td><td>49918766</td><td>3</td><td>+</td><td>647660</td><td>ENSE00001897449.1</td><td> 1</td><td> TRUE</td></tr>\n",
       "\t<tr><td>7926</td><td>ENST00000328268.8</td><td>chr22</td><td>49919230</td><td>49919229</td><td>0</td><td>+</td><td>647665</td><td>ENSE00003466698.1</td><td> 2</td><td>FALSE</td></tr>\n",
       "\t<tr><td>7926</td><td>ENST00000328268.8</td><td>chr22</td><td>49919730</td><td>49919729</td><td>0</td><td>+</td><td>647667</td><td>ENSE00003474188.1</td><td> 3</td><td>FALSE</td></tr>\n",
       "\t<tr><td>7926</td><td>ENST00000328268.8</td><td>chr22</td><td>49920156</td><td>49920155</td><td>0</td><td>+</td><td>647669</td><td>ENSE00003641038.1</td><td> 4</td><td>FALSE</td></tr>\n",
       "\t<tr><td>7926</td><td>ENST00000328268.8</td><td>chr22</td><td>49921585</td><td>49921584</td><td>0</td><td>+</td><td>647675</td><td>ENSE00003543209.1</td><td> 5</td><td>FALSE</td></tr>\n",
       "\t<tr><td>7926</td><td>ENST00000328268.8</td><td>chr22</td><td>49922612</td><td>49922611</td><td>0</td><td>+</td><td>647679</td><td>ENSE00003787973.1</td><td> 6</td><td>FALSE</td></tr>\n",
       "\t<tr><td>7926</td><td>ENST00000328268.8</td><td>chr22</td><td>49923234</td><td>49923233</td><td>0</td><td>+</td><td>647682</td><td>ENSE00003607096.1</td><td> 7</td><td>FALSE</td></tr>\n",
       "\t<tr><td>7926</td><td>ENST00000328268.8</td><td>chr22</td><td>49924360</td><td>49924359</td><td>0</td><td>+</td><td>647685</td><td>ENSE00003478333.1</td><td> 8</td><td>FALSE</td></tr>\n",
       "\t<tr><td>7926</td><td>ENST00000328268.8</td><td>chr22</td><td>49925417</td><td>49925416</td><td>0</td><td>+</td><td>647688</td><td>ENSE00001323718.1</td><td> 9</td><td>FALSE</td></tr>\n",
       "\t<tr><td>7926</td><td>ENST00000328268.8</td><td>chr22</td><td>49927255</td><td>49927254</td><td>0</td><td>+</td><td>647690</td><td>ENSE00003557714.1</td><td>10</td><td>FALSE</td></tr>\n",
       "\t<tr><td>7927</td><td>ENST00000328268.8</td><td>chr22</td><td>49918767</td><td>49918769</td><td>3</td><td>+</td><td>647660</td><td>ENSE00001897449.1</td><td> 1</td><td> TRUE</td></tr>\n",
       "\t<tr><td>7927</td><td>ENST00000328268.8</td><td>chr22</td><td>49919230</td><td>49919229</td><td>0</td><td>+</td><td>647665</td><td>ENSE00003466698.1</td><td> 2</td><td>FALSE</td></tr>\n",
       "\t<tr><td>7927</td><td>ENST00000328268.8</td><td>chr22</td><td>49919730</td><td>49919729</td><td>0</td><td>+</td><td>647667</td><td>ENSE00003474188.1</td><td> 3</td><td>FALSE</td></tr>\n",
       "\t<tr><td>7927</td><td>ENST00000328268.8</td><td>chr22</td><td>49920156</td><td>49920155</td><td>0</td><td>+</td><td>647669</td><td>ENSE00003641038.1</td><td> 4</td><td>FALSE</td></tr>\n",
       "\t<tr><td>7927</td><td>ENST00000328268.8</td><td>chr22</td><td>49921585</td><td>49921584</td><td>0</td><td>+</td><td>647675</td><td>ENSE00003543209.1</td><td> 5</td><td>FALSE</td></tr>\n",
       "\t<tr><td>7927</td><td>ENST00000328268.8</td><td>chr22</td><td>49922612</td><td>49922611</td><td>0</td><td>+</td><td>647679</td><td>ENSE00003787973.1</td><td> 6</td><td>FALSE</td></tr>\n",
       "\t<tr><td>7927</td><td>ENST00000328268.8</td><td>chr22</td><td>49923234</td><td>49923233</td><td>0</td><td>+</td><td>647682</td><td>ENSE00003607096.1</td><td> 7</td><td>FALSE</td></tr>\n",
       "\t<tr><td>7927</td><td>ENST00000328268.8</td><td>chr22</td><td>49924360</td><td>49924359</td><td>0</td><td>+</td><td>647685</td><td>ENSE00003478333.1</td><td> 8</td><td>FALSE</td></tr>\n",
       "\t<tr><td>7927</td><td>ENST00000328268.8</td><td>chr22</td><td>49925417</td><td>49925416</td><td>0</td><td>+</td><td>647688</td><td>ENSE00001323718.1</td><td> 9</td><td>FALSE</td></tr>\n",
       "\t<tr><td>7927</td><td>ENST00000328268.8</td><td>chr22</td><td>49927255</td><td>49927254</td><td>0</td><td>+</td><td>647690</td><td>ENSE00003557714.1</td><td>10</td><td>FALSE</td></tr>\n",
       "</tbody>\n",
       "</table>\n"
      ],
      "text/latex": [
       "A data.frame: 71148 × 11\n",
       "\\begin{tabular}{lllllllllll}\n",
       " group & group\\_name & seqnames & start & end & width & strand & exon\\_id & exon\\_name & exon\\_rank & hit\\\\\n",
       " <int> & <chr> & <fct> & <int> & <int> & <int> & <fct> & <int> & <chr> & <int> & <lgl>\\\\\n",
       "\\hline\n",
       "\t  1 & ENST00000379389.4 & chr1 & 1013520 & 1013522 & 3 & + & 240 & ENSE00001480807.4 & 1 &  TRUE\\\\\n",
       "\t  1 & ENST00000379389.4 & chr1 & 1013984 & 1013983 & 0 & + & 242 & ENSE00001480799.4 & 2 & FALSE\\\\\n",
       "\t  2 & ENST00000379389.4 & chr1 & 1013523 & 1013525 & 3 & + & 240 & ENSE00001480807.4 & 1 &  TRUE\\\\\n",
       "\t  2 & ENST00000379389.4 & chr1 & 1013984 & 1013983 & 0 & + & 242 & ENSE00001480799.4 & 2 & FALSE\\\\\n",
       "\t  3 & ENST00000379389.4 & chr1 & 1013526 & 1013528 & 3 & + & 240 & ENSE00001480807.4 & 1 &  TRUE\\\\\n",
       "\t  3 & ENST00000379389.4 & chr1 & 1013984 & 1013983 & 0 & + & 242 & ENSE00001480799.4 & 2 & FALSE\\\\\n",
       "\t  4 & ENST00000379389.4 & chr1 & 1013529 & 1013531 & 3 & + & 240 & ENSE00001480807.4 & 1 &  TRUE\\\\\n",
       "\t  4 & ENST00000379389.4 & chr1 & 1013984 & 1013983 & 0 & + & 242 & ENSE00001480799.4 & 2 & FALSE\\\\\n",
       "\t  5 & ENST00000379389.4 & chr1 & 1013532 & 1013534 & 3 & + & 240 & ENSE00001480807.4 & 1 &  TRUE\\\\\n",
       "\t  5 & ENST00000379389.4 & chr1 & 1013984 & 1013983 & 0 & + & 242 & ENSE00001480799.4 & 2 & FALSE\\\\\n",
       "\t  6 & ENST00000379389.4 & chr1 & 1013535 & 1013537 & 3 & + & 240 & ENSE00001480807.4 & 1 &  TRUE\\\\\n",
       "\t  6 & ENST00000379389.4 & chr1 & 1013984 & 1013983 & 0 & + & 242 & ENSE00001480799.4 & 2 & FALSE\\\\\n",
       "\t  7 & ENST00000379389.4 & chr1 & 1013538 & 1013540 & 3 & + & 240 & ENSE00001480807.4 & 1 &  TRUE\\\\\n",
       "\t  7 & ENST00000379389.4 & chr1 & 1013984 & 1013983 & 0 & + & 242 & ENSE00001480799.4 & 2 & FALSE\\\\\n",
       "\t  8 & ENST00000379389.4 & chr1 & 1013541 & 1013543 & 3 & + & 240 & ENSE00001480807.4 & 1 &  TRUE\\\\\n",
       "\t  8 & ENST00000379389.4 & chr1 & 1013984 & 1013983 & 0 & + & 242 & ENSE00001480799.4 & 2 & FALSE\\\\\n",
       "\t  9 & ENST00000379389.4 & chr1 & 1013544 & 1013546 & 3 & + & 240 & ENSE00001480807.4 & 1 &  TRUE\\\\\n",
       "\t  9 & ENST00000379389.4 & chr1 & 1013984 & 1013983 & 0 & + & 242 & ENSE00001480799.4 & 2 & FALSE\\\\\n",
       "\t 10 & ENST00000379389.4 & chr1 & 1013547 & 1013549 & 3 & + & 240 & ENSE00001480807.4 & 1 &  TRUE\\\\\n",
       "\t 10 & ENST00000379389.4 & chr1 & 1013984 & 1013983 & 0 & + & 242 & ENSE00001480799.4 & 2 & FALSE\\\\\n",
       "\t 11 & ENST00000379389.4 & chr1 & 1013550 & 1013552 & 3 & + & 240 & ENSE00001480807.4 & 1 &  TRUE\\\\\n",
       "\t 11 & ENST00000379389.4 & chr1 & 1013984 & 1013983 & 0 & + & 242 & ENSE00001480799.4 & 2 & FALSE\\\\\n",
       "\t 12 & ENST00000379389.4 & chr1 & 1013553 & 1013555 & 3 & + & 240 & ENSE00001480807.4 & 1 &  TRUE\\\\\n",
       "\t 12 & ENST00000379389.4 & chr1 & 1013984 & 1013983 & 0 & + & 242 & ENSE00001480799.4 & 2 & FALSE\\\\\n",
       "\t 13 & ENST00000379389.4 & chr1 & 1013556 & 1013558 & 3 & + & 240 & ENSE00001480807.4 & 1 &  TRUE\\\\\n",
       "\t 13 & ENST00000379389.4 & chr1 & 1013984 & 1013983 & 0 & + & 242 & ENSE00001480799.4 & 2 & FALSE\\\\\n",
       "\t 14 & ENST00000379389.4 & chr1 & 1013559 & 1013561 & 3 & + & 240 & ENSE00001480807.4 & 1 &  TRUE\\\\\n",
       "\t 14 & ENST00000379389.4 & chr1 & 1013984 & 1013983 & 0 & + & 242 & ENSE00001480799.4 & 2 & FALSE\\\\\n",
       "\t 15 & ENST00000379389.4 & chr1 & 1013562 & 1013564 & 3 & + & 240 & ENSE00001480807.4 & 1 &  TRUE\\\\\n",
       "\t 15 & ENST00000379389.4 & chr1 & 1013984 & 1013983 & 0 & + & 242 & ENSE00001480799.4 & 2 & FALSE\\\\\n",
       "\t ⋮ & ⋮ & ⋮ & ⋮ & ⋮ & ⋮ & ⋮ & ⋮ & ⋮ & ⋮ & ⋮\\\\\n",
       "\t 7925 & ENST00000328268.8 & chr22 & 49918761 & 49918763 & 3 & + & 647660 & ENSE00001897449.1 &  1 &  TRUE\\\\\n",
       "\t 7925 & ENST00000328268.8 & chr22 & 49919230 & 49919229 & 0 & + & 647665 & ENSE00003466698.1 &  2 & FALSE\\\\\n",
       "\t 7925 & ENST00000328268.8 & chr22 & 49919730 & 49919729 & 0 & + & 647667 & ENSE00003474188.1 &  3 & FALSE\\\\\n",
       "\t 7925 & ENST00000328268.8 & chr22 & 49920156 & 49920155 & 0 & + & 647669 & ENSE00003641038.1 &  4 & FALSE\\\\\n",
       "\t 7925 & ENST00000328268.8 & chr22 & 49921585 & 49921584 & 0 & + & 647675 & ENSE00003543209.1 &  5 & FALSE\\\\\n",
       "\t 7925 & ENST00000328268.8 & chr22 & 49922612 & 49922611 & 0 & + & 647679 & ENSE00003787973.1 &  6 & FALSE\\\\\n",
       "\t 7925 & ENST00000328268.8 & chr22 & 49923234 & 49923233 & 0 & + & 647682 & ENSE00003607096.1 &  7 & FALSE\\\\\n",
       "\t 7925 & ENST00000328268.8 & chr22 & 49924360 & 49924359 & 0 & + & 647685 & ENSE00003478333.1 &  8 & FALSE\\\\\n",
       "\t 7925 & ENST00000328268.8 & chr22 & 49925417 & 49925416 & 0 & + & 647688 & ENSE00001323718.1 &  9 & FALSE\\\\\n",
       "\t 7925 & ENST00000328268.8 & chr22 & 49927255 & 49927254 & 0 & + & 647690 & ENSE00003557714.1 & 10 & FALSE\\\\\n",
       "\t 7926 & ENST00000328268.8 & chr22 & 49918764 & 49918766 & 3 & + & 647660 & ENSE00001897449.1 &  1 &  TRUE\\\\\n",
       "\t 7926 & ENST00000328268.8 & chr22 & 49919230 & 49919229 & 0 & + & 647665 & ENSE00003466698.1 &  2 & FALSE\\\\\n",
       "\t 7926 & ENST00000328268.8 & chr22 & 49919730 & 49919729 & 0 & + & 647667 & ENSE00003474188.1 &  3 & FALSE\\\\\n",
       "\t 7926 & ENST00000328268.8 & chr22 & 49920156 & 49920155 & 0 & + & 647669 & ENSE00003641038.1 &  4 & FALSE\\\\\n",
       "\t 7926 & ENST00000328268.8 & chr22 & 49921585 & 49921584 & 0 & + & 647675 & ENSE00003543209.1 &  5 & FALSE\\\\\n",
       "\t 7926 & ENST00000328268.8 & chr22 & 49922612 & 49922611 & 0 & + & 647679 & ENSE00003787973.1 &  6 & FALSE\\\\\n",
       "\t 7926 & ENST00000328268.8 & chr22 & 49923234 & 49923233 & 0 & + & 647682 & ENSE00003607096.1 &  7 & FALSE\\\\\n",
       "\t 7926 & ENST00000328268.8 & chr22 & 49924360 & 49924359 & 0 & + & 647685 & ENSE00003478333.1 &  8 & FALSE\\\\\n",
       "\t 7926 & ENST00000328268.8 & chr22 & 49925417 & 49925416 & 0 & + & 647688 & ENSE00001323718.1 &  9 & FALSE\\\\\n",
       "\t 7926 & ENST00000328268.8 & chr22 & 49927255 & 49927254 & 0 & + & 647690 & ENSE00003557714.1 & 10 & FALSE\\\\\n",
       "\t 7927 & ENST00000328268.8 & chr22 & 49918767 & 49918769 & 3 & + & 647660 & ENSE00001897449.1 &  1 &  TRUE\\\\\n",
       "\t 7927 & ENST00000328268.8 & chr22 & 49919230 & 49919229 & 0 & + & 647665 & ENSE00003466698.1 &  2 & FALSE\\\\\n",
       "\t 7927 & ENST00000328268.8 & chr22 & 49919730 & 49919729 & 0 & + & 647667 & ENSE00003474188.1 &  3 & FALSE\\\\\n",
       "\t 7927 & ENST00000328268.8 & chr22 & 49920156 & 49920155 & 0 & + & 647669 & ENSE00003641038.1 &  4 & FALSE\\\\\n",
       "\t 7927 & ENST00000328268.8 & chr22 & 49921585 & 49921584 & 0 & + & 647675 & ENSE00003543209.1 &  5 & FALSE\\\\\n",
       "\t 7927 & ENST00000328268.8 & chr22 & 49922612 & 49922611 & 0 & + & 647679 & ENSE00003787973.1 &  6 & FALSE\\\\\n",
       "\t 7927 & ENST00000328268.8 & chr22 & 49923234 & 49923233 & 0 & + & 647682 & ENSE00003607096.1 &  7 & FALSE\\\\\n",
       "\t 7927 & ENST00000328268.8 & chr22 & 49924360 & 49924359 & 0 & + & 647685 & ENSE00003478333.1 &  8 & FALSE\\\\\n",
       "\t 7927 & ENST00000328268.8 & chr22 & 49925417 & 49925416 & 0 & + & 647688 & ENSE00001323718.1 &  9 & FALSE\\\\\n",
       "\t 7927 & ENST00000328268.8 & chr22 & 49927255 & 49927254 & 0 & + & 647690 & ENSE00003557714.1 & 10 & FALSE\\\\\n",
       "\\end{tabular}\n"
      ],
      "text/markdown": [
       "\n",
       "A data.frame: 71148 × 11\n",
       "\n",
       "| group &lt;int&gt; | group_name &lt;chr&gt; | seqnames &lt;fct&gt; | start &lt;int&gt; | end &lt;int&gt; | width &lt;int&gt; | strand &lt;fct&gt; | exon_id &lt;int&gt; | exon_name &lt;chr&gt; | exon_rank &lt;int&gt; | hit &lt;lgl&gt; |\n",
       "|---|---|---|---|---|---|---|---|---|---|---|\n",
       "|  1 | ENST00000379389.4 | chr1 | 1013520 | 1013522 | 3 | + | 240 | ENSE00001480807.4 | 1 |  TRUE |\n",
       "|  1 | ENST00000379389.4 | chr1 | 1013984 | 1013983 | 0 | + | 242 | ENSE00001480799.4 | 2 | FALSE |\n",
       "|  2 | ENST00000379389.4 | chr1 | 1013523 | 1013525 | 3 | + | 240 | ENSE00001480807.4 | 1 |  TRUE |\n",
       "|  2 | ENST00000379389.4 | chr1 | 1013984 | 1013983 | 0 | + | 242 | ENSE00001480799.4 | 2 | FALSE |\n",
       "|  3 | ENST00000379389.4 | chr1 | 1013526 | 1013528 | 3 | + | 240 | ENSE00001480807.4 | 1 |  TRUE |\n",
       "|  3 | ENST00000379389.4 | chr1 | 1013984 | 1013983 | 0 | + | 242 | ENSE00001480799.4 | 2 | FALSE |\n",
       "|  4 | ENST00000379389.4 | chr1 | 1013529 | 1013531 | 3 | + | 240 | ENSE00001480807.4 | 1 |  TRUE |\n",
       "|  4 | ENST00000379389.4 | chr1 | 1013984 | 1013983 | 0 | + | 242 | ENSE00001480799.4 | 2 | FALSE |\n",
       "|  5 | ENST00000379389.4 | chr1 | 1013532 | 1013534 | 3 | + | 240 | ENSE00001480807.4 | 1 |  TRUE |\n",
       "|  5 | ENST00000379389.4 | chr1 | 1013984 | 1013983 | 0 | + | 242 | ENSE00001480799.4 | 2 | FALSE |\n",
       "|  6 | ENST00000379389.4 | chr1 | 1013535 | 1013537 | 3 | + | 240 | ENSE00001480807.4 | 1 |  TRUE |\n",
       "|  6 | ENST00000379389.4 | chr1 | 1013984 | 1013983 | 0 | + | 242 | ENSE00001480799.4 | 2 | FALSE |\n",
       "|  7 | ENST00000379389.4 | chr1 | 1013538 | 1013540 | 3 | + | 240 | ENSE00001480807.4 | 1 |  TRUE |\n",
       "|  7 | ENST00000379389.4 | chr1 | 1013984 | 1013983 | 0 | + | 242 | ENSE00001480799.4 | 2 | FALSE |\n",
       "|  8 | ENST00000379389.4 | chr1 | 1013541 | 1013543 | 3 | + | 240 | ENSE00001480807.4 | 1 |  TRUE |\n",
       "|  8 | ENST00000379389.4 | chr1 | 1013984 | 1013983 | 0 | + | 242 | ENSE00001480799.4 | 2 | FALSE |\n",
       "|  9 | ENST00000379389.4 | chr1 | 1013544 | 1013546 | 3 | + | 240 | ENSE00001480807.4 | 1 |  TRUE |\n",
       "|  9 | ENST00000379389.4 | chr1 | 1013984 | 1013983 | 0 | + | 242 | ENSE00001480799.4 | 2 | FALSE |\n",
       "| 10 | ENST00000379389.4 | chr1 | 1013547 | 1013549 | 3 | + | 240 | ENSE00001480807.4 | 1 |  TRUE |\n",
       "| 10 | ENST00000379389.4 | chr1 | 1013984 | 1013983 | 0 | + | 242 | ENSE00001480799.4 | 2 | FALSE |\n",
       "| 11 | ENST00000379389.4 | chr1 | 1013550 | 1013552 | 3 | + | 240 | ENSE00001480807.4 | 1 |  TRUE |\n",
       "| 11 | ENST00000379389.4 | chr1 | 1013984 | 1013983 | 0 | + | 242 | ENSE00001480799.4 | 2 | FALSE |\n",
       "| 12 | ENST00000379389.4 | chr1 | 1013553 | 1013555 | 3 | + | 240 | ENSE00001480807.4 | 1 |  TRUE |\n",
       "| 12 | ENST00000379389.4 | chr1 | 1013984 | 1013983 | 0 | + | 242 | ENSE00001480799.4 | 2 | FALSE |\n",
       "| 13 | ENST00000379389.4 | chr1 | 1013556 | 1013558 | 3 | + | 240 | ENSE00001480807.4 | 1 |  TRUE |\n",
       "| 13 | ENST00000379389.4 | chr1 | 1013984 | 1013983 | 0 | + | 242 | ENSE00001480799.4 | 2 | FALSE |\n",
       "| 14 | ENST00000379389.4 | chr1 | 1013559 | 1013561 | 3 | + | 240 | ENSE00001480807.4 | 1 |  TRUE |\n",
       "| 14 | ENST00000379389.4 | chr1 | 1013984 | 1013983 | 0 | + | 242 | ENSE00001480799.4 | 2 | FALSE |\n",
       "| 15 | ENST00000379389.4 | chr1 | 1013562 | 1013564 | 3 | + | 240 | ENSE00001480807.4 | 1 |  TRUE |\n",
       "| 15 | ENST00000379389.4 | chr1 | 1013984 | 1013983 | 0 | + | 242 | ENSE00001480799.4 | 2 | FALSE |\n",
       "| ⋮ | ⋮ | ⋮ | ⋮ | ⋮ | ⋮ | ⋮ | ⋮ | ⋮ | ⋮ | ⋮ |\n",
       "| 7925 | ENST00000328268.8 | chr22 | 49918761 | 49918763 | 3 | + | 647660 | ENSE00001897449.1 |  1 |  TRUE |\n",
       "| 7925 | ENST00000328268.8 | chr22 | 49919230 | 49919229 | 0 | + | 647665 | ENSE00003466698.1 |  2 | FALSE |\n",
       "| 7925 | ENST00000328268.8 | chr22 | 49919730 | 49919729 | 0 | + | 647667 | ENSE00003474188.1 |  3 | FALSE |\n",
       "| 7925 | ENST00000328268.8 | chr22 | 49920156 | 49920155 | 0 | + | 647669 | ENSE00003641038.1 |  4 | FALSE |\n",
       "| 7925 | ENST00000328268.8 | chr22 | 49921585 | 49921584 | 0 | + | 647675 | ENSE00003543209.1 |  5 | FALSE |\n",
       "| 7925 | ENST00000328268.8 | chr22 | 49922612 | 49922611 | 0 | + | 647679 | ENSE00003787973.1 |  6 | FALSE |\n",
       "| 7925 | ENST00000328268.8 | chr22 | 49923234 | 49923233 | 0 | + | 647682 | ENSE00003607096.1 |  7 | FALSE |\n",
       "| 7925 | ENST00000328268.8 | chr22 | 49924360 | 49924359 | 0 | + | 647685 | ENSE00003478333.1 |  8 | FALSE |\n",
       "| 7925 | ENST00000328268.8 | chr22 | 49925417 | 49925416 | 0 | + | 647688 | ENSE00001323718.1 |  9 | FALSE |\n",
       "| 7925 | ENST00000328268.8 | chr22 | 49927255 | 49927254 | 0 | + | 647690 | ENSE00003557714.1 | 10 | FALSE |\n",
       "| 7926 | ENST00000328268.8 | chr22 | 49918764 | 49918766 | 3 | + | 647660 | ENSE00001897449.1 |  1 |  TRUE |\n",
       "| 7926 | ENST00000328268.8 | chr22 | 49919230 | 49919229 | 0 | + | 647665 | ENSE00003466698.1 |  2 | FALSE |\n",
       "| 7926 | ENST00000328268.8 | chr22 | 49919730 | 49919729 | 0 | + | 647667 | ENSE00003474188.1 |  3 | FALSE |\n",
       "| 7926 | ENST00000328268.8 | chr22 | 49920156 | 49920155 | 0 | + | 647669 | ENSE00003641038.1 |  4 | FALSE |\n",
       "| 7926 | ENST00000328268.8 | chr22 | 49921585 | 49921584 | 0 | + | 647675 | ENSE00003543209.1 |  5 | FALSE |\n",
       "| 7926 | ENST00000328268.8 | chr22 | 49922612 | 49922611 | 0 | + | 647679 | ENSE00003787973.1 |  6 | FALSE |\n",
       "| 7926 | ENST00000328268.8 | chr22 | 49923234 | 49923233 | 0 | + | 647682 | ENSE00003607096.1 |  7 | FALSE |\n",
       "| 7926 | ENST00000328268.8 | chr22 | 49924360 | 49924359 | 0 | + | 647685 | ENSE00003478333.1 |  8 | FALSE |\n",
       "| 7926 | ENST00000328268.8 | chr22 | 49925417 | 49925416 | 0 | + | 647688 | ENSE00001323718.1 |  9 | FALSE |\n",
       "| 7926 | ENST00000328268.8 | chr22 | 49927255 | 49927254 | 0 | + | 647690 | ENSE00003557714.1 | 10 | FALSE |\n",
       "| 7927 | ENST00000328268.8 | chr22 | 49918767 | 49918769 | 3 | + | 647660 | ENSE00001897449.1 |  1 |  TRUE |\n",
       "| 7927 | ENST00000328268.8 | chr22 | 49919230 | 49919229 | 0 | + | 647665 | ENSE00003466698.1 |  2 | FALSE |\n",
       "| 7927 | ENST00000328268.8 | chr22 | 49919730 | 49919729 | 0 | + | 647667 | ENSE00003474188.1 |  3 | FALSE |\n",
       "| 7927 | ENST00000328268.8 | chr22 | 49920156 | 49920155 | 0 | + | 647669 | ENSE00003641038.1 |  4 | FALSE |\n",
       "| 7927 | ENST00000328268.8 | chr22 | 49921585 | 49921584 | 0 | + | 647675 | ENSE00003543209.1 |  5 | FALSE |\n",
       "| 7927 | ENST00000328268.8 | chr22 | 49922612 | 49922611 | 0 | + | 647679 | ENSE00003787973.1 |  6 | FALSE |\n",
       "| 7927 | ENST00000328268.8 | chr22 | 49923234 | 49923233 | 0 | + | 647682 | ENSE00003607096.1 |  7 | FALSE |\n",
       "| 7927 | ENST00000328268.8 | chr22 | 49924360 | 49924359 | 0 | + | 647685 | ENSE00003478333.1 |  8 | FALSE |\n",
       "| 7927 | ENST00000328268.8 | chr22 | 49925417 | 49925416 | 0 | + | 647688 | ENSE00001323718.1 |  9 | FALSE |\n",
       "| 7927 | ENST00000328268.8 | chr22 | 49927255 | 49927254 | 0 | + | 647690 | ENSE00003557714.1 | 10 | FALSE |\n",
       "\n"
      ],
      "text/plain": [
       "      group group_name        seqnames start    end      width strand exon_id\n",
       "1      1    ENST00000379389.4 chr1     1013520  1013522  3     +      240    \n",
       "2      1    ENST00000379389.4 chr1     1013984  1013983  0     +      242    \n",
       "3      2    ENST00000379389.4 chr1     1013523  1013525  3     +      240    \n",
       "4      2    ENST00000379389.4 chr1     1013984  1013983  0     +      242    \n",
       "5      3    ENST00000379389.4 chr1     1013526  1013528  3     +      240    \n",
       "6      3    ENST00000379389.4 chr1     1013984  1013983  0     +      242    \n",
       "7      4    ENST00000379389.4 chr1     1013529  1013531  3     +      240    \n",
       "8      4    ENST00000379389.4 chr1     1013984  1013983  0     +      242    \n",
       "9      5    ENST00000379389.4 chr1     1013532  1013534  3     +      240    \n",
       "10     5    ENST00000379389.4 chr1     1013984  1013983  0     +      242    \n",
       "11     6    ENST00000379389.4 chr1     1013535  1013537  3     +      240    \n",
       "12     6    ENST00000379389.4 chr1     1013984  1013983  0     +      242    \n",
       "13     7    ENST00000379389.4 chr1     1013538  1013540  3     +      240    \n",
       "14     7    ENST00000379389.4 chr1     1013984  1013983  0     +      242    \n",
       "15     8    ENST00000379389.4 chr1     1013541  1013543  3     +      240    \n",
       "16     8    ENST00000379389.4 chr1     1013984  1013983  0     +      242    \n",
       "17     9    ENST00000379389.4 chr1     1013544  1013546  3     +      240    \n",
       "18     9    ENST00000379389.4 chr1     1013984  1013983  0     +      242    \n",
       "19    10    ENST00000379389.4 chr1     1013547  1013549  3     +      240    \n",
       "20    10    ENST00000379389.4 chr1     1013984  1013983  0     +      242    \n",
       "21    11    ENST00000379389.4 chr1     1013550  1013552  3     +      240    \n",
       "22    11    ENST00000379389.4 chr1     1013984  1013983  0     +      242    \n",
       "23    12    ENST00000379389.4 chr1     1013553  1013555  3     +      240    \n",
       "24    12    ENST00000379389.4 chr1     1013984  1013983  0     +      242    \n",
       "25    13    ENST00000379389.4 chr1     1013556  1013558  3     +      240    \n",
       "26    13    ENST00000379389.4 chr1     1013984  1013983  0     +      242    \n",
       "27    14    ENST00000379389.4 chr1     1013559  1013561  3     +      240    \n",
       "28    14    ENST00000379389.4 chr1     1013984  1013983  0     +      242    \n",
       "29    15    ENST00000379389.4 chr1     1013562  1013564  3     +      240    \n",
       "30    15    ENST00000379389.4 chr1     1013984  1013983  0     +      242    \n",
       "⋮     ⋮     ⋮                 ⋮        ⋮        ⋮        ⋮     ⋮      ⋮      \n",
       "71119 7925  ENST00000328268.8 chr22    49918761 49918763 3     +      647660 \n",
       "71120 7925  ENST00000328268.8 chr22    49919230 49919229 0     +      647665 \n",
       "71121 7925  ENST00000328268.8 chr22    49919730 49919729 0     +      647667 \n",
       "71122 7925  ENST00000328268.8 chr22    49920156 49920155 0     +      647669 \n",
       "71123 7925  ENST00000328268.8 chr22    49921585 49921584 0     +      647675 \n",
       "71124 7925  ENST00000328268.8 chr22    49922612 49922611 0     +      647679 \n",
       "71125 7925  ENST00000328268.8 chr22    49923234 49923233 0     +      647682 \n",
       "71126 7925  ENST00000328268.8 chr22    49924360 49924359 0     +      647685 \n",
       "71127 7925  ENST00000328268.8 chr22    49925417 49925416 0     +      647688 \n",
       "71128 7925  ENST00000328268.8 chr22    49927255 49927254 0     +      647690 \n",
       "71129 7926  ENST00000328268.8 chr22    49918764 49918766 3     +      647660 \n",
       "71130 7926  ENST00000328268.8 chr22    49919230 49919229 0     +      647665 \n",
       "71131 7926  ENST00000328268.8 chr22    49919730 49919729 0     +      647667 \n",
       "71132 7926  ENST00000328268.8 chr22    49920156 49920155 0     +      647669 \n",
       "71133 7926  ENST00000328268.8 chr22    49921585 49921584 0     +      647675 \n",
       "71134 7926  ENST00000328268.8 chr22    49922612 49922611 0     +      647679 \n",
       "71135 7926  ENST00000328268.8 chr22    49923234 49923233 0     +      647682 \n",
       "71136 7926  ENST00000328268.8 chr22    49924360 49924359 0     +      647685 \n",
       "71137 7926  ENST00000328268.8 chr22    49925417 49925416 0     +      647688 \n",
       "71138 7926  ENST00000328268.8 chr22    49927255 49927254 0     +      647690 \n",
       "71139 7927  ENST00000328268.8 chr22    49918767 49918769 3     +      647660 \n",
       "71140 7927  ENST00000328268.8 chr22    49919230 49919229 0     +      647665 \n",
       "71141 7927  ENST00000328268.8 chr22    49919730 49919729 0     +      647667 \n",
       "71142 7927  ENST00000328268.8 chr22    49920156 49920155 0     +      647669 \n",
       "71143 7927  ENST00000328268.8 chr22    49921585 49921584 0     +      647675 \n",
       "71144 7927  ENST00000328268.8 chr22    49922612 49922611 0     +      647679 \n",
       "71145 7927  ENST00000328268.8 chr22    49923234 49923233 0     +      647682 \n",
       "71146 7927  ENST00000328268.8 chr22    49924360 49924359 0     +      647685 \n",
       "71147 7927  ENST00000328268.8 chr22    49925417 49925416 0     +      647688 \n",
       "71148 7927  ENST00000328268.8 chr22    49927255 49927254 0     +      647690 \n",
       "      exon_name         exon_rank hit  \n",
       "1     ENSE00001480807.4 1          TRUE\n",
       "2     ENSE00001480799.4 2         FALSE\n",
       "3     ENSE00001480807.4 1          TRUE\n",
       "4     ENSE00001480799.4 2         FALSE\n",
       "5     ENSE00001480807.4 1          TRUE\n",
       "6     ENSE00001480799.4 2         FALSE\n",
       "7     ENSE00001480807.4 1          TRUE\n",
       "8     ENSE00001480799.4 2         FALSE\n",
       "9     ENSE00001480807.4 1          TRUE\n",
       "10    ENSE00001480799.4 2         FALSE\n",
       "11    ENSE00001480807.4 1          TRUE\n",
       "12    ENSE00001480799.4 2         FALSE\n",
       "13    ENSE00001480807.4 1          TRUE\n",
       "14    ENSE00001480799.4 2         FALSE\n",
       "15    ENSE00001480807.4 1          TRUE\n",
       "16    ENSE00001480799.4 2         FALSE\n",
       "17    ENSE00001480807.4 1          TRUE\n",
       "18    ENSE00001480799.4 2         FALSE\n",
       "19    ENSE00001480807.4 1          TRUE\n",
       "20    ENSE00001480799.4 2         FALSE\n",
       "21    ENSE00001480807.4 1          TRUE\n",
       "22    ENSE00001480799.4 2         FALSE\n",
       "23    ENSE00001480807.4 1          TRUE\n",
       "24    ENSE00001480799.4 2         FALSE\n",
       "25    ENSE00001480807.4 1          TRUE\n",
       "26    ENSE00001480799.4 2         FALSE\n",
       "27    ENSE00001480807.4 1          TRUE\n",
       "28    ENSE00001480799.4 2         FALSE\n",
       "29    ENSE00001480807.4 1          TRUE\n",
       "30    ENSE00001480799.4 2         FALSE\n",
       "⋮     ⋮                 ⋮         ⋮    \n",
       "71119 ENSE00001897449.1  1         TRUE\n",
       "71120 ENSE00003466698.1  2        FALSE\n",
       "71121 ENSE00003474188.1  3        FALSE\n",
       "71122 ENSE00003641038.1  4        FALSE\n",
       "71123 ENSE00003543209.1  5        FALSE\n",
       "71124 ENSE00003787973.1  6        FALSE\n",
       "71125 ENSE00003607096.1  7        FALSE\n",
       "71126 ENSE00003478333.1  8        FALSE\n",
       "71127 ENSE00001323718.1  9        FALSE\n",
       "71128 ENSE00003557714.1 10        FALSE\n",
       "71129 ENSE00001897449.1  1         TRUE\n",
       "71130 ENSE00003466698.1  2        FALSE\n",
       "71131 ENSE00003474188.1  3        FALSE\n",
       "71132 ENSE00003641038.1  4        FALSE\n",
       "71133 ENSE00003543209.1  5        FALSE\n",
       "71134 ENSE00003787973.1  6        FALSE\n",
       "71135 ENSE00003607096.1  7        FALSE\n",
       "71136 ENSE00003478333.1  8        FALSE\n",
       "71137 ENSE00001323718.1  9        FALSE\n",
       "71138 ENSE00003557714.1 10        FALSE\n",
       "71139 ENSE00001897449.1  1         TRUE\n",
       "71140 ENSE00003466698.1  2        FALSE\n",
       "71141 ENSE00003474188.1  3        FALSE\n",
       "71142 ENSE00003641038.1  4        FALSE\n",
       "71143 ENSE00003543209.1  5        FALSE\n",
       "71144 ENSE00003787973.1  6        FALSE\n",
       "71145 ENSE00003607096.1  7        FALSE\n",
       "71146 ENSE00003478333.1  8        FALSE\n",
       "71147 ENSE00001323718.1  9        FALSE\n",
       "71148 ENSE00003557714.1 10        FALSE"
      ]
     },
     "metadata": {},
     "output_type": "display_data"
    }
   ],
   "source": [
    "out"
   ]
  },
  {
   "cell_type": "code",
   "execution_count": null,
   "metadata": {},
   "outputs": [],
   "source": []
  },
  {
   "cell_type": "code",
   "execution_count": null,
   "metadata": {},
   "outputs": [],
   "source": []
  },
  {
   "cell_type": "code",
   "execution_count": null,
   "metadata": {},
   "outputs": [],
   "source": []
  }
 ],
 "metadata": {
  "kernelspec": {
   "display_name": "R [conda env:r_env]",
   "language": "R",
   "name": "conda-env-r_env-r"
  },
  "language_info": {
   "codemirror_mode": "r",
   "file_extension": ".r",
   "mimetype": "text/x-r-source",
   "name": "R",
   "pygments_lexer": "r",
   "version": "3.6.1"
  }
 },
 "nbformat": 4,
 "nbformat_minor": 2
}
